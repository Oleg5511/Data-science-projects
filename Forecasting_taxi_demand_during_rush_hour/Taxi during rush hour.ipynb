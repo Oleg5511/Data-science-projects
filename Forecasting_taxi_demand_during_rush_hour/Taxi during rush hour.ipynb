{
 "cells": [
  {
   "cell_type": "markdown",
   "metadata": {
    "toc": true
   },
   "source": [
    "<h1>Содержание<span class=\"tocSkip\"></span></h1>\n",
    "<div class=\"toc\"><ul class=\"toc-item\"></ul></div>"
   ]
  },
  {
   "cell_type": "markdown",
   "metadata": {},
   "source": [
    "# Прогнозирование заказов такси"
   ]
  },
  {
   "cell_type": "markdown",
   "metadata": {},
   "source": [
    "# Цель\n",
    "Необходимо построить модель, которая будет предсказывать колличество заказов такси в аэропорту в следующем часе. \n",
    "Ключевая метрика:  *RMSE* на тестовой выборке должно быть не больше 48."
   ]
  },
  {
   "cell_type": "markdown",
   "metadata": {},
   "source": [
    "# Импорты и подготовка данных"
   ]
  },
  {
   "cell_type": "code",
   "execution_count": 1,
   "metadata": {},
   "outputs": [],
   "source": [
    "import pandas as pd\n",
    "from sklearn.linear_model import LinearRegression\n",
    "from sklearn.metrics import mean_squared_error, r2_score, make_scorer\n",
    "from sklearn.model_selection import train_test_split, TimeSeriesSplit\n",
    "from sklearn.ensemble import RandomForestRegressor\n",
    "from catboost import CatBoostRegressor\n",
    "from lightgbm import LGBMRegressor\n",
    "from sklearn.model_selection import cross_val_score\n",
    "\n",
    "import numpy as np"
   ]
  },
  {
   "cell_type": "code",
   "execution_count": 2,
   "metadata": {},
   "outputs": [
    {
     "data": {
      "text/html": [
       "<div>\n",
       "<style scoped>\n",
       "    .dataframe tbody tr th:only-of-type {\n",
       "        vertical-align: middle;\n",
       "    }\n",
       "\n",
       "    .dataframe tbody tr th {\n",
       "        vertical-align: top;\n",
       "    }\n",
       "\n",
       "    .dataframe thead th {\n",
       "        text-align: right;\n",
       "    }\n",
       "</style>\n",
       "<table border=\"1\" class=\"dataframe\">\n",
       "  <thead>\n",
       "    <tr style=\"text-align: right;\">\n",
       "      <th></th>\n",
       "      <th>num_orders</th>\n",
       "    </tr>\n",
       "    <tr>\n",
       "      <th>datetime</th>\n",
       "      <th></th>\n",
       "    </tr>\n",
       "  </thead>\n",
       "  <tbody>\n",
       "    <tr>\n",
       "      <td>2018-03-01 00:00:00</td>\n",
       "      <td>9</td>\n",
       "    </tr>\n",
       "    <tr>\n",
       "      <td>2018-03-01 00:10:00</td>\n",
       "      <td>14</td>\n",
       "    </tr>\n",
       "    <tr>\n",
       "      <td>2018-03-01 00:20:00</td>\n",
       "      <td>28</td>\n",
       "    </tr>\n",
       "    <tr>\n",
       "      <td>2018-03-01 00:30:00</td>\n",
       "      <td>20</td>\n",
       "    </tr>\n",
       "    <tr>\n",
       "      <td>2018-03-01 00:40:00</td>\n",
       "      <td>32</td>\n",
       "    </tr>\n",
       "  </tbody>\n",
       "</table>\n",
       "</div>"
      ],
      "text/plain": [
       "                     num_orders\n",
       "datetime                       \n",
       "2018-03-01 00:00:00           9\n",
       "2018-03-01 00:10:00          14\n",
       "2018-03-01 00:20:00          28\n",
       "2018-03-01 00:30:00          20\n",
       "2018-03-01 00:40:00          32"
      ]
     },
     "metadata": {},
     "output_type": "display_data"
    },
    {
     "name": "stdout",
     "output_type": "stream",
     "text": [
      "         num_orders\n",
      "count  26496.000000\n",
      "mean      14.070463\n",
      "std        9.211330\n",
      "min        0.000000\n",
      "25%        8.000000\n",
      "50%       13.000000\n",
      "75%       19.000000\n",
      "max      119.000000\n",
      "<class 'pandas.core.frame.DataFrame'>\n",
      "DatetimeIndex: 26496 entries, 2018-03-01 00:00:00 to 2018-08-31 23:50:00\n",
      "Data columns (total 1 columns):\n",
      "num_orders    26496 non-null int64\n",
      "dtypes: int64(1)\n",
      "memory usage: 414.0 KB\n",
      "None\n"
     ]
    }
   ],
   "source": [
    "data = pd.read_csv('/datasets/taxi.csv', index_col=[0], parse_dates=[0])\n",
    "# data = data.sort_values(by='num_orders')\n",
    "\n",
    "\n",
    "\n",
    "display(data.head())\n",
    "print(data.describe())\n",
    "print(data.info())\n"
   ]
  },
  {
   "cell_type": "markdown",
   "metadata": {},
   "source": [
    "# Анализ данных"
   ]
  },
  {
   "cell_type": "code",
   "execution_count": 3,
   "metadata": {},
   "outputs": [
    {
     "name": "stdout",
     "output_type": "stream",
     "text": [
      "True\n",
      "        num_orders\n",
      "count  4416.000000\n",
      "mean     84.422781\n",
      "std      45.023853\n",
      "min       0.000000\n",
      "25%      54.000000\n",
      "50%      78.000000\n",
      "75%     107.000000\n",
      "max     462.000000\n"
     ]
    }
   ],
   "source": [
    "print(data.index.is_monotonic)\n",
    "data.sort_index(inplace=True)\n",
    "data = data.resample('1H').sum()\n",
    "print(data.describe())"
   ]
  },
  {
   "cell_type": "code",
   "execution_count": 4,
   "metadata": {},
   "outputs": [
    {
     "name": "stdout",
     "output_type": "stream",
     "text": [
      "4416\n",
      "                     num_orders\n",
      "time                           \n",
      "2018-03-01 00:00:00         124\n",
      "2018-03-01 01:00:00          85\n",
      "2018-03-01 02:00:00          71\n",
      "2018-03-01 03:00:00          66\n",
      "2018-03-01 04:00:00          43\n"
     ]
    }
   ],
   "source": [
    "print(len(data))\n",
    "data['time'] = data.index\n",
    "data.index = range(len(data))\n",
    "\n",
    "for i in range(len(data)):\n",
    "    if data.loc[i,'num_orders'] > 250:\n",
    "        data.loc[i,'num_orders'] = data.loc[i-1,'num_orders']\n",
    "\n",
    "data = data.set_index('time')\n",
    "print(data.head())"
   ]
  },
  {
   "cell_type": "markdown",
   "metadata": {},
   "source": [
    "Заменили выбросы на значения предыдущего часа. Таким образом сохранилась непрерывность, и модели меньше путаются."
   ]
  },
  {
   "cell_type": "code",
   "execution_count": 5,
   "metadata": {},
   "outputs": [
    {
     "data": {
      "text/plain": [
       "<matplotlib.axes._subplots.AxesSubplot at 0x7f604f59ab90>"
      ]
     },
     "execution_count": 5,
     "metadata": {},
     "output_type": "execute_result"
    },
    {
     "data": {
      "image/png": "[encoded data removed]",
      "text/plain": [
       "<Figure size 432x288 with 1 Axes>"
      ]
     },
     "metadata": {
      "needs_background": "light"
     },
     "output_type": "display_data"
    }
   ],
   "source": [
    "data.plot()"
   ]
  },
  {
   "cell_type": "markdown",
   "metadata": {},
   "source": []
  },
  {
   "cell_type": "markdown",
   "metadata": {},
   "source": [
    "<!-- В данных были выбросы по колличеству заказов, минимальное - 0(возможна ошибка при выгрузке данных или забастовка водителей), максимальное - 462(приехала дилегация или забастовка водителей в другом таксопарке), назначив 1.5% перцентиль мы убрали данные выбросы. Судя по диаграмме, к концу лета заказов в среднем стало больше.  -->"
   ]
  },
  {
   "cell_type": "markdown",
   "metadata": {},
   "source": [
    "На гистограмме видим что колличество заказов в среднем немного растет, также увеличивается среднее отклонение. "
   ]
  },
  {
   "cell_type": "markdown",
   "metadata": {},
   "source": [
    "# Обучение "
   ]
  },
  {
   "cell_type": "code",
   "execution_count": 6,
   "metadata": {},
   "outputs": [],
   "source": [
    "#Готовим данные для моделей\n",
    "def make_features(data, max_log, rolling_mean_size):\n",
    "    data_features = data.copy()\n",
    "    data_features['month'] = data.index.month\n",
    "    data_features['day'] = data.index.day\n",
    "    data_features['dayofweek'] = data.index.dayofweek\n",
    "    \n",
    "    for i in range(1, max_log+1):\n",
    "        data_features['lag_{}'.format(i)] = data_features['num_orders'].shift(i)\n",
    "        \n",
    "    data_features['rolling_mean'] = data_features['num_orders'].shift().rolling(rolling_mean_size).mean()\n",
    "    return data_features\n",
    "\n",
    "\n"
   ]
  },
  {
   "cell_type": "code",
   "execution_count": 7,
   "metadata": {},
   "outputs": [],
   "source": [
    "# Функция для проверки на тесте\n",
    "def RMSE(model):\n",
    "    model.fit(features_train, target_train)\n",
    "    predicted = model.predict(features_test)\n",
    "    rmse_test = mean_squared_error(target_test, predicted)**0.5\n",
    "    print('RMSE на тестовой выборке:', rmse_test)\n",
    "    return  rmse_test"
   ]
  },
  {
   "cell_type": "code",
   "execution_count": 8,
   "metadata": {},
   "outputs": [],
   "source": [
    "data_features = make_features(data, 10, 15)\n",
    "data_features = data_features.dropna()"
   ]
  },
  {
   "cell_type": "code",
   "execution_count": 9,
   "metadata": {},
   "outputs": [],
   "source": [
    "features_train, features_test, target_train, target_test = train_test_split(data_features.drop('num_orders', axis=1), \n",
    "                                                                            data_features['num_orders'], test_size=0.1, shuffle=False)\n",
    "\n",
    "# features = data_features.drop('num_orders', axis=1)\n",
    "# target = data_features['num_orders']"
   ]
  },
  {
   "cell_type": "code",
   "execution_count": 10,
   "metadata": {},
   "outputs": [
    {
     "name": "stdout",
     "output_type": "stream",
     "text": [
      "RMSE при кросс-валидации 30.06366608549839\n",
      "RMSE на тестовой выборке: 46.21555513583143\n"
     ]
    },
    {
     "data": {
      "text/plain": [
       "46.21555513583143"
      ]
     },
     "execution_count": 10,
     "metadata": {},
     "output_type": "execute_result"
    }
   ],
   "source": [
    "def LR( n_splits):\n",
    "    tscv_lr = TimeSeriesSplit(n_splits=n_splits)\n",
    "    rmse = make_scorer(mean_squared_error, greater_is_better=True)\n",
    "\n",
    "    model_lr = LinearRegression()\n",
    "\n",
    "    scores_lr = cross_val_score(model_lr, features_train, target_train, cv=tscv_lr, scoring=rmse)\n",
    "    print('RMSE при кросс-валидации', scores_lr.mean()**0.5)\n",
    "    return  model_lr\n",
    "\n",
    "\n",
    "RMSE(LR(20))"
   ]
  },
  {
   "cell_type": "code",
   "execution_count": 11,
   "metadata": {},
   "outputs": [],
   "source": [
    "def RFR(n_estimators, depth, n_splits):\n",
    "    model_rfr = RandomForestRegressor(n_estimators, max_depth=depth)\n",
    "    tscv_rfr = TimeSeriesSplit(n_splits=n_splits)\n",
    "    rmse = make_scorer(mean_squared_error, greater_is_better=True)\n",
    "\n",
    "    scores_rfr = cross_val_score(model_rfr, features_train, target_train, cv=tscv_rfr, scoring=rmse)\n",
    "  \n",
    "    print('RMSE при кросс-валидации', scores_rfr.mean()**0.5)\n",
    "    return  model_rfr\n"
   ]
  },
  {
   "cell_type": "code",
   "execution_count": 12,
   "metadata": {},
   "outputs": [],
   "source": [
    "def CB ( max_depth, est, n_splits):\n",
    "    model_cb = CatBoostRegressor(loss_function='RMSE', \n",
    "                              \n",
    "                             depth=max_depth, \n",
    "                             learning_rate=1, verbose=10000,\n",
    "                             n_estimators=est)\n",
    "    tscv_cb = TimeSeriesSplit(n_splits=n_splits)\n",
    "    rmse = make_scorer(mean_squared_error)\n",
    "\n",
    "    scores_cb = cross_val_score(model_cb, features_train, target_train, cv=tscv_cb, scoring=rmse)\n",
    "\n",
    "\n",
    "    print('RMSE при кросс-валидации', scores_cb.mean()**0.5)\n",
    "    return  model_cb\n",
    "\n"
   ]
  },
  {
   "cell_type": "code",
   "execution_count": 13,
   "metadata": {},
   "outputs": [],
   "source": [
    "def LGBM (n_estimators, max_depth, n_splits):\n",
    "    model_LGBM = LGBMRegressor(max_depth=max_depth, \n",
    "                            n_estimators=120,\n",
    "                            objective='regression',\n",
    "                            num_leaves=1400,\n",
    "                            metric='rmse')\n",
    "    tscv_LGBM = TimeSeriesSplit(n_splits=n_splits)\n",
    "    rmse = make_scorer(mean_squared_error)\n",
    "\n",
    "    scores_LGBM = cross_val_score(model_LGBM, features_train, target_train, cv=tscv_LGBM, scoring=rmse)\n",
    "    print('RMSE при кросс-валидации', scores_LGBM.mean()**0.5)\n",
    "    return  model_LGBM\n",
    "\n"
   ]
  },
  {
   "cell_type": "markdown",
   "metadata": {},
   "source": [
    "# Тестирование моделей"
   ]
  },
  {
   "cell_type": "code",
   "execution_count": 14,
   "metadata": {},
   "outputs": [
    {
     "name": "stdout",
     "output_type": "stream",
     "text": [
      "RMSE при кросс-валидации 29.882520904433836\n",
      "RMSE на тестовой выборке: 46.21555513583143\n"
     ]
    }
   ],
   "source": [
    "rmse_lr = RMSE(LR(100))"
   ]
  },
  {
   "cell_type": "code",
   "execution_count": 15,
   "metadata": {},
   "outputs": [
    {
     "name": "stdout",
     "output_type": "stream",
     "text": [
      "RMSE при кросс-валидации 28.725812689830747\n",
      "RMSE на тестовой выборке: 44.31099174363955\n"
     ]
    }
   ],
   "source": [
    "rmse_rfr = RMSE(RFR(100, 10, 10))\n"
   ]
  },
  {
   "cell_type": "code",
   "execution_count": 16,
   "metadata": {},
   "outputs": [
    {
     "name": "stdout",
     "output_type": "stream",
     "text": [
      "0:\tlearn: 22.0119593\ttotal: 66.7ms\tremaining: 6.61s\n",
      "99:\tlearn: 0.0001876\ttotal: 4.64s\tremaining: 0us\n",
      "0:\tlearn: 22.1047429\ttotal: 17.1ms\tremaining: 1.7s\n",
      "99:\tlearn: 0.0043147\ttotal: 5.16s\tremaining: 0us\n",
      "0:\tlearn: 22.8924229\ttotal: 21.9ms\tremaining: 2.17s\n",
      "99:\tlearn: 0.0163922\ttotal: 6.21s\tremaining: 0us\n",
      "0:\tlearn: 24.1752848\ttotal: 55.3ms\tremaining: 5.48s\n",
      "99:\tlearn: 0.0698347\ttotal: 6.6s\tremaining: 0us\n",
      "0:\tlearn: 23.4749079\ttotal: 34ms\tremaining: 3.37s\n",
      "99:\tlearn: 0.1485498\ttotal: 6.88s\tremaining: 0us\n",
      "0:\tlearn: 25.1575628\ttotal: 25.2ms\tremaining: 2.5s\n",
      "99:\tlearn: 0.2525851\ttotal: 8.17s\tremaining: 0us\n",
      "0:\tlearn: 26.0449424\ttotal: 44.1ms\tremaining: 4.36s\n",
      "99:\tlearn: 0.3918304\ttotal: 8.38s\tremaining: 0us\n",
      "0:\tlearn: 26.2530114\ttotal: 86.7ms\tremaining: 8.58s\n",
      "99:\tlearn: 0.5729614\ttotal: 8.54s\tremaining: 0us\n",
      "0:\tlearn: 26.4991921\ttotal: 77ms\tremaining: 7.63s\n",
      "99:\tlearn: 0.7072325\ttotal: 9.12s\tremaining: 0us\n",
      "0:\tlearn: 28.1320079\ttotal: 25.6ms\tremaining: 2.53s\n",
      "99:\tlearn: 1.2423649\ttotal: 9.29s\tremaining: 0us\n",
      "RMSE при кросс-валидации 33.5292437738546\n",
      "0:\tlearn: 29.3672801\ttotal: 100ms\tremaining: 9.9s\n",
      "99:\tlearn: 1.3411333\ttotal: 9.74s\tremaining: 0us\n",
      "RMSE на тестовой выборке: 55.54655406275401\n"
     ]
    }
   ],
   "source": [
    "rmse_cb = RMSE(CB( 10, 100, 10))\n",
    "# model_cb.pre\n"
   ]
  },
  {
   "cell_type": "code",
   "execution_count": 17,
   "metadata": {},
   "outputs": [
    {
     "name": "stdout",
     "output_type": "stream",
     "text": [
      "RMSE при кросс-валидации 30.15561976960824\n",
      "RMSE на тестовой выборке: 46.86016950403046\n"
     ]
    }
   ],
   "source": [
    "rmse_lgbm = RMSE(LGBM(10, 2, 5))\n",
    "# print(rmse_lgbm)\n"
   ]
  },
  {
   "cell_type": "code",
   "execution_count": 18,
   "metadata": {},
   "outputs": [
    {
     "name": "stdout",
     "output_type": "stream",
     "text": [
      "             RMSE\n",
      "Модель           \n",
      "RFR     44.310992\n",
      "LR      46.215555\n",
      "LGBM    46.860170\n",
      "CB      55.546554\n"
     ]
    },
    {
     "data": {
      "text/plain": [
       "<matplotlib.axes._subplots.AxesSubplot at 0x7f604eeee150>"
      ]
     },
     "execution_count": 18,
     "metadata": {},
     "output_type": "execute_result"
    },
    {
     "data": {
      "image/png": "[encoded data removed]",
      "text/plain": [
       "<Figure size 432x288 with 1 Axes>"
      ]
     },
     "metadata": {
      "needs_background": "light"
     },
     "output_type": "display_data"
    }
   ],
   "source": [
    "rmse_all = [['LR', rmse_lr], ['RFR', rmse_rfr], ['CB', rmse_cb], ['LGBM', rmse_lgbm]]\n",
    "rmse_columns = ['Модель', 'RMSE']\n",
    "# index=['LR', 'RFR', 'CB', 'LGBM']\n",
    "\n",
    "\n",
    "rmse_data = pd.DataFrame(rmse_all, columns=rmse_columns).pivot_table(index='Модель', values='RMSE', \n",
    "                                                                     aggfunc='sum').sort_values(by='RMSE')\n",
    "# rmse_data.index = index\n",
    "\n",
    "print(rmse_data)\n",
    "\n",
    "\n",
    "\n",
    "colors = [\"red\", \"green\", \"magenta\", \"gold\"]\n",
    "rmse_data['RMSE'].plot(kind='bar', color=colors)"
   ]
  },
  {
   "cell_type": "code",
   "execution_count": 19,
   "metadata": {},
   "outputs": [
    {
     "name": "stdout",
     "output_type": "stream",
     "text": [
      "RMSE при кросс-валидации 28.770313958640337\n"
     ]
    },
    {
     "data": {
      "text/plain": [
       "<matplotlib.axes._subplots.AxesSubplot at 0x7f604eec5210>"
      ]
     },
     "execution_count": 19,
     "metadata": {},
     "output_type": "execute_result"
    },
    {
     "data": {
      "image/png": "[encoded data removed]",
      "text/plain": [
       "<Figure size 432x288 with 1 Axes>"
      ]
     },
     "metadata": {
      "needs_background": "light"
     },
     "output_type": "display_data"
    }
   ],
   "source": [
    "rfr = RFR(100, 10, 10).fit(features_train, target_train)\n",
    "feat_importances = pd.Series(rfr.feature_importances_, index=features_train.columns)\n",
    "feat_importances.nlargest(10).plot(kind='bar')"
   ]
  },
  {
   "cell_type": "markdown",
   "metadata": {},
   "source": [
    "Из 4 обученных моделей самый  низкий(лучший) показатель RMSE показал Случайный лес, второй - Линейная регрессия, и третьей, c небольшой разницей - LGBM. При этом у первых трех  моделей  RMSE ниже  заданного. Наибольшее влияние в процессе обучения имеет признак - значения предыдущего периода, в нашем случае - это час."
   ]
  }
 ],
 "metadata": {
  "ExecuteTimeLog": [
   {
    "duration": 789,
    "start_time": "2021-09-16T19:13:45.326Z"
   },
   {
    "duration": 74,
    "start_time": "2021-09-16T19:15:24.489Z"
   },
   {
    "duration": 70,
    "start_time": "2021-09-16T19:18:42.752Z"
   },
   {
    "duration": 441,
    "start_time": "2021-09-16T19:19:09.684Z"
   },
   {
    "duration": 67,
    "start_time": "2021-09-16T19:20:48.356Z"
   },
   {
    "duration": 286,
    "start_time": "2021-09-16T19:20:50.541Z"
   },
   {
    "duration": 5,
    "start_time": "2021-09-16T19:20:58.825Z"
   },
   {
    "duration": 314,
    "start_time": "2021-09-16T19:23:31.375Z"
   },
   {
    "duration": 10,
    "start_time": "2021-09-16T19:23:46.528Z"
   },
   {
    "duration": 3,
    "start_time": "2021-09-16T19:23:58.158Z"
   },
   {
    "duration": 1515,
    "start_time": "2021-09-16T19:23:58.325Z"
   },
   {
    "duration": 9,
    "start_time": "2021-09-16T19:23:59.844Z"
   },
   {
    "duration": 8,
    "start_time": "2021-09-16T19:24:45.934Z"
   },
   {
    "duration": 1085,
    "start_time": "2021-09-16T19:24:54.990Z"
   },
   {
    "duration": 20,
    "start_time": "2021-09-16T19:25:08.462Z"
   },
   {
    "duration": 19,
    "start_time": "2021-09-16T19:25:26.703Z"
   },
   {
    "duration": 10,
    "start_time": "2021-09-16T19:25:35.720Z"
   },
   {
    "duration": 16,
    "start_time": "2021-09-16T19:25:45.727Z"
   },
   {
    "duration": 15,
    "start_time": "2021-09-16T19:25:49.055Z"
   },
   {
    "duration": 16,
    "start_time": "2021-09-16T19:26:03.000Z"
   },
   {
    "duration": 451,
    "start_time": "2021-09-16T19:26:06.105Z"
   },
   {
    "duration": 4,
    "start_time": "2021-09-16T19:26:12.240Z"
   },
   {
    "duration": 72,
    "start_time": "2021-09-16T19:26:12.246Z"
   },
   {
    "duration": 17,
    "start_time": "2021-09-16T19:26:12.321Z"
   },
   {
    "duration": 481,
    "start_time": "2021-09-16T19:26:12.340Z"
   },
   {
    "duration": 23,
    "start_time": "2021-09-16T19:26:37.792Z"
   },
   {
    "duration": 21,
    "start_time": "2021-09-16T19:26:46.719Z"
   },
   {
    "duration": 7,
    "start_time": "2021-09-16T19:27:11.768Z"
   },
   {
    "duration": 277,
    "start_time": "2021-09-16T19:27:19.089Z"
   },
   {
    "duration": 265,
    "start_time": "2021-09-16T19:28:49.465Z"
   },
   {
    "duration": 293,
    "start_time": "2021-09-16T19:29:01.904Z"
   },
   {
    "duration": 279,
    "start_time": "2021-09-16T19:29:41.264Z"
   },
   {
    "duration": 293,
    "start_time": "2021-09-16T19:30:07.330Z"
   },
   {
    "duration": 3,
    "start_time": "2021-09-16T19:30:14.615Z"
   },
   {
    "duration": 96,
    "start_time": "2021-09-16T19:30:14.621Z"
   },
   {
    "duration": 48,
    "start_time": "2021-09-16T19:30:14.721Z"
   },
   {
    "duration": 22,
    "start_time": "2021-09-16T19:30:14.773Z"
   },
   {
    "duration": 540,
    "start_time": "2021-09-16T19:30:14.798Z"
   },
   {
    "duration": 21,
    "start_time": "2021-09-16T19:31:23.715Z"
   },
   {
    "duration": 20,
    "start_time": "2021-09-16T19:31:30.858Z"
   },
   {
    "duration": 4,
    "start_time": "2021-09-16T19:31:33.970Z"
   },
   {
    "duration": 75,
    "start_time": "2021-09-16T19:31:33.977Z"
   },
   {
    "duration": 30,
    "start_time": "2021-09-16T19:31:34.064Z"
   },
   {
    "duration": 30,
    "start_time": "2021-09-16T19:31:34.097Z"
   },
   {
    "duration": 526,
    "start_time": "2021-09-16T19:31:34.162Z"
   },
   {
    "duration": 21,
    "start_time": "2021-09-16T19:31:45.129Z"
   },
   {
    "duration": 4,
    "start_time": "2021-09-16T19:31:47.698Z"
   },
   {
    "duration": 83,
    "start_time": "2021-09-16T19:31:47.705Z"
   },
   {
    "duration": 22,
    "start_time": "2021-09-16T19:31:47.791Z"
   },
   {
    "duration": 57,
    "start_time": "2021-09-16T19:31:47.815Z"
   },
   {
    "duration": 661,
    "start_time": "2021-09-16T19:31:47.875Z"
   },
   {
    "duration": 22,
    "start_time": "2021-09-16T19:32:07.034Z"
   },
   {
    "duration": 510,
    "start_time": "2021-09-16T19:32:07.409Z"
   },
   {
    "duration": 3,
    "start_time": "2021-09-16T19:32:11.027Z"
   },
   {
    "duration": 68,
    "start_time": "2021-09-16T19:32:11.033Z"
   },
   {
    "duration": 24,
    "start_time": "2021-09-16T19:32:11.104Z"
   },
   {
    "duration": 50,
    "start_time": "2021-09-16T19:32:11.130Z"
   },
   {
    "duration": 547,
    "start_time": "2021-09-16T19:32:11.183Z"
   },
   {
    "duration": 4,
    "start_time": "2021-09-16T19:32:30.198Z"
   },
   {
    "duration": 89,
    "start_time": "2021-09-16T19:32:30.204Z"
   },
   {
    "duration": 21,
    "start_time": "2021-09-16T19:32:30.296Z"
   },
   {
    "duration": 37,
    "start_time": "2021-09-16T19:32:30.320Z"
   },
   {
    "duration": 495,
    "start_time": "2021-09-16T19:32:30.359Z"
   },
   {
    "duration": 4,
    "start_time": "2021-09-16T19:33:33.471Z"
   },
   {
    "duration": 69,
    "start_time": "2021-09-16T19:33:33.477Z"
   },
   {
    "duration": 33,
    "start_time": "2021-09-16T19:33:33.549Z"
   },
   {
    "duration": 20,
    "start_time": "2021-09-16T19:33:33.585Z"
   },
   {
    "duration": 622,
    "start_time": "2021-09-16T19:33:33.607Z"
   },
   {
    "duration": 4,
    "start_time": "2021-09-16T19:33:48.028Z"
   },
   {
    "duration": 89,
    "start_time": "2021-09-16T19:33:48.035Z"
   },
   {
    "duration": 20,
    "start_time": "2021-09-16T19:33:48.128Z"
   },
   {
    "duration": 21,
    "start_time": "2021-09-16T19:33:48.163Z"
   },
   {
    "duration": 494,
    "start_time": "2021-09-16T19:33:48.187Z"
   },
   {
    "duration": 4,
    "start_time": "2021-09-16T19:34:02.734Z"
   },
   {
    "duration": 103,
    "start_time": "2021-09-16T19:34:02.741Z"
   },
   {
    "duration": 21,
    "start_time": "2021-09-16T19:34:02.847Z"
   },
   {
    "duration": 31,
    "start_time": "2021-09-16T19:34:02.871Z"
   },
   {
    "duration": 619,
    "start_time": "2021-09-16T19:34:02.904Z"
   },
   {
    "duration": 63,
    "start_time": "2021-09-16T19:34:43.978Z"
   },
   {
    "duration": 3,
    "start_time": "2021-09-16T19:34:46.395Z"
   },
   {
    "duration": 3,
    "start_time": "2021-09-16T19:35:11.050Z"
   },
   {
    "duration": 79,
    "start_time": "2021-09-16T19:35:11.056Z"
   },
   {
    "duration": 41,
    "start_time": "2021-09-16T19:35:11.138Z"
   },
   {
    "duration": 21,
    "start_time": "2021-09-16T19:35:11.182Z"
   },
   {
    "duration": 568,
    "start_time": "2021-09-16T19:35:11.206Z"
   },
   {
    "duration": 280,
    "start_time": "2021-09-16T19:37:26.686Z"
   },
   {
    "duration": 508,
    "start_time": "2021-09-16T19:42:04.229Z"
   },
   {
    "duration": 69,
    "start_time": "2021-09-16T19:42:05.502Z"
   },
   {
    "duration": 22,
    "start_time": "2021-09-16T19:42:05.853Z"
   },
   {
    "duration": 4,
    "start_time": "2021-09-16T19:42:08.340Z"
   },
   {
    "duration": 69,
    "start_time": "2021-09-16T19:42:08.346Z"
   },
   {
    "duration": 45,
    "start_time": "2021-09-16T19:42:08.420Z"
   },
   {
    "duration": 25,
    "start_time": "2021-09-16T19:42:08.468Z"
   },
   {
    "duration": 546,
    "start_time": "2021-09-16T19:42:08.496Z"
   },
   {
    "duration": 297,
    "start_time": "2021-09-16T19:42:09.045Z"
   },
   {
    "duration": -13,
    "start_time": "2021-09-16T19:42:09.357Z"
   },
   {
    "duration": 412,
    "start_time": "2021-09-16T19:42:43.235Z"
   },
   {
    "duration": -22,
    "start_time": "2021-09-16T19:42:43.672Z"
   },
   {
    "duration": -29,
    "start_time": "2021-09-16T19:42:43.680Z"
   },
   {
    "duration": -31,
    "start_time": "2021-09-16T19:42:43.683Z"
   },
   {
    "duration": -33,
    "start_time": "2021-09-16T19:42:43.687Z"
   },
   {
    "duration": -36,
    "start_time": "2021-09-16T19:42:43.691Z"
   },
   {
    "duration": -37,
    "start_time": "2021-09-16T19:42:43.694Z"
   },
   {
    "duration": 4,
    "start_time": "2021-09-16T19:43:21.794Z"
   },
   {
    "duration": 73,
    "start_time": "2021-09-16T19:43:21.800Z"
   },
   {
    "duration": 21,
    "start_time": "2021-09-16T19:43:21.876Z"
   },
   {
    "duration": 22,
    "start_time": "2021-09-16T19:43:21.900Z"
   },
   {
    "duration": 639,
    "start_time": "2021-09-16T19:43:21.925Z"
   },
   {
    "duration": 307,
    "start_time": "2021-09-16T19:43:22.566Z"
   },
   {
    "duration": -22,
    "start_time": "2021-09-16T19:43:22.897Z"
   },
   {
    "duration": 24,
    "start_time": "2021-09-16T19:49:43.224Z"
   },
   {
    "duration": 6,
    "start_time": "2021-09-16T19:51:04.867Z"
   },
   {
    "duration": 998,
    "start_time": "2021-09-16T19:51:05.809Z"
   },
   {
    "duration": 270,
    "start_time": "2021-09-16T19:51:20.490Z"
   },
   {
    "duration": 6,
    "start_time": "2021-09-16T19:53:24.363Z"
   },
   {
    "duration": 7,
    "start_time": "2021-09-16T19:54:27.435Z"
   },
   {
    "duration": 7,
    "start_time": "2021-09-16T19:55:35.511Z"
   },
   {
    "duration": 4,
    "start_time": "2021-09-16T20:00:51.343Z"
   },
   {
    "duration": 8,
    "start_time": "2021-09-16T20:02:22.921Z"
   },
   {
    "duration": -8,
    "start_time": "2021-09-16T20:03:28.665Z"
   },
   {
    "duration": -13,
    "start_time": "2021-09-16T20:03:28.671Z"
   },
   {
    "duration": -19,
    "start_time": "2021-09-16T20:03:28.678Z"
   },
   {
    "duration": -21,
    "start_time": "2021-09-16T20:03:28.681Z"
   },
   {
    "duration": -21,
    "start_time": "2021-09-16T20:03:28.683Z"
   },
   {
    "duration": -21,
    "start_time": "2021-09-16T20:03:28.684Z"
   },
   {
    "duration": -23,
    "start_time": "2021-09-16T20:03:28.687Z"
   },
   {
    "duration": -23,
    "start_time": "2021-09-16T20:03:28.688Z"
   },
   {
    "duration": -27,
    "start_time": "2021-09-16T20:03:28.694Z"
   },
   {
    "duration": -27,
    "start_time": "2021-09-16T20:03:28.695Z"
   },
   {
    "duration": 4,
    "start_time": "2021-09-16T20:03:33.912Z"
   },
   {
    "duration": 74,
    "start_time": "2021-09-16T20:03:33.919Z"
   },
   {
    "duration": 25,
    "start_time": "2021-09-16T20:03:33.996Z"
   },
   {
    "duration": 57,
    "start_time": "2021-09-16T20:03:34.024Z"
   },
   {
    "duration": 521,
    "start_time": "2021-09-16T20:03:34.083Z"
   },
   {
    "duration": 6445,
    "start_time": "2021-09-16T20:03:34.607Z"
   },
   {
    "duration": -24,
    "start_time": "2021-09-16T20:03:41.080Z"
   },
   {
    "duration": -24,
    "start_time": "2021-09-16T20:03:41.082Z"
   },
   {
    "duration": -25,
    "start_time": "2021-09-16T20:03:41.086Z"
   },
   {
    "duration": -26,
    "start_time": "2021-09-16T20:03:41.089Z"
   },
   {
    "duration": 6,
    "start_time": "2021-09-16T20:03:44.519Z"
   },
   {
    "duration": 12019,
    "start_time": "2021-09-16T20:03:44.703Z"
   },
   {
    "duration": 5,
    "start_time": "2021-09-16T20:04:08.675Z"
   },
   {
    "duration": 706,
    "start_time": "2021-09-16T20:04:09.242Z"
   },
   {
    "duration": 5,
    "start_time": "2021-09-16T20:04:18.961Z"
   },
   {
    "duration": 9,
    "start_time": "2021-09-16T20:04:19.888Z"
   },
   {
    "duration": 7,
    "start_time": "2021-09-16T20:04:21.657Z"
   },
   {
    "duration": 295,
    "start_time": "2021-09-16T20:04:22.586Z"
   },
   {
    "duration": 239,
    "start_time": "2021-09-16T20:06:42.051Z"
   },
   {
    "duration": 111,
    "start_time": "2021-09-16T20:07:01.570Z"
   },
   {
    "duration": 4,
    "start_time": "2021-09-16T20:07:21.616Z"
   },
   {
    "duration": 80,
    "start_time": "2021-09-16T20:07:21.622Z"
   },
   {
    "duration": 21,
    "start_time": "2021-09-16T20:07:21.706Z"
   },
   {
    "duration": 52,
    "start_time": "2021-09-16T20:07:21.730Z"
   },
   {
    "duration": 513,
    "start_time": "2021-09-16T20:07:21.785Z"
   },
   {
    "duration": 5,
    "start_time": "2021-09-16T20:07:22.301Z"
   },
   {
    "duration": 33,
    "start_time": "2021-09-16T20:07:22.308Z"
   },
   {
    "duration": 122,
    "start_time": "2021-09-16T20:07:22.344Z"
   },
   {
    "duration": -5,
    "start_time": "2021-09-16T20:07:22.474Z"
   },
   {
    "duration": 238,
    "start_time": "2021-09-16T20:07:47.409Z"
   },
   {
    "duration": 260,
    "start_time": "2021-09-16T20:08:21.746Z"
   },
   {
    "duration": 8,
    "start_time": "2021-09-16T20:08:32.212Z"
   },
   {
    "duration": 363,
    "start_time": "2021-09-16T20:08:33.658Z"
   },
   {
    "duration": 28,
    "start_time": "2021-09-16T20:09:05.763Z"
   },
   {
    "duration": 8,
    "start_time": "2021-09-16T20:09:08.420Z"
   },
   {
    "duration": 271,
    "start_time": "2021-09-16T20:09:09.371Z"
   },
   {
    "duration": 12,
    "start_time": "2021-09-16T20:09:17.252Z"
   },
   {
    "duration": 9,
    "start_time": "2021-09-16T20:09:17.627Z"
   },
   {
    "duration": 18,
    "start_time": "2021-09-16T20:09:17.867Z"
   },
   {
    "duration": 10,
    "start_time": "2021-09-16T20:09:23.155Z"
   },
   {
    "duration": 5,
    "start_time": "2021-09-16T20:09:38.363Z"
   },
   {
    "duration": 265,
    "start_time": "2021-09-16T20:10:39.932Z"
   },
   {
    "duration": -7,
    "start_time": "2021-09-16T20:10:40.208Z"
   },
   {
    "duration": -8,
    "start_time": "2021-09-16T20:10:40.211Z"
   },
   {
    "duration": -13,
    "start_time": "2021-09-16T20:10:40.217Z"
   },
   {
    "duration": -20,
    "start_time": "2021-09-16T20:10:40.225Z"
   },
   {
    "duration": -46,
    "start_time": "2021-09-16T20:10:40.253Z"
   },
   {
    "duration": -48,
    "start_time": "2021-09-16T20:10:40.257Z"
   },
   {
    "duration": -48,
    "start_time": "2021-09-16T20:10:40.258Z"
   },
   {
    "duration": -50,
    "start_time": "2021-09-16T20:10:40.262Z"
   },
   {
    "duration": -50,
    "start_time": "2021-09-16T20:10:40.263Z"
   },
   {
    "duration": 335,
    "start_time": "2021-09-16T20:11:18.287Z"
   },
   {
    "duration": 5,
    "start_time": "2021-09-16T20:11:20.768Z"
   },
   {
    "duration": 73,
    "start_time": "2021-09-16T20:11:20.776Z"
   },
   {
    "duration": 25,
    "start_time": "2021-09-16T20:11:20.862Z"
   },
   {
    "duration": 27,
    "start_time": "2021-09-16T20:11:20.891Z"
   },
   {
    "duration": 526,
    "start_time": "2021-09-16T20:11:20.961Z"
   },
   {
    "duration": 7,
    "start_time": "2021-09-16T20:11:21.490Z"
   },
   {
    "duration": 52,
    "start_time": "2021-09-16T20:11:21.500Z"
   },
   {
    "duration": 39,
    "start_time": "2021-09-16T20:11:21.556Z"
   },
   {
    "duration": 23,
    "start_time": "2021-09-16T20:11:21.598Z"
   },
   {
    "duration": 145,
    "start_time": "2021-09-16T20:11:21.625Z"
   },
   {
    "duration": 21,
    "start_time": "2021-09-16T20:11:32.492Z"
   },
   {
    "duration": 8,
    "start_time": "2021-09-16T20:11:32.732Z"
   },
   {
    "duration": 14,
    "start_time": "2021-09-16T20:11:33.469Z"
   },
   {
    "duration": 5,
    "start_time": "2021-09-16T20:11:33.663Z"
   },
   {
    "duration": 5,
    "start_time": "2021-09-16T20:11:36.873Z"
   },
   {
    "duration": 80,
    "start_time": "2021-09-16T20:11:36.881Z"
   },
   {
    "duration": 22,
    "start_time": "2021-09-16T20:11:36.964Z"
   },
   {
    "duration": 25,
    "start_time": "2021-09-16T20:11:36.989Z"
   },
   {
    "duration": 548,
    "start_time": "2021-09-16T20:11:37.016Z"
   },
   {
    "duration": 5,
    "start_time": "2021-09-16T20:11:37.567Z"
   },
   {
    "duration": 42,
    "start_time": "2021-09-16T20:11:37.575Z"
   },
   {
    "duration": 8,
    "start_time": "2021-09-16T20:11:37.620Z"
   },
   {
    "duration": 130,
    "start_time": "2021-09-16T20:11:37.632Z"
   },
   {
    "duration": 96,
    "start_time": "2021-09-16T20:11:37.765Z"
   },
   {
    "duration": 17,
    "start_time": "2021-09-16T20:12:33.303Z"
   },
   {
    "duration": 4,
    "start_time": "2021-09-16T20:12:33.780Z"
   },
   {
    "duration": 13,
    "start_time": "2021-09-16T20:12:39.787Z"
   },
   {
    "duration": 11,
    "start_time": "2021-09-16T20:12:39.992Z"
   },
   {
    "duration": 22,
    "start_time": "2021-09-16T20:12:40.140Z"
   },
   {
    "duration": 4,
    "start_time": "2021-09-16T20:12:42.541Z"
   },
   {
    "duration": 93,
    "start_time": "2021-09-16T20:12:42.548Z"
   },
   {
    "duration": 39,
    "start_time": "2021-09-16T20:12:42.645Z"
   },
   {
    "duration": 34,
    "start_time": "2021-09-16T20:12:42.688Z"
   },
   {
    "duration": 660,
    "start_time": "2021-09-16T20:12:42.725Z"
   },
   {
    "duration": 7,
    "start_time": "2021-09-16T20:12:43.388Z"
   },
   {
    "duration": 22,
    "start_time": "2021-09-16T20:12:43.397Z"
   },
   {
    "duration": 8,
    "start_time": "2021-09-16T20:12:43.422Z"
   },
   {
    "duration": 104,
    "start_time": "2021-09-16T20:12:43.461Z"
   },
   {
    "duration": 85,
    "start_time": "2021-09-16T20:12:43.578Z"
   },
   {
    "duration": 17,
    "start_time": "2021-09-16T20:27:20.278Z"
   },
   {
    "duration": 5,
    "start_time": "2021-09-16T20:27:34.309Z"
   },
   {
    "duration": 735,
    "start_time": "2021-09-16T20:30:23.742Z"
   },
   {
    "duration": 550,
    "start_time": "2021-09-16T20:31:07.671Z"
   },
   {
    "duration": 264,
    "start_time": "2021-09-16T20:31:26.622Z"
   },
   {
    "duration": 307,
    "start_time": "2021-09-16T20:31:40.533Z"
   },
   {
    "duration": -6,
    "start_time": "2021-09-16T20:31:40.849Z"
   },
   {
    "duration": -6,
    "start_time": "2021-09-16T20:31:40.851Z"
   },
   {
    "duration": -5,
    "start_time": "2021-09-16T20:31:40.852Z"
   },
   {
    "duration": -6,
    "start_time": "2021-09-16T20:31:40.854Z"
   },
   {
    "duration": -13,
    "start_time": "2021-09-16T20:31:40.863Z"
   },
   {
    "duration": -12,
    "start_time": "2021-09-16T20:31:40.864Z"
   },
   {
    "duration": -14,
    "start_time": "2021-09-16T20:31:40.867Z"
   },
   {
    "duration": -19,
    "start_time": "2021-09-16T20:31:40.874Z"
   },
   {
    "duration": -21,
    "start_time": "2021-09-16T20:31:40.877Z"
   },
   {
    "duration": -37,
    "start_time": "2021-09-16T20:31:40.895Z"
   },
   {
    "duration": 5,
    "start_time": "2021-09-16T20:31:51.847Z"
   },
   {
    "duration": 92,
    "start_time": "2021-09-16T20:31:51.855Z"
   },
   {
    "duration": 24,
    "start_time": "2021-09-16T20:31:51.951Z"
   },
   {
    "duration": 27,
    "start_time": "2021-09-16T20:31:51.980Z"
   },
   {
    "duration": 566,
    "start_time": "2021-09-16T20:31:52.010Z"
   },
   {
    "duration": 9,
    "start_time": "2021-09-16T20:31:52.579Z"
   },
   {
    "duration": 22,
    "start_time": "2021-09-16T20:31:52.590Z"
   },
   {
    "duration": 10,
    "start_time": "2021-09-16T20:31:52.615Z"
   },
   {
    "duration": 11,
    "start_time": "2021-09-16T20:31:52.661Z"
   },
   {
    "duration": 13,
    "start_time": "2021-09-16T20:31:52.674Z"
   },
   {
    "duration": 42,
    "start_time": "2021-09-16T20:31:52.690Z"
   },
   {
    "duration": 33,
    "start_time": "2021-09-16T20:31:56.239Z"
   },
   {
    "duration": 4,
    "start_time": "2021-09-16T20:32:56.011Z"
   },
   {
    "duration": 67,
    "start_time": "2021-09-16T20:32:56.018Z"
   },
   {
    "duration": 21,
    "start_time": "2021-09-16T20:32:56.088Z"
   },
   {
    "duration": 192,
    "start_time": "2021-09-16T20:32:56.111Z"
   },
   {
    "duration": 526,
    "start_time": "2021-09-16T20:32:56.306Z"
   },
   {
    "duration": 8,
    "start_time": "2021-09-16T20:32:56.835Z"
   },
   {
    "duration": 33,
    "start_time": "2021-09-16T20:32:56.846Z"
   },
   {
    "duration": 9,
    "start_time": "2021-09-16T20:32:56.882Z"
   },
   {
    "duration": 12,
    "start_time": "2021-09-16T20:32:56.896Z"
   },
   {
    "duration": 53,
    "start_time": "2021-09-16T20:32:56.911Z"
   },
   {
    "duration": 35,
    "start_time": "2021-09-16T20:32:56.968Z"
   },
   {
    "duration": 4,
    "start_time": "2021-09-16T20:33:06.279Z"
   },
   {
    "duration": 80,
    "start_time": "2021-09-16T20:33:06.286Z"
   },
   {
    "duration": 26,
    "start_time": "2021-09-16T20:33:06.370Z"
   },
   {
    "duration": 65,
    "start_time": "2021-09-16T20:33:06.400Z"
   },
   {
    "duration": 527,
    "start_time": "2021-09-16T20:33:06.468Z"
   },
   {
    "duration": 5,
    "start_time": "2021-09-16T20:33:06.997Z"
   },
   {
    "duration": 45,
    "start_time": "2021-09-16T20:33:07.004Z"
   },
   {
    "duration": 10,
    "start_time": "2021-09-16T20:33:07.052Z"
   },
   {
    "duration": 19,
    "start_time": "2021-09-16T20:33:07.065Z"
   },
   {
    "duration": 5,
    "start_time": "2021-09-16T20:33:07.086Z"
   },
   {
    "duration": 16,
    "start_time": "2021-09-16T20:33:07.093Z"
   },
   {
    "duration": 12,
    "start_time": "2021-09-16T20:35:20.069Z"
   },
   {
    "duration": 108,
    "start_time": "2021-09-16T20:35:28.743Z"
   },
   {
    "duration": 266,
    "start_time": "2021-09-16T20:36:20.139Z"
   },
   {
    "duration": 68,
    "start_time": "2021-09-16T20:36:49.151Z"
   },
   {
    "duration": 76,
    "start_time": "2021-09-16T20:36:49.221Z"
   },
   {
    "duration": 26,
    "start_time": "2021-09-16T20:36:49.301Z"
   },
   {
    "duration": 27,
    "start_time": "2021-09-16T20:36:49.362Z"
   },
   {
    "duration": 534,
    "start_time": "2021-09-16T20:36:49.392Z"
   },
   {
    "duration": 6,
    "start_time": "2021-09-16T20:36:49.928Z"
   },
   {
    "duration": 35,
    "start_time": "2021-09-16T20:36:49.936Z"
   },
   {
    "duration": 7,
    "start_time": "2021-09-16T20:36:49.975Z"
   },
   {
    "duration": 37,
    "start_time": "2021-09-16T20:36:49.985Z"
   },
   {
    "duration": 15,
    "start_time": "2021-09-16T20:36:50.024Z"
   },
   {
    "duration": 121,
    "start_time": "2021-09-16T20:36:50.041Z"
   },
   {
    "duration": 9406,
    "start_time": "2021-09-16T20:36:50.164Z"
   },
   {
    "duration": 10686,
    "start_time": "2021-09-16T20:37:48.538Z"
   },
   {
    "duration": 8591,
    "start_time": "2021-09-16T20:38:00.553Z"
   },
   {
    "duration": 7672,
    "start_time": "2021-09-16T20:38:46.385Z"
   },
   {
    "duration": 8599,
    "start_time": "2021-09-16T20:38:55.417Z"
   },
   {
    "duration": 7759,
    "start_time": "2021-09-16T20:40:47.250Z"
   },
   {
    "duration": 8868,
    "start_time": "2021-09-16T20:41:03.185Z"
   },
   {
    "duration": 1918,
    "start_time": "2021-09-16T20:41:12.962Z"
   },
   {
    "duration": 8467,
    "start_time": "2021-09-16T20:42:26.259Z"
   },
   {
    "duration": 108,
    "start_time": "2021-09-16T20:42:37.906Z"
   },
   {
    "duration": 111,
    "start_time": "2021-09-16T20:42:43.690Z"
   },
   {
    "duration": 5,
    "start_time": "2021-09-16T20:42:47.049Z"
   },
   {
    "duration": 86,
    "start_time": "2021-09-16T20:42:47.056Z"
   },
   {
    "duration": 19,
    "start_time": "2021-09-16T20:42:47.145Z"
   },
   {
    "duration": 26,
    "start_time": "2021-09-16T20:42:47.166Z"
   },
   {
    "duration": 561,
    "start_time": "2021-09-16T20:42:47.194Z"
   },
   {
    "duration": 6,
    "start_time": "2021-09-16T20:42:47.762Z"
   },
   {
    "duration": 33,
    "start_time": "2021-09-16T20:42:47.771Z"
   },
   {
    "duration": 9,
    "start_time": "2021-09-16T20:42:47.808Z"
   },
   {
    "duration": 14,
    "start_time": "2021-09-16T20:42:47.820Z"
   },
   {
    "duration": 25,
    "start_time": "2021-09-16T20:42:47.837Z"
   },
   {
    "duration": 119,
    "start_time": "2021-09-16T20:42:47.865Z"
   },
   {
    "duration": 7604,
    "start_time": "2021-09-16T20:42:47.987Z"
   },
   {
    "duration": 12,
    "start_time": "2021-09-16T20:42:55.886Z"
   },
   {
    "duration": 6,
    "start_time": "2021-09-16T20:42:55.893Z"
   },
   {
    "duration": 3,
    "start_time": "2021-09-16T20:42:55.898Z"
   },
   {
    "duration": 2,
    "start_time": "2021-09-16T20:42:55.901Z"
   },
   {
    "duration": -3,
    "start_time": "2021-09-16T20:42:55.908Z"
   },
   {
    "duration": -4,
    "start_time": "2021-09-16T20:42:55.910Z"
   },
   {
    "duration": -4,
    "start_time": "2021-09-16T20:42:55.912Z"
   },
   {
    "duration": -4,
    "start_time": "2021-09-16T20:42:55.913Z"
   },
   {
    "duration": -4,
    "start_time": "2021-09-16T20:42:55.915Z"
   },
   {
    "duration": -9,
    "start_time": "2021-09-16T20:42:55.921Z"
   },
   {
    "duration": -10,
    "start_time": "2021-09-16T20:42:55.923Z"
   },
   {
    "duration": -11,
    "start_time": "2021-09-16T20:42:55.925Z"
   },
   {
    "duration": -11,
    "start_time": "2021-09-16T20:42:55.927Z"
   },
   {
    "duration": 4,
    "start_time": "2021-09-16T20:43:00.890Z"
   },
   {
    "duration": 89,
    "start_time": "2021-09-16T20:43:00.896Z"
   },
   {
    "duration": 23,
    "start_time": "2021-09-16T20:43:00.988Z"
   },
   {
    "duration": 57,
    "start_time": "2021-09-16T20:43:01.014Z"
   },
   {
    "duration": 534,
    "start_time": "2021-09-16T20:43:01.074Z"
   },
   {
    "duration": 7,
    "start_time": "2021-09-16T20:43:01.610Z"
   },
   {
    "duration": 43,
    "start_time": "2021-09-16T20:43:01.619Z"
   },
   {
    "duration": 23,
    "start_time": "2021-09-16T20:43:01.664Z"
   },
   {
    "duration": 21,
    "start_time": "2021-09-16T20:43:01.690Z"
   },
   {
    "duration": 43,
    "start_time": "2021-09-16T20:43:01.714Z"
   },
   {
    "duration": 137,
    "start_time": "2021-09-16T20:43:01.760Z"
   },
   {
    "duration": 13049,
    "start_time": "2021-09-16T20:43:01.900Z"
   },
   {
    "duration": 286,
    "start_time": "2021-09-16T20:43:14.952Z"
   },
   {
    "duration": 6,
    "start_time": "2021-09-16T20:43:15.816Z"
   },
   {
    "duration": 72,
    "start_time": "2021-09-16T20:43:15.825Z"
   },
   {
    "duration": 22,
    "start_time": "2021-09-16T20:43:15.900Z"
   },
   {
    "duration": 56,
    "start_time": "2021-09-16T20:43:15.925Z"
   },
   {
    "duration": 648,
    "start_time": "2021-09-16T20:43:15.983Z"
   },
   {
    "duration": 6,
    "start_time": "2021-09-16T20:43:16.633Z"
   },
   {
    "duration": 33,
    "start_time": "2021-09-16T20:43:16.641Z"
   },
   {
    "duration": 8,
    "start_time": "2021-09-16T20:43:16.678Z"
   },
   {
    "duration": 12,
    "start_time": "2021-09-16T20:43:16.689Z"
   },
   {
    "duration": 6,
    "start_time": "2021-09-16T20:43:16.704Z"
   },
   {
    "duration": 152,
    "start_time": "2021-09-16T20:43:16.713Z"
   },
   {
    "duration": 7725,
    "start_time": "2021-09-16T20:43:16.867Z"
   },
   {
    "duration": 231,
    "start_time": "2021-09-16T20:43:24.595Z"
   },
   {
    "duration": 5,
    "start_time": "2021-09-16T20:43:29.390Z"
   },
   {
    "duration": 83,
    "start_time": "2021-09-16T20:43:29.397Z"
   },
   {
    "duration": 20,
    "start_time": "2021-09-16T20:43:29.483Z"
   },
   {
    "duration": 23,
    "start_time": "2021-09-16T20:43:29.506Z"
   },
   {
    "duration": 599,
    "start_time": "2021-09-16T20:43:29.531Z"
   },
   {
    "duration": 5,
    "start_time": "2021-09-16T20:43:30.132Z"
   },
   {
    "duration": 37,
    "start_time": "2021-09-16T20:43:30.140Z"
   },
   {
    "duration": 8,
    "start_time": "2021-09-16T20:43:30.180Z"
   },
   {
    "duration": 16,
    "start_time": "2021-09-16T20:43:30.193Z"
   },
   {
    "duration": 41,
    "start_time": "2021-09-16T20:43:30.212Z"
   },
   {
    "duration": 119,
    "start_time": "2021-09-16T20:43:30.256Z"
   },
   {
    "duration": 8117,
    "start_time": "2021-09-16T20:43:30.377Z"
   },
   {
    "duration": 264,
    "start_time": "2021-09-16T20:43:38.496Z"
   },
   {
    "duration": 4,
    "start_time": "2021-09-16T20:43:51.667Z"
   },
   {
    "duration": 70,
    "start_time": "2021-09-16T20:43:51.674Z"
   },
   {
    "duration": 22,
    "start_time": "2021-09-16T20:43:51.762Z"
   },
   {
    "duration": 24,
    "start_time": "2021-09-16T20:43:51.787Z"
   },
   {
    "duration": 553,
    "start_time": "2021-09-16T20:43:51.813Z"
   },
   {
    "duration": 6,
    "start_time": "2021-09-16T20:43:52.368Z"
   },
   {
    "duration": 23,
    "start_time": "2021-09-16T20:43:52.376Z"
   },
   {
    "duration": 11,
    "start_time": "2021-09-16T20:43:52.404Z"
   },
   {
    "duration": 44,
    "start_time": "2021-09-16T20:43:52.418Z"
   },
   {
    "duration": 13,
    "start_time": "2021-09-16T20:43:52.464Z"
   },
   {
    "duration": 143,
    "start_time": "2021-09-16T20:43:52.479Z"
   },
   {
    "duration": 13432,
    "start_time": "2021-09-16T20:43:52.625Z"
   },
   {
    "duration": 417,
    "start_time": "2021-09-16T20:44:06.059Z"
   },
   {
    "duration": 20,
    "start_time": "2021-09-16T20:45:00.845Z"
   },
   {
    "duration": 67,
    "start_time": "2021-09-16T20:45:00.868Z"
   },
   {
    "duration": 39,
    "start_time": "2021-09-16T20:45:00.939Z"
   },
   {
    "duration": 23,
    "start_time": "2021-09-16T20:45:00.982Z"
   },
   {
    "duration": 686,
    "start_time": "2021-09-16T20:45:01.008Z"
   },
   {
    "duration": 7,
    "start_time": "2021-09-16T20:45:01.697Z"
   },
   {
    "duration": 38,
    "start_time": "2021-09-16T20:45:01.707Z"
   },
   {
    "duration": 17,
    "start_time": "2021-09-16T20:45:01.747Z"
   },
   {
    "duration": 16,
    "start_time": "2021-09-16T20:45:01.768Z"
   },
   {
    "duration": 15,
    "start_time": "2021-09-16T20:45:01.786Z"
   },
   {
    "duration": 152,
    "start_time": "2021-09-16T20:45:01.803Z"
   },
   {
    "duration": 7902,
    "start_time": "2021-09-16T20:45:01.958Z"
   },
   {
    "duration": 240,
    "start_time": "2021-09-16T20:45:09.862Z"
   },
   {
    "duration": 5,
    "start_time": "2021-09-16T20:45:27.139Z"
   },
   {
    "duration": 85,
    "start_time": "2021-09-16T20:45:27.147Z"
   },
   {
    "duration": 21,
    "start_time": "2021-09-16T20:45:27.235Z"
   },
   {
    "duration": 27,
    "start_time": "2021-09-16T20:45:27.262Z"
   },
   {
    "duration": 515,
    "start_time": "2021-09-16T20:45:27.292Z"
   },
   {
    "duration": 5,
    "start_time": "2021-09-16T20:45:27.810Z"
   },
   {
    "duration": 48,
    "start_time": "2021-09-16T20:45:27.818Z"
   },
   {
    "duration": 14,
    "start_time": "2021-09-16T20:45:27.870Z"
   },
   {
    "duration": 29,
    "start_time": "2021-09-16T20:45:27.887Z"
   },
   {
    "duration": 16,
    "start_time": "2021-09-16T20:45:27.918Z"
   },
   {
    "duration": 122,
    "start_time": "2021-09-16T20:45:27.937Z"
   },
   {
    "duration": 7850,
    "start_time": "2021-09-16T20:45:28.062Z"
   },
   {
    "duration": 2664,
    "start_time": "2021-09-16T20:45:35.914Z"
   },
   {
    "duration": 5,
    "start_time": "2021-09-16T20:45:41.797Z"
   },
   {
    "duration": 97,
    "start_time": "2021-09-16T20:45:41.804Z"
   },
   {
    "duration": 21,
    "start_time": "2021-09-16T20:45:41.904Z"
   },
   {
    "duration": 53,
    "start_time": "2021-09-16T20:45:41.928Z"
   },
   {
    "duration": 544,
    "start_time": "2021-09-16T20:45:41.983Z"
   },
   {
    "duration": 6,
    "start_time": "2021-09-16T20:45:42.529Z"
   },
   {
    "duration": 40,
    "start_time": "2021-09-16T20:45:42.537Z"
   },
   {
    "duration": 9,
    "start_time": "2021-09-16T20:45:42.579Z"
   },
   {
    "duration": 30,
    "start_time": "2021-09-16T20:45:42.591Z"
   },
   {
    "duration": 11,
    "start_time": "2021-09-16T20:45:42.625Z"
   },
   {
    "duration": 133,
    "start_time": "2021-09-16T20:45:42.639Z"
   },
   {
    "duration": 1451,
    "start_time": "2021-09-16T20:46:12.531Z"
   },
   {
    "duration": 82,
    "start_time": "2021-09-16T20:46:13.985Z"
   },
   {
    "duration": 28,
    "start_time": "2021-09-16T20:46:14.075Z"
   },
   {
    "duration": 71,
    "start_time": "2021-09-16T20:46:14.106Z"
   },
   {
    "duration": 645,
    "start_time": "2021-09-16T20:46:14.179Z"
   },
   {
    "duration": 5,
    "start_time": "2021-09-16T20:46:14.827Z"
   },
   {
    "duration": 40,
    "start_time": "2021-09-16T20:46:14.834Z"
   },
   {
    "duration": 8,
    "start_time": "2021-09-16T20:46:14.878Z"
   },
   {
    "duration": 403,
    "start_time": "2021-09-16T20:46:14.889Z"
   },
   {
    "duration": -7,
    "start_time": "2021-09-16T20:46:15.301Z"
   },
   {
    "duration": -8,
    "start_time": "2021-09-16T20:46:15.304Z"
   },
   {
    "duration": -8,
    "start_time": "2021-09-16T20:46:15.305Z"
   },
   {
    "duration": -9,
    "start_time": "2021-09-16T20:46:15.308Z"
   },
   {
    "duration": 4,
    "start_time": "2021-09-16T20:46:18.487Z"
   },
   {
    "duration": 67,
    "start_time": "2021-09-16T20:46:18.495Z"
   },
   {
    "duration": 25,
    "start_time": "2021-09-16T20:46:18.566Z"
   },
   {
    "duration": 28,
    "start_time": "2021-09-16T20:46:18.594Z"
   },
   {
    "duration": 532,
    "start_time": "2021-09-16T20:46:18.661Z"
   },
   {
    "duration": 5,
    "start_time": "2021-09-16T20:46:19.195Z"
   },
   {
    "duration": 30,
    "start_time": "2021-09-16T20:46:19.203Z"
   },
   {
    "duration": 34,
    "start_time": "2021-09-16T20:46:19.236Z"
   },
   {
    "duration": 257,
    "start_time": "2021-09-16T20:46:19.273Z"
   },
   {
    "duration": -251,
    "start_time": "2021-09-16T20:46:19.784Z"
   },
   {
    "duration": -251,
    "start_time": "2021-09-16T20:46:19.786Z"
   },
   {
    "duration": -251,
    "start_time": "2021-09-16T20:46:19.787Z"
   },
   {
    "duration": -250,
    "start_time": "2021-09-16T20:46:19.788Z"
   },
   {
    "duration": 4,
    "start_time": "2021-09-16T20:46:47.877Z"
   },
   {
    "duration": 74,
    "start_time": "2021-09-16T20:46:47.884Z"
   },
   {
    "duration": 21,
    "start_time": "2021-09-16T20:46:47.961Z"
   },
   {
    "duration": 23,
    "start_time": "2021-09-16T20:46:47.985Z"
   },
   {
    "duration": 616,
    "start_time": "2021-09-16T20:46:48.010Z"
   },
   {
    "duration": 5,
    "start_time": "2021-09-16T20:46:48.629Z"
   },
   {
    "duration": 35,
    "start_time": "2021-09-16T20:46:48.637Z"
   },
   {
    "duration": 8,
    "start_time": "2021-09-16T20:46:48.674Z"
   },
   {
    "duration": 11,
    "start_time": "2021-09-16T20:46:48.686Z"
   },
   {
    "duration": 6,
    "start_time": "2021-09-16T20:46:48.699Z"
   },
   {
    "duration": 155,
    "start_time": "2021-09-16T20:46:48.708Z"
   },
   {
    "duration": 7994,
    "start_time": "2021-09-16T20:46:48.866Z"
   },
   {
    "duration": 3108,
    "start_time": "2021-09-16T20:46:56.862Z"
   },
   {
    "duration": 5,
    "start_time": "2021-09-16T20:51:13.890Z"
   },
   {
    "duration": 250,
    "start_time": "2021-09-16T20:51:31.693Z"
   },
   {
    "duration": 91,
    "start_time": "2021-09-16T20:52:42.164Z"
   },
   {
    "duration": 272,
    "start_time": "2021-09-16T20:52:45.276Z"
   },
   {
    "duration": 246,
    "start_time": "2021-09-16T20:53:18.644Z"
   },
   {
    "duration": 372,
    "start_time": "2021-09-16T20:56:08.365Z"
   },
   {
    "duration": 5,
    "start_time": "2021-09-16T20:56:35.159Z"
   },
   {
    "duration": 68,
    "start_time": "2021-09-16T20:56:35.166Z"
   },
   {
    "duration": 41,
    "start_time": "2021-09-16T20:56:35.237Z"
   },
   {
    "duration": 23,
    "start_time": "2021-09-16T20:56:35.281Z"
   },
   {
    "duration": 547,
    "start_time": "2021-09-16T20:56:35.306Z"
   },
   {
    "duration": 10,
    "start_time": "2021-09-16T20:56:35.855Z"
   },
   {
    "duration": 23,
    "start_time": "2021-09-16T20:56:35.868Z"
   },
   {
    "duration": 14,
    "start_time": "2021-09-16T20:56:35.895Z"
   },
   {
    "duration": 14,
    "start_time": "2021-09-16T20:56:35.912Z"
   },
   {
    "duration": 34,
    "start_time": "2021-09-16T20:56:35.928Z"
   },
   {
    "duration": 131,
    "start_time": "2021-09-16T20:56:35.965Z"
   },
   {
    "duration": 8801,
    "start_time": "2021-09-16T20:56:36.099Z"
   },
   {
    "duration": 2463,
    "start_time": "2021-09-16T20:56:44.903Z"
   },
   {
    "duration": 319,
    "start_time": "2021-09-16T20:56:47.370Z"
   },
   {
    "duration": 343,
    "start_time": "2021-09-16T20:57:32.286Z"
   },
   {
    "duration": 366,
    "start_time": "2021-09-16T20:58:31.654Z"
   },
   {
    "duration": 357,
    "start_time": "2021-09-16T20:59:17.802Z"
   },
   {
    "duration": 314,
    "start_time": "2021-09-16T21:00:16.031Z"
   },
   {
    "duration": 4,
    "start_time": "2021-09-16T21:01:18.616Z"
   },
   {
    "duration": 72,
    "start_time": "2021-09-16T21:01:18.623Z"
   },
   {
    "duration": 21,
    "start_time": "2021-09-16T21:01:18.698Z"
   },
   {
    "duration": 58,
    "start_time": "2021-09-16T21:01:18.722Z"
   },
   {
    "duration": 553,
    "start_time": "2021-09-16T21:01:18.784Z"
   },
   {
    "duration": 5,
    "start_time": "2021-09-16T21:01:19.340Z"
   },
   {
    "duration": 39,
    "start_time": "2021-09-16T21:01:19.347Z"
   },
   {
    "duration": 8,
    "start_time": "2021-09-16T21:01:19.389Z"
   },
   {
    "duration": 25,
    "start_time": "2021-09-16T21:01:19.399Z"
   },
   {
    "duration": 15,
    "start_time": "2021-09-16T21:01:19.427Z"
   },
   {
    "duration": 129,
    "start_time": "2021-09-16T21:01:19.444Z"
   },
   {
    "duration": 10576,
    "start_time": "2021-09-16T21:01:19.576Z"
   },
   {
    "duration": 2711,
    "start_time": "2021-09-16T21:01:30.155Z"
   },
   {
    "duration": 318,
    "start_time": "2021-09-16T21:01:32.868Z"
   },
   {
    "duration": 308,
    "start_time": "2021-09-16T21:01:47.312Z"
   },
   {
    "duration": 279,
    "start_time": "2021-09-16T21:02:12.217Z"
   },
   {
    "duration": 237,
    "start_time": "2021-09-16T21:02:18.448Z"
   },
   {
    "duration": 108,
    "start_time": "2021-09-16T21:05:40.290Z"
   },
   {
    "duration": 5,
    "start_time": "2021-09-16T21:05:58.989Z"
   },
   {
    "duration": 97,
    "start_time": "2021-09-16T21:05:58.997Z"
   },
   {
    "duration": 24,
    "start_time": "2021-09-16T21:05:59.099Z"
   },
   {
    "duration": 56,
    "start_time": "2021-09-16T21:05:59.126Z"
   },
   {
    "duration": 671,
    "start_time": "2021-09-16T21:05:59.184Z"
   },
   {
    "duration": 6,
    "start_time": "2021-09-16T21:05:59.861Z"
   },
   {
    "duration": 27,
    "start_time": "2021-09-16T21:05:59.870Z"
   },
   {
    "duration": 8,
    "start_time": "2021-09-16T21:05:59.900Z"
   },
   {
    "duration": 10,
    "start_time": "2021-09-16T21:05:59.911Z"
   },
   {
    "duration": 38,
    "start_time": "2021-09-16T21:05:59.924Z"
   },
   {
    "duration": 65057,
    "start_time": "2021-09-16T21:05:59.964Z"
   },
   {
    "duration": 7477,
    "start_time": "2021-09-16T21:07:05.024Z"
   },
   {
    "duration": 2676,
    "start_time": "2021-09-16T21:07:12.504Z"
   },
   {
    "duration": 2785,
    "start_time": "2021-09-16T21:07:15.182Z"
   },
   {
    "duration": -6,
    "start_time": "2021-09-16T21:07:17.976Z"
   },
   {
    "duration": 259,
    "start_time": "2021-09-16T21:07:55.260Z"
   },
   {
    "duration": 301,
    "start_time": "2021-09-16T21:08:14.404Z"
   },
   {
    "duration": 270,
    "start_time": "2021-09-16T21:08:34.451Z"
   },
   {
    "duration": 278,
    "start_time": "2021-09-16T21:09:30.547Z"
   },
   {
    "duration": 249,
    "start_time": "2021-09-16T21:09:50.037Z"
   },
   {
    "duration": 298,
    "start_time": "2021-09-16T21:09:57.596Z"
   },
   {
    "duration": 294,
    "start_time": "2021-09-16T21:10:40.613Z"
   },
   {
    "duration": 269,
    "start_time": "2021-09-16T21:10:45.779Z"
   },
   {
    "duration": 293,
    "start_time": "2021-09-16T21:10:59.306Z"
   },
   {
    "duration": 315,
    "start_time": "2021-09-16T21:11:25.309Z"
   },
   {
    "duration": 280,
    "start_time": "2021-09-16T21:11:43.229Z"
   },
   {
    "duration": 256,
    "start_time": "2021-09-16T21:12:00.908Z"
   },
   {
    "duration": 250,
    "start_time": "2021-09-16T21:12:10.414Z"
   },
   {
    "duration": 258,
    "start_time": "2021-09-16T21:12:31.101Z"
   },
   {
    "duration": 261,
    "start_time": "2021-09-16T21:13:02.271Z"
   },
   {
    "duration": 86,
    "start_time": "2021-09-16T21:13:06.717Z"
   },
   {
    "duration": 102,
    "start_time": "2021-09-16T21:13:17.382Z"
   },
   {
    "duration": 85,
    "start_time": "2021-09-16T21:13:21.289Z"
   },
   {
    "duration": 265,
    "start_time": "2021-09-16T21:13:28.797Z"
   },
   {
    "duration": 269,
    "start_time": "2021-09-16T21:13:44.046Z"
   },
   {
    "duration": 265,
    "start_time": "2021-09-16T21:13:52.054Z"
   },
   {
    "duration": 4,
    "start_time": "2021-09-16T21:14:14.525Z"
   },
   {
    "duration": 86,
    "start_time": "2021-09-16T21:14:14.532Z"
   },
   {
    "duration": 42,
    "start_time": "2021-09-16T21:14:14.621Z"
   },
   {
    "duration": 25,
    "start_time": "2021-09-16T21:14:14.666Z"
   },
   {
    "duration": 551,
    "start_time": "2021-09-16T21:14:14.695Z"
   },
   {
    "duration": 15,
    "start_time": "2021-09-16T21:14:15.249Z"
   },
   {
    "duration": 21,
    "start_time": "2021-09-16T21:14:15.268Z"
   },
   {
    "duration": 9,
    "start_time": "2021-09-16T21:14:15.294Z"
   },
   {
    "duration": 18,
    "start_time": "2021-09-16T21:14:15.307Z"
   },
   {
    "duration": 37,
    "start_time": "2021-09-16T21:14:15.327Z"
   },
   {
    "duration": 58512,
    "start_time": "2021-09-16T21:14:15.368Z"
   },
   {
    "duration": 9313,
    "start_time": "2021-09-16T21:15:13.883Z"
   },
   {
    "duration": 3372,
    "start_time": "2021-09-16T21:15:23.199Z"
   },
   {
    "duration": 316,
    "start_time": "2021-09-16T21:15:26.573Z"
   },
   {
    "duration": 274,
    "start_time": "2021-09-16T21:15:27.161Z"
   },
   {
    "duration": 417,
    "start_time": "2021-09-16T21:16:23.577Z"
   },
   {
    "duration": 88,
    "start_time": "2021-09-16T21:16:43.608Z"
   },
   {
    "duration": 260,
    "start_time": "2021-09-16T21:16:48.071Z"
   },
   {
    "duration": 261,
    "start_time": "2021-09-16T21:17:49.200Z"
   },
   {
    "duration": 238,
    "start_time": "2021-09-16T21:18:09.463Z"
   },
   {
    "duration": 254,
    "start_time": "2021-09-16T21:18:17.921Z"
   },
   {
    "duration": 296,
    "start_time": "2021-09-16T21:18:47.906Z"
   },
   {
    "duration": 268,
    "start_time": "2021-09-16T21:19:03.166Z"
   },
   {
    "duration": 316,
    "start_time": "2021-09-16T21:19:20.432Z"
   },
   {
    "duration": 348,
    "start_time": "2021-09-16T21:19:32.499Z"
   },
   {
    "duration": 4,
    "start_time": "2021-09-16T21:20:06.966Z"
   },
   {
    "duration": 94,
    "start_time": "2021-09-16T21:20:06.973Z"
   },
   {
    "duration": 24,
    "start_time": "2021-09-16T21:20:07.070Z"
   },
   {
    "duration": 32,
    "start_time": "2021-09-16T21:20:07.098Z"
   },
   {
    "duration": 597,
    "start_time": "2021-09-16T21:20:07.133Z"
   },
   {
    "duration": 5,
    "start_time": "2021-09-16T21:20:07.733Z"
   },
   {
    "duration": 33,
    "start_time": "2021-09-16T21:20:07.742Z"
   },
   {
    "duration": 9,
    "start_time": "2021-09-16T21:20:07.778Z"
   },
   {
    "duration": 15,
    "start_time": "2021-09-16T21:20:07.791Z"
   },
   {
    "duration": 17,
    "start_time": "2021-09-16T21:20:07.809Z"
   },
   {
    "duration": 59443,
    "start_time": "2021-09-16T21:20:07.861Z"
   },
   {
    "duration": 7693,
    "start_time": "2021-09-16T21:21:07.307Z"
   },
   {
    "duration": 3569,
    "start_time": "2021-09-16T21:21:15.003Z"
   },
   {
    "duration": 305,
    "start_time": "2021-09-16T21:21:18.574Z"
   },
   {
    "duration": 6,
    "start_time": "2021-09-16T21:21:18.875Z"
   },
   {
    "duration": 264,
    "start_time": "2021-09-16T21:22:34.811Z"
   },
   {
    "duration": 257,
    "start_time": "2021-09-16T21:22:46.690Z"
   },
   {
    "duration": 255,
    "start_time": "2021-09-16T21:22:51.593Z"
   },
   {
    "duration": 262,
    "start_time": "2021-09-16T21:23:25.618Z"
   },
   {
    "duration": 254,
    "start_time": "2021-09-16T21:23:49.595Z"
   },
   {
    "duration": 270,
    "start_time": "2021-09-16T21:24:28.931Z"
   },
   {
    "duration": 299,
    "start_time": "2021-09-16T21:24:35.747Z"
   },
   {
    "duration": 315,
    "start_time": "2021-09-16T21:24:44.459Z"
   },
   {
    "duration": 274,
    "start_time": "2021-09-16T21:24:52.627Z"
   },
   {
    "duration": 270,
    "start_time": "2021-09-16T21:26:40.894Z"
   },
   {
    "duration": 743,
    "start_time": "2021-09-16T21:26:53.053Z"
   },
   {
    "duration": 1137,
    "start_time": "2021-09-16T21:26:56.356Z"
   },
   {
    "duration": 390,
    "start_time": "2021-09-16T21:27:07.380Z"
   },
   {
    "duration": 242,
    "start_time": "2021-09-16T21:27:21.981Z"
   },
   {
    "duration": 260,
    "start_time": "2021-09-16T21:27:27.035Z"
   },
   {
    "duration": 20,
    "start_time": "2021-09-16T21:39:26.513Z"
   },
   {
    "duration": 10,
    "start_time": "2021-09-16T21:39:26.673Z"
   },
   {
    "duration": 11,
    "start_time": "2021-09-16T21:39:26.810Z"
   },
   {
    "duration": 5,
    "start_time": "2021-09-16T21:39:26.977Z"
   },
   {
    "duration": 14,
    "start_time": "2021-09-16T21:39:30.073Z"
   },
   {
    "duration": 9,
    "start_time": "2021-09-16T21:39:30.270Z"
   },
   {
    "duration": 9,
    "start_time": "2021-09-16T21:39:30.416Z"
   },
   {
    "duration": 5,
    "start_time": "2021-09-16T21:39:30.585Z"
   },
   {
    "duration": 13,
    "start_time": "2021-09-16T21:39:34.697Z"
   },
   {
    "duration": 9,
    "start_time": "2021-09-16T21:39:34.886Z"
   },
   {
    "duration": 10,
    "start_time": "2021-09-16T21:39:35.058Z"
   },
   {
    "duration": 4,
    "start_time": "2021-09-16T21:39:35.208Z"
   },
   {
    "duration": 5,
    "start_time": "2021-09-16T21:39:37.524Z"
   },
   {
    "duration": 79,
    "start_time": "2021-09-16T21:39:37.531Z"
   },
   {
    "duration": 22,
    "start_time": "2021-09-16T21:39:37.614Z"
   },
   {
    "duration": 26,
    "start_time": "2021-09-16T21:39:37.663Z"
   },
   {
    "duration": 525,
    "start_time": "2021-09-16T21:39:37.691Z"
   },
   {
    "duration": 6,
    "start_time": "2021-09-16T21:39:38.218Z"
   },
   {
    "duration": 41,
    "start_time": "2021-09-16T21:39:38.226Z"
   },
   {
    "duration": 8,
    "start_time": "2021-09-16T21:39:38.270Z"
   },
   {
    "duration": 14,
    "start_time": "2021-09-16T21:39:38.281Z"
   },
   {
    "duration": 10,
    "start_time": "2021-09-16T21:39:38.297Z"
   },
   {
    "duration": 1399,
    "start_time": "2021-09-16T21:39:57.690Z"
   },
   {
    "duration": 104,
    "start_time": "2021-09-16T21:39:59.092Z"
   },
   {
    "duration": 34,
    "start_time": "2021-09-16T21:39:59.201Z"
   },
   {
    "duration": 28,
    "start_time": "2021-09-16T21:39:59.262Z"
   },
   {
    "duration": 704,
    "start_time": "2021-09-16T21:39:59.294Z"
   },
   {
    "duration": 6,
    "start_time": "2021-09-16T21:40:00.000Z"
   },
   {
    "duration": 52,
    "start_time": "2021-09-16T21:40:00.009Z"
   },
   {
    "duration": 9,
    "start_time": "2021-09-16T21:40:00.063Z"
   },
   {
    "duration": 24,
    "start_time": "2021-09-16T21:40:00.075Z"
   },
   {
    "duration": 26,
    "start_time": "2021-09-16T21:40:00.101Z"
   },
   {
    "duration": 96982,
    "start_time": "2021-09-16T21:40:00.129Z"
   },
   {
    "duration": 10168,
    "start_time": "2021-09-16T21:41:37.114Z"
   },
   {
    "duration": 2989,
    "start_time": "2021-09-16T21:41:47.285Z"
   },
   {
    "duration": 336,
    "start_time": "2021-09-16T21:41:50.277Z"
   },
   {
    "duration": 312,
    "start_time": "2021-09-16T21:41:50.615Z"
   },
   {
    "duration": 5,
    "start_time": "2021-09-16T21:42:08.661Z"
   },
   {
    "duration": 73,
    "start_time": "2021-09-16T21:42:08.669Z"
   },
   {
    "duration": 34,
    "start_time": "2021-09-16T21:42:08.745Z"
   },
   {
    "duration": 24,
    "start_time": "2021-09-16T21:42:08.782Z"
   },
   {
    "duration": 620,
    "start_time": "2021-09-16T21:42:08.808Z"
   },
   {
    "duration": 5,
    "start_time": "2021-09-16T21:42:09.431Z"
   },
   {
    "duration": 35,
    "start_time": "2021-09-16T21:42:09.438Z"
   },
   {
    "duration": 7,
    "start_time": "2021-09-16T21:42:09.475Z"
   },
   {
    "duration": 13,
    "start_time": "2021-09-16T21:42:09.486Z"
   },
   {
    "duration": 4,
    "start_time": "2021-09-16T21:42:09.502Z"
   },
   {
    "duration": 55625,
    "start_time": "2021-09-16T21:42:09.509Z"
   },
   {
    "duration": 9032,
    "start_time": "2021-09-16T21:43:05.136Z"
   },
   {
    "duration": 2501,
    "start_time": "2021-09-16T21:43:14.171Z"
   },
   {
    "duration": 306,
    "start_time": "2021-09-16T21:43:16.674Z"
   },
   {
    "duration": 283,
    "start_time": "2021-09-16T21:43:16.982Z"
   },
   {
    "duration": 141,
    "start_time": "2021-09-17T06:56:05.452Z"
   },
   {
    "duration": 264,
    "start_time": "2021-09-17T12:42:30.468Z"
   },
   {
    "duration": 1041,
    "start_time": "2021-09-17T12:54:07.700Z"
   },
   {
    "duration": 363,
    "start_time": "2021-09-17T12:58:31.359Z"
   },
   {
    "duration": 5,
    "start_time": "2021-09-17T12:59:34.389Z"
   },
   {
    "duration": 3,
    "start_time": "2021-09-17T12:59:39.011Z"
   },
   {
    "duration": 61,
    "start_time": "2021-09-17T12:59:39.022Z"
   },
   {
    "duration": 17,
    "start_time": "2021-09-17T12:59:39.085Z"
   },
   {
    "duration": 396,
    "start_time": "2021-09-17T12:59:39.104Z"
   },
   {
    "duration": 4,
    "start_time": "2021-09-17T12:59:39.502Z"
   },
   {
    "duration": 949,
    "start_time": "2021-09-17T12:59:39.507Z"
   },
   {
    "duration": -213,
    "start_time": "2021-09-17T12:59:40.671Z"
   },
   {
    "duration": -216,
    "start_time": "2021-09-17T12:59:40.675Z"
   },
   {
    "duration": -216,
    "start_time": "2021-09-17T12:59:40.676Z"
   },
   {
    "duration": -217,
    "start_time": "2021-09-17T12:59:40.678Z"
   },
   {
    "duration": -222,
    "start_time": "2021-09-17T12:59:40.684Z"
   },
   {
    "duration": -225,
    "start_time": "2021-09-17T12:59:40.687Z"
   },
   {
    "duration": -224,
    "start_time": "2021-09-17T12:59:40.688Z"
   },
   {
    "duration": -226,
    "start_time": "2021-09-17T12:59:40.691Z"
   },
   {
    "duration": -226,
    "start_time": "2021-09-17T12:59:40.692Z"
   },
   {
    "duration": 4,
    "start_time": "2021-09-17T13:00:01.959Z"
   },
   {
    "duration": 934,
    "start_time": "2021-09-17T13:00:03.175Z"
   },
   {
    "duration": -211,
    "start_time": "2021-09-17T13:00:04.322Z"
   },
   {
    "duration": 3210,
    "start_time": "2021-09-17T13:00:04.890Z"
   },
   {
    "duration": -199,
    "start_time": "2021-09-17T13:00:08.301Z"
   },
   {
    "duration": -200,
    "start_time": "2021-09-17T13:00:08.303Z"
   },
   {
    "duration": -204,
    "start_time": "2021-09-17T13:00:08.307Z"
   },
   {
    "duration": 4,
    "start_time": "2021-09-17T13:00:14.214Z"
   },
   {
    "duration": 15,
    "start_time": "2021-09-17T13:00:14.854Z"
   },
   {
    "duration": 7,
    "start_time": "2021-09-17T13:00:15.397Z"
   },
   {
    "duration": 9,
    "start_time": "2021-09-17T13:00:17.134Z"
   },
   {
    "duration": 4,
    "start_time": "2021-09-17T13:00:21.597Z"
   },
   {
    "duration": 128804,
    "start_time": "2021-09-17T13:00:22.305Z"
   },
   {
    "duration": 3,
    "start_time": "2021-09-17T13:02:31.111Z"
   },
   {
    "duration": 3,
    "start_time": "2021-09-17T13:02:51.527Z"
   },
   {
    "duration": 4,
    "start_time": "2021-09-17T13:35:49.563Z"
   },
   {
    "duration": 248,
    "start_time": "2021-09-17T13:37:26.147Z"
   },
   {
    "duration": 268,
    "start_time": "2021-09-17T13:38:45.428Z"
   },
   {
    "duration": 3,
    "start_time": "2021-09-17T13:38:55.303Z"
   },
   {
    "duration": 53,
    "start_time": "2021-09-17T13:38:55.308Z"
   },
   {
    "duration": 14,
    "start_time": "2021-09-17T13:38:55.363Z"
   },
   {
    "duration": 279,
    "start_time": "2021-09-17T13:38:55.379Z"
   },
   {
    "duration": 4,
    "start_time": "2021-09-17T13:38:55.659Z"
   },
   {
    "duration": 19,
    "start_time": "2021-09-17T13:38:55.665Z"
   },
   {
    "duration": 8,
    "start_time": "2021-09-17T13:38:55.685Z"
   },
   {
    "duration": 254,
    "start_time": "2021-09-17T13:38:55.695Z"
   },
   {
    "duration": -507,
    "start_time": "2021-09-17T13:38:56.459Z"
   },
   {
    "duration": -511,
    "start_time": "2021-09-17T13:38:56.465Z"
   },
   {
    "duration": -512,
    "start_time": "2021-09-17T13:38:56.467Z"
   },
   {
    "duration": -512,
    "start_time": "2021-09-17T13:38:56.469Z"
   },
   {
    "duration": -515,
    "start_time": "2021-09-17T13:38:56.473Z"
   },
   {
    "duration": -515,
    "start_time": "2021-09-17T13:38:56.475Z"
   },
   {
    "duration": -521,
    "start_time": "2021-09-17T13:38:56.482Z"
   },
   {
    "duration": 7,
    "start_time": "2021-09-17T13:39:24.621Z"
   },
   {
    "duration": 8,
    "start_time": "2021-09-17T13:39:25.708Z"
   },
   {
    "duration": 3,
    "start_time": "2021-09-17T13:39:26.997Z"
   },
   {
    "duration": 125262,
    "start_time": "2021-09-17T13:39:28.909Z"
   },
   {
    "duration": 10,
    "start_time": "2021-09-17T14:06:46.045Z"
   },
   {
    "duration": 236,
    "start_time": "2021-09-17T14:06:48.666Z"
   },
   {
    "duration": 3,
    "start_time": "2021-09-17T14:06:57.071Z"
   },
   {
    "duration": 51,
    "start_time": "2021-09-17T14:06:57.075Z"
   },
   {
    "duration": 15,
    "start_time": "2021-09-17T14:06:57.129Z"
   },
   {
    "duration": 266,
    "start_time": "2021-09-17T14:06:57.146Z"
   },
   {
    "duration": 4,
    "start_time": "2021-09-17T14:06:57.413Z"
   },
   {
    "duration": 21,
    "start_time": "2021-09-17T14:06:57.418Z"
   },
   {
    "duration": 11,
    "start_time": "2021-09-17T14:06:57.440Z"
   },
   {
    "duration": 8,
    "start_time": "2021-09-17T14:06:57.453Z"
   },
   {
    "duration": 3,
    "start_time": "2021-09-17T14:06:57.463Z"
   },
   {
    "duration": 81,
    "start_time": "2021-09-17T14:06:57.468Z"
   },
   {
    "duration": 257,
    "start_time": "2021-09-17T14:06:57.552Z"
   },
   {
    "duration": -467,
    "start_time": "2021-09-17T14:06:58.278Z"
   },
   {
    "duration": -467,
    "start_time": "2021-09-17T14:06:58.279Z"
   },
   {
    "duration": -480,
    "start_time": "2021-09-17T14:06:58.292Z"
   },
   {
    "duration": -481,
    "start_time": "2021-09-17T14:06:58.294Z"
   },
   {
    "duration": 9,
    "start_time": "2021-09-17T14:11:40.333Z"
   },
   {
    "duration": 8,
    "start_time": "2021-09-17T14:11:41.901Z"
   },
   {
    "duration": 3,
    "start_time": "2021-09-17T14:11:42.918Z"
   },
   {
    "duration": 11,
    "start_time": "2021-09-17T14:11:44.671Z"
   },
   {
    "duration": 244,
    "start_time": "2021-09-17T14:12:34.342Z"
   },
   {
    "duration": 252,
    "start_time": "2021-09-17T14:13:21.287Z"
   },
   {
    "duration": 269,
    "start_time": "2021-09-17T14:13:34.805Z"
   },
   {
    "duration": 243,
    "start_time": "2021-09-17T14:16:21.272Z"
   },
   {
    "duration": 3,
    "start_time": "2021-09-17T14:16:36.041Z"
   },
   {
    "duration": 4,
    "start_time": "2021-09-17T14:16:44.384Z"
   },
   {
    "duration": 4,
    "start_time": "2021-09-17T14:16:52.282Z"
   },
   {
    "duration": 252,
    "start_time": "2021-09-17T14:33:35.648Z"
   },
   {
    "duration": 3,
    "start_time": "2021-09-17T14:33:39.133Z"
   },
   {
    "duration": 52,
    "start_time": "2021-09-17T14:33:39.138Z"
   },
   {
    "duration": 14,
    "start_time": "2021-09-17T14:33:39.192Z"
   },
   {
    "duration": 268,
    "start_time": "2021-09-17T14:33:39.208Z"
   },
   {
    "duration": 3,
    "start_time": "2021-09-17T14:33:39.478Z"
   },
   {
    "duration": 20,
    "start_time": "2021-09-17T14:33:39.483Z"
   },
   {
    "duration": 7,
    "start_time": "2021-09-17T14:33:39.504Z"
   },
   {
    "duration": 10,
    "start_time": "2021-09-17T14:33:39.513Z"
   },
   {
    "duration": 4,
    "start_time": "2021-09-17T14:33:39.550Z"
   },
   {
    "duration": 17,
    "start_time": "2021-09-17T14:33:39.557Z"
   },
   {
    "duration": 311,
    "start_time": "2021-09-17T14:33:39.576Z"
   },
   {
    "duration": -10,
    "start_time": "2021-09-17T14:33:39.899Z"
   },
   {
    "duration": -17,
    "start_time": "2021-09-17T14:33:39.906Z"
   },
   {
    "duration": -18,
    "start_time": "2021-09-17T14:33:39.908Z"
   },
   {
    "duration": -19,
    "start_time": "2021-09-17T14:33:39.910Z"
   },
   {
    "duration": -39,
    "start_time": "2021-09-17T14:33:39.931Z"
   },
   {
    "duration": 267,
    "start_time": "2021-09-17T14:33:53.586Z"
   },
   {
    "duration": 4,
    "start_time": "2021-09-17T15:17:16.715Z"
   },
   {
    "duration": 4,
    "start_time": "2021-09-17T15:17:19.171Z"
   },
   {
    "duration": 1626,
    "start_time": "2021-09-17T19:44:32.825Z"
   },
   {
    "duration": 55,
    "start_time": "2021-09-17T19:44:34.453Z"
   },
   {
    "duration": 15,
    "start_time": "2021-09-17T19:44:34.510Z"
   },
   {
    "duration": 359,
    "start_time": "2021-09-17T19:44:34.526Z"
   },
   {
    "duration": 4,
    "start_time": "2021-09-17T19:44:34.886Z"
   },
   {
    "duration": 16,
    "start_time": "2021-09-17T19:44:34.899Z"
   },
   {
    "duration": 7,
    "start_time": "2021-09-17T19:44:34.917Z"
   },
   {
    "duration": 9,
    "start_time": "2021-09-17T19:44:34.926Z"
   },
   {
    "duration": 3,
    "start_time": "2021-09-17T19:44:34.938Z"
   },
   {
    "duration": 332,
    "start_time": "2021-09-17T19:44:34.943Z"
   },
   {
    "duration": 703,
    "start_time": "2021-09-17T19:44:34.573Z"
   },
   {
    "duration": 695,
    "start_time": "2021-09-17T19:44:34.583Z"
   },
   {
    "duration": 695,
    "start_time": "2021-09-17T19:44:34.584Z"
   },
   {
    "duration": 689,
    "start_time": "2021-09-17T19:44:34.591Z"
   },
   {
    "duration": 685,
    "start_time": "2021-09-17T19:44:34.596Z"
   },
   {
    "duration": 683,
    "start_time": "2021-09-17T19:44:34.598Z"
   },
   {
    "duration": 182,
    "start_time": "2021-09-17T19:50:58.227Z"
   },
   {
    "duration": 3,
    "start_time": "2021-09-17T19:51:02.648Z"
   },
   {
    "duration": 63,
    "start_time": "2021-09-17T19:51:02.653Z"
   },
   {
    "duration": 12,
    "start_time": "2021-09-17T19:51:02.718Z"
   },
   {
    "duration": 282,
    "start_time": "2021-09-17T19:51:02.732Z"
   },
   {
    "duration": 3,
    "start_time": "2021-09-17T19:51:03.016Z"
   },
   {
    "duration": 19,
    "start_time": "2021-09-17T19:51:03.021Z"
   },
   {
    "duration": 6,
    "start_time": "2021-09-17T19:51:03.041Z"
   },
   {
    "duration": 8,
    "start_time": "2021-09-17T19:51:03.049Z"
   },
   {
    "duration": 3,
    "start_time": "2021-09-17T19:51:03.059Z"
   },
   {
    "duration": 2,
    "start_time": "2021-09-17T19:51:03.101Z"
   },
   {
    "duration": 181,
    "start_time": "2021-09-17T19:51:03.105Z"
   },
   {
    "duration": 705,
    "start_time": "2021-09-17T19:51:02.583Z"
   },
   {
    "duration": 704,
    "start_time": "2021-09-17T19:51:02.585Z"
   },
   {
    "duration": 695,
    "start_time": "2021-09-17T19:51:02.596Z"
   },
   {
    "duration": 694,
    "start_time": "2021-09-17T19:51:02.598Z"
   },
   {
    "duration": 691,
    "start_time": "2021-09-17T19:51:02.602Z"
   },
   {
    "duration": 3,
    "start_time": "2021-09-17T19:51:24.971Z"
   },
   {
    "duration": 941,
    "start_time": "2021-09-17T19:51:25.710Z"
   },
   {
    "duration": 24,
    "start_time": "2021-09-17T19:51:32.906Z"
   },
   {
    "duration": 26,
    "start_time": "2021-09-17T19:51:51.408Z"
   },
   {
    "duration": 35,
    "start_time": "2021-09-17T19:51:59.648Z"
   },
   {
    "duration": 36,
    "start_time": "2021-09-17T19:52:01.710Z"
   },
   {
    "duration": 181,
    "start_time": "2021-09-17T20:00:41.326Z"
   },
   {
    "duration": 3,
    "start_time": "2021-09-17T20:01:01.705Z"
   },
   {
    "duration": 50,
    "start_time": "2021-09-17T20:01:04.766Z"
   },
   {
    "duration": 15,
    "start_time": "2021-09-17T20:01:05.290Z"
   },
   {
    "duration": 4,
    "start_time": "2021-09-17T20:01:07.393Z"
   },
   {
    "duration": 52,
    "start_time": "2021-09-17T20:01:07.399Z"
   },
   {
    "duration": 14,
    "start_time": "2021-09-17T20:01:07.452Z"
   },
   {
    "duration": 336,
    "start_time": "2021-09-17T20:01:07.467Z"
   },
   {
    "duration": 4,
    "start_time": "2021-09-17T20:01:07.804Z"
   },
   {
    "duration": 20,
    "start_time": "2021-09-17T20:01:07.809Z"
   },
   {
    "duration": 6,
    "start_time": "2021-09-17T20:01:07.831Z"
   },
   {
    "duration": 5,
    "start_time": "2021-09-17T20:01:07.840Z"
   },
   {
    "duration": 4,
    "start_time": "2021-09-17T20:01:07.847Z"
   },
   {
    "duration": 48,
    "start_time": "2021-09-17T20:01:07.852Z"
   },
   {
    "duration": 5,
    "start_time": "2021-09-17T20:01:07.902Z"
   },
   {
    "duration": 226,
    "start_time": "2021-09-17T20:01:07.908Z"
   },
   {
    "duration": 707,
    "start_time": "2021-09-17T20:01:07.429Z"
   },
   {
    "duration": 700,
    "start_time": "2021-09-17T20:01:07.437Z"
   },
   {
    "duration": 699,
    "start_time": "2021-09-17T20:01:07.439Z"
   },
   {
    "duration": 696,
    "start_time": "2021-09-17T20:01:07.443Z"
   },
   {
    "duration": 205,
    "start_time": "2021-09-17T20:01:35.591Z"
   },
   {
    "duration": 178,
    "start_time": "2021-09-17T20:02:28.379Z"
   },
   {
    "duration": 181,
    "start_time": "2021-09-17T20:03:08.011Z"
   },
   {
    "duration": 216,
    "start_time": "2021-09-17T20:04:34.833Z"
   },
   {
    "duration": 4,
    "start_time": "2021-09-17T20:05:27.233Z"
   },
   {
    "duration": 259,
    "start_time": "2021-09-17T20:05:30.457Z"
   },
   {
    "duration": 200,
    "start_time": "2021-09-17T20:05:46.992Z"
   },
   {
    "duration": 2729,
    "start_time": "2021-09-17T20:06:52.962Z"
   },
   {
    "duration": 31,
    "start_time": "2021-09-17T20:07:08.414Z"
   },
   {
    "duration": 33,
    "start_time": "2021-09-17T20:07:16.343Z"
   },
   {
    "duration": 36,
    "start_time": "2021-09-17T20:07:27.805Z"
   },
   {
    "duration": 253,
    "start_time": "2021-09-17T20:07:48.576Z"
   },
   {
    "duration": 1427,
    "start_time": "2021-09-18T09:32:51.555Z"
   },
   {
    "duration": 75,
    "start_time": "2021-09-18T09:32:52.984Z"
   },
   {
    "duration": 26,
    "start_time": "2021-09-18T09:32:53.062Z"
   },
   {
    "duration": 596,
    "start_time": "2021-09-18T09:32:53.091Z"
   },
   {
    "duration": 6,
    "start_time": "2021-09-18T09:32:53.690Z"
   },
   {
    "duration": 29,
    "start_time": "2021-09-18T09:32:53.699Z"
   },
   {
    "duration": 37,
    "start_time": "2021-09-18T09:32:53.731Z"
   },
   {
    "duration": 11,
    "start_time": "2021-09-18T09:32:53.772Z"
   },
   {
    "duration": 4,
    "start_time": "2021-09-18T09:32:53.786Z"
   },
   {
    "duration": 74,
    "start_time": "2021-09-18T09:32:53.792Z"
   },
   {
    "duration": 4,
    "start_time": "2021-09-18T09:32:53.870Z"
   },
   {
    "duration": 398,
    "start_time": "2021-09-18T09:32:53.877Z"
   },
   {
    "duration": -359,
    "start_time": "2021-09-18T09:32:54.637Z"
   },
   {
    "duration": -361,
    "start_time": "2021-09-18T09:32:54.641Z"
   },
   {
    "duration": -363,
    "start_time": "2021-09-18T09:32:54.644Z"
   },
   {
    "duration": -365,
    "start_time": "2021-09-18T09:32:54.647Z"
   },
   {
    "duration": 13584,
    "start_time": "2021-09-18T09:33:16.155Z"
   },
   {
    "duration": 8261,
    "start_time": "2021-09-18T09:33:30.741Z"
   },
   {
    "duration": -377,
    "start_time": "2021-09-18T09:34:16.699Z"
   },
   {
    "duration": 253,
    "start_time": "2021-09-18T09:34:18.252Z"
   },
   {
    "duration": 367,
    "start_time": "2021-09-18T09:34:26.532Z"
   },
   {
    "duration": 10763,
    "start_time": "2021-09-18T09:34:42.931Z"
   },
   {
    "duration": 4981,
    "start_time": "2021-09-18T09:34:53.697Z"
   },
   {
    "duration": 412,
    "start_time": "2021-09-18T09:35:01.460Z"
   },
   {
    "duration": 9077,
    "start_time": "2021-09-18T09:35:06.659Z"
   },
   {
    "duration": 4737,
    "start_time": "2021-09-18T09:38:46.511Z"
   },
   {
    "duration": 4692,
    "start_time": "2021-09-18T09:39:00.775Z"
   },
   {
    "duration": 4659,
    "start_time": "2021-09-18T09:39:15.624Z"
   },
   {
    "duration": 4558,
    "start_time": "2021-09-18T09:39:23.038Z"
   },
   {
    "duration": 290,
    "start_time": "2021-09-18T09:44:05.099Z"
   },
   {
    "duration": 254,
    "start_time": "2021-09-18T09:44:13.060Z"
   },
   {
    "duration": -385,
    "start_time": "2021-09-18T09:44:58.495Z"
   },
   {
    "duration": 87647,
    "start_time": "2021-09-18T09:45:02.820Z"
   },
   {
    "duration": 6668,
    "start_time": "2021-09-18T09:46:31.886Z"
   },
   {
    "duration": 179844,
    "start_time": "2021-09-18T09:46:41.532Z"
   },
   {
    "duration": 3,
    "start_time": "2021-09-18T10:00:09.881Z"
   },
   {
    "duration": 234,
    "start_time": "2021-09-18T10:00:28.002Z"
   },
   {
    "duration": 739,
    "start_time": "2021-09-18T10:00:50.450Z"
   },
   {
    "duration": 75,
    "start_time": "2021-09-18T10:07:10.479Z"
   },
   {
    "duration": 5,
    "start_time": "2021-09-18T10:07:14.449Z"
   },
   {
    "duration": 5,
    "start_time": "2021-09-18T10:11:12.934Z"
   },
   {
    "duration": 29,
    "start_time": "2021-09-18T10:22:04.243Z"
   },
   {
    "duration": 551,
    "start_time": "2021-09-18T10:22:41.871Z"
   },
   {
    "duration": 5,
    "start_time": "2021-09-18T10:22:57.515Z"
   },
   {
    "duration": 476,
    "start_time": "2021-09-18T10:23:01.068Z"
   },
   {
    "duration": 5,
    "start_time": "2021-09-18T10:23:38.699Z"
   },
   {
    "duration": 3351,
    "start_time": "2021-09-18T10:23:41.444Z"
   },
   {
    "duration": 253,
    "start_time": "2021-09-18T10:24:51.165Z"
   },
   {
    "duration": 6,
    "start_time": "2021-09-18T10:25:04.195Z"
   },
   {
    "duration": 5,
    "start_time": "2021-09-18T10:25:05.075Z"
   },
   {
    "duration": 119,
    "start_time": "2021-09-18T10:25:06.654Z"
   },
   {
    "duration": 3375,
    "start_time": "2021-09-18T10:25:06.868Z"
   },
   {
    "duration": 9176,
    "start_time": "2021-09-18T10:25:10.246Z"
   },
   {
    "duration": 504,
    "start_time": "2021-09-18T10:25:44.419Z"
   },
   {
    "duration": 5,
    "start_time": "2021-09-18T10:25:47.384Z"
   },
   {
    "duration": 572,
    "start_time": "2021-09-18T10:25:50.932Z"
   },
   {
    "duration": 6,
    "start_time": "2021-09-18T10:26:21.092Z"
   },
   {
    "duration": 3575,
    "start_time": "2021-09-18T10:26:23.805Z"
   },
   {
    "duration": 7,
    "start_time": "2021-09-18T10:27:23.975Z"
   },
   {
    "duration": 3328,
    "start_time": "2021-09-18T10:27:26.374Z"
   },
   {
    "duration": 52,
    "start_time": "2021-09-18T10:29:57.822Z"
   },
   {
    "duration": 3335,
    "start_time": "2021-09-18T10:29:59.197Z"
   },
   {
    "duration": 8909,
    "start_time": "2021-09-18T10:30:02.534Z"
   },
   {
    "duration": 3637,
    "start_time": "2021-09-18T10:30:11.446Z"
   },
   {
    "duration": 272,
    "start_time": "2021-09-18T10:30:18.141Z"
   },
   {
    "duration": 352,
    "start_time": "2021-09-18T10:30:31.502Z"
   },
   {
    "duration": 284,
    "start_time": "2021-09-18T10:31:05.478Z"
   },
   {
    "duration": 276,
    "start_time": "2021-09-18T10:35:23.006Z"
   },
   {
    "duration": 5,
    "start_time": "2021-09-18T10:35:27.967Z"
   },
   {
    "duration": 120,
    "start_time": "2021-09-18T10:35:57.793Z"
   },
   {
    "duration": 384,
    "start_time": "2021-09-18T10:36:01.226Z"
   },
   {
    "duration": 381,
    "start_time": "2021-09-18T10:36:18.016Z"
   },
   {
    "duration": 445,
    "start_time": "2021-09-18T10:36:31.611Z"
   },
   {
    "duration": 397,
    "start_time": "2021-09-18T10:39:16.787Z"
   },
   {
    "duration": 11,
    "start_time": "2021-09-18T10:47:52.722Z"
   },
   {
    "duration": 80,
    "start_time": "2021-09-18T10:48:41.766Z"
   },
   {
    "duration": 6,
    "start_time": "2021-09-18T10:48:55.334Z"
   },
   {
    "duration": 88,
    "start_time": "2021-09-18T10:50:26.831Z"
   },
   {
    "duration": 75,
    "start_time": "2021-09-18T11:04:56.200Z"
   },
   {
    "duration": 3374,
    "start_time": "2021-09-18T11:04:56.368Z"
   },
   {
    "duration": 10133,
    "start_time": "2021-09-18T11:04:59.746Z"
   },
   {
    "duration": 3688,
    "start_time": "2021-09-18T11:05:09.881Z"
   },
   {
    "duration": 281,
    "start_time": "2021-09-18T11:05:13.571Z"
   },
   {
    "duration": 412,
    "start_time": "2021-09-18T11:05:13.855Z"
   },
   {
    "duration": 5,
    "start_time": "2021-09-18T11:06:28.673Z"
   },
   {
    "duration": 65,
    "start_time": "2021-09-18T11:06:28.680Z"
   },
   {
    "duration": 34,
    "start_time": "2021-09-18T11:06:28.747Z"
   },
   {
    "duration": 487,
    "start_time": "2021-09-18T11:06:28.783Z"
   },
   {
    "duration": 5,
    "start_time": "2021-09-18T11:06:29.272Z"
   },
   {
    "duration": 32,
    "start_time": "2021-09-18T11:06:29.279Z"
   },
   {
    "duration": 11,
    "start_time": "2021-09-18T11:06:29.313Z"
   },
   {
    "duration": 8,
    "start_time": "2021-09-18T11:06:29.326Z"
   },
   {
    "duration": 30,
    "start_time": "2021-09-18T11:06:29.337Z"
   },
   {
    "duration": 7,
    "start_time": "2021-09-18T11:06:29.370Z"
   },
   {
    "duration": 8,
    "start_time": "2021-09-18T11:06:29.379Z"
   },
   {
    "duration": 10,
    "start_time": "2021-09-18T11:06:29.389Z"
   },
   {
    "duration": 173,
    "start_time": "2021-09-18T11:06:29.402Z"
   },
   {
    "duration": 3453,
    "start_time": "2021-09-18T11:06:29.667Z"
   },
   {
    "duration": 10468,
    "start_time": "2021-09-18T11:06:33.122Z"
   },
   {
    "duration": 5185,
    "start_time": "2021-09-18T11:06:43.593Z"
   },
   {
    "duration": 363,
    "start_time": "2021-09-18T11:06:48.780Z"
   },
   {
    "duration": 480,
    "start_time": "2021-09-18T11:06:49.145Z"
   },
   {
    "duration": 1512,
    "start_time": "2021-09-19T09:32:28.943Z"
   },
   {
    "duration": 82,
    "start_time": "2021-09-19T09:32:30.458Z"
   },
   {
    "duration": 24,
    "start_time": "2021-09-19T09:32:30.543Z"
   },
   {
    "duration": 595,
    "start_time": "2021-09-19T09:32:30.571Z"
   },
   {
    "duration": 7,
    "start_time": "2021-09-19T09:32:31.168Z"
   },
   {
    "duration": 46,
    "start_time": "2021-09-19T09:32:31.177Z"
   },
   {
    "duration": 11,
    "start_time": "2021-09-19T09:32:31.225Z"
   },
   {
    "duration": 6,
    "start_time": "2021-09-19T09:32:31.239Z"
   },
   {
    "duration": 9,
    "start_time": "2021-09-19T09:32:31.249Z"
   },
   {
    "duration": 25,
    "start_time": "2021-09-19T09:32:31.261Z"
   },
   {
    "duration": 16,
    "start_time": "2021-09-19T09:32:31.288Z"
   },
   {
    "duration": 12,
    "start_time": "2021-09-19T09:32:31.306Z"
   },
   {
    "duration": 1103,
    "start_time": "2021-09-19T09:32:31.320Z"
   },
   {
    "duration": -30,
    "start_time": "2021-09-19T09:32:32.455Z"
   },
   {
    "duration": -33,
    "start_time": "2021-09-19T09:32:32.460Z"
   },
   {
    "duration": -64,
    "start_time": "2021-09-19T09:32:32.492Z"
   },
   {
    "duration": -66,
    "start_time": "2021-09-19T09:32:32.495Z"
   },
   {
    "duration": -79,
    "start_time": "2021-09-19T09:32:32.510Z"
   },
   {
    "duration": 5,
    "start_time": "2021-09-19T09:33:56.766Z"
   },
   {
    "duration": 68,
    "start_time": "2021-09-19T09:34:03.755Z"
   },
   {
    "duration": 5,
    "start_time": "2021-09-19T09:34:21.263Z"
   },
   {
    "duration": 144,
    "start_time": "2021-09-19T09:34:25.878Z"
   },
   {
    "duration": 58,
    "start_time": "2021-09-19T09:34:28.560Z"
   },
   {
    "duration": 1835,
    "start_time": "2021-09-19T18:21:22.975Z"
   },
   {
    "duration": 60,
    "start_time": "2021-09-19T18:25:32.752Z"
   },
   {
    "duration": 1031,
    "start_time": "2021-09-19T18:27:03.841Z"
   },
   {
    "duration": 56,
    "start_time": "2021-09-19T18:27:04.874Z"
   },
   {
    "duration": 15,
    "start_time": "2021-09-19T18:27:04.933Z"
   },
   {
    "duration": 356,
    "start_time": "2021-09-19T18:27:04.950Z"
   },
   {
    "duration": 4,
    "start_time": "2021-09-19T18:27:05.308Z"
   },
   {
    "duration": 18,
    "start_time": "2021-09-19T18:27:05.314Z"
   },
   {
    "duration": 7,
    "start_time": "2021-09-19T18:27:05.333Z"
   },
   {
    "duration": 8,
    "start_time": "2021-09-19T18:27:05.343Z"
   },
   {
    "duration": 8,
    "start_time": "2021-09-19T18:27:05.353Z"
   },
   {
    "duration": 12,
    "start_time": "2021-09-19T18:27:05.363Z"
   },
   {
    "duration": 23,
    "start_time": "2021-09-19T18:27:05.376Z"
   },
   {
    "duration": 4,
    "start_time": "2021-09-19T18:27:05.401Z"
   },
   {
    "duration": 95,
    "start_time": "2021-09-19T18:27:05.407Z"
   },
   {
    "duration": 2258,
    "start_time": "2021-09-19T18:27:05.504Z"
   },
   {
    "duration": 7995,
    "start_time": "2021-09-19T18:27:07.763Z"
   },
   {
    "duration": 3048,
    "start_time": "2021-09-19T18:27:15.760Z"
   },
   {
    "duration": 211,
    "start_time": "2021-09-19T18:27:18.811Z"
   },
   {
    "duration": 270,
    "start_time": "2021-09-19T18:27:19.024Z"
   },
   {
    "duration": 227,
    "start_time": "2021-09-19T18:27:58.956Z"
   },
   {
    "duration": 3,
    "start_time": "2021-09-19T18:29:46.196Z"
   },
   {
    "duration": 3,
    "start_time": "2021-09-19T18:29:47.432Z"
   },
   {
    "duration": 4,
    "start_time": "2021-09-19T18:29:47.580Z"
   },
   {
    "duration": 4,
    "start_time": "2021-09-19T18:29:48.317Z"
   },
   {
    "duration": 4,
    "start_time": "2021-09-19T18:29:48.471Z"
   },
   {
    "duration": 144,
    "start_time": "2021-09-19T18:29:49.757Z"
   },
   {
    "duration": 2154,
    "start_time": "2021-09-19T18:29:50.028Z"
   },
   {
    "duration": 3,
    "start_time": "2021-09-19T18:33:50.183Z"
   },
   {
    "duration": 3,
    "start_time": "2021-09-19T18:33:51.314Z"
   },
   {
    "duration": 4,
    "start_time": "2021-09-19T18:33:51.477Z"
   },
   {
    "duration": 4,
    "start_time": "2021-09-19T18:33:52.150Z"
   },
   {
    "duration": 3,
    "start_time": "2021-09-19T18:33:52.333Z"
   },
   {
    "duration": 342,
    "start_time": "2021-09-19T18:33:54.021Z"
   },
   {
    "duration": 3,
    "start_time": "2021-09-19T18:35:59.343Z"
   },
   {
    "duration": 2,
    "start_time": "2021-09-19T18:36:00.127Z"
   },
   {
    "duration": 4,
    "start_time": "2021-09-19T18:36:00.295Z"
   },
   {
    "duration": 4,
    "start_time": "2021-09-19T18:36:00.935Z"
   },
   {
    "duration": 3,
    "start_time": "2021-09-19T18:36:01.127Z"
   },
   {
    "duration": 36,
    "start_time": "2021-09-19T18:36:02.567Z"
   },
   {
    "duration": 4,
    "start_time": "2021-09-19T18:40:19.105Z"
   },
   {
    "duration": 45,
    "start_time": "2021-09-19T18:40:25.761Z"
   },
   {
    "duration": 124,
    "start_time": "2021-09-19T18:40:37.082Z"
   },
   {
    "duration": 3,
    "start_time": "2021-09-19T18:42:08.186Z"
   },
   {
    "duration": 234,
    "start_time": "2021-09-19T18:42:12.667Z"
   },
   {
    "duration": 3,
    "start_time": "2021-09-19T18:42:24.826Z"
   },
   {
    "duration": 368,
    "start_time": "2021-09-19T18:42:28.538Z"
   },
   {
    "duration": 3,
    "start_time": "2021-09-19T18:42:32.090Z"
   },
   {
    "duration": 51,
    "start_time": "2021-09-19T18:42:32.095Z"
   },
   {
    "duration": 12,
    "start_time": "2021-09-19T18:42:32.148Z"
   },
   {
    "duration": 268,
    "start_time": "2021-09-19T18:42:32.161Z"
   },
   {
    "duration": 4,
    "start_time": "2021-09-19T18:42:32.431Z"
   },
   {
    "duration": 18,
    "start_time": "2021-09-19T18:42:32.436Z"
   },
   {
    "duration": 5,
    "start_time": "2021-09-19T18:42:32.455Z"
   },
   {
    "duration": 11,
    "start_time": "2021-09-19T18:42:32.462Z"
   },
   {
    "duration": 23,
    "start_time": "2021-09-19T18:42:32.475Z"
   },
   {
    "duration": 21,
    "start_time": "2021-09-19T18:42:32.500Z"
   },
   {
    "duration": 5,
    "start_time": "2021-09-19T18:42:32.522Z"
   },
   {
    "duration": 7,
    "start_time": "2021-09-19T18:42:32.529Z"
   },
   {
    "duration": 266,
    "start_time": "2021-09-19T18:42:32.538Z"
   },
   {
    "duration": 2294,
    "start_time": "2021-09-19T18:42:32.806Z"
   },
   {
    "duration": 6364,
    "start_time": "2021-09-19T18:42:35.102Z"
   },
   {
    "duration": 2839,
    "start_time": "2021-09-19T18:42:41.468Z"
   },
   {
    "duration": 190,
    "start_time": "2021-09-19T18:42:44.309Z"
   },
   {
    "duration": 254,
    "start_time": "2021-09-19T18:42:44.501Z"
   },
   {
    "duration": 3,
    "start_time": "2021-09-19T18:42:55.370Z"
   },
   {
    "duration": 77,
    "start_time": "2021-09-19T18:42:59.532Z"
   },
   {
    "duration": 3,
    "start_time": "2021-09-19T18:43:09.395Z"
   },
   {
    "duration": 30,
    "start_time": "2021-09-19T18:43:12.780Z"
   },
   {
    "duration": 3,
    "start_time": "2021-09-19T18:54:10.049Z"
   },
   {
    "duration": 335,
    "start_time": "2021-09-19T18:54:15.360Z"
   },
   {
    "duration": 3,
    "start_time": "2021-09-19T18:54:35.688Z"
   },
   {
    "duration": 191,
    "start_time": "2021-09-19T18:54:44.112Z"
   },
   {
    "duration": 402,
    "start_time": "2021-09-19T18:54:56.800Z"
   },
   {
    "duration": 159,
    "start_time": "2021-09-19T18:55:11.546Z"
   },
   {
    "duration": 1002,
    "start_time": "2021-09-19T18:58:43.560Z"
   },
   {
    "duration": 55,
    "start_time": "2021-09-19T18:58:44.564Z"
   },
   {
    "duration": 14,
    "start_time": "2021-09-19T18:58:44.620Z"
   },
   {
    "duration": 352,
    "start_time": "2021-09-19T18:58:44.636Z"
   },
   {
    "duration": 10,
    "start_time": "2021-09-19T18:58:44.989Z"
   },
   {
    "duration": 19,
    "start_time": "2021-09-19T18:58:45.001Z"
   },
   {
    "duration": 5,
    "start_time": "2021-09-19T18:58:45.022Z"
   },
   {
    "duration": 177,
    "start_time": "2021-09-19T18:58:45.029Z"
   },
   {
    "duration": 93,
    "start_time": "2021-09-19T18:58:45.209Z"
   },
   {
    "duration": 96,
    "start_time": "2021-09-19T18:58:45.304Z"
   },
   {
    "duration": 4,
    "start_time": "2021-09-19T18:58:45.402Z"
   },
   {
    "duration": 7,
    "start_time": "2021-09-19T18:58:45.408Z"
   },
   {
    "duration": 190,
    "start_time": "2021-09-19T18:58:45.416Z"
   },
   {
    "duration": 2345,
    "start_time": "2021-09-19T18:58:45.608Z"
   },
   {
    "duration": 6102,
    "start_time": "2021-09-19T18:58:47.955Z"
   },
   {
    "duration": 2946,
    "start_time": "2021-09-19T18:58:54.059Z"
   },
   {
    "duration": 188,
    "start_time": "2021-09-19T18:58:57.007Z"
   },
   {
    "duration": 262,
    "start_time": "2021-09-19T18:58:57.197Z"
   },
   {
    "duration": 198,
    "start_time": "2021-09-19T19:03:02.704Z"
   },
   {
    "duration": 3,
    "start_time": "2021-09-19T19:03:21.009Z"
   },
   {
    "duration": 3,
    "start_time": "2021-09-19T19:03:26.934Z"
   },
   {
    "duration": 197,
    "start_time": "2021-09-19T19:03:30.304Z"
   },
   {
    "duration": 153,
    "start_time": "2021-09-19T19:03:36.049Z"
   },
   {
    "duration": 202,
    "start_time": "2021-09-19T19:03:40.499Z"
   },
   {
    "duration": 310,
    "start_time": "2021-09-19T19:04:00.538Z"
   },
   {
    "duration": 389,
    "start_time": "2021-09-19T19:04:09.755Z"
   },
   {
    "duration": 175,
    "start_time": "2021-09-19T19:04:58.794Z"
   },
   {
    "duration": 155,
    "start_time": "2021-09-19T19:05:41.650Z"
   },
   {
    "duration": 398,
    "start_time": "2021-09-19T19:05:57.506Z"
   },
   {
    "duration": 60,
    "start_time": "2021-09-19T19:06:03.275Z"
   },
   {
    "duration": 188,
    "start_time": "2021-09-19T19:06:07.513Z"
   },
   {
    "duration": 169,
    "start_time": "2021-09-19T19:06:16.232Z"
   },
   {
    "duration": 4,
    "start_time": "2021-09-19T19:06:58.452Z"
   },
   {
    "duration": 5310,
    "start_time": "2021-09-19T19:07:04.890Z"
   },
   {
    "duration": 3,
    "start_time": "2021-09-19T19:15:48.782Z"
   },
   {
    "duration": 19,
    "start_time": "2021-09-19T19:15:57.021Z"
   },
   {
    "duration": 49,
    "start_time": "2021-09-19T19:16:01.951Z"
   },
   {
    "duration": 102,
    "start_time": "2021-09-19T19:16:05.998Z"
   },
   {
    "duration": 109,
    "start_time": "2021-09-19T19:16:12.295Z"
   },
   {
    "duration": 36,
    "start_time": "2021-09-19T19:16:15.967Z"
   },
   {
    "duration": 137,
    "start_time": "2021-09-19T19:24:08.163Z"
   },
   {
    "duration": 2136,
    "start_time": "2021-09-19T19:24:09.485Z"
   },
   {
    "duration": 3,
    "start_time": "2021-09-19T19:24:23.004Z"
   },
   {
    "duration": 2110,
    "start_time": "2021-09-19T19:24:26.428Z"
   },
   {
    "duration": 5800,
    "start_time": "2021-09-19T19:24:48.682Z"
   },
   {
    "duration": 1045,
    "start_time": "2021-09-19T19:25:49.926Z"
   },
   {
    "duration": 54,
    "start_time": "2021-09-19T19:25:50.973Z"
   },
   {
    "duration": 15,
    "start_time": "2021-09-19T19:25:51.029Z"
   },
   {
    "duration": 348,
    "start_time": "2021-09-19T19:25:51.045Z"
   },
   {
    "duration": 5,
    "start_time": "2021-09-19T19:25:51.395Z"
   },
   {
    "duration": 19,
    "start_time": "2021-09-19T19:25:51.401Z"
   },
   {
    "duration": 6,
    "start_time": "2021-09-19T19:25:51.422Z"
   },
   {
    "duration": 172,
    "start_time": "2021-09-19T19:25:51.430Z"
   },
   {
    "duration": 4,
    "start_time": "2021-09-19T19:25:51.604Z"
   },
   {
    "duration": 95,
    "start_time": "2021-09-19T19:25:51.610Z"
   },
   {
    "duration": 8,
    "start_time": "2021-09-19T19:25:51.707Z"
   },
   {
    "duration": 14,
    "start_time": "2021-09-19T19:25:51.717Z"
   },
   {
    "duration": 269,
    "start_time": "2021-09-19T19:25:51.733Z"
   },
   {
    "duration": 2302,
    "start_time": "2021-09-19T19:25:52.005Z"
   },
   {
    "duration": 6770,
    "start_time": "2021-09-19T19:25:54.308Z"
   },
   {
    "duration": 3026,
    "start_time": "2021-09-19T19:26:01.079Z"
   },
   {
    "duration": 179,
    "start_time": "2021-09-19T19:26:04.106Z"
   },
   {
    "duration": 252,
    "start_time": "2021-09-19T19:26:04.287Z"
   },
   {
    "duration": 5,
    "start_time": "2021-09-19T19:36:50.606Z"
   },
   {
    "duration": 136,
    "start_time": "2021-09-19T19:37:14.766Z"
   },
   {
    "duration": 4,
    "start_time": "2021-09-19T19:41:14.675Z"
   },
   {
    "duration": 7265,
    "start_time": "2021-09-19T19:41:18.610Z"
   },
   {
    "duration": 4,
    "start_time": "2021-09-19T19:42:16.480Z"
   },
   {
    "duration": 3,
    "start_time": "2021-09-19T19:43:55.228Z"
   },
   {
    "duration": 3,
    "start_time": "2021-09-19T19:44:10.761Z"
   },
   {
    "duration": 740,
    "start_time": "2021-09-19T19:44:38.138Z"
   },
   {
    "duration": 460,
    "start_time": "2021-09-19T19:45:03.077Z"
   },
   {
    "duration": 461,
    "start_time": "2021-09-19T19:45:33.066Z"
   },
   {
    "duration": 3,
    "start_time": "2021-09-19T20:02:43.193Z"
   },
   {
    "duration": 16,
    "start_time": "2021-09-19T20:02:44.309Z"
   },
   {
    "duration": 6,
    "start_time": "2021-09-19T20:02:45.130Z"
   },
   {
    "duration": 196,
    "start_time": "2021-09-19T20:02:46.210Z"
   },
   {
    "duration": 3,
    "start_time": "2021-09-19T20:03:09.353Z"
   },
   {
    "duration": 3,
    "start_time": "2021-09-19T20:03:09.540Z"
   },
   {
    "duration": 171,
    "start_time": "2021-09-19T20:03:17.634Z"
   },
   {
    "duration": 2092,
    "start_time": "2021-09-19T20:03:21.609Z"
   },
   {
    "duration": 176,
    "start_time": "2021-09-19T20:04:07.131Z"
   },
   {
    "duration": 172,
    "start_time": "2021-09-19T20:04:15.235Z"
   },
   {
    "duration": 54,
    "start_time": "2021-09-19T20:04:41.490Z"
   },
   {
    "duration": 3,
    "start_time": "2021-09-19T20:04:46.165Z"
   },
   {
    "duration": 15,
    "start_time": "2021-09-19T20:04:47.491Z"
   },
   {
    "duration": 6,
    "start_time": "2021-09-19T20:04:47.826Z"
   },
   {
    "duration": 143,
    "start_time": "2021-09-19T20:04:48.386Z"
   },
   {
    "duration": 3,
    "start_time": "2021-09-19T20:05:24.422Z"
   },
   {
    "duration": 16,
    "start_time": "2021-09-19T20:05:25.170Z"
   },
   {
    "duration": 7,
    "start_time": "2021-09-19T20:05:26.515Z"
   },
   {
    "duration": 206,
    "start_time": "2021-09-19T20:05:27.099Z"
   },
   {
    "duration": 3,
    "start_time": "2021-09-19T20:05:39.827Z"
   },
   {
    "duration": 16,
    "start_time": "2021-09-19T20:05:40.458Z"
   },
   {
    "duration": 7,
    "start_time": "2021-09-19T20:05:40.770Z"
   },
   {
    "duration": 547,
    "start_time": "2021-09-19T20:05:41.269Z"
   },
   {
    "duration": 463,
    "start_time": "2021-09-19T20:05:41.355Z"
   },
   {
    "duration": 551,
    "start_time": "2021-09-19T20:05:50.195Z"
   },
   {
    "duration": 3,
    "start_time": "2021-09-19T20:06:04.715Z"
   },
   {
    "duration": 16,
    "start_time": "2021-09-19T20:06:05.429Z"
   },
   {
    "duration": 7,
    "start_time": "2021-09-19T20:06:05.819Z"
   },
   {
    "duration": 215,
    "start_time": "2021-09-19T20:06:06.603Z"
   },
   {
    "duration": 2,
    "start_time": "2021-09-19T20:06:06.823Z"
   },
   {
    "duration": 3,
    "start_time": "2021-09-19T20:06:13.275Z"
   },
   {
    "duration": 4,
    "start_time": "2021-09-19T20:06:15.589Z"
   },
   {
    "duration": 5,
    "start_time": "2021-09-19T20:06:18.275Z"
   },
   {
    "duration": 195,
    "start_time": "2021-09-19T20:06:19.106Z"
   },
   {
    "duration": 2220,
    "start_time": "2021-09-19T20:06:19.309Z"
   },
   {
    "duration": 181,
    "start_time": "2021-09-19T20:06:47.619Z"
   },
   {
    "duration": 5,
    "start_time": "2021-09-19T20:11:36.575Z"
   },
   {
    "duration": 4,
    "start_time": "2021-09-19T20:12:40.513Z"
   },
   {
    "duration": 2308,
    "start_time": "2021-09-19T20:13:11.847Z"
   },
   {
    "duration": 4327,
    "start_time": "2021-09-19T20:13:24.479Z"
   },
   {
    "duration": 445,
    "start_time": "2021-09-19T20:13:34.982Z"
   },
   {
    "duration": 218,
    "start_time": "2021-09-19T20:13:39.582Z"
   },
   {
    "duration": 2214,
    "start_time": "2021-09-19T20:13:47.062Z"
   },
   {
    "duration": 1475,
    "start_time": "2021-09-19T20:14:12.543Z"
   },
   {
    "duration": 9592,
    "start_time": "2021-09-19T20:14:47.483Z"
   },
   {
    "duration": 377,
    "start_time": "2021-09-19T20:14:57.076Z"
   },
   {
    "duration": 3171,
    "start_time": "2021-09-19T20:15:08.020Z"
   },
   {
    "duration": 2451,
    "start_time": "2021-09-19T20:15:32.648Z"
   },
   {
    "duration": 68982,
    "start_time": "2021-09-19T20:15:44.737Z"
   },
   {
    "duration": 4,
    "start_time": "2021-09-19T20:16:54.617Z"
   },
   {
    "duration": 178,
    "start_time": "2021-09-19T20:17:00.881Z"
   },
   {
    "duration": 3064,
    "start_time": "2021-09-19T20:17:08.488Z"
   },
   {
    "duration": 4,
    "start_time": "2021-09-19T20:17:23.586Z"
   },
   {
    "duration": 4,
    "start_time": "2021-09-19T20:17:35.661Z"
   },
   {
    "duration": 3686,
    "start_time": "2021-09-19T20:17:38.823Z"
   },
   {
    "duration": 1366,
    "start_time": "2021-09-19T20:17:56.333Z"
   },
   {
    "duration": 2198,
    "start_time": "2021-09-19T20:18:04.354Z"
   },
   {
    "duration": 65662,
    "start_time": "2021-09-19T20:18:13.549Z"
   },
   {
    "duration": 22700,
    "start_time": "2021-09-19T20:19:19.213Z"
   },
   {
    "duration": 251,
    "start_time": "2021-09-19T20:22:16.979Z"
   },
   {
    "duration": 2257,
    "start_time": "2021-09-19T20:22:17.300Z"
   },
   {
    "duration": 69808,
    "start_time": "2021-09-19T20:22:19.559Z"
   },
   {
    "duration": 3539,
    "start_time": "2021-09-19T20:23:29.369Z"
   },
   {
    "duration": 212,
    "start_time": "2021-09-19T20:23:32.910Z"
   },
   {
    "duration": 5,
    "start_time": "2021-09-19T20:28:16.693Z"
   },
   {
    "duration": 4,
    "start_time": "2021-09-19T20:28:18.354Z"
   },
   {
    "duration": 4,
    "start_time": "2021-09-19T20:28:18.534Z"
   },
   {
    "duration": 986,
    "start_time": "2021-09-19T20:28:20.314Z"
   },
   {
    "duration": 360,
    "start_time": "2021-09-19T20:28:22.597Z"
   },
   {
    "duration": 4,
    "start_time": "2021-09-19T20:28:51.021Z"
   },
   {
    "duration": 2193,
    "start_time": "2021-09-19T20:28:55.112Z"
   },
   {
    "duration": 3,
    "start_time": "2021-09-19T20:29:07.968Z"
   },
   {
    "duration": 2134,
    "start_time": "2021-09-19T20:29:11.318Z"
   },
   {
    "duration": 36101,
    "start_time": "2021-09-19T20:29:30.200Z"
   },
   {
    "duration": 4,
    "start_time": "2021-09-19T20:34:11.275Z"
   },
   {
    "duration": 67226,
    "start_time": "2021-09-19T20:34:16.064Z"
   },
   {
    "duration": 60,
    "start_time": "2021-09-19T20:40:43.300Z"
   },
   {
    "duration": 61,
    "start_time": "2021-09-19T20:41:08.881Z"
   },
   {
    "duration": 62,
    "start_time": "2021-09-19T20:41:15.397Z"
   },
   {
    "duration": 5,
    "start_time": "2021-09-19T20:41:29.095Z"
   },
   {
    "duration": 396,
    "start_time": "2021-09-19T20:41:42.572Z"
   },
   {
    "duration": 372,
    "start_time": "2021-09-19T20:41:58.047Z"
   },
   {
    "duration": 5,
    "start_time": "2021-09-19T20:42:33.805Z"
   },
   {
    "duration": 214,
    "start_time": "2021-09-19T20:42:37.629Z"
   },
   {
    "duration": 67765,
    "start_time": "2021-09-19T20:42:46.990Z"
   },
   {
    "duration": 105591,
    "start_time": "2021-09-19T20:45:36.192Z"
   },
   {
    "duration": 94336,
    "start_time": "2021-09-19T20:47:21.785Z"
   },
   {
    "duration": 96744,
    "start_time": "2021-09-19T20:49:16.455Z"
   },
   {
    "duration": 60,
    "start_time": "2021-09-19T20:51:21.441Z"
   },
   {
    "duration": 172369,
    "start_time": "2021-09-19T20:51:24.753Z"
   },
   {
    "duration": 3518,
    "start_time": "2021-09-19T20:54:54.793Z"
   },
   {
    "duration": 3658,
    "start_time": "2021-09-19T20:55:03.842Z"
   },
   {
    "duration": 29353,
    "start_time": "2021-09-19T20:55:13.353Z"
   },
   {
    "duration": 945,
    "start_time": "2021-09-19T20:56:32.469Z"
   },
   {
    "duration": 4022,
    "start_time": "2021-09-19T20:56:39.138Z"
   },
   {
    "duration": 20046,
    "start_time": "2021-09-19T20:56:46.168Z"
   },
   {
    "duration": 17,
    "start_time": "2021-09-19T20:57:55.010Z"
   },
   {
    "duration": 7,
    "start_time": "2021-09-19T20:57:57.563Z"
   },
   {
    "duration": 292,
    "start_time": "2021-09-19T20:57:58.098Z"
   },
   {
    "duration": 485,
    "start_time": "2021-09-19T20:57:57.907Z"
   },
   {
    "duration": 349,
    "start_time": "2021-09-19T20:58:10.555Z"
   },
   {
    "duration": 3,
    "start_time": "2021-09-19T20:58:12.795Z"
   },
   {
    "duration": 4,
    "start_time": "2021-09-19T20:58:13.434Z"
   },
   {
    "duration": 4,
    "start_time": "2021-09-19T20:58:14.459Z"
   },
   {
    "duration": 4,
    "start_time": "2021-09-19T20:58:14.627Z"
   },
   {
    "duration": 1417,
    "start_time": "2021-09-19T20:58:16.106Z"
   },
   {
    "duration": 69655,
    "start_time": "2021-09-19T20:58:20.699Z"
   },
   {
    "duration": 1084,
    "start_time": "2021-09-19T20:59:58.284Z"
   },
   {
    "duration": 58,
    "start_time": "2021-09-19T20:59:59.370Z"
   },
   {
    "duration": 16,
    "start_time": "2021-09-19T20:59:59.432Z"
   },
   {
    "duration": 355,
    "start_time": "2021-09-19T20:59:59.449Z"
   },
   {
    "duration": 4,
    "start_time": "2021-09-19T20:59:59.805Z"
   },
   {
    "duration": 8,
    "start_time": "2021-09-19T20:59:59.810Z"
   },
   {
    "duration": 27,
    "start_time": "2021-09-19T20:59:59.819Z"
   },
   {
    "duration": 6,
    "start_time": "2021-09-19T20:59:59.848Z"
   },
   {
    "duration": 451,
    "start_time": "2021-09-19T20:59:59.855Z"
   },
   {
    "duration": 4,
    "start_time": "2021-09-19T21:00:00.309Z"
   },
   {
    "duration": 18,
    "start_time": "2021-09-19T21:00:00.401Z"
   },
   {
    "duration": 5,
    "start_time": "2021-09-19T21:00:00.500Z"
   },
   {
    "duration": 12,
    "start_time": "2021-09-19T21:00:00.507Z"
   },
   {
    "duration": 1897,
    "start_time": "2021-09-19T21:00:00.520Z"
   },
   {
    "duration": 94534,
    "start_time": "2021-09-19T21:00:02.501Z"
   },
   {
    "duration": 140034,
    "start_time": "2021-09-19T21:01:37.037Z"
   },
   {
    "duration": 26740,
    "start_time": "2021-09-19T21:03:57.072Z"
   },
   {
    "duration": 289,
    "start_time": "2021-09-19T21:04:23.814Z"
   },
   {
    "duration": 260,
    "start_time": "2021-09-19T21:04:24.105Z"
   },
   {
    "duration": 1797,
    "start_time": "2021-09-20T08:10:15.971Z"
   },
   {
    "duration": 77,
    "start_time": "2021-09-20T08:10:17.771Z"
   },
   {
    "duration": 31,
    "start_time": "2021-09-20T08:10:17.852Z"
   },
   {
    "duration": 597,
    "start_time": "2021-09-20T08:10:17.886Z"
   },
   {
    "duration": 6,
    "start_time": "2021-09-20T08:10:18.485Z"
   },
   {
    "duration": 9,
    "start_time": "2021-09-20T08:10:18.494Z"
   },
   {
    "duration": 47,
    "start_time": "2021-09-20T08:10:18.505Z"
   },
   {
    "duration": 20,
    "start_time": "2021-09-20T08:10:18.555Z"
   },
   {
    "duration": 1189,
    "start_time": "2021-09-20T08:10:18.579Z"
   },
   {
    "duration": 4,
    "start_time": "2021-09-20T08:10:19.772Z"
   },
   {
    "duration": 92,
    "start_time": "2021-09-20T08:10:19.781Z"
   },
   {
    "duration": 22,
    "start_time": "2021-09-20T08:10:19.875Z"
   },
   {
    "duration": 19,
    "start_time": "2021-09-20T08:10:19.899Z"
   },
   {
    "duration": 4854,
    "start_time": "2021-09-20T08:10:19.920Z"
   },
   {
    "duration": 137094,
    "start_time": "2021-09-20T08:10:24.777Z"
   },
   {
    "duration": 171168,
    "start_time": "2021-09-20T08:12:41.873Z"
   },
   {
    "duration": 861673,
    "start_time": "2021-09-20T08:15:33.043Z"
   },
   {
    "duration": -39,
    "start_time": "2021-09-20T08:29:54.758Z"
   },
   {
    "duration": -49,
    "start_time": "2021-09-20T08:29:54.770Z"
   },
   {
    "duration": 252,
    "start_time": "2021-09-20T08:29:58.472Z"
   },
   {
    "duration": 5,
    "start_time": "2021-09-20T08:30:46.378Z"
   },
   {
    "duration": 112,
    "start_time": "2021-09-20T08:30:46.386Z"
   },
   {
    "duration": 29,
    "start_time": "2021-09-20T08:30:46.502Z"
   },
   {
    "duration": 278,
    "start_time": "2021-09-20T08:30:46.534Z"
   },
   {
    "duration": -7,
    "start_time": "2021-09-20T08:30:46.823Z"
   },
   {
    "duration": -15,
    "start_time": "2021-09-20T08:30:46.832Z"
   },
   {
    "duration": -15,
    "start_time": "2021-09-20T08:30:46.834Z"
   },
   {
    "duration": -17,
    "start_time": "2021-09-20T08:30:46.837Z"
   },
   {
    "duration": -18,
    "start_time": "2021-09-20T08:30:46.839Z"
   },
   {
    "duration": -18,
    "start_time": "2021-09-20T08:30:46.841Z"
   },
   {
    "duration": -24,
    "start_time": "2021-09-20T08:30:46.849Z"
   },
   {
    "duration": -26,
    "start_time": "2021-09-20T08:30:46.852Z"
   },
   {
    "duration": -28,
    "start_time": "2021-09-20T08:30:46.855Z"
   },
   {
    "duration": -29,
    "start_time": "2021-09-20T08:30:46.857Z"
   },
   {
    "duration": -29,
    "start_time": "2021-09-20T08:30:46.859Z"
   },
   {
    "duration": -37,
    "start_time": "2021-09-20T08:30:46.868Z"
   },
   {
    "duration": -41,
    "start_time": "2021-09-20T08:30:46.873Z"
   },
   {
    "duration": -41,
    "start_time": "2021-09-20T08:30:46.875Z"
   },
   {
    "duration": -42,
    "start_time": "2021-09-20T08:30:46.877Z"
   },
   {
    "duration": -44,
    "start_time": "2021-09-20T08:30:46.880Z"
   },
   {
    "duration": 1507,
    "start_time": "2021-09-20T08:31:35.670Z"
   },
   {
    "duration": 87,
    "start_time": "2021-09-20T08:31:37.181Z"
   },
   {
    "duration": 26,
    "start_time": "2021-09-20T08:31:37.272Z"
   },
   {
    "duration": 413,
    "start_time": "2021-09-20T08:31:37.302Z"
   },
   {
    "duration": -76,
    "start_time": "2021-09-20T08:31:37.796Z"
   },
   {
    "duration": -77,
    "start_time": "2021-09-20T08:31:37.799Z"
   },
   {
    "duration": -79,
    "start_time": "2021-09-20T08:31:37.802Z"
   },
   {
    "duration": -83,
    "start_time": "2021-09-20T08:31:37.808Z"
   },
   {
    "duration": -99,
    "start_time": "2021-09-20T08:31:37.825Z"
   },
   {
    "duration": -114,
    "start_time": "2021-09-20T08:31:37.842Z"
   },
   {
    "duration": -188,
    "start_time": "2021-09-20T08:31:37.917Z"
   },
   {
    "duration": -205,
    "start_time": "2021-09-20T08:31:37.936Z"
   },
   {
    "duration": -213,
    "start_time": "2021-09-20T08:31:37.945Z"
   },
   {
    "duration": -218,
    "start_time": "2021-09-20T08:31:37.951Z"
   },
   {
    "duration": -234,
    "start_time": "2021-09-20T08:31:37.969Z"
   },
   {
    "duration": -242,
    "start_time": "2021-09-20T08:31:37.978Z"
   },
   {
    "duration": -263,
    "start_time": "2021-09-20T08:31:38.000Z"
   },
   {
    "duration": -270,
    "start_time": "2021-09-20T08:31:38.009Z"
   },
   {
    "duration": -285,
    "start_time": "2021-09-20T08:31:38.025Z"
   },
   {
    "duration": -285,
    "start_time": "2021-09-20T08:31:38.027Z"
   },
   {
    "duration": 1303,
    "start_time": "2021-09-20T08:32:27.294Z"
   },
   {
    "duration": 328,
    "start_time": "2021-09-20T08:32:30.884Z"
   },
   {
    "duration": 293,
    "start_time": "2021-09-20T08:32:44.203Z"
   },
   {
    "duration": 264,
    "start_time": "2021-09-20T08:33:44.093Z"
   },
   {
    "duration": 272,
    "start_time": "2021-09-20T08:38:15.495Z"
   },
   {
    "duration": 6,
    "start_time": "2021-09-20T09:10:58.925Z"
   },
   {
    "duration": 72,
    "start_time": "2021-09-20T09:10:58.934Z"
   },
   {
    "duration": 22,
    "start_time": "2021-09-20T09:10:59.008Z"
   },
   {
    "duration": 303,
    "start_time": "2021-09-20T09:10:59.033Z"
   },
   {
    "duration": 78,
    "start_time": "2021-09-20T09:10:59.261Z"
   },
   {
    "duration": 76,
    "start_time": "2021-09-20T09:10:59.265Z"
   },
   {
    "duration": 76,
    "start_time": "2021-09-20T09:10:59.267Z"
   },
   {
    "duration": 74,
    "start_time": "2021-09-20T09:10:59.270Z"
   },
   {
    "duration": 74,
    "start_time": "2021-09-20T09:10:59.272Z"
   },
   {
    "duration": 73,
    "start_time": "2021-09-20T09:10:59.275Z"
   },
   {
    "duration": 72,
    "start_time": "2021-09-20T09:10:59.277Z"
   },
   {
    "duration": 70,
    "start_time": "2021-09-20T09:10:59.280Z"
   },
   {
    "duration": 70,
    "start_time": "2021-09-20T09:10:59.282Z"
   },
   {
    "duration": 67,
    "start_time": "2021-09-20T09:10:59.286Z"
   },
   {
    "duration": 63,
    "start_time": "2021-09-20T09:10:59.292Z"
   },
   {
    "duration": 63,
    "start_time": "2021-09-20T09:10:59.294Z"
   },
   {
    "duration": 62,
    "start_time": "2021-09-20T09:10:59.296Z"
   },
   {
    "duration": 57,
    "start_time": "2021-09-20T09:10:59.303Z"
   },
   {
    "duration": 55,
    "start_time": "2021-09-20T09:10:59.306Z"
   },
   {
    "duration": 55,
    "start_time": "2021-09-20T09:10:59.308Z"
   },
   {
    "duration": 314,
    "start_time": "2021-09-20T09:11:47.999Z"
   },
   {
    "duration": 271,
    "start_time": "2021-09-20T09:12:04.607Z"
   },
   {
    "duration": 4,
    "start_time": "2021-09-20T09:12:08.251Z"
   },
   {
    "duration": 71,
    "start_time": "2021-09-20T09:12:08.259Z"
   },
   {
    "duration": 46,
    "start_time": "2021-09-20T09:12:08.332Z"
   },
   {
    "duration": 281,
    "start_time": "2021-09-20T09:12:08.381Z"
   },
   {
    "duration": 94,
    "start_time": "2021-09-20T09:12:08.571Z"
   },
   {
    "duration": 91,
    "start_time": "2021-09-20T09:12:08.576Z"
   },
   {
    "duration": 91,
    "start_time": "2021-09-20T09:12:08.578Z"
   },
   {
    "duration": 91,
    "start_time": "2021-09-20T09:12:08.580Z"
   },
   {
    "duration": 91,
    "start_time": "2021-09-20T09:12:08.582Z"
   },
   {
    "duration": 85,
    "start_time": "2021-09-20T09:12:08.589Z"
   },
   {
    "duration": 80,
    "start_time": "2021-09-20T09:12:08.596Z"
   },
   {
    "duration": 76,
    "start_time": "2021-09-20T09:12:08.602Z"
   },
   {
    "duration": 75,
    "start_time": "2021-09-20T09:12:08.605Z"
   },
   {
    "duration": 73,
    "start_time": "2021-09-20T09:12:08.608Z"
   },
   {
    "duration": 71,
    "start_time": "2021-09-20T09:12:08.612Z"
   },
   {
    "duration": 71,
    "start_time": "2021-09-20T09:12:08.614Z"
   },
   {
    "duration": 71,
    "start_time": "2021-09-20T09:12:08.616Z"
   },
   {
    "duration": 70,
    "start_time": "2021-09-20T09:12:08.618Z"
   },
   {
    "duration": 70,
    "start_time": "2021-09-20T09:12:08.620Z"
   },
   {
    "duration": 71,
    "start_time": "2021-09-20T09:12:08.621Z"
   },
   {
    "duration": 467,
    "start_time": "2021-09-20T09:13:45.875Z"
   },
   {
    "duration": 115,
    "start_time": "2021-09-20T09:15:21.857Z"
   },
   {
    "duration": 60,
    "start_time": "2021-09-20T09:15:44.647Z"
   },
   {
    "duration": 6,
    "start_time": "2021-09-20T09:16:40.105Z"
   },
   {
    "duration": 94,
    "start_time": "2021-09-20T09:16:40.114Z"
   },
   {
    "duration": 23,
    "start_time": "2021-09-20T09:16:40.212Z"
   },
   {
    "duration": 101,
    "start_time": "2021-09-20T09:16:40.238Z"
   },
   {
    "duration": 229,
    "start_time": "2021-09-20T09:16:40.343Z"
   },
   {
    "duration": 5,
    "start_time": "2021-09-20T09:16:40.575Z"
   },
   {
    "duration": 10,
    "start_time": "2021-09-20T09:16:40.584Z"
   },
   {
    "duration": 585,
    "start_time": "2021-09-20T09:16:40.600Z"
   },
   {
    "duration": 122,
    "start_time": "2021-09-20T09:16:41.066Z"
   },
   {
    "duration": 92,
    "start_time": "2021-09-20T09:16:41.097Z"
   },
   {
    "duration": 66,
    "start_time": "2021-09-20T09:16:41.125Z"
   },
   {
    "duration": 49,
    "start_time": "2021-09-20T09:16:41.143Z"
   },
   {
    "duration": 49,
    "start_time": "2021-09-20T09:16:41.145Z"
   },
   {
    "duration": 48,
    "start_time": "2021-09-20T09:16:41.147Z"
   },
   {
    "duration": 11,
    "start_time": "2021-09-20T09:16:41.185Z"
   },
   {
    "duration": 5,
    "start_time": "2021-09-20T09:16:41.193Z"
   },
   {
    "duration": -23,
    "start_time": "2021-09-20T09:16:41.222Z"
   },
   {
    "duration": -40,
    "start_time": "2021-09-20T09:16:41.240Z"
   },
   {
    "duration": -58,
    "start_time": "2021-09-20T09:16:41.260Z"
   },
   {
    "duration": -66,
    "start_time": "2021-09-20T09:16:41.269Z"
   },
   {
    "duration": 96,
    "start_time": "2021-09-20T09:17:03.662Z"
   },
   {
    "duration": 1472,
    "start_time": "2021-09-20T09:17:33.992Z"
   },
   {
    "duration": 100,
    "start_time": "2021-09-20T09:17:35.467Z"
   },
   {
    "duration": 27,
    "start_time": "2021-09-20T09:17:35.570Z"
   },
   {
    "duration": 128,
    "start_time": "2021-09-20T09:17:35.601Z"
   },
   {
    "duration": 255,
    "start_time": "2021-09-20T09:17:35.732Z"
   },
   {
    "duration": 8,
    "start_time": "2021-09-20T09:17:35.990Z"
   },
   {
    "duration": 7,
    "start_time": "2021-09-20T09:17:36.002Z"
   },
   {
    "duration": 743,
    "start_time": "2021-09-20T09:17:36.016Z"
   },
   {
    "duration": 109,
    "start_time": "2021-09-20T09:17:36.653Z"
   },
   {
    "duration": 84,
    "start_time": "2021-09-20T09:17:36.679Z"
   },
   {
    "duration": 79,
    "start_time": "2021-09-20T09:17:36.685Z"
   },
   {
    "duration": 77,
    "start_time": "2021-09-20T09:17:36.688Z"
   },
   {
    "duration": 73,
    "start_time": "2021-09-20T09:17:36.694Z"
   },
   {
    "duration": 66,
    "start_time": "2021-09-20T09:17:36.702Z"
   },
   {
    "duration": 61,
    "start_time": "2021-09-20T09:17:36.708Z"
   },
   {
    "duration": 59,
    "start_time": "2021-09-20T09:17:36.712Z"
   },
   {
    "duration": 58,
    "start_time": "2021-09-20T09:17:36.714Z"
   },
   {
    "duration": 56,
    "start_time": "2021-09-20T09:17:36.717Z"
   },
   {
    "duration": 53,
    "start_time": "2021-09-20T09:17:36.721Z"
   },
   {
    "duration": 53,
    "start_time": "2021-09-20T09:17:36.723Z"
   },
   {
    "duration": 5,
    "start_time": "2021-09-20T09:18:02.308Z"
   },
   {
    "duration": 79,
    "start_time": "2021-09-20T09:18:02.320Z"
   },
   {
    "duration": 24,
    "start_time": "2021-09-20T09:18:02.402Z"
   },
   {
    "duration": 96,
    "start_time": "2021-09-20T09:18:02.430Z"
   },
   {
    "duration": 508,
    "start_time": "2021-09-20T09:18:02.528Z"
   },
   {
    "duration": 7,
    "start_time": "2021-09-20T09:18:03.039Z"
   },
   {
    "duration": 21,
    "start_time": "2021-09-20T09:18:03.049Z"
   },
   {
    "duration": 42,
    "start_time": "2021-09-20T09:18:03.074Z"
   },
   {
    "duration": 9,
    "start_time": "2021-09-20T09:18:03.121Z"
   },
   {
    "duration": 548,
    "start_time": "2021-09-20T09:18:03.133Z"
   },
   {
    "duration": 85,
    "start_time": "2021-09-20T09:18:03.684Z"
   },
   {
    "duration": 95,
    "start_time": "2021-09-20T09:18:03.772Z"
   },
   {
    "duration": 6,
    "start_time": "2021-09-20T09:18:03.870Z"
   },
   {
    "duration": 15,
    "start_time": "2021-09-20T09:18:03.878Z"
   },
   {
    "duration": 2870,
    "start_time": "2021-09-20T09:18:03.896Z"
   },
   {
    "duration": 139918,
    "start_time": "2021-09-20T09:18:06.770Z"
   },
   {
    "duration": 168396,
    "start_time": "2021-09-20T09:20:26.691Z"
   },
   {
    "duration": 187529,
    "start_time": "2021-09-20T09:23:15.090Z"
   },
   {
    "duration": 47,
    "start_time": "2021-09-20T09:26:22.575Z"
   },
   {
    "duration": 43,
    "start_time": "2021-09-20T09:26:22.581Z"
   },
   {
    "duration": 684264,
    "start_time": "2021-09-20T09:26:27.671Z"
   },
   {
    "duration": 94,
    "start_time": "2021-09-20T09:37:51.844Z"
   },
   {
    "duration": 92,
    "start_time": "2021-09-20T09:37:51.848Z"
   },
   {
    "duration": 1414,
    "start_time": "2021-09-20T09:40:20.215Z"
   },
   {
    "duration": 82,
    "start_time": "2021-09-20T09:40:21.631Z"
   },
   {
    "duration": 23,
    "start_time": "2021-09-20T09:40:21.716Z"
   },
   {
    "duration": 98,
    "start_time": "2021-09-20T09:40:21.742Z"
   },
   {
    "duration": 612,
    "start_time": "2021-09-20T09:40:21.842Z"
   },
   {
    "duration": 10,
    "start_time": "2021-09-20T09:40:22.457Z"
   },
   {
    "duration": 6,
    "start_time": "2021-09-20T09:40:22.470Z"
   },
   {
    "duration": 30,
    "start_time": "2021-09-20T09:40:22.481Z"
   },
   {
    "duration": 9,
    "start_time": "2021-09-20T09:40:22.514Z"
   },
   {
    "duration": 444,
    "start_time": "2021-09-20T09:40:22.526Z"
   },
   {
    "duration": 4,
    "start_time": "2021-09-20T09:40:22.973Z"
   },
   {
    "duration": 88,
    "start_time": "2021-09-20T09:40:22.981Z"
   },
   {
    "duration": 7,
    "start_time": "2021-09-20T09:40:23.071Z"
   },
   {
    "duration": 10,
    "start_time": "2021-09-20T09:40:23.081Z"
   },
   {
    "duration": 2285,
    "start_time": "2021-09-20T09:40:23.093Z"
   },
   {
    "duration": 15398,
    "start_time": "2021-09-20T09:40:25.383Z"
   },
   {
    "duration": 97539,
    "start_time": "2021-09-20T09:40:40.784Z"
   },
   {
    "duration": 90644,
    "start_time": "2021-09-20T09:42:18.326Z"
   },
   {
    "duration": 403,
    "start_time": "2021-09-20T09:43:48.973Z"
   },
   {
    "duration": 534,
    "start_time": "2021-09-20T09:43:49.379Z"
   },
   {
    "duration": 455,
    "start_time": "2021-09-20T09:44:17.155Z"
   },
   {
    "duration": 267,
    "start_time": "2021-09-20T09:45:29.905Z"
   },
   {
    "duration": 15945,
    "start_time": "2021-09-20T09:46:03.570Z"
   },
   {
    "duration": 28479,
    "start_time": "2021-09-20T09:46:36.154Z"
   },
   {
    "duration": 15594,
    "start_time": "2021-09-20T09:47:38.891Z"
   },
   {
    "duration": 6,
    "start_time": "2021-09-20T09:53:10.076Z"
   },
   {
    "duration": 1904,
    "start_time": "2021-09-20T09:54:51.056Z"
   },
   {
    "duration": 112,
    "start_time": "2021-09-20T09:54:52.962Z"
   },
   {
    "duration": 32,
    "start_time": "2021-09-20T09:54:53.083Z"
   },
   {
    "duration": 161,
    "start_time": "2021-09-20T09:54:53.119Z"
   },
   {
    "duration": 908,
    "start_time": "2021-09-20T09:54:53.283Z"
   },
   {
    "duration": 8,
    "start_time": "2021-09-20T09:54:54.194Z"
   },
   {
    "duration": 7,
    "start_time": "2021-09-20T09:54:54.204Z"
   },
   {
    "duration": 63,
    "start_time": "2021-09-20T09:54:54.216Z"
   },
   {
    "duration": 12,
    "start_time": "2021-09-20T09:54:54.282Z"
   },
   {
    "duration": 673,
    "start_time": "2021-09-20T09:54:54.296Z"
   },
   {
    "duration": 4,
    "start_time": "2021-09-20T09:54:54.973Z"
   },
   {
    "duration": 93,
    "start_time": "2021-09-20T09:54:54.980Z"
   },
   {
    "duration": 13,
    "start_time": "2021-09-20T09:54:55.075Z"
   },
   {
    "duration": 16,
    "start_time": "2021-09-20T09:54:55.090Z"
   },
   {
    "duration": 3172,
    "start_time": "2021-09-20T09:54:55.109Z"
   },
   {
    "duration": 15988,
    "start_time": "2021-09-20T09:54:58.285Z"
   },
   {
    "duration": 97477,
    "start_time": "2021-09-20T09:55:14.276Z"
   },
   {
    "duration": 184121,
    "start_time": "2021-09-20T09:56:51.755Z"
   },
   {
    "duration": 302,
    "start_time": "2021-09-20T09:59:55.878Z"
   },
   {
    "duration": 16498,
    "start_time": "2021-09-20T09:59:56.183Z"
   },
   {
    "duration": 7,
    "start_time": "2021-09-20T10:00:25.428Z"
   },
   {
    "duration": 129,
    "start_time": "2021-09-20T10:00:25.438Z"
   },
   {
    "duration": 29,
    "start_time": "2021-09-20T10:00:25.571Z"
   },
   {
    "duration": 244,
    "start_time": "2021-09-20T10:00:25.604Z"
   },
   {
    "duration": 745,
    "start_time": "2021-09-20T10:00:25.851Z"
   },
   {
    "duration": 7,
    "start_time": "2021-09-20T10:00:26.600Z"
   },
   {
    "duration": 8,
    "start_time": "2021-09-20T10:00:26.609Z"
   },
   {
    "duration": 49,
    "start_time": "2021-09-20T10:00:26.620Z"
   },
   {
    "duration": 9,
    "start_time": "2021-09-20T10:00:26.671Z"
   },
   {
    "duration": 404,
    "start_time": "2021-09-20T10:00:26.682Z"
   },
   {
    "duration": 5,
    "start_time": "2021-09-20T10:00:27.169Z"
   },
   {
    "duration": 89,
    "start_time": "2021-09-20T10:00:27.180Z"
   },
   {
    "duration": 10,
    "start_time": "2021-09-20T10:00:27.272Z"
   },
   {
    "duration": 14,
    "start_time": "2021-09-20T10:00:27.284Z"
   },
   {
    "duration": 3285,
    "start_time": "2021-09-20T10:00:27.301Z"
   },
   {
    "duration": 16420,
    "start_time": "2021-09-20T10:00:30.668Z"
   },
   {
    "duration": 98232,
    "start_time": "2021-09-20T10:00:47.091Z"
   },
   {
    "duration": 120349,
    "start_time": "2021-09-20T10:02:25.326Z"
   },
   {
    "duration": 321,
    "start_time": "2021-09-20T10:04:25.678Z"
   },
   {
    "duration": 17250,
    "start_time": "2021-09-20T10:04:26.002Z"
   },
   {
    "duration": 6,
    "start_time": "2021-11-03T16:25:56.460Z"
   },
   {
    "duration": 1536,
    "start_time": "2021-11-03T16:27:42.214Z"
   },
   {
    "duration": 77,
    "start_time": "2021-11-03T16:27:43.754Z"
   },
   {
    "duration": 23,
    "start_time": "2021-11-03T16:27:43.834Z"
   },
   {
    "duration": 99,
    "start_time": "2021-11-03T16:27:43.860Z"
   },
   {
    "duration": 594,
    "start_time": "2021-11-03T16:27:43.961Z"
   },
   {
    "duration": 6,
    "start_time": "2021-11-03T16:27:44.557Z"
   },
   {
    "duration": 7,
    "start_time": "2021-11-03T16:27:44.565Z"
   },
   {
    "duration": 47,
    "start_time": "2021-11-03T16:27:44.576Z"
   },
   {
    "duration": 8,
    "start_time": "2021-11-03T16:27:44.626Z"
   },
   {
    "duration": 471,
    "start_time": "2021-11-03T16:27:44.636Z"
   },
   {
    "duration": 6,
    "start_time": "2021-11-03T16:27:45.110Z"
   },
   {
    "duration": 90,
    "start_time": "2021-11-03T16:27:45.119Z"
   },
   {
    "duration": 6,
    "start_time": "2021-11-03T16:27:45.212Z"
   },
   {
    "duration": 2096,
    "start_time": "2021-11-03T16:27:45.220Z"
   },
   {
    "duration": 15128,
    "start_time": "2021-11-03T16:27:47.318Z"
   },
   {
    "duration": 102460,
    "start_time": "2021-11-03T16:28:02.448Z"
   },
   {
    "duration": 144094,
    "start_time": "2021-11-03T16:29:44.910Z"
   },
   {
    "duration": 284,
    "start_time": "2021-11-03T16:32:09.006Z"
   },
   {
    "duration": 15629,
    "start_time": "2021-11-03T16:32:09.293Z"
   }
  ],
  "kernelspec": {
   "display_name": "Python 3 (ipykernel)",
   "language": "python",
   "name": "python3"
  },
  "language_info": {
   "codemirror_mode": {
    "name": "ipython",
    "version": 3
   },
   "file_extension": ".py",
   "mimetype": "text/x-python",
   "name": "python",
   "nbconvert_exporter": "python",
   "pygments_lexer": "ipython3",
   "version": "3.10.2"
  },
  "toc": {
   "base_numbering": 1,
   "nav_menu": {},
   "number_sections": true,
   "sideBar": true,
   "skip_h1_title": true,
   "title_cell": "Содержание",
   "title_sidebar": "Contents",
   "toc_cell": true,
   "toc_position": {},
   "toc_section_display": true,
   "toc_window_display": false
  },
  "varInspector": {
   "cols": {
    "lenName": 16,
    "lenType": 16,
    "lenVar": 40
   },
   "kernels_config": {
    "python": {
     "delete_cmd_postfix": "",
     "delete_cmd_prefix": "del ",
     "library": "var_list.py",
     "varRefreshCmd": "print(var_dic_list())"
    },
    "r": {
     "delete_cmd_postfix": ") ",
     "delete_cmd_prefix": "rm(",
     "library": "var_list.r",
     "varRefreshCmd": "cat(var_dic_list()) "
    }
   },
   "types_to_exclude": [
    "module",
    "function",
    "builtin_function_or_method",
    "instance",
    "_Feature"
   ],
   "window_display": false
  }
 },
 "nbformat": 4,
 "nbformat_minor": 2
}
