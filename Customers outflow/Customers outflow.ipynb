{
 "cells": [
  {
   "cell_type": "markdown",
   "metadata": {
    "toc": true
   },
   "source": [
    "<h1>Содержание<span class=\"tocSkip\"></span></h1>\n",
    "<div class=\"toc\"><ul class=\"toc-item\"><li><span><a href=\"#Подготовка-данных\" data-toc-modified-id=\"Подготовка-данных-1\"><span class=\"toc-item-num\">1&nbsp;&nbsp;</span>Подготовка данных</a></span></li><li><span><a href=\"#Исследование-задачи\" data-toc-modified-id=\"Исследование-задачи-2\"><span class=\"toc-item-num\">2&nbsp;&nbsp;</span>Исследование задачи</a></span></li><li><span><a href=\"#Борьба-с-дисбалансом\" data-toc-modified-id=\"Борьба-с-дисбалансом-3\"><span class=\"toc-item-num\">3&nbsp;&nbsp;</span>Борьба с дисбалансом</a></span></li><li><span><a href=\"#Тестирование-модели\" data-toc-modified-id=\"Тестирование-модели-4\"><span class=\"toc-item-num\">4&nbsp;&nbsp;</span>Тестирование модели</a></span></li></ul></div>"
   ]
  },
  {
   "cell_type": "markdown",
   "metadata": {},
   "source": [
    "## Подготовка данных"
   ]
  },
  {
   "cell_type": "code",
   "execution_count": 4,
   "metadata": {},
   "outputs": [],
   "source": [
    "import pandas as pd\n",
    "from sklearn.model_selection import train_test_split\n",
    "from sklearn.tree import DecisionTreeClassifier\n",
    "from sklearn.linear_model import LogisticRegression\n",
    "from sklearn.ensemble import RandomForestClassifier\n",
    "from sklearn.preprocessing import OrdinalEncoder, StandardScaler\n",
    "from sklearn.metrics import f1_score, recall_score, roc_auc_score, confusion_matrix, accuracy_score\n",
    "from sklearn.utils import shuffle\n",
    "import numpy as np\n",
    "\n"
   ]
  },
  {
   "cell_type": "code",
   "execution_count": 34,
   "metadata": {},
   "outputs": [
    {
     "name": "stdout",
     "output_type": "stream",
     "text": [
      "(10000, 14)\n",
      "<class 'pandas.core.frame.DataFrame'>\n",
      "RangeIndex: 10000 entries, 0 to 9999\n",
      "Data columns (total 14 columns):\n",
      "RowNumber          10000 non-null int64\n",
      "CustomerId         10000 non-null int64\n",
      "Surname            10000 non-null object\n",
      "CreditScore        10000 non-null int64\n",
      "Geography          10000 non-null object\n",
      "Gender             10000 non-null object\n",
      "Age                10000 non-null int64\n",
      "Tenure             9091 non-null float64\n",
      "Balance            10000 non-null float64\n",
      "NumOfProducts      10000 non-null int64\n",
      "HasCrCard          10000 non-null int64\n",
      "IsActiveMember     10000 non-null int64\n",
      "EstimatedSalary    10000 non-null float64\n",
      "Exited             10000 non-null int64\n",
      "dtypes: float64(3), int64(8), object(3)\n",
      "memory usage: 1.1+ MB\n",
      "None\n",
      "    RowNumber  CustomerId    Surname  CreditScore Geography  Gender  Age  \\\n",
      "0           1    15634602   Hargrave          619    France  Female   42   \n",
      "1           2    15647311       Hill          608     Spain  Female   41   \n",
      "2           3    15619304       Onio          502    France  Female   42   \n",
      "3           4    15701354       Boni          699    France  Female   39   \n",
      "4           5    15737888   Mitchell          850     Spain  Female   43   \n",
      "5           6    15574012        Chu          645     Spain    Male   44   \n",
      "6           7    15592531   Bartlett          822    France    Male   50   \n",
      "7           8    15656148     Obinna          376   Germany  Female   29   \n",
      "8           9    15792365         He          501    France    Male   44   \n",
      "9          10    15592389         H?          684    France    Male   27   \n",
      "10         11    15767821     Bearce          528    France    Male   31   \n",
      "11         12    15737173    Andrews          497     Spain    Male   24   \n",
      "12         13    15632264        Kay          476    France  Female   34   \n",
      "13         14    15691483       Chin          549    France  Female   25   \n",
      "14         15    15600882      Scott          635     Spain  Female   35   \n",
      "15         16    15643966    Goforth          616   Germany    Male   45   \n",
      "16         17    15737452      Romeo          653   Germany    Male   58   \n",
      "17         18    15788218  Henderson          549     Spain  Female   24   \n",
      "18         19    15661507    Muldrow          587     Spain    Male   45   \n",
      "19         20    15568982        Hao          726    France  Female   24   \n",
      "\n",
      "    Tenure    Balance  NumOfProducts  HasCrCard  IsActiveMember  \\\n",
      "0      2.0       0.00              1          1               1   \n",
      "1      1.0   83807.86              1          0               1   \n",
      "2      8.0  159660.80              3          1               0   \n",
      "3      1.0       0.00              2          0               0   \n",
      "4      2.0  125510.82              1          1               1   \n",
      "5      8.0  113755.78              2          1               0   \n",
      "6      7.0       0.00              2          1               1   \n",
      "7      4.0  115046.74              4          1               0   \n",
      "8      4.0  142051.07              2          0               1   \n",
      "9      2.0  134603.88              1          1               1   \n",
      "10     6.0  102016.72              2          0               0   \n",
      "11     3.0       0.00              2          1               0   \n",
      "12    10.0       0.00              2          1               0   \n",
      "13     5.0       0.00              2          0               0   \n",
      "14     7.0       0.00              2          1               1   \n",
      "15     3.0  143129.41              2          0               1   \n",
      "16     1.0  132602.88              1          1               0   \n",
      "17     9.0       0.00              2          1               1   \n",
      "18     6.0       0.00              1          0               0   \n",
      "19     6.0       0.00              2          1               1   \n",
      "\n",
      "    EstimatedSalary  Exited  \n",
      "0         101348.88       1  \n",
      "1         112542.58       0  \n",
      "2         113931.57       1  \n",
      "3          93826.63       0  \n",
      "4          79084.10       0  \n",
      "5         149756.71       1  \n",
      "6          10062.80       0  \n",
      "7         119346.88       1  \n",
      "8          74940.50       0  \n",
      "9          71725.73       0  \n",
      "10         80181.12       0  \n",
      "11         76390.01       0  \n",
      "12         26260.98       0  \n",
      "13        190857.79       0  \n",
      "14         65951.65       0  \n",
      "15         64327.26       0  \n",
      "16          5097.67       1  \n",
      "17         14406.41       0  \n",
      "18        158684.81       0  \n",
      "19         54724.03       0  \n",
      "\n",
      "0    7963\n",
      "1    2037\n",
      "Name: Exited, dtype: int64\n"
     ]
    }
   ],
   "source": [
    "data = pd.read_csv('/datasets/Churn.csv')\n",
    "# display(data.head())\n",
    "print(data.shape)\n",
    "print(data.info())\n",
    "print(data.head(20))\n",
    "print('')\n",
    "print(data['Exited'].value_counts()) #Чтобы знать, на сколько домножать\n"
   ]
  },
  {
   "cell_type": "markdown",
   "metadata": {},
   "source": [
    "В столбце Tenure есть пропуски, нужно их обработать."
   ]
  },
  {
   "cell_type": "code",
   "execution_count": 3,
   "metadata": {},
   "outputs": [
    {
     "ename": "NameError",
     "evalue": "name 'data' is not defined",
     "output_type": "error",
     "traceback": [
      "\u001b[0;31m---------------------------------------------------------------------------\u001b[0m",
      "\u001b[0;31mNameError\u001b[0m                                 Traceback (most recent call last)",
      "\u001b[0;32m<ipython-input-3-ee1dbc268bf7>\u001b[0m in \u001b[0;36m<module>\u001b[0;34m\u001b[0m\n\u001b[1;32m      1\u001b[0m \u001b[0;31m# Удалил фамилии до преобразования OHE, так как фамилия практической значимости для анализа не несет. Пропущенный значения тоже убрал.\u001b[0m\u001b[0;34m\u001b[0m\u001b[0;34m\u001b[0m\u001b[0;34m\u001b[0m\u001b[0m\n\u001b[0;32m----> 2\u001b[0;31m \u001b[0mdata\u001b[0m \u001b[0;34m=\u001b[0m \u001b[0mdata\u001b[0m\u001b[0;34m.\u001b[0m\u001b[0mdropna\u001b[0m\u001b[0;34m(\u001b[0m\u001b[0;34m)\u001b[0m\u001b[0;34m\u001b[0m\u001b[0;34m\u001b[0m\u001b[0m\n\u001b[0m\u001b[1;32m      3\u001b[0m \u001b[0mdata\u001b[0m\u001b[0;34m=\u001b[0m\u001b[0mdata\u001b[0m\u001b[0;34m.\u001b[0m\u001b[0mdrop\u001b[0m\u001b[0;34m(\u001b[0m\u001b[0;34m[\u001b[0m\u001b[0;34m'Surname'\u001b[0m\u001b[0;34m]\u001b[0m\u001b[0;34m,\u001b[0m \u001b[0maxis\u001b[0m\u001b[0;34m=\u001b[0m\u001b[0;36m1\u001b[0m\u001b[0;34m)\u001b[0m\u001b[0;34m\u001b[0m\u001b[0;34m\u001b[0m\u001b[0m\n\u001b[1;32m      4\u001b[0m \u001b[0;31m# print(data.info())\u001b[0m\u001b[0;34m\u001b[0m\u001b[0;34m\u001b[0m\u001b[0;34m\u001b[0m\u001b[0m\n",
      "\u001b[0;31mNameError\u001b[0m: name 'data' is not defined"
     ]
    }
   ],
   "source": [
    "# Удалил фамилии до преобразования OHE, так как фамилия практической значимости для анализа не несет. Пропущенный значения тоже убрал.\n",
    "data = data.dropna()\n",
    "data=data.drop(['Surname'], axis=1)\n",
    "# print(data.info())"
   ]
  },
  {
   "cell_type": "code",
   "execution_count": 37,
   "metadata": {},
   "outputs": [],
   "source": [
    "#Преобразовал категориальные признаки в численные\n",
    "data_ohe = pd.get_dummies(data, drop_first=True)\n"
   ]
  },
  {
   "cell_type": "code",
   "execution_count": 38,
   "metadata": {},
   "outputs": [],
   "source": [
    "#Разбил данные на 3 выборки\n",
    "features = data_ohe.drop(['Exited','RowNumber', 'CustomerId'], axis=1)\n",
    "target = data_ohe['Exited']\n",
    "\n",
    "features_train, features_valid, target_train, target_valid = train_test_split(features, \n",
    "                                                                              target, test_size=0.4, random_state=12345)\n",
    "features_valid, features_test, target_valid, target_test = train_test_split(features_valid, \n",
    "                                                                             target_valid, test_size=0.5, random_state=12345)"
   ]
  },
  {
   "cell_type": "code",
   "execution_count": 39,
   "metadata": {},
   "outputs": [],
   "source": [
    "# Масштабировал данные\n",
    "a = features_train # Здесь хранятся исходники, чтобы из объекта numpy преобразовать в датафрейм\n",
    "b = features_valid\n",
    "c = features_test\n",
    "\n",
    "scaler = StandardScaler()\n",
    "scaler.fit(features_train) \n",
    "\n",
    "features_train_scaled = scaler.transform(features_train)\n",
    "scaler.fit(features_train)\n",
    "features_train = scaler.transform(features_train)\n",
    "features_train = pd.DataFrame(features_train, index=a.index, columns=a.columns)\n",
    "\n",
    "features_valid = scaler.transform(features_valid) \n",
    "features_valid = pd.DataFrame(features_valid, index=b.index, columns=b.columns)\n",
    "\n",
    "features_test = scaler.transform(features_test) \n",
    "features_test = pd.DataFrame(features_test, index=c.index, columns=c.columns)\n",
    "\n",
    "\n",
    "\n",
    "pd.options.mode.chained_assignment = None"
   ]
  },
  {
   "cell_type": "code",
   "execution_count": 40,
   "metadata": {},
   "outputs": [
    {
     "name": "stdout",
     "output_type": "stream",
     "text": [
      "(5454, 11)\n",
      "(1818, 11)\n",
      "(1819, 11)\n",
      "(5454,)\n",
      "(1818,)\n",
      "(1819,)\n"
     ]
    }
   ],
   "source": [
    "# Проверил размеры выборок\n",
    "print(features_train.shape)\n",
    "print(features_valid.shape)\n",
    "print(features_test.shape)\n",
    "print(target_train.shape)\n",
    "print(target_valid.shape)\n",
    "print(target_test.shape)"
   ]
  },
  {
   "cell_type": "code",
   "execution_count": 41,
   "metadata": {},
   "outputs": [
    {
     "data": {
      "text/html": [
       "<div>\n",
       "<style scoped>\n",
       "    .dataframe tbody tr th:only-of-type {\n",
       "        vertical-align: middle;\n",
       "    }\n",
       "\n",
       "    .dataframe tbody tr th {\n",
       "        vertical-align: top;\n",
       "    }\n",
       "\n",
       "    .dataframe thead th {\n",
       "        text-align: right;\n",
       "    }\n",
       "</style>\n",
       "<table border=\"1\" class=\"dataframe\">\n",
       "  <thead>\n",
       "    <tr style=\"text-align: right;\">\n",
       "      <th></th>\n",
       "      <th>CreditScore</th>\n",
       "      <th>Age</th>\n",
       "      <th>Tenure</th>\n",
       "      <th>Balance</th>\n",
       "      <th>NumOfProducts</th>\n",
       "      <th>HasCrCard</th>\n",
       "      <th>IsActiveMember</th>\n",
       "      <th>EstimatedSalary</th>\n",
       "      <th>Geography_Germany</th>\n",
       "      <th>Geography_Spain</th>\n",
       "      <th>Gender_Male</th>\n",
       "    </tr>\n",
       "  </thead>\n",
       "  <tbody>\n",
       "    <tr>\n",
       "      <td>0</td>\n",
       "      <td>619</td>\n",
       "      <td>42</td>\n",
       "      <td>2.0</td>\n",
       "      <td>0.00</td>\n",
       "      <td>1</td>\n",
       "      <td>1</td>\n",
       "      <td>1</td>\n",
       "      <td>101348.88</td>\n",
       "      <td>0</td>\n",
       "      <td>0</td>\n",
       "      <td>0</td>\n",
       "    </tr>\n",
       "    <tr>\n",
       "      <td>1</td>\n",
       "      <td>608</td>\n",
       "      <td>41</td>\n",
       "      <td>1.0</td>\n",
       "      <td>83807.86</td>\n",
       "      <td>1</td>\n",
       "      <td>0</td>\n",
       "      <td>1</td>\n",
       "      <td>112542.58</td>\n",
       "      <td>0</td>\n",
       "      <td>1</td>\n",
       "      <td>0</td>\n",
       "    </tr>\n",
       "    <tr>\n",
       "      <td>2</td>\n",
       "      <td>502</td>\n",
       "      <td>42</td>\n",
       "      <td>8.0</td>\n",
       "      <td>159660.80</td>\n",
       "      <td>3</td>\n",
       "      <td>1</td>\n",
       "      <td>0</td>\n",
       "      <td>113931.57</td>\n",
       "      <td>0</td>\n",
       "      <td>0</td>\n",
       "      <td>0</td>\n",
       "    </tr>\n",
       "  </tbody>\n",
       "</table>\n",
       "</div>"
      ],
      "text/plain": [
       "   CreditScore  Age  Tenure    Balance  NumOfProducts  HasCrCard  \\\n",
       "0          619   42     2.0       0.00              1          1   \n",
       "1          608   41     1.0   83807.86              1          0   \n",
       "2          502   42     8.0  159660.80              3          1   \n",
       "\n",
       "   IsActiveMember  EstimatedSalary  Geography_Germany  Geography_Spain  \\\n",
       "0               1        101348.88                  0                0   \n",
       "1               1        112542.58                  0                1   \n",
       "2               0        113931.57                  0                0   \n",
       "\n",
       "   Gender_Male  \n",
       "0            0  \n",
       "1            0  \n",
       "2            0  "
      ]
     },
     "execution_count": 41,
     "metadata": {},
     "output_type": "execute_result"
    }
   ],
   "source": [
    "features.head(3)"
   ]
  },
  {
   "cell_type": "markdown",
   "metadata": {},
   "source": [
    "## Исследование задачи"
   ]
  },
  {
   "cell_type": "code",
   "execution_count": 42,
   "metadata": {},
   "outputs": [
    {
     "name": "stdout",
     "output_type": "stream",
     "text": [
      "0.4926764314247669\n"
     ]
    }
   ],
   "source": [
    "#DECISION TREE CLASSIFIER\n",
    "model_dtc = DecisionTreeClassifier (random_state=12345)\n",
    "model_dtc.fit(features_train, target_train)\n",
    "predicted_dtc = model_dtc.predict(features_valid)\n",
    "f1_dtc = f1_score(target_valid, predicted_dtc)\n",
    "print(f1_dtc)"
   ]
  },
  {
   "cell_type": "code",
   "execution_count": 43,
   "metadata": {},
   "outputs": [
    {
     "name": "stdout",
     "output_type": "stream",
     "text": [
      "0.3033932135728543\n"
     ]
    }
   ],
   "source": [
    "#LOGISTIC REGRESSION\n",
    "model_lr = LogisticRegression(random_state=12345, solver='liblinear')\n",
    "model_lr.fit(features_train, target_train)\n",
    "predicted_lr = model_lr.predict(features_valid)\n",
    "f1_lr = f1_score(target_valid, predicted_lr)\n",
    "print(f1_lr)"
   ]
  },
  {
   "cell_type": "code",
   "execution_count": 44,
   "metadata": {},
   "outputs": [
    {
     "name": "stdout",
     "output_type": "stream",
     "text": [
      "0.5845648604269295\n"
     ]
    }
   ],
   "source": [
    "#RANDOM FOREST CLASSIFIER\n",
    "model_rfc = RandomForestClassifier(n_estimators=60, random_state=12345)\n",
    "model_rfc.fit(features_train, target_train)\n",
    "predicted_rfc = model_rfc.predict(features_valid)\n",
    "f1_rfc = f1_score(target_valid, predicted_rfc)\n",
    "print(f1_rfc)"
   ]
  },
  {
   "cell_type": "markdown",
   "metadata": {},
   "source": [
    "Без учета баланса классов, модели являются очень неточными, но лучше показывает себя дерево решений"
   ]
  },
  {
   "cell_type": "markdown",
   "metadata": {},
   "source": [
    "## Борьба с дисбалансом"
   ]
  },
  {
   "cell_type": "code",
   "execution_count": 45,
   "metadata": {},
   "outputs": [],
   "source": [
    "def upsample(features, target, repeat):\n",
    "    features_zeros = features[target == 0]\n",
    "    features_ones = features[target == 1]\n",
    "    target_zeros = target[target == 0]\n",
    "    target_ones = target[target == 1]\n",
    "    features_upsampled = pd.concat([features_zeros] + [features_ones] * repeat)\n",
    "    target_upsampled = pd.concat([target_zeros] + [target_ones] * repeat)\n",
    "    features_upsampled, target_upsampled = shuffle(\n",
    "    features_upsampled, target_upsampled, random_state=12345)\n",
    "    return features_upsampled, target_upsampled\n",
    "\n",
    "features_upsampled, target_upsampled = upsample(features_train, target_train, 4)"
   ]
  },
  {
   "cell_type": "code",
   "execution_count": 46,
   "metadata": {},
   "outputs": [
    {
     "name": "stdout",
     "output_type": "stream",
     "text": [
      "0.44925575101488496\n"
     ]
    }
   ],
   "source": [
    "# Decision Tree Classifier\n",
    "model_dtc = DecisionTreeClassifier (random_state=12345, class_weight='balanced')\n",
    "model_dtc.fit(features_upsampled, target_upsampled)\n",
    "predicted_dtc = model_dtc.predict(features_valid)\n",
    "f1_dtc = f1_score(target_valid, predicted_dtc)\n",
    "print(f1_dtc)"
   ]
  },
  {
   "cell_type": "code",
   "execution_count": 47,
   "metadata": {},
   "outputs": [
    {
     "name": "stdout",
     "output_type": "stream",
     "text": [
      "0.509731232622799\n"
     ]
    }
   ],
   "source": [
    "# LOGISTIC REGRESSION\n",
    "model_lr = LogisticRegression(random_state=12345, solver='liblinear', class_weight='balanced')\n",
    "model_lr.fit(features_upsampled, target_upsampled)\n",
    "predicted_lr = model_lr.predict(features_valid)\n",
    "f1_lr = f1_score(target_valid, predicted_lr)\n",
    "print(f1_lr)"
   ]
  },
  {
   "cell_type": "code",
   "execution_count": 48,
   "metadata": {},
   "outputs": [
    {
     "name": "stdout",
     "output_type": "stream",
     "text": [
      "0.638700947225981 141 13\n"
     ]
    }
   ],
   "source": [
    "# RANDOM FOREST CLASSIFIER\n",
    "best_model = None\n",
    "best_depth = 0\n",
    "best_est = 0\n",
    "best_f1 = 0\n",
    "for est in range(1, 200, 10):\n",
    "    for depth in range (1, 60, 2):\n",
    "        model_rfc = RandomForestClassifier(n_estimators=est, random_state=12345, class_weight='balanced', max_depth=depth )\n",
    "        model_rfc.fit(features_upsampled, target_upsampled)\n",
    "        predicted_rfc = model_rfc.predict(features_valid)\n",
    "        f1_rfc = f1_score(target_valid, predicted_rfc)\n",
    "        if f1_rfc > best_f1:\n",
    "            best_est = est\n",
    "            best_depth = depth\n",
    "            best_f1 = f1_rfc\n",
    "            best_model = model_rfc\n",
    "            \n",
    "print(best_f1, best_est, best_depth)"
   ]
  },
  {
   "cell_type": "markdown",
   "metadata": {},
   "source": [
    "Баланс классов увеличивает показатель  F-1 на валидационной выборке. Наиболее эффективной моделью является случайный лес, у него метрика 0.63."
   ]
  },
  {
   "cell_type": "markdown",
   "metadata": {},
   "source": [
    "## Тестирование модели"
   ]
  },
  {
   "cell_type": "code",
   "execution_count": 50,
   "metadata": {},
   "outputs": [
    {
     "name": "stdout",
     "output_type": "stream",
     "text": [
      "0.46814404432132967\n",
      "0.5030549898167006\n",
      "0.6118721461187213\n"
     ]
    }
   ],
   "source": [
    "print(f1_score(target_test, model_dtc.predict(features_test)))\n",
    "print(f1_score(target_test, model_lr.predict(features_test)))\n",
    "print(f1_score(target_test, model_rfc.predict(features_test)))\n"
   ]
  },
  {
   "cell_type": "code",
   "execution_count": null,
   "metadata": {},
   "outputs": [],
   "source": [
    "#ROC_AUC\n",
    "probabilities_test_lr = model_lr.predict_proba(features_test)\n",
    "probabilities_lr_ones = probabilities_test_lr[:, 1]\n",
    "roc_auc_lr = roc_auc_score(target_test, probabilities_lr_ones)\n",
    "print(roc_auc_lr)"
   ]
  },
  {
   "cell_type": "code",
   "execution_count": null,
   "metadata": {},
   "outputs": [],
   "source": [
    "def bootstrap (target_valid, predicted, target, count):\n",
    " values = []\n",
    "for i in range(1000):\n",
    "        target_subsample = target_valid.sample(n=500, random_state=12345, replace=True)\n",
    "        predicted_subsample = predicted[target_subsample.index]\n",
    "        values.append(max(target, predicted, 200))\n",
    "        \n",
    "        values = pd.Series(values)\n",
    "    return values.mean()\n",
    "# return values\n",
    "\n",
    "\n",
    "print(bootstrap(target_valid_0, predicted_0, target_0, 200))"
   ]
  },
  {
   "cell_type": "markdown",
   "metadata": {},
   "source": [
    "Метрика F-1 на тестовой выборке = 0.61, это означает что модель досточно точна в определении класса, при этом присваивание класса не происходит слишком часто. ROC_AUC показывает на сколько модель случайного леса (0.78) отличается от случайной модели (0.5), значит наша модель более чем в полтора раза эффективнее случайной модели.\n"
   ]
  }
 ],
 "metadata": {
  "ExecuteTimeLog": [
   {
    "duration": 570,
    "start_time": "2021-07-09T10:17:47.744Z"
   },
   {
    "duration": 344,
    "start_time": "2021-07-09T12:13:44.404Z"
   },
   {
    "duration": 739,
    "start_time": "2021-07-09T12:13:50.172Z"
   },
   {
    "duration": 4,
    "start_time": "2021-07-09T12:15:53.958Z"
   },
   {
    "duration": 342,
    "start_time": "2021-07-09T12:15:54.186Z"
   },
   {
    "duration": 61,
    "start_time": "2021-07-09T12:15:58.882Z"
   },
   {
    "duration": 338,
    "start_time": "2021-07-09T12:17:31.613Z"
   },
   {
    "duration": 50,
    "start_time": "2021-07-09T12:17:39.521Z"
   },
   {
    "duration": 50,
    "start_time": "2021-07-09T12:17:40.888Z"
   },
   {
    "duration": 287,
    "start_time": "2021-07-09T12:17:50.772Z"
   },
   {
    "duration": 274,
    "start_time": "2021-07-09T12:18:29.096Z"
   },
   {
    "duration": 7,
    "start_time": "2021-07-09T12:18:59.859Z"
   },
   {
    "duration": 551,
    "start_time": "2021-07-09T12:26:20.491Z"
   },
   {
    "duration": 51,
    "start_time": "2021-07-09T12:26:21.045Z"
   },
   {
    "duration": 84,
    "start_time": "2021-07-09T12:26:21.099Z"
   },
   {
    "duration": 12,
    "start_time": "2021-07-09T12:27:11.574Z"
   },
   {
    "duration": 341,
    "start_time": "2021-07-09T12:33:07.769Z"
   },
   {
    "duration": 306,
    "start_time": "2021-07-09T12:33:14.138Z"
   },
   {
    "duration": 249,
    "start_time": "2021-07-09T12:33:36.634Z"
   },
   {
    "duration": 4,
    "start_time": "2021-07-09T12:33:48.546Z"
   },
   {
    "duration": 52,
    "start_time": "2021-07-09T12:33:49.941Z"
   },
   {
    "duration": 15,
    "start_time": "2021-07-09T12:33:50.130Z"
   },
   {
    "duration": 264,
    "start_time": "2021-07-09T12:38:56.715Z"
   },
   {
    "duration": 4,
    "start_time": "2021-07-09T12:39:07.189Z"
   },
   {
    "duration": 77,
    "start_time": "2021-07-09T12:39:07.196Z"
   },
   {
    "duration": 10,
    "start_time": "2021-07-09T12:39:07.276Z"
   },
   {
    "duration": 276,
    "start_time": "2021-07-09T12:39:07.289Z"
   },
   {
    "duration": 288,
    "start_time": "2021-07-09T12:43:37.691Z"
   },
   {
    "duration": 6,
    "start_time": "2021-07-09T12:43:54.327Z"
   },
   {
    "duration": 51,
    "start_time": "2021-07-09T12:43:55.835Z"
   },
   {
    "duration": 11,
    "start_time": "2021-07-09T12:43:56.415Z"
   },
   {
    "duration": 293,
    "start_time": "2021-07-09T12:48:39.228Z"
   },
   {
    "duration": 272,
    "start_time": "2021-07-09T12:49:46.555Z"
   },
   {
    "duration": 4,
    "start_time": "2021-07-09T12:49:52.314Z"
   },
   {
    "duration": 53,
    "start_time": "2021-07-09T12:49:52.499Z"
   },
   {
    "duration": 256,
    "start_time": "2021-07-09T12:49:52.668Z"
   },
   {
    "duration": 64,
    "start_time": "2021-07-09T12:50:27.259Z"
   },
   {
    "duration": 53,
    "start_time": "2021-07-09T12:51:02.594Z"
   },
   {
    "duration": 309,
    "start_time": "2021-07-09T12:52:25.956Z"
   },
   {
    "duration": 12,
    "start_time": "2021-07-09T12:52:28.267Z"
   },
   {
    "duration": 423,
    "start_time": "2021-07-09T12:52:30.164Z"
   },
   {
    "duration": 4,
    "start_time": "2021-07-09T12:53:02.957Z"
   },
   {
    "duration": 52,
    "start_time": "2021-07-09T12:53:02.970Z"
   },
   {
    "duration": 368,
    "start_time": "2021-07-09T12:53:03.026Z"
   },
   {
    "duration": 15,
    "start_time": "2021-07-09T12:53:03.397Z"
   },
   {
    "duration": 340,
    "start_time": "2021-07-09T12:53:03.415Z"
   },
   {
    "duration": 288,
    "start_time": "2021-07-09T12:53:31.857Z"
   },
   {
    "duration": 408,
    "start_time": "2021-07-09T12:53:33.005Z"
   },
   {
    "duration": 54,
    "start_time": "2021-07-09T12:55:21.862Z"
   },
   {
    "duration": 247,
    "start_time": "2021-07-09T12:55:48.942Z"
   },
   {
    "duration": 1435,
    "start_time": "2021-07-09T12:55:49.412Z"
   },
   {
    "duration": 55,
    "start_time": "2021-07-09T13:06:16.802Z"
   },
   {
    "duration": 306,
    "start_time": "2021-07-09T13:08:13.249Z"
   },
   {
    "duration": 244,
    "start_time": "2021-07-09T13:09:03.051Z"
   },
   {
    "duration": 6,
    "start_time": "2021-07-09T13:09:22.563Z"
   },
   {
    "duration": 267,
    "start_time": "2021-07-09T13:09:31.611Z"
   },
   {
    "duration": 7,
    "start_time": "2021-07-09T13:09:52.820Z"
   },
   {
    "duration": 9,
    "start_time": "2021-07-09T13:12:12.860Z"
   },
   {
    "duration": 9,
    "start_time": "2021-07-09T13:12:19.140Z"
   },
   {
    "duration": 298,
    "start_time": "2021-07-09T13:12:20.330Z"
   },
   {
    "duration": 251,
    "start_time": "2021-07-09T13:12:24.084Z"
   },
   {
    "duration": 406,
    "start_time": "2021-07-09T13:12:26.012Z"
   },
   {
    "duration": 13,
    "start_time": "2021-07-09T13:13:04.365Z"
   },
   {
    "duration": 17,
    "start_time": "2021-07-09T13:15:33.326Z"
   },
   {
    "duration": 269,
    "start_time": "2021-07-09T13:15:33.525Z"
   },
   {
    "duration": 274,
    "start_time": "2021-07-09T13:15:34.158Z"
   },
   {
    "duration": 14,
    "start_time": "2021-07-09T13:15:42.739Z"
   },
   {
    "duration": 304,
    "start_time": "2021-07-09T13:15:42.901Z"
   },
   {
    "duration": 260,
    "start_time": "2021-07-09T13:15:43.207Z"
   },
   {
    "duration": 1662,
    "start_time": "2021-07-09T13:15:43.487Z"
   },
   {
    "duration": 1462,
    "start_time": "2021-07-09T13:53:15.338Z"
   },
   {
    "duration": 637,
    "start_time": "2021-07-09T13:57:17.404Z"
   },
   {
    "duration": 325,
    "start_time": "2021-07-09T13:57:28.044Z"
   },
   {
    "duration": 1044,
    "start_time": "2021-07-09T13:57:35.355Z"
   },
   {
    "duration": 247,
    "start_time": "2021-07-09T14:05:32.045Z"
   },
   {
    "duration": -34,
    "start_time": "2021-07-09T14:05:32.329Z"
   },
   {
    "duration": -38,
    "start_time": "2021-07-09T14:05:32.334Z"
   },
   {
    "duration": -40,
    "start_time": "2021-07-09T14:05:32.338Z"
   },
   {
    "duration": -59,
    "start_time": "2021-07-09T14:05:32.359Z"
   },
   {
    "duration": -60,
    "start_time": "2021-07-09T14:05:32.361Z"
   },
   {
    "duration": -62,
    "start_time": "2021-07-09T14:05:32.364Z"
   },
   {
    "duration": 6,
    "start_time": "2021-07-09T14:10:39.393Z"
   },
   {
    "duration": 55,
    "start_time": "2021-07-09T14:10:40.564Z"
   },
   {
    "duration": 13,
    "start_time": "2021-07-09T14:10:41.119Z"
   },
   {
    "duration": 265,
    "start_time": "2021-07-09T14:10:41.135Z"
   },
   {
    "duration": 367,
    "start_time": "2021-07-09T14:10:41.403Z"
   },
   {
    "duration": 953,
    "start_time": "2021-07-09T14:10:41.774Z"
   },
   {
    "duration": 771,
    "start_time": "2021-07-09T14:10:42.730Z"
   },
   {
    "duration": 438,
    "start_time": "2021-07-09T14:11:43.986Z"
   },
   {
    "duration": 5,
    "start_time": "2021-07-09T14:14:31.188Z"
   },
   {
    "duration": 77,
    "start_time": "2021-07-09T14:14:31.196Z"
   },
   {
    "duration": 19,
    "start_time": "2021-07-09T14:14:31.277Z"
   },
   {
    "duration": 331,
    "start_time": "2021-07-09T14:14:31.299Z"
   },
   {
    "duration": 392,
    "start_time": "2021-07-09T14:14:31.632Z"
   },
   {
    "duration": 1112,
    "start_time": "2021-07-09T14:14:32.027Z"
   },
   {
    "duration": 1502,
    "start_time": "2021-07-09T14:14:33.141Z"
   },
   {
    "duration": 1035,
    "start_time": "2021-07-09T14:15:27.006Z"
   },
   {
    "duration": 1265,
    "start_time": "2021-07-09T14:16:00.821Z"
   },
   {
    "duration": 948,
    "start_time": "2021-07-09T14:16:10.936Z"
   },
   {
    "duration": 4686,
    "start_time": "2021-07-09T14:22:00.006Z"
   },
   {
    "duration": 262,
    "start_time": "2021-07-09T14:28:00.402Z"
   },
   {
    "duration": 4,
    "start_time": "2021-07-09T14:28:04.895Z"
   },
   {
    "duration": 68,
    "start_time": "2021-07-09T14:28:04.902Z"
   },
   {
    "duration": 12,
    "start_time": "2021-07-09T14:28:04.973Z"
   },
   {
    "duration": 354,
    "start_time": "2021-07-09T14:28:04.988Z"
   },
   {
    "duration": 350,
    "start_time": "2021-07-09T14:28:05.344Z"
   },
   {
    "duration": 995,
    "start_time": "2021-07-09T14:28:05.697Z"
   },
   {
    "duration": 18137,
    "start_time": "2021-07-09T14:28:06.694Z"
   },
   {
    "duration": 18239,
    "start_time": "2021-07-09T14:31:55.415Z"
   },
   {
    "duration": 252,
    "start_time": "2021-07-09T14:33:32.431Z"
   },
   {
    "duration": 17951,
    "start_time": "2021-07-09T14:37:10.767Z"
   },
   {
    "duration": 18387,
    "start_time": "2021-07-09T14:40:58.200Z"
   },
   {
    "duration": 296,
    "start_time": "2021-07-09T14:50:54.230Z"
   },
   {
    "duration": 4,
    "start_time": "2021-07-09T14:51:25.513Z"
   },
   {
    "duration": 55,
    "start_time": "2021-07-09T14:51:25.687Z"
   },
   {
    "duration": 14,
    "start_time": "2021-07-09T14:51:25.882Z"
   },
   {
    "duration": 270,
    "start_time": "2021-07-09T14:51:26.047Z"
   },
   {
    "duration": 363,
    "start_time": "2021-07-09T14:51:26.320Z"
   },
   {
    "duration": 318,
    "start_time": "2021-07-09T14:51:33.906Z"
   },
   {
    "duration": 1056,
    "start_time": "2021-07-09T14:51:34.552Z"
   },
   {
    "duration": 448,
    "start_time": "2021-07-09T14:51:35.611Z"
   },
   {
    "duration": 529,
    "start_time": "2021-07-09T14:52:07.127Z"
   },
   {
    "duration": 376,
    "start_time": "2021-07-09T14:52:15.880Z"
   },
   {
    "duration": 546,
    "start_time": "2021-07-09T14:52:22.714Z"
   },
   {
    "duration": 972,
    "start_time": "2021-07-09T14:53:41.127Z"
   },
   {
    "duration": 529,
    "start_time": "2021-07-09T14:53:51.833Z"
   },
   {
    "duration": 568,
    "start_time": "2021-07-09T14:53:55.188Z"
   },
   {
    "duration": 4,
    "start_time": "2021-07-09T15:18:27.434Z"
   },
   {
    "duration": 83,
    "start_time": "2021-07-09T15:18:27.441Z"
   },
   {
    "duration": 26,
    "start_time": "2021-07-09T15:18:27.528Z"
   },
   {
    "duration": 286,
    "start_time": "2021-07-09T15:18:27.558Z"
   },
   {
    "duration": 519,
    "start_time": "2021-07-09T15:18:27.847Z"
   },
   {
    "duration": 985,
    "start_time": "2021-07-09T15:18:28.369Z"
   },
   {
    "duration": 600,
    "start_time": "2021-07-09T15:18:29.357Z"
   },
   {
    "duration": 767,
    "start_time": "2021-07-09T15:18:29.962Z"
   },
   {
    "duration": 235,
    "start_time": "2021-07-09T15:18:40.702Z"
   },
   {
    "duration": 5,
    "start_time": "2021-07-09T15:19:42.826Z"
   },
   {
    "duration": 594,
    "start_time": "2021-07-09T15:20:33.765Z"
   },
   {
    "duration": 504,
    "start_time": "2021-07-09T15:21:28.381Z"
   },
   {
    "duration": 245,
    "start_time": "2021-07-09T15:21:29.813Z"
   },
   {
    "duration": 499,
    "start_time": "2021-07-09T15:22:07.352Z"
   },
   {
    "duration": 559,
    "start_time": "2021-07-09T15:22:20.367Z"
   },
   {
    "duration": 1891,
    "start_time": "2021-07-09T15:22:27.568Z"
   },
   {
    "duration": 5,
    "start_time": "2021-07-09T15:22:41.774Z"
   },
   {
    "duration": 90,
    "start_time": "2021-07-09T15:22:41.781Z"
   },
   {
    "duration": 12,
    "start_time": "2021-07-09T15:22:41.875Z"
   },
   {
    "duration": 332,
    "start_time": "2021-07-09T15:22:41.889Z"
   },
   {
    "duration": 365,
    "start_time": "2021-07-09T15:22:42.224Z"
   },
   {
    "duration": 1057,
    "start_time": "2021-07-09T15:22:42.592Z"
   },
   {
    "duration": 608,
    "start_time": "2021-07-09T15:22:43.651Z"
   },
   {
    "duration": 1823,
    "start_time": "2021-07-09T15:22:44.264Z"
   },
   {
    "duration": 1201,
    "start_time": "2021-07-09T15:30:02.860Z"
   },
   {
    "duration": 4,
    "start_time": "2021-07-09T15:30:12.417Z"
   },
   {
    "duration": 70,
    "start_time": "2021-07-09T15:30:12.423Z"
   },
   {
    "duration": 12,
    "start_time": "2021-07-09T15:30:12.496Z"
   },
   {
    "duration": 333,
    "start_time": "2021-07-09T15:30:12.510Z"
   },
   {
    "duration": 347,
    "start_time": "2021-07-09T15:30:12.845Z"
   },
   {
    "duration": 1048,
    "start_time": "2021-07-09T15:30:13.195Z"
   },
   {
    "duration": 612,
    "start_time": "2021-07-09T15:30:14.246Z"
   },
   {
    "duration": 1794,
    "start_time": "2021-07-09T15:30:14.862Z"
   },
   {
    "duration": 529,
    "start_time": "2021-07-09T15:31:29.027Z"
   },
   {
    "duration": 620,
    "start_time": "2021-07-09T15:31:38.537Z"
   },
   {
    "duration": 1795,
    "start_time": "2021-07-09T15:31:39.161Z"
   },
   {
    "duration": 521,
    "start_time": "2021-07-09T15:32:40.036Z"
   },
   {
    "duration": 656,
    "start_time": "2021-07-09T15:32:44.100Z"
   },
   {
    "duration": 493,
    "start_time": "2021-07-09T15:32:50.372Z"
   },
   {
    "duration": 1791,
    "start_time": "2021-07-09T15:32:50.869Z"
   },
   {
    "duration": 6,
    "start_time": "2021-07-09T15:34:02.156Z"
   },
   {
    "duration": 7,
    "start_time": "2021-07-09T15:35:25.467Z"
   },
   {
    "duration": 585,
    "start_time": "2021-07-09T15:35:25.771Z"
   },
   {
    "duration": 5,
    "start_time": "2021-07-09T15:35:27.315Z"
   },
   {
    "duration": 1739,
    "start_time": "2021-07-09T15:35:28.115Z"
   },
   {
    "duration": 6,
    "start_time": "2021-07-09T15:37:10.361Z"
   },
   {
    "duration": 711,
    "start_time": "2021-07-09T15:37:11.228Z"
   },
   {
    "duration": 4,
    "start_time": "2021-07-09T15:37:47.118Z"
   },
   {
    "duration": 57,
    "start_time": "2021-07-09T15:37:47.981Z"
   },
   {
    "duration": 14,
    "start_time": "2021-07-09T15:37:48.140Z"
   },
   {
    "duration": 334,
    "start_time": "2021-07-09T15:37:48.302Z"
   },
   {
    "duration": 352,
    "start_time": "2021-07-09T15:37:48.638Z"
   },
   {
    "duration": 5,
    "start_time": "2021-07-09T15:37:48.993Z"
   },
   {
    "duration": 534,
    "start_time": "2021-07-09T15:37:49.527Z"
   },
   {
    "duration": 5,
    "start_time": "2021-07-09T15:37:50.565Z"
   },
   {
    "duration": 2028,
    "start_time": "2021-07-09T15:37:50.828Z"
   },
   {
    "duration": 1063,
    "start_time": "2021-07-09T15:38:41.512Z"
   },
   {
    "duration": 553,
    "start_time": "2021-07-09T15:38:43.710Z"
   },
   {
    "duration": 7,
    "start_time": "2021-07-09T15:38:44.703Z"
   },
   {
    "duration": 2225,
    "start_time": "2021-07-09T15:38:45.037Z"
   },
   {
    "duration": 3583,
    "start_time": "2021-07-09T15:39:18.574Z"
   },
   {
    "duration": 4284,
    "start_time": "2021-07-09T15:39:41.672Z"
   },
   {
    "duration": 4373,
    "start_time": "2021-07-09T15:45:01.186Z"
   },
   {
    "duration": 15527,
    "start_time": "2021-07-09T15:45:23.129Z"
   },
   {
    "duration": 387,
    "start_time": "2021-07-09T15:49:01.763Z"
   },
   {
    "duration": 337,
    "start_time": "2021-07-09T15:49:23.755Z"
   },
   {
    "duration": 988,
    "start_time": "2021-07-09T15:49:24.349Z"
   },
   {
    "duration": 522,
    "start_time": "2021-07-09T15:49:25.340Z"
   },
   {
    "duration": 6,
    "start_time": "2021-07-09T15:49:31.988Z"
   },
   {
    "duration": 7035,
    "start_time": "2021-07-09T15:49:32.219Z"
   },
   {
    "duration": 4,
    "start_time": "2021-07-09T15:49:43.005Z"
   },
   {
    "duration": 68,
    "start_time": "2021-07-09T15:49:43.013Z"
   },
   {
    "duration": 16,
    "start_time": "2021-07-09T15:49:43.085Z"
   },
   {
    "duration": 304,
    "start_time": "2021-07-09T15:49:43.105Z"
   },
   {
    "duration": 366,
    "start_time": "2021-07-09T15:49:43.411Z"
   },
   {
    "duration": 1232,
    "start_time": "2021-07-09T15:49:43.779Z"
   },
   {
    "duration": 648,
    "start_time": "2021-07-09T15:49:45.016Z"
   },
   {
    "duration": 8,
    "start_time": "2021-07-09T15:49:45.754Z"
   },
   {
    "duration": 7390,
    "start_time": "2021-07-09T15:49:45.765Z"
   },
   {
    "duration": 121,
    "start_time": "2021-07-09T15:49:53.158Z"
   },
   {
    "duration": 1049,
    "start_time": "2021-07-12T14:57:26.806Z"
   },
   {
    "duration": 46,
    "start_time": "2021-07-12T14:57:27.857Z"
   },
   {
    "duration": 8,
    "start_time": "2021-07-12T14:57:27.905Z"
   },
   {
    "duration": 197,
    "start_time": "2021-07-12T14:57:27.914Z"
   },
   {
    "duration": 276,
    "start_time": "2021-07-12T14:57:28.113Z"
   },
   {
    "duration": 817,
    "start_time": "2021-07-12T14:57:28.391Z"
   },
   {
    "duration": 431,
    "start_time": "2021-07-12T14:57:29.210Z"
   },
   {
    "duration": 96,
    "start_time": "2021-07-12T14:57:29.644Z"
   },
   {
    "duration": 5610,
    "start_time": "2021-07-12T14:57:29.742Z"
   },
   {
    "duration": 416,
    "start_time": "2021-07-12T14:57:35.354Z"
   },
   {
    "duration": 2261,
    "start_time": "2021-07-12T14:59:19.480Z"
   },
   {
    "duration": 420,
    "start_time": "2021-07-12T15:00:59.823Z"
   },
   {
    "duration": 4,
    "start_time": "2021-07-12T15:01:03.689Z"
   },
   {
    "duration": 2179,
    "start_time": "2021-07-12T15:01:05.164Z"
   },
   {
    "duration": 377,
    "start_time": "2021-07-12T16:31:42.372Z"
   },
   {
    "duration": 3,
    "start_time": "2021-07-12T16:31:44.533Z"
   },
   {
    "duration": 2183,
    "start_time": "2021-07-12T16:31:44.861Z"
   },
   {
    "duration": 4,
    "start_time": "2021-07-12T16:34:23.905Z"
   },
   {
    "duration": 38,
    "start_time": "2021-07-12T16:34:24.231Z"
   },
   {
    "duration": 8,
    "start_time": "2021-07-12T16:34:24.558Z"
   },
   {
    "duration": 169,
    "start_time": "2021-07-12T16:34:26.315Z"
   },
   {
    "duration": 247,
    "start_time": "2021-07-12T16:34:26.678Z"
   },
   {
    "duration": 4997,
    "start_time": "2021-07-12T16:35:42.856Z"
   },
   {
    "duration": 808,
    "start_time": "2021-07-12T16:37:18.881Z"
   },
   {
    "duration": 441,
    "start_time": "2021-07-12T16:37:20.302Z"
   },
   {
    "duration": 4,
    "start_time": "2021-07-12T16:37:24.345Z"
   },
   {
    "duration": 4928,
    "start_time": "2021-07-12T16:37:24.526Z"
   },
   {
    "duration": 4,
    "start_time": "2021-07-12T16:38:33.086Z"
   },
   {
    "duration": 4403,
    "start_time": "2021-07-12T16:38:34.737Z"
   },
   {
    "duration": 3,
    "start_time": "2021-07-12T16:38:43.482Z"
   },
   {
    "duration": 4931,
    "start_time": "2021-07-12T16:38:44.711Z"
   },
   {
    "duration": 335,
    "start_time": "2021-07-12T16:40:48.524Z"
   },
   {
    "duration": 4,
    "start_time": "2021-07-12T16:40:51.945Z"
   },
   {
    "duration": 255,
    "start_time": "2021-07-12T16:40:52.181Z"
   },
   {
    "duration": 1059,
    "start_time": "2021-07-12T16:40:58.023Z"
   },
   {
    "duration": 48,
    "start_time": "2021-07-12T16:40:59.084Z"
   },
   {
    "duration": 9,
    "start_time": "2021-07-12T16:40:59.134Z"
   },
   {
    "duration": 208,
    "start_time": "2021-07-12T16:40:59.145Z"
   },
   {
    "duration": 289,
    "start_time": "2021-07-12T16:40:59.355Z"
   },
   {
    "duration": 895,
    "start_time": "2021-07-12T16:40:59.645Z"
   },
   {
    "duration": 405,
    "start_time": "2021-07-12T16:41:00.542Z"
   },
   {
    "duration": 93,
    "start_time": "2021-07-12T16:41:00.949Z"
   },
   {
    "duration": 498,
    "start_time": "2021-07-12T16:41:35.282Z"
   },
   {
    "duration": 1195,
    "start_time": "2021-07-12T16:41:38.737Z"
   },
   {
    "duration": 56,
    "start_time": "2021-07-12T16:41:39.934Z"
   },
   {
    "duration": 8,
    "start_time": "2021-07-12T16:41:39.992Z"
   },
   {
    "duration": 221,
    "start_time": "2021-07-12T16:41:40.002Z"
   },
   {
    "duration": 341,
    "start_time": "2021-07-12T16:41:40.225Z"
   },
   {
    "duration": 1216,
    "start_time": "2021-07-12T16:41:40.568Z"
   },
   {
    "duration": 464,
    "start_time": "2021-07-12T16:41:41.786Z"
   },
   {
    "duration": 90,
    "start_time": "2021-07-12T16:41:42.252Z"
   },
   {
    "duration": 11199,
    "start_time": "2021-07-12T16:41:42.344Z"
   },
   {
    "duration": 517,
    "start_time": "2021-07-12T16:41:53.546Z"
   },
   {
    "duration": 255,
    "start_time": "2021-07-12T16:43:50.529Z"
   },
   {
    "duration": 388,
    "start_time": "2021-07-12T16:45:48.391Z"
   },
   {
    "duration": 252,
    "start_time": "2021-07-12T16:46:14.819Z"
   },
   {
    "duration": 4,
    "start_time": "2021-07-12T16:54:46.871Z"
   },
   {
    "duration": 10856,
    "start_time": "2021-07-12T16:54:48.488Z"
   },
   {
    "duration": 5026,
    "start_time": "2021-07-12T16:55:00.417Z"
   },
   {
    "duration": 873,
    "start_time": "2021-07-12T16:56:19.634Z"
   },
   {
    "duration": 513,
    "start_time": "2021-07-12T16:56:23.527Z"
   },
   {
    "duration": 4,
    "start_time": "2021-07-12T16:56:24.696Z"
   },
   {
    "duration": 5009,
    "start_time": "2021-07-12T16:56:25.135Z"
   },
   {
    "duration": 859,
    "start_time": "2021-07-12T16:56:54.945Z"
   },
   {
    "duration": 441,
    "start_time": "2021-07-12T16:56:55.806Z"
   },
   {
    "duration": 4,
    "start_time": "2021-07-12T16:56:58.660Z"
   },
   {
    "duration": 5024,
    "start_time": "2021-07-12T16:56:59.319Z"
   },
   {
    "duration": 2534,
    "start_time": "2021-07-12T17:13:13.513Z"
   },
   {
    "duration": 250,
    "start_time": "2021-07-12T17:18:05.922Z"
   },
   {
    "duration": 80,
    "start_time": "2021-07-12T17:20:26.341Z"
   },
   {
    "duration": 477,
    "start_time": "2021-07-12T17:20:45.965Z"
   },
   {
    "duration": 809,
    "start_time": "2021-07-12T17:21:06.219Z"
   },
   {
    "duration": 370,
    "start_time": "2021-07-12T17:21:09.380Z"
   },
   {
    "duration": 4,
    "start_time": "2021-07-12T17:21:10.614Z"
   },
   {
    "duration": 2578,
    "start_time": "2021-07-12T17:21:12.064Z"
   },
   {
    "duration": 28,
    "start_time": "2021-07-12T17:21:26.812Z"
   },
   {
    "duration": 81,
    "start_time": "2021-07-12T17:22:03.460Z"
   },
   {
    "duration": 52,
    "start_time": "2021-07-12T17:22:33.204Z"
   },
   {
    "duration": 111,
    "start_time": "2021-07-12T17:22:49.032Z"
   },
   {
    "duration": 2548,
    "start_time": "2021-07-12T17:35:38.012Z"
   },
   {
    "duration": 4,
    "start_time": "2021-07-12T17:44:15.391Z"
   },
   {
    "duration": 44,
    "start_time": "2021-07-12T17:44:15.397Z"
   },
   {
    "duration": 4,
    "start_time": "2021-07-12T17:44:15.443Z"
   },
   {
    "duration": 176,
    "start_time": "2021-07-12T17:44:15.449Z"
   },
   {
    "duration": 266,
    "start_time": "2021-07-12T17:44:15.627Z"
   },
   {
    "duration": 798,
    "start_time": "2021-07-12T17:44:15.895Z"
   },
   {
    "duration": 447,
    "start_time": "2021-07-12T17:44:16.695Z"
   },
   {
    "duration": 5,
    "start_time": "2021-07-12T17:44:17.144Z"
   },
   {
    "duration": 2600,
    "start_time": "2021-07-12T17:44:17.242Z"
   },
   {
    "duration": 276,
    "start_time": "2021-07-12T17:44:19.844Z"
   },
   {
    "duration": -331,
    "start_time": "2021-07-12T17:44:20.453Z"
   },
   {
    "duration": 518,
    "start_time": "2021-07-12T17:44:27.751Z"
   },
   {
    "duration": 265,
    "start_time": "2021-07-12T17:44:39.923Z"
   },
   {
    "duration": 271,
    "start_time": "2021-07-12T17:46:22.885Z"
   },
   {
    "duration": 268,
    "start_time": "2021-07-12T17:46:39.473Z"
   },
   {
    "duration": 268,
    "start_time": "2021-07-12T17:46:46.289Z"
   },
   {
    "duration": 4,
    "start_time": "2021-07-12T17:47:00.941Z"
   },
   {
    "duration": 45,
    "start_time": "2021-07-12T17:47:00.947Z"
   },
   {
    "duration": 4,
    "start_time": "2021-07-12T17:47:00.994Z"
   },
   {
    "duration": 178,
    "start_time": "2021-07-12T17:47:00.999Z"
   },
   {
    "duration": 253,
    "start_time": "2021-07-12T17:47:01.179Z"
   },
   {
    "duration": 807,
    "start_time": "2021-07-12T17:47:01.434Z"
   },
   {
    "duration": 501,
    "start_time": "2021-07-12T17:47:02.242Z"
   },
   {
    "duration": 95,
    "start_time": "2021-07-12T17:47:02.745Z"
   },
   {
    "duration": 2619,
    "start_time": "2021-07-12T17:47:02.843Z"
   },
   {
    "duration": 358,
    "start_time": "2021-07-12T17:47:05.542Z"
   },
   {
    "duration": 139,
    "start_time": "2021-07-12T17:47:05.902Z"
   },
   {
    "duration": 491,
    "start_time": "2021-07-12T17:49:17.866Z"
   },
   {
    "duration": 264,
    "start_time": "2021-07-12T17:49:25.356Z"
   },
   {
    "duration": 11,
    "start_time": "2021-07-12T18:11:16.349Z"
   },
   {
    "duration": 5,
    "start_time": "2021-07-12T18:11:19.621Z"
   },
   {
    "duration": 5,
    "start_time": "2021-07-12T18:15:27.180Z"
   },
   {
    "duration": 42,
    "start_time": "2021-07-12T18:15:27.187Z"
   },
   {
    "duration": 3,
    "start_time": "2021-07-12T18:15:27.231Z"
   },
   {
    "duration": 173,
    "start_time": "2021-07-12T18:15:27.235Z"
   },
   {
    "duration": 278,
    "start_time": "2021-07-12T18:15:27.409Z"
   },
   {
    "duration": 974,
    "start_time": "2021-07-12T18:15:27.688Z"
   },
   {
    "duration": 401,
    "start_time": "2021-07-12T18:15:28.663Z"
   },
   {
    "duration": 1019,
    "start_time": "2021-07-12T18:15:29.143Z"
   },
   {
    "duration": -368,
    "start_time": "2021-07-12T18:15:30.532Z"
   },
   {
    "duration": -373,
    "start_time": "2021-07-12T18:15:30.538Z"
   },
   {
    "duration": -374,
    "start_time": "2021-07-12T18:15:30.540Z"
   },
   {
    "duration": -375,
    "start_time": "2021-07-12T18:15:30.541Z"
   },
   {
    "duration": 574,
    "start_time": "2021-07-12T18:25:09.319Z"
   },
   {
    "duration": 3,
    "start_time": "2021-07-12T18:27:02.301Z"
   },
   {
    "duration": 49,
    "start_time": "2021-07-12T18:27:02.305Z"
   },
   {
    "duration": 3,
    "start_time": "2021-07-12T18:27:02.356Z"
   },
   {
    "duration": 186,
    "start_time": "2021-07-12T18:27:02.361Z"
   },
   {
    "duration": 263,
    "start_time": "2021-07-12T18:27:02.548Z"
   },
   {
    "duration": 811,
    "start_time": "2021-07-12T18:27:02.812Z"
   },
   {
    "duration": 419,
    "start_time": "2021-07-12T18:27:03.624Z"
   },
   {
    "duration": 672,
    "start_time": "2021-07-12T18:27:04.045Z"
   },
   {
    "duration": 3,
    "start_time": "2021-07-12T18:27:04.719Z"
   },
   {
    "duration": 2523,
    "start_time": "2021-07-12T18:27:04.724Z"
   },
   {
    "duration": 92,
    "start_time": "2021-07-12T18:27:07.250Z"
   },
   {
    "duration": 201,
    "start_time": "2021-07-12T18:27:07.344Z"
   },
   {
    "duration": 257,
    "start_time": "2021-07-12T18:27:29.459Z"
   },
   {
    "duration": 251,
    "start_time": "2021-07-12T18:27:39.954Z"
   },
   {
    "duration": 3,
    "start_time": "2021-07-12T18:28:03.638Z"
   },
   {
    "duration": 570,
    "start_time": "2021-07-12T18:28:37.891Z"
   },
   {
    "duration": 599,
    "start_time": "2021-07-12T18:28:55.719Z"
   },
   {
    "duration": 592,
    "start_time": "2021-07-12T18:30:09.341Z"
   },
   {
    "duration": 97,
    "start_time": "2021-07-12T18:34:51.270Z"
   },
   {
    "duration": 211,
    "start_time": "2021-07-12T18:34:54.893Z"
   },
   {
    "duration": 705,
    "start_time": "2021-07-12T18:35:03.803Z"
   },
   {
    "duration": 579,
    "start_time": "2021-07-12T18:35:20.661Z"
   },
   {
    "duration": 657,
    "start_time": "2021-07-12T18:35:57.949Z"
   },
   {
    "duration": 569,
    "start_time": "2021-07-12T18:42:40.985Z"
   },
   {
    "duration": 572,
    "start_time": "2021-07-12T18:43:17.082Z"
   },
   {
    "duration": 798,
    "start_time": "2021-07-12T18:43:22.558Z"
   },
   {
    "duration": 3615,
    "start_time": "2021-07-12T18:44:18.580Z"
   },
   {
    "duration": 4340,
    "start_time": "2021-07-12T18:44:45.740Z"
   },
   {
    "duration": 2556,
    "start_time": "2021-07-12T18:45:00.890Z"
   },
   {
    "duration": 4302,
    "start_time": "2021-07-12T18:45:06.082Z"
   },
   {
    "duration": 11987,
    "start_time": "2021-07-12T18:45:36.176Z"
   },
   {
    "duration": 23623,
    "start_time": "2021-07-12T18:47:12.785Z"
   },
   {
    "duration": 30089,
    "start_time": "2021-07-12T18:53:32.501Z"
   },
   {
    "duration": 3,
    "start_time": "2021-07-12T18:54:08.268Z"
   },
   {
    "duration": 106,
    "start_time": "2021-07-12T18:54:10.837Z"
   },
   {
    "duration": 419,
    "start_time": "2021-07-12T18:55:28.101Z"
   },
   {
    "duration": 4,
    "start_time": "2021-07-12T18:55:33.330Z"
   },
   {
    "duration": 42,
    "start_time": "2021-07-12T18:55:33.336Z"
   },
   {
    "duration": 3,
    "start_time": "2021-07-12T18:55:33.381Z"
   },
   {
    "duration": 186,
    "start_time": "2021-07-12T18:55:33.385Z"
   },
   {
    "duration": 266,
    "start_time": "2021-07-12T18:55:33.572Z"
   },
   {
    "duration": 849,
    "start_time": "2021-07-12T18:55:33.840Z"
   },
   {
    "duration": 455,
    "start_time": "2021-07-12T18:55:34.691Z"
   },
   {
    "duration": 4429,
    "start_time": "2021-07-12T18:55:35.149Z"
   },
   {
    "duration": 4,
    "start_time": "2021-07-12T18:55:39.580Z"
   },
   {
    "duration": 2560,
    "start_time": "2021-07-12T18:55:39.585Z"
   },
   {
    "duration": 30554,
    "start_time": "2021-07-12T18:55:42.147Z"
   },
   {
    "duration": 3,
    "start_time": "2021-07-12T18:56:12.702Z"
   },
   {
    "duration": 424,
    "start_time": "2021-07-12T18:56:12.706Z"
   },
   {
    "duration": 20202,
    "start_time": "2021-07-12T18:56:37.150Z"
   },
   {
    "duration": 3,
    "start_time": "2021-07-12T18:56:57.354Z"
   },
   {
    "duration": 369,
    "start_time": "2021-07-12T18:56:57.358Z"
   },
   {
    "duration": 657,
    "start_time": "2021-07-12T18:57:19.176Z"
   },
   {
    "duration": 647,
    "start_time": "2021-07-12T18:57:34.794Z"
   },
   {
    "duration": 371,
    "start_time": "2021-07-12T18:57:42.304Z"
   },
   {
    "duration": 22179,
    "start_time": "2021-07-12T18:58:33.150Z"
   },
   {
    "duration": 10,
    "start_time": "2021-07-12T18:58:55.332Z"
   },
   {
    "duration": 345,
    "start_time": "2021-07-12T18:58:55.345Z"
   },
   {
    "duration": 338,
    "start_time": "2021-07-12T18:59:18.376Z"
   },
   {
    "duration": 532,
    "start_time": "2021-07-12T19:00:22.111Z"
   },
   {
    "duration": 447,
    "start_time": "2021-07-12T19:00:44.209Z"
   },
   {
    "duration": 605,
    "start_time": "2021-07-12T19:01:52.232Z"
   },
   {
    "duration": 619,
    "start_time": "2021-07-12T19:02:09.619Z"
   },
   {
    "duration": 3,
    "start_time": "2021-07-12T19:02:23.184Z"
   },
   {
    "duration": 45,
    "start_time": "2021-07-12T19:02:24.170Z"
   },
   {
    "duration": 4,
    "start_time": "2021-07-12T19:02:24.327Z"
   },
   {
    "duration": 173,
    "start_time": "2021-07-12T19:02:24.497Z"
   },
   {
    "duration": 263,
    "start_time": "2021-07-12T19:02:24.680Z"
   },
   {
    "duration": 895,
    "start_time": "2021-07-12T19:02:25.207Z"
   },
   {
    "duration": 438,
    "start_time": "2021-07-12T19:02:26.105Z"
   },
   {
    "duration": 4837,
    "start_time": "2021-07-12T19:02:26.545Z"
   },
   {
    "duration": 4,
    "start_time": "2021-07-12T19:02:31.385Z"
   },
   {
    "duration": 2757,
    "start_time": "2021-07-12T19:02:31.391Z"
   },
   {
    "duration": 20697,
    "start_time": "2021-07-12T19:02:34.151Z"
   },
   {
    "duration": 597,
    "start_time": "2021-07-12T19:02:54.851Z"
   },
   {
    "duration": -301,
    "start_time": "2021-07-12T19:02:55.752Z"
   },
   {
    "duration": 600,
    "start_time": "2021-07-12T19:06:10.419Z"
   },
   {
    "duration": 548,
    "start_time": "2021-07-12T19:06:24.373Z"
   },
   {
    "duration": 546,
    "start_time": "2021-07-12T19:07:22.276Z"
   },
   {
    "duration": 530,
    "start_time": "2021-07-12T19:07:31.387Z"
   },
   {
    "duration": 383,
    "start_time": "2021-07-12T19:07:49.189Z"
   },
   {
    "duration": 633,
    "start_time": "2021-07-12T19:47:31.039Z"
   },
   {
    "duration": 401,
    "start_time": "2021-07-12T19:55:49.742Z"
   },
   {
    "duration": 4427,
    "start_time": "2021-07-12T19:55:50.326Z"
   },
   {
    "duration": 4,
    "start_time": "2021-07-12T19:55:54.755Z"
   },
   {
    "duration": 2581,
    "start_time": "2021-07-12T19:55:54.761Z"
   },
   {
    "duration": 19351,
    "start_time": "2021-07-12T19:55:57.345Z"
   },
   {
    "duration": 657,
    "start_time": "2021-07-12T19:56:16.698Z"
   },
   {
    "duration": 320,
    "start_time": "2021-07-12T19:56:17.356Z"
   },
   {
    "duration": 265,
    "start_time": "2021-07-12T20:00:37.062Z"
   },
   {
    "duration": 602,
    "start_time": "2021-07-12T20:00:43.903Z"
   },
   {
    "duration": 4,
    "start_time": "2021-07-12T20:01:06.801Z"
   },
   {
    "duration": 52,
    "start_time": "2021-07-12T20:01:06.808Z"
   },
   {
    "duration": 3,
    "start_time": "2021-07-12T20:01:06.862Z"
   },
   {
    "duration": 177,
    "start_time": "2021-07-12T20:01:06.867Z"
   },
   {
    "duration": 265,
    "start_time": "2021-07-12T20:01:07.046Z"
   },
   {
    "duration": 562,
    "start_time": "2021-07-12T20:01:07.313Z"
   },
   {
    "duration": -592,
    "start_time": "2021-07-12T20:01:08.469Z"
   },
   {
    "duration": -605,
    "start_time": "2021-07-12T20:01:08.483Z"
   },
   {
    "duration": -605,
    "start_time": "2021-07-12T20:01:08.485Z"
   },
   {
    "duration": -605,
    "start_time": "2021-07-12T20:01:08.486Z"
   },
   {
    "duration": -606,
    "start_time": "2021-07-12T20:01:08.488Z"
   },
   {
    "duration": -605,
    "start_time": "2021-07-12T20:01:08.489Z"
   },
   {
    "duration": -608,
    "start_time": "2021-07-12T20:01:08.493Z"
   },
   {
    "duration": 539,
    "start_time": "2021-07-12T20:01:50.414Z"
   },
   {
    "duration": 325,
    "start_time": "2021-07-12T20:02:04.925Z"
   },
   {
    "duration": 382,
    "start_time": "2021-07-12T20:02:56.781Z"
   },
   {
    "duration": 4,
    "start_time": "2021-07-12T20:05:27.093Z"
   },
   {
    "duration": 43,
    "start_time": "2021-07-12T20:05:27.098Z"
   },
   {
    "duration": 3,
    "start_time": "2021-07-12T20:05:27.143Z"
   },
   {
    "duration": 169,
    "start_time": "2021-07-12T20:05:27.148Z"
   },
   {
    "duration": 252,
    "start_time": "2021-07-12T20:05:27.318Z"
   },
   {
    "duration": 304,
    "start_time": "2021-07-12T20:05:27.571Z"
   },
   {
    "duration": 696,
    "start_time": "2021-07-12T20:05:27.945Z"
   },
   {
    "duration": 4410,
    "start_time": "2021-07-12T20:05:28.644Z"
   },
   {
    "duration": 4,
    "start_time": "2021-07-12T20:05:33.056Z"
   },
   {
    "duration": 2498,
    "start_time": "2021-07-12T20:05:33.061Z"
   },
   {
    "duration": 19175,
    "start_time": "2021-07-12T20:05:35.646Z"
   },
   {
    "duration": 2,
    "start_time": "2021-07-12T20:05:54.823Z"
   },
   {
    "duration": 348,
    "start_time": "2021-07-12T20:05:54.827Z"
   },
   {
    "duration": 344,
    "start_time": "2021-07-12T20:06:16.897Z"
   },
   {
    "duration": 306,
    "start_time": "2021-07-12T20:06:24.848Z"
   },
   {
    "duration": 687,
    "start_time": "2021-07-12T20:06:55.539Z"
   },
   {
    "duration": 330,
    "start_time": "2021-07-12T20:06:59.616Z"
   },
   {
    "duration": 502,
    "start_time": "2021-07-12T20:07:42.144Z"
   },
   {
    "duration": 264,
    "start_time": "2021-07-12T20:11:28.283Z"
   },
   {
    "duration": 4753,
    "start_time": "2021-07-12T20:11:38.943Z"
   },
   {
    "duration": 4956,
    "start_time": "2021-07-12T20:11:54.427Z"
   },
   {
    "duration": 397,
    "start_time": "2021-07-12T20:12:34.547Z"
   },
   {
    "duration": 429,
    "start_time": "2021-07-12T20:12:39.711Z"
   },
   {
    "duration": 426,
    "start_time": "2021-07-12T20:12:47.315Z"
   },
   {
    "duration": -272,
    "start_time": "2021-07-12T20:12:53.349Z"
   },
   {
    "duration": -277,
    "start_time": "2021-07-12T20:12:53.355Z"
   },
   {
    "duration": -278,
    "start_time": "2021-07-12T20:12:53.357Z"
   },
   {
    "duration": -279,
    "start_time": "2021-07-12T20:12:53.359Z"
   },
   {
    "duration": -280,
    "start_time": "2021-07-12T20:12:53.361Z"
   },
   {
    "duration": -280,
    "start_time": "2021-07-12T20:12:53.362Z"
   },
   {
    "duration": -281,
    "start_time": "2021-07-12T20:12:53.364Z"
   },
   {
    "duration": -282,
    "start_time": "2021-07-12T20:12:53.366Z"
   },
   {
    "duration": -282,
    "start_time": "2021-07-12T20:12:53.367Z"
   },
   {
    "duration": -283,
    "start_time": "2021-07-12T20:12:53.369Z"
   },
   {
    "duration": -284,
    "start_time": "2021-07-12T20:12:53.371Z"
   },
   {
    "duration": -289,
    "start_time": "2021-07-12T20:12:53.377Z"
   },
   {
    "duration": -291,
    "start_time": "2021-07-12T20:12:53.379Z"
   },
   {
    "duration": 3,
    "start_time": "2021-07-12T20:13:19.448Z"
   },
   {
    "duration": 44,
    "start_time": "2021-07-12T20:13:19.453Z"
   },
   {
    "duration": 3,
    "start_time": "2021-07-12T20:13:19.499Z"
   },
   {
    "duration": 177,
    "start_time": "2021-07-12T20:13:19.504Z"
   },
   {
    "duration": 259,
    "start_time": "2021-07-12T20:13:19.683Z"
   },
   {
    "duration": 400,
    "start_time": "2021-07-12T20:13:19.944Z"
   },
   {
    "duration": 4854,
    "start_time": "2021-07-12T20:13:20.346Z"
   },
   {
    "duration": -282,
    "start_time": "2021-07-12T20:13:25.484Z"
   },
   {
    "duration": -283,
    "start_time": "2021-07-12T20:13:25.486Z"
   },
   {
    "duration": -284,
    "start_time": "2021-07-12T20:13:25.488Z"
   },
   {
    "duration": -286,
    "start_time": "2021-07-12T20:13:25.491Z"
   },
   {
    "duration": -290,
    "start_time": "2021-07-12T20:13:25.495Z"
   },
   {
    "duration": -292,
    "start_time": "2021-07-12T20:13:25.499Z"
   },
   {
    "duration": 379,
    "start_time": "2021-07-12T20:14:17.462Z"
   },
   {
    "duration": 387,
    "start_time": "2021-07-12T20:14:21.467Z"
   },
   {
    "duration": 4288,
    "start_time": "2021-07-12T20:14:35.929Z"
   },
   {
    "duration": 4144,
    "start_time": "2021-07-12T20:15:17.597Z"
   },
   {
    "duration": 91,
    "start_time": "2021-07-12T20:15:28.592Z"
   },
   {
    "duration": 4284,
    "start_time": "2021-07-12T20:15:32.692Z"
   },
   {
    "duration": 795,
    "start_time": "2021-07-12T20:18:06.374Z"
   },
   {
    "duration": 798,
    "start_time": "2021-07-12T20:18:42.046Z"
   },
   {
    "duration": 783,
    "start_time": "2021-07-12T20:18:52.827Z"
   },
   {
    "duration": 255,
    "start_time": "2021-07-12T20:23:52.977Z"
   },
   {
    "duration": 376,
    "start_time": "2021-07-12T20:23:59.784Z"
   },
   {
    "duration": 376,
    "start_time": "2021-07-12T20:24:31.218Z"
   },
   {
    "duration": 4,
    "start_time": "2021-07-12T20:24:34.705Z"
   },
   {
    "duration": 41,
    "start_time": "2021-07-12T20:24:34.710Z"
   },
   {
    "duration": 4,
    "start_time": "2021-07-12T20:24:34.753Z"
   },
   {
    "duration": 182,
    "start_time": "2021-07-12T20:24:34.758Z"
   },
   {
    "duration": 268,
    "start_time": "2021-07-12T20:24:34.942Z"
   },
   {
    "duration": 894,
    "start_time": "2021-07-12T20:24:35.211Z"
   },
   {
    "duration": 435,
    "start_time": "2021-07-12T20:24:36.107Z"
   },
   {
    "duration": 4498,
    "start_time": "2021-07-12T20:24:36.546Z"
   },
   {
    "duration": 386,
    "start_time": "2021-07-12T20:24:41.045Z"
   },
   {
    "duration": 2,
    "start_time": "2021-07-12T20:24:41.433Z"
   },
   {
    "duration": 4,
    "start_time": "2021-07-12T20:24:41.440Z"
   },
   {
    "duration": 278,
    "start_time": "2021-07-12T20:24:41.445Z"
   },
   {
    "duration": 420,
    "start_time": "2021-07-12T20:25:51.634Z"
   },
   {
    "duration": 1326,
    "start_time": "2021-07-12T20:26:53.405Z"
   },
   {
    "duration": 1324,
    "start_time": "2021-07-12T20:27:41.994Z"
   },
   {
    "duration": 1038,
    "start_time": "2021-07-12T20:27:45.404Z"
   },
   {
    "duration": 85,
    "start_time": "2021-07-12T20:28:34.748Z"
   },
   {
    "duration": 12802,
    "start_time": "2021-07-12T20:28:39.363Z"
   },
   {
    "duration": 2,
    "start_time": "2021-07-12T20:30:59.869Z"
   },
   {
    "duration": 294,
    "start_time": "2021-07-12T20:31:01.528Z"
   },
   {
    "duration": 29,
    "start_time": "2021-07-12T20:33:46.248Z"
   },
   {
    "duration": 30,
    "start_time": "2021-07-12T20:34:02.519Z"
   },
   {
    "duration": 317,
    "start_time": "2021-07-12T20:34:30.189Z"
   },
   {
    "duration": 181,
    "start_time": "2021-07-12T20:48:16.406Z"
   },
   {
    "duration": 497,
    "start_time": "2021-07-12T20:48:17.453Z"
   },
   {
    "duration": 208,
    "start_time": "2021-07-12T20:48:26.885Z"
   },
   {
    "duration": 569,
    "start_time": "2021-07-12T20:48:27.264Z"
   },
   {
    "duration": 227,
    "start_time": "2021-07-12T20:48:32.565Z"
   },
   {
    "duration": 696,
    "start_time": "2021-07-12T20:48:33.294Z"
   },
   {
    "duration": 219,
    "start_time": "2021-07-12T20:48:37.885Z"
   },
   {
    "duration": 252,
    "start_time": "2021-07-12T20:48:44.638Z"
   },
   {
    "duration": 238,
    "start_time": "2021-07-12T20:48:50.944Z"
   },
   {
    "duration": 729,
    "start_time": "2021-07-12T20:48:51.213Z"
   },
   {
    "duration": 267,
    "start_time": "2021-07-12T20:48:58.149Z"
   },
   {
    "duration": 818,
    "start_time": "2021-07-12T20:49:01.096Z"
   },
   {
    "duration": 288,
    "start_time": "2021-07-12T20:49:05.073Z"
   },
   {
    "duration": 882,
    "start_time": "2021-07-12T20:49:05.647Z"
   },
   {
    "duration": 313,
    "start_time": "2021-07-12T20:49:58.107Z"
   },
   {
    "duration": 960,
    "start_time": "2021-07-12T20:49:58.975Z"
   },
   {
    "duration": 340,
    "start_time": "2021-07-12T20:50:03.774Z"
   },
   {
    "duration": 1125,
    "start_time": "2021-07-12T20:50:04.357Z"
   },
   {
    "duration": 344,
    "start_time": "2021-07-12T20:50:10.239Z"
   },
   {
    "duration": 1168,
    "start_time": "2021-07-12T20:50:12.074Z"
   },
   {
    "duration": 570,
    "start_time": "2021-07-12T20:50:17.451Z"
   },
   {
    "duration": 2003,
    "start_time": "2021-07-12T20:50:18.146Z"
   },
   {
    "duration": 286,
    "start_time": "2021-07-12T20:50:43.885Z"
   },
   {
    "duration": -272,
    "start_time": "2021-07-12T20:50:44.445Z"
   },
   {
    "duration": 1166,
    "start_time": "2021-07-12T20:50:48.604Z"
   },
   {
    "duration": 47,
    "start_time": "2021-07-12T20:50:49.772Z"
   },
   {
    "duration": 4,
    "start_time": "2021-07-12T20:50:49.821Z"
   },
   {
    "duration": 193,
    "start_time": "2021-07-12T20:50:49.827Z"
   },
   {
    "duration": 281,
    "start_time": "2021-07-12T20:50:50.022Z"
   },
   {
    "duration": 832,
    "start_time": "2021-07-12T20:50:50.304Z"
   },
   {
    "duration": 500,
    "start_time": "2021-07-12T20:50:51.140Z"
   },
   {
    "duration": 4411,
    "start_time": "2021-07-12T20:50:51.645Z"
   },
   {
    "duration": 282,
    "start_time": "2021-07-12T20:50:56.059Z"
   },
   {
    "duration": 714,
    "start_time": "2021-07-12T20:50:56.343Z"
   },
   {
    "duration": 586,
    "start_time": "2021-07-12T20:50:57.060Z"
   },
   {
    "duration": 6274,
    "start_time": "2021-07-12T20:50:57.648Z"
   },
   {
    "duration": 2,
    "start_time": "2021-07-12T20:51:03.924Z"
   },
   {
    "duration": 283,
    "start_time": "2021-07-12T20:51:03.928Z"
   },
   {
    "duration": 562,
    "start_time": "2021-07-12T20:51:10.111Z"
   },
   {
    "duration": 2001,
    "start_time": "2021-07-12T20:51:10.675Z"
   },
   {
    "duration": 1666,
    "start_time": "2021-07-12T20:51:12.678Z"
   },
   {
    "duration": 20081,
    "start_time": "2021-07-12T20:51:14.346Z"
   },
   {
    "duration": 2,
    "start_time": "2021-07-12T20:51:34.428Z"
   },
   {
    "duration": 278,
    "start_time": "2021-07-12T20:51:34.432Z"
   },
   {
    "duration": 562,
    "start_time": "2021-07-12T20:53:11.663Z"
   },
   {
    "duration": 2039,
    "start_time": "2021-07-12T20:53:13.895Z"
   },
   {
    "duration": 898,
    "start_time": "2021-07-12T21:00:43.603Z"
   },
   {
    "duration": 764,
    "start_time": "2021-07-12T21:01:15.299Z"
   },
   {
    "duration": 823,
    "start_time": "2021-07-12T21:02:02.228Z"
   },
   {
    "duration": 837,
    "start_time": "2021-07-12T21:02:10.015Z"
   },
   {
    "duration": 873,
    "start_time": "2021-07-12T21:02:19.398Z"
   },
   {
    "duration": 4,
    "start_time": "2021-07-12T21:03:00.775Z"
   },
   {
    "duration": 50,
    "start_time": "2021-07-12T21:03:00.780Z"
   },
   {
    "duration": 4,
    "start_time": "2021-07-12T21:03:00.833Z"
   },
   {
    "duration": 189,
    "start_time": "2021-07-12T21:03:00.839Z"
   },
   {
    "duration": 263,
    "start_time": "2021-07-12T21:03:01.029Z"
   },
   {
    "duration": 807,
    "start_time": "2021-07-12T21:03:01.293Z"
   },
   {
    "duration": 442,
    "start_time": "2021-07-12T21:03:02.101Z"
   },
   {
    "duration": 4373,
    "start_time": "2021-07-12T21:03:02.546Z"
   },
   {
    "duration": 585,
    "start_time": "2021-07-12T21:03:06.922Z"
   },
   {
    "duration": 2018,
    "start_time": "2021-07-12T21:03:07.508Z"
   },
   {
    "duration": 1714,
    "start_time": "2021-07-12T21:03:09.527Z"
   },
   {
    "duration": 19515,
    "start_time": "2021-07-12T21:03:11.246Z"
   },
   {
    "duration": 778,
    "start_time": "2021-07-12T21:03:30.763Z"
   },
   {
    "duration": 270,
    "start_time": "2021-07-12T21:03:31.542Z"
   },
   {
    "duration": 842,
    "start_time": "2021-07-12T21:10:03.705Z"
   },
   {
    "duration": 4,
    "start_time": "2021-07-12T21:10:42.585Z"
   },
   {
    "duration": 309,
    "start_time": "2021-07-12T21:12:08.817Z"
   },
   {
    "duration": 136,
    "start_time": "2021-07-12T21:12:13.725Z"
   },
   {
    "duration": 211,
    "start_time": "2021-07-12T21:12:43.402Z"
   },
   {
    "duration": 2878,
    "start_time": "2021-07-12T21:12:59.786Z"
   },
   {
    "duration": 2945,
    "start_time": "2021-07-12T21:13:11.433Z"
   },
   {
    "duration": 210,
    "start_time": "2021-07-12T21:13:49.092Z"
   },
   {
    "duration": 443,
    "start_time": "2021-07-12T21:13:54.216Z"
   },
   {
    "duration": 211,
    "start_time": "2021-07-12T21:14:00.436Z"
   },
   {
    "duration": 712,
    "start_time": "2021-07-12T21:14:05.228Z"
   },
   {
    "duration": 440,
    "start_time": "2021-07-12T21:14:09.726Z"
   },
   {
    "duration": 324,
    "start_time": "2021-07-12T21:14:14.402Z"
   },
   {
    "duration": 423,
    "start_time": "2021-07-12T21:14:17.746Z"
   },
   {
    "duration": 654,
    "start_time": "2021-07-12T21:18:55.469Z"
   },
   {
    "duration": 91,
    "start_time": "2021-07-12T21:19:00.961Z"
   },
   {
    "duration": -249,
    "start_time": "2021-07-12T21:19:01.303Z"
   },
   {
    "duration": -250,
    "start_time": "2021-07-12T21:19:01.305Z"
   },
   {
    "duration": -252,
    "start_time": "2021-07-12T21:19:01.308Z"
   },
   {
    "duration": -254,
    "start_time": "2021-07-12T21:19:01.311Z"
   },
   {
    "duration": -255,
    "start_time": "2021-07-12T21:19:01.313Z"
   },
   {
    "duration": -259,
    "start_time": "2021-07-12T21:19:01.317Z"
   },
   {
    "duration": -265,
    "start_time": "2021-07-12T21:19:01.324Z"
   },
   {
    "duration": -266,
    "start_time": "2021-07-12T21:19:01.326Z"
   },
   {
    "duration": -266,
    "start_time": "2021-07-12T21:19:01.327Z"
   },
   {
    "duration": -276,
    "start_time": "2021-07-12T21:19:01.338Z"
   },
   {
    "duration": -280,
    "start_time": "2021-07-12T21:19:01.342Z"
   },
   {
    "duration": -281,
    "start_time": "2021-07-12T21:19:01.344Z"
   },
   {
    "duration": -282,
    "start_time": "2021-07-12T21:19:01.346Z"
   },
   {
    "duration": 3,
    "start_time": "2021-07-12T21:19:11.065Z"
   },
   {
    "duration": 40,
    "start_time": "2021-07-12T21:19:11.070Z"
   },
   {
    "duration": 4,
    "start_time": "2021-07-12T21:19:11.112Z"
   },
   {
    "duration": 172,
    "start_time": "2021-07-12T21:19:11.117Z"
   },
   {
    "duration": 755,
    "start_time": "2021-07-12T21:19:11.291Z"
   },
   {
    "duration": 803,
    "start_time": "2021-07-12T21:19:12.048Z"
   },
   {
    "duration": 397,
    "start_time": "2021-07-12T21:19:12.853Z"
   },
   {
    "duration": 4386,
    "start_time": "2021-07-12T21:19:13.342Z"
   },
   {
    "duration": 582,
    "start_time": "2021-07-12T21:19:17.730Z"
   },
   {
    "duration": 2012,
    "start_time": "2021-07-12T21:19:18.314Z"
   },
   {
    "duration": 1716,
    "start_time": "2021-07-12T21:19:20.328Z"
   },
   {
    "duration": 19161,
    "start_time": "2021-07-12T21:19:22.046Z"
   },
   {
    "duration": 853,
    "start_time": "2021-07-12T21:19:41.209Z"
   },
   {
    "duration": 329,
    "start_time": "2021-07-12T21:19:42.063Z"
   },
   {
    "duration": 772,
    "start_time": "2021-07-12T21:20:05.532Z"
   },
   {
    "duration": 790,
    "start_time": "2021-07-12T21:20:20.699Z"
   },
   {
    "duration": 5626,
    "start_time": "2021-07-12T21:20:31.324Z"
   },
   {
    "duration": 4185,
    "start_time": "2021-07-12T21:20:43.452Z"
   },
   {
    "duration": 1044,
    "start_time": "2021-07-12T21:23:18.928Z"
   },
   {
    "duration": 827,
    "start_time": "2021-07-12T21:23:25.826Z"
   },
   {
    "duration": 938,
    "start_time": "2021-07-12T21:23:30.895Z"
   },
   {
    "duration": 1233,
    "start_time": "2021-07-12T21:23:59.032Z"
   },
   {
    "duration": 777,
    "start_time": "2021-07-12T21:24:27.576Z"
   },
   {
    "duration": 5787,
    "start_time": "2021-07-12T21:24:28.355Z"
   },
   {
    "duration": 4310,
    "start_time": "2021-07-12T21:24:34.145Z"
   },
   {
    "duration": 3,
    "start_time": "2021-07-12T21:24:47.453Z"
   },
   {
    "duration": 45,
    "start_time": "2021-07-12T21:24:47.458Z"
   },
   {
    "duration": 4,
    "start_time": "2021-07-12T21:24:47.505Z"
   },
   {
    "duration": 173,
    "start_time": "2021-07-12T21:24:47.510Z"
   },
   {
    "duration": 1218,
    "start_time": "2021-07-12T21:24:47.685Z"
   },
   {
    "duration": 746,
    "start_time": "2021-07-12T21:24:48.905Z"
   },
   {
    "duration": 5689,
    "start_time": "2021-07-12T21:24:49.652Z"
   },
   {
    "duration": 4287,
    "start_time": "2021-07-12T21:24:55.343Z"
   },
   {
    "duration": 660,
    "start_time": "2021-07-12T21:24:59.633Z"
   },
   {
    "duration": -299,
    "start_time": "2021-07-12T21:25:00.594Z"
   },
   {
    "duration": -301,
    "start_time": "2021-07-12T21:25:00.597Z"
   },
   {
    "duration": -301,
    "start_time": "2021-07-12T21:25:00.598Z"
   },
   {
    "duration": -303,
    "start_time": "2021-07-12T21:25:00.600Z"
   },
   {
    "duration": -304,
    "start_time": "2021-07-12T21:25:00.602Z"
   },
   {
    "duration": 1418,
    "start_time": "2021-07-12T21:28:55.933Z"
   },
   {
    "duration": 1577,
    "start_time": "2021-07-12T21:29:17.009Z"
   },
   {
    "duration": 1231,
    "start_time": "2021-07-12T21:30:26.643Z"
   },
   {
    "duration": 3,
    "start_time": "2021-07-12T21:30:32.906Z"
   },
   {
    "duration": 43,
    "start_time": "2021-07-12T21:30:32.911Z"
   },
   {
    "duration": 4,
    "start_time": "2021-07-12T21:30:32.956Z"
   },
   {
    "duration": 172,
    "start_time": "2021-07-12T21:30:32.961Z"
   },
   {
    "duration": 1228,
    "start_time": "2021-07-12T21:30:33.134Z"
   },
   {
    "duration": 5,
    "start_time": "2021-07-12T21:30:34.364Z"
   },
   {
    "duration": 764,
    "start_time": "2021-07-12T21:30:34.372Z"
   },
   {
    "duration": 6008,
    "start_time": "2021-07-12T21:30:35.141Z"
   },
   {
    "duration": 4425,
    "start_time": "2021-07-12T21:30:41.150Z"
   },
   {
    "duration": 716,
    "start_time": "2021-07-12T21:30:45.577Z"
   },
   {
    "duration": 1760,
    "start_time": "2021-07-12T21:30:46.295Z"
   },
   {
    "duration": 3,
    "start_time": "2021-07-12T21:31:49.875Z"
   },
   {
    "duration": 40,
    "start_time": "2021-07-12T21:31:49.880Z"
   },
   {
    "duration": 3,
    "start_time": "2021-07-12T21:31:49.922Z"
   },
   {
    "duration": 199,
    "start_time": "2021-07-12T21:31:49.926Z"
   },
   {
    "duration": 1217,
    "start_time": "2021-07-12T21:31:50.127Z"
   },
   {
    "duration": 4,
    "start_time": "2021-07-12T21:31:51.345Z"
   },
   {
    "duration": 795,
    "start_time": "2021-07-12T21:31:51.351Z"
   },
   {
    "duration": 6029,
    "start_time": "2021-07-12T21:31:52.147Z"
   },
   {
    "duration": 4438,
    "start_time": "2021-07-12T21:31:58.242Z"
   },
   {
    "duration": 713,
    "start_time": "2021-07-12T21:32:02.682Z"
   },
   {
    "duration": 1786,
    "start_time": "2021-07-12T21:32:03.397Z"
   },
   {
    "duration": 3,
    "start_time": "2021-07-12T21:33:06.675Z"
   },
   {
    "duration": 51,
    "start_time": "2021-07-12T21:33:06.680Z"
   },
   {
    "duration": 9,
    "start_time": "2021-07-12T21:33:06.733Z"
   },
   {
    "duration": 178,
    "start_time": "2021-07-12T21:33:06.744Z"
   },
   {
    "duration": 1229,
    "start_time": "2021-07-12T21:33:06.924Z"
   },
   {
    "duration": 5,
    "start_time": "2021-07-12T21:33:08.155Z"
   },
   {
    "duration": 822,
    "start_time": "2021-07-12T21:33:08.162Z"
   },
   {
    "duration": 6355,
    "start_time": "2021-07-12T21:33:08.986Z"
   },
   {
    "duration": 4364,
    "start_time": "2021-07-12T21:33:15.343Z"
   },
   {
    "duration": 406,
    "start_time": "2021-07-12T21:33:19.709Z"
   },
   {
    "duration": 1097,
    "start_time": "2021-07-12T21:33:20.116Z"
   },
   {
    "duration": 21456,
    "start_time": "2021-07-12T21:33:21.214Z"
   },
   {
    "duration": 11621,
    "start_time": "2021-07-12T21:33:42.742Z"
   },
   {
    "duration": 451,
    "start_time": "2021-07-12T21:33:54.365Z"
   },
   {
    "duration": 251,
    "start_time": "2021-07-12T21:33:54.818Z"
   },
   {
    "duration": 1250,
    "start_time": "2021-07-12T21:36:30.591Z"
   },
   {
    "duration": 4,
    "start_time": "2021-07-12T21:36:46.363Z"
   },
   {
    "duration": 41,
    "start_time": "2021-07-12T21:36:46.369Z"
   },
   {
    "duration": 3,
    "start_time": "2021-07-12T21:36:46.412Z"
   },
   {
    "duration": 192,
    "start_time": "2021-07-12T21:36:46.417Z"
   },
   {
    "duration": 1250,
    "start_time": "2021-07-12T21:36:46.611Z"
   },
   {
    "duration": 4,
    "start_time": "2021-07-12T21:36:47.863Z"
   },
   {
    "duration": 753,
    "start_time": "2021-07-12T21:36:47.869Z"
   },
   {
    "duration": 6417,
    "start_time": "2021-07-12T21:36:48.625Z"
   },
   {
    "duration": 4531,
    "start_time": "2021-07-12T21:36:55.044Z"
   },
   {
    "duration": 419,
    "start_time": "2021-07-12T21:36:59.577Z"
   },
   {
    "duration": 1183,
    "start_time": "2021-07-12T21:36:59.998Z"
   },
   {
    "duration": 21673,
    "start_time": "2021-07-12T21:37:01.182Z"
   },
   {
    "duration": 11913,
    "start_time": "2021-07-12T21:37:22.857Z"
   },
   {
    "duration": 441,
    "start_time": "2021-07-12T21:37:34.771Z"
   },
   {
    "duration": 295,
    "start_time": "2021-07-12T21:37:35.213Z"
   },
   {
    "duration": 505,
    "start_time": "2021-07-12T21:41:33.491Z"
   },
   {
    "duration": 459,
    "start_time": "2021-07-12T21:41:58.458Z"
   },
   {
    "duration": 279,
    "start_time": "2021-07-12T21:43:26.753Z"
   },
   {
    "duration": 389,
    "start_time": "2021-07-13T09:34:35.377Z"
   },
   {
    "duration": -365,
    "start_time": "2021-07-13T09:34:36.134Z"
   },
   {
    "duration": 1966,
    "start_time": "2021-07-13T09:34:56.280Z"
   },
   {
    "duration": 70,
    "start_time": "2021-07-13T09:34:58.249Z"
   },
   {
    "duration": 5,
    "start_time": "2021-07-13T09:34:58.322Z"
   },
   {
    "duration": 327,
    "start_time": "2021-07-13T09:34:58.329Z"
   },
   {
    "duration": 1875,
    "start_time": "2021-07-13T09:34:58.658Z"
   },
   {
    "duration": 5,
    "start_time": "2021-07-13T09:35:00.536Z"
   },
   {
    "duration": 1077,
    "start_time": "2021-07-13T09:35:00.544Z"
   },
   {
    "duration": 11884,
    "start_time": "2021-07-13T09:35:01.626Z"
   },
   {
    "duration": 5889,
    "start_time": "2021-07-13T09:35:13.513Z"
   },
   {
    "duration": 562,
    "start_time": "2021-07-13T09:35:19.404Z"
   },
   {
    "duration": 1419,
    "start_time": "2021-07-13T09:35:19.968Z"
   },
   {
    "duration": 39325,
    "start_time": "2021-07-13T09:35:21.390Z"
   },
   {
    "duration": 15784,
    "start_time": "2021-07-13T09:36:00.719Z"
   },
   {
    "duration": 614,
    "start_time": "2021-07-13T09:36:16.509Z"
   },
   {
    "duration": -381,
    "start_time": "2021-07-13T09:36:17.506Z"
   },
   {
    "duration": 447,
    "start_time": "2021-07-13T09:45:33.811Z"
   },
   {
    "duration": 391,
    "start_time": "2021-07-13T09:45:56.993Z"
   },
   {
    "duration": 288,
    "start_time": "2021-07-13T09:49:42.241Z"
   },
   {
    "duration": 313,
    "start_time": "2021-07-13T09:58:10.781Z"
   },
   {
    "duration": 1051,
    "start_time": "2021-07-13T10:11:50.309Z"
   },
   {
    "duration": 2163,
    "start_time": "2021-07-13T10:11:57.482Z"
   },
   {
    "duration": 325211,
    "start_time": "2021-07-13T10:15:01.958Z"
   },
   {
    "duration": 331363,
    "start_time": "2021-07-13T10:21:16.649Z"
   },
   {
    "duration": 320,
    "start_time": "2021-07-13T10:26:48.023Z"
   },
   {
    "duration": 3,
    "start_time": "2021-07-13T10:26:48.345Z"
   },
   {
    "duration": 315,
    "start_time": "2021-07-13T10:27:22.655Z"
   },
   {
    "duration": -389,
    "start_time": "2021-07-13T10:27:23.364Z"
   },
   {
    "duration": -389,
    "start_time": "2021-07-13T10:27:23.366Z"
   },
   {
    "duration": -391,
    "start_time": "2021-07-13T10:27:23.370Z"
   },
   {
    "duration": -395,
    "start_time": "2021-07-13T10:27:23.376Z"
   },
   {
    "duration": -412,
    "start_time": "2021-07-13T10:27:23.395Z"
   },
   {
    "duration": -414,
    "start_time": "2021-07-13T10:27:23.400Z"
   },
   {
    "duration": -416,
    "start_time": "2021-07-13T10:27:23.404Z"
   },
   {
    "duration": -415,
    "start_time": "2021-07-13T10:27:23.405Z"
   },
   {
    "duration": -415,
    "start_time": "2021-07-13T10:27:23.407Z"
   },
   {
    "duration": -414,
    "start_time": "2021-07-13T10:27:23.408Z"
   },
   {
    "duration": -413,
    "start_time": "2021-07-13T10:27:23.410Z"
   },
   {
    "duration": -412,
    "start_time": "2021-07-13T10:27:23.411Z"
   },
   {
    "duration": -412,
    "start_time": "2021-07-13T10:27:23.413Z"
   },
   {
    "duration": -413,
    "start_time": "2021-07-13T10:27:23.417Z"
   },
   {
    "duration": -416,
    "start_time": "2021-07-13T10:27:23.422Z"
   },
   {
    "duration": -415,
    "start_time": "2021-07-13T10:27:23.423Z"
   },
   {
    "duration": 5,
    "start_time": "2021-07-13T10:27:45.516Z"
   },
   {
    "duration": 57,
    "start_time": "2021-07-13T10:27:45.524Z"
   },
   {
    "duration": 26,
    "start_time": "2021-07-13T10:27:45.584Z"
   },
   {
    "duration": 425,
    "start_time": "2021-07-13T10:27:45.613Z"
   },
   {
    "duration": 383,
    "start_time": "2021-07-13T10:27:46.041Z"
   },
   {
    "duration": 1436,
    "start_time": "2021-07-13T10:27:46.426Z"
   },
   {
    "duration": 6,
    "start_time": "2021-07-13T10:27:47.864Z"
   },
   {
    "duration": 1003,
    "start_time": "2021-07-13T10:27:47.872Z"
   },
   {
    "duration": 12349,
    "start_time": "2021-07-13T10:27:48.878Z"
   },
   {
    "duration": 6120,
    "start_time": "2021-07-13T10:28:01.230Z"
   },
   {
    "duration": 554,
    "start_time": "2021-07-13T10:28:07.352Z"
   },
   {
    "duration": 1793,
    "start_time": "2021-07-13T10:28:07.908Z"
   },
   {
    "duration": 42602,
    "start_time": "2021-07-13T10:28:09.708Z"
   },
   {
    "duration": 730472,
    "start_time": "2021-07-13T10:28:52.314Z"
   },
   {
    "duration": 4,
    "start_time": "2021-07-13T10:41:02.788Z"
   },
   {
    "duration": 291,
    "start_time": "2021-07-13T10:41:02.794Z"
   },
   {
    "duration": 440,
    "start_time": "2021-07-13T10:41:03.088Z"
   },
   {
    "duration": 18,
    "start_time": "2021-07-13T10:41:26.893Z"
   },
   {
    "duration": 19,
    "start_time": "2021-07-13T10:41:45.437Z"
   },
   {
    "duration": 325,
    "start_time": "2021-07-13T10:47:41.336Z"
   },
   {
    "duration": 6,
    "start_time": "2021-07-13T10:47:49.373Z"
   },
   {
    "duration": 405,
    "start_time": "2021-07-13T10:47:55.373Z"
   },
   {
    "duration": 340,
    "start_time": "2021-07-13T10:47:55.968Z"
   },
   {
    "duration": 1558,
    "start_time": "2021-07-13T10:47:56.311Z"
   },
   {
    "duration": 6,
    "start_time": "2021-07-13T10:47:57.872Z"
   },
   {
    "duration": 320,
    "start_time": "2021-07-13T10:48:13.152Z"
   },
   {
    "duration": 10,
    "start_time": "2021-07-13T10:48:36.798Z"
   },
   {
    "duration": 286,
    "start_time": "2021-07-13T10:48:37.309Z"
   },
   {
    "duration": 369,
    "start_time": "2021-07-13T10:48:38.078Z"
   },
   {
    "duration": 1445,
    "start_time": "2021-07-13T10:48:38.449Z"
   },
   {
    "duration": 15,
    "start_time": "2021-07-13T10:48:39.897Z"
   },
   {
    "duration": 328,
    "start_time": "2021-07-13T10:49:11.278Z"
   },
   {
    "duration": 8,
    "start_time": "2021-07-13T10:49:54.320Z"
   },
   {
    "duration": 930,
    "start_time": "2021-07-13T10:49:55.957Z"
   },
   {
    "duration": -329,
    "start_time": "2021-07-13T10:49:57.219Z"
   },
   {
    "duration": -331,
    "start_time": "2021-07-13T10:49:57.222Z"
   },
   {
    "duration": -331,
    "start_time": "2021-07-13T10:49:57.224Z"
   },
   {
    "duration": 522,
    "start_time": "2021-07-13T10:50:54.711Z"
   },
   {
    "duration": 315,
    "start_time": "2021-07-13T10:51:09.051Z"
   },
   {
    "duration": 5,
    "start_time": "2021-07-13T10:51:15.269Z"
   },
   {
    "duration": 50,
    "start_time": "2021-07-13T10:51:15.277Z"
   },
   {
    "duration": 10,
    "start_time": "2021-07-13T10:51:15.696Z"
   },
   {
    "duration": 235,
    "start_time": "2021-07-13T10:51:15.709Z"
   },
   {
    "duration": 315,
    "start_time": "2021-07-13T10:51:15.947Z"
   },
   {
    "duration": 1243,
    "start_time": "2021-07-13T10:51:16.265Z"
   },
   {
    "duration": 5,
    "start_time": "2021-07-13T10:51:17.511Z"
   },
   {
    "duration": 725,
    "start_time": "2021-07-13T10:51:17.520Z"
   },
   {
    "duration": 10261,
    "start_time": "2021-07-13T10:51:18.249Z"
   },
   {
    "duration": 5285,
    "start_time": "2021-07-13T10:51:28.513Z"
   },
   {
    "duration": 481,
    "start_time": "2021-07-13T10:51:33.801Z"
   },
   {
    "duration": 1275,
    "start_time": "2021-07-13T10:51:34.285Z"
   },
   {
    "duration": 32248,
    "start_time": "2021-07-13T10:51:35.562Z"
   },
   {
    "duration": 663575,
    "start_time": "2021-07-13T10:52:07.814Z"
   },
   {
    "duration": 2,
    "start_time": "2021-07-13T11:03:11.392Z"
   },
   {
    "duration": 285,
    "start_time": "2021-07-13T11:03:11.397Z"
   },
   {
    "duration": 34,
    "start_time": "2021-07-13T11:03:11.684Z"
   },
   {
    "duration": 505,
    "start_time": "2021-07-13T11:03:11.722Z"
   },
   {
    "duration": 91,
    "start_time": "2021-07-13T11:03:40.469Z"
   },
   {
    "duration": 9,
    "start_time": "2021-07-13T11:05:28.115Z"
   },
   {
    "duration": 17,
    "start_time": "2021-07-13T11:05:42.462Z"
   },
   {
    "duration": 16,
    "start_time": "2021-07-13T11:06:05.910Z"
   },
   {
    "duration": 137,
    "start_time": "2021-07-13T11:08:55.320Z"
   },
   {
    "duration": 31,
    "start_time": "2021-07-13T11:09:02.544Z"
   },
   {
    "duration": 123,
    "start_time": "2021-07-13T11:10:32.494Z"
   },
   {
    "duration": 154,
    "start_time": "2021-07-13T11:10:45.057Z"
   },
   {
    "duration": 101,
    "start_time": "2021-07-13T11:10:50.137Z"
   },
   {
    "duration": 32,
    "start_time": "2021-07-13T11:10:54.034Z"
   },
   {
    "duration": 576,
    "start_time": "2021-07-13T11:18:38.381Z"
   },
   {
    "duration": 656,
    "start_time": "2021-07-13T11:18:51.862Z"
   },
   {
    "duration": 341,
    "start_time": "2021-07-13T11:19:36.819Z"
   },
   {
    "duration": 1029,
    "start_time": "2021-07-13T11:19:56.691Z"
   },
   {
    "duration": 1581,
    "start_time": "2021-07-13T11:20:10.466Z"
   },
   {
    "duration": 43,
    "start_time": "2021-07-13T11:29:54.108Z"
   },
   {
    "duration": 48,
    "start_time": "2021-07-13T11:31:34.762Z"
   },
   {
    "duration": 343,
    "start_time": "2021-07-13T11:32:49.242Z"
   },
   {
    "duration": 5,
    "start_time": "2021-07-13T11:33:05.506Z"
   },
   {
    "duration": 59,
    "start_time": "2021-07-13T11:33:05.514Z"
   },
   {
    "duration": 3,
    "start_time": "2021-07-13T11:33:05.577Z"
   },
   {
    "duration": 381,
    "start_time": "2021-07-13T11:33:05.583Z"
   },
   {
    "duration": -345,
    "start_time": "2021-07-13T11:33:06.311Z"
   },
   {
    "duration": -344,
    "start_time": "2021-07-13T11:33:06.312Z"
   },
   {
    "duration": -344,
    "start_time": "2021-07-13T11:33:06.314Z"
   },
   {
    "duration": -344,
    "start_time": "2021-07-13T11:33:06.315Z"
   },
   {
    "duration": -345,
    "start_time": "2021-07-13T11:33:06.318Z"
   },
   {
    "duration": -345,
    "start_time": "2021-07-13T11:33:06.319Z"
   },
   {
    "duration": -346,
    "start_time": "2021-07-13T11:33:06.321Z"
   },
   {
    "duration": -345,
    "start_time": "2021-07-13T11:33:06.322Z"
   },
   {
    "duration": -346,
    "start_time": "2021-07-13T11:33:06.324Z"
   },
   {
    "duration": -361,
    "start_time": "2021-07-13T11:33:06.340Z"
   },
   {
    "duration": -361,
    "start_time": "2021-07-13T11:33:06.342Z"
   },
   {
    "duration": -362,
    "start_time": "2021-07-13T11:33:06.344Z"
   },
   {
    "duration": -366,
    "start_time": "2021-07-13T11:33:06.349Z"
   },
   {
    "duration": -369,
    "start_time": "2021-07-13T11:33:06.353Z"
   },
   {
    "duration": 9,
    "start_time": "2021-07-13T11:33:26.893Z"
   },
   {
    "duration": 284,
    "start_time": "2021-07-13T11:33:48.681Z"
   },
   {
    "duration": 6,
    "start_time": "2021-07-13T11:33:51.465Z"
   },
   {
    "duration": 55,
    "start_time": "2021-07-13T11:33:51.473Z"
   },
   {
    "duration": 3,
    "start_time": "2021-07-13T11:33:51.532Z"
   },
   {
    "duration": 19,
    "start_time": "2021-07-13T11:33:51.538Z"
   },
   {
    "duration": 265,
    "start_time": "2021-07-13T11:33:51.560Z"
   },
   {
    "duration": 307,
    "start_time": "2021-07-13T11:33:51.827Z"
   },
   {
    "duration": 1301,
    "start_time": "2021-07-13T11:33:52.136Z"
   },
   {
    "duration": 5,
    "start_time": "2021-07-13T11:33:53.441Z"
   },
   {
    "duration": 697,
    "start_time": "2021-07-13T11:33:53.448Z"
   },
   {
    "duration": 9871,
    "start_time": "2021-07-13T11:33:54.147Z"
   },
   {
    "duration": 5306,
    "start_time": "2021-07-13T11:34:04.110Z"
   },
   {
    "duration": 493,
    "start_time": "2021-07-13T11:34:09.419Z"
   },
   {
    "duration": 1265,
    "start_time": "2021-07-13T11:34:09.914Z"
   },
   {
    "duration": 31928,
    "start_time": "2021-07-13T11:34:11.181Z"
   },
   {
    "duration": 642576,
    "start_time": "2021-07-13T11:34:43.113Z"
   },
   {
    "duration": 17,
    "start_time": "2021-07-13T11:45:25.692Z"
   },
   {
    "duration": 308,
    "start_time": "2021-07-13T11:45:25.712Z"
   },
   {
    "duration": 84,
    "start_time": "2021-07-13T11:45:26.024Z"
   },
   {
    "duration": 6,
    "start_time": "2021-07-13T12:03:49.252Z"
   },
   {
    "duration": 5,
    "start_time": "2021-07-13T12:03:52.944Z"
   },
   {
    "duration": 93,
    "start_time": "2021-07-13T12:03:52.954Z"
   },
   {
    "duration": 8,
    "start_time": "2021-07-13T12:03:53.050Z"
   },
   {
    "duration": 31,
    "start_time": "2021-07-13T12:03:53.061Z"
   },
   {
    "duration": 318,
    "start_time": "2021-07-13T12:03:53.095Z"
   },
   {
    "duration": 372,
    "start_time": "2021-07-13T12:03:53.416Z"
   },
   {
    "duration": 1468,
    "start_time": "2021-07-13T12:03:53.790Z"
   },
   {
    "duration": 5,
    "start_time": "2021-07-13T12:03:55.260Z"
   },
   {
    "duration": 855,
    "start_time": "2021-07-13T12:03:55.267Z"
   },
   {
    "duration": -281,
    "start_time": "2021-07-13T12:04:08.747Z"
   },
   {
    "duration": -282,
    "start_time": "2021-07-13T12:04:08.750Z"
   },
   {
    "duration": -289,
    "start_time": "2021-07-13T12:04:08.758Z"
   },
   {
    "duration": -304,
    "start_time": "2021-07-13T12:04:08.774Z"
   },
   {
    "duration": -310,
    "start_time": "2021-07-13T12:04:08.782Z"
   },
   {
    "duration": -311,
    "start_time": "2021-07-13T12:04:08.784Z"
   },
   {
    "duration": -310,
    "start_time": "2021-07-13T12:04:08.785Z"
   },
   {
    "duration": -311,
    "start_time": "2021-07-13T12:04:08.787Z"
   },
   {
    "duration": -312,
    "start_time": "2021-07-13T12:04:08.790Z"
   },
   {
    "duration": -320,
    "start_time": "2021-07-13T12:04:08.799Z"
   },
   {
    "duration": -322,
    "start_time": "2021-07-13T12:04:08.802Z"
   },
   {
    "duration": -324,
    "start_time": "2021-07-13T12:04:08.805Z"
   },
   {
    "duration": -324,
    "start_time": "2021-07-13T12:04:08.807Z"
   },
   {
    "duration": -331,
    "start_time": "2021-07-13T12:04:08.815Z"
   },
   {
    "duration": -308,
    "start_time": "2021-07-13T12:04:08.817Z"
   },
   {
    "duration": -309,
    "start_time": "2021-07-13T12:04:08.819Z"
   },
   {
    "duration": -309,
    "start_time": "2021-07-13T12:04:08.821Z"
   },
   {
    "duration": -309,
    "start_time": "2021-07-13T12:04:08.823Z"
   },
   {
    "duration": 6,
    "start_time": "2021-07-13T12:07:57.676Z"
   },
   {
    "duration": 54,
    "start_time": "2021-07-13T12:07:57.685Z"
   },
   {
    "duration": 4,
    "start_time": "2021-07-13T12:07:57.742Z"
   },
   {
    "duration": 13,
    "start_time": "2021-07-13T12:07:57.748Z"
   },
   {
    "duration": 319,
    "start_time": "2021-07-13T12:07:57.763Z"
   },
   {
    "duration": 364,
    "start_time": "2021-07-13T12:07:58.084Z"
   },
   {
    "duration": 1409,
    "start_time": "2021-07-13T12:07:58.450Z"
   },
   {
    "duration": 6,
    "start_time": "2021-07-13T12:07:59.865Z"
   },
   {
    "duration": 870,
    "start_time": "2021-07-13T12:07:59.875Z"
   },
   {
    "duration": 11970,
    "start_time": "2021-07-13T12:08:00.748Z"
   },
   {
    "duration": 6187,
    "start_time": "2021-07-13T12:08:12.810Z"
   },
   {
    "duration": 551,
    "start_time": "2021-07-13T12:08:18.999Z"
   },
   {
    "duration": 1446,
    "start_time": "2021-07-13T12:08:19.553Z"
   },
   {
    "duration": 37501,
    "start_time": "2021-07-13T12:08:21.009Z"
   },
   {
    "duration": 324908,
    "start_time": "2021-07-13T12:08:58.514Z"
   },
   {
    "duration": 4,
    "start_time": "2021-07-13T12:14:23.424Z"
   },
   {
    "duration": 326,
    "start_time": "2021-07-13T12:14:23.430Z"
   },
   {
    "duration": 59,
    "start_time": "2021-07-13T12:14:23.758Z"
   },
   {
    "duration": -338,
    "start_time": "2021-07-13T12:27:05.989Z"
   },
   {
    "duration": -291,
    "start_time": "2021-07-13T12:27:05.999Z"
   },
   {
    "duration": -300,
    "start_time": "2021-07-13T12:27:06.010Z"
   },
   {
    "duration": -313,
    "start_time": "2021-07-13T12:27:06.024Z"
   },
   {
    "duration": -316,
    "start_time": "2021-07-13T12:27:06.029Z"
   },
   {
    "duration": -317,
    "start_time": "2021-07-13T12:27:06.031Z"
   },
   {
    "duration": -350,
    "start_time": "2021-07-13T12:27:06.066Z"
   },
   {
    "duration": -356,
    "start_time": "2021-07-13T12:27:06.073Z"
   },
   {
    "duration": -357,
    "start_time": "2021-07-13T12:27:06.076Z"
   },
   {
    "duration": -358,
    "start_time": "2021-07-13T12:27:06.078Z"
   },
   {
    "duration": -362,
    "start_time": "2021-07-13T12:27:06.084Z"
   },
   {
    "duration": -364,
    "start_time": "2021-07-13T12:27:06.087Z"
   },
   {
    "duration": -365,
    "start_time": "2021-07-13T12:27:06.089Z"
   },
   {
    "duration": -365,
    "start_time": "2021-07-13T12:27:06.091Z"
   },
   {
    "duration": -373,
    "start_time": "2021-07-13T12:27:06.100Z"
   },
   {
    "duration": -372,
    "start_time": "2021-07-13T12:27:06.101Z"
   },
   {
    "duration": -374,
    "start_time": "2021-07-13T12:27:06.104Z"
   },
   {
    "duration": -373,
    "start_time": "2021-07-13T12:27:06.105Z"
   },
   {
    "duration": 5,
    "start_time": "2021-07-13T12:27:06.792Z"
   },
   {
    "duration": 63,
    "start_time": "2021-07-13T12:27:06.800Z"
   },
   {
    "duration": 3,
    "start_time": "2021-07-13T12:27:06.866Z"
   },
   {
    "duration": 30,
    "start_time": "2021-07-13T12:27:06.872Z"
   },
   {
    "duration": 292,
    "start_time": "2021-07-13T12:27:06.905Z"
   },
   {
    "duration": 357,
    "start_time": "2021-07-13T12:27:07.200Z"
   },
   {
    "duration": 345,
    "start_time": "2021-07-13T12:27:07.560Z"
   },
   {
    "duration": -271,
    "start_time": "2021-07-13T12:27:08.180Z"
   },
   {
    "duration": -279,
    "start_time": "2021-07-13T12:27:08.189Z"
   },
   {
    "duration": -289,
    "start_time": "2021-07-13T12:27:08.200Z"
   },
   {
    "duration": -290,
    "start_time": "2021-07-13T12:27:08.203Z"
   },
   {
    "duration": -296,
    "start_time": "2021-07-13T12:27:08.210Z"
   },
   {
    "duration": -297,
    "start_time": "2021-07-13T12:27:08.212Z"
   },
   {
    "duration": -306,
    "start_time": "2021-07-13T12:27:08.222Z"
   },
   {
    "duration": -306,
    "start_time": "2021-07-13T12:27:08.224Z"
   },
   {
    "duration": -307,
    "start_time": "2021-07-13T12:27:08.226Z"
   },
   {
    "duration": -307,
    "start_time": "2021-07-13T12:27:08.227Z"
   },
   {
    "duration": -309,
    "start_time": "2021-07-13T12:27:08.231Z"
   },
   {
    "duration": 1450,
    "start_time": "2021-07-13T12:27:24.971Z"
   },
   {
    "duration": 5,
    "start_time": "2021-07-13T12:27:28.440Z"
   },
   {
    "duration": 59,
    "start_time": "2021-07-13T12:27:28.447Z"
   },
   {
    "duration": 3,
    "start_time": "2021-07-13T12:27:28.509Z"
   },
   {
    "duration": 9,
    "start_time": "2021-07-13T12:27:28.515Z"
   },
   {
    "duration": 306,
    "start_time": "2021-07-13T12:27:28.526Z"
   },
   {
    "duration": 369,
    "start_time": "2021-07-13T12:27:28.834Z"
   },
   {
    "duration": 1479,
    "start_time": "2021-07-13T12:27:29.206Z"
   },
   {
    "duration": 135,
    "start_time": "2021-07-13T12:27:30.688Z"
   },
   {
    "duration": -273,
    "start_time": "2021-07-13T12:27:31.100Z"
   },
   {
    "duration": -273,
    "start_time": "2021-07-13T12:27:31.102Z"
   },
   {
    "duration": -281,
    "start_time": "2021-07-13T12:27:31.113Z"
   },
   {
    "duration": -290,
    "start_time": "2021-07-13T12:27:31.124Z"
   },
   {
    "duration": -316,
    "start_time": "2021-07-13T12:27:31.152Z"
   },
   {
    "duration": -321,
    "start_time": "2021-07-13T12:27:31.159Z"
   },
   {
    "duration": -321,
    "start_time": "2021-07-13T12:27:31.162Z"
   },
   {
    "duration": -326,
    "start_time": "2021-07-13T12:27:31.169Z"
   },
   {
    "duration": -325,
    "start_time": "2021-07-13T12:27:31.171Z"
   },
   {
    "duration": -324,
    "start_time": "2021-07-13T12:27:31.172Z"
   },
   {
    "duration": 5,
    "start_time": "2021-07-13T12:27:41.220Z"
   },
   {
    "duration": 63,
    "start_time": "2021-07-13T12:27:41.229Z"
   },
   {
    "duration": 14,
    "start_time": "2021-07-13T12:27:41.295Z"
   },
   {
    "duration": 24,
    "start_time": "2021-07-13T12:27:41.311Z"
   },
   {
    "duration": 337,
    "start_time": "2021-07-13T12:27:41.338Z"
   },
   {
    "duration": 356,
    "start_time": "2021-07-13T12:27:41.677Z"
   },
   {
    "duration": 1502,
    "start_time": "2021-07-13T12:27:42.037Z"
   },
   {
    "duration": 6,
    "start_time": "2021-07-13T12:27:43.542Z"
   },
   {
    "duration": 968,
    "start_time": "2021-07-13T12:27:43.551Z"
   },
   {
    "duration": 12400,
    "start_time": "2021-07-13T12:27:44.522Z"
   },
   {
    "duration": 6156,
    "start_time": "2021-07-13T12:27:57.011Z"
   },
   {
    "duration": 551,
    "start_time": "2021-07-13T12:28:03.170Z"
   },
   {
    "duration": 1471,
    "start_time": "2021-07-13T12:28:03.723Z"
   },
   {
    "duration": -290,
    "start_time": "2021-07-13T12:28:58.401Z"
   },
   {
    "duration": -290,
    "start_time": "2021-07-13T12:28:58.403Z"
   },
   {
    "duration": -292,
    "start_time": "2021-07-13T12:28:58.406Z"
   },
   {
    "duration": -292,
    "start_time": "2021-07-13T12:28:58.407Z"
   },
   {
    "duration": -298,
    "start_time": "2021-07-13T12:28:58.414Z"
   },
   {
    "duration": -298,
    "start_time": "2021-07-13T12:28:58.416Z"
   },
   {
    "duration": -299,
    "start_time": "2021-07-13T12:28:58.418Z"
   },
   {
    "duration": -348,
    "start_time": "2021-07-13T12:28:58.469Z"
   },
   {
    "duration": -349,
    "start_time": "2021-07-13T12:28:58.471Z"
   },
   {
    "duration": -350,
    "start_time": "2021-07-13T12:28:58.474Z"
   },
   {
    "duration": -350,
    "start_time": "2021-07-13T12:28:58.475Z"
   },
   {
    "duration": -359,
    "start_time": "2021-07-13T12:28:58.486Z"
   },
   {
    "duration": -362,
    "start_time": "2021-07-13T12:28:58.490Z"
   },
   {
    "duration": -368,
    "start_time": "2021-07-13T12:28:58.497Z"
   },
   {
    "duration": -367,
    "start_time": "2021-07-13T12:28:58.498Z"
   },
   {
    "duration": -368,
    "start_time": "2021-07-13T12:28:58.500Z"
   },
   {
    "duration": -369,
    "start_time": "2021-07-13T12:28:58.503Z"
   },
   {
    "duration": -370,
    "start_time": "2021-07-13T12:28:58.505Z"
   },
   {
    "duration": 5,
    "start_time": "2021-07-13T12:28:59.896Z"
   },
   {
    "duration": 53,
    "start_time": "2021-07-13T12:28:59.904Z"
   },
   {
    "duration": 3,
    "start_time": "2021-07-13T12:28:59.960Z"
   },
   {
    "duration": 20,
    "start_time": "2021-07-13T12:28:59.966Z"
   },
   {
    "duration": 298,
    "start_time": "2021-07-13T12:28:59.989Z"
   },
   {
    "duration": 355,
    "start_time": "2021-07-13T12:29:00.289Z"
   },
   {
    "duration": 1467,
    "start_time": "2021-07-13T12:29:00.647Z"
   },
   {
    "duration": 6,
    "start_time": "2021-07-13T12:29:02.116Z"
   },
   {
    "duration": 875,
    "start_time": "2021-07-13T12:29:02.126Z"
   },
   {
    "duration": 12208,
    "start_time": "2021-07-13T12:29:03.008Z"
   },
   {
    "duration": 6143,
    "start_time": "2021-07-13T12:29:15.219Z"
   },
   {
    "duration": 321,
    "start_time": "2021-07-13T12:29:21.365Z"
   },
   {
    "duration": 808,
    "start_time": "2021-07-13T12:29:21.689Z"
   },
   {
    "duration": 15816,
    "start_time": "2021-07-13T12:29:22.499Z"
   },
   {
    "duration": 326923,
    "start_time": "2021-07-13T12:29:38.410Z"
   },
   {
    "duration": 3,
    "start_time": "2021-07-13T12:35:05.335Z"
   },
   {
    "duration": 369,
    "start_time": "2021-07-13T12:35:05.341Z"
   },
   {
    "duration": 98,
    "start_time": "2021-07-13T12:35:05.713Z"
   },
   {
    "duration": 5,
    "start_time": "2021-07-13T12:38:37.248Z"
   },
   {
    "duration": 53,
    "start_time": "2021-07-13T12:38:37.256Z"
   },
   {
    "duration": 4,
    "start_time": "2021-07-13T12:38:37.312Z"
   },
   {
    "duration": 11,
    "start_time": "2021-07-13T12:38:37.318Z"
   },
   {
    "duration": 311,
    "start_time": "2021-07-13T12:38:37.332Z"
   },
   {
    "duration": 386,
    "start_time": "2021-07-13T12:38:37.645Z"
   },
   {
    "duration": 1532,
    "start_time": "2021-07-13T12:38:38.034Z"
   },
   {
    "duration": 6,
    "start_time": "2021-07-13T12:38:39.568Z"
   },
   {
    "duration": 981,
    "start_time": "2021-07-13T12:38:39.577Z"
   },
   {
    "duration": 12054,
    "start_time": "2021-07-13T12:38:40.561Z"
   },
   {
    "duration": 6273,
    "start_time": "2021-07-13T12:38:52.618Z"
   },
   {
    "duration": 344,
    "start_time": "2021-07-13T12:38:58.893Z"
   },
   {
    "duration": 876,
    "start_time": "2021-07-13T12:38:59.240Z"
   },
   {
    "duration": 17891,
    "start_time": "2021-07-13T12:39:00.119Z"
   },
   {
    "duration": 528,
    "start_time": "2021-07-13T12:39:18.014Z"
   },
   {
    "duration": -292,
    "start_time": "2021-07-13T12:39:18.837Z"
   },
   {
    "duration": -293,
    "start_time": "2021-07-13T12:39:18.839Z"
   },
   {
    "duration": -292,
    "start_time": "2021-07-13T12:39:18.840Z"
   },
   {
    "duration": 6,
    "start_time": "2021-07-13T12:41:48.111Z"
   },
   {
    "duration": 59,
    "start_time": "2021-07-13T12:41:48.119Z"
   },
   {
    "duration": 3,
    "start_time": "2021-07-13T12:41:48.182Z"
   },
   {
    "duration": 23,
    "start_time": "2021-07-13T12:41:48.188Z"
   },
   {
    "duration": 319,
    "start_time": "2021-07-13T12:41:48.214Z"
   },
   {
    "duration": 346,
    "start_time": "2021-07-13T12:41:48.535Z"
   },
   {
    "duration": 1509,
    "start_time": "2021-07-13T12:41:48.883Z"
   },
   {
    "duration": 13,
    "start_time": "2021-07-13T12:41:50.396Z"
   },
   {
    "duration": 846,
    "start_time": "2021-07-13T12:41:50.412Z"
   },
   {
    "duration": 12050,
    "start_time": "2021-07-13T12:41:51.261Z"
   },
   {
    "duration": 6107,
    "start_time": "2021-07-13T12:42:03.315Z"
   },
   {
    "duration": 349,
    "start_time": "2021-07-13T12:42:09.424Z"
   },
   {
    "duration": 883,
    "start_time": "2021-07-13T12:42:09.775Z"
   },
   {
    "duration": 18155,
    "start_time": "2021-07-13T12:42:10.661Z"
   },
   {
    "duration": 357227,
    "start_time": "2021-07-13T12:42:28.819Z"
   },
   {
    "duration": 3,
    "start_time": "2021-07-13T12:48:26.048Z"
   },
   {
    "duration": 339,
    "start_time": "2021-07-13T12:48:26.053Z"
   },
   {
    "duration": 32,
    "start_time": "2021-07-13T12:48:26.394Z"
   },
   {
    "duration": 5,
    "start_time": "2021-07-13T12:53:21.775Z"
   },
   {
    "duration": 56,
    "start_time": "2021-07-13T12:53:21.783Z"
   },
   {
    "duration": 9,
    "start_time": "2021-07-13T12:53:21.842Z"
   },
   {
    "duration": 19,
    "start_time": "2021-07-13T12:53:21.854Z"
   },
   {
    "duration": 359,
    "start_time": "2021-07-13T12:53:21.876Z"
   },
   {
    "duration": 353,
    "start_time": "2021-07-13T12:53:22.238Z"
   },
   {
    "duration": 1424,
    "start_time": "2021-07-13T12:53:22.593Z"
   },
   {
    "duration": 5,
    "start_time": "2021-07-13T12:53:24.020Z"
   },
   {
    "duration": 876,
    "start_time": "2021-07-13T12:53:24.030Z"
   },
   {
    "duration": 11816,
    "start_time": "2021-07-13T12:53:24.910Z"
   },
   {
    "duration": 6144,
    "start_time": "2021-07-13T12:53:36.729Z"
   },
   {
    "duration": 352,
    "start_time": "2021-07-13T12:53:42.875Z"
   },
   {
    "duration": 914,
    "start_time": "2021-07-13T12:53:43.230Z"
   },
   {
    "duration": 17870,
    "start_time": "2021-07-13T12:53:44.146Z"
   },
   {
    "duration": 341343,
    "start_time": "2021-07-13T12:54:02.019Z"
   },
   {
    "duration": 3,
    "start_time": "2021-07-13T12:59:43.365Z"
   },
   {
    "duration": 350,
    "start_time": "2021-07-13T12:59:43.371Z"
   },
   {
    "duration": 88,
    "start_time": "2021-07-13T12:59:43.723Z"
   },
   {
    "duration": 5,
    "start_time": "2021-07-13T13:02:04.836Z"
   },
   {
    "duration": 136,
    "start_time": "2021-07-13T13:02:04.844Z"
   },
   {
    "duration": 24,
    "start_time": "2021-07-13T13:02:04.984Z"
   },
   {
    "duration": 55,
    "start_time": "2021-07-13T13:02:05.011Z"
   },
   {
    "duration": 327,
    "start_time": "2021-07-13T13:02:05.068Z"
   },
   {
    "duration": 367,
    "start_time": "2021-07-13T13:02:05.398Z"
   },
   {
    "duration": 1426,
    "start_time": "2021-07-13T13:02:05.768Z"
   },
   {
    "duration": 12,
    "start_time": "2021-07-13T13:02:07.197Z"
   },
   {
    "duration": 921,
    "start_time": "2021-07-13T13:02:07.213Z"
   },
   {
    "duration": 11881,
    "start_time": "2021-07-13T13:02:08.137Z"
   },
   {
    "duration": 6035,
    "start_time": "2021-07-13T13:02:20.110Z"
   },
   {
    "duration": 352,
    "start_time": "2021-07-13T13:02:26.147Z"
   },
   {
    "duration": 879,
    "start_time": "2021-07-13T13:02:26.501Z"
   },
   {
    "duration": 17728,
    "start_time": "2021-07-13T13:02:27.382Z"
   },
   {
    "duration": 948214,
    "start_time": "2021-07-13T13:02:45.114Z"
   },
   {
    "duration": 3,
    "start_time": "2021-07-13T13:18:33.330Z"
   },
   {
    "duration": 566,
    "start_time": "2021-07-13T13:18:33.335Z"
   },
   {
    "duration": 106,
    "start_time": "2021-07-13T13:18:33.904Z"
   },
   {
    "duration": 6,
    "start_time": "2021-07-13T13:20:03.719Z"
   },
   {
    "duration": 67,
    "start_time": "2021-07-13T13:20:03.728Z"
   },
   {
    "duration": 4,
    "start_time": "2021-07-13T13:20:03.798Z"
   },
   {
    "duration": 13,
    "start_time": "2021-07-13T13:20:03.804Z"
   },
   {
    "duration": 299,
    "start_time": "2021-07-13T13:20:03.819Z"
   },
   {
    "duration": 352,
    "start_time": "2021-07-13T13:20:04.121Z"
   },
   {
    "duration": 1452,
    "start_time": "2021-07-13T13:20:04.476Z"
   },
   {
    "duration": 6,
    "start_time": "2021-07-13T13:20:05.931Z"
   },
   {
    "duration": 908,
    "start_time": "2021-07-13T13:20:05.940Z"
   },
   {
    "duration": 11965,
    "start_time": "2021-07-13T13:20:06.851Z"
   },
   {
    "duration": 6291,
    "start_time": "2021-07-13T13:20:18.818Z"
   },
   {
    "duration": 359,
    "start_time": "2021-07-13T13:20:25.112Z"
   },
   {
    "duration": 884,
    "start_time": "2021-07-13T13:20:25.474Z"
   },
   {
    "duration": 18054,
    "start_time": "2021-07-13T13:20:26.361Z"
   },
   {
    "duration": 1026370,
    "start_time": "2021-07-13T13:20:44.418Z"
   },
   {
    "duration": 18,
    "start_time": "2021-07-13T13:37:50.791Z"
   },
   {
    "duration": 582,
    "start_time": "2021-07-13T13:37:50.811Z"
   },
   {
    "duration": 113,
    "start_time": "2021-07-13T13:37:51.396Z"
   },
   {
    "duration": 5,
    "start_time": "2021-07-13T13:40:38.923Z"
   },
   {
    "duration": 70,
    "start_time": "2021-07-13T13:40:38.931Z"
   },
   {
    "duration": 3,
    "start_time": "2021-07-13T13:40:39.004Z"
   },
   {
    "duration": 16,
    "start_time": "2021-07-13T13:40:39.010Z"
   },
   {
    "duration": 371,
    "start_time": "2021-07-13T13:40:39.028Z"
   },
   {
    "duration": 353,
    "start_time": "2021-07-13T13:40:39.402Z"
   },
   {
    "duration": 1401,
    "start_time": "2021-07-13T13:40:39.757Z"
   },
   {
    "duration": 7,
    "start_time": "2021-07-13T13:40:41.160Z"
   },
   {
    "duration": 950,
    "start_time": "2021-07-13T13:40:41.171Z"
   },
   {
    "duration": 11889,
    "start_time": "2021-07-13T13:40:42.124Z"
   },
   {
    "duration": 6167,
    "start_time": "2021-07-13T13:40:54.016Z"
   },
   {
    "duration": 349,
    "start_time": "2021-07-13T13:41:00.185Z"
   },
   {
    "duration": 914,
    "start_time": "2021-07-13T13:41:00.537Z"
   },
   {
    "duration": 17776,
    "start_time": "2021-07-13T13:41:01.454Z"
   },
   {
    "duration": 451346,
    "start_time": "2021-07-13T13:41:19.310Z"
   },
   {
    "duration": 3,
    "start_time": "2021-07-13T13:48:50.659Z"
   },
   {
    "duration": 434,
    "start_time": "2021-07-13T13:48:50.664Z"
   },
   {
    "duration": 24,
    "start_time": "2021-07-13T13:48:51.100Z"
   },
   {
    "duration": 5,
    "start_time": "2021-07-13T14:48:35.556Z"
   },
   {
    "duration": 64,
    "start_time": "2021-07-13T14:48:35.564Z"
   },
   {
    "duration": 3,
    "start_time": "2021-07-13T14:48:35.631Z"
   },
   {
    "duration": 20,
    "start_time": "2021-07-13T14:48:35.637Z"
   },
   {
    "duration": 318,
    "start_time": "2021-07-13T14:48:35.659Z"
   },
   {
    "duration": 359,
    "start_time": "2021-07-13T14:48:35.980Z"
   },
   {
    "duration": 1401,
    "start_time": "2021-07-13T14:48:36.342Z"
   },
   {
    "duration": 7,
    "start_time": "2021-07-13T14:48:37.745Z"
   },
   {
    "duration": 881,
    "start_time": "2021-07-13T14:48:37.756Z"
   },
   {
    "duration": 11577,
    "start_time": "2021-07-13T14:48:38.640Z"
   },
   {
    "duration": 6278,
    "start_time": "2021-07-13T14:48:50.309Z"
   },
   {
    "duration": 347,
    "start_time": "2021-07-13T14:48:56.590Z"
   },
   {
    "duration": 910,
    "start_time": "2021-07-13T14:48:56.939Z"
   },
   {
    "duration": 17359,
    "start_time": "2021-07-13T14:48:57.851Z"
   },
   {
    "duration": 66787,
    "start_time": "2021-07-13T14:49:15.214Z"
   },
   {
    "duration": -366,
    "start_time": "2021-07-13T14:50:22.371Z"
   },
   {
    "duration": -367,
    "start_time": "2021-07-13T14:50:22.374Z"
   },
   {
    "duration": -366,
    "start_time": "2021-07-13T14:50:22.375Z"
   },
   {
    "duration": 5,
    "start_time": "2021-07-13T14:50:43.409Z"
   },
   {
    "duration": 67,
    "start_time": "2021-07-13T14:50:43.417Z"
   },
   {
    "duration": 4,
    "start_time": "2021-07-13T14:50:43.487Z"
   },
   {
    "duration": 14,
    "start_time": "2021-07-13T14:50:43.511Z"
   },
   {
    "duration": 322,
    "start_time": "2021-07-13T14:50:43.528Z"
   },
   {
    "duration": 366,
    "start_time": "2021-07-13T14:50:43.853Z"
   },
   {
    "duration": 1405,
    "start_time": "2021-07-13T14:50:44.221Z"
   },
   {
    "duration": 5,
    "start_time": "2021-07-13T14:50:45.629Z"
   },
   {
    "duration": 880,
    "start_time": "2021-07-13T14:50:45.638Z"
   },
   {
    "duration": 11996,
    "start_time": "2021-07-13T14:50:46.521Z"
   },
   {
    "duration": 6159,
    "start_time": "2021-07-13T14:50:58.611Z"
   },
   {
    "duration": 699,
    "start_time": "2021-07-13T14:51:04.772Z"
   },
   {
    "duration": -228,
    "start_time": "2021-07-13T14:51:05.702Z"
   },
   {
    "duration": -230,
    "start_time": "2021-07-13T14:51:05.705Z"
   },
   {
    "duration": -233,
    "start_time": "2021-07-13T14:51:05.710Z"
   },
   {
    "duration": -235,
    "start_time": "2021-07-13T14:51:05.713Z"
   },
   {
    "duration": -234,
    "start_time": "2021-07-13T14:51:05.714Z"
   },
   {
    "duration": -235,
    "start_time": "2021-07-13T14:51:05.716Z"
   },
   {
    "duration": 5,
    "start_time": "2021-07-13T14:53:42.167Z"
   },
   {
    "duration": 67,
    "start_time": "2021-07-13T14:53:42.175Z"
   },
   {
    "duration": 4,
    "start_time": "2021-07-13T14:53:42.245Z"
   },
   {
    "duration": 17,
    "start_time": "2021-07-13T14:53:42.252Z"
   },
   {
    "duration": 308,
    "start_time": "2021-07-13T14:53:42.271Z"
   },
   {
    "duration": 376,
    "start_time": "2021-07-13T14:53:42.582Z"
   },
   {
    "duration": 1454,
    "start_time": "2021-07-13T14:53:42.961Z"
   },
   {
    "duration": 7,
    "start_time": "2021-07-13T14:53:44.418Z"
   },
   {
    "duration": 928,
    "start_time": "2021-07-13T14:53:44.429Z"
   },
   {
    "duration": 12060,
    "start_time": "2021-07-13T14:53:45.360Z"
   },
   {
    "duration": 6208,
    "start_time": "2021-07-13T14:53:57.509Z"
   },
   {
    "duration": 356,
    "start_time": "2021-07-13T14:54:03.719Z"
   },
   {
    "duration": 915,
    "start_time": "2021-07-13T14:54:04.077Z"
   },
   {
    "duration": 17620,
    "start_time": "2021-07-13T14:54:04.995Z"
   },
   {
    "duration": 1467908,
    "start_time": "2021-07-13T14:54:22.708Z"
   },
   {
    "duration": 4,
    "start_time": "2021-07-13T15:18:50.619Z"
   },
   {
    "duration": 475,
    "start_time": "2021-07-13T15:18:50.626Z"
   },
   {
    "duration": 21,
    "start_time": "2021-07-13T15:18:51.108Z"
   },
   {
    "duration": 5,
    "start_time": "2021-07-13T15:19:26.971Z"
   },
   {
    "duration": 62,
    "start_time": "2021-07-13T15:19:26.979Z"
   },
   {
    "duration": 4,
    "start_time": "2021-07-13T15:19:27.045Z"
   },
   {
    "duration": 22,
    "start_time": "2021-07-13T15:19:27.053Z"
   },
   {
    "duration": 453,
    "start_time": "2021-07-13T15:19:27.077Z"
   },
   {
    "duration": 410,
    "start_time": "2021-07-13T15:19:27.533Z"
   },
   {
    "duration": 1430,
    "start_time": "2021-07-13T15:19:27.946Z"
   },
   {
    "duration": 6,
    "start_time": "2021-07-13T15:19:29.379Z"
   },
   {
    "duration": 877,
    "start_time": "2021-07-13T15:19:29.387Z"
   },
   {
    "duration": 11974,
    "start_time": "2021-07-13T15:19:30.266Z"
   },
   {
    "duration": 6416,
    "start_time": "2021-07-13T15:19:42.312Z"
   },
   {
    "duration": 361,
    "start_time": "2021-07-13T15:19:48.732Z"
   },
   {
    "duration": 927,
    "start_time": "2021-07-13T15:19:49.096Z"
   },
   {
    "duration": 18184,
    "start_time": "2021-07-13T15:19:50.025Z"
   },
   {
    "duration": 6275086,
    "start_time": "2021-07-13T15:20:08.213Z"
   },
   {
    "duration": 4,
    "start_time": "2021-07-13T17:04:43.310Z"
   },
   {
    "duration": 646,
    "start_time": "2021-07-13T17:04:43.317Z"
   },
   {
    "duration": 45,
    "start_time": "2021-07-13T17:04:43.966Z"
   },
   {
    "duration": 20,
    "start_time": "2021-07-13T21:51:13.237Z"
   },
   {
    "duration": 1429,
    "start_time": "2021-07-14T04:13:56.493Z"
   },
   {
    "duration": 55,
    "start_time": "2021-07-14T04:13:57.924Z"
   },
   {
    "duration": 6,
    "start_time": "2021-07-14T04:15:13.528Z"
   },
   {
    "duration": 317,
    "start_time": "2021-07-14T04:15:17.964Z"
   },
   {
    "duration": 384,
    "start_time": "2021-07-14T04:15:18.283Z"
   },
   {
    "duration": 1452,
    "start_time": "2021-07-14T04:15:18.711Z"
   },
   {
    "duration": 5,
    "start_time": "2021-07-14T04:15:20.168Z"
   },
   {
    "duration": 34,
    "start_time": "2021-07-14T04:16:51.984Z"
   },
   {
    "duration": 805,
    "start_time": "2021-07-14T04:20:25.321Z"
   },
   {
    "duration": 12040,
    "start_time": "2021-07-14T04:20:26.128Z"
   },
   {
    "duration": 5874,
    "start_time": "2021-07-14T04:20:38.173Z"
   },
   {
    "duration": 327,
    "start_time": "2021-07-14T04:21:45.134Z"
   },
   {
    "duration": 845,
    "start_time": "2021-07-14T04:22:34.646Z"
   },
   {
    "duration": 17580,
    "start_time": "2021-07-14T04:22:35.494Z"
   },
   {
    "duration": 1836285,
    "start_time": "2021-07-14T04:22:53.077Z"
   },
   {
    "duration": 534,
    "start_time": "2021-07-14T04:53:46.680Z"
   },
   {
    "duration": 92,
    "start_time": "2021-07-14T04:53:47.878Z"
   },
   {
    "duration": 118,
    "start_time": "2021-07-14T04:53:51.772Z"
   },
   {
    "duration": 76,
    "start_time": "2021-07-14T04:54:08.091Z"
   },
   {
    "duration": 1052,
    "start_time": "2021-07-15T21:21:16.111Z"
   },
   {
    "duration": 41,
    "start_time": "2021-07-15T21:21:17.165Z"
   },
   {
    "duration": 3,
    "start_time": "2021-07-15T21:21:17.208Z"
   },
   {
    "duration": 6,
    "start_time": "2021-07-15T21:21:17.213Z"
   },
   {
    "duration": 203,
    "start_time": "2021-07-15T21:21:17.220Z"
   },
   {
    "duration": 384,
    "start_time": "2021-07-15T21:21:17.425Z"
   },
   {
    "duration": 71,
    "start_time": "2021-07-15T21:21:17.740Z"
   },
   {
    "duration": 69,
    "start_time": "2021-07-15T21:21:17.743Z"
   },
   {
    "duration": 64,
    "start_time": "2021-07-15T21:21:17.748Z"
   },
   {
    "duration": 62,
    "start_time": "2021-07-15T21:21:17.751Z"
   },
   {
    "duration": 61,
    "start_time": "2021-07-15T21:21:17.753Z"
   },
   {
    "duration": 60,
    "start_time": "2021-07-15T21:21:17.755Z"
   },
   {
    "duration": 55,
    "start_time": "2021-07-15T21:21:17.761Z"
   },
   {
    "duration": 52,
    "start_time": "2021-07-15T21:21:17.765Z"
   },
   {
    "duration": 50,
    "start_time": "2021-07-15T21:21:17.767Z"
   },
   {
    "duration": 49,
    "start_time": "2021-07-15T21:21:17.769Z"
   },
   {
    "duration": 46,
    "start_time": "2021-07-15T21:21:17.774Z"
   },
   {
    "duration": 44,
    "start_time": "2021-07-15T21:21:17.777Z"
   },
   {
    "duration": 43,
    "start_time": "2021-07-15T21:21:17.779Z"
   },
   {
    "duration": 190,
    "start_time": "2021-07-15T21:22:49.917Z"
   },
   {
    "duration": 286,
    "start_time": "2021-07-15T21:22:52.158Z"
   },
   {
    "duration": 283,
    "start_time": "2021-07-15T21:23:04.457Z"
   },
   {
    "duration": 313,
    "start_time": "2021-07-15T21:23:33.851Z"
   },
   {
    "duration": 201,
    "start_time": "2021-07-15T21:23:48.854Z"
   },
   {
    "duration": 278,
    "start_time": "2021-07-15T21:24:08.886Z"
   },
   {
    "duration": 268,
    "start_time": "2021-07-15T21:24:44.808Z"
   },
   {
    "duration": 104,
    "start_time": "2021-07-15T21:26:03.702Z"
   },
   {
    "duration": 6,
    "start_time": "2021-07-15T21:26:19.834Z"
   },
   {
    "duration": 17,
    "start_time": "2021-07-15T21:26:21.135Z"
   },
   {
    "duration": 3,
    "start_time": "2021-07-15T21:26:28.879Z"
   },
   {
    "duration": 39,
    "start_time": "2021-07-15T21:26:28.884Z"
   },
   {
    "duration": 2,
    "start_time": "2021-07-15T21:26:28.972Z"
   },
   {
    "duration": 12,
    "start_time": "2021-07-15T21:26:28.976Z"
   },
   {
    "duration": 13,
    "start_time": "2021-07-15T21:26:28.990Z"
   },
   {
    "duration": 9,
    "start_time": "2021-07-15T21:26:29.007Z"
   },
   {
    "duration": 11,
    "start_time": "2021-07-15T21:26:29.018Z"
   },
   {
    "duration": 4,
    "start_time": "2021-07-15T21:26:29.031Z"
   },
   {
    "duration": 20,
    "start_time": "2021-07-15T21:26:29.036Z"
   },
   {
    "duration": 32,
    "start_time": "2021-07-15T21:26:29.058Z"
   },
   {
    "duration": 65,
    "start_time": "2021-07-15T21:26:29.092Z"
   },
   {
    "duration": 400,
    "start_time": "2021-07-15T21:26:29.242Z"
   },
   {
    "duration": 13,
    "start_time": "2021-07-15T21:26:29.645Z"
   },
   {
    "duration": 38,
    "start_time": "2021-07-15T21:26:29.660Z"
   },
   {
    "duration": 46,
    "start_time": "2021-07-15T21:26:29.700Z"
   },
   {
    "duration": 504728,
    "start_time": "2021-07-15T21:26:29.747Z"
   },
   {
    "duration": 3,
    "start_time": "2021-07-15T21:34:54.476Z"
   },
   {
    "duration": 227,
    "start_time": "2021-07-15T21:34:54.480Z"
   },
   {
    "duration": 39,
    "start_time": "2021-07-15T21:34:54.709Z"
   },
   {
    "duration": 459,
    "start_time": "2021-07-16T06:31:32.195Z"
   },
   {
    "duration": 1459,
    "start_time": "2021-07-16T06:31:37.847Z"
   },
   {
    "duration": 59,
    "start_time": "2021-07-16T06:31:39.309Z"
   },
   {
    "duration": 4,
    "start_time": "2021-07-16T06:31:39.372Z"
   },
   {
    "duration": 464,
    "start_time": "2021-07-16T06:31:39.379Z"
   },
   {
    "duration": 323,
    "start_time": "2021-07-16T06:31:39.523Z"
   },
   {
    "duration": 322,
    "start_time": "2021-07-16T06:31:39.525Z"
   },
   {
    "duration": 308,
    "start_time": "2021-07-16T06:31:39.540Z"
   },
   {
    "duration": 295,
    "start_time": "2021-07-16T06:31:39.555Z"
   },
   {
    "duration": 272,
    "start_time": "2021-07-16T06:31:39.579Z"
   },
   {
    "duration": 269,
    "start_time": "2021-07-16T06:31:39.584Z"
   },
   {
    "duration": 261,
    "start_time": "2021-07-16T06:31:39.593Z"
   },
   {
    "duration": 224,
    "start_time": "2021-07-16T06:31:39.631Z"
   },
   {
    "duration": 208,
    "start_time": "2021-07-16T06:31:39.649Z"
   },
   {
    "duration": 199,
    "start_time": "2021-07-16T06:31:39.659Z"
   },
   {
    "duration": 189,
    "start_time": "2021-07-16T06:31:39.671Z"
   },
   {
    "duration": 177,
    "start_time": "2021-07-16T06:31:39.684Z"
   },
   {
    "duration": 176,
    "start_time": "2021-07-16T06:31:39.687Z"
   },
   {
    "duration": 172,
    "start_time": "2021-07-16T06:31:39.692Z"
   },
   {
    "duration": 172,
    "start_time": "2021-07-16T06:31:39.694Z"
   },
   {
    "duration": 493,
    "start_time": "2021-07-16T06:32:26.296Z"
   },
   {
    "duration": 127,
    "start_time": "2021-07-16T06:32:38.940Z"
   },
   {
    "duration": 416,
    "start_time": "2021-07-16T06:32:45.473Z"
   },
   {
    "duration": 19,
    "start_time": "2021-07-16T06:33:15.683Z"
   },
   {
    "duration": 5,
    "start_time": "2021-07-16T06:33:20.740Z"
   },
   {
    "duration": 81,
    "start_time": "2021-07-16T06:33:20.748Z"
   },
   {
    "duration": 3,
    "start_time": "2021-07-16T06:33:20.832Z"
   },
   {
    "duration": 23,
    "start_time": "2021-07-16T06:33:20.838Z"
   },
   {
    "duration": 21,
    "start_time": "2021-07-16T06:33:20.863Z"
   },
   {
    "duration": 19,
    "start_time": "2021-07-16T06:33:20.887Z"
   },
   {
    "duration": 19,
    "start_time": "2021-07-16T06:33:20.908Z"
   },
   {
    "duration": 5,
    "start_time": "2021-07-16T06:33:20.931Z"
   },
   {
    "duration": 50,
    "start_time": "2021-07-16T06:33:20.939Z"
   },
   {
    "duration": 42,
    "start_time": "2021-07-16T06:33:20.991Z"
   },
   {
    "duration": 133,
    "start_time": "2021-07-16T06:33:21.035Z"
   },
   {
    "duration": 663,
    "start_time": "2021-07-16T06:33:21.171Z"
   },
   {
    "duration": 16,
    "start_time": "2021-07-16T06:33:21.836Z"
   },
   {
    "duration": 57,
    "start_time": "2021-07-16T06:33:21.867Z"
   },
   {
    "duration": 48,
    "start_time": "2021-07-16T06:33:21.926Z"
   },
   {
    "duration": 709925,
    "start_time": "2021-07-16T06:33:22.069Z"
   },
   {
    "duration": 3,
    "start_time": "2021-07-16T06:45:11.997Z"
   },
   {
    "duration": 267,
    "start_time": "2021-07-16T06:45:12.002Z"
   },
   {
    "duration": 98,
    "start_time": "2021-07-16T06:45:12.271Z"
   },
   {
    "duration": 248,
    "start_time": "2021-07-16T08:09:04.705Z"
   },
   {
    "duration": 85,
    "start_time": "2021-07-16T08:09:54.523Z"
   },
   {
    "duration": 1088,
    "start_time": "2021-07-16T08:10:01.307Z"
   },
   {
    "duration": 38,
    "start_time": "2021-07-16T08:10:02.397Z"
   },
   {
    "duration": 2,
    "start_time": "2021-07-16T08:10:02.437Z"
   },
   {
    "duration": 20,
    "start_time": "2021-07-16T08:10:02.441Z"
   },
   {
    "duration": 96,
    "start_time": "2021-07-16T08:10:02.463Z"
   },
   {
    "duration": -31,
    "start_time": "2021-07-16T08:10:02.592Z"
   },
   {
    "duration": -47,
    "start_time": "2021-07-16T08:10:02.609Z"
   },
   {
    "duration": -49,
    "start_time": "2021-07-16T08:10:02.612Z"
   },
   {
    "duration": -61,
    "start_time": "2021-07-16T08:10:02.625Z"
   },
   {
    "duration": -74,
    "start_time": "2021-07-16T08:10:02.639Z"
   },
   {
    "duration": -87,
    "start_time": "2021-07-16T08:10:02.653Z"
   },
   {
    "duration": -96,
    "start_time": "2021-07-16T08:10:02.662Z"
   },
   {
    "duration": -106,
    "start_time": "2021-07-16T08:10:02.674Z"
   },
   {
    "duration": -139,
    "start_time": "2021-07-16T08:10:02.707Z"
   },
   {
    "duration": -141,
    "start_time": "2021-07-16T08:10:02.711Z"
   },
   {
    "duration": -153,
    "start_time": "2021-07-16T08:10:02.724Z"
   },
   {
    "duration": -157,
    "start_time": "2021-07-16T08:10:02.729Z"
   },
   {
    "duration": -167,
    "start_time": "2021-07-16T08:10:02.740Z"
   },
   {
    "duration": -180,
    "start_time": "2021-07-16T08:10:02.755Z"
   },
   {
    "duration": -187,
    "start_time": "2021-07-16T08:10:02.763Z"
   },
   {
    "duration": 76,
    "start_time": "2021-07-16T08:10:23.400Z"
   },
   {
    "duration": 97,
    "start_time": "2021-07-16T08:10:36.498Z"
   },
   {
    "duration": 322,
    "start_time": "2021-07-16T08:11:17.154Z"
   },
   {
    "duration": 218,
    "start_time": "2021-07-16T08:11:45.657Z"
   },
   {
    "duration": 82,
    "start_time": "2021-07-16T08:12:59.712Z"
   },
   {
    "duration": 4,
    "start_time": "2021-07-16T08:14:13.344Z"
   },
   {
    "duration": 41,
    "start_time": "2021-07-16T08:14:13.349Z"
   },
   {
    "duration": 2,
    "start_time": "2021-07-16T08:14:13.392Z"
   },
   {
    "duration": 11,
    "start_time": "2021-07-16T08:14:13.396Z"
   },
   {
    "duration": 11,
    "start_time": "2021-07-16T08:14:13.409Z"
   },
   {
    "duration": 8,
    "start_time": "2021-07-16T08:14:13.421Z"
   },
   {
    "duration": 11,
    "start_time": "2021-07-16T08:14:13.430Z"
   },
   {
    "duration": 3,
    "start_time": "2021-07-16T08:14:13.443Z"
   },
   {
    "duration": 44,
    "start_time": "2021-07-16T08:14:13.448Z"
   },
   {
    "duration": 26,
    "start_time": "2021-07-16T08:14:13.493Z"
   },
   {
    "duration": 76,
    "start_time": "2021-07-16T08:14:13.520Z"
   },
   {
    "duration": 431,
    "start_time": "2021-07-16T08:14:13.598Z"
   },
   {
    "duration": 11,
    "start_time": "2021-07-16T08:14:14.030Z"
   },
   {
    "duration": 34,
    "start_time": "2021-07-16T08:14:14.043Z"
   },
   {
    "duration": 29,
    "start_time": "2021-07-16T08:14:14.078Z"
   },
   {
    "duration": 399269,
    "start_time": "2021-07-16T08:14:14.109Z"
   },
   {
    "duration": 2,
    "start_time": "2021-07-16T08:20:53.379Z"
   },
   {
    "duration": 256,
    "start_time": "2021-07-16T08:20:53.382Z"
   },
   {
    "duration": 53,
    "start_time": "2021-07-16T08:20:53.640Z"
   },
   {
    "duration": 98,
    "start_time": "2021-07-16T08:20:53.695Z"
   },
   {
    "duration": 3,
    "start_time": "2021-07-16T09:45:21.122Z"
   },
   {
    "duration": 40,
    "start_time": "2021-07-16T09:45:21.132Z"
   },
   {
    "duration": 2,
    "start_time": "2021-07-16T09:45:21.174Z"
   },
   {
    "duration": 13,
    "start_time": "2021-07-16T09:45:21.177Z"
   },
   {
    "duration": 16,
    "start_time": "2021-07-16T09:45:21.191Z"
   },
   {
    "duration": 10,
    "start_time": "2021-07-16T09:45:21.208Z"
   },
   {
    "duration": 11,
    "start_time": "2021-07-16T09:45:21.219Z"
   },
   {
    "duration": 4,
    "start_time": "2021-07-16T09:45:21.231Z"
   },
   {
    "duration": 12,
    "start_time": "2021-07-16T09:45:21.237Z"
   },
   {
    "duration": 43,
    "start_time": "2021-07-16T09:45:21.251Z"
   },
   {
    "duration": 19,
    "start_time": "2021-07-16T09:45:21.295Z"
   },
   {
    "duration": 428,
    "start_time": "2021-07-16T09:45:21.394Z"
   },
   {
    "duration": 9,
    "start_time": "2021-07-16T09:45:21.824Z"
   },
   {
    "duration": 36,
    "start_time": "2021-07-16T09:45:21.834Z"
   },
   {
    "duration": 35,
    "start_time": "2021-07-16T09:45:21.872Z"
   },
   {
    "duration": 409839,
    "start_time": "2021-07-16T09:45:21.909Z"
   },
   {
    "duration": 2,
    "start_time": "2021-07-16T09:52:11.749Z"
   },
   {
    "duration": 252,
    "start_time": "2021-07-16T09:52:11.753Z"
   },
   {
    "duration": 8,
    "start_time": "2021-07-16T09:52:12.007Z"
   },
   {
    "duration": 79,
    "start_time": "2021-07-17T03:15:09.070Z"
   },
   {
    "duration": 645,
    "start_time": "2021-11-03T14:20:15.301Z"
   },
   {
    "duration": 406,
    "start_time": "2021-11-03T14:21:23.579Z"
   },
   {
    "duration": 362,
    "start_time": "2021-11-03T14:21:42.978Z"
   },
   {
    "duration": 1392,
    "start_time": "2021-11-03T14:48:05.869Z"
   }
  ],
  "kernelspec": {
   "display_name": "Python 3",
   "language": "python",
   "name": "python3"
  },
  "language_info": {
   "codemirror_mode": {
    "name": "ipython",
    "version": 3
   },
   "file_extension": ".py",
   "mimetype": "text/x-python",
   "name": "python",
   "nbconvert_exporter": "python",
   "pygments_lexer": "ipython3",
   "version": "3.7.8"
  },
  "toc": {
   "base_numbering": 1,
   "nav_menu": {},
   "number_sections": true,
   "sideBar": true,
   "skip_h1_title": true,
   "title_cell": "Содержание",
   "title_sidebar": "Contents",
   "toc_cell": true,
   "toc_position": {
    "height": "calc(100% - 180px)",
    "left": "10px",
    "top": "150px",
    "width": "165px"
   },
   "toc_section_display": true,
   "toc_window_display": true
  }
 },
 "nbformat": 4,
 "nbformat_minor": 2
}
