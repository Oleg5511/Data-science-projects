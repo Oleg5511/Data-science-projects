{
 "cells": [
  {
   "cell_type": "markdown",
   "metadata": {
    "toc": true
   },
   "source": [
    "<h1>Содержание<span class=\"tocSkip\"></span></h1>\n",
    "<div class=\"toc\"><ul class=\"toc-item\"><li><span><a href=\"#Подготовка-данных\" data-toc-modified-id=\"Подготовка-данных-1\"><span class=\"toc-item-num\">1&nbsp;&nbsp;</span>Подготовка данных</a></span></li><li><span><a href=\"#Анализ-данных\" data-toc-modified-id=\"Анализ-данных-2\"><span class=\"toc-item-num\">2&nbsp;&nbsp;</span>Анализ данных</a></span></li><li><span><a href=\"#Модель\" data-toc-modified-id=\"Модель-3\"><span class=\"toc-item-num\">3&nbsp;&nbsp;</span>Модель</a></span></li></ul></div>"
   ]
  },
  {
   "cell_type": "markdown",
   "metadata": {},
   "source": [
    "# Восстановление золота из руды"
   ]
  },
  {
   "cell_type": "markdown",
   "metadata": {},
   "source": [
    "## Подготовка данных"
   ]
  },
  {
   "cell_type": "code",
   "execution_count": 4,
   "metadata": {},
   "outputs": [],
   "source": [
    "import pandas as pd\n",
    "import matplotlib as plt\n",
    "from sklearn.metrics import mean_absolute_error \n",
    "import matplotlib.pyplot as plt\n",
    "from sklearn.model_selection import train_test_split, cross_val_score, ShuffleSplit\n",
    "from sklearn.linear_model import LinearRegression\n",
    "from sklearn.ensemble import RandomForestRegressor\n",
    "from sklearn.preprocessing import OrdinalEncoder, StandardScaler\n",
    "from sklearn.metrics import r2_score, mean_squared_error\n",
    "from sklearn.utils import shuffle\n",
    "from sklearn.preprocessing import LabelEncoder\n",
    "import numpy as np\n",
    "import seaborn as sns\n",
    "from sklearn.dummy import DummyRegressor"
   ]
  },
  {
   "cell_type": "code",
   "execution_count": 5,
   "metadata": {},
   "outputs": [],
   "source": [
    "data =pd.read_csv('/datasets/gold_recovery_full_new.csv')\n",
    "data_train = pd.read_csv('/datasets/gold_recovery_train_new.csv')\n",
    "data_test = pd.read_csv('/datasets/gold_recovery_test_new.csv')"
   ]
  },
  {
   "cell_type": "code",
   "execution_count": 6,
   "metadata": {},
   "outputs": [],
   "source": [
    "def primary_analysis(data):\n",
    "    display(data.head())\n",
    "    print(data.info())\n"
   ]
  },
  {
   "cell_type": "code",
   "execution_count": 7,
   "metadata": {},
   "outputs": [],
   "source": [
    "for  i in range(len(data_train)):\n",
    "    C = data_train.loc[i, 'rougher.output.concentrate_au']\n",
    "    F = data_train.loc[i, 'rougher.input.feed_au']\n",
    "    T = data_train.loc[i, 'rougher.output.tail_au']\n",
    "    \n",
    "    data_train.loc[i,'rougher.output.recovery_2'] = ((C * (F - T)) / (F * (C - T))) * 100\n",
    "    \n",
    "train_mae = mean_absolute_error(data_train['rougher.output.recovery'], data_train['rougher.output.recovery_2'])\n",
    "\n",
    "\n"
   ]
  },
  {
   "cell_type": "code",
   "execution_count": 8,
   "metadata": {},
   "outputs": [
    {
     "name": "stdout",
     "output_type": "stream",
     "text": [
      "9.682896147825551e-15\n",
      "14149\n"
     ]
    }
   ],
   "source": [
    "print(train_mae)\n",
    "print(len(data_train))"
   ]
  },
  {
   "cell_type": "markdown",
   "metadata": {},
   "source": [
    "Рассчитанный показатель эффективности обогащения практически не отличается от фактического значения. Средняя абсолютная ошибка равна $9.68*10^{-15}$. Это означает корректность поступивших показателей."
   ]
  },
  {
   "cell_type": "code",
   "execution_count": 9,
   "metadata": {
    "scrolled": false
   },
   "outputs": [
    {
     "data": {
      "text/html": [
       "<div>\n",
       "<style scoped>\n",
       "    .dataframe tbody tr th:only-of-type {\n",
       "        vertical-align: middle;\n",
       "    }\n",
       "\n",
       "    .dataframe tbody tr th {\n",
       "        vertical-align: top;\n",
       "    }\n",
       "\n",
       "    .dataframe thead th {\n",
       "        text-align: right;\n",
       "    }\n",
       "</style>\n",
       "<table border=\"1\" class=\"dataframe\">\n",
       "  <thead>\n",
       "    <tr style=\"text-align: right;\">\n",
       "      <th></th>\n",
       "      <th>date</th>\n",
       "      <th>final.output.concentrate_ag</th>\n",
       "      <th>final.output.concentrate_pb</th>\n",
       "      <th>final.output.concentrate_sol</th>\n",
       "      <th>final.output.concentrate_au</th>\n",
       "      <th>final.output.recovery</th>\n",
       "      <th>final.output.tail_ag</th>\n",
       "      <th>final.output.tail_pb</th>\n",
       "      <th>final.output.tail_sol</th>\n",
       "      <th>final.output.tail_au</th>\n",
       "      <th>...</th>\n",
       "      <th>secondary_cleaner.state.floatbank4_a_air</th>\n",
       "      <th>secondary_cleaner.state.floatbank4_a_level</th>\n",
       "      <th>secondary_cleaner.state.floatbank4_b_air</th>\n",
       "      <th>secondary_cleaner.state.floatbank4_b_level</th>\n",
       "      <th>secondary_cleaner.state.floatbank5_a_air</th>\n",
       "      <th>secondary_cleaner.state.floatbank5_a_level</th>\n",
       "      <th>secondary_cleaner.state.floatbank5_b_air</th>\n",
       "      <th>secondary_cleaner.state.floatbank5_b_level</th>\n",
       "      <th>secondary_cleaner.state.floatbank6_a_air</th>\n",
       "      <th>secondary_cleaner.state.floatbank6_a_level</th>\n",
       "    </tr>\n",
       "  </thead>\n",
       "  <tbody>\n",
       "    <tr>\n",
       "      <td>0</td>\n",
       "      <td>2016-01-15 00:00:00</td>\n",
       "      <td>6.055403</td>\n",
       "      <td>9.889648</td>\n",
       "      <td>5.507324</td>\n",
       "      <td>42.192020</td>\n",
       "      <td>70.541216</td>\n",
       "      <td>10.411962</td>\n",
       "      <td>0.895447</td>\n",
       "      <td>16.904297</td>\n",
       "      <td>2.143149</td>\n",
       "      <td>...</td>\n",
       "      <td>14.016835</td>\n",
       "      <td>-502.488007</td>\n",
       "      <td>12.099931</td>\n",
       "      <td>-504.715942</td>\n",
       "      <td>9.925633</td>\n",
       "      <td>-498.310211</td>\n",
       "      <td>8.079666</td>\n",
       "      <td>-500.470978</td>\n",
       "      <td>14.151341</td>\n",
       "      <td>-605.841980</td>\n",
       "    </tr>\n",
       "    <tr>\n",
       "      <td>1</td>\n",
       "      <td>2016-01-15 01:00:00</td>\n",
       "      <td>6.029369</td>\n",
       "      <td>9.968944</td>\n",
       "      <td>5.257781</td>\n",
       "      <td>42.701629</td>\n",
       "      <td>69.266198</td>\n",
       "      <td>10.462676</td>\n",
       "      <td>0.927452</td>\n",
       "      <td>16.634514</td>\n",
       "      <td>2.224930</td>\n",
       "      <td>...</td>\n",
       "      <td>13.992281</td>\n",
       "      <td>-505.503262</td>\n",
       "      <td>11.950531</td>\n",
       "      <td>-501.331529</td>\n",
       "      <td>10.039245</td>\n",
       "      <td>-500.169983</td>\n",
       "      <td>7.984757</td>\n",
       "      <td>-500.582168</td>\n",
       "      <td>13.998353</td>\n",
       "      <td>-599.787184</td>\n",
       "    </tr>\n",
       "    <tr>\n",
       "      <td>2</td>\n",
       "      <td>2016-01-15 02:00:00</td>\n",
       "      <td>6.055926</td>\n",
       "      <td>10.213995</td>\n",
       "      <td>5.383759</td>\n",
       "      <td>42.657501</td>\n",
       "      <td>68.116445</td>\n",
       "      <td>10.507046</td>\n",
       "      <td>0.953716</td>\n",
       "      <td>16.208849</td>\n",
       "      <td>2.257889</td>\n",
       "      <td>...</td>\n",
       "      <td>14.015015</td>\n",
       "      <td>-502.520901</td>\n",
       "      <td>11.912783</td>\n",
       "      <td>-501.133383</td>\n",
       "      <td>10.070913</td>\n",
       "      <td>-500.129135</td>\n",
       "      <td>8.013877</td>\n",
       "      <td>-500.517572</td>\n",
       "      <td>14.028663</td>\n",
       "      <td>-601.427363</td>\n",
       "    </tr>\n",
       "    <tr>\n",
       "      <td>3</td>\n",
       "      <td>2016-01-15 03:00:00</td>\n",
       "      <td>6.047977</td>\n",
       "      <td>9.977019</td>\n",
       "      <td>4.858634</td>\n",
       "      <td>42.689819</td>\n",
       "      <td>68.347543</td>\n",
       "      <td>10.422762</td>\n",
       "      <td>0.883763</td>\n",
       "      <td>16.532835</td>\n",
       "      <td>2.146849</td>\n",
       "      <td>...</td>\n",
       "      <td>14.036510</td>\n",
       "      <td>-500.857308</td>\n",
       "      <td>11.999550</td>\n",
       "      <td>-501.193686</td>\n",
       "      <td>9.970366</td>\n",
       "      <td>-499.201640</td>\n",
       "      <td>7.977324</td>\n",
       "      <td>-500.255908</td>\n",
       "      <td>14.005551</td>\n",
       "      <td>-599.996129</td>\n",
       "    </tr>\n",
       "    <tr>\n",
       "      <td>4</td>\n",
       "      <td>2016-01-15 04:00:00</td>\n",
       "      <td>6.148599</td>\n",
       "      <td>10.142511</td>\n",
       "      <td>4.939416</td>\n",
       "      <td>42.774141</td>\n",
       "      <td>66.927016</td>\n",
       "      <td>10.360302</td>\n",
       "      <td>0.792826</td>\n",
       "      <td>16.525686</td>\n",
       "      <td>2.055292</td>\n",
       "      <td>...</td>\n",
       "      <td>14.027298</td>\n",
       "      <td>-499.838632</td>\n",
       "      <td>11.953070</td>\n",
       "      <td>-501.053894</td>\n",
       "      <td>9.925709</td>\n",
       "      <td>-501.686727</td>\n",
       "      <td>7.894242</td>\n",
       "      <td>-500.356035</td>\n",
       "      <td>13.996647</td>\n",
       "      <td>-601.496691</td>\n",
       "    </tr>\n",
       "  </tbody>\n",
       "</table>\n",
       "<p>5 rows × 87 columns</p>\n",
       "</div>"
      ],
      "text/plain": [
       "                  date  final.output.concentrate_ag  \\\n",
       "0  2016-01-15 00:00:00                     6.055403   \n",
       "1  2016-01-15 01:00:00                     6.029369   \n",
       "2  2016-01-15 02:00:00                     6.055926   \n",
       "3  2016-01-15 03:00:00                     6.047977   \n",
       "4  2016-01-15 04:00:00                     6.148599   \n",
       "\n",
       "   final.output.concentrate_pb  final.output.concentrate_sol  \\\n",
       "0                     9.889648                      5.507324   \n",
       "1                     9.968944                      5.257781   \n",
       "2                    10.213995                      5.383759   \n",
       "3                     9.977019                      4.858634   \n",
       "4                    10.142511                      4.939416   \n",
       "\n",
       "   final.output.concentrate_au  final.output.recovery  final.output.tail_ag  \\\n",
       "0                    42.192020              70.541216             10.411962   \n",
       "1                    42.701629              69.266198             10.462676   \n",
       "2                    42.657501              68.116445             10.507046   \n",
       "3                    42.689819              68.347543             10.422762   \n",
       "4                    42.774141              66.927016             10.360302   \n",
       "\n",
       "   final.output.tail_pb  final.output.tail_sol  final.output.tail_au  ...  \\\n",
       "0              0.895447              16.904297              2.143149  ...   \n",
       "1              0.927452              16.634514              2.224930  ...   \n",
       "2              0.953716              16.208849              2.257889  ...   \n",
       "3              0.883763              16.532835              2.146849  ...   \n",
       "4              0.792826              16.525686              2.055292  ...   \n",
       "\n",
       "   secondary_cleaner.state.floatbank4_a_air  \\\n",
       "0                                 14.016835   \n",
       "1                                 13.992281   \n",
       "2                                 14.015015   \n",
       "3                                 14.036510   \n",
       "4                                 14.027298   \n",
       "\n",
       "   secondary_cleaner.state.floatbank4_a_level  \\\n",
       "0                                 -502.488007   \n",
       "1                                 -505.503262   \n",
       "2                                 -502.520901   \n",
       "3                                 -500.857308   \n",
       "4                                 -499.838632   \n",
       "\n",
       "   secondary_cleaner.state.floatbank4_b_air  \\\n",
       "0                                 12.099931   \n",
       "1                                 11.950531   \n",
       "2                                 11.912783   \n",
       "3                                 11.999550   \n",
       "4                                 11.953070   \n",
       "\n",
       "   secondary_cleaner.state.floatbank4_b_level  \\\n",
       "0                                 -504.715942   \n",
       "1                                 -501.331529   \n",
       "2                                 -501.133383   \n",
       "3                                 -501.193686   \n",
       "4                                 -501.053894   \n",
       "\n",
       "   secondary_cleaner.state.floatbank5_a_air  \\\n",
       "0                                  9.925633   \n",
       "1                                 10.039245   \n",
       "2                                 10.070913   \n",
       "3                                  9.970366   \n",
       "4                                  9.925709   \n",
       "\n",
       "   secondary_cleaner.state.floatbank5_a_level  \\\n",
       "0                                 -498.310211   \n",
       "1                                 -500.169983   \n",
       "2                                 -500.129135   \n",
       "3                                 -499.201640   \n",
       "4                                 -501.686727   \n",
       "\n",
       "   secondary_cleaner.state.floatbank5_b_air  \\\n",
       "0                                  8.079666   \n",
       "1                                  7.984757   \n",
       "2                                  8.013877   \n",
       "3                                  7.977324   \n",
       "4                                  7.894242   \n",
       "\n",
       "   secondary_cleaner.state.floatbank5_b_level  \\\n",
       "0                                 -500.470978   \n",
       "1                                 -500.582168   \n",
       "2                                 -500.517572   \n",
       "3                                 -500.255908   \n",
       "4                                 -500.356035   \n",
       "\n",
       "   secondary_cleaner.state.floatbank6_a_air  \\\n",
       "0                                 14.151341   \n",
       "1                                 13.998353   \n",
       "2                                 14.028663   \n",
       "3                                 14.005551   \n",
       "4                                 13.996647   \n",
       "\n",
       "   secondary_cleaner.state.floatbank6_a_level  \n",
       "0                                 -605.841980  \n",
       "1                                 -599.787184  \n",
       "2                                 -601.427363  \n",
       "3                                 -599.996129  \n",
       "4                                 -601.496691  \n",
       "\n",
       "[5 rows x 87 columns]"
      ]
     },
     "metadata": {},
     "output_type": "display_data"
    },
    {
     "name": "stdout",
     "output_type": "stream",
     "text": [
      "<class 'pandas.core.frame.DataFrame'>\n",
      "RangeIndex: 19439 entries, 0 to 19438\n",
      "Data columns (total 87 columns):\n",
      "date                                                  19439 non-null object\n",
      "final.output.concentrate_ag                           19438 non-null float64\n",
      "final.output.concentrate_pb                           19438 non-null float64\n",
      "final.output.concentrate_sol                          19228 non-null float64\n",
      "final.output.concentrate_au                           19439 non-null float64\n",
      "final.output.recovery                                 19439 non-null float64\n",
      "final.output.tail_ag                                  19438 non-null float64\n",
      "final.output.tail_pb                                  19338 non-null float64\n",
      "final.output.tail_sol                                 19433 non-null float64\n",
      "final.output.tail_au                                  19439 non-null float64\n",
      "primary_cleaner.input.sulfate                         19415 non-null float64\n",
      "primary_cleaner.input.depressant                      19402 non-null float64\n",
      "primary_cleaner.input.feed_size                       19439 non-null float64\n",
      "primary_cleaner.input.xanthate                        19335 non-null float64\n",
      "primary_cleaner.output.concentrate_ag                 19439 non-null float64\n",
      "primary_cleaner.output.concentrate_pb                 19323 non-null float64\n",
      "primary_cleaner.output.concentrate_sol                19069 non-null float64\n",
      "primary_cleaner.output.concentrate_au                 19439 non-null float64\n",
      "primary_cleaner.output.tail_ag                        19435 non-null float64\n",
      "primary_cleaner.output.tail_pb                        19418 non-null float64\n",
      "primary_cleaner.output.tail_sol                       19377 non-null float64\n",
      "primary_cleaner.output.tail_au                        19439 non-null float64\n",
      "primary_cleaner.state.floatbank8_a_air                19435 non-null float64\n",
      "primary_cleaner.state.floatbank8_a_level              19438 non-null float64\n",
      "primary_cleaner.state.floatbank8_b_air                19435 non-null float64\n",
      "primary_cleaner.state.floatbank8_b_level              19438 non-null float64\n",
      "primary_cleaner.state.floatbank8_c_air                19437 non-null float64\n",
      "primary_cleaner.state.floatbank8_c_level              19438 non-null float64\n",
      "primary_cleaner.state.floatbank8_d_air                19436 non-null float64\n",
      "primary_cleaner.state.floatbank8_d_level              19438 non-null float64\n",
      "rougher.calculation.sulfate_to_au_concentrate         19437 non-null float64\n",
      "rougher.calculation.floatbank10_sulfate_to_au_feed    19437 non-null float64\n",
      "rougher.calculation.floatbank11_sulfate_to_au_feed    19437 non-null float64\n",
      "rougher.calculation.au_pb_ratio                       19439 non-null float64\n",
      "rougher.input.feed_ag                                 19439 non-null float64\n",
      "rougher.input.feed_pb                                 19339 non-null float64\n",
      "rougher.input.feed_rate                               19428 non-null float64\n",
      "rougher.input.feed_size                               19294 non-null float64\n",
      "rougher.input.feed_sol                                19340 non-null float64\n",
      "rougher.input.feed_au                                 19439 non-null float64\n",
      "rougher.input.floatbank10_sulfate                     19405 non-null float64\n",
      "rougher.input.floatbank10_xanthate                    19431 non-null float64\n",
      "rougher.input.floatbank11_sulfate                     19395 non-null float64\n",
      "rougher.input.floatbank11_xanthate                    18986 non-null float64\n",
      "rougher.output.concentrate_ag                         19439 non-null float64\n",
      "rougher.output.concentrate_pb                         19439 non-null float64\n",
      "rougher.output.concentrate_sol                        19416 non-null float64\n",
      "rougher.output.concentrate_au                         19439 non-null float64\n",
      "rougher.output.recovery                               19439 non-null float64\n",
      "rougher.output.tail_ag                                19438 non-null float64\n",
      "rougher.output.tail_pb                                19439 non-null float64\n",
      "rougher.output.tail_sol                               19439 non-null float64\n",
      "rougher.output.tail_au                                19439 non-null float64\n",
      "rougher.state.floatbank10_a_air                       19438 non-null float64\n",
      "rougher.state.floatbank10_a_level                     19438 non-null float64\n",
      "rougher.state.floatbank10_b_air                       19438 non-null float64\n",
      "rougher.state.floatbank10_b_level                     19438 non-null float64\n",
      "rougher.state.floatbank10_c_air                       19438 non-null float64\n",
      "rougher.state.floatbank10_c_level                     19438 non-null float64\n",
      "rougher.state.floatbank10_d_air                       19439 non-null float64\n",
      "rougher.state.floatbank10_d_level                     19439 non-null float64\n",
      "rougher.state.floatbank10_e_air                       19003 non-null float64\n",
      "rougher.state.floatbank10_e_level                     19439 non-null float64\n",
      "rougher.state.floatbank10_f_air                       19439 non-null float64\n",
      "rougher.state.floatbank10_f_level                     19439 non-null float64\n",
      "secondary_cleaner.output.tail_ag                      19437 non-null float64\n",
      "secondary_cleaner.output.tail_pb                      19427 non-null float64\n",
      "secondary_cleaner.output.tail_sol                     17691 non-null float64\n",
      "secondary_cleaner.output.tail_au                      19439 non-null float64\n",
      "secondary_cleaner.state.floatbank2_a_air              19219 non-null float64\n",
      "secondary_cleaner.state.floatbank2_a_level            19438 non-null float64\n",
      "secondary_cleaner.state.floatbank2_b_air              19416 non-null float64\n",
      "secondary_cleaner.state.floatbank2_b_level            19438 non-null float64\n",
      "secondary_cleaner.state.floatbank3_a_air              19426 non-null float64\n",
      "secondary_cleaner.state.floatbank3_a_level            19438 non-null float64\n",
      "secondary_cleaner.state.floatbank3_b_air              19438 non-null float64\n",
      "secondary_cleaner.state.floatbank3_b_level            19438 non-null float64\n",
      "secondary_cleaner.state.floatbank4_a_air              19433 non-null float64\n",
      "secondary_cleaner.state.floatbank4_a_level            19438 non-null float64\n",
      "secondary_cleaner.state.floatbank4_b_air              19438 non-null float64\n",
      "secondary_cleaner.state.floatbank4_b_level            19438 non-null float64\n",
      "secondary_cleaner.state.floatbank5_a_air              19438 non-null float64\n",
      "secondary_cleaner.state.floatbank5_a_level            19438 non-null float64\n",
      "secondary_cleaner.state.floatbank5_b_air              19438 non-null float64\n",
      "secondary_cleaner.state.floatbank5_b_level            19438 non-null float64\n",
      "secondary_cleaner.state.floatbank6_a_air              19437 non-null float64\n",
      "secondary_cleaner.state.floatbank6_a_level            19438 non-null float64\n",
      "dtypes: float64(86), object(1)\n",
      "memory usage: 12.9+ MB\n",
      "None\n"
     ]
    }
   ],
   "source": [
    "primary_analysis(data)\n",
    "\n"
   ]
  },
  {
   "cell_type": "code",
   "execution_count": 10,
   "metadata": {},
   "outputs": [],
   "source": [
    "# primary_analysis(data_test)"
   ]
  },
  {
   "cell_type": "code",
   "execution_count": 11,
   "metadata": {},
   "outputs": [
    {
     "data": {
      "text/plain": [
       "0                           final.output.concentrate_ag\n",
       "1                           final.output.concentrate_pb\n",
       "2                          final.output.concentrate_sol\n",
       "3                           final.output.concentrate_au\n",
       "4                                 final.output.recovery\n",
       "5                                  final.output.tail_ag\n",
       "6                                  final.output.tail_pb\n",
       "7                                 final.output.tail_sol\n",
       "8                                  final.output.tail_au\n",
       "9                 primary_cleaner.output.concentrate_ag\n",
       "10                primary_cleaner.output.concentrate_pb\n",
       "11               primary_cleaner.output.concentrate_sol\n",
       "12                primary_cleaner.output.concentrate_au\n",
       "13                       primary_cleaner.output.tail_ag\n",
       "14                       primary_cleaner.output.tail_pb\n",
       "15                      primary_cleaner.output.tail_sol\n",
       "16                       primary_cleaner.output.tail_au\n",
       "17        rougher.calculation.sulfate_to_au_concentrate\n",
       "18    rougher.calculation.floatbank10_sulfate_to_au_...\n",
       "19    rougher.calculation.floatbank11_sulfate_to_au_...\n",
       "20                      rougher.calculation.au_pb_ratio\n",
       "21                        rougher.output.concentrate_ag\n",
       "22                        rougher.output.concentrate_pb\n",
       "23                       rougher.output.concentrate_sol\n",
       "24                        rougher.output.concentrate_au\n",
       "25                              rougher.output.recovery\n",
       "26                               rougher.output.tail_ag\n",
       "27                               rougher.output.tail_pb\n",
       "28                              rougher.output.tail_sol\n",
       "29                               rougher.output.tail_au\n",
       "30                     secondary_cleaner.output.tail_ag\n",
       "31                     secondary_cleaner.output.tail_pb\n",
       "32                    secondary_cleaner.output.tail_sol\n",
       "33                     secondary_cleaner.output.tail_au\n",
       "34                            rougher.output.recovery_2\n",
       "dtype: object"
      ]
     },
     "metadata": {},
     "output_type": "display_data"
    }
   ],
   "source": [
    "#Столбцы, которых нет в тестовой выборке\n",
    "train_columns = list(data_train.columns)\n",
    "test_columns = list(data_test.columns)\n",
    "train_notin_test = list(filter(lambda train_columns: train_columns not in test_columns, train_columns))\n",
    "train_notin_test = pd.Series(train_notin_test)\n",
    "display(train_notin_test)"
   ]
  },
  {
   "cell_type": "markdown",
   "metadata": {},
   "source": [
    "В тестовой выборке отсутствуют данные о параметрах продукта после этапов обработки."
   ]
  },
  {
   "cell_type": "code",
   "execution_count": 12,
   "metadata": {},
   "outputs": [
    {
     "name": "stdout",
     "output_type": "stream",
     "text": [
      "<class 'pandas.core.frame.DataFrame'>\n",
      "RangeIndex: 11017 entries, 0 to 11016\n",
      "Data columns (total 88 columns):\n",
      "date                                                  11017 non-null datetime64[ns]\n",
      "final.output.concentrate_ag                           11017 non-null float64\n",
      "final.output.concentrate_pb                           11017 non-null float64\n",
      "final.output.concentrate_sol                          11017 non-null float64\n",
      "final.output.concentrate_au                           11017 non-null float64\n",
      "final.output.recovery                                 11017 non-null float64\n",
      "final.output.tail_ag                                  11017 non-null float64\n",
      "final.output.tail_pb                                  11017 non-null float64\n",
      "final.output.tail_sol                                 11017 non-null float64\n",
      "final.output.tail_au                                  11017 non-null float64\n",
      "primary_cleaner.input.sulfate                         11017 non-null float64\n",
      "primary_cleaner.input.depressant                      11017 non-null float64\n",
      "primary_cleaner.input.feed_size                       11017 non-null float64\n",
      "primary_cleaner.input.xanthate                        11017 non-null float64\n",
      "primary_cleaner.output.concentrate_ag                 11017 non-null float64\n",
      "primary_cleaner.output.concentrate_pb                 11017 non-null float64\n",
      "primary_cleaner.output.concentrate_sol                11017 non-null float64\n",
      "primary_cleaner.output.concentrate_au                 11017 non-null float64\n",
      "primary_cleaner.output.tail_ag                        11017 non-null float64\n",
      "primary_cleaner.output.tail_pb                        11017 non-null float64\n",
      "primary_cleaner.output.tail_sol                       11017 non-null float64\n",
      "primary_cleaner.output.tail_au                        11017 non-null float64\n",
      "primary_cleaner.state.floatbank8_a_air                11017 non-null float64\n",
      "primary_cleaner.state.floatbank8_a_level              11017 non-null float64\n",
      "primary_cleaner.state.floatbank8_b_air                11017 non-null float64\n",
      "primary_cleaner.state.floatbank8_b_level              11017 non-null float64\n",
      "primary_cleaner.state.floatbank8_c_air                11017 non-null float64\n",
      "primary_cleaner.state.floatbank8_c_level              11017 non-null float64\n",
      "primary_cleaner.state.floatbank8_d_air                11017 non-null float64\n",
      "primary_cleaner.state.floatbank8_d_level              11017 non-null float64\n",
      "rougher.calculation.sulfate_to_au_concentrate         11017 non-null float64\n",
      "rougher.calculation.floatbank10_sulfate_to_au_feed    11017 non-null float64\n",
      "rougher.calculation.floatbank11_sulfate_to_au_feed    11017 non-null float64\n",
      "rougher.calculation.au_pb_ratio                       11017 non-null float64\n",
      "rougher.input.feed_ag                                 11017 non-null float64\n",
      "rougher.input.feed_pb                                 11017 non-null float64\n",
      "rougher.input.feed_rate                               11017 non-null float64\n",
      "rougher.input.feed_size                               11017 non-null float64\n",
      "rougher.input.feed_sol                                11017 non-null float64\n",
      "rougher.input.feed_au                                 11017 non-null float64\n",
      "rougher.input.floatbank10_sulfate                     11017 non-null float64\n",
      "rougher.input.floatbank10_xanthate                    11017 non-null float64\n",
      "rougher.input.floatbank11_sulfate                     11017 non-null float64\n",
      "rougher.input.floatbank11_xanthate                    11017 non-null float64\n",
      "rougher.output.concentrate_ag                         11017 non-null float64\n",
      "rougher.output.concentrate_pb                         11017 non-null float64\n",
      "rougher.output.concentrate_sol                        11017 non-null float64\n",
      "rougher.output.concentrate_au                         11017 non-null float64\n",
      "rougher.output.recovery                               11017 non-null float64\n",
      "rougher.output.tail_ag                                11017 non-null float64\n",
      "rougher.output.tail_pb                                11017 non-null float64\n",
      "rougher.output.tail_sol                               11017 non-null float64\n",
      "rougher.output.tail_au                                11017 non-null float64\n",
      "rougher.state.floatbank10_a_air                       11017 non-null float64\n",
      "rougher.state.floatbank10_a_level                     11017 non-null float64\n",
      "rougher.state.floatbank10_b_air                       11017 non-null float64\n",
      "rougher.state.floatbank10_b_level                     11017 non-null float64\n",
      "rougher.state.floatbank10_c_air                       11017 non-null float64\n",
      "rougher.state.floatbank10_c_level                     11017 non-null float64\n",
      "rougher.state.floatbank10_d_air                       11017 non-null float64\n",
      "rougher.state.floatbank10_d_level                     11017 non-null float64\n",
      "rougher.state.floatbank10_e_air                       11017 non-null float64\n",
      "rougher.state.floatbank10_e_level                     11017 non-null float64\n",
      "rougher.state.floatbank10_f_air                       11017 non-null float64\n",
      "rougher.state.floatbank10_f_level                     11017 non-null float64\n",
      "secondary_cleaner.output.tail_ag                      11017 non-null float64\n",
      "secondary_cleaner.output.tail_pb                      11017 non-null float64\n",
      "secondary_cleaner.output.tail_sol                     11017 non-null float64\n",
      "secondary_cleaner.output.tail_au                      11017 non-null float64\n",
      "secondary_cleaner.state.floatbank2_a_air              11017 non-null float64\n",
      "secondary_cleaner.state.floatbank2_a_level            11017 non-null float64\n",
      "secondary_cleaner.state.floatbank2_b_air              11017 non-null float64\n",
      "secondary_cleaner.state.floatbank2_b_level            11017 non-null float64\n",
      "secondary_cleaner.state.floatbank3_a_air              11017 non-null float64\n",
      "secondary_cleaner.state.floatbank3_a_level            11017 non-null float64\n",
      "secondary_cleaner.state.floatbank3_b_air              11017 non-null float64\n",
      "secondary_cleaner.state.floatbank3_b_level            11017 non-null float64\n",
      "secondary_cleaner.state.floatbank4_a_air              11017 non-null float64\n",
      "secondary_cleaner.state.floatbank4_a_level            11017 non-null float64\n",
      "secondary_cleaner.state.floatbank4_b_air              11017 non-null float64\n",
      "secondary_cleaner.state.floatbank4_b_level            11017 non-null float64\n",
      "secondary_cleaner.state.floatbank5_a_air              11017 non-null float64\n",
      "secondary_cleaner.state.floatbank5_a_level            11017 non-null float64\n",
      "secondary_cleaner.state.floatbank5_b_air              11017 non-null float64\n",
      "secondary_cleaner.state.floatbank5_b_level            11017 non-null float64\n",
      "secondary_cleaner.state.floatbank6_a_air              11017 non-null float64\n",
      "secondary_cleaner.state.floatbank6_a_level            11017 non-null float64\n",
      "rougher.output.recovery_2                             11017 non-null float64\n",
      "dtypes: datetime64[ns](1), float64(87)\n",
      "memory usage: 7.4 MB\n",
      "None\n"
     ]
    }
   ],
   "source": [
    "data_train = data_train.drop_duplicates().reset_index(drop=True)\n",
    "data_train = data_train.dropna().reset_index(drop=True)\n",
    "data_train['date'] = pd.to_datetime(data_train['date'])\n",
    "print(data_train.info())\n",
    "\n",
    "data_test = data_test.drop_duplicates().reset_index(drop=True)\n",
    "data_test = data_test.dropna().reset_index(drop=True)"
   ]
  },
  {
   "cell_type": "markdown",
   "metadata": {},
   "source": [
    "Удалил из обучающей выборки все строки с пропущенными значениями."
   ]
  },
  {
   "cell_type": "markdown",
   "metadata": {},
   "source": [
    "## Анализ данных"
   ]
  },
  {
   "cell_type": "code",
   "execution_count": 13,
   "metadata": {},
   "outputs": [],
   "source": [
    "#Датафреймы с признаки металлов\n",
    "stages_au = data_train.loc[:, ['rougher.input.feed_au', 'rougher.output.concentrate_au', 'rougher.output.tail_au', \n",
    "                           'primary_cleaner.output.concentrate_au', 'primary_cleaner.output.tail_au', \n",
    "                           'final.output.concentrate_au', 'secondary_cleaner.output.tail_au']]\n",
    "\n",
    "stages_ag = data_train.loc[:, [ 'rougher.input.feed_ag', 'rougher.output.concentrate_ag', 'rougher.output.tail_ag', \n",
    "                           'primary_cleaner.output.concentrate_ag', 'primary_cleaner.output.tail_ag', \n",
    "                           'final.output.concentrate_ag', 'secondary_cleaner.output.tail_ag']]\n",
    "\n",
    "stages_pb = data_train.loc[:, [ 'rougher.input.feed_pb', 'rougher.output.concentrate_pb', 'rougher.output.tail_pb', \n",
    "                           'primary_cleaner.output.concentrate_pb', 'primary_cleaner.output.tail_pb', \n",
    "                           'final.output.concentrate_pb', 'secondary_cleaner.output.tail_pb']]\n"
   ]
  },
  {
   "cell_type": "code",
   "execution_count": 14,
   "metadata": {},
   "outputs": [],
   "source": [
    "# stages_au_median = stages_au.median()\n",
    "def stages_plot(data, el):\n",
    "    for col in data.columns:\n",
    "        sns.kdeplot(data[col], shade=True)\n",
    "        plt.title('Концентрация {} в  сырье, после обработки и в отвалах'.format(el))\n",
    "    plt.show()\n",
    "      \n"
   ]
  },
  {
   "cell_type": "code",
   "execution_count": 15,
   "metadata": {
    "scrolled": false
   },
   "outputs": [
    {
     "name": "stdout",
     "output_type": "stream",
     "text": [
      "rougher.input.feed_au                     7.865763\n",
      "rougher.output.concentrate_au            20.262237\n",
      "rougher.output.tail_au                    1.815137\n",
      "primary_cleaner.output.concentrate_au    33.017232\n",
      "primary_cleaner.output.tail_au            3.591438\n",
      "final.output.concentrate_au              44.802196\n",
      "secondary_cleaner.output.tail_au          3.956902\n",
      "dtype: float64\n"
     ]
    },
    {
     "data": {
      "image/png": "[encoded data removed]",
      "text/plain": [
       "<Figure size 432x288 with 1 Axes>"
      ]
     },
     "metadata": {
      "needs_background": "light"
     },
     "output_type": "display_data"
    },
    {
     "data": {
      "image/png": "[encoded data removed]",
      "text/plain": [
       "<Figure size 432x288 with 1 Axes>"
      ]
     },
     "metadata": {
      "needs_background": "light"
     },
     "output_type": "display_data"
    },
    {
     "data": {
      "image/png": "[encoded data removed]",
      "text/plain": [
       "<Figure size 432x288 with 1 Axes>"
      ]
     },
     "metadata": {
      "needs_background": "light"
     },
     "output_type": "display_data"
    }
   ],
   "source": [
    "print(stages_au.median())\n",
    "stages_plot(stages_au, 'au')\n",
    "stages_plot(stages_ag, 'ag')\n",
    "stages_plot(stages_pb, 'pb')\n",
    "# stages_plot(stages_sol, 'sol')"
   ]
  },
  {
   "cell_type": "markdown",
   "metadata": {},
   "source": [
    "Концентрация золота после флотации и каждой степени очистки возрастает, при это концентрация золота в отвалах практически не меняется во время первичной и вторичной очистки.\n",
    "Концентрация серебра после флотации выросла, но при последующих степенях очистки концентрация в продукте падала, а концентрация в отвалах практически не менялась.\n",
    "Концентрация свинца после флотации также увеличилась, при последующих этапах очистки  концентрация увеличилась примерно на 20%, при этом концентрация в отвалах также росла.\n"
   ]
  },
  {
   "attachments": {
    "image.png": {
     "image/png": "[encoded data removed]"
    }
   },
   "cell_type": "markdown",
   "metadata": {},
   "source": [
    "![image.png](attachment:image.png)"
   ]
  },
  {
   "cell_type": "code",
   "execution_count": null,
   "metadata": {},
   "outputs": [],
   "source": []
  },
  {
   "cell_type": "code",
   "execution_count": 16,
   "metadata": {},
   "outputs": [
    {
     "data": {
      "text/plain": [
       "Text(0, 0.5, 'перед флотацией')"
      ]
     },
     "execution_count": 16,
     "metadata": {},
     "output_type": "execute_result"
    },
    {
     "data": {
      "image/png": "[encoded data removed]",
      "text/plain": [
       "<Figure size 432x288 with 1 Axes>"
      ]
     },
     "metadata": {
      "needs_background": "light"
     },
     "output_type": "display_data"
    }
   ],
   "source": [
    "#Распределение размеров гранул сырья\n",
    "data_train = data_train[data_train['primary_cleaner.input.feed_size'] > 5] #Снача прогнал без этой строки, увидел там выбросы\n",
    "dis_train = data_train.plot(kind='scatter', x='primary_cleaner.input.feed_size', y='rougher.input.feed_size', alpha=0.2,\n",
    "                      title='Распределение размера гранул до флотации и перед первичной очисткой. TRAIN')\n",
    "dis_train.set_xlabel('перед первичной очисткой')\n",
    "dis_train.set_ylabel('перед флотацией')\n",
    "\n"
   ]
  },
  {
   "cell_type": "code",
   "execution_count": 17,
   "metadata": {},
   "outputs": [
    {
     "data": {
      "text/plain": [
       "Text(0, 0.5, 'перед флотацией')"
      ]
     },
     "execution_count": 17,
     "metadata": {},
     "output_type": "execute_result"
    },
    {
     "data": {
      "image/png": "[encoded data removed]",
      "text/plain": [
       "<Figure size 432x288 with 1 Axes>"
      ]
     },
     "metadata": {
      "needs_background": "light"
     },
     "output_type": "display_data"
    }
   ],
   "source": [
    "data_test = data_test[data_test['primary_cleaner.input.feed_size'] < 11] #Снача прогнал без этой строки, увидел там выбросы\n",
    "dis_test = data_test.plot(kind='scatter', x='primary_cleaner.input.feed_size', y='rougher.input.feed_size', alpha=0.2,\n",
    "                      title='Распределение размера гранул до флотации и перед первичной очисткой. TEST')\n",
    "dis_test.set_xlabel('перед первичной очисткой')\n",
    "dis_test.set_ylabel('перед флотацией')\n"
   ]
  },
  {
   "cell_type": "markdown",
   "metadata": {},
   "source": [
    "После удаления выбросов распределения стали похожи. "
   ]
  },
  {
   "cell_type": "code",
   "execution_count": 18,
   "metadata": {},
   "outputs": [],
   "source": [
    "#Суммарная концентрация веществ в черновом концентрате\n",
    "\n",
    "# sum_float_consentrate = data_train[['date','rougher.output.concentrate_ag', 'rougher.output.concentrate_pb', 'rougher.output.concentrate_sol']]\n",
    "# sum_float_consentrate = sum_float_consentrate.pivot_table(index='date', values=['rougher.output.concentrate_ag', 'rougher.output.concentrate_pb', 'rougher.output.concentrate_sol'], aggfunc='sum')                                              \n",
    "\n",
    "def stages (el_1, el_2, el_3):\n",
    "    sum_float = (data_train[el_1] + data_train[el_2] + data_train[el_3])\n",
    "    lower_quan = sum_float.quantile(q=0.025)\n",
    "    hight_quan = sum_float.quantile(q=0.975)\n",
    "    \n",
    "    \n",
    "    print(sum_float.plot(kind='hist', bins=100))\n",
    "    print('2.5% quantile:',lower_quan)\n",
    "    print('97.5% quantile:',hight_quan)\n",
    "    print('median:', sum_float.median())\n",
    "    print('mean:', sum_float.mean())\n",
    "    return  lower_quan, hight_quan, sum_float"
   ]
  },
  {
   "cell_type": "code",
   "execution_count": 19,
   "metadata": {},
   "outputs": [
    {
     "name": "stdout",
     "output_type": "stream",
     "text": [
      "AxesSubplot(0.125,0.125;0.775x0.755)\n",
      "2.5% quantile: 36.58595933284932\n",
      "97.5% quantile: 57.40047564564345\n",
      "median: 49.19783697043188\n",
      "mean: 48.88152749475451\n"
     ]
    },
    {
     "data": {
      "text/plain": [
       "(36.58595933284932,\n",
       " 57.40047564564345,\n",
       " 0        45.193884\n",
       " 1        44.180531\n",
       " 2        44.247707\n",
       " 3        44.943356\n",
       " 4        42.195456\n",
       "            ...    \n",
       " 11012    48.079187\n",
       " 11013    48.857863\n",
       " 11014    50.064543\n",
       " 11015    49.664573\n",
       " 11016    49.169563\n",
       " Length: 11002, dtype: float64)"
      ]
     },
     "execution_count": 19,
     "metadata": {},
     "output_type": "execute_result"
    },
    {
     "data": {
      "image/png": "[encoded data removed]",
      "text/plain": [
       "<Figure size 432x288 with 1 Axes>"
      ]
     },
     "metadata": {
      "needs_background": "light"
     },
     "output_type": "display_data"
    }
   ],
   "source": [
    "stages('rougher.input.feed_ag', 'rougher.input.feed_pb', 'rougher.input.feed_sol')\n"
   ]
  },
  {
   "cell_type": "code",
   "execution_count": 20,
   "metadata": {},
   "outputs": [
    {
     "name": "stdout",
     "output_type": "stream",
     "text": [
      "AxesSubplot(0.125,0.125;0.775x0.755)\n",
      "2.5% quantile: 24.150637352909804\n",
      "97.5% quantile: 58.97541435310186\n",
      "median: 49.557273143298985\n",
      "mean: 48.11914030502266\n",
      "Колличество партий без примесей: 210\n"
     ]
    },
    {
     "data": {
      "image/png": "[encoded data removed]",
      "text/plain": [
       "<Figure size 432x288 with 1 Axes>"
      ]
     },
     "metadata": {
      "needs_background": "light"
     },
     "output_type": "display_data"
    }
   ],
   "source": [
    "lower_con, hight_con, sum_float_con = stages('rougher.output.concentrate_ag','rougher.output.concentrate_pb', 'rougher.output.concentrate_sol')\n",
    "print('Колличество партий без примесей:', len(list(filter(lambda x: x < 1, sum_float_con))))"
   ]
  },
  {
   "cell_type": "code",
   "execution_count": 21,
   "metadata": {},
   "outputs": [
    {
     "name": "stdout",
     "output_type": "stream",
     "text": [
      "AxesSubplot(0.125,0.125;0.775x0.755)\n",
      "2.5% quantile: 18.36430419159545\n",
      "97.5% quantile: 32.62194114233505\n",
      "median: 24.68294528421613\n",
      "mean: 24.930344584491834\n",
      "Колличество партий без примесей: 29\n"
     ]
    },
    {
     "data": {
      "image/png": "[encoded data removed]",
      "text/plain": [
       "<Figure size 432x288 with 1 Axes>"
      ]
     },
     "metadata": {
      "needs_background": "light"
     },
     "output_type": "display_data"
    }
   ],
   "source": [
    "lower_fin, hight_fin, sum_float_fin = stages('final.output.concentrate_ag', 'final.output.concentrate_pb', 'final.output.concentrate_sol')\n",
    "print('Колличество партий без примесей:',len(list(filter(lambda x: x < 1, sum_float_fin))))"
   ]
  },
  {
   "cell_type": "markdown",
   "metadata": {},
   "source": [
    "Средняя и медианная суммарная концентрация веществ в сырье/в черновом концентрате практически одинакова. В финальном концентрате доля примесей снижается в 2 раза по сравнению с сырьем.\n",
    "После флотации и вторичной очистки есть выброс около 0. Вряд ли самородки, так как их становится меньше в финальном концентрате. Уберем их и пересчитаем среднее"
   ]
  },
  {
   "cell_type": "code",
   "execution_count": 22,
   "metadata": {},
   "outputs": [
    {
     "name": "stdout",
     "output_type": "stream",
     "text": [
      "49.05546994401989\n",
      "24.99623176146716\n"
     ]
    }
   ],
   "source": [
    "print(pd.Series(filter(lambda x: x > 1, sum_float_con)).mean())\n",
    "print(pd.Series(filter(lambda x: x > 1, sum_float_fin)).mean())"
   ]
  },
  {
   "cell_type": "markdown",
   "metadata": {},
   "source": [
    "Мало что изменилось. Итог, примесей стало в 2 раза меньше."
   ]
  },
  {
   "cell_type": "markdown",
   "metadata": {},
   "source": [
    "## Модель"
   ]
  },
  {
   "cell_type": "code",
   "execution_count": 23,
   "metadata": {},
   "outputs": [],
   "source": [
    "features = data_train.drop(train_notin_test, axis=1).drop('date', axis=1) #общие признаки для 2х пердсказаний\n",
    "\n",
    "target_fin = data_train['final.output.recovery']\n",
    "target_rou = data_train['rougher.output.recovery']\n",
    "\n",
    "\n",
    "features_train, features_valid, target_train_rou, target_valid_rou = train_test_split(features, target_rou,\n",
    "                                                                                       random_state=12345, test_size=0.25)\n",
    "\n",
    "features_train, features_valid, target_train_fin, target_valid_fin = train_test_split(features, target_fin,\n",
    "                                                                                       random_state=12345, test_size=0.25)\n",
    "\n",
    "features, target_fin, target_rou = shuffle(features, target_fin, target_rou, random_state=12345)\n",
    "\n",
    "# print(target_rou.info())"
   ]
  },
  {
   "cell_type": "code",
   "execution_count": 24,
   "metadata": {},
   "outputs": [],
   "source": [
    "#sMAPE\n",
    "def smape(A, F):\n",
    "    return 100/len(A) * np.sum(2 * np.abs(F - A) / (np.abs(A) + np.abs(F)))\n",
    "\n",
    "#финальная метрика sMAPE\n",
    "def smape_2 (smape_rougher, smape_final):\n",
    "    return 0.25*smape_rougher + 0.75 * smape_final "
   ]
  },
  {
   "cell_type": "code",
   "execution_count": 25,
   "metadata": {},
   "outputs": [],
   "source": [
    "def model_lr(target_train_, target_valid_):   \n",
    "\n",
    "    model_lr = LinearRegression()\n",
    "    model_lr.fit(features_train, target_train_)\n",
    "    predicted_lr = model_lr.predict(features_valid) \n",
    "    r2_lr = r2_score(target_valid_, predicted_lr)\n",
    "    smape_lr = smape(predicted_lr, target_valid_)\n",
    "    \n",
    "\n",
    "    return  model_lr, smape_lr, r2_lr"
   ]
  },
  {
   "cell_type": "code",
   "execution_count": 26,
   "metadata": {
    "scrolled": true
   },
   "outputs": [
    {
     "name": "stdout",
     "output_type": "stream",
     "text": [
      "0.2884554881549526\n",
      "sMAPE модели Линейной Регресси для показателя \"эффективность обогащения чернового концентрата\" равен:8.72%\n",
      "0.3225136445313853\n",
      "sMAPE модели Линейной Регресси для показателя \"эффективность обогащения финального концентрата\" равен:7.47%\n"
     ]
    }
   ],
   "source": [
    "#Значение кросс-валидации для модели линейной регрессии\n",
    "model_lr_rou, smape_lr_rou, r2_rou = model_lr(target_train_rou, target_valid_rou)\n",
    "print(cross_val_score(model_lr_rou, features, target_rou, cv=10).mean())\n",
    "print('sMAPE модели Линейной Регресси для показателя \"эффективность обогащения чернового концентрата\" равен:{:.2%}'.format(smape_lr_rou/100))\n",
    "\n",
    "\n",
    "model_lr_fin, smape_lr_fin, r2_fin = model_lr(target_train_fin, target_valid_fin)\n",
    "print(cross_val_score(model_lr_fin, features, target_fin, cv=10).mean())\n",
    "\n",
    "print('sMAPE модели Линейной Регресси для показателя \"эффективность обогащения финального концентрата\" равен:{:.2%}'.format(smape_lr_fin/100))"
   ]
  },
  {
   "cell_type": "markdown",
   "metadata": {},
   "source": [
    "Показатели Линейной Регрессии далеки от идеала. Посмотрим чтоу Случайного Леса."
   ]
  },
  {
   "cell_type": "code",
   "execution_count": 27,
   "metadata": {},
   "outputs": [],
   "source": [
    "def model_rfr(target_train_, target_valid_): \n",
    "    best_model = None\n",
    "    best_smape = 100\n",
    "    best_mae = 1000\n",
    "    best_mse = 1000\n",
    "    best_r2 = 0\n",
    "    for est in range(1,50, 10):\n",
    "        for depth in range(1,10,2):\n",
    "            model_rfr = RandomForestRegressor(n_estimators=est, max_depth=depth, random_state=12345)\n",
    "            model_rfr.fit(features_train, target_train_)\n",
    "            predicted_rfr = model_rfr.predict(features_valid)\n",
    "        \n",
    "            r2 = r2_score(target_valid_rou, predicted_rfr)\n",
    "#             mae = mean_absolute_error(target_valid_rou, predicted_rfr)\n",
    "#             mse = mean_squared_error(target_valid_rou, predicted_rfr)\n",
    "            smape_rfr = smape(predicted_rfr, target_valid_)\n",
    "        if smape_rfr < best_smape:\n",
    "            best_r2 = r2\n",
    "            best_model = model_rfr\n",
    "            best_smape = smape_rfr\n",
    "#             best_mae = mae\n",
    "#             best_mse = mse\n",
    "    return  best_model, best_smape, best_r2\n",
    "\n",
    "        "
   ]
  },
  {
   "cell_type": "code",
   "execution_count": 28,
   "metadata": {},
   "outputs": [],
   "source": [
    "#Значение кросс-валидации для модели случайного леса\n",
    "best_model_rfr_rou, smape_rfr_rou, best_r2_rou = model_rfr(target_train_rou, target_valid_rou)\n",
    "\n",
    "best_model_rfr_fin, smape_rfr_fin, best_r2_fin = model_rfr(target_train_fin, target_valid_fin)\n"
   ]
  },
  {
   "cell_type": "code",
   "execution_count": 29,
   "metadata": {},
   "outputs": [
    {
     "name": "stdout",
     "output_type": "stream",
     "text": [
      "sMAPE модели Случайного Леса Регрессии для показателя \"эффективность обогащения чернового концентрата\" равен:7.08%\n",
      "0.5264362243236936\n",
      "\n"
     ]
    }
   ],
   "source": [
    "print('sMAPE модели Случайного Леса Регрессии для показателя \"эффективность обогащения чернового концентрата\" равен:{:.2%}'.format(smape_rfr_rou/100))\n",
    "print(cross_val_score(best_model_rfr_rou, features, target_rou, cv=5).mean())\n",
    "print('')"
   ]
  },
  {
   "cell_type": "code",
   "execution_count": 30,
   "metadata": {},
   "outputs": [
    {
     "name": "stdout",
     "output_type": "stream",
     "text": [
      "sMAPE модели Случайного Леса Регрессии для показателя \"эффективность обогащения финального концентрата\" равен:6.45%\n",
      "0.47763465299034874\n"
     ]
    }
   ],
   "source": [
    "print('sMAPE модели Случайного Леса Регрессии для показателя \"эффективность обогащения финального концентрата\" равен:{:.2%}'.format(smape_rfr_fin/100))\n",
    "print(cross_val_score(best_model_rfr_fin, features, target_fin, cv=5).mean())"
   ]
  },
  {
   "cell_type": "code",
   "execution_count": 31,
   "metadata": {},
   "outputs": [
    {
     "name": "stdout",
     "output_type": "stream",
     "text": [
      "6.60934715550794\n"
     ]
    }
   ],
   "source": [
    "print(smape_2(smape_rfr_rou, smape_rfr_fin))"
   ]
  },
  {
   "cell_type": "code",
   "execution_count": 32,
   "metadata": {},
   "outputs": [
    {
     "ename": "NameError",
     "evalue": "name 'copy' is not defined",
     "output_type": "error",
     "traceback": [
      "\u001b[0;31m---------------------------------------------------------------------------\u001b[0m",
      "\u001b[0;31mNameError\u001b[0m                                 Traceback (most recent call last)",
      "\u001b[0;32m<ipython-input-32-d2eb524ef45e>\u001b[0m in \u001b[0;36m<module>\u001b[0;34m\u001b[0m\n\u001b[1;32m      1\u001b[0m \u001b[0mfeatures_test\u001b[0m \u001b[0;34m=\u001b[0m \u001b[0mdata_test\u001b[0m\u001b[0;34m.\u001b[0m\u001b[0mdrop\u001b[0m\u001b[0;34m(\u001b[0m\u001b[0;34m'date'\u001b[0m\u001b[0;34m,\u001b[0m \u001b[0maxis\u001b[0m\u001b[0;34m=\u001b[0m\u001b[0;36m1\u001b[0m\u001b[0;34m)\u001b[0m\u001b[0;34m\u001b[0m\u001b[0;34m\u001b[0m\u001b[0m\n\u001b[0;32m----> 2\u001b[0;31m \u001b[0mdata_test\u001b[0m \u001b[0;34m=\u001b[0m \u001b[0mcopy\u001b[0m\u001b[0;34m.\u001b[0m\u001b[0mdata\u001b[0m\u001b[0;34m\u001b[0m\u001b[0;34m\u001b[0m\u001b[0m\n\u001b[0m\u001b[1;32m      3\u001b[0m \u001b[0mtest_rou\u001b[0m \u001b[0;34m=\u001b[0m \u001b[0mdata_test\u001b[0m\u001b[0;34m\u001b[0m\u001b[0;34m\u001b[0m\u001b[0m\n\u001b[1;32m      4\u001b[0m \u001b[0mtest_rou\u001b[0m \u001b[0;34m=\u001b[0m \u001b[0mtest_rou\u001b[0m\u001b[0;34m.\u001b[0m\u001b[0mmerge\u001b[0m\u001b[0;34m(\u001b[0m\u001b[0mdata\u001b[0m\u001b[0;34m[\u001b[0m\u001b[0;34m[\u001b[0m\u001b[0;34m'date'\u001b[0m\u001b[0;34m,\u001b[0m \u001b[0;34m'rougher.output.recovery'\u001b[0m\u001b[0;34m]\u001b[0m\u001b[0;34m]\u001b[0m\u001b[0;34m,\u001b[0m \u001b[0mon\u001b[0m\u001b[0;34m=\u001b[0m\u001b[0;34m'date'\u001b[0m\u001b[0;34m)\u001b[0m\u001b[0;34m\u001b[0m\u001b[0;34m\u001b[0m\u001b[0m\n\u001b[1;32m      5\u001b[0m \u001b[0mtest_rou\u001b[0m \u001b[0;34m=\u001b[0m \u001b[0mtest_rou\u001b[0m\u001b[0;34m[\u001b[0m\u001b[0;34m'rougher.output.recovery'\u001b[0m\u001b[0;34m]\u001b[0m\u001b[0;34m\u001b[0m\u001b[0;34m\u001b[0m\u001b[0m\n",
      "\u001b[0;31mNameError\u001b[0m: name 'copy' is not defined"
     ]
    }
   ],
   "source": [
    "features_test = data_test.drop('date', axis=1)\n",
    "data_test = copy.data\n",
    "test_rou = data_test\n",
    "test_rou = test_rou.merge(data[['date', 'rougher.output.recovery']], on='date')\n",
    "test_rou = test_rou['rougher.output.recovery']\n",
    "\n",
    "test_fin = data_test\n",
    "test_fin = test_fin.merge(data[['date', 'final.output.recovery']], on='date')\n",
    "test_fin = test_fin['final.output.recovery']\n",
    "\n",
    "\n",
    "predicted_test_rou = best_model_rfr_rou.predict(features_test)\n",
    "predicted_test_fin = best_model_rfr_fin.predict(features_test)\n",
    "\n",
    "smape_rou = smape(predicted_test_rou, test_rou)\n",
    "smape_fin = smape(predicted_test_fin, test_fin)\n",
    "\n",
    "print('Для Линейной Регрессии sMAPE:',smape_2(smape_rou, smape_fin))\n",
    "# print(len(predicted_test_rou))"
   ]
  },
  {
   "cell_type": "markdown",
   "metadata": {},
   "source": [
    "Общее симметричное среднее процентное отклонение не превышает 7%, что свидетельтвует о большой точности обученных моделей Случайного леса. Модель случайного леса позволяет предсказывать эффективность обогащения с погрешностью 6.6%, а вот модель линейной регрессии ошибается больше на 3.5%"
   ]
  },
  {
   "cell_type": "code",
   "execution_count": null,
   "metadata": {},
   "outputs": [],
   "source": [
    "# Сравнение с Dammy моделью\n",
    "dummy_regressor_rougher = DummyRegressor(strategy=\"median\")\n",
    "dummy_regressor_rougher.fit(features_train, target_train_rou)\n",
    "dummy_rougher_pred = dummy_regressor_rougher.predict(features_test)\n",
    "smape_dummy_rougher = smape(dummy_rougher_pred, test_rou)\n",
    "print(smape_dummy_rougher) \n",
    "\n",
    "\n",
    "dummy_regressor_final = DummyRegressor(strategy=\"median\")\n",
    "dummy_regressor_final.fit(features_train, target_train_fin)\n",
    "dummy_final_pred = dummy_regressor_final.predict(features_test)\n",
    "smape_dummy_final = smape(dummy_final_pred, test_fin)\n",
    "print(smape_dummy_final) \n",
    "\n",
    "print('Для Dummy модели smape равен:', smape_2(smape_dummy_rougher, smape_dummy_final))"
   ]
  },
  {
   "cell_type": "markdown",
   "metadata": {},
   "source": [
    "Если сравнивать с предсказанием константной модели, которая предсказывет медиану, то обученная модель случайного леса позволяет снизить симметричное среднее абсолютное процентное отклонение на 2.5%"
   ]
  }
 ],
 "metadata": {
  "ExecuteTimeLog": [
   {
    "duration": 749,
    "start_time": "2021-07-27T04:09:23.465Z"
   },
   {
    "duration": 2228,
    "start_time": "2021-07-27T04:11:33.930Z"
   },
   {
    "duration": 1871,
    "start_time": "2021-07-27T04:12:23.323Z"
   },
   {
    "duration": 826,
    "start_time": "2021-07-27T04:13:51.779Z"
   },
   {
    "duration": 822,
    "start_time": "2021-07-27T04:13:54.850Z"
   },
   {
    "duration": 4,
    "start_time": "2021-07-27T04:20:14.946Z"
   },
   {
    "duration": 4,
    "start_time": "2021-07-27T04:20:18.957Z"
   },
   {
    "duration": -465,
    "start_time": "2021-07-27T04:22:27.732Z"
   },
   {
    "duration": -465,
    "start_time": "2021-07-27T04:22:27.734Z"
   },
   {
    "duration": -460,
    "start_time": "2021-07-27T04:22:27.735Z"
   },
   {
    "duration": -460,
    "start_time": "2021-07-27T04:22:27.736Z"
   },
   {
    "duration": 4,
    "start_time": "2021-07-27T04:22:32.951Z"
   },
   {
    "duration": 834,
    "start_time": "2021-07-27T04:22:32.957Z"
   },
   {
    "duration": 4,
    "start_time": "2021-07-27T04:22:33.793Z"
   },
   {
    "duration": 56,
    "start_time": "2021-07-27T04:22:33.799Z"
   },
   {
    "duration": 64,
    "start_time": "2021-07-27T04:22:33.858Z"
   },
   {
    "duration": 3,
    "start_time": "2021-07-27T04:34:48.629Z"
   },
   {
    "duration": 167,
    "start_time": "2021-07-27T04:34:51.132Z"
   },
   {
    "duration": 829,
    "start_time": "2021-07-27T04:34:53.852Z"
   },
   {
    "duration": 3,
    "start_time": "2021-07-27T04:34:54.684Z"
   },
   {
    "duration": 105,
    "start_time": "2021-07-27T04:34:54.829Z"
   },
   {
    "duration": 183,
    "start_time": "2021-07-27T04:35:04.974Z"
   },
   {
    "duration": 4,
    "start_time": "2021-07-27T04:53:08.133Z"
   },
   {
    "duration": 871,
    "start_time": "2021-07-27T04:53:08.445Z"
   },
   {
    "duration": 4,
    "start_time": "2021-07-27T04:54:23.654Z"
   },
   {
    "duration": 581,
    "start_time": "2021-07-27T04:54:24.248Z"
   },
   {
    "duration": 4,
    "start_time": "2021-07-27T04:54:56.438Z"
   },
   {
    "duration": 435,
    "start_time": "2021-07-27T04:54:57.032Z"
   },
   {
    "duration": 3,
    "start_time": "2021-07-27T04:55:11.109Z"
   },
   {
    "duration": 469,
    "start_time": "2021-07-27T04:55:11.663Z"
   },
   {
    "duration": 4,
    "start_time": "2021-07-27T04:55:29.999Z"
   },
   {
    "duration": 111,
    "start_time": "2021-07-27T04:55:30.178Z"
   },
   {
    "duration": 123,
    "start_time": "2021-07-27T04:57:30.592Z"
   },
   {
    "duration": 96,
    "start_time": "2021-07-27T04:57:45.354Z"
   },
   {
    "duration": 5,
    "start_time": "2021-07-27T10:17:53.279Z"
   },
   {
    "duration": 324,
    "start_time": "2021-07-27T11:37:46.347Z"
   },
   {
    "duration": 797,
    "start_time": "2021-07-27T11:37:53.122Z"
   },
   {
    "duration": 913,
    "start_time": "2021-07-27T11:37:57.250Z"
   },
   {
    "duration": 4,
    "start_time": "2021-07-27T11:37:58.166Z"
   },
   {
    "duration": 4,
    "start_time": "2021-07-27T11:37:58.745Z"
   },
   {
    "duration": 6423,
    "start_time": "2021-07-27T11:37:59.843Z"
   },
   {
    "duration": 6298,
    "start_time": "2021-07-27T11:38:50.046Z"
   },
   {
    "duration": 5301,
    "start_time": "2021-07-27T11:38:57.148Z"
   },
   {
    "duration": 5086,
    "start_time": "2021-07-27T11:39:08.635Z"
   },
   {
    "duration": 83,
    "start_time": "2021-07-27T11:39:13.724Z"
   },
   {
    "duration": 4956,
    "start_time": "2021-07-27T11:40:15.788Z"
   },
   {
    "duration": 67,
    "start_time": "2021-07-27T11:40:20.747Z"
   },
   {
    "duration": 577,
    "start_time": "2021-07-27T11:41:58.629Z"
   },
   {
    "duration": 15422,
    "start_time": "2021-07-27T11:44:09.886Z"
   },
   {
    "duration": 63,
    "start_time": "2021-07-27T11:44:25.311Z"
   },
   {
    "duration": 294,
    "start_time": "2021-07-27T11:44:48.174Z"
   },
   {
    "duration": 5,
    "start_time": "2021-07-27T11:44:56.958Z"
   },
   {
    "duration": 4,
    "start_time": "2021-07-27T12:06:25.297Z"
   },
   {
    "duration": 15245,
    "start_time": "2021-07-27T12:06:57.625Z"
   },
   {
    "duration": 4,
    "start_time": "2021-07-27T12:07:12.873Z"
   },
   {
    "duration": 7,
    "start_time": "2021-07-27T12:07:12.880Z"
   },
   {
    "duration": 49,
    "start_time": "2021-07-27T12:09:00.728Z"
   },
   {
    "duration": 4,
    "start_time": "2021-07-27T12:12:15.186Z"
   },
   {
    "duration": 20248,
    "start_time": "2021-07-27T12:13:11.547Z"
   },
   {
    "duration": 5,
    "start_time": "2021-07-27T12:13:34.930Z"
   },
   {
    "duration": 56,
    "start_time": "2021-07-27T12:13:43.379Z"
   },
   {
    "duration": 75,
    "start_time": "2021-07-27T12:52:15.935Z"
   },
   {
    "duration": 70,
    "start_time": "2021-07-27T12:52:36.150Z"
   },
   {
    "duration": 3,
    "start_time": "2021-07-27T12:53:05.663Z"
   },
   {
    "duration": 265,
    "start_time": "2021-07-27T12:54:21.440Z"
   },
   {
    "duration": 287,
    "start_time": "2021-07-27T12:59:04.763Z"
   },
   {
    "duration": 6,
    "start_time": "2021-07-27T12:59:20.083Z"
   },
   {
    "duration": 347,
    "start_time": "2021-07-27T12:59:33.499Z"
   },
   {
    "duration": 6,
    "start_time": "2021-07-27T12:59:39.689Z"
   },
   {
    "duration": 7,
    "start_time": "2021-07-27T12:59:55.975Z"
   },
   {
    "duration": 398,
    "start_time": "2021-07-27T13:00:08.273Z"
   },
   {
    "duration": 388,
    "start_time": "2021-07-27T13:00:44.362Z"
   },
   {
    "duration": 276,
    "start_time": "2021-07-27T13:03:16.173Z"
   },
   {
    "duration": 562,
    "start_time": "2021-07-27T13:03:48.255Z"
   },
   {
    "duration": 5,
    "start_time": "2021-07-27T13:04:03.780Z"
   },
   {
    "duration": 5,
    "start_time": "2021-07-27T13:04:17.604Z"
   },
   {
    "duration": 6,
    "start_time": "2021-07-27T13:04:24.020Z"
   },
   {
    "duration": 290,
    "start_time": "2021-07-27T13:04:27.844Z"
   },
   {
    "duration": 99,
    "start_time": "2021-07-27T13:04:32.163Z"
   },
   {
    "duration": 5,
    "start_time": "2021-07-27T13:04:36.412Z"
   },
   {
    "duration": 5,
    "start_time": "2021-07-27T13:04:44.388Z"
   },
   {
    "duration": 8,
    "start_time": "2021-07-27T13:04:55.575Z"
   },
   {
    "duration": 6,
    "start_time": "2021-07-27T13:06:12.373Z"
   },
   {
    "duration": 6,
    "start_time": "2021-07-27T13:06:37.520Z"
   },
   {
    "duration": 7,
    "start_time": "2021-07-27T13:06:43.195Z"
   },
   {
    "duration": 9,
    "start_time": "2021-07-27T13:08:03.094Z"
   },
   {
    "duration": 8,
    "start_time": "2021-07-27T14:45:45.054Z"
   },
   {
    "duration": 88,
    "start_time": "2021-07-27T14:50:37.781Z"
   },
   {
    "duration": 256,
    "start_time": "2021-07-27T14:52:12.902Z"
   },
   {
    "duration": 224,
    "start_time": "2021-07-27T14:53:22.009Z"
   },
   {
    "duration": 217,
    "start_time": "2021-07-27T14:53:51.378Z"
   },
   {
    "duration": 188,
    "start_time": "2021-07-27T14:53:58.778Z"
   },
   {
    "duration": 197,
    "start_time": "2021-07-27T14:54:37.394Z"
   },
   {
    "duration": 253,
    "start_time": "2021-07-27T14:56:37.659Z"
   },
   {
    "duration": 86,
    "start_time": "2021-07-27T14:56:47.578Z"
   },
   {
    "duration": 4,
    "start_time": "2021-07-27T14:57:00.730Z"
   },
   {
    "duration": 205,
    "start_time": "2021-07-27T14:57:01.450Z"
   },
   {
    "duration": 4,
    "start_time": "2021-07-27T14:57:25.738Z"
   },
   {
    "duration": 5,
    "start_time": "2021-07-27T14:57:53.660Z"
   },
   {
    "duration": 11550,
    "start_time": "2021-07-27T14:58:38.643Z"
   },
   {
    "duration": 4,
    "start_time": "2021-07-27T14:59:42.328Z"
   },
   {
    "duration": 3,
    "start_time": "2021-07-27T14:59:42.357Z"
   },
   {
    "duration": 911,
    "start_time": "2021-07-27T14:59:42.389Z"
   },
   {
    "duration": 4,
    "start_time": "2021-07-27T14:59:43.303Z"
   },
   {
    "duration": 282,
    "start_time": "2021-07-27T14:59:43.310Z"
   },
   {
    "duration": -949,
    "start_time": "2021-07-27T14:59:44.544Z"
   },
   {
    "duration": -951,
    "start_time": "2021-07-27T14:59:44.548Z"
   },
   {
    "duration": -954,
    "start_time": "2021-07-27T14:59:44.552Z"
   },
   {
    "duration": -953,
    "start_time": "2021-07-27T14:59:44.553Z"
   },
   {
    "duration": 3,
    "start_time": "2021-07-27T14:59:59.257Z"
   },
   {
    "duration": 7,
    "start_time": "2021-07-27T14:59:59.264Z"
   },
   {
    "duration": 1625,
    "start_time": "2021-07-27T14:59:59.274Z"
   },
   {
    "duration": 4,
    "start_time": "2021-07-27T15:00:00.902Z"
   },
   {
    "duration": 297,
    "start_time": "2021-07-27T15:00:00.908Z"
   },
   {
    "duration": -8661,
    "start_time": "2021-07-27T15:00:09.869Z"
   },
   {
    "duration": -8660,
    "start_time": "2021-07-27T15:00:09.870Z"
   },
   {
    "duration": -8661,
    "start_time": "2021-07-27T15:00:09.872Z"
   },
   {
    "duration": -8660,
    "start_time": "2021-07-27T15:00:09.873Z"
   },
   {
    "duration": -8660,
    "start_time": "2021-07-27T15:00:09.875Z"
   },
   {
    "duration": 11,
    "start_time": "2021-07-27T15:01:12.556Z"
   },
   {
    "duration": 7,
    "start_time": "2021-07-27T15:01:13.412Z"
   },
   {
    "duration": 5,
    "start_time": "2021-07-27T15:01:15.417Z"
   },
   {
    "duration": 4,
    "start_time": "2021-07-27T15:01:39.170Z"
   },
   {
    "duration": 9,
    "start_time": "2021-07-27T15:01:39.177Z"
   },
   {
    "duration": 920,
    "start_time": "2021-07-27T15:01:39.189Z"
   },
   {
    "duration": 4,
    "start_time": "2021-07-27T15:01:40.112Z"
   },
   {
    "duration": 23,
    "start_time": "2021-07-27T15:01:40.118Z"
   },
   {
    "duration": 283,
    "start_time": "2021-07-27T15:01:40.144Z"
   },
   {
    "duration": 177,
    "start_time": "2021-07-27T15:01:40.253Z"
   },
   {
    "duration": 176,
    "start_time": "2021-07-27T15:01:40.255Z"
   },
   {
    "duration": 177,
    "start_time": "2021-07-27T15:01:40.256Z"
   },
   {
    "duration": 178,
    "start_time": "2021-07-27T15:01:40.257Z"
   },
   {
    "duration": 179,
    "start_time": "2021-07-27T15:01:40.258Z"
   },
   {
    "duration": 262,
    "start_time": "2021-07-27T15:02:18.171Z"
   },
   {
    "duration": 5,
    "start_time": "2021-07-27T15:02:19.758Z"
   },
   {
    "duration": 114,
    "start_time": "2021-07-27T15:02:58.357Z"
   },
   {
    "duration": 1289,
    "start_time": "2021-07-27T15:03:25.762Z"
   },
   {
    "duration": 3,
    "start_time": "2021-07-27T15:03:27.055Z"
   },
   {
    "duration": 913,
    "start_time": "2021-07-27T15:03:27.060Z"
   },
   {
    "duration": 4,
    "start_time": "2021-07-27T15:03:27.976Z"
   },
   {
    "duration": 418,
    "start_time": "2021-07-27T15:03:27.983Z"
   },
   {
    "duration": -74,
    "start_time": "2021-07-27T15:03:28.478Z"
   },
   {
    "duration": -85,
    "start_time": "2021-07-27T15:03:28.491Z"
   },
   {
    "duration": -84,
    "start_time": "2021-07-27T15:03:28.493Z"
   },
   {
    "duration": -89,
    "start_time": "2021-07-27T15:03:28.500Z"
   },
   {
    "duration": -87,
    "start_time": "2021-07-27T15:03:28.501Z"
   },
   {
    "duration": 3,
    "start_time": "2021-07-27T15:04:01.989Z"
   },
   {
    "duration": 3,
    "start_time": "2021-07-27T15:04:02.478Z"
   },
   {
    "duration": 924,
    "start_time": "2021-07-27T15:04:03.014Z"
   },
   {
    "duration": 3,
    "start_time": "2021-07-27T15:04:03.941Z"
   },
   {
    "duration": 293,
    "start_time": "2021-07-27T15:04:04.510Z"
   },
   {
    "duration": 10713,
    "start_time": "2021-07-27T15:04:48.878Z"
   },
   {
    "duration": 5,
    "start_time": "2021-07-27T15:05:01.637Z"
   },
   {
    "duration": 70,
    "start_time": "2021-07-27T15:05:08.901Z"
   },
   {
    "duration": 3,
    "start_time": "2021-07-27T15:05:12.287Z"
   },
   {
    "duration": 240,
    "start_time": "2021-07-27T15:05:35.735Z"
   },
   {
    "duration": 210,
    "start_time": "2021-07-27T15:06:04.439Z"
   },
   {
    "duration": 199,
    "start_time": "2021-07-27T15:06:57.065Z"
   },
   {
    "duration": 89,
    "start_time": "2021-07-27T15:07:06.509Z"
   },
   {
    "duration": 92,
    "start_time": "2021-07-27T15:07:09.710Z"
   },
   {
    "duration": 72,
    "start_time": "2021-07-27T15:07:14.844Z"
   },
   {
    "duration": 92,
    "start_time": "2021-07-27T15:08:07.876Z"
   },
   {
    "duration": 4,
    "start_time": "2021-07-27T15:08:21.840Z"
   },
   {
    "duration": 15,
    "start_time": "2021-07-27T15:08:21.847Z"
   },
   {
    "duration": 927,
    "start_time": "2021-07-27T15:08:21.864Z"
   },
   {
    "duration": 4,
    "start_time": "2021-07-27T15:08:22.794Z"
   },
   {
    "duration": 10817,
    "start_time": "2021-07-27T15:08:22.800Z"
   },
   {
    "duration": 4,
    "start_time": "2021-07-27T15:08:33.619Z"
   },
   {
    "duration": 77,
    "start_time": "2021-07-27T15:08:33.626Z"
   },
   {
    "duration": 3,
    "start_time": "2021-07-27T15:08:33.705Z"
   },
   {
    "duration": 12,
    "start_time": "2021-07-27T15:08:33.713Z"
   },
   {
    "duration": 262,
    "start_time": "2021-07-27T15:08:33.728Z"
   },
   {
    "duration": 114,
    "start_time": "2021-07-27T15:09:02.823Z"
   },
   {
    "duration": 52,
    "start_time": "2021-07-27T15:21:02.980Z"
   },
   {
    "duration": 1775,
    "start_time": "2021-07-27T15:22:08.662Z"
   },
   {
    "duration": 1716,
    "start_time": "2021-07-27T15:22:45.638Z"
   },
   {
    "duration": 1669,
    "start_time": "2021-07-27T15:23:10.526Z"
   },
   {
    "duration": 4,
    "start_time": "2021-07-27T15:23:21.862Z"
   },
   {
    "duration": 11,
    "start_time": "2021-07-27T15:23:21.869Z"
   },
   {
    "duration": 877,
    "start_time": "2021-07-27T15:23:21.883Z"
   },
   {
    "duration": 4,
    "start_time": "2021-07-27T15:23:22.762Z"
   },
   {
    "duration": 10697,
    "start_time": "2021-07-27T15:23:22.768Z"
   },
   {
    "duration": 5,
    "start_time": "2021-07-27T15:23:33.467Z"
   },
   {
    "duration": 53,
    "start_time": "2021-07-27T15:23:33.474Z"
   },
   {
    "duration": 4,
    "start_time": "2021-07-27T15:23:33.554Z"
   },
   {
    "duration": 13,
    "start_time": "2021-07-27T15:23:33.560Z"
   },
   {
    "duration": 215,
    "start_time": "2021-07-27T15:23:33.576Z"
   },
   {
    "duration": 1718,
    "start_time": "2021-07-27T15:23:33.793Z"
   },
   {
    "duration": 6,
    "start_time": "2021-07-27T15:24:05.488Z"
   },
   {
    "duration": 7,
    "start_time": "2021-07-27T15:32:18.421Z"
   },
   {
    "duration": 134,
    "start_time": "2021-07-27T15:34:10.845Z"
   },
   {
    "duration": 11,
    "start_time": "2021-07-27T15:34:15.317Z"
   },
   {
    "duration": 13,
    "start_time": "2021-07-27T15:35:18.726Z"
   },
   {
    "duration": 14,
    "start_time": "2021-07-27T15:35:22.284Z"
   },
   {
    "duration": 114,
    "start_time": "2021-07-27T15:36:16.605Z"
   },
   {
    "duration": 32,
    "start_time": "2021-07-27T15:39:13.376Z"
   },
   {
    "duration": 30,
    "start_time": "2021-07-27T15:39:32.445Z"
   },
   {
    "duration": 7029,
    "start_time": "2021-07-27T15:46:56.811Z"
   },
   {
    "duration": 307,
    "start_time": "2021-07-27T15:47:29.842Z"
   },
   {
    "duration": 299,
    "start_time": "2021-07-27T15:47:47.514Z"
   },
   {
    "duration": 298,
    "start_time": "2021-07-27T15:48:24.159Z"
   },
   {
    "duration": 330,
    "start_time": "2021-07-27T15:51:23.830Z"
   },
   {
    "duration": 308,
    "start_time": "2021-07-27T15:51:31.403Z"
   },
   {
    "duration": 307,
    "start_time": "2021-07-27T15:51:43.275Z"
   },
   {
    "duration": 263,
    "start_time": "2021-07-27T15:52:00.146Z"
   },
   {
    "duration": 13,
    "start_time": "2021-07-27T15:52:04.934Z"
   },
   {
    "duration": 10,
    "start_time": "2021-07-27T15:52:10.614Z"
   },
   {
    "duration": 176802,
    "start_time": "2021-07-27T15:52:19.155Z"
   },
   {
    "duration": 6928,
    "start_time": "2021-07-27T16:00:07.935Z"
   },
   {
    "duration": 99,
    "start_time": "2021-07-27T16:01:15.635Z"
   },
   {
    "duration": 303,
    "start_time": "2021-07-27T16:01:20.736Z"
   },
   {
    "duration": 190,
    "start_time": "2021-07-27T16:01:42.883Z"
   },
   {
    "duration": 327,
    "start_time": "2021-07-27T16:02:00.553Z"
   },
   {
    "duration": 294,
    "start_time": "2021-07-27T16:02:06.497Z"
   },
   {
    "duration": 89,
    "start_time": "2021-07-27T16:03:26.581Z"
   },
   {
    "duration": 6507,
    "start_time": "2021-07-27T16:03:31.898Z"
   },
   {
    "duration": 6330,
    "start_time": "2021-07-27T16:03:39.947Z"
   },
   {
    "duration": 127,
    "start_time": "2021-07-27T16:04:33.794Z"
   },
   {
    "duration": 125,
    "start_time": "2021-07-27T16:07:59.447Z"
   },
   {
    "duration": 235,
    "start_time": "2021-07-27T16:08:08.852Z"
   },
   {
    "duration": 260,
    "start_time": "2021-07-27T16:08:28.837Z"
   },
   {
    "duration": 85,
    "start_time": "2021-07-27T16:09:26.619Z"
   },
   {
    "duration": 240,
    "start_time": "2021-07-27T16:09:40.277Z"
   },
   {
    "duration": 246,
    "start_time": "2021-07-27T16:10:40.084Z"
   },
   {
    "duration": 253,
    "start_time": "2021-07-27T16:12:01.614Z"
   },
   {
    "duration": 261,
    "start_time": "2021-07-27T16:12:57.046Z"
   },
   {
    "duration": 528,
    "start_time": "2021-07-27T16:15:19.728Z"
   },
   {
    "duration": 310,
    "start_time": "2021-07-27T16:15:24.047Z"
   },
   {
    "duration": 653,
    "start_time": "2021-07-27T16:15:45.784Z"
   },
   {
    "duration": 534,
    "start_time": "2021-07-27T16:15:55.048Z"
   },
   {
    "duration": 282,
    "start_time": "2021-07-27T16:16:56.051Z"
   },
   {
    "duration": 499,
    "start_time": "2021-07-27T16:17:25.195Z"
   },
   {
    "duration": 503,
    "start_time": "2021-07-27T16:17:57.941Z"
   },
   {
    "duration": 501,
    "start_time": "2021-07-27T16:18:15.064Z"
   },
   {
    "duration": 492,
    "start_time": "2021-07-27T16:18:22.866Z"
   },
   {
    "duration": 811,
    "start_time": "2021-07-27T16:18:56.743Z"
   },
   {
    "duration": 886,
    "start_time": "2021-07-27T16:19:29.522Z"
   },
   {
    "duration": 847,
    "start_time": "2021-07-27T16:19:53.194Z"
   },
   {
    "duration": 358,
    "start_time": "2021-07-27T16:20:02.010Z"
   },
   {
    "duration": 350,
    "start_time": "2021-07-27T16:20:14.100Z"
   },
   {
    "duration": 373,
    "start_time": "2021-07-27T16:20:32.417Z"
   },
   {
    "duration": 32,
    "start_time": "2021-07-27T16:29:57.497Z"
   },
   {
    "duration": 380,
    "start_time": "2021-07-27T16:30:19.614Z"
   },
   {
    "duration": 379,
    "start_time": "2021-07-27T16:30:36.214Z"
   },
   {
    "duration": 418,
    "start_time": "2021-07-27T16:30:54.065Z"
   },
   {
    "duration": 15,
    "start_time": "2021-07-27T16:31:18.461Z"
   },
   {
    "duration": 349,
    "start_time": "2021-07-27T16:31:23.152Z"
   },
   {
    "duration": 15,
    "start_time": "2021-07-27T16:31:30.283Z"
   },
   {
    "duration": 376,
    "start_time": "2021-07-27T16:31:30.758Z"
   },
   {
    "duration": 19,
    "start_time": "2021-07-27T16:31:35.655Z"
   },
   {
    "duration": 336,
    "start_time": "2021-07-27T16:31:36.288Z"
   },
   {
    "duration": 93,
    "start_time": "2021-07-27T16:32:59.479Z"
   },
   {
    "duration": 601,
    "start_time": "2021-07-27T16:33:07.829Z"
   },
   {
    "duration": 389,
    "start_time": "2021-07-27T16:33:20.122Z"
   },
   {
    "duration": 637,
    "start_time": "2021-07-27T16:33:31.096Z"
   },
   {
    "duration": 776,
    "start_time": "2021-07-27T16:33:39.649Z"
   },
   {
    "duration": 944,
    "start_time": "2021-07-27T16:33:57.336Z"
   },
   {
    "duration": 1286,
    "start_time": "2021-07-27T16:34:03.503Z"
   },
   {
    "duration": 693,
    "start_time": "2021-07-27T16:34:24.034Z"
   },
   {
    "duration": 464,
    "start_time": "2021-07-27T16:37:02.986Z"
   },
   {
    "duration": 662,
    "start_time": "2021-07-27T16:37:22.419Z"
   },
   {
    "duration": 556,
    "start_time": "2021-07-27T16:38:21.747Z"
   },
   {
    "duration": 622,
    "start_time": "2021-07-27T16:38:33.458Z"
   },
   {
    "duration": 1287,
    "start_time": "2021-07-27T16:39:39.850Z"
   },
   {
    "duration": 1416,
    "start_time": "2021-07-27T16:39:57.684Z"
   },
   {
    "duration": 257,
    "start_time": "2021-07-27T16:54:37.856Z"
   },
   {
    "duration": 6247,
    "start_time": "2021-07-27T16:54:48.730Z"
   },
   {
    "duration": 6092,
    "start_time": "2021-07-27T17:03:09.381Z"
   },
   {
    "duration": 4,
    "start_time": "2021-07-27T17:03:28.748Z"
   },
   {
    "duration": 22,
    "start_time": "2021-07-27T17:03:28.755Z"
   },
   {
    "duration": 918,
    "start_time": "2021-07-27T17:03:28.782Z"
   },
   {
    "duration": 5,
    "start_time": "2021-07-27T17:03:29.703Z"
   },
   {
    "duration": 11897,
    "start_time": "2021-07-27T17:03:29.711Z"
   },
   {
    "duration": 4,
    "start_time": "2021-07-27T17:03:41.610Z"
   },
   {
    "duration": 82,
    "start_time": "2021-07-27T17:03:41.617Z"
   },
   {
    "duration": 4,
    "start_time": "2021-07-27T17:03:41.701Z"
   },
   {
    "duration": 21,
    "start_time": "2021-07-27T17:03:41.708Z"
   },
   {
    "duration": 236,
    "start_time": "2021-07-27T17:03:41.732Z"
   },
   {
    "duration": 10,
    "start_time": "2021-07-27T17:03:41.971Z"
   },
   {
    "duration": 14,
    "start_time": "2021-07-27T17:03:41.984Z"
   },
   {
    "duration": 13,
    "start_time": "2021-07-27T17:03:42.001Z"
   },
   {
    "duration": 6810,
    "start_time": "2021-07-27T17:03:42.017Z"
   },
   {
    "duration": 357,
    "start_time": "2021-07-27T17:04:19.936Z"
   },
   {
    "duration": 7237,
    "start_time": "2021-07-27T17:04:43.801Z"
   },
   {
    "duration": 17,
    "start_time": "2021-07-27T17:05:00.753Z"
   },
   {
    "duration": 22,
    "start_time": "2021-07-27T17:05:21.401Z"
   },
   {
    "duration": 40,
    "start_time": "2021-07-27T17:05:44.648Z"
   },
   {
    "duration": 201,
    "start_time": "2021-07-27T17:15:26.056Z"
   },
   {
    "duration": 384,
    "start_time": "2021-07-27T17:15:58.339Z"
   },
   {
    "duration": 360,
    "start_time": "2021-07-27T17:16:18.349Z"
   },
   {
    "duration": 197,
    "start_time": "2021-07-27T17:18:28.220Z"
   },
   {
    "duration": 286,
    "start_time": "2021-07-27T17:20:04.140Z"
   },
   {
    "duration": 610,
    "start_time": "2021-07-27T17:21:26.047Z"
   },
   {
    "duration": 607,
    "start_time": "2021-07-27T17:22:01.176Z"
   },
   {
    "duration": 4802,
    "start_time": "2021-07-27T17:22:34.318Z"
   },
   {
    "duration": 338,
    "start_time": "2021-07-27T17:22:57.860Z"
   },
   {
    "duration": 278,
    "start_time": "2021-07-27T17:23:08.795Z"
   },
   {
    "duration": -140,
    "start_time": "2021-07-27T17:27:00.606Z"
   },
   {
    "duration": 223,
    "start_time": "2021-07-27T17:27:40.944Z"
   },
   {
    "duration": 223,
    "start_time": "2021-07-27T17:27:40.946Z"
   },
   {
    "duration": 5,
    "start_time": "2021-07-27T17:27:43.130Z"
   },
   {
    "duration": 3,
    "start_time": "2021-07-27T17:27:43.737Z"
   },
   {
    "duration": 36,
    "start_time": "2021-07-27T17:27:44.945Z"
   },
   {
    "duration": 36,
    "start_time": "2021-07-27T17:28:09.050Z"
   },
   {
    "duration": 21,
    "start_time": "2021-07-27T17:28:15.537Z"
   },
   {
    "duration": 5,
    "start_time": "2021-07-27T17:28:25.226Z"
   },
   {
    "duration": 5,
    "start_time": "2021-07-27T17:28:38.649Z"
   },
   {
    "duration": 297,
    "start_time": "2021-07-27T17:29:07.410Z"
   },
   {
    "duration": 279,
    "start_time": "2021-07-27T17:29:10.178Z"
   },
   {
    "duration": 264,
    "start_time": "2021-07-27T17:29:14.498Z"
   },
   {
    "duration": 702,
    "start_time": "2021-07-27T17:29:40.463Z"
   },
   {
    "duration": 39,
    "start_time": "2021-07-27T17:30:25.899Z"
   },
   {
    "duration": 5814,
    "start_time": "2021-07-27T17:30:40.500Z"
   },
   {
    "duration": 264,
    "start_time": "2021-07-27T17:31:12.580Z"
   },
   {
    "duration": 5974,
    "start_time": "2021-07-27T17:31:19.131Z"
   },
   {
    "duration": 413,
    "start_time": "2021-07-28T06:30:41.837Z"
   },
   {
    "duration": 1766,
    "start_time": "2021-07-28T06:30:46.967Z"
   },
   {
    "duration": 3,
    "start_time": "2021-07-28T06:30:48.736Z"
   },
   {
    "duration": 1005,
    "start_time": "2021-07-28T06:30:48.744Z"
   },
   {
    "duration": 3,
    "start_time": "2021-07-28T06:30:49.752Z"
   },
   {
    "duration": 12860,
    "start_time": "2021-07-28T06:30:49.758Z"
   },
   {
    "duration": 5,
    "start_time": "2021-07-28T06:31:02.621Z"
   },
   {
    "duration": 83,
    "start_time": "2021-07-28T06:31:02.629Z"
   },
   {
    "duration": 4,
    "start_time": "2021-07-28T06:31:02.715Z"
   },
   {
    "duration": 12,
    "start_time": "2021-07-28T06:31:02.723Z"
   },
   {
    "duration": 232,
    "start_time": "2021-07-28T06:31:02.763Z"
   },
   {
    "duration": 9,
    "start_time": "2021-07-28T06:31:02.997Z"
   },
   {
    "duration": 20,
    "start_time": "2021-07-28T06:31:03.009Z"
   },
   {
    "duration": 14,
    "start_time": "2021-07-28T06:31:03.031Z"
   },
   {
    "duration": 13804,
    "start_time": "2021-07-28T06:31:03.047Z"
   },
   {
    "duration": 551,
    "start_time": "2021-07-28T06:32:29.083Z"
   },
   {
    "duration": 13138,
    "start_time": "2021-07-28T06:32:33.630Z"
   },
   {
    "duration": 638,
    "start_time": "2021-07-28T06:33:06.512Z"
   },
   {
    "duration": 243,
    "start_time": "2021-07-28T06:33:39.979Z"
   },
   {
    "duration": 390,
    "start_time": "2021-07-28T06:33:51.974Z"
   },
   {
    "duration": 195,
    "start_time": "2021-07-28T06:33:57.399Z"
   },
   {
    "duration": 187,
    "start_time": "2021-07-28T06:34:03.583Z"
   },
   {
    "duration": 337,
    "start_time": "2021-07-28T06:34:07.806Z"
   },
   {
    "duration": 808,
    "start_time": "2021-07-28T06:34:18.758Z"
   },
   {
    "duration": 147,
    "start_time": "2021-07-28T06:37:27.355Z"
   },
   {
    "duration": 47,
    "start_time": "2021-07-28T06:37:40.220Z"
   },
   {
    "duration": 736,
    "start_time": "2021-07-28T06:37:55.174Z"
   },
   {
    "duration": 7233,
    "start_time": "2021-07-28T06:38:00.420Z"
   },
   {
    "duration": 7055,
    "start_time": "2021-07-28T06:40:37.741Z"
   },
   {
    "duration": 5,
    "start_time": "2021-07-28T06:40:54.552Z"
   },
   {
    "duration": 27,
    "start_time": "2021-07-28T06:40:54.561Z"
   },
   {
    "duration": 1112,
    "start_time": "2021-07-28T06:40:54.591Z"
   },
   {
    "duration": 3,
    "start_time": "2021-07-28T06:40:55.706Z"
   },
   {
    "duration": 14151,
    "start_time": "2021-07-28T06:40:55.711Z"
   },
   {
    "duration": 10,
    "start_time": "2021-07-28T06:41:09.866Z"
   },
   {
    "duration": 99,
    "start_time": "2021-07-28T06:41:09.879Z"
   },
   {
    "duration": 14,
    "start_time": "2021-07-28T06:41:09.983Z"
   },
   {
    "duration": 12,
    "start_time": "2021-07-28T06:41:10.001Z"
   },
   {
    "duration": 292,
    "start_time": "2021-07-28T06:41:10.016Z"
   },
   {
    "duration": 13,
    "start_time": "2021-07-28T06:41:10.312Z"
   },
   {
    "duration": 26,
    "start_time": "2021-07-28T06:41:10.328Z"
   },
   {
    "duration": 3,
    "start_time": "2021-07-28T06:41:10.362Z"
   },
   {
    "duration": 621,
    "start_time": "2021-07-28T06:41:10.368Z"
   },
   {
    "duration": 10769,
    "start_time": "2021-07-28T06:44:42.790Z"
   },
   {
    "duration": 12782,
    "start_time": "2021-07-28T06:45:02.078Z"
   },
   {
    "duration": 683,
    "start_time": "2021-07-28T06:45:31.983Z"
   },
   {
    "duration": 613,
    "start_time": "2021-07-28T06:47:52.239Z"
   },
   {
    "duration": 680,
    "start_time": "2021-07-28T06:48:36.336Z"
   },
   {
    "duration": 611,
    "start_time": "2021-07-28T06:51:09.389Z"
   },
   {
    "duration": 625,
    "start_time": "2021-07-28T06:51:47.295Z"
   },
   {
    "duration": 538,
    "start_time": "2021-07-28T06:52:17.537Z"
   },
   {
    "duration": 550,
    "start_time": "2021-07-28T06:53:11.524Z"
   },
   {
    "duration": 164,
    "start_time": "2021-07-28T06:54:18.046Z"
   },
   {
    "duration": 81,
    "start_time": "2021-07-28T07:12:08.443Z"
   },
   {
    "duration": 160,
    "start_time": "2021-07-28T07:12:43.283Z"
   },
   {
    "duration": 9,
    "start_time": "2021-07-28T07:13:00.291Z"
   },
   {
    "duration": 4,
    "start_time": "2021-07-28T07:13:33.564Z"
   },
   {
    "duration": 7,
    "start_time": "2021-07-28T07:13:49.876Z"
   },
   {
    "duration": 439,
    "start_time": "2021-07-28T07:14:14.965Z"
   },
   {
    "duration": 543,
    "start_time": "2021-07-28T07:14:26.173Z"
   },
   {
    "duration": 290,
    "start_time": "2021-07-28T07:14:50.244Z"
   },
   {
    "duration": 279,
    "start_time": "2021-07-28T07:15:51.039Z"
   },
   {
    "duration": 299,
    "start_time": "2021-07-28T07:16:39.373Z"
   },
   {
    "duration": 303,
    "start_time": "2021-07-28T07:21:06.001Z"
   },
   {
    "duration": 419,
    "start_time": "2021-07-28T07:21:14.815Z"
   },
   {
    "duration": 93,
    "start_time": "2021-07-28T18:29:06.070Z"
   },
   {
    "duration": 108,
    "start_time": "2021-07-28T18:29:18.205Z"
   },
   {
    "duration": 102,
    "start_time": "2021-07-28T18:29:27.132Z"
   },
   {
    "duration": 357,
    "start_time": "2021-07-28T18:29:36.525Z"
   },
   {
    "duration": 1913,
    "start_time": "2021-07-28T18:29:41.949Z"
   },
   {
    "duration": 4,
    "start_time": "2021-07-28T18:29:43.865Z"
   },
   {
    "duration": 1342,
    "start_time": "2021-07-28T18:29:43.873Z"
   },
   {
    "duration": 5,
    "start_time": "2021-07-28T18:29:45.219Z"
   },
   {
    "duration": 12558,
    "start_time": "2021-07-28T18:29:45.227Z"
   },
   {
    "duration": 6,
    "start_time": "2021-07-28T18:29:57.788Z"
   },
   {
    "duration": 79,
    "start_time": "2021-07-28T18:29:57.796Z"
   },
   {
    "duration": 4,
    "start_time": "2021-07-28T18:29:57.880Z"
   },
   {
    "duration": 23,
    "start_time": "2021-07-28T18:29:57.886Z"
   },
   {
    "duration": 263,
    "start_time": "2021-07-28T18:29:57.911Z"
   },
   {
    "duration": 10,
    "start_time": "2021-07-28T18:29:58.176Z"
   },
   {
    "duration": 34,
    "start_time": "2021-07-28T18:29:58.188Z"
   },
   {
    "duration": 25,
    "start_time": "2021-07-28T18:29:58.224Z"
   },
   {
    "duration": 652,
    "start_time": "2021-07-28T18:29:58.251Z"
   },
   {
    "duration": 569,
    "start_time": "2021-07-28T18:29:58.905Z"
   },
   {
    "duration": 6366,
    "start_time": "2021-07-28T18:29:59.476Z"
   },
   {
    "duration": 279,
    "start_time": "2021-07-28T18:30:18.302Z"
   },
   {
    "duration": 265,
    "start_time": "2021-07-28T18:30:49.542Z"
   },
   {
    "duration": 19,
    "start_time": "2021-07-28T18:30:52.617Z"
   },
   {
    "duration": 310,
    "start_time": "2021-07-28T18:31:04.978Z"
   },
   {
    "duration": 10,
    "start_time": "2021-07-28T18:31:58.567Z"
   },
   {
    "duration": 86,
    "start_time": "2021-07-28T18:32:10.429Z"
   },
   {
    "duration": 9,
    "start_time": "2021-07-28T18:32:15.166Z"
   },
   {
    "duration": 274,
    "start_time": "2021-07-28T18:34:06.461Z"
   },
   {
    "duration": 309,
    "start_time": "2021-07-28T18:34:22.158Z"
   },
   {
    "duration": 1748,
    "start_time": "2021-07-28T18:35:11.271Z"
   },
   {
    "duration": 8,
    "start_time": "2021-07-28T18:41:18.443Z"
   },
   {
    "duration": 22,
    "start_time": "2021-07-28T18:41:59.018Z"
   },
   {
    "duration": 2152,
    "start_time": "2021-07-28T18:42:38.783Z"
   },
   {
    "duration": 23,
    "start_time": "2021-07-28T18:42:45.387Z"
   },
   {
    "duration": 7,
    "start_time": "2021-07-28T18:46:02.356Z"
   },
   {
    "duration": 4,
    "start_time": "2021-07-28T18:47:59.187Z"
   },
   {
    "duration": 5,
    "start_time": "2021-07-28T18:47:59.194Z"
   },
   {
    "duration": 854,
    "start_time": "2021-07-28T18:47:59.202Z"
   },
   {
    "duration": 3,
    "start_time": "2021-07-28T18:48:00.059Z"
   },
   {
    "duration": 10784,
    "start_time": "2021-07-28T18:48:00.065Z"
   },
   {
    "duration": 4,
    "start_time": "2021-07-28T18:48:10.851Z"
   },
   {
    "duration": 56,
    "start_time": "2021-07-28T18:48:10.862Z"
   },
   {
    "duration": 3,
    "start_time": "2021-07-28T18:48:10.921Z"
   },
   {
    "duration": 40,
    "start_time": "2021-07-28T18:48:10.927Z"
   },
   {
    "duration": 255,
    "start_time": "2021-07-28T18:48:10.970Z"
   },
   {
    "duration": 13,
    "start_time": "2021-07-28T18:48:11.228Z"
   },
   {
    "duration": 19,
    "start_time": "2021-07-28T18:48:11.244Z"
   },
   {
    "duration": 6,
    "start_time": "2021-07-28T18:48:11.265Z"
   },
   {
    "duration": 614,
    "start_time": "2021-07-28T18:48:11.273Z"
   },
   {
    "duration": 567,
    "start_time": "2021-07-28T18:48:11.890Z"
   },
   {
    "duration": 8,
    "start_time": "2021-07-28T18:48:12.463Z"
   },
   {
    "duration": 22,
    "start_time": "2021-07-28T18:48:30.054Z"
   },
   {
    "duration": 95,
    "start_time": "2021-07-28T18:54:20.713Z"
   },
   {
    "duration": 6593,
    "start_time": "2021-07-28T18:54:33.560Z"
   },
   {
    "duration": 10,
    "start_time": "2021-07-28T18:54:58.913Z"
   },
   {
    "duration": 23,
    "start_time": "2021-07-28T18:56:56.771Z"
   },
   {
    "duration": 13,
    "start_time": "2021-07-28T19:01:58.001Z"
   },
   {
    "duration": 284,
    "start_time": "2021-07-28T19:03:09.091Z"
   },
   {
    "duration": 541,
    "start_time": "2021-07-28T19:03:19.835Z"
   },
   {
    "duration": 784,
    "start_time": "2021-07-28T19:04:45.237Z"
   },
   {
    "duration": 667,
    "start_time": "2021-07-28T19:05:05.782Z"
   },
   {
    "duration": 556,
    "start_time": "2021-07-28T19:05:26.709Z"
   },
   {
    "duration": 597,
    "start_time": "2021-07-28T19:05:57.177Z"
   },
   {
    "duration": 557,
    "start_time": "2021-07-28T19:08:20.657Z"
   },
   {
    "duration": 544,
    "start_time": "2021-07-28T19:09:09.990Z"
   },
   {
    "duration": 638,
    "start_time": "2021-07-28T19:09:29.367Z"
   },
   {
    "duration": 92,
    "start_time": "2021-07-28T19:12:09.399Z"
   },
   {
    "duration": 71,
    "start_time": "2021-07-28T19:12:16.936Z"
   },
   {
    "duration": 104,
    "start_time": "2021-07-28T19:12:35.343Z"
   },
   {
    "duration": 272,
    "start_time": "2021-07-28T19:12:58.560Z"
   },
   {
    "duration": 6,
    "start_time": "2021-07-28T19:13:06.473Z"
   },
   {
    "duration": 544,
    "start_time": "2021-07-28T19:13:44.135Z"
   },
   {
    "duration": 562,
    "start_time": "2021-07-28T19:13:52.032Z"
   },
   {
    "duration": 857,
    "start_time": "2021-07-28T19:15:08.198Z"
   },
   {
    "duration": 539,
    "start_time": "2021-07-28T19:15:10.088Z"
   },
   {
    "duration": 544,
    "start_time": "2021-07-28T19:15:17.580Z"
   },
   {
    "duration": 92,
    "start_time": "2021-07-28T19:16:04.712Z"
   },
   {
    "duration": 663,
    "start_time": "2021-07-28T19:16:07.608Z"
   },
   {
    "duration": 6,
    "start_time": "2021-07-28T19:16:27.765Z"
   },
   {
    "duration": 564,
    "start_time": "2021-07-28T19:16:28.798Z"
   },
   {
    "duration": 661,
    "start_time": "2021-07-28T19:16:29.365Z"
   },
   {
    "duration": 579,
    "start_time": "2021-07-28T19:16:30.029Z"
   },
   {
    "duration": 6,
    "start_time": "2021-07-28T19:36:25.723Z"
   },
   {
    "duration": 9,
    "start_time": "2021-07-28T19:36:26.123Z"
   },
   {
    "duration": 6,
    "start_time": "2021-07-28T19:36:37.219Z"
   },
   {
    "duration": 586,
    "start_time": "2021-07-28T19:36:37.595Z"
   },
   {
    "duration": 983,
    "start_time": "2021-07-28T19:36:42.515Z"
   },
   {
    "duration": 886,
    "start_time": "2021-07-28T19:36:43.501Z"
   },
   {
    "duration": 556,
    "start_time": "2021-07-28T19:39:22.636Z"
   },
   {
    "duration": 6,
    "start_time": "2021-07-28T19:40:39.233Z"
   },
   {
    "duration": 600,
    "start_time": "2021-07-28T19:40:40.480Z"
   },
   {
    "duration": 571,
    "start_time": "2021-07-28T19:40:41.083Z"
   },
   {
    "duration": 567,
    "start_time": "2021-07-28T19:40:41.662Z"
   },
   {
    "duration": 88,
    "start_time": "2021-07-28T19:40:42.232Z"
   },
   {
    "duration": 946,
    "start_time": "2021-07-28T19:47:26.186Z"
   },
   {
    "duration": 6,
    "start_time": "2021-07-28T19:47:36.369Z"
   },
   {
    "duration": 546,
    "start_time": "2021-07-28T19:47:36.552Z"
   },
   {
    "duration": 547,
    "start_time": "2021-07-28T19:47:37.101Z"
   },
   {
    "duration": 667,
    "start_time": "2021-07-28T19:47:37.651Z"
   },
   {
    "duration": 537,
    "start_time": "2021-07-28T19:47:52.849Z"
   },
   {
    "duration": 809,
    "start_time": "2021-07-28T19:49:57.855Z"
   },
   {
    "duration": 6,
    "start_time": "2021-07-28T20:05:44.036Z"
   },
   {
    "duration": 6,
    "start_time": "2021-07-28T20:06:16.180Z"
   },
   {
    "duration": 5,
    "start_time": "2021-07-28T20:07:19.034Z"
   },
   {
    "duration": 5,
    "start_time": "2021-07-28T20:07:26.236Z"
   },
   {
    "duration": 4,
    "start_time": "2021-07-28T20:07:31.284Z"
   },
   {
    "duration": 289,
    "start_time": "2021-07-28T20:08:03.105Z"
   },
   {
    "duration": 470,
    "start_time": "2021-07-28T20:08:09.996Z"
   },
   {
    "duration": 85,
    "start_time": "2021-07-28T20:08:51.523Z"
   },
   {
    "duration": 21,
    "start_time": "2021-07-28T20:08:57.851Z"
   },
   {
    "duration": 7,
    "start_time": "2021-07-28T20:09:03.755Z"
   },
   {
    "duration": 254,
    "start_time": "2021-07-28T20:09:14.709Z"
   },
   {
    "duration": 123,
    "start_time": "2021-07-28T20:09:19.883Z"
   },
   {
    "duration": 8,
    "start_time": "2021-07-28T20:09:24.771Z"
   },
   {
    "duration": 7,
    "start_time": "2021-07-28T20:09:37.069Z"
   },
   {
    "duration": 8,
    "start_time": "2021-07-28T20:09:50.769Z"
   },
   {
    "duration": 7,
    "start_time": "2021-07-28T20:09:54.476Z"
   },
   {
    "duration": 645,
    "start_time": "2021-07-28T20:11:08.222Z"
   },
   {
    "duration": 566,
    "start_time": "2021-07-28T20:12:45.781Z"
   },
   {
    "duration": 7,
    "start_time": "2021-07-28T20:12:59.208Z"
   },
   {
    "duration": 553,
    "start_time": "2021-07-28T20:13:10.566Z"
   },
   {
    "duration": 877,
    "start_time": "2021-07-28T20:13:25.445Z"
   },
   {
    "duration": 91,
    "start_time": "2021-07-28T20:18:01.753Z"
   },
   {
    "duration": 280,
    "start_time": "2021-07-28T20:18:08.481Z"
   },
   {
    "duration": 271,
    "start_time": "2021-07-28T20:18:23.500Z"
   },
   {
    "duration": 10,
    "start_time": "2021-07-28T20:19:58.185Z"
   },
   {
    "duration": 8,
    "start_time": "2021-07-28T20:20:09.845Z"
   },
   {
    "duration": 10,
    "start_time": "2021-07-28T20:20:15.696Z"
   },
   {
    "duration": 11,
    "start_time": "2021-07-28T20:20:29.530Z"
   },
   {
    "duration": 10,
    "start_time": "2021-07-28T20:20:32.049Z"
   },
   {
    "duration": 16,
    "start_time": "2021-07-28T20:20:40.692Z"
   },
   {
    "duration": 16,
    "start_time": "2021-07-28T20:20:48.001Z"
   },
   {
    "duration": 87,
    "start_time": "2021-07-28T20:21:17.027Z"
   },
   {
    "duration": 3,
    "start_time": "2021-07-28T21:03:16.712Z"
   },
   {
    "duration": 4,
    "start_time": "2021-07-28T21:13:48.647Z"
   },
   {
    "duration": 52,
    "start_time": "2021-07-28T21:17:33.917Z"
   },
   {
    "duration": 3,
    "start_time": "2021-07-28T21:17:33.972Z"
   },
   {
    "duration": 860,
    "start_time": "2021-07-28T21:17:33.978Z"
   },
   {
    "duration": 4,
    "start_time": "2021-07-28T21:17:34.841Z"
   },
   {
    "duration": 11181,
    "start_time": "2021-07-28T21:17:34.847Z"
   },
   {
    "duration": 4,
    "start_time": "2021-07-28T21:17:46.030Z"
   },
   {
    "duration": 76,
    "start_time": "2021-07-28T21:17:46.036Z"
   },
   {
    "duration": 3,
    "start_time": "2021-07-28T21:17:46.115Z"
   },
   {
    "duration": 11,
    "start_time": "2021-07-28T21:17:46.121Z"
   },
   {
    "duration": 254,
    "start_time": "2021-07-28T21:17:46.163Z"
   },
   {
    "duration": 10,
    "start_time": "2021-07-28T21:17:46.419Z"
   },
   {
    "duration": 16,
    "start_time": "2021-07-28T21:17:46.431Z"
   },
   {
    "duration": 3,
    "start_time": "2021-07-28T21:17:46.461Z"
   },
   {
    "duration": 615,
    "start_time": "2021-07-28T21:17:46.467Z"
   },
   {
    "duration": 515,
    "start_time": "2021-07-28T21:17:47.084Z"
   },
   {
    "duration": 8,
    "start_time": "2021-07-28T21:17:47.602Z"
   },
   {
    "duration": 672,
    "start_time": "2021-07-28T21:17:47.613Z"
   },
   {
    "duration": 569,
    "start_time": "2021-07-28T21:17:48.287Z"
   },
   {
    "duration": 571,
    "start_time": "2021-07-28T21:17:48.861Z"
   },
   {
    "duration": 35,
    "start_time": "2021-07-28T21:17:49.435Z"
   },
   {
    "duration": 309,
    "start_time": "2021-07-28T21:17:49.473Z"
   },
   {
    "duration": 472,
    "start_time": "2021-07-28T21:17:49.313Z"
   },
   {
    "duration": 267,
    "start_time": "2021-07-28T21:19:22.531Z"
   },
   {
    "duration": 8,
    "start_time": "2021-07-28T21:22:23.912Z"
   },
   {
    "duration": 8,
    "start_time": "2021-07-28T21:25:27.465Z"
   },
   {
    "duration": 7,
    "start_time": "2021-07-28T21:26:57.606Z"
   },
   {
    "duration": 7,
    "start_time": "2021-07-28T21:27:02.554Z"
   },
   {
    "duration": 285,
    "start_time": "2021-07-28T21:27:02.564Z"
   },
   {
    "duration": 15,
    "start_time": "2021-07-28T21:30:16.028Z"
   },
   {
    "duration": 15,
    "start_time": "2021-07-28T21:31:18.747Z"
   },
   {
    "duration": 15,
    "start_time": "2021-07-28T21:31:50.165Z"
   },
   {
    "duration": 15,
    "start_time": "2021-07-28T21:31:57.020Z"
   },
   {
    "duration": 321,
    "start_time": "2021-07-28T21:31:59.364Z"
   },
   {
    "duration": 406,
    "start_time": "2021-07-28T21:32:05.701Z"
   },
   {
    "duration": 2131,
    "start_time": "2021-07-28T21:33:02.733Z"
   },
   {
    "duration": 17,
    "start_time": "2021-07-28T21:33:16.742Z"
   },
   {
    "duration": 316,
    "start_time": "2021-07-28T21:33:53.694Z"
   },
   {
    "duration": 17,
    "start_time": "2021-07-28T21:34:49.165Z"
   },
   {
    "duration": 313,
    "start_time": "2021-07-28T21:34:51.062Z"
   },
   {
    "duration": 5,
    "start_time": "2021-07-28T21:35:12.726Z"
   },
   {
    "duration": 8,
    "start_time": "2021-07-28T21:35:12.734Z"
   },
   {
    "duration": 866,
    "start_time": "2021-07-28T21:35:12.745Z"
   },
   {
    "duration": 3,
    "start_time": "2021-07-28T21:35:13.614Z"
   },
   {
    "duration": 11005,
    "start_time": "2021-07-28T21:35:13.620Z"
   },
   {
    "duration": 4,
    "start_time": "2021-07-28T21:35:24.628Z"
   },
   {
    "duration": 69,
    "start_time": "2021-07-28T21:35:24.635Z"
   },
   {
    "duration": 3,
    "start_time": "2021-07-28T21:35:24.706Z"
   },
   {
    "duration": 16,
    "start_time": "2021-07-28T21:35:24.713Z"
   },
   {
    "duration": 256,
    "start_time": "2021-07-28T21:35:24.732Z"
   },
   {
    "duration": 10,
    "start_time": "2021-07-28T21:35:24.990Z"
   },
   {
    "duration": 12,
    "start_time": "2021-07-28T21:35:25.002Z"
   },
   {
    "duration": 8,
    "start_time": "2021-07-28T21:35:25.016Z"
   },
   {
    "duration": 623,
    "start_time": "2021-07-28T21:35:25.027Z"
   },
   {
    "duration": 521,
    "start_time": "2021-07-28T21:35:25.652Z"
   },
   {
    "duration": 6,
    "start_time": "2021-07-28T21:35:26.175Z"
   },
   {
    "duration": 586,
    "start_time": "2021-07-28T21:35:26.184Z"
   },
   {
    "duration": 670,
    "start_time": "2021-07-28T21:35:26.774Z"
   },
   {
    "duration": 692,
    "start_time": "2021-07-28T21:35:27.448Z"
   },
   {
    "duration": 26,
    "start_time": "2021-07-28T21:35:28.142Z"
   },
   {
    "duration": 16,
    "start_time": "2021-07-28T21:35:28.171Z"
   },
   {
    "duration": 295,
    "start_time": "2021-07-28T21:35:28.190Z"
   },
   {
    "duration": 226,
    "start_time": "2021-07-28T21:35:28.261Z"
   },
   {
    "duration": 17,
    "start_time": "2021-07-28T21:36:01.832Z"
   },
   {
    "duration": 291,
    "start_time": "2021-07-28T21:36:02.238Z"
   },
   {
    "duration": 15,
    "start_time": "2021-07-28T21:38:26.484Z"
   },
   {
    "duration": 19,
    "start_time": "2021-07-28T21:39:38.975Z"
   },
   {
    "duration": 314,
    "start_time": "2021-07-28T21:39:40.376Z"
   },
   {
    "duration": 332,
    "start_time": "2021-07-28T21:39:50.008Z"
   },
   {
    "duration": 19,
    "start_time": "2021-07-28T21:40:07.081Z"
   },
   {
    "duration": 292,
    "start_time": "2021-07-28T21:40:12.288Z"
   },
   {
    "duration": 248,
    "start_time": "2021-07-28T21:47:34.350Z"
   },
   {
    "duration": 6,
    "start_time": "2021-07-28T21:47:38.255Z"
   },
   {
    "duration": 8,
    "start_time": "2021-07-28T21:47:38.264Z"
   },
   {
    "duration": 844,
    "start_time": "2021-07-28T21:47:38.275Z"
   },
   {
    "duration": 4,
    "start_time": "2021-07-28T21:47:39.122Z"
   },
   {
    "duration": 11275,
    "start_time": "2021-07-28T21:47:39.129Z"
   },
   {
    "duration": 5,
    "start_time": "2021-07-28T21:47:50.407Z"
   },
   {
    "duration": 75,
    "start_time": "2021-07-28T21:47:50.415Z"
   },
   {
    "duration": 3,
    "start_time": "2021-07-28T21:47:50.502Z"
   },
   {
    "duration": 11,
    "start_time": "2021-07-28T21:47:50.508Z"
   },
   {
    "duration": 252,
    "start_time": "2021-07-28T21:47:50.521Z"
   },
   {
    "duration": 11,
    "start_time": "2021-07-28T21:47:50.775Z"
   },
   {
    "duration": 11,
    "start_time": "2021-07-28T21:47:50.789Z"
   },
   {
    "duration": 7,
    "start_time": "2021-07-28T21:47:50.802Z"
   },
   {
    "duration": 761,
    "start_time": "2021-07-28T21:47:50.812Z"
   },
   {
    "duration": 530,
    "start_time": "2021-07-28T21:47:51.576Z"
   },
   {
    "duration": 6,
    "start_time": "2021-07-28T21:47:52.108Z"
   },
   {
    "duration": 568,
    "start_time": "2021-07-28T21:47:52.117Z"
   },
   {
    "duration": 795,
    "start_time": "2021-07-28T21:47:52.687Z"
   },
   {
    "duration": 703,
    "start_time": "2021-07-28T21:47:53.484Z"
   },
   {
    "duration": 17,
    "start_time": "2021-07-28T21:47:54.189Z"
   },
   {
    "duration": 340,
    "start_time": "2021-07-28T21:47:54.209Z"
   },
   {
    "duration": 470,
    "start_time": "2021-07-28T21:47:54.081Z"
   },
   {
    "duration": 470,
    "start_time": "2021-07-28T21:47:54.083Z"
   },
   {
    "duration": 1399,
    "start_time": "2021-07-29T13:26:36.296Z"
   },
   {
    "duration": 3,
    "start_time": "2021-07-29T13:26:37.699Z"
   },
   {
    "duration": 875,
    "start_time": "2021-07-29T13:26:37.705Z"
   },
   {
    "duration": 3,
    "start_time": "2021-07-29T13:26:38.583Z"
   },
   {
    "duration": 10329,
    "start_time": "2021-07-29T13:26:38.589Z"
   },
   {
    "duration": 5,
    "start_time": "2021-07-29T13:26:48.921Z"
   },
   {
    "duration": 78,
    "start_time": "2021-07-29T13:26:48.930Z"
   },
   {
    "duration": 3,
    "start_time": "2021-07-29T13:26:49.012Z"
   },
   {
    "duration": 11,
    "start_time": "2021-07-29T13:26:49.018Z"
   },
   {
    "duration": 228,
    "start_time": "2021-07-29T13:26:49.055Z"
   },
   {
    "duration": 10,
    "start_time": "2021-07-29T13:26:49.286Z"
   },
   {
    "duration": 7,
    "start_time": "2021-07-29T13:26:49.298Z"
   },
   {
    "duration": 6,
    "start_time": "2021-07-29T13:26:49.307Z"
   },
   {
    "duration": 596,
    "start_time": "2021-07-29T13:26:49.315Z"
   },
   {
    "duration": 499,
    "start_time": "2021-07-29T13:26:49.913Z"
   },
   {
    "duration": 6,
    "start_time": "2021-07-29T13:26:50.415Z"
   },
   {
    "duration": 633,
    "start_time": "2021-07-29T13:26:50.423Z"
   },
   {
    "duration": 588,
    "start_time": "2021-07-29T13:26:51.058Z"
   },
   {
    "duration": 730,
    "start_time": "2021-07-29T13:26:51.649Z"
   },
   {
    "duration": 16,
    "start_time": "2021-07-29T13:26:52.382Z"
   },
   {
    "duration": 633,
    "start_time": "2021-07-29T13:26:52.400Z"
   },
   {
    "duration": -427,
    "start_time": "2021-07-29T13:26:53.462Z"
   },
   {
    "duration": -429,
    "start_time": "2021-07-29T13:26:53.466Z"
   },
   {
    "duration": 19,
    "start_time": "2021-07-29T13:27:21.605Z"
   },
   {
    "duration": 19,
    "start_time": "2021-07-29T13:27:28.353Z"
   },
   {
    "duration": 462,
    "start_time": "2021-07-29T13:27:34.557Z"
   },
   {
    "duration": 18,
    "start_time": "2021-07-29T13:28:15.382Z"
   },
   {
    "duration": 397,
    "start_time": "2021-07-29T13:29:17.229Z"
   },
   {
    "duration": 21,
    "start_time": "2021-07-29T13:29:20.917Z"
   },
   {
    "duration": 354,
    "start_time": "2021-07-29T13:29:21.702Z"
   },
   {
    "duration": 356,
    "start_time": "2021-07-29T13:29:33.477Z"
   },
   {
    "duration": 377,
    "start_time": "2021-07-29T13:29:57.575Z"
   },
   {
    "duration": 19,
    "start_time": "2021-07-29T13:30:49.871Z"
   },
   {
    "duration": 379,
    "start_time": "2021-07-29T13:30:50.990Z"
   },
   {
    "duration": 384,
    "start_time": "2021-07-29T13:31:02.337Z"
   },
   {
    "duration": 3,
    "start_time": "2021-07-29T13:31:21.799Z"
   },
   {
    "duration": 378,
    "start_time": "2021-07-29T13:33:13.064Z"
   },
   {
    "duration": 372,
    "start_time": "2021-07-29T13:34:41.816Z"
   },
   {
    "duration": -426,
    "start_time": "2021-07-29T13:34:42.619Z"
   },
   {
    "duration": -427,
    "start_time": "2021-07-29T13:34:42.621Z"
   },
   {
    "duration": -429,
    "start_time": "2021-07-29T13:34:42.625Z"
   },
   {
    "duration": -433,
    "start_time": "2021-07-29T13:34:42.632Z"
   },
   {
    "duration": -440,
    "start_time": "2021-07-29T13:34:42.640Z"
   },
   {
    "duration": -444,
    "start_time": "2021-07-29T13:34:42.647Z"
   },
   {
    "duration": -445,
    "start_time": "2021-07-29T13:34:42.649Z"
   },
   {
    "duration": -448,
    "start_time": "2021-07-29T13:34:42.655Z"
   },
   {
    "duration": -450,
    "start_time": "2021-07-29T13:34:42.659Z"
   },
   {
    "duration": -453,
    "start_time": "2021-07-29T13:34:42.664Z"
   },
   {
    "duration": -452,
    "start_time": "2021-07-29T13:34:42.665Z"
   },
   {
    "duration": -458,
    "start_time": "2021-07-29T13:34:42.673Z"
   },
   {
    "duration": -459,
    "start_time": "2021-07-29T13:34:42.676Z"
   },
   {
    "duration": -460,
    "start_time": "2021-07-29T13:34:42.679Z"
   },
   {
    "duration": -461,
    "start_time": "2021-07-29T13:34:42.682Z"
   },
   {
    "duration": -462,
    "start_time": "2021-07-29T13:34:42.685Z"
   },
   {
    "duration": -460,
    "start_time": "2021-07-29T13:34:42.687Z"
   },
   {
    "duration": -460,
    "start_time": "2021-07-29T13:34:42.689Z"
   },
   {
    "duration": -459,
    "start_time": "2021-07-29T13:34:42.690Z"
   },
   {
    "duration": -441,
    "start_time": "2021-07-29T13:34:42.697Z"
   },
   {
    "duration": -440,
    "start_time": "2021-07-29T13:34:42.699Z"
   },
   {
    "duration": -441,
    "start_time": "2021-07-29T13:34:42.702Z"
   },
   {
    "duration": -440,
    "start_time": "2021-07-29T13:34:42.703Z"
   },
   {
    "duration": 1677,
    "start_time": "2021-07-29T13:35:30.255Z"
   },
   {
    "duration": -421,
    "start_time": "2021-07-29T13:35:32.357Z"
   },
   {
    "duration": -422,
    "start_time": "2021-07-29T13:35:32.359Z"
   },
   {
    "duration": -423,
    "start_time": "2021-07-29T13:35:32.362Z"
   },
   {
    "duration": -423,
    "start_time": "2021-07-29T13:35:32.364Z"
   },
   {
    "duration": -424,
    "start_time": "2021-07-29T13:35:32.366Z"
   },
   {
    "duration": -428,
    "start_time": "2021-07-29T13:35:32.371Z"
   },
   {
    "duration": -428,
    "start_time": "2021-07-29T13:35:32.373Z"
   },
   {
    "duration": -435,
    "start_time": "2021-07-29T13:35:32.381Z"
   },
   {
    "duration": -440,
    "start_time": "2021-07-29T13:35:32.387Z"
   },
   {
    "duration": -441,
    "start_time": "2021-07-29T13:35:32.390Z"
   },
   {
    "duration": -441,
    "start_time": "2021-07-29T13:35:32.391Z"
   },
   {
    "duration": -443,
    "start_time": "2021-07-29T13:35:32.394Z"
   },
   {
    "duration": -443,
    "start_time": "2021-07-29T13:35:32.396Z"
   },
   {
    "duration": -444,
    "start_time": "2021-07-29T13:35:32.398Z"
   },
   {
    "duration": -443,
    "start_time": "2021-07-29T13:35:32.399Z"
   },
   {
    "duration": -450,
    "start_time": "2021-07-29T13:35:32.407Z"
   },
   {
    "duration": -451,
    "start_time": "2021-07-29T13:35:32.409Z"
   },
   {
    "duration": -451,
    "start_time": "2021-07-29T13:35:32.411Z"
   },
   {
    "duration": -451,
    "start_time": "2021-07-29T13:35:32.412Z"
   },
   {
    "duration": -452,
    "start_time": "2021-07-29T13:35:32.414Z"
   },
   {
    "duration": -451,
    "start_time": "2021-07-29T13:35:32.415Z"
   },
   {
    "duration": -451,
    "start_time": "2021-07-29T13:35:32.416Z"
   },
   {
    "duration": -452,
    "start_time": "2021-07-29T13:35:32.418Z"
   },
   {
    "duration": 374,
    "start_time": "2021-07-29T13:35:57.865Z"
   },
   {
    "duration": -424,
    "start_time": "2021-07-29T13:35:58.667Z"
   },
   {
    "duration": -425,
    "start_time": "2021-07-29T13:35:58.670Z"
   },
   {
    "duration": -427,
    "start_time": "2021-07-29T13:35:58.673Z"
   },
   {
    "duration": -427,
    "start_time": "2021-07-29T13:35:58.674Z"
   },
   {
    "duration": -442,
    "start_time": "2021-07-29T13:35:58.690Z"
   },
   {
    "duration": -450,
    "start_time": "2021-07-29T13:35:58.700Z"
   },
   {
    "duration": -453,
    "start_time": "2021-07-29T13:35:58.704Z"
   },
   {
    "duration": -460,
    "start_time": "2021-07-29T13:35:58.713Z"
   },
   {
    "duration": -462,
    "start_time": "2021-07-29T13:35:58.716Z"
   },
   {
    "duration": -462,
    "start_time": "2021-07-29T13:35:58.717Z"
   },
   {
    "duration": -463,
    "start_time": "2021-07-29T13:35:58.719Z"
   },
   {
    "duration": -464,
    "start_time": "2021-07-29T13:35:58.721Z"
   },
   {
    "duration": -464,
    "start_time": "2021-07-29T13:35:58.723Z"
   },
   {
    "duration": -468,
    "start_time": "2021-07-29T13:35:58.728Z"
   },
   {
    "duration": -469,
    "start_time": "2021-07-29T13:35:58.730Z"
   },
   {
    "duration": -469,
    "start_time": "2021-07-29T13:35:58.731Z"
   },
   {
    "duration": -470,
    "start_time": "2021-07-29T13:35:58.734Z"
   },
   {
    "duration": -477,
    "start_time": "2021-07-29T13:35:58.742Z"
   },
   {
    "duration": -477,
    "start_time": "2021-07-29T13:35:58.743Z"
   },
   {
    "duration": -478,
    "start_time": "2021-07-29T13:35:58.745Z"
   },
   {
    "duration": -477,
    "start_time": "2021-07-29T13:35:58.746Z"
   },
   {
    "duration": -478,
    "start_time": "2021-07-29T13:35:58.748Z"
   },
   {
    "duration": -478,
    "start_time": "2021-07-29T13:35:58.749Z"
   },
   {
    "duration": 6,
    "start_time": "2021-07-29T13:36:21.194Z"
   },
   {
    "duration": 5,
    "start_time": "2021-07-29T13:36:24.572Z"
   },
   {
    "duration": 20,
    "start_time": "2021-07-29T13:36:24.579Z"
   },
   {
    "duration": 878,
    "start_time": "2021-07-29T13:36:24.601Z"
   },
   {
    "duration": 4,
    "start_time": "2021-07-29T13:36:25.482Z"
   },
   {
    "duration": 10673,
    "start_time": "2021-07-29T13:36:25.489Z"
   },
   {
    "duration": 6,
    "start_time": "2021-07-29T13:36:36.165Z"
   },
   {
    "duration": 83,
    "start_time": "2021-07-29T13:36:36.176Z"
   },
   {
    "duration": 3,
    "start_time": "2021-07-29T13:36:36.262Z"
   },
   {
    "duration": 11,
    "start_time": "2021-07-29T13:36:36.268Z"
   },
   {
    "duration": 263,
    "start_time": "2021-07-29T13:36:36.282Z"
   },
   {
    "duration": 10,
    "start_time": "2021-07-29T13:36:36.555Z"
   },
   {
    "duration": 16,
    "start_time": "2021-07-29T13:36:36.567Z"
   },
   {
    "duration": 10,
    "start_time": "2021-07-29T13:36:36.585Z"
   },
   {
    "duration": 563,
    "start_time": "2021-07-29T13:36:36.598Z"
   },
   {
    "duration": 471,
    "start_time": "2021-07-29T13:36:37.163Z"
   },
   {
    "duration": 6,
    "start_time": "2021-07-29T13:36:37.636Z"
   },
   {
    "duration": 575,
    "start_time": "2021-07-29T13:36:37.656Z"
   },
   {
    "duration": 518,
    "start_time": "2021-07-29T13:36:38.234Z"
   },
   {
    "duration": 644,
    "start_time": "2021-07-29T13:36:38.757Z"
   },
   {
    "duration": 16,
    "start_time": "2021-07-29T13:36:39.404Z"
   },
   {
    "duration": 43,
    "start_time": "2021-07-29T13:36:39.422Z"
   },
   {
    "duration": 3,
    "start_time": "2021-07-29T13:36:39.468Z"
   },
   {
    "duration": 371,
    "start_time": "2021-07-29T13:36:39.473Z"
   },
   {
    "duration": -427,
    "start_time": "2021-07-29T13:36:40.274Z"
   },
   {
    "duration": 5022,
    "start_time": "2021-07-29T13:36:52.891Z"
   },
   {
    "duration": 2702,
    "start_time": "2021-07-29T13:37:44.385Z"
   },
   {
    "duration": 3158,
    "start_time": "2021-07-29T13:40:14.967Z"
   },
   {
    "duration": 3162,
    "start_time": "2021-07-29T13:41:39.948Z"
   },
   {
    "duration": 7,
    "start_time": "2021-07-29T13:42:09.996Z"
   },
   {
    "duration": 11,
    "start_time": "2021-07-29T13:42:10.006Z"
   },
   {
    "duration": 895,
    "start_time": "2021-07-29T13:42:10.021Z"
   },
   {
    "duration": 5,
    "start_time": "2021-07-29T13:42:10.919Z"
   },
   {
    "duration": 10438,
    "start_time": "2021-07-29T13:42:10.927Z"
   },
   {
    "duration": 4,
    "start_time": "2021-07-29T13:42:21.367Z"
   },
   {
    "duration": 58,
    "start_time": "2021-07-29T13:42:21.373Z"
   },
   {
    "duration": 22,
    "start_time": "2021-07-29T13:42:21.434Z"
   },
   {
    "duration": 8,
    "start_time": "2021-07-29T13:42:21.459Z"
   },
   {
    "duration": 238,
    "start_time": "2021-07-29T13:42:21.469Z"
   },
   {
    "duration": 9,
    "start_time": "2021-07-29T13:42:21.710Z"
   },
   {
    "duration": 9,
    "start_time": "2021-07-29T13:42:21.721Z"
   },
   {
    "duration": 13,
    "start_time": "2021-07-29T13:42:21.732Z"
   },
   {
    "duration": 590,
    "start_time": "2021-07-29T13:42:21.756Z"
   },
   {
    "duration": 467,
    "start_time": "2021-07-29T13:42:22.355Z"
   },
   {
    "duration": 6,
    "start_time": "2021-07-29T13:42:22.824Z"
   },
   {
    "duration": 536,
    "start_time": "2021-07-29T13:42:22.832Z"
   },
   {
    "duration": 522,
    "start_time": "2021-07-29T13:42:23.371Z"
   },
   {
    "duration": 543,
    "start_time": "2021-07-29T13:42:23.895Z"
   },
   {
    "duration": 23,
    "start_time": "2021-07-29T13:42:24.441Z"
   },
   {
    "duration": 21,
    "start_time": "2021-07-29T13:42:24.467Z"
   },
   {
    "duration": 3,
    "start_time": "2021-07-29T13:42:24.491Z"
   },
   {
    "duration": 2724,
    "start_time": "2021-07-29T13:42:24.499Z"
   },
   {
    "duration": 3,
    "start_time": "2021-07-29T13:42:27.226Z"
   },
   {
    "duration": 6,
    "start_time": "2021-07-29T13:57:56.492Z"
   },
   {
    "duration": 13,
    "start_time": "2021-07-29T13:57:56.501Z"
   },
   {
    "duration": 792,
    "start_time": "2021-07-29T13:57:56.517Z"
   },
   {
    "duration": 4,
    "start_time": "2021-07-29T13:57:57.312Z"
   },
   {
    "duration": 11098,
    "start_time": "2021-07-29T13:57:57.318Z"
   },
   {
    "duration": 4,
    "start_time": "2021-07-29T13:58:08.418Z"
   },
   {
    "duration": 69,
    "start_time": "2021-07-29T13:58:08.424Z"
   },
   {
    "duration": 3,
    "start_time": "2021-07-29T13:58:08.496Z"
   },
   {
    "duration": 23,
    "start_time": "2021-07-29T13:58:08.502Z"
   },
   {
    "duration": 234,
    "start_time": "2021-07-29T13:58:08.528Z"
   },
   {
    "duration": 9,
    "start_time": "2021-07-29T13:58:08.764Z"
   },
   {
    "duration": 29,
    "start_time": "2021-07-29T13:58:08.775Z"
   },
   {
    "duration": 9,
    "start_time": "2021-07-29T13:58:08.806Z"
   },
   {
    "duration": 943,
    "start_time": "2021-07-29T13:58:08.817Z"
   },
   {
    "duration": 795,
    "start_time": "2021-07-29T13:58:09.763Z"
   },
   {
    "duration": 6,
    "start_time": "2021-07-29T13:58:10.561Z"
   },
   {
    "duration": 699,
    "start_time": "2021-07-29T13:58:10.569Z"
   },
   {
    "duration": 527,
    "start_time": "2021-07-29T13:58:11.270Z"
   },
   {
    "duration": 555,
    "start_time": "2021-07-29T13:58:11.800Z"
   },
   {
    "duration": 16,
    "start_time": "2021-07-29T13:58:12.358Z"
   },
   {
    "duration": 20,
    "start_time": "2021-07-29T13:58:12.378Z"
   },
   {
    "duration": 3,
    "start_time": "2021-07-29T13:58:12.400Z"
   },
   {
    "duration": 2682,
    "start_time": "2021-07-29T13:58:12.407Z"
   },
   {
    "duration": 4,
    "start_time": "2021-07-29T13:58:15.091Z"
   },
   {
    "duration": 3179,
    "start_time": "2021-07-29T13:59:04.964Z"
   },
   {
    "duration": 4,
    "start_time": "2021-07-29T13:59:26.613Z"
   },
   {
    "duration": 6,
    "start_time": "2021-07-29T14:10:11.712Z"
   },
   {
    "duration": 9,
    "start_time": "2021-07-29T14:10:11.720Z"
   },
   {
    "duration": 867,
    "start_time": "2021-07-29T14:10:11.731Z"
   },
   {
    "duration": 4,
    "start_time": "2021-07-29T14:10:12.600Z"
   },
   {
    "duration": 11105,
    "start_time": "2021-07-29T14:10:12.606Z"
   },
   {
    "duration": 5,
    "start_time": "2021-07-29T14:10:23.713Z"
   },
   {
    "duration": 70,
    "start_time": "2021-07-29T14:10:23.720Z"
   },
   {
    "duration": 3,
    "start_time": "2021-07-29T14:10:23.792Z"
   },
   {
    "duration": 18,
    "start_time": "2021-07-29T14:10:23.799Z"
   },
   {
    "duration": 241,
    "start_time": "2021-07-29T14:10:23.820Z"
   },
   {
    "duration": 10,
    "start_time": "2021-07-29T14:10:24.063Z"
   },
   {
    "duration": 14,
    "start_time": "2021-07-29T14:10:24.075Z"
   },
   {
    "duration": 15,
    "start_time": "2021-07-29T14:10:24.092Z"
   },
   {
    "duration": 553,
    "start_time": "2021-07-29T14:10:24.109Z"
   },
   {
    "duration": 485,
    "start_time": "2021-07-29T14:10:24.664Z"
   },
   {
    "duration": 8,
    "start_time": "2021-07-29T14:10:25.152Z"
   },
   {
    "duration": 706,
    "start_time": "2021-07-29T14:10:25.162Z"
   },
   {
    "duration": 642,
    "start_time": "2021-07-29T14:10:25.871Z"
   },
   {
    "duration": 531,
    "start_time": "2021-07-29T14:10:26.515Z"
   },
   {
    "duration": 15,
    "start_time": "2021-07-29T14:10:27.055Z"
   },
   {
    "duration": 29,
    "start_time": "2021-07-29T14:10:27.073Z"
   },
   {
    "duration": 3,
    "start_time": "2021-07-29T14:10:27.106Z"
   },
   {
    "duration": 466,
    "start_time": "2021-07-29T14:10:27.112Z"
   },
   {
    "duration": -424,
    "start_time": "2021-07-29T14:10:28.004Z"
   },
   {
    "duration": -425,
    "start_time": "2021-07-29T14:10:28.006Z"
   },
   {
    "duration": 1625,
    "start_time": "2021-07-29T15:47:05.935Z"
   },
   {
    "duration": 3,
    "start_time": "2021-07-29T15:47:07.562Z"
   },
   {
    "duration": 878,
    "start_time": "2021-07-29T15:47:07.568Z"
   },
   {
    "duration": 3,
    "start_time": "2021-07-29T15:47:08.449Z"
   },
   {
    "duration": 12025,
    "start_time": "2021-07-29T15:47:08.454Z"
   },
   {
    "duration": 5,
    "start_time": "2021-07-29T15:47:20.482Z"
   },
   {
    "duration": 108,
    "start_time": "2021-07-29T15:47:20.490Z"
   },
   {
    "duration": 4,
    "start_time": "2021-07-29T15:47:20.602Z"
   },
   {
    "duration": 15,
    "start_time": "2021-07-29T15:47:20.609Z"
   },
   {
    "duration": 253,
    "start_time": "2021-07-29T15:47:20.626Z"
   },
   {
    "duration": 10,
    "start_time": "2021-07-29T15:47:20.881Z"
   },
   {
    "duration": 9,
    "start_time": "2021-07-29T15:47:20.893Z"
   },
   {
    "duration": 9,
    "start_time": "2021-07-29T15:47:20.904Z"
   },
   {
    "duration": 644,
    "start_time": "2021-07-29T15:47:20.916Z"
   },
   {
    "duration": 474,
    "start_time": "2021-07-29T15:47:21.563Z"
   },
   {
    "duration": 6,
    "start_time": "2021-07-29T15:47:22.039Z"
   },
   {
    "duration": 565,
    "start_time": "2021-07-29T15:47:22.056Z"
   },
   {
    "duration": 796,
    "start_time": "2021-07-29T15:47:22.624Z"
   },
   {
    "duration": 798,
    "start_time": "2021-07-29T15:47:23.422Z"
   },
   {
    "duration": 16,
    "start_time": "2021-07-29T15:47:24.223Z"
   },
   {
    "duration": 19,
    "start_time": "2021-07-29T15:47:24.256Z"
   },
   {
    "duration": 4,
    "start_time": "2021-07-29T15:47:24.277Z"
   },
   {
    "duration": 20889,
    "start_time": "2021-07-29T15:47:24.285Z"
   },
   {
    "duration": -416,
    "start_time": "2021-07-29T15:47:45.593Z"
   },
   {
    "duration": -417,
    "start_time": "2021-07-29T15:47:45.595Z"
   },
   {
    "duration": -417,
    "start_time": "2021-07-29T15:47:45.597Z"
   },
   {
    "duration": -419,
    "start_time": "2021-07-29T15:47:45.600Z"
   },
   {
    "duration": -420,
    "start_time": "2021-07-29T15:47:45.603Z"
   },
   {
    "duration": 23,
    "start_time": "2021-07-29T15:47:58.846Z"
   },
   {
    "duration": 3,
    "start_time": "2021-07-29T15:47:58.906Z"
   },
   {
    "duration": 9049,
    "start_time": "2021-07-29T15:47:59.616Z"
   },
   {
    "duration": 287736,
    "start_time": "2021-07-29T15:48:22.995Z"
   },
   {
    "duration": 121,
    "start_time": "2021-07-29T15:53:16.298Z"
   },
   {
    "duration": 5,
    "start_time": "2021-07-29T15:53:28.330Z"
   },
   {
    "duration": 375,
    "start_time": "2021-07-29T15:53:37.942Z"
   },
   {
    "duration": 962,
    "start_time": "2021-07-29T15:53:42.226Z"
   },
   {
    "duration": 7,
    "start_time": "2021-07-29T15:56:38.015Z"
   },
   {
    "duration": 14,
    "start_time": "2021-07-29T15:56:38.025Z"
   },
   {
    "duration": 843,
    "start_time": "2021-07-29T15:56:38.043Z"
   },
   {
    "duration": 5,
    "start_time": "2021-07-29T15:56:38.889Z"
   },
   {
    "duration": 10403,
    "start_time": "2021-07-29T15:56:38.897Z"
   },
   {
    "duration": 5,
    "start_time": "2021-07-29T15:56:49.302Z"
   },
   {
    "duration": 72,
    "start_time": "2021-07-29T15:56:49.309Z"
   },
   {
    "duration": 3,
    "start_time": "2021-07-29T15:56:49.385Z"
   },
   {
    "duration": 15,
    "start_time": "2021-07-29T15:56:49.392Z"
   },
   {
    "duration": 241,
    "start_time": "2021-07-29T15:56:49.409Z"
   },
   {
    "duration": 10,
    "start_time": "2021-07-29T15:56:49.656Z"
   },
   {
    "duration": 18,
    "start_time": "2021-07-29T15:56:49.668Z"
   },
   {
    "duration": 12,
    "start_time": "2021-07-29T15:56:49.689Z"
   },
   {
    "duration": 563,
    "start_time": "2021-07-29T15:56:49.703Z"
   },
   {
    "duration": 489,
    "start_time": "2021-07-29T15:56:50.269Z"
   },
   {
    "duration": 6,
    "start_time": "2021-07-29T15:56:50.761Z"
   },
   {
    "duration": 548,
    "start_time": "2021-07-29T15:56:50.769Z"
   },
   {
    "duration": 531,
    "start_time": "2021-07-29T15:56:51.319Z"
   },
   {
    "duration": 654,
    "start_time": "2021-07-29T15:56:51.852Z"
   },
   {
    "duration": 15,
    "start_time": "2021-07-29T15:56:52.509Z"
   },
   {
    "duration": 43,
    "start_time": "2021-07-29T15:56:52.527Z"
   },
   {
    "duration": 3,
    "start_time": "2021-07-29T15:56:52.572Z"
   },
   {
    "duration": 5,
    "start_time": "2021-07-29T15:56:52.580Z"
   },
   {
    "duration": 475,
    "start_time": "2021-07-29T15:56:52.588Z"
   },
   {
    "duration": -373,
    "start_time": "2021-07-29T15:56:53.439Z"
   },
   {
    "duration": -378,
    "start_time": "2021-07-29T15:56:53.445Z"
   },
   {
    "duration": -380,
    "start_time": "2021-07-29T15:56:53.449Z"
   },
   {
    "duration": -381,
    "start_time": "2021-07-29T15:56:53.451Z"
   },
   {
    "duration": 3,
    "start_time": "2021-07-29T15:57:50.716Z"
   },
   {
    "duration": 5,
    "start_time": "2021-07-29T15:57:51.203Z"
   },
   {
    "duration": 3,
    "start_time": "2021-07-29T15:57:52.012Z"
   },
   {
    "duration": 792,
    "start_time": "2021-07-29T15:57:53.915Z"
   },
   {
    "duration": 5,
    "start_time": "2021-07-29T15:58:47.580Z"
   },
   {
    "duration": 4,
    "start_time": "2021-07-29T15:58:48.228Z"
   },
   {
    "duration": 791,
    "start_time": "2021-07-29T15:58:49.356Z"
   },
   {
    "duration": 5,
    "start_time": "2021-07-29T15:59:22.663Z"
   },
   {
    "duration": 3,
    "start_time": "2021-07-29T15:59:22.884Z"
   },
   {
    "duration": 792,
    "start_time": "2021-07-29T15:59:23.086Z"
   },
   {
    "duration": 6,
    "start_time": "2021-07-29T15:59:32.140Z"
   },
   {
    "duration": 4,
    "start_time": "2021-07-29T15:59:32.189Z"
   },
   {
    "duration": 717,
    "start_time": "2021-07-29T15:59:32.348Z"
   },
   {
    "duration": 7,
    "start_time": "2021-07-29T16:03:33.855Z"
   },
   {
    "duration": 3,
    "start_time": "2021-07-29T16:03:34.918Z"
   },
   {
    "duration": 463,
    "start_time": "2021-07-29T16:03:35.197Z"
   },
   {
    "duration": 496,
    "start_time": "2021-07-29T16:04:33.463Z"
   },
   {
    "duration": 626,
    "start_time": "2021-07-29T16:04:39.641Z"
   },
   {
    "duration": 470,
    "start_time": "2021-07-29T16:07:18.423Z"
   },
   {
    "duration": 5,
    "start_time": "2021-07-29T16:07:21.632Z"
   },
   {
    "duration": 4,
    "start_time": "2021-07-29T16:07:21.932Z"
   },
   {
    "duration": 519,
    "start_time": "2021-07-29T16:07:22.208Z"
   },
   {
    "duration": 815,
    "start_time": "2021-07-29T16:07:33.625Z"
   },
   {
    "duration": 5,
    "start_time": "2021-07-29T16:07:48.561Z"
   },
   {
    "duration": 6,
    "start_time": "2021-07-29T16:07:55.802Z"
   },
   {
    "duration": 509,
    "start_time": "2021-07-29T16:07:56.849Z"
   },
   {
    "duration": 5,
    "start_time": "2021-07-29T16:21:24.941Z"
   },
   {
    "duration": 3,
    "start_time": "2021-07-29T16:21:32.790Z"
   },
   {
    "duration": 802,
    "start_time": "2021-07-29T16:21:33.391Z"
   },
   {
    "duration": 20,
    "start_time": "2021-07-29T16:21:40.895Z"
   },
   {
    "duration": 5,
    "start_time": "2021-07-29T16:21:41.087Z"
   },
   {
    "duration": 19475,
    "start_time": "2021-07-29T16:21:41.255Z"
   },
   {
    "duration": -404,
    "start_time": "2021-07-29T16:22:01.137Z"
   },
   {
    "duration": -404,
    "start_time": "2021-07-29T16:22:01.139Z"
   },
   {
    "duration": -405,
    "start_time": "2021-07-29T16:22:01.141Z"
   },
   {
    "duration": -407,
    "start_time": "2021-07-29T16:22:01.146Z"
   },
   {
    "duration": 5,
    "start_time": "2021-07-29T16:22:04.551Z"
   },
   {
    "duration": 3,
    "start_time": "2021-07-29T16:22:09.577Z"
   },
   {
    "duration": 4,
    "start_time": "2021-07-29T16:22:10.670Z"
   },
   {
    "duration": 5,
    "start_time": "2021-07-29T16:22:54.568Z"
   },
   {
    "duration": 910,
    "start_time": "2021-07-29T16:24:27.714Z"
   },
   {
    "duration": 4,
    "start_time": "2021-07-29T16:25:14.802Z"
   },
   {
    "duration": 922,
    "start_time": "2021-07-29T16:25:15.777Z"
   },
   {
    "duration": 5,
    "start_time": "2021-07-29T16:25:25.634Z"
   },
   {
    "duration": 5,
    "start_time": "2021-07-29T16:25:26.249Z"
   },
   {
    "duration": 822,
    "start_time": "2021-07-29T16:25:32.438Z"
   },
   {
    "duration": 19,
    "start_time": "2021-07-29T16:26:13.306Z"
   },
   {
    "duration": 5,
    "start_time": "2021-07-29T16:26:13.577Z"
   },
   {
    "duration": 5,
    "start_time": "2021-07-29T16:26:13.825Z"
   },
   {
    "duration": 1008,
    "start_time": "2021-07-29T16:26:14.346Z"
   },
   {
    "duration": 6,
    "start_time": "2021-07-29T16:27:03.171Z"
   },
   {
    "duration": 613,
    "start_time": "2021-07-29T16:27:03.651Z"
   },
   {
    "duration": 415,
    "start_time": "2021-07-29T16:28:16.843Z"
   },
   {
    "duration": 5,
    "start_time": "2021-07-29T16:28:26.915Z"
   },
   {
    "duration": 5,
    "start_time": "2021-07-29T16:28:27.090Z"
   },
   {
    "duration": 596,
    "start_time": "2021-07-29T16:28:27.262Z"
   },
   {
    "duration": 4,
    "start_time": "2021-07-29T16:33:05.758Z"
   },
   {
    "duration": 530,
    "start_time": "2021-07-29T16:33:06.725Z"
   },
   {
    "duration": 394,
    "start_time": "2021-07-29T16:34:44.919Z"
   },
   {
    "duration": 481,
    "start_time": "2021-07-29T16:34:51.776Z"
   },
   {
    "duration": 600,
    "start_time": "2021-07-29T16:35:07.662Z"
   },
   {
    "duration": 785,
    "start_time": "2021-07-29T16:35:14.023Z"
   },
   {
    "duration": 528,
    "start_time": "2021-07-29T16:35:18.927Z"
   },
   {
    "duration": 481,
    "start_time": "2021-07-29T16:35:25.079Z"
   },
   {
    "duration": 519,
    "start_time": "2021-07-29T16:35:45.440Z"
   },
   {
    "duration": 538,
    "start_time": "2021-07-29T16:36:05.119Z"
   },
   {
    "duration": 375,
    "start_time": "2021-07-29T16:36:12.487Z"
   },
   {
    "duration": 490,
    "start_time": "2021-07-29T16:36:59.968Z"
   },
   {
    "duration": 5,
    "start_time": "2021-07-29T16:39:26.890Z"
   },
   {
    "duration": 86,
    "start_time": "2021-07-29T16:39:53.601Z"
   },
   {
    "duration": 6,
    "start_time": "2021-07-29T16:39:57.000Z"
   },
   {
    "duration": 85,
    "start_time": "2021-07-29T16:39:58.162Z"
   },
   {
    "duration": 5,
    "start_time": "2021-07-29T16:40:18.861Z"
   },
   {
    "duration": 28297,
    "start_time": "2021-07-29T16:41:43.933Z"
   },
   {
    "duration": -394,
    "start_time": "2021-07-29T16:42:12.627Z"
   },
   {
    "duration": 5,
    "start_time": "2021-07-29T16:42:13.906Z"
   },
   {
    "duration": 277026,
    "start_time": "2021-07-29T16:42:14.930Z"
   },
   {
    "duration": 6,
    "start_time": "2021-07-29T16:54:11.719Z"
   },
   {
    "duration": 139401,
    "start_time": "2021-07-29T16:54:12.303Z"
   },
   {
    "duration": 139443,
    "start_time": "2021-07-29T16:57:07.601Z"
   },
   {
    "duration": 359,
    "start_time": "2021-07-29T16:59:31.665Z"
   },
   {
    "duration": 5,
    "start_time": "2021-07-29T16:59:51.042Z"
   },
   {
    "duration": 380,
    "start_time": "2021-07-29T17:00:02.354Z"
   },
   {
    "duration": 48653,
    "start_time": "2021-07-29T17:00:41.588Z"
   },
   {
    "duration": 5,
    "start_time": "2021-07-29T17:04:52.390Z"
   },
   {
    "duration": 5,
    "start_time": "2021-07-29T17:05:28.645Z"
   },
   {
    "duration": 5,
    "start_time": "2021-07-29T17:23:06.934Z"
   },
   {
    "duration": 4,
    "start_time": "2021-07-29T17:23:09.886Z"
   },
   {
    "duration": 5,
    "start_time": "2021-07-29T17:24:34.494Z"
   },
   {
    "duration": 954,
    "start_time": "2021-07-29T17:24:35.214Z"
   },
   {
    "duration": 5,
    "start_time": "2021-07-29T17:24:55.350Z"
   },
   {
    "duration": 873,
    "start_time": "2021-07-29T17:24:56.110Z"
   },
   {
    "duration": 5,
    "start_time": "2021-07-29T17:25:10.312Z"
   },
   {
    "duration": 614,
    "start_time": "2021-07-29T17:25:10.542Z"
   },
   {
    "duration": 25066,
    "start_time": "2021-07-29T17:26:06.312Z"
   },
   {
    "duration": 4,
    "start_time": "2021-07-29T17:28:44.874Z"
   },
   {
    "duration": 3619,
    "start_time": "2021-07-29T17:28:45.338Z"
   },
   {
    "duration": 3452,
    "start_time": "2021-07-29T17:31:17.609Z"
   },
   {
    "duration": 142931,
    "start_time": "2021-07-29T17:33:50.715Z"
   },
   {
    "duration": 5,
    "start_time": "2021-07-29T17:36:29.699Z"
   },
   {
    "duration": 10,
    "start_time": "2021-07-29T17:36:29.707Z"
   },
   {
    "duration": 880,
    "start_time": "2021-07-29T17:36:29.721Z"
   },
   {
    "duration": 3,
    "start_time": "2021-07-29T17:36:30.604Z"
   },
   {
    "duration": 11505,
    "start_time": "2021-07-29T17:36:30.609Z"
   },
   {
    "duration": 5,
    "start_time": "2021-07-29T17:36:42.117Z"
   },
   {
    "duration": 77,
    "start_time": "2021-07-29T17:36:42.125Z"
   },
   {
    "duration": 4,
    "start_time": "2021-07-29T17:36:42.204Z"
   },
   {
    "duration": 10,
    "start_time": "2021-07-29T17:36:42.211Z"
   },
   {
    "duration": 263,
    "start_time": "2021-07-29T17:36:42.224Z"
   },
   {
    "duration": 9,
    "start_time": "2021-07-29T17:36:42.489Z"
   },
   {
    "duration": 9,
    "start_time": "2021-07-29T17:36:42.501Z"
   },
   {
    "duration": 7,
    "start_time": "2021-07-29T17:36:42.512Z"
   },
   {
    "duration": 631,
    "start_time": "2021-07-29T17:36:42.521Z"
   },
   {
    "duration": 496,
    "start_time": "2021-07-29T17:36:43.154Z"
   },
   {
    "duration": 8,
    "start_time": "2021-07-29T17:36:43.655Z"
   },
   {
    "duration": 594,
    "start_time": "2021-07-29T17:36:43.665Z"
   },
   {
    "duration": 563,
    "start_time": "2021-07-29T17:36:44.261Z"
   },
   {
    "duration": 689,
    "start_time": "2021-07-29T17:36:44.827Z"
   },
   {
    "duration": 16,
    "start_time": "2021-07-29T17:36:45.520Z"
   },
   {
    "duration": 37,
    "start_time": "2021-07-29T17:36:45.538Z"
   },
   {
    "duration": 5,
    "start_time": "2021-07-29T17:36:45.578Z"
   },
   {
    "duration": 10,
    "start_time": "2021-07-29T17:36:45.585Z"
   },
   {
    "duration": 3972,
    "start_time": "2021-07-29T17:36:45.597Z"
   },
   {
    "duration": 84,
    "start_time": "2021-07-29T17:36:49.578Z"
   },
   {
    "duration": 376059,
    "start_time": "2021-07-29T17:36:49.668Z"
   },
   {
    "duration": 3,
    "start_time": "2021-07-29T17:43:05.731Z"
   },
   {
    "duration": 19,
    "start_time": "2021-07-29T17:43:05.737Z"
   },
   {
    "duration": 618,
    "start_time": "2021-07-29T17:45:12.900Z"
   },
   {
    "duration": 542,
    "start_time": "2021-07-29T17:45:13.521Z"
   },
   {
    "duration": 591,
    "start_time": "2021-07-29T17:46:28.098Z"
   },
   {
    "duration": 605,
    "start_time": "2021-07-29T17:46:36.697Z"
   },
   {
    "duration": 546,
    "start_time": "2021-07-29T17:48:22.994Z"
   },
   {
    "duration": 929,
    "start_time": "2021-07-29T17:50:39.155Z"
   },
   {
    "duration": 4752,
    "start_time": "2021-07-29T17:58:34.206Z"
   },
   {
    "duration": 4280,
    "start_time": "2021-07-29T17:58:42.087Z"
   },
   {
    "duration": 7436,
    "start_time": "2021-07-29T17:59:34.121Z"
   },
   {
    "duration": 25,
    "start_time": "2021-07-29T18:42:38.373Z"
   },
   {
    "duration": 4,
    "start_time": "2021-07-29T18:42:39.780Z"
   },
   {
    "duration": 5,
    "start_time": "2021-07-29T18:42:40.337Z"
   },
   {
    "duration": 6532,
    "start_time": "2021-07-29T18:42:41.831Z"
   },
   {
    "duration": 6050,
    "start_time": "2021-07-29T18:43:51.477Z"
   },
   {
    "duration": -360,
    "start_time": "2021-07-29T18:43:57.891Z"
   },
   {
    "duration": -361,
    "start_time": "2021-07-29T18:43:57.894Z"
   },
   {
    "duration": 7701,
    "start_time": "2021-07-29T18:44:00.671Z"
   },
   {
    "duration": 98,
    "start_time": "2021-07-29T18:44:08.458Z"
   },
   {
    "duration": 366359,
    "start_time": "2021-07-29T18:44:08.560Z"
   },
   {
    "duration": 127,
    "start_time": "2021-07-29T18:51:42.140Z"
   },
   {
    "duration": 3676,
    "start_time": "2021-07-29T18:51:50.218Z"
   },
   {
    "duration": 7141,
    "start_time": "2021-07-29T18:51:59.878Z"
   },
   {
    "duration": 7196,
    "start_time": "2021-07-29T18:52:42.465Z"
   },
   {
    "duration": 6,
    "start_time": "2021-07-29T18:53:45.420Z"
   },
   {
    "duration": 7594,
    "start_time": "2021-07-29T18:54:22.165Z"
   },
   {
    "duration": 483,
    "start_time": "2021-07-29T18:54:29.765Z"
   },
   {
    "duration": -320,
    "start_time": "2021-07-29T18:54:30.572Z"
   },
   {
    "duration": 7,
    "start_time": "2021-07-29T18:54:38.775Z"
   },
   {
    "duration": 276049,
    "start_time": "2021-07-29T18:54:39.842Z"
   },
   {
    "duration": 6,
    "start_time": "2021-07-29T19:03:52.718Z"
   },
   {
    "duration": 133,
    "start_time": "2021-07-29T19:03:56.487Z"
   },
   {
    "duration": 129,
    "start_time": "2021-07-29T19:04:12.649Z"
   },
   {
    "duration": 122,
    "start_time": "2021-07-29T19:04:31.609Z"
   },
   {
    "duration": 330473,
    "start_time": "2021-07-29T19:04:42.047Z"
   },
   {
    "duration": 4,
    "start_time": "2021-07-29T19:13:56.164Z"
   },
   {
    "duration": 3,
    "start_time": "2021-07-29T19:13:58.915Z"
   },
   {
    "duration": 6,
    "start_time": "2021-07-29T19:19:38.118Z"
   },
   {
    "duration": 1443836,
    "start_time": "2021-07-29T19:19:40.802Z"
   },
   {
    "duration": 10,
    "start_time": "2021-07-29T19:43:46.628Z"
   },
   {
    "duration": 11,
    "start_time": "2021-07-29T19:44:03.934Z"
   },
   {
    "duration": 1750,
    "start_time": "2021-07-29T19:45:42.037Z"
   },
   {
    "duration": 3,
    "start_time": "2021-07-29T19:45:43.789Z"
   },
   {
    "duration": 911,
    "start_time": "2021-07-29T19:45:43.796Z"
   },
   {
    "duration": 4,
    "start_time": "2021-07-29T19:45:44.709Z"
   },
   {
    "duration": 10235,
    "start_time": "2021-07-29T19:45:44.715Z"
   },
   {
    "duration": 4,
    "start_time": "2021-07-29T19:45:54.955Z"
   },
   {
    "duration": 122,
    "start_time": "2021-07-29T19:45:54.963Z"
   },
   {
    "duration": 4,
    "start_time": "2021-07-29T19:45:55.088Z"
   },
   {
    "duration": 11,
    "start_time": "2021-07-29T19:45:55.097Z"
   },
   {
    "duration": 263,
    "start_time": "2021-07-29T19:45:55.112Z"
   },
   {
    "duration": 10,
    "start_time": "2021-07-29T19:45:55.379Z"
   },
   {
    "duration": 7,
    "start_time": "2021-07-29T19:45:55.392Z"
   },
   {
    "duration": 909,
    "start_time": "2021-07-29T19:45:55.402Z"
   },
   {
    "duration": 596,
    "start_time": "2021-07-29T19:45:56.313Z"
   },
   {
    "duration": 517,
    "start_time": "2021-07-29T19:45:56.911Z"
   },
   {
    "duration": 6,
    "start_time": "2021-07-29T19:45:57.431Z"
   },
   {
    "duration": 632,
    "start_time": "2021-07-29T19:45:57.440Z"
   },
   {
    "duration": 585,
    "start_time": "2021-07-29T19:45:58.075Z"
   },
   {
    "duration": 559,
    "start_time": "2021-07-29T19:45:58.663Z"
   },
   {
    "duration": 16,
    "start_time": "2021-07-29T19:45:59.225Z"
   },
   {
    "duration": 30,
    "start_time": "2021-07-29T19:45:59.256Z"
   },
   {
    "duration": 5,
    "start_time": "2021-07-29T19:45:59.289Z"
   },
   {
    "duration": 13,
    "start_time": "2021-07-29T19:45:59.297Z"
   },
   {
    "duration": 7646,
    "start_time": "2021-07-29T19:45:59.313Z"
   },
   {
    "duration": 8,
    "start_time": "2021-07-29T19:46:06.962Z"
   },
   {
    "duration": 324109,
    "start_time": "2021-07-29T19:46:06.972Z"
   },
   {
    "duration": -760,
    "start_time": "2021-07-29T19:51:31.844Z"
   },
   {
    "duration": -761,
    "start_time": "2021-07-29T19:51:31.846Z"
   },
   {
    "duration": 5,
    "start_time": "2021-07-29T19:51:31.632Z"
   },
   {
    "duration": 7,
    "start_time": "2021-07-29T19:51:31.641Z"
   },
   {
    "duration": 897,
    "start_time": "2021-07-29T19:51:31.651Z"
   },
   {
    "duration": 5,
    "start_time": "2021-07-29T19:51:32.551Z"
   },
   {
    "duration": 1995,
    "start_time": "2021-07-29T19:52:06.943Z"
   },
   {
    "duration": 4,
    "start_time": "2021-07-29T19:52:08.941Z"
   },
   {
    "duration": 904,
    "start_time": "2021-07-29T19:52:08.965Z"
   },
   {
    "duration": 4,
    "start_time": "2021-07-29T19:52:09.871Z"
   },
   {
    "duration": 10768,
    "start_time": "2021-07-29T19:52:09.878Z"
   },
   {
    "duration": 7,
    "start_time": "2021-07-29T19:52:20.649Z"
   },
   {
    "duration": 61,
    "start_time": "2021-07-29T19:52:20.661Z"
   },
   {
    "duration": 32,
    "start_time": "2021-07-29T19:52:20.725Z"
   },
   {
    "duration": 14,
    "start_time": "2021-07-29T19:52:20.759Z"
   },
   {
    "duration": 251,
    "start_time": "2021-07-29T19:52:20.776Z"
   },
   {
    "duration": 10,
    "start_time": "2021-07-29T19:52:21.029Z"
   },
   {
    "duration": 4,
    "start_time": "2021-07-29T19:52:21.056Z"
   },
   {
    "duration": 878,
    "start_time": "2021-07-29T19:52:21.063Z"
   },
   {
    "duration": 642,
    "start_time": "2021-07-29T19:52:21.943Z"
   },
   {
    "duration": 548,
    "start_time": "2021-07-29T19:52:22.587Z"
   },
   {
    "duration": 18,
    "start_time": "2021-07-29T19:52:23.138Z"
   },
   {
    "duration": 612,
    "start_time": "2021-07-29T19:52:23.158Z"
   },
   {
    "duration": 557,
    "start_time": "2021-07-29T19:52:23.774Z"
   },
   {
    "duration": 683,
    "start_time": "2021-07-29T19:52:24.333Z"
   },
   {
    "duration": 16,
    "start_time": "2021-07-29T19:52:25.018Z"
   },
   {
    "duration": 28,
    "start_time": "2021-07-29T19:52:25.056Z"
   },
   {
    "duration": 7,
    "start_time": "2021-07-29T19:52:25.087Z"
   },
   {
    "duration": 7,
    "start_time": "2021-07-29T19:52:25.097Z"
   },
   {
    "duration": 7574,
    "start_time": "2021-07-29T19:52:25.107Z"
   },
   {
    "duration": 9,
    "start_time": "2021-07-29T19:52:32.761Z"
   },
   {
    "duration": 656525,
    "start_time": "2021-07-29T19:52:32.773Z"
   },
   {
    "duration": -667,
    "start_time": "2021-07-29T20:03:29.967Z"
   },
   {
    "duration": -668,
    "start_time": "2021-07-29T20:03:29.970Z"
   },
   {
    "duration": -670,
    "start_time": "2021-07-29T20:03:29.973Z"
   },
   {
    "duration": 6,
    "start_time": "2021-07-29T20:03:29.756Z"
   },
   {
    "duration": 10,
    "start_time": "2021-07-29T20:03:29.764Z"
   },
   {
    "duration": 953,
    "start_time": "2021-07-29T20:03:29.777Z"
   },
   {
    "duration": 3,
    "start_time": "2021-07-29T20:03:30.733Z"
   },
   {
    "duration": 4639,
    "start_time": "2021-07-29T20:03:30.739Z"
   },
   {
    "duration": -3987,
    "start_time": "2021-07-29T20:03:39.368Z"
   },
   {
    "duration": -3987,
    "start_time": "2021-07-29T20:03:39.370Z"
   },
   {
    "duration": -3987,
    "start_time": "2021-07-29T20:03:39.372Z"
   },
   {
    "duration": -3985,
    "start_time": "2021-07-29T20:03:39.373Z"
   },
   {
    "duration": -3986,
    "start_time": "2021-07-29T20:03:39.375Z"
   },
   {
    "duration": -3986,
    "start_time": "2021-07-29T20:03:39.377Z"
   },
   {
    "duration": -3985,
    "start_time": "2021-07-29T20:03:39.378Z"
   },
   {
    "duration": -3986,
    "start_time": "2021-07-29T20:03:39.380Z"
   },
   {
    "duration": -4004,
    "start_time": "2021-07-29T20:03:39.399Z"
   },
   {
    "duration": -4004,
    "start_time": "2021-07-29T20:03:39.401Z"
   },
   {
    "duration": -4005,
    "start_time": "2021-07-29T20:03:39.403Z"
   },
   {
    "duration": -4006,
    "start_time": "2021-07-29T20:03:39.405Z"
   },
   {
    "duration": -4008,
    "start_time": "2021-07-29T20:03:39.408Z"
   },
   {
    "duration": -4010,
    "start_time": "2021-07-29T20:03:39.412Z"
   },
   {
    "duration": -4013,
    "start_time": "2021-07-29T20:03:39.416Z"
   },
   {
    "duration": -4014,
    "start_time": "2021-07-29T20:03:39.418Z"
   },
   {
    "duration": -4014,
    "start_time": "2021-07-29T20:03:39.420Z"
   },
   {
    "duration": -4016,
    "start_time": "2021-07-29T20:03:39.423Z"
   },
   {
    "duration": -4018,
    "start_time": "2021-07-29T20:03:39.426Z"
   },
   {
    "duration": -4018,
    "start_time": "2021-07-29T20:03:39.428Z"
   },
   {
    "duration": -4019,
    "start_time": "2021-07-29T20:03:39.430Z"
   },
   {
    "duration": -4021,
    "start_time": "2021-07-29T20:03:39.433Z"
   },
   {
    "duration": -4021,
    "start_time": "2021-07-29T20:03:39.434Z"
   },
   {
    "duration": -4022,
    "start_time": "2021-07-29T20:03:39.437Z"
   },
   {
    "duration": 6,
    "start_time": "2021-07-29T20:03:42.952Z"
   },
   {
    "duration": 14,
    "start_time": "2021-07-29T20:03:42.962Z"
   },
   {
    "duration": 904,
    "start_time": "2021-07-29T20:03:42.980Z"
   },
   {
    "duration": 4,
    "start_time": "2021-07-29T20:03:43.887Z"
   },
   {
    "duration": 10389,
    "start_time": "2021-07-29T20:03:43.894Z"
   },
   {
    "duration": 5,
    "start_time": "2021-07-29T20:03:54.286Z"
   },
   {
    "duration": 88,
    "start_time": "2021-07-29T20:03:54.295Z"
   },
   {
    "duration": 3,
    "start_time": "2021-07-29T20:03:54.387Z"
   },
   {
    "duration": 11,
    "start_time": "2021-07-29T20:03:54.396Z"
   },
   {
    "duration": 272,
    "start_time": "2021-07-29T20:03:54.411Z"
   },
   {
    "duration": 10,
    "start_time": "2021-07-29T20:03:54.687Z"
   },
   {
    "duration": 8,
    "start_time": "2021-07-29T20:03:54.700Z"
   },
   {
    "duration": 897,
    "start_time": "2021-07-29T20:03:54.711Z"
   },
   {
    "duration": 602,
    "start_time": "2021-07-29T20:03:55.611Z"
   },
   {
    "duration": 594,
    "start_time": "2021-07-29T20:03:56.216Z"
   },
   {
    "duration": 5,
    "start_time": "2021-07-29T20:03:56.814Z"
   },
   {
    "duration": 551,
    "start_time": "2021-07-29T20:03:56.822Z"
   },
   {
    "duration": 533,
    "start_time": "2021-07-29T20:03:57.375Z"
   },
   {
    "duration": 545,
    "start_time": "2021-07-29T20:03:57.910Z"
   },
   {
    "duration": 15,
    "start_time": "2021-07-29T20:03:58.458Z"
   },
   {
    "duration": 27,
    "start_time": "2021-07-29T20:03:58.475Z"
   },
   {
    "duration": 11,
    "start_time": "2021-07-29T20:03:58.504Z"
   },
   {
    "duration": 6,
    "start_time": "2021-07-29T20:03:58.517Z"
   },
   {
    "duration": 6806,
    "start_time": "2021-07-29T20:03:58.556Z"
   },
   {
    "duration": 93,
    "start_time": "2021-07-29T20:04:05.366Z"
   },
   {
    "duration": 155518,
    "start_time": "2021-07-29T20:04:05.462Z"
   },
   {
    "duration": 55642,
    "start_time": "2021-07-29T20:06:40.984Z"
   },
   {
    "duration": -819,
    "start_time": "2021-07-29T20:07:37.447Z"
   },
   {
    "duration": -820,
    "start_time": "2021-07-29T20:07:37.450Z"
   },
   {
    "duration": 493,
    "start_time": "2021-07-29T20:09:59.755Z"
   },
   {
    "duration": 56797,
    "start_time": "2021-07-29T20:10:01.750Z"
   },
   {
    "duration": 6,
    "start_time": "2021-07-29T20:11:43.799Z"
   },
   {
    "duration": 7,
    "start_time": "2021-07-29T20:11:50.558Z"
   },
   {
    "duration": 7,
    "start_time": "2021-07-29T20:11:58.383Z"
   },
   {
    "duration": 157274,
    "start_time": "2021-07-29T20:12:00.973Z"
   },
   {
    "duration": 29609,
    "start_time": "2021-07-29T20:14:38.250Z"
   },
   {
    "duration": 53946,
    "start_time": "2021-07-29T20:15:07.862Z"
   },
   {
    "duration": 5,
    "start_time": "2021-07-29T20:16:31.721Z"
   },
   {
    "duration": 5,
    "start_time": "2021-07-29T20:16:49.221Z"
   },
   {
    "duration": 393,
    "start_time": "2021-07-29T20:24:06.683Z"
   },
   {
    "duration": 406,
    "start_time": "2021-07-29T20:24:40.915Z"
   },
   {
    "duration": 414,
    "start_time": "2021-07-29T20:24:57.925Z"
   },
   {
    "duration": 180,
    "start_time": "2021-07-29T20:26:02.361Z"
   },
   {
    "duration": 362,
    "start_time": "2021-07-29T20:26:06.023Z"
   },
   {
    "duration": 6,
    "start_time": "2021-07-29T20:28:20.335Z"
   },
   {
    "duration": 770,
    "start_time": "2021-07-29T20:28:21.710Z"
   },
   {
    "duration": 37,
    "start_time": "2021-07-29T20:30:48.191Z"
   },
   {
    "duration": 58,
    "start_time": "2021-07-29T20:31:48.791Z"
   },
   {
    "duration": 47,
    "start_time": "2021-07-29T20:32:00.442Z"
   },
   {
    "duration": 39,
    "start_time": "2021-07-29T20:32:31.688Z"
   },
   {
    "duration": 384,
    "start_time": "2021-07-29T20:32:43.801Z"
   },
   {
    "duration": 26,
    "start_time": "2021-07-29T20:32:50.553Z"
   },
   {
    "duration": 5,
    "start_time": "2021-07-29T20:32:50.735Z"
   },
   {
    "duration": 5,
    "start_time": "2021-07-29T20:32:51.047Z"
   },
   {
    "duration": 6627,
    "start_time": "2021-07-29T20:32:51.234Z"
   },
   {
    "duration": 92,
    "start_time": "2021-07-29T20:32:57.865Z"
   },
   {
    "duration": 153774,
    "start_time": "2021-07-29T20:32:57.960Z"
   },
   {
    "duration": 28988,
    "start_time": "2021-07-29T20:35:31.737Z"
   },
   {
    "duration": 53622,
    "start_time": "2021-07-29T20:36:00.727Z"
   },
   {
    "duration": 6,
    "start_time": "2021-07-29T20:36:54.352Z"
   },
   {
    "duration": 409,
    "start_time": "2021-07-29T20:36:54.360Z"
   },
   {
    "duration": 34,
    "start_time": "2021-07-29T20:38:19.229Z"
   },
   {
    "duration": 33,
    "start_time": "2021-07-29T20:39:52.676Z"
   },
   {
    "duration": 355,
    "start_time": "2021-07-29T20:40:27.964Z"
   },
   {
    "duration": 728,
    "start_time": "2021-07-29T20:40:34.084Z"
   },
   {
    "duration": 362,
    "start_time": "2021-07-29T20:46:51.319Z"
   },
   {
    "duration": 377,
    "start_time": "2021-07-29T20:47:00.727Z"
   },
   {
    "duration": 778,
    "start_time": "2021-07-29T20:49:01.472Z"
   },
   {
    "duration": 841,
    "start_time": "2021-07-29T20:58:28.284Z"
   },
   {
    "duration": 797,
    "start_time": "2021-07-29T20:59:02.052Z"
   },
   {
    "duration": 822,
    "start_time": "2021-07-29T20:59:28.782Z"
   },
   {
    "duration": 69,
    "start_time": "2021-07-29T20:59:56.918Z"
   },
   {
    "duration": 118,
    "start_time": "2021-07-29T21:03:06.052Z"
   },
   {
    "duration": 139,
    "start_time": "2021-07-29T21:03:10.250Z"
   },
   {
    "duration": 38,
    "start_time": "2021-07-29T21:03:14.512Z"
   },
   {
    "duration": 43,
    "start_time": "2021-07-29T21:03:21.247Z"
   },
   {
    "duration": 41,
    "start_time": "2021-07-29T21:03:26.268Z"
   },
   {
    "duration": 734,
    "start_time": "2021-07-29T21:03:31.174Z"
   },
   {
    "duration": 27,
    "start_time": "2021-07-29T21:03:56.649Z"
   },
   {
    "duration": 37,
    "start_time": "2021-07-29T21:04:34.839Z"
   },
   {
    "duration": 757,
    "start_time": "2021-07-29T21:04:40.791Z"
   },
   {
    "duration": 49,
    "start_time": "2021-07-29T21:05:20.713Z"
   },
   {
    "duration": 34,
    "start_time": "2021-07-29T21:06:02.975Z"
   },
   {
    "duration": 755,
    "start_time": "2021-07-29T21:06:07.636Z"
   },
   {
    "duration": 742,
    "start_time": "2021-07-29T21:06:52.481Z"
   },
   {
    "duration": 34,
    "start_time": "2021-07-29T21:06:59.585Z"
   },
   {
    "duration": 34,
    "start_time": "2021-07-29T21:07:11.384Z"
   },
   {
    "duration": 477,
    "start_time": "2021-07-29T21:09:01.266Z"
   },
   {
    "duration": 10428,
    "start_time": "2021-07-29T21:09:44.195Z"
   },
   {
    "duration": 66,
    "start_time": "2021-07-29T21:10:35.386Z"
   },
   {
    "duration": 72,
    "start_time": "2021-07-29T21:10:44.434Z"
   },
   {
    "duration": 1402,
    "start_time": "2021-07-30T05:43:45.742Z"
   },
   {
    "duration": 880,
    "start_time": "2021-07-30T05:43:50.426Z"
   },
   {
    "duration": 4,
    "start_time": "2021-07-30T05:44:31.146Z"
   },
   {
    "duration": 10931,
    "start_time": "2021-07-30T05:44:33.744Z"
   },
   {
    "duration": 7,
    "start_time": "2021-07-30T05:44:44.678Z"
   },
   {
    "duration": 57,
    "start_time": "2021-07-30T05:45:28.286Z"
   },
   {
    "duration": 9,
    "start_time": "2021-07-30T05:51:30.132Z"
   },
   {
    "duration": 275,
    "start_time": "2021-07-30T05:51:31.590Z"
   },
   {
    "duration": 9,
    "start_time": "2021-07-30T05:54:25.857Z"
   },
   {
    "duration": 4,
    "start_time": "2021-07-30T05:54:26.322Z"
   },
   {
    "duration": 835,
    "start_time": "2021-07-30T05:54:26.519Z"
   },
   {
    "duration": 578,
    "start_time": "2021-07-30T05:54:27.429Z"
   },
   {
    "duration": 508,
    "start_time": "2021-07-30T05:54:28.010Z"
   },
   {
    "duration": 6,
    "start_time": "2021-07-30T05:54:28.521Z"
   },
   {
    "duration": 589,
    "start_time": "2021-07-30T05:54:28.530Z"
   },
   {
    "duration": 532,
    "start_time": "2021-07-30T05:54:29.122Z"
   },
   {
    "duration": 560,
    "start_time": "2021-07-30T05:54:29.656Z"
   },
   {
    "duration": 17,
    "start_time": "2021-07-30T05:54:30.219Z"
   },
   {
    "duration": 28,
    "start_time": "2021-07-30T05:58:59.462Z"
   },
   {
    "duration": 5,
    "start_time": "2021-07-30T05:59:01.229Z"
   },
   {
    "duration": 5,
    "start_time": "2021-07-30T05:59:02.132Z"
   },
   {
    "duration": 6866,
    "start_time": "2021-07-30T05:59:09.216Z"
   },
   {
    "duration": 6,
    "start_time": "2021-07-30T06:01:14.065Z"
   },
   {
    "duration": 154601,
    "start_time": "2021-07-30T06:01:15.156Z"
   },
   {
    "duration": 30596,
    "start_time": "2021-07-30T06:03:49.759Z"
   },
   {
    "duration": 59110,
    "start_time": "2021-07-30T06:04:20.358Z"
   },
   {
    "duration": 12,
    "start_time": "2021-07-30T06:05:19.471Z"
   },
   {
    "duration": 68,
    "start_time": "2021-07-30T06:05:19.487Z"
   },
   {
    "duration": 1661,
    "start_time": "2021-07-30T09:51:36.669Z"
   },
   {
    "duration": 5,
    "start_time": "2021-07-30T09:52:12.266Z"
   },
   {
    "duration": 545,
    "start_time": "2021-07-30T09:52:15.565Z"
   },
   {
    "duration": 4,
    "start_time": "2021-07-30T09:52:53.128Z"
   },
   {
    "duration": 409,
    "start_time": "2021-07-30T09:52:53.509Z"
   },
   {
    "duration": 149,
    "start_time": "2021-07-30T09:53:33.221Z"
   },
   {
    "duration": 431,
    "start_time": "2021-07-30T09:53:33.517Z"
   },
   {
    "duration": 6,
    "start_time": "2021-07-30T09:53:41.086Z"
   },
   {
    "duration": 690,
    "start_time": "2021-07-30T09:53:42.463Z"
   },
   {
    "duration": 539,
    "start_time": "2021-07-30T09:53:49.206Z"
   },
   {
    "duration": -139,
    "start_time": "2021-07-30T09:53:49.886Z"
   },
   {
    "duration": 6,
    "start_time": "2021-07-30T09:53:53.171Z"
   },
   {
    "duration": 15,
    "start_time": "2021-07-30T09:53:53.179Z"
   },
   {
    "duration": 917,
    "start_time": "2021-07-30T09:53:53.198Z"
   },
   {
    "duration": 3,
    "start_time": "2021-07-30T09:53:54.118Z"
   },
   {
    "duration": 11341,
    "start_time": "2021-07-30T09:53:54.124Z"
   },
   {
    "duration": 4,
    "start_time": "2021-07-30T09:54:05.468Z"
   },
   {
    "duration": 74,
    "start_time": "2021-07-30T09:54:05.474Z"
   },
   {
    "duration": 3,
    "start_time": "2021-07-30T09:54:05.552Z"
   },
   {
    "duration": 32,
    "start_time": "2021-07-30T09:54:05.558Z"
   },
   {
    "duration": 298,
    "start_time": "2021-07-30T09:54:05.594Z"
   },
   {
    "duration": 12,
    "start_time": "2021-07-30T09:54:05.894Z"
   },
   {
    "duration": 7,
    "start_time": "2021-07-30T09:54:05.909Z"
   },
   {
    "duration": 832,
    "start_time": "2021-07-30T09:54:05.918Z"
   },
   {
    "duration": -140,
    "start_time": "2021-07-30T09:54:06.893Z"
   },
   {
    "duration": -140,
    "start_time": "2021-07-30T09:54:06.895Z"
   },
   {
    "duration": -142,
    "start_time": "2021-07-30T09:54:06.898Z"
   },
   {
    "duration": -604,
    "start_time": "2021-07-30T09:54:07.361Z"
   },
   {
    "duration": -604,
    "start_time": "2021-07-30T09:54:07.363Z"
   },
   {
    "duration": -606,
    "start_time": "2021-07-30T09:54:07.366Z"
   },
   {
    "duration": -607,
    "start_time": "2021-07-30T09:54:07.368Z"
   },
   {
    "duration": -608,
    "start_time": "2021-07-30T09:54:07.370Z"
   },
   {
    "duration": -608,
    "start_time": "2021-07-30T09:54:07.372Z"
   },
   {
    "duration": -609,
    "start_time": "2021-07-30T09:54:07.374Z"
   },
   {
    "duration": -610,
    "start_time": "2021-07-30T09:54:07.376Z"
   },
   {
    "duration": -610,
    "start_time": "2021-07-30T09:54:07.378Z"
   },
   {
    "duration": -611,
    "start_time": "2021-07-30T09:54:07.380Z"
   },
   {
    "duration": -612,
    "start_time": "2021-07-30T09:54:07.382Z"
   },
   {
    "duration": -612,
    "start_time": "2021-07-30T09:54:07.384Z"
   },
   {
    "duration": -613,
    "start_time": "2021-07-30T09:54:07.386Z"
   },
   {
    "duration": -613,
    "start_time": "2021-07-30T09:54:07.388Z"
   },
   {
    "duration": 5,
    "start_time": "2021-07-30T09:58:22.716Z"
   },
   {
    "duration": 809,
    "start_time": "2021-07-30T09:58:23.870Z"
   },
   {
    "duration": 5,
    "start_time": "2021-07-30T09:59:06.419Z"
   },
   {
    "duration": 860,
    "start_time": "2021-07-30T09:59:07.902Z"
   },
   {
    "duration": 5,
    "start_time": "2021-07-30T09:59:30.386Z"
   },
   {
    "duration": 1092,
    "start_time": "2021-07-30T09:59:31.780Z"
   },
   {
    "duration": 4,
    "start_time": "2021-07-30T10:00:05.060Z"
   },
   {
    "duration": 824,
    "start_time": "2021-07-30T10:00:05.091Z"
   },
   {
    "duration": 6,
    "start_time": "2021-07-30T10:00:16.239Z"
   },
   {
    "duration": 4,
    "start_time": "2021-07-30T10:00:27.961Z"
   },
   {
    "duration": 1161,
    "start_time": "2021-07-30T10:00:28.161Z"
   },
   {
    "duration": 4,
    "start_time": "2021-07-30T10:02:32.128Z"
   },
   {
    "duration": 867,
    "start_time": "2021-07-30T10:02:35.290Z"
   },
   {
    "duration": 480,
    "start_time": "2021-07-30T10:15:30.728Z"
   },
   {
    "duration": 138,
    "start_time": "2021-07-30T10:16:25.547Z"
   },
   {
    "duration": -145,
    "start_time": "2021-07-30T10:16:25.836Z"
   },
   {
    "duration": -147,
    "start_time": "2021-07-30T10:16:25.841Z"
   },
   {
    "duration": -148,
    "start_time": "2021-07-30T10:16:25.844Z"
   },
   {
    "duration": -151,
    "start_time": "2021-07-30T10:16:25.849Z"
   },
   {
    "duration": -153,
    "start_time": "2021-07-30T10:16:25.853Z"
   },
   {
    "duration": -154,
    "start_time": "2021-07-30T10:16:25.856Z"
   },
   {
    "duration": -153,
    "start_time": "2021-07-30T10:16:25.857Z"
   },
   {
    "duration": -156,
    "start_time": "2021-07-30T10:16:25.861Z"
   },
   {
    "duration": -157,
    "start_time": "2021-07-30T10:16:25.864Z"
   },
   {
    "duration": -158,
    "start_time": "2021-07-30T10:16:25.867Z"
   },
   {
    "duration": -159,
    "start_time": "2021-07-30T10:16:25.869Z"
   },
   {
    "duration": -162,
    "start_time": "2021-07-30T10:16:25.873Z"
   },
   {
    "duration": -168,
    "start_time": "2021-07-30T10:16:25.881Z"
   },
   {
    "duration": -169,
    "start_time": "2021-07-30T10:16:25.883Z"
   },
   {
    "duration": -169,
    "start_time": "2021-07-30T10:16:25.885Z"
   },
   {
    "duration": -491,
    "start_time": "2021-07-30T10:16:26.208Z"
   },
   {
    "duration": -491,
    "start_time": "2021-07-30T10:16:26.210Z"
   },
   {
    "duration": -493,
    "start_time": "2021-07-30T10:16:26.213Z"
   },
   {
    "duration": -493,
    "start_time": "2021-07-30T10:16:26.215Z"
   },
   {
    "duration": -494,
    "start_time": "2021-07-30T10:16:26.217Z"
   },
   {
    "duration": -495,
    "start_time": "2021-07-30T10:16:26.221Z"
   },
   {
    "duration": -439,
    "start_time": "2021-07-30T10:16:26.223Z"
   },
   {
    "duration": -438,
    "start_time": "2021-07-30T10:16:26.225Z"
   },
   {
    "duration": -440,
    "start_time": "2021-07-30T10:16:26.229Z"
   },
   {
    "duration": -440,
    "start_time": "2021-07-30T10:16:26.231Z"
   },
   {
    "duration": -440,
    "start_time": "2021-07-30T10:16:26.234Z"
   },
   {
    "duration": -440,
    "start_time": "2021-07-30T10:16:26.236Z"
   },
   {
    "duration": -441,
    "start_time": "2021-07-30T10:16:26.239Z"
   },
   {
    "duration": -447,
    "start_time": "2021-07-30T10:16:26.248Z"
   },
   {
    "duration": -447,
    "start_time": "2021-07-30T10:16:26.250Z"
   },
   {
    "duration": -447,
    "start_time": "2021-07-30T10:16:26.252Z"
   },
   {
    "duration": 8,
    "start_time": "2021-07-30T10:16:42.180Z"
   },
   {
    "duration": 8,
    "start_time": "2021-07-30T10:16:42.192Z"
   },
   {
    "duration": 1298,
    "start_time": "2021-07-30T10:16:42.204Z"
   },
   {
    "duration": 5,
    "start_time": "2021-07-30T10:16:43.505Z"
   },
   {
    "duration": 19264,
    "start_time": "2021-07-30T10:16:43.513Z"
   },
   {
    "duration": 9,
    "start_time": "2021-07-30T10:17:02.781Z"
   },
   {
    "duration": 108,
    "start_time": "2021-07-30T10:17:02.794Z"
   },
   {
    "duration": 4,
    "start_time": "2021-07-30T10:17:02.904Z"
   },
   {
    "duration": 15,
    "start_time": "2021-07-30T10:17:02.914Z"
   },
   {
    "duration": 302,
    "start_time": "2021-07-30T10:17:02.932Z"
   },
   {
    "duration": 8,
    "start_time": "2021-07-30T10:17:03.237Z"
   },
   {
    "duration": 42,
    "start_time": "2021-07-30T10:17:03.248Z"
   },
   {
    "duration": 810,
    "start_time": "2021-07-30T10:17:03.292Z"
   },
   {
    "duration": 681,
    "start_time": "2021-07-30T10:17:04.104Z"
   },
   {
    "duration": 771,
    "start_time": "2021-07-30T10:17:04.789Z"
   },
   {
    "duration": 8,
    "start_time": "2021-07-30T10:17:05.563Z"
   },
   {
    "duration": 900,
    "start_time": "2021-07-30T10:17:05.574Z"
   },
   {
    "duration": 568,
    "start_time": "2021-07-30T10:17:06.477Z"
   },
   {
    "duration": 654,
    "start_time": "2021-07-30T10:17:07.047Z"
   },
   {
    "duration": 17,
    "start_time": "2021-07-30T10:17:07.704Z"
   },
   {
    "duration": 28,
    "start_time": "2021-07-30T10:17:07.723Z"
   },
   {
    "duration": 32,
    "start_time": "2021-07-30T10:17:07.754Z"
   },
   {
    "duration": 9,
    "start_time": "2021-07-30T10:17:07.788Z"
   },
   {
    "duration": 8408,
    "start_time": "2021-07-30T10:17:07.800Z"
   },
   {
    "duration": 139,
    "start_time": "2021-07-30T10:17:16.212Z"
   },
   {
    "duration": -124,
    "start_time": "2021-07-30T10:17:16.478Z"
   },
   {
    "duration": -125,
    "start_time": "2021-07-30T10:17:16.480Z"
   },
   {
    "duration": -125,
    "start_time": "2021-07-30T10:17:16.482Z"
   },
   {
    "duration": -127,
    "start_time": "2021-07-30T10:17:16.485Z"
   },
   {
    "duration": -129,
    "start_time": "2021-07-30T10:17:16.488Z"
   },
   {
    "duration": -141,
    "start_time": "2021-07-30T10:17:16.502Z"
   },
   {
    "duration": -144,
    "start_time": "2021-07-30T10:17:16.506Z"
   },
   {
    "duration": 6,
    "start_time": "2021-07-30T10:18:25.364Z"
   },
   {
    "duration": 165027,
    "start_time": "2021-07-30T10:18:25.632Z"
   },
   {
    "duration": 31067,
    "start_time": "2021-07-30T10:21:10.662Z"
   },
   {
    "duration": 57920,
    "start_time": "2021-07-30T10:21:41.732Z"
   },
   {
    "duration": 4,
    "start_time": "2021-07-30T10:22:39.654Z"
   },
   {
    "duration": 83,
    "start_time": "2021-07-30T10:22:39.660Z"
   },
   {
    "duration": 12,
    "start_time": "2021-07-30T10:22:39.745Z"
   },
   {
    "duration": 15,
    "start_time": "2021-07-30T10:23:02.651Z"
   },
   {
    "duration": 14,
    "start_time": "2021-07-30T10:24:04.117Z"
   },
   {
    "duration": 102,
    "start_time": "2021-07-30T10:26:48.570Z"
   },
   {
    "duration": 85,
    "start_time": "2021-07-30T10:26:49.749Z"
   },
   {
    "duration": 75,
    "start_time": "2021-07-30T10:26:49.955Z"
   },
   {
    "duration": 75,
    "start_time": "2021-07-30T10:26:50.148Z"
   },
   {
    "duration": 68,
    "start_time": "2021-07-30T10:26:52.148Z"
   },
   {
    "duration": 13,
    "start_time": "2021-07-30T10:26:52.691Z"
   },
   {
    "duration": 20,
    "start_time": "2021-07-30T10:28:27.756Z"
   },
   {
    "duration": 4,
    "start_time": "2021-07-30T10:31:52.581Z"
   },
   {
    "duration": 953,
    "start_time": "2021-07-30T10:31:55.646Z"
   },
   {
    "duration": 4,
    "start_time": "2021-07-30T10:32:55.327Z"
   },
   {
    "duration": 808,
    "start_time": "2021-07-30T10:32:55.949Z"
   },
   {
    "duration": 4,
    "start_time": "2021-07-30T10:33:36.151Z"
   },
   {
    "duration": 6217,
    "start_time": "2021-07-30T10:33:37.009Z"
   },
   {
    "duration": 4,
    "start_time": "2021-07-30T10:33:44.525Z"
   },
   {
    "duration": 4,
    "start_time": "2021-07-30T10:33:45.494Z"
   },
   {
    "duration": 935,
    "start_time": "2021-07-30T10:33:45.722Z"
   },
   {
    "duration": 4,
    "start_time": "2021-07-30T10:34:02.808Z"
   },
   {
    "duration": 1424,
    "start_time": "2021-07-30T10:34:04.486Z"
   },
   {
    "duration": 5,
    "start_time": "2021-07-30T10:34:22.632Z"
   },
   {
    "duration": 1052,
    "start_time": "2021-07-30T10:34:22.935Z"
   },
   {
    "duration": 5,
    "start_time": "2021-07-30T10:35:36.783Z"
   },
   {
    "duration": 1398,
    "start_time": "2021-07-30T10:35:37.362Z"
   },
   {
    "duration": 146,
    "start_time": "2021-07-30T10:42:00.889Z"
   },
   {
    "duration": 329,
    "start_time": "2021-11-02T13:38:11.419Z"
   },
   {
    "duration": 255,
    "start_time": "2021-11-02T13:42:49.454Z"
   },
   {
    "duration": 479,
    "start_time": "2021-11-03T07:00:54.375Z"
   },
   {
    "duration": 865,
    "start_time": "2021-11-03T07:01:07.772Z"
   },
   {
    "duration": 829,
    "start_time": "2021-11-03T07:01:11.492Z"
   },
   {
    "duration": 1807,
    "start_time": "2021-11-03T07:01:14.914Z"
   },
   {
    "duration": 983,
    "start_time": "2021-11-03T07:01:16.723Z"
   },
   {
    "duration": 4,
    "start_time": "2021-11-03T07:01:17.709Z"
   },
   {
    "duration": 13068,
    "start_time": "2021-11-03T07:01:17.717Z"
   },
   {
    "duration": 13,
    "start_time": "2021-11-03T07:01:30.788Z"
   },
   {
    "duration": 100,
    "start_time": "2021-11-03T07:01:30.805Z"
   },
   {
    "duration": 3,
    "start_time": "2021-11-03T07:01:30.907Z"
   },
   {
    "duration": 23,
    "start_time": "2021-11-03T07:01:30.915Z"
   },
   {
    "duration": 363,
    "start_time": "2021-11-03T07:01:30.942Z"
   },
   {
    "duration": 12,
    "start_time": "2021-11-03T07:01:31.307Z"
   },
   {
    "duration": 8,
    "start_time": "2021-11-03T07:01:31.322Z"
   },
   {
    "duration": 1711,
    "start_time": "2021-11-03T07:01:31.334Z"
   },
   {
    "duration": 707,
    "start_time": "2021-11-03T07:01:33.048Z"
   },
   {
    "duration": 562,
    "start_time": "2021-11-03T07:01:33.758Z"
   },
   {
    "duration": 8,
    "start_time": "2021-11-03T07:01:34.323Z"
   },
   {
    "duration": 648,
    "start_time": "2021-11-03T07:01:34.334Z"
   },
   {
    "duration": 664,
    "start_time": "2021-11-03T07:01:34.985Z"
   },
   {
    "duration": 726,
    "start_time": "2021-11-03T07:01:35.652Z"
   },
   {
    "duration": 21,
    "start_time": "2021-11-03T07:01:36.380Z"
   },
   {
    "duration": 36,
    "start_time": "2021-11-03T07:01:36.404Z"
   },
   {
    "duration": 6,
    "start_time": "2021-11-03T07:01:36.444Z"
   },
   {
    "duration": 9,
    "start_time": "2021-11-03T07:01:36.453Z"
   },
   {
    "duration": 8504,
    "start_time": "2021-11-03T07:01:36.502Z"
   },
   {
    "duration": 14,
    "start_time": "2021-11-03T07:01:45.010Z"
   },
   {
    "duration": 175681,
    "start_time": "2021-11-03T07:01:45.102Z"
   },
   {
    "duration": 31746,
    "start_time": "2021-11-03T07:04:40.785Z"
   },
   {
    "duration": 62042,
    "start_time": "2021-11-03T07:05:12.533Z"
   },
   {
    "duration": 5,
    "start_time": "2021-11-03T07:06:14.578Z"
   },
   {
    "duration": 644,
    "start_time": "2021-11-03T07:06:14.602Z"
   },
   {
    "duration": -20,
    "start_time": "2021-11-03T07:06:15.268Z"
   }
  ],
  "kernelspec": {
   "display_name": "Python 3",
   "language": "python",
   "name": "python3"
  },
  "language_info": {
   "codemirror_mode": {
    "name": "ipython",
    "version": 3
   },
   "file_extension": ".py",
   "mimetype": "text/x-python",
   "name": "python",
   "nbconvert_exporter": "python",
   "pygments_lexer": "ipython3",
   "version": "3.7.8"
  },
  "toc": {
   "base_numbering": 1,
   "nav_menu": {
    "height": "12.2222px",
    "width": "160px"
   },
   "number_sections": true,
   "sideBar": true,
   "skip_h1_title": true,
   "title_cell": "Содержание",
   "title_sidebar": "Contents",
   "toc_cell": true,
   "toc_position": {
    "height": "calc(100% - 180px)",
    "left": "10px",
    "top": "150px",
    "width": "165px"
   },
   "toc_section_display": true,
   "toc_window_display": false
  }
 },
 "nbformat": 4,
 "nbformat_minor": 2
}
