{
 "cells": [
  {
   "cell_type": "markdown",
   "metadata": {},
   "source": [
    "# Определение стоимости автомобилей"
   ]
  },
  {
   "cell_type": "markdown",
   "metadata": {},
   "source": [
    "Сервис по продаже автомобилей с пробегом разрабатывает приложение для привлечения новых клиентов. Новая функциональность позволяет быстро узнать рыночную стоимость своего автомобиля. \n",
    "Исходные данные: технические характеристики, комплектации и цены автомобилей. Нужно построить модель для определения стоимости. \n",
    "\n",
    "Метрики:\n",
    "\n",
    "- качество предсказания;\n",
    "- скорость предсказания;\n",
    "- время обучения."
   ]
  },
  {
   "cell_type": "markdown",
   "metadata": {},
   "source": [
    "# Импорты и подготовка данных"
   ]
  },
  {
   "cell_type": "code",
   "execution_count": 1,
   "metadata": {},
   "outputs": [],
   "source": [
    "import pandas as pd\n",
    "import numpy as np\n",
    "from sklearn.model_selection import train_test_split, cross_val_score\n",
    "from sklearn.linear_model import LinearRegression, LogisticRegression\n",
    "from sklearn.ensemble import RandomForestRegressor, RandomForestClassifier\n",
    "from catboost import CatBoostRegressor, CatBoostRegressor\n",
    "from sklearn.preprocessing import OrdinalEncoder, normalize, StandardScaler \n",
    "from sklearn.metrics import mean_squared_error\n",
    "from sklearn.metrics import f1_score, confusion_matrix\n",
    "from lightgbm import LGBMRegressor\n",
    "import timeit\n",
    "import matplotlib.pyplot as plt\n",
    "import numpy as np"
   ]
  },
  {
   "cell_type": "code",
   "execution_count": 2,
   "metadata": {},
   "outputs": [
    {
     "data": {
      "text/html": [
       "<div>\n",
       "<style scoped>\n",
       "    .dataframe tbody tr th:only-of-type {\n",
       "        vertical-align: middle;\n",
       "    }\n",
       "\n",
       "    .dataframe tbody tr th {\n",
       "        vertical-align: top;\n",
       "    }\n",
       "\n",
       "    .dataframe thead th {\n",
       "        text-align: right;\n",
       "    }\n",
       "</style>\n",
       "<table border=\"1\" class=\"dataframe\">\n",
       "  <thead>\n",
       "    <tr style=\"text-align: right;\">\n",
       "      <th></th>\n",
       "      <th>DateCrawled</th>\n",
       "      <th>Price</th>\n",
       "      <th>VehicleType</th>\n",
       "      <th>RegistrationYear</th>\n",
       "      <th>Gearbox</th>\n",
       "      <th>Power</th>\n",
       "      <th>Model</th>\n",
       "      <th>Kilometer</th>\n",
       "      <th>RegistrationMonth</th>\n",
       "      <th>FuelType</th>\n",
       "      <th>Brand</th>\n",
       "      <th>NotRepaired</th>\n",
       "      <th>DateCreated</th>\n",
       "      <th>NumberOfPictures</th>\n",
       "      <th>PostalCode</th>\n",
       "      <th>LastSeen</th>\n",
       "    </tr>\n",
       "  </thead>\n",
       "  <tbody>\n",
       "    <tr>\n",
       "      <td>0</td>\n",
       "      <td>2016-03-24 11:52:17</td>\n",
       "      <td>480</td>\n",
       "      <td>NaN</td>\n",
       "      <td>1993</td>\n",
       "      <td>manual</td>\n",
       "      <td>0</td>\n",
       "      <td>golf</td>\n",
       "      <td>150000</td>\n",
       "      <td>0</td>\n",
       "      <td>petrol</td>\n",
       "      <td>volkswagen</td>\n",
       "      <td>NaN</td>\n",
       "      <td>2016-03-24 00:00:00</td>\n",
       "      <td>0</td>\n",
       "      <td>70435</td>\n",
       "      <td>2016-04-07 03:16:57</td>\n",
       "    </tr>\n",
       "    <tr>\n",
       "      <td>1</td>\n",
       "      <td>2016-03-24 10:58:45</td>\n",
       "      <td>18300</td>\n",
       "      <td>coupe</td>\n",
       "      <td>2011</td>\n",
       "      <td>manual</td>\n",
       "      <td>190</td>\n",
       "      <td>NaN</td>\n",
       "      <td>125000</td>\n",
       "      <td>5</td>\n",
       "      <td>gasoline</td>\n",
       "      <td>audi</td>\n",
       "      <td>yes</td>\n",
       "      <td>2016-03-24 00:00:00</td>\n",
       "      <td>0</td>\n",
       "      <td>66954</td>\n",
       "      <td>2016-04-07 01:46:50</td>\n",
       "    </tr>\n",
       "    <tr>\n",
       "      <td>2</td>\n",
       "      <td>2016-03-14 12:52:21</td>\n",
       "      <td>9800</td>\n",
       "      <td>suv</td>\n",
       "      <td>2004</td>\n",
       "      <td>auto</td>\n",
       "      <td>163</td>\n",
       "      <td>grand</td>\n",
       "      <td>125000</td>\n",
       "      <td>8</td>\n",
       "      <td>gasoline</td>\n",
       "      <td>jeep</td>\n",
       "      <td>NaN</td>\n",
       "      <td>2016-03-14 00:00:00</td>\n",
       "      <td>0</td>\n",
       "      <td>90480</td>\n",
       "      <td>2016-04-05 12:47:46</td>\n",
       "    </tr>\n",
       "    <tr>\n",
       "      <td>3</td>\n",
       "      <td>2016-03-17 16:54:04</td>\n",
       "      <td>1500</td>\n",
       "      <td>small</td>\n",
       "      <td>2001</td>\n",
       "      <td>manual</td>\n",
       "      <td>75</td>\n",
       "      <td>golf</td>\n",
       "      <td>150000</td>\n",
       "      <td>6</td>\n",
       "      <td>petrol</td>\n",
       "      <td>volkswagen</td>\n",
       "      <td>no</td>\n",
       "      <td>2016-03-17 00:00:00</td>\n",
       "      <td>0</td>\n",
       "      <td>91074</td>\n",
       "      <td>2016-03-17 17:40:17</td>\n",
       "    </tr>\n",
       "    <tr>\n",
       "      <td>4</td>\n",
       "      <td>2016-03-31 17:25:20</td>\n",
       "      <td>3600</td>\n",
       "      <td>small</td>\n",
       "      <td>2008</td>\n",
       "      <td>manual</td>\n",
       "      <td>69</td>\n",
       "      <td>fabia</td>\n",
       "      <td>90000</td>\n",
       "      <td>7</td>\n",
       "      <td>gasoline</td>\n",
       "      <td>skoda</td>\n",
       "      <td>no</td>\n",
       "      <td>2016-03-31 00:00:00</td>\n",
       "      <td>0</td>\n",
       "      <td>60437</td>\n",
       "      <td>2016-04-06 10:17:21</td>\n",
       "    </tr>\n",
       "  </tbody>\n",
       "</table>\n",
       "</div>"
      ],
      "text/plain": [
       "           DateCrawled  Price VehicleType  RegistrationYear Gearbox  Power  \\\n",
       "0  2016-03-24 11:52:17    480         NaN              1993  manual      0   \n",
       "1  2016-03-24 10:58:45  18300       coupe              2011  manual    190   \n",
       "2  2016-03-14 12:52:21   9800         suv              2004    auto    163   \n",
       "3  2016-03-17 16:54:04   1500       small              2001  manual     75   \n",
       "4  2016-03-31 17:25:20   3600       small              2008  manual     69   \n",
       "\n",
       "   Model  Kilometer  RegistrationMonth  FuelType       Brand NotRepaired  \\\n",
       "0   golf     150000                  0    petrol  volkswagen         NaN   \n",
       "1    NaN     125000                  5  gasoline        audi         yes   \n",
       "2  grand     125000                  8  gasoline        jeep         NaN   \n",
       "3   golf     150000                  6    petrol  volkswagen          no   \n",
       "4  fabia      90000                  7  gasoline       skoda          no   \n",
       "\n",
       "           DateCreated  NumberOfPictures  PostalCode             LastSeen  \n",
       "0  2016-03-24 00:00:00                 0       70435  2016-04-07 03:16:57  \n",
       "1  2016-03-24 00:00:00                 0       66954  2016-04-07 01:46:50  \n",
       "2  2016-03-14 00:00:00                 0       90480  2016-04-05 12:47:46  \n",
       "3  2016-03-17 00:00:00                 0       91074  2016-03-17 17:40:17  \n",
       "4  2016-03-31 00:00:00                 0       60437  2016-04-06 10:17:21  "
      ]
     },
     "metadata": {},
     "output_type": "display_data"
    },
    {
     "data": {
      "text/html": [
       "<div>\n",
       "<style scoped>\n",
       "    .dataframe tbody tr th:only-of-type {\n",
       "        vertical-align: middle;\n",
       "    }\n",
       "\n",
       "    .dataframe tbody tr th {\n",
       "        vertical-align: top;\n",
       "    }\n",
       "\n",
       "    .dataframe thead th {\n",
       "        text-align: right;\n",
       "    }\n",
       "</style>\n",
       "<table border=\"1\" class=\"dataframe\">\n",
       "  <thead>\n",
       "    <tr style=\"text-align: right;\">\n",
       "      <th></th>\n",
       "      <th>Price</th>\n",
       "      <th>RegistrationYear</th>\n",
       "      <th>Power</th>\n",
       "      <th>Kilometer</th>\n",
       "      <th>RegistrationMonth</th>\n",
       "      <th>NumberOfPictures</th>\n",
       "      <th>PostalCode</th>\n",
       "    </tr>\n",
       "  </thead>\n",
       "  <tbody>\n",
       "    <tr>\n",
       "      <td>count</td>\n",
       "      <td>354365.000000</td>\n",
       "      <td>354365.000000</td>\n",
       "      <td>354365.000000</td>\n",
       "      <td>354365.000000</td>\n",
       "      <td>354365.000000</td>\n",
       "      <td>354365.0</td>\n",
       "      <td>354365.000000</td>\n",
       "    </tr>\n",
       "    <tr>\n",
       "      <td>mean</td>\n",
       "      <td>4416.679830</td>\n",
       "      <td>2004.234481</td>\n",
       "      <td>110.093816</td>\n",
       "      <td>128211.363989</td>\n",
       "      <td>5.714650</td>\n",
       "      <td>0.0</td>\n",
       "      <td>50508.503800</td>\n",
       "    </tr>\n",
       "    <tr>\n",
       "      <td>std</td>\n",
       "      <td>4514.176349</td>\n",
       "      <td>90.228466</td>\n",
       "      <td>189.851330</td>\n",
       "      <td>37905.083858</td>\n",
       "      <td>3.726432</td>\n",
       "      <td>0.0</td>\n",
       "      <td>25783.100078</td>\n",
       "    </tr>\n",
       "    <tr>\n",
       "      <td>min</td>\n",
       "      <td>0.000000</td>\n",
       "      <td>1000.000000</td>\n",
       "      <td>0.000000</td>\n",
       "      <td>5000.000000</td>\n",
       "      <td>0.000000</td>\n",
       "      <td>0.0</td>\n",
       "      <td>1067.000000</td>\n",
       "    </tr>\n",
       "    <tr>\n",
       "      <td>25%</td>\n",
       "      <td>1050.000000</td>\n",
       "      <td>1999.000000</td>\n",
       "      <td>69.000000</td>\n",
       "      <td>125000.000000</td>\n",
       "      <td>3.000000</td>\n",
       "      <td>0.0</td>\n",
       "      <td>30165.000000</td>\n",
       "    </tr>\n",
       "    <tr>\n",
       "      <td>50%</td>\n",
       "      <td>2700.000000</td>\n",
       "      <td>2003.000000</td>\n",
       "      <td>105.000000</td>\n",
       "      <td>150000.000000</td>\n",
       "      <td>6.000000</td>\n",
       "      <td>0.0</td>\n",
       "      <td>49413.000000</td>\n",
       "    </tr>\n",
       "    <tr>\n",
       "      <td>75%</td>\n",
       "      <td>6400.000000</td>\n",
       "      <td>2008.000000</td>\n",
       "      <td>143.000000</td>\n",
       "      <td>150000.000000</td>\n",
       "      <td>9.000000</td>\n",
       "      <td>0.0</td>\n",
       "      <td>71083.000000</td>\n",
       "    </tr>\n",
       "    <tr>\n",
       "      <td>max</td>\n",
       "      <td>20000.000000</td>\n",
       "      <td>9999.000000</td>\n",
       "      <td>20000.000000</td>\n",
       "      <td>150000.000000</td>\n",
       "      <td>12.000000</td>\n",
       "      <td>0.0</td>\n",
       "      <td>99998.000000</td>\n",
       "    </tr>\n",
       "  </tbody>\n",
       "</table>\n",
       "</div>"
      ],
      "text/plain": [
       "               Price  RegistrationYear          Power      Kilometer  \\\n",
       "count  354365.000000     354365.000000  354365.000000  354365.000000   \n",
       "mean     4416.679830       2004.234481     110.093816  128211.363989   \n",
       "std      4514.176349         90.228466     189.851330   37905.083858   \n",
       "min         0.000000       1000.000000       0.000000    5000.000000   \n",
       "25%      1050.000000       1999.000000      69.000000  125000.000000   \n",
       "50%      2700.000000       2003.000000     105.000000  150000.000000   \n",
       "75%      6400.000000       2008.000000     143.000000  150000.000000   \n",
       "max     20000.000000       9999.000000   20000.000000  150000.000000   \n",
       "\n",
       "       RegistrationMonth  NumberOfPictures     PostalCode  \n",
       "count      354365.000000          354365.0  354365.000000  \n",
       "mean            5.714650               0.0   50508.503800  \n",
       "std             3.726432               0.0   25783.100078  \n",
       "min             0.000000               0.0    1067.000000  \n",
       "25%             3.000000               0.0   30165.000000  \n",
       "50%             6.000000               0.0   49413.000000  \n",
       "75%             9.000000               0.0   71083.000000  \n",
       "max            12.000000               0.0   99998.000000  "
      ]
     },
     "metadata": {},
     "output_type": "display_data"
    }
   ],
   "source": [
    "data = pd.read_csv('/datasets/autos.csv')\n",
    "data = data.drop_duplicates().reset_index(drop=True)\n",
    "\n",
    "\n",
    "display(data.head(5))\n",
    "display(data.describe())\n",
    "# display(data.info())\n"
   ]
  },
  {
   "cell_type": "code",
   "execution_count": 3,
   "metadata": {},
   "outputs": [
    {
     "name": "stdout",
     "output_type": "stream",
     "text": [
      "               Price  RegistrationYear          Power      Kilometer  \\\n",
      "count  286790.000000     286790.000000  286790.000000  286790.000000   \n",
      "mean     4522.512950       2002.724394     116.052056  128829.056104   \n",
      "std      4188.170553          6.459680      46.159847   36281.564642   \n",
      "min         1.000000       1930.000000       1.000000    5000.000000   \n",
      "25%      1300.000000       1999.000000      75.000000  125000.000000   \n",
      "50%      2999.000000       2003.000000     109.000000  150000.000000   \n",
      "75%      6550.000000       2007.000000     143.000000  150000.000000   \n",
      "max     17999.000000       2016.000000     271.000000  150000.000000   \n",
      "\n",
      "       RegistrationMonth  NumberOfPictures     PostalCode  \n",
      "count      286790.000000          286790.0  286790.000000  \n",
      "mean            5.983821               0.0   51163.622968  \n",
      "std             3.587220               0.0   25777.506074  \n",
      "min             0.000000               0.0    1067.000000  \n",
      "25%             3.000000               0.0   30900.000000  \n",
      "50%             6.000000               0.0   50189.000000  \n",
      "75%             9.000000               0.0   71711.000000  \n",
      "max            12.000000               0.0   99998.000000  \n"
     ]
    }
   ],
   "source": [
    "#Здесь мы боремся с выбросами\n",
    "min_q_year = data['RegistrationYear'].quantile(q=0.0005)\n",
    "max_q_year = data['RegistrationYear'].quantile(q=0.9859)\n",
    "data = data[(data['RegistrationYear'] > min_q_year) & (data['RegistrationYear'] < max_q_year)]\n",
    "\n",
    "\n",
    "\n",
    "\n",
    "min_q_price = data['Price'].quantile(q=0.005)\n",
    "max_q_price = data['Price'].quantile(q=0.9859)\n",
    "data = data[(data['Price'] > min_q_price) & (data['Price'] < max_q_price)]\n",
    "\n",
    "\n",
    "\n",
    "min_q_power = data['Power'].quantile(q=0.005)\n",
    "max_q_power = data['Power'].quantile(q=0.9859)\n",
    "data = data[(data['Power'] > min_q_power) & (data['Power'] < max_q_power)]\n",
    "\n",
    "\n",
    "print(data.describe())"
   ]
  },
  {
   "cell_type": "markdown",
   "metadata": {},
   "source": [
    "Были обнаружены выбросы или ошибочные даннные с мощностью 20000, и регистрацией тс в 9999 году, путем отбрасывания 0.005 и 0.999 процентилей мы избавились от этих выбросов."
   ]
  },
  {
   "cell_type": "code",
   "execution_count": 4,
   "metadata": {},
   "outputs": [],
   "source": [
    "# data.groupby('NotRepaired')['NotRepaired'].count().plot(kind='bar') # Большинство у нас не битых,  заменим NaN на 'no'\n",
    "# data.groupby('VehicleType')['VehicleType'].count().plot(kind='bar') # Большинство седанов и малолитражек,  заменим NaN на 'sedan'\n",
    "# data.groupby('FuelType')['FuelType'].count().plot(kind='bar') # Заменим на бензин\n",
    "# data.groupby('Gearbox')['Gearbox'].count().plot(kind='bar') # Заменим на manual\n",
    "\n",
    "# data['Price'].plot(kind='hist', bins=500)\n",
    "# data['RegistrationYear'].plot(kind='hist', bins=50)"
   ]
  },
  {
   "cell_type": "code",
   "execution_count": 5,
   "metadata": {},
   "outputs": [
    {
     "name": "stdout",
     "output_type": "stream",
     "text": [
      "2         90\n",
      "3         91\n",
      "4         60\n",
      "5         33\n",
      "6         67\n",
      "          ..\n",
      "354357    51\n",
      "354358    96\n",
      "354362    26\n",
      "354363    87\n",
      "354364    40\n",
      "Name: PostalCode, Length: 286790, dtype: object\n"
     ]
    }
   ],
   "source": [
    "data_ml = data.drop(['DateCrawled', 'DateCreated', 'NumberOfPictures',  'LastSeen'], axis=1)\n",
    "\n",
    "data_ml['PostalCode'] = data_ml['PostalCode'].astype(str)\n",
    "data_ml['PostalCode'] = data_ml['PostalCode'].str[0:2]#.astype(int)\n",
    "print(data_ml['PostalCode'])\n",
    "\n",
    "\n",
    "# print(data_ml.info())"
   ]
  },
  {
   "cell_type": "markdown",
   "metadata": {},
   "source": [
    "Оставляем первые 2 цифры индекса для более крупной группировки признака"
   ]
  },
  {
   "cell_type": "code",
   "execution_count": 6,
   "metadata": {},
   "outputs": [],
   "source": [
    "data_ml_new = data_ml.dropna(axis=0).reset_index(drop=True) #В эттой выборке выброшены все пропущенные значения\n",
    "\n",
    "\n",
    "\n",
    "data_ml_new['PostalCode'] = data_ml_new['PostalCode'].astype(str)\n",
    "data_ml_new['PostalCode'] = data_ml_new['PostalCode'].str[0:2]#.astype(int)"
   ]
  },
  {
   "cell_type": "markdown",
   "metadata": {},
   "source": [
    "Из первоначального датафрейма были удалены все выбросы, дубликаты, также подготовлены  2 датафрема, с заменами, и с удалением всех строк, содержащих пропуски.\n",
    "\n",
    "\n",
    "\n",
    "\n"
   ]
  },
  {
   "cell_type": "markdown",
   "metadata": {},
   "source": [
    "# Обучение моделей"
   ]
  },
  {
   "cell_type": "code",
   "execution_count": 7,
   "metadata": {},
   "outputs": [],
   "source": [
    "cat_features = ['VehicleType', 'FuelType', 'Brand', 'Gearbox', 'NotRepaired', 'Model', 'PostalCode']\n",
    "\n",
    "def variants(data_def): \n",
    "    features_train, features_valid, target_train, target_valid = train_test_split(data_def.drop('Price', axis=1), \n",
    "                                                                                  data_def['Price'], \n",
    "                                                                                  test_size=0.25, random_state=12345 )\n",
    "    return features_train, features_valid, target_train, target_valid\n",
    "\n"
   ]
  },
  {
   "cell_type": "code",
   "execution_count": 8,
   "metadata": {},
   "outputs": [],
   "source": [
    "def normalize_data(features_train, features_valid):\n",
    "    string = ['RegistrationYear', 'Power', 'Kilometer']\n",
    "    features_train[string] = normalize(features_train[string])\n",
    "    features_valid[string] = normalize(features_valid[string])\n",
    "    \n",
    "    \n",
    "\n",
    "#     data_norm = normalize(data_new)\n",
    "#     data_norm = pd.DataFrame(data_norm, index=data_new.index, columns=data_new.columns)\n",
    "    return features_train, features_valid\n"
   ]
  },
  {
   "cell_type": "code",
   "execution_count": 9,
   "metadata": {},
   "outputs": [],
   "source": [
    "def encoder_str(features_train, features_valid):\n",
    "    string = ['VehicleType', 'FuelType', 'Brand', 'Gearbox', 'NotRepaired', 'Model', 'PostalCode']\n",
    "    encoder = OrdinalEncoder() \n",
    "#     pd.options.mode.chained_assignment = None #ЧТО ДЕЛАЕТ ЭТА СТРОКА?\n",
    "    encoder.fit(features_train[string]) \n",
    "    features_train[string] = encoder.transform(features_train[string])\n",
    "    features_valid[string] = encoder.transform(features_valid[string]) \n",
    "\n",
    "    return features_train, features_valid\n"
   ]
  },
  {
   "cell_type": "code",
   "execution_count": 10,
   "metadata": {},
   "outputs": [],
   "source": [
    "def standart_data_num(features_train, features_valid):\n",
    "    numeric = ['RegistrationYear', 'Power', 'Kilometer']\n",
    "    scaler = StandardScaler()\n",
    "    scaler.fit(features_train[numeric])\n",
    "    pd.options.mode.chained_assignment = None\n",
    "    features_train[numeric] = scaler.transform(features_train[numeric])\n",
    "    features_valid[numeric] = scaler.transform(features_valid[numeric]) \n",
    "    return features_train, features_valid\n"
   ]
  },
  {
   "cell_type": "markdown",
   "metadata": {},
   "source": []
  },
  {
   "cell_type": "code",
   "execution_count": 11,
   "metadata": {},
   "outputs": [],
   "source": [
    "features_cv = data_ml_new.drop('Price', axis=1)\n",
    "target_cv = data_ml['Price']\n",
    "# "
   ]
  },
  {
   "cell_type": "code",
   "execution_count": 12,
   "metadata": {},
   "outputs": [],
   "source": [
    "#LinearRegression_ml\n",
    "def LR(features_train, features_valid, target_train, target_valid):\n",
    "    start_time = timeit.default_timer()\n",
    "    model_lr = LinearRegression()\n",
    "    model_lr.fit(features_train, target_train)\n",
    "    speed_fit = timeit.default_timer() - start_time\n",
    "    \n",
    "    \n",
    "    start_time = timeit.default_timer()\n",
    "    pred_valid_lr = model_lr.predict(features_valid)\n",
    "    speed_pred = timeit.default_timer() - start_time\n",
    "    rmse_lr = mean_squared_error(target_valid, pred_valid_lr)**0.5\n",
    "    \n",
    "    print('Время обучения:', speed_fit)\n",
    "    print('Время предсказания:', speed_pred)\n",
    "    print('RMSE:', rmse_lr)\n",
    "    return ['LR', speed_fit, speed_pred, rmse_lr]"
   ]
  },
  {
   "cell_type": "code",
   "execution_count": 13,
   "metadata": {},
   "outputs": [],
   "source": [
    "features_train, features_valid, target_train, target_valid = variants(data_ml_new)\n",
    "features_train, features_valid = encoder_str(features_train, features_valid)\n",
    "# print(features_train)"
   ]
  },
  {
   "cell_type": "code",
   "execution_count": 14,
   "metadata": {},
   "outputs": [
    {
     "name": "stdout",
     "output_type": "stream",
     "text": [
      "Время обучения: 0.07465476309880614\n",
      "Время предсказания: 0.15384302800521255\n",
      "RMSE: 2670.1325826348734\n"
     ]
    },
    {
     "data": {
      "text/plain": [
       "['LR', 0.07465476309880614, 0.15384302800521255, 2670.1325826348734]"
      ]
     },
     "execution_count": 14,
     "metadata": {},
     "output_type": "execute_result"
    }
   ],
   "source": [
    "LR(features_train, features_valid, target_train, target_valid)"
   ]
  },
  {
   "cell_type": "code",
   "execution_count": 15,
   "metadata": {},
   "outputs": [],
   "source": [
    "features_train, features_valid, target_train, target_valid = variants(data_ml_new)\n",
    "features_train, features_valid = encoder_str(features_train, features_valid)\n",
    "# features_train, features_valid = normalize_data(features_train, features_valid)\n",
    "features_train, features_valid = standart_data_num(features_train, features_valid)\n",
    "\n",
    "\n"
   ]
  },
  {
   "cell_type": "code",
   "execution_count": 16,
   "metadata": {},
   "outputs": [
    {
     "name": "stdout",
     "output_type": "stream",
     "text": [
      "Время обучения: 0.06805922370404005\n",
      "Время предсказания: 0.005734828766435385\n",
      "RMSE: 2670.132582634873\n"
     ]
    }
   ],
   "source": [
    "\n",
    "rmse_lr = LR( features_train, features_valid, target_train, target_valid)"
   ]
  },
  {
   "cell_type": "markdown",
   "metadata": {},
   "source": [
    "********************************"
   ]
  },
  {
   "cell_type": "code",
   "execution_count": 17,
   "metadata": {},
   "outputs": [],
   "source": [
    "\n",
    "#RandomForestRegressor\n",
    "def RFR(features_train, features_valid, target_train, target_valid):\n",
    "    best_depth = 0\n",
    "    best_estimators = 0\n",
    "    best_rmse = 10000\n",
    "    time_fit = 0\n",
    "    time_pred = 0\n",
    "    best_model = None\n",
    "    for depth in range(1, 5):\n",
    "        for est in range(0,20,10):\n",
    "            start_time = timeit.default_timer()\n",
    "            model_rfr = RandomForestRegressor(random_state=12345, max_depth=10, n_estimators=50)\n",
    "            model_rfr.fit(features_train, target_train)\n",
    "            speed_fit = timeit.default_timer() - start_time\n",
    "            \n",
    "            start_time = timeit.default_timer()\n",
    "            pred_valid_rfr = model_rfr.predict(features_valid)\n",
    "            rmse_rfr = mean_squared_error(target_valid, pred_valid_rfr)**0.5\n",
    "            speed_pred = timeit.default_timer() - start_time\n",
    "            \n",
    "            if rmse_rfr < best_rmse:\n",
    "                best_depth = depth\n",
    "                best_estimators = est\n",
    "                best_rmse = rmse_rfr\n",
    "                time_fit = speed_fit\n",
    "                time_pred = speed_pred\n",
    "                best_model = model_rfr\n",
    "    \n",
    "#     print('Время обучения:', time_fit)\n",
    "#     print('Время предсказания:', time_pred)\n",
    "#     print('RMSE:', best_rmse)\n",
    "    return ['RFR', speed_fit, speed_pred, best_rmse]"
   ]
  },
  {
   "cell_type": "code",
   "execution_count": 18,
   "metadata": {},
   "outputs": [],
   "source": [
    "features_train, features_valid, target_train, target_valid = variants(data_ml_new)\n",
    "features_train, features_valid = encoder_str(features_train, features_valid)\n",
    "features_train, features_valid = standart_data_num(features_train, features_valid)\n",
    "\n",
    "rmse_rfr = RFR( features_train, features_valid, target_train, target_valid)"
   ]
  },
  {
   "cell_type": "code",
   "execution_count": 19,
   "metadata": {},
   "outputs": [],
   "source": [
    "# features_train, features_valid, target_train, target_valid = variants(normalize_data(encoder(data_ml_new)))\n",
    "# RFR(features_train, features_valid, target_train, target_valid)"
   ]
  },
  {
   "cell_type": "code",
   "execution_count": 20,
   "metadata": {},
   "outputs": [],
   "source": [
    "#CATBOOST\n",
    "data_ct = data_ml.fillna('NaN')\n",
    "\n",
    "def CB(features_train, features_valid, target_train, target_valid):\n",
    "    start_time = timeit.default_timer()\n",
    "    model_cb = CatBoostRegressor(loss_function='RMSE', iterations=500, depth=5, learning_rate=1 )\n",
    "    model_cb.fit(features_train, target_train, cat_features=cat_features, verbose=1000)\n",
    "    speed_fit = timeit.default_timer() - start_time\n",
    "    \n",
    "    start_time = timeit.default_timer()\n",
    "    pred_valid = model_cb.predict(features_valid) \n",
    "    rmse = mean_squared_error(target_valid, pred_valid)**0.5\n",
    "    speed_pred = timeit.default_timer() - start_time\n",
    "    \n",
    "#     print('Время обучения:', speed_fit)\n",
    "#     print('Время предсказания:', speed_pred)\n",
    "#     print('RMSE:', rmse)\n",
    "    return ['CB', speed_fit, speed_pred, rmse]"
   ]
  },
  {
   "cell_type": "code",
   "execution_count": 21,
   "metadata": {},
   "outputs": [],
   "source": [
    "# features_train, features_valid, target_train, target_valid = variants(data_ml_rp)\n",
    "# CB(features_train, features_valid, target_train, target_valid)"
   ]
  },
  {
   "cell_type": "code",
   "execution_count": 22,
   "metadata": {},
   "outputs": [
    {
     "name": "stdout",
     "output_type": "stream",
     "text": [
      "0:\tlearn: 2524.7967716\ttotal: 914ms\tremaining: 7m 36s\n",
      "499:\tlearn: 1369.8390486\ttotal: 6m 24s\tremaining: 0us\n"
     ]
    }
   ],
   "source": [
    "features_train, features_valid, target_train, target_valid = variants(data_ct)\n",
    "rmse_cb = CB(features_train, features_valid, target_train, target_valid)"
   ]
  },
  {
   "cell_type": "code",
   "execution_count": 23,
   "metadata": {},
   "outputs": [
    {
     "data": {
      "text/plain": [
       "['CB', 390.9089041752741, 1.1387075260281563, 1482.4371555864511]"
      ]
     },
     "execution_count": 23,
     "metadata": {},
     "output_type": "execute_result"
    }
   ],
   "source": [
    "rmse_cb"
   ]
  },
  {
   "cell_type": "code",
   "execution_count": 25,
   "metadata": {},
   "outputs": [],
   "source": [
    "# features_train, features_valid, target_train, target_valid = variants(normalize_data(encoder(data_ml_new)))\n",
    "# CB(features_train, features_valid, target_train, target_valid)"
   ]
  },
  {
   "cell_type": "code",
   "execution_count": 27,
   "metadata": {},
   "outputs": [],
   "source": [
    "#LGBMRegressor\n",
    "\n",
    "def LGBM (features_train, features_valid, target_train, target_valid):\n",
    "#     cat_features = ['VehicleType', 'Gearbox',  'Model', 'FuelType', 'Brand',  'NotRepaired', 'PostalCode']\n",
    "    start_time = timeit.default_timer()\n",
    "    model_lgbm = LGBMRegressor(max_depth=14, \n",
    "                            n_estimators=120, \n",
    "                            random_state=12345, \n",
    "                            objective='regression',\n",
    "                            num_leaves=1400,\n",
    "                            metric='rmse')\n",
    "    model_lgbm.fit(features_train, target_train, verbose=10)\n",
    "    speed_fit = timeit.default_timer() - start_time\n",
    "    \n",
    "    \n",
    "    start_time = timeit.default_timer()\n",
    "    predictions_lgbm = model_lgbm.predict(features_valid,  num_iteration=2)\n",
    "    rmse_lgbm = mean_squared_error(target_valid, predictions_lgbm)**0.5\n",
    "    speed_pred = timeit.default_timer() - start_time\n",
    "    \n",
    "#     print('Время обучения:', speed_fit)\n",
    "#     print('Время предсказания:', speed_pred)\n",
    "#     print('RMSE:', rmse_lgbm)\n",
    "    return ['LGBM',speed_fit, speed_pred, rmse_lgbm]"
   ]
  },
  {
   "cell_type": "code",
   "execution_count": 29,
   "metadata": {},
   "outputs": [],
   "source": [
    "data_ct = data_ml.fillna('NaN')\n",
    "features_train, features_valid, target_train, target_valid = variants(data_ct)\n",
    "features_train, features_valid = encoder_str(features_train, features_valid)\n",
    "\n",
    "rmse_lgbm = LGBM(features_train, features_valid, target_train, target_valid)"
   ]
  },
  {
   "cell_type": "markdown",
   "metadata": {},
   "source": [
    "# Анализ моделей"
   ]
  },
  {
   "cell_type": "markdown",
   "metadata": {},
   "source": [
    "Так как данные имеют разный масштаб и есть категориальные признаки, перед началом обучения моделей производим кодирование и нормализацию.\n",
    "Самая низкая(качественная) метрика RMSE на одних и тех же моделей у моделей, которым были переданные стандартизированные данные, из датафрейма без заполнения пропусков (были удалены все строки со значением nan). Заполнение пропусков снижает качество модели. \n",
    "Среди моделей линейной регрессии, случайного леса регрессии, градиентного бустинга CatBoost и градиентного бустинга LGBMRegressor, наилучшее качество у случайного леса NRMSE =  0.023, скорость обучения = 71 секунда, а скорость предсказания = 0.23сек. При этом третья по качеству предсказаний линейная модель обучается за 0.067 секунды и имеет показатель NRMSE=0.16, что в несколько десятков раз больше чем у случайного леса, но при этом обучается она более чем в 1000 раз быстрее. Скорость предсказания у линейной регрессии в 70 раз выше чем у случайного леса. \n",
    "Модель градиентного LGBMRegressor по скорости обучения  в 3 раза быстрее случайного леса, а показатель NRMSE больше(хуже) в 2 раза, при этом скорость предсказания меньше на треть. \n",
    "\n"
   ]
  },
  {
   "cell_type": "code",
   "execution_count": 31,
   "metadata": {},
   "outputs": [
    {
     "data": {
      "image/png": "[encoded data removed]",
      "text/plain": [
       "<Figure size 432x288 with 1 Axes>"
      ]
     },
     "metadata": {
      "needs_background": "light"
     },
     "output_type": "display_data"
    },
    {
     "data": {
      "image/png": "[encoded data removed]",
      "text/plain": [
       "<Figure size 432x288 with 1 Axes>"
      ]
     },
     "metadata": {
      "needs_background": "light"
     },
     "output_type": "display_data"
    },
    {
     "data": {
      "image/png": "[encoded data removed]",
      "text/plain": [
       "<Figure size 432x288 with 1 Axes>"
      ]
     },
     "metadata": {
      "needs_background": "light"
     },
     "output_type": "display_data"
    },
    {
     "name": "stdout",
     "output_type": "stream",
     "text": [
      "               RMSE  скорость обучения  скорость предсказания\n",
      "модель                                                       \n",
      "CB      1482.437156         390.908904               1.138708\n",
      "LGBM    3517.332440         186.786907               0.086013\n",
      "LR      2670.132583           0.068059               0.005735\n",
      "RFR     1703.548918          20.922135               0.349696\n"
     ]
    }
   ],
   "source": [
    "rmse_all = [rmse_lr,\n",
    "            rmse_rfr,\n",
    "            rmse_cb,\n",
    "            rmse_lgbm]\n",
    "# print(rmse_all)\n",
    "rmse_columns = ['модель', 'скорость обучения', 'скорость предсказания','RMSE']\n",
    "rmse_pivot = pd.DataFrame(rmse_all, columns=rmse_columns).pivot_table(index='модель', values=['скорость обучения', 'скорость предсказания','RMSE'],\n",
    "                                                                     aggfunc='sum')\n",
    "\n",
    "\n",
    "colors = [\"red\", \"green\", \"magenta\", \"gold\"]\n",
    "\n",
    "rmse_pivot['скорость обучения'].plot(kind='bar', title='скорость обучения', color=colors)\n",
    "plt.ylabel('секунды')\n",
    "plt.show()\n",
    "\n",
    "\n",
    "rmse_pivot['скорость предсказания'].plot(kind='bar', title='скорость предсказания', color=colors)\n",
    "plt.ylabel('секунды')\n",
    "plt.show()\n",
    "\n",
    "\n",
    "rmse_pivot['RMSE'].plot( kind='bar', title='RMSE', color=colors )\n",
    "plt.ylabel('EURO')\n",
    "plt.show()\n",
    "\n",
    "print(rmse_pivot)\n"
   ]
  },
  {
   "cell_type": "code",
   "execution_count": 33,
   "metadata": {},
   "outputs": [],
   "source": [
    "features_train, features_valid, target_train, target_valid = variants(data_ml_new)\n",
    "\n",
    "features_train, features_valid = encoder_str(features_train, features_valid)\n",
    "features_train, features_valid = standart_data_num(features_train, features_valid)\n",
    "\n",
    "def RFR(features_train, features_valid, target_train, target_valid):\n",
    "    best_depth = 0\n",
    "    best_estimators = 0\n",
    "    best_rmse = 10000\n",
    "    time_fit = 0\n",
    "    time_pred = 0\n",
    "    best_model = None\n",
    "    for depth in range(1, 5):\n",
    "        for est in range(0,20,10):\n",
    "            start_time = timeit.default_timer()\n",
    "            model_rfr = RandomForestRegressor(random_state=12345, max_depth=10, n_estimators=50)\n",
    "            model_rfr.fit(features_train, target_train)\n",
    "            speed_fit = timeit.default_timer() - start_time\n",
    "            \n",
    "            start_time = timeit.default_timer()\n",
    "            pred_valid_rfr = model_rfr.predict(features_valid)\n",
    "            rmse_rfr = mean_squared_error(target_valid, pred_valid_rfr)**0.5\n",
    "            speed_pred = timeit.default_timer() - start_time\n",
    "            \n",
    "            if rmse_rfr < best_rmse:\n",
    "                best_depth = depth\n",
    "                best_estimators = est\n",
    "                best_rmse = rmse_rfr\n",
    "                time_fit = speed_fit\n",
    "                time_pred = speed_pred\n",
    "                best_model = model_rfr\n",
    "    \n",
    "\n",
    "    return best_model\n",
    "best_model = RFR(features_train, features_valid, target_train, target_valid)"
   ]
  },
  {
   "cell_type": "code",
   "execution_count": 35,
   "metadata": {},
   "outputs": [
    {
     "data": {
      "text/plain": [
       "<matplotlib.axes._subplots.AxesSubplot at 0x7f0cadef54d0>"
      ]
     },
     "execution_count": 35,
     "metadata": {},
     "output_type": "execute_result"
    },
    {
     "data": {
      "image/png": "[encoded data removed]",
      "text/plain": [
       "<Figure size 432x288 with 1 Axes>"
      ]
     },
     "metadata": {
      "needs_background": "light"
     },
     "output_type": "display_data"
    }
   ],
   "source": [
    "#Заготовка для диаграммы важностей признаков.\n",
    "\n",
    "feat_importances = pd.Series(best_model.feature_importances_, index=features_train.columns)\n",
    "feat_importances.nlargest(10).plot(kind='bar')"
   ]
  },
  {
   "cell_type": "raw",
   "metadata": {},
   "source": [
    "%%time\n",
    "model_LGBMR = LGBMRegressor(max_depth=14, \n",
    "                            n_estimators=120, \n",
    "                            random_state=12345, \n",
    "                            objective='regression',\n",
    "                            num_leaves=1400,\n",
    "                            metric='rmse')\n",
    "model_LGBMR.fit(features_train, target_train, categorical_feature=cat_features, verbose=10)\n",
    "predictions_valid = model_LGBMR.predict(features_valid, num_iteration=2)\n",
    "print(mean_squared_error(predictions_valid, target_valid) ** 0.5)"
   ]
  },
  {
   "cell_type": "markdown",
   "metadata": {},
   "source": [
    "# Вывод \n",
    "Быстрее всех обучается модель линейной регрессии, при этом ее отклонения равно примерно 2670 евро, самая неточная модель - LGBM, у нее показатель rmse +-3517, при этом обучается она 52 секунду - это третий результат по скорости. Модель CatBoost показала самое большое время обучения но самое меньшее отклонение d 1482. Дерево решений обучается 16 секунд, при этом RMSE у нее 1703 (евро). Наибольшее влияние на цену имеет год выпуска, второй по важности критерий - мощность, остальные признаки более чем 10 раз менее значимы чем вышеперечисленные.\n",
    "\n",
    "\n"
   ]
  }
 ],
 "metadata": {
  "ExecuteTimeLog": [
   {
    "duration": 1394,
    "start_time": "2021-09-06T16:05:33.824Z"
   },
   {
    "duration": 1451,
    "start_time": "2021-09-06T16:06:10.502Z"
   },
   {
    "duration": 276,
    "start_time": "2021-09-06T16:08:37.228Z"
   },
   {
    "duration": 281,
    "start_time": "2021-09-06T16:09:22.107Z"
   },
   {
    "duration": 275,
    "start_time": "2021-09-06T16:09:26.899Z"
   },
   {
    "duration": 353,
    "start_time": "2021-09-06T16:09:36.875Z"
   },
   {
    "duration": 269,
    "start_time": "2021-09-06T16:09:49.619Z"
   },
   {
    "duration": 43,
    "start_time": "2021-09-06T16:09:57.444Z"
   },
   {
    "duration": 3,
    "start_time": "2021-09-06T16:10:02.225Z"
   },
   {
    "duration": 746,
    "start_time": "2021-09-06T16:10:39.417Z"
   },
   {
    "duration": 758,
    "start_time": "2021-09-06T16:10:52.384Z"
   },
   {
    "duration": 756,
    "start_time": "2021-09-06T16:11:04.433Z"
   },
   {
    "duration": 732,
    "start_time": "2021-09-06T16:11:15.334Z"
   },
   {
    "duration": 991,
    "start_time": "2021-09-06T16:11:37.409Z"
   },
   {
    "duration": 799,
    "start_time": "2021-09-06T16:11:53.121Z"
   },
   {
    "duration": 814,
    "start_time": "2021-09-06T16:12:03.584Z"
   },
   {
    "duration": 941,
    "start_time": "2021-09-06T16:13:13.985Z"
   },
   {
    "duration": 885,
    "start_time": "2021-09-06T16:13:43.506Z"
   },
   {
    "duration": 884,
    "start_time": "2021-09-06T16:14:45.687Z"
   },
   {
    "duration": 263,
    "start_time": "2021-09-06T16:17:37.689Z"
   },
   {
    "duration": 299,
    "start_time": "2021-09-06T16:18:11.474Z"
   },
   {
    "duration": 266,
    "start_time": "2021-09-06T16:18:23.225Z"
   },
   {
    "duration": 269,
    "start_time": "2021-09-06T16:18:30.602Z"
   },
   {
    "duration": 17,
    "start_time": "2021-09-06T16:18:54.488Z"
   },
   {
    "duration": 91,
    "start_time": "2021-09-06T16:19:15.440Z"
   },
   {
    "duration": 90,
    "start_time": "2021-09-06T16:20:40.353Z"
   },
   {
    "duration": 3,
    "start_time": "2021-09-06T16:21:27.726Z"
   },
   {
    "duration": 3,
    "start_time": "2021-09-06T16:22:49.763Z"
   },
   {
    "duration": 3,
    "start_time": "2021-09-06T16:24:45.155Z"
   },
   {
    "duration": 670,
    "start_time": "2021-09-06T16:26:20.764Z"
   },
   {
    "duration": 1138,
    "start_time": "2021-09-06T19:27:59.821Z"
   },
   {
    "duration": 758,
    "start_time": "2021-09-06T19:28:00.961Z"
   },
   {
    "duration": 105,
    "start_time": "2021-09-06T19:28:01.721Z"
   },
   {
    "duration": 3,
    "start_time": "2021-09-06T19:28:01.828Z"
   },
   {
    "duration": 367,
    "start_time": "2021-09-06T19:28:01.832Z"
   },
   {
    "duration": 153,
    "start_time": "2021-09-06T19:44:00.351Z"
   },
   {
    "duration": 2171,
    "start_time": "2021-09-06T19:44:00.933Z"
   },
   {
    "duration": 5987,
    "start_time": "2021-09-06T19:44:18.107Z"
   },
   {
    "duration": 111,
    "start_time": "2021-09-06T19:44:33.301Z"
   },
   {
    "duration": 5807,
    "start_time": "2021-09-06T19:44:35.935Z"
   },
   {
    "duration": 261,
    "start_time": "2021-09-06T19:45:29.671Z"
   },
   {
    "duration": 6390,
    "start_time": "2021-09-06T19:45:33.030Z"
   },
   {
    "duration": 136,
    "start_time": "2021-09-06T19:47:08.196Z"
   },
   {
    "duration": 281,
    "start_time": "2021-09-06T19:47:09.190Z"
   },
   {
    "duration": 90,
    "start_time": "2021-09-06T19:47:33.292Z"
   },
   {
    "duration": 439,
    "start_time": "2021-09-06T19:48:21.725Z"
   },
   {
    "duration": 87,
    "start_time": "2021-09-06T19:49:00.686Z"
   },
   {
    "duration": 340,
    "start_time": "2021-09-06T19:49:13.998Z"
   },
   {
    "duration": 148,
    "start_time": "2021-09-06T19:49:54.126Z"
   },
   {
    "duration": 7907,
    "start_time": "2021-09-06T19:49:55.776Z"
   },
   {
    "duration": 186,
    "start_time": "2021-09-06T19:52:09.745Z"
   },
   {
    "duration": 7347,
    "start_time": "2021-09-06T19:52:12.829Z"
   },
   {
    "duration": 7262,
    "start_time": "2021-09-06T19:52:32.504Z"
   },
   {
    "duration": 3,
    "start_time": "2021-09-06T19:52:46.655Z"
   },
   {
    "duration": 680,
    "start_time": "2021-09-06T19:52:46.660Z"
   },
   {
    "duration": 87,
    "start_time": "2021-09-06T19:52:47.343Z"
   },
   {
    "duration": 125,
    "start_time": "2021-09-06T19:52:47.440Z"
   },
   {
    "duration": 7239,
    "start_time": "2021-09-06T19:52:47.567Z"
   },
   {
    "duration": 83,
    "start_time": "2021-09-06T19:53:27.222Z"
   },
   {
    "duration": 7494,
    "start_time": "2021-09-06T19:53:27.938Z"
   },
   {
    "duration": 6692,
    "start_time": "2021-09-06T19:53:38.404Z"
   },
   {
    "duration": 6442,
    "start_time": "2021-09-06T19:53:49.521Z"
   },
   {
    "duration": -21,
    "start_time": "2021-09-06T19:53:55.986Z"
   },
   {
    "duration": 89,
    "start_time": "2021-09-06T19:54:06.031Z"
   },
   {
    "duration": 7301,
    "start_time": "2021-09-06T19:54:06.590Z"
   },
   {
    "duration": 99,
    "start_time": "2021-09-06T19:55:00.049Z"
   },
   {
    "duration": 5706,
    "start_time": "2021-09-06T19:55:04.536Z"
   },
   {
    "duration": 3,
    "start_time": "2021-09-06T19:57:14.029Z"
   },
   {
    "duration": 731,
    "start_time": "2021-09-06T19:57:14.034Z"
   },
   {
    "duration": 112,
    "start_time": "2021-09-06T19:57:14.767Z"
   },
   {
    "duration": 106,
    "start_time": "2021-09-06T19:57:14.880Z"
   },
   {
    "duration": 6477,
    "start_time": "2021-09-06T19:57:14.988Z"
   },
   {
    "duration": 185,
    "start_time": "2021-09-06T19:57:47.211Z"
   },
   {
    "duration": 169,
    "start_time": "2021-09-06T19:58:06.130Z"
   },
   {
    "duration": 310,
    "start_time": "2021-09-06T19:58:48.264Z"
   },
   {
    "duration": 6053,
    "start_time": "2021-09-06T19:58:49.057Z"
   },
   {
    "duration": 5956,
    "start_time": "2021-09-06T19:59:19.496Z"
   },
   {
    "duration": 1049,
    "start_time": "2021-09-06T19:59:57.851Z"
   },
   {
    "duration": 315,
    "start_time": "2021-09-06T20:00:19.131Z"
   },
   {
    "duration": 257,
    "start_time": "2021-09-06T20:00:29.572Z"
   },
   {
    "duration": 269,
    "start_time": "2021-09-06T20:00:57.002Z"
   },
   {
    "duration": 344,
    "start_time": "2021-09-06T20:02:27.511Z"
   },
   {
    "duration": 198,
    "start_time": "2021-09-06T20:02:48.097Z"
   },
   {
    "duration": 5780,
    "start_time": "2021-09-06T20:02:53.234Z"
   },
   {
    "duration": 319,
    "start_time": "2021-09-06T20:03:12.122Z"
   },
   {
    "duration": 5710,
    "start_time": "2021-09-06T20:03:13.465Z"
   },
   {
    "duration": 122,
    "start_time": "2021-09-06T20:04:06.871Z"
   },
   {
    "duration": 263,
    "start_time": "2021-09-06T20:04:11.203Z"
   },
   {
    "duration": 102,
    "start_time": "2021-09-06T20:04:30.139Z"
   },
   {
    "duration": 312,
    "start_time": "2021-09-06T20:04:31.019Z"
   },
   {
    "duration": 3,
    "start_time": "2021-09-06T20:04:42.109Z"
   },
   {
    "duration": 705,
    "start_time": "2021-09-06T20:04:42.114Z"
   },
   {
    "duration": 103,
    "start_time": "2021-09-06T20:04:42.821Z"
   },
   {
    "duration": 96,
    "start_time": "2021-09-06T20:04:42.926Z"
   },
   {
    "duration": 276,
    "start_time": "2021-09-06T20:04:43.024Z"
   },
   {
    "duration": 105,
    "start_time": "2021-09-06T20:05:48.278Z"
   },
   {
    "duration": 109,
    "start_time": "2021-09-06T20:06:01.112Z"
   },
   {
    "duration": 498,
    "start_time": "2021-09-06T20:06:02.164Z"
   },
   {
    "duration": 294,
    "start_time": "2021-09-06T20:06:23.964Z"
   },
   {
    "duration": 5731,
    "start_time": "2021-09-06T20:06:24.670Z"
   },
   {
    "duration": 89,
    "start_time": "2021-09-06T20:06:32.900Z"
   },
   {
    "duration": 6256,
    "start_time": "2021-09-06T20:06:34.092Z"
   },
   {
    "duration": 271,
    "start_time": "2021-09-06T20:06:54.684Z"
   },
   {
    "duration": 6405,
    "start_time": "2021-09-06T20:06:55.570Z"
   },
   {
    "duration": 6479,
    "start_time": "2021-09-06T20:09:49.020Z"
   },
   {
    "duration": -22,
    "start_time": "2021-09-06T20:09:55.523Z"
   },
   {
    "duration": 269,
    "start_time": "2021-09-06T20:10:09.622Z"
   },
   {
    "duration": 7914,
    "start_time": "2021-09-06T20:10:10.837Z"
   },
   {
    "duration": 3,
    "start_time": "2021-09-07T09:11:20.280Z"
   },
   {
    "duration": 1026,
    "start_time": "2021-09-07T09:11:20.286Z"
   },
   {
    "duration": 86,
    "start_time": "2021-09-07T09:11:21.314Z"
   },
   {
    "duration": 280,
    "start_time": "2021-09-07T09:11:21.402Z"
   },
   {
    "duration": 7978,
    "start_time": "2021-09-07T09:11:21.684Z"
   },
   {
    "duration": 3,
    "start_time": "2021-09-07T10:35:44.943Z"
   },
   {
    "duration": 713,
    "start_time": "2021-09-07T10:35:44.952Z"
   },
   {
    "duration": 94,
    "start_time": "2021-09-07T10:35:45.667Z"
   },
   {
    "duration": 288,
    "start_time": "2021-09-07T10:35:45.763Z"
   },
   {
    "duration": 8193,
    "start_time": "2021-09-07T10:35:46.053Z"
   },
   {
    "duration": 246,
    "start_time": "2021-09-07T10:37:05.910Z"
   },
   {
    "duration": 8194,
    "start_time": "2021-09-07T10:37:07.253Z"
   },
   {
    "duration": 248,
    "start_time": "2021-09-07T10:42:48.502Z"
   },
   {
    "duration": 7997,
    "start_time": "2021-09-07T10:42:50.662Z"
   },
   {
    "duration": 245,
    "start_time": "2021-09-07T10:43:11.439Z"
   },
   {
    "duration": 7963,
    "start_time": "2021-09-07T10:43:11.738Z"
   },
   {
    "duration": 247,
    "start_time": "2021-09-07T10:43:33.549Z"
   },
   {
    "duration": 7221,
    "start_time": "2021-09-07T10:43:34.277Z"
   },
   {
    "duration": 125,
    "start_time": "2021-09-07T10:49:44.811Z"
   },
   {
    "duration": 8045,
    "start_time": "2021-09-07T10:49:45.103Z"
   },
   {
    "duration": 383,
    "start_time": "2021-09-07T10:50:38.806Z"
   },
   {
    "duration": 383,
    "start_time": "2021-09-07T10:50:54.078Z"
   },
   {
    "duration": 394,
    "start_time": "2021-09-07T10:51:00.253Z"
   },
   {
    "duration": 381,
    "start_time": "2021-09-07T10:51:25.805Z"
   },
   {
    "duration": 7740,
    "start_time": "2021-09-07T10:51:38.357Z"
   },
   {
    "duration": 123,
    "start_time": "2021-09-07T10:52:04.740Z"
   },
   {
    "duration": 88,
    "start_time": "2021-09-07T11:03:32.184Z"
   },
   {
    "duration": 81,
    "start_time": "2021-09-07T11:05:19.367Z"
   },
   {
    "duration": 300,
    "start_time": "2021-09-07T11:05:25.094Z"
   },
   {
    "duration": 38,
    "start_time": "2021-09-07T11:05:33.149Z"
   },
   {
    "duration": 18,
    "start_time": "2021-09-07T11:06:10.293Z"
   },
   {
    "duration": 3,
    "start_time": "2021-09-07T11:06:13.315Z"
   },
   {
    "duration": 675,
    "start_time": "2021-09-07T11:06:13.324Z"
   },
   {
    "duration": 92,
    "start_time": "2021-09-07T11:06:14.001Z"
   },
   {
    "duration": 18,
    "start_time": "2021-09-07T11:06:14.096Z"
   },
   {
    "duration": 111,
    "start_time": "2021-09-07T11:06:14.115Z"
   },
   {
    "duration": 5567,
    "start_time": "2021-09-07T11:06:14.228Z"
   },
   {
    "duration": 91,
    "start_time": "2021-09-07T11:06:27.741Z"
   },
   {
    "duration": 19,
    "start_time": "2021-09-07T11:06:40.203Z"
   },
   {
    "duration": 18,
    "start_time": "2021-09-07T11:07:19.778Z"
   },
   {
    "duration": 19,
    "start_time": "2021-09-07T11:07:25.626Z"
   },
   {
    "duration": 19,
    "start_time": "2021-09-07T11:07:41.061Z"
   },
   {
    "duration": 18,
    "start_time": "2021-09-07T11:07:56.321Z"
   },
   {
    "duration": 19,
    "start_time": "2021-09-07T11:08:19.450Z"
   },
   {
    "duration": 115,
    "start_time": "2021-09-07T11:09:10.009Z"
   },
   {
    "duration": 136,
    "start_time": "2021-09-07T11:09:43.336Z"
   },
   {
    "duration": 185,
    "start_time": "2021-09-07T11:12:38.014Z"
   },
   {
    "duration": 7097,
    "start_time": "2021-09-07T11:18:10.897Z"
   },
   {
    "duration": 278,
    "start_time": "2021-09-07T11:18:31.223Z"
   },
   {
    "duration": 87,
    "start_time": "2021-09-07T11:20:05.709Z"
   },
   {
    "duration": 873,
    "start_time": "2021-09-07T11:20:14.883Z"
   },
   {
    "duration": 373,
    "start_time": "2021-09-07T11:20:20.284Z"
   },
   {
    "duration": 84,
    "start_time": "2021-09-07T11:28:31.436Z"
   },
   {
    "duration": 85,
    "start_time": "2021-09-07T11:28:35.962Z"
   },
   {
    "duration": 7951,
    "start_time": "2021-09-07T11:28:36.219Z"
   },
   {
    "duration": 98,
    "start_time": "2021-09-07T11:29:15.323Z"
   },
   {
    "duration": 86,
    "start_time": "2021-09-07T11:29:15.729Z"
   },
   {
    "duration": 7240,
    "start_time": "2021-09-07T11:29:16.059Z"
   },
   {
    "duration": 195,
    "start_time": "2021-09-07T11:29:49.705Z"
   },
   {
    "duration": 303,
    "start_time": "2021-09-07T11:30:39.289Z"
   },
   {
    "duration": 283,
    "start_time": "2021-09-07T11:32:42.255Z"
   },
   {
    "duration": 293,
    "start_time": "2021-09-07T11:33:33.126Z"
   },
   {
    "duration": 271,
    "start_time": "2021-09-07T11:34:01.326Z"
   },
   {
    "duration": 283,
    "start_time": "2021-09-07T11:34:40.708Z"
   },
   {
    "duration": 263,
    "start_time": "2021-09-07T11:35:12.627Z"
   },
   {
    "duration": 112,
    "start_time": "2021-09-07T11:35:20.835Z"
   },
   {
    "duration": 4,
    "start_time": "2021-09-07T11:35:34.643Z"
   },
   {
    "duration": 4,
    "start_time": "2021-09-07T11:35:43.395Z"
   },
   {
    "duration": 261,
    "start_time": "2021-09-07T11:35:55.995Z"
   },
   {
    "duration": 10,
    "start_time": "2021-09-07T11:36:05.930Z"
   },
   {
    "duration": 10,
    "start_time": "2021-09-07T11:36:13.819Z"
   },
   {
    "duration": 7,
    "start_time": "2021-09-07T11:36:23.209Z"
   },
   {
    "duration": 3,
    "start_time": "2021-09-07T11:36:28.585Z"
   },
   {
    "duration": 687,
    "start_time": "2021-09-07T11:36:28.592Z"
   },
   {
    "duration": 91,
    "start_time": "2021-09-07T11:36:29.281Z"
   },
   {
    "duration": 89,
    "start_time": "2021-09-07T11:36:29.374Z"
   },
   {
    "duration": 56,
    "start_time": "2021-09-07T11:36:29.465Z"
   },
   {
    "duration": 258,
    "start_time": "2021-09-07T11:36:29.523Z"
   },
   {
    "duration": 3,
    "start_time": "2021-09-07T11:37:00.383Z"
   },
   {
    "duration": 690,
    "start_time": "2021-09-07T11:37:00.390Z"
   },
   {
    "duration": 93,
    "start_time": "2021-09-07T11:37:01.082Z"
   },
   {
    "duration": 99,
    "start_time": "2021-09-07T11:37:01.178Z"
   },
   {
    "duration": 75,
    "start_time": "2021-09-07T11:37:01.279Z"
   },
   {
    "duration": 7444,
    "start_time": "2021-09-07T11:37:01.356Z"
   },
   {
    "duration": 80,
    "start_time": "2021-09-07T11:37:30.103Z"
   },
   {
    "duration": 60,
    "start_time": "2021-09-07T11:37:34.559Z"
   },
   {
    "duration": 7757,
    "start_time": "2021-09-07T11:37:34.881Z"
   },
   {
    "duration": 3,
    "start_time": "2021-09-07T11:38:00.487Z"
   },
   {
    "duration": 692,
    "start_time": "2021-09-07T11:38:00.498Z"
   },
   {
    "duration": 100,
    "start_time": "2021-09-07T11:38:01.192Z"
   },
   {
    "duration": 108,
    "start_time": "2021-09-07T11:38:01.294Z"
   },
   {
    "duration": 75,
    "start_time": "2021-09-07T11:38:01.404Z"
   },
   {
    "duration": 7476,
    "start_time": "2021-09-07T11:38:01.481Z"
   },
   {
    "duration": 82,
    "start_time": "2021-09-07T11:40:45.058Z"
   },
   {
    "duration": 129,
    "start_time": "2021-09-07T11:41:43.758Z"
   },
   {
    "duration": 514,
    "start_time": "2021-09-07T11:41:55.468Z"
   },
   {
    "duration": 365,
    "start_time": "2021-09-07T11:47:30.486Z"
   },
   {
    "duration": 1227,
    "start_time": "2021-09-07T11:53:58.344Z"
   },
   {
    "duration": 794,
    "start_time": "2021-09-07T11:53:59.573Z"
   },
   {
    "duration": 157,
    "start_time": "2021-09-07T11:54:00.370Z"
   },
   {
    "duration": 95,
    "start_time": "2021-09-07T11:54:00.529Z"
   },
   {
    "duration": 48,
    "start_time": "2021-09-07T11:54:00.578Z"
   },
   {
    "duration": 36,
    "start_time": "2021-09-07T11:54:00.591Z"
   },
   {
    "duration": 3,
    "start_time": "2021-09-07T11:54:00.743Z"
   },
   {
    "duration": 792,
    "start_time": "2021-09-07T11:54:00.751Z"
   },
   {
    "duration": 106,
    "start_time": "2021-09-07T11:54:01.545Z"
   },
   {
    "duration": 89,
    "start_time": "2021-09-07T11:54:01.653Z"
   },
   {
    "duration": 53,
    "start_time": "2021-09-07T11:54:01.691Z"
   },
   {
    "duration": 33,
    "start_time": "2021-09-07T11:54:01.712Z"
   },
   {
    "duration": 541,
    "start_time": "2021-09-07T11:54:18.768Z"
   },
   {
    "duration": 119,
    "start_time": "2021-09-07T14:27:19.205Z"
   },
   {
    "duration": 393,
    "start_time": "2021-09-07T14:36:53.585Z"
   },
   {
    "duration": 1065,
    "start_time": "2021-09-07T14:37:02.979Z"
   },
   {
    "duration": 1095,
    "start_time": "2021-09-07T14:37:04.046Z"
   },
   {
    "duration": 102,
    "start_time": "2021-09-07T14:37:05.143Z"
   },
   {
    "duration": 444,
    "start_time": "2021-09-07T14:37:05.247Z"
   },
   {
    "duration": -7,
    "start_time": "2021-09-07T14:37:05.700Z"
   },
   {
    "duration": -18,
    "start_time": "2021-09-07T14:37:05.712Z"
   },
   {
    "duration": 1014,
    "start_time": "2021-09-07T14:38:32.393Z"
   },
   {
    "duration": 755,
    "start_time": "2021-09-07T14:38:33.409Z"
   },
   {
    "duration": 114,
    "start_time": "2021-09-07T14:38:34.166Z"
   },
   {
    "duration": 1053,
    "start_time": "2021-09-07T14:51:44.488Z"
   },
   {
    "duration": 1044,
    "start_time": "2021-09-07T14:51:45.543Z"
   },
   {
    "duration": 106,
    "start_time": "2021-09-07T14:51:46.589Z"
   },
   {
    "duration": 1078,
    "start_time": "2021-09-07T14:53:10.327Z"
   },
   {
    "duration": 734,
    "start_time": "2021-09-07T14:53:11.407Z"
   },
   {
    "duration": 109,
    "start_time": "2021-09-07T14:53:12.144Z"
   },
   {
    "duration": 1029,
    "start_time": "2021-09-07T14:54:04.275Z"
   },
   {
    "duration": 754,
    "start_time": "2021-09-07T14:54:05.306Z"
   },
   {
    "duration": 113,
    "start_time": "2021-09-07T14:54:06.061Z"
   },
   {
    "duration": 313,
    "start_time": "2021-09-07T14:54:06.176Z"
   },
   {
    "duration": 72,
    "start_time": "2021-09-07T14:54:06.491Z"
   },
   {
    "duration": 8252,
    "start_time": "2021-09-07T14:54:06.564Z"
   },
   {
    "duration": 3,
    "start_time": "2021-09-07T14:54:27.756Z"
   },
   {
    "duration": 740,
    "start_time": "2021-09-07T14:54:27.766Z"
   },
   {
    "duration": 97,
    "start_time": "2021-09-07T14:54:28.508Z"
   },
   {
    "duration": 273,
    "start_time": "2021-09-07T14:54:28.607Z"
   },
   {
    "duration": 74,
    "start_time": "2021-09-07T14:54:28.881Z"
   },
   {
    "duration": 2,
    "start_time": "2021-09-07T14:54:28.957Z"
   },
   {
    "duration": 3,
    "start_time": "2021-09-07T14:54:41.196Z"
   },
   {
    "duration": 725,
    "start_time": "2021-09-07T14:54:41.206Z"
   },
   {
    "duration": 94,
    "start_time": "2021-09-07T14:54:41.933Z"
   },
   {
    "duration": 1053,
    "start_time": "2021-09-07T14:55:36.550Z"
   },
   {
    "duration": 752,
    "start_time": "2021-09-07T14:55:37.605Z"
   },
   {
    "duration": 107,
    "start_time": "2021-09-07T14:55:38.362Z"
   },
   {
    "duration": 315,
    "start_time": "2021-09-07T15:01:45.235Z"
   },
   {
    "duration": 258,
    "start_time": "2021-09-07T15:02:16.458Z"
   },
   {
    "duration": 1101,
    "start_time": "2021-09-07T15:02:19.819Z"
   },
   {
    "duration": 794,
    "start_time": "2021-09-07T15:02:20.922Z"
   },
   {
    "duration": 101,
    "start_time": "2021-09-07T15:02:21.719Z"
   },
   {
    "duration": 5450,
    "start_time": "2021-09-07T15:02:21.822Z"
   },
   {
    "duration": 9,
    "start_time": "2021-09-07T15:02:27.265Z"
   },
   {
    "duration": -4,
    "start_time": "2021-09-07T15:02:27.279Z"
   },
   {
    "duration": 5112,
    "start_time": "2021-09-07T15:02:57.804Z"
   },
   {
    "duration": 1094,
    "start_time": "2021-09-07T15:04:03.257Z"
   },
   {
    "duration": 760,
    "start_time": "2021-09-07T15:04:04.352Z"
   },
   {
    "duration": 106,
    "start_time": "2021-09-07T15:04:05.117Z"
   },
   {
    "duration": 303,
    "start_time": "2021-09-07T15:07:41.638Z"
   },
   {
    "duration": 1107,
    "start_time": "2021-09-07T15:07:45.806Z"
   },
   {
    "duration": 742,
    "start_time": "2021-09-07T15:07:46.915Z"
   },
   {
    "duration": 109,
    "start_time": "2021-09-07T15:07:47.659Z"
   },
   {
    "duration": 33086,
    "start_time": "2021-09-07T15:07:47.770Z"
   },
   {
    "duration": 133,
    "start_time": "2021-09-07T15:08:20.858Z"
   },
   {
    "duration": 2,
    "start_time": "2021-09-07T15:08:20.993Z"
   },
   {
    "duration": 3,
    "start_time": "2021-09-07T15:09:36.768Z"
   },
   {
    "duration": 733,
    "start_time": "2021-09-07T15:09:36.776Z"
   },
   {
    "duration": 98,
    "start_time": "2021-09-07T15:09:37.511Z"
   },
   {
    "duration": 571,
    "start_time": "2021-09-07T15:09:37.611Z"
   },
   {
    "duration": 102,
    "start_time": "2021-09-07T15:09:38.183Z"
   },
   {
    "duration": 2,
    "start_time": "2021-09-07T15:09:38.287Z"
   },
   {
    "duration": 872,
    "start_time": "2021-09-07T15:10:03.598Z"
   },
   {
    "duration": 821,
    "start_time": "2021-09-07T15:10:08.303Z"
   },
   {
    "duration": 572,
    "start_time": "2021-09-07T15:10:14.783Z"
   },
   {
    "duration": 698,
    "start_time": "2021-09-07T15:10:40.567Z"
   },
   {
    "duration": 730,
    "start_time": "2021-09-07T15:10:43.412Z"
   },
   {
    "duration": 99,
    "start_time": "2021-09-07T15:10:44.144Z"
   },
   {
    "duration": 574,
    "start_time": "2021-09-07T15:10:44.245Z"
   },
   {
    "duration": 98,
    "start_time": "2021-09-07T15:10:44.821Z"
   },
   {
    "duration": 554,
    "start_time": "2021-09-07T15:11:21.526Z"
   },
   {
    "duration": 399,
    "start_time": "2021-09-07T15:12:24.500Z"
   },
   {
    "duration": 90,
    "start_time": "2021-09-07T15:13:26.971Z"
   },
   {
    "duration": 82,
    "start_time": "2021-09-07T15:13:36.170Z"
   },
   {
    "duration": 300,
    "start_time": "2021-09-07T15:13:47.018Z"
   },
   {
    "duration": 1776,
    "start_time": "2021-09-07T15:13:56.372Z"
   },
   {
    "duration": 818,
    "start_time": "2021-09-07T15:15:04.801Z"
   },
   {
    "duration": 84,
    "start_time": "2021-09-07T15:15:35.464Z"
   },
   {
    "duration": 813,
    "start_time": "2021-09-07T15:15:39.063Z"
   },
   {
    "duration": 802,
    "start_time": "2021-09-07T15:15:46.079Z"
   },
   {
    "duration": 835,
    "start_time": "2021-09-07T15:18:23.869Z"
   },
   {
    "duration": 843,
    "start_time": "2021-09-07T15:19:09.604Z"
   },
   {
    "duration": 558,
    "start_time": "2021-09-07T15:20:01.148Z"
   },
   {
    "duration": 2814,
    "start_time": "2021-09-07T15:20:15.667Z"
   },
   {
    "duration": 306,
    "start_time": "2021-09-07T15:20:31.100Z"
   },
   {
    "duration": 577,
    "start_time": "2021-09-07T15:20:41.546Z"
   },
   {
    "duration": 6427,
    "start_time": "2021-09-07T15:21:49.978Z"
   },
   {
    "duration": 3,
    "start_time": "2021-09-07T15:22:07.800Z"
   },
   {
    "duration": 721,
    "start_time": "2021-09-07T15:22:07.810Z"
   },
   {
    "duration": 89,
    "start_time": "2021-09-07T15:22:08.540Z"
   },
   {
    "duration": 583,
    "start_time": "2021-09-07T15:22:08.631Z"
   },
   {
    "duration": 1145,
    "start_time": "2021-09-07T15:22:09.216Z"
   },
   {
    "duration": -28,
    "start_time": "2021-09-07T15:22:10.391Z"
   },
   {
    "duration": -42,
    "start_time": "2021-09-07T15:22:10.406Z"
   },
   {
    "duration": 327,
    "start_time": "2021-09-07T15:22:55.561Z"
   },
   {
    "duration": 3,
    "start_time": "2021-09-07T15:23:01.030Z"
   },
   {
    "duration": 734,
    "start_time": "2021-09-07T15:23:01.038Z"
   },
   {
    "duration": 103,
    "start_time": "2021-09-07T15:23:01.774Z"
   },
   {
    "duration": 101,
    "start_time": "2021-09-07T15:23:01.879Z"
   },
   {
    "duration": -30,
    "start_time": "2021-09-07T15:23:02.013Z"
   },
   {
    "duration": -42,
    "start_time": "2021-09-07T15:23:02.026Z"
   },
   {
    "duration": -52,
    "start_time": "2021-09-07T15:23:02.038Z"
   },
   {
    "duration": 3,
    "start_time": "2021-09-07T15:23:11.422Z"
   },
   {
    "duration": 679,
    "start_time": "2021-09-07T15:23:11.432Z"
   },
   {
    "duration": 97,
    "start_time": "2021-09-07T15:23:12.113Z"
   },
   {
    "duration": 584,
    "start_time": "2021-09-07T15:23:12.211Z"
   },
   {
    "duration": 346,
    "start_time": "2021-09-07T15:23:12.797Z"
   },
   {
    "duration": -45,
    "start_time": "2021-09-07T15:23:13.190Z"
   },
   {
    "duration": -58,
    "start_time": "2021-09-07T15:23:13.204Z"
   },
   {
    "duration": 306,
    "start_time": "2021-09-07T15:23:47.554Z"
   },
   {
    "duration": 3,
    "start_time": "2021-09-07T15:23:50.221Z"
   },
   {
    "duration": 736,
    "start_time": "2021-09-07T15:23:50.232Z"
   },
   {
    "duration": 95,
    "start_time": "2021-09-07T15:23:50.969Z"
   },
   {
    "duration": 591,
    "start_time": "2021-09-07T15:23:51.066Z"
   },
   {
    "duration": 340,
    "start_time": "2021-09-07T15:23:51.659Z"
   },
   {
    "duration": -23,
    "start_time": "2021-09-07T15:23:52.024Z"
   },
   {
    "duration": -36,
    "start_time": "2021-09-07T15:23:52.038Z"
   },
   {
    "duration": 358,
    "start_time": "2021-09-07T15:24:09.415Z"
   },
   {
    "duration": 302,
    "start_time": "2021-09-07T15:25:36.118Z"
   },
   {
    "duration": 305,
    "start_time": "2021-09-07T15:25:41.343Z"
   },
   {
    "duration": 3,
    "start_time": "2021-09-07T15:25:44.341Z"
   },
   {
    "duration": 715,
    "start_time": "2021-09-07T15:25:44.351Z"
   },
   {
    "duration": 97,
    "start_time": "2021-09-07T15:25:45.068Z"
   },
   {
    "duration": 590,
    "start_time": "2021-09-07T15:25:45.167Z"
   },
   {
    "duration": 314,
    "start_time": "2021-09-07T15:25:45.759Z"
   },
   {
    "duration": -13,
    "start_time": "2021-09-07T15:25:46.088Z"
   },
   {
    "duration": -29,
    "start_time": "2021-09-07T15:25:46.105Z"
   },
   {
    "duration": 590,
    "start_time": "2021-09-07T15:29:14.953Z"
   },
   {
    "duration": 346,
    "start_time": "2021-09-07T15:29:57.030Z"
   },
   {
    "duration": 2,
    "start_time": "2021-09-07T15:31:24.588Z"
   },
   {
    "duration": 88,
    "start_time": "2021-09-07T15:31:25.118Z"
   },
   {
    "duration": 6164,
    "start_time": "2021-09-07T15:31:25.829Z"
   },
   {
    "duration": 86,
    "start_time": "2021-09-07T15:35:40.401Z"
   },
   {
    "duration": 89,
    "start_time": "2021-09-07T15:35:46.314Z"
   },
   {
    "duration": 444,
    "start_time": "2021-09-07T15:36:00.027Z"
   },
   {
    "duration": 347,
    "start_time": "2021-09-07T15:37:44.186Z"
   },
   {
    "duration": 1158,
    "start_time": "2021-09-07T15:38:12.970Z"
   },
   {
    "duration": 99,
    "start_time": "2021-09-07T15:38:14.130Z"
   },
   {
    "duration": 92,
    "start_time": "2021-09-07T15:38:32.734Z"
   },
   {
    "duration": 2184,
    "start_time": "2021-09-07T15:38:37.001Z"
   },
   {
    "duration": -35,
    "start_time": "2021-09-07T15:39:43.913Z"
   },
   {
    "duration": -54,
    "start_time": "2021-09-07T15:39:43.933Z"
   },
   {
    "duration": -66,
    "start_time": "2021-09-07T15:39:43.946Z"
   },
   {
    "duration": -79,
    "start_time": "2021-09-07T15:39:43.960Z"
   },
   {
    "duration": -89,
    "start_time": "2021-09-07T15:39:43.971Z"
   },
   {
    "duration": -101,
    "start_time": "2021-09-07T15:39:43.984Z"
   },
   {
    "duration": -112,
    "start_time": "2021-09-07T15:39:43.996Z"
   },
   {
    "duration": 3,
    "start_time": "2021-09-07T15:39:51.755Z"
   },
   {
    "duration": 696,
    "start_time": "2021-09-07T15:39:51.761Z"
   },
   {
    "duration": 97,
    "start_time": "2021-09-07T15:39:52.459Z"
   },
   {
    "duration": 581,
    "start_time": "2021-09-07T15:39:52.558Z"
   },
   {
    "duration": 2228,
    "start_time": "2021-09-07T15:39:53.141Z"
   },
   {
    "duration": 98,
    "start_time": "2021-09-07T15:39:55.371Z"
   },
   {
    "duration": 2,
    "start_time": "2021-09-07T15:39:55.471Z"
   },
   {
    "duration": 2417,
    "start_time": "2021-09-07T15:40:24.644Z"
   },
   {
    "duration": 2135,
    "start_time": "2021-09-07T15:40:40.028Z"
   },
   {
    "duration": 2130,
    "start_time": "2021-09-07T15:40:45.515Z"
   },
   {
    "duration": 2165,
    "start_time": "2021-09-07T15:40:58.395Z"
   },
   {
    "duration": 2215,
    "start_time": "2021-09-07T15:41:15.355Z"
   },
   {
    "duration": 2166,
    "start_time": "2021-09-07T15:41:21.914Z"
   },
   {
    "duration": 3,
    "start_time": "2021-09-07T15:42:09.329Z"
   },
   {
    "duration": 694,
    "start_time": "2021-09-07T15:42:09.336Z"
   },
   {
    "duration": 93,
    "start_time": "2021-09-07T15:42:10.033Z"
   },
   {
    "duration": 582,
    "start_time": "2021-09-07T15:42:10.128Z"
   },
   {
    "duration": 2,
    "start_time": "2021-09-07T15:42:10.712Z"
   },
   {
    "duration": 98,
    "start_time": "2021-09-07T15:42:10.716Z"
   },
   {
    "duration": 2,
    "start_time": "2021-09-07T15:42:10.815Z"
   },
   {
    "duration": 91,
    "start_time": "2021-09-07T15:42:57.121Z"
   },
   {
    "duration": 45,
    "start_time": "2021-09-07T15:43:28.529Z"
   },
   {
    "duration": 3,
    "start_time": "2021-09-07T15:43:41.144Z"
   },
   {
    "duration": 695,
    "start_time": "2021-09-07T15:43:41.155Z"
   },
   {
    "duration": 96,
    "start_time": "2021-09-07T15:43:41.852Z"
   },
   {
    "duration": 578,
    "start_time": "2021-09-07T15:43:41.950Z"
   },
   {
    "duration": 2,
    "start_time": "2021-09-07T15:43:42.530Z"
   },
   {
    "duration": 43,
    "start_time": "2021-09-07T15:43:42.540Z"
   },
   {
    "duration": 2,
    "start_time": "2021-09-07T15:43:42.585Z"
   },
   {
    "duration": 3,
    "start_time": "2021-09-07T15:44:18.486Z"
   },
   {
    "duration": 693,
    "start_time": "2021-09-07T15:44:18.496Z"
   },
   {
    "duration": 100,
    "start_time": "2021-09-07T15:44:19.191Z"
   },
   {
    "duration": 575,
    "start_time": "2021-09-07T15:44:19.293Z"
   },
   {
    "duration": 2,
    "start_time": "2021-09-07T15:44:19.870Z"
   },
   {
    "duration": 60,
    "start_time": "2021-09-07T15:44:19.873Z"
   },
   {
    "duration": 5756,
    "start_time": "2021-09-07T15:44:19.935Z"
   },
   {
    "duration": 200,
    "start_time": "2021-09-07T15:47:00.744Z"
   },
   {
    "duration": 200,
    "start_time": "2021-09-07T15:47:15.248Z"
   },
   {
    "duration": 186,
    "start_time": "2021-09-07T15:47:54.167Z"
   },
   {
    "duration": 3,
    "start_time": "2021-09-07T15:47:57.139Z"
   },
   {
    "duration": 2,
    "start_time": "2021-09-07T15:47:57.323Z"
   },
   {
    "duration": 44,
    "start_time": "2021-09-07T15:47:57.499Z"
   },
   {
    "duration": 6027,
    "start_time": "2021-09-07T15:47:57.717Z"
   },
   {
    "duration": 90,
    "start_time": "2021-09-07T15:48:39.300Z"
   },
   {
    "duration": -80,
    "start_time": "2021-09-07T15:48:47.385Z"
   },
   {
    "duration": -92,
    "start_time": "2021-09-07T15:48:47.398Z"
   },
   {
    "duration": -106,
    "start_time": "2021-09-07T15:48:47.412Z"
   },
   {
    "duration": -115,
    "start_time": "2021-09-07T15:48:47.422Z"
   },
   {
    "duration": -126,
    "start_time": "2021-09-07T15:48:47.434Z"
   },
   {
    "duration": -137,
    "start_time": "2021-09-07T15:48:47.446Z"
   },
   {
    "duration": -151,
    "start_time": "2021-09-07T15:48:47.461Z"
   },
   {
    "duration": 3,
    "start_time": "2021-09-07T15:48:53.185Z"
   },
   {
    "duration": 681,
    "start_time": "2021-09-07T15:48:53.192Z"
   },
   {
    "duration": 191,
    "start_time": "2021-09-07T15:48:53.875Z"
   },
   {
    "duration": 2,
    "start_time": "2021-09-07T15:48:54.068Z"
   },
   {
    "duration": 18,
    "start_time": "2021-09-07T15:48:54.071Z"
   },
   {
    "duration": 92,
    "start_time": "2021-09-07T15:48:54.091Z"
   },
   {
    "duration": 7321,
    "start_time": "2021-09-07T15:48:54.184Z"
   },
   {
    "duration": 86,
    "start_time": "2021-09-07T15:51:10.502Z"
   },
   {
    "duration": 8117,
    "start_time": "2021-09-07T15:51:10.993Z"
   },
   {
    "duration": 88,
    "start_time": "2021-09-07T15:52:52.477Z"
   },
   {
    "duration": 14,
    "start_time": "2021-09-07T15:53:32.343Z"
   },
   {
    "duration": 89,
    "start_time": "2021-09-07T15:53:48.653Z"
   },
   {
    "duration": 16,
    "start_time": "2021-09-07T15:53:48.844Z"
   },
   {
    "duration": 7231,
    "start_time": "2021-09-07T15:53:49.084Z"
   },
   {
    "duration": 54,
    "start_time": "2021-09-07T15:54:35.452Z"
   },
   {
    "duration": 60,
    "start_time": "2021-09-07T15:55:23.396Z"
   },
   {
    "duration": 89,
    "start_time": "2021-09-07T15:57:25.970Z"
   },
   {
    "duration": 87,
    "start_time": "2021-09-07T15:57:43.890Z"
   },
   {
    "duration": 61,
    "start_time": "2021-09-07T15:57:44.216Z"
   },
   {
    "duration": 3424,
    "start_time": "2021-09-07T15:57:45.840Z"
   },
   {
    "duration": 3,
    "start_time": "2021-09-07T16:02:33.024Z"
   },
   {
    "duration": 704,
    "start_time": "2021-09-07T16:02:33.031Z"
   },
   {
    "duration": 191,
    "start_time": "2021-09-07T16:02:33.737Z"
   },
   {
    "duration": 2,
    "start_time": "2021-09-07T16:02:33.930Z"
   },
   {
    "duration": 8,
    "start_time": "2021-09-07T16:02:33.933Z"
   },
   {
    "duration": 98,
    "start_time": "2021-09-07T16:02:33.943Z"
   },
   {
    "duration": 59,
    "start_time": "2021-09-07T16:02:34.043Z"
   },
   {
    "duration": 300,
    "start_time": "2021-09-07T16:02:34.104Z"
   },
   {
    "duration": 3,
    "start_time": "2021-09-07T16:05:17.320Z"
   },
   {
    "duration": 687,
    "start_time": "2021-09-07T16:05:18.329Z"
   },
   {
    "duration": 203,
    "start_time": "2021-09-07T16:05:19.018Z"
   },
   {
    "duration": 2,
    "start_time": "2021-09-07T16:05:19.224Z"
   },
   {
    "duration": 12,
    "start_time": "2021-09-07T16:05:19.229Z"
   },
   {
    "duration": 103,
    "start_time": "2021-09-07T16:05:19.242Z"
   },
   {
    "duration": 60,
    "start_time": "2021-09-07T16:05:19.346Z"
   },
   {
    "duration": 256,
    "start_time": "2021-09-07T16:05:20.785Z"
   },
   {
    "duration": 5621,
    "start_time": "2021-09-07T16:05:32.824Z"
   },
   {
    "duration": 3,
    "start_time": "2021-09-07T16:05:51.664Z"
   },
   {
    "duration": 697,
    "start_time": "2021-09-07T16:05:51.670Z"
   },
   {
    "duration": 198,
    "start_time": "2021-09-07T16:05:52.369Z"
   },
   {
    "duration": 3,
    "start_time": "2021-09-07T16:05:52.569Z"
   },
   {
    "duration": 24,
    "start_time": "2021-09-07T16:05:52.574Z"
   },
   {
    "duration": 99,
    "start_time": "2021-09-07T16:05:52.602Z"
   },
   {
    "duration": 70,
    "start_time": "2021-09-07T16:05:52.704Z"
   },
   {
    "duration": 4706,
    "start_time": "2021-09-07T16:05:52.776Z"
   },
   {
    "duration": 4620,
    "start_time": "2021-09-07T16:06:17.256Z"
   },
   {
    "duration": 4788,
    "start_time": "2021-09-07T16:06:29.158Z"
   },
   {
    "duration": 254,
    "start_time": "2021-09-07T16:07:56.837Z"
   },
   {
    "duration": 689,
    "start_time": "2021-09-07T16:07:57.684Z"
   },
   {
    "duration": 4,
    "start_time": "2021-09-07T16:08:04.687Z"
   },
   {
    "duration": 800,
    "start_time": "2021-09-07T16:08:05.388Z"
   },
   {
    "duration": 194,
    "start_time": "2021-09-07T16:08:06.190Z"
   },
   {
    "duration": 3,
    "start_time": "2021-09-07T16:08:06.387Z"
   },
   {
    "duration": 11,
    "start_time": "2021-09-07T16:08:06.392Z"
   },
   {
    "duration": 97,
    "start_time": "2021-09-07T16:08:06.405Z"
   },
   {
    "duration": 70,
    "start_time": "2021-09-07T16:08:06.504Z"
   },
   {
    "duration": 4518,
    "start_time": "2021-09-07T16:08:06.576Z"
   },
   {
    "duration": 249,
    "start_time": "2021-09-07T16:08:11.096Z"
   },
   {
    "duration": 5,
    "start_time": "2021-09-07T16:08:18.341Z"
   },
   {
    "duration": 167408,
    "start_time": "2021-09-07T16:11:56.848Z"
   },
   {
    "duration": 4,
    "start_time": "2021-09-07T16:14:44.257Z"
   },
   {
    "duration": 4,
    "start_time": "2021-09-07T16:15:21.877Z"
   },
   {
    "duration": 5,
    "start_time": "2021-09-07T16:15:56.125Z"
   },
   {
    "duration": 86,
    "start_time": "2021-09-07T16:16:49.460Z"
   },
   {
    "duration": 251,
    "start_time": "2021-09-07T16:19:12.505Z"
   },
   {
    "duration": 250,
    "start_time": "2021-09-07T16:19:18.489Z"
   },
   {
    "duration": 7234,
    "start_time": "2021-09-07T16:19:35.665Z"
   },
   {
    "duration": 3,
    "start_time": "2021-09-07T16:22:03.220Z"
   },
   {
    "duration": 743,
    "start_time": "2021-09-07T16:22:03.227Z"
   },
   {
    "duration": 204,
    "start_time": "2021-09-07T16:22:03.971Z"
   },
   {
    "duration": 815,
    "start_time": "2021-09-07T16:22:04.177Z"
   },
   {
    "duration": 2,
    "start_time": "2021-09-07T16:22:04.994Z"
   },
   {
    "duration": 144,
    "start_time": "2021-09-07T16:22:04.997Z"
   },
   {
    "duration": 8776,
    "start_time": "2021-09-07T16:22:05.143Z"
   },
   {
    "duration": -84,
    "start_time": "2021-09-07T16:22:14.006Z"
   },
   {
    "duration": -89,
    "start_time": "2021-09-07T16:22:14.012Z"
   },
   {
    "duration": 23396,
    "start_time": "2021-09-07T16:22:30.815Z"
   },
   {
    "duration": 3,
    "start_time": "2021-09-07T16:22:55.803Z"
   },
   {
    "duration": 711,
    "start_time": "2021-09-07T16:22:55.809Z"
   },
   {
    "duration": 192,
    "start_time": "2021-09-07T16:22:56.522Z"
   },
   {
    "duration": 809,
    "start_time": "2021-09-07T16:22:56.716Z"
   },
   {
    "duration": 14,
    "start_time": "2021-09-07T16:22:57.527Z"
   },
   {
    "duration": 150,
    "start_time": "2021-09-07T16:22:57.542Z"
   },
   {
    "duration": 29674,
    "start_time": "2021-09-07T16:22:57.694Z"
   },
   {
    "duration": -67,
    "start_time": "2021-09-07T16:23:27.437Z"
   },
   {
    "duration": -81,
    "start_time": "2021-09-07T16:23:27.452Z"
   },
   {
    "duration": 3,
    "start_time": "2021-09-07T16:23:29.554Z"
   },
   {
    "duration": 702,
    "start_time": "2021-09-07T16:23:29.561Z"
   },
   {
    "duration": 232,
    "start_time": "2021-09-07T16:23:30.265Z"
   },
   {
    "duration": 801,
    "start_time": "2021-09-07T16:23:30.499Z"
   },
   {
    "duration": 2,
    "start_time": "2021-09-07T16:23:31.302Z"
   },
   {
    "duration": 156,
    "start_time": "2021-09-07T16:23:31.305Z"
   },
   {
    "duration": 40306,
    "start_time": "2021-09-07T16:23:31.463Z"
   },
   {
    "duration": -69,
    "start_time": "2021-09-07T16:24:11.839Z"
   },
   {
    "duration": -79,
    "start_time": "2021-09-07T16:24:11.851Z"
   },
   {
    "duration": 4,
    "start_time": "2021-09-07T16:24:24.330Z"
   },
   {
    "duration": 696,
    "start_time": "2021-09-07T16:24:24.338Z"
   },
   {
    "duration": 203,
    "start_time": "2021-09-07T16:24:25.036Z"
   },
   {
    "duration": 813,
    "start_time": "2021-09-07T16:24:25.242Z"
   },
   {
    "duration": 2,
    "start_time": "2021-09-07T16:24:26.057Z"
   },
   {
    "duration": 157,
    "start_time": "2021-09-07T16:24:26.061Z"
   },
   {
    "duration": -191,
    "start_time": "2021-09-07T16:25:06.535Z"
   },
   {
    "duration": -202,
    "start_time": "2021-09-07T16:25:06.547Z"
   },
   {
    "duration": -214,
    "start_time": "2021-09-07T16:25:06.560Z"
   },
   {
    "duration": -225,
    "start_time": "2021-09-07T16:25:06.572Z"
   },
   {
    "duration": -237,
    "start_time": "2021-09-07T16:25:06.585Z"
   },
   {
    "duration": -248,
    "start_time": "2021-09-07T16:25:06.596Z"
   },
   {
    "duration": -279,
    "start_time": "2021-09-07T16:25:06.628Z"
   },
   {
    "duration": -288,
    "start_time": "2021-09-07T16:25:06.638Z"
   },
   {
    "duration": -290,
    "start_time": "2021-09-07T16:25:06.641Z"
   },
   {
    "duration": 1137,
    "start_time": "2021-09-07T16:25:09.867Z"
   },
   {
    "duration": 788,
    "start_time": "2021-09-07T16:25:11.005Z"
   },
   {
    "duration": 254,
    "start_time": "2021-09-07T16:25:11.795Z"
   },
   {
    "duration": 845,
    "start_time": "2021-09-07T16:25:12.052Z"
   },
   {
    "duration": 2,
    "start_time": "2021-09-07T16:25:12.899Z"
   },
   {
    "duration": 180,
    "start_time": "2021-09-07T16:25:12.902Z"
   },
   {
    "duration": 1149,
    "start_time": "2021-09-07T16:25:43.252Z"
   },
   {
    "duration": 770,
    "start_time": "2021-09-07T16:25:44.403Z"
   },
   {
    "duration": 283,
    "start_time": "2021-09-07T16:25:45.175Z"
   },
   {
    "duration": 823,
    "start_time": "2021-09-07T16:25:45.460Z"
   },
   {
    "duration": 2,
    "start_time": "2021-09-07T16:25:46.284Z"
   },
   {
    "duration": 180,
    "start_time": "2021-09-07T16:25:46.288Z"
   },
   {
    "duration": 1060,
    "start_time": "2021-09-07T16:33:22.037Z"
   },
   {
    "duration": 794,
    "start_time": "2021-09-07T16:33:23.098Z"
   },
   {
    "duration": 275,
    "start_time": "2021-09-07T16:33:23.896Z"
   },
   {
    "duration": 835,
    "start_time": "2021-09-07T16:33:24.173Z"
   },
   {
    "duration": 2,
    "start_time": "2021-09-07T16:33:25.010Z"
   },
   {
    "duration": 181,
    "start_time": "2021-09-07T16:33:25.014Z"
   },
   {
    "duration": 338,
    "start_time": "2021-09-07T16:33:25.196Z"
   },
   {
    "duration": -47,
    "start_time": "2021-09-07T16:33:25.583Z"
   },
   {
    "duration": -52,
    "start_time": "2021-09-07T16:33:25.589Z"
   },
   {
    "duration": -69,
    "start_time": "2021-09-07T16:33:25.607Z"
   },
   {
    "duration": 3,
    "start_time": "2021-09-07T16:33:31.063Z"
   },
   {
    "duration": 771,
    "start_time": "2021-09-07T16:33:31.073Z"
   },
   {
    "duration": 223,
    "start_time": "2021-09-07T16:33:31.846Z"
   },
   {
    "duration": 798,
    "start_time": "2021-09-07T16:33:32.071Z"
   },
   {
    "duration": 2,
    "start_time": "2021-09-07T16:33:32.871Z"
   },
   {
    "duration": 173,
    "start_time": "2021-09-07T16:33:32.875Z"
   },
   {
    "duration": 253,
    "start_time": "2021-09-07T16:33:33.050Z"
   },
   {
    "duration": -34,
    "start_time": "2021-09-07T16:33:33.338Z"
   },
   {
    "duration": -52,
    "start_time": "2021-09-07T16:33:33.357Z"
   },
   {
    "duration": -65,
    "start_time": "2021-09-07T16:33:33.371Z"
   },
   {
    "duration": 3,
    "start_time": "2021-09-07T16:33:40.653Z"
   },
   {
    "duration": 728,
    "start_time": "2021-09-07T16:33:40.659Z"
   },
   {
    "duration": 207,
    "start_time": "2021-09-07T16:33:41.389Z"
   },
   {
    "duration": 807,
    "start_time": "2021-09-07T16:33:41.598Z"
   },
   {
    "duration": 2,
    "start_time": "2021-09-07T16:33:42.407Z"
   },
   {
    "duration": 157,
    "start_time": "2021-09-07T16:33:42.410Z"
   },
   {
    "duration": 459,
    "start_time": "2021-09-07T16:33:42.569Z"
   },
   {
    "duration": -45,
    "start_time": "2021-09-07T16:33:43.075Z"
   },
   {
    "duration": -56,
    "start_time": "2021-09-07T16:33:43.087Z"
   },
   {
    "duration": -66,
    "start_time": "2021-09-07T16:33:43.098Z"
   },
   {
    "duration": 3,
    "start_time": "2021-09-07T16:33:45.373Z"
   },
   {
    "duration": 717,
    "start_time": "2021-09-07T16:33:45.383Z"
   },
   {
    "duration": 200,
    "start_time": "2021-09-07T16:33:46.102Z"
   },
   {
    "duration": 800,
    "start_time": "2021-09-07T16:33:46.304Z"
   },
   {
    "duration": 2,
    "start_time": "2021-09-07T16:33:47.106Z"
   },
   {
    "duration": 156,
    "start_time": "2021-09-07T16:33:47.110Z"
   },
   {
    "duration": 434,
    "start_time": "2021-09-07T16:33:47.268Z"
   },
   {
    "duration": -47,
    "start_time": "2021-09-07T16:33:47.750Z"
   },
   {
    "duration": -58,
    "start_time": "2021-09-07T16:33:47.762Z"
   },
   {
    "duration": -70,
    "start_time": "2021-09-07T16:33:47.775Z"
   },
   {
    "duration": 3,
    "start_time": "2021-09-07T16:33:59.885Z"
   },
   {
    "duration": 723,
    "start_time": "2021-09-07T16:33:59.895Z"
   },
   {
    "duration": 198,
    "start_time": "2021-09-07T16:34:00.620Z"
   },
   {
    "duration": 809,
    "start_time": "2021-09-07T16:34:00.820Z"
   },
   {
    "duration": 2,
    "start_time": "2021-09-07T16:34:01.631Z"
   },
   {
    "duration": 168,
    "start_time": "2021-09-07T16:34:01.635Z"
   },
   {
    "duration": 146,
    "start_time": "2021-09-07T16:34:01.804Z"
   },
   {
    "duration": 2,
    "start_time": "2021-09-07T16:34:02.042Z"
   },
   {
    "duration": 24,
    "start_time": "2021-09-07T16:36:49.962Z"
   },
   {
    "duration": 739,
    "start_time": "2021-09-07T16:36:49.988Z"
   },
   {
    "duration": 206,
    "start_time": "2021-09-07T16:36:50.729Z"
   },
   {
    "duration": 808,
    "start_time": "2021-09-07T16:36:50.937Z"
   },
   {
    "duration": 2,
    "start_time": "2021-09-07T16:36:51.748Z"
   },
   {
    "duration": 160,
    "start_time": "2021-09-07T16:36:51.752Z"
   },
   {
    "duration": 229,
    "start_time": "2021-09-07T16:36:51.913Z"
   },
   {
    "duration": 1022,
    "start_time": "2021-09-07T16:37:43.491Z"
   },
   {
    "duration": 766,
    "start_time": "2021-09-07T16:37:44.514Z"
   },
   {
    "duration": 282,
    "start_time": "2021-09-07T16:37:45.284Z"
   },
   {
    "duration": 822,
    "start_time": "2021-09-07T16:37:45.568Z"
   },
   {
    "duration": 2,
    "start_time": "2021-09-07T16:37:46.392Z"
   },
   {
    "duration": 181,
    "start_time": "2021-09-07T16:37:46.396Z"
   },
   {
    "duration": 170,
    "start_time": "2021-09-07T16:37:46.578Z"
   },
   {
    "duration": 23329,
    "start_time": "2021-09-07T16:37:46.751Z"
   },
   {
    "duration": 168174,
    "start_time": "2021-09-07T16:38:10.082Z"
   },
   {
    "duration": 3,
    "start_time": "2021-09-07T16:40:58.258Z"
   },
   {
    "duration": 3,
    "start_time": "2021-09-08T08:18:16.058Z"
   },
   {
    "duration": 798,
    "start_time": "2021-09-08T08:18:16.064Z"
   },
   {
    "duration": 257,
    "start_time": "2021-09-08T08:18:16.864Z"
   },
   {
    "duration": 853,
    "start_time": "2021-09-08T08:18:17.123Z"
   },
   {
    "duration": 2,
    "start_time": "2021-09-08T08:18:17.978Z"
   },
   {
    "duration": 179,
    "start_time": "2021-09-08T08:18:17.982Z"
   },
   {
    "duration": 175,
    "start_time": "2021-09-08T08:18:18.166Z"
   },
   {
    "duration": 410,
    "start_time": "2021-09-08T08:18:18.344Z"
   },
   {
    "duration": -131,
    "start_time": "2021-09-08T08:18:18.887Z"
   },
   {
    "duration": -141,
    "start_time": "2021-09-08T08:18:18.899Z"
   },
   {
    "duration": 23924,
    "start_time": "2021-09-08T08:26:53.061Z"
   },
   {
    "duration": 1030,
    "start_time": "2021-09-08T08:37:37.573Z"
   },
   {
    "duration": 986,
    "start_time": "2021-09-08T08:37:38.605Z"
   },
   {
    "duration": 239,
    "start_time": "2021-09-08T08:37:39.592Z"
   },
   {
    "duration": 819,
    "start_time": "2021-09-08T08:37:39.833Z"
   },
   {
    "duration": 2,
    "start_time": "2021-09-08T08:37:40.653Z"
   },
   {
    "duration": 169,
    "start_time": "2021-09-08T08:37:40.657Z"
   },
   {
    "duration": 132,
    "start_time": "2021-09-08T08:37:40.827Z"
   },
   {
    "duration": 805846,
    "start_time": "2021-09-08T08:37:40.960Z"
   },
   {
    "duration": 171933,
    "start_time": "2021-09-08T08:51:06.808Z"
   },
   {
    "duration": 5,
    "start_time": "2021-09-08T08:53:58.743Z"
   },
   {
    "duration": 3,
    "start_time": "2021-09-08T08:59:28.492Z"
   },
   {
    "duration": 1030,
    "start_time": "2021-09-08T08:59:28.499Z"
   },
   {
    "duration": 138,
    "start_time": "2021-09-08T08:59:29.531Z"
   },
   {
    "duration": 6,
    "start_time": "2021-09-08T08:59:29.665Z"
   },
   {
    "duration": -3,
    "start_time": "2021-09-08T08:59:29.674Z"
   },
   {
    "duration": -15,
    "start_time": "2021-09-08T08:59:29.687Z"
   },
   {
    "duration": -28,
    "start_time": "2021-09-08T08:59:29.701Z"
   },
   {
    "duration": -40,
    "start_time": "2021-09-08T08:59:29.714Z"
   },
   {
    "duration": -55,
    "start_time": "2021-09-08T08:59:29.729Z"
   },
   {
    "duration": -65,
    "start_time": "2021-09-08T08:59:29.740Z"
   },
   {
    "duration": 104,
    "start_time": "2021-09-08T08:59:53.765Z"
   },
   {
    "duration": 2119,
    "start_time": "2021-09-08T09:00:05.165Z"
   },
   {
    "duration": 875,
    "start_time": "2021-09-08T09:00:15.212Z"
   },
   {
    "duration": 3,
    "start_time": "2021-09-08T09:00:17.090Z"
   },
   {
    "duration": 151,
    "start_time": "2021-09-08T09:00:17.749Z"
   },
   {
    "duration": 222,
    "start_time": "2021-09-08T09:00:18.018Z"
   },
   {
    "duration": 1033,
    "start_time": "2021-09-08T09:00:35.691Z"
   },
   {
    "duration": 3,
    "start_time": "2021-09-08T09:00:40.181Z"
   },
   {
    "duration": 934,
    "start_time": "2021-09-08T09:00:40.193Z"
   },
   {
    "duration": 204,
    "start_time": "2021-09-08T09:00:41.129Z"
   },
   {
    "duration": 902,
    "start_time": "2021-09-08T09:00:41.335Z"
   },
   {
    "duration": 2000,
    "start_time": "2021-09-08T09:00:42.241Z"
   },
   {
    "duration": 3,
    "start_time": "2021-09-08T09:00:44.242Z"
   },
   {
    "duration": 164,
    "start_time": "2021-09-08T09:00:44.246Z"
   },
   {
    "duration": 239,
    "start_time": "2021-09-08T09:00:44.412Z"
   },
   {
    "duration": 1152,
    "start_time": "2021-09-08T09:04:28.954Z"
   },
   {
    "duration": 1023,
    "start_time": "2021-09-08T09:04:30.108Z"
   },
   {
    "duration": 257,
    "start_time": "2021-09-08T09:04:31.133Z"
   },
   {
    "duration": 804,
    "start_time": "2021-09-08T09:04:31.392Z"
   },
   {
    "duration": 2128,
    "start_time": "2021-09-08T09:04:32.198Z"
   },
   {
    "duration": 2,
    "start_time": "2021-09-08T09:04:34.328Z"
   },
   {
    "duration": 181,
    "start_time": "2021-09-08T09:04:34.340Z"
   },
   {
    "duration": 426,
    "start_time": "2021-09-08T09:04:34.523Z"
   },
   {
    "duration": 1100,
    "start_time": "2021-09-08T09:06:32.320Z"
   },
   {
    "duration": 1319,
    "start_time": "2021-09-08T09:06:33.422Z"
   },
   {
    "duration": 251,
    "start_time": "2021-09-08T09:06:34.746Z"
   },
   {
    "duration": 893,
    "start_time": "2021-09-08T09:06:34.998Z"
   },
   {
    "duration": 2075,
    "start_time": "2021-09-08T09:06:35.893Z"
   },
   {
    "duration": 2,
    "start_time": "2021-09-08T09:06:37.970Z"
   },
   {
    "duration": 183,
    "start_time": "2021-09-08T09:06:37.974Z"
   },
   {
    "duration": 389,
    "start_time": "2021-09-08T09:06:38.159Z"
   },
   {
    "duration": 1102,
    "start_time": "2021-09-08T09:09:42.112Z"
   },
   {
    "duration": 1300,
    "start_time": "2021-09-08T09:09:43.216Z"
   },
   {
    "duration": 98,
    "start_time": "2021-09-08T09:09:44.518Z"
   },
   {
    "duration": 925,
    "start_time": "2021-09-08T09:09:44.618Z"
   },
   {
    "duration": 360,
    "start_time": "2021-09-08T09:09:45.545Z"
   },
   {
    "duration": -45,
    "start_time": "2021-09-08T09:09:45.952Z"
   },
   {
    "duration": -58,
    "start_time": "2021-09-08T09:09:45.965Z"
   },
   {
    "duration": -71,
    "start_time": "2021-09-08T09:09:45.979Z"
   },
   {
    "duration": -81,
    "start_time": "2021-09-08T09:09:45.990Z"
   },
   {
    "duration": -92,
    "start_time": "2021-09-08T09:09:46.002Z"
   },
   {
    "duration": -104,
    "start_time": "2021-09-08T09:09:46.015Z"
   },
   {
    "duration": 3,
    "start_time": "2021-09-08T09:09:54.434Z"
   },
   {
    "duration": 1235,
    "start_time": "2021-09-08T09:09:54.445Z"
   },
   {
    "duration": 103,
    "start_time": "2021-09-08T09:09:55.682Z"
   },
   {
    "duration": 833,
    "start_time": "2021-09-08T09:09:55.787Z"
   },
   {
    "duration": 304,
    "start_time": "2021-09-08T09:09:56.622Z"
   },
   {
    "duration": -52,
    "start_time": "2021-09-08T09:09:56.980Z"
   },
   {
    "duration": -65,
    "start_time": "2021-09-08T09:09:56.994Z"
   },
   {
    "duration": -73,
    "start_time": "2021-09-08T09:09:57.004Z"
   },
   {
    "duration": -83,
    "start_time": "2021-09-08T09:09:57.016Z"
   },
   {
    "duration": -95,
    "start_time": "2021-09-08T09:09:57.029Z"
   },
   {
    "duration": -105,
    "start_time": "2021-09-08T09:09:57.040Z"
   },
   {
    "duration": 3,
    "start_time": "2021-09-08T09:11:38.838Z"
   },
   {
    "duration": 1165,
    "start_time": "2021-09-08T09:11:38.848Z"
   },
   {
    "duration": 106,
    "start_time": "2021-09-08T09:11:40.014Z"
   },
   {
    "duration": 830,
    "start_time": "2021-09-08T09:11:40.123Z"
   },
   {
    "duration": 356,
    "start_time": "2021-09-08T09:11:40.955Z"
   },
   {
    "duration": -70,
    "start_time": "2021-09-08T09:11:41.383Z"
   },
   {
    "duration": -81,
    "start_time": "2021-09-08T09:11:41.395Z"
   },
   {
    "duration": -93,
    "start_time": "2021-09-08T09:11:41.408Z"
   },
   {
    "duration": -105,
    "start_time": "2021-09-08T09:11:41.421Z"
   },
   {
    "duration": -117,
    "start_time": "2021-09-08T09:11:41.434Z"
   },
   {
    "duration": -129,
    "start_time": "2021-09-08T09:11:41.446Z"
   },
   {
    "duration": 110,
    "start_time": "2021-09-08T09:11:53.296Z"
   },
   {
    "duration": 187,
    "start_time": "2021-09-08T09:12:12.239Z"
   },
   {
    "duration": 3,
    "start_time": "2021-09-08T09:12:15.845Z"
   },
   {
    "duration": 1011,
    "start_time": "2021-09-08T09:12:15.855Z"
   },
   {
    "duration": 217,
    "start_time": "2021-09-08T09:12:16.868Z"
   },
   {
    "duration": 902,
    "start_time": "2021-09-08T09:12:17.087Z"
   },
   {
    "duration": 130,
    "start_time": "2021-09-08T09:12:17.991Z"
   },
   {
    "duration": 2,
    "start_time": "2021-09-08T09:12:18.122Z"
   },
   {
    "duration": 160,
    "start_time": "2021-09-08T09:12:18.126Z"
   },
   {
    "duration": 362,
    "start_time": "2021-09-08T09:12:18.287Z"
   },
   {
    "duration": 1028,
    "start_time": "2021-09-08T09:13:09.986Z"
   },
   {
    "duration": 983,
    "start_time": "2021-09-08T09:13:11.016Z"
   },
   {
    "duration": 240,
    "start_time": "2021-09-08T09:13:12.001Z"
   },
   {
    "duration": 853,
    "start_time": "2021-09-08T09:13:12.243Z"
   },
   {
    "duration": 360,
    "start_time": "2021-09-08T09:13:13.097Z"
   },
   {
    "duration": -70,
    "start_time": "2021-09-08T09:13:13.529Z"
   },
   {
    "duration": -82,
    "start_time": "2021-09-08T09:13:13.542Z"
   },
   {
    "duration": -91,
    "start_time": "2021-09-08T09:13:13.553Z"
   },
   {
    "duration": -102,
    "start_time": "2021-09-08T09:13:13.565Z"
   },
   {
    "duration": -114,
    "start_time": "2021-09-08T09:13:13.579Z"
   },
   {
    "duration": -126,
    "start_time": "2021-09-08T09:13:13.592Z"
   },
   {
    "duration": 3,
    "start_time": "2021-09-08T09:13:17.629Z"
   },
   {
    "duration": 1009,
    "start_time": "2021-09-08T09:13:17.635Z"
   },
   {
    "duration": 213,
    "start_time": "2021-09-08T09:13:18.646Z"
   },
   {
    "duration": 853,
    "start_time": "2021-09-08T09:13:18.861Z"
   },
   {
    "duration": 295,
    "start_time": "2021-09-08T09:13:19.716Z"
   },
   {
    "duration": -48,
    "start_time": "2021-09-08T09:13:20.061Z"
   },
   {
    "duration": -51,
    "start_time": "2021-09-08T09:13:20.065Z"
   },
   {
    "duration": -66,
    "start_time": "2021-09-08T09:13:20.081Z"
   },
   {
    "duration": -77,
    "start_time": "2021-09-08T09:13:20.093Z"
   },
   {
    "duration": -91,
    "start_time": "2021-09-08T09:13:20.108Z"
   },
   {
    "duration": -100,
    "start_time": "2021-09-08T09:13:20.118Z"
   },
   {
    "duration": 1041,
    "start_time": "2021-09-08T09:14:39.462Z"
   },
   {
    "duration": 981,
    "start_time": "2021-09-08T09:14:40.508Z"
   },
   {
    "duration": 247,
    "start_time": "2021-09-08T09:14:41.491Z"
   },
   {
    "duration": 825,
    "start_time": "2021-09-08T09:14:41.740Z"
   },
   {
    "duration": 1098,
    "start_time": "2021-09-08T09:26:12.615Z"
   },
   {
    "duration": 996,
    "start_time": "2021-09-08T09:26:13.715Z"
   },
   {
    "duration": 256,
    "start_time": "2021-09-08T09:26:14.716Z"
   },
   {
    "duration": 916,
    "start_time": "2021-09-08T09:26:14.973Z"
   },
   {
    "duration": 272,
    "start_time": "2021-09-08T09:26:15.890Z"
   },
   {
    "duration": 2,
    "start_time": "2021-09-08T09:26:16.164Z"
   },
   {
    "duration": 180,
    "start_time": "2021-09-08T09:26:16.167Z"
   },
   {
    "duration": 492,
    "start_time": "2021-09-08T09:26:16.349Z"
   },
   {
    "duration": 3,
    "start_time": "2021-09-08T09:26:16.843Z"
   },
   {
    "duration": 32,
    "start_time": "2021-09-08T09:26:16.848Z"
   },
   {
    "duration": 32,
    "start_time": "2021-09-08T09:26:16.881Z"
   },
   {
    "duration": 3,
    "start_time": "2021-09-08T09:26:23.334Z"
   },
   {
    "duration": 935,
    "start_time": "2021-09-08T09:26:23.342Z"
   },
   {
    "duration": 202,
    "start_time": "2021-09-08T09:26:24.278Z"
   },
   {
    "duration": 812,
    "start_time": "2021-09-08T09:26:24.482Z"
   },
   {
    "duration": 259,
    "start_time": "2021-09-08T09:26:25.296Z"
   },
   {
    "duration": 2,
    "start_time": "2021-09-08T09:26:25.557Z"
   },
   {
    "duration": 170,
    "start_time": "2021-09-08T09:26:25.561Z"
   },
   {
    "duration": 415,
    "start_time": "2021-09-08T09:26:25.732Z"
   },
   {
    "duration": 90,
    "start_time": "2021-09-08T09:26:26.151Z"
   },
   {
    "duration": 98,
    "start_time": "2021-09-08T09:26:26.244Z"
   },
   {
    "duration": 7,
    "start_time": "2021-09-08T09:26:26.344Z"
   },
   {
    "duration": 4,
    "start_time": "2021-09-08T09:26:53.135Z"
   },
   {
    "duration": 1000,
    "start_time": "2021-09-08T09:26:53.142Z"
   },
   {
    "duration": 188,
    "start_time": "2021-09-08T09:26:54.143Z"
   },
   {
    "duration": 900,
    "start_time": "2021-09-08T09:26:54.333Z"
   },
   {
    "duration": 19538,
    "start_time": "2021-09-08T09:26:55.234Z"
   },
   {
    "duration": 2,
    "start_time": "2021-09-08T09:27:14.774Z"
   },
   {
    "duration": 162,
    "start_time": "2021-09-08T09:27:14.778Z"
   },
   {
    "duration": 499,
    "start_time": "2021-09-08T09:27:14.942Z"
   },
   {
    "duration": 3,
    "start_time": "2021-09-08T09:27:15.444Z"
   },
   {
    "duration": 5,
    "start_time": "2021-09-08T09:27:15.450Z"
   },
   {
    "duration": 12,
    "start_time": "2021-09-08T09:27:15.456Z"
   },
   {
    "duration": 3,
    "start_time": "2021-09-08T09:28:50.044Z"
   },
   {
    "duration": 909,
    "start_time": "2021-09-08T09:28:50.054Z"
   },
   {
    "duration": 203,
    "start_time": "2021-09-08T09:28:50.965Z"
   },
   {
    "duration": 883,
    "start_time": "2021-09-08T09:28:51.170Z"
   },
   {
    "duration": 19663,
    "start_time": "2021-09-08T09:28:52.055Z"
   },
   {
    "duration": 3,
    "start_time": "2021-09-08T09:29:11.720Z"
   },
   {
    "duration": 152,
    "start_time": "2021-09-08T09:29:11.725Z"
   },
   {
    "duration": 363,
    "start_time": "2021-09-08T09:29:11.879Z"
   },
   {
    "duration": 3,
    "start_time": "2021-09-08T09:29:12.245Z"
   },
   {
    "duration": 94,
    "start_time": "2021-09-08T09:29:12.250Z"
   },
   {
    "duration": 9,
    "start_time": "2021-09-08T09:29:12.346Z"
   },
   {
    "duration": 3,
    "start_time": "2021-09-08T09:32:18.680Z"
   },
   {
    "duration": 1032,
    "start_time": "2021-09-08T09:32:18.690Z"
   },
   {
    "duration": 211,
    "start_time": "2021-09-08T09:32:19.724Z"
   },
   {
    "duration": 851,
    "start_time": "2021-09-08T09:32:19.937Z"
   },
   {
    "duration": 1107,
    "start_time": "2021-09-08T09:39:05.199Z"
   },
   {
    "duration": 996,
    "start_time": "2021-09-08T09:39:06.309Z"
   },
   {
    "duration": 244,
    "start_time": "2021-09-08T09:39:07.307Z"
   },
   {
    "duration": 825,
    "start_time": "2021-09-08T09:39:07.553Z"
   },
   {
    "duration": 4,
    "start_time": "2021-09-08T09:51:06.558Z"
   },
   {
    "duration": 1342,
    "start_time": "2021-09-08T09:51:06.563Z"
   },
   {
    "duration": 245,
    "start_time": "2021-09-08T09:51:07.907Z"
   },
   {
    "duration": 816,
    "start_time": "2021-09-08T09:51:08.153Z"
   },
   {
    "duration": 128,
    "start_time": "2021-09-08T09:51:08.971Z"
   },
   {
    "duration": 2,
    "start_time": "2021-09-08T09:51:09.101Z"
   },
   {
    "duration": 156,
    "start_time": "2021-09-08T09:51:09.104Z"
   },
   {
    "duration": 480,
    "start_time": "2021-09-08T09:51:09.262Z"
   },
   {
    "duration": 3,
    "start_time": "2021-09-08T09:51:09.744Z"
   },
   {
    "duration": 91,
    "start_time": "2021-09-08T09:51:09.750Z"
   },
   {
    "duration": 6,
    "start_time": "2021-09-08T09:51:09.843Z"
   },
   {
    "duration": 3,
    "start_time": "2021-09-08T09:51:22.815Z"
   },
   {
    "duration": 907,
    "start_time": "2021-09-08T09:51:22.822Z"
   },
   {
    "duration": 193,
    "start_time": "2021-09-08T09:51:23.731Z"
   },
   {
    "duration": 790,
    "start_time": "2021-09-08T09:51:23.926Z"
   },
   {
    "duration": 236428,
    "start_time": "2021-09-08T09:51:24.718Z"
   },
   {
    "duration": 2,
    "start_time": "2021-09-08T09:55:21.148Z"
   },
   {
    "duration": 161,
    "start_time": "2021-09-08T09:55:21.152Z"
   },
   {
    "duration": 428,
    "start_time": "2021-09-08T09:55:21.315Z"
   },
   {
    "duration": 3,
    "start_time": "2021-09-08T09:55:21.746Z"
   },
   {
    "duration": 89,
    "start_time": "2021-09-08T09:55:21.752Z"
   },
   {
    "duration": 26,
    "start_time": "2021-09-08T09:55:21.843Z"
   },
   {
    "duration": 3,
    "start_time": "2021-09-08T10:12:22.684Z"
   },
   {
    "duration": 990,
    "start_time": "2021-09-08T10:12:22.690Z"
   },
   {
    "duration": 230,
    "start_time": "2021-09-08T10:12:23.682Z"
   },
   {
    "duration": 913,
    "start_time": "2021-09-08T10:12:23.915Z"
   },
   {
    "duration": 1150,
    "start_time": "2021-09-08T10:14:42.568Z"
   },
   {
    "duration": 1081,
    "start_time": "2021-09-08T10:14:43.723Z"
   },
   {
    "duration": 280,
    "start_time": "2021-09-08T10:14:44.806Z"
   },
   {
    "duration": 912,
    "start_time": "2021-09-08T10:14:45.088Z"
   },
   {
    "duration": 229462,
    "start_time": "2021-09-08T10:14:46.002Z"
   },
   {
    "duration": 2,
    "start_time": "2021-09-08T10:18:35.466Z"
   },
   {
    "duration": 188,
    "start_time": "2021-09-08T10:18:35.470Z"
   },
   {
    "duration": 483,
    "start_time": "2021-09-08T10:18:35.660Z"
   },
   {
    "duration": 4,
    "start_time": "2021-09-08T10:18:36.146Z"
   },
   {
    "duration": 3,
    "start_time": "2021-09-08T10:18:36.241Z"
   },
   {
    "duration": 9,
    "start_time": "2021-09-08T10:18:36.245Z"
   },
   {
    "duration": 4,
    "start_time": "2021-09-08T10:18:45.801Z"
   },
   {
    "duration": 1212,
    "start_time": "2021-09-08T10:18:45.811Z"
   },
   {
    "duration": 29,
    "start_time": "2021-09-08T10:18:47.026Z"
   },
   {
    "duration": 631,
    "start_time": "2021-09-08T10:18:47.058Z"
   },
   {
    "duration": 239466,
    "start_time": "2021-09-08T10:18:47.691Z"
   },
   {
    "duration": 2,
    "start_time": "2021-09-08T10:22:47.159Z"
   },
   {
    "duration": 168,
    "start_time": "2021-09-08T10:22:47.163Z"
   },
   {
    "duration": 312,
    "start_time": "2021-09-08T10:22:47.333Z"
   },
   {
    "duration": 93,
    "start_time": "2021-09-08T10:22:47.648Z"
   },
   {
    "duration": 8,
    "start_time": "2021-09-08T10:22:47.744Z"
   },
   {
    "duration": 95,
    "start_time": "2021-09-08T10:22:47.754Z"
   },
   {
    "duration": 1513,
    "start_time": "2021-09-08T10:34:16.825Z"
   },
   {
    "duration": 622,
    "start_time": "2021-09-08T10:48:24.865Z"
   },
   {
    "duration": 408,
    "start_time": "2021-09-08T10:48:43.319Z"
   },
   {
    "duration": 638,
    "start_time": "2021-09-08T10:49:46.029Z"
   },
   {
    "duration": 429,
    "start_time": "2021-09-08T10:49:52.285Z"
   },
   {
    "duration": 443,
    "start_time": "2021-09-08T10:50:09.597Z"
   },
   {
    "duration": 317,
    "start_time": "2021-09-08T10:50:48.684Z"
   },
   {
    "duration": 94,
    "start_time": "2021-09-08T10:51:02.131Z"
   },
   {
    "duration": 444,
    "start_time": "2021-09-08T10:51:43.411Z"
   },
   {
    "duration": 441,
    "start_time": "2021-09-08T10:51:55.970Z"
   },
   {
    "duration": 593,
    "start_time": "2021-09-08T10:52:34.841Z"
   },
   {
    "duration": 139,
    "start_time": "2021-09-08T11:01:16.569Z"
   },
   {
    "duration": 1025,
    "start_time": "2021-09-08T11:04:51.982Z"
   },
   {
    "duration": 3,
    "start_time": "2021-09-08T11:04:54.867Z"
   },
   {
    "duration": 1496,
    "start_time": "2021-09-08T11:04:54.876Z"
   },
   {
    "duration": 108,
    "start_time": "2021-09-08T11:04:56.374Z"
   },
   {
    "duration": 657,
    "start_time": "2021-09-08T11:04:56.484Z"
   },
   {
    "duration": 1036,
    "start_time": "2021-09-08T11:08:13.195Z"
   },
   {
    "duration": 1699,
    "start_time": "2021-09-08T11:08:14.233Z"
   },
   {
    "duration": 113,
    "start_time": "2021-09-08T11:08:15.934Z"
   },
   {
    "duration": 702,
    "start_time": "2021-09-08T11:08:16.049Z"
   },
   {
    "duration": 2,
    "start_time": "2021-09-08T11:08:16.753Z"
   },
   {
    "duration": 164,
    "start_time": "2021-09-08T11:08:16.757Z"
   },
   {
    "duration": 1159,
    "start_time": "2021-09-08T11:08:16.923Z"
   },
   {
    "duration": -16,
    "start_time": "2021-09-08T11:08:18.100Z"
   },
   {
    "duration": -21,
    "start_time": "2021-09-08T11:08:18.106Z"
   },
   {
    "duration": -32,
    "start_time": "2021-09-08T11:08:18.118Z"
   },
   {
    "duration": -43,
    "start_time": "2021-09-08T11:08:18.130Z"
   },
   {
    "duration": 3,
    "start_time": "2021-09-08T11:08:18.229Z"
   },
   {
    "duration": 1592,
    "start_time": "2021-09-08T11:08:18.236Z"
   },
   {
    "duration": 111,
    "start_time": "2021-09-08T11:08:19.830Z"
   },
   {
    "duration": 652,
    "start_time": "2021-09-08T11:08:19.943Z"
   },
   {
    "duration": 2,
    "start_time": "2021-09-08T11:08:20.597Z"
   },
   {
    "duration": 174,
    "start_time": "2021-09-08T11:08:20.601Z"
   },
   {
    "duration": 982,
    "start_time": "2021-09-08T11:08:20.777Z"
   },
   {
    "duration": -10,
    "start_time": "2021-09-08T11:08:21.771Z"
   },
   {
    "duration": -20,
    "start_time": "2021-09-08T11:08:21.782Z"
   },
   {
    "duration": -26,
    "start_time": "2021-09-08T11:08:21.788Z"
   },
   {
    "duration": -38,
    "start_time": "2021-09-08T11:08:21.801Z"
   },
   {
    "duration": 955,
    "start_time": "2021-09-08T11:08:34.598Z"
   },
   {
    "duration": 1191,
    "start_time": "2021-09-08T11:08:56.974Z"
   },
   {
    "duration": 2051,
    "start_time": "2021-09-08T11:08:58.167Z"
   },
   {
    "duration": 110,
    "start_time": "2021-09-08T11:09:00.220Z"
   },
   {
    "duration": 714,
    "start_time": "2021-09-08T11:09:00.332Z"
   },
   {
    "duration": 2,
    "start_time": "2021-09-08T11:09:01.048Z"
   },
   {
    "duration": 314,
    "start_time": "2021-09-08T11:09:01.051Z"
   },
   {
    "duration": 314,
    "start_time": "2021-09-08T11:10:07.941Z"
   },
   {
    "duration": 1495,
    "start_time": "2021-09-08T11:10:18.115Z"
   },
   {
    "duration": 2077,
    "start_time": "2021-09-08T11:10:19.612Z"
   },
   {
    "duration": 108,
    "start_time": "2021-09-08T11:10:21.691Z"
   },
   {
    "duration": 649,
    "start_time": "2021-09-08T11:10:21.801Z"
   },
   {
    "duration": 2,
    "start_time": "2021-09-08T11:10:22.452Z"
   },
   {
    "duration": 170,
    "start_time": "2021-09-08T11:10:22.456Z"
   },
   {
    "duration": 762,
    "start_time": "2021-09-08T11:10:22.628Z"
   },
   {
    "duration": 325,
    "start_time": "2021-09-08T11:11:55.043Z"
   },
   {
    "duration": 1320,
    "start_time": "2021-09-08T11:12:00.050Z"
   },
   {
    "duration": 1806,
    "start_time": "2021-09-08T11:12:01.372Z"
   },
   {
    "duration": 119,
    "start_time": "2021-09-08T11:12:03.180Z"
   },
   {
    "duration": 726,
    "start_time": "2021-09-08T11:12:03.301Z"
   },
   {
    "duration": 3,
    "start_time": "2021-09-08T11:12:04.029Z"
   },
   {
    "duration": 172,
    "start_time": "2021-09-08T11:12:04.042Z"
   },
   {
    "duration": 817,
    "start_time": "2021-09-08T11:12:04.216Z"
   },
   {
    "duration": 896,
    "start_time": "2021-09-08T11:12:05.036Z"
   },
   {
    "duration": -50,
    "start_time": "2021-09-08T11:12:05.984Z"
   },
   {
    "duration": -56,
    "start_time": "2021-09-08T11:12:05.991Z"
   },
   {
    "duration": -66,
    "start_time": "2021-09-08T11:12:06.002Z"
   },
   {
    "duration": -78,
    "start_time": "2021-09-08T11:12:06.014Z"
   },
   {
    "duration": 799,
    "start_time": "2021-09-08T11:17:14.896Z"
   },
   {
    "duration": 4,
    "start_time": "2021-09-08T11:17:18.542Z"
   },
   {
    "duration": 1680,
    "start_time": "2021-09-08T11:17:18.552Z"
   },
   {
    "duration": 116,
    "start_time": "2021-09-08T11:17:20.234Z"
   },
   {
    "duration": 724,
    "start_time": "2021-09-08T11:17:20.353Z"
   },
   {
    "duration": 2,
    "start_time": "2021-09-08T11:17:21.079Z"
   },
   {
    "duration": 166,
    "start_time": "2021-09-08T11:17:21.083Z"
   },
   {
    "duration": 688,
    "start_time": "2021-09-08T11:17:21.251Z"
   },
   {
    "duration": 329,
    "start_time": "2021-09-08T11:17:32.493Z"
   },
   {
    "duration": 1180,
    "start_time": "2021-09-08T11:17:42.777Z"
   },
   {
    "duration": 1773,
    "start_time": "2021-09-08T11:17:43.959Z"
   },
   {
    "duration": 120,
    "start_time": "2021-09-08T11:17:45.735Z"
   },
   {
    "duration": 797,
    "start_time": "2021-09-08T11:17:45.858Z"
   },
   {
    "duration": 2,
    "start_time": "2021-09-08T11:17:46.657Z"
   },
   {
    "duration": 177,
    "start_time": "2021-09-08T11:17:46.661Z"
   },
   {
    "duration": 774,
    "start_time": "2021-09-08T11:17:46.840Z"
   },
   {
    "duration": 7009,
    "start_time": "2021-09-08T11:17:47.616Z"
   },
   {
    "duration": -66,
    "start_time": "2021-09-08T11:17:54.694Z"
   },
   {
    "duration": -77,
    "start_time": "2021-09-08T11:17:54.706Z"
   },
   {
    "duration": -88,
    "start_time": "2021-09-08T11:17:54.718Z"
   },
   {
    "duration": -98,
    "start_time": "2021-09-08T11:17:54.730Z"
   },
   {
    "duration": 693,
    "start_time": "2021-09-08T11:18:29.219Z"
   },
   {
    "duration": 432,
    "start_time": "2021-09-08T11:18:50.420Z"
   },
   {
    "duration": 64,
    "start_time": "2021-09-08T11:18:55.682Z"
   },
   {
    "duration": 425,
    "start_time": "2021-09-08T11:19:06.042Z"
   },
   {
    "duration": 794,
    "start_time": "2021-09-08T11:22:23.175Z"
   },
   {
    "duration": 4,
    "start_time": "2021-09-08T11:22:30.118Z"
   },
   {
    "duration": 805,
    "start_time": "2021-09-08T11:22:43.071Z"
   },
   {
    "duration": 827,
    "start_time": "2021-09-08T11:22:51.391Z"
   },
   {
    "duration": 4,
    "start_time": "2021-09-08T11:24:06.391Z"
   },
   {
    "duration": 1807,
    "start_time": "2021-09-08T11:24:06.399Z"
   },
   {
    "duration": 124,
    "start_time": "2021-09-08T11:24:08.208Z"
   },
   {
    "duration": 709,
    "start_time": "2021-09-08T11:24:08.335Z"
   },
   {
    "duration": 5,
    "start_time": "2021-09-08T11:24:09.048Z"
   },
   {
    "duration": 165,
    "start_time": "2021-09-08T11:24:09.055Z"
   },
   {
    "duration": 691,
    "start_time": "2021-09-08T11:24:09.222Z"
   },
   {
    "duration": 828,
    "start_time": "2021-09-08T11:24:09.915Z"
   },
   {
    "duration": -78,
    "start_time": "2021-09-08T11:24:10.825Z"
   },
   {
    "duration": -83,
    "start_time": "2021-09-08T11:24:10.831Z"
   },
   {
    "duration": -89,
    "start_time": "2021-09-08T11:24:10.839Z"
   },
   {
    "duration": -93,
    "start_time": "2021-09-08T11:24:10.844Z"
   },
   {
    "duration": -98,
    "start_time": "2021-09-08T11:24:10.850Z"
   },
   {
    "duration": 3,
    "start_time": "2021-09-08T11:27:13.458Z"
   },
   {
    "duration": 469,
    "start_time": "2021-09-08T11:27:22.930Z"
   },
   {
    "duration": 445,
    "start_time": "2021-09-08T11:33:07.596Z"
   },
   {
    "duration": 425,
    "start_time": "2021-09-08T11:33:10.587Z"
   },
   {
    "duration": 111,
    "start_time": "2021-09-08T11:46:41.241Z"
   },
   {
    "duration": 51,
    "start_time": "2021-09-08T11:46:54.600Z"
   },
   {
    "duration": 316,
    "start_time": "2021-09-08T11:47:00.688Z"
   },
   {
    "duration": 325,
    "start_time": "2021-09-08T11:47:04.852Z"
   },
   {
    "duration": 48,
    "start_time": "2021-09-08T11:47:11.157Z"
   },
   {
    "duration": 89,
    "start_time": "2021-09-08T11:47:35.612Z"
   },
   {
    "duration": 47,
    "start_time": "2021-09-08T11:47:39.754Z"
   },
   {
    "duration": 5,
    "start_time": "2021-09-08T11:49:24.745Z"
   },
   {
    "duration": 1689,
    "start_time": "2021-09-08T11:49:24.755Z"
   },
   {
    "duration": 241,
    "start_time": "2021-09-08T11:49:26.447Z"
   },
   {
    "duration": 64,
    "start_time": "2021-09-08T11:49:26.690Z"
   },
   {
    "duration": 991,
    "start_time": "2021-09-08T11:49:26.757Z"
   },
   {
    "duration": 3,
    "start_time": "2021-09-08T11:49:27.751Z"
   },
   {
    "duration": 184,
    "start_time": "2021-09-08T11:49:27.757Z"
   },
   {
    "duration": 4,
    "start_time": "2021-09-08T11:49:27.944Z"
   },
   {
    "duration": 9,
    "start_time": "2021-09-08T11:49:27.952Z"
   },
   {
    "duration": 96,
    "start_time": "2021-09-08T11:49:27.963Z"
   },
   {
    "duration": -163,
    "start_time": "2021-09-08T11:49:28.224Z"
   },
   {
    "duration": -170,
    "start_time": "2021-09-08T11:49:28.232Z"
   },
   {
    "duration": -181,
    "start_time": "2021-09-08T11:49:28.244Z"
   },
   {
    "duration": -193,
    "start_time": "2021-09-08T11:49:28.257Z"
   },
   {
    "duration": 374,
    "start_time": "2021-09-08T11:53:00.854Z"
   },
   {
    "duration": 51,
    "start_time": "2021-09-08T11:53:05.300Z"
   },
   {
    "duration": 1233,
    "start_time": "2021-09-08T11:57:00.646Z"
   },
   {
    "duration": 1881,
    "start_time": "2021-09-08T11:57:01.881Z"
   },
   {
    "duration": 348,
    "start_time": "2021-09-08T11:57:03.767Z"
   },
   {
    "duration": 552,
    "start_time": "2021-09-08T11:57:04.117Z"
   },
   {
    "duration": -197,
    "start_time": "2021-09-08T11:57:04.869Z"
   },
   {
    "duration": -209,
    "start_time": "2021-09-08T11:57:04.882Z"
   },
   {
    "duration": -220,
    "start_time": "2021-09-08T11:57:04.895Z"
   },
   {
    "duration": -231,
    "start_time": "2021-09-08T11:57:04.908Z"
   },
   {
    "duration": -243,
    "start_time": "2021-09-08T11:57:04.921Z"
   },
   {
    "duration": -252,
    "start_time": "2021-09-08T11:57:04.932Z"
   },
   {
    "duration": -263,
    "start_time": "2021-09-08T11:57:04.944Z"
   },
   {
    "duration": -274,
    "start_time": "2021-09-08T11:57:04.957Z"
   },
   {
    "duration": -287,
    "start_time": "2021-09-08T11:57:04.971Z"
   },
   {
    "duration": 6,
    "start_time": "2021-09-08T11:57:07.750Z"
   },
   {
    "duration": 1717,
    "start_time": "2021-09-08T11:57:07.760Z"
   },
   {
    "duration": 232,
    "start_time": "2021-09-08T11:57:09.479Z"
   },
   {
    "duration": 360,
    "start_time": "2021-09-08T11:57:09.713Z"
   },
   {
    "duration": -187,
    "start_time": "2021-09-08T11:57:10.262Z"
   },
   {
    "duration": -189,
    "start_time": "2021-09-08T11:57:10.265Z"
   },
   {
    "duration": -209,
    "start_time": "2021-09-08T11:57:10.286Z"
   },
   {
    "duration": -220,
    "start_time": "2021-09-08T11:57:10.298Z"
   },
   {
    "duration": -232,
    "start_time": "2021-09-08T11:57:10.311Z"
   },
   {
    "duration": -243,
    "start_time": "2021-09-08T11:57:10.323Z"
   },
   {
    "duration": -256,
    "start_time": "2021-09-08T11:57:10.337Z"
   },
   {
    "duration": -267,
    "start_time": "2021-09-08T11:57:10.348Z"
   },
   {
    "duration": -278,
    "start_time": "2021-09-08T11:57:10.360Z"
   },
   {
    "duration": 5,
    "start_time": "2021-09-08T11:57:19.549Z"
   },
   {
    "duration": 1626,
    "start_time": "2021-09-08T11:57:19.559Z"
   },
   {
    "duration": 237,
    "start_time": "2021-09-08T11:57:21.187Z"
   },
   {
    "duration": 389,
    "start_time": "2021-09-08T11:57:21.426Z"
   },
   {
    "duration": -176,
    "start_time": "2021-09-08T11:57:21.993Z"
   },
   {
    "duration": -188,
    "start_time": "2021-09-08T11:57:22.005Z"
   },
   {
    "duration": -198,
    "start_time": "2021-09-08T11:57:22.016Z"
   },
   {
    "duration": -209,
    "start_time": "2021-09-08T11:57:22.028Z"
   },
   {
    "duration": -221,
    "start_time": "2021-09-08T11:57:22.041Z"
   },
   {
    "duration": -234,
    "start_time": "2021-09-08T11:57:22.055Z"
   },
   {
    "duration": -249,
    "start_time": "2021-09-08T11:57:22.071Z"
   },
   {
    "duration": -256,
    "start_time": "2021-09-08T11:57:22.079Z"
   },
   {
    "duration": -268,
    "start_time": "2021-09-08T11:57:22.092Z"
   },
   {
    "duration": 4,
    "start_time": "2021-09-08T11:57:33.813Z"
   },
   {
    "duration": 1712,
    "start_time": "2021-09-08T11:57:33.822Z"
   },
   {
    "duration": 246,
    "start_time": "2021-09-08T11:57:35.536Z"
   },
   {
    "duration": 348,
    "start_time": "2021-09-08T11:57:35.785Z"
   },
   {
    "duration": -195,
    "start_time": "2021-09-08T11:57:36.330Z"
   },
   {
    "duration": -206,
    "start_time": "2021-09-08T11:57:36.342Z"
   },
   {
    "duration": -216,
    "start_time": "2021-09-08T11:57:36.354Z"
   },
   {
    "duration": -228,
    "start_time": "2021-09-08T11:57:36.367Z"
   },
   {
    "duration": -240,
    "start_time": "2021-09-08T11:57:36.380Z"
   },
   {
    "duration": -251,
    "start_time": "2021-09-08T11:57:36.392Z"
   },
   {
    "duration": -262,
    "start_time": "2021-09-08T11:57:36.404Z"
   },
   {
    "duration": -273,
    "start_time": "2021-09-08T11:57:36.416Z"
   },
   {
    "duration": -285,
    "start_time": "2021-09-08T11:57:36.429Z"
   },
   {
    "duration": 326,
    "start_time": "2021-09-08T11:58:32.655Z"
   },
   {
    "duration": 1247,
    "start_time": "2021-09-08T11:59:29.336Z"
   },
   {
    "duration": 1883,
    "start_time": "2021-09-08T11:59:30.585Z"
   },
   {
    "duration": 290,
    "start_time": "2021-09-08T11:59:32.474Z"
   },
   {
    "duration": 56,
    "start_time": "2021-09-08T11:59:32.766Z"
   },
   {
    "duration": 1048,
    "start_time": "2021-09-08T11:59:32.824Z"
   },
   {
    "duration": 3,
    "start_time": "2021-09-08T11:59:33.874Z"
   },
   {
    "duration": 205,
    "start_time": "2021-09-08T11:59:33.878Z"
   },
   {
    "duration": 2,
    "start_time": "2021-09-08T11:59:34.086Z"
   },
   {
    "duration": 11,
    "start_time": "2021-09-08T11:59:34.090Z"
   },
   {
    "duration": 154,
    "start_time": "2021-09-08T11:59:34.103Z"
   },
   {
    "duration": 82,
    "start_time": "2021-09-08T11:59:34.260Z"
   },
   {
    "duration": 13,
    "start_time": "2021-09-08T11:59:34.344Z"
   },
   {
    "duration": 6,
    "start_time": "2021-09-08T11:59:34.359Z"
   },
   {
    "duration": 4,
    "start_time": "2021-09-08T11:59:39.178Z"
   },
   {
    "duration": 1671,
    "start_time": "2021-09-08T11:59:39.188Z"
   },
   {
    "duration": 245,
    "start_time": "2021-09-08T11:59:40.861Z"
   },
   {
    "duration": 71,
    "start_time": "2021-09-08T11:59:41.109Z"
   },
   {
    "duration": 994,
    "start_time": "2021-09-08T11:59:41.183Z"
   },
   {
    "duration": 3,
    "start_time": "2021-09-08T11:59:42.179Z"
   },
   {
    "duration": 184,
    "start_time": "2021-09-08T11:59:42.183Z"
   },
   {
    "duration": 2,
    "start_time": "2021-09-08T11:59:42.369Z"
   },
   {
    "duration": 8,
    "start_time": "2021-09-08T11:59:42.374Z"
   },
   {
    "duration": 165,
    "start_time": "2021-09-08T11:59:42.384Z"
   },
   {
    "duration": 4,
    "start_time": "2021-09-08T11:59:42.553Z"
   },
   {
    "duration": 21,
    "start_time": "2021-09-08T11:59:42.640Z"
   },
   {
    "duration": 30,
    "start_time": "2021-09-08T11:59:42.663Z"
   },
   {
    "duration": 1173,
    "start_time": "2021-09-08T12:42:27.188Z"
   },
   {
    "duration": 1802,
    "start_time": "2021-09-08T12:42:28.363Z"
   },
   {
    "duration": 302,
    "start_time": "2021-09-08T12:42:30.167Z"
   },
   {
    "duration": 1185,
    "start_time": "2021-09-08T12:43:57.083Z"
   },
   {
    "duration": 1848,
    "start_time": "2021-09-08T12:43:58.270Z"
   },
   {
    "duration": 279,
    "start_time": "2021-09-08T12:44:00.120Z"
   },
   {
    "duration": 669,
    "start_time": "2021-09-08T12:44:00.401Z"
   },
   {
    "duration": 995,
    "start_time": "2021-09-08T12:44:01.072Z"
   },
   {
    "duration": 3,
    "start_time": "2021-09-08T12:44:02.069Z"
   },
   {
    "duration": 228,
    "start_time": "2021-09-08T12:44:02.073Z"
   },
   {
    "duration": 3,
    "start_time": "2021-09-08T12:44:02.304Z"
   },
   {
    "duration": 25,
    "start_time": "2021-09-08T12:44:02.309Z"
   },
   {
    "duration": 126,
    "start_time": "2021-09-08T12:44:02.336Z"
   },
   {
    "duration": 14,
    "start_time": "2021-09-08T12:44:02.542Z"
   },
   {
    "duration": 18,
    "start_time": "2021-09-08T12:44:02.559Z"
   },
   {
    "duration": 74,
    "start_time": "2021-09-08T12:44:02.579Z"
   },
   {
    "duration": 4,
    "start_time": "2021-09-08T12:44:08.416Z"
   },
   {
    "duration": 1894,
    "start_time": "2021-09-08T12:44:08.426Z"
   },
   {
    "duration": 329,
    "start_time": "2021-09-08T12:44:10.333Z"
   },
   {
    "duration": 567,
    "start_time": "2021-09-08T12:44:10.665Z"
   },
   {
    "duration": 954,
    "start_time": "2021-09-08T12:44:11.235Z"
   },
   {
    "duration": 3,
    "start_time": "2021-09-08T12:44:12.190Z"
   },
   {
    "duration": 187,
    "start_time": "2021-09-08T12:44:12.195Z"
   },
   {
    "duration": 2,
    "start_time": "2021-09-08T12:44:12.384Z"
   },
   {
    "duration": 18,
    "start_time": "2021-09-08T12:44:12.389Z"
   },
   {
    "duration": 143,
    "start_time": "2021-09-08T12:44:12.409Z"
   },
   {
    "duration": 86,
    "start_time": "2021-09-08T12:44:12.555Z"
   },
   {
    "duration": 14,
    "start_time": "2021-09-08T12:44:12.644Z"
   },
   {
    "duration": 79,
    "start_time": "2021-09-08T12:44:12.662Z"
   },
   {
    "duration": 442,
    "start_time": "2021-09-08T12:44:38.521Z"
   },
   {
    "duration": 105594,
    "start_time": "2021-09-08T12:45:23.672Z"
   },
   {
    "duration": 1679,
    "start_time": "2021-09-08T12:51:23.139Z"
   },
   {
    "duration": 1513,
    "start_time": "2021-09-08T12:51:34.114Z"
   },
   {
    "duration": 287,
    "start_time": "2021-09-08T12:54:53.733Z"
   },
   {
    "duration": 353,
    "start_time": "2021-09-08T12:55:00.229Z"
   },
   {
    "duration": 345,
    "start_time": "2021-09-08T12:55:45.646Z"
   },
   {
    "duration": 298,
    "start_time": "2021-09-08T12:55:55.088Z"
   },
   {
    "duration": 333,
    "start_time": "2021-09-08T12:59:09.849Z"
   },
   {
    "duration": 1240,
    "start_time": "2021-09-08T14:23:28.669Z"
   },
   {
    "duration": 1554,
    "start_time": "2021-09-08T14:23:29.911Z"
   },
   {
    "duration": 1168,
    "start_time": "2021-09-08T14:25:59.964Z"
   },
   {
    "duration": 1525,
    "start_time": "2021-09-08T14:26:01.133Z"
   },
   {
    "duration": 411,
    "start_time": "2021-09-08T14:26:02.661Z"
   },
   {
    "duration": -56,
    "start_time": "2021-09-08T14:26:03.130Z"
   },
   {
    "duration": -65,
    "start_time": "2021-09-08T14:26:03.140Z"
   },
   {
    "duration": -75,
    "start_time": "2021-09-08T14:26:03.152Z"
   },
   {
    "duration": -86,
    "start_time": "2021-09-08T14:26:03.164Z"
   },
   {
    "duration": -102,
    "start_time": "2021-09-08T14:26:03.181Z"
   },
   {
    "duration": -109,
    "start_time": "2021-09-08T14:26:03.189Z"
   },
   {
    "duration": -120,
    "start_time": "2021-09-08T14:26:03.201Z"
   },
   {
    "duration": -132,
    "start_time": "2021-09-08T14:26:03.214Z"
   },
   {
    "duration": -149,
    "start_time": "2021-09-08T14:26:03.232Z"
   },
   {
    "duration": -156,
    "start_time": "2021-09-08T14:26:03.239Z"
   },
   {
    "duration": -168,
    "start_time": "2021-09-08T14:26:03.252Z"
   },
   {
    "duration": 1127,
    "start_time": "2021-09-08T14:27:20.795Z"
   },
   {
    "duration": 1503,
    "start_time": "2021-09-08T14:27:21.924Z"
   },
   {
    "duration": 69,
    "start_time": "2021-09-08T14:27:23.429Z"
   },
   {
    "duration": 16,
    "start_time": "2021-09-08T14:28:13.682Z"
   },
   {
    "duration": 1490,
    "start_time": "2021-09-08T14:28:13.700Z"
   },
   {
    "duration": 70,
    "start_time": "2021-09-08T14:28:15.192Z"
   },
   {
    "duration": 252,
    "start_time": "2021-09-08T14:28:15.264Z"
   },
   {
    "duration": 224,
    "start_time": "2021-09-08T14:28:15.517Z"
   },
   {
    "duration": 583,
    "start_time": "2021-09-08T14:28:15.743Z"
   },
   {
    "duration": 904,
    "start_time": "2021-09-08T14:28:16.327Z"
   },
   {
    "duration": 2,
    "start_time": "2021-09-08T14:28:17.233Z"
   },
   {
    "duration": 190,
    "start_time": "2021-09-08T14:28:17.237Z"
   },
   {
    "duration": 2,
    "start_time": "2021-09-08T14:28:17.431Z"
   },
   {
    "duration": 24,
    "start_time": "2021-09-08T14:28:17.435Z"
   },
   {
    "duration": 181,
    "start_time": "2021-09-08T14:28:17.461Z"
   },
   {
    "duration": 4,
    "start_time": "2021-09-08T14:28:17.645Z"
   },
   {
    "duration": 104,
    "start_time": "2021-09-08T14:28:17.651Z"
   },
   {
    "duration": 39,
    "start_time": "2021-09-08T14:28:17.757Z"
   },
   {
    "duration": 4,
    "start_time": "2021-09-08T14:28:38.901Z"
   },
   {
    "duration": 1419,
    "start_time": "2021-09-08T14:28:38.909Z"
   },
   {
    "duration": 63,
    "start_time": "2021-09-08T14:28:40.330Z"
   },
   {
    "duration": 343,
    "start_time": "2021-09-08T14:31:29.866Z"
   },
   {
    "duration": 256,
    "start_time": "2021-09-08T14:31:33.396Z"
   },
   {
    "duration": 1118,
    "start_time": "2021-09-08T14:33:54.512Z"
   },
   {
    "duration": 324,
    "start_time": "2021-09-08T14:34:52.088Z"
   },
   {
    "duration": 4,
    "start_time": "2021-09-08T14:34:55.305Z"
   },
   {
    "duration": 1545,
    "start_time": "2021-09-08T14:34:55.314Z"
   },
   {
    "duration": 61,
    "start_time": "2021-09-08T14:34:56.861Z"
   },
   {
    "duration": 18,
    "start_time": "2021-09-08T14:34:56.924Z"
   },
   {
    "duration": 270,
    "start_time": "2021-09-08T14:34:56.944Z"
   },
   {
    "duration": 654,
    "start_time": "2021-09-08T14:34:57.216Z"
   },
   {
    "duration": 898,
    "start_time": "2021-09-08T14:34:57.872Z"
   },
   {
    "duration": 2,
    "start_time": "2021-09-08T14:34:58.772Z"
   },
   {
    "duration": 187,
    "start_time": "2021-09-08T14:34:58.776Z"
   },
   {
    "duration": 2,
    "start_time": "2021-09-08T14:34:58.965Z"
   },
   {
    "duration": 28,
    "start_time": "2021-09-08T14:34:58.969Z"
   },
   {
    "duration": 147,
    "start_time": "2021-09-08T14:34:58.999Z"
   },
   {
    "duration": 2,
    "start_time": "2021-09-08T14:34:59.148Z"
   },
   {
    "duration": 3,
    "start_time": "2021-09-08T14:34:59.242Z"
   },
   {
    "duration": 3,
    "start_time": "2021-09-08T14:34:59.247Z"
   },
   {
    "duration": 1101,
    "start_time": "2021-09-08T14:36:07.265Z"
   },
   {
    "duration": 1559,
    "start_time": "2021-09-08T14:36:08.368Z"
   },
   {
    "duration": 31557,
    "start_time": "2021-09-08T14:36:09.929Z"
   },
   {
    "duration": 6,
    "start_time": "2021-09-08T14:36:41.488Z"
   },
   {
    "duration": 269,
    "start_time": "2021-09-08T14:36:41.496Z"
   },
   {
    "duration": 54,
    "start_time": "2021-09-08T14:36:41.767Z"
   },
   {
    "duration": 876,
    "start_time": "2021-09-08T14:36:41.824Z"
   },
   {
    "duration": 3,
    "start_time": "2021-09-08T14:36:42.702Z"
   },
   {
    "duration": 183,
    "start_time": "2021-09-08T14:36:42.707Z"
   },
   {
    "duration": 3,
    "start_time": "2021-09-08T14:36:42.892Z"
   },
   {
    "duration": 11,
    "start_time": "2021-09-08T14:36:42.896Z"
   },
   {
    "duration": 141,
    "start_time": "2021-09-08T14:36:42.909Z"
   },
   {
    "duration": 2,
    "start_time": "2021-09-08T14:36:43.142Z"
   },
   {
    "duration": 6,
    "start_time": "2021-09-08T14:36:43.146Z"
   },
   {
    "duration": 8,
    "start_time": "2021-09-08T14:36:43.153Z"
   },
   {
    "duration": 74,
    "start_time": "2021-09-08T14:37:04.047Z"
   },
   {
    "duration": 69,
    "start_time": "2021-09-08T14:37:14.007Z"
   },
   {
    "duration": 2235,
    "start_time": "2021-09-08T14:37:30.038Z"
   },
   {
    "duration": 39,
    "start_time": "2021-09-08T14:37:38.176Z"
   },
   {
    "duration": 291,
    "start_time": "2021-09-08T14:37:45.419Z"
   },
   {
    "duration": 162,
    "start_time": "2021-09-08T14:38:05.550Z"
   },
   {
    "duration": 160,
    "start_time": "2021-09-08T14:39:10.414Z"
   },
   {
    "duration": 1406,
    "start_time": "2021-09-08T14:39:24.452Z"
   },
   {
    "duration": 234,
    "start_time": "2021-09-08T14:39:42.534Z"
   },
   {
    "duration": 337,
    "start_time": "2021-09-08T14:41:09.259Z"
   },
   {
    "duration": 353,
    "start_time": "2021-09-08T14:41:12.026Z"
   },
   {
    "duration": 304,
    "start_time": "2021-09-08T14:42:31.594Z"
   },
   {
    "duration": 16,
    "start_time": "2021-09-08T14:50:08.966Z"
   },
   {
    "duration": 38,
    "start_time": "2021-09-08T14:52:25.594Z"
   },
   {
    "duration": 91,
    "start_time": "2021-09-08T14:56:50.330Z"
   },
   {
    "duration": 4,
    "start_time": "2021-09-08T14:57:08.442Z"
   },
   {
    "duration": 98,
    "start_time": "2021-09-08T14:57:35.954Z"
   },
   {
    "duration": 4,
    "start_time": "2021-09-08T14:57:41.297Z"
   },
   {
    "duration": 223,
    "start_time": "2021-09-08T14:57:41.817Z"
   },
   {
    "duration": 4,
    "start_time": "2021-09-08T14:57:43.777Z"
   },
   {
    "duration": 175,
    "start_time": "2021-09-08T14:57:43.967Z"
   },
   {
    "duration": 113,
    "start_time": "2021-09-08T14:59:01.048Z"
   },
   {
    "duration": 178,
    "start_time": "2021-09-08T14:59:01.164Z"
   },
   {
    "duration": 5,
    "start_time": "2021-09-08T14:59:18.984Z"
   },
   {
    "duration": 1406,
    "start_time": "2021-09-08T14:59:18.994Z"
   },
   {
    "duration": 329,
    "start_time": "2021-09-08T14:59:20.402Z"
   },
   {
    "duration": 266,
    "start_time": "2021-09-08T14:59:20.734Z"
   },
   {
    "duration": 882,
    "start_time": "2021-09-08T14:59:21.002Z"
   },
   {
    "duration": 2,
    "start_time": "2021-09-08T14:59:21.886Z"
   },
   {
    "duration": 44,
    "start_time": "2021-09-08T14:59:21.890Z"
   },
   {
    "duration": 124,
    "start_time": "2021-09-08T14:59:21.935Z"
   },
   {
    "duration": 96,
    "start_time": "2021-09-08T14:59:22.062Z"
   },
   {
    "duration": 3,
    "start_time": "2021-09-08T14:59:22.244Z"
   },
   {
    "duration": 92,
    "start_time": "2021-09-08T14:59:22.250Z"
   },
   {
    "duration": 11,
    "start_time": "2021-09-08T14:59:22.344Z"
   },
   {
    "duration": 375,
    "start_time": "2021-09-08T15:00:06.655Z"
   },
   {
    "duration": 406,
    "start_time": "2021-09-08T15:00:40.007Z"
   },
   {
    "duration": 226,
    "start_time": "2021-09-08T15:01:05.230Z"
   },
   {
    "duration": 36,
    "start_time": "2021-09-08T15:01:07.318Z"
   },
   {
    "duration": 870,
    "start_time": "2021-09-08T15:01:08.493Z"
   },
   {
    "duration": 3,
    "start_time": "2021-09-08T15:01:09.365Z"
   },
   {
    "duration": 127,
    "start_time": "2021-09-08T15:01:09.370Z"
   },
   {
    "duration": 146,
    "start_time": "2021-09-08T15:01:09.499Z"
   },
   {
    "duration": 434,
    "start_time": "2021-09-08T15:01:09.650Z"
   },
   {
    "duration": -36,
    "start_time": "2021-09-08T15:01:10.122Z"
   },
   {
    "duration": -47,
    "start_time": "2021-09-08T15:01:10.134Z"
   },
   {
    "duration": 4,
    "start_time": "2021-09-08T15:01:14.268Z"
   },
   {
    "duration": 1339,
    "start_time": "2021-09-08T15:01:14.279Z"
   },
   {
    "duration": 305,
    "start_time": "2021-09-08T15:01:15.620Z"
   },
   {
    "duration": 208,
    "start_time": "2021-09-08T15:01:15.927Z"
   },
   {
    "duration": 36,
    "start_time": "2021-09-08T15:01:16.140Z"
   },
   {
    "duration": 920,
    "start_time": "2021-09-08T15:01:16.178Z"
   },
   {
    "duration": 2,
    "start_time": "2021-09-08T15:01:17.100Z"
   },
   {
    "duration": 131,
    "start_time": "2021-09-08T15:01:17.104Z"
   },
   {
    "duration": 198,
    "start_time": "2021-09-08T15:01:17.242Z"
   },
   {
    "duration": 404,
    "start_time": "2021-09-08T15:01:17.444Z"
   },
   {
    "duration": -51,
    "start_time": "2021-09-08T15:01:17.900Z"
   },
   {
    "duration": -56,
    "start_time": "2021-09-08T15:01:17.906Z"
   },
   {
    "duration": 109,
    "start_time": "2021-09-08T15:02:11.965Z"
   },
   {
    "duration": 223,
    "start_time": "2021-09-08T15:02:12.117Z"
   },
   {
    "duration": 342,
    "start_time": "2021-09-08T15:02:12.342Z"
   },
   {
    "duration": -50,
    "start_time": "2021-09-08T15:02:12.736Z"
   },
   {
    "duration": 2,
    "start_time": "2021-09-08T15:02:12.774Z"
   },
   {
    "duration": 94,
    "start_time": "2021-09-08T15:02:56.205Z"
   },
   {
    "duration": 137,
    "start_time": "2021-09-08T15:02:57.211Z"
   },
   {
    "duration": 323,
    "start_time": "2021-09-08T15:02:58.892Z"
   },
   {
    "duration": 4,
    "start_time": "2021-09-08T15:03:05.843Z"
   },
   {
    "duration": 1416,
    "start_time": "2021-09-08T15:03:05.854Z"
   },
   {
    "duration": 322,
    "start_time": "2021-09-08T15:03:07.272Z"
   },
   {
    "duration": 206,
    "start_time": "2021-09-08T15:03:07.596Z"
   },
   {
    "duration": 43,
    "start_time": "2021-09-08T15:03:07.804Z"
   },
   {
    "duration": 876,
    "start_time": "2021-09-08T15:03:07.849Z"
   },
   {
    "duration": 2,
    "start_time": "2021-09-08T15:03:08.727Z"
   },
   {
    "duration": 110,
    "start_time": "2021-09-08T15:03:08.731Z"
   },
   {
    "duration": 297,
    "start_time": "2021-09-08T15:03:08.844Z"
   },
   {
    "duration": 298,
    "start_time": "2021-09-08T15:03:09.143Z"
   },
   {
    "duration": -49,
    "start_time": "2021-09-08T15:03:09.493Z"
   },
   {
    "duration": -60,
    "start_time": "2021-09-08T15:03:09.506Z"
   },
   {
    "duration": 63,
    "start_time": "2021-09-08T15:03:34.147Z"
   },
   {
    "duration": 192,
    "start_time": "2021-09-08T15:03:35.050Z"
   },
   {
    "duration": 1134,
    "start_time": "2021-09-08T15:04:51.496Z"
   },
   {
    "duration": 1520,
    "start_time": "2021-09-08T15:04:52.634Z"
   },
   {
    "duration": 394,
    "start_time": "2021-09-08T15:04:54.156Z"
   },
   {
    "duration": 259,
    "start_time": "2021-09-08T15:04:54.552Z"
   },
   {
    "duration": 47,
    "start_time": "2021-09-08T15:04:54.813Z"
   },
   {
    "duration": 924,
    "start_time": "2021-09-08T15:04:54.862Z"
   },
   {
    "duration": 2,
    "start_time": "2021-09-08T15:04:55.789Z"
   },
   {
    "duration": 84,
    "start_time": "2021-09-08T15:04:55.794Z"
   },
   {
    "duration": 436,
    "start_time": "2021-09-08T15:04:55.880Z"
   },
   {
    "duration": -39,
    "start_time": "2021-09-08T15:04:56.357Z"
   },
   {
    "duration": -57,
    "start_time": "2021-09-08T15:04:56.376Z"
   },
   {
    "duration": -66,
    "start_time": "2021-09-08T15:04:56.386Z"
   },
   {
    "duration": 5,
    "start_time": "2021-09-08T15:06:08.868Z"
   },
   {
    "duration": 1378,
    "start_time": "2021-09-08T15:06:08.878Z"
   },
   {
    "duration": 314,
    "start_time": "2021-09-08T15:06:10.258Z"
   },
   {
    "duration": 212,
    "start_time": "2021-09-08T15:06:10.574Z"
   },
   {
    "duration": 36,
    "start_time": "2021-09-08T15:06:10.788Z"
   },
   {
    "duration": 881,
    "start_time": "2021-09-08T15:06:10.826Z"
   },
   {
    "duration": 2,
    "start_time": "2021-09-08T15:06:11.709Z"
   },
   {
    "duration": 78,
    "start_time": "2021-09-08T15:06:11.713Z"
   },
   {
    "duration": 262,
    "start_time": "2021-09-08T15:06:11.793Z"
   },
   {
    "duration": -58,
    "start_time": "2021-09-08T15:06:12.115Z"
   },
   {
    "duration": -70,
    "start_time": "2021-09-08T15:06:12.128Z"
   },
   {
    "duration": -83,
    "start_time": "2021-09-08T15:06:12.142Z"
   },
   {
    "duration": 150,
    "start_time": "2021-09-08T15:06:36.397Z"
   },
   {
    "duration": 1221,
    "start_time": "2021-09-08T15:19:02.910Z"
   },
   {
    "duration": 1532,
    "start_time": "2021-09-08T15:19:04.132Z"
   },
   {
    "duration": 687,
    "start_time": "2021-09-08T15:19:05.666Z"
   },
   {
    "duration": -97,
    "start_time": "2021-09-08T15:19:06.452Z"
   },
   {
    "duration": -108,
    "start_time": "2021-09-08T15:19:06.464Z"
   },
   {
    "duration": -120,
    "start_time": "2021-09-08T15:19:06.477Z"
   },
   {
    "duration": -132,
    "start_time": "2021-09-08T15:19:06.490Z"
   },
   {
    "duration": -143,
    "start_time": "2021-09-08T15:19:06.502Z"
   },
   {
    "duration": -154,
    "start_time": "2021-09-08T15:19:06.514Z"
   },
   {
    "duration": -164,
    "start_time": "2021-09-08T15:19:06.526Z"
   },
   {
    "duration": -176,
    "start_time": "2021-09-08T15:19:06.539Z"
   },
   {
    "duration": -187,
    "start_time": "2021-09-08T15:19:06.551Z"
   },
   {
    "duration": 4,
    "start_time": "2021-09-08T15:19:15.274Z"
   },
   {
    "duration": 1518,
    "start_time": "2021-09-08T15:19:15.284Z"
   },
   {
    "duration": 708,
    "start_time": "2021-09-08T15:19:16.804Z"
   },
   {
    "duration": -86,
    "start_time": "2021-09-08T15:19:17.601Z"
   },
   {
    "duration": -104,
    "start_time": "2021-09-08T15:19:17.619Z"
   },
   {
    "duration": -115,
    "start_time": "2021-09-08T15:19:17.631Z"
   },
   {
    "duration": -127,
    "start_time": "2021-09-08T15:19:17.644Z"
   },
   {
    "duration": -138,
    "start_time": "2021-09-08T15:19:17.656Z"
   },
   {
    "duration": -150,
    "start_time": "2021-09-08T15:19:17.669Z"
   },
   {
    "duration": -165,
    "start_time": "2021-09-08T15:19:17.685Z"
   },
   {
    "duration": -174,
    "start_time": "2021-09-08T15:19:17.695Z"
   },
   {
    "duration": -186,
    "start_time": "2021-09-08T15:19:17.707Z"
   },
   {
    "duration": 3,
    "start_time": "2021-09-08T15:19:26.866Z"
   },
   {
    "duration": 1473,
    "start_time": "2021-09-08T15:19:26.877Z"
   },
   {
    "duration": 664,
    "start_time": "2021-09-08T15:19:28.353Z"
   },
   {
    "duration": -89,
    "start_time": "2021-09-08T15:19:29.108Z"
   },
   {
    "duration": -111,
    "start_time": "2021-09-08T15:19:29.131Z"
   },
   {
    "duration": -122,
    "start_time": "2021-09-08T15:19:29.143Z"
   },
   {
    "duration": -134,
    "start_time": "2021-09-08T15:19:29.156Z"
   },
   {
    "duration": -145,
    "start_time": "2021-09-08T15:19:29.168Z"
   },
   {
    "duration": -156,
    "start_time": "2021-09-08T15:19:29.180Z"
   },
   {
    "duration": -168,
    "start_time": "2021-09-08T15:19:29.192Z"
   },
   {
    "duration": -180,
    "start_time": "2021-09-08T15:19:29.205Z"
   },
   {
    "duration": -192,
    "start_time": "2021-09-08T15:19:29.218Z"
   },
   {
    "duration": 4,
    "start_time": "2021-09-08T15:19:49.802Z"
   },
   {
    "duration": 1399,
    "start_time": "2021-09-08T15:19:49.812Z"
   },
   {
    "duration": 675,
    "start_time": "2021-09-08T15:19:51.213Z"
   },
   {
    "duration": -85,
    "start_time": "2021-09-08T15:19:51.975Z"
   },
   {
    "duration": -100,
    "start_time": "2021-09-08T15:19:51.991Z"
   },
   {
    "duration": -111,
    "start_time": "2021-09-08T15:19:52.003Z"
   },
   {
    "duration": -125,
    "start_time": "2021-09-08T15:19:52.018Z"
   },
   {
    "duration": -133,
    "start_time": "2021-09-08T15:19:52.027Z"
   },
   {
    "duration": -145,
    "start_time": "2021-09-08T15:19:52.040Z"
   },
   {
    "duration": -156,
    "start_time": "2021-09-08T15:19:52.052Z"
   },
   {
    "duration": -167,
    "start_time": "2021-09-08T15:19:52.064Z"
   },
   {
    "duration": -178,
    "start_time": "2021-09-08T15:19:52.076Z"
   },
   {
    "duration": 4,
    "start_time": "2021-09-08T15:20:03.634Z"
   },
   {
    "duration": 1422,
    "start_time": "2021-09-08T15:20:03.645Z"
   },
   {
    "duration": 722,
    "start_time": "2021-09-08T15:20:05.069Z"
   },
   {
    "duration": -93,
    "start_time": "2021-09-08T15:20:05.886Z"
   },
   {
    "duration": -107,
    "start_time": "2021-09-08T15:20:05.901Z"
   },
   {
    "duration": -116,
    "start_time": "2021-09-08T15:20:05.911Z"
   },
   {
    "duration": -128,
    "start_time": "2021-09-08T15:20:05.924Z"
   },
   {
    "duration": -138,
    "start_time": "2021-09-08T15:20:05.936Z"
   },
   {
    "duration": -154,
    "start_time": "2021-09-08T15:20:05.953Z"
   },
   {
    "duration": -162,
    "start_time": "2021-09-08T15:20:05.962Z"
   },
   {
    "duration": -173,
    "start_time": "2021-09-08T15:20:05.974Z"
   },
   {
    "duration": -185,
    "start_time": "2021-09-08T15:20:05.987Z"
   },
   {
    "duration": 3,
    "start_time": "2021-09-08T15:20:18.416Z"
   },
   {
    "duration": 1432,
    "start_time": "2021-09-08T15:20:18.427Z"
   },
   {
    "duration": 724,
    "start_time": "2021-09-08T15:20:19.861Z"
   },
   {
    "duration": -85,
    "start_time": "2021-09-08T15:20:20.672Z"
   },
   {
    "duration": -104,
    "start_time": "2021-09-08T15:20:20.692Z"
   },
   {
    "duration": -116,
    "start_time": "2021-09-08T15:20:20.705Z"
   },
   {
    "duration": -128,
    "start_time": "2021-09-08T15:20:20.718Z"
   },
   {
    "duration": -138,
    "start_time": "2021-09-08T15:20:20.728Z"
   },
   {
    "duration": -150,
    "start_time": "2021-09-08T15:20:20.741Z"
   },
   {
    "duration": -162,
    "start_time": "2021-09-08T15:20:20.754Z"
   },
   {
    "duration": -172,
    "start_time": "2021-09-08T15:20:20.765Z"
   },
   {
    "duration": -183,
    "start_time": "2021-09-08T15:20:20.777Z"
   },
   {
    "duration": 625,
    "start_time": "2021-09-08T15:20:56.320Z"
   },
   {
    "duration": 252,
    "start_time": "2021-09-08T15:21:07.841Z"
   },
   {
    "duration": 225,
    "start_time": "2021-09-08T15:21:31.459Z"
   },
   {
    "duration": 584,
    "start_time": "2021-09-08T15:21:41.520Z"
   },
   {
    "duration": 978,
    "start_time": "2021-09-08T15:27:15.898Z"
   },
   {
    "duration": 1190,
    "start_time": "2021-09-08T15:28:14.817Z"
   },
   {
    "duration": 1306,
    "start_time": "2021-09-08T15:28:23.976Z"
   },
   {
    "duration": 1168,
    "start_time": "2021-09-08T15:28:43.000Z"
   },
   {
    "duration": 1032,
    "start_time": "2021-09-08T15:28:49.298Z"
   },
   {
    "duration": 1194,
    "start_time": "2021-09-08T15:34:03.052Z"
   },
   {
    "duration": 1255,
    "start_time": "2021-09-08T15:34:18.467Z"
   },
   {
    "duration": 2185,
    "start_time": "2021-09-08T15:36:37.311Z"
   },
   {
    "duration": 1425,
    "start_time": "2021-09-08T15:37:00.830Z"
   },
   {
    "duration": 1165,
    "start_time": "2021-09-08T15:37:08.719Z"
   },
   {
    "duration": 2064,
    "start_time": "2021-09-08T15:37:26.927Z"
   },
   {
    "duration": 2028,
    "start_time": "2021-09-08T15:37:46.062Z"
   },
   {
    "duration": 4,
    "start_time": "2021-09-08T15:37:56.501Z"
   },
   {
    "duration": 1441,
    "start_time": "2021-09-08T15:37:56.511Z"
   },
   {
    "duration": 2111,
    "start_time": "2021-09-08T15:37:57.954Z"
   },
   {
    "duration": 199,
    "start_time": "2021-09-08T15:38:00.068Z"
   },
   {
    "duration": 34,
    "start_time": "2021-09-08T15:38:00.270Z"
   },
   {
    "duration": 885,
    "start_time": "2021-09-08T15:38:00.306Z"
   },
   {
    "duration": 3,
    "start_time": "2021-09-08T15:38:01.193Z"
   },
   {
    "duration": 107,
    "start_time": "2021-09-08T15:38:01.198Z"
   },
   {
    "duration": 232,
    "start_time": "2021-09-08T15:38:01.308Z"
   },
   {
    "duration": 176353,
    "start_time": "2021-09-08T15:38:01.543Z"
   },
   {
    "duration": 3,
    "start_time": "2021-09-08T15:40:57.897Z"
   },
   {
    "duration": 8,
    "start_time": "2021-09-08T15:40:57.901Z"
   },
   {
    "duration": 3,
    "start_time": "2021-09-08T15:45:33.381Z"
   },
   {
    "duration": 110,
    "start_time": "2021-09-08T15:46:04.933Z"
   },
   {
    "duration": 94,
    "start_time": "2021-09-08T15:46:20.949Z"
   },
   {
    "duration": 599,
    "start_time": "2021-09-08T15:46:21.585Z"
   },
   {
    "duration": 102,
    "start_time": "2021-09-08T15:46:49.076Z"
   },
   {
    "duration": 494,
    "start_time": "2021-09-08T15:46:49.267Z"
   },
   {
    "duration": 956,
    "start_time": "2021-09-08T15:47:07.902Z"
   },
   {
    "duration": 2,
    "start_time": "2021-09-08T15:47:08.860Z"
   },
   {
    "duration": 3,
    "start_time": "2021-09-08T15:47:12.756Z"
   },
   {
    "duration": 89,
    "start_time": "2021-09-08T15:47:13.307Z"
   },
   {
    "duration": 591,
    "start_time": "2021-09-08T15:47:13.499Z"
   },
   {
    "duration": 86,
    "start_time": "2021-09-08T15:49:24.874Z"
   },
   {
    "duration": 285,
    "start_time": "2021-09-08T15:50:06.071Z"
   },
   {
    "duration": 4,
    "start_time": "2021-09-08T15:50:08.256Z"
   },
   {
    "duration": 1361,
    "start_time": "2021-09-08T15:50:08.267Z"
   },
   {
    "duration": 2199,
    "start_time": "2021-09-08T15:50:09.630Z"
   },
   {
    "duration": 200,
    "start_time": "2021-09-08T15:50:11.831Z"
   },
   {
    "duration": 35,
    "start_time": "2021-09-08T15:50:12.042Z"
   },
   {
    "duration": 110,
    "start_time": "2021-09-08T15:50:12.079Z"
   },
   {
    "duration": 2,
    "start_time": "2021-09-08T15:50:12.191Z"
   },
   {
    "duration": 116,
    "start_time": "2021-09-08T15:50:12.195Z"
   },
   {
    "duration": 781,
    "start_time": "2021-09-08T15:50:12.314Z"
   },
   {
    "duration": 148,
    "start_time": "2021-09-08T15:50:13.097Z"
   },
   {
    "duration": 1068,
    "start_time": "2021-09-08T15:50:29.073Z"
   },
   {
    "duration": 1531,
    "start_time": "2021-09-08T15:50:30.143Z"
   },
   {
    "duration": 2189,
    "start_time": "2021-09-08T15:50:31.676Z"
   },
   {
    "duration": 253,
    "start_time": "2021-09-08T15:50:33.867Z"
   },
   {
    "duration": 37,
    "start_time": "2021-09-08T15:50:34.122Z"
   },
   {
    "duration": 112,
    "start_time": "2021-09-08T15:50:34.160Z"
   },
   {
    "duration": 3,
    "start_time": "2021-09-08T15:50:34.274Z"
   },
   {
    "duration": 386,
    "start_time": "2021-09-08T15:50:34.279Z"
   },
   {
    "duration": 2,
    "start_time": "2021-09-08T15:50:34.665Z"
   },
   {
    "duration": -9,
    "start_time": "2021-09-08T15:50:34.677Z"
   },
   {
    "duration": -20,
    "start_time": "2021-09-08T15:50:34.689Z"
   },
   {
    "duration": -31,
    "start_time": "2021-09-08T15:50:34.701Z"
   },
   {
    "duration": -43,
    "start_time": "2021-09-08T15:50:34.714Z"
   },
   {
    "duration": 4,
    "start_time": "2021-09-08T15:50:51.535Z"
   },
   {
    "duration": 1423,
    "start_time": "2021-09-08T15:50:51.544Z"
   },
   {
    "duration": 2183,
    "start_time": "2021-09-08T15:50:52.969Z"
   },
   {
    "duration": 243,
    "start_time": "2021-09-08T15:50:55.155Z"
   },
   {
    "duration": 45,
    "start_time": "2021-09-08T15:50:55.400Z"
   },
   {
    "duration": 118,
    "start_time": "2021-09-08T15:50:55.447Z"
   },
   {
    "duration": 3,
    "start_time": "2021-09-08T15:50:55.567Z"
   },
   {
    "duration": 110,
    "start_time": "2021-09-08T15:50:55.572Z"
   },
   {
    "duration": 812,
    "start_time": "2021-09-08T15:50:55.685Z"
   },
   {
    "duration": 147,
    "start_time": "2021-09-08T15:50:56.499Z"
   },
   {
    "duration": 1123,
    "start_time": "2021-09-08T15:51:45.866Z"
   },
   {
    "duration": 1535,
    "start_time": "2021-09-08T15:51:46.991Z"
   },
   {
    "duration": 2245,
    "start_time": "2021-09-08T15:51:48.541Z"
   },
   {
    "duration": 261,
    "start_time": "2021-09-08T15:51:50.788Z"
   },
   {
    "duration": 36,
    "start_time": "2021-09-08T15:51:51.051Z"
   },
   {
    "duration": 122,
    "start_time": "2021-09-08T15:51:51.089Z"
   },
   {
    "duration": 2,
    "start_time": "2021-09-08T15:51:51.213Z"
   },
   {
    "duration": 17,
    "start_time": "2021-09-08T15:51:51.217Z"
   },
   {
    "duration": 805,
    "start_time": "2021-09-08T15:51:51.236Z"
   },
   {
    "duration": 108,
    "start_time": "2021-09-08T15:51:52.043Z"
   },
   {
    "duration": 1122,
    "start_time": "2021-09-08T15:53:28.592Z"
   },
   {
    "duration": 1510,
    "start_time": "2021-09-08T15:53:29.716Z"
   },
   {
    "duration": 3028,
    "start_time": "2021-09-08T15:54:24.512Z"
   },
   {
    "duration": 2383,
    "start_time": "2021-09-08T15:54:47.735Z"
   },
   {
    "duration": 2198,
    "start_time": "2021-09-08T15:55:58.286Z"
   },
   {
    "duration": 2325,
    "start_time": "2021-09-08T15:56:06.797Z"
   },
   {
    "duration": 2367,
    "start_time": "2021-09-08T15:56:17.365Z"
   },
   {
    "duration": 692,
    "start_time": "2021-09-08T15:56:24.958Z"
   },
   {
    "duration": 262,
    "start_time": "2021-09-08T15:56:42.885Z"
   },
   {
    "duration": -23,
    "start_time": "2021-09-08T15:57:38.366Z"
   },
   {
    "duration": 4,
    "start_time": "2021-09-08T15:57:45.091Z"
   },
   {
    "duration": 1550,
    "start_time": "2021-09-08T15:57:45.102Z"
   },
   {
    "duration": 75,
    "start_time": "2021-09-08T15:57:46.654Z"
   },
   {
    "duration": 1380,
    "start_time": "2021-09-08T15:57:46.731Z"
   },
   {
    "duration": 45,
    "start_time": "2021-09-08T15:57:48.114Z"
   },
   {
    "duration": 115,
    "start_time": "2021-09-08T15:57:48.161Z"
   },
   {
    "duration": 3,
    "start_time": "2021-09-08T15:57:48.278Z"
   },
   {
    "duration": 21,
    "start_time": "2021-09-08T15:57:48.283Z"
   },
   {
    "duration": 20,
    "start_time": "2021-09-08T15:57:48.307Z"
   },
   {
    "duration": 99,
    "start_time": "2021-09-08T15:57:48.329Z"
   },
   {
    "duration": -24,
    "start_time": "2021-09-08T15:57:48.454Z"
   },
   {
    "duration": -32,
    "start_time": "2021-09-08T15:57:48.463Z"
   },
   {
    "duration": -46,
    "start_time": "2021-09-08T15:57:48.478Z"
   },
   {
    "duration": 105,
    "start_time": "2021-09-08T15:58:22.475Z"
   },
   {
    "duration": 254,
    "start_time": "2021-09-08T16:00:04.689Z"
   },
   {
    "duration": 5,
    "start_time": "2021-09-08T16:00:05.480Z"
   },
   {
    "duration": 3,
    "start_time": "2021-09-08T16:00:05.639Z"
   },
   {
    "duration": 4,
    "start_time": "2021-09-08T16:00:06.161Z"
   },
   {
    "duration": 2,
    "start_time": "2021-09-08T16:00:06.616Z"
   },
   {
    "duration": 97,
    "start_time": "2021-09-08T16:00:07.040Z"
   },
   {
    "duration": 2,
    "start_time": "2021-09-08T16:00:08.737Z"
   },
   {
    "duration": 4,
    "start_time": "2021-09-08T16:00:15.923Z"
   },
   {
    "duration": 1551,
    "start_time": "2021-09-08T16:00:15.930Z"
   },
   {
    "duration": 87,
    "start_time": "2021-09-08T16:00:17.483Z"
   },
   {
    "duration": 214,
    "start_time": "2021-09-08T16:00:17.572Z"
   },
   {
    "duration": 245,
    "start_time": "2021-09-08T16:00:17.788Z"
   },
   {
    "duration": 3,
    "start_time": "2021-09-08T16:00:18.035Z"
   },
   {
    "duration": 17,
    "start_time": "2021-09-08T16:00:18.039Z"
   },
   {
    "duration": 36,
    "start_time": "2021-09-08T16:00:18.057Z"
   },
   {
    "duration": 23,
    "start_time": "2021-09-08T16:00:18.096Z"
   },
   {
    "duration": 100,
    "start_time": "2021-09-08T16:00:18.121Z"
   },
   {
    "duration": 12,
    "start_time": "2021-09-08T16:00:18.211Z"
   },
   {
    "duration": -2,
    "start_time": "2021-09-08T16:00:18.226Z"
   },
   {
    "duration": -11,
    "start_time": "2021-09-08T16:00:18.236Z"
   },
   {
    "duration": 229,
    "start_time": "2021-09-08T16:01:02.632Z"
   },
   {
    "duration": 3,
    "start_time": "2021-09-08T16:01:02.863Z"
   },
   {
    "duration": 3,
    "start_time": "2021-09-08T16:01:02.944Z"
   },
   {
    "duration": 3,
    "start_time": "2021-09-08T16:01:03.504Z"
   },
   {
    "duration": 2,
    "start_time": "2021-09-08T16:01:03.727Z"
   },
   {
    "duration": 104,
    "start_time": "2021-09-08T16:01:05.687Z"
   },
   {
    "duration": 5,
    "start_time": "2021-09-08T16:01:15.408Z"
   },
   {
    "duration": 97,
    "start_time": "2021-09-08T16:01:17.087Z"
   },
   {
    "duration": 1152,
    "start_time": "2021-09-08T16:02:18.975Z"
   },
   {
    "duration": 1584,
    "start_time": "2021-09-08T16:02:20.130Z"
   },
   {
    "duration": 484,
    "start_time": "2021-09-08T16:02:21.716Z"
   },
   {
    "duration": -3,
    "start_time": "2021-09-08T16:02:22.205Z"
   },
   {
    "duration": -18,
    "start_time": "2021-09-08T16:02:22.221Z"
   },
   {
    "duration": -28,
    "start_time": "2021-09-08T16:02:22.232Z"
   },
   {
    "duration": -39,
    "start_time": "2021-09-08T16:02:22.244Z"
   },
   {
    "duration": -49,
    "start_time": "2021-09-08T16:02:22.255Z"
   },
   {
    "duration": -62,
    "start_time": "2021-09-08T16:02:22.268Z"
   },
   {
    "duration": -74,
    "start_time": "2021-09-08T16:02:22.281Z"
   },
   {
    "duration": -85,
    "start_time": "2021-09-08T16:02:22.293Z"
   },
   {
    "duration": -97,
    "start_time": "2021-09-08T16:02:22.306Z"
   },
   {
    "duration": -107,
    "start_time": "2021-09-08T16:02:22.317Z"
   },
   {
    "duration": -119,
    "start_time": "2021-09-08T16:02:22.330Z"
   },
   {
    "duration": 3,
    "start_time": "2021-09-08T16:02:29.893Z"
   },
   {
    "duration": 1525,
    "start_time": "2021-09-08T16:02:29.903Z"
   },
   {
    "duration": 303,
    "start_time": "2021-09-08T16:02:31.430Z"
   },
   {
    "duration": -12,
    "start_time": "2021-09-08T16:02:31.747Z"
   },
   {
    "duration": -23,
    "start_time": "2021-09-08T16:02:31.759Z"
   },
   {
    "duration": -34,
    "start_time": "2021-09-08T16:02:31.771Z"
   },
   {
    "duration": -46,
    "start_time": "2021-09-08T16:02:31.784Z"
   },
   {
    "duration": -59,
    "start_time": "2021-09-08T16:02:31.797Z"
   },
   {
    "duration": -69,
    "start_time": "2021-09-08T16:02:31.808Z"
   },
   {
    "duration": -80,
    "start_time": "2021-09-08T16:02:31.820Z"
   },
   {
    "duration": -92,
    "start_time": "2021-09-08T16:02:31.833Z"
   },
   {
    "duration": -104,
    "start_time": "2021-09-08T16:02:31.846Z"
   },
   {
    "duration": -114,
    "start_time": "2021-09-08T16:02:31.857Z"
   },
   {
    "duration": -126,
    "start_time": "2021-09-08T16:02:31.870Z"
   },
   {
    "duration": 78,
    "start_time": "2021-09-08T16:02:55.366Z"
   },
   {
    "duration": 238,
    "start_time": "2021-09-08T16:02:56.414Z"
   },
   {
    "duration": 283,
    "start_time": "2021-09-08T16:02:56.654Z"
   },
   {
    "duration": 4,
    "start_time": "2021-09-08T16:02:56.940Z"
   },
   {
    "duration": 3,
    "start_time": "2021-09-08T16:02:56.968Z"
   },
   {
    "duration": 4,
    "start_time": "2021-09-08T16:02:57.451Z"
   },
   {
    "duration": 2,
    "start_time": "2021-09-08T16:02:57.605Z"
   },
   {
    "duration": 3,
    "start_time": "2021-09-08T16:02:57.765Z"
   },
   {
    "duration": 88,
    "start_time": "2021-09-08T16:02:57.924Z"
   },
   {
    "duration": 2,
    "start_time": "2021-09-08T16:02:58.102Z"
   },
   {
    "duration": 3,
    "start_time": "2021-09-08T16:02:58.276Z"
   },
   {
    "duration": 2,
    "start_time": "2021-09-08T16:02:58.589Z"
   },
   {
    "duration": 735,
    "start_time": "2021-09-08T16:03:40.612Z"
   },
   {
    "duration": 128,
    "start_time": "2021-09-08T16:04:02.148Z"
   },
   {
    "duration": 111,
    "start_time": "2021-09-08T16:05:00.765Z"
   },
   {
    "duration": 87,
    "start_time": "2021-09-08T16:06:28.386Z"
   },
   {
    "duration": 260,
    "start_time": "2021-09-08T16:06:32.993Z"
   },
   {
    "duration": 858,
    "start_time": "2021-09-08T16:06:43.482Z"
   },
   {
    "duration": 1110,
    "start_time": "2021-09-08T16:07:09.333Z"
   },
   {
    "duration": 1526,
    "start_time": "2021-09-08T16:07:10.445Z"
   },
   {
    "duration": 85,
    "start_time": "2021-09-08T16:07:11.974Z"
   },
   {
    "duration": 250,
    "start_time": "2021-09-08T16:07:12.061Z"
   },
   {
    "duration": 276,
    "start_time": "2021-09-08T16:07:12.313Z"
   },
   {
    "duration": 4,
    "start_time": "2021-09-08T16:07:12.590Z"
   },
   {
    "duration": 25,
    "start_time": "2021-09-08T16:07:12.595Z"
   },
   {
    "duration": 12,
    "start_time": "2021-09-08T16:07:12.623Z"
   },
   {
    "duration": 15,
    "start_time": "2021-09-08T16:07:12.637Z"
   },
   {
    "duration": 19,
    "start_time": "2021-09-08T16:07:12.654Z"
   },
   {
    "duration": 1200,
    "start_time": "2021-09-08T16:07:12.674Z"
   },
   {
    "duration": -47,
    "start_time": "2021-09-08T16:07:13.924Z"
   },
   {
    "duration": -59,
    "start_time": "2021-09-08T16:07:13.937Z"
   },
   {
    "duration": -70,
    "start_time": "2021-09-08T16:07:13.950Z"
   },
   {
    "duration": 1034,
    "start_time": "2021-09-08T16:09:10.007Z"
   },
   {
    "duration": 897,
    "start_time": "2021-09-08T16:09:48.352Z"
   },
   {
    "duration": 3,
    "start_time": "2021-09-08T16:09:50.991Z"
   },
   {
    "duration": 899,
    "start_time": "2021-09-08T16:09:51.247Z"
   },
   {
    "duration": 1199,
    "start_time": "2021-09-08T16:10:02.227Z"
   },
   {
    "duration": 1561,
    "start_time": "2021-09-08T16:10:03.428Z"
   },
   {
    "duration": 86,
    "start_time": "2021-09-08T16:10:04.991Z"
   },
   {
    "duration": 249,
    "start_time": "2021-09-08T16:10:05.079Z"
   },
   {
    "duration": 279,
    "start_time": "2021-09-08T16:10:05.329Z"
   },
   {
    "duration": 3,
    "start_time": "2021-09-08T16:10:05.610Z"
   },
   {
    "duration": 10,
    "start_time": "2021-09-08T16:10:05.614Z"
   },
   {
    "duration": 13,
    "start_time": "2021-09-08T16:10:05.626Z"
   },
   {
    "duration": 7,
    "start_time": "2021-09-08T16:10:05.641Z"
   },
   {
    "duration": 7,
    "start_time": "2021-09-08T16:10:05.650Z"
   },
   {
    "duration": 983,
    "start_time": "2021-09-08T16:10:05.658Z"
   },
   {
    "duration": 2,
    "start_time": "2021-09-08T16:10:06.643Z"
   },
   {
    "duration": 7,
    "start_time": "2021-09-08T16:10:06.647Z"
   },
   {
    "duration": 6,
    "start_time": "2021-09-08T16:10:06.656Z"
   },
   {
    "duration": 1953,
    "start_time": "2021-09-08T16:10:20.692Z"
   },
   {
    "duration": 3,
    "start_time": "2021-09-08T16:10:26.203Z"
   },
   {
    "duration": 1371,
    "start_time": "2021-09-08T16:10:26.213Z"
   },
   {
    "duration": 80,
    "start_time": "2021-09-08T16:10:27.587Z"
   },
   {
    "duration": 200,
    "start_time": "2021-09-08T16:10:27.669Z"
   },
   {
    "duration": 248,
    "start_time": "2021-09-08T16:10:27.871Z"
   },
   {
    "duration": 4,
    "start_time": "2021-09-08T16:10:28.121Z"
   },
   {
    "duration": 28,
    "start_time": "2021-09-08T16:10:28.127Z"
   },
   {
    "duration": 8,
    "start_time": "2021-09-08T16:10:28.157Z"
   },
   {
    "duration": 12,
    "start_time": "2021-09-08T16:10:28.168Z"
   },
   {
    "duration": 7,
    "start_time": "2021-09-08T16:10:28.182Z"
   },
   {
    "duration": 2050,
    "start_time": "2021-09-08T16:10:28.191Z"
   },
   {
    "duration": 3,
    "start_time": "2021-09-08T16:10:30.244Z"
   },
   {
    "duration": 91,
    "start_time": "2021-09-08T16:10:30.250Z"
   },
   {
    "duration": 10,
    "start_time": "2021-09-08T16:10:30.343Z"
   },
   {
    "duration": 1649,
    "start_time": "2021-09-08T16:10:41.841Z"
   },
   {
    "duration": 100,
    "start_time": "2021-09-08T16:11:31.442Z"
   },
   {
    "duration": 231,
    "start_time": "2021-09-08T16:11:33.193Z"
   },
   {
    "duration": 3,
    "start_time": "2021-09-08T16:11:33.426Z"
   },
   {
    "duration": 3,
    "start_time": "2021-09-08T16:11:33.530Z"
   },
   {
    "duration": 4,
    "start_time": "2021-09-08T16:11:34.064Z"
   },
   {
    "duration": 2,
    "start_time": "2021-09-08T16:11:34.224Z"
   },
   {
    "duration": 4,
    "start_time": "2021-09-08T16:11:34.400Z"
   },
   {
    "duration": 1394,
    "start_time": "2021-09-08T16:11:34.577Z"
   },
   {
    "duration": -81,
    "start_time": "2021-09-08T16:11:36.054Z"
   },
   {
    "duration": -84,
    "start_time": "2021-09-08T16:11:36.058Z"
   },
   {
    "duration": 1436,
    "start_time": "2021-09-08T16:11:50.555Z"
   },
   {
    "duration": 1640,
    "start_time": "2021-09-08T16:11:58.514Z"
   },
   {
    "duration": 8848,
    "start_time": "2021-09-08T16:14:51.933Z"
   },
   {
    "duration": -374,
    "start_time": "2021-09-08T16:15:01.157Z"
   },
   {
    "duration": 8100,
    "start_time": "2021-09-08T16:16:20.558Z"
   },
   {
    "duration": 24019,
    "start_time": "2021-09-08T16:16:35.469Z"
   },
   {
    "duration": 151124,
    "start_time": "2021-09-08T16:17:33.220Z"
   },
   {
    "duration": 319,
    "start_time": "2021-09-08T16:28:05.431Z"
   },
   {
    "duration": 5,
    "start_time": "2021-09-08T16:28:06.630Z"
   },
   {
    "duration": 5,
    "start_time": "2021-09-08T16:28:22.174Z"
   },
   {
    "duration": 5,
    "start_time": "2021-09-08T16:28:27.805Z"
   },
   {
    "duration": 5,
    "start_time": "2021-09-08T16:28:35.924Z"
   },
   {
    "duration": 289,
    "start_time": "2021-09-08T16:28:40.765Z"
   },
   {
    "duration": 5,
    "start_time": "2021-09-08T16:28:41.254Z"
   },
   {
    "duration": 4,
    "start_time": "2021-09-08T16:29:14.549Z"
   },
   {
    "duration": 4,
    "start_time": "2021-09-08T16:29:17.516Z"
   },
   {
    "duration": 98,
    "start_time": "2021-09-08T16:29:24.844Z"
   },
   {
    "duration": 4,
    "start_time": "2021-09-08T16:29:27.516Z"
   },
   {
    "duration": 19,
    "start_time": "2021-09-08T16:29:31.221Z"
   },
   {
    "duration": 1143,
    "start_time": "2021-09-08T16:31:33.953Z"
   },
   {
    "duration": 1484,
    "start_time": "2021-09-08T16:31:35.098Z"
   },
   {
    "duration": 84,
    "start_time": "2021-09-08T16:31:36.584Z"
   },
   {
    "duration": 27,
    "start_time": "2021-09-08T16:31:36.670Z"
   },
   {
    "duration": 280,
    "start_time": "2021-09-08T16:31:36.699Z"
   },
   {
    "duration": 4,
    "start_time": "2021-09-08T16:31:36.981Z"
   },
   {
    "duration": 9,
    "start_time": "2021-09-08T16:31:36.987Z"
   },
   {
    "duration": 10,
    "start_time": "2021-09-08T16:31:36.997Z"
   },
   {
    "duration": 9,
    "start_time": "2021-09-08T16:31:37.010Z"
   },
   {
    "duration": 7,
    "start_time": "2021-09-08T16:31:37.021Z"
   },
   {
    "duration": 1606,
    "start_time": "2021-09-08T16:31:37.040Z"
   },
   {
    "duration": 92,
    "start_time": "2021-09-08T16:31:38.649Z"
   },
   {
    "duration": 100237,
    "start_time": "2021-09-08T16:31:38.743Z"
   },
   {
    "duration": 173,
    "start_time": "2021-09-08T16:33:18.982Z"
   },
   {
    "duration": 4,
    "start_time": "2021-09-08T16:33:19.157Z"
   },
   {
    "duration": 4,
    "start_time": "2021-09-08T16:33:39.076Z"
   },
   {
    "duration": 1302,
    "start_time": "2021-09-08T16:33:39.087Z"
   },
   {
    "duration": 80,
    "start_time": "2021-09-08T16:33:40.391Z"
   },
   {
    "duration": 25,
    "start_time": "2021-09-08T16:33:40.473Z"
   },
   {
    "duration": 247,
    "start_time": "2021-09-08T16:33:40.500Z"
   },
   {
    "duration": 3,
    "start_time": "2021-09-08T16:33:40.749Z"
   },
   {
    "duration": 8,
    "start_time": "2021-09-08T16:33:40.754Z"
   },
   {
    "duration": 10,
    "start_time": "2021-09-08T16:33:40.764Z"
   },
   {
    "duration": 4,
    "start_time": "2021-09-08T16:33:40.777Z"
   },
   {
    "duration": 9,
    "start_time": "2021-09-08T16:33:40.783Z"
   },
   {
    "duration": 1553,
    "start_time": "2021-09-08T16:33:40.793Z"
   },
   {
    "duration": 94,
    "start_time": "2021-09-08T16:33:42.348Z"
   },
   {
    "duration": 99851,
    "start_time": "2021-09-08T16:33:42.444Z"
   },
   {
    "duration": 155,
    "start_time": "2021-09-08T16:35:22.297Z"
   },
   {
    "duration": 5,
    "start_time": "2021-09-08T16:35:22.454Z"
   },
   {
    "duration": 1573,
    "start_time": "2021-09-08T16:36:22.969Z"
   },
   {
    "duration": 5,
    "start_time": "2021-09-08T16:38:01.153Z"
   },
   {
    "duration": 149226,
    "start_time": "2021-09-08T16:38:24.047Z"
   },
   {
    "duration": 106963,
    "start_time": "2021-09-08T16:44:46.021Z"
   },
   {
    "duration": 167,
    "start_time": "2021-09-08T16:46:32.987Z"
   },
   {
    "duration": 4,
    "start_time": "2021-09-08T16:46:33.156Z"
   },
   {
    "duration": 248633,
    "start_time": "2021-09-08T16:46:33.162Z"
   },
   {
    "duration": 157,
    "start_time": "2021-09-08T16:50:41.797Z"
   },
   {
    "duration": 4,
    "start_time": "2021-09-08T16:50:41.956Z"
   },
   {
    "duration": 22309,
    "start_time": "2021-09-08T18:07:13.145Z"
   },
   {
    "duration": 112,
    "start_time": "2021-09-08T18:07:35.456Z"
   },
   {
    "duration": 5,
    "start_time": "2021-09-08T18:07:35.570Z"
   },
   {
    "duration": 352991,
    "start_time": "2021-09-08T18:09:58.057Z"
   },
   {
    "duration": 407,
    "start_time": "2021-09-08T18:15:51.050Z"
   },
   {
    "duration": 5,
    "start_time": "2021-09-08T18:15:51.459Z"
   },
   {
    "duration": 20331,
    "start_time": "2021-09-08T18:16:56.782Z"
   },
   {
    "duration": 132,
    "start_time": "2021-09-08T18:17:17.115Z"
   },
   {
    "duration": 4,
    "start_time": "2021-09-08T18:17:17.250Z"
   },
   {
    "duration": 5,
    "start_time": "2021-09-08T18:20:00.548Z"
   },
   {
    "duration": 1202,
    "start_time": "2021-09-08T18:22:26.045Z"
   },
   {
    "duration": 1714,
    "start_time": "2021-09-08T18:22:27.249Z"
   },
   {
    "duration": 94,
    "start_time": "2021-09-08T18:22:28.966Z"
   },
   {
    "duration": 28,
    "start_time": "2021-09-08T18:22:29.062Z"
   },
   {
    "duration": 389,
    "start_time": "2021-09-08T18:22:29.091Z"
   },
   {
    "duration": 3,
    "start_time": "2021-09-08T18:22:29.482Z"
   },
   {
    "duration": 28,
    "start_time": "2021-09-08T18:22:29.488Z"
   },
   {
    "duration": 19,
    "start_time": "2021-09-08T18:22:29.518Z"
   },
   {
    "duration": 589,
    "start_time": "2021-09-08T18:22:29.539Z"
   },
   {
    "duration": 37,
    "start_time": "2021-09-08T18:22:30.093Z"
   },
   {
    "duration": 8,
    "start_time": "2021-09-08T18:22:30.123Z"
   },
   {
    "duration": 7,
    "start_time": "2021-09-08T18:22:30.126Z"
   },
   {
    "duration": 6,
    "start_time": "2021-09-08T18:22:30.128Z"
   },
   {
    "duration": 5,
    "start_time": "2021-09-08T18:22:30.130Z"
   },
   {
    "duration": 4,
    "start_time": "2021-09-08T18:22:30.132Z"
   },
   {
    "duration": 4,
    "start_time": "2021-09-08T18:22:30.133Z"
   },
   {
    "duration": 17,
    "start_time": "2021-09-08T18:22:45.911Z"
   },
   {
    "duration": 4,
    "start_time": "2021-09-08T18:22:47.058Z"
   },
   {
    "duration": 1691,
    "start_time": "2021-09-08T18:22:47.454Z"
   },
   {
    "duration": 94,
    "start_time": "2021-09-08T18:22:49.147Z"
   },
   {
    "duration": 253815,
    "start_time": "2021-09-08T18:22:49.243Z"
   },
   {
    "duration": 1900,
    "start_time": "2021-09-08T18:27:03.061Z"
   },
   {
    "duration": 59,
    "start_time": "2021-09-08T18:27:04.905Z"
   },
   {
    "duration": 57,
    "start_time": "2021-09-08T18:27:04.908Z"
   },
   {
    "duration": 139828,
    "start_time": "2021-09-08T18:27:23.066Z"
   },
   {
    "duration": 259,
    "start_time": "2021-09-08T18:29:42.896Z"
   },
   {
    "duration": 5,
    "start_time": "2021-09-08T18:29:43.157Z"
   },
   {
    "duration": 6,
    "start_time": "2021-09-08T18:30:32.896Z"
   },
   {
    "duration": 2168,
    "start_time": "2021-09-08T18:30:32.904Z"
   },
   {
    "duration": 121,
    "start_time": "2021-09-08T18:30:35.075Z"
   },
   {
    "duration": 24,
    "start_time": "2021-09-08T18:30:35.198Z"
   },
   {
    "duration": 440,
    "start_time": "2021-09-08T18:30:35.225Z"
   },
   {
    "duration": 4,
    "start_time": "2021-09-08T18:30:35.667Z"
   },
   {
    "duration": 17,
    "start_time": "2021-09-08T18:30:35.673Z"
   },
   {
    "duration": 20,
    "start_time": "2021-09-08T18:30:35.692Z"
   },
   {
    "duration": 28,
    "start_time": "2021-09-08T18:30:35.716Z"
   },
   {
    "duration": 4,
    "start_time": "2021-09-08T18:30:35.746Z"
   },
   {
    "duration": 17,
    "start_time": "2021-09-08T18:30:35.753Z"
   },
   {
    "duration": 15,
    "start_time": "2021-09-08T18:30:35.772Z"
   },
   {
    "duration": 18,
    "start_time": "2021-09-08T18:30:35.789Z"
   },
   {
    "duration": 12,
    "start_time": "2021-09-08T18:30:35.810Z"
   },
   {
    "duration": 320,
    "start_time": "2021-09-08T18:30:35.825Z"
   },
   {
    "duration": 83,
    "start_time": "2021-09-08T18:33:57.151Z"
   },
   {
    "duration": 3,
    "start_time": "2021-09-08T18:34:08.693Z"
   },
   {
    "duration": 1078,
    "start_time": "2021-09-08T18:34:37.269Z"
   },
   {
    "duration": 1615,
    "start_time": "2021-09-08T18:34:38.349Z"
   },
   {
    "duration": 87,
    "start_time": "2021-09-08T18:34:39.966Z"
   },
   {
    "duration": 27,
    "start_time": "2021-09-08T18:34:40.055Z"
   },
   {
    "duration": 292,
    "start_time": "2021-09-08T18:34:40.084Z"
   },
   {
    "duration": 3,
    "start_time": "2021-09-08T18:34:40.378Z"
   },
   {
    "duration": 6,
    "start_time": "2021-09-08T18:34:40.382Z"
   },
   {
    "duration": 8,
    "start_time": "2021-09-08T18:34:40.390Z"
   },
   {
    "duration": 15,
    "start_time": "2021-09-08T18:34:40.400Z"
   },
   {
    "duration": 3,
    "start_time": "2021-09-08T18:34:40.417Z"
   },
   {
    "duration": 6,
    "start_time": "2021-09-08T18:34:40.440Z"
   },
   {
    "duration": 8,
    "start_time": "2021-09-08T18:34:40.447Z"
   },
   {
    "duration": 5,
    "start_time": "2021-09-08T18:34:40.456Z"
   },
   {
    "duration": 5,
    "start_time": "2021-09-08T18:34:40.463Z"
   },
   {
    "duration": 9,
    "start_time": "2021-09-08T18:34:40.469Z"
   },
   {
    "duration": 1175,
    "start_time": "2021-09-08T18:34:55.867Z"
   },
   {
    "duration": 1512,
    "start_time": "2021-09-08T18:34:57.044Z"
   },
   {
    "duration": 90,
    "start_time": "2021-09-08T18:34:58.559Z"
   },
   {
    "duration": 28,
    "start_time": "2021-09-08T18:34:58.651Z"
   },
   {
    "duration": 340,
    "start_time": "2021-09-08T18:34:58.681Z"
   },
   {
    "duration": 4,
    "start_time": "2021-09-08T18:34:59.023Z"
   },
   {
    "duration": 13,
    "start_time": "2021-09-08T18:34:59.029Z"
   },
   {
    "duration": 10,
    "start_time": "2021-09-08T18:34:59.044Z"
   },
   {
    "duration": 24,
    "start_time": "2021-09-08T18:34:59.057Z"
   },
   {
    "duration": 5,
    "start_time": "2021-09-08T18:34:59.083Z"
   },
   {
    "duration": 13,
    "start_time": "2021-09-08T18:34:59.089Z"
   },
   {
    "duration": 10,
    "start_time": "2021-09-08T18:34:59.104Z"
   },
   {
    "duration": 9,
    "start_time": "2021-09-08T18:34:59.115Z"
   },
   {
    "duration": 16,
    "start_time": "2021-09-08T18:34:59.125Z"
   },
   {
    "duration": 3,
    "start_time": "2021-09-08T18:34:59.142Z"
   },
   {
    "duration": 1136,
    "start_time": "2021-09-08T18:35:29.501Z"
   },
   {
    "duration": 1529,
    "start_time": "2021-09-08T18:35:30.638Z"
   },
   {
    "duration": 95,
    "start_time": "2021-09-08T18:35:32.170Z"
   },
   {
    "duration": 29,
    "start_time": "2021-09-08T18:35:32.267Z"
   },
   {
    "duration": 297,
    "start_time": "2021-09-08T18:35:32.299Z"
   },
   {
    "duration": 4,
    "start_time": "2021-09-08T18:35:32.598Z"
   },
   {
    "duration": 7,
    "start_time": "2021-09-08T18:35:32.604Z"
   },
   {
    "duration": 21,
    "start_time": "2021-09-08T18:35:32.613Z"
   },
   {
    "duration": 16,
    "start_time": "2021-09-08T18:35:32.642Z"
   },
   {
    "duration": 3,
    "start_time": "2021-09-08T18:35:32.661Z"
   },
   {
    "duration": 9,
    "start_time": "2021-09-08T18:35:32.667Z"
   },
   {
    "duration": 8,
    "start_time": "2021-09-08T18:35:32.677Z"
   },
   {
    "duration": 8,
    "start_time": "2021-09-08T18:35:32.687Z"
   },
   {
    "duration": 5,
    "start_time": "2021-09-08T18:35:32.697Z"
   },
   {
    "duration": 36,
    "start_time": "2021-09-08T18:35:32.704Z"
   },
   {
    "duration": 9112,
    "start_time": "2021-09-08T18:35:32.743Z"
   },
   {
    "duration": 68,
    "start_time": "2021-09-08T18:35:41.789Z"
   },
   {
    "duration": 4,
    "start_time": "2021-09-08T18:36:05.861Z"
   },
   {
    "duration": 8436,
    "start_time": "2021-09-08T18:36:06.414Z"
   },
   {
    "duration": 7612,
    "start_time": "2021-09-08T18:36:16.349Z"
   },
   {
    "duration": 169,
    "start_time": "2021-09-08T18:36:43.045Z"
   },
   {
    "duration": 142,
    "start_time": "2021-09-08T18:37:06.990Z"
   },
   {
    "duration": 127,
    "start_time": "2021-09-08T18:37:32.607Z"
   },
   {
    "duration": 122,
    "start_time": "2021-09-08T18:37:40.574Z"
   },
   {
    "duration": 164,
    "start_time": "2021-09-08T18:38:17.936Z"
   },
   {
    "duration": 15,
    "start_time": "2021-09-08T18:38:21.063Z"
   },
   {
    "duration": 161,
    "start_time": "2021-09-08T18:38:22.093Z"
   },
   {
    "duration": 3,
    "start_time": "2021-09-08T18:38:22.598Z"
   },
   {
    "duration": 3,
    "start_time": "2021-09-08T18:38:22.766Z"
   },
   {
    "duration": 1106,
    "start_time": "2021-09-08T18:38:28.737Z"
   },
   {
    "duration": 1543,
    "start_time": "2021-09-08T18:38:29.845Z"
   },
   {
    "duration": 216,
    "start_time": "2021-09-08T18:38:31.390Z"
   },
   {
    "duration": 16,
    "start_time": "2021-09-08T18:38:31.608Z"
   },
   {
    "duration": 270,
    "start_time": "2021-09-08T18:38:31.626Z"
   },
   {
    "duration": 3,
    "start_time": "2021-09-08T18:38:31.897Z"
   },
   {
    "duration": 7,
    "start_time": "2021-09-08T18:38:31.902Z"
   },
   {
    "duration": 15,
    "start_time": "2021-09-08T18:38:31.910Z"
   },
   {
    "duration": 21,
    "start_time": "2021-09-08T18:38:31.927Z"
   },
   {
    "duration": 3,
    "start_time": "2021-09-08T18:38:31.951Z"
   },
   {
    "duration": 8,
    "start_time": "2021-09-08T18:38:31.956Z"
   },
   {
    "duration": 9,
    "start_time": "2021-09-08T18:38:31.966Z"
   },
   {
    "duration": 6,
    "start_time": "2021-09-08T18:38:31.977Z"
   },
   {
    "duration": 9,
    "start_time": "2021-09-08T18:38:31.985Z"
   },
   {
    "duration": 10,
    "start_time": "2021-09-08T18:38:31.996Z"
   },
   {
    "duration": 8237,
    "start_time": "2021-09-08T18:38:32.008Z"
   },
   {
    "duration": 7309,
    "start_time": "2021-09-08T18:38:40.246Z"
   },
   {
    "duration": 4,
    "start_time": "2021-09-08T18:39:48.789Z"
   },
   {
    "duration": 1416,
    "start_time": "2021-09-08T18:39:48.796Z"
   },
   {
    "duration": 219,
    "start_time": "2021-09-08T18:39:50.214Z"
   },
   {
    "duration": 23,
    "start_time": "2021-09-08T18:39:50.435Z"
   },
   {
    "duration": 227,
    "start_time": "2021-09-08T18:39:50.460Z"
   },
   {
    "duration": 4,
    "start_time": "2021-09-08T18:39:50.688Z"
   },
   {
    "duration": 8,
    "start_time": "2021-09-08T18:39:50.693Z"
   },
   {
    "duration": 16,
    "start_time": "2021-09-08T18:39:50.704Z"
   },
   {
    "duration": 18,
    "start_time": "2021-09-08T18:39:50.722Z"
   },
   {
    "duration": 3,
    "start_time": "2021-09-08T18:39:50.742Z"
   },
   {
    "duration": 1699,
    "start_time": "2021-09-08T18:39:50.747Z"
   },
   {
    "duration": 95,
    "start_time": "2021-09-08T18:39:52.448Z"
   },
   {
    "duration": 245932,
    "start_time": "2021-09-08T18:39:52.545Z"
   },
   {
    "duration": 132473,
    "start_time": "2021-09-08T18:43:58.479Z"
   },
   {
    "duration": 4,
    "start_time": "2021-09-08T18:46:10.954Z"
   },
   {
    "duration": 9597,
    "start_time": "2021-09-08T18:46:10.959Z"
   },
   {
    "duration": 7284,
    "start_time": "2021-09-08T18:46:20.558Z"
   },
   {
    "duration": 124000,
    "start_time": "2021-09-08T19:30:21.753Z"
   },
   {
    "duration": 3,
    "start_time": "2021-09-08T19:32:25.755Z"
   },
   {
    "duration": 123119,
    "start_time": "2021-09-08T19:34:04.938Z"
   },
   {
    "duration": 1106,
    "start_time": "2021-09-08T19:37:07.261Z"
   },
   {
    "duration": 1393,
    "start_time": "2021-09-08T19:37:08.368Z"
   },
   {
    "duration": 241,
    "start_time": "2021-09-08T19:37:09.763Z"
   },
   {
    "duration": 73,
    "start_time": "2021-09-08T19:37:10.006Z"
   },
   {
    "duration": 206,
    "start_time": "2021-09-08T19:37:10.081Z"
   },
   {
    "duration": 4,
    "start_time": "2021-09-08T19:37:10.288Z"
   },
   {
    "duration": 8,
    "start_time": "2021-09-08T19:37:10.293Z"
   },
   {
    "duration": 4,
    "start_time": "2021-09-08T19:37:10.303Z"
   },
   {
    "duration": 33,
    "start_time": "2021-09-08T19:37:10.309Z"
   },
   {
    "duration": 3,
    "start_time": "2021-09-08T19:37:10.343Z"
   },
   {
    "duration": 1203,
    "start_time": "2021-09-08T19:37:10.348Z"
   },
   {
    "duration": 90,
    "start_time": "2021-09-08T19:37:11.553Z"
   },
   {
    "duration": 195722,
    "start_time": "2021-09-08T19:37:11.644Z"
   },
   {
    "duration": 261001,
    "start_time": "2021-09-08T19:40:27.368Z"
   },
   {
    "duration": 3,
    "start_time": "2021-09-08T19:44:48.371Z"
   },
   {
    "duration": 125674,
    "start_time": "2021-09-08T19:44:48.376Z"
   },
   {
    "duration": 101895,
    "start_time": "2021-09-08T19:46:54.052Z"
   },
   {
    "duration": 340,
    "start_time": "2021-09-08T19:50:04.791Z"
   },
   {
    "duration": 92,
    "start_time": "2021-09-08T19:50:05.041Z"
   },
   {
    "duration": 4,
    "start_time": "2021-09-08T19:50:05.183Z"
   },
   {
    "duration": 2,
    "start_time": "2021-09-08T19:50:05.342Z"
   },
   {
    "duration": 4,
    "start_time": "2021-09-08T19:50:06.167Z"
   },
   {
    "duration": 12,
    "start_time": "2021-09-08T19:50:11.279Z"
   },
   {
    "duration": 4,
    "start_time": "2021-09-08T19:50:16.431Z"
   },
   {
    "duration": 140621,
    "start_time": "2021-09-08T19:50:16.622Z"
   },
   {
    "duration": 116721,
    "start_time": "2021-09-08T19:52:37.245Z"
   },
   {
    "duration": 4,
    "start_time": "2021-09-08T19:56:09.364Z"
   },
   {
    "duration": 1263,
    "start_time": "2021-09-08T19:56:09.370Z"
   },
   {
    "duration": 239,
    "start_time": "2021-09-08T19:56:10.635Z"
   },
   {
    "duration": 277,
    "start_time": "2021-09-08T19:56:10.875Z"
   },
   {
    "duration": 94,
    "start_time": "2021-09-08T19:56:11.061Z"
   },
   {
    "duration": 90,
    "start_time": "2021-09-08T19:56:11.065Z"
   },
   {
    "duration": 86,
    "start_time": "2021-09-08T19:56:11.071Z"
   },
   {
    "duration": 84,
    "start_time": "2021-09-08T19:56:11.074Z"
   },
   {
    "duration": 82,
    "start_time": "2021-09-08T19:56:11.076Z"
   },
   {
    "duration": 81,
    "start_time": "2021-09-08T19:56:11.078Z"
   },
   {
    "duration": 77,
    "start_time": "2021-09-08T19:56:11.083Z"
   },
   {
    "duration": 76,
    "start_time": "2021-09-08T19:56:11.085Z"
   },
   {
    "duration": 75,
    "start_time": "2021-09-08T19:56:11.087Z"
   },
   {
    "duration": 69,
    "start_time": "2021-09-08T19:56:11.094Z"
   },
   {
    "duration": 66,
    "start_time": "2021-09-08T19:56:11.098Z"
   },
   {
    "duration": 65,
    "start_time": "2021-09-08T19:56:11.100Z"
   },
   {
    "duration": 65,
    "start_time": "2021-09-08T19:56:11.101Z"
   },
   {
    "duration": 64,
    "start_time": "2021-09-08T19:56:11.103Z"
   },
   {
    "duration": 64,
    "start_time": "2021-09-08T19:56:11.104Z"
   },
   {
    "duration": 5,
    "start_time": "2021-09-08T20:14:12.480Z"
   },
   {
    "duration": 1285,
    "start_time": "2021-09-08T20:14:12.487Z"
   },
   {
    "duration": 237,
    "start_time": "2021-09-08T20:14:13.775Z"
   },
   {
    "duration": 303,
    "start_time": "2021-09-08T20:14:14.014Z"
   },
   {
    "duration": 63,
    "start_time": "2021-09-08T20:14:14.256Z"
   },
   {
    "duration": 62,
    "start_time": "2021-09-08T20:14:14.259Z"
   },
   {
    "duration": 62,
    "start_time": "2021-09-08T20:14:14.260Z"
   },
   {
    "duration": 58,
    "start_time": "2021-09-08T20:14:14.265Z"
   },
   {
    "duration": 58,
    "start_time": "2021-09-08T20:14:14.266Z"
   },
   {
    "duration": 57,
    "start_time": "2021-09-08T20:14:14.268Z"
   },
   {
    "duration": 55,
    "start_time": "2021-09-08T20:14:14.270Z"
   },
   {
    "duration": 55,
    "start_time": "2021-09-08T20:14:14.272Z"
   },
   {
    "duration": 49,
    "start_time": "2021-09-08T20:14:14.279Z"
   },
   {
    "duration": 47,
    "start_time": "2021-09-08T20:14:14.281Z"
   },
   {
    "duration": 48,
    "start_time": "2021-09-08T20:14:14.282Z"
   },
   {
    "duration": 45,
    "start_time": "2021-09-08T20:14:14.286Z"
   },
   {
    "duration": 43,
    "start_time": "2021-09-08T20:14:14.288Z"
   },
   {
    "duration": 41,
    "start_time": "2021-09-08T20:14:14.291Z"
   },
   {
    "duration": 38,
    "start_time": "2021-09-08T20:14:14.295Z"
   },
   {
    "duration": 6,
    "start_time": "2021-09-08T20:14:32.481Z"
   },
   {
    "duration": 1294,
    "start_time": "2021-09-08T20:14:32.489Z"
   },
   {
    "duration": 255,
    "start_time": "2021-09-08T20:14:33.785Z"
   },
   {
    "duration": 55,
    "start_time": "2021-09-08T20:14:34.042Z"
   },
   {
    "duration": 190,
    "start_time": "2021-09-08T20:14:34.098Z"
   },
   {
    "duration": 3,
    "start_time": "2021-09-08T20:14:34.290Z"
   },
   {
    "duration": 13,
    "start_time": "2021-09-08T20:14:34.295Z"
   },
   {
    "duration": 14,
    "start_time": "2021-09-08T20:14:34.310Z"
   },
   {
    "duration": 28,
    "start_time": "2021-09-08T20:14:34.326Z"
   },
   {
    "duration": 3,
    "start_time": "2021-09-08T20:14:34.356Z"
   },
   {
    "duration": 1121,
    "start_time": "2021-09-08T20:14:34.361Z"
   },
   {
    "duration": 7,
    "start_time": "2021-09-08T20:14:35.540Z"
   },
   {
    "duration": 161401,
    "start_time": "2021-09-08T20:14:35.640Z"
   },
   {
    "duration": 4,
    "start_time": "2021-09-08T20:17:17.042Z"
   },
   {
    "duration": 291703,
    "start_time": "2021-09-08T20:17:17.048Z"
   },
   {
    "duration": 263217,
    "start_time": "2021-09-08T20:22:08.753Z"
   },
   {
    "duration": 3,
    "start_time": "2021-09-08T20:26:31.972Z"
   },
   {
    "duration": 8000,
    "start_time": "2021-09-08T20:26:32.042Z"
   },
   {
    "duration": 7105,
    "start_time": "2021-09-08T20:26:40.044Z"
   },
   {
    "duration": 218,
    "start_time": "2021-09-09T04:11:39.450Z"
   },
   {
    "duration": 193,
    "start_time": "2021-09-09T04:11:59.653Z"
   },
   {
    "duration": 50,
    "start_time": "2021-09-09T04:12:02.226Z"
   },
   {
    "duration": 169,
    "start_time": "2021-09-09T04:12:04.441Z"
   },
   {
    "duration": 4,
    "start_time": "2021-09-09T04:12:52.339Z"
   },
   {
    "duration": 1397,
    "start_time": "2021-09-09T04:12:52.345Z"
   },
   {
    "duration": 296,
    "start_time": "2021-09-09T04:12:53.745Z"
   },
   {
    "duration": 61,
    "start_time": "2021-09-09T04:12:54.043Z"
   },
   {
    "duration": 213,
    "start_time": "2021-09-09T04:12:54.106Z"
   },
   {
    "duration": 4,
    "start_time": "2021-09-09T04:12:54.321Z"
   },
   {
    "duration": 9,
    "start_time": "2021-09-09T04:12:54.327Z"
   },
   {
    "duration": 9,
    "start_time": "2021-09-09T04:12:54.342Z"
   },
   {
    "duration": 21,
    "start_time": "2021-09-09T04:12:54.353Z"
   },
   {
    "duration": 3,
    "start_time": "2021-09-09T04:12:54.377Z"
   },
   {
    "duration": 1275,
    "start_time": "2021-09-09T04:12:54.382Z"
   },
   {
    "duration": 83,
    "start_time": "2021-09-09T04:12:55.660Z"
   },
   {
    "duration": 1215,
    "start_time": "2021-09-09T04:13:51.533Z"
   },
   {
    "duration": 1572,
    "start_time": "2021-09-09T04:13:52.751Z"
   },
   {
    "duration": 291,
    "start_time": "2021-09-09T04:13:54.327Z"
   },
   {
    "duration": 96,
    "start_time": "2021-09-09T04:13:54.621Z"
   },
   {
    "duration": 253,
    "start_time": "2021-09-09T04:13:54.719Z"
   },
   {
    "duration": 5,
    "start_time": "2021-09-09T04:13:54.974Z"
   },
   {
    "duration": 9,
    "start_time": "2021-09-09T04:13:54.981Z"
   },
   {
    "duration": 8,
    "start_time": "2021-09-09T04:13:54.992Z"
   },
   {
    "duration": 36,
    "start_time": "2021-09-09T04:13:55.004Z"
   },
   {
    "duration": 8,
    "start_time": "2021-09-09T04:13:55.043Z"
   },
   {
    "duration": 1303,
    "start_time": "2021-09-09T04:13:55.053Z"
   },
   {
    "duration": 83,
    "start_time": "2021-09-09T04:13:56.359Z"
   },
   {
    "duration": 1173,
    "start_time": "2021-09-09T04:17:13.868Z"
   },
   {
    "duration": 1559,
    "start_time": "2021-09-09T04:17:15.043Z"
   },
   {
    "duration": 299,
    "start_time": "2021-09-09T04:17:16.604Z"
   },
   {
    "duration": 245,
    "start_time": "2021-09-09T04:17:20.508Z"
   },
   {
    "duration": 206,
    "start_time": "2021-09-09T04:18:44.837Z"
   },
   {
    "duration": 199,
    "start_time": "2021-09-09T04:19:37.221Z"
   },
   {
    "duration": 160,
    "start_time": "2021-09-09T04:19:54.104Z"
   },
   {
    "duration": 136,
    "start_time": "2021-09-09T04:19:56.853Z"
   },
   {
    "duration": 4,
    "start_time": "2021-09-09T04:20:01.718Z"
   },
   {
    "duration": 1785,
    "start_time": "2021-09-09T04:20:01.791Z"
   },
   {
    "duration": 276,
    "start_time": "2021-09-09T04:20:03.578Z"
   },
   {
    "duration": 229,
    "start_time": "2021-09-09T04:20:03.856Z"
   },
   {
    "duration": 87,
    "start_time": "2021-09-09T04:20:04.087Z"
   },
   {
    "duration": 169,
    "start_time": "2021-09-09T04:20:04.176Z"
   },
   {
    "duration": 4,
    "start_time": "2021-09-09T04:20:14.590Z"
   },
   {
    "duration": 1547,
    "start_time": "2021-09-09T04:20:14.782Z"
   },
   {
    "duration": 265,
    "start_time": "2021-09-09T04:20:16.331Z"
   },
   {
    "duration": 212,
    "start_time": "2021-09-09T04:20:16.598Z"
   },
   {
    "duration": 90,
    "start_time": "2021-09-09T04:20:16.812Z"
   },
   {
    "duration": 4,
    "start_time": "2021-09-09T04:20:35.064Z"
   },
   {
    "duration": 1483,
    "start_time": "2021-09-09T04:20:35.295Z"
   },
   {
    "duration": 302,
    "start_time": "2021-09-09T04:20:36.780Z"
   },
   {
    "duration": 222,
    "start_time": "2021-09-09T04:20:37.085Z"
   },
   {
    "duration": 4,
    "start_time": "2021-09-09T04:20:59.608Z"
   },
   {
    "duration": 1510,
    "start_time": "2021-09-09T04:20:59.615Z"
   },
   {
    "duration": 376,
    "start_time": "2021-09-09T04:21:01.128Z"
   },
   {
    "duration": 223,
    "start_time": "2021-09-09T04:21:01.506Z"
   },
   {
    "duration": 110,
    "start_time": "2021-09-09T04:21:01.731Z"
   },
   {
    "duration": 210,
    "start_time": "2021-09-09T04:22:10.910Z"
   },
   {
    "duration": 4,
    "start_time": "2021-09-09T04:22:36.297Z"
   },
   {
    "duration": 1500,
    "start_time": "2021-09-09T04:22:36.304Z"
   },
   {
    "duration": 300,
    "start_time": "2021-09-09T04:22:37.806Z"
   },
   {
    "duration": 225,
    "start_time": "2021-09-09T04:22:38.109Z"
   },
   {
    "duration": 89,
    "start_time": "2021-09-09T04:22:38.336Z"
   },
   {
    "duration": 314,
    "start_time": "2021-09-09T04:22:38.427Z"
   },
   {
    "duration": 4,
    "start_time": "2021-09-09T04:22:38.742Z"
   },
   {
    "duration": 7,
    "start_time": "2021-09-09T04:22:38.748Z"
   },
   {
    "duration": 7,
    "start_time": "2021-09-09T04:22:38.758Z"
   },
   {
    "duration": 18,
    "start_time": "2021-09-09T04:22:38.767Z"
   },
   {
    "duration": 4,
    "start_time": "2021-09-09T04:22:38.787Z"
   },
   {
    "duration": 1648,
    "start_time": "2021-09-09T04:22:38.793Z"
   },
   {
    "duration": 97,
    "start_time": "2021-09-09T04:22:40.444Z"
   },
   {
    "duration": 1188,
    "start_time": "2021-09-09T05:49:10.345Z"
   },
   {
    "duration": 1606,
    "start_time": "2021-09-09T05:49:11.535Z"
   },
   {
    "duration": 294,
    "start_time": "2021-09-09T05:49:13.143Z"
   },
   {
    "duration": 305,
    "start_time": "2021-09-09T05:49:13.441Z"
   },
   {
    "duration": 101,
    "start_time": "2021-09-09T05:49:13.748Z"
   },
   {
    "duration": 305,
    "start_time": "2021-09-09T05:49:13.851Z"
   },
   {
    "duration": 4,
    "start_time": "2021-09-09T05:49:14.158Z"
   },
   {
    "duration": 11,
    "start_time": "2021-09-09T05:49:14.163Z"
   },
   {
    "duration": 9,
    "start_time": "2021-09-09T05:49:14.177Z"
   },
   {
    "duration": 19,
    "start_time": "2021-09-09T05:49:14.188Z"
   },
   {
    "duration": 4,
    "start_time": "2021-09-09T05:49:14.209Z"
   },
   {
    "duration": 1527,
    "start_time": "2021-09-09T05:49:14.215Z"
   },
   {
    "duration": 97,
    "start_time": "2021-09-09T05:49:15.745Z"
   },
   {
    "duration": 225476,
    "start_time": "2021-09-09T05:49:15.844Z"
   },
   {
    "duration": 4,
    "start_time": "2021-09-09T05:53:01.322Z"
   },
   {
    "duration": 390534,
    "start_time": "2021-09-09T05:53:01.328Z"
   },
   {
    "duration": 321784,
    "start_time": "2021-09-09T05:59:31.864Z"
   },
   {
    "duration": 4,
    "start_time": "2021-09-09T06:04:53.650Z"
   },
   {
    "duration": 9993,
    "start_time": "2021-09-09T06:04:53.656Z"
   },
   {
    "duration": 7493,
    "start_time": "2021-09-09T06:05:03.651Z"
   },
   {
    "duration": 3,
    "start_time": "2021-09-09T06:07:22.031Z"
   },
   {
    "duration": 381,
    "start_time": "2021-09-09T06:07:27.392Z"
   },
   {
    "duration": 4,
    "start_time": "2021-09-09T06:08:30.145Z"
   },
   {
    "duration": 98,
    "start_time": "2021-09-09T06:09:29.084Z"
   },
   {
    "duration": 815,
    "start_time": "2021-09-09T06:09:42.552Z"
   },
   {
    "duration": 95,
    "start_time": "2021-09-09T06:09:49.521Z"
   },
   {
    "duration": 1083,
    "start_time": "2021-09-09T06:09:57.585Z"
   },
   {
    "duration": 1719,
    "start_time": "2021-09-09T06:11:26.194Z"
   },
   {
    "duration": 1499,
    "start_time": "2021-09-09T06:11:48.556Z"
   },
   {
    "duration": 4,
    "start_time": "2021-09-09T06:14:35.056Z"
   },
   {
    "duration": 696,
    "start_time": "2021-09-09T06:14:36.147Z"
   },
   {
    "duration": 714,
    "start_time": "2021-09-09T06:14:52.228Z"
   },
   {
    "duration": 695,
    "start_time": "2021-09-09T06:15:39.652Z"
   },
   {
    "duration": 1011,
    "start_time": "2021-09-09T06:15:57.813Z"
   },
   {
    "duration": 746,
    "start_time": "2021-09-09T06:16:06.796Z"
   },
   {
    "duration": 796,
    "start_time": "2021-09-09T06:16:31.063Z"
   },
   {
    "duration": 3,
    "start_time": "2021-09-09T06:16:44.925Z"
   },
   {
    "duration": 742,
    "start_time": "2021-09-09T06:16:45.308Z"
   },
   {
    "duration": 731,
    "start_time": "2021-09-09T06:16:53.013Z"
   },
   {
    "duration": 5,
    "start_time": "2021-09-09T06:18:41.004Z"
   },
   {
    "duration": 710,
    "start_time": "2021-09-09T06:18:41.333Z"
   },
   {
    "duration": 708,
    "start_time": "2021-09-09T06:18:53.237Z"
   },
   {
    "duration": 645,
    "start_time": "2021-09-09T06:21:00.526Z"
   },
   {
    "duration": 5,
    "start_time": "2021-09-09T06:30:22.721Z"
   },
   {
    "duration": 11968,
    "start_time": "2021-09-09T06:30:23.579Z"
   },
   {
    "duration": 4,
    "start_time": "2021-09-09T06:31:38.395Z"
   },
   {
    "duration": 741,
    "start_time": "2021-09-09T06:31:39.300Z"
   },
   {
    "duration": 1309,
    "start_time": "2021-09-09T06:33:22.729Z"
   },
   {
    "duration": 2060,
    "start_time": "2021-09-09T06:33:24.040Z"
   },
   {
    "duration": 522,
    "start_time": "2021-09-09T06:33:25.580Z"
   },
   {
    "duration": 488,
    "start_time": "2021-09-09T06:33:25.615Z"
   },
   {
    "duration": 486,
    "start_time": "2021-09-09T06:33:25.619Z"
   },
   {
    "duration": 485,
    "start_time": "2021-09-09T06:33:25.621Z"
   },
   {
    "duration": 440,
    "start_time": "2021-09-09T06:33:25.667Z"
   },
   {
    "duration": 414,
    "start_time": "2021-09-09T06:33:25.694Z"
   },
   {
    "duration": 404,
    "start_time": "2021-09-09T06:33:25.705Z"
   },
   {
    "duration": 385,
    "start_time": "2021-09-09T06:33:25.725Z"
   },
   {
    "duration": 383,
    "start_time": "2021-09-09T06:33:25.728Z"
   },
   {
    "duration": 378,
    "start_time": "2021-09-09T06:33:25.734Z"
   },
   {
    "duration": 375,
    "start_time": "2021-09-09T06:33:25.738Z"
   },
   {
    "duration": 373,
    "start_time": "2021-09-09T06:33:25.742Z"
   },
   {
    "duration": 369,
    "start_time": "2021-09-09T06:33:25.747Z"
   },
   {
    "duration": 366,
    "start_time": "2021-09-09T06:33:25.751Z"
   },
   {
    "duration": 363,
    "start_time": "2021-09-09T06:33:25.756Z"
   },
   {
    "duration": 360,
    "start_time": "2021-09-09T06:33:25.759Z"
   },
   {
    "duration": 359,
    "start_time": "2021-09-09T06:33:25.761Z"
   },
   {
    "duration": 359,
    "start_time": "2021-09-09T06:33:25.763Z"
   },
   {
    "duration": 359,
    "start_time": "2021-09-09T06:33:25.764Z"
   },
   {
    "duration": 358,
    "start_time": "2021-09-09T06:33:25.766Z"
   },
   {
    "duration": 352,
    "start_time": "2021-09-09T06:33:25.773Z"
   },
   {
    "duration": 346,
    "start_time": "2021-09-09T06:33:25.780Z"
   },
   {
    "duration": 345,
    "start_time": "2021-09-09T06:33:25.782Z"
   },
   {
    "duration": 6,
    "start_time": "2021-09-09T06:33:37.499Z"
   },
   {
    "duration": 1568,
    "start_time": "2021-09-09T06:33:37.508Z"
   },
   {
    "duration": 284,
    "start_time": "2021-09-09T06:33:39.079Z"
   },
   {
    "duration": 309,
    "start_time": "2021-09-09T06:33:39.365Z"
   },
   {
    "duration": 100,
    "start_time": "2021-09-09T06:33:39.676Z"
   },
   {
    "duration": 287,
    "start_time": "2021-09-09T06:33:39.778Z"
   },
   {
    "duration": 3,
    "start_time": "2021-09-09T06:33:40.067Z"
   },
   {
    "duration": 6,
    "start_time": "2021-09-09T06:33:40.073Z"
   },
   {
    "duration": 9,
    "start_time": "2021-09-09T06:33:40.082Z"
   },
   {
    "duration": 16,
    "start_time": "2021-09-09T06:33:40.093Z"
   },
   {
    "duration": 30,
    "start_time": "2021-09-09T06:33:40.111Z"
   },
   {
    "duration": 804,
    "start_time": "2021-09-09T06:33:40.143Z"
   },
   {
    "duration": 695,
    "start_time": "2021-09-09T06:33:40.950Z"
   },
   {
    "duration": 94,
    "start_time": "2021-09-09T06:33:41.648Z"
   },
   {
    "duration": 1211,
    "start_time": "2021-09-09T06:47:10.935Z"
   },
   {
    "duration": 1582,
    "start_time": "2021-09-09T06:47:12.149Z"
   },
   {
    "duration": 299,
    "start_time": "2021-09-09T06:47:13.733Z"
   },
   {
    "duration": 306,
    "start_time": "2021-09-09T06:47:14.041Z"
   },
   {
    "duration": 501,
    "start_time": "2021-09-09T06:47:14.349Z"
   },
   {
    "duration": 474,
    "start_time": "2021-09-09T06:47:45.618Z"
   },
   {
    "duration": 454,
    "start_time": "2021-09-09T06:47:53.455Z"
   },
   {
    "duration": 3,
    "start_time": "2021-09-09T06:48:16.760Z"
   },
   {
    "duration": 1502,
    "start_time": "2021-09-09T06:48:17.455Z"
   },
   {
    "duration": 391,
    "start_time": "2021-09-09T06:48:18.960Z"
   },
   {
    "duration": 235,
    "start_time": "2021-09-09T06:48:19.353Z"
   },
   {
    "duration": 90,
    "start_time": "2021-09-09T06:48:20.382Z"
   },
   {
    "duration": 250,
    "start_time": "2021-09-09T06:48:21.291Z"
   },
   {
    "duration": 4,
    "start_time": "2021-09-09T06:48:24.071Z"
   },
   {
    "duration": 3,
    "start_time": "2021-09-09T06:48:24.376Z"
   },
   {
    "duration": 4,
    "start_time": "2021-09-09T06:48:25.784Z"
   },
   {
    "duration": 14,
    "start_time": "2021-09-09T06:48:29.240Z"
   },
   {
    "duration": 106,
    "start_time": "2021-09-09T06:48:53.497Z"
   },
   {
    "duration": 1511,
    "start_time": "2021-09-09T06:49:00.112Z"
   },
   {
    "duration": 1409,
    "start_time": "2021-09-09T06:49:53.128Z"
   },
   {
    "duration": 5,
    "start_time": "2021-09-09T06:50:01.312Z"
   },
   {
    "duration": 1061,
    "start_time": "2021-09-09T06:50:03.384Z"
   },
   {
    "duration": 2285,
    "start_time": "2021-09-09T06:50:17.050Z"
   },
   {
    "duration": 4,
    "start_time": "2021-09-09T06:50:32.914Z"
   },
   {
    "duration": 3,
    "start_time": "2021-09-09T06:52:00.849Z"
   },
   {
    "duration": 1649,
    "start_time": "2021-09-09T06:52:34.241Z"
   },
   {
    "duration": 4,
    "start_time": "2021-09-09T06:53:12.876Z"
   },
   {
    "duration": 14,
    "start_time": "2021-09-09T06:53:15.153Z"
   },
   {
    "duration": 4,
    "start_time": "2021-09-09T06:53:15.716Z"
   },
   {
    "duration": 1707,
    "start_time": "2021-09-09T06:53:17.427Z"
   },
   {
    "duration": 4,
    "start_time": "2021-09-09T06:53:44.602Z"
   },
   {
    "duration": 14,
    "start_time": "2021-09-09T06:53:45.234Z"
   },
   {
    "duration": 4,
    "start_time": "2021-09-09T06:53:45.756Z"
   },
   {
    "duration": 1655,
    "start_time": "2021-09-09T06:53:48.093Z"
   },
   {
    "duration": 3,
    "start_time": "2021-09-09T06:54:07.682Z"
   },
   {
    "duration": 5,
    "start_time": "2021-09-09T06:54:09.201Z"
   },
   {
    "duration": 1599,
    "start_time": "2021-09-09T06:54:10.521Z"
   },
   {
    "duration": 98,
    "start_time": "2021-09-09T06:55:13.243Z"
   },
   {
    "duration": 1182,
    "start_time": "2021-09-09T06:56:52.171Z"
   },
   {
    "duration": 1573,
    "start_time": "2021-09-09T06:56:53.355Z"
   },
   {
    "duration": 288,
    "start_time": "2021-09-09T06:56:54.930Z"
   },
   {
    "duration": 290,
    "start_time": "2021-09-09T06:56:56.977Z"
   },
   {
    "duration": 82,
    "start_time": "2021-09-09T06:56:57.290Z"
   },
   {
    "duration": 277,
    "start_time": "2021-09-09T06:56:57.514Z"
   },
   {
    "duration": 3,
    "start_time": "2021-09-09T06:56:58.130Z"
   },
   {
    "duration": 3,
    "start_time": "2021-09-09T06:56:58.402Z"
   },
   {
    "duration": 4,
    "start_time": "2021-09-09T06:56:59.929Z"
   },
   {
    "duration": 4,
    "start_time": "2021-09-09T06:57:00.465Z"
   },
   {
    "duration": 13,
    "start_time": "2021-09-09T06:57:01.289Z"
   },
   {
    "duration": 5,
    "start_time": "2021-09-09T06:57:02.482Z"
   },
   {
    "duration": 722,
    "start_time": "2021-09-09T06:57:04.524Z"
   },
   {
    "duration": 553,
    "start_time": "2021-09-09T06:57:07.209Z"
   },
   {
    "duration": 1158,
    "start_time": "2021-09-09T07:02:49.213Z"
   },
   {
    "duration": 1581,
    "start_time": "2021-09-09T07:02:50.373Z"
   },
   {
    "duration": 285,
    "start_time": "2021-09-09T07:02:51.956Z"
   },
   {
    "duration": 305,
    "start_time": "2021-09-09T07:02:52.243Z"
   },
   {
    "duration": 114,
    "start_time": "2021-09-09T07:02:52.550Z"
   },
   {
    "duration": 294,
    "start_time": "2021-09-09T07:02:52.667Z"
   },
   {
    "duration": 4,
    "start_time": "2021-09-09T07:02:52.963Z"
   },
   {
    "duration": 9,
    "start_time": "2021-09-09T07:02:52.969Z"
   },
   {
    "duration": 21,
    "start_time": "2021-09-09T07:02:52.980Z"
   },
   {
    "duration": 18,
    "start_time": "2021-09-09T07:02:53.002Z"
   },
   {
    "duration": 13,
    "start_time": "2021-09-09T07:02:53.500Z"
   },
   {
    "duration": 4,
    "start_time": "2021-09-09T07:02:54.141Z"
   },
   {
    "duration": 801,
    "start_time": "2021-09-09T07:02:55.042Z"
   },
   {
    "duration": 619,
    "start_time": "2021-09-09T07:02:56.924Z"
   },
   {
    "duration": 475,
    "start_time": "2021-09-09T07:03:55.667Z"
   },
   {
    "duration": 337,
    "start_time": "2021-09-09T07:04:59.846Z"
   },
   {
    "duration": 299,
    "start_time": "2021-09-09T07:05:20.598Z"
   },
   {
    "duration": 1200,
    "start_time": "2021-09-09T07:05:25.854Z"
   },
   {
    "duration": 1569,
    "start_time": "2021-09-09T07:05:27.056Z"
   },
   {
    "duration": 292,
    "start_time": "2021-09-09T07:05:28.627Z"
   },
   {
    "duration": 322,
    "start_time": "2021-09-09T07:05:28.921Z"
   },
   {
    "duration": 99,
    "start_time": "2021-09-09T07:05:29.245Z"
   },
   {
    "duration": 301,
    "start_time": "2021-09-09T07:05:29.345Z"
   },
   {
    "duration": 3,
    "start_time": "2021-09-09T07:05:29.648Z"
   },
   {
    "duration": 25,
    "start_time": "2021-09-09T07:05:29.653Z"
   },
   {
    "duration": 19,
    "start_time": "2021-09-09T07:05:29.680Z"
   },
   {
    "duration": 24,
    "start_time": "2021-09-09T07:05:29.701Z"
   },
   {
    "duration": 13,
    "start_time": "2021-09-09T07:05:30.181Z"
   },
   {
    "duration": 5,
    "start_time": "2021-09-09T07:05:31.213Z"
   },
   {
    "duration": 762,
    "start_time": "2021-09-09T07:05:32.887Z"
   },
   {
    "duration": 603,
    "start_time": "2021-09-09T07:05:33.740Z"
   },
   {
    "duration": 580,
    "start_time": "2021-09-09T07:05:35.829Z"
   },
   {
    "duration": 3,
    "start_time": "2021-09-09T07:06:36.009Z"
   },
   {
    "duration": 15,
    "start_time": "2021-09-09T07:06:36.584Z"
   },
   {
    "duration": 5,
    "start_time": "2021-09-09T07:06:37.354Z"
   },
   {
    "duration": 705,
    "start_time": "2021-09-09T07:06:37.958Z"
   },
   {
    "duration": 700,
    "start_time": "2021-09-09T07:06:38.743Z"
   },
   {
    "duration": 474,
    "start_time": "2021-09-09T07:06:40.518Z"
   },
   {
    "duration": 1302,
    "start_time": "2021-09-09T07:07:09.695Z"
   },
   {
    "duration": 3,
    "start_time": "2021-09-09T07:07:23.791Z"
   },
   {
    "duration": 1178,
    "start_time": "2021-09-09T07:07:26.582Z"
   },
   {
    "duration": 1229,
    "start_time": "2021-09-09T07:07:59.518Z"
   },
   {
    "duration": 4,
    "start_time": "2021-09-09T07:09:08.197Z"
   },
   {
    "duration": 1293,
    "start_time": "2021-09-09T07:09:11.679Z"
   },
   {
    "duration": 1163,
    "start_time": "2021-09-09T07:09:25.488Z"
   },
   {
    "duration": 1553,
    "start_time": "2021-09-09T07:09:26.653Z"
   },
   {
    "duration": 277,
    "start_time": "2021-09-09T07:09:28.208Z"
   },
   {
    "duration": 311,
    "start_time": "2021-09-09T07:09:28.487Z"
   },
   {
    "duration": 102,
    "start_time": "2021-09-09T07:09:28.800Z"
   },
   {
    "duration": 295,
    "start_time": "2021-09-09T07:09:28.904Z"
   },
   {
    "duration": 4,
    "start_time": "2021-09-09T07:09:29.201Z"
   },
   {
    "duration": 20,
    "start_time": "2021-09-09T07:09:29.207Z"
   },
   {
    "duration": 29,
    "start_time": "2021-09-09T07:09:29.229Z"
   },
   {
    "duration": 17,
    "start_time": "2021-09-09T07:09:29.260Z"
   },
   {
    "duration": 35,
    "start_time": "2021-09-09T07:09:29.279Z"
   },
   {
    "duration": 6,
    "start_time": "2021-09-09T07:09:29.316Z"
   },
   {
    "duration": 817,
    "start_time": "2021-09-09T07:09:29.324Z"
   },
   {
    "duration": 698,
    "start_time": "2021-09-09T07:09:30.144Z"
   },
   {
    "duration": 1502,
    "start_time": "2021-09-09T07:09:30.845Z"
   },
   {
    "duration": 538,
    "start_time": "2021-09-09T07:09:31.812Z"
   },
   {
    "duration": 533,
    "start_time": "2021-09-09T07:09:31.818Z"
   },
   {
    "duration": 533,
    "start_time": "2021-09-09T07:09:31.819Z"
   },
   {
    "duration": 4,
    "start_time": "2021-09-09T07:10:28.897Z"
   },
   {
    "duration": 15,
    "start_time": "2021-09-09T07:10:30.490Z"
   },
   {
    "duration": 4,
    "start_time": "2021-09-09T07:10:30.657Z"
   },
   {
    "duration": 678,
    "start_time": "2021-09-09T07:10:30.809Z"
   },
   {
    "duration": 587,
    "start_time": "2021-09-09T07:10:32.456Z"
   },
   {
    "duration": 1292,
    "start_time": "2021-09-09T07:10:33.046Z"
   },
   {
    "duration": 4,
    "start_time": "2021-09-09T07:11:11.664Z"
   },
   {
    "duration": 15,
    "start_time": "2021-09-09T07:11:12.665Z"
   },
   {
    "duration": 4,
    "start_time": "2021-09-09T07:11:12.833Z"
   },
   {
    "duration": 726,
    "start_time": "2021-09-09T07:11:13.017Z"
   },
   {
    "duration": 698,
    "start_time": "2021-09-09T07:11:13.745Z"
   },
   {
    "duration": 1461,
    "start_time": "2021-09-09T07:11:14.446Z"
   },
   {
    "duration": 4,
    "start_time": "2021-09-09T07:11:52.058Z"
   },
   {
    "duration": 16,
    "start_time": "2021-09-09T07:11:52.233Z"
   },
   {
    "duration": 5,
    "start_time": "2021-09-09T07:11:52.393Z"
   },
   {
    "duration": 714,
    "start_time": "2021-09-09T07:11:52.529Z"
   },
   {
    "duration": 745,
    "start_time": "2021-09-09T07:11:53.246Z"
   },
   {
    "duration": 353,
    "start_time": "2021-09-09T07:12:01.361Z"
   },
   {
    "duration": 1240,
    "start_time": "2021-09-09T07:12:10.306Z"
   },
   {
    "duration": 1513,
    "start_time": "2021-09-09T07:12:11.549Z"
   },
   {
    "duration": 280,
    "start_time": "2021-09-09T07:12:13.064Z"
   },
   {
    "duration": 307,
    "start_time": "2021-09-09T07:12:13.345Z"
   },
   {
    "duration": 112,
    "start_time": "2021-09-09T07:12:13.655Z"
   },
   {
    "duration": 365,
    "start_time": "2021-09-09T07:12:13.770Z"
   },
   {
    "duration": 3,
    "start_time": "2021-09-09T07:12:14.137Z"
   },
   {
    "duration": 8,
    "start_time": "2021-09-09T07:12:14.143Z"
   },
   {
    "duration": 13,
    "start_time": "2021-09-09T07:12:14.153Z"
   },
   {
    "duration": 26,
    "start_time": "2021-09-09T07:12:14.168Z"
   },
   {
    "duration": 30,
    "start_time": "2021-09-09T07:12:14.196Z"
   },
   {
    "duration": 4,
    "start_time": "2021-09-09T07:12:14.265Z"
   },
   {
    "duration": 777,
    "start_time": "2021-09-09T07:12:14.969Z"
   },
   {
    "duration": 699,
    "start_time": "2021-09-09T07:12:15.749Z"
   },
   {
    "duration": 1239,
    "start_time": "2021-09-09T07:14:18.003Z"
   },
   {
    "duration": 1581,
    "start_time": "2021-09-09T07:14:19.244Z"
   },
   {
    "duration": 302,
    "start_time": "2021-09-09T07:14:20.827Z"
   },
   {
    "duration": 317,
    "start_time": "2021-09-09T07:14:21.140Z"
   },
   {
    "duration": 109,
    "start_time": "2021-09-09T07:14:21.460Z"
   },
   {
    "duration": 308,
    "start_time": "2021-09-09T07:14:21.571Z"
   },
   {
    "duration": 5,
    "start_time": "2021-09-09T07:14:21.881Z"
   },
   {
    "duration": 12,
    "start_time": "2021-09-09T07:14:21.889Z"
   },
   {
    "duration": 21,
    "start_time": "2021-09-09T07:14:21.903Z"
   },
   {
    "duration": 19,
    "start_time": "2021-09-09T07:14:21.926Z"
   },
   {
    "duration": 30,
    "start_time": "2021-09-09T07:14:21.947Z"
   },
   {
    "duration": 4,
    "start_time": "2021-09-09T07:14:22.435Z"
   },
   {
    "duration": 712,
    "start_time": "2021-09-09T07:14:22.946Z"
   },
   {
    "duration": 802,
    "start_time": "2021-09-09T07:14:23.745Z"
   },
   {
    "duration": 4,
    "start_time": "2021-09-09T07:16:21.685Z"
   },
   {
    "duration": 455,
    "start_time": "2021-09-09T07:16:21.859Z"
   },
   {
    "duration": 560,
    "start_time": "2021-09-09T07:16:21.756Z"
   },
   {
    "duration": 559,
    "start_time": "2021-09-09T07:16:21.758Z"
   },
   {
    "duration": 1169,
    "start_time": "2021-09-09T07:16:26.884Z"
   },
   {
    "duration": 1537,
    "start_time": "2021-09-09T07:16:28.055Z"
   },
   {
    "duration": 287,
    "start_time": "2021-09-09T07:16:29.595Z"
   },
   {
    "duration": 304,
    "start_time": "2021-09-09T07:16:30.340Z"
   },
   {
    "duration": 96,
    "start_time": "2021-09-09T07:16:30.646Z"
   },
   {
    "duration": 291,
    "start_time": "2021-09-09T07:16:30.799Z"
   },
   {
    "duration": 3,
    "start_time": "2021-09-09T07:16:31.092Z"
   },
   {
    "duration": 2,
    "start_time": "2021-09-09T07:16:31.142Z"
   },
   {
    "duration": 4,
    "start_time": "2021-09-09T07:16:31.669Z"
   },
   {
    "duration": 3,
    "start_time": "2021-09-09T07:16:31.892Z"
   },
   {
    "duration": 12,
    "start_time": "2021-09-09T07:16:32.412Z"
   },
   {
    "duration": 5,
    "start_time": "2021-09-09T07:16:33.347Z"
   },
   {
    "duration": 798,
    "start_time": "2021-09-09T07:16:33.555Z"
   },
   {
    "duration": 568,
    "start_time": "2021-09-09T07:16:35.579Z"
   },
   {
    "duration": 330,
    "start_time": "2021-09-09T07:17:51.718Z"
   },
   {
    "duration": 1189,
    "start_time": "2021-09-09T07:18:14.473Z"
   },
   {
    "duration": 1530,
    "start_time": "2021-09-09T07:18:15.664Z"
   },
   {
    "duration": 283,
    "start_time": "2021-09-09T07:18:17.196Z"
   },
   {
    "duration": 305,
    "start_time": "2021-09-09T07:18:17.481Z"
   },
   {
    "duration": 96,
    "start_time": "2021-09-09T07:18:17.787Z"
   },
   {
    "duration": 295,
    "start_time": "2021-09-09T07:18:17.885Z"
   },
   {
    "duration": 5,
    "start_time": "2021-09-09T07:18:18.182Z"
   },
   {
    "duration": 6,
    "start_time": "2021-09-09T07:18:18.190Z"
   },
   {
    "duration": 7,
    "start_time": "2021-09-09T07:18:18.198Z"
   },
   {
    "duration": 34,
    "start_time": "2021-09-09T07:18:18.207Z"
   },
   {
    "duration": 17,
    "start_time": "2021-09-09T07:18:18.243Z"
   },
   {
    "duration": 6,
    "start_time": "2021-09-09T07:18:18.262Z"
   },
   {
    "duration": 792,
    "start_time": "2021-09-09T07:18:18.448Z"
   },
   {
    "duration": 551,
    "start_time": "2021-09-09T07:18:19.896Z"
   },
   {
    "duration": 1280,
    "start_time": "2021-09-09T07:19:57.366Z"
   },
   {
    "duration": 1645,
    "start_time": "2021-09-09T07:19:58.650Z"
   },
   {
    "duration": 293,
    "start_time": "2021-09-09T07:20:00.297Z"
   },
   {
    "duration": 408,
    "start_time": "2021-09-09T07:20:00.592Z"
   },
   {
    "duration": 108,
    "start_time": "2021-09-09T07:20:01.002Z"
   },
   {
    "duration": 301,
    "start_time": "2021-09-09T07:20:01.113Z"
   },
   {
    "duration": 4,
    "start_time": "2021-09-09T07:20:01.416Z"
   },
   {
    "duration": 39,
    "start_time": "2021-09-09T07:20:01.423Z"
   },
   {
    "duration": 4,
    "start_time": "2021-09-09T07:20:02.200Z"
   },
   {
    "duration": 3,
    "start_time": "2021-09-09T07:20:02.385Z"
   },
   {
    "duration": 13,
    "start_time": "2021-09-09T07:20:02.560Z"
   },
   {
    "duration": 4,
    "start_time": "2021-09-09T07:20:02.761Z"
   },
   {
    "duration": 759,
    "start_time": "2021-09-09T07:20:02.984Z"
   },
   {
    "duration": 553,
    "start_time": "2021-09-09T07:20:04.904Z"
   },
   {
    "duration": 1214,
    "start_time": "2021-09-09T07:21:31.605Z"
   },
   {
    "duration": 1575,
    "start_time": "2021-09-09T07:21:32.821Z"
   },
   {
    "duration": 282,
    "start_time": "2021-09-09T07:21:34.398Z"
   },
   {
    "duration": 307,
    "start_time": "2021-09-09T07:21:34.683Z"
   },
   {
    "duration": 100,
    "start_time": "2021-09-09T07:21:34.992Z"
   },
   {
    "duration": 289,
    "start_time": "2021-09-09T07:21:35.094Z"
   },
   {
    "duration": 4,
    "start_time": "2021-09-09T07:21:35.384Z"
   },
   {
    "duration": 449,
    "start_time": "2021-09-09T07:21:35.390Z"
   },
   {
    "duration": 710,
    "start_time": "2021-09-09T07:22:19.486Z"
   },
   {
    "duration": 4,
    "start_time": "2021-09-09T07:22:49.570Z"
   },
   {
    "duration": 851,
    "start_time": "2021-09-09T07:22:51.986Z"
   },
   {
    "duration": 3,
    "start_time": "2021-09-09T07:23:02.307Z"
   },
   {
    "duration": 715,
    "start_time": "2021-09-09T07:23:02.819Z"
   },
   {
    "duration": 4,
    "start_time": "2021-09-09T07:50:01.841Z"
   },
   {
    "duration": 1518,
    "start_time": "2021-09-09T07:50:02.016Z"
   },
   {
    "duration": 287,
    "start_time": "2021-09-09T07:50:03.535Z"
   },
   {
    "duration": 234,
    "start_time": "2021-09-09T07:50:03.825Z"
   },
   {
    "duration": 94,
    "start_time": "2021-09-09T07:50:04.061Z"
   },
   {
    "duration": 372,
    "start_time": "2021-09-09T07:50:04.157Z"
   },
   {
    "duration": 7,
    "start_time": "2021-09-09T07:50:04.532Z"
   },
   {
    "duration": 485,
    "start_time": "2021-09-09T07:50:06.798Z"
   },
   {
    "duration": 4,
    "start_time": "2021-09-09T07:50:15.696Z"
   },
   {
    "duration": 4,
    "start_time": "2021-09-09T07:50:16.108Z"
   },
   {
    "duration": 13,
    "start_time": "2021-09-09T07:50:17.228Z"
   },
   {
    "duration": 5,
    "start_time": "2021-09-09T07:50:20.085Z"
   },
   {
    "duration": 696,
    "start_time": "2021-09-09T07:50:26.957Z"
   },
   {
    "duration": 1701,
    "start_time": "2021-09-09T07:50:34.349Z"
   },
   {
    "duration": 617,
    "start_time": "2021-09-09T07:51:00.869Z"
   },
   {
    "duration": 553,
    "start_time": "2021-09-09T07:51:13.788Z"
   },
   {
    "duration": 4,
    "start_time": "2021-09-09T07:53:51.514Z"
   },
   {
    "duration": 4,
    "start_time": "2021-09-09T08:03:43.907Z"
   },
   {
    "duration": 1510,
    "start_time": "2021-09-09T08:03:43.915Z"
   },
   {
    "duration": 287,
    "start_time": "2021-09-09T08:03:45.427Z"
   },
   {
    "duration": 215,
    "start_time": "2021-09-09T08:03:45.717Z"
   },
   {
    "duration": 86,
    "start_time": "2021-09-09T08:03:45.935Z"
   },
   {
    "duration": 265,
    "start_time": "2021-09-09T08:03:46.023Z"
   },
   {
    "duration": 4,
    "start_time": "2021-09-09T08:03:46.289Z"
   },
   {
    "duration": 20,
    "start_time": "2021-09-09T08:03:46.295Z"
   },
   {
    "duration": 31,
    "start_time": "2021-09-09T08:03:46.317Z"
   },
   {
    "duration": 15,
    "start_time": "2021-09-09T08:03:46.351Z"
   },
   {
    "duration": 53,
    "start_time": "2021-09-09T08:03:46.368Z"
   },
   {
    "duration": 8,
    "start_time": "2021-09-09T08:03:46.423Z"
   },
   {
    "duration": 723,
    "start_time": "2021-09-09T08:03:46.432Z"
   },
   {
    "duration": 706,
    "start_time": "2021-09-09T08:03:47.244Z"
   },
   {
    "duration": 4,
    "start_time": "2021-09-09T08:03:48.042Z"
   },
   {
    "duration": 12,
    "start_time": "2021-09-09T08:03:48.048Z"
   },
   {
    "duration": 1180,
    "start_time": "2021-09-09T08:04:44.567Z"
   },
   {
    "duration": 1561,
    "start_time": "2021-09-09T08:04:45.749Z"
   },
   {
    "duration": 287,
    "start_time": "2021-09-09T08:04:47.312Z"
   },
   {
    "duration": 302,
    "start_time": "2021-09-09T08:04:47.601Z"
   },
   {
    "duration": 98,
    "start_time": "2021-09-09T08:04:47.905Z"
   },
   {
    "duration": 287,
    "start_time": "2021-09-09T08:04:48.005Z"
   },
   {
    "duration": 3,
    "start_time": "2021-09-09T08:04:48.294Z"
   },
   {
    "duration": 7,
    "start_time": "2021-09-09T08:04:48.300Z"
   },
   {
    "duration": 8,
    "start_time": "2021-09-09T08:04:48.310Z"
   },
   {
    "duration": 10,
    "start_time": "2021-09-09T08:04:48.320Z"
   },
   {
    "duration": 17,
    "start_time": "2021-09-09T08:04:48.332Z"
   },
   {
    "duration": 4,
    "start_time": "2021-09-09T08:04:48.351Z"
   },
   {
    "duration": 784,
    "start_time": "2021-09-09T08:04:48.357Z"
   },
   {
    "duration": 702,
    "start_time": "2021-09-09T08:04:49.144Z"
   },
   {
    "duration": 1532,
    "start_time": "2021-09-09T08:06:07.251Z"
   },
   {
    "duration": 1640,
    "start_time": "2021-09-09T08:06:08.786Z"
   },
   {
    "duration": 286,
    "start_time": "2021-09-09T08:06:10.428Z"
   },
   {
    "duration": 313,
    "start_time": "2021-09-09T08:06:10.716Z"
   },
   {
    "duration": 94,
    "start_time": "2021-09-09T08:06:11.031Z"
   },
   {
    "duration": 335,
    "start_time": "2021-09-09T08:06:11.127Z"
   },
   {
    "duration": 3,
    "start_time": "2021-09-09T08:06:11.464Z"
   },
   {
    "duration": 17,
    "start_time": "2021-09-09T08:06:11.471Z"
   },
   {
    "duration": 19,
    "start_time": "2021-09-09T08:06:11.491Z"
   },
   {
    "duration": 16,
    "start_time": "2021-09-09T08:06:11.512Z"
   },
   {
    "duration": 31,
    "start_time": "2021-09-09T08:06:11.530Z"
   },
   {
    "duration": 17,
    "start_time": "2021-09-09T08:06:11.563Z"
   },
   {
    "duration": 865,
    "start_time": "2021-09-09T08:06:11.582Z"
   },
   {
    "duration": 598,
    "start_time": "2021-09-09T08:06:12.449Z"
   },
   {
    "duration": 672,
    "start_time": "2021-09-09T08:06:13.054Z"
   },
   {
    "duration": 13,
    "start_time": "2021-09-09T08:06:13.728Z"
   },
   {
    "duration": 18010,
    "start_time": "2021-09-09T08:06:13.744Z"
   },
   {
    "duration": -115,
    "start_time": "2021-09-09T08:06:31.871Z"
   },
   {
    "duration": -125,
    "start_time": "2021-09-09T08:06:31.883Z"
   },
   {
    "duration": -137,
    "start_time": "2021-09-09T08:06:31.896Z"
   },
   {
    "duration": -149,
    "start_time": "2021-09-09T08:06:31.909Z"
   },
   {
    "duration": -159,
    "start_time": "2021-09-09T08:06:31.920Z"
   },
   {
    "duration": -172,
    "start_time": "2021-09-09T08:06:31.934Z"
   },
   {
    "duration": -183,
    "start_time": "2021-09-09T08:06:31.946Z"
   },
   {
    "duration": 762,
    "start_time": "2021-09-09T08:07:38.779Z"
   },
   {
    "duration": 6,
    "start_time": "2021-09-09T08:20:30.088Z"
   },
   {
    "duration": 17523,
    "start_time": "2021-09-09T08:20:30.548Z"
   },
   {
    "duration": -85,
    "start_time": "2021-09-09T08:20:48.159Z"
   },
   {
    "duration": -90,
    "start_time": "2021-09-09T08:20:48.165Z"
   },
   {
    "duration": -96,
    "start_time": "2021-09-09T08:20:48.171Z"
   },
   {
    "duration": -112,
    "start_time": "2021-09-09T08:20:48.189Z"
   },
   {
    "duration": -123,
    "start_time": "2021-09-09T08:20:48.201Z"
   },
   {
    "duration": -134,
    "start_time": "2021-09-09T08:20:48.213Z"
   },
   {
    "duration": 579,
    "start_time": "2021-09-09T08:23:33.673Z"
   },
   {
    "duration": 605,
    "start_time": "2021-09-09T08:23:37.042Z"
   },
   {
    "duration": 854,
    "start_time": "2021-09-09T08:24:00.257Z"
   },
   {
    "duration": 1159,
    "start_time": "2021-09-09T08:24:07.024Z"
   },
   {
    "duration": 1136,
    "start_time": "2021-09-09T08:24:33.105Z"
   },
   {
    "duration": 6,
    "start_time": "2021-09-09T08:33:22.445Z"
   },
   {
    "duration": 127200,
    "start_time": "2021-09-09T08:33:24.190Z"
   },
   {
    "duration": 94754,
    "start_time": "2021-09-09T08:35:31.392Z"
   },
   {
    "duration": 465310,
    "start_time": "2021-09-09T08:37:06.149Z"
   },
   {
    "duration": 5,
    "start_time": "2021-09-09T08:52:56.311Z"
   },
   {
    "duration": 9164,
    "start_time": "2021-09-09T08:52:56.447Z"
   },
   {
    "duration": -47,
    "start_time": "2021-09-09T08:53:05.661Z"
   },
   {
    "duration": -58,
    "start_time": "2021-09-09T08:53:05.673Z"
   },
   {
    "duration": -67,
    "start_time": "2021-09-09T08:53:05.683Z"
   },
   {
    "duration": -78,
    "start_time": "2021-09-09T08:53:05.695Z"
   },
   {
    "duration": -90,
    "start_time": "2021-09-09T08:53:05.708Z"
   },
   {
    "duration": -104,
    "start_time": "2021-09-09T08:53:05.723Z"
   },
   {
    "duration": 5,
    "start_time": "2021-09-09T08:53:39.608Z"
   },
   {
    "duration": 6920,
    "start_time": "2021-09-09T08:53:42.929Z"
   },
   {
    "duration": -39,
    "start_time": "2021-09-09T08:53:49.891Z"
   },
   {
    "duration": -44,
    "start_time": "2021-09-09T08:53:49.898Z"
   },
   {
    "duration": 4,
    "start_time": "2021-09-09T08:53:49.975Z"
   },
   {
    "duration": 10096,
    "start_time": "2021-09-09T08:53:55.655Z"
   },
   {
    "duration": 12623,
    "start_time": "2021-09-09T08:54:05.753Z"
   },
   {
    "duration": 7760,
    "start_time": "2021-09-09T08:54:18.393Z"
   },
   {
    "duration": 6934,
    "start_time": "2021-09-09T08:54:26.155Z"
   },
   {
    "duration": 392109,
    "start_time": "2021-09-09T08:55:53.336Z"
   },
   {
    "duration": 322116,
    "start_time": "2021-09-09T09:02:25.447Z"
   },
   {
    "duration": 7674,
    "start_time": "2021-09-09T09:13:43.688Z"
   },
   {
    "duration": 4,
    "start_time": "2021-09-09T09:20:04.452Z"
   },
   {
    "duration": 738,
    "start_time": "2021-09-09T09:20:05.833Z"
   },
   {
    "duration": 601,
    "start_time": "2021-09-09T09:28:22.346Z"
   },
   {
    "duration": 4,
    "start_time": "2021-09-09T09:28:24.810Z"
   },
   {
    "duration": 390173,
    "start_time": "2021-09-09T09:28:25.097Z"
   },
   {
    "duration": 519,
    "start_time": "2021-09-09T09:58:40.405Z"
   },
   {
    "duration": 502,
    "start_time": "2021-09-09T09:58:47.645Z"
   },
   {
    "duration": 15,
    "start_time": "2021-09-09T09:59:09.097Z"
   },
   {
    "duration": 523,
    "start_time": "2021-09-09T09:59:10.848Z"
   },
   {
    "duration": 5,
    "start_time": "2021-09-09T09:59:21.409Z"
   },
   {
    "duration": 3,
    "start_time": "2021-09-09T09:59:24.311Z"
   },
   {
    "duration": 2,
    "start_time": "2021-09-09T09:59:28.680Z"
   },
   {
    "duration": 638,
    "start_time": "2021-09-09T09:59:30.615Z"
   },
   {
    "duration": 497,
    "start_time": "2021-09-09T10:00:07.592Z"
   },
   {
    "duration": 5,
    "start_time": "2021-09-09T10:00:09.911Z"
   },
   {
    "duration": 3,
    "start_time": "2021-09-09T10:00:11.821Z"
   },
   {
    "duration": 2,
    "start_time": "2021-09-09T10:00:11.990Z"
   },
   {
    "duration": 676,
    "start_time": "2021-09-09T10:00:12.175Z"
   },
   {
    "duration": 1219,
    "start_time": "2021-09-09T10:06:14.037Z"
   },
   {
    "duration": 1720,
    "start_time": "2021-09-09T10:06:15.258Z"
   },
   {
    "duration": 284,
    "start_time": "2021-09-09T10:06:16.980Z"
   },
   {
    "duration": 2,
    "start_time": "2021-09-09T10:06:17.266Z"
   },
   {
    "duration": 100,
    "start_time": "2021-09-09T10:06:17.270Z"
   },
   {
    "duration": 294,
    "start_time": "2021-09-09T10:06:17.372Z"
   },
   {
    "duration": 3,
    "start_time": "2021-09-09T10:06:17.668Z"
   },
   {
    "duration": 26,
    "start_time": "2021-09-09T10:06:17.674Z"
   },
   {
    "duration": 15,
    "start_time": "2021-09-09T10:06:17.702Z"
   },
   {
    "duration": 21,
    "start_time": "2021-09-09T10:06:17.718Z"
   },
   {
    "duration": 41,
    "start_time": "2021-09-09T10:06:17.741Z"
   },
   {
    "duration": 538,
    "start_time": "2021-09-09T10:06:17.784Z"
   },
   {
    "duration": 4,
    "start_time": "2021-09-09T10:06:18.324Z"
   },
   {
    "duration": 13,
    "start_time": "2021-09-09T10:06:18.330Z"
   },
   {
    "duration": 15,
    "start_time": "2021-09-09T10:06:18.345Z"
   },
   {
    "duration": 782,
    "start_time": "2021-09-09T10:06:18.361Z"
   },
   {
    "duration": 5,
    "start_time": "2021-09-09T10:06:19.146Z"
   },
   {
    "duration": 21,
    "start_time": "2021-09-09T10:06:19.153Z"
   },
   {
    "duration": 9,
    "start_time": "2021-09-09T10:06:19.176Z"
   },
   {
    "duration": 533521,
    "start_time": "2021-09-09T10:06:19.187Z"
   },
   {
    "duration": 4,
    "start_time": "2021-09-09T10:15:12.710Z"
   },
   {
    "duration": 392736,
    "start_time": "2021-09-09T10:15:12.716Z"
   },
   {
    "duration": 1285,
    "start_time": "2021-09-09T10:51:17.779Z"
   },
   {
    "duration": 1700,
    "start_time": "2021-09-09T10:51:19.066Z"
   },
   {
    "duration": 316,
    "start_time": "2021-09-09T10:51:20.769Z"
   },
   {
    "duration": 3,
    "start_time": "2021-09-09T10:51:21.088Z"
   },
   {
    "duration": 123,
    "start_time": "2021-09-09T10:51:21.093Z"
   },
   {
    "duration": 335,
    "start_time": "2021-09-09T10:51:21.218Z"
   },
   {
    "duration": 5,
    "start_time": "2021-09-09T10:51:21.555Z"
   },
   {
    "duration": 9,
    "start_time": "2021-09-09T10:51:21.564Z"
   },
   {
    "duration": 11,
    "start_time": "2021-09-09T10:51:21.575Z"
   },
   {
    "duration": 7,
    "start_time": "2021-09-09T10:51:21.588Z"
   },
   {
    "duration": 24,
    "start_time": "2021-09-09T10:51:21.597Z"
   },
   {
    "duration": 605,
    "start_time": "2021-09-09T10:51:21.623Z"
   },
   {
    "duration": 5,
    "start_time": "2021-09-09T10:51:22.230Z"
   },
   {
    "duration": 5,
    "start_time": "2021-09-09T10:51:22.243Z"
   },
   {
    "duration": 8,
    "start_time": "2021-09-09T10:51:22.250Z"
   },
   {
    "duration": 703,
    "start_time": "2021-09-09T10:51:22.260Z"
   },
   {
    "duration": 11,
    "start_time": "2021-09-09T10:51:23.041Z"
   },
   {
    "duration": 99,
    "start_time": "2021-09-09T10:51:23.057Z"
   },
   {
    "duration": 15,
    "start_time": "2021-09-09T10:51:23.159Z"
   },
   {
    "duration": 557049,
    "start_time": "2021-09-09T10:51:23.176Z"
   },
   {
    "duration": 5,
    "start_time": "2021-09-09T11:00:40.227Z"
   },
   {
    "duration": 15,
    "start_time": "2021-09-09T11:00:40.233Z"
   },
   {
    "duration": 1235,
    "start_time": "2021-09-09T11:16:04.652Z"
   },
   {
    "duration": 1678,
    "start_time": "2021-09-09T11:16:05.889Z"
   },
   {
    "duration": 304,
    "start_time": "2021-09-09T11:16:07.569Z"
   },
   {
    "duration": 2,
    "start_time": "2021-09-09T11:16:07.876Z"
   },
   {
    "duration": 111,
    "start_time": "2021-09-09T11:16:07.880Z"
   },
   {
    "duration": 320,
    "start_time": "2021-09-09T11:16:07.993Z"
   },
   {
    "duration": 4,
    "start_time": "2021-09-09T11:16:08.314Z"
   },
   {
    "duration": 33,
    "start_time": "2021-09-09T11:16:08.321Z"
   },
   {
    "duration": 21,
    "start_time": "2021-09-09T11:16:08.356Z"
   },
   {
    "duration": 31,
    "start_time": "2021-09-09T11:16:08.379Z"
   },
   {
    "duration": 24,
    "start_time": "2021-09-09T11:16:08.412Z"
   },
   {
    "duration": 660,
    "start_time": "2021-09-09T11:16:08.438Z"
   },
   {
    "duration": 5,
    "start_time": "2021-09-09T11:16:09.100Z"
   },
   {
    "duration": 25,
    "start_time": "2021-09-09T11:16:09.107Z"
   },
   {
    "duration": 28,
    "start_time": "2021-09-09T11:16:09.134Z"
   },
   {
    "duration": 694,
    "start_time": "2021-09-09T11:16:09.164Z"
   },
   {
    "duration": 88,
    "start_time": "2021-09-09T11:16:09.860Z"
   },
   {
    "duration": 90,
    "start_time": "2021-09-09T11:16:09.951Z"
   },
   {
    "duration": 12,
    "start_time": "2021-09-09T11:16:10.043Z"
   },
   {
    "duration": 563844,
    "start_time": "2021-09-09T11:16:10.058Z"
   },
   {
    "duration": 6,
    "start_time": "2021-09-09T11:25:33.904Z"
   },
   {
    "duration": 12,
    "start_time": "2021-09-09T11:25:33.912Z"
   },
   {
    "duration": 332423,
    "start_time": "2021-09-09T11:25:33.940Z"
   },
   {
    "duration": 2,
    "start_time": "2021-09-09T11:31:06.366Z"
   },
   {
    "duration": 16,
    "start_time": "2021-09-09T11:31:06.370Z"
   },
   {
    "duration": 15,
    "start_time": "2021-09-09T11:31:06.388Z"
   },
   {
    "duration": 23,
    "start_time": "2021-09-09T11:31:06.406Z"
   },
   {
    "duration": 25710,
    "start_time": "2021-09-09T11:31:06.432Z"
   },
   {
    "duration": 555,
    "start_time": "2021-09-09T11:50:23.974Z"
   },
   {
    "duration": 10625,
    "start_time": "2021-09-09T11:50:28.547Z"
   },
   {
    "duration": 1248,
    "start_time": "2021-09-09T12:05:00.651Z"
   },
   {
    "duration": 1705,
    "start_time": "2021-09-09T12:05:01.901Z"
   },
   {
    "duration": 280,
    "start_time": "2021-09-09T12:05:38.031Z"
   },
   {
    "duration": 87,
    "start_time": "2021-09-09T12:10:41.796Z"
   },
   {
    "duration": 284,
    "start_time": "2021-09-09T12:11:46.438Z"
   },
   {
    "duration": 3,
    "start_time": "2021-09-09T12:13:12.366Z"
   },
   {
    "duration": 4,
    "start_time": "2021-09-09T12:14:17.696Z"
   },
   {
    "duration": 3,
    "start_time": "2021-09-09T12:14:20.721Z"
   },
   {
    "duration": 13,
    "start_time": "2021-09-09T12:14:21.831Z"
   },
   {
    "duration": 568,
    "start_time": "2021-09-09T12:14:23.896Z"
   },
   {
    "duration": 4,
    "start_time": "2021-09-09T12:14:31.117Z"
   },
   {
    "duration": 2,
    "start_time": "2021-09-09T12:14:41.575Z"
   },
   {
    "duration": 3,
    "start_time": "2021-09-09T12:14:41.791Z"
   },
   {
    "duration": 770,
    "start_time": "2021-09-09T12:14:42.008Z"
   },
   {
    "duration": 6,
    "start_time": "2021-09-09T12:14:48.431Z"
   },
   {
    "duration": 3,
    "start_time": "2021-09-09T12:14:49.390Z"
   },
   {
    "duration": 3,
    "start_time": "2021-09-09T12:14:49.614Z"
   },
   {
    "duration": 553791,
    "start_time": "2021-09-09T12:14:51.008Z"
   },
   {
    "duration": 5,
    "start_time": "2021-09-09T12:25:02.642Z"
   },
   {
    "duration": 4,
    "start_time": "2021-09-09T12:26:18.564Z"
   },
   {
    "duration": 696,
    "start_time": "2021-09-09T12:26:21.188Z"
   },
   {
    "duration": 4,
    "start_time": "2021-09-09T12:26:31.916Z"
   },
   {
    "duration": 690,
    "start_time": "2021-09-09T12:26:33.994Z"
   },
   {
    "duration": 5,
    "start_time": "2021-09-09T12:40:56.762Z"
   },
   {
    "duration": 2,
    "start_time": "2021-09-09T12:41:12.162Z"
   },
   {
    "duration": 91,
    "start_time": "2021-09-09T13:58:06.304Z"
   },
   {
    "duration": 341,
    "start_time": "2021-09-09T13:58:25.365Z"
   },
   {
    "duration": 93,
    "start_time": "2021-09-09T13:58:25.722Z"
   },
   {
    "duration": 1360,
    "start_time": "2021-09-09T13:58:55.310Z"
   },
   {
    "duration": 1958,
    "start_time": "2021-09-09T13:58:56.673Z"
   },
   {
    "duration": 372,
    "start_time": "2021-09-09T13:58:58.635Z"
   },
   {
    "duration": 3,
    "start_time": "2021-09-09T13:58:59.010Z"
   },
   {
    "duration": 125,
    "start_time": "2021-09-09T13:58:59.016Z"
   },
   {
    "duration": 365,
    "start_time": "2021-09-09T13:58:59.144Z"
   },
   {
    "duration": 4,
    "start_time": "2021-09-09T13:58:59.512Z"
   },
   {
    "duration": 12,
    "start_time": "2021-09-09T13:58:59.520Z"
   },
   {
    "duration": 5,
    "start_time": "2021-09-09T13:58:59.535Z"
   },
   {
    "duration": 14,
    "start_time": "2021-09-09T13:58:59.542Z"
   },
   {
    "duration": 38,
    "start_time": "2021-09-09T13:58:59.559Z"
   },
   {
    "duration": 653,
    "start_time": "2021-09-09T13:58:59.600Z"
   },
   {
    "duration": 5,
    "start_time": "2021-09-09T13:59:00.256Z"
   },
   {
    "duration": 31,
    "start_time": "2021-09-09T13:59:00.264Z"
   },
   {
    "duration": 13,
    "start_time": "2021-09-09T13:59:00.297Z"
   },
   {
    "duration": 869,
    "start_time": "2021-09-09T13:59:00.312Z"
   },
   {
    "duration": 375,
    "start_time": "2021-09-09T13:59:01.185Z"
   },
   {
    "duration": 24,
    "start_time": "2021-09-09T13:59:01.540Z"
   },
   {
    "duration": 9,
    "start_time": "2021-09-09T13:59:01.557Z"
   },
   {
    "duration": 4,
    "start_time": "2021-09-09T13:59:01.565Z"
   },
   {
    "duration": -6,
    "start_time": "2021-09-09T13:59:01.577Z"
   },
   {
    "duration": -16,
    "start_time": "2021-09-09T13:59:01.590Z"
   },
   {
    "duration": -26,
    "start_time": "2021-09-09T13:59:01.602Z"
   },
   {
    "duration": -36,
    "start_time": "2021-09-09T13:59:01.613Z"
   },
   {
    "duration": -47,
    "start_time": "2021-09-09T13:59:01.626Z"
   },
   {
    "duration": -60,
    "start_time": "2021-09-09T13:59:01.640Z"
   },
   {
    "duration": -69,
    "start_time": "2021-09-09T13:59:01.651Z"
   },
   {
    "duration": -79,
    "start_time": "2021-09-09T13:59:01.663Z"
   },
   {
    "duration": -110,
    "start_time": "2021-09-09T13:59:01.697Z"
   },
   {
    "duration": -114,
    "start_time": "2021-09-09T13:59:01.703Z"
   },
   {
    "duration": 282,
    "start_time": "2021-09-09T13:59:24.749Z"
   },
   {
    "duration": 55,
    "start_time": "2021-09-09T14:00:03.787Z"
   },
   {
    "duration": 740,
    "start_time": "2021-09-09T14:00:29.547Z"
   },
   {
    "duration": 54,
    "start_time": "2021-09-09T14:00:34.161Z"
   },
   {
    "duration": 53,
    "start_time": "2021-09-09T14:00:41.201Z"
   },
   {
    "duration": 720,
    "start_time": "2021-09-09T14:00:42.867Z"
   },
   {
    "duration": 84,
    "start_time": "2021-09-09T14:01:03.202Z"
   },
   {
    "duration": 6,
    "start_time": "2021-09-09T14:01:07.014Z"
   },
   {
    "duration": 1814,
    "start_time": "2021-09-09T14:01:07.026Z"
   },
   {
    "duration": 376,
    "start_time": "2021-09-09T14:01:08.842Z"
   },
   {
    "duration": 3,
    "start_time": "2021-09-09T14:01:09.221Z"
   },
   {
    "duration": 125,
    "start_time": "2021-09-09T14:01:09.227Z"
   },
   {
    "duration": 323,
    "start_time": "2021-09-09T14:01:09.354Z"
   },
   {
    "duration": 5,
    "start_time": "2021-09-09T14:01:09.679Z"
   },
   {
    "duration": 7,
    "start_time": "2021-09-09T14:01:09.686Z"
   },
   {
    "duration": 13,
    "start_time": "2021-09-09T14:01:09.696Z"
   },
   {
    "duration": 5,
    "start_time": "2021-09-09T14:01:09.712Z"
   },
   {
    "duration": 30,
    "start_time": "2021-09-09T14:01:09.720Z"
   },
   {
    "duration": 634,
    "start_time": "2021-09-09T14:01:09.752Z"
   },
   {
    "duration": 6,
    "start_time": "2021-09-09T14:01:10.389Z"
   },
   {
    "duration": 9,
    "start_time": "2021-09-09T14:01:10.397Z"
   },
   {
    "duration": 9,
    "start_time": "2021-09-09T14:01:10.408Z"
   },
   {
    "duration": 771,
    "start_time": "2021-09-09T14:01:10.419Z"
   },
   {
    "duration": 190,
    "start_time": "2021-09-09T14:01:11.193Z"
   },
   {
    "duration": 197,
    "start_time": "2021-09-09T14:01:11.386Z"
   },
   {
    "duration": 3,
    "start_time": "2021-09-09T14:01:11.585Z"
   },
   {
    "duration": 93,
    "start_time": "2021-09-09T14:01:11.590Z"
   },
   {
    "duration": 5,
    "start_time": "2021-09-09T14:01:11.685Z"
   },
   {
    "duration": 141,
    "start_time": "2021-09-09T14:01:11.692Z"
   },
   {
    "duration": 1453,
    "start_time": "2021-09-09T14:04:23.698Z"
   },
   {
    "duration": 1844,
    "start_time": "2021-09-09T14:04:25.154Z"
   },
   {
    "duration": 369,
    "start_time": "2021-09-09T14:04:27.005Z"
   },
   {
    "duration": 7,
    "start_time": "2021-09-09T14:04:27.376Z"
   },
   {
    "duration": 122,
    "start_time": "2021-09-09T14:04:27.386Z"
   },
   {
    "duration": 352,
    "start_time": "2021-09-09T14:04:27.511Z"
   },
   {
    "duration": 4,
    "start_time": "2021-09-09T14:04:27.865Z"
   },
   {
    "duration": 3,
    "start_time": "2021-09-09T14:04:27.883Z"
   },
   {
    "duration": 10,
    "start_time": "2021-09-09T14:04:27.889Z"
   },
   {
    "duration": 6,
    "start_time": "2021-09-09T14:04:27.901Z"
   },
   {
    "duration": 29,
    "start_time": "2021-09-09T14:04:27.909Z"
   },
   {
    "duration": 636,
    "start_time": "2021-09-09T14:04:27.940Z"
   },
   {
    "duration": 5,
    "start_time": "2021-09-09T14:04:28.578Z"
   },
   {
    "duration": 6,
    "start_time": "2021-09-09T14:04:28.586Z"
   },
   {
    "duration": 10,
    "start_time": "2021-09-09T14:04:28.594Z"
   },
   {
    "duration": 781,
    "start_time": "2021-09-09T14:04:28.606Z"
   },
   {
    "duration": 204,
    "start_time": "2021-09-09T14:04:29.390Z"
   },
   {
    "duration": 91,
    "start_time": "2021-09-09T14:04:29.596Z"
   },
   {
    "duration": 93,
    "start_time": "2021-09-09T14:04:29.690Z"
   },
   {
    "duration": 11,
    "start_time": "2021-09-09T14:04:29.786Z"
   },
   {
    "duration": 6,
    "start_time": "2021-09-09T14:04:29.799Z"
   },
   {
    "duration": 7,
    "start_time": "2021-09-09T14:04:29.807Z"
   },
   {
    "duration": 1376,
    "start_time": "2021-09-09T14:06:05.043Z"
   },
   {
    "duration": 1982,
    "start_time": "2021-09-09T14:06:06.422Z"
   },
   {
    "duration": 378,
    "start_time": "2021-09-09T14:06:08.407Z"
   },
   {
    "duration": 3,
    "start_time": "2021-09-09T14:06:08.788Z"
   },
   {
    "duration": 121,
    "start_time": "2021-09-09T14:06:08.793Z"
   },
   {
    "duration": 347,
    "start_time": "2021-09-09T14:06:08.916Z"
   },
   {
    "duration": 4,
    "start_time": "2021-09-09T14:06:09.266Z"
   },
   {
    "duration": 3,
    "start_time": "2021-09-09T14:06:09.497Z"
   },
   {
    "duration": 5,
    "start_time": "2021-09-09T14:06:11.008Z"
   },
   {
    "duration": 4,
    "start_time": "2021-09-09T14:06:11.544Z"
   },
   {
    "duration": 22,
    "start_time": "2021-09-09T14:06:12.664Z"
   },
   {
    "duration": 616,
    "start_time": "2021-09-09T14:06:13.303Z"
   },
   {
    "duration": 6,
    "start_time": "2021-09-09T14:06:13.921Z"
   },
   {
    "duration": 6,
    "start_time": "2021-09-09T14:06:37.955Z"
   },
   {
    "duration": 3,
    "start_time": "2021-09-09T14:06:38.792Z"
   },
   {
    "duration": 490,
    "start_time": "2021-09-09T14:06:50.384Z"
   },
   {
    "duration": 241,
    "start_time": "2021-09-09T14:06:58.992Z"
   },
   {
    "duration": 253,
    "start_time": "2021-09-09T14:07:47.928Z"
   },
   {
    "duration": 234,
    "start_time": "2021-09-09T14:08:03.464Z"
   },
   {
    "duration": 554,
    "start_time": "2021-09-09T14:08:04.984Z"
   },
   {
    "duration": 5,
    "start_time": "2021-09-09T14:14:07.448Z"
   },
   {
    "duration": 968,
    "start_time": "2021-09-09T14:14:20.265Z"
   },
   {
    "duration": 17,
    "start_time": "2021-09-09T14:14:42.603Z"
   },
   {
    "duration": 4,
    "start_time": "2021-09-09T14:14:43.663Z"
   },
   {
    "duration": 5,
    "start_time": "2021-09-09T14:14:44.568Z"
   },
   {
    "duration": 319,
    "start_time": "2021-09-09T14:14:44.791Z"
   },
   {
    "duration": 27,
    "start_time": "2021-09-09T14:14:45.919Z"
   },
   {
    "duration": 490,
    "start_time": "2021-09-09T14:14:46.319Z"
   },
   {
    "duration": 5,
    "start_time": "2021-09-09T14:14:49.336Z"
   },
   {
    "duration": 6,
    "start_time": "2021-09-09T14:14:50.608Z"
   },
   {
    "duration": 1278,
    "start_time": "2021-09-09T14:14:50.857Z"
   },
   {
    "duration": 5,
    "start_time": "2021-09-09T14:15:10.480Z"
   },
   {
    "duration": 3,
    "start_time": "2021-09-09T14:15:10.663Z"
   },
   {
    "duration": 5,
    "start_time": "2021-09-09T14:15:11.695Z"
   },
   {
    "duration": 4,
    "start_time": "2021-09-09T14:15:11.983Z"
   },
   {
    "duration": 26,
    "start_time": "2021-09-09T14:15:12.888Z"
   },
   {
    "duration": 494,
    "start_time": "2021-09-09T14:15:13.239Z"
   },
   {
    "duration": 6,
    "start_time": "2021-09-09T14:15:13.882Z"
   },
   {
    "duration": 3,
    "start_time": "2021-09-09T14:15:15.246Z"
   },
   {
    "duration": 675,
    "start_time": "2021-09-09T14:15:15.607Z"
   },
   {
    "duration": 7,
    "start_time": "2021-09-09T14:15:26.512Z"
   },
   {
    "duration": 3,
    "start_time": "2021-09-09T14:15:26.790Z"
   },
   {
    "duration": 676,
    "start_time": "2021-09-09T14:15:27.414Z"
   },
   {
    "duration": 234,
    "start_time": "2021-09-09T14:15:39.648Z"
   },
   {
    "duration": 236,
    "start_time": "2021-09-09T14:20:40.257Z"
   },
   {
    "duration": 531,
    "start_time": "2021-09-09T14:20:40.883Z"
   },
   {
    "duration": 3,
    "start_time": "2021-09-09T14:21:00.185Z"
   },
   {
    "duration": 245,
    "start_time": "2021-09-09T14:21:01.737Z"
   },
   {
    "duration": 815,
    "start_time": "2021-09-09T14:24:46.578Z"
   },
   {
    "duration": 281,
    "start_time": "2021-09-09T14:26:10.678Z"
   },
   {
    "duration": 507,
    "start_time": "2021-09-09T14:26:12.835Z"
   },
   {
    "duration": 519,
    "start_time": "2021-09-09T14:26:35.420Z"
   },
   {
    "duration": 691,
    "start_time": "2021-09-09T14:27:40.107Z"
   },
   {
    "duration": 126,
    "start_time": "2021-09-09T14:28:07.225Z"
   },
   {
    "duration": 127,
    "start_time": "2021-09-09T14:28:22.618Z"
   },
   {
    "duration": 122,
    "start_time": "2021-09-09T14:28:23.506Z"
   },
   {
    "duration": 524,
    "start_time": "2021-09-09T14:28:24.985Z"
   },
   {
    "duration": 5,
    "start_time": "2021-09-09T14:29:33.624Z"
   },
   {
    "duration": 5,
    "start_time": "2021-09-09T14:29:37.544Z"
   },
   {
    "duration": 6,
    "start_time": "2021-09-09T14:31:22.196Z"
   },
   {
    "duration": 3,
    "start_time": "2021-09-09T14:33:38.130Z"
   },
   {
    "duration": 5,
    "start_time": "2021-09-09T14:35:00.371Z"
   },
   {
    "duration": 135,
    "start_time": "2021-09-09T14:35:00.593Z"
   },
   {
    "duration": 5,
    "start_time": "2021-09-09T14:37:19.197Z"
   },
   {
    "duration": 2560,
    "start_time": "2021-09-09T14:37:24.791Z"
   },
   {
    "duration": 6,
    "start_time": "2021-09-09T14:37:28.033Z"
   },
   {
    "duration": 38,
    "start_time": "2021-09-09T14:37:28.274Z"
   },
   {
    "duration": 5,
    "start_time": "2021-09-09T14:37:28.414Z"
   },
   {
    "duration": 23,
    "start_time": "2021-09-09T14:37:28.966Z"
   },
   {
    "duration": 1916,
    "start_time": "2021-09-09T14:37:29.151Z"
   },
   {
    "duration": -117,
    "start_time": "2021-09-09T14:37:31.188Z"
   },
   {
    "duration": -127,
    "start_time": "2021-09-09T14:37:31.200Z"
   },
   {
    "duration": -138,
    "start_time": "2021-09-09T14:37:31.213Z"
   },
   {
    "duration": -149,
    "start_time": "2021-09-09T14:37:31.226Z"
   },
   {
    "duration": 5248,
    "start_time": "2021-09-09T14:37:31.438Z"
   },
   {
    "duration": 3728,
    "start_time": "2021-09-09T14:38:01.107Z"
   },
   {
    "duration": 2248,
    "start_time": "2021-09-09T14:38:45.608Z"
   },
   {
    "duration": 1829,
    "start_time": "2021-09-09T14:38:47.858Z"
   },
   {
    "duration": 358,
    "start_time": "2021-09-09T14:38:49.689Z"
   },
   {
    "duration": 3,
    "start_time": "2021-09-09T14:38:50.050Z"
   },
   {
    "duration": 121,
    "start_time": "2021-09-09T14:38:50.055Z"
   },
   {
    "duration": 367,
    "start_time": "2021-09-09T14:38:50.181Z"
   },
   {
    "duration": 3,
    "start_time": "2021-09-09T14:38:50.551Z"
   },
   {
    "duration": 4,
    "start_time": "2021-09-09T14:38:51.880Z"
   },
   {
    "duration": 4,
    "start_time": "2021-09-09T14:38:52.031Z"
   },
   {
    "duration": 4,
    "start_time": "2021-09-09T14:38:52.209Z"
   },
   {
    "duration": 5,
    "start_time": "2021-09-09T14:38:52.386Z"
   },
   {
    "duration": 19,
    "start_time": "2021-09-09T14:38:53.158Z"
   },
   {
    "duration": 3,
    "start_time": "2021-09-09T14:38:53.374Z"
   },
   {
    "duration": 6,
    "start_time": "2021-09-09T14:38:55.287Z"
   },
   {
    "duration": 3,
    "start_time": "2021-09-09T14:38:55.446Z"
   },
   {
    "duration": 3,
    "start_time": "2021-09-09T14:38:56.079Z"
   },
   {
    "duration": 3,
    "start_time": "2021-09-09T14:38:56.294Z"
   },
   {
    "duration": 6152,
    "start_time": "2021-09-09T14:38:57.350Z"
   },
   {
    "duration": 7,
    "start_time": "2021-09-09T14:39:33.627Z"
   },
   {
    "duration": 7,
    "start_time": "2021-09-09T14:39:33.804Z"
   },
   {
    "duration": 24,
    "start_time": "2021-09-09T14:39:34.181Z"
   },
   {
    "duration": 3,
    "start_time": "2021-09-09T14:39:34.358Z"
   },
   {
    "duration": 6,
    "start_time": "2021-09-09T14:39:34.550Z"
   },
   {
    "duration": 4,
    "start_time": "2021-09-09T14:39:34.742Z"
   },
   {
    "duration": 3,
    "start_time": "2021-09-09T14:39:35.437Z"
   },
   {
    "duration": 3,
    "start_time": "2021-09-09T14:39:36.350Z"
   },
   {
    "duration": 5228,
    "start_time": "2021-09-09T14:39:37.176Z"
   },
   {
    "duration": 5,
    "start_time": "2021-09-09T14:41:39.477Z"
   },
   {
    "duration": 23,
    "start_time": "2021-09-09T14:41:39.803Z"
   },
   {
    "duration": 3,
    "start_time": "2021-09-09T14:41:39.982Z"
   },
   {
    "duration": 6,
    "start_time": "2021-09-09T14:41:40.204Z"
   },
   {
    "duration": 3,
    "start_time": "2021-09-09T14:41:40.370Z"
   },
   {
    "duration": 2,
    "start_time": "2021-09-09T14:41:40.916Z"
   },
   {
    "duration": 3,
    "start_time": "2021-09-09T14:41:41.426Z"
   },
   {
    "duration": 4076,
    "start_time": "2021-09-09T14:41:41.966Z"
   },
   {
    "duration": 4,
    "start_time": "2021-09-09T14:42:23.198Z"
   },
   {
    "duration": 5,
    "start_time": "2021-09-09T14:42:23.332Z"
   },
   {
    "duration": 21,
    "start_time": "2021-09-09T14:42:23.627Z"
   },
   {
    "duration": 4,
    "start_time": "2021-09-09T14:42:23.778Z"
   },
   {
    "duration": 5,
    "start_time": "2021-09-09T14:42:23.948Z"
   },
   {
    "duration": 3,
    "start_time": "2021-09-09T14:42:24.114Z"
   },
   {
    "duration": 2,
    "start_time": "2021-09-09T14:42:24.323Z"
   },
   {
    "duration": 3,
    "start_time": "2021-09-09T14:42:24.931Z"
   },
   {
    "duration": 1009,
    "start_time": "2021-09-09T14:42:25.099Z"
   },
   {
    "duration": 247,
    "start_time": "2021-09-09T14:42:34.035Z"
   },
   {
    "duration": 1061,
    "start_time": "2021-09-09T14:43:31.387Z"
   },
   {
    "duration": 570,
    "start_time": "2021-09-09T14:43:32.522Z"
   },
   {
    "duration": 1039,
    "start_time": "2021-09-09T14:43:47.978Z"
   },
   {
    "duration": 170,
    "start_time": "2021-09-09T14:43:49.019Z"
   },
   {
    "duration": 3,
    "start_time": "2021-09-09T14:44:05.890Z"
   },
   {
    "duration": 84,
    "start_time": "2021-09-09T14:44:06.209Z"
   },
   {
    "duration": 1237,
    "start_time": "2021-09-09T14:44:20.704Z"
   },
   {
    "duration": 1825,
    "start_time": "2021-09-09T14:44:21.944Z"
   },
   {
    "duration": 364,
    "start_time": "2021-09-09T14:44:23.772Z"
   },
   {
    "duration": 4,
    "start_time": "2021-09-09T14:44:24.702Z"
   },
   {
    "duration": 105,
    "start_time": "2021-09-09T14:44:25.006Z"
   },
   {
    "duration": 331,
    "start_time": "2021-09-09T14:44:25.695Z"
   },
   {
    "duration": 3,
    "start_time": "2021-09-09T14:44:26.615Z"
   },
   {
    "duration": 6,
    "start_time": "2021-09-09T14:44:27.814Z"
   },
   {
    "duration": 4,
    "start_time": "2021-09-09T14:44:27.958Z"
   },
   {
    "duration": 5,
    "start_time": "2021-09-09T14:44:28.118Z"
   },
   {
    "duration": 5,
    "start_time": "2021-09-09T14:44:28.519Z"
   },
   {
    "duration": 19,
    "start_time": "2021-09-09T14:44:29.543Z"
   },
   {
    "duration": 3,
    "start_time": "2021-09-09T14:44:30.086Z"
   },
   {
    "duration": 6,
    "start_time": "2021-09-09T14:44:30.246Z"
   },
   {
    "duration": 3,
    "start_time": "2021-09-09T14:44:31.919Z"
   },
   {
    "duration": 3,
    "start_time": "2021-09-09T14:44:32.294Z"
   },
   {
    "duration": 3,
    "start_time": "2021-09-09T14:44:32.518Z"
   },
   {
    "duration": 3,
    "start_time": "2021-09-09T14:44:33.230Z"
   },
   {
    "duration": 409,
    "start_time": "2021-09-09T14:44:33.885Z"
   },
   {
    "duration": 124,
    "start_time": "2021-09-09T14:44:39.895Z"
   },
   {
    "duration": 577,
    "start_time": "2021-09-09T14:44:40.486Z"
   },
   {
    "duration": 1044,
    "start_time": "2021-09-09T14:44:49.788Z"
   },
   {
    "duration": 157,
    "start_time": "2021-09-09T14:44:50.834Z"
   },
   {
    "duration": 4,
    "start_time": "2021-09-09T14:46:55.704Z"
   },
   {
    "duration": 5,
    "start_time": "2021-09-09T14:46:57.086Z"
   },
   {
    "duration": 5,
    "start_time": "2021-09-09T14:46:57.348Z"
   },
   {
    "duration": 25,
    "start_time": "2021-09-09T14:46:57.740Z"
   },
   {
    "duration": 3,
    "start_time": "2021-09-09T14:46:59.387Z"
   },
   {
    "duration": 15,
    "start_time": "2021-09-09T14:46:59.557Z"
   },
   {
    "duration": 3,
    "start_time": "2021-09-09T14:46:59.731Z"
   },
   {
    "duration": 3,
    "start_time": "2021-09-09T14:47:00.434Z"
   },
   {
    "duration": 4,
    "start_time": "2021-09-09T14:47:00.620Z"
   },
   {
    "duration": 1180,
    "start_time": "2021-09-09T14:47:01.396Z"
   },
   {
    "duration": 5,
    "start_time": "2021-09-09T14:47:21.112Z"
   },
   {
    "duration": 4,
    "start_time": "2021-09-09T14:47:21.245Z"
   },
   {
    "duration": 5,
    "start_time": "2021-09-09T14:47:21.416Z"
   },
   {
    "duration": 23,
    "start_time": "2021-09-09T14:47:21.683Z"
   },
   {
    "duration": 2,
    "start_time": "2021-09-09T14:47:21.828Z"
   },
   {
    "duration": 5,
    "start_time": "2021-09-09T14:47:21.972Z"
   },
   {
    "duration": 3,
    "start_time": "2021-09-09T14:47:22.122Z"
   },
   {
    "duration": 3,
    "start_time": "2021-09-09T14:47:22.292Z"
   },
   {
    "duration": 3,
    "start_time": "2021-09-09T14:47:22.459Z"
   },
   {
    "duration": 1170,
    "start_time": "2021-09-09T14:47:22.644Z"
   },
   {
    "duration": 1136,
    "start_time": "2021-09-09T14:47:44.855Z"
   },
   {
    "duration": 354,
    "start_time": "2021-09-09T14:49:20.727Z"
   },
   {
    "duration": 1337,
    "start_time": "2021-09-09T16:20:17.311Z"
   },
   {
    "duration": 1841,
    "start_time": "2021-09-09T16:20:18.651Z"
   },
   {
    "duration": 367,
    "start_time": "2021-09-09T16:20:20.496Z"
   },
   {
    "duration": 3,
    "start_time": "2021-09-09T16:20:20.867Z"
   },
   {
    "duration": 128,
    "start_time": "2021-09-09T16:20:20.881Z"
   },
   {
    "duration": 477,
    "start_time": "2021-09-09T16:20:21.013Z"
   },
   {
    "duration": 3,
    "start_time": "2021-09-09T16:20:21.492Z"
   },
   {
    "duration": 5,
    "start_time": "2021-09-09T16:20:24.782Z"
   },
   {
    "duration": 5,
    "start_time": "2021-09-09T16:20:25.021Z"
   },
   {
    "duration": 5,
    "start_time": "2021-09-09T16:20:25.118Z"
   },
   {
    "duration": 5,
    "start_time": "2021-09-09T16:20:25.286Z"
   },
   {
    "duration": 19,
    "start_time": "2021-09-09T16:20:25.678Z"
   },
   {
    "duration": 3,
    "start_time": "2021-09-09T16:20:26.734Z"
   },
   {
    "duration": 5,
    "start_time": "2021-09-09T16:20:26.887Z"
   },
   {
    "duration": 3,
    "start_time": "2021-09-09T16:20:27.071Z"
   },
   {
    "duration": 3,
    "start_time": "2021-09-09T16:20:27.399Z"
   },
   {
    "duration": 3,
    "start_time": "2021-09-09T16:20:29.630Z"
   },
   {
    "duration": 553,
    "start_time": "2021-09-09T16:20:29.822Z"
   },
   {
    "duration": 714,
    "start_time": "2021-09-09T16:22:36.657Z"
   },
   {
    "duration": 4,
    "start_time": "2021-09-09T16:22:56.200Z"
   },
   {
    "duration": 5,
    "start_time": "2021-09-09T16:22:56.304Z"
   },
   {
    "duration": 5,
    "start_time": "2021-09-09T16:22:56.501Z"
   },
   {
    "duration": 21,
    "start_time": "2021-09-09T16:22:56.813Z"
   },
   {
    "duration": 3,
    "start_time": "2021-09-09T16:22:56.943Z"
   },
   {
    "duration": 5,
    "start_time": "2021-09-09T16:22:57.188Z"
   },
   {
    "duration": 3,
    "start_time": "2021-09-09T16:22:59.503Z"
   },
   {
    "duration": 2,
    "start_time": "2021-09-09T16:22:59.687Z"
   },
   {
    "duration": 3,
    "start_time": "2021-09-09T16:22:59.838Z"
   },
   {
    "duration": 768,
    "start_time": "2021-09-09T16:23:00.344Z"
   },
   {
    "duration": 1105,
    "start_time": "2021-09-09T16:23:54.104Z"
   },
   {
    "duration": 1185,
    "start_time": "2021-09-09T16:24:04.168Z"
   },
   {
    "duration": 216,
    "start_time": "2021-09-09T16:24:18.066Z"
   },
   {
    "duration": 1184,
    "start_time": "2021-09-09T16:24:40.138Z"
   },
   {
    "duration": 503,
    "start_time": "2021-09-09T16:24:45.986Z"
   },
   {
    "duration": 1258,
    "start_time": "2021-09-09T16:29:01.859Z"
   },
   {
    "duration": 1206,
    "start_time": "2021-09-09T16:29:13.048Z"
   },
   {
    "duration": 1251,
    "start_time": "2021-09-09T16:29:18.692Z"
   },
   {
    "duration": 1263,
    "start_time": "2021-09-09T16:29:23.283Z"
   },
   {
    "duration": 4,
    "start_time": "2021-09-09T16:30:10.084Z"
   },
   {
    "duration": 24,
    "start_time": "2021-09-09T16:30:10.426Z"
   },
   {
    "duration": 3,
    "start_time": "2021-09-09T16:30:10.594Z"
   },
   {
    "duration": 5,
    "start_time": "2021-09-09T16:30:10.747Z"
   },
   {
    "duration": 3,
    "start_time": "2021-09-09T16:30:10.915Z"
   },
   {
    "duration": 3,
    "start_time": "2021-09-09T16:30:11.434Z"
   },
   {
    "duration": 3,
    "start_time": "2021-09-09T16:30:11.650Z"
   },
   {
    "duration": 1307,
    "start_time": "2021-09-09T16:30:11.715Z"
   },
   {
    "duration": 167,
    "start_time": "2021-09-09T16:30:13.024Z"
   },
   {
    "duration": 1278,
    "start_time": "2021-09-09T16:30:33.663Z"
   },
   {
    "duration": 1825,
    "start_time": "2021-09-09T16:30:34.943Z"
   },
   {
    "duration": 346,
    "start_time": "2021-09-09T16:30:36.771Z"
   },
   {
    "duration": 3,
    "start_time": "2021-09-09T16:30:37.120Z"
   },
   {
    "duration": 120,
    "start_time": "2021-09-09T16:30:37.125Z"
   },
   {
    "duration": 344,
    "start_time": "2021-09-09T16:30:37.247Z"
   },
   {
    "duration": 4,
    "start_time": "2021-09-09T16:30:38.975Z"
   },
   {
    "duration": 6,
    "start_time": "2021-09-09T16:30:39.742Z"
   },
   {
    "duration": 5,
    "start_time": "2021-09-09T16:30:43.934Z"
   },
   {
    "duration": 5,
    "start_time": "2021-09-09T16:30:43.975Z"
   },
   {
    "duration": 5,
    "start_time": "2021-09-09T16:30:44.126Z"
   },
   {
    "duration": 19,
    "start_time": "2021-09-09T16:30:44.486Z"
   },
   {
    "duration": 3,
    "start_time": "2021-09-09T16:30:44.703Z"
   },
   {
    "duration": 5,
    "start_time": "2021-09-09T16:30:45.207Z"
   },
   {
    "duration": 3,
    "start_time": "2021-09-09T16:30:45.376Z"
   },
   {
    "duration": 3,
    "start_time": "2021-09-09T16:30:45.543Z"
   },
   {
    "duration": 3,
    "start_time": "2021-09-09T16:30:45.759Z"
   },
   {
    "duration": 1233,
    "start_time": "2021-09-09T16:30:45.953Z"
   },
   {
    "duration": 88,
    "start_time": "2021-09-09T16:30:47.599Z"
   },
   {
    "duration": 227,
    "start_time": "2021-09-09T16:35:47.318Z"
   },
   {
    "duration": 5,
    "start_time": "2021-09-09T16:35:49.595Z"
   },
   {
    "duration": 1730,
    "start_time": "2021-09-09T16:35:49.603Z"
   },
   {
    "duration": 401,
    "start_time": "2021-09-09T16:35:51.337Z"
   },
   {
    "duration": 4,
    "start_time": "2021-09-09T16:35:51.742Z"
   },
   {
    "duration": 140,
    "start_time": "2021-09-09T16:35:51.749Z"
   },
   {
    "duration": 325,
    "start_time": "2021-09-09T16:35:51.892Z"
   },
   {
    "duration": 4,
    "start_time": "2021-09-09T16:35:52.219Z"
   },
   {
    "duration": 6,
    "start_time": "2021-09-09T16:35:52.229Z"
   },
   {
    "duration": 43,
    "start_time": "2021-09-09T16:35:52.239Z"
   },
   {
    "duration": 7,
    "start_time": "2021-09-09T16:35:52.285Z"
   },
   {
    "duration": 8,
    "start_time": "2021-09-09T16:35:52.295Z"
   },
   {
    "duration": 25,
    "start_time": "2021-09-09T16:35:52.306Z"
   },
   {
    "duration": 4,
    "start_time": "2021-09-09T16:35:52.334Z"
   },
   {
    "duration": 5,
    "start_time": "2021-09-09T16:35:52.383Z"
   },
   {
    "duration": 9,
    "start_time": "2021-09-09T16:35:52.391Z"
   },
   {
    "duration": 7,
    "start_time": "2021-09-09T16:35:52.403Z"
   },
   {
    "duration": 9,
    "start_time": "2021-09-09T16:35:52.412Z"
   },
   {
    "duration": 263,
    "start_time": "2021-09-09T16:35:52.423Z"
   },
   {
    "duration": 3123,
    "start_time": "2021-09-09T16:35:52.688Z"
   },
   {
    "duration": 438,
    "start_time": "2021-09-09T16:35:55.376Z"
   },
   {
    "duration": 436,
    "start_time": "2021-09-09T16:35:55.380Z"
   },
   {
    "duration": 420,
    "start_time": "2021-09-09T16:35:55.398Z"
   },
   {
    "duration": 416,
    "start_time": "2021-09-09T16:35:55.404Z"
   },
   {
    "duration": 410,
    "start_time": "2021-09-09T16:35:55.411Z"
   },
   {
    "duration": 405,
    "start_time": "2021-09-09T16:35:55.418Z"
   },
   {
    "duration": 402,
    "start_time": "2021-09-09T16:35:55.423Z"
   },
   {
    "duration": 401,
    "start_time": "2021-09-09T16:35:55.425Z"
   },
   {
    "duration": 398,
    "start_time": "2021-09-09T16:35:55.430Z"
   },
   {
    "duration": 396,
    "start_time": "2021-09-09T16:35:55.433Z"
   },
   {
    "duration": 387,
    "start_time": "2021-09-09T16:35:55.444Z"
   },
   {
    "duration": 384,
    "start_time": "2021-09-09T16:35:55.448Z"
   },
   {
    "duration": 384,
    "start_time": "2021-09-09T16:35:55.450Z"
   },
   {
    "duration": 383,
    "start_time": "2021-09-09T16:35:55.452Z"
   },
   {
    "duration": 6,
    "start_time": "2021-09-09T16:36:08.263Z"
   },
   {
    "duration": 1779,
    "start_time": "2021-09-09T16:36:08.271Z"
   },
   {
    "duration": 365,
    "start_time": "2021-09-09T16:36:10.053Z"
   },
   {
    "duration": 3,
    "start_time": "2021-09-09T16:36:10.421Z"
   },
   {
    "duration": 132,
    "start_time": "2021-09-09T16:36:10.427Z"
   },
   {
    "duration": 323,
    "start_time": "2021-09-09T16:36:10.561Z"
   },
   {
    "duration": 4,
    "start_time": "2021-09-09T16:36:10.887Z"
   },
   {
    "duration": 11,
    "start_time": "2021-09-09T16:36:10.897Z"
   },
   {
    "duration": 6,
    "start_time": "2021-09-09T16:36:10.912Z"
   },
   {
    "duration": 11,
    "start_time": "2021-09-09T16:36:10.921Z"
   },
   {
    "duration": 48,
    "start_time": "2021-09-09T16:36:10.934Z"
   },
   {
    "duration": 23,
    "start_time": "2021-09-09T16:36:10.984Z"
   },
   {
    "duration": 3,
    "start_time": "2021-09-09T16:36:11.010Z"
   },
   {
    "duration": 15,
    "start_time": "2021-09-09T16:36:11.015Z"
   },
   {
    "duration": 13,
    "start_time": "2021-09-09T16:36:11.033Z"
   },
   {
    "duration": 34,
    "start_time": "2021-09-09T16:36:11.048Z"
   },
   {
    "duration": 4,
    "start_time": "2021-09-09T16:36:11.084Z"
   },
   {
    "duration": 1100,
    "start_time": "2021-09-09T16:36:11.091Z"
   },
   {
    "duration": 188,
    "start_time": "2021-09-09T16:36:12.194Z"
   },
   {
    "duration": 4,
    "start_time": "2021-09-09T16:36:12.386Z"
   },
   {
    "duration": 10,
    "start_time": "2021-09-09T16:36:12.394Z"
   },
   {
    "duration": 8,
    "start_time": "2021-09-09T16:36:12.406Z"
   },
   {
    "duration": 3,
    "start_time": "2021-09-09T16:36:12.483Z"
   },
   {
    "duration": 2670,
    "start_time": "2021-09-09T16:36:12.490Z"
   },
   {
    "duration": 397,
    "start_time": "2021-09-09T16:36:14.766Z"
   },
   {
    "duration": 347,
    "start_time": "2021-09-09T16:36:14.817Z"
   },
   {
    "duration": 342,
    "start_time": "2021-09-09T16:36:14.824Z"
   },
   {
    "duration": 317,
    "start_time": "2021-09-09T16:36:14.850Z"
   },
   {
    "duration": 303,
    "start_time": "2021-09-09T16:36:14.865Z"
   },
   {
    "duration": 302,
    "start_time": "2021-09-09T16:36:14.868Z"
   },
   {
    "duration": 299,
    "start_time": "2021-09-09T16:36:14.872Z"
   },
   {
    "duration": 294,
    "start_time": "2021-09-09T16:36:14.879Z"
   },
   {
    "duration": 291,
    "start_time": "2021-09-09T16:36:14.883Z"
   },
   {
    "duration": 58,
    "start_time": "2021-09-09T16:38:14.630Z"
   },
   {
    "duration": 2086,
    "start_time": "2021-09-09T16:38:27.471Z"
   },
   {
    "duration": 1931,
    "start_time": "2021-09-09T16:38:29.559Z"
   },
   {
    "duration": 377,
    "start_time": "2021-09-09T16:38:31.493Z"
   },
   {
    "duration": 10,
    "start_time": "2021-09-09T16:38:31.873Z"
   },
   {
    "duration": 121,
    "start_time": "2021-09-09T16:38:31.885Z"
   },
   {
    "duration": 352,
    "start_time": "2021-09-09T16:38:32.009Z"
   },
   {
    "duration": 4,
    "start_time": "2021-09-09T16:38:32.364Z"
   },
   {
    "duration": 15,
    "start_time": "2021-09-09T16:38:32.373Z"
   },
   {
    "duration": 7,
    "start_time": "2021-09-09T16:38:32.392Z"
   },
   {
    "duration": 7,
    "start_time": "2021-09-09T16:38:32.401Z"
   },
   {
    "duration": 8,
    "start_time": "2021-09-09T16:38:32.411Z"
   },
   {
    "duration": 71,
    "start_time": "2021-09-09T16:38:32.421Z"
   },
   {
    "duration": 4,
    "start_time": "2021-09-09T16:38:32.494Z"
   },
   {
    "duration": 9,
    "start_time": "2021-09-09T16:38:32.500Z"
   },
   {
    "duration": 4,
    "start_time": "2021-09-09T16:38:32.511Z"
   },
   {
    "duration": 11,
    "start_time": "2021-09-09T16:38:32.518Z"
   },
   {
    "duration": 7,
    "start_time": "2021-09-09T16:38:32.532Z"
   },
   {
    "duration": 1024,
    "start_time": "2021-09-09T16:38:32.542Z"
   },
   {
    "duration": 127,
    "start_time": "2021-09-09T16:38:33.568Z"
   },
   {
    "duration": 4,
    "start_time": "2021-09-09T16:38:33.784Z"
   },
   {
    "duration": 100,
    "start_time": "2021-09-09T16:38:33.791Z"
   },
   {
    "duration": 10,
    "start_time": "2021-09-09T16:38:33.894Z"
   },
   {
    "duration": 3,
    "start_time": "2021-09-09T16:38:33.908Z"
   },
   {
    "duration": 1583,
    "start_time": "2021-09-09T16:38:33.914Z"
   },
   {
    "duration": 442,
    "start_time": "2021-09-09T16:38:35.057Z"
   },
   {
    "duration": 441,
    "start_time": "2021-09-09T16:38:35.060Z"
   },
   {
    "duration": 440,
    "start_time": "2021-09-09T16:38:35.062Z"
   },
   {
    "duration": 436,
    "start_time": "2021-09-09T16:38:35.067Z"
   },
   {
    "duration": 434,
    "start_time": "2021-09-09T16:38:35.071Z"
   },
   {
    "duration": 431,
    "start_time": "2021-09-09T16:38:35.075Z"
   },
   {
    "duration": 431,
    "start_time": "2021-09-09T16:38:35.077Z"
   },
   {
    "duration": 430,
    "start_time": "2021-09-09T16:38:35.079Z"
   },
   {
    "duration": 426,
    "start_time": "2021-09-09T16:38:35.084Z"
   },
   {
    "duration": 5463,
    "start_time": "2021-09-09T16:38:55.756Z"
   },
   {
    "duration": 241,
    "start_time": "2021-09-09T16:40:18.773Z"
   },
   {
    "duration": 7534,
    "start_time": "2021-09-09T16:40:19.747Z"
   },
   {
    "duration": 987,
    "start_time": "2021-09-09T16:40:32.060Z"
   },
   {
    "duration": 232,
    "start_time": "2021-09-09T16:40:33.050Z"
   },
   {
    "duration": 1021,
    "start_time": "2021-09-09T16:41:04.364Z"
   },
   {
    "duration": 1221,
    "start_time": "2021-09-09T16:41:18.125Z"
   },
   {
    "duration": 1835,
    "start_time": "2021-09-09T16:41:19.349Z"
   },
   {
    "duration": 343,
    "start_time": "2021-09-09T16:41:21.187Z"
   },
   {
    "duration": 3,
    "start_time": "2021-09-09T16:41:21.532Z"
   },
   {
    "duration": 122,
    "start_time": "2021-09-09T16:41:21.537Z"
   },
   {
    "duration": 340,
    "start_time": "2021-09-09T16:41:21.661Z"
   },
   {
    "duration": 3,
    "start_time": "2021-09-09T16:41:22.003Z"
   },
   {
    "duration": 9,
    "start_time": "2021-09-09T16:41:22.010Z"
   },
   {
    "duration": 6,
    "start_time": "2021-09-09T16:41:22.022Z"
   },
   {
    "duration": 8,
    "start_time": "2021-09-09T16:41:22.030Z"
   },
   {
    "duration": 41,
    "start_time": "2021-09-09T16:41:22.041Z"
   },
   {
    "duration": 18,
    "start_time": "2021-09-09T16:41:22.084Z"
   },
   {
    "duration": 2,
    "start_time": "2021-09-09T16:41:22.105Z"
   },
   {
    "duration": 8,
    "start_time": "2021-09-09T16:41:22.109Z"
   },
   {
    "duration": 11,
    "start_time": "2021-09-09T16:41:22.119Z"
   },
   {
    "duration": 956,
    "start_time": "2021-09-09T16:41:22.132Z"
   },
   {
    "duration": 94,
    "start_time": "2021-09-09T16:41:23.091Z"
   },
   {
    "duration": 1054,
    "start_time": "2021-09-09T16:41:23.195Z"
   },
   {
    "duration": 233,
    "start_time": "2021-09-09T16:41:24.251Z"
   },
   {
    "duration": 2,
    "start_time": "2021-09-09T16:41:24.487Z"
   },
   {
    "duration": 9,
    "start_time": "2021-09-09T16:41:24.491Z"
   },
   {
    "duration": 9,
    "start_time": "2021-09-09T16:41:24.502Z"
   },
   {
    "duration": 68,
    "start_time": "2021-09-09T16:41:24.515Z"
   },
   {
    "duration": 420,
    "start_time": "2021-09-09T16:41:24.586Z"
   },
   {
    "duration": 452,
    "start_time": "2021-09-09T16:41:24.556Z"
   },
   {
    "duration": 451,
    "start_time": "2021-09-09T16:41:24.559Z"
   },
   {
    "duration": 445,
    "start_time": "2021-09-09T16:41:24.566Z"
   },
   {
    "duration": 441,
    "start_time": "2021-09-09T16:41:24.572Z"
   },
   {
    "duration": 439,
    "start_time": "2021-09-09T16:41:24.575Z"
   },
   {
    "duration": 429,
    "start_time": "2021-09-09T16:41:24.586Z"
   },
   {
    "duration": 428,
    "start_time": "2021-09-09T16:41:24.589Z"
   },
   {
    "duration": 426,
    "start_time": "2021-09-09T16:41:24.592Z"
   },
   {
    "duration": 423,
    "start_time": "2021-09-09T16:41:24.597Z"
   },
   {
    "duration": 5,
    "start_time": "2021-09-09T16:42:35.410Z"
   },
   {
    "duration": 1741,
    "start_time": "2021-09-09T16:42:35.417Z"
   },
   {
    "duration": 364,
    "start_time": "2021-09-09T16:42:37.161Z"
   },
   {
    "duration": 4,
    "start_time": "2021-09-09T16:42:37.528Z"
   },
   {
    "duration": 134,
    "start_time": "2021-09-09T16:42:37.534Z"
   },
   {
    "duration": 399,
    "start_time": "2021-09-09T16:42:37.671Z"
   },
   {
    "duration": 3,
    "start_time": "2021-09-09T16:42:38.073Z"
   },
   {
    "duration": 6,
    "start_time": "2021-09-09T16:42:38.079Z"
   },
   {
    "duration": 6,
    "start_time": "2021-09-09T16:42:38.088Z"
   },
   {
    "duration": 9,
    "start_time": "2021-09-09T16:42:38.096Z"
   },
   {
    "duration": 8,
    "start_time": "2021-09-09T16:42:38.108Z"
   },
   {
    "duration": 71,
    "start_time": "2021-09-09T16:42:38.118Z"
   },
   {
    "duration": 3,
    "start_time": "2021-09-09T16:42:38.191Z"
   },
   {
    "duration": 9,
    "start_time": "2021-09-09T16:42:38.197Z"
   },
   {
    "duration": 6,
    "start_time": "2021-09-09T16:42:38.208Z"
   },
   {
    "duration": 1076,
    "start_time": "2021-09-09T16:42:38.216Z"
   },
   {
    "duration": 87,
    "start_time": "2021-09-09T16:42:39.295Z"
   },
   {
    "duration": 1026,
    "start_time": "2021-09-09T16:42:39.385Z"
   },
   {
    "duration": 175,
    "start_time": "2021-09-09T16:42:40.414Z"
   },
   {
    "duration": 92,
    "start_time": "2021-09-09T16:42:40.592Z"
   },
   {
    "duration": 9,
    "start_time": "2021-09-09T16:42:40.687Z"
   },
   {
    "duration": 8,
    "start_time": "2021-09-09T16:42:40.698Z"
   },
   {
    "duration": 5,
    "start_time": "2021-09-09T16:42:40.710Z"
   },
   {
    "duration": 271,
    "start_time": "2021-09-09T16:42:40.717Z"
   },
   {
    "duration": 421,
    "start_time": "2021-09-09T16:42:40.570Z"
   },
   {
    "duration": 418,
    "start_time": "2021-09-09T16:42:40.574Z"
   },
   {
    "duration": 416,
    "start_time": "2021-09-09T16:42:40.577Z"
   },
   {
    "duration": 391,
    "start_time": "2021-09-09T16:42:40.603Z"
   },
   {
    "duration": 387,
    "start_time": "2021-09-09T16:42:40.609Z"
   },
   {
    "duration": 385,
    "start_time": "2021-09-09T16:42:40.612Z"
   },
   {
    "duration": 384,
    "start_time": "2021-09-09T16:42:40.614Z"
   },
   {
    "duration": 383,
    "start_time": "2021-09-09T16:42:40.616Z"
   },
   {
    "duration": 379,
    "start_time": "2021-09-09T16:42:40.621Z"
   },
   {
    "duration": 1002,
    "start_time": "2021-09-09T16:43:58.590Z"
   },
   {
    "duration": 307,
    "start_time": "2021-09-09T16:46:25.551Z"
   },
   {
    "duration": 5,
    "start_time": "2021-09-09T16:47:07.041Z"
   },
   {
    "duration": 5,
    "start_time": "2021-09-09T16:47:07.430Z"
   },
   {
    "duration": 23,
    "start_time": "2021-09-09T16:47:08.830Z"
   },
   {
    "duration": 6,
    "start_time": "2021-09-09T16:47:09.054Z"
   },
   {
    "duration": 6,
    "start_time": "2021-09-09T16:47:09.254Z"
   },
   {
    "duration": 282,
    "start_time": "2021-09-09T16:47:10.071Z"
   },
   {
    "duration": 5,
    "start_time": "2021-09-09T16:47:55.170Z"
   },
   {
    "duration": 5,
    "start_time": "2021-09-09T16:47:55.335Z"
   },
   {
    "duration": 24,
    "start_time": "2021-09-09T16:47:55.647Z"
   },
   {
    "duration": 3,
    "start_time": "2021-09-09T16:47:55.891Z"
   },
   {
    "duration": 5,
    "start_time": "2021-09-09T16:47:55.984Z"
   },
   {
    "duration": 707,
    "start_time": "2021-09-09T16:47:56.203Z"
   },
   {
    "duration": 449,
    "start_time": "2021-09-09T16:47:56.464Z"
   },
   {
    "duration": 5,
    "start_time": "2021-09-09T16:48:38.671Z"
   },
   {
    "duration": 6,
    "start_time": "2021-09-09T16:48:39.175Z"
   },
   {
    "duration": 22,
    "start_time": "2021-09-09T16:48:39.511Z"
   },
   {
    "duration": 3,
    "start_time": "2021-09-09T16:48:39.823Z"
   },
   {
    "duration": 5,
    "start_time": "2021-09-09T16:48:40.033Z"
   },
   {
    "duration": 264,
    "start_time": "2021-09-09T16:48:40.211Z"
   },
   {
    "duration": 933,
    "start_time": "2021-09-09T16:48:41.871Z"
   },
   {
    "duration": 4,
    "start_time": "2021-09-09T16:48:42.884Z"
   },
   {
    "duration": 938,
    "start_time": "2021-09-09T16:48:47.300Z"
   },
   {
    "duration": 147,
    "start_time": "2021-09-09T16:48:51.936Z"
   },
   {
    "duration": 4,
    "start_time": "2021-09-09T16:54:34.828Z"
   },
   {
    "duration": 530,
    "start_time": "2021-09-09T16:54:59.203Z"
   },
   {
    "duration": 5,
    "start_time": "2021-09-09T16:56:02.069Z"
   },
   {
    "duration": 5,
    "start_time": "2021-09-09T16:56:02.579Z"
   },
   {
    "duration": 22,
    "start_time": "2021-09-09T16:56:02.902Z"
   },
   {
    "duration": 3,
    "start_time": "2021-09-09T16:56:03.675Z"
   },
   {
    "duration": 5,
    "start_time": "2021-09-09T16:56:03.843Z"
   },
   {
    "duration": 957,
    "start_time": "2021-09-09T16:56:04.028Z"
   },
   {
    "duration": 7,
    "start_time": "2021-09-09T16:56:11.043Z"
   },
   {
    "duration": 1006,
    "start_time": "2021-09-09T16:56:11.579Z"
   },
   {
    "duration": 810,
    "start_time": "2021-09-09T16:56:12.589Z"
   },
   {
    "duration": 3,
    "start_time": "2021-09-09T16:56:15.163Z"
   },
   {
    "duration": 734,
    "start_time": "2021-09-09T16:56:15.403Z"
   },
   {
    "duration": 707,
    "start_time": "2021-09-09T16:56:41.156Z"
   },
   {
    "duration": 211,
    "start_time": "2021-09-09T16:56:42.675Z"
   },
   {
    "duration": 5,
    "start_time": "2021-09-09T16:57:22.222Z"
   },
   {
    "duration": 1736,
    "start_time": "2021-09-09T16:57:22.230Z"
   },
   {
    "duration": 344,
    "start_time": "2021-09-09T16:57:23.969Z"
   },
   {
    "duration": 3,
    "start_time": "2021-09-09T16:57:24.316Z"
   },
   {
    "duration": 131,
    "start_time": "2021-09-09T16:57:24.321Z"
   },
   {
    "duration": 307,
    "start_time": "2021-09-09T16:57:24.455Z"
   },
   {
    "duration": 4,
    "start_time": "2021-09-09T16:57:24.764Z"
   },
   {
    "duration": 19,
    "start_time": "2021-09-09T16:57:24.771Z"
   },
   {
    "duration": 14,
    "start_time": "2021-09-09T16:57:24.793Z"
   },
   {
    "duration": 23,
    "start_time": "2021-09-09T16:57:24.809Z"
   },
   {
    "duration": 17,
    "start_time": "2021-09-09T16:57:24.834Z"
   },
   {
    "duration": 33,
    "start_time": "2021-09-09T16:57:24.853Z"
   },
   {
    "duration": 3,
    "start_time": "2021-09-09T16:57:24.888Z"
   },
   {
    "duration": 13,
    "start_time": "2021-09-09T16:57:24.894Z"
   },
   {
    "duration": 972,
    "start_time": "2021-09-09T16:57:24.910Z"
   },
   {
    "duration": 801,
    "start_time": "2021-09-09T16:57:25.886Z"
   },
   {
    "duration": 93,
    "start_time": "2021-09-09T16:57:26.690Z"
   },
   {
    "duration": 684,
    "start_time": "2021-09-09T16:57:26.786Z"
   },
   {
    "duration": 110,
    "start_time": "2021-09-09T16:57:27.472Z"
   },
   {
    "duration": 96,
    "start_time": "2021-09-09T16:57:27.586Z"
   },
   {
    "duration": 8,
    "start_time": "2021-09-09T16:57:27.685Z"
   },
   {
    "duration": 6,
    "start_time": "2021-09-09T16:57:27.696Z"
   },
   {
    "duration": 7,
    "start_time": "2021-09-09T16:57:27.707Z"
   },
   {
    "duration": 845,
    "start_time": "2021-09-09T16:57:27.717Z"
   },
   {
    "duration": 458,
    "start_time": "2021-09-09T16:57:28.106Z"
   },
   {
    "duration": 452,
    "start_time": "2021-09-09T16:57:28.114Z"
   },
   {
    "duration": 450,
    "start_time": "2021-09-09T16:57:28.117Z"
   },
   {
    "duration": 446,
    "start_time": "2021-09-09T16:57:28.122Z"
   },
   {
    "duration": 437,
    "start_time": "2021-09-09T16:57:28.132Z"
   },
   {
    "duration": 435,
    "start_time": "2021-09-09T16:57:28.136Z"
   },
   {
    "duration": 433,
    "start_time": "2021-09-09T16:57:28.139Z"
   },
   {
    "duration": 432,
    "start_time": "2021-09-09T16:57:28.141Z"
   },
   {
    "duration": 433,
    "start_time": "2021-09-09T16:57:28.142Z"
   },
   {
    "duration": 667,
    "start_time": "2021-09-09T17:07:41.288Z"
   },
   {
    "duration": 812,
    "start_time": "2021-09-09T17:08:30.602Z"
   },
   {
    "duration": 162,
    "start_time": "2021-09-09T17:08:34.833Z"
   },
   {
    "duration": 6,
    "start_time": "2021-09-09T17:08:38.510Z"
   },
   {
    "duration": 1738,
    "start_time": "2021-09-09T17:08:38.519Z"
   },
   {
    "duration": 363,
    "start_time": "2021-09-09T17:08:40.261Z"
   },
   {
    "duration": 3,
    "start_time": "2021-09-09T17:08:40.627Z"
   },
   {
    "duration": 162,
    "start_time": "2021-09-09T17:08:40.633Z"
   },
   {
    "duration": 327,
    "start_time": "2021-09-09T17:08:40.797Z"
   },
   {
    "duration": 3,
    "start_time": "2021-09-09T17:08:41.127Z"
   },
   {
    "duration": 10,
    "start_time": "2021-09-09T17:08:41.133Z"
   },
   {
    "duration": 4,
    "start_time": "2021-09-09T17:08:41.146Z"
   },
   {
    "duration": 30,
    "start_time": "2021-09-09T17:08:41.153Z"
   },
   {
    "duration": 5,
    "start_time": "2021-09-09T17:08:41.186Z"
   },
   {
    "duration": 25,
    "start_time": "2021-09-09T17:08:41.194Z"
   },
   {
    "duration": 3,
    "start_time": "2021-09-09T17:08:41.221Z"
   },
   {
    "duration": 58,
    "start_time": "2021-09-09T17:08:41.227Z"
   },
   {
    "duration": 1096,
    "start_time": "2021-09-09T17:08:41.288Z"
   },
   {
    "duration": 808,
    "start_time": "2021-09-09T17:08:42.387Z"
   },
   {
    "duration": 85,
    "start_time": "2021-09-09T17:08:43.198Z"
   },
   {
    "duration": 731,
    "start_time": "2021-09-09T17:08:43.286Z"
   },
   {
    "duration": 266,
    "start_time": "2021-09-09T17:08:44.020Z"
   },
   {
    "duration": 3,
    "start_time": "2021-09-09T17:08:44.289Z"
   },
   {
    "duration": 11,
    "start_time": "2021-09-09T17:08:44.295Z"
   },
   {
    "duration": 74,
    "start_time": "2021-09-09T17:08:44.309Z"
   },
   {
    "duration": 2,
    "start_time": "2021-09-09T17:08:44.390Z"
   },
   {
    "duration": 867,
    "start_time": "2021-09-09T17:08:44.395Z"
   },
   {
    "duration": 463,
    "start_time": "2021-09-09T17:08:44.801Z"
   },
   {
    "duration": 456,
    "start_time": "2021-09-09T17:08:44.809Z"
   },
   {
    "duration": 456,
    "start_time": "2021-09-09T17:08:44.811Z"
   },
   {
    "duration": 455,
    "start_time": "2021-09-09T17:08:44.813Z"
   },
   {
    "duration": 450,
    "start_time": "2021-09-09T17:08:44.820Z"
   },
   {
    "duration": 443,
    "start_time": "2021-09-09T17:08:44.828Z"
   },
   {
    "duration": 442,
    "start_time": "2021-09-09T17:08:44.831Z"
   },
   {
    "duration": 441,
    "start_time": "2021-09-09T17:08:44.834Z"
   },
   {
    "duration": 438,
    "start_time": "2021-09-09T17:08:44.838Z"
   },
   {
    "duration": 6,
    "start_time": "2021-09-09T17:11:02.118Z"
   },
   {
    "duration": 22,
    "start_time": "2021-09-09T17:11:03.290Z"
   },
   {
    "duration": 3,
    "start_time": "2021-09-09T17:11:03.443Z"
   },
   {
    "duration": 5,
    "start_time": "2021-09-09T17:11:03.593Z"
   },
   {
    "duration": 985,
    "start_time": "2021-09-09T17:11:03.810Z"
   },
   {
    "duration": 887,
    "start_time": "2021-09-09T17:11:04.798Z"
   },
   {
    "duration": 3,
    "start_time": "2021-09-09T17:11:05.689Z"
   },
   {
    "duration": 1130,
    "start_time": "2021-09-09T17:11:05.695Z"
   },
   {
    "duration": 1108,
    "start_time": "2021-09-09T17:11:21.818Z"
   },
   {
    "duration": 158,
    "start_time": "2021-09-09T17:11:24.427Z"
   },
   {
    "duration": 74,
    "start_time": "2021-09-09T17:12:20.895Z"
   },
   {
    "duration": 7,
    "start_time": "2021-09-09T17:12:21.075Z"
   },
   {
    "duration": 24,
    "start_time": "2021-09-09T17:12:21.380Z"
   },
   {
    "duration": 3,
    "start_time": "2021-09-09T17:12:21.562Z"
   },
   {
    "duration": 6,
    "start_time": "2021-09-09T17:12:21.714Z"
   },
   {
    "duration": 295,
    "start_time": "2021-09-09T17:12:21.883Z"
   },
   {
    "duration": 434,
    "start_time": "2021-09-09T17:12:21.747Z"
   },
   {
    "duration": 3,
    "start_time": "2021-09-09T17:12:22.190Z"
   },
   {
    "duration": 278,
    "start_time": "2021-09-09T17:12:22.386Z"
   },
   {
    "duration": 183,
    "start_time": "2021-09-09T17:12:24.108Z"
   },
   {
    "duration": 386,
    "start_time": "2021-09-09T17:13:08.443Z"
   },
   {
    "duration": 76,
    "start_time": "2021-09-09T17:13:19.842Z"
   },
   {
    "duration": 10,
    "start_time": "2021-09-09T17:13:19.995Z"
   },
   {
    "duration": 77,
    "start_time": "2021-09-09T17:13:27.700Z"
   },
   {
    "duration": 5,
    "start_time": "2021-09-09T17:13:31.900Z"
   },
   {
    "duration": 7,
    "start_time": "2021-09-09T17:13:32.445Z"
   },
   {
    "duration": 23,
    "start_time": "2021-09-09T17:13:32.802Z"
   },
   {
    "duration": 3,
    "start_time": "2021-09-09T17:13:32.971Z"
   },
   {
    "duration": 5,
    "start_time": "2021-09-09T17:13:33.140Z"
   },
   {
    "duration": 1336,
    "start_time": "2021-09-09T17:13:33.291Z"
   },
   {
    "duration": 462,
    "start_time": "2021-09-09T17:13:34.168Z"
   },
   {
    "duration": 460,
    "start_time": "2021-09-09T17:13:34.172Z"
   },
   {
    "duration": 454,
    "start_time": "2021-09-09T17:13:34.179Z"
   },
   {
    "duration": 454,
    "start_time": "2021-09-09T17:13:34.181Z"
   },
   {
    "duration": 3,
    "start_time": "2021-09-09T17:13:48.916Z"
   },
   {
    "duration": 1279,
    "start_time": "2021-09-09T17:13:49.763Z"
   },
   {
    "duration": 3,
    "start_time": "2021-09-09T17:14:02.045Z"
   },
   {
    "duration": 3,
    "start_time": "2021-09-09T17:14:03.189Z"
   },
   {
    "duration": 1279,
    "start_time": "2021-09-09T17:14:03.371Z"
   },
   {
    "duration": 97,
    "start_time": "2021-09-09T17:14:07.787Z"
   },
   {
    "duration": 124,
    "start_time": "2021-09-09T17:17:07.084Z"
   },
   {
    "duration": 324,
    "start_time": "2021-09-09T17:17:07.528Z"
   },
   {
    "duration": 3,
    "start_time": "2021-09-09T17:17:08.359Z"
   },
   {
    "duration": 6,
    "start_time": "2021-09-09T17:17:09.005Z"
   },
   {
    "duration": 5,
    "start_time": "2021-09-09T17:17:09.173Z"
   },
   {
    "duration": 5,
    "start_time": "2021-09-09T17:17:09.412Z"
   },
   {
    "duration": 7,
    "start_time": "2021-09-09T17:17:09.773Z"
   },
   {
    "duration": 24,
    "start_time": "2021-09-09T17:17:10.997Z"
   },
   {
    "duration": 3,
    "start_time": "2021-09-09T17:17:11.141Z"
   },
   {
    "duration": 6,
    "start_time": "2021-09-09T17:17:11.276Z"
   },
   {
    "duration": 3,
    "start_time": "2021-09-09T17:17:11.765Z"
   },
   {
    "duration": 3,
    "start_time": "2021-09-09T17:17:11.917Z"
   },
   {
    "duration": 3,
    "start_time": "2021-09-09T17:17:12.069Z"
   },
   {
    "duration": 1596,
    "start_time": "2021-09-09T17:17:12.237Z"
   },
   {
    "duration": 71,
    "start_time": "2021-09-09T17:17:13.837Z"
   },
   {
    "duration": 1381,
    "start_time": "2021-09-09T17:17:27.187Z"
   },
   {
    "duration": 1894,
    "start_time": "2021-09-09T17:17:28.571Z"
   },
   {
    "duration": 368,
    "start_time": "2021-09-09T17:17:30.469Z"
   },
   {
    "duration": 3,
    "start_time": "2021-09-09T17:17:30.840Z"
   },
   {
    "duration": 125,
    "start_time": "2021-09-09T17:17:30.845Z"
   },
   {
    "duration": 360,
    "start_time": "2021-09-09T17:17:30.973Z"
   },
   {
    "duration": 3,
    "start_time": "2021-09-09T17:17:31.336Z"
   },
   {
    "duration": 18,
    "start_time": "2021-09-09T17:17:31.343Z"
   },
   {
    "duration": 18,
    "start_time": "2021-09-09T17:17:31.364Z"
   },
   {
    "duration": 18,
    "start_time": "2021-09-09T17:17:31.385Z"
   },
   {
    "duration": 31,
    "start_time": "2021-09-09T17:17:31.406Z"
   },
   {
    "duration": 24,
    "start_time": "2021-09-09T17:17:31.439Z"
   },
   {
    "duration": 3,
    "start_time": "2021-09-09T17:17:31.465Z"
   },
   {
    "duration": 11,
    "start_time": "2021-09-09T17:17:31.470Z"
   },
   {
    "duration": 11,
    "start_time": "2021-09-09T17:17:31.484Z"
   },
   {
    "duration": 12,
    "start_time": "2021-09-09T17:17:31.497Z"
   },
   {
    "duration": 19,
    "start_time": "2021-09-09T17:17:31.511Z"
   },
   {
    "duration": 1077,
    "start_time": "2021-09-09T17:17:31.532Z"
   },
   {
    "duration": 183,
    "start_time": "2021-09-09T17:17:32.612Z"
   },
   {
    "duration": 3,
    "start_time": "2021-09-09T17:17:32.882Z"
   },
   {
    "duration": 10,
    "start_time": "2021-09-09T17:17:32.888Z"
   },
   {
    "duration": 6,
    "start_time": "2021-09-09T17:17:32.901Z"
   },
   {
    "duration": 5,
    "start_time": "2021-09-09T17:17:32.912Z"
   },
   {
    "duration": 442,
    "start_time": "2021-09-09T17:17:32.920Z"
   },
   {
    "duration": 454,
    "start_time": "2021-09-09T17:17:32.910Z"
   },
   {
    "duration": 448,
    "start_time": "2021-09-09T17:17:32.918Z"
   },
   {
    "duration": 447,
    "start_time": "2021-09-09T17:17:32.920Z"
   },
   {
    "duration": 441,
    "start_time": "2021-09-09T17:17:32.928Z"
   },
   {
    "duration": 436,
    "start_time": "2021-09-09T17:17:32.934Z"
   },
   {
    "duration": 434,
    "start_time": "2021-09-09T17:17:32.938Z"
   },
   {
    "duration": 433,
    "start_time": "2021-09-09T17:17:32.940Z"
   },
   {
    "duration": 426,
    "start_time": "2021-09-09T17:17:32.949Z"
   },
   {
    "duration": 426,
    "start_time": "2021-09-09T17:17:32.951Z"
   },
   {
    "duration": 114,
    "start_time": "2021-09-09T17:19:05.399Z"
   },
   {
    "duration": 1191,
    "start_time": "2021-09-09T17:19:11.183Z"
   },
   {
    "duration": 713,
    "start_time": "2021-09-09T18:27:40.726Z"
   },
   {
    "duration": 4,
    "start_time": "2021-09-09T18:28:04.734Z"
   },
   {
    "duration": 714,
    "start_time": "2021-09-09T18:28:20.574Z"
   },
   {
    "duration": 1337,
    "start_time": "2021-09-09T18:34:35.880Z"
   },
   {
    "duration": 6,
    "start_time": "2021-09-09T18:34:41.871Z"
   },
   {
    "duration": 1326,
    "start_time": "2021-09-09T18:34:45.591Z"
   },
   {
    "duration": 5,
    "start_time": "2021-09-09T18:34:56.437Z"
   },
   {
    "duration": 1119,
    "start_time": "2021-09-09T18:34:56.663Z"
   },
   {
    "duration": 1627,
    "start_time": "2021-09-09T18:35:10.884Z"
   },
   {
    "duration": 2258,
    "start_time": "2021-09-09T18:35:12.514Z"
   },
   {
    "duration": 398,
    "start_time": "2021-09-09T18:35:14.776Z"
   },
   {
    "duration": 7,
    "start_time": "2021-09-09T18:35:15.176Z"
   },
   {
    "duration": 133,
    "start_time": "2021-09-09T18:35:15.186Z"
   },
   {
    "duration": 355,
    "start_time": "2021-09-09T18:35:15.321Z"
   },
   {
    "duration": 4,
    "start_time": "2021-09-09T18:35:15.683Z"
   },
   {
    "duration": 11,
    "start_time": "2021-09-09T18:35:15.689Z"
   },
   {
    "duration": 11,
    "start_time": "2021-09-09T18:35:15.702Z"
   },
   {
    "duration": 8,
    "start_time": "2021-09-09T18:35:15.716Z"
   },
   {
    "duration": 12,
    "start_time": "2021-09-09T18:35:15.726Z"
   },
   {
    "duration": 55,
    "start_time": "2021-09-09T18:35:15.740Z"
   },
   {
    "duration": 4,
    "start_time": "2021-09-09T18:35:15.797Z"
   },
   {
    "duration": 16,
    "start_time": "2021-09-09T18:35:15.803Z"
   },
   {
    "duration": 1118,
    "start_time": "2021-09-09T18:35:15.822Z"
   },
   {
    "duration": 443,
    "start_time": "2021-09-09T18:35:16.500Z"
   },
   {
    "duration": 438,
    "start_time": "2021-09-09T18:35:16.507Z"
   },
   {
    "duration": 409,
    "start_time": "2021-09-09T18:35:16.537Z"
   },
   {
    "duration": 408,
    "start_time": "2021-09-09T18:35:16.540Z"
   },
   {
    "duration": 386,
    "start_time": "2021-09-09T18:35:16.563Z"
   },
   {
    "duration": 385,
    "start_time": "2021-09-09T18:35:16.565Z"
   },
   {
    "duration": 385,
    "start_time": "2021-09-09T18:35:16.567Z"
   },
   {
    "duration": 364,
    "start_time": "2021-09-09T18:35:16.589Z"
   },
   {
    "duration": 363,
    "start_time": "2021-09-09T18:35:16.591Z"
   },
   {
    "duration": 361,
    "start_time": "2021-09-09T18:35:16.594Z"
   },
   {
    "duration": 355,
    "start_time": "2021-09-09T18:35:16.602Z"
   },
   {
    "duration": 353,
    "start_time": "2021-09-09T18:35:16.606Z"
   },
   {
    "duration": 351,
    "start_time": "2021-09-09T18:35:16.610Z"
   },
   {
    "duration": 345,
    "start_time": "2021-09-09T18:35:16.617Z"
   },
   {
    "duration": 345,
    "start_time": "2021-09-09T18:35:16.618Z"
   },
   {
    "duration": 343,
    "start_time": "2021-09-09T18:35:16.621Z"
   },
   {
    "duration": 341,
    "start_time": "2021-09-09T18:35:16.625Z"
   },
   {
    "duration": 340,
    "start_time": "2021-09-09T18:35:16.627Z"
   },
   {
    "duration": 746,
    "start_time": "2021-09-09T18:35:41.837Z"
   },
   {
    "duration": 7,
    "start_time": "2021-09-09T18:36:08.037Z"
   },
   {
    "duration": 6,
    "start_time": "2021-09-09T18:36:09.285Z"
   },
   {
    "duration": 22,
    "start_time": "2021-09-09T18:36:09.653Z"
   },
   {
    "duration": 3,
    "start_time": "2021-09-09T18:36:09.836Z"
   },
   {
    "duration": 6,
    "start_time": "2021-09-09T18:36:10.021Z"
   },
   {
    "duration": 687,
    "start_time": "2021-09-09T18:36:10.216Z"
   },
   {
    "duration": 3,
    "start_time": "2021-09-09T18:36:11.319Z"
   },
   {
    "duration": 3,
    "start_time": "2021-09-09T18:36:11.500Z"
   },
   {
    "duration": 1094,
    "start_time": "2021-09-09T18:36:11.684Z"
   },
   {
    "duration": 201,
    "start_time": "2021-09-09T18:36:12.783Z"
   },
   {
    "duration": 6,
    "start_time": "2021-09-09T18:54:16.510Z"
   },
   {
    "duration": 769,
    "start_time": "2021-09-09T18:54:17.814Z"
   },
   {
    "duration": 6,
    "start_time": "2021-09-09T18:57:51.608Z"
   },
   {
    "duration": 1837,
    "start_time": "2021-09-09T18:57:51.617Z"
   },
   {
    "duration": 345,
    "start_time": "2021-09-09T18:57:53.457Z"
   },
   {
    "duration": 3,
    "start_time": "2021-09-09T18:57:53.804Z"
   },
   {
    "duration": 108,
    "start_time": "2021-09-09T18:57:53.810Z"
   },
   {
    "duration": 309,
    "start_time": "2021-09-09T18:57:53.921Z"
   },
   {
    "duration": 3,
    "start_time": "2021-09-09T18:57:54.233Z"
   },
   {
    "duration": 10,
    "start_time": "2021-09-09T18:57:54.239Z"
   },
   {
    "duration": 27,
    "start_time": "2021-09-09T18:57:54.252Z"
   },
   {
    "duration": 13,
    "start_time": "2021-09-09T18:57:54.281Z"
   },
   {
    "duration": 18,
    "start_time": "2021-09-09T18:57:54.296Z"
   },
   {
    "duration": 31,
    "start_time": "2021-09-09T18:57:54.316Z"
   },
   {
    "duration": 3,
    "start_time": "2021-09-09T18:57:54.349Z"
   },
   {
    "duration": 9,
    "start_time": "2021-09-09T18:57:54.355Z"
   },
   {
    "duration": 919,
    "start_time": "2021-09-09T18:57:54.366Z"
   },
   {
    "duration": 92,
    "start_time": "2021-09-09T18:57:55.289Z"
   },
   {
    "duration": 15,
    "start_time": "2021-09-09T18:57:55.384Z"
   },
   {
    "duration": 1124,
    "start_time": "2021-09-09T18:57:55.401Z"
   },
   {
    "duration": 67,
    "start_time": "2021-09-09T18:57:56.527Z"
   },
   {
    "duration": 4,
    "start_time": "2021-09-09T18:57:56.683Z"
   },
   {
    "duration": 98,
    "start_time": "2021-09-09T18:57:56.691Z"
   },
   {
    "duration": 1487,
    "start_time": "2021-09-09T19:04:59.483Z"
   },
   {
    "duration": 1884,
    "start_time": "2021-09-09T19:05:00.973Z"
   },
   {
    "duration": 356,
    "start_time": "2021-09-09T19:05:02.860Z"
   },
   {
    "duration": 3,
    "start_time": "2021-09-09T19:05:03.219Z"
   },
   {
    "duration": 127,
    "start_time": "2021-09-09T19:05:03.224Z"
   },
   {
    "duration": 341,
    "start_time": "2021-09-09T19:05:03.353Z"
   },
   {
    "duration": 3,
    "start_time": "2021-09-09T19:05:03.696Z"
   },
   {
    "duration": 13,
    "start_time": "2021-09-09T19:05:03.703Z"
   },
   {
    "duration": 15,
    "start_time": "2021-09-09T19:05:03.719Z"
   },
   {
    "duration": 15,
    "start_time": "2021-09-09T19:05:03.736Z"
   },
   {
    "duration": 21,
    "start_time": "2021-09-09T19:05:03.753Z"
   },
   {
    "duration": 21,
    "start_time": "2021-09-09T19:05:03.782Z"
   },
   {
    "duration": 2,
    "start_time": "2021-09-09T19:05:03.805Z"
   },
   {
    "duration": 18,
    "start_time": "2021-09-09T19:05:03.809Z"
   },
   {
    "duration": 671,
    "start_time": "2021-09-09T19:05:03.829Z"
   },
   {
    "duration": 4,
    "start_time": "2021-09-09T19:05:04.584Z"
   },
   {
    "duration": 97,
    "start_time": "2021-09-09T19:05:04.591Z"
   },
   {
    "duration": 1010,
    "start_time": "2021-09-09T19:05:04.691Z"
   },
   {
    "duration": 83,
    "start_time": "2021-09-09T19:05:05.703Z"
   },
   {
    "duration": 93,
    "start_time": "2021-09-09T19:05:05.790Z"
   },
   {
    "duration": 12,
    "start_time": "2021-09-09T19:05:05.885Z"
   },
   {
    "duration": 6,
    "start_time": "2021-09-09T19:05:05.899Z"
   },
   {
    "duration": 104846,
    "start_time": "2021-09-09T19:05:05.910Z"
   },
   {
    "duration": 2,
    "start_time": "2021-09-09T19:06:50.759Z"
   },
   {
    "duration": 40,
    "start_time": "2021-09-09T19:06:50.764Z"
   },
   {
    "duration": 26,
    "start_time": "2021-09-09T19:06:50.806Z"
   },
   {
    "duration": 453157,
    "start_time": "2021-09-09T19:06:50.834Z"
   },
   {
    "duration": 4,
    "start_time": "2021-09-09T19:14:23.993Z"
   },
   {
    "duration": 8,
    "start_time": "2021-09-09T19:14:24.000Z"
   },
   {
    "duration": 7,
    "start_time": "2021-09-09T19:14:24.011Z"
   },
   {
    "duration": 11283,
    "start_time": "2021-09-09T19:14:24.021Z"
   },
   {
    "duration": 410,
    "start_time": "2021-09-09T19:14:34.896Z"
   },
   {
    "duration": 409,
    "start_time": "2021-09-09T19:14:34.899Z"
   },
   {
    "duration": 5,
    "start_time": "2021-09-09T19:14:52.567Z"
   },
   {
    "duration": 3,
    "start_time": "2021-09-09T19:14:53.215Z"
   },
   {
    "duration": 9189,
    "start_time": "2021-09-09T19:14:53.905Z"
   },
   {
    "duration": 809,
    "start_time": "2021-09-09T19:15:03.097Z"
   },
   {
    "duration": 113,
    "start_time": "2021-09-09T19:16:05.473Z"
   },
   {
    "duration": 318,
    "start_time": "2021-09-09T19:16:06.095Z"
   },
   {
    "duration": 3,
    "start_time": "2021-09-09T19:16:06.817Z"
   },
   {
    "duration": 5,
    "start_time": "2021-09-09T19:16:07.927Z"
   },
   {
    "duration": 5,
    "start_time": "2021-09-09T19:16:08.135Z"
   },
   {
    "duration": 6,
    "start_time": "2021-09-09T19:16:09.081Z"
   },
   {
    "duration": 7,
    "start_time": "2021-09-09T19:16:09.215Z"
   },
   {
    "duration": 23,
    "start_time": "2021-09-09T19:16:10.520Z"
   },
   {
    "duration": 3,
    "start_time": "2021-09-09T19:16:10.671Z"
   },
   {
    "duration": 5,
    "start_time": "2021-09-09T19:16:10.855Z"
   },
   {
    "duration": 872,
    "start_time": "2021-09-09T19:16:13.310Z"
   },
   {
    "duration": 11627,
    "start_time": "2021-09-09T19:16:23.455Z"
   },
   {
    "duration": 4,
    "start_time": "2021-09-09T19:16:35.085Z"
   },
   {
    "duration": 269,
    "start_time": "2021-09-09T19:16:40.928Z"
   },
   {
    "duration": 72,
    "start_time": "2021-09-09T19:17:36.713Z"
   },
   {
    "duration": 271,
    "start_time": "2021-09-09T19:17:41.065Z"
   },
   {
    "duration": 626,
    "start_time": "2021-09-09T19:17:56.977Z"
   },
   {
    "duration": 16403,
    "start_time": "2021-09-09T19:18:08.688Z"
   },
   {
    "duration": 306,
    "start_time": "2021-09-09T19:18:29.057Z"
   },
   {
    "duration": 252,
    "start_time": "2021-09-09T19:19:07.918Z"
   },
   {
    "duration": 272,
    "start_time": "2021-09-09T19:19:40.067Z"
   },
   {
    "duration": 246,
    "start_time": "2021-09-09T19:20:23.499Z"
   },
   {
    "duration": 499,
    "start_time": "2021-09-09T19:21:33.370Z"
   },
   {
    "duration": 280,
    "start_time": "2021-09-09T19:21:49.090Z"
   },
   {
    "duration": 389,
    "start_time": "2021-09-09T19:22:18.801Z"
   },
   {
    "duration": 6308,
    "start_time": "2021-09-09T19:22:46.587Z"
   },
   {
    "duration": 306,
    "start_time": "2021-09-09T19:23:02.708Z"
   },
   {
    "duration": 288,
    "start_time": "2021-09-09T19:24:51.828Z"
   },
   {
    "duration": 272,
    "start_time": "2021-09-09T19:25:05.093Z"
   },
   {
    "duration": 122,
    "start_time": "2021-09-09T19:25:11.412Z"
   },
   {
    "duration": 167,
    "start_time": "2021-09-09T19:25:41.660Z"
   },
   {
    "duration": 112,
    "start_time": "2021-09-09T19:25:58.054Z"
   },
   {
    "duration": 114,
    "start_time": "2021-09-09T19:26:36.548Z"
   },
   {
    "duration": 1688,
    "start_time": "2021-09-09T19:31:52.190Z"
   },
   {
    "duration": 2828,
    "start_time": "2021-09-09T19:32:23.624Z"
   },
   {
    "duration": 1567,
    "start_time": "2021-09-09T19:32:43.824Z"
   },
   {
    "duration": 135,
    "start_time": "2021-09-09T19:32:57.072Z"
   },
   {
    "duration": 138,
    "start_time": "2021-09-09T19:33:19.592Z"
   },
   {
    "duration": 127,
    "start_time": "2021-09-09T19:33:26.057Z"
   },
   {
    "duration": 124,
    "start_time": "2021-09-09T19:33:29.416Z"
   },
   {
    "duration": 141,
    "start_time": "2021-09-09T19:33:37.716Z"
   },
   {
    "duration": 1748,
    "start_time": "2021-09-09T19:33:58.377Z"
   },
   {
    "duration": 144,
    "start_time": "2021-09-09T19:34:01.175Z"
   },
   {
    "duration": 139,
    "start_time": "2021-09-09T19:35:43.476Z"
   },
   {
    "duration": 138,
    "start_time": "2021-09-09T19:35:51.446Z"
   },
   {
    "duration": 2288,
    "start_time": "2021-09-09T19:35:56.123Z"
   },
   {
    "duration": 143,
    "start_time": "2021-09-09T19:35:59.379Z"
   },
   {
    "duration": 251,
    "start_time": "2021-09-09T19:36:25.246Z"
   },
   {
    "duration": 238,
    "start_time": "2021-09-09T19:38:20.603Z"
   },
   {
    "duration": 249,
    "start_time": "2021-09-09T19:38:29.570Z"
   },
   {
    "duration": 1957,
    "start_time": "2021-09-09T19:38:47.251Z"
   },
   {
    "duration": 1722,
    "start_time": "2021-09-09T19:39:07.828Z"
   },
   {
    "duration": 594,
    "start_time": "2021-09-09T19:42:32.777Z"
   },
   {
    "duration": 542,
    "start_time": "2021-09-09T19:42:36.440Z"
   },
   {
    "duration": 419,
    "start_time": "2021-09-09T19:43:32.228Z"
   },
   {
    "duration": 477,
    "start_time": "2021-09-09T19:43:36.117Z"
   },
   {
    "duration": 441,
    "start_time": "2021-09-09T19:43:44.887Z"
   },
   {
    "duration": 296,
    "start_time": "2021-09-09T19:44:03.046Z"
   },
   {
    "duration": 352,
    "start_time": "2021-09-09T19:44:50.742Z"
   },
   {
    "duration": 277,
    "start_time": "2021-09-09T19:44:55.205Z"
   },
   {
    "duration": 554,
    "start_time": "2021-09-09T19:45:04.329Z"
   },
   {
    "duration": 754,
    "start_time": "2021-09-09T19:46:02.167Z"
   },
   {
    "duration": 7,
    "start_time": "2021-09-09T19:46:26.055Z"
   },
   {
    "duration": 496,
    "start_time": "2021-09-09T19:46:40.231Z"
   },
   {
    "duration": 574,
    "start_time": "2021-09-09T19:47:10.698Z"
   },
   {
    "duration": 510,
    "start_time": "2021-09-09T19:47:33.375Z"
   },
   {
    "duration": 546,
    "start_time": "2021-09-09T19:47:41.288Z"
   },
   {
    "duration": 557,
    "start_time": "2021-09-09T19:47:54.328Z"
   },
   {
    "duration": 277,
    "start_time": "2021-09-09T19:47:59.119Z"
   },
   {
    "duration": 299,
    "start_time": "2021-09-09T19:49:10.048Z"
   },
   {
    "duration": 274,
    "start_time": "2021-09-09T19:49:19.080Z"
   },
   {
    "duration": 783,
    "start_time": "2021-09-09T19:49:43.624Z"
   },
   {
    "duration": 598,
    "start_time": "2021-09-09T19:50:25.667Z"
   },
   {
    "duration": 82,
    "start_time": "2021-09-09T19:50:30.088Z"
   },
   {
    "duration": 521,
    "start_time": "2021-09-09T19:50:33.299Z"
   },
   {
    "duration": 792,
    "start_time": "2021-09-09T19:50:51.712Z"
   },
   {
    "duration": 511,
    "start_time": "2021-09-09T19:51:07.760Z"
   },
   {
    "duration": 933,
    "start_time": "2021-09-09T19:51:23.982Z"
   },
   {
    "duration": 1342,
    "start_time": "2021-09-09T19:51:48.082Z"
   },
   {
    "duration": 820,
    "start_time": "2021-09-09T19:52:11.441Z"
   },
   {
    "duration": 1432,
    "start_time": "2021-09-09T19:52:25.259Z"
   },
   {
    "duration": 480,
    "start_time": "2021-09-09T19:52:46.006Z"
   },
   {
    "duration": 630,
    "start_time": "2021-09-09T19:52:53.992Z"
   },
   {
    "duration": 643,
    "start_time": "2021-09-09T19:53:21.035Z"
   },
   {
    "duration": 490,
    "start_time": "2021-09-09T19:54:32.483Z"
   },
   {
    "duration": 443,
    "start_time": "2021-09-09T19:54:44.595Z"
   },
   {
    "duration": 483,
    "start_time": "2021-09-09T19:55:02.532Z"
   },
   {
    "duration": 704,
    "start_time": "2021-09-09T19:55:16.659Z"
   },
   {
    "duration": 682,
    "start_time": "2021-09-09T19:55:45.435Z"
   },
   {
    "duration": 242,
    "start_time": "2021-09-09T19:56:11.459Z"
   },
   {
    "duration": 241,
    "start_time": "2021-09-09T20:00:03.253Z"
   },
   {
    "duration": 287,
    "start_time": "2021-09-09T20:00:27.573Z"
   },
   {
    "duration": 159,
    "start_time": "2021-09-09T20:01:05.949Z"
   },
   {
    "duration": 124423,
    "start_time": "2021-09-09T20:01:11.685Z"
   },
   {
    "duration": 245,
    "start_time": "2021-09-09T20:03:45.798Z"
   },
   {
    "duration": 8,
    "start_time": "2021-09-09T20:04:49.808Z"
   },
   {
    "duration": 337,
    "start_time": "2021-09-09T20:05:05.352Z"
   },
   {
    "duration": 4,
    "start_time": "2021-09-09T20:05:06.815Z"
   },
   {
    "duration": 5,
    "start_time": "2021-09-09T20:05:07.502Z"
   },
   {
    "duration": 4,
    "start_time": "2021-09-09T20:05:07.671Z"
   },
   {
    "duration": 7,
    "start_time": "2021-09-09T20:05:07.838Z"
   },
   {
    "duration": 7,
    "start_time": "2021-09-09T20:05:08.006Z"
   },
   {
    "duration": 28,
    "start_time": "2021-09-09T20:05:08.373Z"
   },
   {
    "duration": 3,
    "start_time": "2021-09-09T20:05:08.551Z"
   },
   {
    "duration": 6,
    "start_time": "2021-09-09T20:05:08.718Z"
   },
   {
    "duration": 577,
    "start_time": "2021-09-09T20:05:09.976Z"
   },
   {
    "duration": 1040,
    "start_time": "2021-09-09T20:07:14.408Z"
   },
   {
    "duration": 327,
    "start_time": "2021-09-09T20:08:34.024Z"
   },
   {
    "duration": 703,
    "start_time": "2021-09-09T20:10:58.185Z"
   },
   {
    "duration": 530,
    "start_time": "2021-09-09T20:17:03.317Z"
   },
   {
    "duration": 3,
    "start_time": "2021-09-09T20:17:06.840Z"
   },
   {
    "duration": 1655,
    "start_time": "2021-09-09T20:23:03.098Z"
   },
   {
    "duration": 1853,
    "start_time": "2021-09-09T20:23:04.755Z"
   },
   {
    "duration": 354,
    "start_time": "2021-09-09T20:23:06.611Z"
   },
   {
    "duration": 3,
    "start_time": "2021-09-09T20:23:06.968Z"
   },
   {
    "duration": 121,
    "start_time": "2021-09-09T20:23:06.982Z"
   },
   {
    "duration": 352,
    "start_time": "2021-09-09T20:23:07.106Z"
   },
   {
    "duration": 5,
    "start_time": "2021-09-09T20:23:07.460Z"
   },
   {
    "duration": 7,
    "start_time": "2021-09-09T20:23:07.482Z"
   },
   {
    "duration": 10,
    "start_time": "2021-09-09T20:23:07.492Z"
   },
   {
    "duration": 10,
    "start_time": "2021-09-09T20:23:07.505Z"
   },
   {
    "duration": 12,
    "start_time": "2021-09-09T20:23:07.518Z"
   },
   {
    "duration": 20,
    "start_time": "2021-09-09T20:23:08.647Z"
   },
   {
    "duration": 3,
    "start_time": "2021-09-09T20:23:08.865Z"
   },
   {
    "duration": 405,
    "start_time": "2021-09-09T20:23:13.472Z"
   },
   {
    "duration": 853,
    "start_time": "2021-09-09T20:23:25.431Z"
   },
   {
    "duration": 1215,
    "start_time": "2021-09-09T20:23:27.695Z"
   },
   {
    "duration": 175,
    "start_time": "2021-09-09T20:23:28.913Z"
   },
   {
    "duration": 381,
    "start_time": "2021-09-09T20:23:38.265Z"
   },
   {
    "duration": 118441,
    "start_time": "2021-09-09T20:25:08.503Z"
   },
   {
    "duration": 119367,
    "start_time": "2021-09-09T20:33:48.452Z"
   },
   {
    "duration": 247,
    "start_time": "2021-09-09T20:40:54.370Z"
   },
   {
    "duration": 218,
    "start_time": "2021-09-09T20:41:43.417Z"
   },
   {
    "duration": 292,
    "start_time": "2021-09-09T20:42:27.361Z"
   },
   {
    "duration": 278,
    "start_time": "2021-09-09T20:44:05.857Z"
   },
   {
    "duration": 260,
    "start_time": "2021-09-09T20:44:13.426Z"
   },
   {
    "duration": 1207,
    "start_time": "2021-09-10T07:23:40.298Z"
   },
   {
    "duration": 1473,
    "start_time": "2021-09-10T07:23:41.507Z"
   },
   {
    "duration": 262,
    "start_time": "2021-09-10T07:23:42.982Z"
   },
   {
    "duration": 3,
    "start_time": "2021-09-10T07:23:43.245Z"
   },
   {
    "duration": 104,
    "start_time": "2021-09-10T07:23:43.249Z"
   },
   {
    "duration": 274,
    "start_time": "2021-09-10T07:23:53.326Z"
   },
   {
    "duration": 2,
    "start_time": "2021-09-10T07:23:54.863Z"
   },
   {
    "duration": 4,
    "start_time": "2021-09-10T07:23:56.430Z"
   },
   {
    "duration": 4,
    "start_time": "2021-09-10T07:23:57.647Z"
   },
   {
    "duration": 4,
    "start_time": "2021-09-10T07:23:58.385Z"
   },
   {
    "duration": 5,
    "start_time": "2021-09-10T07:23:58.607Z"
   },
   {
    "duration": 12,
    "start_time": "2021-09-10T07:23:59.355Z"
   },
   {
    "duration": 3,
    "start_time": "2021-09-10T07:23:59.871Z"
   },
   {
    "duration": 5,
    "start_time": "2021-09-10T07:24:00.367Z"
   },
   {
    "duration": 691,
    "start_time": "2021-09-10T07:24:00.550Z"
   },
   {
    "duration": 3,
    "start_time": "2021-09-10T07:24:02.823Z"
   },
   {
    "duration": 2,
    "start_time": "2021-09-10T07:24:03.023Z"
   },
   {
    "duration": 1072,
    "start_time": "2021-09-10T07:24:03.879Z"
   },
   {
    "duration": 91,
    "start_time": "2021-09-10T07:24:04.954Z"
   },
   {
    "duration": 2,
    "start_time": "2021-09-10T07:24:11.520Z"
   },
   {
    "duration": 5,
    "start_time": "2021-09-10T07:24:12.071Z"
   },
   {
    "duration": 5,
    "start_time": "2021-09-10T07:25:49.687Z"
   },
   {
    "duration": 3,
    "start_time": "2021-09-10T07:25:50.847Z"
   },
   {
    "duration": 325460,
    "start_time": "2021-09-10T07:25:52.894Z"
   },
   {
    "duration": 4,
    "start_time": "2021-09-10T07:31:42.759Z"
   },
   {
    "duration": 3,
    "start_time": "2021-09-10T07:31:43.280Z"
   },
   {
    "duration": 820,
    "start_time": "2021-09-10T07:31:43.615Z"
   },
   {
    "duration": 4,
    "start_time": "2021-09-10T07:33:48.265Z"
   },
   {
    "duration": 6,
    "start_time": "2021-09-10T07:34:53.606Z"
   },
   {
    "duration": 1826,
    "start_time": "2021-09-10T07:34:57.543Z"
   },
   {
    "duration": 1329,
    "start_time": "2021-09-10T19:48:45.621Z"
   },
   {
    "duration": 1802,
    "start_time": "2021-09-10T19:48:46.952Z"
   },
   {
    "duration": 353,
    "start_time": "2021-09-10T19:48:48.757Z"
   },
   {
    "duration": 3,
    "start_time": "2021-09-10T19:48:49.112Z"
   },
   {
    "duration": 119,
    "start_time": "2021-09-10T19:48:49.118Z"
   },
   {
    "duration": 349,
    "start_time": "2021-09-10T19:48:49.239Z"
   },
   {
    "duration": 3,
    "start_time": "2021-09-10T19:48:49.591Z"
   },
   {
    "duration": 7,
    "start_time": "2021-09-10T19:48:49.597Z"
   },
   {
    "duration": 8,
    "start_time": "2021-09-10T19:48:49.608Z"
   },
   {
    "duration": 7,
    "start_time": "2021-09-10T19:48:49.619Z"
   },
   {
    "duration": 54,
    "start_time": "2021-09-10T19:48:49.628Z"
   },
   {
    "duration": 19,
    "start_time": "2021-09-10T19:48:49.685Z"
   },
   {
    "duration": 3,
    "start_time": "2021-09-10T19:48:49.706Z"
   },
   {
    "duration": 6,
    "start_time": "2021-09-10T19:48:49.712Z"
   },
   {
    "duration": 867,
    "start_time": "2021-09-10T19:48:49.721Z"
   },
   {
    "duration": 4,
    "start_time": "2021-09-10T19:48:50.592Z"
   },
   {
    "duration": 84,
    "start_time": "2021-09-10T19:48:50.598Z"
   },
   {
    "duration": 1341,
    "start_time": "2021-09-10T19:48:50.685Z"
   },
   {
    "duration": 69,
    "start_time": "2021-09-10T19:48:52.029Z"
   },
   {
    "duration": 4,
    "start_time": "2021-09-10T19:48:52.184Z"
   },
   {
    "duration": 115,
    "start_time": "2021-09-10T19:48:52.191Z"
   },
   {
    "duration": 17,
    "start_time": "2021-09-10T19:48:52.308Z"
   },
   {
    "duration": 127955,
    "start_time": "2021-09-10T19:48:52.327Z"
   },
   {
    "duration": 3,
    "start_time": "2021-09-10T19:51:00.285Z"
   },
   {
    "duration": 26,
    "start_time": "2021-09-10T19:51:00.289Z"
   },
   {
    "duration": 18,
    "start_time": "2021-09-10T19:51:00.317Z"
   },
   {
    "duration": 459575,
    "start_time": "2021-09-10T19:51:00.339Z"
   },
   {
    "duration": 5,
    "start_time": "2021-09-10T19:58:39.917Z"
   },
   {
    "duration": 61,
    "start_time": "2021-09-10T19:58:39.925Z"
   },
   {
    "duration": 9,
    "start_time": "2021-09-10T19:58:39.989Z"
   },
   {
    "duration": 13,
    "start_time": "2021-09-10T19:58:40.000Z"
   },
   {
    "duration": 631,
    "start_time": "2021-09-10T19:58:40.015Z"
   },
   {
    "duration": 249,
    "start_time": "2021-09-10T19:58:40.401Z"
   },
   {
    "duration": 245,
    "start_time": "2021-09-10T19:58:40.407Z"
   },
   {
    "duration": 242,
    "start_time": "2021-09-10T19:58:40.412Z"
   },
   {
    "duration": 235,
    "start_time": "2021-09-10T19:58:40.422Z"
   },
   {
    "duration": 228,
    "start_time": "2021-09-10T19:58:40.431Z"
   },
   {
    "duration": 5,
    "start_time": "2021-09-10T20:00:11.746Z"
   },
   {
    "duration": 276,
    "start_time": "2021-09-10T20:00:18.290Z"
   },
   {
    "duration": 1437,
    "start_time": "2021-09-10T20:01:09.427Z"
   },
   {
    "duration": 874,
    "start_time": "2021-09-10T20:03:06.491Z"
   },
   {
    "duration": 874,
    "start_time": "2021-09-10T20:03:18.692Z"
   },
   {
    "duration": 1508,
    "start_time": "2021-09-10T20:06:21.160Z"
   },
   {
    "duration": 1798,
    "start_time": "2021-09-10T20:06:22.671Z"
   },
   {
    "duration": 354,
    "start_time": "2021-09-10T20:06:24.473Z"
   },
   {
    "duration": 3,
    "start_time": "2021-09-10T20:06:24.830Z"
   },
   {
    "duration": 125,
    "start_time": "2021-09-10T20:06:24.836Z"
   },
   {
    "duration": 352,
    "start_time": "2021-09-10T20:06:24.964Z"
   },
   {
    "duration": 4,
    "start_time": "2021-09-10T20:06:25.319Z"
   },
   {
    "duration": 15,
    "start_time": "2021-09-10T20:06:25.327Z"
   },
   {
    "duration": 14,
    "start_time": "2021-09-10T20:06:25.345Z"
   },
   {
    "duration": 22,
    "start_time": "2021-09-10T20:06:25.362Z"
   },
   {
    "duration": 9,
    "start_time": "2021-09-10T20:06:25.386Z"
   },
   {
    "duration": 32,
    "start_time": "2021-09-10T20:06:25.397Z"
   },
   {
    "duration": 3,
    "start_time": "2021-09-10T20:06:25.431Z"
   },
   {
    "duration": 14,
    "start_time": "2021-09-10T20:06:25.436Z"
   },
   {
    "duration": 872,
    "start_time": "2021-09-10T20:06:25.452Z"
   },
   {
    "duration": 167,
    "start_time": "2021-09-10T20:06:26.326Z"
   },
   {
    "duration": 4,
    "start_time": "2021-09-10T20:06:26.584Z"
   },
   {
    "duration": 95,
    "start_time": "2021-09-10T20:06:26.592Z"
   },
   {
    "duration": 504,
    "start_time": "2021-09-10T20:06:26.690Z"
   },
   {
    "duration": 263,
    "start_time": "2021-09-10T20:06:26.935Z"
   },
   {
    "duration": 256,
    "start_time": "2021-09-10T20:06:26.943Z"
   },
   {
    "duration": 255,
    "start_time": "2021-09-10T20:06:26.945Z"
   },
   {
    "duration": 254,
    "start_time": "2021-09-10T20:06:26.948Z"
   },
   {
    "duration": 254,
    "start_time": "2021-09-10T20:06:26.950Z"
   },
   {
    "duration": 245,
    "start_time": "2021-09-10T20:06:26.961Z"
   },
   {
    "duration": 239,
    "start_time": "2021-09-10T20:06:26.968Z"
   },
   {
    "duration": 238,
    "start_time": "2021-09-10T20:06:26.971Z"
   },
   {
    "duration": 237,
    "start_time": "2021-09-10T20:06:26.973Z"
   },
   {
    "duration": 236,
    "start_time": "2021-09-10T20:06:26.975Z"
   },
   {
    "duration": 236,
    "start_time": "2021-09-10T20:06:26.977Z"
   },
   {
    "duration": 235,
    "start_time": "2021-09-10T20:06:26.979Z"
   },
   {
    "duration": 235,
    "start_time": "2021-09-10T20:06:26.981Z"
   },
   {
    "duration": 234,
    "start_time": "2021-09-10T20:06:26.983Z"
   },
   {
    "duration": 229,
    "start_time": "2021-09-10T20:06:26.990Z"
   },
   {
    "duration": 219,
    "start_time": "2021-09-10T20:06:27.001Z"
   },
   {
    "duration": 217,
    "start_time": "2021-09-10T20:06:27.004Z"
   },
   {
    "duration": 211,
    "start_time": "2021-09-10T20:06:27.012Z"
   },
   {
    "duration": 5,
    "start_time": "2021-09-10T20:55:55.193Z"
   },
   {
    "duration": 1688,
    "start_time": "2021-09-10T20:55:55.201Z"
   },
   {
    "duration": 344,
    "start_time": "2021-09-10T20:55:56.892Z"
   },
   {
    "duration": 3,
    "start_time": "2021-09-10T20:55:57.239Z"
   },
   {
    "duration": 129,
    "start_time": "2021-09-10T20:55:57.245Z"
   },
   {
    "duration": 326,
    "start_time": "2021-09-10T20:55:57.377Z"
   },
   {
    "duration": 3,
    "start_time": "2021-09-10T20:55:57.706Z"
   },
   {
    "duration": 11,
    "start_time": "2021-09-10T20:55:57.713Z"
   },
   {
    "duration": 8,
    "start_time": "2021-09-10T20:55:57.727Z"
   },
   {
    "duration": 13,
    "start_time": "2021-09-10T20:55:57.737Z"
   },
   {
    "duration": 31,
    "start_time": "2021-09-10T20:55:57.752Z"
   },
   {
    "duration": 28,
    "start_time": "2021-09-10T20:55:57.785Z"
   },
   {
    "duration": 3,
    "start_time": "2021-09-10T20:55:57.816Z"
   },
   {
    "duration": 7,
    "start_time": "2021-09-10T20:55:57.821Z"
   },
   {
    "duration": 907,
    "start_time": "2021-09-10T20:55:57.831Z"
   },
   {
    "duration": 242,
    "start_time": "2021-09-10T20:55:58.741Z"
   },
   {
    "duration": 3,
    "start_time": "2021-09-10T20:55:58.986Z"
   },
   {
    "duration": 11,
    "start_time": "2021-09-10T20:55:58.992Z"
   },
   {
    "duration": 368,
    "start_time": "2021-09-10T20:55:59.006Z"
   },
   {
    "duration": 275,
    "start_time": "2021-09-10T20:55:59.103Z"
   },
   {
    "duration": 273,
    "start_time": "2021-09-10T20:55:59.107Z"
   },
   {
    "duration": 271,
    "start_time": "2021-09-10T20:55:59.111Z"
   },
   {
    "duration": 271,
    "start_time": "2021-09-10T20:55:59.113Z"
   },
   {
    "duration": 267,
    "start_time": "2021-09-10T20:55:59.120Z"
   },
   {
    "duration": 264,
    "start_time": "2021-09-10T20:55:59.124Z"
   },
   {
    "duration": 264,
    "start_time": "2021-09-10T20:55:59.125Z"
   },
   {
    "duration": 247,
    "start_time": "2021-09-10T20:55:59.144Z"
   },
   {
    "duration": 241,
    "start_time": "2021-09-10T20:55:59.151Z"
   },
   {
    "duration": 240,
    "start_time": "2021-09-10T20:55:59.154Z"
   },
   {
    "duration": 239,
    "start_time": "2021-09-10T20:55:59.156Z"
   },
   {
    "duration": 239,
    "start_time": "2021-09-10T20:55:59.158Z"
   },
   {
    "duration": 238,
    "start_time": "2021-09-10T20:55:59.160Z"
   },
   {
    "duration": 238,
    "start_time": "2021-09-10T20:55:59.162Z"
   },
   {
    "duration": 237,
    "start_time": "2021-09-10T20:55:59.164Z"
   },
   {
    "duration": 236,
    "start_time": "2021-09-10T20:55:59.166Z"
   },
   {
    "duration": 235,
    "start_time": "2021-09-10T20:55:59.168Z"
   },
   {
    "duration": 235,
    "start_time": "2021-09-10T20:55:59.170Z"
   },
   {
    "duration": 998,
    "start_time": "2021-09-10T20:56:46.364Z"
   },
   {
    "duration": 149,
    "start_time": "2021-09-10T20:57:21.539Z"
   },
   {
    "duration": 4,
    "start_time": "2021-09-10T20:57:35.818Z"
   },
   {
    "duration": 7,
    "start_time": "2021-09-10T20:57:36.173Z"
   },
   {
    "duration": 3,
    "start_time": "2021-09-10T20:57:36.323Z"
   },
   {
    "duration": 253,
    "start_time": "2021-09-10T20:57:36.505Z"
   },
   {
    "duration": 3,
    "start_time": "2021-09-10T20:57:36.865Z"
   },
   {
    "duration": 6,
    "start_time": "2021-09-10T20:57:37.034Z"
   },
   {
    "duration": 4,
    "start_time": "2021-09-10T20:57:37.233Z"
   },
   {
    "duration": 237,
    "start_time": "2021-09-10T20:57:37.409Z"
   },
   {
    "duration": 291,
    "start_time": "2021-09-10T20:57:37.359Z"
   },
   {
    "duration": 283,
    "start_time": "2021-09-10T20:57:46.699Z"
   },
   {
    "duration": 1053,
    "start_time": "2021-09-10T20:58:00.340Z"
   },
   {
    "duration": 118,
    "start_time": "2021-09-10T20:59:22.972Z"
   },
   {
    "duration": 3,
    "start_time": "2021-09-10T20:59:24.314Z"
   },
   {
    "duration": 573728,
    "start_time": "2021-09-10T20:59:24.523Z"
   },
   {
    "duration": 99,
    "start_time": "2021-09-10T21:08:58.253Z"
   },
   {
    "duration": 297,
    "start_time": "2021-09-10T21:08:58.057Z"
   },
   {
    "duration": 296,
    "start_time": "2021-09-10T21:08:58.060Z"
   },
   {
    "duration": 294,
    "start_time": "2021-09-10T21:08:58.063Z"
   },
   {
    "duration": 292,
    "start_time": "2021-09-10T21:08:58.067Z"
   },
   {
    "duration": 290,
    "start_time": "2021-09-10T21:08:58.070Z"
   },
   {
    "duration": 290,
    "start_time": "2021-09-10T21:08:58.072Z"
   },
   {
    "duration": 288,
    "start_time": "2021-09-10T21:08:58.075Z"
   },
   {
    "duration": 111482,
    "start_time": "2021-09-10T21:13:03.154Z"
   },
   {
    "duration": 835,
    "start_time": "2021-09-10T21:20:45.309Z"
   },
   {
    "duration": 163,
    "start_time": "2021-09-10T21:20:49.422Z"
   },
   {
    "duration": 269,
    "start_time": "2021-09-10T21:23:35.399Z"
   },
   {
    "duration": 5,
    "start_time": "2021-09-10T21:23:51.151Z"
   },
   {
    "duration": 3,
    "start_time": "2021-09-10T21:23:52.174Z"
   },
   {
    "duration": 235,
    "start_time": "2021-09-10T21:23:53.193Z"
   },
   {
    "duration": 78,
    "start_time": "2021-09-10T21:26:24.936Z"
   },
   {
    "duration": 6,
    "start_time": "2021-09-10T21:26:33.017Z"
   },
   {
    "duration": 3,
    "start_time": "2021-09-10T21:26:33.871Z"
   },
   {
    "duration": 256,
    "start_time": "2021-09-10T21:26:34.456Z"
   },
   {
    "duration": 574770,
    "start_time": "2021-09-10T21:26:52.529Z"
   },
   {
    "duration": 631,
    "start_time": "2021-09-10T21:37:32.517Z"
   },
   {
    "duration": 905,
    "start_time": "2021-09-10T21:37:38.662Z"
   },
   {
    "duration": 112226,
    "start_time": "2021-09-10T21:38:22.818Z"
   },
   {
    "duration": 302,
    "start_time": "2021-09-10T21:40:14.745Z"
   },
   {
    "duration": 678,
    "start_time": "2021-09-10T21:40:56.341Z"
   },
   {
    "duration": 6,
    "start_time": "2021-09-10T21:40:58.990Z"
   },
   {
    "duration": 3,
    "start_time": "2021-09-10T21:40:59.198Z"
   },
   {
    "duration": 775,
    "start_time": "2021-09-10T21:40:59.747Z"
   },
   {
    "duration": 6,
    "start_time": "2021-09-10T21:41:11.513Z"
   },
   {
    "duration": 1841,
    "start_time": "2021-09-10T21:41:11.521Z"
   },
   {
    "duration": 379,
    "start_time": "2021-09-10T21:41:13.366Z"
   },
   {
    "duration": 4,
    "start_time": "2021-09-10T21:41:13.748Z"
   },
   {
    "duration": 140,
    "start_time": "2021-09-10T21:41:13.756Z"
   },
   {
    "duration": 340,
    "start_time": "2021-09-10T21:41:13.899Z"
   },
   {
    "duration": 4,
    "start_time": "2021-09-10T21:41:14.241Z"
   },
   {
    "duration": 7,
    "start_time": "2021-09-10T21:41:14.252Z"
   },
   {
    "duration": 6,
    "start_time": "2021-09-10T21:41:14.283Z"
   },
   {
    "duration": 8,
    "start_time": "2021-09-10T21:41:14.292Z"
   },
   {
    "duration": 11,
    "start_time": "2021-09-10T21:41:14.303Z"
   },
   {
    "duration": 75,
    "start_time": "2021-09-10T21:41:14.317Z"
   },
   {
    "duration": 8,
    "start_time": "2021-09-10T21:41:14.395Z"
   },
   {
    "duration": 887,
    "start_time": "2021-09-10T21:41:14.406Z"
   },
   {
    "duration": 188,
    "start_time": "2021-09-10T21:41:15.296Z"
   },
   {
    "duration": 3,
    "start_time": "2021-09-10T21:41:15.487Z"
   },
   {
    "duration": 6,
    "start_time": "2021-09-10T21:41:15.493Z"
   },
   {
    "duration": 1050,
    "start_time": "2021-09-10T21:41:15.502Z"
   },
   {
    "duration": 135,
    "start_time": "2021-09-10T21:41:16.554Z"
   },
   {
    "duration": 91,
    "start_time": "2021-09-10T21:41:16.692Z"
   },
   {
    "duration": 13,
    "start_time": "2021-09-10T21:41:16.787Z"
   },
   {
    "duration": 6,
    "start_time": "2021-09-10T21:41:16.803Z"
   },
   {
    "duration": 111896,
    "start_time": "2021-09-10T21:41:16.886Z"
   },
   {
    "duration": 3,
    "start_time": "2021-09-10T21:43:08.784Z"
   },
   {
    "duration": 144,
    "start_time": "2021-09-10T21:43:08.789Z"
   },
   {
    "duration": 3,
    "start_time": "2021-09-10T21:43:08.936Z"
   },
   {
    "duration": 1444,
    "start_time": "2021-09-10T21:44:43.424Z"
   },
   {
    "duration": 1922,
    "start_time": "2021-09-10T21:44:44.871Z"
   },
   {
    "duration": 373,
    "start_time": "2021-09-10T21:44:46.796Z"
   },
   {
    "duration": 13,
    "start_time": "2021-09-10T21:44:47.172Z"
   },
   {
    "duration": 138,
    "start_time": "2021-09-10T21:44:47.187Z"
   },
   {
    "duration": 379,
    "start_time": "2021-09-10T21:44:47.327Z"
   },
   {
    "duration": 5,
    "start_time": "2021-09-10T21:44:47.709Z"
   },
   {
    "duration": 11,
    "start_time": "2021-09-10T21:44:47.718Z"
   },
   {
    "duration": 28,
    "start_time": "2021-09-10T21:44:47.733Z"
   },
   {
    "duration": 19,
    "start_time": "2021-09-10T21:44:47.764Z"
   },
   {
    "duration": 15,
    "start_time": "2021-09-10T21:44:47.785Z"
   },
   {
    "duration": 38,
    "start_time": "2021-09-10T21:44:47.803Z"
   },
   {
    "duration": 7,
    "start_time": "2021-09-10T21:44:47.843Z"
   },
   {
    "duration": 905,
    "start_time": "2021-09-10T21:44:47.852Z"
   },
   {
    "duration": 225,
    "start_time": "2021-09-10T21:44:48.759Z"
   },
   {
    "duration": 3,
    "start_time": "2021-09-10T21:44:48.987Z"
   },
   {
    "duration": 27,
    "start_time": "2021-09-10T21:44:48.993Z"
   },
   {
    "duration": 1049,
    "start_time": "2021-09-10T21:44:49.084Z"
   },
   {
    "duration": 155,
    "start_time": "2021-09-10T21:44:50.136Z"
   },
   {
    "duration": 90,
    "start_time": "2021-09-10T21:44:50.294Z"
   },
   {
    "duration": 7,
    "start_time": "2021-09-10T21:44:50.387Z"
   },
   {
    "duration": 12,
    "start_time": "2021-09-10T21:44:50.397Z"
   },
   {
    "duration": 1460,
    "start_time": "2021-09-10T21:45:37.102Z"
   },
   {
    "duration": 1852,
    "start_time": "2021-09-10T21:45:38.565Z"
   },
   {
    "duration": 365,
    "start_time": "2021-09-10T21:45:40.419Z"
   },
   {
    "duration": 295,
    "start_time": "2021-09-10T21:45:50.855Z"
   },
   {
    "duration": 268,
    "start_time": "2021-09-10T21:45:56.351Z"
   },
   {
    "duration": 286,
    "start_time": "2021-09-10T21:46:01.504Z"
   },
   {
    "duration": 251,
    "start_time": "2021-09-10T21:46:04.895Z"
   },
   {
    "duration": 1430,
    "start_time": "2021-09-10T21:46:14.731Z"
   },
   {
    "duration": 1921,
    "start_time": "2021-09-10T21:46:16.163Z"
   },
   {
    "duration": 432,
    "start_time": "2021-09-10T21:46:18.088Z"
   },
   {
    "duration": 3,
    "start_time": "2021-09-10T21:46:18.523Z"
   },
   {
    "duration": 161,
    "start_time": "2021-09-10T21:46:18.528Z"
   },
   {
    "duration": 1403,
    "start_time": "2021-09-10T21:47:02.905Z"
   },
   {
    "duration": 1811,
    "start_time": "2021-09-10T21:47:04.310Z"
   },
   {
    "duration": 342,
    "start_time": "2021-09-10T21:47:06.124Z"
   },
   {
    "duration": 3,
    "start_time": "2021-09-10T21:47:06.469Z"
   },
   {
    "duration": 102,
    "start_time": "2021-09-10T21:47:14.100Z"
   },
   {
    "duration": 336,
    "start_time": "2021-09-10T21:47:14.585Z"
   },
   {
    "duration": 3,
    "start_time": "2021-09-10T21:47:15.491Z"
   },
   {
    "duration": 5,
    "start_time": "2021-09-10T21:47:15.614Z"
   },
   {
    "duration": 4,
    "start_time": "2021-09-10T21:47:15.648Z"
   },
   {
    "duration": 5,
    "start_time": "2021-09-10T21:47:16.905Z"
   },
   {
    "duration": 6,
    "start_time": "2021-09-10T21:47:17.060Z"
   },
   {
    "duration": 20,
    "start_time": "2021-09-10T21:47:17.464Z"
   },
   {
    "duration": 6,
    "start_time": "2021-09-10T21:47:18.645Z"
   },
   {
    "duration": 1446,
    "start_time": "2021-09-10T21:47:18.768Z"
   },
   {
    "duration": 270,
    "start_time": "2021-09-10T21:47:19.947Z"
   },
   {
    "duration": 1757,
    "start_time": "2021-09-10T21:48:30.546Z"
   },
   {
    "duration": 1878,
    "start_time": "2021-09-10T21:48:32.306Z"
   },
   {
    "duration": 344,
    "start_time": "2021-09-10T21:48:34.186Z"
   },
   {
    "duration": 4,
    "start_time": "2021-09-10T21:48:34.534Z"
   },
   {
    "duration": 125,
    "start_time": "2021-09-10T21:48:34.541Z"
   },
   {
    "duration": 359,
    "start_time": "2021-09-10T21:48:34.669Z"
   },
   {
    "duration": 4,
    "start_time": "2021-09-10T21:48:35.031Z"
   },
   {
    "duration": 9,
    "start_time": "2021-09-10T21:48:35.038Z"
   },
   {
    "duration": 32,
    "start_time": "2021-09-10T21:48:35.052Z"
   },
   {
    "duration": 8,
    "start_time": "2021-09-10T21:48:35.088Z"
   },
   {
    "duration": 7,
    "start_time": "2021-09-10T21:48:35.099Z"
   },
   {
    "duration": 25,
    "start_time": "2021-09-10T21:48:35.109Z"
   },
   {
    "duration": 47,
    "start_time": "2021-09-10T21:48:35.136Z"
   },
   {
    "duration": 1773,
    "start_time": "2021-09-10T21:48:35.186Z"
   },
   {
    "duration": 267,
    "start_time": "2021-09-10T21:48:36.695Z"
   },
   {
    "duration": 254,
    "start_time": "2021-09-10T21:48:36.709Z"
   },
   {
    "duration": 251,
    "start_time": "2021-09-10T21:48:36.714Z"
   },
   {
    "duration": 249,
    "start_time": "2021-09-10T21:48:36.717Z"
   },
   {
    "duration": 247,
    "start_time": "2021-09-10T21:48:36.720Z"
   },
   {
    "duration": 247,
    "start_time": "2021-09-10T21:48:36.722Z"
   },
   {
    "duration": 233,
    "start_time": "2021-09-10T21:48:36.737Z"
   },
   {
    "duration": 232,
    "start_time": "2021-09-10T21:48:36.739Z"
   },
   {
    "duration": 231,
    "start_time": "2021-09-10T21:48:36.742Z"
   },
   {
    "duration": 231,
    "start_time": "2021-09-10T21:48:36.743Z"
   },
   {
    "duration": 217,
    "start_time": "2021-09-10T21:48:36.759Z"
   },
   {
    "duration": 215,
    "start_time": "2021-09-10T21:48:36.762Z"
   },
   {
    "duration": 211,
    "start_time": "2021-09-10T21:48:36.768Z"
   },
   {
    "duration": 210,
    "start_time": "2021-09-10T21:48:36.770Z"
   },
   {
    "duration": 208,
    "start_time": "2021-09-10T21:48:36.773Z"
   },
   {
    "duration": 209,
    "start_time": "2021-09-10T21:48:36.774Z"
   },
   {
    "duration": 205,
    "start_time": "2021-09-10T21:48:36.779Z"
   },
   {
    "duration": 204,
    "start_time": "2021-09-10T21:48:36.781Z"
   },
   {
    "duration": 204,
    "start_time": "2021-09-10T21:48:36.783Z"
   },
   {
    "duration": 203,
    "start_time": "2021-09-10T21:48:36.785Z"
   },
   {
    "duration": 202,
    "start_time": "2021-09-10T21:48:36.787Z"
   },
   {
    "duration": 203,
    "start_time": "2021-09-10T21:48:36.788Z"
   },
   {
    "duration": 1359,
    "start_time": "2021-09-10T21:49:24.095Z"
   },
   {
    "duration": 1820,
    "start_time": "2021-09-10T21:49:25.456Z"
   },
   {
    "duration": 349,
    "start_time": "2021-09-10T21:49:27.284Z"
   },
   {
    "duration": 3,
    "start_time": "2021-09-10T21:49:27.636Z"
   },
   {
    "duration": 134,
    "start_time": "2021-09-10T21:49:27.641Z"
   },
   {
    "duration": 473,
    "start_time": "2021-09-10T21:49:27.779Z"
   },
   {
    "duration": 3,
    "start_time": "2021-09-10T21:49:28.255Z"
   },
   {
    "duration": 22,
    "start_time": "2021-09-10T21:49:28.260Z"
   },
   {
    "duration": 6,
    "start_time": "2021-09-10T21:49:28.288Z"
   },
   {
    "duration": 5,
    "start_time": "2021-09-10T21:49:28.297Z"
   },
   {
    "duration": 6,
    "start_time": "2021-09-10T21:49:28.305Z"
   },
   {
    "duration": 23,
    "start_time": "2021-09-10T21:49:28.313Z"
   },
   {
    "duration": 47,
    "start_time": "2021-09-10T21:49:28.338Z"
   },
   {
    "duration": 1507,
    "start_time": "2021-09-10T21:49:28.387Z"
   },
   {
    "duration": 291,
    "start_time": "2021-09-10T21:49:29.607Z"
   },
   {
    "duration": 289,
    "start_time": "2021-09-10T21:49:29.610Z"
   },
   {
    "duration": 286,
    "start_time": "2021-09-10T21:49:29.615Z"
   },
   {
    "duration": 283,
    "start_time": "2021-09-10T21:49:29.619Z"
   },
   {
    "duration": 280,
    "start_time": "2021-09-10T21:49:29.623Z"
   },
   {
    "duration": 280,
    "start_time": "2021-09-10T21:49:29.625Z"
   },
   {
    "duration": 278,
    "start_time": "2021-09-10T21:49:29.628Z"
   },
   {
    "duration": 275,
    "start_time": "2021-09-10T21:49:29.632Z"
   },
   {
    "duration": 273,
    "start_time": "2021-09-10T21:49:29.635Z"
   },
   {
    "duration": 237,
    "start_time": "2021-09-10T21:49:29.673Z"
   },
   {
    "duration": 235,
    "start_time": "2021-09-10T21:49:29.676Z"
   },
   {
    "duration": 232,
    "start_time": "2021-09-10T21:49:29.680Z"
   },
   {
    "duration": 231,
    "start_time": "2021-09-10T21:49:29.682Z"
   },
   {
    "duration": 224,
    "start_time": "2021-09-10T21:49:29.691Z"
   },
   {
    "duration": 223,
    "start_time": "2021-09-10T21:49:29.694Z"
   },
   {
    "duration": 221,
    "start_time": "2021-09-10T21:49:29.697Z"
   },
   {
    "duration": 219,
    "start_time": "2021-09-10T21:49:29.700Z"
   },
   {
    "duration": 211,
    "start_time": "2021-09-10T21:49:29.709Z"
   },
   {
    "duration": 210,
    "start_time": "2021-09-10T21:49:29.712Z"
   },
   {
    "duration": 209,
    "start_time": "2021-09-10T21:49:29.714Z"
   },
   {
    "duration": 207,
    "start_time": "2021-09-10T21:49:29.717Z"
   },
   {
    "duration": 205,
    "start_time": "2021-09-10T21:49:29.720Z"
   },
   {
    "duration": 5,
    "start_time": "2021-09-10T21:50:04.296Z"
   },
   {
    "duration": 5,
    "start_time": "2021-09-10T21:50:04.470Z"
   },
   {
    "duration": 24,
    "start_time": "2021-09-10T21:50:04.874Z"
   },
   {
    "duration": 7,
    "start_time": "2021-09-10T21:50:05.054Z"
   },
   {
    "duration": 1277,
    "start_time": "2021-09-10T21:50:05.232Z"
   },
   {
    "duration": 286,
    "start_time": "2021-09-10T21:50:06.225Z"
   },
   {
    "duration": 1444,
    "start_time": "2021-09-10T21:52:15.916Z"
   },
   {
    "duration": 1838,
    "start_time": "2021-09-10T21:52:17.362Z"
   },
   {
    "duration": 349,
    "start_time": "2021-09-10T21:52:19.203Z"
   },
   {
    "duration": 3,
    "start_time": "2021-09-10T21:52:19.555Z"
   },
   {
    "duration": 125,
    "start_time": "2021-09-10T21:52:19.560Z"
   },
   {
    "duration": 352,
    "start_time": "2021-09-10T21:52:19.687Z"
   },
   {
    "duration": 4,
    "start_time": "2021-09-10T21:52:20.041Z"
   },
   {
    "duration": 12,
    "start_time": "2021-09-10T21:52:20.048Z"
   },
   {
    "duration": 21,
    "start_time": "2021-09-10T21:52:20.063Z"
   },
   {
    "duration": 12,
    "start_time": "2021-09-10T21:52:20.086Z"
   },
   {
    "duration": 11,
    "start_time": "2021-09-10T21:52:20.100Z"
   },
   {
    "duration": 27,
    "start_time": "2021-09-10T21:52:20.113Z"
   },
   {
    "duration": 5,
    "start_time": "2021-09-10T21:52:20.143Z"
   },
   {
    "duration": 915,
    "start_time": "2021-09-10T21:52:20.150Z"
   },
   {
    "duration": 125,
    "start_time": "2021-09-10T21:52:21.067Z"
   },
   {
    "duration": 2,
    "start_time": "2021-09-10T21:52:21.284Z"
   },
   {
    "duration": 12,
    "start_time": "2021-09-10T21:52:21.289Z"
   },
   {
    "duration": 1046,
    "start_time": "2021-09-10T21:52:21.304Z"
   },
   {
    "duration": 139,
    "start_time": "2021-09-10T21:52:22.352Z"
   },
   {
    "duration": 2,
    "start_time": "2021-09-10T21:52:22.584Z"
   },
   {
    "duration": 8,
    "start_time": "2021-09-10T21:52:22.589Z"
   },
   {
    "duration": 12,
    "start_time": "2021-09-10T21:52:22.599Z"
   },
   {
    "duration": 1445,
    "start_time": "2021-09-10T21:53:02.676Z"
   },
   {
    "duration": 1811,
    "start_time": "2021-09-10T21:53:04.124Z"
   },
   {
    "duration": 406,
    "start_time": "2021-09-10T21:53:05.938Z"
   },
   {
    "duration": 4,
    "start_time": "2021-09-10T21:53:06.347Z"
   },
   {
    "duration": 127,
    "start_time": "2021-09-10T21:53:06.355Z"
   },
   {
    "duration": 358,
    "start_time": "2021-09-10T21:53:06.485Z"
   },
   {
    "duration": 4,
    "start_time": "2021-09-10T21:53:06.845Z"
   },
   {
    "duration": 30,
    "start_time": "2021-09-10T21:53:06.852Z"
   },
   {
    "duration": 7,
    "start_time": "2021-09-10T21:53:06.888Z"
   },
   {
    "duration": 9,
    "start_time": "2021-09-10T21:53:06.898Z"
   },
   {
    "duration": 12,
    "start_time": "2021-09-10T21:53:06.909Z"
   },
   {
    "duration": 31,
    "start_time": "2021-09-10T21:53:06.923Z"
   },
   {
    "duration": 26,
    "start_time": "2021-09-10T21:53:06.956Z"
   },
   {
    "duration": 1407,
    "start_time": "2021-09-10T21:53:06.985Z"
   },
   {
    "duration": 281,
    "start_time": "2021-09-10T21:53:08.114Z"
   },
   {
    "duration": 272,
    "start_time": "2021-09-10T21:53:08.125Z"
   },
   {
    "duration": 266,
    "start_time": "2021-09-10T21:53:08.132Z"
   },
   {
    "duration": 263,
    "start_time": "2021-09-10T21:53:08.136Z"
   },
   {
    "duration": 262,
    "start_time": "2021-09-10T21:53:08.139Z"
   },
   {
    "duration": 259,
    "start_time": "2021-09-10T21:53:08.144Z"
   },
   {
    "duration": 256,
    "start_time": "2021-09-10T21:53:08.148Z"
   },
   {
    "duration": 255,
    "start_time": "2021-09-10T21:53:08.151Z"
   },
   {
    "duration": 248,
    "start_time": "2021-09-10T21:53:08.160Z"
   },
   {
    "duration": 246,
    "start_time": "2021-09-10T21:53:08.164Z"
   },
   {
    "duration": 224,
    "start_time": "2021-09-10T21:53:08.187Z"
   },
   {
    "duration": 217,
    "start_time": "2021-09-10T21:53:08.196Z"
   },
   {
    "duration": 216,
    "start_time": "2021-09-10T21:53:08.199Z"
   },
   {
    "duration": 214,
    "start_time": "2021-09-10T21:53:08.202Z"
   },
   {
    "duration": 203,
    "start_time": "2021-09-10T21:53:08.215Z"
   },
   {
    "duration": 201,
    "start_time": "2021-09-10T21:53:08.219Z"
   },
   {
    "duration": 192,
    "start_time": "2021-09-10T21:53:08.229Z"
   },
   {
    "duration": 190,
    "start_time": "2021-09-10T21:53:08.233Z"
   },
   {
    "duration": 184,
    "start_time": "2021-09-10T21:53:08.240Z"
   },
   {
    "duration": 183,
    "start_time": "2021-09-10T21:53:08.243Z"
   },
   {
    "duration": 181,
    "start_time": "2021-09-10T21:53:08.246Z"
   },
   {
    "duration": 180,
    "start_time": "2021-09-10T21:53:08.248Z"
   },
   {
    "duration": 1398,
    "start_time": "2021-09-10T21:53:36.458Z"
   },
   {
    "duration": 1945,
    "start_time": "2021-09-10T21:53:37.858Z"
   },
   {
    "duration": 352,
    "start_time": "2021-09-10T21:53:39.807Z"
   },
   {
    "duration": 3,
    "start_time": "2021-09-10T21:53:40.162Z"
   },
   {
    "duration": 117,
    "start_time": "2021-09-10T21:53:40.168Z"
   },
   {
    "duration": 330,
    "start_time": "2021-09-10T21:53:40.288Z"
   },
   {
    "duration": 3,
    "start_time": "2021-09-10T21:53:40.621Z"
   },
   {
    "duration": 5,
    "start_time": "2021-09-10T21:53:40.628Z"
   },
   {
    "duration": 12,
    "start_time": "2021-09-10T21:53:40.636Z"
   },
   {
    "duration": 5,
    "start_time": "2021-09-10T21:53:40.651Z"
   },
   {
    "duration": 25,
    "start_time": "2021-09-10T21:53:40.659Z"
   },
   {
    "duration": 25,
    "start_time": "2021-09-10T21:53:40.687Z"
   },
   {
    "duration": 5,
    "start_time": "2021-09-10T21:53:40.715Z"
   },
   {
    "duration": 1403,
    "start_time": "2021-09-10T21:53:40.723Z"
   },
   {
    "duration": 264,
    "start_time": "2021-09-10T21:53:41.866Z"
   },
   {
    "duration": 254,
    "start_time": "2021-09-10T21:53:41.877Z"
   },
   {
    "duration": 231,
    "start_time": "2021-09-10T21:53:41.901Z"
   },
   {
    "duration": 229,
    "start_time": "2021-09-10T21:53:41.905Z"
   },
   {
    "duration": 206,
    "start_time": "2021-09-10T21:53:41.930Z"
   },
   {
    "duration": 180,
    "start_time": "2021-09-10T21:53:41.957Z"
   },
   {
    "duration": 167,
    "start_time": "2021-09-10T21:53:41.972Z"
   },
   {
    "duration": 163,
    "start_time": "2021-09-10T21:53:41.977Z"
   },
   {
    "duration": 154,
    "start_time": "2021-09-10T21:53:41.988Z"
   },
   {
    "duration": 149,
    "start_time": "2021-09-10T21:53:41.994Z"
   },
   {
    "duration": 147,
    "start_time": "2021-09-10T21:53:41.997Z"
   },
   {
    "duration": 147,
    "start_time": "2021-09-10T21:53:41.999Z"
   },
   {
    "duration": 142,
    "start_time": "2021-09-10T21:53:42.005Z"
   },
   {
    "duration": 135,
    "start_time": "2021-09-10T21:53:42.014Z"
   },
   {
    "duration": 127,
    "start_time": "2021-09-10T21:53:42.024Z"
   },
   {
    "duration": 121,
    "start_time": "2021-09-10T21:53:42.031Z"
   },
   {
    "duration": 121,
    "start_time": "2021-09-10T21:53:42.033Z"
   },
   {
    "duration": 120,
    "start_time": "2021-09-10T21:53:42.035Z"
   },
   {
    "duration": 120,
    "start_time": "2021-09-10T21:53:42.037Z"
   },
   {
    "duration": 119,
    "start_time": "2021-09-10T21:53:42.039Z"
   },
   {
    "duration": 114,
    "start_time": "2021-09-10T21:53:42.046Z"
   },
   {
    "duration": 107,
    "start_time": "2021-09-10T21:53:42.054Z"
   },
   {
    "duration": 1443,
    "start_time": "2021-09-10T21:55:46.988Z"
   },
   {
    "duration": 1840,
    "start_time": "2021-09-10T21:55:48.433Z"
   },
   {
    "duration": 399,
    "start_time": "2021-09-10T21:55:50.277Z"
   },
   {
    "duration": 526,
    "start_time": "2021-09-10T21:55:55.917Z"
   },
   {
    "duration": 554,
    "start_time": "2021-09-10T21:56:05.957Z"
   },
   {
    "duration": 5,
    "start_time": "2021-09-10T21:56:24.774Z"
   },
   {
    "duration": 1807,
    "start_time": "2021-09-10T21:56:24.782Z"
   },
   {
    "duration": 347,
    "start_time": "2021-09-10T21:56:26.592Z"
   },
   {
    "duration": 3,
    "start_time": "2021-09-10T21:56:26.942Z"
   },
   {
    "duration": 119,
    "start_time": "2021-09-10T21:56:26.947Z"
   },
   {
    "duration": 329,
    "start_time": "2021-09-10T21:56:27.068Z"
   },
   {
    "duration": 3,
    "start_time": "2021-09-10T21:56:27.400Z"
   },
   {
    "duration": 15,
    "start_time": "2021-09-10T21:56:27.404Z"
   },
   {
    "duration": 12,
    "start_time": "2021-09-10T21:56:27.422Z"
   },
   {
    "duration": 10,
    "start_time": "2021-09-10T21:56:27.437Z"
   },
   {
    "duration": 9,
    "start_time": "2021-09-10T21:56:27.449Z"
   },
   {
    "duration": 51,
    "start_time": "2021-09-10T21:56:27.460Z"
   },
   {
    "duration": 5,
    "start_time": "2021-09-10T21:56:27.514Z"
   },
   {
    "duration": 1397,
    "start_time": "2021-09-10T21:56:27.521Z"
   },
   {
    "duration": 250,
    "start_time": "2021-09-10T21:56:28.671Z"
   },
   {
    "duration": 223,
    "start_time": "2021-09-10T21:56:28.699Z"
   },
   {
    "duration": 184,
    "start_time": "2021-09-10T21:56:28.739Z"
   },
   {
    "duration": 176,
    "start_time": "2021-09-10T21:56:28.749Z"
   },
   {
    "duration": 169,
    "start_time": "2021-09-10T21:56:28.757Z"
   },
   {
    "duration": 165,
    "start_time": "2021-09-10T21:56:28.762Z"
   },
   {
    "duration": 159,
    "start_time": "2021-09-10T21:56:28.769Z"
   },
   {
    "duration": 158,
    "start_time": "2021-09-10T21:56:28.772Z"
   },
   {
    "duration": 158,
    "start_time": "2021-09-10T21:56:28.774Z"
   },
   {
    "duration": 157,
    "start_time": "2021-09-10T21:56:28.776Z"
   },
   {
    "duration": 156,
    "start_time": "2021-09-10T21:56:28.778Z"
   },
   {
    "duration": 152,
    "start_time": "2021-09-10T21:56:28.783Z"
   },
   {
    "duration": 146,
    "start_time": "2021-09-10T21:56:28.791Z"
   },
   {
    "duration": -94,
    "start_time": "2021-09-10T21:56:29.032Z"
   },
   {
    "duration": -101,
    "start_time": "2021-09-10T21:56:29.041Z"
   },
   {
    "duration": -103,
    "start_time": "2021-09-10T21:56:29.044Z"
   },
   {
    "duration": -118,
    "start_time": "2021-09-10T21:56:29.060Z"
   },
   {
    "duration": -141,
    "start_time": "2021-09-10T21:56:29.085Z"
   },
   {
    "duration": -188,
    "start_time": "2021-09-10T21:56:29.133Z"
   },
   {
    "duration": -216,
    "start_time": "2021-09-10T21:56:29.163Z"
   },
   {
    "duration": -253,
    "start_time": "2021-09-10T21:56:29.201Z"
   },
   {
    "duration": -268,
    "start_time": "2021-09-10T21:56:29.218Z"
   },
   {
    "duration": 1406,
    "start_time": "2021-09-10T21:56:49.159Z"
   },
   {
    "duration": 1801,
    "start_time": "2021-09-10T21:56:50.568Z"
   },
   {
    "duration": 345,
    "start_time": "2021-09-10T21:56:52.372Z"
   },
   {
    "duration": 3,
    "start_time": "2021-09-10T21:56:52.720Z"
   },
   {
    "duration": 115,
    "start_time": "2021-09-10T21:56:52.725Z"
   },
   {
    "duration": 333,
    "start_time": "2021-09-10T21:56:52.842Z"
   },
   {
    "duration": 5,
    "start_time": "2021-09-10T21:56:53.177Z"
   },
   {
    "duration": 5,
    "start_time": "2021-09-10T21:56:53.187Z"
   },
   {
    "duration": 9,
    "start_time": "2021-09-10T21:56:53.195Z"
   },
   {
    "duration": 8,
    "start_time": "2021-09-10T21:56:53.207Z"
   },
   {
    "duration": 6,
    "start_time": "2021-09-10T21:56:53.217Z"
   },
   {
    "duration": 66,
    "start_time": "2021-09-10T21:56:53.225Z"
   },
   {
    "duration": 6,
    "start_time": "2021-09-10T21:56:53.293Z"
   },
   {
    "duration": 1398,
    "start_time": "2021-09-10T21:56:53.301Z"
   },
   {
    "duration": 211,
    "start_time": "2021-09-10T21:56:54.492Z"
   },
   {
    "duration": 206,
    "start_time": "2021-09-10T21:56:54.498Z"
   },
   {
    "duration": 193,
    "start_time": "2021-09-10T21:56:54.513Z"
   },
   {
    "duration": 174,
    "start_time": "2021-09-10T21:56:54.533Z"
   },
   {
    "duration": 169,
    "start_time": "2021-09-10T21:56:54.540Z"
   },
   {
    "duration": 165,
    "start_time": "2021-09-10T21:56:54.545Z"
   },
   {
    "duration": 163,
    "start_time": "2021-09-10T21:56:54.548Z"
   },
   {
    "duration": 157,
    "start_time": "2021-09-10T21:56:54.556Z"
   },
   {
    "duration": 152,
    "start_time": "2021-09-10T21:56:54.562Z"
   },
   {
    "duration": 147,
    "start_time": "2021-09-10T21:56:54.569Z"
   },
   {
    "duration": 140,
    "start_time": "2021-09-10T21:56:54.578Z"
   },
   {
    "duration": 138,
    "start_time": "2021-09-10T21:56:54.581Z"
   },
   {
    "duration": 138,
    "start_time": "2021-09-10T21:56:54.583Z"
   },
   {
    "duration": 137,
    "start_time": "2021-09-10T21:56:54.585Z"
   },
   {
    "duration": 136,
    "start_time": "2021-09-10T21:56:54.587Z"
   },
   {
    "duration": 130,
    "start_time": "2021-09-10T21:56:54.594Z"
   },
   {
    "duration": 127,
    "start_time": "2021-09-10T21:56:54.599Z"
   },
   {
    "duration": 126,
    "start_time": "2021-09-10T21:56:54.601Z"
   },
   {
    "duration": 123,
    "start_time": "2021-09-10T21:56:54.605Z"
   },
   {
    "duration": 123,
    "start_time": "2021-09-10T21:56:54.607Z"
   },
   {
    "duration": 121,
    "start_time": "2021-09-10T21:56:54.610Z"
   },
   {
    "duration": 120,
    "start_time": "2021-09-10T21:56:54.612Z"
   },
   {
    "duration": 1431,
    "start_time": "2021-09-10T21:57:59.944Z"
   },
   {
    "duration": 2178,
    "start_time": "2021-09-10T21:58:01.377Z"
   },
   {
    "duration": 342,
    "start_time": "2021-09-10T21:58:03.558Z"
   },
   {
    "duration": 3,
    "start_time": "2021-09-10T21:58:03.903Z"
   },
   {
    "duration": 117,
    "start_time": "2021-09-10T21:58:03.908Z"
   },
   {
    "duration": 324,
    "start_time": "2021-09-10T21:58:04.028Z"
   },
   {
    "duration": 3,
    "start_time": "2021-09-10T21:58:04.354Z"
   },
   {
    "duration": 21,
    "start_time": "2021-09-10T21:58:04.361Z"
   },
   {
    "duration": 8,
    "start_time": "2021-09-10T21:58:04.385Z"
   },
   {
    "duration": 6,
    "start_time": "2021-09-10T21:58:04.395Z"
   },
   {
    "duration": 5,
    "start_time": "2021-09-10T21:58:04.404Z"
   },
   {
    "duration": 22,
    "start_time": "2021-09-10T21:58:04.412Z"
   },
   {
    "duration": 45,
    "start_time": "2021-09-10T21:58:04.437Z"
   },
   {
    "duration": 862,
    "start_time": "2021-09-10T21:58:04.485Z"
   },
   {
    "duration": 234,
    "start_time": "2021-09-10T21:58:05.350Z"
   },
   {
    "duration": 4,
    "start_time": "2021-09-10T21:58:05.587Z"
   },
   {
    "duration": 16,
    "start_time": "2021-09-10T21:58:05.594Z"
   },
   {
    "duration": 973,
    "start_time": "2021-09-10T21:58:05.613Z"
   },
   {
    "duration": 195,
    "start_time": "2021-09-10T21:58:06.589Z"
   },
   {
    "duration": 7,
    "start_time": "2021-09-10T21:58:06.788Z"
   },
   {
    "duration": 90,
    "start_time": "2021-09-10T21:58:06.797Z"
   },
   {
    "duration": 8,
    "start_time": "2021-09-10T21:58:06.889Z"
   },
   {
    "duration": 110599,
    "start_time": "2021-09-10T21:58:06.901Z"
   },
   {
    "duration": 3,
    "start_time": "2021-09-10T21:59:57.503Z"
   },
   {
    "duration": 155,
    "start_time": "2021-09-10T21:59:57.508Z"
   },
   {
    "duration": 4,
    "start_time": "2021-09-10T21:59:57.665Z"
   },
   {
    "duration": 547230,
    "start_time": "2021-09-10T21:59:57.683Z"
   },
   {
    "duration": 6,
    "start_time": "2021-09-10T22:09:04.915Z"
   },
   {
    "duration": 58,
    "start_time": "2021-09-10T22:09:04.924Z"
   },
   {
    "duration": 6,
    "start_time": "2021-09-10T22:09:04.985Z"
   },
   {
    "duration": 9,
    "start_time": "2021-09-10T22:09:04.994Z"
   },
   {
    "duration": 875,
    "start_time": "2021-09-10T22:09:05.005Z"
   },
   {
    "duration": 296,
    "start_time": "2021-09-10T22:09:05.587Z"
   },
   {
    "duration": 294,
    "start_time": "2021-09-10T22:09:05.591Z"
   },
   {
    "duration": 288,
    "start_time": "2021-09-10T22:09:05.599Z"
   },
   {
    "duration": 287,
    "start_time": "2021-09-10T22:09:05.601Z"
   },
   {
    "duration": 6,
    "start_time": "2021-09-10T22:13:37.978Z"
   },
   {
    "duration": 6,
    "start_time": "2021-09-10T22:13:41.792Z"
   },
   {
    "duration": 3,
    "start_time": "2021-09-10T22:13:42.087Z"
   },
   {
    "duration": 673,
    "start_time": "2021-09-10T22:13:42.312Z"
   },
   {
    "duration": 6,
    "start_time": "2021-09-10T22:15:15.673Z"
   },
   {
    "duration": 3,
    "start_time": "2021-09-10T22:15:15.879Z"
   },
   {
    "duration": 680,
    "start_time": "2021-09-10T22:15:16.096Z"
   },
   {
    "duration": 27,
    "start_time": "2021-09-10T22:17:26.435Z"
   },
   {
    "duration": 3,
    "start_time": "2021-09-10T22:17:26.881Z"
   },
   {
    "duration": 694,
    "start_time": "2021-09-10T22:17:27.497Z"
   },
   {
    "duration": 7,
    "start_time": "2021-09-10T22:18:08.538Z"
   },
   {
    "duration": 3,
    "start_time": "2021-09-10T22:18:09.003Z"
   },
   {
    "duration": 719,
    "start_time": "2021-09-10T22:18:09.378Z"
   },
   {
    "duration": 7,
    "start_time": "2021-09-10T22:18:24.003Z"
   },
   {
    "duration": 3,
    "start_time": "2021-09-10T22:18:24.506Z"
   },
   {
    "duration": 762,
    "start_time": "2021-09-10T22:18:24.762Z"
   },
   {
    "duration": 1442,
    "start_time": "2021-09-10T22:20:22.781Z"
   },
   {
    "duration": 1881,
    "start_time": "2021-09-10T22:20:24.225Z"
   },
   {
    "duration": 356,
    "start_time": "2021-09-10T22:20:26.110Z"
   },
   {
    "duration": 12,
    "start_time": "2021-09-10T22:20:26.470Z"
   },
   {
    "duration": 107,
    "start_time": "2021-09-10T22:20:26.484Z"
   },
   {
    "duration": 320,
    "start_time": "2021-09-10T22:20:26.593Z"
   },
   {
    "duration": 3,
    "start_time": "2021-09-10T22:20:26.915Z"
   },
   {
    "duration": 9,
    "start_time": "2021-09-10T22:20:26.920Z"
   },
   {
    "duration": 8,
    "start_time": "2021-09-10T22:20:26.933Z"
   },
   {
    "duration": 38,
    "start_time": "2021-09-10T22:20:26.944Z"
   },
   {
    "duration": 5,
    "start_time": "2021-09-10T22:20:26.984Z"
   },
   {
    "duration": 24,
    "start_time": "2021-09-10T22:20:26.991Z"
   },
   {
    "duration": 5,
    "start_time": "2021-09-10T22:20:27.018Z"
   },
   {
    "duration": 884,
    "start_time": "2021-09-10T22:20:27.025Z"
   },
   {
    "duration": 177,
    "start_time": "2021-09-10T22:20:27.911Z"
   },
   {
    "duration": 92,
    "start_time": "2021-09-10T22:20:28.091Z"
   },
   {
    "duration": 10,
    "start_time": "2021-09-10T22:20:28.187Z"
   },
   {
    "duration": 953,
    "start_time": "2021-09-10T22:20:28.200Z"
   },
   {
    "duration": 130,
    "start_time": "2021-09-10T22:20:29.155Z"
   },
   {
    "duration": 98,
    "start_time": "2021-09-10T22:20:29.288Z"
   },
   {
    "duration": 62,
    "start_time": "2021-09-10T22:20:29.389Z"
   },
   {
    "duration": 11,
    "start_time": "2021-09-10T22:20:29.454Z"
   },
   {
    "duration": 108696,
    "start_time": "2021-09-10T22:20:29.467Z"
   },
   {
    "duration": 3,
    "start_time": "2021-09-10T22:22:18.166Z"
   },
   {
    "duration": 166,
    "start_time": "2021-09-10T22:22:18.183Z"
   },
   {
    "duration": 4,
    "start_time": "2021-09-10T22:22:18.351Z"
   },
   {
    "duration": 1473,
    "start_time": "2021-09-10T22:24:07.155Z"
   },
   {
    "duration": 2034,
    "start_time": "2021-09-10T22:24:08.630Z"
   },
   {
    "duration": 337,
    "start_time": "2021-09-10T22:24:10.666Z"
   },
   {
    "duration": 3,
    "start_time": "2021-09-10T22:24:11.006Z"
   },
   {
    "duration": 112,
    "start_time": "2021-09-10T22:24:11.011Z"
   },
   {
    "duration": 330,
    "start_time": "2021-09-10T22:24:11.125Z"
   },
   {
    "duration": 3,
    "start_time": "2021-09-10T22:24:11.457Z"
   },
   {
    "duration": 18,
    "start_time": "2021-09-10T22:24:11.464Z"
   },
   {
    "duration": 11,
    "start_time": "2021-09-10T22:24:11.485Z"
   },
   {
    "duration": 12,
    "start_time": "2021-09-10T22:24:11.499Z"
   },
   {
    "duration": 11,
    "start_time": "2021-09-10T22:24:11.513Z"
   },
   {
    "duration": 29,
    "start_time": "2021-09-10T22:24:11.527Z"
   },
   {
    "duration": 5,
    "start_time": "2021-09-10T22:24:11.559Z"
   },
   {
    "duration": 884,
    "start_time": "2021-09-10T22:24:11.583Z"
   },
   {
    "duration": 117,
    "start_time": "2021-09-10T22:24:12.470Z"
   },
   {
    "duration": 93,
    "start_time": "2021-09-10T22:24:12.591Z"
   },
   {
    "duration": 7,
    "start_time": "2021-09-10T22:24:12.688Z"
   },
   {
    "duration": 984,
    "start_time": "2021-09-10T22:24:12.698Z"
   },
   {
    "duration": 198,
    "start_time": "2021-09-10T22:24:13.684Z"
   },
   {
    "duration": 5,
    "start_time": "2021-09-10T22:24:13.885Z"
   },
   {
    "duration": 92,
    "start_time": "2021-09-10T22:24:13.893Z"
   },
   {
    "duration": 109,
    "start_time": "2021-09-10T22:24:13.988Z"
   },
   {
    "duration": 1324,
    "start_time": "2021-09-10T22:24:58.409Z"
   },
   {
    "duration": 1931,
    "start_time": "2021-09-10T22:24:59.735Z"
   },
   {
    "duration": 363,
    "start_time": "2021-09-10T22:25:01.670Z"
   },
   {
    "duration": 3,
    "start_time": "2021-09-10T22:25:02.036Z"
   },
   {
    "duration": 121,
    "start_time": "2021-09-10T22:25:02.042Z"
   },
   {
    "duration": 341,
    "start_time": "2021-09-10T22:25:02.166Z"
   },
   {
    "duration": 3,
    "start_time": "2021-09-10T22:25:02.509Z"
   },
   {
    "duration": 23,
    "start_time": "2021-09-10T22:25:02.514Z"
   },
   {
    "duration": 19,
    "start_time": "2021-09-10T22:25:02.541Z"
   },
   {
    "duration": 10,
    "start_time": "2021-09-10T22:25:02.563Z"
   },
   {
    "duration": 14,
    "start_time": "2021-09-10T22:25:02.575Z"
   },
   {
    "duration": 39,
    "start_time": "2021-09-10T22:25:02.591Z"
   },
   {
    "duration": 6,
    "start_time": "2021-09-10T22:25:02.633Z"
   },
   {
    "duration": 911,
    "start_time": "2021-09-10T22:25:02.641Z"
   },
   {
    "duration": 227,
    "start_time": "2021-09-10T22:25:03.554Z"
   },
   {
    "duration": 3,
    "start_time": "2021-09-10T22:25:03.784Z"
   },
   {
    "duration": 16,
    "start_time": "2021-09-10T22:25:03.789Z"
   },
   {
    "duration": 1100,
    "start_time": "2021-09-10T22:25:03.807Z"
   },
   {
    "duration": 175,
    "start_time": "2021-09-10T22:25:04.909Z"
   },
   {
    "duration": 3,
    "start_time": "2021-09-10T22:25:05.088Z"
   },
   {
    "duration": 8,
    "start_time": "2021-09-10T22:25:05.182Z"
   },
   {
    "duration": 20,
    "start_time": "2021-09-10T22:25:05.192Z"
   },
   {
    "duration": 152222,
    "start_time": "2021-09-10T22:25:05.214Z"
   },
   {
    "duration": 2,
    "start_time": "2021-09-10T22:27:37.438Z"
   },
   {
    "duration": 142,
    "start_time": "2021-09-10T22:27:37.443Z"
   },
   {
    "duration": 3,
    "start_time": "2021-09-10T22:27:37.587Z"
   },
   {
    "duration": 232614,
    "start_time": "2021-09-10T22:27:37.595Z"
   },
   {
    "duration": 72,
    "start_time": "2021-09-10T22:31:30.212Z"
   },
   {
    "duration": 10,
    "start_time": "2021-09-10T22:31:30.287Z"
   },
   {
    "duration": 17,
    "start_time": "2021-09-10T22:31:30.299Z"
   },
   {
    "duration": 21,
    "start_time": "2021-09-10T22:31:30.319Z"
   },
   {
    "duration": 4601,
    "start_time": "2021-09-10T22:31:30.343Z"
   },
   {
    "duration": 270,
    "start_time": "2021-09-10T22:31:34.677Z"
   },
   {
    "duration": 264,
    "start_time": "2021-09-10T22:31:34.684Z"
   },
   {
    "duration": 262,
    "start_time": "2021-09-10T22:31:34.688Z"
   },
   {
    "duration": 262,
    "start_time": "2021-09-10T22:31:34.690Z"
   },
   {
    "duration": 6,
    "start_time": "2021-09-10T22:32:14.866Z"
   },
   {
    "duration": 3,
    "start_time": "2021-09-10T22:32:15.041Z"
   },
   {
    "duration": 66708,
    "start_time": "2021-09-10T22:32:15.178Z"
   },
   {
    "duration": 6,
    "start_time": "2021-09-10T22:34:52.628Z"
   },
   {
    "duration": 3,
    "start_time": "2021-09-10T22:34:53.768Z"
   },
   {
    "duration": 60176,
    "start_time": "2021-09-10T22:34:53.907Z"
   },
   {
    "duration": 3,
    "start_time": "2021-09-10T22:36:53.508Z"
   },
   {
    "duration": 667,
    "start_time": "2021-09-10T22:36:54.876Z"
   },
   {
    "duration": 150539,
    "start_time": "2021-09-10T22:36:55.545Z"
   },
   {
    "duration": 272,
    "start_time": "2021-09-10T22:39:26.087Z"
   },
   {
    "duration": 95,
    "start_time": "2021-09-10T22:43:57.367Z"
   },
   {
    "duration": 6159,
    "start_time": "2021-09-10T22:44:48.342Z"
   },
   {
    "duration": 9344,
    "start_time": "2021-09-10T22:45:34.025Z"
   },
   {
    "duration": 574,
    "start_time": "2021-09-10T22:46:58.128Z"
   },
   {
    "duration": 311,
    "start_time": "2021-09-10T22:49:38.383Z"
   },
   {
    "duration": 54320,
    "start_time": "2021-09-10T22:49:43.666Z"
   },
   {
    "duration": 91607,
    "start_time": "2021-09-10T22:50:43.361Z"
   },
   {
    "duration": 42296,
    "start_time": "2021-09-10T22:52:18.621Z"
   },
   {
    "duration": 1414,
    "start_time": "2021-09-10T22:53:53.368Z"
   },
   {
    "duration": 1818,
    "start_time": "2021-09-10T22:53:54.785Z"
   },
   {
    "duration": 1358,
    "start_time": "2021-09-10T22:54:53.579Z"
   },
   {
    "duration": 1775,
    "start_time": "2021-09-10T22:54:54.939Z"
   },
   {
    "duration": 9101,
    "start_time": "2021-09-10T22:54:56.716Z"
   },
   {
    "duration": 7030,
    "start_time": "2021-09-10T22:56:55.396Z"
   },
   {
    "duration": 499,
    "start_time": "2021-09-10T22:57:26.109Z"
   },
   {
    "duration": 6139,
    "start_time": "2021-09-10T22:57:43.487Z"
   },
   {
    "duration": 40591,
    "start_time": "2021-09-10T22:58:13.542Z"
   },
   {
    "duration": 6452,
    "start_time": "2021-09-10T22:58:58.836Z"
   },
   {
    "duration": 6556,
    "start_time": "2021-09-10T23:00:14.799Z"
   },
   {
    "duration": 1860,
    "start_time": "2021-09-10T23:00:52.988Z"
   },
   {
    "duration": 6267,
    "start_time": "2021-09-10T23:02:09.864Z"
   },
   {
    "duration": 1325,
    "start_time": "2021-09-10T23:02:44.328Z"
   },
   {
    "duration": 1847,
    "start_time": "2021-09-10T23:02:45.656Z"
   },
   {
    "duration": 6555,
    "start_time": "2021-09-10T23:02:47.506Z"
   },
   {
    "duration": 303,
    "start_time": "2021-09-10T23:02:53.761Z"
   },
   {
    "duration": 302,
    "start_time": "2021-09-10T23:02:53.763Z"
   },
   {
    "duration": 6488,
    "start_time": "2021-09-10T23:03:32.497Z"
   },
   {
    "duration": 277,
    "start_time": "2021-09-10T23:04:38.683Z"
   },
   {
    "duration": 4,
    "start_time": "2021-09-10T23:04:40.612Z"
   },
   {
    "duration": 84,
    "start_time": "2021-09-10T23:04:40.792Z"
   },
   {
    "duration": 366,
    "start_time": "2021-09-10T23:04:41.593Z"
   },
   {
    "duration": 340,
    "start_time": "2021-09-10T23:05:18.616Z"
   },
   {
    "duration": 8553,
    "start_time": "2021-09-10T23:05:30.776Z"
   },
   {
    "duration": 1372,
    "start_time": "2021-09-10T23:06:16.867Z"
   },
   {
    "duration": 1799,
    "start_time": "2021-09-10T23:06:18.242Z"
   },
   {
    "duration": 338,
    "start_time": "2021-09-10T23:06:20.044Z"
   },
   {
    "duration": 3,
    "start_time": "2021-09-10T23:06:20.385Z"
   },
   {
    "duration": 121,
    "start_time": "2021-09-10T23:06:20.390Z"
   },
   {
    "duration": 376006,
    "start_time": "2021-09-10T23:06:20.514Z"
   },
   {
    "duration": 1318,
    "start_time": "2021-09-10T23:13:09.077Z"
   },
   {
    "duration": 446,
    "start_time": "2021-09-10T23:15:22.879Z"
   },
   {
    "duration": 394,
    "start_time": "2021-09-10T23:16:07.315Z"
   },
   {
    "duration": 131,
    "start_time": "2021-09-10T23:16:14.638Z"
   },
   {
    "duration": 4,
    "start_time": "2021-09-10T23:16:17.662Z"
   },
   {
    "duration": 4,
    "start_time": "2021-09-10T23:16:18.376Z"
   },
   {
    "duration": 4,
    "start_time": "2021-09-10T23:16:19.206Z"
   },
   {
    "duration": 5,
    "start_time": "2021-09-10T23:16:21.062Z"
   },
   {
    "duration": 5,
    "start_time": "2021-09-10T23:16:21.246Z"
   },
   {
    "duration": 42,
    "start_time": "2021-09-10T23:16:21.589Z"
   },
   {
    "duration": 5,
    "start_time": "2021-09-10T23:16:21.766Z"
   },
   {
    "duration": 855,
    "start_time": "2021-09-10T23:16:21.999Z"
   },
   {
    "duration": 457,
    "start_time": "2021-09-10T23:16:24.925Z"
   },
   {
    "duration": 121,
    "start_time": "2021-09-10T23:16:45.527Z"
   },
   {
    "duration": 378,
    "start_time": "2021-09-10T23:17:13.025Z"
   },
   {
    "duration": 156,
    "start_time": "2021-09-10T23:17:31.625Z"
   },
   {
    "duration": 122,
    "start_time": "2021-09-10T23:18:05.863Z"
   },
   {
    "duration": 414,
    "start_time": "2021-09-10T23:18:15.802Z"
   },
   {
    "duration": 290,
    "start_time": "2021-09-10T23:18:35.809Z"
   },
   {
    "duration": 374,
    "start_time": "2021-09-10T23:18:43.455Z"
   },
   {
    "duration": 424,
    "start_time": "2021-09-10T23:19:01.023Z"
   },
   {
    "duration": 408,
    "start_time": "2021-09-10T23:19:10.103Z"
   },
   {
    "duration": 377,
    "start_time": "2021-09-10T23:19:13.463Z"
   },
   {
    "duration": 318,
    "start_time": "2021-09-10T23:19:32.616Z"
   },
   {
    "duration": 414,
    "start_time": "2021-09-10T23:19:43.968Z"
   },
   {
    "duration": 4,
    "start_time": "2021-09-10T23:20:07.494Z"
   },
   {
    "duration": 5,
    "start_time": "2021-09-10T23:20:08.158Z"
   },
   {
    "duration": 4,
    "start_time": "2021-09-10T23:20:08.327Z"
   },
   {
    "duration": 5,
    "start_time": "2021-09-10T23:20:08.487Z"
   },
   {
    "duration": 4,
    "start_time": "2021-09-10T23:20:08.639Z"
   },
   {
    "duration": 45,
    "start_time": "2021-09-10T23:20:09.504Z"
   },
   {
    "duration": 5,
    "start_time": "2021-09-10T23:20:09.647Z"
   },
   {
    "duration": 852,
    "start_time": "2021-09-10T23:20:09.783Z"
   },
   {
    "duration": 354,
    "start_time": "2021-09-10T23:20:10.637Z"
   },
   {
    "duration": 413,
    "start_time": "2021-09-10T23:20:26.679Z"
   },
   {
    "duration": 1355,
    "start_time": "2021-09-10T23:20:35.384Z"
   },
   {
    "duration": 1814,
    "start_time": "2021-09-10T23:20:36.741Z"
   },
   {
    "duration": 355,
    "start_time": "2021-09-10T23:20:38.557Z"
   },
   {
    "duration": 3,
    "start_time": "2021-09-10T23:20:38.915Z"
   },
   {
    "duration": 119,
    "start_time": "2021-09-10T23:20:38.921Z"
   },
   {
    "duration": 441,
    "start_time": "2021-09-10T23:20:39.043Z"
   },
   {
    "duration": 2,
    "start_time": "2021-09-10T23:20:39.487Z"
   },
   {
    "duration": 14,
    "start_time": "2021-09-10T23:20:39.493Z"
   },
   {
    "duration": 13,
    "start_time": "2021-09-10T23:20:39.509Z"
   },
   {
    "duration": 14,
    "start_time": "2021-09-10T23:20:39.524Z"
   },
   {
    "duration": 14,
    "start_time": "2021-09-10T23:20:39.541Z"
   },
   {
    "duration": 84,
    "start_time": "2021-09-10T23:20:39.557Z"
   },
   {
    "duration": 5,
    "start_time": "2021-09-10T23:20:39.644Z"
   },
   {
    "duration": 865,
    "start_time": "2021-09-10T23:20:39.652Z"
   },
   {
    "duration": 373,
    "start_time": "2021-09-10T23:20:40.520Z"
   },
   {
    "duration": 3,
    "start_time": "2021-09-10T23:20:40.983Z"
   },
   {
    "duration": 15,
    "start_time": "2021-09-10T23:20:40.988Z"
   },
   {
    "duration": 957,
    "start_time": "2021-09-10T23:20:41.006Z"
   },
   {
    "duration": 332,
    "start_time": "2021-09-10T23:20:41.965Z"
   },
   {
    "duration": 82,
    "start_time": "2021-09-10T23:20:42.301Z"
   },
   {
    "duration": 99,
    "start_time": "2021-09-10T23:20:42.387Z"
   },
   {
    "duration": 9,
    "start_time": "2021-09-10T23:20:42.489Z"
   },
   {
    "duration": 1425,
    "start_time": "2021-09-10T23:21:15.647Z"
   },
   {
    "duration": 1846,
    "start_time": "2021-09-10T23:21:17.075Z"
   },
   {
    "duration": 334,
    "start_time": "2021-09-10T23:21:18.924Z"
   },
   {
    "duration": 3,
    "start_time": "2021-09-10T23:21:19.260Z"
   },
   {
    "duration": 103,
    "start_time": "2021-09-10T23:21:19.265Z"
   },
   {
    "duration": 378,
    "start_time": "2021-09-10T23:21:19.383Z"
   },
   {
    "duration": 3,
    "start_time": "2021-09-10T23:21:19.763Z"
   },
   {
    "duration": 5,
    "start_time": "2021-09-10T23:21:23.623Z"
   },
   {
    "duration": 5,
    "start_time": "2021-09-10T23:21:23.812Z"
   },
   {
    "duration": 5,
    "start_time": "2021-09-10T23:21:23.959Z"
   },
   {
    "duration": 5,
    "start_time": "2021-09-10T23:21:24.226Z"
   },
   {
    "duration": 41,
    "start_time": "2021-09-10T23:21:25.015Z"
   },
   {
    "duration": 6,
    "start_time": "2021-09-10T23:21:25.217Z"
   },
   {
    "duration": 881,
    "start_time": "2021-09-10T23:21:26.663Z"
   },
   {
    "duration": 427,
    "start_time": "2021-09-10T23:21:27.856Z"
   },
   {
    "duration": 5,
    "start_time": "2021-09-10T23:21:28.286Z"
   },
   {
    "duration": 10,
    "start_time": "2021-09-10T23:21:28.383Z"
   },
   {
    "duration": 973,
    "start_time": "2021-09-10T23:21:28.396Z"
   },
   {
    "duration": 512,
    "start_time": "2021-09-10T23:21:29.371Z"
   },
   {
    "duration": 764,
    "start_time": "2021-09-10T23:22:26.775Z"
   },
   {
    "duration": 366,
    "start_time": "2021-09-10T23:22:33.457Z"
   },
   {
    "duration": 4,
    "start_time": "2021-09-10T23:22:35.800Z"
   },
   {
    "duration": 5,
    "start_time": "2021-09-10T23:22:36.640Z"
   },
   {
    "duration": 5,
    "start_time": "2021-09-10T23:22:36.823Z"
   },
   {
    "duration": 5,
    "start_time": "2021-09-10T23:22:37.000Z"
   },
   {
    "duration": 5,
    "start_time": "2021-09-10T23:22:37.255Z"
   },
   {
    "duration": 29,
    "start_time": "2021-09-10T23:22:38.263Z"
   },
   {
    "duration": 6,
    "start_time": "2021-09-10T23:22:38.439Z"
   },
   {
    "duration": 853,
    "start_time": "2021-09-10T23:22:38.607Z"
   },
   {
    "duration": 221,
    "start_time": "2021-09-10T23:22:39.463Z"
   },
   {
    "duration": 3,
    "start_time": "2021-09-10T23:22:39.687Z"
   },
   {
    "duration": 3,
    "start_time": "2021-09-10T23:22:39.831Z"
   },
   {
    "duration": 1017,
    "start_time": "2021-09-10T23:22:40.016Z"
   },
   {
    "duration": 153,
    "start_time": "2021-09-10T23:22:41.036Z"
   },
   {
    "duration": 1472,
    "start_time": "2021-09-10T23:23:29.867Z"
   },
   {
    "duration": 1868,
    "start_time": "2021-09-10T23:23:31.341Z"
   },
   {
    "duration": 333,
    "start_time": "2021-09-10T23:23:33.212Z"
   },
   {
    "duration": 3,
    "start_time": "2021-09-10T23:23:33.548Z"
   },
   {
    "duration": 115,
    "start_time": "2021-09-10T23:23:33.554Z"
   },
   {
    "duration": 387,
    "start_time": "2021-09-10T23:23:33.671Z"
   },
   {
    "duration": 3,
    "start_time": "2021-09-10T23:23:34.061Z"
   },
   {
    "duration": 18,
    "start_time": "2021-09-10T23:23:34.067Z"
   },
   {
    "duration": 20,
    "start_time": "2021-09-10T23:23:34.088Z"
   },
   {
    "duration": 9,
    "start_time": "2021-09-10T23:23:34.110Z"
   },
   {
    "duration": 446,
    "start_time": "2021-09-10T23:23:42.395Z"
   },
   {
    "duration": 4,
    "start_time": "2021-09-10T23:23:44.074Z"
   },
   {
    "duration": 5,
    "start_time": "2021-09-10T23:23:44.737Z"
   },
   {
    "duration": 5,
    "start_time": "2021-09-10T23:23:44.888Z"
   },
   {
    "duration": 5,
    "start_time": "2021-09-10T23:23:45.058Z"
   },
   {
    "duration": 5,
    "start_time": "2021-09-10T23:23:45.242Z"
   },
   {
    "duration": 24,
    "start_time": "2021-09-10T23:23:45.593Z"
   },
   {
    "duration": 6,
    "start_time": "2021-09-10T23:23:45.766Z"
   },
   {
    "duration": 836,
    "start_time": "2021-09-10T23:23:45.897Z"
   },
   {
    "duration": 249,
    "start_time": "2021-09-10T23:23:46.735Z"
   },
   {
    "duration": 2,
    "start_time": "2021-09-10T23:23:46.987Z"
   },
   {
    "duration": 8,
    "start_time": "2021-09-10T23:23:46.992Z"
   },
   {
    "duration": 1030,
    "start_time": "2021-09-10T23:23:47.003Z"
   },
   {
    "duration": 153,
    "start_time": "2021-09-10T23:23:48.036Z"
   },
   {
    "duration": 391,
    "start_time": "2021-09-10T23:24:29.579Z"
   },
   {
    "duration": 3,
    "start_time": "2021-09-10T23:24:32.962Z"
   },
   {
    "duration": 5,
    "start_time": "2021-09-10T23:24:34.117Z"
   },
   {
    "duration": 5,
    "start_time": "2021-09-10T23:24:34.434Z"
   },
   {
    "duration": 5,
    "start_time": "2021-09-10T23:24:34.588Z"
   },
   {
    "duration": 5,
    "start_time": "2021-09-10T23:24:34.754Z"
   },
   {
    "duration": 50,
    "start_time": "2021-09-10T23:24:35.074Z"
   },
   {
    "duration": 5,
    "start_time": "2021-09-10T23:24:35.225Z"
   },
   {
    "duration": 1422,
    "start_time": "2021-09-10T23:24:35.483Z"
   },
   {
    "duration": 276,
    "start_time": "2021-09-10T23:24:36.907Z"
   },
   {
    "duration": 1411,
    "start_time": "2021-09-10T23:24:45.919Z"
   },
   {
    "duration": 1836,
    "start_time": "2021-09-10T23:24:47.333Z"
   },
   {
    "duration": 349,
    "start_time": "2021-09-10T23:24:49.173Z"
   },
   {
    "duration": 3,
    "start_time": "2021-09-10T23:24:49.525Z"
   },
   {
    "duration": 124,
    "start_time": "2021-09-10T23:24:49.531Z"
   },
   {
    "duration": 414,
    "start_time": "2021-09-10T23:24:49.658Z"
   },
   {
    "duration": 8,
    "start_time": "2021-09-10T23:24:50.074Z"
   },
   {
    "duration": 5,
    "start_time": "2021-09-10T23:24:50.085Z"
   },
   {
    "duration": 16,
    "start_time": "2021-09-10T23:24:50.094Z"
   },
   {
    "duration": 14,
    "start_time": "2021-09-10T23:24:50.113Z"
   },
   {
    "duration": 11,
    "start_time": "2021-09-10T23:24:50.130Z"
   },
   {
    "duration": 97,
    "start_time": "2021-09-10T23:24:50.143Z"
   },
   {
    "duration": 6,
    "start_time": "2021-09-10T23:24:50.242Z"
   },
   {
    "duration": 1209,
    "start_time": "2021-09-10T23:24:50.251Z"
   },
   {
    "duration": 130,
    "start_time": "2021-09-10T23:24:51.462Z"
   },
   {
    "duration": 4,
    "start_time": "2021-09-10T23:24:51.684Z"
   },
   {
    "duration": 37,
    "start_time": "2021-09-10T23:24:51.690Z"
   },
   {
    "duration": 1305,
    "start_time": "2021-09-10T23:24:51.729Z"
   },
   {
    "duration": 247,
    "start_time": "2021-09-10T23:24:53.036Z"
   },
   {
    "duration": 4,
    "start_time": "2021-09-10T23:24:53.286Z"
   },
   {
    "duration": 11,
    "start_time": "2021-09-10T23:24:53.293Z"
   },
   {
    "duration": 9,
    "start_time": "2021-09-10T23:24:53.307Z"
   },
   {
    "duration": 135196,
    "start_time": "2021-09-10T23:24:53.319Z"
   },
   {
    "duration": 3,
    "start_time": "2021-09-10T23:27:08.517Z"
   },
   {
    "duration": 152,
    "start_time": "2021-09-10T23:27:08.523Z"
   },
   {
    "duration": 5,
    "start_time": "2021-09-10T23:27:08.678Z"
   },
   {
    "duration": 399322,
    "start_time": "2021-09-10T23:27:08.690Z"
   },
   {
    "duration": 5,
    "start_time": "2021-09-10T23:33:48.015Z"
   },
   {
    "duration": 61,
    "start_time": "2021-09-10T23:33:48.023Z"
   },
   {
    "duration": 7,
    "start_time": "2021-09-10T23:33:48.087Z"
   },
   {
    "duration": 10,
    "start_time": "2021-09-10T23:33:48.096Z"
   },
   {
    "duration": 1888,
    "start_time": "2021-09-10T23:33:48.109Z"
   },
   {
    "duration": 331,
    "start_time": "2021-09-10T23:33:49.669Z"
   },
   {
    "duration": 325,
    "start_time": "2021-09-10T23:33:49.677Z"
   },
   {
    "duration": 323,
    "start_time": "2021-09-10T23:33:49.680Z"
   },
   {
    "duration": 321,
    "start_time": "2021-09-10T23:33:49.684Z"
   },
   {
    "duration": 311,
    "start_time": "2021-09-10T23:33:49.695Z"
   },
   {
    "duration": 6,
    "start_time": "2021-09-10T23:38:09.712Z"
   },
   {
    "duration": 3,
    "start_time": "2021-09-10T23:38:09.870Z"
   },
   {
    "duration": 3388,
    "start_time": "2021-09-10T23:38:10.078Z"
   },
   {
    "duration": 537,
    "start_time": "2021-09-10T23:39:57.766Z"
   },
   {
    "duration": 5,
    "start_time": "2021-09-10T23:40:05.296Z"
   },
   {
    "duration": 5,
    "start_time": "2021-09-10T23:40:05.503Z"
   },
   {
    "duration": 6,
    "start_time": "2021-09-10T23:40:05.670Z"
   },
   {
    "duration": 5,
    "start_time": "2021-09-10T23:40:05.839Z"
   },
   {
    "duration": 27,
    "start_time": "2021-09-10T23:40:07.032Z"
   },
   {
    "duration": 6,
    "start_time": "2021-09-10T23:40:07.198Z"
   },
   {
    "duration": 1115,
    "start_time": "2021-09-10T23:40:07.367Z"
   },
   {
    "duration": 216,
    "start_time": "2021-09-10T23:40:08.670Z"
   },
   {
    "duration": 6,
    "start_time": "2021-09-10T23:40:13.743Z"
   },
   {
    "duration": 3,
    "start_time": "2021-09-10T23:40:14.494Z"
   },
   {
    "duration": 73,
    "start_time": "2021-09-10T23:40:14.686Z"
   },
   {
    "duration": 1598,
    "start_time": "2021-09-10T23:40:18.583Z"
   },
   {
    "duration": 155,
    "start_time": "2021-09-10T23:40:48.335Z"
   },
   {
    "duration": 6,
    "start_time": "2021-09-10T23:40:50.306Z"
   },
   {
    "duration": 3,
    "start_time": "2021-09-10T23:40:50.471Z"
   },
   {
    "duration": 68194,
    "start_time": "2021-09-10T23:40:51.095Z"
   },
   {
    "duration": 4,
    "start_time": "2021-09-10T23:41:59.291Z"
   },
   {
    "duration": 759,
    "start_time": "2021-09-10T23:41:59.298Z"
   },
   {
    "duration": 129517,
    "start_time": "2021-09-10T23:42:00.060Z"
   },
   {
    "duration": 393,
    "start_time": "2021-09-10T23:44:09.582Z"
   },
   {
    "duration": 6,
    "start_time": "2021-09-10T23:47:14.012Z"
   },
   {
    "duration": 3,
    "start_time": "2021-09-10T23:47:15.010Z"
   },
   {
    "duration": 54775,
    "start_time": "2021-09-10T23:47:16.114Z"
   },
   {
    "duration": 749,
    "start_time": "2021-09-10T23:51:27.616Z"
   },
   {
    "duration": 120663,
    "start_time": "2021-09-10T23:51:29.364Z"
   },
   {
    "duration": 341,
    "start_time": "2021-09-10T23:53:29.689Z"
   },
   {
    "duration": 23658,
    "start_time": "2021-09-10T23:53:42.662Z"
   },
   {
    "duration": 5103,
    "start_time": "2021-09-10T23:54:40.528Z"
   },
   {
    "duration": 164,
    "start_time": "2021-09-10T23:54:47.296Z"
   },
   {
    "duration": 303,
    "start_time": "2021-09-10T23:54:48.354Z"
   },
   {
    "duration": 5,
    "start_time": "2021-09-10T23:55:09.655Z"
   },
   {
    "duration": 481,
    "start_time": "2021-09-10T23:55:40.431Z"
   },
   {
    "duration": 1394,
    "start_time": "2021-09-10T23:57:06.142Z"
   },
   {
    "duration": 1803,
    "start_time": "2021-09-10T23:57:07.538Z"
   },
   {
    "duration": 334,
    "start_time": "2021-09-10T23:57:09.344Z"
   },
   {
    "duration": 3,
    "start_time": "2021-09-10T23:57:09.683Z"
   },
   {
    "duration": 543,
    "start_time": "2021-09-10T23:57:09.688Z"
   },
   {
    "duration": 266,
    "start_time": "2021-09-10T23:57:10.233Z"
   },
   {
    "duration": 3,
    "start_time": "2021-09-10T23:57:10.502Z"
   },
   {
    "duration": 16,
    "start_time": "2021-09-10T23:57:10.511Z"
   },
   {
    "duration": 14,
    "start_time": "2021-09-10T23:57:10.530Z"
   },
   {
    "duration": 18,
    "start_time": "2021-09-10T23:57:10.546Z"
   },
   {
    "duration": 16,
    "start_time": "2021-09-10T23:57:10.566Z"
   },
   {
    "duration": 31,
    "start_time": "2021-09-10T23:57:10.584Z"
   },
   {
    "duration": 5,
    "start_time": "2021-09-10T23:57:10.617Z"
   },
   {
    "duration": 1216,
    "start_time": "2021-09-10T23:57:10.624Z"
   },
   {
    "duration": 241,
    "start_time": "2021-09-10T23:57:11.842Z"
   },
   {
    "duration": 3,
    "start_time": "2021-09-10T23:57:12.085Z"
   },
   {
    "duration": 19,
    "start_time": "2021-09-10T23:57:12.090Z"
   },
   {
    "duration": 1335,
    "start_time": "2021-09-10T23:57:12.111Z"
   },
   {
    "duration": 234,
    "start_time": "2021-09-10T23:57:13.448Z"
   },
   {
    "duration": 3,
    "start_time": "2021-09-10T23:57:13.684Z"
   },
   {
    "duration": 14,
    "start_time": "2021-09-10T23:57:13.689Z"
   },
   {
    "duration": 11,
    "start_time": "2021-09-10T23:57:13.706Z"
   },
   {
    "duration": 136966,
    "start_time": "2021-09-10T23:57:13.721Z"
   },
   {
    "duration": 3,
    "start_time": "2021-09-10T23:59:30.689Z"
   },
   {
    "duration": 223,
    "start_time": "2021-09-10T23:59:30.694Z"
   },
   {
    "duration": 2,
    "start_time": "2021-09-10T23:59:30.920Z"
   },
   {
    "duration": 348163,
    "start_time": "2021-09-10T23:59:30.925Z"
   },
   {
    "duration": 5,
    "start_time": "2021-09-11T00:05:19.090Z"
   },
   {
    "duration": 12,
    "start_time": "2021-09-11T00:05:19.097Z"
   },
   {
    "duration": 7,
    "start_time": "2021-09-11T00:05:19.111Z"
   },
   {
    "duration": 13,
    "start_time": "2021-09-11T00:05:19.120Z"
   },
   {
    "duration": 54153,
    "start_time": "2021-09-11T00:05:19.135Z"
   },
   {
    "duration": 4,
    "start_time": "2021-09-11T00:06:13.290Z"
   },
   {
    "duration": 723,
    "start_time": "2021-09-11T00:06:13.296Z"
   },
   {
    "duration": 129080,
    "start_time": "2021-09-11T00:06:14.022Z"
   },
   {
    "duration": 273,
    "start_time": "2021-09-11T00:08:23.104Z"
   },
   {
    "duration": 1388,
    "start_time": "2021-09-11T00:13:05.925Z"
   },
   {
    "duration": 1425,
    "start_time": "2021-09-11T00:13:10.046Z"
   },
   {
    "duration": 121,
    "start_time": "2021-09-11T00:13:11.474Z"
   },
   {
    "duration": 1312,
    "start_time": "2021-09-11T00:13:39.477Z"
   },
   {
    "duration": 96,
    "start_time": "2021-09-11T00:13:40.791Z"
   },
   {
    "duration": 1143,
    "start_time": "2021-09-11T06:46:08.069Z"
   },
   {
    "duration": 1320,
    "start_time": "2021-09-11T06:46:09.213Z"
   },
   {
    "duration": 251,
    "start_time": "2021-09-11T06:46:10.535Z"
   },
   {
    "duration": 3,
    "start_time": "2021-09-11T06:46:11.850Z"
   },
   {
    "duration": 244,
    "start_time": "2021-09-11T06:46:12.035Z"
   },
   {
    "duration": 228,
    "start_time": "2021-09-11T06:46:14.379Z"
   },
   {
    "duration": 3,
    "start_time": "2021-09-11T06:46:16.082Z"
   },
   {
    "duration": 4,
    "start_time": "2021-09-11T06:46:17.603Z"
   },
   {
    "duration": 3,
    "start_time": "2021-09-11T06:46:19.699Z"
   },
   {
    "duration": 3,
    "start_time": "2021-09-11T06:46:20.915Z"
   },
   {
    "duration": 15,
    "start_time": "2021-09-11T06:46:24.971Z"
   },
   {
    "duration": 4,
    "start_time": "2021-09-11T06:46:27.187Z"
   },
   {
    "duration": 933,
    "start_time": "2021-09-11T06:46:31.019Z"
   },
   {
    "duration": 145,
    "start_time": "2021-09-11T06:46:32.243Z"
   },
   {
    "duration": 1126,
    "start_time": "2021-09-11T06:46:37.292Z"
   },
   {
    "duration": 4,
    "start_time": "2021-09-11T06:47:01.862Z"
   },
   {
    "duration": 1043,
    "start_time": "2021-09-11T06:47:06.169Z"
   },
   {
    "duration": 145,
    "start_time": "2021-09-11T06:47:09.148Z"
   },
   {
    "duration": 5,
    "start_time": "2021-09-11T06:47:19.219Z"
   },
   {
    "duration": 182,
    "start_time": "2021-09-11T06:47:20.405Z"
   },
   {
    "duration": 44569,
    "start_time": "2021-09-11T06:48:33.820Z"
   },
   {
    "duration": 1792,
    "start_time": "2021-10-25T06:11:09.949Z"
   },
   {
    "duration": 469,
    "start_time": "2021-10-25T06:11:46.270Z"
   },
   {
    "duration": 327,
    "start_time": "2021-10-25T06:12:54.957Z"
   },
   {
    "duration": 327,
    "start_time": "2021-10-25T06:13:45.997Z"
   },
   {
    "duration": 9,
    "start_time": "2021-10-25T06:14:50.598Z"
   },
   {
    "duration": 7,
    "start_time": "2021-10-25T06:15:29.374Z"
   },
   {
    "duration": 7,
    "start_time": "2021-10-25T06:15:41.918Z"
   },
   {
    "duration": 4,
    "start_time": "2021-10-25T06:16:21.559Z"
   },
   {
    "duration": 5,
    "start_time": "2021-10-25T06:16:38.686Z"
   },
   {
    "duration": 6,
    "start_time": "2021-10-25T06:16:51.702Z"
   },
   {
    "duration": 6,
    "start_time": "2021-10-25T06:17:00.631Z"
   },
   {
    "duration": 107,
    "start_time": "2021-10-25T06:17:45.719Z"
   },
   {
    "duration": 333,
    "start_time": "2021-10-25T06:17:56.190Z"
   },
   {
    "duration": 6,
    "start_time": "2021-10-25T06:18:50.334Z"
   },
   {
    "duration": 7,
    "start_time": "2021-10-25T06:19:16.464Z"
   },
   {
    "duration": 2303,
    "start_time": "2021-10-25T06:19:18.311Z"
   },
   {
    "duration": 7,
    "start_time": "2021-10-25T06:19:20.616Z"
   },
   {
    "duration": 7,
    "start_time": "2021-10-25T06:19:22.361Z"
   },
   {
    "duration": 324,
    "start_time": "2021-10-25T06:22:10.112Z"
   },
   {
    "duration": 353,
    "start_time": "2021-10-25T06:22:17.169Z"
   },
   {
    "duration": 9,
    "start_time": "2021-10-25T06:22:22.123Z"
   },
   {
    "duration": 10,
    "start_time": "2021-10-25T06:22:31.544Z"
   },
   {
    "duration": 9,
    "start_time": "2021-10-25T06:27:17.226Z"
   },
   {
    "duration": 427,
    "start_time": "2021-10-25T06:27:27.004Z"
   },
   {
    "duration": 120,
    "start_time": "2021-10-25T06:27:42.563Z"
   },
   {
    "duration": 127,
    "start_time": "2021-10-25T06:27:47.274Z"
   },
   {
    "duration": 8,
    "start_time": "2021-10-25T06:28:13.732Z"
   },
   {
    "duration": 882,
    "start_time": "2021-10-25T06:28:23.666Z"
   },
   {
    "duration": 10,
    "start_time": "2021-10-25T06:28:31.415Z"
   },
   {
    "duration": 12,
    "start_time": "2021-10-25T06:30:35.557Z"
   },
   {
    "duration": 10,
    "start_time": "2021-10-25T06:30:41.412Z"
   },
   {
    "duration": 10,
    "start_time": "2021-10-25T06:30:50.616Z"
   },
   {
    "duration": 9,
    "start_time": "2021-10-25T06:30:54.558Z"
   },
   {
    "duration": 10,
    "start_time": "2021-10-25T06:30:57.014Z"
   },
   {
    "duration": 14,
    "start_time": "2021-10-25T06:31:23.079Z"
   },
   {
    "duration": 11,
    "start_time": "2021-10-25T06:31:35.693Z"
   },
   {
    "duration": 11,
    "start_time": "2021-10-25T06:32:59.141Z"
   },
   {
    "duration": 246,
    "start_time": "2021-10-25T06:35:07.629Z"
   },
   {
    "duration": 13,
    "start_time": "2021-10-25T06:35:41.511Z"
   },
   {
    "duration": 127,
    "start_time": "2021-10-25T06:36:52.726Z"
   },
   {
    "duration": 11,
    "start_time": "2021-10-25T06:36:56.727Z"
   },
   {
    "duration": 12,
    "start_time": "2021-10-25T06:37:21.489Z"
   },
   {
    "duration": 12,
    "start_time": "2021-10-25T06:37:41.984Z"
   },
   {
    "duration": 518,
    "start_time": "2021-10-25T06:37:49.190Z"
   },
   {
    "duration": 11,
    "start_time": "2021-10-25T06:37:59.634Z"
   },
   {
    "duration": 15,
    "start_time": "2021-10-25T06:38:05.488Z"
   },
   {
    "duration": 14,
    "start_time": "2021-10-25T06:38:09.080Z"
   },
   {
    "duration": 14,
    "start_time": "2021-10-25T06:38:43.048Z"
   },
   {
    "duration": 10,
    "start_time": "2021-10-25T06:41:44.647Z"
   },
   {
    "duration": 11,
    "start_time": "2021-10-25T06:43:16.685Z"
   },
   {
    "duration": 297,
    "start_time": "2021-10-25T06:43:26.878Z"
   },
   {
    "duration": 1705,
    "start_time": "2021-11-04T11:37:55.041Z"
   },
   {
    "duration": 2381,
    "start_time": "2021-11-04T11:37:56.749Z"
   },
   {
    "duration": 421,
    "start_time": "2021-11-04T11:37:59.134Z"
   },
   {
    "duration": 2,
    "start_time": "2021-11-04T11:37:59.558Z"
   },
   {
    "duration": 509,
    "start_time": "2021-11-04T11:37:59.563Z"
   },
   {
    "duration": 401,
    "start_time": "2021-11-04T11:38:00.075Z"
   },
   {
    "duration": 5,
    "start_time": "2021-11-04T11:38:00.479Z"
   },
   {
    "duration": 20,
    "start_time": "2021-11-04T11:38:00.488Z"
   },
   {
    "duration": 21,
    "start_time": "2021-11-04T11:38:00.514Z"
   },
   {
    "duration": 16,
    "start_time": "2021-11-04T11:38:00.537Z"
   },
   {
    "duration": 56,
    "start_time": "2021-11-04T11:38:00.557Z"
   },
   {
    "duration": 7,
    "start_time": "2021-11-04T11:38:00.620Z"
   },
   {
    "duration": 1537,
    "start_time": "2021-11-04T11:38:00.629Z"
   },
   {
    "duration": 241,
    "start_time": "2021-11-04T11:38:02.168Z"
   },
   {
    "duration": 2156,
    "start_time": "2021-11-04T11:38:02.412Z"
   },
   {
    "duration": 148,
    "start_time": "2021-11-04T11:38:04.570Z"
   },
   {
    "duration": 13,
    "start_time": "2021-11-04T11:38:04.800Z"
   },
   {
    "duration": 171694,
    "start_time": "2021-11-04T11:38:04.818Z"
   },
   {
    "duration": 2,
    "start_time": "2021-11-04T11:40:56.516Z"
   },
   {
    "duration": 226,
    "start_time": "2021-11-04T11:40:56.521Z"
   },
   {
    "duration": 3,
    "start_time": "2021-11-04T11:40:56.750Z"
   },
   {
    "duration": 392349,
    "start_time": "2021-11-04T11:40:56.755Z"
   },
   {
    "duration": 6,
    "start_time": "2021-11-04T11:47:29.113Z"
   },
   {
    "duration": 11,
    "start_time": "2021-11-04T11:47:29.130Z"
   },
   {
    "duration": 51,
    "start_time": "2021-11-04T11:47:29.157Z"
   },
   {
    "duration": 188956,
    "start_time": "2021-11-04T11:47:31.452Z"
   },
   {
    "duration": 818,
    "start_time": "2021-11-04T11:50:40.899Z"
   },
   {
    "duration": 170403,
    "start_time": "2021-11-04T11:50:41.726Z"
   },
   {
    "duration": 358,
    "start_time": "2021-11-04T11:53:32.604Z"
   }
  ],
  "kernelspec": {
   "display_name": "Python 3 (ipykernel)",
   "language": "python",
   "name": "python3"
  },
  "language_info": {
   "codemirror_mode": {
    "name": "ipython",
    "version": 3
   },
   "file_extension": ".py",
   "mimetype": "text/x-python",
   "name": "python",
   "nbconvert_exporter": "python",
   "pygments_lexer": "ipython3",
   "version": "3.10.2"
  },
  "toc": {
   "base_numbering": 1,
   "nav_menu": {
    "height": "306px",
    "width": "238px"
   },
   "number_sections": true,
   "sideBar": true,
   "skip_h1_title": true,
   "title_cell": "Table of Contents",
   "title_sidebar": "Contents",
   "toc_cell": false,
   "toc_position": {},
   "toc_section_display": true,
   "toc_window_display": true
  },
  "varInspector": {
   "cols": {
    "lenName": 16,
    "lenType": 16,
    "lenVar": 40
   },
   "kernels_config": {
    "python": {
     "delete_cmd_postfix": "",
     "delete_cmd_prefix": "del ",
     "library": "var_list.py",
     "varRefreshCmd": "print(var_dic_list())"
    },
    "r": {
     "delete_cmd_postfix": ") ",
     "delete_cmd_prefix": "rm(",
     "library": "var_list.r",
     "varRefreshCmd": "cat(var_dic_list()) "
    }
   },
   "types_to_exclude": [
    "module",
    "function",
    "builtin_function_or_method",
    "instance",
    "_Feature"
   ],
   "window_display": false
  }
 },
 "nbformat": 4,
 "nbformat_minor": 2
}
