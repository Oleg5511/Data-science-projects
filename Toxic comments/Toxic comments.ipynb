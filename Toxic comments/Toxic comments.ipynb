{
 "cells": [
  {
   "cell_type": "markdown",
   "metadata": {},
   "source": [
    "# Проект для интернет магазина"
   ]
  },
  {
   "cell_type": "markdown",
   "metadata": {
    "toc": true
   },
   "source": [
    "<h1>Содержание<span class=\"tocSkip\"></span></h1>\n",
    "<div class=\"toc\"><ul class=\"toc-item\"><li><span><a href=\"#Подготовка\" data-toc-modified-id=\"Подготовка-1\"><span class=\"toc-item-num\">1&nbsp;&nbsp;</span>Подготовка</a></span></li><li><span><a href=\"#Обучение\" data-toc-modified-id=\"Обучение-2\"><span class=\"toc-item-num\">2&nbsp;&nbsp;</span>Обучение</a></span></li><li><span><a href=\"#Тестирование\" data-toc-modified-id=\"Тестирование-3\"><span class=\"toc-item-num\">3&nbsp;&nbsp;</span>Тестирование</a></span></li><li><span><a href=\"#Выводы\" data-toc-modified-id=\"Выводы-4\"><span class=\"toc-item-num\">4&nbsp;&nbsp;</span>Выводы</a></span></li></ul></div>"
   ]
  },
  {
   "cell_type": "markdown",
   "metadata": {},
   "source": [
    "Интернет-магазин запускает новый сервис. Пользователи смогут редактировать и дополнять описания товаров. То есть клиенты предлагают свои правки и комментируют изменения других. Магазину нужен инструмент, который будет искать токсичные комментарии и отправлять их на модерацию. \n",
    "\n",
    "\n",
    "\n",
    "Метрика: модель со значением метрики качества *F1* не меньше 0.75. \n",
    "\n"
   ]
  },
  {
   "cell_type": "markdown",
   "metadata": {},
   "source": [
    "## Подготовка"
   ]
  },
  {
   "cell_type": "code",
   "execution_count": 1,
   "metadata": {},
   "outputs": [
    {
     "name": "stderr",
     "output_type": "stream",
     "text": [
      "[nltk_data] Downloading package averaged_perceptron_tagger to\n",
      "[nltk_data]     /home/jovyan/nltk_data...\n",
      "[nltk_data]   Unzipping taggers/averaged_perceptron_tagger.zip.\n"
     ]
    },
    {
     "data": {
      "text/plain": [
       "True"
      ]
     },
     "execution_count": 1,
     "metadata": {},
     "output_type": "execute_result"
    }
   ],
   "source": [
    "import nltk\n",
    "import transformers\n",
    "import pandas as pd\n",
    "import numpy as np\n",
    "import re\n",
    "from sklearn.model_selection import cross_val_score, train_test_split\n",
    "from sklearn.linear_model import LogisticRegression\n",
    "from sklearn.ensemble import RandomForestClassifier\n",
    "from sklearn.feature_extraction.text import TfidfVectorizer \n",
    "from nltk.corpus import stopwords as nltk_stopwords\n",
    "from sklearn.metrics import f1_score, mean_absolute_error, make_scorer\n",
    "import spacy\n",
    "from lightgbm import LGBMClassifier\n",
    "from sklearn.pipeline import Pipeline\n",
    "from sklearn.utils import shuffle\n",
    "from sklearn.model_selection import GridSearchCV\n",
    "from nltk.stem import WordNetLemmatizer\n",
    "from nltk import pos_tag\n",
    "from nltk.corpus import wordnet\n",
    "from nltk.tokenize import word_tokenize \n",
    "\n",
    "nltk.download('averaged_perceptron_tagger')"
   ]
  },
  {
   "cell_type": "code",
   "execution_count": 2,
   "metadata": {},
   "outputs": [
    {
     "name": "stdout",
     "output_type": "stream",
     "text": [
      "<class 'pandas.core.frame.DataFrame'>\n",
      "RangeIndex: 159571 entries, 0 to 159570\n",
      "Data columns (total 2 columns):\n",
      "text     159571 non-null object\n",
      "toxic    159571 non-null int64\n",
      "dtypes: int64(1), object(1)\n",
      "memory usage: 2.4+ MB\n",
      "None\n",
      "0    143346\n",
      "1     16225\n",
      "Name: toxic, dtype: int64\n"
     ]
    }
   ],
   "source": [
    "#  Загрузили и посмотрели на баланс классов \n",
    "data = pd.read_csv('/datasets/toxic_comments.csv')\n",
    "data = data.drop_duplicates().reset_index(drop=True)\n",
    "print(data.info())\n",
    "print(data['toxic'].value_counts())"
   ]
  },
  {
   "cell_type": "code",
   "execution_count": 3,
   "metadata": {},
   "outputs": [],
   "source": [
    "lemmatizer = WordNetLemmatizer()\n",
    "\n",
    "def nltk2wn_tag(treebank_tag):\n",
    "\n",
    "    if treebank_tag.startswith('J'):\n",
    "        return wordnet.ADJ\n",
    "    elif treebank_tag.startswith('V'):\n",
    "        return wordnet.VERB\n",
    "    elif treebank_tag.startswith('N'):\n",
    "        return wordnet.NOUN\n",
    "    elif treebank_tag.startswith('R'):\n",
    "        return wordnet.ADV\n",
    "    else:\n",
    "        return ''\n",
    "\n",
    "\n",
    "\n"
   ]
  },
  {
   "cell_type": "code",
   "execution_count": 4,
   "metadata": {},
   "outputs": [],
   "source": [
    "data_new =  data.sample(n=80000, random_state=12345).reset_index(drop=True)\n",
    "\n",
    "corpus = data_new['text']\n",
    "toxic = data_new['toxic']"
   ]
  },
  {
   "cell_type": "code",
   "execution_count": 5,
   "metadata": {},
   "outputs": [],
   "source": [
    "# Функция лемматизации\n",
    "def lemmatize(corpus):\n",
    "    corpus_new = []\n",
    "    for i in range(len(corpus)): \n",
    "        text = str(corpus[i])\n",
    "#         print(type(text))\n",
    "        nltk_tagged = nltk.pos_tag(nltk.word_tokenize(text))  \n",
    "        wn_tagged = map(lambda x: (x[0], nltk2wn_tag(x[1])), nltk_tagged)\n",
    "        res_words = []\n",
    "        for word, tag in wn_tagged:\n",
    "            if tag == '': \n",
    "                res_words.append(word)\n",
    "            else:\n",
    "                res_words.append(lemmatizer.lemmatize(word, tag))   \n",
    "        res_words =  \" \".join(res_words)  \n",
    "            \n",
    "        corpus_new.append(res_words)\n",
    "            \n",
    "    return corpus_new\n"
   ]
  },
  {
   "cell_type": "markdown",
   "metadata": {},
   "source": [
    "Соединил 2 датафрейма с одинаковым колличеством строк. Теперь в data_new баланс классов без дублирования"
   ]
  },
  {
   "cell_type": "code",
   "execution_count": 6,
   "metadata": {},
   "outputs": [],
   "source": [
    "# Функция очистки от лишних символов\n",
    "def clear_text(corpus):\n",
    "    white_corpus = []\n",
    "    for i in range (len(corpus)):\n",
    "        text = corpus[i]\n",
    "        text = ' '.join(re.sub(r'[^a-zA-Z ]', ' ', text).split())\n",
    "        white_corpus.append(text)\n",
    "    return white_corpus"
   ]
  },
  {
   "cell_type": "code",
   "execution_count": 7,
   "metadata": {},
   "outputs": [],
   "source": [
    "# lem_text = lemmatize(clear_text(corpus)) "
   ]
  },
  {
   "cell_type": "code",
   "execution_count": 8,
   "metadata": {},
   "outputs": [],
   "source": [
    "# разделяем выборку на тренировочную, валидационную и тестовую\n",
    "features = corpus\n",
    "target = toxic\n",
    "features_train, features_valid, target_train, target_valid = train_test_split(corpus, \n",
    "                                                                            toxic,\n",
    "                                                                            test_size=0.1, random_state=12345)\n",
    "\n",
    "features_valid, features_test, target_valid, target_test = train_test_split(features_valid, \n",
    "                                                                            target_valid,\n",
    "                                                                            test_size=0.5, random_state=12345)\n"
   ]
  },
  {
   "cell_type": "code",
   "execution_count": 9,
   "metadata": {},
   "outputs": [
    {
     "name": "stdout",
     "output_type": "stream",
     "text": [
      "0    64687\n",
      "1     7313\n",
      "Name: toxic, dtype: int64\n"
     ]
    }
   ],
   "source": [
    "# небольшая препдподготовка для функции апсемплинг\n",
    "features_train = pd.Series(data=features_train)#.reset_index(drop=True)\n",
    "target_train = pd.Series(target_train)#.reset_index(drop=True)\n",
    "print(target_train.value_counts())    \n"
   ]
  },
  {
   "cell_type": "code",
   "execution_count": 10,
   "metadata": {},
   "outputs": [],
   "source": [
    "# функция для выравнивания классов, так как токсичных коментариев немного. \n",
    "def upsample (features, target, repeat):\n",
    "    features_zeros = features[target == 0]\n",
    "    features_ones = features[target == 1]\n",
    "    target_zeros = target[target==0]\n",
    "    target_ones = target[target==1]\n",
    "    \n",
    "    features_upsampled = pd.concat([features_zeros] + [features_ones] * repeat)\n",
    "\n",
    "\n",
    "    target_upsampled = pd.concat([target_zeros] + [target_ones] * repeat)\n",
    "\n",
    "    \n",
    "    features_upsampled, target_upsampled = shuffle(\n",
    "        features_upsampled, target_upsampled, random_state=12345)\n",
    "    \n",
    "    return features_upsampled, target_upsampled\n",
    "\n",
    "\n",
    "# features_train, target_train = upsample(features_train, target_train, 8)"
   ]
  },
  {
   "cell_type": "code",
   "execution_count": 11,
   "metadata": {},
   "outputs": [],
   "source": [
    "def downsample(features, target, fraction):\n",
    "    features_zeros = features[target == 0]\n",
    "    features_ones = features[target == 1]\n",
    "    target_zeros = target[target == 0]\n",
    "    target_ones = target[target == 1]\n",
    "\n",
    "    features_downsampled = pd.concat(\n",
    "        [features_zeros.sample(frac=fraction, random_state=12345)] + [features_ones])\n",
    "    target_downsampled = pd.concat(\n",
    "        [target_zeros.sample(frac=fraction, random_state=12345)] + [target_ones])\n",
    "    \n",
    "    features_downsampled, target_downsampled = shuffle(\n",
    "        features_downsampled, target_downsampled, random_state=12345)\n",
    "    \n",
    "    return features_downsampled, target_downsampled\n",
    "\n",
    "features_train, target_train = downsample(features_train, target_train, 0.35)"
   ]
  },
  {
   "cell_type": "markdown",
   "metadata": {},
   "source": [
    "Функция даунсэмплинга в данном случае более корректна, так как не происходит лишней лемматизации в дальнейшем, что экономит время."
   ]
  },
  {
   "cell_type": "code",
   "execution_count": 12,
   "metadata": {},
   "outputs": [
    {
     "name": "stdout",
     "output_type": "stream",
     "text": [
      "0    22640\n",
      "1     7313\n",
      "Name: toxic, dtype: int64\n",
      "CPU times: user 2min 33s, sys: 1.06 s, total: 2min 34s\n",
      "Wall time: 2min 38s\n"
     ]
    }
   ],
   "source": [
    "%%time\n",
    "features_train = lemmatize(clear_text(features_train.reset_index(drop=True)))\n",
    "print(target_train.value_counts())\n",
    "# print(features_train)"
   ]
  },
  {
   "cell_type": "code",
   "execution_count": 13,
   "metadata": {},
   "outputs": [
    {
     "name": "stdout",
     "output_type": "stream",
     "text": [
      "0    3630\n",
      "1     370\n",
      "Name: toxic, dtype: int64\n"
     ]
    }
   ],
   "source": [
    "features_valid = lemmatize(clear_text(features_valid.reset_index(drop=True)))\n",
    "print(target_valid.value_counts())"
   ]
  },
  {
   "cell_type": "code",
   "execution_count": 14,
   "metadata": {},
   "outputs": [
    {
     "name": "stdout",
     "output_type": "stream",
     "text": [
      "0    3561\n",
      "1     439\n",
      "Name: toxic, dtype: int64\n",
      "CPU times: user 21.1 s, sys: 164 ms, total: 21.3 s\n",
      "Wall time: 21.9 s\n"
     ]
    }
   ],
   "source": [
    "%%time\n",
    "features_test = lemmatize(clear_text(features_test.reset_index(drop=True)))\n",
    "print(target_test.value_counts())"
   ]
  },
  {
   "cell_type": "code",
   "execution_count": 15,
   "metadata": {},
   "outputs": [
    {
     "name": "stderr",
     "output_type": "stream",
     "text": [
      "[nltk_data] Downloading package stopwords to /home/jovyan/nltk_data...\n",
      "[nltk_data]   Unzipping corpora/stopwords.zip.\n"
     ]
    }
   ],
   "source": [
    "# Очищаем наши предложения от стоп-слов\n",
    "\n",
    "nltk.download('stopwords')\n",
    "stopwords = set(nltk_stopwords.words('english'))\n",
    "\n"
   ]
  },
  {
   "cell_type": "markdown",
   "metadata": {},
   "source": [
    "<div class=\"alert alert-block alert-success\">\n",
    "<b>Успех:</b> Отлично, что векторизатор был обучен только на тренировочной части данных. Это уменьшает переобучение.\n",
    "</div>"
   ]
  },
  {
   "cell_type": "markdown",
   "metadata": {},
   "source": [
    "## Обучение"
   ]
  },
  {
   "cell_type": "code",
   "execution_count": 16,
   "metadata": {},
   "outputs": [],
   "source": [
    "# Функция для тестирования\n",
    "def predictions (model):\n",
    "    pred = model.predict(features_test)\n",
    "    return f1_score(target_test, pred)"
   ]
  },
  {
   "cell_type": "code",
   "execution_count": 17,
   "metadata": {},
   "outputs": [
    {
     "name": "stderr",
     "output_type": "stream",
     "text": [
      "/opt/conda/lib/python3.7/site-packages/sklearn/linear_model/logistic.py:432: FutureWarning: Default solver will be changed to 'lbfgs' in 0.22. Specify a solver to silence this warning.\n",
      "  FutureWarning)\n",
      "/opt/conda/lib/python3.7/site-packages/sklearn/linear_model/logistic.py:432: FutureWarning: Default solver will be changed to 'lbfgs' in 0.22. Specify a solver to silence this warning.\n",
      "  FutureWarning)\n",
      "/opt/conda/lib/python3.7/site-packages/sklearn/linear_model/logistic.py:432: FutureWarning: Default solver will be changed to 'lbfgs' in 0.22. Specify a solver to silence this warning.\n",
      "  FutureWarning)\n",
      "/opt/conda/lib/python3.7/site-packages/sklearn/linear_model/logistic.py:432: FutureWarning: Default solver will be changed to 'lbfgs' in 0.22. Specify a solver to silence this warning.\n",
      "  FutureWarning)\n",
      "/opt/conda/lib/python3.7/site-packages/sklearn/linear_model/logistic.py:432: FutureWarning: Default solver will be changed to 'lbfgs' in 0.22. Specify a solver to silence this warning.\n",
      "  FutureWarning)\n",
      "/opt/conda/lib/python3.7/site-packages/sklearn/linear_model/logistic.py:432: FutureWarning: Default solver will be changed to 'lbfgs' in 0.22. Specify a solver to silence this warning.\n",
      "  FutureWarning)\n",
      "/opt/conda/lib/python3.7/site-packages/sklearn/linear_model/logistic.py:432: FutureWarning: Default solver will be changed to 'lbfgs' in 0.22. Specify a solver to silence this warning.\n",
      "  FutureWarning)\n"
     ]
    }
   ],
   "source": [
    "# Pipeline LR\n",
    "def LR():\n",
    "    pipeline = Pipeline([\n",
    "        ('tfidf', TfidfVectorizer(stop_words=stopwords)),\n",
    "        ('model', LogisticRegression()),\n",
    "    ])\n",
    "\n",
    "    f1 = make_scorer(f1_score, greater_is_better=True)\n",
    "    model = pipeline.fit(features_train, target_train)\n",
    "\n",
    "#     predicted = model.predict(features_valid)\n",
    "    f1 = make_scorer(f1_score)\n",
    "    score = cross_val_score(model, features_train, target_train, scoring=f1, cv=6 )\n",
    "#     f1 = f1_score(target_valid, predicted)\n",
    "#     return f1, model\n",
    "    return score.mean(), model\n",
    "\n",
    "lr, model_lr = LR()"
   ]
  },
  {
   "cell_type": "code",
   "execution_count": 18,
   "metadata": {},
   "outputs": [
    {
     "data": {
      "text/plain": [
       "0.7777307941784265"
      ]
     },
     "execution_count": 18,
     "metadata": {},
     "output_type": "execute_result"
    }
   ],
   "source": [
    "lr"
   ]
  },
  {
   "cell_type": "code",
   "execution_count": 19,
   "metadata": {},
   "outputs": [],
   "source": [
    "# Pipeline RFR\n",
    "def RFR(n_estimators, depth):\n",
    "    pipeline = Pipeline([\n",
    "        ('tfidf', TfidfVectorizer(stop_words=stopwords)),\n",
    "        ('model', RandomForestClassifier(n_estimators=n_estimators, max_depth=depth)),\n",
    "        \n",
    "    ])\n",
    "    model = pipeline.fit(features_train, target_train)\n",
    "\n",
    "    predicted =model.predict(features_test)\n",
    "    f1 = f1_score(target_test, predicted)\n",
    "\n",
    "#     f1 = make_scorer(f1_score)\n",
    "#     score = cross_val_score(model, features_train, target_train, scoring=f1, cv=9 )\n",
    "    \n",
    "    return f1, model\n",
    "#     return score.mean()\n",
    "\n",
    "\n",
    "rfr, model_rfr = RFR(150,30)"
   ]
  },
  {
   "cell_type": "code",
   "execution_count": 20,
   "metadata": {},
   "outputs": [
    {
     "data": {
      "text/plain": [
       "0.1279317697228145"
      ]
     },
     "execution_count": 20,
     "metadata": {},
     "output_type": "execute_result"
    }
   ],
   "source": [
    "rfr"
   ]
  },
  {
   "cell_type": "code",
   "execution_count": null,
   "metadata": {},
   "outputs": [],
   "source": [
    "def LGBM(max_depth):\n",
    "    pipeline = Pipeline([('tfidf', TfidfVectorizer(stop_words=stopwords, ngram_range=(2,2))),\n",
    "                         ('model', LGBMClassifier(max_depth=max_depth, \n",
    "                                                                                                     n_estimators=90,\n",
    "                                                                                                     objective='regression',\n",
    "                                                                                                     num_leaves=1400,\n",
    "                                                                                                     metric='f1'))])\n",
    "    model = pipeline.fit(features_train, target_train)\n",
    "\n",
    "    predicted = pipeline.predict(features_test)\n",
    "    f1 = f1_score(target_test, predicted)\n",
    "#     f1 = make_scorer(f1_score)\n",
    "#     score = cross_val_score(model, features_train, target_train, scoring=f1, cv=3 )\n",
    "    return f1, model\n",
    "#     return score.mean()\n",
    "\n",
    "lgbm, model_lgbm = LGBM(20)"
   ]
  },
  {
   "cell_type": "code",
   "execution_count": null,
   "metadata": {},
   "outputs": [],
   "source": [
    "f1_all = [['LR', lr], ['RFR', rfr],  ['LGBM', lgbm]]\n",
    "f1_columns = ['Модель', 'F1']\n",
    "\n",
    "\n",
    "\n",
    "f1_data = pd.DataFrame(f1_all, columns=f1_columns).pivot_table(index='Модель', values='F1', \n",
    "                                                                     aggfunc='sum').sort_values(by='F1')\n",
    "\n",
    "\n",
    "\n",
    "\n",
    "colors = [ \"green\", \"magenta\", \"gold\"]\n",
    "f1_data['F1'].plot(kind='bar', color=colors)\n",
    "print(f1_data)"
   ]
  },
  {
   "cell_type": "markdown",
   "metadata": {},
   "source": [
    "## Тестирование"
   ]
  },
  {
   "cell_type": "code",
   "execution_count": null,
   "metadata": {},
   "outputs": [],
   "source": [
    "lr_test = predictions(model_lr)\n",
    "rfr_test = predictions(model_rfr)\n",
    "lgbm_test = predictions(model_lgbm)\n",
    "\n",
    "f1_test = [['LR', lr_test], ['RFR', rfr_test],  ['LGBM', lgbm_test]]\n",
    "f1_columns = ['Модель', 'F1']\n",
    "\n",
    "\n",
    "\n",
    "f1_data = pd.DataFrame(f1_test, columns=f1_columns).pivot_table(index='Модель', values='F1', \n",
    "                                                                     aggfunc='sum').sort_values(by='F1')\n",
    "\n",
    "\n",
    "\n",
    "\n",
    "colors = [ \"green\", \"magenta\", \"gold\"]\n",
    "f1_data['F1'].plot(kind='bar', color=colors)\n",
    "print(f1_data)"
   ]
  },
  {
   "cell_type": "markdown",
   "metadata": {},
   "source": [
    "## Выводы"
   ]
  },
  {
   "cell_type": "markdown",
   "metadata": {},
   "source": [
    "В ходе проделанной работы из набора комментариев были удалены возможные дубликаты, сделана выборка для последующего обучения моделей ML. Перед обучением коментарии в выборке были очищены от лишних символов, слова лемматизированны, а также был выровнен баланс классов. \n",
    "Из исследуемых моделей ML лучшую заданную метрику f1 на тестовой выборке показала модель логистической регрессии: 0.78, и 0,77 при проведении кросс валидации. У остальных моделей метрика f1 ниже требуемого значения."
   ]
  }
 ],
 "metadata": {
  "ExecuteTimeLog": [
   {
    "duration": 457,
    "start_time": "2021-09-23T11:25:48.676Z"
   },
   {
    "duration": 6627,
    "start_time": "2021-09-23T11:25:52.650Z"
   },
   {
    "duration": 1767,
    "start_time": "2021-09-23T11:25:59.280Z"
   },
   {
    "duration": 756,
    "start_time": "2021-09-23T11:36:10.742Z"
   },
   {
    "duration": 755,
    "start_time": "2021-09-23T11:37:10.510Z"
   },
   {
    "duration": 884,
    "start_time": "2021-09-23T11:55:43.868Z"
   },
   {
    "duration": 339078,
    "start_time": "2021-09-23T11:56:04.498Z"
   },
   {
    "duration": 494,
    "start_time": "2021-09-23T12:24:15.834Z"
   },
   {
    "duration": 7337,
    "start_time": "2021-09-23T12:24:18.939Z"
   },
   {
    "duration": 13560,
    "start_time": "2021-09-23T12:24:12.719Z"
   },
   {
    "duration": 13554,
    "start_time": "2021-09-23T12:24:12.726Z"
   },
   {
    "duration": 390,
    "start_time": "2021-09-23T12:24:38.202Z"
   },
   {
    "duration": 26,
    "start_time": "2021-09-23T12:25:05.298Z"
   },
   {
    "duration": 1211,
    "start_time": "2021-09-23T12:25:06.897Z"
   },
   {
    "duration": 13570,
    "start_time": "2021-09-23T12:24:54.541Z"
   },
   {
    "duration": 781,
    "start_time": "2021-09-23T12:25:12.738Z"
   },
   {
    "duration": 4672,
    "start_time": "2021-09-23T12:25:15.953Z"
   },
   {
    "duration": 1439,
    "start_time": "2021-09-23T12:25:29.059Z"
   },
   {
    "duration": 1082,
    "start_time": "2021-09-23T12:25:56.961Z"
   },
   {
    "duration": 1046,
    "start_time": "2021-09-23T12:27:59.606Z"
   },
   {
    "duration": 5816,
    "start_time": "2021-09-23T12:28:04.670Z"
   },
   {
    "duration": 442,
    "start_time": "2021-09-23T12:28:53.143Z"
   },
   {
    "duration": 6625,
    "start_time": "2021-09-23T12:29:11.467Z"
   },
   {
    "duration": 800,
    "start_time": "2021-09-23T12:29:18.094Z"
   },
   {
    "duration": 1041,
    "start_time": "2021-09-23T12:29:18.898Z"
   },
   {
    "duration": 6036,
    "start_time": "2021-09-23T12:29:19.942Z"
   },
   {
    "duration": 967,
    "start_time": "2021-09-23T12:29:25.980Z"
   },
   {
    "duration": 13545,
    "start_time": "2021-09-23T12:29:13.404Z"
   },
   {
    "duration": 796,
    "start_time": "2021-09-23T12:30:06.134Z"
   },
   {
    "duration": 1159,
    "start_time": "2021-09-23T12:30:08.512Z"
   },
   {
    "duration": 7381,
    "start_time": "2021-09-23T12:30:55.462Z"
   },
   {
    "duration": 799,
    "start_time": "2021-09-23T12:31:02.846Z"
   },
   {
    "duration": 1098,
    "start_time": "2021-09-23T12:31:03.648Z"
   },
   {
    "duration": 6645,
    "start_time": "2021-09-23T12:31:04.750Z"
   },
   {
    "duration": 1465,
    "start_time": "2021-09-23T12:31:11.398Z"
   },
   {
    "duration": 13553,
    "start_time": "2021-09-23T12:30:59.314Z"
   },
   {
    "duration": 8282,
    "start_time": "2021-09-24T05:14:18.099Z"
   },
   {
    "duration": 4197,
    "start_time": "2021-09-24T05:14:26.382Z"
   },
   {
    "duration": 763,
    "start_time": "2021-09-24T05:14:30.581Z"
   },
   {
    "duration": 9747,
    "start_time": "2021-09-24T05:14:31.346Z"
   },
   {
    "duration": 526,
    "start_time": "2021-09-24T05:14:42.825Z"
   },
   {
    "duration": 182,
    "start_time": "2021-09-24T05:15:31.714Z"
   },
   {
    "duration": 3694,
    "start_time": "2021-09-24T05:15:57.275Z"
   },
   {
    "duration": 206,
    "start_time": "2021-09-24T05:16:03.601Z"
   },
   {
    "duration": 629,
    "start_time": "2021-09-24T05:17:08.810Z"
   },
   {
    "duration": 3655,
    "start_time": "2021-09-24T05:17:10.169Z"
   },
   {
    "duration": 522,
    "start_time": "2021-09-24T05:17:13.826Z"
   },
   {
    "duration": 4430,
    "start_time": "2021-09-24T05:19:05.690Z"
   },
   {
    "duration": 580,
    "start_time": "2021-09-24T05:19:10.122Z"
   },
   {
    "duration": 601,
    "start_time": "2021-09-24T05:19:10.704Z"
   },
   {
    "duration": 3660,
    "start_time": "2021-09-24T05:19:11.307Z"
   },
   {
    "duration": 883,
    "start_time": "2021-09-24T05:19:14.969Z"
   },
   {
    "duration": -218,
    "start_time": "2021-09-24T05:19:16.072Z"
   },
   {
    "duration": 761,
    "start_time": "2021-09-24T05:21:55.788Z"
   },
   {
    "duration": 784,
    "start_time": "2021-09-24T05:22:27.868Z"
   },
   {
    "duration": 1161,
    "start_time": "2021-09-24T05:25:40.752Z"
   },
   {
    "duration": 3,
    "start_time": "2021-09-24T05:25:45.901Z"
   },
   {
    "duration": 781,
    "start_time": "2021-09-24T05:25:45.905Z"
   },
   {
    "duration": 594,
    "start_time": "2021-09-24T05:25:46.689Z"
   },
   {
    "duration": 8123,
    "start_time": "2021-09-24T05:26:41.945Z"
   },
   {
    "duration": 4126,
    "start_time": "2021-09-24T05:26:50.070Z"
   },
   {
    "duration": 1912,
    "start_time": "2021-09-24T05:26:54.200Z"
   },
   {
    "duration": -200,
    "start_time": "2021-09-24T05:26:56.314Z"
   },
   {
    "duration": -216,
    "start_time": "2021-09-24T05:26:56.331Z"
   },
   {
    "duration": -216,
    "start_time": "2021-09-24T05:26:56.332Z"
   },
   {
    "duration": 205,
    "start_time": "2021-09-24T05:30:36.801Z"
   },
   {
    "duration": 8513,
    "start_time": "2021-09-24T05:30:38.641Z"
   },
   {
    "duration": 5890,
    "start_time": "2021-09-24T05:30:47.156Z"
   },
   {
    "duration": 8,
    "start_time": "2021-09-24T05:34:42.405Z"
   },
   {
    "duration": 808,
    "start_time": "2021-09-24T05:34:43.451Z"
   },
   {
    "duration": 2004,
    "start_time": "2021-09-24T05:37:14.785Z"
   },
   {
    "duration": 657,
    "start_time": "2021-09-24T05:37:50.516Z"
   },
   {
    "duration": 732,
    "start_time": "2021-09-24T05:38:24.860Z"
   },
   {
    "duration": 4,
    "start_time": "2021-09-24T05:39:01.022Z"
   },
   {
    "duration": 3,
    "start_time": "2021-09-24T05:42:08.651Z"
   },
   {
    "duration": 4,
    "start_time": "2021-09-24T05:44:48.913Z"
   },
   {
    "duration": 206,
    "start_time": "2021-09-24T05:44:53.128Z"
   },
   {
    "duration": 170,
    "start_time": "2021-09-24T05:45:05.839Z"
   },
   {
    "duration": 8291,
    "start_time": "2021-09-24T05:45:21.845Z"
   },
   {
    "duration": 2871,
    "start_time": "2021-09-24T05:45:30.138Z"
   },
   {
    "duration": 2019,
    "start_time": "2021-09-24T05:45:33.011Z"
   },
   {
    "duration": 9,
    "start_time": "2021-09-24T05:45:35.031Z"
   },
   {
    "duration": 734,
    "start_time": "2021-09-24T05:45:35.042Z"
   },
   {
    "duration": 5,
    "start_time": "2021-09-24T05:45:35.778Z"
   },
   {
    "duration": 493,
    "start_time": "2021-09-24T05:45:35.784Z"
   },
   {
    "duration": 5143,
    "start_time": "2021-09-24T05:47:05.433Z"
   },
   {
    "duration": 801,
    "start_time": "2021-09-24T05:47:10.578Z"
   },
   {
    "duration": 2012,
    "start_time": "2021-09-24T05:47:11.381Z"
   },
   {
    "duration": 4,
    "start_time": "2021-09-24T05:47:13.399Z"
   },
   {
    "duration": 715,
    "start_time": "2021-09-24T05:47:13.405Z"
   },
   {
    "duration": 5,
    "start_time": "2021-09-24T05:47:14.122Z"
   },
   {
    "duration": 5,
    "start_time": "2021-09-24T05:47:14.129Z"
   },
   {
    "duration": 3,
    "start_time": "2021-09-24T05:57:59.142Z"
   },
   {
    "duration": 983,
    "start_time": "2021-09-24T05:57:59.147Z"
   },
   {
    "duration": 8441,
    "start_time": "2021-09-24T05:58:46.373Z"
   },
   {
    "duration": 4273,
    "start_time": "2021-09-24T05:58:54.815Z"
   },
   {
    "duration": 2049,
    "start_time": "2021-09-24T05:58:59.091Z"
   },
   {
    "duration": 16,
    "start_time": "2021-09-24T05:59:01.142Z"
   },
   {
    "duration": 732,
    "start_time": "2021-09-24T05:59:01.159Z"
   },
   {
    "duration": 5,
    "start_time": "2021-09-24T05:59:01.900Z"
   },
   {
    "duration": 9,
    "start_time": "2021-09-24T05:59:01.907Z"
   },
   {
    "duration": 181,
    "start_time": "2021-09-24T06:00:22.778Z"
   },
   {
    "duration": 3,
    "start_time": "2021-09-24T06:00:24.113Z"
   },
   {
    "duration": 663,
    "start_time": "2021-09-24T06:00:24.601Z"
   },
   {
    "duration": 4,
    "start_time": "2021-09-24T06:00:28.817Z"
   },
   {
    "duration": 4,
    "start_time": "2021-09-24T06:00:38.346Z"
   },
   {
    "duration": 842,
    "start_time": "2021-09-24T06:00:38.352Z"
   },
   {
    "duration": 70,
    "start_time": "2021-09-24T06:00:39.199Z"
   },
   {
    "duration": 2,
    "start_time": "2021-09-24T06:00:39.271Z"
   },
   {
    "duration": 665,
    "start_time": "2021-09-24T06:00:39.275Z"
   },
   {
    "duration": 4,
    "start_time": "2021-09-24T06:00:39.942Z"
   },
   {
    "duration": 22,
    "start_time": "2021-09-24T06:00:39.948Z"
   },
   {
    "duration": 63,
    "start_time": "2021-09-24T06:01:37.827Z"
   },
   {
    "duration": 41,
    "start_time": "2021-09-24T06:01:39.073Z"
   },
   {
    "duration": 3,
    "start_time": "2021-09-24T06:01:39.646Z"
   },
   {
    "duration": 657,
    "start_time": "2021-09-24T06:01:40.241Z"
   },
   {
    "duration": 5,
    "start_time": "2021-09-24T06:01:41.833Z"
   },
   {
    "duration": 3,
    "start_time": "2021-09-24T06:02:11.073Z"
   },
   {
    "duration": 5,
    "start_time": "2021-09-24T06:02:11.985Z"
   },
   {
    "duration": 6,
    "start_time": "2021-09-24T06:02:12.764Z"
   },
   {
    "duration": 4,
    "start_time": "2021-09-24T06:02:30.180Z"
   },
   {
    "duration": 828,
    "start_time": "2021-09-24T06:02:30.186Z"
   },
   {
    "duration": 51,
    "start_time": "2021-09-24T06:02:31.016Z"
   },
   {
    "duration": 3,
    "start_time": "2021-09-24T06:02:31.068Z"
   },
   {
    "duration": 659,
    "start_time": "2021-09-24T06:02:31.072Z"
   },
   {
    "duration": 719,
    "start_time": "2021-09-24T06:02:31.733Z"
   },
   {
    "duration": -183,
    "start_time": "2021-09-24T06:02:32.638Z"
   },
   {
    "duration": 58,
    "start_time": "2021-09-24T06:03:08.478Z"
   },
   {
    "duration": 3,
    "start_time": "2021-09-24T06:03:10.050Z"
   },
   {
    "duration": 655,
    "start_time": "2021-09-24T06:03:10.329Z"
   },
   {
    "duration": 978,
    "start_time": "2021-09-24T06:03:10.986Z"
   },
   {
    "duration": 3,
    "start_time": "2021-09-24T06:03:43.771Z"
   },
   {
    "duration": 431,
    "start_time": "2021-09-24T06:03:43.972Z"
   },
   {
    "duration": 5329,
    "start_time": "2021-09-24T06:03:57.772Z"
   },
   {
    "duration": 859,
    "start_time": "2021-09-24T06:04:03.103Z"
   },
   {
    "duration": 36,
    "start_time": "2021-09-24T06:04:03.964Z"
   },
   {
    "duration": 8,
    "start_time": "2021-09-24T06:04:04.002Z"
   },
   {
    "duration": 8,
    "start_time": "2021-09-24T06:04:04.012Z"
   },
   {
    "duration": 727,
    "start_time": "2021-09-24T06:04:04.021Z"
   },
   {
    "duration": -181,
    "start_time": "2021-09-24T06:04:04.931Z"
   },
   {
    "duration": 3,
    "start_time": "2021-09-24T06:06:16.723Z"
   },
   {
    "duration": 2,
    "start_time": "2021-09-24T06:06:17.851Z"
   },
   {
    "duration": 5,
    "start_time": "2021-09-24T06:06:18.107Z"
   },
   {
    "duration": 3,
    "start_time": "2021-09-24T06:06:39.579Z"
   },
   {
    "duration": 2,
    "start_time": "2021-09-24T06:06:39.971Z"
   },
   {
    "duration": 662,
    "start_time": "2021-09-24T06:06:41.116Z"
   },
   {
    "duration": 4626,
    "start_time": "2021-09-24T06:07:52.273Z"
   },
   {
    "duration": 831,
    "start_time": "2021-09-24T06:07:56.901Z"
   },
   {
    "duration": 31,
    "start_time": "2021-09-24T06:07:57.734Z"
   },
   {
    "duration": 7,
    "start_time": "2021-09-24T06:07:57.767Z"
   },
   {
    "duration": 6,
    "start_time": "2021-09-24T06:07:57.775Z"
   },
   {
    "duration": 697,
    "start_time": "2021-09-24T06:07:57.783Z"
   },
   {
    "duration": 2,
    "start_time": "2021-09-24T06:07:58.482Z"
   },
   {
    "duration": 670,
    "start_time": "2021-09-24T06:08:24.413Z"
   },
   {
    "duration": 6,
    "start_time": "2021-09-24T06:08:41.711Z"
   },
   {
    "duration": 669,
    "start_time": "2021-09-24T06:09:20.484Z"
   },
   {
    "duration": 56,
    "start_time": "2021-09-24T06:09:34.055Z"
   },
   {
    "duration": 3,
    "start_time": "2021-09-24T06:09:34.246Z"
   },
   {
    "duration": 2,
    "start_time": "2021-09-24T06:09:34.447Z"
   },
   {
    "duration": 670,
    "start_time": "2021-09-24T06:09:34.613Z"
   },
   {
    "duration": 5801,
    "start_time": "2021-09-24T10:15:27.244Z"
   },
   {
    "duration": 1068,
    "start_time": "2021-09-24T10:15:33.048Z"
   },
   {
    "duration": 42,
    "start_time": "2021-09-24T10:15:34.122Z"
   },
   {
    "duration": 11,
    "start_time": "2021-09-24T10:15:34.167Z"
   },
   {
    "duration": 9,
    "start_time": "2021-09-24T10:15:34.180Z"
   },
   {
    "duration": 980,
    "start_time": "2021-09-24T10:15:34.191Z"
   },
   {
    "duration": 4,
    "start_time": "2021-09-24T10:15:35.174Z"
   },
   {
    "duration": 921,
    "start_time": "2021-09-24T10:20:58.343Z"
   },
   {
    "duration": 887,
    "start_time": "2021-09-24T10:26:51.649Z"
   },
   {
    "duration": 219,
    "start_time": "2021-09-24T10:26:56.787Z"
   },
   {
    "duration": 336,
    "start_time": "2021-09-24T10:26:59.633Z"
   },
   {
    "duration": 330,
    "start_time": "2021-09-24T10:27:32.792Z"
   },
   {
    "duration": 10,
    "start_time": "2021-09-24T10:27:48.624Z"
   },
   {
    "duration": 12441,
    "start_time": "2021-09-24T10:27:54.895Z"
   },
   {
    "duration": 93,
    "start_time": "2021-09-24T10:30:08.417Z"
   },
   {
    "duration": 94,
    "start_time": "2021-09-24T10:30:13.296Z"
   },
   {
    "duration": 1009,
    "start_time": "2021-09-24T10:30:15.603Z"
   },
   {
    "duration": 311,
    "start_time": "2021-09-24T10:31:30.786Z"
   },
   {
    "duration": 357,
    "start_time": "2021-09-24T10:32:38.691Z"
   },
   {
    "duration": 1109,
    "start_time": "2021-09-24T10:32:55.235Z"
   },
   {
    "duration": 570,
    "start_time": "2021-09-24T10:33:07.250Z"
   },
   {
    "duration": 671,
    "start_time": "2021-09-24T10:33:44.329Z"
   },
   {
    "duration": 2077,
    "start_time": "2021-09-24T10:33:49.147Z"
   },
   {
    "duration": 4,
    "start_time": "2021-09-24T10:34:01.181Z"
   },
   {
    "duration": 5,
    "start_time": "2021-09-24T10:34:08.171Z"
   },
   {
    "duration": 590,
    "start_time": "2021-09-24T10:34:21.154Z"
   },
   {
    "duration": 283,
    "start_time": "2021-09-24T10:35:58.474Z"
   },
   {
    "duration": 365,
    "start_time": "2021-09-24T10:36:09.404Z"
   },
   {
    "duration": 5,
    "start_time": "2021-09-24T10:36:27.924Z"
   },
   {
    "duration": 4,
    "start_time": "2021-09-24T10:36:29.171Z"
   },
   {
    "duration": 3,
    "start_time": "2021-09-24T10:36:29.963Z"
   },
   {
    "duration": 583,
    "start_time": "2021-09-24T10:36:30.588Z"
   },
   {
    "duration": 653,
    "start_time": "2021-09-24T10:37:06.197Z"
   },
   {
    "duration": 546,
    "start_time": "2021-09-24T10:37:13.589Z"
   },
   {
    "duration": 4,
    "start_time": "2021-09-24T10:38:21.207Z"
   },
   {
    "duration": 5,
    "start_time": "2021-09-24T10:38:24.165Z"
   },
   {
    "duration": 3,
    "start_time": "2021-09-24T10:38:25.148Z"
   },
   {
    "duration": 560,
    "start_time": "2021-09-24T10:38:25.543Z"
   },
   {
    "duration": 7278,
    "start_time": "2021-09-24T10:38:57.118Z"
   },
   {
    "duration": 230,
    "start_time": "2021-09-24T10:39:04.399Z"
   },
   {
    "duration": 9,
    "start_time": "2021-09-24T10:39:04.633Z"
   },
   {
    "duration": 644,
    "start_time": "2021-09-24T10:39:04.645Z"
   },
   {
    "duration": 5,
    "start_time": "2021-09-24T10:40:00.344Z"
   },
   {
    "duration": 4,
    "start_time": "2021-09-24T10:40:02.363Z"
   },
   {
    "duration": 3,
    "start_time": "2021-09-24T10:40:02.799Z"
   },
   {
    "duration": 615,
    "start_time": "2021-09-24T10:40:03.168Z"
   },
   {
    "duration": 28,
    "start_time": "2021-09-24T10:42:06.429Z"
   },
   {
    "duration": 5808,
    "start_time": "2021-09-24T10:42:16.315Z"
   },
   {
    "duration": 1080,
    "start_time": "2021-09-24T10:42:22.126Z"
   },
   {
    "duration": 2820,
    "start_time": "2021-09-24T10:42:23.209Z"
   },
   {
    "duration": 30,
    "start_time": "2021-09-24T10:42:26.032Z"
   },
   {
    "duration": 21,
    "start_time": "2021-09-24T10:42:26.064Z"
   },
   {
    "duration": 1067,
    "start_time": "2021-09-24T10:42:26.087Z"
   },
   {
    "duration": -432,
    "start_time": "2021-09-24T10:42:27.589Z"
   },
   {
    "duration": -435,
    "start_time": "2021-09-24T10:42:27.593Z"
   },
   {
    "duration": -435,
    "start_time": "2021-09-24T10:42:27.594Z"
   },
   {
    "duration": 5,
    "start_time": "2021-09-24T10:42:41.606Z"
   },
   {
    "duration": 4,
    "start_time": "2021-09-24T10:42:41.789Z"
   },
   {
    "duration": 3,
    "start_time": "2021-09-24T10:42:41.962Z"
   },
   {
    "duration": 604,
    "start_time": "2021-09-24T10:42:42.149Z"
   },
   {
    "duration": 543,
    "start_time": "2021-09-24T10:43:13.824Z"
   },
   {
    "duration": 7,
    "start_time": "2021-09-24T10:45:21.553Z"
   },
   {
    "duration": 575,
    "start_time": "2021-09-24T10:45:24.329Z"
   },
   {
    "duration": 5,
    "start_time": "2021-09-24T10:46:08.103Z"
   },
   {
    "duration": 548,
    "start_time": "2021-09-24T10:46:11.320Z"
   },
   {
    "duration": 5,
    "start_time": "2021-09-24T10:47:10.538Z"
   },
   {
    "duration": 561,
    "start_time": "2021-09-24T10:47:13.968Z"
   },
   {
    "duration": 4,
    "start_time": "2021-09-24T10:47:25.154Z"
   },
   {
    "duration": 724,
    "start_time": "2021-09-24T10:47:27.617Z"
   },
   {
    "duration": 6,
    "start_time": "2021-09-24T10:47:34.434Z"
   },
   {
    "duration": 1884,
    "start_time": "2021-09-24T10:47:36.017Z"
   },
   {
    "duration": 8,
    "start_time": "2021-09-24T10:47:44.411Z"
   },
   {
    "duration": 6115,
    "start_time": "2021-09-24T10:59:50.817Z"
   },
   {
    "duration": 1444,
    "start_time": "2021-09-24T10:59:56.936Z"
   },
   {
    "duration": 6,
    "start_time": "2021-09-24T10:59:58.384Z"
   },
   {
    "duration": 109,
    "start_time": "2021-09-24T10:59:58.393Z"
   },
   {
    "duration": -430,
    "start_time": "2021-09-24T10:59:58.936Z"
   },
   {
    "duration": -430,
    "start_time": "2021-09-24T10:59:58.938Z"
   },
   {
    "duration": -431,
    "start_time": "2021-09-24T10:59:58.940Z"
   },
   {
    "duration": -430,
    "start_time": "2021-09-24T10:59:58.941Z"
   },
   {
    "duration": -432,
    "start_time": "2021-09-24T10:59:58.945Z"
   },
   {
    "duration": 5,
    "start_time": "2021-09-24T11:00:05.571Z"
   },
   {
    "duration": 1057,
    "start_time": "2021-09-24T11:00:05.595Z"
   },
   {
    "duration": 25,
    "start_time": "2021-09-24T11:00:06.655Z"
   },
   {
    "duration": 260,
    "start_time": "2021-09-24T11:00:06.684Z"
   },
   {
    "duration": -421,
    "start_time": "2021-09-24T11:00:07.368Z"
   },
   {
    "duration": -421,
    "start_time": "2021-09-24T11:00:07.371Z"
   },
   {
    "duration": -421,
    "start_time": "2021-09-24T11:00:07.373Z"
   },
   {
    "duration": -420,
    "start_time": "2021-09-24T11:00:07.374Z"
   },
   {
    "duration": -419,
    "start_time": "2021-09-24T11:00:07.376Z"
   },
   {
    "duration": 4,
    "start_time": "2021-09-24T11:01:17.334Z"
   },
   {
    "duration": 3,
    "start_time": "2021-09-24T11:01:18.381Z"
   },
   {
    "duration": 228394,
    "start_time": "2021-09-24T11:01:18.611Z"
   },
   {
    "duration": -424,
    "start_time": "2021-09-24T11:05:07.432Z"
   },
   {
    "duration": 326,
    "start_time": "2021-09-24T11:05:09.456Z"
   },
   {
    "duration": 7,
    "start_time": "2021-09-24T11:07:45.335Z"
   },
   {
    "duration": 6374,
    "start_time": "2021-09-24T11:08:40.785Z"
   },
   {
    "duration": 1074,
    "start_time": "2021-09-24T11:08:47.162Z"
   },
   {
    "duration": 11,
    "start_time": "2021-09-24T11:08:48.240Z"
   },
   {
    "duration": 7,
    "start_time": "2021-09-24T11:08:48.254Z"
   },
   {
    "duration": 7,
    "start_time": "2021-09-24T11:08:48.268Z"
   },
   {
    "duration": 1395,
    "start_time": "2021-09-24T11:08:48.278Z"
   },
   {
    "duration": 89,
    "start_time": "2021-09-24T11:08:49.676Z"
   },
   {
    "duration": -415,
    "start_time": "2021-09-24T11:08:50.182Z"
   },
   {
    "duration": -415,
    "start_time": "2021-09-24T11:08:50.184Z"
   },
   {
    "duration": 5,
    "start_time": "2021-09-24T11:08:55.081Z"
   },
   {
    "duration": 1182,
    "start_time": "2021-09-24T11:08:55.089Z"
   },
   {
    "duration": 11,
    "start_time": "2021-09-24T11:08:56.274Z"
   },
   {
    "duration": 13,
    "start_time": "2021-09-24T11:08:56.288Z"
   },
   {
    "duration": 5,
    "start_time": "2021-09-24T11:08:56.303Z"
   },
   {
    "duration": 1385,
    "start_time": "2021-09-24T11:08:56.324Z"
   },
   {
    "duration": 103,
    "start_time": "2021-09-24T11:08:57.712Z"
   },
   {
    "duration": -408,
    "start_time": "2021-09-24T11:08:58.226Z"
   },
   {
    "duration": -408,
    "start_time": "2021-09-24T11:08:58.227Z"
   },
   {
    "duration": 5,
    "start_time": "2021-09-24T11:09:27.013Z"
   },
   {
    "duration": 6028,
    "start_time": "2021-09-24T11:09:41.161Z"
   },
   {
    "duration": 1019,
    "start_time": "2021-09-24T11:09:47.192Z"
   },
   {
    "duration": 10,
    "start_time": "2021-09-24T11:09:48.214Z"
   },
   {
    "duration": 18,
    "start_time": "2021-09-24T11:09:48.226Z"
   },
   {
    "duration": 6,
    "start_time": "2021-09-24T11:09:48.247Z"
   },
   {
    "duration": 5634,
    "start_time": "2021-09-24T11:10:18.395Z"
   },
   {
    "duration": 1043,
    "start_time": "2021-09-24T11:10:24.031Z"
   },
   {
    "duration": 10,
    "start_time": "2021-09-24T11:10:25.077Z"
   },
   {
    "duration": 7,
    "start_time": "2021-09-24T11:10:25.090Z"
   },
   {
    "duration": 23,
    "start_time": "2021-09-24T11:10:25.099Z"
   },
   {
    "duration": 1461,
    "start_time": "2021-09-24T11:10:25.124Z"
   },
   {
    "duration": 87,
    "start_time": "2021-09-24T11:10:26.588Z"
   },
   {
    "duration": -409,
    "start_time": "2021-09-24T11:10:27.087Z"
   },
   {
    "duration": -410,
    "start_time": "2021-09-24T11:10:27.090Z"
   },
   {
    "duration": 6,
    "start_time": "2021-09-24T11:11:23.687Z"
   },
   {
    "duration": 1178,
    "start_time": "2021-09-24T11:11:23.695Z"
   },
   {
    "duration": 11,
    "start_time": "2021-09-24T11:11:24.876Z"
   },
   {
    "duration": 12,
    "start_time": "2021-09-24T11:11:24.889Z"
   },
   {
    "duration": 17,
    "start_time": "2021-09-24T11:11:24.905Z"
   },
   {
    "duration": 1361,
    "start_time": "2021-09-24T11:11:24.925Z"
   },
   {
    "duration": 128,
    "start_time": "2021-09-24T11:11:26.289Z"
   },
   {
    "duration": -406,
    "start_time": "2021-09-24T11:11:26.826Z"
   },
   {
    "duration": -409,
    "start_time": "2021-09-24T11:11:26.830Z"
   },
   {
    "duration": 12,
    "start_time": "2021-09-24T11:12:02.945Z"
   },
   {
    "duration": 4,
    "start_time": "2021-09-24T11:12:03.650Z"
   },
   {
    "duration": 3,
    "start_time": "2021-09-24T11:12:03.875Z"
   },
   {
    "duration": 1242,
    "start_time": "2021-09-24T11:12:04.043Z"
   },
   {
    "duration": 1117,
    "start_time": "2021-09-24T11:12:37.388Z"
   },
   {
    "duration": 14,
    "start_time": "2021-09-24T11:14:45.295Z"
   },
   {
    "duration": 5,
    "start_time": "2021-09-24T11:14:59.172Z"
   },
   {
    "duration": 4,
    "start_time": "2021-09-24T11:14:59.791Z"
   },
   {
    "duration": 1515,
    "start_time": "2021-09-24T11:14:59.962Z"
   },
   {
    "duration": 1645,
    "start_time": "2021-09-24T11:16:02.979Z"
   },
   {
    "duration": 1325,
    "start_time": "2021-09-24T11:17:27.879Z"
   },
   {
    "duration": 12,
    "start_time": "2021-09-24T11:19:48.290Z"
   },
   {
    "duration": 1026,
    "start_time": "2021-09-24T11:19:50.527Z"
   },
   {
    "duration": 320,
    "start_time": "2021-09-24T11:21:06.678Z"
   },
   {
    "duration": 5392,
    "start_time": "2021-09-24T11:21:11.787Z"
   },
   {
    "duration": 1089,
    "start_time": "2021-09-24T11:21:17.182Z"
   },
   {
    "duration": 12,
    "start_time": "2021-09-24T11:21:18.274Z"
   },
   {
    "duration": 21,
    "start_time": "2021-09-24T11:21:18.288Z"
   },
   {
    "duration": 24,
    "start_time": "2021-09-24T11:21:18.311Z"
   },
   {
    "duration": 960,
    "start_time": "2021-09-24T11:21:18.338Z"
   },
   {
    "duration": 121,
    "start_time": "2021-09-24T11:21:19.300Z"
   },
   {
    "duration": -402,
    "start_time": "2021-09-24T11:21:19.826Z"
   },
   {
    "duration": -403,
    "start_time": "2021-09-24T11:21:19.829Z"
   },
   {
    "duration": 935,
    "start_time": "2021-09-24T11:21:41.632Z"
   },
   {
    "duration": 15,
    "start_time": "2021-09-24T11:21:51.783Z"
   },
   {
    "duration": 5,
    "start_time": "2021-09-24T11:21:52.374Z"
   },
   {
    "duration": 3,
    "start_time": "2021-09-24T11:21:52.575Z"
   },
   {
    "duration": 1295,
    "start_time": "2021-09-24T11:21:53.479Z"
   },
   {
    "duration": 14,
    "start_time": "2021-09-24T11:22:50.111Z"
   },
   {
    "duration": 5,
    "start_time": "2021-09-24T11:22:50.398Z"
   },
   {
    "duration": 3,
    "start_time": "2021-09-24T11:22:50.593Z"
   },
   {
    "duration": 889,
    "start_time": "2021-09-24T11:22:50.863Z"
   },
   {
    "duration": 916,
    "start_time": "2021-09-24T11:23:19.464Z"
   },
   {
    "duration": 928,
    "start_time": "2021-09-24T11:23:31.792Z"
   },
   {
    "duration": 935,
    "start_time": "2021-09-24T11:24:22.059Z"
   },
   {
    "duration": 5735,
    "start_time": "2021-09-24T11:24:35.537Z"
   },
   {
    "duration": 13,
    "start_time": "2021-09-24T11:24:56.273Z"
   },
   {
    "duration": 5,
    "start_time": "2021-09-24T11:25:04.833Z"
   },
   {
    "duration": 3,
    "start_time": "2021-09-24T11:25:05.057Z"
   },
   {
    "duration": 1306,
    "start_time": "2021-09-24T11:25:05.275Z"
   },
   {
    "duration": 1599,
    "start_time": "2021-09-24T11:25:34.833Z"
   },
   {
    "duration": 1301,
    "start_time": "2021-09-24T11:25:54.073Z"
   },
   {
    "duration": 1310,
    "start_time": "2021-09-24T11:26:06.057Z"
   },
   {
    "duration": 1317,
    "start_time": "2021-09-24T11:26:41.713Z"
   },
   {
    "duration": 1305,
    "start_time": "2021-09-24T11:27:01.482Z"
   },
   {
    "duration": 1338,
    "start_time": "2021-09-24T11:27:05.961Z"
   },
   {
    "duration": 15,
    "start_time": "2021-09-24T11:27:24.058Z"
   },
   {
    "duration": 5,
    "start_time": "2021-09-24T11:27:25.617Z"
   },
   {
    "duration": 3,
    "start_time": "2021-09-24T11:27:25.785Z"
   },
   {
    "duration": 927,
    "start_time": "2021-09-24T11:27:25.948Z"
   },
   {
    "duration": 974,
    "start_time": "2021-09-24T11:27:31.818Z"
   },
   {
    "duration": 1883,
    "start_time": "2021-09-24T11:30:56.716Z"
   },
   {
    "duration": 925,
    "start_time": "2021-09-24T11:31:06.204Z"
   },
   {
    "duration": 7,
    "start_time": "2021-09-24T11:31:25.284Z"
   },
   {
    "duration": 8,
    "start_time": "2021-09-24T11:31:29.676Z"
   },
   {
    "duration": 1612,
    "start_time": "2021-09-24T11:31:29.687Z"
   },
   {
    "duration": 59,
    "start_time": "2021-09-24T11:31:31.303Z"
   },
   {
    "duration": 6,
    "start_time": "2021-09-24T11:31:31.366Z"
   },
   {
    "duration": 35,
    "start_time": "2021-09-24T11:31:31.375Z"
   },
   {
    "duration": 1066,
    "start_time": "2021-09-24T11:31:31.413Z"
   },
   {
    "duration": 96,
    "start_time": "2021-09-24T11:31:32.483Z"
   },
   {
    "duration": -391,
    "start_time": "2021-09-24T11:31:32.974Z"
   },
   {
    "duration": -389,
    "start_time": "2021-09-24T11:31:32.975Z"
   },
   {
    "duration": 5310,
    "start_time": "2021-09-24T11:31:42.242Z"
   },
   {
    "duration": 1049,
    "start_time": "2021-09-24T11:31:47.554Z"
   },
   {
    "duration": 21,
    "start_time": "2021-09-24T11:31:48.606Z"
   },
   {
    "duration": 10,
    "start_time": "2021-09-24T11:31:48.629Z"
   },
   {
    "duration": 13,
    "start_time": "2021-09-24T11:31:48.642Z"
   },
   {
    "duration": 851,
    "start_time": "2021-09-24T11:31:48.657Z"
   },
   {
    "duration": -393,
    "start_time": "2021-09-24T11:31:49.903Z"
   },
   {
    "duration": -392,
    "start_time": "2021-09-24T11:31:49.904Z"
   },
   {
    "duration": -396,
    "start_time": "2021-09-24T11:31:49.909Z"
   },
   {
    "duration": 1852,
    "start_time": "2021-09-24T11:32:00.256Z"
   },
   {
    "duration": 7,
    "start_time": "2021-09-24T11:33:00.004Z"
   },
   {
    "duration": 6,
    "start_time": "2021-09-24T11:33:24.185Z"
   },
   {
    "duration": 6,
    "start_time": "2021-09-24T11:33:49.297Z"
   },
   {
    "duration": 7,
    "start_time": "2021-09-24T11:33:53.809Z"
   },
   {
    "duration": 9,
    "start_time": "2021-09-24T11:34:00.338Z"
   },
   {
    "duration": 6,
    "start_time": "2021-09-24T11:35:01.386Z"
   },
   {
    "duration": 934,
    "start_time": "2021-09-24T11:36:13.147Z"
   },
   {
    "duration": 35,
    "start_time": "2021-09-24T11:36:21.152Z"
   },
   {
    "duration": 5,
    "start_time": "2021-09-24T11:36:21.417Z"
   },
   {
    "duration": 4,
    "start_time": "2021-09-24T11:36:21.921Z"
   },
   {
    "duration": 941,
    "start_time": "2021-09-24T11:36:36.445Z"
   },
   {
    "duration": 542,
    "start_time": "2021-09-24T11:37:20.819Z"
   },
   {
    "duration": 4,
    "start_time": "2021-09-24T11:37:55.051Z"
   },
   {
    "duration": 3,
    "start_time": "2021-09-24T11:37:56.082Z"
   },
   {
    "duration": 546,
    "start_time": "2021-09-24T11:37:56.750Z"
   },
   {
    "duration": 5,
    "start_time": "2021-09-24T11:39:31.301Z"
   },
   {
    "duration": 3,
    "start_time": "2021-09-24T11:39:32.444Z"
   },
   {
    "duration": 1549,
    "start_time": "2021-09-24T11:39:32.636Z"
   },
   {
    "duration": 1948,
    "start_time": "2021-09-24T11:39:47.391Z"
   },
   {
    "duration": 14,
    "start_time": "2021-09-24T11:40:06.743Z"
   },
   {
    "duration": 4,
    "start_time": "2021-09-24T11:40:06.950Z"
   },
   {
    "duration": 3,
    "start_time": "2021-09-24T11:40:07.108Z"
   },
   {
    "duration": 6455,
    "start_time": "2021-09-24T11:40:16.844Z"
   },
   {
    "duration": 1091,
    "start_time": "2021-09-24T11:40:23.302Z"
   },
   {
    "duration": 30,
    "start_time": "2021-09-24T11:40:24.397Z"
   },
   {
    "duration": 26,
    "start_time": "2021-09-24T11:40:24.430Z"
   },
   {
    "duration": 24,
    "start_time": "2021-09-24T11:40:24.459Z"
   },
   {
    "duration": 1774,
    "start_time": "2021-09-24T11:40:24.486Z"
   },
   {
    "duration": 92,
    "start_time": "2021-09-24T11:40:26.264Z"
   },
   {
    "duration": -514,
    "start_time": "2021-09-24T11:40:26.873Z"
   },
   {
    "duration": -513,
    "start_time": "2021-09-24T11:40:26.874Z"
   },
   {
    "duration": 1428,
    "start_time": "2021-09-24T11:41:32.713Z"
   },
   {
    "duration": 21,
    "start_time": "2021-09-24T11:41:43.201Z"
   },
   {
    "duration": 1245,
    "start_time": "2021-09-24T11:42:03.978Z"
   },
   {
    "duration": 974,
    "start_time": "2021-09-24T11:43:06.936Z"
   },
   {
    "duration": 291,
    "start_time": "2021-09-24T11:43:14.000Z"
   },
   {
    "duration": 292,
    "start_time": "2021-09-24T11:48:38.980Z"
   },
   {
    "duration": 380,
    "start_time": "2021-09-24T11:49:13.183Z"
   },
   {
    "duration": 286,
    "start_time": "2021-09-24T11:50:24.141Z"
   },
   {
    "duration": 343,
    "start_time": "2021-09-24T11:50:41.303Z"
   },
   {
    "duration": 297,
    "start_time": "2021-09-24T11:51:10.719Z"
   },
   {
    "duration": 312,
    "start_time": "2021-09-24T11:51:21.690Z"
   },
   {
    "duration": 6731,
    "start_time": "2021-09-24T11:53:53.687Z"
   },
   {
    "duration": 19,
    "start_time": "2021-09-24T11:54:24.671Z"
   },
   {
    "duration": 12,
    "start_time": "2021-09-24T11:54:39.951Z"
   },
   {
    "duration": 298,
    "start_time": "2021-09-24T11:55:42.808Z"
   },
   {
    "duration": 15,
    "start_time": "2021-09-24T11:55:49.863Z"
   },
   {
    "duration": 311,
    "start_time": "2021-09-24T11:55:59.960Z"
   },
   {
    "duration": 101,
    "start_time": "2021-09-24T11:57:18.701Z"
   },
   {
    "duration": 282,
    "start_time": "2021-09-24T11:57:27.002Z"
   },
   {
    "duration": 285,
    "start_time": "2021-09-24T11:58:19.001Z"
   },
   {
    "duration": 559,
    "start_time": "2021-09-24T11:59:06.002Z"
   },
   {
    "duration": 6696,
    "start_time": "2021-09-24T11:59:18.810Z"
   },
   {
    "duration": 1046,
    "start_time": "2021-09-24T11:59:25.509Z"
   },
   {
    "duration": 13,
    "start_time": "2021-09-24T11:59:26.558Z"
   },
   {
    "duration": 13,
    "start_time": "2021-09-24T11:59:26.574Z"
   },
   {
    "duration": 16,
    "start_time": "2021-09-24T11:59:26.590Z"
   },
   {
    "duration": 1336,
    "start_time": "2021-09-24T11:59:26.609Z"
   },
   {
    "duration": 1085,
    "start_time": "2021-09-24T11:59:27.948Z"
   },
   {
    "duration": -365,
    "start_time": "2021-09-24T11:59:29.401Z"
   },
   {
    "duration": -365,
    "start_time": "2021-09-24T11:59:29.403Z"
   },
   {
    "duration": 280,
    "start_time": "2021-09-24T12:00:04.381Z"
   },
   {
    "duration": 96,
    "start_time": "2021-09-24T12:00:26.776Z"
   },
   {
    "duration": 329,
    "start_time": "2021-09-24T12:01:59.663Z"
   },
   {
    "duration": 279,
    "start_time": "2021-09-24T12:02:34.746Z"
   },
   {
    "duration": 148,
    "start_time": "2021-09-24T12:03:04.784Z"
   },
   {
    "duration": 279,
    "start_time": "2021-09-24T12:03:11.018Z"
   },
   {
    "duration": 5,
    "start_time": "2021-09-24T12:03:26.565Z"
   },
   {
    "duration": 4,
    "start_time": "2021-09-24T12:03:33.468Z"
   },
   {
    "duration": 461,
    "start_time": "2021-09-24T12:03:56.810Z"
   },
   {
    "duration": 91,
    "start_time": "2021-09-24T12:04:14.802Z"
   },
   {
    "duration": 5,
    "start_time": "2021-09-24T12:04:16.617Z"
   },
   {
    "duration": 1338,
    "start_time": "2021-09-24T12:04:23.817Z"
   },
   {
    "duration": 9,
    "start_time": "2021-09-24T12:04:28.426Z"
   },
   {
    "duration": 11,
    "start_time": "2021-09-24T12:04:38.914Z"
   },
   {
    "duration": 273,
    "start_time": "2021-09-24T12:04:45.934Z"
   },
   {
    "duration": 331,
    "start_time": "2021-09-24T12:05:31.860Z"
   },
   {
    "duration": 5997,
    "start_time": "2021-09-24T12:05:41.679Z"
   },
   {
    "duration": 1475,
    "start_time": "2021-09-24T12:05:47.679Z"
   },
   {
    "duration": 12,
    "start_time": "2021-09-24T12:05:49.159Z"
   },
   {
    "duration": 26,
    "start_time": "2021-09-24T12:05:49.174Z"
   },
   {
    "duration": 38,
    "start_time": "2021-09-24T12:05:49.202Z"
   },
   {
    "duration": 1789,
    "start_time": "2021-09-24T12:05:49.243Z"
   },
   {
    "duration": 1104,
    "start_time": "2021-09-24T12:05:51.036Z"
   },
   {
    "duration": -359,
    "start_time": "2021-09-24T12:05:52.502Z"
   },
   {
    "duration": -359,
    "start_time": "2021-09-24T12:05:52.504Z"
   },
   {
    "duration": 43,
    "start_time": "2021-09-24T12:05:59.160Z"
   },
   {
    "duration": 48,
    "start_time": "2021-09-24T12:10:01.741Z"
   },
   {
    "duration": 99,
    "start_time": "2021-09-24T12:10:51.427Z"
   },
   {
    "duration": 146,
    "start_time": "2021-09-24T12:11:16.236Z"
   },
   {
    "duration": 282,
    "start_time": "2021-09-24T12:11:33.052Z"
   },
   {
    "duration": 45,
    "start_time": "2021-09-24T12:11:56.525Z"
   },
   {
    "duration": 47,
    "start_time": "2021-09-24T12:12:00.212Z"
   },
   {
    "duration": 73,
    "start_time": "2021-09-24T12:12:11.966Z"
   },
   {
    "duration": 5471,
    "start_time": "2021-09-24T12:12:22.631Z"
   },
   {
    "duration": 1060,
    "start_time": "2021-09-24T12:12:28.105Z"
   },
   {
    "duration": 14,
    "start_time": "2021-09-24T12:12:29.169Z"
   },
   {
    "duration": 19,
    "start_time": "2021-09-24T12:12:29.187Z"
   },
   {
    "duration": 17,
    "start_time": "2021-09-24T12:12:29.208Z"
   },
   {
    "duration": 1349,
    "start_time": "2021-09-24T12:12:29.228Z"
   },
   {
    "duration": 308,
    "start_time": "2021-09-24T12:12:30.580Z"
   },
   {
    "duration": 831,
    "start_time": "2021-09-24T12:12:30.891Z"
   },
   {
    "duration": -357,
    "start_time": "2021-09-24T12:12:32.082Z"
   },
   {
    "duration": 286,
    "start_time": "2021-09-24T12:12:44.204Z"
   },
   {
    "duration": 47,
    "start_time": "2021-09-24T12:12:55.153Z"
   },
   {
    "duration": 298,
    "start_time": "2021-09-24T12:13:08.456Z"
   },
   {
    "duration": 6110,
    "start_time": "2021-09-24T12:13:24.796Z"
   },
   {
    "duration": 1462,
    "start_time": "2021-09-24T12:13:30.910Z"
   },
   {
    "duration": 18,
    "start_time": "2021-09-24T12:13:32.376Z"
   },
   {
    "duration": 43,
    "start_time": "2021-09-24T12:13:32.398Z"
   },
   {
    "duration": 26,
    "start_time": "2021-09-24T12:13:32.444Z"
   },
   {
    "duration": 1312,
    "start_time": "2021-09-24T12:13:32.474Z"
   },
   {
    "duration": 1210,
    "start_time": "2021-09-24T12:13:33.788Z"
   },
   {
    "duration": -374,
    "start_time": "2021-09-24T12:13:35.375Z"
   },
   {
    "duration": -377,
    "start_time": "2021-09-24T12:13:35.379Z"
   },
   {
    "duration": 284,
    "start_time": "2021-09-24T12:13:49.385Z"
   },
   {
    "duration": 379,
    "start_time": "2021-09-24T12:14:12.647Z"
   },
   {
    "duration": 45,
    "start_time": "2021-09-24T12:14:29.273Z"
   },
   {
    "duration": 44,
    "start_time": "2021-09-24T12:14:38.088Z"
   },
   {
    "duration": 6,
    "start_time": "2021-09-24T12:15:57.008Z"
   },
   {
    "duration": 6,
    "start_time": "2021-09-24T12:24:04.715Z"
   },
   {
    "duration": 283,
    "start_time": "2021-09-24T12:25:59.400Z"
   },
   {
    "duration": 39,
    "start_time": "2021-09-24T12:26:16.069Z"
   },
   {
    "duration": 25,
    "start_time": "2021-09-24T12:26:23.381Z"
   },
   {
    "duration": 39,
    "start_time": "2021-09-24T12:26:34.541Z"
   },
   {
    "duration": 29,
    "start_time": "2021-09-24T12:26:50.561Z"
   },
   {
    "duration": 24,
    "start_time": "2021-09-24T12:27:05.630Z"
   },
   {
    "duration": 24,
    "start_time": "2021-09-24T12:27:14.358Z"
   },
   {
    "duration": 316,
    "start_time": "2021-09-24T12:27:30.342Z"
   },
   {
    "duration": 28,
    "start_time": "2021-09-24T12:27:34.814Z"
   },
   {
    "duration": 40,
    "start_time": "2021-09-24T12:27:41.271Z"
   },
   {
    "duration": 334,
    "start_time": "2021-09-24T12:28:05.369Z"
   },
   {
    "duration": 326,
    "start_time": "2021-09-24T12:28:09.717Z"
   },
   {
    "duration": 455,
    "start_time": "2021-09-24T12:28:19.078Z"
   },
   {
    "duration": 36,
    "start_time": "2021-09-24T12:28:42.927Z"
   },
   {
    "duration": 6,
    "start_time": "2021-09-24T12:32:03.742Z"
   },
   {
    "duration": 44,
    "start_time": "2021-09-24T12:32:08.192Z"
   },
   {
    "duration": 31,
    "start_time": "2021-09-24T12:32:08.367Z"
   },
   {
    "duration": 5,
    "start_time": "2021-09-24T12:32:08.519Z"
   },
   {
    "duration": 5,
    "start_time": "2021-09-24T12:32:12.487Z"
   },
   {
    "duration": 294,
    "start_time": "2021-09-24T12:32:22.775Z"
   },
   {
    "duration": 5,
    "start_time": "2021-09-24T12:32:28.191Z"
   },
   {
    "duration": 12,
    "start_time": "2021-09-24T12:32:33.863Z"
   },
   {
    "duration": 5571,
    "start_time": "2021-09-24T12:37:18.437Z"
   },
   {
    "duration": 1129,
    "start_time": "2021-09-24T12:37:24.012Z"
   },
   {
    "duration": 12,
    "start_time": "2021-09-24T12:37:25.145Z"
   },
   {
    "duration": 6,
    "start_time": "2021-09-24T12:37:25.160Z"
   },
   {
    "duration": 13,
    "start_time": "2021-09-24T12:37:25.168Z"
   },
   {
    "duration": 1383,
    "start_time": "2021-09-24T12:37:25.183Z"
   },
   {
    "duration": 7,
    "start_time": "2021-09-24T12:37:26.569Z"
   },
   {
    "duration": 283,
    "start_time": "2021-09-24T12:37:26.579Z"
   },
   {
    "duration": 35,
    "start_time": "2021-09-24T12:37:26.865Z"
   },
   {
    "duration": 29,
    "start_time": "2021-09-24T12:37:26.903Z"
   },
   {
    "duration": 3,
    "start_time": "2021-09-24T12:37:26.934Z"
   },
   {
    "duration": 5522,
    "start_time": "2021-09-24T12:40:17.368Z"
   },
   {
    "duration": 1062,
    "start_time": "2021-09-24T12:40:22.893Z"
   },
   {
    "duration": 12,
    "start_time": "2021-09-24T12:40:23.958Z"
   },
   {
    "duration": 20,
    "start_time": "2021-09-24T12:40:23.973Z"
   },
   {
    "duration": 34,
    "start_time": "2021-09-24T12:40:23.995Z"
   },
   {
    "duration": 1290,
    "start_time": "2021-09-24T12:40:24.032Z"
   },
   {
    "duration": 6,
    "start_time": "2021-09-24T12:40:25.325Z"
   },
   {
    "duration": 296,
    "start_time": "2021-09-24T12:40:25.334Z"
   },
   {
    "duration": 33,
    "start_time": "2021-09-24T12:40:25.634Z"
   },
   {
    "duration": 1140,
    "start_time": "2021-09-24T12:40:25.670Z"
   },
   {
    "duration": -348,
    "start_time": "2021-09-24T12:40:27.161Z"
   },
   {
    "duration": 13,
    "start_time": "2021-09-24T12:42:25.280Z"
   },
   {
    "duration": 11,
    "start_time": "2021-09-24T12:45:54.059Z"
   },
   {
    "duration": 297,
    "start_time": "2021-09-24T12:48:10.275Z"
   },
   {
    "duration": 290,
    "start_time": "2021-09-24T12:48:13.196Z"
   },
   {
    "duration": -317,
    "start_time": "2021-09-24T12:48:13.805Z"
   },
   {
    "duration": 275,
    "start_time": "2021-09-24T12:48:13.603Z"
   },
   {
    "duration": 379,
    "start_time": "2021-09-24T12:48:18.746Z"
   },
   {
    "duration": 308,
    "start_time": "2021-09-24T12:48:46.379Z"
   },
   {
    "duration": 285,
    "start_time": "2021-09-24T12:49:27.205Z"
   },
   {
    "duration": 265,
    "start_time": "2021-09-24T12:49:35.655Z"
   },
   {
    "duration": 455,
    "start_time": "2021-09-24T12:50:44.005Z"
   },
   {
    "duration": 1547,
    "start_time": "2021-09-24T12:50:54.940Z"
   },
   {
    "duration": 722,
    "start_time": "2021-09-24T12:51:34.430Z"
   },
   {
    "duration": 6109,
    "start_time": "2021-09-24T12:51:43.194Z"
   },
   {
    "duration": 1077,
    "start_time": "2021-09-24T12:51:49.305Z"
   },
   {
    "duration": 1590,
    "start_time": "2021-09-24T12:51:50.385Z"
   },
   {
    "duration": 5,
    "start_time": "2021-09-24T12:51:51.977Z"
   },
   {
    "duration": 6,
    "start_time": "2021-09-24T12:51:51.984Z"
   },
   {
    "duration": 1110,
    "start_time": "2021-09-24T12:51:51.992Z"
   },
   {
    "duration": -341,
    "start_time": "2021-09-24T12:51:53.447Z"
   },
   {
    "duration": -343,
    "start_time": "2021-09-24T12:51:53.451Z"
   },
   {
    "duration": -344,
    "start_time": "2021-09-24T12:51:53.454Z"
   },
   {
    "duration": -349,
    "start_time": "2021-09-24T12:51:53.461Z"
   },
   {
    "duration": -348,
    "start_time": "2021-09-24T12:51:53.462Z"
   },
   {
    "duration": 5683,
    "start_time": "2021-09-24T12:52:51.933Z"
   },
   {
    "duration": 1068,
    "start_time": "2021-09-24T12:52:57.619Z"
   },
   {
    "duration": 12,
    "start_time": "2021-09-24T12:52:58.690Z"
   },
   {
    "duration": 21,
    "start_time": "2021-09-24T12:52:58.705Z"
   },
   {
    "duration": 30,
    "start_time": "2021-09-24T12:52:58.728Z"
   },
   {
    "duration": 1212,
    "start_time": "2021-09-24T12:52:58.760Z"
   },
   {
    "duration": 6,
    "start_time": "2021-09-24T12:52:59.975Z"
   },
   {
    "duration": 296,
    "start_time": "2021-09-24T12:52:59.985Z"
   },
   {
    "duration": 29,
    "start_time": "2021-09-24T12:53:00.284Z"
   },
   {
    "duration": 17,
    "start_time": "2021-09-24T12:53:00.316Z"
   },
   {
    "duration": 22,
    "start_time": "2021-09-24T12:53:00.335Z"
   },
   {
    "duration": 38,
    "start_time": "2021-09-24T12:57:32.372Z"
   },
   {
    "duration": 6150,
    "start_time": "2021-09-24T12:57:40.399Z"
   },
   {
    "duration": 1049,
    "start_time": "2021-09-24T12:57:46.551Z"
   },
   {
    "duration": 20,
    "start_time": "2021-09-24T12:57:47.603Z"
   },
   {
    "duration": 11,
    "start_time": "2021-09-24T12:57:47.626Z"
   },
   {
    "duration": 16,
    "start_time": "2021-09-24T12:57:47.639Z"
   },
   {
    "duration": 1107,
    "start_time": "2021-09-24T12:57:47.657Z"
   },
   {
    "duration": -323,
    "start_time": "2021-09-24T12:57:49.090Z"
   },
   {
    "duration": -325,
    "start_time": "2021-09-24T12:57:49.093Z"
   },
   {
    "duration": -335,
    "start_time": "2021-09-24T12:57:49.104Z"
   },
   {
    "duration": -337,
    "start_time": "2021-09-24T12:57:49.108Z"
   },
   {
    "duration": -339,
    "start_time": "2021-09-24T12:57:49.111Z"
   },
   {
    "duration": 5770,
    "start_time": "2021-09-24T12:59:20.170Z"
   },
   {
    "duration": 1055,
    "start_time": "2021-09-24T12:59:25.943Z"
   },
   {
    "duration": 1731,
    "start_time": "2021-09-24T12:59:27.001Z"
   },
   {
    "duration": 5,
    "start_time": "2021-09-24T12:59:28.735Z"
   },
   {
    "duration": 20,
    "start_time": "2021-09-24T12:59:28.742Z"
   },
   {
    "duration": 1105,
    "start_time": "2021-09-24T12:59:28.765Z"
   },
   {
    "duration": -331,
    "start_time": "2021-09-24T12:59:30.205Z"
   },
   {
    "duration": -332,
    "start_time": "2021-09-24T12:59:30.207Z"
   },
   {
    "duration": -336,
    "start_time": "2021-09-24T12:59:30.212Z"
   },
   {
    "duration": -338,
    "start_time": "2021-09-24T12:59:30.216Z"
   },
   {
    "duration": -340,
    "start_time": "2021-09-24T12:59:30.219Z"
   },
   {
    "duration": 727,
    "start_time": "2021-09-24T13:05:52.626Z"
   },
   {
    "duration": 5,
    "start_time": "2021-09-24T13:05:53.355Z"
   },
   {
    "duration": 11,
    "start_time": "2021-09-24T13:05:53.362Z"
   },
   {
    "duration": 7736,
    "start_time": "2021-09-24T13:05:56.107Z"
   },
   {
    "duration": 4,
    "start_time": "2021-09-24T13:06:14.026Z"
   },
   {
    "duration": 4,
    "start_time": "2021-09-24T13:06:16.002Z"
   },
   {
    "duration": 8,
    "start_time": "2021-09-24T13:06:21.251Z"
   },
   {
    "duration": 6,
    "start_time": "2021-09-24T13:06:39.291Z"
   },
   {
    "duration": 319,
    "start_time": "2021-09-24T13:06:39.978Z"
   },
   {
    "duration": 30,
    "start_time": "2021-09-24T13:06:41.890Z"
   },
   {
    "duration": 13,
    "start_time": "2021-09-24T13:06:42.875Z"
   },
   {
    "duration": 904,
    "start_time": "2021-09-24T13:07:09.868Z"
   },
   {
    "duration": 4,
    "start_time": "2021-09-24T13:07:10.775Z"
   },
   {
    "duration": 12,
    "start_time": "2021-09-24T13:07:10.782Z"
   },
   {
    "duration": 7701,
    "start_time": "2021-09-24T13:07:10.829Z"
   },
   {
    "duration": 34,
    "start_time": "2021-09-24T13:07:18.533Z"
   },
   {
    "duration": 5,
    "start_time": "2021-09-24T13:07:18.571Z"
   },
   {
    "duration": 310,
    "start_time": "2021-09-24T13:07:18.579Z"
   },
   {
    "duration": -327,
    "start_time": "2021-09-24T13:07:19.218Z"
   },
   {
    "duration": -326,
    "start_time": "2021-09-24T13:07:19.219Z"
   },
   {
    "duration": 7,
    "start_time": "2021-09-24T13:07:42.892Z"
   },
   {
    "duration": 295,
    "start_time": "2021-09-24T13:07:43.627Z"
   },
   {
    "duration": 10,
    "start_time": "2021-09-24T13:07:43.956Z"
   },
   {
    "duration": 303,
    "start_time": "2021-09-24T13:08:14.076Z"
   },
   {
    "duration": 281,
    "start_time": "2021-09-24T13:10:50.950Z"
   },
   {
    "duration": 284,
    "start_time": "2021-09-24T13:12:44.752Z"
   },
   {
    "duration": 397,
    "start_time": "2021-09-24T13:12:58.839Z"
   },
   {
    "duration": 29,
    "start_time": "2021-09-24T13:13:52.512Z"
   },
   {
    "duration": 322,
    "start_time": "2021-09-24T13:14:15.337Z"
   },
   {
    "duration": 272,
    "start_time": "2021-09-24T13:14:20.728Z"
   },
   {
    "duration": 89,
    "start_time": "2021-09-24T13:14:55.154Z"
   },
   {
    "duration": 95,
    "start_time": "2021-09-24T13:14:59.730Z"
   },
   {
    "duration": 130,
    "start_time": "2021-09-24T13:15:02.707Z"
   },
   {
    "duration": 1458,
    "start_time": "2021-09-24T13:15:08.194Z"
   },
   {
    "duration": 6,
    "start_time": "2021-09-24T13:15:09.656Z"
   },
   {
    "duration": 3,
    "start_time": "2021-09-24T13:15:10.234Z"
   },
   {
    "duration": 643,
    "start_time": "2021-09-24T13:15:10.577Z"
   },
   {
    "duration": 770,
    "start_time": "2021-09-24T13:15:26.527Z"
   },
   {
    "duration": 4,
    "start_time": "2021-09-24T13:15:27.300Z"
   },
   {
    "duration": 3,
    "start_time": "2021-09-24T13:15:27.794Z"
   },
   {
    "duration": 674,
    "start_time": "2021-09-24T13:15:27.945Z"
   },
   {
    "duration": 977,
    "start_time": "2021-09-24T13:15:33.131Z"
   },
   {
    "duration": 11,
    "start_time": "2021-09-24T13:15:34.111Z"
   },
   {
    "duration": 28,
    "start_time": "2021-09-24T13:15:34.125Z"
   },
   {
    "duration": 7978,
    "start_time": "2021-09-24T13:15:34.835Z"
   },
   {
    "duration": 34,
    "start_time": "2021-09-24T13:15:44.650Z"
   },
   {
    "duration": 17,
    "start_time": "2021-09-24T13:15:47.682Z"
   },
   {
    "duration": 280,
    "start_time": "2021-09-24T13:15:49.269Z"
   },
   {
    "duration": 729,
    "start_time": "2021-09-24T13:16:42.828Z"
   },
   {
    "duration": 910,
    "start_time": "2021-09-24T13:16:46.334Z"
   },
   {
    "duration": 5,
    "start_time": "2021-09-24T13:16:47.246Z"
   },
   {
    "duration": 3,
    "start_time": "2021-09-24T13:16:47.287Z"
   },
   {
    "duration": 7774,
    "start_time": "2021-09-24T13:16:47.948Z"
   },
   {
    "duration": 7,
    "start_time": "2021-09-24T13:16:58.605Z"
   },
   {
    "duration": 6,
    "start_time": "2021-09-24T13:17:04.228Z"
   },
   {
    "duration": 31,
    "start_time": "2021-09-24T13:17:05.636Z"
   },
   {
    "duration": 31,
    "start_time": "2021-09-24T13:17:10.044Z"
   },
   {
    "duration": 11,
    "start_time": "2021-09-24T13:17:11.764Z"
   },
   {
    "duration": 7191,
    "start_time": "2021-09-24T13:17:18.670Z"
   },
   {
    "duration": 1080,
    "start_time": "2021-09-24T13:17:25.864Z"
   },
   {
    "duration": 1890,
    "start_time": "2021-09-24T13:17:26.947Z"
   },
   {
    "duration": 4,
    "start_time": "2021-09-24T13:17:28.840Z"
   },
   {
    "duration": 13,
    "start_time": "2021-09-24T13:17:28.846Z"
   },
   {
    "duration": 7966,
    "start_time": "2021-09-24T13:17:28.861Z"
   },
   {
    "duration": 8,
    "start_time": "2021-09-24T13:17:36.829Z"
   },
   {
    "duration": 21,
    "start_time": "2021-09-24T13:17:36.840Z"
   },
   {
    "duration": 258,
    "start_time": "2021-09-24T13:17:36.865Z"
   },
   {
    "duration": 29,
    "start_time": "2021-09-24T13:17:37.125Z"
   },
   {
    "duration": 25,
    "start_time": "2021-09-24T13:17:37.156Z"
   },
   {
    "duration": 20,
    "start_time": "2021-09-24T13:17:37.184Z"
   },
   {
    "duration": 29,
    "start_time": "2021-09-24T13:17:48.426Z"
   },
   {
    "duration": 5,
    "start_time": "2021-09-24T13:18:00.296Z"
   },
   {
    "duration": 34,
    "start_time": "2021-09-24T13:18:08.395Z"
   },
   {
    "duration": 29,
    "start_time": "2021-09-24T13:18:09.515Z"
   },
   {
    "duration": 5,
    "start_time": "2021-09-24T13:18:10.219Z"
   },
   {
    "duration": 11,
    "start_time": "2021-09-24T13:18:10.997Z"
   },
   {
    "duration": 5,
    "start_time": "2021-09-24T13:20:49.567Z"
   },
   {
    "duration": 10,
    "start_time": "2021-09-24T13:21:06.000Z"
   },
   {
    "duration": 10,
    "start_time": "2021-09-24T13:21:55.817Z"
   },
   {
    "duration": 7381,
    "start_time": "2021-09-24T13:22:21.849Z"
   },
   {
    "duration": 1195,
    "start_time": "2021-09-24T13:22:29.233Z"
   },
   {
    "duration": 1663,
    "start_time": "2021-09-24T13:22:30.430Z"
   },
   {
    "duration": 4,
    "start_time": "2021-09-24T13:22:32.096Z"
   },
   {
    "duration": 19,
    "start_time": "2021-09-24T13:22:32.103Z"
   },
   {
    "duration": 17035,
    "start_time": "2021-09-24T13:22:32.125Z"
   },
   {
    "duration": 11,
    "start_time": "2021-09-24T13:22:49.162Z"
   },
   {
    "duration": 24,
    "start_time": "2021-09-24T13:22:49.176Z"
   },
   {
    "duration": 297,
    "start_time": "2021-09-24T13:22:49.203Z"
   },
   {
    "duration": 55,
    "start_time": "2021-09-24T13:22:49.503Z"
   },
   {
    "duration": 5,
    "start_time": "2021-09-24T13:22:49.560Z"
   },
   {
    "duration": 19,
    "start_time": "2021-09-24T13:22:49.567Z"
   },
   {
    "duration": 2,
    "start_time": "2021-09-24T13:22:49.588Z"
   },
   {
    "duration": 5827,
    "start_time": "2021-09-24T13:23:26.673Z"
   },
   {
    "duration": 1075,
    "start_time": "2021-09-24T13:23:32.502Z"
   },
   {
    "duration": 1683,
    "start_time": "2021-09-24T13:23:33.580Z"
   },
   {
    "duration": 4,
    "start_time": "2021-09-24T13:23:35.266Z"
   },
   {
    "duration": 63,
    "start_time": "2021-09-24T13:23:35.274Z"
   },
   {
    "duration": 17372,
    "start_time": "2021-09-24T13:23:35.340Z"
   },
   {
    "duration": 15,
    "start_time": "2021-09-24T13:23:52.714Z"
   },
   {
    "duration": 7,
    "start_time": "2021-09-24T13:23:52.732Z"
   },
   {
    "duration": 298,
    "start_time": "2021-09-24T13:23:52.742Z"
   },
   {
    "duration": 54,
    "start_time": "2021-09-24T13:23:53.042Z"
   },
   {
    "duration": 6,
    "start_time": "2021-09-24T13:23:53.099Z"
   },
   {
    "duration": 16,
    "start_time": "2021-09-24T13:23:53.123Z"
   },
   {
    "duration": 4,
    "start_time": "2021-09-24T13:23:53.142Z"
   },
   {
    "duration": 6,
    "start_time": "2021-09-24T13:24:13.580Z"
   },
   {
    "duration": 57,
    "start_time": "2021-09-24T13:24:14.067Z"
   },
   {
    "duration": 56,
    "start_time": "2021-09-24T13:24:14.236Z"
   },
   {
    "duration": 6,
    "start_time": "2021-09-24T13:24:15.588Z"
   },
   {
    "duration": 16,
    "start_time": "2021-09-24T13:24:15.731Z"
   },
   {
    "duration": 13,
    "start_time": "2021-09-24T13:24:23.501Z"
   },
   {
    "duration": 39,
    "start_time": "2021-09-24T13:25:54.771Z"
   },
   {
    "duration": 115,
    "start_time": "2021-09-24T13:29:58.395Z"
   },
   {
    "duration": 5823,
    "start_time": "2021-09-24T13:30:23.380Z"
   },
   {
    "duration": 1056,
    "start_time": "2021-09-24T13:30:29.206Z"
   },
   {
    "duration": 1579,
    "start_time": "2021-09-24T13:30:30.265Z"
   },
   {
    "duration": 4,
    "start_time": "2021-09-24T13:30:31.847Z"
   },
   {
    "duration": 37,
    "start_time": "2021-09-24T13:30:31.853Z"
   },
   {
    "duration": 177676,
    "start_time": "2021-09-24T13:30:31.892Z"
   },
   {
    "duration": 65,
    "start_time": "2021-09-24T13:33:29.570Z"
   },
   {
    "duration": 11,
    "start_time": "2021-09-24T13:33:29.638Z"
   },
   {
    "duration": 1351,
    "start_time": "2021-09-24T13:33:29.653Z"
   },
   {
    "duration": 1017,
    "start_time": "2021-09-24T13:33:31.007Z"
   },
   {
    "duration": 166,
    "start_time": "2021-09-24T13:33:32.030Z"
   },
   {
    "duration": 3,
    "start_time": "2021-09-24T13:33:32.198Z"
   },
   {
    "duration": 836,
    "start_time": "2021-09-24T13:35:47.763Z"
   },
   {
    "duration": 52758,
    "start_time": "2021-09-24T13:36:48.051Z"
   },
   {
    "duration": 5899,
    "start_time": "2021-09-24T13:38:46.309Z"
   },
   {
    "duration": 1145,
    "start_time": "2021-09-24T13:38:52.211Z"
   },
   {
    "duration": 1579,
    "start_time": "2021-09-24T13:38:53.359Z"
   },
   {
    "duration": 5,
    "start_time": "2021-09-24T13:38:54.941Z"
   },
   {
    "duration": 21,
    "start_time": "2021-09-24T13:38:54.948Z"
   },
   {
    "duration": 9270,
    "start_time": "2021-09-24T20:01:31.575Z"
   },
   {
    "duration": 1158,
    "start_time": "2021-09-24T20:01:40.847Z"
   },
   {
    "duration": 1265,
    "start_time": "2021-09-24T20:01:42.007Z"
   },
   {
    "duration": 3,
    "start_time": "2021-09-24T20:01:43.274Z"
   },
   {
    "duration": 5,
    "start_time": "2021-09-24T20:01:43.279Z"
   },
   {
    "duration": 1863704,
    "start_time": "2021-09-24T20:01:43.286Z"
   },
   {
    "duration": 774,
    "start_time": "2021-09-24T20:32:46.994Z"
   },
   {
    "duration": 249,
    "start_time": "2021-09-24T20:32:47.771Z"
   },
   {
    "duration": 11584,
    "start_time": "2021-09-24T20:32:48.023Z"
   },
   {
    "duration": 9141,
    "start_time": "2021-09-24T20:32:59.608Z"
   },
   {
    "duration": 1717295,
    "start_time": "2021-09-24T20:33:08.750Z"
   },
   {
    "duration": 745,
    "start_time": "2021-09-24T21:01:46.047Z"
   },
   {
    "duration": 588,
    "start_time": "2021-09-24T21:01:46.206Z"
   },
   {
    "duration": 4972,
    "start_time": "2021-09-24T21:03:26.406Z"
   },
   {
    "duration": 851,
    "start_time": "2021-09-24T21:03:31.379Z"
   },
   {
    "duration": 912,
    "start_time": "2021-09-24T21:03:32.232Z"
   },
   {
    "duration": 3,
    "start_time": "2021-09-24T21:03:33.146Z"
   },
   {
    "duration": 18,
    "start_time": "2021-09-24T21:03:33.150Z"
   },
   {
    "duration": 379247,
    "start_time": "2021-09-24T21:03:33.170Z"
   },
   {
    "duration": 154,
    "start_time": "2021-09-24T21:09:52.419Z"
   },
   {
    "duration": 30,
    "start_time": "2021-09-24T21:09:52.576Z"
   },
   {
    "duration": 2273,
    "start_time": "2021-09-24T21:09:52.608Z"
   },
   {
    "duration": 2421,
    "start_time": "2021-09-24T21:09:54.882Z"
   },
   {
    "duration": 136186,
    "start_time": "2021-09-24T21:09:57.305Z"
   },
   {
    "duration": 653,
    "start_time": "2021-09-24T21:12:13.492Z"
   },
   {
    "duration": 586,
    "start_time": "2021-09-24T21:12:13.560Z"
   },
   {
    "duration": 7369,
    "start_time": "2021-09-27T14:25:15.782Z"
   },
   {
    "duration": 283,
    "start_time": "2021-09-27T14:39:55.654Z"
   },
   {
    "duration": 22,
    "start_time": "2021-09-27T14:40:44.114Z"
   },
   {
    "duration": 513,
    "start_time": "2021-09-27T14:40:50.194Z"
   },
   {
    "duration": 90,
    "start_time": "2021-09-27T14:41:28.361Z"
   },
   {
    "duration": 5,
    "start_time": "2021-09-27T14:41:31.472Z"
   },
   {
    "duration": 770,
    "start_time": "2021-09-27T14:41:48.649Z"
   },
   {
    "duration": 1070,
    "start_time": "2021-09-27T14:41:58.937Z"
   },
   {
    "duration": 1977,
    "start_time": "2021-09-27T14:42:00.009Z"
   },
   {
    "duration": 5,
    "start_time": "2021-09-27T14:42:01.990Z"
   },
   {
    "duration": 11,
    "start_time": "2021-09-27T14:42:01.998Z"
   },
   {
    "duration": 5603,
    "start_time": "2021-09-27T14:47:03.427Z"
   },
   {
    "duration": 999,
    "start_time": "2021-09-27T14:47:09.033Z"
   },
   {
    "duration": 1593,
    "start_time": "2021-09-27T14:47:10.036Z"
   },
   {
    "duration": 4,
    "start_time": "2021-09-27T14:47:11.632Z"
   },
   {
    "duration": 12,
    "start_time": "2021-09-27T14:47:11.639Z"
   },
   {
    "duration": 54517,
    "start_time": "2021-09-27T14:47:11.654Z"
   },
   {
    "duration": 25,
    "start_time": "2021-09-27T14:48:06.173Z"
   },
   {
    "duration": 7,
    "start_time": "2021-09-27T14:48:06.201Z"
   },
   {
    "duration": 478,
    "start_time": "2021-09-27T14:48:06.211Z"
   },
   {
    "duration": 293,
    "start_time": "2021-09-27T14:48:06.691Z"
   },
   {
    "duration": 12418,
    "start_time": "2021-09-27T14:48:06.988Z"
   },
   {
    "duration": 11291,
    "start_time": "2021-09-27T14:48:19.408Z"
   },
   {
    "duration": 2,
    "start_time": "2021-09-27T14:48:30.783Z"
   },
   {
    "duration": 6,
    "start_time": "2021-09-27T14:49:28.917Z"
   },
   {
    "duration": 5316,
    "start_time": "2021-09-28T13:15:45.179Z"
   },
   {
    "duration": 3281,
    "start_time": "2021-09-28T13:15:50.498Z"
   },
   {
    "duration": 4995,
    "start_time": "2021-09-28T13:16:00.898Z"
   },
   {
    "duration": 905,
    "start_time": "2021-09-28T13:16:05.895Z"
   },
   {
    "duration": 1148,
    "start_time": "2021-09-28T13:16:06.802Z"
   },
   {
    "duration": 8,
    "start_time": "2021-09-28T13:16:07.953Z"
   },
   {
    "duration": 5,
    "start_time": "2021-09-28T13:16:07.963Z"
   },
   {
    "duration": 43875,
    "start_time": "2021-09-28T13:16:07.970Z"
   },
   {
    "duration": 23,
    "start_time": "2021-09-28T13:16:51.850Z"
   },
   {
    "duration": 7,
    "start_time": "2021-09-28T13:16:51.876Z"
   },
   {
    "duration": 436,
    "start_time": "2021-09-28T13:16:51.886Z"
   },
   {
    "duration": 133,
    "start_time": "2021-09-28T13:16:52.324Z"
   },
   {
    "duration": 7932,
    "start_time": "2021-09-28T13:16:52.461Z"
   },
   {
    "duration": 31757,
    "start_time": "2021-09-28T13:17:00.395Z"
   },
   {
    "duration": 2,
    "start_time": "2021-09-28T13:17:32.154Z"
   },
   {
    "duration": 8043,
    "start_time": "2021-09-28T13:19:15.418Z"
   },
   {
    "duration": 67219,
    "start_time": "2021-09-28T13:19:26.139Z"
   },
   {
    "duration": 48681,
    "start_time": "2021-09-28T13:27:28.067Z"
   },
   {
    "duration": 6914,
    "start_time": "2021-09-28T13:28:23.393Z"
   },
   {
    "duration": 4,
    "start_time": "2021-09-28T13:29:03.367Z"
   },
   {
    "duration": 7254,
    "start_time": "2021-09-28T13:29:08.559Z"
   },
   {
    "duration": 6032,
    "start_time": "2021-09-28T13:29:33.760Z"
   },
   {
    "duration": 5807,
    "start_time": "2021-09-28T13:29:48.478Z"
   },
   {
    "duration": 5990,
    "start_time": "2021-09-28T13:30:15.399Z"
   },
   {
    "duration": 6950,
    "start_time": "2021-09-28T13:30:37.239Z"
   },
   {
    "duration": 14523,
    "start_time": "2021-09-28T13:32:05.349Z"
   },
   {
    "duration": 651,
    "start_time": "2021-09-28T13:33:30.362Z"
   },
   {
    "duration": 4,
    "start_time": "2021-09-28T13:33:31.786Z"
   },
   {
    "duration": 3,
    "start_time": "2021-09-28T13:33:33.393Z"
   },
   {
    "duration": 377608,
    "start_time": "2021-09-28T13:33:35.322Z"
   },
   {
    "duration": 19,
    "start_time": "2021-09-28T13:39:52.933Z"
   },
   {
    "duration": 2037,
    "start_time": "2021-09-28T13:39:52.954Z"
   },
   {
    "duration": 3156,
    "start_time": "2021-09-28T13:39:54.993Z"
   },
   {
    "duration": 5492,
    "start_time": "2021-09-28T13:47:14.603Z"
   },
   {
    "duration": 3247,
    "start_time": "2021-09-28T13:47:20.097Z"
   },
   {
    "duration": 1291,
    "start_time": "2021-09-28T13:47:23.349Z"
   },
   {
    "duration": 3,
    "start_time": "2021-09-28T13:47:24.642Z"
   },
   {
    "duration": 8,
    "start_time": "2021-09-28T13:47:24.647Z"
   },
   {
    "duration": 385826,
    "start_time": "2021-09-28T13:47:24.656Z"
   },
   {
    "duration": 158,
    "start_time": "2021-09-28T13:53:50.484Z"
   },
   {
    "duration": 18,
    "start_time": "2021-09-28T13:53:50.645Z"
   },
   {
    "duration": 2393,
    "start_time": "2021-09-28T13:53:50.665Z"
   },
   {
    "duration": 1174236,
    "start_time": "2021-09-28T13:53:53.060Z"
   },
   {
    "duration": 306,
    "start_time": "2021-09-28T14:22:42.138Z"
   },
   {
    "duration": 4800,
    "start_time": "2021-09-28T14:22:50.340Z"
   },
   {
    "duration": 3262,
    "start_time": "2021-09-28T14:22:55.142Z"
   },
   {
    "duration": 1310,
    "start_time": "2021-09-28T14:22:58.409Z"
   },
   {
    "duration": 3,
    "start_time": "2021-09-28T14:22:59.721Z"
   },
   {
    "duration": 7,
    "start_time": "2021-09-28T14:22:59.725Z"
   },
   {
    "duration": 405463,
    "start_time": "2021-09-28T14:22:59.733Z"
   },
   {
    "duration": 152,
    "start_time": "2021-09-28T14:29:45.198Z"
   },
   {
    "duration": 14,
    "start_time": "2021-09-28T14:29:45.353Z"
   },
   {
    "duration": 2608,
    "start_time": "2021-09-28T14:29:45.369Z"
   },
   {
    "duration": 2478,
    "start_time": "2021-09-28T14:29:47.979Z"
   },
   {
    "duration": 474597,
    "start_time": "2021-09-28T14:29:50.459Z"
   },
   {
    "duration": 15372,
    "start_time": "2021-09-28T14:37:29.687Z"
   },
   {
    "duration": 15370,
    "start_time": "2021-09-28T14:37:29.690Z"
   },
   {
    "duration": 15203,
    "start_time": "2021-09-28T14:37:50.488Z"
   },
   {
    "duration": 446,
    "start_time": "2021-09-28T14:39:44.425Z"
   },
   {
    "duration": 4705,
    "start_time": "2021-09-28T14:39:55.184Z"
   },
   {
    "duration": 3365,
    "start_time": "2021-09-28T14:39:59.891Z"
   },
   {
    "duration": 1440,
    "start_time": "2021-09-28T14:40:03.258Z"
   },
   {
    "duration": 4,
    "start_time": "2021-09-28T14:40:04.699Z"
   },
   {
    "duration": 7,
    "start_time": "2021-09-28T14:40:04.705Z"
   },
   {
    "duration": 401771,
    "start_time": "2021-09-28T14:40:04.714Z"
   },
   {
    "duration": 147,
    "start_time": "2021-09-28T14:46:46.487Z"
   },
   {
    "duration": 21,
    "start_time": "2021-09-28T14:46:46.637Z"
   },
   {
    "duration": 2753,
    "start_time": "2021-09-28T14:46:46.662Z"
   },
   {
    "duration": 3940,
    "start_time": "2021-09-28T14:46:49.417Z"
   },
   {
    "duration": 15176,
    "start_time": "2021-09-28T14:46:53.359Z"
   },
   {
    "duration": 428,
    "start_time": "2021-09-28T14:56:17.296Z"
   },
   {
    "duration": 6529,
    "start_time": "2021-09-28T14:56:28.792Z"
   },
   {
    "duration": 3303,
    "start_time": "2021-09-28T14:56:35.323Z"
   },
   {
    "duration": 1425,
    "start_time": "2021-09-28T14:56:38.628Z"
   },
   {
    "duration": 4,
    "start_time": "2021-09-28T14:56:40.154Z"
   },
   {
    "duration": 3,
    "start_time": "2021-09-28T14:56:40.546Z"
   },
   {
    "duration": 426742,
    "start_time": "2021-09-28T14:56:43.279Z"
   },
   {
    "duration": 161,
    "start_time": "2021-09-28T15:03:50.023Z"
   },
   {
    "duration": 14,
    "start_time": "2021-09-28T15:03:50.188Z"
   },
   {
    "duration": 2544,
    "start_time": "2021-09-28T15:04:28.885Z"
   },
   {
    "duration": 2918,
    "start_time": "2021-09-28T15:04:31.431Z"
   },
   {
    "duration": 4659,
    "start_time": "2021-09-28T15:09:05.241Z"
   },
   {
    "duration": 3398,
    "start_time": "2021-09-28T15:09:09.902Z"
   },
   {
    "duration": 1482,
    "start_time": "2021-09-28T15:09:13.302Z"
   },
   {
    "duration": 3,
    "start_time": "2021-09-28T15:09:14.786Z"
   },
   {
    "duration": 6,
    "start_time": "2021-09-28T15:09:14.790Z"
   },
   {
    "duration": 4824,
    "start_time": "2021-09-28T15:13:26.767Z"
   },
   {
    "duration": 886,
    "start_time": "2021-09-28T15:13:31.593Z"
   },
   {
    "duration": 1123,
    "start_time": "2021-09-28T15:13:32.481Z"
   },
   {
    "duration": 486,
    "start_time": "2021-09-28T15:13:38.263Z"
   },
   {
    "duration": 4,
    "start_time": "2021-09-28T15:13:39.630Z"
   },
   {
    "duration": 3,
    "start_time": "2021-09-28T15:13:40.031Z"
   },
   {
    "duration": 66729,
    "start_time": "2021-09-28T15:13:40.558Z"
   },
   {
    "duration": 7,
    "start_time": "2021-09-28T15:16:05.037Z"
   },
   {
    "duration": 3,
    "start_time": "2021-09-28T15:16:08.515Z"
   },
   {
    "duration": 6,
    "start_time": "2021-09-28T15:16:09.220Z"
   },
   {
    "duration": 603,
    "start_time": "2021-09-28T15:16:10.899Z"
   },
   {
    "duration": 1713,
    "start_time": "2021-09-28T15:16:13.379Z"
   },
   {
    "duration": 765,
    "start_time": "2021-09-28T15:16:26.390Z"
   },
   {
    "duration": 7453,
    "start_time": "2021-09-28T15:16:56.914Z"
   },
   {
    "duration": 525,
    "start_time": "2021-09-28T15:17:58.330Z"
   },
   {
    "duration": 1997,
    "start_time": "2021-09-28T15:18:15.335Z"
   },
   {
    "duration": 1215,
    "start_time": "2021-09-28T15:24:49.570Z"
   },
   {
    "duration": 1214,
    "start_time": "2021-09-28T15:24:59.441Z"
   },
   {
    "duration": 1234,
    "start_time": "2021-09-28T15:25:13.115Z"
   },
   {
    "duration": 1402,
    "start_time": "2021-09-28T15:25:16.426Z"
   },
   {
    "duration": 975,
    "start_time": "2021-09-28T15:25:34.961Z"
   },
   {
    "duration": 3,
    "start_time": "2021-09-28T15:36:49.581Z"
   },
   {
    "duration": 288,
    "start_time": "2021-09-28T15:38:14.556Z"
   },
   {
    "duration": 251,
    "start_time": "2021-09-28T15:38:21.978Z"
   },
   {
    "duration": 270,
    "start_time": "2021-09-28T15:38:33.010Z"
   },
   {
    "duration": 588,
    "start_time": "2021-09-28T15:38:39.010Z"
   },
   {
    "duration": 590,
    "start_time": "2021-09-28T15:40:15.281Z"
   },
   {
    "duration": 608,
    "start_time": "2021-09-28T15:40:59.272Z"
   },
   {
    "duration": 458,
    "start_time": "2021-09-28T15:41:22.999Z"
   },
   {
    "duration": 640,
    "start_time": "2021-09-28T15:42:33.077Z"
   },
   {
    "duration": 629,
    "start_time": "2021-09-28T15:44:18.565Z"
   },
   {
    "duration": 633,
    "start_time": "2021-09-28T15:44:43.308Z"
   },
   {
    "duration": 595,
    "start_time": "2021-09-28T15:44:54.203Z"
   },
   {
    "duration": 6,
    "start_time": "2021-09-28T15:45:03.810Z"
   },
   {
    "duration": 5,
    "start_time": "2021-09-28T15:45:20.267Z"
   },
   {
    "duration": 266,
    "start_time": "2021-09-28T15:45:45.121Z"
   },
   {
    "duration": 289,
    "start_time": "2021-09-28T15:45:51.682Z"
   },
   {
    "duration": 353,
    "start_time": "2021-09-28T15:46:00.129Z"
   },
   {
    "duration": 4,
    "start_time": "2021-09-28T15:50:32.846Z"
   },
   {
    "duration": 3,
    "start_time": "2021-09-28T15:50:47.300Z"
   },
   {
    "duration": 4,
    "start_time": "2021-09-28T15:51:07.196Z"
   },
   {
    "duration": 258,
    "start_time": "2021-09-28T15:51:26.132Z"
   },
   {
    "duration": 267,
    "start_time": "2021-09-28T15:51:29.195Z"
   },
   {
    "duration": 282,
    "start_time": "2021-09-28T15:51:36.507Z"
   },
   {
    "duration": 4,
    "start_time": "2021-09-28T15:52:07.531Z"
   },
   {
    "duration": 4,
    "start_time": "2021-09-28T15:52:23.706Z"
   },
   {
    "duration": 4,
    "start_time": "2021-09-28T15:52:27.522Z"
   },
   {
    "duration": 5,
    "start_time": "2021-09-28T15:52:30.530Z"
   },
   {
    "duration": 10,
    "start_time": "2021-09-28T15:53:05.755Z"
   },
   {
    "duration": 455,
    "start_time": "2021-09-28T15:53:17.570Z"
   },
   {
    "duration": 7,
    "start_time": "2021-09-28T15:54:18.040Z"
   },
   {
    "duration": 24,
    "start_time": "2021-09-28T15:54:30.608Z"
   },
   {
    "duration": 9,
    "start_time": "2021-09-28T15:55:07.552Z"
   },
   {
    "duration": 789,
    "start_time": "2021-09-28T15:55:10.215Z"
   },
   {
    "duration": 3,
    "start_time": "2021-09-28T15:55:55.461Z"
   },
   {
    "duration": 420,
    "start_time": "2021-09-28T15:55:57.542Z"
   },
   {
    "duration": 8,
    "start_time": "2021-09-28T15:56:14.869Z"
   },
   {
    "duration": 7,
    "start_time": "2021-09-28T15:56:28.741Z"
   },
   {
    "duration": 8,
    "start_time": "2021-09-28T15:56:52.237Z"
   },
   {
    "duration": 253,
    "start_time": "2021-09-28T15:57:55.307Z"
   },
   {
    "duration": 250,
    "start_time": "2021-09-28T15:58:31.379Z"
   },
   {
    "duration": 4421,
    "start_time": "2021-09-28T15:58:51.283Z"
   },
   {
    "duration": 826,
    "start_time": "2021-09-28T15:58:57.003Z"
   },
   {
    "duration": 1068,
    "start_time": "2021-09-28T15:58:57.831Z"
   },
   {
    "duration": 3,
    "start_time": "2021-09-28T15:58:58.901Z"
   },
   {
    "duration": 65043,
    "start_time": "2021-09-28T15:58:58.906Z"
   },
   {
    "duration": 3,
    "start_time": "2021-09-28T16:00:03.950Z"
   },
   {
    "duration": 13,
    "start_time": "2021-09-28T16:00:03.955Z"
   },
   {
    "duration": 12,
    "start_time": "2021-09-28T16:00:03.971Z"
   },
   {
    "duration": 10,
    "start_time": "2021-09-28T16:00:33.032Z"
   },
   {
    "duration": 822,
    "start_time": "2021-09-28T16:00:34.312Z"
   },
   {
    "duration": 261,
    "start_time": "2021-09-28T16:01:39.753Z"
   },
   {
    "duration": 4802,
    "start_time": "2021-09-28T16:01:54.923Z"
   },
   {
    "duration": 946,
    "start_time": "2021-09-28T16:01:59.727Z"
   },
   {
    "duration": 2096,
    "start_time": "2021-09-28T16:02:00.675Z"
   },
   {
    "duration": 3,
    "start_time": "2021-09-28T16:02:02.773Z"
   },
   {
    "duration": 7449,
    "start_time": "2021-09-28T16:02:02.778Z"
   },
   {
    "duration": 2,
    "start_time": "2021-09-28T16:02:10.229Z"
   },
   {
    "duration": 39,
    "start_time": "2021-09-28T16:02:10.233Z"
   },
   {
    "duration": 22,
    "start_time": "2021-09-28T16:02:10.273Z"
   },
   {
    "duration": 19,
    "start_time": "2021-09-28T16:02:10.298Z"
   },
   {
    "duration": 284,
    "start_time": "2021-09-28T16:02:10.319Z"
   },
   {
    "duration": 826,
    "start_time": "2021-09-28T16:02:10.605Z"
   },
   {
    "duration": 15439,
    "start_time": "2021-09-28T16:01:55.994Z"
   },
   {
    "duration": 15438,
    "start_time": "2021-09-28T16:01:55.996Z"
   },
   {
    "duration": 15438,
    "start_time": "2021-09-28T16:01:55.997Z"
   },
   {
    "duration": 9,
    "start_time": "2021-09-28T16:02:58.182Z"
   },
   {
    "duration": 6,
    "start_time": "2021-09-28T16:06:49.721Z"
   },
   {
    "duration": 454,
    "start_time": "2021-09-28T16:07:21.656Z"
   },
   {
    "duration": 4731,
    "start_time": "2021-09-28T16:07:33.803Z"
   },
   {
    "duration": 894,
    "start_time": "2021-09-28T16:07:38.536Z"
   },
   {
    "duration": 1137,
    "start_time": "2021-09-28T16:07:39.432Z"
   },
   {
    "duration": 3,
    "start_time": "2021-09-28T16:07:40.571Z"
   },
   {
    "duration": 7538,
    "start_time": "2021-09-28T16:07:40.576Z"
   },
   {
    "duration": 2,
    "start_time": "2021-09-28T16:07:48.116Z"
   },
   {
    "duration": 10,
    "start_time": "2021-09-28T16:07:48.120Z"
   },
   {
    "duration": 18,
    "start_time": "2021-09-28T16:07:48.131Z"
   },
   {
    "duration": 13,
    "start_time": "2021-09-28T16:07:48.152Z"
   },
   {
    "duration": 293,
    "start_time": "2021-09-28T16:07:48.167Z"
   },
   {
    "duration": 9,
    "start_time": "2021-09-28T16:07:48.462Z"
   },
   {
    "duration": 15,
    "start_time": "2021-09-28T16:07:48.472Z"
   },
   {
    "duration": 815,
    "start_time": "2021-09-28T16:07:48.489Z"
   },
   {
    "duration": 15455,
    "start_time": "2021-09-28T16:07:33.851Z"
   },
   {
    "duration": 15454,
    "start_time": "2021-09-28T16:07:33.853Z"
   },
   {
    "duration": 15453,
    "start_time": "2021-09-28T16:07:33.855Z"
   },
   {
    "duration": 4765,
    "start_time": "2021-09-28T16:08:29.931Z"
   },
   {
    "duration": 911,
    "start_time": "2021-09-28T16:08:34.698Z"
   },
   {
    "duration": 1186,
    "start_time": "2021-09-28T16:08:35.611Z"
   },
   {
    "duration": 3,
    "start_time": "2021-09-28T16:08:36.799Z"
   },
   {
    "duration": 7688,
    "start_time": "2021-09-28T16:08:36.803Z"
   },
   {
    "duration": 2,
    "start_time": "2021-09-28T16:08:44.493Z"
   },
   {
    "duration": 7,
    "start_time": "2021-09-28T16:08:44.497Z"
   },
   {
    "duration": 9,
    "start_time": "2021-09-28T16:08:44.506Z"
   },
   {
    "duration": 812,
    "start_time": "2021-09-28T16:08:44.518Z"
   },
   {
    "duration": 15458,
    "start_time": "2021-09-28T16:08:29.874Z"
   },
   {
    "duration": 15456,
    "start_time": "2021-09-28T16:08:29.877Z"
   },
   {
    "duration": 15451,
    "start_time": "2021-09-28T16:08:29.884Z"
   },
   {
    "duration": 15449,
    "start_time": "2021-09-28T16:08:29.887Z"
   },
   {
    "duration": 15448,
    "start_time": "2021-09-28T16:08:29.890Z"
   },
   {
    "duration": 15447,
    "start_time": "2021-09-28T16:08:29.892Z"
   },
   {
    "duration": 15446,
    "start_time": "2021-09-28T16:08:29.895Z"
   },
   {
    "duration": 5,
    "start_time": "2021-09-28T16:09:14.262Z"
   },
   {
    "duration": 429,
    "start_time": "2021-09-28T16:09:17.397Z"
   },
   {
    "duration": 9,
    "start_time": "2021-09-28T16:09:35.013Z"
   },
   {
    "duration": 10,
    "start_time": "2021-09-28T16:09:45.165Z"
   },
   {
    "duration": 6,
    "start_time": "2021-09-28T16:09:56.077Z"
   },
   {
    "duration": 356,
    "start_time": "2021-09-28T16:10:00.437Z"
   },
   {
    "duration": 7,
    "start_time": "2021-09-28T16:10:02.148Z"
   },
   {
    "duration": 6,
    "start_time": "2021-09-28T16:10:03.085Z"
   },
   {
    "duration": 416,
    "start_time": "2021-09-28T16:10:04.109Z"
   },
   {
    "duration": 3,
    "start_time": "2021-09-28T16:11:29.139Z"
   },
   {
    "duration": 6,
    "start_time": "2021-09-28T16:11:31.955Z"
   },
   {
    "duration": 367,
    "start_time": "2021-09-28T16:12:20.710Z"
   },
   {
    "duration": 4942,
    "start_time": "2021-09-28T16:12:22.967Z"
   },
   {
    "duration": 905,
    "start_time": "2021-09-28T16:12:27.911Z"
   },
   {
    "duration": 1141,
    "start_time": "2021-09-28T16:12:28.818Z"
   },
   {
    "duration": 3,
    "start_time": "2021-09-28T16:12:29.961Z"
   },
   {
    "duration": 7525,
    "start_time": "2021-09-28T16:12:29.966Z"
   },
   {
    "duration": 3,
    "start_time": "2021-09-28T16:12:37.493Z"
   },
   {
    "duration": 19,
    "start_time": "2021-09-28T16:12:37.497Z"
   },
   {
    "duration": 16,
    "start_time": "2021-09-28T16:12:37.518Z"
   },
   {
    "duration": 25,
    "start_time": "2021-09-28T16:12:37.537Z"
   },
   {
    "duration": 14,
    "start_time": "2021-09-28T16:12:37.564Z"
   },
   {
    "duration": 258,
    "start_time": "2021-09-28T16:12:37.580Z"
   },
   {
    "duration": 575,
    "start_time": "2021-09-28T16:12:37.840Z"
   },
   {
    "duration": 15439,
    "start_time": "2021-09-28T16:12:22.978Z"
   },
   {
    "duration": 15437,
    "start_time": "2021-09-28T16:12:22.981Z"
   },
   {
    "duration": 15429,
    "start_time": "2021-09-28T16:12:22.990Z"
   },
   {
    "duration": 15428,
    "start_time": "2021-09-28T16:12:22.992Z"
   },
   {
    "duration": 15428,
    "start_time": "2021-09-28T16:12:22.993Z"
   },
   {
    "duration": 4,
    "start_time": "2021-09-28T16:13:16.738Z"
   },
   {
    "duration": 268,
    "start_time": "2021-09-28T16:13:25.041Z"
   },
   {
    "duration": 271,
    "start_time": "2021-09-28T16:13:28.521Z"
   },
   {
    "duration": 4,
    "start_time": "2021-09-28T16:13:35.313Z"
   },
   {
    "duration": 293,
    "start_time": "2021-09-28T16:15:42.663Z"
   },
   {
    "duration": 4691,
    "start_time": "2021-09-28T16:16:07.748Z"
   },
   {
    "duration": 868,
    "start_time": "2021-09-28T16:16:12.441Z"
   },
   {
    "duration": 1101,
    "start_time": "2021-09-28T16:16:13.312Z"
   },
   {
    "duration": 3,
    "start_time": "2021-09-28T16:16:14.416Z"
   },
   {
    "duration": 7164,
    "start_time": "2021-09-28T16:16:14.421Z"
   },
   {
    "duration": 2,
    "start_time": "2021-09-28T16:16:21.587Z"
   },
   {
    "duration": 6,
    "start_time": "2021-09-28T16:16:21.591Z"
   },
   {
    "duration": 9,
    "start_time": "2021-09-28T16:16:21.599Z"
   },
   {
    "duration": 12,
    "start_time": "2021-09-28T16:16:21.610Z"
   },
   {
    "duration": 33,
    "start_time": "2021-09-28T16:16:21.624Z"
   },
   {
    "duration": 866,
    "start_time": "2021-09-28T16:16:21.659Z"
   },
   {
    "duration": 15461,
    "start_time": "2021-09-28T16:16:07.067Z"
   },
   {
    "duration": 15457,
    "start_time": "2021-09-28T16:16:07.073Z"
   },
   {
    "duration": 15449,
    "start_time": "2021-09-28T16:16:07.082Z"
   },
   {
    "duration": 15448,
    "start_time": "2021-09-28T16:16:07.085Z"
   },
   {
    "duration": 15447,
    "start_time": "2021-09-28T16:16:07.087Z"
   },
   {
    "duration": 15447,
    "start_time": "2021-09-28T16:16:07.089Z"
   },
   {
    "duration": 46,
    "start_time": "2021-09-28T16:17:15.725Z"
   },
   {
    "duration": 4,
    "start_time": "2021-09-28T16:17:23.444Z"
   },
   {
    "duration": 4,
    "start_time": "2021-09-28T16:17:44.220Z"
   },
   {
    "duration": 4683,
    "start_time": "2021-09-28T16:17:52.596Z"
   },
   {
    "duration": 873,
    "start_time": "2021-09-28T16:17:57.282Z"
   },
   {
    "duration": 1085,
    "start_time": "2021-09-28T16:17:58.157Z"
   },
   {
    "duration": 5,
    "start_time": "2021-09-28T16:17:59.244Z"
   },
   {
    "duration": 7134,
    "start_time": "2021-09-28T16:17:59.251Z"
   },
   {
    "duration": 2,
    "start_time": "2021-09-28T16:18:06.387Z"
   },
   {
    "duration": 21,
    "start_time": "2021-09-28T16:18:06.391Z"
   },
   {
    "duration": 19,
    "start_time": "2021-09-28T16:18:06.414Z"
   },
   {
    "duration": 31,
    "start_time": "2021-09-28T16:18:06.435Z"
   },
   {
    "duration": 22,
    "start_time": "2021-09-28T16:18:06.467Z"
   },
   {
    "duration": 278,
    "start_time": "2021-09-28T16:18:06.491Z"
   },
   {
    "duration": 4,
    "start_time": "2021-09-28T16:18:06.771Z"
   },
   {
    "duration": 19,
    "start_time": "2021-09-28T16:18:06.776Z"
   },
   {
    "duration": 846,
    "start_time": "2021-09-28T16:18:06.797Z"
   },
   {
    "duration": 15446,
    "start_time": "2021-09-28T16:17:52.199Z"
   },
   {
    "duration": 15445,
    "start_time": "2021-09-28T16:17:52.201Z"
   },
   {
    "duration": 15445,
    "start_time": "2021-09-28T16:17:52.202Z"
   },
   {
    "duration": 6,
    "start_time": "2021-09-28T16:22:35.010Z"
   },
   {
    "duration": 495,
    "start_time": "2021-09-28T16:22:48.561Z"
   },
   {
    "duration": 4748,
    "start_time": "2021-09-28T16:23:04.755Z"
   },
   {
    "duration": 884,
    "start_time": "2021-09-28T16:23:09.505Z"
   },
   {
    "duration": 1123,
    "start_time": "2021-09-28T16:23:10.391Z"
   },
   {
    "duration": 4,
    "start_time": "2021-09-28T16:23:11.517Z"
   },
   {
    "duration": 7609,
    "start_time": "2021-09-28T16:23:11.523Z"
   },
   {
    "duration": 3,
    "start_time": "2021-09-28T16:23:19.134Z"
   },
   {
    "duration": 10,
    "start_time": "2021-09-28T16:23:19.149Z"
   },
   {
    "duration": 11,
    "start_time": "2021-09-28T16:23:19.161Z"
   },
   {
    "duration": 23,
    "start_time": "2021-09-28T16:23:19.175Z"
   },
   {
    "duration": 22,
    "start_time": "2021-09-28T16:23:19.200Z"
   },
   {
    "duration": 285,
    "start_time": "2021-09-28T16:23:19.224Z"
   },
   {
    "duration": 4,
    "start_time": "2021-09-28T16:23:19.511Z"
   },
   {
    "duration": 12,
    "start_time": "2021-09-28T16:23:19.517Z"
   },
   {
    "duration": 31,
    "start_time": "2021-09-28T16:23:19.531Z"
   },
   {
    "duration": 501,
    "start_time": "2021-09-28T16:23:19.564Z"
   },
   {
    "duration": 1091,
    "start_time": "2021-09-28T16:23:20.067Z"
   },
   {
    "duration": 3,
    "start_time": "2021-09-28T16:23:21.160Z"
   },
   {
    "duration": 4682,
    "start_time": "2021-09-28T16:23:52.925Z"
   },
   {
    "duration": 924,
    "start_time": "2021-09-28T16:23:57.609Z"
   },
   {
    "duration": 1352,
    "start_time": "2021-09-28T16:23:58.535Z"
   },
   {
    "duration": 4,
    "start_time": "2021-09-28T16:23:59.889Z"
   },
   {
    "duration": 7340,
    "start_time": "2021-09-28T16:23:59.894Z"
   },
   {
    "duration": 2,
    "start_time": "2021-09-28T16:24:07.236Z"
   },
   {
    "duration": 11,
    "start_time": "2021-09-28T16:24:07.240Z"
   },
   {
    "duration": 9,
    "start_time": "2021-09-28T16:24:07.253Z"
   },
   {
    "duration": 11,
    "start_time": "2021-09-28T16:24:07.265Z"
   },
   {
    "duration": 14,
    "start_time": "2021-09-28T16:24:07.278Z"
   },
   {
    "duration": 250,
    "start_time": "2021-09-28T16:24:07.294Z"
   },
   {
    "duration": 4,
    "start_time": "2021-09-28T16:24:07.546Z"
   },
   {
    "duration": 7,
    "start_time": "2021-09-28T16:24:07.551Z"
   },
   {
    "duration": 21,
    "start_time": "2021-09-28T16:24:07.560Z"
   },
   {
    "duration": 455,
    "start_time": "2021-09-28T16:24:07.582Z"
   },
   {
    "duration": 923,
    "start_time": "2021-09-28T16:24:08.038Z"
   },
   {
    "duration": 2,
    "start_time": "2021-09-28T16:24:08.963Z"
   },
   {
    "duration": 9,
    "start_time": "2021-09-28T16:24:25.438Z"
   },
   {
    "duration": 6,
    "start_time": "2021-09-28T16:24:25.573Z"
   },
   {
    "duration": 47,
    "start_time": "2021-09-28T16:24:25.773Z"
   },
   {
    "duration": 4,
    "start_time": "2021-09-28T16:24:25.925Z"
   },
   {
    "duration": 6,
    "start_time": "2021-09-28T16:24:26.645Z"
   },
   {
    "duration": 19,
    "start_time": "2021-09-28T16:24:26.949Z"
   },
   {
    "duration": 506,
    "start_time": "2021-09-28T16:24:31.013Z"
   },
   {
    "duration": 1142,
    "start_time": "2021-09-28T16:24:31.521Z"
   },
   {
    "duration": 466,
    "start_time": "2021-09-28T16:24:49.565Z"
   },
   {
    "duration": 4715,
    "start_time": "2021-09-28T16:25:06.056Z"
   },
   {
    "duration": 1008,
    "start_time": "2021-09-28T16:25:10.773Z"
   },
   {
    "duration": 1632,
    "start_time": "2021-09-28T16:25:11.783Z"
   },
   {
    "duration": 3,
    "start_time": "2021-09-28T16:25:13.417Z"
   },
   {
    "duration": 71828,
    "start_time": "2021-09-28T16:25:13.421Z"
   },
   {
    "duration": 2,
    "start_time": "2021-09-28T16:26:25.251Z"
   },
   {
    "duration": 12,
    "start_time": "2021-09-28T16:26:25.255Z"
   },
   {
    "duration": 15,
    "start_time": "2021-09-28T16:26:25.269Z"
   },
   {
    "duration": 10,
    "start_time": "2021-09-28T16:26:25.286Z"
   },
   {
    "duration": 18,
    "start_time": "2021-09-28T16:26:25.298Z"
   },
   {
    "duration": 659,
    "start_time": "2021-09-28T16:26:25.318Z"
   },
   {
    "duration": 3,
    "start_time": "2021-09-28T16:26:25.979Z"
   },
   {
    "duration": 10,
    "start_time": "2021-09-28T16:26:25.984Z"
   },
   {
    "duration": 1259,
    "start_time": "2021-09-28T16:26:25.996Z"
   },
   {
    "duration": 2450,
    "start_time": "2021-09-28T16:26:27.259Z"
   },
   {
    "duration": 8246,
    "start_time": "2021-09-28T16:26:29.711Z"
   },
   {
    "duration": 2,
    "start_time": "2021-09-28T16:26:37.959Z"
   },
   {
    "duration": 2441,
    "start_time": "2021-09-28T16:26:44.768Z"
   },
   {
    "duration": 11,
    "start_time": "2021-09-28T16:27:32.119Z"
   },
   {
    "duration": 6,
    "start_time": "2021-09-28T16:27:33.302Z"
   },
   {
    "duration": 683,
    "start_time": "2021-09-28T16:27:33.494Z"
   },
   {
    "duration": 3,
    "start_time": "2021-09-28T16:27:34.179Z"
   },
   {
    "duration": 9,
    "start_time": "2021-09-28T16:27:34.184Z"
   },
   {
    "duration": 1473,
    "start_time": "2021-09-28T16:27:35.479Z"
   },
   {
    "duration": 4373,
    "start_time": "2021-09-28T16:27:36.955Z"
   },
   {
    "duration": 11717,
    "start_time": "2021-09-28T16:27:48.943Z"
   },
   {
    "duration": 4766,
    "start_time": "2021-09-28T16:28:43.505Z"
   },
   {
    "duration": 933,
    "start_time": "2021-09-28T16:28:48.273Z"
   },
   {
    "duration": 1095,
    "start_time": "2021-09-28T16:28:49.209Z"
   },
   {
    "duration": 3,
    "start_time": "2021-09-28T16:28:50.306Z"
   },
   {
    "duration": 69324,
    "start_time": "2021-09-28T16:28:50.310Z"
   },
   {
    "duration": 3,
    "start_time": "2021-09-28T16:29:59.636Z"
   },
   {
    "duration": 14,
    "start_time": "2021-09-28T16:29:59.641Z"
   },
   {
    "duration": 7,
    "start_time": "2021-09-28T16:29:59.658Z"
   },
   {
    "duration": 12,
    "start_time": "2021-09-28T16:29:59.667Z"
   },
   {
    "duration": 11,
    "start_time": "2021-09-28T16:29:59.680Z"
   },
   {
    "duration": 685,
    "start_time": "2021-09-28T16:29:59.693Z"
   },
   {
    "duration": 4,
    "start_time": "2021-09-28T16:30:00.380Z"
   },
   {
    "duration": 1064,
    "start_time": "2021-09-28T16:30:00.386Z"
   },
   {
    "duration": 2915,
    "start_time": "2021-09-28T16:30:01.453Z"
   },
   {
    "duration": 8118,
    "start_time": "2021-09-28T16:30:04.370Z"
   },
   {
    "duration": 560,
    "start_time": "2021-09-28T16:30:12.489Z"
   },
   {
    "duration": 874,
    "start_time": "2021-09-28T16:30:13.051Z"
   },
   {
    "duration": 6772,
    "start_time": "2021-09-28T16:43:58.679Z"
   },
   {
    "duration": 10727,
    "start_time": "2021-09-28T16:44:17.877Z"
   },
   {
    "duration": 30570,
    "start_time": "2021-09-28T16:44:28.605Z"
   },
   {
    "duration": 579,
    "start_time": "2021-09-28T16:47:04.851Z"
   },
   {
    "duration": 6575,
    "start_time": "2021-09-28T16:47:40.578Z"
   },
   {
    "duration": 10704,
    "start_time": "2021-09-28T16:47:48.201Z"
   },
   {
    "duration": 30858,
    "start_time": "2021-09-28T16:47:58.907Z"
   },
   {
    "duration": 252,
    "start_time": "2021-09-28T16:48:29.768Z"
   },
   {
    "duration": 252,
    "start_time": "2021-09-28T16:49:10.800Z"
   },
   {
    "duration": 279,
    "start_time": "2021-09-28T16:49:20.136Z"
   },
   {
    "duration": 257,
    "start_time": "2021-09-28T16:49:37.496Z"
   },
   {
    "duration": 209,
    "start_time": "2021-09-28T16:49:43.704Z"
   },
   {
    "duration": 302,
    "start_time": "2021-09-28T16:50:03.695Z"
   },
   {
    "duration": 500,
    "start_time": "2021-09-28T16:50:18.599Z"
   },
   {
    "duration": 131,
    "start_time": "2021-09-28T16:50:21.862Z"
   },
   {
    "duration": 4790,
    "start_time": "2021-09-29T04:35:00.922Z"
   },
   {
    "duration": 868,
    "start_time": "2021-09-29T04:35:05.714Z"
   },
   {
    "duration": 1057,
    "start_time": "2021-09-29T04:35:06.584Z"
   },
   {
    "duration": 7,
    "start_time": "2021-09-29T04:35:07.643Z"
   },
   {
    "duration": 64020,
    "start_time": "2021-09-29T04:35:07.652Z"
   },
   {
    "duration": 6,
    "start_time": "2021-09-29T04:36:11.674Z"
   },
   {
    "duration": 9,
    "start_time": "2021-09-29T04:36:11.681Z"
   },
   {
    "duration": 15,
    "start_time": "2021-09-29T04:36:11.692Z"
   },
   {
    "duration": 2,
    "start_time": "2021-09-29T04:36:11.709Z"
   },
   {
    "duration": 783,
    "start_time": "2021-09-29T04:36:11.712Z"
   },
   {
    "duration": 361,
    "start_time": "2021-09-29T04:36:12.497Z"
   },
   {
    "duration": 1584,
    "start_time": "2021-09-29T04:36:12.950Z"
   },
   {
    "duration": -1551,
    "start_time": "2021-09-29T04:36:16.087Z"
   },
   {
    "duration": -1555,
    "start_time": "2021-09-29T04:36:16.092Z"
   },
   {
    "duration": 705,
    "start_time": "2021-09-29T12:30:56.553Z"
   },
   {
    "duration": 6552,
    "start_time": "2021-09-29T12:31:02.605Z"
   },
   {
    "duration": 1060,
    "start_time": "2021-09-29T12:31:09.160Z"
   },
   {
    "duration": 1735,
    "start_time": "2021-09-29T12:31:10.224Z"
   },
   {
    "duration": 5,
    "start_time": "2021-09-29T12:31:11.961Z"
   },
   {
    "duration": 97999,
    "start_time": "2021-09-29T12:31:11.968Z"
   },
   {
    "duration": 7,
    "start_time": "2021-09-29T12:32:49.970Z"
   },
   {
    "duration": 44,
    "start_time": "2021-09-29T12:32:49.979Z"
   },
   {
    "duration": 39,
    "start_time": "2021-09-29T12:32:50.027Z"
   },
   {
    "duration": 21,
    "start_time": "2021-09-29T12:32:50.069Z"
   },
   {
    "duration": 1057,
    "start_time": "2021-09-29T12:32:50.093Z"
   },
   {
    "duration": 506,
    "start_time": "2021-09-29T12:32:51.152Z"
   },
   {
    "duration": 926,
    "start_time": "2021-09-29T12:32:51.662Z"
   },
   {
    "duration": -1897,
    "start_time": "2021-09-29T12:32:54.487Z"
   },
   {
    "duration": -1899,
    "start_time": "2021-09-29T12:32:54.490Z"
   },
   {
    "duration": -1906,
    "start_time": "2021-09-29T12:32:54.499Z"
   },
   {
    "duration": 395,
    "start_time": "2021-09-29T12:39:22.200Z"
   },
   {
    "duration": 4863,
    "start_time": "2021-09-29T13:07:56.539Z"
   },
   {
    "duration": 413,
    "start_time": "2021-09-29T13:11:26.796Z"
   },
   {
    "duration": 8,
    "start_time": "2021-09-29T13:15:03.799Z"
   },
   {
    "duration": 20,
    "start_time": "2021-09-29T13:16:50.255Z"
   },
   {
    "duration": 432,
    "start_time": "2021-09-29T13:17:17.369Z"
   },
   {
    "duration": 136,
    "start_time": "2021-09-29T13:17:29.343Z"
   },
   {
    "duration": 1584,
    "start_time": "2021-09-29T13:21:29.043Z"
   },
   {
    "duration": 8172,
    "start_time": "2021-09-29T13:21:42.174Z"
   },
   {
    "duration": -1867,
    "start_time": "2021-09-29T13:21:52.217Z"
   },
   {
    "duration": -1874,
    "start_time": "2021-09-29T13:21:52.225Z"
   },
   {
    "duration": -1899,
    "start_time": "2021-09-29T13:21:52.252Z"
   },
   {
    "duration": -1936,
    "start_time": "2021-09-29T13:21:52.290Z"
   },
   {
    "duration": -1936,
    "start_time": "2021-09-29T13:21:52.292Z"
   },
   {
    "duration": -1956,
    "start_time": "2021-09-29T13:21:52.313Z"
   },
   {
    "duration": -1956,
    "start_time": "2021-09-29T13:21:52.315Z"
   },
   {
    "duration": -1963,
    "start_time": "2021-09-29T13:21:52.324Z"
   },
   {
    "duration": -1975,
    "start_time": "2021-09-29T13:21:52.338Z"
   },
   {
    "duration": -1980,
    "start_time": "2021-09-29T13:21:52.345Z"
   },
   {
    "duration": -1984,
    "start_time": "2021-09-29T13:21:52.350Z"
   },
   {
    "duration": -1986,
    "start_time": "2021-09-29T13:21:52.354Z"
   },
   {
    "duration": -1991,
    "start_time": "2021-09-29T13:21:52.360Z"
   },
   {
    "duration": -1996,
    "start_time": "2021-09-29T13:21:52.366Z"
   },
   {
    "duration": -2017,
    "start_time": "2021-09-29T13:21:52.389Z"
   },
   {
    "duration": -2030,
    "start_time": "2021-09-29T13:21:52.404Z"
   },
   {
    "duration": 6962,
    "start_time": "2021-09-29T13:22:07.609Z"
   },
   {
    "duration": 18293,
    "start_time": "2021-09-29T13:22:14.574Z"
   },
   {
    "duration": 1212,
    "start_time": "2021-09-29T13:22:32.870Z"
   },
   {
    "duration": -1846,
    "start_time": "2021-09-29T13:22:35.932Z"
   },
   {
    "duration": -1851,
    "start_time": "2021-09-29T13:22:35.940Z"
   },
   {
    "duration": -1851,
    "start_time": "2021-09-29T13:22:35.942Z"
   },
   {
    "duration": -1854,
    "start_time": "2021-09-29T13:22:35.947Z"
   },
   {
    "duration": -1855,
    "start_time": "2021-09-29T13:22:35.950Z"
   },
   {
    "duration": -1857,
    "start_time": "2021-09-29T13:22:35.955Z"
   },
   {
    "duration": -1860,
    "start_time": "2021-09-29T13:22:35.960Z"
   },
   {
    "duration": -1861,
    "start_time": "2021-09-29T13:22:35.963Z"
   },
   {
    "duration": -1868,
    "start_time": "2021-09-29T13:22:35.972Z"
   },
   {
    "duration": -1867,
    "start_time": "2021-09-29T13:22:35.974Z"
   },
   {
    "duration": -1866,
    "start_time": "2021-09-29T13:22:35.975Z"
   },
   {
    "duration": -1866,
    "start_time": "2021-09-29T13:22:35.977Z"
   },
   {
    "duration": -1866,
    "start_time": "2021-09-29T13:22:35.979Z"
   },
   {
    "duration": -1866,
    "start_time": "2021-09-29T13:22:35.981Z"
   },
   {
    "duration": 20,
    "start_time": "2021-09-29T13:22:55.431Z"
   },
   {
    "duration": 1781,
    "start_time": "2021-09-29T13:23:02.351Z"
   },
   {
    "duration": 3,
    "start_time": "2021-09-29T13:23:05.110Z"
   },
   {
    "duration": 5,
    "start_time": "2021-09-29T13:23:12.022Z"
   },
   {
    "duration": 100521,
    "start_time": "2021-09-29T13:23:12.854Z"
   },
   {
    "duration": 10,
    "start_time": "2021-09-29T13:27:27.761Z"
   },
   {
    "duration": 5,
    "start_time": "2021-09-29T13:27:41.601Z"
   },
   {
    "duration": 685,
    "start_time": "2021-09-29T13:27:42.672Z"
   },
   {
    "duration": 6,
    "start_time": "2021-09-29T13:28:03.937Z"
   },
   {
    "duration": 3,
    "start_time": "2021-09-29T13:28:05.744Z"
   },
   {
    "duration": 816,
    "start_time": "2021-09-29T13:28:06.241Z"
   },
   {
    "duration": 355,
    "start_time": "2021-09-29T13:28:09.706Z"
   },
   {
    "duration": 46,
    "start_time": "2021-09-29T13:28:22.762Z"
   },
   {
    "duration": 4535,
    "start_time": "2021-09-29T13:28:24.033Z"
   },
   {
    "duration": 326,
    "start_time": "2021-09-29T13:28:33.963Z"
   },
   {
    "duration": 489,
    "start_time": "2021-09-29T13:28:58.770Z"
   },
   {
    "duration": 917,
    "start_time": "2021-09-29T13:30:10.042Z"
   },
   {
    "duration": 742,
    "start_time": "2021-09-29T13:31:59.100Z"
   },
   {
    "duration": 1041,
    "start_time": "2021-09-29T13:32:20.075Z"
   },
   {
    "duration": 713,
    "start_time": "2021-09-29T13:32:38.171Z"
   },
   {
    "duration": 929,
    "start_time": "2021-09-29T13:32:59.134Z"
   },
   {
    "duration": 748,
    "start_time": "2021-09-29T13:33:17.013Z"
   },
   {
    "duration": 1244,
    "start_time": "2021-09-29T13:33:27.788Z"
   },
   {
    "duration": 721,
    "start_time": "2021-09-29T13:33:33.972Z"
   },
   {
    "duration": 24,
    "start_time": "2021-09-29T13:34:16.662Z"
   },
   {
    "duration": 879,
    "start_time": "2021-09-29T13:34:17.264Z"
   },
   {
    "duration": 720,
    "start_time": "2021-09-29T13:34:24.264Z"
   },
   {
    "duration": 3,
    "start_time": "2021-09-29T13:34:26.428Z"
   },
   {
    "duration": 5,
    "start_time": "2021-09-29T13:34:26.628Z"
   },
   {
    "duration": 871,
    "start_time": "2021-09-29T13:34:30.972Z"
   },
   {
    "duration": -31,
    "start_time": "2021-09-29T13:34:31.877Z"
   },
   {
    "duration": -44,
    "start_time": "2021-09-29T13:34:31.891Z"
   },
   {
    "duration": 6,
    "start_time": "2021-09-29T13:34:32.711Z"
   },
   {
    "duration": 3,
    "start_time": "2021-09-29T13:34:33.099Z"
   },
   {
    "duration": 575,
    "start_time": "2021-09-29T13:34:33.315Z"
   },
   {
    "duration": 7084,
    "start_time": "2021-09-29T13:34:48.953Z"
   },
   {
    "duration": 1055,
    "start_time": "2021-09-29T13:34:56.040Z"
   },
   {
    "duration": 23,
    "start_time": "2021-09-29T13:34:57.098Z"
   },
   {
    "duration": 1684,
    "start_time": "2021-09-29T13:34:57.123Z"
   },
   {
    "duration": 3,
    "start_time": "2021-09-29T13:34:58.810Z"
   },
   {
    "duration": 16,
    "start_time": "2021-09-29T13:34:58.815Z"
   },
   {
    "duration": 1551,
    "start_time": "2021-09-29T13:34:58.834Z"
   },
   {
    "duration": -38,
    "start_time": "2021-09-29T13:35:00.426Z"
   },
   {
    "duration": -42,
    "start_time": "2021-09-29T13:35:00.432Z"
   },
   {
    "duration": 735,
    "start_time": "2021-09-29T13:35:52.410Z"
   },
   {
    "duration": 900,
    "start_time": "2021-09-29T13:36:19.027Z"
   },
   {
    "duration": 994,
    "start_time": "2021-09-29T13:36:57.682Z"
   },
   {
    "duration": 195,
    "start_time": "2021-09-29T13:37:12.787Z"
   },
   {
    "duration": 781,
    "start_time": "2021-09-29T13:37:27.404Z"
   },
   {
    "duration": 901,
    "start_time": "2021-09-29T13:37:43.179Z"
   },
   {
    "duration": 126,
    "start_time": "2021-09-29T13:38:05.731Z"
   },
   {
    "duration": 738,
    "start_time": "2021-09-29T13:38:11.179Z"
   },
   {
    "duration": 3,
    "start_time": "2021-09-29T13:38:16.043Z"
   },
   {
    "duration": 5,
    "start_time": "2021-09-29T13:38:16.218Z"
   },
   {
    "duration": 172898,
    "start_time": "2021-09-29T13:38:16.386Z"
   },
   {
    "duration": 10,
    "start_time": "2021-09-29T13:42:02.413Z"
   },
   {
    "duration": 6,
    "start_time": "2021-09-29T13:42:02.604Z"
   },
   {
    "duration": 6,
    "start_time": "2021-09-29T13:42:02.820Z"
   },
   {
    "duration": 3,
    "start_time": "2021-09-29T13:42:08.379Z"
   },
   {
    "duration": 1374,
    "start_time": "2021-09-29T13:42:11.732Z"
   },
   {
    "duration": 1038,
    "start_time": "2021-09-29T13:42:14.221Z"
   },
   {
    "duration": 3,
    "start_time": "2021-09-29T13:42:17.268Z"
   },
   {
    "duration": 63,
    "start_time": "2021-09-29T13:42:59.285Z"
   },
   {
    "duration": 9988,
    "start_time": "2021-09-29T13:42:59.485Z"
   },
   {
    "duration": 608,
    "start_time": "2021-09-29T13:43:09.476Z"
   },
   {
    "duration": 8339,
    "start_time": "2021-09-29T13:46:14.423Z"
   },
   {
    "duration": 3,
    "start_time": "2021-09-29T14:06:16.052Z"
   },
   {
    "duration": 435,
    "start_time": "2021-09-29T14:08:47.602Z"
   },
   {
    "duration": 667,
    "start_time": "2021-09-29T14:09:00.387Z"
   },
   {
    "duration": 8351,
    "start_time": "2021-09-29T14:09:07.907Z"
   },
   {
    "duration": 5,
    "start_time": "2021-09-29T14:09:16.264Z"
   },
   {
    "duration": 78,
    "start_time": "2021-09-29T14:09:16.358Z"
   },
   {
    "duration": 517,
    "start_time": "2021-09-29T14:09:16.439Z"
   },
   {
    "duration": 7,
    "start_time": "2021-09-29T14:09:16.952Z"
   },
   {
    "duration": 4,
    "start_time": "2021-09-29T14:09:16.956Z"
   },
   {
    "duration": 18633,
    "start_time": "2021-09-29T14:10:40.726Z"
   },
   {
    "duration": 251,
    "start_time": "2021-09-29T14:10:59.362Z"
   },
   {
    "duration": 6579,
    "start_time": "2021-09-29T14:11:13.212Z"
   },
   {
    "duration": 5907,
    "start_time": "2021-09-29T14:11:58.341Z"
   },
   {
    "duration": 8,
    "start_time": "2021-09-29T14:16:29.346Z"
   },
   {
    "duration": 667,
    "start_time": "2021-09-29T14:23:35.905Z"
   },
   {
    "duration": 25,
    "start_time": "2021-09-29T14:34:23.251Z"
   },
   {
    "duration": 777,
    "start_time": "2021-09-29T14:37:45.137Z"
   },
   {
    "duration": 314,
    "start_time": "2021-09-29T14:43:55.233Z"
   },
   {
    "duration": 225,
    "start_time": "2021-09-29T14:44:08.484Z"
   },
   {
    "duration": 7228,
    "start_time": "2021-09-29T14:44:14.772Z"
   },
   {
    "duration": 390,
    "start_time": "2021-09-30T14:44:11.856Z"
   },
   {
    "duration": 6629,
    "start_time": "2021-09-30T14:44:35.264Z"
   },
   {
    "duration": 1125,
    "start_time": "2021-09-30T14:44:49.522Z"
   },
   {
    "duration": 38,
    "start_time": "2021-09-30T14:44:50.650Z"
   },
   {
    "duration": 1895,
    "start_time": "2021-09-30T14:44:50.692Z"
   },
   {
    "duration": 4,
    "start_time": "2021-09-30T14:44:55.369Z"
   },
   {
    "duration": 5,
    "start_time": "2021-09-30T14:44:57.296Z"
   },
   {
    "duration": 199522,
    "start_time": "2021-09-30T14:44:57.649Z"
   },
   {
    "duration": 12,
    "start_time": "2021-09-30T14:48:17.174Z"
   },
   {
    "duration": 19,
    "start_time": "2021-09-30T14:48:17.190Z"
   },
   {
    "duration": 34,
    "start_time": "2021-09-30T14:48:17.212Z"
   },
   {
    "duration": 19,
    "start_time": "2021-09-30T14:48:17.249Z"
   },
   {
    "duration": 1507,
    "start_time": "2021-09-30T14:48:17.270Z"
   },
   {
    "duration": 885,
    "start_time": "2021-09-30T14:48:18.780Z"
   },
   {
    "duration": 328,
    "start_time": "2021-09-30T14:48:42.578Z"
   },
   {
    "duration": 4,
    "start_time": "2021-09-30T14:48:59.836Z"
   },
   {
    "duration": 294,
    "start_time": "2021-09-30T14:49:04.105Z"
   },
   {
    "duration": 839,
    "start_time": "2021-09-30T14:50:07.820Z"
   },
   {
    "duration": 1491,
    "start_time": "2021-09-30T14:50:28.531Z"
   },
   {
    "duration": 4,
    "start_time": "2021-09-30T14:50:45.035Z"
   },
   {
    "duration": 1072,
    "start_time": "2021-09-30T14:52:20.556Z"
   },
   {
    "duration": 6497,
    "start_time": "2021-09-30T14:59:40.639Z"
   },
   {
    "duration": 1213,
    "start_time": "2021-09-30T14:59:47.139Z"
   },
   {
    "duration": 4,
    "start_time": "2021-09-30T14:59:48.364Z"
   },
   {
    "duration": 1803,
    "start_time": "2021-09-30T14:59:48.372Z"
   },
   {
    "duration": 3,
    "start_time": "2021-09-30T14:59:50.181Z"
   },
   {
    "duration": 24,
    "start_time": "2021-09-30T14:59:50.188Z"
   },
   {
    "duration": 109916,
    "start_time": "2021-09-30T14:59:50.215Z"
   },
   {
    "duration": 8,
    "start_time": "2021-09-30T15:01:40.135Z"
   },
   {
    "duration": 22,
    "start_time": "2021-09-30T15:01:40.146Z"
   },
   {
    "duration": 1511,
    "start_time": "2021-09-30T15:01:40.172Z"
   },
   {
    "duration": -509,
    "start_time": "2021-09-30T15:01:42.196Z"
   },
   {
    "duration": -519,
    "start_time": "2021-09-30T15:01:42.208Z"
   },
   {
    "duration": -520,
    "start_time": "2021-09-30T15:01:42.211Z"
   },
   {
    "duration": -519,
    "start_time": "2021-09-30T15:01:42.213Z"
   },
   {
    "duration": -519,
    "start_time": "2021-09-30T15:01:42.215Z"
   },
   {
    "duration": -520,
    "start_time": "2021-09-30T15:01:42.218Z"
   },
   {
    "duration": -527,
    "start_time": "2021-09-30T15:01:42.226Z"
   },
   {
    "duration": -529,
    "start_time": "2021-09-30T15:01:42.229Z"
   },
   {
    "duration": -535,
    "start_time": "2021-09-30T15:01:42.236Z"
   },
   {
    "duration": -539,
    "start_time": "2021-09-30T15:01:42.241Z"
   },
   {
    "duration": 6,
    "start_time": "2021-09-30T15:02:38.825Z"
   },
   {
    "duration": 11,
    "start_time": "2021-09-30T15:02:40.673Z"
   },
   {
    "duration": 229,
    "start_time": "2021-09-30T15:02:41.609Z"
   },
   {
    "duration": 3,
    "start_time": "2021-09-30T15:02:42.641Z"
   },
   {
    "duration": 919,
    "start_time": "2021-09-30T15:02:42.913Z"
   },
   {
    "duration": 3,
    "start_time": "2021-09-30T15:02:43.937Z"
   },
   {
    "duration": 638,
    "start_time": "2021-09-30T15:02:44.192Z"
   },
   {
    "duration": 3,
    "start_time": "2021-09-30T15:02:44.833Z"
   },
   {
    "duration": 23,
    "start_time": "2021-09-30T15:02:44.839Z"
   },
   {
    "duration": 588,
    "start_time": "2021-09-30T15:02:45.568Z"
   },
   {
    "duration": 285,
    "start_time": "2021-09-30T15:02:46.705Z"
   },
   {
    "duration": 285,
    "start_time": "2021-09-30T15:03:42.574Z"
   },
   {
    "duration": 355,
    "start_time": "2021-09-30T15:03:50.718Z"
   },
   {
    "duration": 5,
    "start_time": "2021-09-30T15:04:22.618Z"
   },
   {
    "duration": 5,
    "start_time": "2021-09-30T15:04:27.710Z"
   },
   {
    "duration": 5,
    "start_time": "2021-09-30T15:04:34.098Z"
   },
   {
    "duration": 6,
    "start_time": "2021-09-30T15:04:40.449Z"
   },
   {
    "duration": 5,
    "start_time": "2021-09-30T15:04:46.338Z"
   },
   {
    "duration": 83,
    "start_time": "2021-09-30T15:04:49.522Z"
   },
   {
    "duration": 119,
    "start_time": "2021-09-30T15:05:52.164Z"
   },
   {
    "duration": 142,
    "start_time": "2021-09-30T15:05:52.145Z"
   },
   {
    "duration": 131,
    "start_time": "2021-09-30T15:06:36.011Z"
   },
   {
    "duration": 102,
    "start_time": "2021-09-30T15:06:44.678Z"
   },
   {
    "duration": 101,
    "start_time": "2021-09-30T15:07:20.869Z"
   },
   {
    "duration": 5,
    "start_time": "2021-09-30T15:07:43.051Z"
   },
   {
    "duration": 291,
    "start_time": "2021-09-30T15:07:51.723Z"
   },
   {
    "duration": 37998,
    "start_time": "2021-09-30T15:08:07.980Z"
   },
   {
    "duration": 461,
    "start_time": "2021-09-30T15:08:45.982Z"
   },
   {
    "duration": 398,
    "start_time": "2021-09-30T15:08:46.447Z"
   },
   {
    "duration": 18,
    "start_time": "2021-09-30T15:13:19.562Z"
   },
   {
    "duration": 4,
    "start_time": "2021-09-30T15:13:21.279Z"
   },
   {
    "duration": 6,
    "start_time": "2021-09-30T15:13:21.535Z"
   },
   {
    "duration": 4,
    "start_time": "2021-09-30T15:13:22.392Z"
   },
   {
    "duration": 1626,
    "start_time": "2021-09-30T15:13:22.616Z"
   },
   {
    "duration": 4,
    "start_time": "2021-09-30T15:13:25.349Z"
   },
   {
    "duration": 758,
    "start_time": "2021-09-30T15:13:25.767Z"
   },
   {
    "duration": 3,
    "start_time": "2021-09-30T15:13:26.528Z"
   },
   {
    "duration": 28128,
    "start_time": "2021-09-30T15:13:27.666Z"
   },
   {
    "duration": 253,
    "start_time": "2021-09-30T15:13:55.862Z"
   },
   {
    "duration": 6458,
    "start_time": "2021-09-30T15:14:45.933Z"
   },
   {
    "duration": 1617,
    "start_time": "2021-09-30T15:14:52.396Z"
   },
   {
    "duration": 3,
    "start_time": "2021-09-30T15:14:54.017Z"
   },
   {
    "duration": 1773,
    "start_time": "2021-09-30T15:14:54.023Z"
   },
   {
    "duration": 4,
    "start_time": "2021-09-30T15:14:55.799Z"
   },
   {
    "duration": 8,
    "start_time": "2021-09-30T15:14:55.806Z"
   },
   {
    "duration": 319978,
    "start_time": "2021-09-30T15:14:55.819Z"
   },
   {
    "duration": 12,
    "start_time": "2021-09-30T15:20:15.800Z"
   },
   {
    "duration": 19,
    "start_time": "2021-09-30T15:20:15.815Z"
   },
   {
    "duration": 41,
    "start_time": "2021-09-30T15:20:15.837Z"
   },
   {
    "duration": 4,
    "start_time": "2021-09-30T15:20:15.882Z"
   },
   {
    "duration": 233,
    "start_time": "2021-09-30T15:20:15.888Z"
   },
   {
    "duration": 3,
    "start_time": "2021-09-30T15:20:16.123Z"
   },
   {
    "duration": 4196,
    "start_time": "2021-09-30T15:20:16.128Z"
   },
   {
    "duration": 4,
    "start_time": "2021-09-30T15:20:20.327Z"
   },
   {
    "duration": 2211,
    "start_time": "2021-09-30T15:20:20.334Z"
   },
   {
    "duration": 3,
    "start_time": "2021-09-30T15:20:22.548Z"
   },
   {
    "duration": 114230,
    "start_time": "2021-09-30T15:20:22.553Z"
   },
   {
    "duration": 438,
    "start_time": "2021-09-30T15:22:16.786Z"
   },
   {
    "duration": 884,
    "start_time": "2021-09-30T15:22:17.226Z"
   },
   {
    "duration": 39016,
    "start_time": "2021-09-30T15:23:39.139Z"
   },
   {
    "duration": 257,
    "start_time": "2021-09-30T15:32:22.448Z"
   },
   {
    "duration": 484,
    "start_time": "2021-09-30T15:32:31.425Z"
   },
   {
    "duration": 6252,
    "start_time": "2021-09-30T15:33:07.474Z"
   },
   {
    "duration": 1210,
    "start_time": "2021-09-30T15:33:13.728Z"
   },
   {
    "duration": 3,
    "start_time": "2021-09-30T15:33:14.941Z"
   },
   {
    "duration": 1799,
    "start_time": "2021-09-30T15:33:14.947Z"
   },
   {
    "duration": 3,
    "start_time": "2021-09-30T15:33:16.748Z"
   },
   {
    "duration": 16,
    "start_time": "2021-09-30T15:33:16.773Z"
   },
   {
    "duration": 308649,
    "start_time": "2021-09-30T15:33:16.792Z"
   },
   {
    "duration": 29,
    "start_time": "2021-09-30T15:38:25.447Z"
   },
   {
    "duration": 8,
    "start_time": "2021-09-30T15:38:25.479Z"
   },
   {
    "duration": 16,
    "start_time": "2021-09-30T15:38:25.490Z"
   },
   {
    "duration": 8,
    "start_time": "2021-09-30T15:38:25.509Z"
   },
   {
    "duration": 272,
    "start_time": "2021-09-30T15:38:25.519Z"
   },
   {
    "duration": 4,
    "start_time": "2021-09-30T15:38:25.794Z"
   },
   {
    "duration": 1228,
    "start_time": "2021-09-30T15:38:25.801Z"
   },
   {
    "duration": 141,
    "start_time": "2021-09-30T15:38:26.891Z"
   },
   {
    "duration": 138,
    "start_time": "2021-09-30T15:38:26.896Z"
   },
   {
    "duration": 136,
    "start_time": "2021-09-30T15:38:26.900Z"
   },
   {
    "duration": 132,
    "start_time": "2021-09-30T15:38:26.905Z"
   },
   {
    "duration": 131,
    "start_time": "2021-09-30T15:38:26.908Z"
   },
   {
    "duration": 131,
    "start_time": "2021-09-30T15:38:26.910Z"
   },
   {
    "duration": 131,
    "start_time": "2021-09-30T15:38:26.912Z"
   },
   {
    "duration": 501,
    "start_time": "2021-09-30T15:42:17.782Z"
   },
   {
    "duration": 3437,
    "start_time": "2021-09-30T15:42:54.751Z"
   },
   {
    "duration": 3304,
    "start_time": "2021-09-30T15:43:04.183Z"
   },
   {
    "duration": 26169,
    "start_time": "2021-09-30T15:43:20.823Z"
   },
   {
    "duration": 13,
    "start_time": "2021-09-30T15:44:00.502Z"
   },
   {
    "duration": 6145,
    "start_time": "2021-09-30T15:47:21.721Z"
   },
   {
    "duration": 1143,
    "start_time": "2021-09-30T15:47:27.870Z"
   },
   {
    "duration": 4,
    "start_time": "2021-09-30T15:47:29.016Z"
   },
   {
    "duration": 1769,
    "start_time": "2021-09-30T15:47:29.023Z"
   },
   {
    "duration": 4,
    "start_time": "2021-09-30T15:47:30.794Z"
   },
   {
    "duration": 12,
    "start_time": "2021-09-30T15:47:30.800Z"
   },
   {
    "duration": 311226,
    "start_time": "2021-09-30T15:47:30.815Z"
   },
   {
    "duration": 18,
    "start_time": "2021-09-30T15:52:42.044Z"
   },
   {
    "duration": 9,
    "start_time": "2021-09-30T15:52:42.074Z"
   },
   {
    "duration": 12,
    "start_time": "2021-09-30T15:52:42.085Z"
   },
   {
    "duration": 7,
    "start_time": "2021-09-30T15:52:42.099Z"
   },
   {
    "duration": 227,
    "start_time": "2021-09-30T15:52:42.108Z"
   },
   {
    "duration": 3,
    "start_time": "2021-09-30T15:52:42.337Z"
   },
   {
    "duration": 19886,
    "start_time": "2021-09-30T15:52:42.343Z"
   },
   {
    "duration": 12,
    "start_time": "2021-09-30T15:53:02.232Z"
   },
   {
    "duration": 16,
    "start_time": "2021-09-30T15:53:02.247Z"
   },
   {
    "duration": 1624,
    "start_time": "2021-09-30T15:53:02.267Z"
   },
   {
    "duration": 3,
    "start_time": "2021-09-30T15:53:03.894Z"
   },
   {
    "duration": 27983,
    "start_time": "2021-09-30T15:53:03.900Z"
   },
   {
    "duration": 407,
    "start_time": "2021-09-30T15:53:31.886Z"
   },
   {
    "duration": 53753,
    "start_time": "2021-09-30T15:53:32.295Z"
   },
   {
    "duration": 12561,
    "start_time": "2021-09-30T15:55:22.324Z"
   },
   {
    "duration": 151720,
    "start_time": "2021-09-30T15:56:13.077Z"
   },
   {
    "duration": 117,
    "start_time": "2021-09-30T15:58:44.683Z"
   },
   {
    "duration": 577,
    "start_time": "2021-09-30T15:59:13.086Z"
   },
   {
    "duration": -47,
    "start_time": "2021-09-30T15:59:13.714Z"
   },
   {
    "duration": 7075,
    "start_time": "2021-09-30T15:59:22.902Z"
   },
   {
    "duration": 1175,
    "start_time": "2021-09-30T15:59:29.980Z"
   },
   {
    "duration": 4,
    "start_time": "2021-09-30T15:59:31.162Z"
   },
   {
    "duration": 1746,
    "start_time": "2021-09-30T15:59:31.170Z"
   },
   {
    "duration": 3,
    "start_time": "2021-09-30T15:59:32.918Z"
   },
   {
    "duration": 12,
    "start_time": "2021-09-30T15:59:32.923Z"
   },
   {
    "duration": 308179,
    "start_time": "2021-09-30T15:59:32.938Z"
   },
   {
    "duration": 12,
    "start_time": "2021-09-30T16:04:41.120Z"
   },
   {
    "duration": 8,
    "start_time": "2021-09-30T16:04:41.134Z"
   },
   {
    "duration": 7,
    "start_time": "2021-09-30T16:04:41.163Z"
   },
   {
    "duration": 29,
    "start_time": "2021-09-30T16:04:41.173Z"
   },
   {
    "duration": 232,
    "start_time": "2021-09-30T16:04:41.205Z"
   },
   {
    "duration": 3,
    "start_time": "2021-09-30T16:04:41.439Z"
   },
   {
    "duration": 21200,
    "start_time": "2021-09-30T16:04:41.445Z"
   },
   {
    "duration": 19,
    "start_time": "2021-09-30T16:05:02.648Z"
   },
   {
    "duration": 4,
    "start_time": "2021-09-30T16:05:02.670Z"
   },
   {
    "duration": 12963,
    "start_time": "2021-09-30T16:05:02.677Z"
   },
   {
    "duration": 4,
    "start_time": "2021-09-30T16:05:15.642Z"
   },
   {
    "duration": 22776,
    "start_time": "2021-09-30T16:05:15.649Z"
   },
   {
    "duration": 360,
    "start_time": "2021-09-30T16:05:38.463Z"
   },
   {
    "duration": 83930,
    "start_time": "2021-09-30T16:05:38.825Z"
   },
   {
    "duration": 1538,
    "start_time": "2021-09-30T16:15:01.597Z"
   },
   {
    "duration": 20062,
    "start_time": "2021-09-30T16:15:46.414Z"
   },
   {
    "duration": 5,
    "start_time": "2021-09-30T16:16:06.479Z"
   },
   {
    "duration": 19,
    "start_time": "2021-09-30T16:16:12.590Z"
   },
   {
    "duration": 3037,
    "start_time": "2021-09-30T16:16:16.878Z"
   },
   {
    "duration": 5,
    "start_time": "2021-09-30T16:16:19.918Z"
   },
   {
    "duration": 1971,
    "start_time": "2021-09-30T16:16:33.814Z"
   },
   {
    "duration": 6,
    "start_time": "2021-09-30T16:16:45.618Z"
   },
   {
    "duration": 31144,
    "start_time": "2021-09-30T16:16:50.358Z"
   },
   {
    "duration": 326,
    "start_time": "2021-09-30T16:17:21.505Z"
   },
   {
    "duration": 3253,
    "start_time": "2021-09-30T16:17:42.186Z"
   },
   {
    "duration": 5,
    "start_time": "2021-09-30T16:17:45.442Z"
   },
   {
    "duration": 132801,
    "start_time": "2021-09-30T16:17:58.985Z"
   },
   {
    "duration": 288,
    "start_time": "2021-09-30T16:20:11.789Z"
   },
   {
    "duration": 938,
    "start_time": "2021-09-30T16:20:12.080Z"
   },
   {
    "duration": 7,
    "start_time": "2021-09-30T16:20:28.714Z"
   },
   {
    "duration": 27,
    "start_time": "2021-09-30T16:20:36.143Z"
   },
   {
    "duration": 7,
    "start_time": "2021-09-30T16:20:37.208Z"
   },
   {
    "duration": 58,
    "start_time": "2021-09-30T16:20:44.576Z"
   },
   {
    "duration": 9,
    "start_time": "2021-09-30T16:20:45.911Z"
   },
   {
    "duration": 374,
    "start_time": "2021-09-30T16:20:48.553Z"
   },
   {
    "duration": 27,
    "start_time": "2021-09-30T16:20:48.947Z"
   },
   {
    "duration": 6386,
    "start_time": "2021-09-30T16:21:04.421Z"
   },
   {
    "duration": 1152,
    "start_time": "2021-09-30T16:21:10.810Z"
   },
   {
    "duration": 6,
    "start_time": "2021-09-30T16:21:11.966Z"
   },
   {
    "duration": 1715,
    "start_time": "2021-09-30T16:21:11.975Z"
   },
   {
    "duration": 3,
    "start_time": "2021-09-30T16:21:13.693Z"
   },
   {
    "duration": 7,
    "start_time": "2021-09-30T16:21:13.698Z"
   },
   {
    "duration": 324,
    "start_time": "2021-09-30T16:31:54.663Z"
   },
   {
    "duration": 7625,
    "start_time": "2021-09-30T16:32:23.953Z"
   },
   {
    "duration": 1168,
    "start_time": "2021-09-30T16:32:31.581Z"
   },
   {
    "duration": 10,
    "start_time": "2021-09-30T16:32:32.752Z"
   },
   {
    "duration": 1727,
    "start_time": "2021-09-30T16:32:32.765Z"
   },
   {
    "duration": 3,
    "start_time": "2021-09-30T16:32:34.494Z"
   },
   {
    "duration": 37,
    "start_time": "2021-09-30T16:32:34.499Z"
   },
   {
    "duration": 307100,
    "start_time": "2021-09-30T16:32:34.539Z"
   },
   {
    "duration": 33,
    "start_time": "2021-09-30T16:37:41.642Z"
   },
   {
    "duration": 7,
    "start_time": "2021-09-30T16:37:41.679Z"
   },
   {
    "duration": 14,
    "start_time": "2021-09-30T16:37:41.689Z"
   },
   {
    "duration": 7,
    "start_time": "2021-09-30T16:37:41.705Z"
   },
   {
    "duration": 275,
    "start_time": "2021-09-30T16:37:41.714Z"
   },
   {
    "duration": 3,
    "start_time": "2021-09-30T16:37:41.992Z"
   },
   {
    "duration": 4598,
    "start_time": "2021-09-30T16:37:41.997Z"
   },
   {
    "duration": 205,
    "start_time": "2021-09-30T16:37:46.393Z"
   },
   {
    "duration": 201,
    "start_time": "2021-09-30T16:37:46.399Z"
   },
   {
    "duration": 200,
    "start_time": "2021-09-30T16:37:46.401Z"
   },
   {
    "duration": 197,
    "start_time": "2021-09-30T16:37:46.406Z"
   },
   {
    "duration": 196,
    "start_time": "2021-09-30T16:37:46.409Z"
   },
   {
    "duration": 195,
    "start_time": "2021-09-30T16:37:46.411Z"
   },
   {
    "duration": 194,
    "start_time": "2021-09-30T16:37:46.414Z"
   },
   {
    "duration": 185,
    "start_time": "2021-09-30T16:37:46.425Z"
   },
   {
    "duration": 3574,
    "start_time": "2021-09-30T16:38:19.275Z"
   },
   {
    "duration": 4,
    "start_time": "2021-09-30T16:38:31.691Z"
   },
   {
    "duration": 3,
    "start_time": "2021-09-30T16:38:32.435Z"
   },
   {
    "duration": 2853,
    "start_time": "2021-09-30T16:38:32.643Z"
   },
   {
    "duration": 12,
    "start_time": "2021-09-30T16:38:35.499Z"
   },
   {
    "duration": 8,
    "start_time": "2021-09-30T16:38:35.514Z"
   },
   {
    "duration": 41254,
    "start_time": "2021-09-30T16:38:35.525Z"
   },
   {
    "duration": 432,
    "start_time": "2021-09-30T16:39:16.782Z"
   },
   {
    "duration": -632,
    "start_time": "2021-09-30T16:39:17.848Z"
   },
   {
    "duration": 4072,
    "start_time": "2021-09-30T16:40:52.029Z"
   },
   {
    "duration": 351,
    "start_time": "2021-09-30T16:41:00.173Z"
   },
   {
    "duration": 592,
    "start_time": "2021-09-30T16:41:11.206Z"
   },
   {
    "duration": 4,
    "start_time": "2021-09-30T16:42:48.611Z"
   },
   {
    "duration": 1980,
    "start_time": "2021-09-30T16:42:52.913Z"
   },
   {
    "duration": 2045,
    "start_time": "2021-09-30T16:43:02.117Z"
   },
   {
    "duration": 2146,
    "start_time": "2021-09-30T16:43:55.063Z"
   },
   {
    "duration": 5,
    "start_time": "2021-09-30T16:43:57.211Z"
   },
   {
    "duration": 2847,
    "start_time": "2021-09-30T16:44:04.979Z"
   },
   {
    "duration": 5,
    "start_time": "2021-09-30T16:44:07.829Z"
   },
   {
    "duration": 3691,
    "start_time": "2021-09-30T16:44:12.583Z"
   },
   {
    "duration": 6,
    "start_time": "2021-09-30T16:44:16.277Z"
   },
   {
    "duration": 4320,
    "start_time": "2021-09-30T16:44:21.391Z"
   },
   {
    "duration": 5,
    "start_time": "2021-09-30T16:44:25.714Z"
   },
   {
    "duration": 6584,
    "start_time": "2021-09-30T16:44:31.990Z"
   },
   {
    "duration": 5,
    "start_time": "2021-09-30T16:44:38.578Z"
   },
   {
    "duration": 5190,
    "start_time": "2021-09-30T16:44:43.311Z"
   },
   {
    "duration": 5,
    "start_time": "2021-09-30T16:44:48.504Z"
   },
   {
    "duration": 2829,
    "start_time": "2021-09-30T16:44:51.024Z"
   },
   {
    "duration": 16,
    "start_time": "2021-09-30T16:44:53.856Z"
   },
   {
    "duration": 3699,
    "start_time": "2021-09-30T16:44:57.679Z"
   },
   {
    "duration": 5,
    "start_time": "2021-09-30T16:45:01.381Z"
   },
   {
    "duration": 79555,
    "start_time": "2021-09-30T16:45:08.727Z"
   },
   {
    "duration": 291,
    "start_time": "2021-09-30T16:46:28.285Z"
   },
   {
    "duration": 2087,
    "start_time": "2021-09-30T16:46:49.432Z"
   },
   {
    "duration": 14,
    "start_time": "2021-09-30T16:48:04.816Z"
   },
   {
    "duration": 8,
    "start_time": "2021-09-30T16:50:19.274Z"
   },
   {
    "duration": 4086,
    "start_time": "2021-09-30T16:53:37.604Z"
   },
   {
    "duration": 7,
    "start_time": "2021-09-30T16:53:41.693Z"
   },
   {
    "duration": 7803,
    "start_time": "2021-09-30T16:57:20.252Z"
   },
   {
    "duration": 1975,
    "start_time": "2021-09-30T16:57:28.057Z"
   },
   {
    "duration": 6258,
    "start_time": "2021-09-30T16:58:07.393Z"
   },
   {
    "duration": 1203,
    "start_time": "2021-09-30T16:58:13.654Z"
   },
   {
    "duration": 3,
    "start_time": "2021-09-30T16:58:14.863Z"
   },
   {
    "duration": 1686,
    "start_time": "2021-09-30T16:58:14.869Z"
   },
   {
    "duration": 3,
    "start_time": "2021-09-30T16:58:16.558Z"
   },
   {
    "duration": 13,
    "start_time": "2021-09-30T16:58:16.565Z"
   },
   {
    "duration": 308929,
    "start_time": "2021-09-30T16:58:16.581Z"
   },
   {
    "duration": 22,
    "start_time": "2021-09-30T17:03:25.513Z"
   },
   {
    "duration": 29,
    "start_time": "2021-09-30T17:03:25.538Z"
   },
   {
    "duration": 16,
    "start_time": "2021-09-30T17:03:25.580Z"
   },
   {
    "duration": 10,
    "start_time": "2021-09-30T17:03:25.599Z"
   },
   {
    "duration": 258,
    "start_time": "2021-09-30T17:03:25.611Z"
   },
   {
    "duration": 8,
    "start_time": "2021-09-30T17:03:25.871Z"
   },
   {
    "duration": 3182,
    "start_time": "2021-09-30T17:03:25.883Z"
   },
   {
    "duration": 5,
    "start_time": "2021-09-30T17:03:29.068Z"
   },
   {
    "duration": 15,
    "start_time": "2021-09-30T17:03:29.076Z"
   },
   {
    "duration": 6519,
    "start_time": "2021-09-30T17:03:29.093Z"
   },
   {
    "duration": 12,
    "start_time": "2021-09-30T17:03:35.615Z"
   },
   {
    "duration": 20,
    "start_time": "2021-09-30T17:03:35.629Z"
   },
   {
    "duration": 128022,
    "start_time": "2021-09-30T17:03:35.651Z"
   },
   {
    "duration": 400,
    "start_time": "2021-09-30T17:05:43.676Z"
   },
   {
    "duration": 2765,
    "start_time": "2021-09-30T17:05:44.079Z"
   },
   {
    "duration": 6130,
    "start_time": "2021-09-30T17:09:27.912Z"
   },
   {
    "duration": 1196,
    "start_time": "2021-09-30T17:09:34.045Z"
   },
   {
    "duration": 3,
    "start_time": "2021-09-30T17:09:35.244Z"
   },
   {
    "duration": 1827,
    "start_time": "2021-09-30T17:09:35.250Z"
   },
   {
    "duration": 3,
    "start_time": "2021-09-30T17:09:37.080Z"
   },
   {
    "duration": 19,
    "start_time": "2021-09-30T17:09:37.085Z"
   },
   {
    "duration": 630334,
    "start_time": "2021-09-30T17:09:37.106Z"
   },
   {
    "duration": 50,
    "start_time": "2021-09-30T17:20:07.443Z"
   },
   {
    "duration": 9,
    "start_time": "2021-09-30T17:20:07.497Z"
   },
   {
    "duration": 19,
    "start_time": "2021-09-30T17:20:07.509Z"
   },
   {
    "duration": 34,
    "start_time": "2021-09-30T17:20:07.530Z"
   },
   {
    "duration": 267,
    "start_time": "2021-09-30T17:20:07.568Z"
   },
   {
    "duration": 3,
    "start_time": "2021-09-30T17:20:07.838Z"
   },
   {
    "duration": 7114,
    "start_time": "2021-09-30T17:20:07.844Z"
   },
   {
    "duration": 20,
    "start_time": "2021-09-30T17:20:14.963Z"
   },
   {
    "duration": 6,
    "start_time": "2021-09-30T17:20:14.985Z"
   },
   {
    "duration": 9,
    "start_time": "2021-09-30T17:20:14.993Z"
   },
   {
    "duration": 16943,
    "start_time": "2021-09-30T17:20:15.004Z"
   },
   {
    "duration": 6,
    "start_time": "2021-09-30T17:20:31.950Z"
   },
   {
    "duration": 14,
    "start_time": "2021-09-30T17:20:31.963Z"
   },
   {
    "duration": 7186,
    "start_time": "2021-09-30T17:30:11.663Z"
   },
   {
    "duration": 1127,
    "start_time": "2021-09-30T17:30:18.852Z"
   },
   {
    "duration": 3,
    "start_time": "2021-09-30T17:30:19.983Z"
   },
   {
    "duration": 2541,
    "start_time": "2021-09-30T17:30:19.989Z"
   },
   {
    "duration": 3,
    "start_time": "2021-09-30T17:30:22.532Z"
   },
   {
    "duration": 12,
    "start_time": "2021-09-30T17:30:22.537Z"
   },
   {
    "duration": 6617,
    "start_time": "2021-09-30T19:08:20.466Z"
   },
   {
    "duration": 1256,
    "start_time": "2021-09-30T19:08:27.086Z"
   },
   {
    "duration": 3,
    "start_time": "2021-09-30T19:08:28.345Z"
   },
   {
    "duration": 1804,
    "start_time": "2021-09-30T19:08:28.363Z"
   },
   {
    "duration": 4,
    "start_time": "2021-09-30T19:08:30.170Z"
   },
   {
    "duration": 16,
    "start_time": "2021-09-30T19:08:30.178Z"
   },
   {
    "duration": 106402,
    "start_time": "2021-09-30T19:08:30.197Z"
   },
   {
    "duration": 11,
    "start_time": "2021-09-30T19:10:16.603Z"
   },
   {
    "duration": 7,
    "start_time": "2021-09-30T19:10:16.618Z"
   },
   {
    "duration": 44,
    "start_time": "2021-09-30T19:10:16.628Z"
   },
   {
    "duration": 9,
    "start_time": "2021-09-30T19:10:16.675Z"
   },
   {
    "duration": 259,
    "start_time": "2021-09-30T19:10:16.686Z"
   },
   {
    "duration": 4,
    "start_time": "2021-09-30T19:10:16.947Z"
   },
   {
    "duration": 42,
    "start_time": "2021-09-30T19:10:16.954Z"
   },
   {
    "duration": 9,
    "start_time": "2021-09-30T19:10:16.999Z"
   },
   {
    "duration": 99,
    "start_time": "2021-09-30T19:10:17.011Z"
   },
   {
    "duration": 373,
    "start_time": "2021-09-30T19:10:16.740Z"
   },
   {
    "duration": 371,
    "start_time": "2021-09-30T19:10:16.744Z"
   },
   {
    "duration": 370,
    "start_time": "2021-09-30T19:10:16.747Z"
   },
   {
    "duration": 370,
    "start_time": "2021-09-30T19:10:16.749Z"
   },
   {
    "duration": 368,
    "start_time": "2021-09-30T19:10:16.753Z"
   },
   {
    "duration": 367,
    "start_time": "2021-09-30T19:10:16.756Z"
   },
   {
    "duration": 366,
    "start_time": "2021-09-30T19:10:16.758Z"
   },
   {
    "duration": 366,
    "start_time": "2021-09-30T19:10:16.760Z"
   },
   {
    "duration": 366,
    "start_time": "2021-09-30T19:10:16.761Z"
   },
   {
    "duration": 2532,
    "start_time": "2021-09-30T19:11:27.706Z"
   },
   {
    "duration": 31,
    "start_time": "2021-09-30T19:11:30.242Z"
   },
   {
    "duration": 677,
    "start_time": "2021-09-30T19:11:42.235Z"
   },
   {
    "duration": 1217,
    "start_time": "2021-09-30T19:12:14.990Z"
   },
   {
    "duration": 8,
    "start_time": "2021-09-30T19:12:39.954Z"
   },
   {
    "duration": 550,
    "start_time": "2021-09-30T19:12:52.312Z"
   },
   {
    "duration": 445,
    "start_time": "2021-09-30T19:13:35.706Z"
   },
   {
    "duration": 929,
    "start_time": "2021-09-30T19:13:47.057Z"
   },
   {
    "duration": 6,
    "start_time": "2021-09-30T19:13:49.201Z"
   },
   {
    "duration": 98,
    "start_time": "2021-09-30T19:14:27.914Z"
   },
   {
    "duration": 85,
    "start_time": "2021-09-30T19:14:35.339Z"
   },
   {
    "duration": 97,
    "start_time": "2021-09-30T19:14:43.268Z"
   },
   {
    "duration": 491,
    "start_time": "2021-09-30T19:14:56.002Z"
   },
   {
    "duration": 96,
    "start_time": "2021-09-30T19:14:58.606Z"
   },
   {
    "duration": 576,
    "start_time": "2021-09-30T19:15:06.329Z"
   },
   {
    "duration": 676,
    "start_time": "2021-09-30T19:15:29.982Z"
   },
   {
    "duration": 470,
    "start_time": "2021-09-30T19:15:56.685Z"
   },
   {
    "duration": 520,
    "start_time": "2021-09-30T19:17:31.886Z"
   },
   {
    "duration": 511,
    "start_time": "2021-09-30T19:17:40.752Z"
   },
   {
    "duration": 695,
    "start_time": "2021-09-30T19:20:02.579Z"
   },
   {
    "duration": 484,
    "start_time": "2021-09-30T19:24:38.510Z"
   },
   {
    "duration": 1770,
    "start_time": "2021-09-30T19:25:53.917Z"
   },
   {
    "duration": 6,
    "start_time": "2021-09-30T19:25:55.896Z"
   },
   {
    "duration": 6049,
    "start_time": "2021-09-30T19:26:24.352Z"
   },
   {
    "duration": 1224,
    "start_time": "2021-09-30T19:26:30.404Z"
   },
   {
    "duration": 3,
    "start_time": "2021-09-30T19:26:31.630Z"
   },
   {
    "duration": 1690,
    "start_time": "2021-09-30T19:26:31.636Z"
   },
   {
    "duration": 2,
    "start_time": "2021-09-30T19:26:33.329Z"
   },
   {
    "duration": 28,
    "start_time": "2021-09-30T19:26:33.334Z"
   },
   {
    "duration": 7,
    "start_time": "2021-09-30T19:28:48.493Z"
   },
   {
    "duration": 1137,
    "start_time": "2021-09-30T19:28:48.504Z"
   },
   {
    "duration": 4,
    "start_time": "2021-09-30T19:28:49.645Z"
   },
   {
    "duration": 1013,
    "start_time": "2021-09-30T19:28:49.663Z"
   },
   {
    "duration": 4,
    "start_time": "2021-09-30T19:28:50.680Z"
   },
   {
    "duration": 15,
    "start_time": "2021-09-30T19:28:50.687Z"
   },
   {
    "duration": 107905,
    "start_time": "2021-09-30T19:28:50.704Z"
   },
   {
    "duration": 12,
    "start_time": "2021-09-30T19:30:38.612Z"
   },
   {
    "duration": 7,
    "start_time": "2021-09-30T19:30:38.627Z"
   },
   {
    "duration": 32,
    "start_time": "2021-09-30T19:30:38.637Z"
   },
   {
    "duration": 11,
    "start_time": "2021-09-30T19:30:38.672Z"
   },
   {
    "duration": 12,
    "start_time": "2021-09-30T19:30:38.686Z"
   },
   {
    "duration": 5,
    "start_time": "2021-09-30T19:30:38.701Z"
   },
   {
    "duration": 5,
    "start_time": "2021-09-30T19:30:38.709Z"
   },
   {
    "duration": 8,
    "start_time": "2021-09-30T19:30:38.716Z"
   },
   {
    "duration": 1404,
    "start_time": "2021-09-30T19:30:38.726Z"
   },
   {
    "duration": 5,
    "start_time": "2021-09-30T19:30:40.133Z"
   },
   {
    "duration": 20,
    "start_time": "2021-09-30T19:30:40.141Z"
   },
   {
    "duration": 6,
    "start_time": "2021-09-30T19:30:40.165Z"
   },
   {
    "duration": 1862,
    "start_time": "2021-09-30T19:30:40.175Z"
   },
   {
    "duration": 5,
    "start_time": "2021-09-30T19:30:42.040Z"
   },
   {
    "duration": 19,
    "start_time": "2021-09-30T19:30:42.048Z"
   },
   {
    "duration": 23304,
    "start_time": "2021-09-30T19:30:42.070Z"
   },
   {
    "duration": 277,
    "start_time": "2021-09-30T19:31:05.378Z"
   },
   {
    "duration": 959,
    "start_time": "2021-09-30T19:31:05.661Z"
   },
   {
    "duration": 1916,
    "start_time": "2021-09-30T19:31:19.955Z"
   },
   {
    "duration": 6,
    "start_time": "2021-09-30T19:31:21.878Z"
   },
   {
    "duration": 1824,
    "start_time": "2021-09-30T19:31:25.216Z"
   },
   {
    "duration": 5,
    "start_time": "2021-09-30T19:31:27.043Z"
   },
   {
    "duration": 1133,
    "start_time": "2021-09-30T19:31:30.501Z"
   },
   {
    "duration": 6,
    "start_time": "2021-09-30T19:31:31.638Z"
   },
   {
    "duration": 175737,
    "start_time": "2021-09-30T19:40:33.700Z"
   },
   {
    "duration": 386,
    "start_time": "2021-09-30T19:43:29.054Z"
   },
   {
    "duration": 6,
    "start_time": "2021-09-30T19:43:40.486Z"
   },
   {
    "duration": 3,
    "start_time": "2021-09-30T19:43:41.839Z"
   },
   {
    "duration": 4,
    "start_time": "2021-09-30T19:43:42.051Z"
   },
   {
    "duration": 286,
    "start_time": "2021-09-30T19:43:42.272Z"
   },
   {
    "duration": 1478,
    "start_time": "2021-09-30T19:43:45.770Z"
   },
   {
    "duration": 6,
    "start_time": "2021-09-30T19:43:47.317Z"
   },
   {
    "duration": 4,
    "start_time": "2021-09-30T19:43:49.585Z"
   },
   {
    "duration": 3,
    "start_time": "2021-09-30T19:43:51.497Z"
   },
   {
    "duration": 1856,
    "start_time": "2021-09-30T19:43:52.534Z"
   },
   {
    "duration": 6,
    "start_time": "2021-09-30T19:43:54.393Z"
   },
   {
    "duration": 7138,
    "start_time": "2021-09-30T19:45:10.998Z"
   },
   {
    "duration": 1200,
    "start_time": "2021-09-30T19:45:18.138Z"
   },
   {
    "duration": 3,
    "start_time": "2021-09-30T19:45:19.341Z"
   },
   {
    "duration": 1802,
    "start_time": "2021-09-30T19:45:19.347Z"
   },
   {
    "duration": 4,
    "start_time": "2021-09-30T19:45:21.151Z"
   },
   {
    "duration": 44,
    "start_time": "2021-09-30T19:45:21.161Z"
   },
   {
    "duration": 112865,
    "start_time": "2021-09-30T19:45:21.207Z"
   },
   {
    "duration": 15,
    "start_time": "2021-09-30T19:47:14.076Z"
   },
   {
    "duration": 6,
    "start_time": "2021-09-30T19:47:14.095Z"
   },
   {
    "duration": 20,
    "start_time": "2021-09-30T19:47:14.104Z"
   },
   {
    "duration": 36,
    "start_time": "2021-09-30T19:47:14.127Z"
   },
   {
    "duration": 351,
    "start_time": "2021-09-30T19:47:14.168Z"
   },
   {
    "duration": 3,
    "start_time": "2021-09-30T19:47:14.521Z"
   },
   {
    "duration": 28,
    "start_time": "2021-09-30T19:47:14.526Z"
   },
   {
    "duration": 958,
    "start_time": "2021-09-30T19:47:14.557Z"
   },
   {
    "duration": 411,
    "start_time": "2021-09-30T19:47:15.107Z"
   },
   {
    "duration": 410,
    "start_time": "2021-09-30T19:47:15.109Z"
   },
   {
    "duration": 410,
    "start_time": "2021-09-30T19:47:15.111Z"
   },
   {
    "duration": 409,
    "start_time": "2021-09-30T19:47:15.114Z"
   },
   {
    "duration": 406,
    "start_time": "2021-09-30T19:47:15.118Z"
   },
   {
    "duration": 405,
    "start_time": "2021-09-30T19:47:15.120Z"
   },
   {
    "duration": 405,
    "start_time": "2021-09-30T19:47:15.122Z"
   },
   {
    "duration": 405,
    "start_time": "2021-09-30T19:47:15.124Z"
   },
   {
    "duration": 404,
    "start_time": "2021-09-30T19:47:15.126Z"
   },
   {
    "duration": 405,
    "start_time": "2021-09-30T19:47:15.127Z"
   },
   {
    "duration": 4,
    "start_time": "2021-09-30T19:47:42.316Z"
   },
   {
    "duration": 1090,
    "start_time": "2021-09-30T19:47:42.533Z"
   },
   {
    "duration": 13,
    "start_time": "2021-09-30T19:47:43.626Z"
   },
   {
    "duration": 4,
    "start_time": "2021-09-30T19:47:43.643Z"
   },
   {
    "duration": 3,
    "start_time": "2021-09-30T19:47:43.909Z"
   },
   {
    "duration": 1894,
    "start_time": "2021-09-30T19:47:44.176Z"
   },
   {
    "duration": 7,
    "start_time": "2021-09-30T19:47:46.074Z"
   },
   {
    "duration": 4,
    "start_time": "2021-09-30T19:47:46.085Z"
   },
   {
    "duration": 195901,
    "start_time": "2021-09-30T19:47:46.092Z"
   },
   {
    "duration": 415,
    "start_time": "2021-09-30T19:51:01.995Z"
   },
   {
    "duration": 1007,
    "start_time": "2021-09-30T19:51:02.413Z"
   },
   {
    "duration": 630,
    "start_time": "2021-09-30T19:55:07.772Z"
   },
   {
    "duration": 16,
    "start_time": "2021-09-30T19:55:26.774Z"
   },
   {
    "duration": 3574,
    "start_time": "2021-09-30T19:56:28.155Z"
   },
   {
    "duration": 13,
    "start_time": "2021-09-30T19:56:44.270Z"
   },
   {
    "duration": 5,
    "start_time": "2021-09-30T19:56:46.347Z"
   },
   {
    "duration": 9,
    "start_time": "2021-09-30T19:56:47.779Z"
   },
   {
    "duration": 550,
    "start_time": "2021-09-30T19:56:49.083Z"
   },
   {
    "duration": 11,
    "start_time": "2021-09-30T19:57:36.446Z"
   },
   {
    "duration": 5,
    "start_time": "2021-09-30T19:57:36.785Z"
   },
   {
    "duration": 10,
    "start_time": "2021-09-30T19:57:40.784Z"
   },
   {
    "duration": 491,
    "start_time": "2021-09-30T19:58:21.243Z"
   },
   {
    "duration": 10,
    "start_time": "2021-09-30T20:00:11.780Z"
   },
   {
    "duration": 4,
    "start_time": "2021-09-30T20:00:12.789Z"
   },
   {
    "duration": 6,
    "start_time": "2021-09-30T20:00:13.119Z"
   },
   {
    "duration": 1288,
    "start_time": "2021-09-30T20:00:13.779Z"
   },
   {
    "duration": 481,
    "start_time": "2021-09-30T20:00:44.010Z"
   },
   {
    "duration": 16,
    "start_time": "2021-09-30T20:00:59.035Z"
   },
   {
    "duration": 5,
    "start_time": "2021-09-30T20:00:59.653Z"
   },
   {
    "duration": 565,
    "start_time": "2021-09-30T20:01:00.149Z"
   },
   {
    "duration": 6463,
    "start_time": "2021-09-30T20:01:26.773Z"
   },
   {
    "duration": 1203,
    "start_time": "2021-09-30T20:01:33.238Z"
   },
   {
    "duration": 3,
    "start_time": "2021-09-30T20:01:34.444Z"
   },
   {
    "duration": 1759,
    "start_time": "2021-09-30T20:01:34.463Z"
   },
   {
    "duration": 4,
    "start_time": "2021-09-30T20:01:36.225Z"
   },
   {
    "duration": 42,
    "start_time": "2021-09-30T20:01:36.232Z"
   },
   {
    "duration": 7,
    "start_time": "2021-09-30T20:01:36.278Z"
   },
   {
    "duration": 10,
    "start_time": "2021-09-30T20:01:36.289Z"
   },
   {
    "duration": 7,
    "start_time": "2021-09-30T20:01:36.302Z"
   },
   {
    "duration": 1196,
    "start_time": "2021-09-30T20:01:36.311Z"
   },
   {
    "duration": 320,
    "start_time": "2021-09-30T20:01:37.190Z"
   },
   {
    "duration": 317,
    "start_time": "2021-09-30T20:01:37.195Z"
   },
   {
    "duration": 316,
    "start_time": "2021-09-30T20:01:37.198Z"
   },
   {
    "duration": 313,
    "start_time": "2021-09-30T20:01:37.204Z"
   },
   {
    "duration": 311,
    "start_time": "2021-09-30T20:01:37.208Z"
   },
   {
    "duration": 311,
    "start_time": "2021-09-30T20:01:37.210Z"
   },
   {
    "duration": 310,
    "start_time": "2021-09-30T20:01:37.213Z"
   },
   {
    "duration": 310,
    "start_time": "2021-09-30T20:01:37.215Z"
   },
   {
    "duration": 309,
    "start_time": "2021-09-30T20:01:37.217Z"
   },
   {
    "duration": 309,
    "start_time": "2021-09-30T20:01:37.219Z"
   },
   {
    "duration": 309,
    "start_time": "2021-09-30T20:01:37.221Z"
   },
   {
    "duration": 310,
    "start_time": "2021-09-30T20:01:37.222Z"
   },
   {
    "duration": 310,
    "start_time": "2021-09-30T20:01:37.224Z"
   },
   {
    "duration": 309,
    "start_time": "2021-09-30T20:01:37.226Z"
   },
   {
    "duration": 309,
    "start_time": "2021-09-30T20:01:37.227Z"
   },
   {
    "duration": 309,
    "start_time": "2021-09-30T20:01:37.229Z"
   },
   {
    "duration": 308,
    "start_time": "2021-09-30T20:01:37.231Z"
   },
   {
    "duration": 6,
    "start_time": "2021-09-30T20:04:09.045Z"
   },
   {
    "duration": 19,
    "start_time": "2021-09-30T20:04:09.626Z"
   },
   {
    "duration": 17,
    "start_time": "2021-09-30T20:04:11.615Z"
   },
   {
    "duration": 8,
    "start_time": "2021-09-30T20:04:19.345Z"
   },
   {
    "duration": 6437,
    "start_time": "2021-09-30T20:04:39.077Z"
   },
   {
    "duration": 1570,
    "start_time": "2021-09-30T20:04:45.519Z"
   },
   {
    "duration": 3,
    "start_time": "2021-09-30T20:04:47.094Z"
   },
   {
    "duration": 6427,
    "start_time": "2021-09-30T20:05:14.915Z"
   },
   {
    "duration": 1632,
    "start_time": "2021-09-30T20:05:21.345Z"
   },
   {
    "duration": 3,
    "start_time": "2021-09-30T20:05:22.984Z"
   },
   {
    "duration": 2467,
    "start_time": "2021-09-30T20:05:22.990Z"
   },
   {
    "duration": 4,
    "start_time": "2021-09-30T20:05:25.460Z"
   },
   {
    "duration": 27,
    "start_time": "2021-09-30T20:05:25.468Z"
   },
   {
    "duration": 12,
    "start_time": "2021-09-30T20:05:25.498Z"
   },
   {
    "duration": 16,
    "start_time": "2021-09-30T20:05:25.516Z"
   },
   {
    "duration": 8,
    "start_time": "2021-09-30T20:05:25.562Z"
   },
   {
    "duration": 9,
    "start_time": "2021-09-30T20:05:25.575Z"
   },
   {
    "duration": 20,
    "start_time": "2021-09-30T20:05:25.588Z"
   },
   {
    "duration": 121772,
    "start_time": "2021-09-30T20:05:25.612Z"
   },
   {
    "duration": 9,
    "start_time": "2021-09-30T20:07:27.388Z"
   },
   {
    "duration": 255,
    "start_time": "2021-09-30T20:07:27.400Z"
   },
   {
    "duration": 4,
    "start_time": "2021-09-30T20:07:27.659Z"
   },
   {
    "duration": 8,
    "start_time": "2021-09-30T20:07:27.666Z"
   },
   {
    "duration": 20,
    "start_time": "2021-09-30T20:07:27.677Z"
   },
   {
    "duration": 217,
    "start_time": "2021-09-30T20:07:27.701Z"
   },
   {
    "duration": 14,
    "start_time": "2021-09-30T20:07:27.921Z"
   },
   {
    "duration": 24,
    "start_time": "2021-09-30T20:07:27.938Z"
   },
   {
    "duration": 16,
    "start_time": "2021-09-30T20:07:27.964Z"
   },
   {
    "duration": 625,
    "start_time": "2021-09-30T20:07:27.982Z"
   },
   {
    "duration": 5,
    "start_time": "2021-09-30T20:07:28.610Z"
   },
   {
    "duration": 7,
    "start_time": "2021-09-30T20:07:28.617Z"
   },
   {
    "duration": 88353,
    "start_time": "2021-09-30T20:07:28.626Z"
   },
   {
    "duration": 535,
    "start_time": "2021-09-30T20:08:56.984Z"
   },
   {
    "duration": 747,
    "start_time": "2021-09-30T20:08:57.522Z"
   },
   {
    "duration": 14,
    "start_time": "2021-09-30T20:11:41.267Z"
   },
   {
    "duration": 1656,
    "start_time": "2021-09-30T20:11:41.284Z"
   },
   {
    "duration": 4,
    "start_time": "2021-09-30T20:11:42.944Z"
   },
   {
    "duration": 1059,
    "start_time": "2021-09-30T20:11:42.963Z"
   },
   {
    "duration": 3,
    "start_time": "2021-09-30T20:11:44.025Z"
   },
   {
    "duration": 15,
    "start_time": "2021-09-30T20:11:44.030Z"
   },
   {
    "duration": 17,
    "start_time": "2021-09-30T20:11:44.047Z"
   },
   {
    "duration": 16,
    "start_time": "2021-09-30T20:11:44.068Z"
   },
   {
    "duration": 20,
    "start_time": "2021-09-30T20:11:44.088Z"
   },
   {
    "duration": 7,
    "start_time": "2021-09-30T20:11:44.111Z"
   },
   {
    "duration": 50,
    "start_time": "2021-09-30T20:11:44.120Z"
   },
   {
    "duration": 5124,
    "start_time": "2021-09-30T20:11:44.173Z"
   },
   {
    "duration": 410,
    "start_time": "2021-09-30T20:11:48.890Z"
   },
   {
    "duration": 408,
    "start_time": "2021-09-30T20:11:48.894Z"
   },
   {
    "duration": 406,
    "start_time": "2021-09-30T20:11:48.897Z"
   },
   {
    "duration": 406,
    "start_time": "2021-09-30T20:11:48.899Z"
   },
   {
    "duration": 403,
    "start_time": "2021-09-30T20:11:48.904Z"
   },
   {
    "duration": 402,
    "start_time": "2021-09-30T20:11:48.906Z"
   },
   {
    "duration": 402,
    "start_time": "2021-09-30T20:11:48.908Z"
   },
   {
    "duration": 400,
    "start_time": "2021-09-30T20:11:48.912Z"
   },
   {
    "duration": 399,
    "start_time": "2021-09-30T20:11:48.914Z"
   },
   {
    "duration": 399,
    "start_time": "2021-09-30T20:11:48.916Z"
   },
   {
    "duration": 400,
    "start_time": "2021-09-30T20:11:48.917Z"
   },
   {
    "duration": 397,
    "start_time": "2021-09-30T20:11:48.921Z"
   },
   {
    "duration": 397,
    "start_time": "2021-09-30T20:11:48.923Z"
   },
   {
    "duration": 391,
    "start_time": "2021-09-30T20:11:48.930Z"
   },
   {
    "duration": 388,
    "start_time": "2021-09-30T20:11:48.935Z"
   },
   {
    "duration": 98910,
    "start_time": "2021-09-30T20:13:24.503Z"
   },
   {
    "duration": 10,
    "start_time": "2021-09-30T20:15:27.182Z"
   },
   {
    "duration": 294,
    "start_time": "2021-09-30T20:15:46.128Z"
   },
   {
    "duration": 254,
    "start_time": "2021-09-30T20:15:50.895Z"
   },
   {
    "duration": 7,
    "start_time": "2021-09-30T20:15:59.540Z"
   },
   {
    "duration": 3,
    "start_time": "2021-09-30T20:16:00.794Z"
   },
   {
    "duration": 4,
    "start_time": "2021-09-30T20:16:01.018Z"
   },
   {
    "duration": 3,
    "start_time": "2021-09-30T20:16:02.002Z"
   },
   {
    "duration": 137,
    "start_time": "2021-09-30T20:16:02.815Z"
   },
   {
    "duration": 5,
    "start_time": "2021-09-30T20:16:03.101Z"
   },
   {
    "duration": 274,
    "start_time": "2021-09-30T20:17:33.371Z"
   },
   {
    "duration": 302,
    "start_time": "2021-09-30T20:17:35.937Z"
   },
   {
    "duration": 6,
    "start_time": "2021-09-30T20:17:42.156Z"
   },
   {
    "duration": 1164,
    "start_time": "2021-09-30T20:17:42.165Z"
   },
   {
    "duration": 3,
    "start_time": "2021-09-30T20:17:43.332Z"
   },
   {
    "duration": 826,
    "start_time": "2021-09-30T20:17:43.337Z"
   },
   {
    "duration": 3,
    "start_time": "2021-09-30T20:17:44.165Z"
   },
   {
    "duration": 7,
    "start_time": "2021-09-30T20:17:44.171Z"
   },
   {
    "duration": 6,
    "start_time": "2021-09-30T20:17:44.181Z"
   },
   {
    "duration": 42,
    "start_time": "2021-09-30T20:17:44.190Z"
   },
   {
    "duration": 7,
    "start_time": "2021-09-30T20:17:44.267Z"
   },
   {
    "duration": 9,
    "start_time": "2021-09-30T20:17:44.279Z"
   },
   {
    "duration": 18,
    "start_time": "2021-09-30T20:17:44.292Z"
   },
   {
    "duration": 10522,
    "start_time": "2021-09-30T20:17:44.313Z"
   },
   {
    "duration": 28559,
    "start_time": "2021-09-30T20:17:54.837Z"
   },
   {
    "duration": 27037,
    "start_time": "2021-09-30T20:18:23.399Z"
   },
   {
    "duration": 350,
    "start_time": "2021-09-30T20:18:50.439Z"
   },
   {
    "duration": 443,
    "start_time": "2021-09-30T20:18:50.349Z"
   },
   {
    "duration": 437,
    "start_time": "2021-09-30T20:18:50.358Z"
   },
   {
    "duration": 434,
    "start_time": "2021-09-30T20:18:50.363Z"
   },
   {
    "duration": 433,
    "start_time": "2021-09-30T20:18:50.365Z"
   },
   {
    "duration": 432,
    "start_time": "2021-09-30T20:18:50.367Z"
   },
   {
    "duration": 431,
    "start_time": "2021-09-30T20:18:50.369Z"
   },
   {
    "duration": 430,
    "start_time": "2021-09-30T20:18:50.371Z"
   },
   {
    "duration": 429,
    "start_time": "2021-09-30T20:18:50.373Z"
   },
   {
    "duration": 428,
    "start_time": "2021-09-30T20:18:50.376Z"
   },
   {
    "duration": 426,
    "start_time": "2021-09-30T20:18:50.379Z"
   },
   {
    "duration": 425,
    "start_time": "2021-09-30T20:18:50.381Z"
   },
   {
    "duration": 424,
    "start_time": "2021-09-30T20:18:50.384Z"
   },
   {
    "duration": 425,
    "start_time": "2021-09-30T20:18:50.387Z"
   },
   {
    "duration": 425,
    "start_time": "2021-09-30T20:18:50.389Z"
   },
   {
    "duration": 6,
    "start_time": "2021-09-30T20:19:00.616Z"
   },
   {
    "duration": 4,
    "start_time": "2021-09-30T20:19:03.527Z"
   },
   {
    "duration": 5,
    "start_time": "2021-09-30T20:19:03.777Z"
   },
   {
    "duration": 4,
    "start_time": "2021-09-30T20:19:05.239Z"
   },
   {
    "duration": 142,
    "start_time": "2021-09-30T20:19:05.462Z"
   },
   {
    "duration": 11,
    "start_time": "2021-09-30T20:19:06.205Z"
   },
   {
    "duration": 3,
    "start_time": "2021-09-30T20:19:08.363Z"
   },
   {
    "duration": 3,
    "start_time": "2021-09-30T20:19:09.936Z"
   },
   {
    "duration": 591,
    "start_time": "2021-09-30T20:19:10.107Z"
   },
   {
    "duration": 5,
    "start_time": "2021-09-30T20:19:10.701Z"
   },
   {
    "duration": 19,
    "start_time": "2021-09-30T20:19:10.709Z"
   },
   {
    "duration": 6551,
    "start_time": "2021-09-30T20:19:58.695Z"
   },
   {
    "duration": 1191,
    "start_time": "2021-09-30T20:20:05.249Z"
   },
   {
    "duration": 3,
    "start_time": "2021-09-30T20:20:06.443Z"
   },
   {
    "duration": 1724,
    "start_time": "2021-09-30T20:20:06.461Z"
   },
   {
    "duration": 4,
    "start_time": "2021-09-30T20:20:08.187Z"
   },
   {
    "duration": 18,
    "start_time": "2021-09-30T20:20:08.193Z"
   },
   {
    "duration": 9,
    "start_time": "2021-09-30T20:20:08.214Z"
   },
   {
    "duration": 45,
    "start_time": "2021-09-30T20:20:08.228Z"
   },
   {
    "duration": 8,
    "start_time": "2021-09-30T20:20:08.280Z"
   },
   {
    "duration": 9,
    "start_time": "2021-09-30T20:20:08.291Z"
   },
   {
    "duration": 20,
    "start_time": "2021-09-30T20:20:08.303Z"
   },
   {
    "duration": 57320,
    "start_time": "2021-09-30T20:20:08.326Z"
   },
   {
    "duration": 6517,
    "start_time": "2021-09-30T20:24:28.988Z"
   },
   {
    "duration": 1262,
    "start_time": "2021-09-30T20:24:35.508Z"
   },
   {
    "duration": 3,
    "start_time": "2021-09-30T20:24:36.772Z"
   },
   {
    "duration": 1948,
    "start_time": "2021-09-30T20:24:36.778Z"
   },
   {
    "duration": 3,
    "start_time": "2021-09-30T20:24:38.729Z"
   },
   {
    "duration": 10,
    "start_time": "2021-09-30T20:24:38.734Z"
   },
   {
    "duration": 3,
    "start_time": "2021-09-30T20:24:38.762Z"
   },
   {
    "duration": 35,
    "start_time": "2021-09-30T20:24:38.768Z"
   },
   {
    "duration": 7,
    "start_time": "2021-09-30T20:24:38.807Z"
   },
   {
    "duration": 7,
    "start_time": "2021-09-30T20:24:38.818Z"
   },
   {
    "duration": 53,
    "start_time": "2021-09-30T20:24:38.827Z"
   },
   {
    "duration": 7168,
    "start_time": "2021-09-30T20:25:47.211Z"
   },
   {
    "duration": 1164,
    "start_time": "2021-09-30T20:25:54.382Z"
   },
   {
    "duration": 3,
    "start_time": "2021-09-30T20:25:55.549Z"
   },
   {
    "duration": 3019,
    "start_time": "2021-09-30T20:25:55.563Z"
   },
   {
    "duration": 4,
    "start_time": "2021-09-30T20:25:58.585Z"
   },
   {
    "duration": 8,
    "start_time": "2021-09-30T20:25:58.592Z"
   },
   {
    "duration": 5,
    "start_time": "2021-09-30T20:25:58.603Z"
   },
   {
    "duration": 65,
    "start_time": "2021-09-30T20:25:58.615Z"
   },
   {
    "duration": 9,
    "start_time": "2021-09-30T20:25:58.685Z"
   },
   {
    "duration": 9,
    "start_time": "2021-09-30T20:25:58.698Z"
   },
   {
    "duration": 53,
    "start_time": "2021-09-30T20:25:58.709Z"
   },
   {
    "duration": 48155,
    "start_time": "2021-09-30T20:25:58.766Z"
   },
   {
    "duration": 377430,
    "start_time": "2021-09-30T20:26:46.924Z"
   },
   {
    "duration": 77614,
    "start_time": "2021-09-30T20:33:04.357Z"
   },
   {
    "duration": 4,
    "start_time": "2021-09-30T20:34:21.974Z"
   },
   {
    "duration": 255,
    "start_time": "2021-09-30T20:34:21.981Z"
   },
   {
    "duration": 3,
    "start_time": "2021-09-30T20:34:22.239Z"
   },
   {
    "duration": 7,
    "start_time": "2021-09-30T20:34:22.245Z"
   },
   {
    "duration": 7,
    "start_time": "2021-09-30T20:34:22.255Z"
   },
   {
    "duration": 1748,
    "start_time": "2021-09-30T20:34:22.266Z"
   },
   {
    "duration": 12,
    "start_time": "2021-09-30T20:34:24.017Z"
   },
   {
    "duration": 30,
    "start_time": "2021-09-30T20:34:24.031Z"
   },
   {
    "duration": 24,
    "start_time": "2021-09-30T20:34:24.068Z"
   },
   {
    "duration": 1310,
    "start_time": "2021-09-30T20:34:24.097Z"
   },
   {
    "duration": 5,
    "start_time": "2021-09-30T20:34:25.409Z"
   },
   {
    "duration": 15,
    "start_time": "2021-09-30T20:34:25.417Z"
   },
   {
    "duration": 131535,
    "start_time": "2021-09-30T20:34:25.434Z"
   },
   {
    "duration": 423,
    "start_time": "2021-09-30T20:36:36.972Z"
   },
   {
    "duration": 1134,
    "start_time": "2021-09-30T20:36:37.399Z"
   },
   {
    "duration": 950,
    "start_time": "2021-09-30T20:45:36.233Z"
   },
   {
    "duration": 275,
    "start_time": "2021-09-30T20:45:49.003Z"
   },
   {
    "duration": 239,
    "start_time": "2021-09-30T20:46:22.183Z"
   },
   {
    "duration": 12,
    "start_time": "2021-09-30T20:46:43.340Z"
   },
   {
    "duration": 10,
    "start_time": "2021-09-30T20:46:56.957Z"
   },
   {
    "duration": 7,
    "start_time": "2021-09-30T20:47:20.124Z"
   },
   {
    "duration": 11,
    "start_time": "2021-09-30T20:47:45.077Z"
   },
   {
    "duration": 9,
    "start_time": "2021-09-30T20:47:52.992Z"
   },
   {
    "duration": 9,
    "start_time": "2021-09-30T20:47:54.507Z"
   },
   {
    "duration": 9,
    "start_time": "2021-09-30T20:48:35.643Z"
   },
   {
    "duration": 6036,
    "start_time": "2021-10-01T04:18:58.207Z"
   },
   {
    "duration": 1133,
    "start_time": "2021-10-01T04:19:04.246Z"
   },
   {
    "duration": 2,
    "start_time": "2021-10-01T04:19:05.383Z"
   },
   {
    "duration": 1605,
    "start_time": "2021-10-01T04:19:05.388Z"
   },
   {
    "duration": 4,
    "start_time": "2021-10-01T04:19:06.996Z"
   },
   {
    "duration": 15,
    "start_time": "2021-10-01T04:19:07.002Z"
   },
   {
    "duration": 13,
    "start_time": "2021-10-01T04:19:07.020Z"
   },
   {
    "duration": 39,
    "start_time": "2021-10-01T04:19:07.037Z"
   },
   {
    "duration": 5,
    "start_time": "2021-10-01T04:19:07.080Z"
   },
   {
    "duration": 7,
    "start_time": "2021-10-01T04:19:07.088Z"
   },
   {
    "duration": 20,
    "start_time": "2021-10-01T04:19:07.097Z"
   },
   {
    "duration": 6687,
    "start_time": "2021-10-01T04:19:07.119Z"
   },
   {
    "duration": 300731,
    "start_time": "2021-10-01T04:19:13.809Z"
   },
   {
    "duration": 270860,
    "start_time": "2021-10-01T04:24:14.544Z"
   },
   {
    "duration": 10,
    "start_time": "2021-10-01T04:28:45.406Z"
   },
   {
    "duration": 254,
    "start_time": "2021-10-01T04:28:45.418Z"
   },
   {
    "duration": 3,
    "start_time": "2021-10-01T04:28:45.675Z"
   },
   {
    "duration": 10,
    "start_time": "2021-10-01T04:28:45.680Z"
   },
   {
    "duration": 14,
    "start_time": "2021-10-01T04:28:45.692Z"
   },
   {
    "duration": 848,
    "start_time": "2021-10-01T04:28:45.708Z"
   },
   {
    "duration": 15,
    "start_time": "2021-10-01T04:28:46.559Z"
   },
   {
    "duration": 12,
    "start_time": "2021-10-01T04:28:46.576Z"
   },
   {
    "duration": 7,
    "start_time": "2021-10-01T04:28:46.593Z"
   },
   {
    "duration": 1588,
    "start_time": "2021-10-01T04:28:46.606Z"
   },
   {
    "duration": 6,
    "start_time": "2021-10-01T04:28:48.196Z"
   },
   {
    "duration": 6,
    "start_time": "2021-10-01T04:28:48.204Z"
   },
   {
    "duration": 1262,
    "start_time": "2021-10-01T04:28:48.212Z"
   },
   {
    "duration": 410,
    "start_time": "2021-10-01T04:28:49.476Z"
   },
   {
    "duration": 3174,
    "start_time": "2021-10-01T04:28:49.888Z"
   },
   {
    "duration": 835,
    "start_time": "2021-10-01T06:05:31.176Z"
   },
   {
    "duration": 10,
    "start_time": "2021-10-01T06:05:43.445Z"
   },
   {
    "duration": 473,
    "start_time": "2021-10-01T06:05:54.749Z"
   },
   {
    "duration": 296,
    "start_time": "2021-10-01T06:05:58.821Z"
   },
   {
    "duration": 273,
    "start_time": "2021-10-01T06:05:59.549Z"
   },
   {
    "duration": 16420,
    "start_time": "2021-10-01T06:05:43.405Z"
   },
   {
    "duration": 10,
    "start_time": "2021-10-01T06:06:00.845Z"
   },
   {
    "duration": 6119,
    "start_time": "2021-10-01T06:06:27.572Z"
   },
   {
    "duration": 1110,
    "start_time": "2021-10-01T06:06:33.694Z"
   },
   {
    "duration": 4,
    "start_time": "2021-10-01T06:06:34.807Z"
   },
   {
    "duration": 1663,
    "start_time": "2021-10-01T06:06:34.814Z"
   },
   {
    "duration": 3,
    "start_time": "2021-10-01T06:06:36.479Z"
   },
   {
    "duration": 10,
    "start_time": "2021-10-01T06:06:36.485Z"
   },
   {
    "duration": 6,
    "start_time": "2021-10-01T06:06:36.498Z"
   },
   {
    "duration": 22,
    "start_time": "2021-10-01T06:06:36.508Z"
   },
   {
    "duration": 29,
    "start_time": "2021-10-01T06:06:36.533Z"
   },
   {
    "duration": 7,
    "start_time": "2021-10-01T06:06:36.565Z"
   },
   {
    "duration": 22,
    "start_time": "2021-10-01T06:06:36.575Z"
   },
   {
    "duration": 8730,
    "start_time": "2021-10-01T06:06:36.600Z"
   },
   {
    "duration": 268337,
    "start_time": "2021-10-01T06:06:45.332Z"
   },
   {
    "duration": 265468,
    "start_time": "2021-10-01T06:11:13.672Z"
   },
   {
    "duration": 20,
    "start_time": "2021-10-01T06:15:39.144Z"
   },
   {
    "duration": 227,
    "start_time": "2021-10-01T06:15:39.167Z"
   },
   {
    "duration": 3,
    "start_time": "2021-10-01T06:15:39.397Z"
   },
   {
    "duration": 9,
    "start_time": "2021-10-01T06:15:39.402Z"
   },
   {
    "duration": 6,
    "start_time": "2021-10-01T06:15:39.413Z"
   },
   {
    "duration": 884,
    "start_time": "2021-10-01T06:15:39.421Z"
   },
   {
    "duration": 13,
    "start_time": "2021-10-01T06:15:40.307Z"
   },
   {
    "duration": 7,
    "start_time": "2021-10-01T06:15:40.322Z"
   },
   {
    "duration": 4,
    "start_time": "2021-10-01T06:15:40.333Z"
   },
   {
    "duration": 1707,
    "start_time": "2021-10-01T06:15:40.340Z"
   },
   {
    "duration": 13,
    "start_time": "2021-10-01T06:15:42.050Z"
   },
   {
    "duration": 6,
    "start_time": "2021-10-01T06:15:42.066Z"
   },
   {
    "duration": 1312,
    "start_time": "2021-10-01T06:15:42.074Z"
   },
   {
    "duration": 406,
    "start_time": "2021-10-01T06:15:43.388Z"
   },
   {
    "duration": 3303,
    "start_time": "2021-10-01T06:15:43.796Z"
   },
   {
    "duration": 12,
    "start_time": "2021-10-01T06:16:29.378Z"
   },
   {
    "duration": 830,
    "start_time": "2021-10-01T06:16:56.671Z"
   },
   {
    "duration": 9,
    "start_time": "2021-10-01T06:17:08.736Z"
   },
   {
    "duration": 6994,
    "start_time": "2021-10-01T06:26:13.191Z"
   },
   {
    "duration": 1130,
    "start_time": "2021-10-01T06:26:20.187Z"
   },
   {
    "duration": 3,
    "start_time": "2021-10-01T06:26:21.320Z"
   },
   {
    "duration": 2515,
    "start_time": "2021-10-01T06:26:21.326Z"
   },
   {
    "duration": 3,
    "start_time": "2021-10-01T06:26:23.844Z"
   },
   {
    "duration": 14,
    "start_time": "2021-10-01T06:26:23.849Z"
   },
   {
    "duration": 7,
    "start_time": "2021-10-01T06:26:23.865Z"
   },
   {
    "duration": 14,
    "start_time": "2021-10-01T06:26:23.876Z"
   },
   {
    "duration": 16,
    "start_time": "2021-10-01T06:26:23.893Z"
   },
   {
    "duration": 19,
    "start_time": "2021-10-01T06:26:23.912Z"
   },
   {
    "duration": 46,
    "start_time": "2021-10-01T06:26:23.934Z"
   },
   {
    "duration": 131904,
    "start_time": "2021-10-01T06:26:23.982Z"
   },
   {
    "duration": 47542,
    "start_time": "2021-10-01T06:28:35.889Z"
   },
   {
    "duration": 45362,
    "start_time": "2021-10-01T06:29:23.433Z"
   },
   {
    "duration": 12,
    "start_time": "2021-10-01T06:30:08.798Z"
   },
   {
    "duration": 204,
    "start_time": "2021-10-01T06:30:08.812Z"
   },
   {
    "duration": 3,
    "start_time": "2021-10-01T06:30:09.019Z"
   },
   {
    "duration": 8,
    "start_time": "2021-10-01T06:30:09.024Z"
   },
   {
    "duration": 11,
    "start_time": "2021-10-01T06:30:09.035Z"
   },
   {
    "duration": 1354,
    "start_time": "2021-10-01T06:30:09.049Z"
   },
   {
    "duration": 12,
    "start_time": "2021-10-01T06:30:10.405Z"
   },
   {
    "duration": 13,
    "start_time": "2021-10-01T06:30:10.420Z"
   },
   {
    "duration": 23,
    "start_time": "2021-10-01T06:30:10.437Z"
   },
   {
    "duration": 3073,
    "start_time": "2021-10-01T06:30:10.463Z"
   },
   {
    "duration": 4,
    "start_time": "2021-10-01T06:30:13.539Z"
   },
   {
    "duration": 17,
    "start_time": "2021-10-01T06:30:13.546Z"
   },
   {
    "duration": 7432,
    "start_time": "2021-10-01T06:30:13.565Z"
   },
   {
    "duration": 396,
    "start_time": "2021-10-01T06:30:21.000Z"
   },
   {
    "duration": 812,
    "start_time": "2021-10-01T06:30:21.398Z"
   },
   {
    "duration": 807,
    "start_time": "2021-10-01T06:31:06.377Z"
   },
   {
    "duration": 6621,
    "start_time": "2021-10-01T06:31:48.275Z"
   },
   {
    "duration": 1167,
    "start_time": "2021-10-01T06:31:54.899Z"
   },
   {
    "duration": 3,
    "start_time": "2021-10-01T06:31:56.069Z"
   },
   {
    "duration": 1688,
    "start_time": "2021-10-01T06:31:56.075Z"
   },
   {
    "duration": 4,
    "start_time": "2021-10-01T06:31:57.765Z"
   },
   {
    "duration": 12,
    "start_time": "2021-10-01T06:31:57.771Z"
   },
   {
    "duration": 13,
    "start_time": "2021-10-01T06:31:57.786Z"
   },
   {
    "duration": 17,
    "start_time": "2021-10-01T06:31:57.803Z"
   },
   {
    "duration": 15,
    "start_time": "2021-10-01T06:31:57.823Z"
   },
   {
    "duration": 6,
    "start_time": "2021-10-01T06:31:57.861Z"
   },
   {
    "duration": 23,
    "start_time": "2021-10-01T06:31:57.870Z"
   },
   {
    "duration": 135853,
    "start_time": "2021-10-01T06:31:57.895Z"
   },
   {
    "duration": 44078,
    "start_time": "2021-10-01T06:34:13.751Z"
   },
   {
    "duration": 40219,
    "start_time": "2021-10-01T06:34:57.831Z"
   },
   {
    "duration": 16,
    "start_time": "2021-10-01T06:35:38.052Z"
   },
   {
    "duration": 280,
    "start_time": "2021-10-01T06:35:38.071Z"
   },
   {
    "duration": 3,
    "start_time": "2021-10-01T06:35:38.353Z"
   },
   {
    "duration": 7,
    "start_time": "2021-10-01T06:35:38.359Z"
   },
   {
    "duration": 9,
    "start_time": "2021-10-01T06:35:38.370Z"
   },
   {
    "duration": 1622,
    "start_time": "2021-10-01T06:35:38.383Z"
   },
   {
    "duration": 16,
    "start_time": "2021-10-01T06:35:40.009Z"
   },
   {
    "duration": 7,
    "start_time": "2021-10-01T06:35:40.027Z"
   },
   {
    "duration": 8,
    "start_time": "2021-10-01T06:35:40.038Z"
   },
   {
    "duration": 3275,
    "start_time": "2021-10-01T06:35:40.063Z"
   },
   {
    "duration": 6,
    "start_time": "2021-10-01T06:35:43.340Z"
   },
   {
    "duration": 3,
    "start_time": "2021-10-01T06:35:43.361Z"
   },
   {
    "duration": 89304,
    "start_time": "2021-10-01T06:35:43.367Z"
   },
   {
    "duration": 421,
    "start_time": "2021-10-01T06:37:12.673Z"
   },
   {
    "duration": 867,
    "start_time": "2021-10-01T06:37:13.097Z"
   },
   {
    "duration": 6589,
    "start_time": "2021-10-01T06:39:39.748Z"
   },
   {
    "duration": 1173,
    "start_time": "2021-10-01T06:39:46.340Z"
   },
   {
    "duration": 3,
    "start_time": "2021-10-01T06:39:47.516Z"
   },
   {
    "duration": 1865,
    "start_time": "2021-10-01T06:39:47.522Z"
   },
   {
    "duration": 3,
    "start_time": "2021-10-01T06:39:49.390Z"
   },
   {
    "duration": 12,
    "start_time": "2021-10-01T06:39:49.396Z"
   },
   {
    "duration": 7,
    "start_time": "2021-10-01T06:39:49.411Z"
   },
   {
    "duration": 42,
    "start_time": "2021-10-01T06:39:49.421Z"
   },
   {
    "duration": 19,
    "start_time": "2021-10-01T06:39:49.467Z"
   },
   {
    "duration": 6,
    "start_time": "2021-10-01T06:39:49.489Z"
   },
   {
    "duration": 33,
    "start_time": "2021-10-01T06:39:49.498Z"
   },
   {
    "duration": 196467,
    "start_time": "2021-10-01T06:39:49.533Z"
   },
   {
    "duration": 64197,
    "start_time": "2021-10-01T06:43:06.002Z"
   },
   {
    "duration": 283,
    "start_time": "2021-10-01T06:45:10.718Z"
   },
   {
    "duration": 3,
    "start_time": "2021-10-01T06:45:11.003Z"
   },
   {
    "duration": 12,
    "start_time": "2021-10-01T06:45:11.009Z"
   },
   {
    "duration": 24,
    "start_time": "2021-10-01T06:45:11.024Z"
   },
   {
    "duration": 2096,
    "start_time": "2021-10-01T06:45:11.050Z"
   },
   {
    "duration": 17,
    "start_time": "2021-10-01T06:45:13.148Z"
   },
   {
    "duration": 36,
    "start_time": "2021-10-01T06:45:13.168Z"
   },
   {
    "duration": 55,
    "start_time": "2021-10-01T06:45:13.207Z"
   },
   {
    "duration": 4378,
    "start_time": "2021-10-01T06:45:13.264Z"
   },
   {
    "duration": 4,
    "start_time": "2021-10-01T06:45:17.645Z"
   },
   {
    "duration": 7,
    "start_time": "2021-10-01T06:45:17.662Z"
   },
   {
    "duration": 23119,
    "start_time": "2021-10-01T06:45:17.673Z"
   },
   {
    "duration": 440,
    "start_time": "2021-10-01T06:45:40.795Z"
   },
   {
    "duration": 1057,
    "start_time": "2021-10-01T06:45:41.238Z"
   },
   {
    "duration": 929,
    "start_time": "2021-10-01T06:45:42.300Z"
   },
   {
    "duration": 16420,
    "start_time": "2021-10-01T06:45:26.812Z"
   },
   {
    "duration": 58179,
    "start_time": "2021-10-01T06:48:05.595Z"
   },
   {
    "duration": 11,
    "start_time": "2021-10-01T06:49:03.777Z"
   },
   {
    "duration": 26,
    "start_time": "2021-10-01T06:49:03.792Z"
   },
   {
    "duration": 11,
    "start_time": "2021-10-01T06:49:03.822Z"
   },
   {
    "duration": 12,
    "start_time": "2021-10-01T06:49:03.836Z"
   },
   {
    "duration": 13,
    "start_time": "2021-10-01T06:49:03.851Z"
   },
   {
    "duration": 2091,
    "start_time": "2021-10-01T06:49:03.867Z"
   },
   {
    "duration": 15,
    "start_time": "2021-10-01T06:49:05.964Z"
   },
   {
    "duration": 5,
    "start_time": "2021-10-01T06:51:10.510Z"
   },
   {
    "duration": 4,
    "start_time": "2021-10-01T06:51:10.893Z"
   },
   {
    "duration": 3,
    "start_time": "2021-10-01T06:51:11.989Z"
   },
   {
    "duration": 4514,
    "start_time": "2021-10-01T06:51:12.214Z"
   },
   {
    "duration": 5,
    "start_time": "2021-10-01T06:51:16.731Z"
   },
   {
    "duration": 25,
    "start_time": "2021-10-01T06:51:16.739Z"
   },
   {
    "duration": 20413,
    "start_time": "2021-10-01T06:51:16.768Z"
   },
   {
    "duration": 337,
    "start_time": "2021-10-01T06:51:37.184Z"
   },
   {
    "duration": 1124,
    "start_time": "2021-10-01T06:51:37.523Z"
   },
   {
    "duration": 12,
    "start_time": "2021-10-01T06:56:21.416Z"
   },
   {
    "duration": 7,
    "start_time": "2021-10-01T06:56:23.464Z"
   },
   {
    "duration": 23,
    "start_time": "2021-10-01T06:56:27.824Z"
   },
   {
    "duration": 7,
    "start_time": "2021-10-01T06:56:28.544Z"
   },
   {
    "duration": 22,
    "start_time": "2021-10-01T06:56:30.584Z"
   },
   {
    "duration": 8,
    "start_time": "2021-10-01T06:56:31.112Z"
   },
   {
    "duration": 6013,
    "start_time": "2021-10-01T06:59:12.084Z"
   },
   {
    "duration": 1187,
    "start_time": "2021-10-01T06:59:18.100Z"
   },
   {
    "duration": 3,
    "start_time": "2021-10-01T06:59:19.290Z"
   },
   {
    "duration": 1716,
    "start_time": "2021-10-01T06:59:19.296Z"
   },
   {
    "duration": 3,
    "start_time": "2021-10-01T06:59:21.015Z"
   },
   {
    "duration": 15,
    "start_time": "2021-10-01T06:59:21.019Z"
   },
   {
    "duration": 14,
    "start_time": "2021-10-01T06:59:21.036Z"
   },
   {
    "duration": 21,
    "start_time": "2021-10-01T06:59:21.062Z"
   },
   {
    "duration": 16,
    "start_time": "2021-10-01T06:59:21.086Z"
   },
   {
    "duration": 20,
    "start_time": "2021-10-01T06:59:21.104Z"
   },
   {
    "duration": 39,
    "start_time": "2021-10-01T06:59:21.127Z"
   },
   {
    "duration": 4981,
    "start_time": "2021-10-01T06:59:21.169Z"
   },
   {
    "duration": 16421,
    "start_time": "2021-10-01T06:59:09.731Z"
   },
   {
    "duration": 16420,
    "start_time": "2021-10-01T06:59:09.734Z"
   },
   {
    "duration": 16418,
    "start_time": "2021-10-01T06:59:09.737Z"
   },
   {
    "duration": 16416,
    "start_time": "2021-10-01T06:59:09.740Z"
   },
   {
    "duration": 16416,
    "start_time": "2021-10-01T06:59:09.742Z"
   },
   {
    "duration": 16414,
    "start_time": "2021-10-01T06:59:09.745Z"
   },
   {
    "duration": 16413,
    "start_time": "2021-10-01T06:59:09.748Z"
   },
   {
    "duration": 16412,
    "start_time": "2021-10-01T06:59:09.750Z"
   },
   {
    "duration": 16411,
    "start_time": "2021-10-01T06:59:09.752Z"
   },
   {
    "duration": 16403,
    "start_time": "2021-10-01T06:59:09.761Z"
   },
   {
    "duration": 16402,
    "start_time": "2021-10-01T06:59:09.763Z"
   },
   {
    "duration": 16401,
    "start_time": "2021-10-01T06:59:09.766Z"
   },
   {
    "duration": 16400,
    "start_time": "2021-10-01T06:59:09.768Z"
   },
   {
    "duration": 16397,
    "start_time": "2021-10-01T06:59:09.772Z"
   },
   {
    "duration": 16396,
    "start_time": "2021-10-01T06:59:09.774Z"
   },
   {
    "duration": 16393,
    "start_time": "2021-10-01T06:59:09.778Z"
   },
   {
    "duration": 16392,
    "start_time": "2021-10-01T06:59:09.780Z"
   },
   {
    "duration": 192809,
    "start_time": "2021-10-01T07:00:55.301Z"
   },
   {
    "duration": 59940,
    "start_time": "2021-10-01T07:04:08.112Z"
   },
   {
    "duration": 56783,
    "start_time": "2021-10-01T07:05:08.055Z"
   },
   {
    "duration": 24,
    "start_time": "2021-10-01T07:06:04.841Z"
   },
   {
    "duration": 246,
    "start_time": "2021-10-01T07:06:04.867Z"
   },
   {
    "duration": 4,
    "start_time": "2021-10-01T07:06:05.115Z"
   },
   {
    "duration": 20,
    "start_time": "2021-10-01T07:06:05.121Z"
   },
   {
    "duration": 7,
    "start_time": "2021-10-01T07:06:05.145Z"
   },
   {
    "duration": 2009,
    "start_time": "2021-10-01T07:06:05.155Z"
   },
   {
    "duration": 14,
    "start_time": "2021-10-01T07:06:07.167Z"
   },
   {
    "duration": 11,
    "start_time": "2021-10-01T07:06:07.183Z"
   },
   {
    "duration": 24,
    "start_time": "2021-10-01T07:06:07.196Z"
   },
   {
    "duration": 4626,
    "start_time": "2021-10-01T07:06:07.223Z"
   },
   {
    "duration": 5,
    "start_time": "2021-10-01T07:06:11.851Z"
   },
   {
    "duration": 5,
    "start_time": "2021-10-01T07:06:11.862Z"
   },
   {
    "duration": 21307,
    "start_time": "2021-10-01T07:06:11.869Z"
   },
   {
    "duration": 408,
    "start_time": "2021-10-01T07:06:33.179Z"
   },
   {
    "duration": 1069,
    "start_time": "2021-10-01T07:06:33.590Z"
   },
   {
    "duration": 6381,
    "start_time": "2021-10-01T07:09:00.318Z"
   },
   {
    "duration": 1105,
    "start_time": "2021-10-01T07:09:06.702Z"
   },
   {
    "duration": 3,
    "start_time": "2021-10-01T07:09:07.810Z"
   },
   {
    "duration": 1662,
    "start_time": "2021-10-01T07:09:07.816Z"
   },
   {
    "duration": 3,
    "start_time": "2021-10-01T07:09:09.481Z"
   },
   {
    "duration": 20,
    "start_time": "2021-10-01T07:09:09.487Z"
   },
   {
    "duration": 12,
    "start_time": "2021-10-01T07:09:09.509Z"
   },
   {
    "duration": 29,
    "start_time": "2021-10-01T07:09:09.523Z"
   },
   {
    "duration": 9,
    "start_time": "2021-10-01T07:09:09.557Z"
   },
   {
    "duration": 9,
    "start_time": "2021-10-01T07:09:09.569Z"
   },
   {
    "duration": 38,
    "start_time": "2021-10-01T07:09:09.580Z"
   },
   {
    "duration": 218967,
    "start_time": "2021-10-01T07:09:09.621Z"
   },
   {
    "duration": 29545,
    "start_time": "2021-10-01T07:12:48.591Z"
   },
   {
    "duration": 28855,
    "start_time": "2021-10-01T07:13:18.138Z"
   },
   {
    "duration": 12,
    "start_time": "2021-10-01T07:13:46.995Z"
   },
   {
    "duration": 221,
    "start_time": "2021-10-01T07:13:47.009Z"
   },
   {
    "duration": 4,
    "start_time": "2021-10-01T07:13:47.233Z"
   },
   {
    "duration": 10,
    "start_time": "2021-10-01T07:13:47.239Z"
   },
   {
    "duration": 23,
    "start_time": "2021-10-01T07:13:47.251Z"
   },
   {
    "duration": 2285,
    "start_time": "2021-10-01T07:13:47.277Z"
   },
   {
    "duration": 13,
    "start_time": "2021-10-01T07:13:49.564Z"
   },
   {
    "duration": 9,
    "start_time": "2021-10-01T07:13:49.579Z"
   },
   {
    "duration": 15,
    "start_time": "2021-10-01T07:13:49.590Z"
   },
   {
    "duration": 5034,
    "start_time": "2021-10-01T07:13:49.608Z"
   },
   {
    "duration": 6,
    "start_time": "2021-10-01T07:13:54.644Z"
   },
   {
    "duration": 4,
    "start_time": "2021-10-01T07:13:54.662Z"
   },
   {
    "duration": 24919,
    "start_time": "2021-10-01T07:13:54.671Z"
   },
   {
    "duration": 499,
    "start_time": "2021-10-01T07:14:19.594Z"
   },
   {
    "duration": 768,
    "start_time": "2021-10-01T07:14:20.096Z"
   },
   {
    "duration": 6046,
    "start_time": "2021-10-01T07:16:44.051Z"
   },
   {
    "duration": 1125,
    "start_time": "2021-10-01T07:16:50.100Z"
   },
   {
    "duration": 2,
    "start_time": "2021-10-01T07:16:51.228Z"
   },
   {
    "duration": 1714,
    "start_time": "2021-10-01T07:16:51.233Z"
   },
   {
    "duration": 11,
    "start_time": "2021-10-01T07:16:52.950Z"
   },
   {
    "duration": 9,
    "start_time": "2021-10-01T07:16:52.964Z"
   },
   {
    "duration": 22,
    "start_time": "2021-10-01T07:16:52.979Z"
   },
   {
    "duration": 40,
    "start_time": "2021-10-01T07:16:53.005Z"
   },
   {
    "duration": 14,
    "start_time": "2021-10-01T07:16:53.048Z"
   },
   {
    "duration": 8,
    "start_time": "2021-10-01T07:16:53.065Z"
   },
   {
    "duration": 51,
    "start_time": "2021-10-01T07:16:53.075Z"
   },
   {
    "duration": 304,
    "start_time": "2021-10-01T07:35:58.834Z"
   },
   {
    "duration": 16399,
    "start_time": "2021-10-01T07:35:42.742Z"
   },
   {
    "duration": 256,
    "start_time": "2021-10-01T07:35:59.187Z"
   },
   {
    "duration": 16436,
    "start_time": "2021-10-01T07:35:43.009Z"
   },
   {
    "duration": 281,
    "start_time": "2021-10-01T07:35:59.872Z"
   },
   {
    "duration": 259,
    "start_time": "2021-10-01T07:37:55.968Z"
   },
   {
    "duration": 6291,
    "start_time": "2021-10-01T07:38:09.910Z"
   },
   {
    "duration": 1186,
    "start_time": "2021-10-01T07:38:16.203Z"
   },
   {
    "duration": 3,
    "start_time": "2021-10-01T07:38:17.392Z"
   },
   {
    "duration": 1572,
    "start_time": "2021-10-01T07:38:17.397Z"
   },
   {
    "duration": 4,
    "start_time": "2021-10-01T07:38:18.972Z"
   },
   {
    "duration": 9,
    "start_time": "2021-10-01T07:38:18.979Z"
   },
   {
    "duration": 20,
    "start_time": "2021-10-01T07:38:18.991Z"
   },
   {
    "duration": 21,
    "start_time": "2021-10-01T07:38:19.016Z"
   },
   {
    "duration": 9,
    "start_time": "2021-10-01T07:38:19.061Z"
   },
   {
    "duration": 8,
    "start_time": "2021-10-01T07:38:19.073Z"
   },
   {
    "duration": 32,
    "start_time": "2021-10-01T07:38:19.084Z"
   },
   {
    "duration": 223349,
    "start_time": "2021-10-01T07:38:19.118Z"
   },
   {
    "duration": 31547,
    "start_time": "2021-10-01T07:42:02.470Z"
   },
   {
    "duration": 31284,
    "start_time": "2021-10-01T07:42:34.020Z"
   },
   {
    "duration": 12,
    "start_time": "2021-10-01T07:43:05.306Z"
   },
   {
    "duration": 276,
    "start_time": "2021-10-01T07:43:05.320Z"
   },
   {
    "duration": 3,
    "start_time": "2021-10-01T07:43:05.598Z"
   },
   {
    "duration": 46,
    "start_time": "2021-10-01T07:43:05.603Z"
   },
   {
    "duration": 25,
    "start_time": "2021-10-01T07:43:05.651Z"
   },
   {
    "duration": 2289,
    "start_time": "2021-10-01T07:43:05.679Z"
   },
   {
    "duration": 18,
    "start_time": "2021-10-01T07:43:07.971Z"
   },
   {
    "duration": 6,
    "start_time": "2021-10-01T07:43:07.993Z"
   },
   {
    "duration": 10,
    "start_time": "2021-10-01T07:43:08.005Z"
   },
   {
    "duration": 7319,
    "start_time": "2021-10-01T07:43:08.018Z"
   },
   {
    "duration": 6,
    "start_time": "2021-10-01T07:43:15.340Z"
   },
   {
    "duration": 3,
    "start_time": "2021-10-01T07:43:15.362Z"
   },
   {
    "duration": 68529,
    "start_time": "2021-10-01T07:43:15.368Z"
   },
   {
    "duration": 512,
    "start_time": "2021-10-01T07:44:23.900Z"
   },
   {
    "duration": 689,
    "start_time": "2021-10-01T07:44:24.414Z"
   },
   {
    "duration": 6463,
    "start_time": "2021-10-01T11:47:16.735Z"
   },
   {
    "duration": 1190,
    "start_time": "2021-10-01T11:47:23.200Z"
   },
   {
    "duration": 3,
    "start_time": "2021-10-01T11:47:24.394Z"
   },
   {
    "duration": 1848,
    "start_time": "2021-10-01T11:47:24.400Z"
   },
   {
    "duration": 4,
    "start_time": "2021-10-01T11:47:26.250Z"
   },
   {
    "duration": 11,
    "start_time": "2021-10-01T11:47:26.262Z"
   },
   {
    "duration": 8,
    "start_time": "2021-10-01T11:47:26.275Z"
   },
   {
    "duration": 20,
    "start_time": "2021-10-01T11:47:26.287Z"
   },
   {
    "duration": 8,
    "start_time": "2021-10-01T11:47:26.310Z"
   },
   {
    "duration": 6,
    "start_time": "2021-10-01T11:47:26.321Z"
   },
   {
    "duration": 30,
    "start_time": "2021-10-01T11:47:26.362Z"
   },
   {
    "duration": 240227,
    "start_time": "2021-10-01T11:47:26.394Z"
   },
   {
    "duration": 28500,
    "start_time": "2021-10-01T11:51:26.624Z"
   },
   {
    "duration": 28844,
    "start_time": "2021-10-01T11:51:55.127Z"
   },
   {
    "duration": 3,
    "start_time": "2021-10-01T11:52:23.973Z"
   },
   {
    "duration": 302,
    "start_time": "2021-10-01T11:52:23.978Z"
   },
   {
    "duration": 3,
    "start_time": "2021-10-01T11:52:24.282Z"
   },
   {
    "duration": 8,
    "start_time": "2021-10-01T11:52:24.288Z"
   },
   {
    "duration": 10,
    "start_time": "2021-10-01T11:52:24.298Z"
   },
   {
    "duration": 2254,
    "start_time": "2021-10-01T11:52:24.310Z"
   },
   {
    "duration": 13,
    "start_time": "2021-10-01T11:52:26.566Z"
   },
   {
    "duration": 10,
    "start_time": "2021-10-01T11:52:26.581Z"
   },
   {
    "duration": 6,
    "start_time": "2021-10-01T11:52:26.595Z"
   },
   {
    "duration": 4946,
    "start_time": "2021-10-01T11:52:26.603Z"
   },
   {
    "duration": 12,
    "start_time": "2021-10-01T11:52:31.551Z"
   },
   {
    "duration": 10,
    "start_time": "2021-10-01T11:52:31.565Z"
   },
   {
    "duration": 153984,
    "start_time": "2021-10-01T11:52:31.578Z"
   },
   {
    "duration": 366,
    "start_time": "2021-10-01T11:55:05.564Z"
   },
   {
    "duration": 736,
    "start_time": "2021-10-01T11:55:05.933Z"
   },
   {
    "duration": 2039,
    "start_time": "2021-10-01T11:57:22.252Z"
   },
   {
    "duration": 6,
    "start_time": "2021-10-01T11:57:24.294Z"
   },
   {
    "duration": 6,
    "start_time": "2021-10-01T11:58:18.938Z"
   },
   {
    "duration": 1232,
    "start_time": "2021-10-01T11:58:28.514Z"
   },
   {
    "duration": 461,
    "start_time": "2021-10-01T11:58:49.524Z"
   },
   {
    "duration": 2160,
    "start_time": "2021-10-01T11:58:55.906Z"
   },
   {
    "duration": 473,
    "start_time": "2021-10-01T11:59:33.834Z"
   },
   {
    "duration": 488,
    "start_time": "2021-10-01T12:00:31.784Z"
   },
   {
    "duration": 1559,
    "start_time": "2021-10-01T12:02:37.973Z"
   },
   {
    "duration": 13150,
    "start_time": "2021-10-01T12:02:54.013Z"
   },
   {
    "duration": 6,
    "start_time": "2021-10-01T12:03:23.276Z"
   },
   {
    "duration": 758,
    "start_time": "2021-10-01T12:04:25.732Z"
   },
   {
    "duration": 434,
    "start_time": "2021-10-01T12:04:32.315Z"
   },
   {
    "duration": 10733,
    "start_time": "2021-10-01T12:04:53.530Z"
   },
   {
    "duration": 10081,
    "start_time": "2021-10-01T12:08:52.791Z"
   },
   {
    "duration": 3,
    "start_time": "2021-10-01T12:09:02.875Z"
   },
   {
    "duration": 335,
    "start_time": "2021-10-01T12:09:02.881Z"
   },
   {
    "duration": 6181,
    "start_time": "2021-10-01T12:09:47.410Z"
   },
   {
    "duration": 1106,
    "start_time": "2021-10-01T12:09:53.594Z"
   },
   {
    "duration": 3,
    "start_time": "2021-10-01T12:09:54.704Z"
   },
   {
    "duration": 1603,
    "start_time": "2021-10-01T12:09:54.710Z"
   },
   {
    "duration": 3,
    "start_time": "2021-10-01T12:09:56.315Z"
   },
   {
    "duration": 14,
    "start_time": "2021-10-01T12:09:56.321Z"
   },
   {
    "duration": 10,
    "start_time": "2021-10-01T12:09:56.339Z"
   },
   {
    "duration": 28,
    "start_time": "2021-10-01T12:09:56.352Z"
   },
   {
    "duration": 10,
    "start_time": "2021-10-01T12:09:56.383Z"
   },
   {
    "duration": 6,
    "start_time": "2021-10-01T12:09:56.396Z"
   },
   {
    "duration": 68,
    "start_time": "2021-10-01T12:09:56.404Z"
   },
   {
    "duration": 6079,
    "start_time": "2021-10-01T12:12:25.303Z"
   },
   {
    "duration": 1101,
    "start_time": "2021-10-01T12:12:31.385Z"
   },
   {
    "duration": 3,
    "start_time": "2021-10-01T12:12:32.489Z"
   },
   {
    "duration": 1631,
    "start_time": "2021-10-01T12:12:32.494Z"
   },
   {
    "duration": 3,
    "start_time": "2021-10-01T12:12:34.128Z"
   },
   {
    "duration": 13,
    "start_time": "2021-10-01T12:12:34.133Z"
   },
   {
    "duration": 10,
    "start_time": "2021-10-01T12:12:34.149Z"
   },
   {
    "duration": 23,
    "start_time": "2021-10-01T12:12:34.164Z"
   },
   {
    "duration": 8,
    "start_time": "2021-10-01T12:12:34.191Z"
   },
   {
    "duration": 9,
    "start_time": "2021-10-01T12:12:34.201Z"
   },
   {
    "duration": 67,
    "start_time": "2021-10-01T12:12:34.212Z"
   },
   {
    "duration": 6121,
    "start_time": "2021-10-01T12:16:36.676Z"
   },
   {
    "duration": 1089,
    "start_time": "2021-10-01T12:16:42.799Z"
   },
   {
    "duration": 3,
    "start_time": "2021-10-01T12:16:43.891Z"
   },
   {
    "duration": 1664,
    "start_time": "2021-10-01T12:16:43.897Z"
   },
   {
    "duration": 3,
    "start_time": "2021-10-01T12:16:45.564Z"
   },
   {
    "duration": 25,
    "start_time": "2021-10-01T12:16:45.569Z"
   },
   {
    "duration": 24,
    "start_time": "2021-10-01T12:16:45.596Z"
   },
   {
    "duration": 26,
    "start_time": "2021-10-01T12:16:45.624Z"
   },
   {
    "duration": 11,
    "start_time": "2021-10-01T12:16:45.653Z"
   },
   {
    "duration": 17,
    "start_time": "2021-10-01T12:16:45.666Z"
   },
   {
    "duration": 43,
    "start_time": "2021-10-01T12:16:45.686Z"
   },
   {
    "duration": 116948,
    "start_time": "2021-10-01T12:16:45.732Z"
   },
   {
    "duration": 15307,
    "start_time": "2021-10-01T12:18:42.683Z"
   },
   {
    "duration": 15921,
    "start_time": "2021-10-01T12:18:57.993Z"
   },
   {
    "duration": 4,
    "start_time": "2021-10-01T12:19:13.917Z"
   },
   {
    "duration": 1127,
    "start_time": "2021-10-01T12:19:13.924Z"
   },
   {
    "duration": 3,
    "start_time": "2021-10-01T12:19:15.053Z"
   },
   {
    "duration": 19,
    "start_time": "2021-10-01T12:19:15.063Z"
   },
   {
    "duration": 8887,
    "start_time": "2021-10-01T12:19:15.084Z"
   },
   {
    "duration": 102,
    "start_time": "2021-10-01T12:19:24.063Z"
   },
   {
    "duration": 17,
    "start_time": "2021-10-01T12:19:24.167Z"
   },
   {
    "duration": 25,
    "start_time": "2021-10-01T12:19:24.186Z"
   },
   {
    "duration": 15,
    "start_time": "2021-10-01T12:19:24.215Z"
   },
   {
    "duration": 322,
    "start_time": "2021-10-01T12:19:24.232Z"
   },
   {
    "duration": 7,
    "start_time": "2021-10-01T12:19:24.556Z"
   },
   {
    "duration": 18,
    "start_time": "2021-10-01T12:19:24.566Z"
   },
   {
    "duration": 6584,
    "start_time": "2021-10-01T12:19:24.588Z"
   },
   {
    "duration": 3,
    "start_time": "2021-10-01T12:19:31.175Z"
   },
   {
    "duration": 414,
    "start_time": "2021-10-01T12:19:31.180Z"
   },
   {
    "duration": 1204,
    "start_time": "2021-10-01T12:19:31.597Z"
   },
   {
    "duration": 755,
    "start_time": "2021-10-01T12:33:04.317Z"
   },
   {
    "duration": 806,
    "start_time": "2021-10-01T12:33:17.347Z"
   },
   {
    "duration": 712,
    "start_time": "2021-10-01T12:33:36.251Z"
   },
   {
    "duration": 12339,
    "start_time": "2021-10-01T12:34:21.474Z"
   },
   {
    "duration": 290,
    "start_time": "2021-10-01T12:34:33.815Z"
   },
   {
    "duration": 6,
    "start_time": "2021-10-01T12:38:06.118Z"
   },
   {
    "duration": 6346,
    "start_time": "2021-10-01T12:46:09.797Z"
   },
   {
    "duration": 1091,
    "start_time": "2021-10-01T12:46:16.146Z"
   },
   {
    "duration": 3,
    "start_time": "2021-10-01T12:46:17.240Z"
   },
   {
    "duration": 1600,
    "start_time": "2021-10-01T12:46:17.262Z"
   },
   {
    "duration": 3,
    "start_time": "2021-10-01T12:46:18.865Z"
   },
   {
    "duration": 13,
    "start_time": "2021-10-01T12:46:18.870Z"
   },
   {
    "duration": 11,
    "start_time": "2021-10-01T12:46:18.886Z"
   },
   {
    "duration": 18,
    "start_time": "2021-10-01T12:46:18.900Z"
   },
   {
    "duration": 8,
    "start_time": "2021-10-01T12:46:18.922Z"
   },
   {
    "duration": 29,
    "start_time": "2021-10-01T12:46:18.933Z"
   },
   {
    "duration": 32,
    "start_time": "2021-10-01T12:46:18.965Z"
   },
   {
    "duration": 110186,
    "start_time": "2021-10-01T12:46:18.999Z"
   },
   {
    "duration": 14862,
    "start_time": "2021-10-01T12:48:09.188Z"
   },
   {
    "duration": 15790,
    "start_time": "2021-10-01T12:48:24.052Z"
   },
   {
    "duration": 3,
    "start_time": "2021-10-01T12:48:39.845Z"
   },
   {
    "duration": 218,
    "start_time": "2021-10-01T12:48:39.861Z"
   },
   {
    "duration": 4,
    "start_time": "2021-10-01T12:48:40.081Z"
   },
   {
    "duration": 10,
    "start_time": "2021-10-01T12:48:40.087Z"
   },
   {
    "duration": 13,
    "start_time": "2021-10-01T12:48:40.099Z"
   },
   {
    "duration": 890,
    "start_time": "2021-10-01T12:48:40.114Z"
   },
   {
    "duration": 16526,
    "start_time": "2021-10-01T12:48:24.483Z"
   },
   {
    "duration": 16525,
    "start_time": "2021-10-01T12:48:24.486Z"
   },
   {
    "duration": 16525,
    "start_time": "2021-10-01T12:48:24.488Z"
   },
   {
    "duration": 16524,
    "start_time": "2021-10-01T12:48:24.491Z"
   },
   {
    "duration": 16524,
    "start_time": "2021-10-01T12:48:24.493Z"
   },
   {
    "duration": 16523,
    "start_time": "2021-10-01T12:48:24.496Z"
   },
   {
    "duration": 16523,
    "start_time": "2021-10-01T12:48:24.498Z"
   },
   {
    "duration": 16519,
    "start_time": "2021-10-01T12:48:24.504Z"
   },
   {
    "duration": 16518,
    "start_time": "2021-10-01T12:48:24.507Z"
   },
   {
    "duration": 16518,
    "start_time": "2021-10-01T12:48:24.509Z"
   },
   {
    "duration": 7,
    "start_time": "2021-10-01T12:53:00.851Z"
   },
   {
    "duration": 1296,
    "start_time": "2021-10-01T12:53:00.860Z"
   },
   {
    "duration": 3,
    "start_time": "2021-10-01T12:53:02.163Z"
   },
   {
    "duration": 823,
    "start_time": "2021-10-01T12:53:02.169Z"
   },
   {
    "duration": 3,
    "start_time": "2021-10-01T12:53:02.995Z"
   },
   {
    "duration": 17,
    "start_time": "2021-10-01T12:53:03.001Z"
   },
   {
    "duration": 15,
    "start_time": "2021-10-01T12:53:03.020Z"
   },
   {
    "duration": 36,
    "start_time": "2021-10-01T12:53:03.039Z"
   },
   {
    "duration": 17,
    "start_time": "2021-10-01T12:53:03.079Z"
   },
   {
    "duration": 15,
    "start_time": "2021-10-01T12:53:03.099Z"
   },
   {
    "duration": 26,
    "start_time": "2021-10-01T12:53:03.116Z"
   },
   {
    "duration": 130385,
    "start_time": "2021-10-01T12:53:03.145Z"
   },
   {
    "duration": 16564,
    "start_time": "2021-10-01T12:55:13.532Z"
   },
   {
    "duration": 17164,
    "start_time": "2021-10-01T12:55:30.098Z"
   },
   {
    "duration": 3,
    "start_time": "2021-10-01T12:55:47.265Z"
   },
   {
    "duration": 8,
    "start_time": "2021-10-01T12:55:47.270Z"
   },
   {
    "duration": 5,
    "start_time": "2021-10-01T12:55:47.280Z"
   },
   {
    "duration": 9,
    "start_time": "2021-10-01T12:55:47.287Z"
   },
   {
    "duration": 8,
    "start_time": "2021-10-01T12:55:47.299Z"
   },
   {
    "duration": 297,
    "start_time": "2021-10-01T12:55:47.310Z"
   },
   {
    "duration": 16523,
    "start_time": "2021-10-01T12:55:31.087Z"
   },
   {
    "duration": 16523,
    "start_time": "2021-10-01T12:55:31.089Z"
   },
   {
    "duration": 16522,
    "start_time": "2021-10-01T12:55:31.091Z"
   },
   {
    "duration": 16518,
    "start_time": "2021-10-01T12:55:31.097Z"
   },
   {
    "duration": 16517,
    "start_time": "2021-10-01T12:55:31.099Z"
   },
   {
    "duration": 16517,
    "start_time": "2021-10-01T12:55:31.101Z"
   },
   {
    "duration": 16516,
    "start_time": "2021-10-01T12:55:31.103Z"
   },
   {
    "duration": 16516,
    "start_time": "2021-10-01T12:55:31.105Z"
   },
   {
    "duration": 16516,
    "start_time": "2021-10-01T12:55:31.106Z"
   },
   {
    "duration": 16515,
    "start_time": "2021-10-01T12:55:31.109Z"
   },
   {
    "duration": 730,
    "start_time": "2021-10-01T13:02:35.946Z"
   },
   {
    "duration": 580,
    "start_time": "2021-10-01T13:02:47.873Z"
   },
   {
    "duration": 1691,
    "start_time": "2021-10-01T13:02:59.233Z"
   },
   {
    "duration": 21,
    "start_time": "2021-10-01T13:03:01.328Z"
   },
   {
    "duration": 3,
    "start_time": "2021-10-01T13:03:39.135Z"
   },
   {
    "duration": 4,
    "start_time": "2021-10-01T13:03:40.224Z"
   },
   {
    "duration": 2596,
    "start_time": "2021-10-01T13:03:40.479Z"
   },
   {
    "duration": 5,
    "start_time": "2021-10-01T13:03:47.306Z"
   },
   {
    "duration": 3,
    "start_time": "2021-10-01T13:03:47.439Z"
   },
   {
    "duration": 15254,
    "start_time": "2021-10-01T13:03:49.536Z"
   },
   {
    "duration": 556,
    "start_time": "2021-10-01T13:04:04.792Z"
   },
   {
    "duration": 9,
    "start_time": "2021-10-01T13:04:05.352Z"
   },
   {
    "duration": 6294,
    "start_time": "2021-10-01T13:06:39.132Z"
   },
   {
    "duration": 1076,
    "start_time": "2021-10-01T13:06:45.429Z"
   },
   {
    "duration": 3,
    "start_time": "2021-10-01T13:06:46.508Z"
   },
   {
    "duration": 1651,
    "start_time": "2021-10-01T13:06:46.514Z"
   },
   {
    "duration": 4,
    "start_time": "2021-10-01T13:06:48.168Z"
   },
   {
    "duration": 42,
    "start_time": "2021-10-01T13:06:48.174Z"
   },
   {
    "duration": 34,
    "start_time": "2021-10-01T13:06:48.219Z"
   },
   {
    "duration": 26,
    "start_time": "2021-10-01T13:06:48.257Z"
   },
   {
    "duration": 40,
    "start_time": "2021-10-01T13:06:48.286Z"
   },
   {
    "duration": 35,
    "start_time": "2021-10-01T13:06:48.329Z"
   },
   {
    "duration": 30,
    "start_time": "2021-10-01T13:06:48.366Z"
   },
   {
    "duration": 111563,
    "start_time": "2021-10-01T13:06:48.399Z"
   },
   {
    "duration": 13420,
    "start_time": "2021-10-01T13:08:39.966Z"
   },
   {
    "duration": 14106,
    "start_time": "2021-10-01T13:08:53.389Z"
   },
   {
    "duration": 4,
    "start_time": "2021-10-01T13:09:07.498Z"
   },
   {
    "duration": 230,
    "start_time": "2021-10-01T13:09:07.505Z"
   },
   {
    "duration": 2,
    "start_time": "2021-10-01T13:09:07.738Z"
   },
   {
    "duration": 10,
    "start_time": "2021-10-01T13:09:07.743Z"
   },
   {
    "duration": 17,
    "start_time": "2021-10-01T13:09:07.756Z"
   },
   {
    "duration": 30,
    "start_time": "2021-10-01T13:09:07.776Z"
   },
   {
    "duration": 1905,
    "start_time": "2021-10-01T13:09:07.809Z"
   },
   {
    "duration": 50,
    "start_time": "2021-10-01T13:09:09.716Z"
   },
   {
    "duration": 3,
    "start_time": "2021-10-01T13:09:09.771Z"
   },
   {
    "duration": 8,
    "start_time": "2021-10-01T13:09:09.777Z"
   },
   {
    "duration": 2725,
    "start_time": "2021-10-01T13:09:09.787Z"
   },
   {
    "duration": 5,
    "start_time": "2021-10-01T13:09:12.515Z"
   },
   {
    "duration": 6,
    "start_time": "2021-10-01T13:09:12.522Z"
   },
   {
    "duration": 3357,
    "start_time": "2021-10-01T13:09:12.530Z"
   },
   {
    "duration": 441,
    "start_time": "2021-10-01T13:09:15.889Z"
   },
   {
    "duration": 818,
    "start_time": "2021-10-01T13:09:16.333Z"
   },
   {
    "duration": 1236,
    "start_time": "2021-10-01T13:16:35.874Z"
   },
   {
    "duration": 6,
    "start_time": "2021-10-01T13:16:37.113Z"
   },
   {
    "duration": 1748,
    "start_time": "2021-10-01T13:16:50.569Z"
   },
   {
    "duration": 4,
    "start_time": "2021-10-01T13:16:52.320Z"
   },
   {
    "duration": 483,
    "start_time": "2021-10-01T13:16:57.409Z"
   },
   {
    "duration": 16502,
    "start_time": "2021-10-01T13:16:41.393Z"
   },
   {
    "duration": 1733,
    "start_time": "2021-10-01T13:17:02.292Z"
   },
   {
    "duration": 6,
    "start_time": "2021-10-01T13:17:05.361Z"
   },
   {
    "duration": 1092,
    "start_time": "2021-10-01T13:17:10.626Z"
   },
   {
    "duration": 5,
    "start_time": "2021-10-01T13:17:11.721Z"
   },
   {
    "duration": 2432,
    "start_time": "2021-10-01T13:31:19.849Z"
   },
   {
    "duration": 6,
    "start_time": "2021-10-01T13:31:22.985Z"
   },
   {
    "duration": 4571,
    "start_time": "2021-10-01T13:31:27.217Z"
   },
   {
    "duration": 5,
    "start_time": "2021-10-01T13:31:31.791Z"
   },
   {
    "duration": 1210,
    "start_time": "2021-10-01T13:31:38.330Z"
   },
   {
    "duration": 5,
    "start_time": "2021-10-01T13:31:39.543Z"
   },
   {
    "duration": 835,
    "start_time": "2021-10-01T13:32:18.960Z"
   },
   {
    "duration": 6,
    "start_time": "2021-10-01T13:32:20.999Z"
   },
   {
    "duration": 787,
    "start_time": "2021-10-01T13:32:24.505Z"
   },
   {
    "duration": 6,
    "start_time": "2021-10-01T13:32:26.040Z"
   },
   {
    "duration": 779,
    "start_time": "2021-10-01T13:32:29.617Z"
   },
   {
    "duration": 7,
    "start_time": "2021-10-01T13:32:30.599Z"
   },
   {
    "duration": 1174,
    "start_time": "2021-10-01T13:32:35.831Z"
   },
   {
    "duration": 6,
    "start_time": "2021-10-01T13:32:37.008Z"
   },
   {
    "duration": 1094,
    "start_time": "2021-10-01T13:32:41.407Z"
   },
   {
    "duration": 5,
    "start_time": "2021-10-01T13:32:42.504Z"
   },
   {
    "duration": 1149,
    "start_time": "2021-10-01T13:32:46.058Z"
   },
   {
    "duration": 5,
    "start_time": "2021-10-01T13:32:47.209Z"
   },
   {
    "duration": 1230,
    "start_time": "2021-10-01T13:32:52.167Z"
   },
   {
    "duration": 5,
    "start_time": "2021-10-01T13:32:53.400Z"
   },
   {
    "duration": 1406,
    "start_time": "2021-10-01T13:34:49.605Z"
   },
   {
    "duration": 6,
    "start_time": "2021-10-01T13:34:51.501Z"
   },
   {
    "duration": 451,
    "start_time": "2021-10-01T13:35:03.125Z"
   },
   {
    "duration": 6,
    "start_time": "2021-10-01T13:35:39.996Z"
   },
   {
    "duration": 448,
    "start_time": "2021-10-01T13:35:43.884Z"
   },
   {
    "duration": 6,
    "start_time": "2021-10-01T13:35:44.547Z"
   },
   {
    "duration": 438,
    "start_time": "2021-10-01T13:35:50.908Z"
   },
   {
    "duration": 16516,
    "start_time": "2021-10-01T13:35:34.833Z"
   },
   {
    "duration": 6443,
    "start_time": "2021-10-01T13:36:07.750Z"
   },
   {
    "duration": 1136,
    "start_time": "2021-10-01T13:36:14.196Z"
   },
   {
    "duration": 3,
    "start_time": "2021-10-01T13:36:15.335Z"
   },
   {
    "duration": 1926,
    "start_time": "2021-10-01T13:36:15.341Z"
   },
   {
    "duration": 3,
    "start_time": "2021-10-01T13:36:17.269Z"
   },
   {
    "duration": 18,
    "start_time": "2021-10-01T13:36:17.274Z"
   },
   {
    "duration": 20,
    "start_time": "2021-10-01T13:36:17.294Z"
   },
   {
    "duration": 21,
    "start_time": "2021-10-01T13:36:17.318Z"
   },
   {
    "duration": 19,
    "start_time": "2021-10-01T13:36:17.343Z"
   },
   {
    "duration": 13,
    "start_time": "2021-10-01T13:36:17.364Z"
   },
   {
    "duration": 51,
    "start_time": "2021-10-01T13:36:17.379Z"
   },
   {
    "duration": 119597,
    "start_time": "2021-10-01T13:36:17.434Z"
   },
   {
    "duration": 13868,
    "start_time": "2021-10-01T13:38:17.033Z"
   },
   {
    "duration": 14524,
    "start_time": "2021-10-01T13:38:30.904Z"
   },
   {
    "duration": 2,
    "start_time": "2021-10-01T13:38:45.431Z"
   },
   {
    "duration": 250,
    "start_time": "2021-10-01T13:38:45.435Z"
   },
   {
    "duration": 4,
    "start_time": "2021-10-01T13:38:45.688Z"
   },
   {
    "duration": 8,
    "start_time": "2021-10-01T13:38:45.694Z"
   },
   {
    "duration": 8,
    "start_time": "2021-10-01T13:38:45.704Z"
   },
   {
    "duration": 10,
    "start_time": "2021-10-01T13:38:45.714Z"
   },
   {
    "duration": 1136,
    "start_time": "2021-10-01T13:38:45.726Z"
   },
   {
    "duration": 16513,
    "start_time": "2021-10-01T13:38:30.352Z"
   },
   {
    "duration": 16511,
    "start_time": "2021-10-01T13:38:30.356Z"
   },
   {
    "duration": 16509,
    "start_time": "2021-10-01T13:38:30.359Z"
   },
   {
    "duration": 16505,
    "start_time": "2021-10-01T13:38:30.364Z"
   },
   {
    "duration": 16505,
    "start_time": "2021-10-01T13:38:30.366Z"
   },
   {
    "duration": 16504,
    "start_time": "2021-10-01T13:38:30.368Z"
   },
   {
    "duration": 16503,
    "start_time": "2021-10-01T13:38:30.370Z"
   },
   {
    "duration": 16503,
    "start_time": "2021-10-01T13:38:30.372Z"
   },
   {
    "duration": 16502,
    "start_time": "2021-10-01T13:38:30.374Z"
   },
   {
    "duration": 1167,
    "start_time": "2021-10-01T13:44:00.141Z"
   },
   {
    "duration": 15,
    "start_time": "2021-10-01T13:44:01.932Z"
   },
   {
    "duration": 420,
    "start_time": "2021-10-01T13:45:17.107Z"
   },
   {
    "duration": 1275,
    "start_time": "2021-10-01T13:48:20.224Z"
   },
   {
    "duration": 5,
    "start_time": "2021-10-01T13:48:21.927Z"
   },
   {
    "duration": 1336,
    "start_time": "2021-10-01T13:48:27.160Z"
   },
   {
    "duration": 5,
    "start_time": "2021-10-01T13:48:28.499Z"
   },
   {
    "duration": 866,
    "start_time": "2021-10-01T13:48:47.119Z"
   },
   {
    "duration": 5,
    "start_time": "2021-10-01T13:48:48.487Z"
   },
   {
    "duration": 1249,
    "start_time": "2021-10-01T13:55:02.257Z"
   },
   {
    "duration": 6,
    "start_time": "2021-10-01T13:55:03.920Z"
   },
   {
    "duration": 1434,
    "start_time": "2021-10-01T13:55:08.575Z"
   },
   {
    "duration": 5,
    "start_time": "2021-10-01T13:55:10.011Z"
   },
   {
    "duration": 6,
    "start_time": "2021-10-01T14:02:03.529Z"
   },
   {
    "duration": 1162,
    "start_time": "2021-10-01T14:02:03.538Z"
   },
   {
    "duration": 3,
    "start_time": "2021-10-01T14:02:04.704Z"
   },
   {
    "duration": 854,
    "start_time": "2021-10-01T14:02:04.710Z"
   },
   {
    "duration": 4,
    "start_time": "2021-10-01T14:02:05.567Z"
   },
   {
    "duration": 46,
    "start_time": "2021-10-01T14:02:05.574Z"
   },
   {
    "duration": 38,
    "start_time": "2021-10-01T14:02:05.623Z"
   },
   {
    "duration": 78,
    "start_time": "2021-10-01T14:02:05.666Z"
   },
   {
    "duration": 48,
    "start_time": "2021-10-01T14:02:05.748Z"
   },
   {
    "duration": 41,
    "start_time": "2021-10-01T14:02:05.798Z"
   },
   {
    "duration": 63,
    "start_time": "2021-10-01T14:02:05.842Z"
   },
   {
    "duration": 199781,
    "start_time": "2021-10-01T14:02:05.907Z"
   },
   {
    "duration": 25568,
    "start_time": "2021-10-01T14:05:25.690Z"
   },
   {
    "duration": 24752,
    "start_time": "2021-10-01T14:05:51.262Z"
   },
   {
    "duration": 3,
    "start_time": "2021-10-01T14:06:16.017Z"
   },
   {
    "duration": 10,
    "start_time": "2021-10-01T14:06:16.022Z"
   },
   {
    "duration": 28,
    "start_time": "2021-10-01T14:06:16.035Z"
   },
   {
    "duration": 6,
    "start_time": "2021-10-01T14:06:16.066Z"
   },
   {
    "duration": 9,
    "start_time": "2021-10-01T14:06:16.074Z"
   },
   {
    "duration": 10,
    "start_time": "2021-10-01T14:06:16.086Z"
   },
   {
    "duration": 1631,
    "start_time": "2021-10-01T14:06:16.099Z"
   },
   {
    "duration": 4,
    "start_time": "2021-10-01T14:06:17.733Z"
   },
   {
    "duration": 21,
    "start_time": "2021-10-01T14:06:17.742Z"
   },
   {
    "duration": 13,
    "start_time": "2021-10-01T14:06:17.766Z"
   },
   {
    "duration": 4368,
    "start_time": "2021-10-01T14:06:17.782Z"
   },
   {
    "duration": 11,
    "start_time": "2021-10-01T14:06:22.152Z"
   },
   {
    "duration": 7,
    "start_time": "2021-10-01T14:06:22.165Z"
   },
   {
    "duration": 5202,
    "start_time": "2021-10-01T14:06:22.174Z"
   },
   {
    "duration": 624,
    "start_time": "2021-10-01T14:06:27.378Z"
   },
   {
    "duration": 319,
    "start_time": "2021-10-01T14:06:28.005Z"
   },
   {
    "duration": 3943,
    "start_time": "2021-10-01T14:08:55.376Z"
   },
   {
    "duration": 5,
    "start_time": "2021-10-01T14:08:59.322Z"
   },
   {
    "duration": 13261,
    "start_time": "2021-10-01T14:09:11.560Z"
   },
   {
    "duration": 309,
    "start_time": "2021-10-01T14:09:24.827Z"
   },
   {
    "duration": 829,
    "start_time": "2021-10-01T14:09:27.368Z"
   },
   {
    "duration": 1980,
    "start_time": "2021-10-01T14:21:24.667Z"
   },
   {
    "duration": 8,
    "start_time": "2021-10-01T14:24:51.470Z"
   },
   {
    "duration": 1197,
    "start_time": "2021-10-01T14:24:51.480Z"
   },
   {
    "duration": 3,
    "start_time": "2021-10-01T14:24:52.680Z"
   },
   {
    "duration": 890,
    "start_time": "2021-10-01T14:24:52.686Z"
   },
   {
    "duration": 3,
    "start_time": "2021-10-01T14:24:53.579Z"
   },
   {
    "duration": 20,
    "start_time": "2021-10-01T14:24:53.585Z"
   },
   {
    "duration": 8,
    "start_time": "2021-10-01T14:24:53.608Z"
   },
   {
    "duration": 64,
    "start_time": "2021-10-01T14:24:53.620Z"
   },
   {
    "duration": 9,
    "start_time": "2021-10-01T14:24:53.687Z"
   },
   {
    "duration": 8,
    "start_time": "2021-10-01T14:24:53.698Z"
   },
   {
    "duration": 63,
    "start_time": "2021-10-01T14:24:53.709Z"
   },
   {
    "duration": 350,
    "start_time": "2021-10-01T14:32:01.009Z"
   },
   {
    "duration": 6141,
    "start_time": "2021-10-01T14:32:03.385Z"
   },
   {
    "duration": 1234,
    "start_time": "2021-10-01T14:32:09.529Z"
   },
   {
    "duration": 3,
    "start_time": "2021-10-01T14:32:10.768Z"
   },
   {
    "duration": 1810,
    "start_time": "2021-10-01T14:32:10.775Z"
   },
   {
    "duration": 3,
    "start_time": "2021-10-01T14:32:12.588Z"
   },
   {
    "duration": 11,
    "start_time": "2021-10-01T14:32:12.594Z"
   },
   {
    "duration": 8,
    "start_time": "2021-10-01T14:32:12.607Z"
   },
   {
    "duration": 15,
    "start_time": "2021-10-01T14:32:12.619Z"
   },
   {
    "duration": 24,
    "start_time": "2021-10-01T14:32:12.638Z"
   },
   {
    "duration": 17,
    "start_time": "2021-10-01T14:32:12.665Z"
   },
   {
    "duration": 38,
    "start_time": "2021-10-01T14:32:12.685Z"
   },
   {
    "duration": 132040,
    "start_time": "2021-10-01T14:32:12.726Z"
   },
   {
    "duration": 18820,
    "start_time": "2021-10-01T14:34:24.768Z"
   },
   {
    "duration": 19671,
    "start_time": "2021-10-01T14:34:43.591Z"
   },
   {
    "duration": 2,
    "start_time": "2021-10-01T14:35:03.265Z"
   },
   {
    "duration": 441,
    "start_time": "2021-10-01T14:35:03.270Z"
   },
   {
    "duration": 3,
    "start_time": "2021-10-01T14:35:03.714Z"
   },
   {
    "duration": 25,
    "start_time": "2021-10-01T14:35:03.719Z"
   },
   {
    "duration": 19,
    "start_time": "2021-10-01T14:35:03.746Z"
   },
   {
    "duration": 16,
    "start_time": "2021-10-01T14:35:03.768Z"
   },
   {
    "duration": 1234,
    "start_time": "2021-10-01T14:35:03.787Z"
   },
   {
    "duration": 15,
    "start_time": "2021-10-01T14:35:05.023Z"
   },
   {
    "duration": 104,
    "start_time": "2021-10-01T14:35:05.043Z"
   },
   {
    "duration": 16536,
    "start_time": "2021-10-01T14:34:48.614Z"
   },
   {
    "duration": 16531,
    "start_time": "2021-10-01T14:34:48.620Z"
   },
   {
    "duration": 16529,
    "start_time": "2021-10-01T14:34:48.623Z"
   },
   {
    "duration": 16527,
    "start_time": "2021-10-01T14:34:48.627Z"
   },
   {
    "duration": 16525,
    "start_time": "2021-10-01T14:34:48.630Z"
   },
   {
    "duration": 16523,
    "start_time": "2021-10-01T14:34:48.633Z"
   },
   {
    "duration": 16523,
    "start_time": "2021-10-01T14:34:48.635Z"
   },
   {
    "duration": 16522,
    "start_time": "2021-10-01T14:34:48.637Z"
   },
   {
    "duration": 16522,
    "start_time": "2021-10-01T14:34:48.638Z"
   },
   {
    "duration": 882,
    "start_time": "2021-10-01T14:35:42.732Z"
   },
   {
    "duration": 5,
    "start_time": "2021-10-01T14:35:45.548Z"
   },
   {
    "duration": 804,
    "start_time": "2021-10-01T14:35:50.548Z"
   },
   {
    "duration": 9,
    "start_time": "2021-10-01T14:35:51.355Z"
   },
   {
    "duration": 897,
    "start_time": "2021-10-01T14:35:55.324Z"
   },
   {
    "duration": 5,
    "start_time": "2021-10-01T14:35:56.224Z"
   },
   {
    "duration": 974,
    "start_time": "2021-10-01T14:36:33.012Z"
   },
   {
    "duration": 1031,
    "start_time": "2021-10-01T14:37:02.147Z"
   },
   {
    "duration": 893,
    "start_time": "2021-10-01T14:37:35.596Z"
   },
   {
    "duration": 6,
    "start_time": "2021-10-01T14:37:37.945Z"
   },
   {
    "duration": 984,
    "start_time": "2021-10-01T14:37:42.610Z"
   },
   {
    "duration": 16511,
    "start_time": "2021-10-01T14:37:27.086Z"
   },
   {
    "duration": 1486,
    "start_time": "2021-10-01T14:37:54.354Z"
   },
   {
    "duration": 5,
    "start_time": "2021-10-01T14:37:56.457Z"
   },
   {
    "duration": 893,
    "start_time": "2021-10-01T14:38:01.098Z"
   },
   {
    "duration": 5,
    "start_time": "2021-10-01T14:38:01.995Z"
   },
   {
    "duration": 105,
    "start_time": "2021-10-01T14:38:42.818Z"
   },
   {
    "duration": 101,
    "start_time": "2021-10-01T14:39:34.089Z"
   },
   {
    "duration": 540,
    "start_time": "2021-10-01T14:39:41.656Z"
   },
   {
    "duration": 7,
    "start_time": "2021-10-01T14:39:43.784Z"
   },
   {
    "duration": 270,
    "start_time": "2021-10-01T14:41:21.166Z"
   },
   {
    "duration": 7,
    "start_time": "2021-10-01T14:41:30.534Z"
   },
   {
    "duration": 1964,
    "start_time": "2021-10-01T14:41:36.261Z"
   },
   {
    "duration": 5,
    "start_time": "2021-10-01T14:41:39.149Z"
   },
   {
    "duration": 1214,
    "start_time": "2021-10-01T14:41:53.909Z"
   },
   {
    "duration": 6,
    "start_time": "2021-10-01T14:41:55.581Z"
   },
   {
    "duration": 919,
    "start_time": "2021-10-01T14:42:16.631Z"
   },
   {
    "duration": 5,
    "start_time": "2021-10-01T14:42:19.085Z"
   },
   {
    "duration": 1256,
    "start_time": "2021-10-01T14:42:34.460Z"
   },
   {
    "duration": 4,
    "start_time": "2021-10-01T14:42:35.719Z"
   },
   {
    "duration": 656,
    "start_time": "2021-10-01T14:50:22.556Z"
   },
   {
    "duration": 5,
    "start_time": "2021-10-01T14:50:23.828Z"
   },
   {
    "duration": 862,
    "start_time": "2021-10-01T14:50:27.348Z"
   },
   {
    "duration": 5,
    "start_time": "2021-10-01T14:50:28.213Z"
   },
   {
    "duration": 1159,
    "start_time": "2021-10-01T14:50:51.756Z"
   },
   {
    "duration": 5,
    "start_time": "2021-10-01T14:50:53.571Z"
   },
   {
    "duration": 7,
    "start_time": "2021-10-01T15:00:48.855Z"
   },
   {
    "duration": 1119,
    "start_time": "2021-10-01T15:00:48.864Z"
   },
   {
    "duration": 3,
    "start_time": "2021-10-01T15:00:49.986Z"
   },
   {
    "duration": 828,
    "start_time": "2021-10-01T15:00:49.992Z"
   },
   {
    "duration": 3,
    "start_time": "2021-10-01T15:00:50.823Z"
   },
   {
    "duration": 7,
    "start_time": "2021-10-01T15:00:50.829Z"
   },
   {
    "duration": 22,
    "start_time": "2021-10-01T15:00:50.839Z"
   },
   {
    "duration": 31,
    "start_time": "2021-10-01T15:00:50.865Z"
   },
   {
    "duration": 8,
    "start_time": "2021-10-01T15:00:50.899Z"
   },
   {
    "duration": 23,
    "start_time": "2021-10-01T15:00:50.909Z"
   },
   {
    "duration": 27,
    "start_time": "2021-10-01T15:00:50.935Z"
   },
   {
    "duration": 6256,
    "start_time": "2021-10-01T15:02:14.917Z"
   },
   {
    "duration": 1138,
    "start_time": "2021-10-01T15:02:21.175Z"
   },
   {
    "duration": 3,
    "start_time": "2021-10-01T15:02:22.316Z"
   },
   {
    "duration": 1678,
    "start_time": "2021-10-01T15:02:22.321Z"
   },
   {
    "duration": 3,
    "start_time": "2021-10-01T15:02:24.002Z"
   },
   {
    "duration": 16,
    "start_time": "2021-10-01T15:02:24.007Z"
   },
   {
    "duration": 10,
    "start_time": "2021-10-01T15:02:24.026Z"
   },
   {
    "duration": 23,
    "start_time": "2021-10-01T15:02:24.040Z"
   },
   {
    "duration": 7,
    "start_time": "2021-10-01T15:02:24.066Z"
   },
   {
    "duration": 16,
    "start_time": "2021-10-01T15:02:24.075Z"
   },
   {
    "duration": 7,
    "start_time": "2021-10-01T15:02:24.094Z"
   },
   {
    "duration": 162952,
    "start_time": "2021-10-01T15:02:24.104Z"
   },
   {
    "duration": 22100,
    "start_time": "2021-10-01T15:05:07.062Z"
   },
   {
    "duration": 21271,
    "start_time": "2021-10-01T15:05:29.165Z"
   },
   {
    "duration": 3,
    "start_time": "2021-10-01T15:05:50.438Z"
   },
   {
    "duration": 245,
    "start_time": "2021-10-01T15:05:50.443Z"
   },
   {
    "duration": 3,
    "start_time": "2021-10-01T15:05:50.690Z"
   },
   {
    "duration": 18,
    "start_time": "2021-10-01T15:05:50.695Z"
   },
   {
    "duration": 12,
    "start_time": "2021-10-01T15:05:50.715Z"
   },
   {
    "duration": 10,
    "start_time": "2021-10-01T15:05:50.729Z"
   },
   {
    "duration": 1377,
    "start_time": "2021-10-01T15:05:50.742Z"
   },
   {
    "duration": 13,
    "start_time": "2021-10-01T15:05:52.122Z"
   },
   {
    "duration": 1230,
    "start_time": "2021-10-01T15:05:52.139Z"
   },
   {
    "duration": 5,
    "start_time": "2021-10-01T15:05:53.373Z"
   },
   {
    "duration": 17,
    "start_time": "2021-10-01T15:05:53.381Z"
   },
   {
    "duration": 9,
    "start_time": "2021-10-01T15:05:53.400Z"
   },
   {
    "duration": 2976,
    "start_time": "2021-10-01T15:05:53.411Z"
   },
   {
    "duration": 5,
    "start_time": "2021-10-01T15:05:56.389Z"
   },
   {
    "duration": 15,
    "start_time": "2021-10-01T15:05:56.397Z"
   },
   {
    "duration": 5349,
    "start_time": "2021-10-01T15:05:56.414Z"
   },
   {
    "duration": 365,
    "start_time": "2021-10-01T15:06:01.765Z"
   },
   {
    "duration": 674,
    "start_time": "2021-10-01T15:06:02.133Z"
   },
   {
    "duration": 1527,
    "start_time": "2021-10-01T15:06:35.792Z"
   },
   {
    "duration": 6,
    "start_time": "2021-10-01T15:06:39.264Z"
   },
   {
    "duration": 999,
    "start_time": "2021-10-01T15:06:47.616Z"
   },
   {
    "duration": 16541,
    "start_time": "2021-10-01T15:06:32.077Z"
   },
   {
    "duration": 16535,
    "start_time": "2021-10-01T15:06:32.084Z"
   },
   {
    "duration": 7,
    "start_time": "2021-10-01T15:06:51.816Z"
   },
   {
    "duration": 1197,
    "start_time": "2021-10-01T15:06:51.826Z"
   },
   {
    "duration": 3,
    "start_time": "2021-10-01T15:06:53.026Z"
   },
   {
    "duration": 1016,
    "start_time": "2021-10-01T15:06:53.031Z"
   },
   {
    "duration": 3,
    "start_time": "2021-10-01T15:06:54.050Z"
   },
   {
    "duration": 12,
    "start_time": "2021-10-01T15:06:54.062Z"
   },
   {
    "duration": 9,
    "start_time": "2021-10-01T15:06:54.077Z"
   },
   {
    "duration": 23,
    "start_time": "2021-10-01T15:06:54.091Z"
   },
   {
    "duration": 16,
    "start_time": "2021-10-01T15:06:54.118Z"
   },
   {
    "duration": 11,
    "start_time": "2021-10-01T15:06:54.137Z"
   },
   {
    "duration": 25,
    "start_time": "2021-10-01T15:06:54.150Z"
   },
   {
    "duration": 37275,
    "start_time": "2021-10-01T15:06:54.178Z"
   },
   {
    "duration": 22916,
    "start_time": "2021-10-01T15:07:31.456Z"
   },
   {
    "duration": 22551,
    "start_time": "2021-10-01T15:07:54.374Z"
   },
   {
    "duration": 3,
    "start_time": "2021-10-01T15:08:16.928Z"
   },
   {
    "duration": 9,
    "start_time": "2021-10-01T15:08:16.933Z"
   },
   {
    "duration": 19,
    "start_time": "2021-10-01T15:08:16.944Z"
   },
   {
    "duration": 9,
    "start_time": "2021-10-01T15:08:16.966Z"
   },
   {
    "duration": 7,
    "start_time": "2021-10-01T15:08:16.978Z"
   },
   {
    "duration": 28,
    "start_time": "2021-10-01T15:08:16.988Z"
   },
   {
    "duration": 495,
    "start_time": "2021-10-01T15:08:17.019Z"
   },
   {
    "duration": 5,
    "start_time": "2021-10-01T15:08:17.517Z"
   },
   {
    "duration": 327,
    "start_time": "2021-10-01T15:08:17.527Z"
   },
   {
    "duration": 7,
    "start_time": "2021-10-01T15:08:17.857Z"
   },
   {
    "duration": 11,
    "start_time": "2021-10-01T15:08:17.866Z"
   },
   {
    "duration": 9,
    "start_time": "2021-10-01T15:08:17.879Z"
   },
   {
    "duration": 954,
    "start_time": "2021-10-01T15:08:17.890Z"
   },
   {
    "duration": 6,
    "start_time": "2021-10-01T15:08:18.846Z"
   },
   {
    "duration": 3,
    "start_time": "2021-10-01T15:08:18.861Z"
   },
   {
    "duration": 917,
    "start_time": "2021-10-01T15:08:18.867Z"
   },
   {
    "duration": 273,
    "start_time": "2021-10-01T15:08:19.788Z"
   },
   {
    "duration": 551,
    "start_time": "2021-10-01T15:08:20.064Z"
   },
   {
    "duration": 789,
    "start_time": "2021-10-01T15:10:12.173Z"
   },
   {
    "duration": 6085,
    "start_time": "2021-10-01T15:10:23.838Z"
   },
   {
    "duration": 1113,
    "start_time": "2021-10-01T15:10:29.925Z"
   },
   {
    "duration": 3,
    "start_time": "2021-10-01T15:10:31.041Z"
   },
   {
    "duration": 1631,
    "start_time": "2021-10-01T15:10:31.063Z"
   },
   {
    "duration": 4,
    "start_time": "2021-10-01T15:10:32.696Z"
   },
   {
    "duration": 11,
    "start_time": "2021-10-01T15:10:32.703Z"
   },
   {
    "duration": 7,
    "start_time": "2021-10-01T15:10:32.717Z"
   },
   {
    "duration": 46,
    "start_time": "2021-10-01T15:10:32.728Z"
   },
   {
    "duration": 8,
    "start_time": "2021-10-01T15:10:32.777Z"
   },
   {
    "duration": 11,
    "start_time": "2021-10-01T15:10:32.787Z"
   },
   {
    "duration": 34,
    "start_time": "2021-10-01T15:10:32.801Z"
   },
   {
    "duration": 211582,
    "start_time": "2021-10-01T15:10:32.837Z"
   },
   {
    "duration": 146416,
    "start_time": "2021-10-01T15:14:04.421Z"
   },
   {
    "duration": 131694,
    "start_time": "2021-10-01T15:16:30.840Z"
   },
   {
    "duration": 2,
    "start_time": "2021-10-01T15:18:42.537Z"
   },
   {
    "duration": 230,
    "start_time": "2021-10-01T15:18:42.542Z"
   },
   {
    "duration": 3,
    "start_time": "2021-10-01T15:18:42.774Z"
   },
   {
    "duration": 8,
    "start_time": "2021-10-01T15:18:42.779Z"
   },
   {
    "duration": 7,
    "start_time": "2021-10-01T15:18:42.790Z"
   },
   {
    "duration": 11,
    "start_time": "2021-10-01T15:18:42.799Z"
   },
   {
    "duration": 2677,
    "start_time": "2021-10-01T15:18:42.813Z"
   },
   {
    "duration": 13,
    "start_time": "2021-10-01T15:18:45.492Z"
   },
   {
    "duration": 5053,
    "start_time": "2021-10-01T15:18:45.509Z"
   },
   {
    "duration": 5,
    "start_time": "2021-10-01T15:18:50.564Z"
   },
   {
    "duration": 17,
    "start_time": "2021-10-01T15:18:50.571Z"
   },
   {
    "duration": 21,
    "start_time": "2021-10-01T15:18:50.591Z"
   },
   {
    "duration": 5386,
    "start_time": "2021-10-01T15:18:50.614Z"
   },
   {
    "duration": 5,
    "start_time": "2021-10-01T15:18:56.003Z"
   },
   {
    "duration": 10,
    "start_time": "2021-10-01T15:18:56.010Z"
   },
   {
    "duration": 7142,
    "start_time": "2021-10-01T15:18:56.022Z"
   },
   {
    "duration": 467,
    "start_time": "2021-10-01T15:19:03.167Z"
   },
   {
    "duration": 2482,
    "start_time": "2021-10-01T15:19:03.637Z"
   },
   {
    "duration": 5862,
    "start_time": "2021-10-01T15:27:35.057Z"
   },
   {
    "duration": 1110,
    "start_time": "2021-10-01T15:27:40.922Z"
   },
   {
    "duration": 3,
    "start_time": "2021-10-01T15:27:42.035Z"
   },
   {
    "duration": 1607,
    "start_time": "2021-10-01T15:27:42.040Z"
   },
   {
    "duration": 3,
    "start_time": "2021-10-01T15:27:43.649Z"
   },
   {
    "duration": 4,
    "start_time": "2021-10-01T15:27:43.662Z"
   },
   {
    "duration": 19,
    "start_time": "2021-10-01T15:27:43.669Z"
   },
   {
    "duration": 35,
    "start_time": "2021-10-01T15:27:43.692Z"
   },
   {
    "duration": 8,
    "start_time": "2021-10-01T15:27:43.730Z"
   },
   {
    "duration": 25,
    "start_time": "2021-10-01T15:27:43.741Z"
   },
   {
    "duration": 42,
    "start_time": "2021-10-01T15:27:43.769Z"
   },
   {
    "duration": 364308,
    "start_time": "2021-10-01T15:27:43.814Z"
   },
   {
    "duration": 235669,
    "start_time": "2021-10-01T15:33:48.125Z"
   },
   {
    "duration": 246890,
    "start_time": "2021-10-01T15:37:43.797Z"
   },
   {
    "duration": 3,
    "start_time": "2021-10-01T15:41:50.689Z"
   },
   {
    "duration": 215,
    "start_time": "2021-10-01T15:41:50.694Z"
   },
   {
    "duration": 3,
    "start_time": "2021-10-01T15:41:50.911Z"
   },
   {
    "duration": 11,
    "start_time": "2021-10-01T15:41:50.916Z"
   },
   {
    "duration": 17,
    "start_time": "2021-10-01T15:41:50.930Z"
   },
   {
    "duration": 19,
    "start_time": "2021-10-01T15:41:50.949Z"
   },
   {
    "duration": 4051,
    "start_time": "2021-10-01T15:41:50.971Z"
   },
   {
    "duration": 13,
    "start_time": "2021-10-01T15:41:55.024Z"
   },
   {
    "duration": 14006,
    "start_time": "2021-10-01T15:41:55.042Z"
   },
   {
    "duration": 12,
    "start_time": "2021-10-01T15:42:09.051Z"
   },
   {
    "duration": 5,
    "start_time": "2021-10-01T15:42:09.065Z"
   },
   {
    "duration": 8,
    "start_time": "2021-10-01T15:42:09.072Z"
   },
   {
    "duration": 9114,
    "start_time": "2021-10-01T15:42:09.083Z"
   },
   {
    "duration": 5,
    "start_time": "2021-10-01T15:42:18.200Z"
   },
   {
    "duration": 10,
    "start_time": "2021-10-01T15:42:18.208Z"
   },
   {
    "duration": 13361,
    "start_time": "2021-10-01T15:42:18.221Z"
   },
   {
    "duration": 389,
    "start_time": "2021-10-01T15:42:31.663Z"
   },
   {
    "duration": 4738,
    "start_time": "2021-10-01T15:42:32.055Z"
   },
   {
    "duration": 73571,
    "start_time": "2021-10-01T15:44:10.202Z"
   },
   {
    "duration": 16534,
    "start_time": "2021-10-01T15:45:07.243Z"
   },
   {
    "duration": 4704,
    "start_time": "2021-10-01T15:48:24.934Z"
   },
   {
    "duration": 6,
    "start_time": "2021-10-01T15:48:30.486Z"
   },
   {
    "duration": 21802,
    "start_time": "2021-10-01T15:48:50.157Z"
   },
   {
    "duration": 21672,
    "start_time": "2021-10-01T15:49:19.214Z"
   },
   {
    "duration": 13072,
    "start_time": "2021-10-01T15:50:16.780Z"
   },
   {
    "duration": 10,
    "start_time": "2021-10-01T15:50:29.856Z"
   },
   {
    "duration": 3148,
    "start_time": "2021-10-01T15:51:24.898Z"
   },
   {
    "duration": 6548,
    "start_time": "2021-10-01T15:53:22.035Z"
   },
   {
    "duration": 1134,
    "start_time": "2021-10-01T15:53:28.586Z"
   },
   {
    "duration": 3,
    "start_time": "2021-10-01T15:53:29.723Z"
   },
   {
    "duration": 1711,
    "start_time": "2021-10-01T15:53:29.729Z"
   },
   {
    "duration": 3,
    "start_time": "2021-10-01T15:53:31.442Z"
   },
   {
    "duration": 9,
    "start_time": "2021-10-01T15:53:31.448Z"
   },
   {
    "duration": 6,
    "start_time": "2021-10-01T15:53:31.462Z"
   },
   {
    "duration": 23,
    "start_time": "2021-10-01T15:53:31.472Z"
   },
   {
    "duration": 7,
    "start_time": "2021-10-01T15:53:31.498Z"
   },
   {
    "duration": 5,
    "start_time": "2021-10-01T15:53:31.508Z"
   },
   {
    "duration": 70,
    "start_time": "2021-10-01T15:53:31.515Z"
   },
   {
    "duration": 6453,
    "start_time": "2021-10-01T15:58:30.355Z"
   },
   {
    "duration": 1114,
    "start_time": "2021-10-01T15:58:36.811Z"
   },
   {
    "duration": 4,
    "start_time": "2021-10-01T15:58:37.929Z"
   },
   {
    "duration": 1649,
    "start_time": "2021-10-01T15:58:37.936Z"
   },
   {
    "duration": 4,
    "start_time": "2021-10-01T15:58:39.588Z"
   },
   {
    "duration": 17,
    "start_time": "2021-10-01T15:58:39.595Z"
   },
   {
    "duration": 19,
    "start_time": "2021-10-01T15:58:39.615Z"
   },
   {
    "duration": 33,
    "start_time": "2021-10-01T15:58:39.639Z"
   },
   {
    "duration": 9,
    "start_time": "2021-10-01T15:58:39.676Z"
   },
   {
    "duration": 6,
    "start_time": "2021-10-01T15:58:39.687Z"
   },
   {
    "duration": 27,
    "start_time": "2021-10-01T15:58:39.695Z"
   },
   {
    "duration": 6295,
    "start_time": "2021-10-01T16:10:29.446Z"
   },
   {
    "duration": 1153,
    "start_time": "2021-10-01T16:10:35.744Z"
   },
   {
    "duration": 3,
    "start_time": "2021-10-01T16:10:36.900Z"
   },
   {
    "duration": 1938,
    "start_time": "2021-10-01T16:10:36.906Z"
   },
   {
    "duration": 3,
    "start_time": "2021-10-01T16:10:38.847Z"
   },
   {
    "duration": 10,
    "start_time": "2021-10-01T16:10:38.853Z"
   },
   {
    "duration": 17,
    "start_time": "2021-10-01T16:10:38.866Z"
   },
   {
    "duration": 21,
    "start_time": "2021-10-01T16:10:38.887Z"
   },
   {
    "duration": 8,
    "start_time": "2021-10-01T16:10:38.911Z"
   },
   {
    "duration": 6,
    "start_time": "2021-10-01T16:10:38.921Z"
   },
   {
    "duration": 58,
    "start_time": "2021-10-01T16:10:38.930Z"
   },
   {
    "duration": 3,
    "start_time": "2021-10-01T16:10:38.990Z"
   },
   {
    "duration": 118,
    "start_time": "2021-10-01T16:10:38.997Z"
   },
   {
    "duration": 16546,
    "start_time": "2021-10-01T16:10:22.573Z"
   },
   {
    "duration": 16547,
    "start_time": "2021-10-01T16:10:22.575Z"
   },
   {
    "duration": 16546,
    "start_time": "2021-10-01T16:10:22.578Z"
   },
   {
    "duration": 16545,
    "start_time": "2021-10-01T16:10:22.581Z"
   },
   {
    "duration": 16543,
    "start_time": "2021-10-01T16:10:22.585Z"
   },
   {
    "duration": 16543,
    "start_time": "2021-10-01T16:10:22.587Z"
   },
   {
    "duration": 16543,
    "start_time": "2021-10-01T16:10:22.589Z"
   },
   {
    "duration": 16537,
    "start_time": "2021-10-01T16:10:22.597Z"
   },
   {
    "duration": 16534,
    "start_time": "2021-10-01T16:10:22.602Z"
   },
   {
    "duration": 16534,
    "start_time": "2021-10-01T16:10:22.604Z"
   },
   {
    "duration": 16534,
    "start_time": "2021-10-01T16:10:22.606Z"
   },
   {
    "duration": 16532,
    "start_time": "2021-10-01T16:10:22.609Z"
   },
   {
    "duration": 16530,
    "start_time": "2021-10-01T16:10:22.612Z"
   },
   {
    "duration": 16528,
    "start_time": "2021-10-01T16:10:22.616Z"
   },
   {
    "duration": 16527,
    "start_time": "2021-10-01T16:10:22.618Z"
   },
   {
    "duration": 16526,
    "start_time": "2021-10-01T16:10:22.621Z"
   },
   {
    "duration": 16526,
    "start_time": "2021-10-01T16:10:22.623Z"
   },
   {
    "duration": 16524,
    "start_time": "2021-10-01T16:10:22.626Z"
   },
   {
    "duration": 16523,
    "start_time": "2021-10-01T16:10:22.628Z"
   },
   {
    "duration": 16523,
    "start_time": "2021-10-01T16:10:22.631Z"
   },
   {
    "duration": 850,
    "start_time": "2021-10-01T16:10:51.505Z"
   },
   {
    "duration": 164,
    "start_time": "2021-10-01T16:11:04.714Z"
   },
   {
    "duration": 208,
    "start_time": "2021-10-01T16:11:31.289Z"
   },
   {
    "duration": 6,
    "start_time": "2021-10-01T16:11:39.680Z"
   },
   {
    "duration": 203892,
    "start_time": "2021-10-01T16:11:43.624Z"
   },
   {
    "duration": 6035,
    "start_time": "2021-10-01T16:16:28.706Z"
   },
   {
    "duration": 1135,
    "start_time": "2021-10-01T16:16:34.744Z"
   },
   {
    "duration": 4,
    "start_time": "2021-10-01T16:16:35.883Z"
   },
   {
    "duration": 2277,
    "start_time": "2021-10-01T16:16:35.891Z"
   },
   {
    "duration": 3,
    "start_time": "2021-10-01T16:16:38.170Z"
   },
   {
    "duration": 18,
    "start_time": "2021-10-01T16:16:38.176Z"
   },
   {
    "duration": 29,
    "start_time": "2021-10-01T16:16:38.196Z"
   },
   {
    "duration": 26,
    "start_time": "2021-10-01T16:16:38.229Z"
   },
   {
    "duration": 23,
    "start_time": "2021-10-01T16:16:38.258Z"
   },
   {
    "duration": 27,
    "start_time": "2021-10-01T16:16:38.283Z"
   },
   {
    "duration": 40,
    "start_time": "2021-10-01T16:16:38.313Z"
   },
   {
    "duration": 6,
    "start_time": "2021-10-01T16:16:38.355Z"
   },
   {
    "duration": 152279,
    "start_time": "2021-10-01T16:16:38.364Z"
   },
   {
    "duration": 6069,
    "start_time": "2021-10-01T16:19:58.510Z"
   },
   {
    "duration": 1124,
    "start_time": "2021-10-01T16:20:04.582Z"
   },
   {
    "duration": 3,
    "start_time": "2021-10-01T16:20:05.709Z"
   },
   {
    "duration": 1889,
    "start_time": "2021-10-01T16:20:05.715Z"
   },
   {
    "duration": 3,
    "start_time": "2021-10-01T16:20:07.607Z"
   },
   {
    "duration": 13,
    "start_time": "2021-10-01T16:20:07.613Z"
   },
   {
    "duration": 8,
    "start_time": "2021-10-01T16:20:07.628Z"
   },
   {
    "duration": 36,
    "start_time": "2021-10-01T16:20:07.639Z"
   },
   {
    "duration": 8,
    "start_time": "2021-10-01T16:20:07.679Z"
   },
   {
    "duration": 14,
    "start_time": "2021-10-01T16:20:07.689Z"
   },
   {
    "duration": 42,
    "start_time": "2021-10-01T16:20:07.705Z"
   },
   {
    "duration": 3,
    "start_time": "2021-10-01T16:20:07.750Z"
   },
   {
    "duration": 6172,
    "start_time": "2021-10-01T16:34:47.435Z"
   },
   {
    "duration": 1106,
    "start_time": "2021-10-01T16:34:53.610Z"
   },
   {
    "duration": 3,
    "start_time": "2021-10-01T16:34:54.719Z"
   },
   {
    "duration": 1579,
    "start_time": "2021-10-01T16:34:54.725Z"
   },
   {
    "duration": 4,
    "start_time": "2021-10-01T16:34:56.307Z"
   },
   {
    "duration": 10,
    "start_time": "2021-10-01T16:34:56.314Z"
   },
   {
    "duration": 5,
    "start_time": "2021-10-01T16:34:56.327Z"
   },
   {
    "duration": 15,
    "start_time": "2021-10-01T16:34:56.361Z"
   },
   {
    "duration": 8,
    "start_time": "2021-10-01T16:34:56.379Z"
   },
   {
    "duration": 6,
    "start_time": "2021-10-01T16:34:56.390Z"
   },
   {
    "duration": 22,
    "start_time": "2021-10-01T16:34:56.398Z"
   },
   {
    "duration": 3,
    "start_time": "2021-10-01T16:34:56.423Z"
   },
   {
    "duration": 102413,
    "start_time": "2021-10-01T16:34:56.461Z"
   },
   {
    "duration": 64063,
    "start_time": "2021-10-01T16:36:38.876Z"
   },
   {
    "duration": 62009,
    "start_time": "2021-10-01T16:37:42.942Z"
   },
   {
    "duration": 10,
    "start_time": "2021-10-01T16:38:44.954Z"
   },
   {
    "duration": 203,
    "start_time": "2021-10-01T16:38:44.967Z"
   },
   {
    "duration": 4,
    "start_time": "2021-10-01T16:38:45.173Z"
   },
   {
    "duration": 6,
    "start_time": "2021-10-01T16:38:45.180Z"
   },
   {
    "duration": 9,
    "start_time": "2021-10-01T16:38:45.189Z"
   },
   {
    "duration": 7,
    "start_time": "2021-10-01T16:38:45.200Z"
   },
   {
    "duration": 9867,
    "start_time": "2021-10-01T16:38:45.210Z"
   },
   {
    "duration": 12,
    "start_time": "2021-10-01T16:38:55.082Z"
   },
   {
    "duration": 4,
    "start_time": "2021-10-01T16:38:55.097Z"
   },
   {
    "duration": 6,
    "start_time": "2021-10-01T16:38:55.104Z"
   },
   {
    "duration": 6,
    "start_time": "2021-10-01T16:38:55.112Z"
   },
   {
    "duration": 6,
    "start_time": "2021-10-01T16:38:55.121Z"
   },
   {
    "duration": 2423,
    "start_time": "2021-10-01T16:38:55.130Z"
   },
   {
    "duration": 6,
    "start_time": "2021-10-01T16:38:57.556Z"
   },
   {
    "duration": 13,
    "start_time": "2021-10-01T16:38:57.565Z"
   },
   {
    "duration": 3091,
    "start_time": "2021-10-01T16:38:57.580Z"
   },
   {
    "duration": 398,
    "start_time": "2021-10-01T16:39:00.674Z"
   },
   {
    "duration": 1265,
    "start_time": "2021-10-01T16:39:01.074Z"
   },
   {
    "duration": 5973,
    "start_time": "2021-10-01T16:40:44.037Z"
   },
   {
    "duration": 1115,
    "start_time": "2021-10-01T16:40:50.013Z"
   },
   {
    "duration": 3,
    "start_time": "2021-10-01T16:40:51.131Z"
   },
   {
    "duration": 1608,
    "start_time": "2021-10-01T16:40:51.136Z"
   },
   {
    "duration": 3,
    "start_time": "2021-10-01T16:40:52.747Z"
   },
   {
    "duration": 16,
    "start_time": "2021-10-01T16:40:52.752Z"
   },
   {
    "duration": 10,
    "start_time": "2021-10-01T16:40:52.771Z"
   },
   {
    "duration": 19,
    "start_time": "2021-10-01T16:40:52.785Z"
   },
   {
    "duration": 8,
    "start_time": "2021-10-01T16:40:52.807Z"
   },
   {
    "duration": 6,
    "start_time": "2021-10-01T16:40:52.817Z"
   },
   {
    "duration": 52,
    "start_time": "2021-10-01T16:40:52.825Z"
   },
   {
    "duration": 3,
    "start_time": "2021-10-01T16:40:52.879Z"
   },
   {
    "duration": 108585,
    "start_time": "2021-10-01T16:40:52.884Z"
   },
   {
    "duration": 15095,
    "start_time": "2021-10-01T16:42:41.471Z"
   },
   {
    "duration": 4959,
    "start_time": "2021-10-01T18:24:39.342Z"
   },
   {
    "duration": 1020,
    "start_time": "2021-10-01T18:24:44.303Z"
   },
   {
    "duration": 2,
    "start_time": "2021-10-01T18:24:45.325Z"
   },
   {
    "duration": 1310,
    "start_time": "2021-10-01T18:24:45.329Z"
   },
   {
    "duration": 2,
    "start_time": "2021-10-01T18:24:46.641Z"
   },
   {
    "duration": 16,
    "start_time": "2021-10-01T18:24:46.649Z"
   },
   {
    "duration": 24,
    "start_time": "2021-10-01T18:24:46.667Z"
   },
   {
    "duration": 27,
    "start_time": "2021-10-01T18:24:46.693Z"
   },
   {
    "duration": 21,
    "start_time": "2021-10-01T18:24:46.723Z"
   },
   {
    "duration": 14,
    "start_time": "2021-10-01T18:24:46.746Z"
   },
   {
    "duration": 38,
    "start_time": "2021-10-01T18:24:46.763Z"
   },
   {
    "duration": 8,
    "start_time": "2021-10-01T18:24:46.803Z"
   },
   {
    "duration": 89353,
    "start_time": "2021-10-01T18:24:46.812Z"
   },
   {
    "duration": 10431,
    "start_time": "2021-10-01T18:26:16.167Z"
   },
   {
    "duration": 11286,
    "start_time": "2021-10-01T18:26:26.600Z"
   },
   {
    "duration": 3,
    "start_time": "2021-10-01T18:26:37.888Z"
   },
   {
    "duration": 246,
    "start_time": "2021-10-01T18:26:37.892Z"
   },
   {
    "duration": 2,
    "start_time": "2021-10-01T18:26:38.140Z"
   },
   {
    "duration": 5,
    "start_time": "2021-10-01T18:26:38.144Z"
   },
   {
    "duration": 4,
    "start_time": "2021-10-01T18:26:38.151Z"
   },
   {
    "duration": 4,
    "start_time": "2021-10-01T18:26:38.157Z"
   },
   {
    "duration": 14318,
    "start_time": "2021-10-01T18:26:38.163Z"
   },
   {
    "duration": 8,
    "start_time": "2021-10-01T18:26:52.483Z"
   },
   {
    "duration": 6,
    "start_time": "2021-10-01T18:26:52.493Z"
   },
   {
    "duration": 4,
    "start_time": "2021-10-01T18:26:52.501Z"
   },
   {
    "duration": 5,
    "start_time": "2021-10-01T18:26:52.507Z"
   },
   {
    "duration": 3,
    "start_time": "2021-10-01T18:26:52.515Z"
   },
   {
    "duration": 1550,
    "start_time": "2021-10-01T18:26:52.521Z"
   },
   {
    "duration": 4,
    "start_time": "2021-10-01T18:26:54.075Z"
   },
   {
    "duration": 5,
    "start_time": "2021-10-01T18:26:54.081Z"
   },
   {
    "duration": 2766,
    "start_time": "2021-10-01T18:26:54.088Z"
   },
   {
    "duration": 285,
    "start_time": "2021-10-01T18:26:56.855Z"
   },
   {
    "duration": 369,
    "start_time": "2021-10-01T18:26:57.142Z"
   },
   {
    "duration": 30,
    "start_time": "2021-10-01T18:32:19.288Z"
   },
   {
    "duration": 649,
    "start_time": "2021-10-01T18:39:52.063Z"
   },
   {
    "duration": 4,
    "start_time": "2021-10-01T18:39:56.262Z"
   },
   {
    "duration": 247,
    "start_time": "2021-10-01T18:39:58.933Z"
   },
   {
    "duration": 2353,
    "start_time": "2021-10-01T18:40:30.582Z"
   },
   {
    "duration": 787,
    "start_time": "2021-10-01T18:42:08.665Z"
   },
   {
    "duration": 7,
    "start_time": "2021-10-01T18:42:18.313Z"
   },
   {
    "duration": 6,
    "start_time": "2021-10-01T18:42:20.537Z"
   },
   {
    "duration": 816,
    "start_time": "2021-10-01T18:42:29.224Z"
   },
   {
    "duration": 529,
    "start_time": "2021-10-01T19:04:13.188Z"
   },
   {
    "duration": 612,
    "start_time": "2021-10-01T19:04:31.795Z"
   },
   {
    "duration": 545,
    "start_time": "2021-10-01T19:05:23.089Z"
   },
   {
    "duration": 194,
    "start_time": "2021-10-01T19:05:29.974Z"
   },
   {
    "duration": 5148,
    "start_time": "2021-10-01T19:05:47.453Z"
   },
   {
    "duration": 979,
    "start_time": "2021-10-01T19:05:52.603Z"
   },
   {
    "duration": 2,
    "start_time": "2021-10-01T19:05:53.585Z"
   },
   {
    "duration": 9,
    "start_time": "2021-10-01T19:05:53.589Z"
   },
   {
    "duration": 2621,
    "start_time": "2021-10-01T19:05:53.600Z"
   },
   {
    "duration": 2,
    "start_time": "2021-10-01T19:05:56.223Z"
   },
   {
    "duration": 6,
    "start_time": "2021-10-01T19:05:56.227Z"
   },
   {
    "duration": 14,
    "start_time": "2021-10-01T19:05:56.235Z"
   },
   {
    "duration": 20,
    "start_time": "2021-10-01T19:05:56.255Z"
   },
   {
    "duration": 5,
    "start_time": "2021-10-01T19:05:56.277Z"
   },
   {
    "duration": 5,
    "start_time": "2021-10-01T19:05:56.284Z"
   },
   {
    "duration": 19,
    "start_time": "2021-10-01T19:05:56.291Z"
   },
   {
    "duration": 3,
    "start_time": "2021-10-01T19:05:56.312Z"
   },
   {
    "duration": 245,
    "start_time": "2021-10-01T19:05:56.316Z"
   },
   {
    "duration": 32,
    "start_time": "2021-10-01T19:05:56.563Z"
   },
   {
    "duration": 51,
    "start_time": "2021-10-01T19:05:56.598Z"
   },
   {
    "duration": 3,
    "start_time": "2021-10-01T19:05:56.658Z"
   },
   {
    "duration": 33,
    "start_time": "2021-10-01T19:05:56.663Z"
   },
   {
    "duration": 466,
    "start_time": "2021-10-01T19:05:56.698Z"
   },
   {
    "duration": 2,
    "start_time": "2021-10-01T19:05:57.165Z"
   },
   {
    "duration": 6,
    "start_time": "2021-10-01T19:05:57.169Z"
   },
   {
    "duration": 5,
    "start_time": "2021-10-01T19:05:57.177Z"
   },
   {
    "duration": 5,
    "start_time": "2021-10-01T19:05:57.184Z"
   },
   {
    "duration": 772,
    "start_time": "2021-10-01T19:05:57.191Z"
   },
   {
    "duration": -13377,
    "start_time": "2021-10-01T19:06:11.343Z"
   },
   {
    "duration": -13379,
    "start_time": "2021-10-01T19:06:11.346Z"
   },
   {
    "duration": -13392,
    "start_time": "2021-10-01T19:06:11.360Z"
   },
   {
    "duration": -13406,
    "start_time": "2021-10-01T19:06:11.375Z"
   },
   {
    "duration": -13421,
    "start_time": "2021-10-01T19:06:11.391Z"
   },
   {
    "duration": -13460,
    "start_time": "2021-10-01T19:06:11.431Z"
   },
   {
    "duration": -13472,
    "start_time": "2021-10-01T19:06:11.444Z"
   },
   {
    "duration": -13471,
    "start_time": "2021-10-01T19:06:11.447Z"
   },
   {
    "duration": -13472,
    "start_time": "2021-10-01T19:06:11.449Z"
   },
   {
    "duration": -13475,
    "start_time": "2021-10-01T19:06:11.453Z"
   },
   {
    "duration": -13481,
    "start_time": "2021-10-01T19:06:11.460Z"
   },
   {
    "duration": 1533,
    "start_time": "2021-10-01T19:06:51.741Z"
   },
   {
    "duration": 8,
    "start_time": "2021-10-01T19:06:54.405Z"
   },
   {
    "duration": 1679,
    "start_time": "2021-10-01T19:07:01.334Z"
   },
   {
    "duration": 4,
    "start_time": "2021-10-01T19:07:03.015Z"
   },
   {
    "duration": 4,
    "start_time": "2021-10-01T19:07:03.021Z"
   },
   {
    "duration": 5940,
    "start_time": "2021-10-01T19:07:03.027Z"
   },
   {
    "duration": 285,
    "start_time": "2021-10-01T19:07:08.969Z"
   },
   {
    "duration": 363,
    "start_time": "2021-10-01T19:07:09.256Z"
   },
   {
    "duration": 4945,
    "start_time": "2021-10-01T19:07:37.896Z"
   },
   {
    "duration": 1181,
    "start_time": "2021-10-01T19:07:42.844Z"
   },
   {
    "duration": 2,
    "start_time": "2021-10-01T19:07:44.028Z"
   },
   {
    "duration": 6,
    "start_time": "2021-10-01T19:07:44.032Z"
   },
   {
    "duration": 2841,
    "start_time": "2021-10-01T19:07:44.057Z"
   },
   {
    "duration": 2,
    "start_time": "2021-10-01T19:07:46.900Z"
   },
   {
    "duration": 8,
    "start_time": "2021-10-01T19:07:46.904Z"
   },
   {
    "duration": 7,
    "start_time": "2021-10-01T19:07:46.914Z"
   },
   {
    "duration": 49,
    "start_time": "2021-10-01T19:07:46.923Z"
   },
   {
    "duration": 6,
    "start_time": "2021-10-01T19:07:46.974Z"
   },
   {
    "duration": 5,
    "start_time": "2021-10-01T19:07:46.981Z"
   },
   {
    "duration": 44,
    "start_time": "2021-10-01T19:07:46.987Z"
   },
   {
    "duration": 3,
    "start_time": "2021-10-01T19:07:47.033Z"
   },
   {
    "duration": 848,
    "start_time": "2021-10-01T19:07:47.037Z"
   },
   {
    "duration": 127,
    "start_time": "2021-10-01T19:07:47.887Z"
   },
   {
    "duration": 133,
    "start_time": "2021-10-01T19:07:48.016Z"
   },
   {
    "duration": 3,
    "start_time": "2021-10-01T19:07:48.151Z"
   },
   {
    "duration": 129,
    "start_time": "2021-10-01T19:07:48.157Z"
   },
   {
    "duration": 473,
    "start_time": "2021-10-01T19:07:48.288Z"
   },
   {
    "duration": 2,
    "start_time": "2021-10-01T19:07:48.763Z"
   },
   {
    "duration": 5,
    "start_time": "2021-10-01T19:07:48.767Z"
   },
   {
    "duration": 7,
    "start_time": "2021-10-01T19:07:48.774Z"
   },
   {
    "duration": 3,
    "start_time": "2021-10-01T19:07:48.784Z"
   },
   {
    "duration": 5704,
    "start_time": "2021-10-01T19:07:48.788Z"
   },
   {
    "duration": 9,
    "start_time": "2021-10-01T19:07:54.495Z"
   },
   {
    "duration": 5,
    "start_time": "2021-10-01T19:07:54.506Z"
   },
   {
    "duration": 7,
    "start_time": "2021-10-01T19:07:54.513Z"
   },
   {
    "duration": 4,
    "start_time": "2021-10-01T19:07:54.521Z"
   },
   {
    "duration": 5,
    "start_time": "2021-10-01T19:07:54.527Z"
   },
   {
    "duration": 6080,
    "start_time": "2021-10-01T19:07:54.533Z"
   },
   {
    "duration": 4,
    "start_time": "2021-10-01T19:08:00.615Z"
   },
   {
    "duration": 8,
    "start_time": "2021-10-01T19:08:00.620Z"
   },
   {
    "duration": 26231,
    "start_time": "2021-10-01T19:08:00.630Z"
   },
   {
    "duration": 279,
    "start_time": "2021-10-01T19:08:26.866Z"
   },
   {
    "duration": 880,
    "start_time": "2021-10-01T19:08:27.149Z"
   },
   {
    "duration": 4,
    "start_time": "2021-10-01T19:10:01.374Z"
   },
   {
    "duration": 4,
    "start_time": "2021-10-01T19:10:36.717Z"
   },
   {
    "duration": 629,
    "start_time": "2021-10-01T19:11:05.389Z"
   },
   {
    "duration": 342,
    "start_time": "2021-10-01T19:11:10.118Z"
   },
   {
    "duration": 248,
    "start_time": "2021-10-01T19:12:35.063Z"
   },
   {
    "duration": 250,
    "start_time": "2021-10-01T19:12:42.767Z"
   },
   {
    "duration": 620,
    "start_time": "2021-10-01T19:17:41.491Z"
   },
   {
    "duration": 232,
    "start_time": "2021-10-01T19:17:46.853Z"
   },
   {
    "duration": 555,
    "start_time": "2021-10-01T19:18:00.633Z"
   },
   {
    "duration": 560,
    "start_time": "2021-10-01T19:18:05.034Z"
   },
   {
    "duration": 4,
    "start_time": "2021-10-01T19:18:09.971Z"
   },
   {
    "duration": 959,
    "start_time": "2021-10-01T19:18:09.978Z"
   },
   {
    "duration": 5,
    "start_time": "2021-10-01T19:18:10.948Z"
   },
   {
    "duration": 244,
    "start_time": "2021-10-01T19:18:10.962Z"
   },
   {
    "duration": -134,
    "start_time": "2021-10-01T19:18:11.343Z"
   },
   {
    "duration": -139,
    "start_time": "2021-10-01T19:18:11.349Z"
   },
   {
    "duration": -140,
    "start_time": "2021-10-01T19:18:11.351Z"
   },
   {
    "duration": -141,
    "start_time": "2021-10-01T19:18:11.353Z"
   },
   {
    "duration": -142,
    "start_time": "2021-10-01T19:18:11.355Z"
   },
   {
    "duration": -143,
    "start_time": "2021-10-01T19:18:11.357Z"
   },
   {
    "duration": -144,
    "start_time": "2021-10-01T19:18:11.359Z"
   },
   {
    "duration": -144,
    "start_time": "2021-10-01T19:18:11.361Z"
   },
   {
    "duration": -174,
    "start_time": "2021-10-01T19:18:11.392Z"
   },
   {
    "duration": -176,
    "start_time": "2021-10-01T19:18:11.395Z"
   },
   {
    "duration": -177,
    "start_time": "2021-10-01T19:18:11.397Z"
   },
   {
    "duration": -178,
    "start_time": "2021-10-01T19:18:11.399Z"
   },
   {
    "duration": -179,
    "start_time": "2021-10-01T19:18:11.401Z"
   },
   {
    "duration": -181,
    "start_time": "2021-10-01T19:18:11.403Z"
   },
   {
    "duration": -182,
    "start_time": "2021-10-01T19:18:11.405Z"
   },
   {
    "duration": -183,
    "start_time": "2021-10-01T19:18:11.407Z"
   },
   {
    "duration": -184,
    "start_time": "2021-10-01T19:18:11.409Z"
   },
   {
    "duration": -185,
    "start_time": "2021-10-01T19:18:11.411Z"
   },
   {
    "duration": -187,
    "start_time": "2021-10-01T19:18:11.414Z"
   },
   {
    "duration": -189,
    "start_time": "2021-10-01T19:18:11.417Z"
   },
   {
    "duration": -190,
    "start_time": "2021-10-01T19:18:11.419Z"
   },
   {
    "duration": -191,
    "start_time": "2021-10-01T19:18:11.421Z"
   },
   {
    "duration": -192,
    "start_time": "2021-10-01T19:18:11.423Z"
   },
   {
    "duration": -194,
    "start_time": "2021-10-01T19:18:11.426Z"
   },
   {
    "duration": -195,
    "start_time": "2021-10-01T19:18:11.428Z"
   },
   {
    "duration": -197,
    "start_time": "2021-10-01T19:18:11.431Z"
   },
   {
    "duration": -205,
    "start_time": "2021-10-01T19:18:11.440Z"
   },
   {
    "duration": -207,
    "start_time": "2021-10-01T19:18:11.443Z"
   },
   {
    "duration": -209,
    "start_time": "2021-10-01T19:18:11.445Z"
   },
   {
    "duration": -208,
    "start_time": "2021-10-01T19:18:11.447Z"
   },
   {
    "duration": -209,
    "start_time": "2021-10-01T19:18:11.449Z"
   },
   {
    "duration": 4866,
    "start_time": "2021-10-01T19:18:24.708Z"
   },
   {
    "duration": 999,
    "start_time": "2021-10-01T19:18:29.577Z"
   },
   {
    "duration": 3,
    "start_time": "2021-10-01T19:18:30.578Z"
   },
   {
    "duration": 656,
    "start_time": "2021-10-01T19:18:30.584Z"
   },
   {
    "duration": -115,
    "start_time": "2021-10-01T19:18:31.358Z"
   },
   {
    "duration": -117,
    "start_time": "2021-10-01T19:18:31.361Z"
   },
   {
    "duration": -135,
    "start_time": "2021-10-01T19:18:31.380Z"
   },
   {
    "duration": -139,
    "start_time": "2021-10-01T19:18:31.385Z"
   },
   {
    "duration": -139,
    "start_time": "2021-10-01T19:18:31.386Z"
   },
   {
    "duration": -140,
    "start_time": "2021-10-01T19:18:31.388Z"
   },
   {
    "duration": -144,
    "start_time": "2021-10-01T19:18:31.393Z"
   },
   {
    "duration": -149,
    "start_time": "2021-10-01T19:18:31.399Z"
   },
   {
    "duration": -149,
    "start_time": "2021-10-01T19:18:31.401Z"
   },
   {
    "duration": -155,
    "start_time": "2021-10-01T19:18:31.408Z"
   },
   {
    "duration": -156,
    "start_time": "2021-10-01T19:18:31.410Z"
   },
   {
    "duration": -156,
    "start_time": "2021-10-01T19:18:31.412Z"
   },
   {
    "duration": -158,
    "start_time": "2021-10-01T19:18:31.415Z"
   },
   {
    "duration": -161,
    "start_time": "2021-10-01T19:18:31.419Z"
   },
   {
    "duration": -161,
    "start_time": "2021-10-01T19:18:31.420Z"
   },
   {
    "duration": -162,
    "start_time": "2021-10-01T19:18:31.422Z"
   },
   {
    "duration": -164,
    "start_time": "2021-10-01T19:18:31.425Z"
   },
   {
    "duration": -165,
    "start_time": "2021-10-01T19:18:31.427Z"
   },
   {
    "duration": -166,
    "start_time": "2021-10-01T19:18:31.429Z"
   },
   {
    "duration": -169,
    "start_time": "2021-10-01T19:18:31.433Z"
   },
   {
    "duration": -170,
    "start_time": "2021-10-01T19:18:31.435Z"
   },
   {
    "duration": -172,
    "start_time": "2021-10-01T19:18:31.438Z"
   },
   {
    "duration": -174,
    "start_time": "2021-10-01T19:18:31.440Z"
   },
   {
    "duration": -183,
    "start_time": "2021-10-01T19:18:31.450Z"
   },
   {
    "duration": -184,
    "start_time": "2021-10-01T19:18:31.452Z"
   },
   {
    "duration": -185,
    "start_time": "2021-10-01T19:18:31.454Z"
   },
   {
    "duration": -187,
    "start_time": "2021-10-01T19:18:31.457Z"
   },
   {
    "duration": -189,
    "start_time": "2021-10-01T19:18:31.460Z"
   },
   {
    "duration": -190,
    "start_time": "2021-10-01T19:18:31.462Z"
   },
   {
    "duration": -191,
    "start_time": "2021-10-01T19:18:31.464Z"
   },
   {
    "duration": -192,
    "start_time": "2021-10-01T19:18:31.466Z"
   },
   {
    "duration": 4,
    "start_time": "2021-10-01T19:18:39.191Z"
   },
   {
    "duration": 2968,
    "start_time": "2021-10-01T19:18:40.140Z"
   },
   {
    "duration": 10,
    "start_time": "2021-10-01T19:18:43.110Z"
   },
   {
    "duration": 5,
    "start_time": "2021-10-01T19:18:43.123Z"
   },
   {
    "duration": 6,
    "start_time": "2021-10-01T19:18:43.131Z"
   },
   {
    "duration": 44,
    "start_time": "2021-10-01T19:18:43.153Z"
   },
   {
    "duration": 7,
    "start_time": "2021-10-01T19:18:43.199Z"
   },
   {
    "duration": 4,
    "start_time": "2021-10-01T19:18:43.208Z"
   },
   {
    "duration": 65,
    "start_time": "2021-10-01T19:18:43.214Z"
   },
   {
    "duration": 2,
    "start_time": "2021-10-01T19:18:43.281Z"
   },
   {
    "duration": 4337,
    "start_time": "2021-10-01T19:18:43.285Z"
   },
   {
    "duration": 799,
    "start_time": "2021-10-01T19:19:01.728Z"
   },
   {
    "duration": 5,
    "start_time": "2021-10-01T19:19:03.251Z"
   },
   {
    "duration": 3,
    "start_time": "2021-10-01T19:19:03.282Z"
   },
   {
    "duration": 3,
    "start_time": "2021-10-01T19:19:03.306Z"
   },
   {
    "duration": 33,
    "start_time": "2021-10-01T19:19:03.377Z"
   },
   {
    "duration": 6,
    "start_time": "2021-10-01T19:19:03.425Z"
   },
   {
    "duration": 5,
    "start_time": "2021-10-01T19:19:03.458Z"
   },
   {
    "duration": 39,
    "start_time": "2021-10-01T19:19:03.479Z"
   },
   {
    "duration": 2,
    "start_time": "2021-10-01T19:19:03.522Z"
   },
   {
    "duration": 3982,
    "start_time": "2021-10-01T19:19:03.557Z"
   },
   {
    "duration": 123,
    "start_time": "2021-10-01T19:19:07.541Z"
   },
   {
    "duration": 130,
    "start_time": "2021-10-01T19:19:07.666Z"
   },
   {
    "duration": 2,
    "start_time": "2021-10-01T19:19:07.798Z"
   },
   {
    "duration": 4857,
    "start_time": "2021-10-01T19:19:42.170Z"
   },
   {
    "duration": 990,
    "start_time": "2021-10-01T19:19:47.029Z"
   },
   {
    "duration": 2,
    "start_time": "2021-10-01T19:19:48.021Z"
   },
   {
    "duration": 6,
    "start_time": "2021-10-01T19:19:48.025Z"
   },
   {
    "duration": 2904,
    "start_time": "2021-10-01T19:19:48.033Z"
   },
   {
    "duration": 2,
    "start_time": "2021-10-01T19:19:50.939Z"
   },
   {
    "duration": 9,
    "start_time": "2021-10-01T19:19:50.942Z"
   },
   {
    "duration": 15,
    "start_time": "2021-10-01T19:19:50.954Z"
   },
   {
    "duration": 31,
    "start_time": "2021-10-01T19:19:50.972Z"
   },
   {
    "duration": 6,
    "start_time": "2021-10-01T19:19:51.005Z"
   },
   {
    "duration": 4,
    "start_time": "2021-10-01T19:19:51.014Z"
   },
   {
    "duration": 63,
    "start_time": "2021-10-01T19:19:51.020Z"
   },
   {
    "duration": 2,
    "start_time": "2021-10-01T19:19:51.085Z"
   },
   {
    "duration": 138,
    "start_time": "2021-10-01T19:19:51.089Z"
   },
   {
    "duration": 137,
    "start_time": "2021-10-01T19:19:51.230Z"
   },
   {
    "duration": 130,
    "start_time": "2021-10-01T19:19:51.369Z"
   },
   {
    "duration": 2,
    "start_time": "2021-10-01T19:19:51.501Z"
   },
   {
    "duration": 16,
    "start_time": "2021-10-01T19:19:51.505Z"
   },
   {
    "duration": 456,
    "start_time": "2021-10-01T19:19:51.523Z"
   },
   {
    "duration": 2,
    "start_time": "2021-10-01T19:19:51.981Z"
   },
   {
    "duration": 16,
    "start_time": "2021-10-01T19:19:51.985Z"
   },
   {
    "duration": 8,
    "start_time": "2021-10-01T19:19:52.003Z"
   },
   {
    "duration": 6,
    "start_time": "2021-10-01T19:19:52.014Z"
   },
   {
    "duration": 981,
    "start_time": "2021-10-01T19:19:52.022Z"
   },
   {
    "duration": -123,
    "start_time": "2021-10-01T19:19:53.128Z"
   },
   {
    "duration": -126,
    "start_time": "2021-10-01T19:19:53.132Z"
   },
   {
    "duration": -127,
    "start_time": "2021-10-01T19:19:53.134Z"
   },
   {
    "duration": -128,
    "start_time": "2021-10-01T19:19:53.136Z"
   },
   {
    "duration": -129,
    "start_time": "2021-10-01T19:19:53.138Z"
   },
   {
    "duration": -130,
    "start_time": "2021-10-01T19:19:53.140Z"
   },
   {
    "duration": -131,
    "start_time": "2021-10-01T19:19:53.142Z"
   },
   {
    "duration": -133,
    "start_time": "2021-10-01T19:19:53.145Z"
   },
   {
    "duration": -134,
    "start_time": "2021-10-01T19:19:53.147Z"
   },
   {
    "duration": -135,
    "start_time": "2021-10-01T19:19:53.148Z"
   },
   {
    "duration": -136,
    "start_time": "2021-10-01T19:19:53.150Z"
   },
   {
    "duration": 175,
    "start_time": "2021-10-01T19:22:02.173Z"
   },
   {
    "duration": 4953,
    "start_time": "2021-10-01T19:22:16.943Z"
   },
   {
    "duration": 1008,
    "start_time": "2021-10-01T19:22:21.898Z"
   },
   {
    "duration": 2,
    "start_time": "2021-10-01T19:22:22.908Z"
   },
   {
    "duration": 8,
    "start_time": "2021-10-01T19:22:22.912Z"
   },
   {
    "duration": 2719,
    "start_time": "2021-10-01T19:22:22.922Z"
   },
   {
    "duration": 3,
    "start_time": "2021-10-01T19:22:25.643Z"
   },
   {
    "duration": 5,
    "start_time": "2021-10-01T19:22:25.649Z"
   },
   {
    "duration": 13,
    "start_time": "2021-10-01T19:22:25.657Z"
   },
   {
    "duration": 29,
    "start_time": "2021-10-01T19:22:25.673Z"
   },
   {
    "duration": 6,
    "start_time": "2021-10-01T19:22:25.704Z"
   },
   {
    "duration": 4,
    "start_time": "2021-10-01T19:22:25.711Z"
   },
   {
    "duration": 67,
    "start_time": "2021-10-01T19:22:25.717Z"
   },
   {
    "duration": 2,
    "start_time": "2021-10-01T19:22:25.786Z"
   },
   {
    "duration": 907,
    "start_time": "2021-10-01T19:22:25.789Z"
   },
   {
    "duration": 124,
    "start_time": "2021-10-01T19:22:26.697Z"
   },
   {
    "duration": 123,
    "start_time": "2021-10-01T19:22:26.823Z"
   },
   {
    "duration": 3,
    "start_time": "2021-10-01T19:22:26.948Z"
   },
   {
    "duration": 18,
    "start_time": "2021-10-01T19:22:26.953Z"
   },
   {
    "duration": 236,
    "start_time": "2021-10-01T19:22:26.973Z"
   },
   {
    "duration": 2,
    "start_time": "2021-10-01T19:22:27.211Z"
   },
   {
    "duration": 8,
    "start_time": "2021-10-01T19:22:27.215Z"
   },
   {
    "duration": 4,
    "start_time": "2021-10-01T19:22:27.225Z"
   },
   {
    "duration": 6,
    "start_time": "2021-10-01T19:22:27.231Z"
   },
   {
    "duration": 579,
    "start_time": "2021-10-01T19:22:27.238Z"
   },
   {
    "duration": -125,
    "start_time": "2021-10-01T19:22:27.944Z"
   },
   {
    "duration": -129,
    "start_time": "2021-10-01T19:22:27.950Z"
   },
   {
    "duration": -131,
    "start_time": "2021-10-01T19:22:27.953Z"
   },
   {
    "duration": -132,
    "start_time": "2021-10-01T19:22:27.955Z"
   },
   {
    "duration": -173,
    "start_time": "2021-10-01T19:22:27.997Z"
   },
   {
    "duration": -178,
    "start_time": "2021-10-01T19:22:28.003Z"
   },
   {
    "duration": -181,
    "start_time": "2021-10-01T19:22:28.007Z"
   },
   {
    "duration": -182,
    "start_time": "2021-10-01T19:22:28.009Z"
   },
   {
    "duration": -184,
    "start_time": "2021-10-01T19:22:28.011Z"
   },
   {
    "duration": -189,
    "start_time": "2021-10-01T19:22:28.017Z"
   },
   {
    "duration": -191,
    "start_time": "2021-10-01T19:22:28.020Z"
   },
   {
    "duration": 6,
    "start_time": "2021-10-01T19:23:03.566Z"
   },
   {
    "duration": 166,
    "start_time": "2021-10-01T19:23:41.334Z"
   },
   {
    "duration": 4858,
    "start_time": "2021-10-01T19:23:54.888Z"
   },
   {
    "duration": 1018,
    "start_time": "2021-10-01T19:23:59.748Z"
   },
   {
    "duration": 2,
    "start_time": "2021-10-01T19:24:00.768Z"
   },
   {
    "duration": 25,
    "start_time": "2021-10-01T19:24:00.772Z"
   },
   {
    "duration": 2727,
    "start_time": "2021-10-01T19:24:00.799Z"
   },
   {
    "duration": 3,
    "start_time": "2021-10-01T19:24:03.528Z"
   },
   {
    "duration": 37,
    "start_time": "2021-10-01T19:24:03.532Z"
   },
   {
    "duration": 14,
    "start_time": "2021-10-01T19:24:03.571Z"
   },
   {
    "duration": 31,
    "start_time": "2021-10-01T19:24:03.588Z"
   },
   {
    "duration": 6,
    "start_time": "2021-10-01T19:24:03.621Z"
   },
   {
    "duration": 4,
    "start_time": "2021-10-01T19:24:03.629Z"
   },
   {
    "duration": 45,
    "start_time": "2021-10-01T19:24:03.634Z"
   },
   {
    "duration": 3,
    "start_time": "2021-10-01T19:24:03.681Z"
   },
   {
    "duration": 839,
    "start_time": "2021-10-01T19:24:03.686Z"
   },
   {
    "duration": 127,
    "start_time": "2021-10-01T19:24:04.527Z"
   },
   {
    "duration": 129,
    "start_time": "2021-10-01T19:24:04.657Z"
   },
   {
    "duration": 3,
    "start_time": "2021-10-01T19:24:04.788Z"
   },
   {
    "duration": 19,
    "start_time": "2021-10-01T19:24:04.793Z"
   },
   {
    "duration": 453,
    "start_time": "2021-10-01T19:24:04.814Z"
   },
   {
    "duration": 3,
    "start_time": "2021-10-01T19:24:05.269Z"
   },
   {
    "duration": 7,
    "start_time": "2021-10-01T19:24:05.274Z"
   },
   {
    "duration": 5,
    "start_time": "2021-10-01T19:24:05.282Z"
   },
   {
    "duration": 6,
    "start_time": "2021-10-01T19:24:05.289Z"
   },
   {
    "duration": 5189,
    "start_time": "2021-10-01T19:24:05.297Z"
   },
   {
    "duration": 10,
    "start_time": "2021-10-01T19:24:10.487Z"
   },
   {
    "duration": 5,
    "start_time": "2021-10-01T19:24:10.498Z"
   },
   {
    "duration": 3,
    "start_time": "2021-10-01T19:24:10.506Z"
   },
   {
    "duration": 5,
    "start_time": "2021-10-01T19:24:10.511Z"
   },
   {
    "duration": 8,
    "start_time": "2021-10-01T19:24:10.517Z"
   },
   {
    "duration": 5899,
    "start_time": "2021-10-01T19:24:10.526Z"
   },
   {
    "duration": 4,
    "start_time": "2021-10-01T19:24:16.427Z"
   },
   {
    "duration": 19,
    "start_time": "2021-10-01T19:24:16.434Z"
   },
   {
    "duration": 30719,
    "start_time": "2021-10-01T19:24:16.456Z"
   },
   {
    "duration": 301,
    "start_time": "2021-10-01T19:24:47.177Z"
   },
   {
    "duration": 871,
    "start_time": "2021-10-01T19:24:47.480Z"
   },
   {
    "duration": 633,
    "start_time": "2021-10-01T19:24:54.486Z"
   },
   {
    "duration": 558,
    "start_time": "2021-10-01T19:25:09.702Z"
   },
   {
    "duration": 3,
    "start_time": "2021-10-01T19:25:11.855Z"
   },
   {
    "duration": 3,
    "start_time": "2021-10-01T19:25:13.700Z"
   },
   {
    "duration": 2,
    "start_time": "2021-10-01T19:25:14.079Z"
   },
   {
    "duration": 36,
    "start_time": "2021-10-01T19:25:14.910Z"
   },
   {
    "duration": 6,
    "start_time": "2021-10-01T19:25:16.038Z"
   },
   {
    "duration": 4,
    "start_time": "2021-10-01T19:25:16.591Z"
   },
   {
    "duration": 40,
    "start_time": "2021-10-01T19:25:17.174Z"
   },
   {
    "duration": 2,
    "start_time": "2021-10-01T19:25:17.566Z"
   },
   {
    "duration": 833,
    "start_time": "2021-10-01T19:25:18.860Z"
   },
   {
    "duration": 118,
    "start_time": "2021-10-01T19:25:22.919Z"
   },
   {
    "duration": 118,
    "start_time": "2021-10-01T19:25:23.499Z"
   },
   {
    "duration": 2,
    "start_time": "2021-10-01T19:25:23.619Z"
   },
   {
    "duration": 10,
    "start_time": "2021-10-01T19:25:23.623Z"
   },
   {
    "duration": 11,
    "start_time": "2021-10-01T19:25:23.635Z"
   },
   {
    "duration": 2,
    "start_time": "2021-10-01T19:25:23.686Z"
   },
   {
    "duration": 3,
    "start_time": "2021-10-01T19:25:23.722Z"
   },
   {
    "duration": 4,
    "start_time": "2021-10-01T19:25:23.758Z"
   },
   {
    "duration": 3,
    "start_time": "2021-10-01T19:25:23.778Z"
   },
   {
    "duration": 5177,
    "start_time": "2021-10-01T19:25:23.815Z"
   },
   {
    "duration": 5,
    "start_time": "2021-10-01T19:25:28.994Z"
   },
   {
    "duration": 4995,
    "start_time": "2021-10-01T19:25:40.882Z"
   },
   {
    "duration": 984,
    "start_time": "2021-10-01T19:25:45.879Z"
   },
   {
    "duration": 2,
    "start_time": "2021-10-01T19:25:46.866Z"
   },
   {
    "duration": 8,
    "start_time": "2021-10-01T19:25:46.871Z"
   },
   {
    "duration": 2764,
    "start_time": "2021-10-01T19:25:46.881Z"
   },
   {
    "duration": 2,
    "start_time": "2021-10-01T19:25:49.649Z"
   },
   {
    "duration": 10,
    "start_time": "2021-10-01T19:25:49.653Z"
   },
   {
    "duration": 13,
    "start_time": "2021-10-01T19:25:49.667Z"
   },
   {
    "duration": 39,
    "start_time": "2021-10-01T19:25:49.682Z"
   },
   {
    "duration": 6,
    "start_time": "2021-10-01T19:25:49.722Z"
   },
   {
    "duration": 7,
    "start_time": "2021-10-01T19:25:49.729Z"
   },
   {
    "duration": 48,
    "start_time": "2021-10-01T19:25:49.738Z"
   },
   {
    "duration": 2,
    "start_time": "2021-10-01T19:25:49.787Z"
   },
   {
    "duration": 1030,
    "start_time": "2021-10-01T19:25:49.791Z"
   },
   {
    "duration": 129,
    "start_time": "2021-10-01T19:25:50.823Z"
   },
   {
    "duration": 132,
    "start_time": "2021-10-01T19:25:50.954Z"
   },
   {
    "duration": 3,
    "start_time": "2021-10-01T19:25:51.087Z"
   },
   {
    "duration": 15,
    "start_time": "2021-10-01T19:25:51.091Z"
   },
   {
    "duration": 506,
    "start_time": "2021-10-01T19:25:51.108Z"
   },
   {
    "duration": 2,
    "start_time": "2021-10-01T19:25:51.616Z"
   },
   {
    "duration": 6,
    "start_time": "2021-10-01T19:25:51.620Z"
   },
   {
    "duration": 6,
    "start_time": "2021-10-01T19:25:51.627Z"
   },
   {
    "duration": 5,
    "start_time": "2021-10-01T19:25:51.637Z"
   },
   {
    "duration": 5942,
    "start_time": "2021-10-01T19:25:51.650Z"
   },
   {
    "duration": 10,
    "start_time": "2021-10-01T19:25:57.594Z"
   },
   {
    "duration": 4,
    "start_time": "2021-10-01T19:25:57.606Z"
   },
   {
    "duration": 6,
    "start_time": "2021-10-01T19:25:57.612Z"
   },
   {
    "duration": 7,
    "start_time": "2021-10-01T19:25:57.620Z"
   },
   {
    "duration": 5,
    "start_time": "2021-10-01T19:25:57.628Z"
   },
   {
    "duration": 6482,
    "start_time": "2021-10-01T19:25:57.649Z"
   },
   {
    "duration": 17,
    "start_time": "2021-10-01T19:26:04.134Z"
   },
   {
    "duration": 4,
    "start_time": "2021-10-01T19:26:04.153Z"
   },
   {
    "duration": 28811,
    "start_time": "2021-10-01T19:26:04.158Z"
   },
   {
    "duration": 299,
    "start_time": "2021-10-01T19:26:32.971Z"
   },
   {
    "duration": 908,
    "start_time": "2021-10-01T19:26:33.272Z"
   },
   {
    "duration": 605,
    "start_time": "2021-10-01T19:26:55.882Z"
   },
   {
    "duration": 5134,
    "start_time": "2021-10-01T19:29:45.503Z"
   },
   {
    "duration": 994,
    "start_time": "2021-10-01T19:29:50.639Z"
   },
   {
    "duration": 2,
    "start_time": "2021-10-01T19:29:51.635Z"
   },
   {
    "duration": 618,
    "start_time": "2021-10-01T19:29:51.649Z"
   },
   {
    "duration": -98,
    "start_time": "2021-10-01T19:29:52.368Z"
   },
   {
    "duration": -118,
    "start_time": "2021-10-01T19:29:52.389Z"
   },
   {
    "duration": -131,
    "start_time": "2021-10-01T19:29:52.403Z"
   },
   {
    "duration": -156,
    "start_time": "2021-10-01T19:29:52.429Z"
   },
   {
    "duration": -174,
    "start_time": "2021-10-01T19:29:52.447Z"
   },
   {
    "duration": -188,
    "start_time": "2021-10-01T19:29:52.462Z"
   },
   {
    "duration": -208,
    "start_time": "2021-10-01T19:29:52.483Z"
   },
   {
    "duration": -219,
    "start_time": "2021-10-01T19:29:52.495Z"
   },
   {
    "duration": -224,
    "start_time": "2021-10-01T19:29:52.501Z"
   },
   {
    "duration": -230,
    "start_time": "2021-10-01T19:29:52.508Z"
   },
   {
    "duration": -231,
    "start_time": "2021-10-01T19:29:52.510Z"
   },
   {
    "duration": -237,
    "start_time": "2021-10-01T19:29:52.517Z"
   },
   {
    "duration": -239,
    "start_time": "2021-10-01T19:29:52.519Z"
   },
   {
    "duration": -240,
    "start_time": "2021-10-01T19:29:52.521Z"
   },
   {
    "duration": -241,
    "start_time": "2021-10-01T19:29:52.523Z"
   },
   {
    "duration": -249,
    "start_time": "2021-10-01T19:29:52.532Z"
   },
   {
    "duration": -251,
    "start_time": "2021-10-01T19:29:52.535Z"
   },
   {
    "duration": -251,
    "start_time": "2021-10-01T19:29:52.536Z"
   },
   {
    "duration": -262,
    "start_time": "2021-10-01T19:29:52.547Z"
   },
   {
    "duration": -263,
    "start_time": "2021-10-01T19:29:52.549Z"
   },
   {
    "duration": -275,
    "start_time": "2021-10-01T19:29:52.562Z"
   },
   {
    "duration": -281,
    "start_time": "2021-10-01T19:29:52.569Z"
   },
   {
    "duration": -302,
    "start_time": "2021-10-01T19:29:52.591Z"
   },
   {
    "duration": -310,
    "start_time": "2021-10-01T19:29:52.600Z"
   },
   {
    "duration": -316,
    "start_time": "2021-10-01T19:29:52.606Z"
   },
   {
    "duration": -346,
    "start_time": "2021-10-01T19:29:52.637Z"
   },
   {
    "duration": -347,
    "start_time": "2021-10-01T19:29:52.639Z"
   },
   {
    "duration": -348,
    "start_time": "2021-10-01T19:29:52.641Z"
   },
   {
    "duration": -349,
    "start_time": "2021-10-01T19:29:52.643Z"
   },
   {
    "duration": -350,
    "start_time": "2021-10-01T19:29:52.644Z"
   },
   {
    "duration": -357,
    "start_time": "2021-10-01T19:29:52.652Z"
   },
   {
    "duration": 3,
    "start_time": "2021-10-01T19:29:59.712Z"
   },
   {
    "duration": 2840,
    "start_time": "2021-10-01T19:29:59.896Z"
   },
   {
    "duration": 2,
    "start_time": "2021-10-01T19:30:02.738Z"
   },
   {
    "duration": 5,
    "start_time": "2021-10-01T19:30:02.751Z"
   },
   {
    "duration": 9,
    "start_time": "2021-10-01T19:30:02.759Z"
   },
   {
    "duration": 36,
    "start_time": "2021-10-01T19:30:02.770Z"
   },
   {
    "duration": 7,
    "start_time": "2021-10-01T19:30:02.808Z"
   },
   {
    "duration": 6,
    "start_time": "2021-10-01T19:30:02.817Z"
   },
   {
    "duration": 68,
    "start_time": "2021-10-01T19:30:02.825Z"
   },
   {
    "duration": 2,
    "start_time": "2021-10-01T19:30:02.895Z"
   },
   {
    "duration": 1278,
    "start_time": "2021-10-01T19:30:02.998Z"
   },
   {
    "duration": 937,
    "start_time": "2021-10-01T19:30:42.769Z"
   },
   {
    "duration": 1172,
    "start_time": "2021-10-01T19:30:46.687Z"
   },
   {
    "duration": 267,
    "start_time": "2021-10-01T19:32:51.664Z"
   },
   {
    "duration": 564,
    "start_time": "2021-10-01T19:39:28.509Z"
   },
   {
    "duration": 4913,
    "start_time": "2021-10-01T19:39:36.991Z"
   },
   {
    "duration": 1030,
    "start_time": "2021-10-01T19:39:41.907Z"
   },
   {
    "duration": 2,
    "start_time": "2021-10-01T19:39:42.939Z"
   },
   {
    "duration": 7,
    "start_time": "2021-10-01T19:39:42.949Z"
   },
   {
    "duration": 2769,
    "start_time": "2021-10-01T19:39:42.958Z"
   },
   {
    "duration": 2,
    "start_time": "2021-10-01T19:39:45.729Z"
   },
   {
    "duration": 24,
    "start_time": "2021-10-01T19:39:45.733Z"
   },
   {
    "duration": 4,
    "start_time": "2021-10-01T19:39:45.759Z"
   },
   {
    "duration": 33,
    "start_time": "2021-10-01T19:39:45.766Z"
   },
   {
    "duration": 6,
    "start_time": "2021-10-01T19:39:45.802Z"
   },
   {
    "duration": 4,
    "start_time": "2021-10-01T19:39:45.810Z"
   },
   {
    "duration": 69,
    "start_time": "2021-10-01T19:39:45.816Z"
   },
   {
    "duration": 2,
    "start_time": "2021-10-01T19:39:45.888Z"
   },
   {
    "duration": 857,
    "start_time": "2021-10-01T19:39:45.892Z"
   },
   {
    "duration": 127,
    "start_time": "2021-10-01T19:39:46.758Z"
   },
   {
    "duration": 140,
    "start_time": "2021-10-01T19:39:46.887Z"
   },
   {
    "duration": 2,
    "start_time": "2021-10-01T19:39:47.029Z"
   },
   {
    "duration": 6,
    "start_time": "2021-10-01T19:39:47.033Z"
   },
   {
    "duration": 506,
    "start_time": "2021-10-01T19:39:47.058Z"
   },
   {
    "duration": 2,
    "start_time": "2021-10-01T19:39:47.566Z"
   },
   {
    "duration": 11,
    "start_time": "2021-10-01T19:39:47.570Z"
   },
   {
    "duration": 9,
    "start_time": "2021-10-01T19:39:47.583Z"
   },
   {
    "duration": 11,
    "start_time": "2021-10-01T19:39:47.594Z"
   },
   {
    "duration": 5793,
    "start_time": "2021-10-01T19:39:47.607Z"
   },
   {
    "duration": 9,
    "start_time": "2021-10-01T19:39:53.402Z"
   },
   {
    "duration": 5,
    "start_time": "2021-10-01T19:39:53.413Z"
   },
   {
    "duration": 3,
    "start_time": "2021-10-01T19:39:53.421Z"
   },
   {
    "duration": 4,
    "start_time": "2021-10-01T19:39:53.426Z"
   },
   {
    "duration": 19,
    "start_time": "2021-10-01T19:39:53.432Z"
   },
   {
    "duration": 6518,
    "start_time": "2021-10-01T19:39:53.454Z"
   },
   {
    "duration": 4,
    "start_time": "2021-10-01T19:39:59.974Z"
   },
   {
    "duration": 241,
    "start_time": "2021-10-01T19:39:59.979Z"
   },
   {
    "duration": 27134,
    "start_time": "2021-10-01T19:40:00.222Z"
   },
   {
    "duration": 247,
    "start_time": "2021-10-01T19:40:27.363Z"
   },
   {
    "duration": 950,
    "start_time": "2021-10-01T19:40:27.612Z"
   },
   {
    "duration": 5075,
    "start_time": "2021-10-01T19:40:33.726Z"
   },
   {
    "duration": 1047,
    "start_time": "2021-10-01T19:40:38.803Z"
   },
   {
    "duration": 3,
    "start_time": "2021-10-01T19:40:39.853Z"
   },
   {
    "duration": 11,
    "start_time": "2021-10-01T19:40:39.859Z"
   },
   {
    "duration": 2866,
    "start_time": "2021-10-01T19:40:39.871Z"
   },
   {
    "duration": 2,
    "start_time": "2021-10-01T19:40:42.739Z"
   },
   {
    "duration": 13,
    "start_time": "2021-10-01T19:40:42.743Z"
   },
   {
    "duration": 7,
    "start_time": "2021-10-01T19:40:42.759Z"
   },
   {
    "duration": 38,
    "start_time": "2021-10-01T19:40:42.768Z"
   },
   {
    "duration": 7,
    "start_time": "2021-10-01T19:40:42.808Z"
   },
   {
    "duration": 10,
    "start_time": "2021-10-01T19:40:42.816Z"
   },
   {
    "duration": 61,
    "start_time": "2021-10-01T19:40:42.828Z"
   },
   {
    "duration": 3,
    "start_time": "2021-10-01T19:40:42.891Z"
   },
   {
    "duration": 680,
    "start_time": "2021-10-01T19:40:42.896Z"
   },
   {
    "duration": 89,
    "start_time": "2021-10-01T19:40:43.578Z"
   },
   {
    "duration": 92,
    "start_time": "2021-10-01T19:40:43.669Z"
   },
   {
    "duration": 2,
    "start_time": "2021-10-01T19:40:43.764Z"
   },
   {
    "duration": 6,
    "start_time": "2021-10-01T19:40:43.768Z"
   },
   {
    "duration": 487,
    "start_time": "2021-10-01T19:40:43.776Z"
   },
   {
    "duration": 2,
    "start_time": "2021-10-01T19:40:44.266Z"
   },
   {
    "duration": 6,
    "start_time": "2021-10-01T19:40:44.271Z"
   },
   {
    "duration": 5,
    "start_time": "2021-10-01T19:40:44.279Z"
   },
   {
    "duration": 8,
    "start_time": "2021-10-01T19:40:44.289Z"
   },
   {
    "duration": 6078,
    "start_time": "2021-10-01T19:40:44.300Z"
   },
   {
    "duration": 9,
    "start_time": "2021-10-01T19:40:50.380Z"
   },
   {
    "duration": 16,
    "start_time": "2021-10-01T19:40:50.390Z"
   },
   {
    "duration": 16,
    "start_time": "2021-10-01T19:40:50.408Z"
   },
   {
    "duration": 6,
    "start_time": "2021-10-01T19:40:50.425Z"
   },
   {
    "duration": 6,
    "start_time": "2021-10-01T19:40:50.433Z"
   },
   {
    "duration": 6145,
    "start_time": "2021-10-01T19:40:50.441Z"
   },
   {
    "duration": 5,
    "start_time": "2021-10-01T19:40:56.587Z"
   },
   {
    "duration": 5,
    "start_time": "2021-10-01T19:40:56.593Z"
   },
   {
    "duration": 29969,
    "start_time": "2021-10-01T19:40:56.600Z"
   },
   {
    "duration": 261,
    "start_time": "2021-10-01T19:41:26.571Z"
   },
   {
    "duration": 960,
    "start_time": "2021-10-01T19:41:26.834Z"
   },
   {
    "duration": 5571,
    "start_time": "2021-10-01T19:41:45.125Z"
   },
   {
    "duration": 5167,
    "start_time": "2021-10-01T19:42:19.045Z"
   },
   {
    "duration": 1019,
    "start_time": "2021-10-01T19:42:24.216Z"
   },
   {
    "duration": 2,
    "start_time": "2021-10-01T19:42:25.237Z"
   },
   {
    "duration": 11,
    "start_time": "2021-10-01T19:42:25.241Z"
   },
   {
    "duration": 2734,
    "start_time": "2021-10-01T19:42:25.254Z"
   },
   {
    "duration": 3,
    "start_time": "2021-10-01T19:42:27.991Z"
   },
   {
    "duration": 9,
    "start_time": "2021-10-01T19:42:27.995Z"
   },
   {
    "duration": 5,
    "start_time": "2021-10-01T19:42:28.007Z"
   },
   {
    "duration": 55,
    "start_time": "2021-10-01T19:42:28.014Z"
   },
   {
    "duration": 9,
    "start_time": "2021-10-01T19:42:28.071Z"
   },
   {
    "duration": 47,
    "start_time": "2021-10-01T19:42:28.082Z"
   },
   {
    "duration": 47,
    "start_time": "2021-10-01T19:42:28.131Z"
   },
   {
    "duration": 2,
    "start_time": "2021-10-01T19:42:28.180Z"
   },
   {
    "duration": 563,
    "start_time": "2021-10-01T19:42:28.184Z"
   },
   {
    "duration": 80,
    "start_time": "2021-10-01T19:42:28.749Z"
   },
   {
    "duration": 96,
    "start_time": "2021-10-01T19:42:28.831Z"
   },
   {
    "duration": 3,
    "start_time": "2021-10-01T19:42:28.929Z"
   },
   {
    "duration": 3,
    "start_time": "2021-10-01T19:42:28.949Z"
   },
   {
    "duration": 499,
    "start_time": "2021-10-01T19:42:28.955Z"
   },
   {
    "duration": 3,
    "start_time": "2021-10-01T19:42:29.456Z"
   },
   {
    "duration": 8,
    "start_time": "2021-10-01T19:42:29.461Z"
   },
   {
    "duration": 7,
    "start_time": "2021-10-01T19:42:29.471Z"
   },
   {
    "duration": 7,
    "start_time": "2021-10-01T19:42:29.480Z"
   },
   {
    "duration": 5701,
    "start_time": "2021-10-01T19:42:29.489Z"
   },
   {
    "duration": 10,
    "start_time": "2021-10-01T19:42:35.192Z"
   },
   {
    "duration": 12,
    "start_time": "2021-10-01T19:42:35.207Z"
   },
   {
    "duration": 36,
    "start_time": "2021-10-01T19:42:35.222Z"
   },
   {
    "duration": 195,
    "start_time": "2021-10-01T19:42:35.261Z"
   },
   {
    "duration": 195,
    "start_time": "2021-10-01T19:42:35.462Z"
   },
   {
    "duration": 6285,
    "start_time": "2021-10-01T19:42:35.660Z"
   },
   {
    "duration": 8,
    "start_time": "2021-10-01T19:42:41.947Z"
   },
   {
    "duration": 221,
    "start_time": "2021-10-01T19:42:41.962Z"
   },
   {
    "duration": 29086,
    "start_time": "2021-10-01T19:42:42.185Z"
   },
   {
    "duration": 248,
    "start_time": "2021-10-01T19:43:11.350Z"
   },
   {
    "duration": 947,
    "start_time": "2021-10-01T19:43:11.601Z"
   },
   {
    "duration": 599,
    "start_time": "2021-10-01T19:43:12.556Z"
   },
   {
    "duration": 3,
    "start_time": "2021-10-01T19:43:18.767Z"
   },
   {
    "duration": 4,
    "start_time": "2021-10-01T19:43:18.966Z"
   },
   {
    "duration": 3,
    "start_time": "2021-10-01T19:43:19.173Z"
   },
   {
    "duration": 46,
    "start_time": "2021-10-01T19:43:19.614Z"
   },
   {
    "duration": 6,
    "start_time": "2021-10-01T19:43:19.838Z"
   },
   {
    "duration": 5,
    "start_time": "2021-10-01T19:43:20.916Z"
   },
   {
    "duration": 50,
    "start_time": "2021-10-01T19:43:22.134Z"
   },
   {
    "duration": 2,
    "start_time": "2021-10-01T19:43:22.360Z"
   },
   {
    "duration": 575,
    "start_time": "2021-10-01T19:43:22.589Z"
   },
   {
    "duration": 97,
    "start_time": "2021-10-01T19:43:23.166Z"
   },
   {
    "duration": 91,
    "start_time": "2021-10-01T19:43:23.317Z"
   },
   {
    "duration": 2,
    "start_time": "2021-10-01T19:43:23.599Z"
   },
   {
    "duration": 3,
    "start_time": "2021-10-01T19:43:24.238Z"
   },
   {
    "duration": 5,
    "start_time": "2021-10-01T19:43:25.302Z"
   },
   {
    "duration": 3,
    "start_time": "2021-10-01T19:43:26.560Z"
   },
   {
    "duration": 3,
    "start_time": "2021-10-01T19:43:26.821Z"
   },
   {
    "duration": 3,
    "start_time": "2021-10-01T19:43:27.046Z"
   },
   {
    "duration": 3,
    "start_time": "2021-10-01T19:43:27.229Z"
   },
   {
    "duration": 6072,
    "start_time": "2021-10-01T19:43:27.422Z"
   },
   {
    "duration": 5,
    "start_time": "2021-10-01T19:43:33.496Z"
   },
   {
    "duration": 3,
    "start_time": "2021-10-01T19:43:33.504Z"
   },
   {
    "duration": 6,
    "start_time": "2021-10-01T19:43:33.509Z"
   },
   {
    "duration": 4,
    "start_time": "2021-10-01T19:43:33.517Z"
   },
   {
    "duration": 4,
    "start_time": "2021-10-01T19:47:56.974Z"
   },
   {
    "duration": 580,
    "start_time": "2021-10-01T19:48:08.649Z"
   },
   {
    "duration": 4740,
    "start_time": "2021-10-01T19:48:18.053Z"
   },
   {
    "duration": 1096,
    "start_time": "2021-10-01T19:48:22.795Z"
   },
   {
    "duration": 2,
    "start_time": "2021-10-01T19:48:23.893Z"
   },
   {
    "duration": 5,
    "start_time": "2021-10-01T19:48:23.898Z"
   },
   {
    "duration": 1228,
    "start_time": "2021-10-01T19:48:23.905Z"
   },
   {
    "duration": 1740,
    "start_time": "2021-10-01T19:48:25.135Z"
   },
   {
    "duration": 2,
    "start_time": "2021-10-01T19:48:26.877Z"
   },
   {
    "duration": 5,
    "start_time": "2021-10-01T19:48:26.881Z"
   },
   {
    "duration": 5,
    "start_time": "2021-10-01T19:48:26.889Z"
   },
   {
    "duration": 29,
    "start_time": "2021-10-01T19:48:26.896Z"
   },
   {
    "duration": 37,
    "start_time": "2021-10-01T19:48:26.927Z"
   },
   {
    "duration": 4,
    "start_time": "2021-10-01T19:48:26.966Z"
   },
   {
    "duration": 42,
    "start_time": "2021-10-01T19:48:26.971Z"
   },
   {
    "duration": 2,
    "start_time": "2021-10-01T19:48:27.015Z"
   },
   {
    "duration": 1310,
    "start_time": "2021-10-01T19:48:27.019Z"
   },
   {
    "duration": 553,
    "start_time": "2021-10-01T19:48:28.332Z"
   },
   {
    "duration": -92,
    "start_time": "2021-10-01T19:48:28.981Z"
   },
   {
    "duration": -105,
    "start_time": "2021-10-01T19:48:28.995Z"
   },
   {
    "duration": -107,
    "start_time": "2021-10-01T19:48:28.999Z"
   },
   {
    "duration": -112,
    "start_time": "2021-10-01T19:48:29.005Z"
   },
   {
    "duration": -113,
    "start_time": "2021-10-01T19:48:29.007Z"
   },
   {
    "duration": -113,
    "start_time": "2021-10-01T19:48:29.009Z"
   },
   {
    "duration": -120,
    "start_time": "2021-10-01T19:48:29.017Z"
   },
   {
    "duration": -121,
    "start_time": "2021-10-01T19:48:29.019Z"
   },
   {
    "duration": -122,
    "start_time": "2021-10-01T19:48:29.022Z"
   },
   {
    "duration": -129,
    "start_time": "2021-10-01T19:48:29.030Z"
   },
   {
    "duration": -130,
    "start_time": "2021-10-01T19:48:29.033Z"
   },
   {
    "duration": -131,
    "start_time": "2021-10-01T19:48:29.035Z"
   },
   {
    "duration": -132,
    "start_time": "2021-10-01T19:48:29.037Z"
   },
   {
    "duration": -138,
    "start_time": "2021-10-01T19:48:29.044Z"
   },
   {
    "duration": -139,
    "start_time": "2021-10-01T19:48:29.046Z"
   },
   {
    "duration": -139,
    "start_time": "2021-10-01T19:48:29.047Z"
   },
   {
    "duration": -140,
    "start_time": "2021-10-01T19:48:29.049Z"
   },
   {
    "duration": -146,
    "start_time": "2021-10-01T19:48:29.056Z"
   },
   {
    "duration": -148,
    "start_time": "2021-10-01T19:48:29.058Z"
   },
   {
    "duration": -148,
    "start_time": "2021-10-01T19:48:29.059Z"
   },
   {
    "duration": 4,
    "start_time": "2021-10-01T20:08:56.375Z"
   },
   {
    "duration": 6,
    "start_time": "2021-10-01T20:09:12.553Z"
   },
   {
    "duration": 6,
    "start_time": "2021-10-01T20:09:18.059Z"
   },
   {
    "duration": 88,
    "start_time": "2021-10-01T20:09:37.187Z"
   },
   {
    "duration": 76,
    "start_time": "2021-10-01T20:09:46.368Z"
   },
   {
    "duration": 79,
    "start_time": "2021-10-01T20:09:50.693Z"
   },
   {
    "duration": 93,
    "start_time": "2021-10-01T20:10:00.752Z"
   },
   {
    "duration": 445,
    "start_time": "2021-10-01T20:10:06.774Z"
   },
   {
    "duration": 84,
    "start_time": "2021-10-01T20:10:18.280Z"
   },
   {
    "duration": 580,
    "start_time": "2021-10-01T20:10:40.082Z"
   },
   {
    "duration": 564,
    "start_time": "2021-10-01T20:16:00.533Z"
   },
   {
    "duration": 4854,
    "start_time": "2021-10-01T20:16:21.925Z"
   },
   {
    "duration": 983,
    "start_time": "2021-10-01T20:16:26.783Z"
   },
   {
    "duration": 2,
    "start_time": "2021-10-01T20:16:27.768Z"
   },
   {
    "duration": 7,
    "start_time": "2021-10-01T20:16:27.771Z"
   },
   {
    "duration": 1198,
    "start_time": "2021-10-01T20:16:27.780Z"
   },
   {
    "duration": 610,
    "start_time": "2021-10-01T20:16:28.980Z"
   },
   {
    "duration": -56,
    "start_time": "2021-10-01T20:16:29.649Z"
   },
   {
    "duration": -58,
    "start_time": "2021-10-01T20:16:29.652Z"
   },
   {
    "duration": -61,
    "start_time": "2021-10-01T20:16:29.656Z"
   },
   {
    "duration": -75,
    "start_time": "2021-10-01T20:16:29.671Z"
   },
   {
    "duration": -79,
    "start_time": "2021-10-01T20:16:29.675Z"
   },
   {
    "duration": -80,
    "start_time": "2021-10-01T20:16:29.677Z"
   },
   {
    "duration": -81,
    "start_time": "2021-10-01T20:16:29.679Z"
   },
   {
    "duration": -82,
    "start_time": "2021-10-01T20:16:29.681Z"
   },
   {
    "duration": -85,
    "start_time": "2021-10-01T20:16:29.684Z"
   },
   {
    "duration": -87,
    "start_time": "2021-10-01T20:16:29.687Z"
   },
   {
    "duration": -94,
    "start_time": "2021-10-01T20:16:29.695Z"
   },
   {
    "duration": -96,
    "start_time": "2021-10-01T20:16:29.698Z"
   },
   {
    "duration": -96,
    "start_time": "2021-10-01T20:16:29.699Z"
   },
   {
    "duration": -97,
    "start_time": "2021-10-01T20:16:29.701Z"
   },
   {
    "duration": -98,
    "start_time": "2021-10-01T20:16:29.703Z"
   },
   {
    "duration": -100,
    "start_time": "2021-10-01T20:16:29.705Z"
   },
   {
    "duration": -108,
    "start_time": "2021-10-01T20:16:29.714Z"
   },
   {
    "duration": -111,
    "start_time": "2021-10-01T20:16:29.718Z"
   },
   {
    "duration": -112,
    "start_time": "2021-10-01T20:16:29.720Z"
   },
   {
    "duration": -115,
    "start_time": "2021-10-01T20:16:29.723Z"
   },
   {
    "duration": -116,
    "start_time": "2021-10-01T20:16:29.725Z"
   },
   {
    "duration": -117,
    "start_time": "2021-10-01T20:16:29.727Z"
   },
   {
    "duration": -117,
    "start_time": "2021-10-01T20:16:29.728Z"
   },
   {
    "duration": -119,
    "start_time": "2021-10-01T20:16:29.730Z"
   },
   {
    "duration": -119,
    "start_time": "2021-10-01T20:16:29.732Z"
   },
   {
    "duration": -120,
    "start_time": "2021-10-01T20:16:29.734Z"
   },
   {
    "duration": -122,
    "start_time": "2021-10-01T20:16:29.736Z"
   },
   {
    "duration": -124,
    "start_time": "2021-10-01T20:16:29.739Z"
   },
   {
    "duration": -124,
    "start_time": "2021-10-01T20:16:29.740Z"
   },
   {
    "duration": -125,
    "start_time": "2021-10-01T20:16:29.742Z"
   },
   {
    "duration": 3,
    "start_time": "2021-10-01T20:16:39.126Z"
   },
   {
    "duration": 2,
    "start_time": "2021-10-01T20:16:39.631Z"
   },
   {
    "duration": 4,
    "start_time": "2021-10-01T20:16:39.900Z"
   },
   {
    "duration": 2,
    "start_time": "2021-10-01T20:16:40.306Z"
   },
   {
    "duration": 30,
    "start_time": "2021-10-01T20:16:40.382Z"
   },
   {
    "duration": 6,
    "start_time": "2021-10-01T20:16:40.422Z"
   },
   {
    "duration": 4,
    "start_time": "2021-10-01T20:16:40.443Z"
   },
   {
    "duration": 42,
    "start_time": "2021-10-01T20:16:40.470Z"
   },
   {
    "duration": 2,
    "start_time": "2021-10-01T20:16:40.514Z"
   },
   {
    "duration": 1041,
    "start_time": "2021-10-01T20:16:40.546Z"
   },
   {
    "duration": 565,
    "start_time": "2021-10-01T20:16:41.589Z"
   },
   {
    "duration": -128,
    "start_time": "2021-10-01T20:16:42.286Z"
   },
   {
    "duration": 109436,
    "start_time": "2021-10-01T20:21:13.299Z"
   },
   {
    "duration": 4863,
    "start_time": "2021-10-01T20:24:01.937Z"
   },
   {
    "duration": 974,
    "start_time": "2021-10-01T20:24:06.802Z"
   },
   {
    "duration": 2,
    "start_time": "2021-10-01T20:24:07.782Z"
   },
   {
    "duration": 5,
    "start_time": "2021-10-01T20:24:07.786Z"
   },
   {
    "duration": 1196,
    "start_time": "2021-10-01T20:24:07.792Z"
   },
   {
    "duration": 2,
    "start_time": "2021-10-01T20:24:08.990Z"
   },
   {
    "duration": 5,
    "start_time": "2021-10-01T20:24:08.994Z"
   },
   {
    "duration": 7,
    "start_time": "2021-10-01T20:24:09.002Z"
   },
   {
    "duration": 5,
    "start_time": "2021-10-01T20:24:09.011Z"
   },
   {
    "duration": 51,
    "start_time": "2021-10-01T20:24:09.018Z"
   },
   {
    "duration": 6,
    "start_time": "2021-10-01T20:24:09.071Z"
   },
   {
    "duration": 4,
    "start_time": "2021-10-01T20:24:09.079Z"
   },
   {
    "duration": 44,
    "start_time": "2021-10-01T20:24:09.085Z"
   },
   {
    "duration": 19,
    "start_time": "2021-10-01T20:24:09.131Z"
   },
   {
    "duration": 1270,
    "start_time": "2021-10-01T20:24:09.153Z"
   },
   {
    "duration": 571,
    "start_time": "2021-10-01T20:24:10.425Z"
   },
   {
    "duration": -65,
    "start_time": "2021-10-01T20:24:11.064Z"
   },
   {
    "duration": -72,
    "start_time": "2021-10-01T20:24:11.072Z"
   },
   {
    "duration": -80,
    "start_time": "2021-10-01T20:24:11.081Z"
   },
   {
    "duration": -91,
    "start_time": "2021-10-01T20:24:11.093Z"
   },
   {
    "duration": -93,
    "start_time": "2021-10-01T20:24:11.096Z"
   },
   {
    "duration": -103,
    "start_time": "2021-10-01T20:24:11.107Z"
   },
   {
    "duration": -107,
    "start_time": "2021-10-01T20:24:11.112Z"
   },
   {
    "duration": -130,
    "start_time": "2021-10-01T20:24:11.136Z"
   },
   {
    "duration": -145,
    "start_time": "2021-10-01T20:24:11.152Z"
   },
   {
    "duration": -209,
    "start_time": "2021-10-01T20:24:11.217Z"
   },
   {
    "duration": -251,
    "start_time": "2021-10-01T20:24:11.260Z"
   },
   {
    "duration": -291,
    "start_time": "2021-10-01T20:24:11.301Z"
   },
   {
    "duration": -298,
    "start_time": "2021-10-01T20:24:11.309Z"
   },
   {
    "duration": -305,
    "start_time": "2021-10-01T20:24:11.317Z"
   },
   {
    "duration": -307,
    "start_time": "2021-10-01T20:24:11.320Z"
   },
   {
    "duration": -312,
    "start_time": "2021-10-01T20:24:11.326Z"
   },
   {
    "duration": -313,
    "start_time": "2021-10-01T20:24:11.328Z"
   },
   {
    "duration": -314,
    "start_time": "2021-10-01T20:24:11.330Z"
   },
   {
    "duration": -315,
    "start_time": "2021-10-01T20:24:11.332Z"
   },
   {
    "duration": -317,
    "start_time": "2021-10-01T20:24:11.335Z"
   },
   {
    "duration": 4,
    "start_time": "2021-10-01T20:24:19.603Z"
   },
   {
    "duration": 1003,
    "start_time": "2021-10-01T20:24:19.609Z"
   },
   {
    "duration": 3,
    "start_time": "2021-10-01T20:24:20.614Z"
   },
   {
    "duration": 7,
    "start_time": "2021-10-01T20:24:20.618Z"
   },
   {
    "duration": 574,
    "start_time": "2021-10-01T20:24:20.627Z"
   },
   {
    "duration": 2,
    "start_time": "2021-10-01T20:24:21.203Z"
   },
   {
    "duration": 6,
    "start_time": "2021-10-01T20:24:21.207Z"
   },
   {
    "duration": 7,
    "start_time": "2021-10-01T20:24:21.214Z"
   },
   {
    "duration": 4,
    "start_time": "2021-10-01T20:24:21.224Z"
   },
   {
    "duration": 78,
    "start_time": "2021-10-01T20:24:21.230Z"
   },
   {
    "duration": 6,
    "start_time": "2021-10-01T20:24:21.311Z"
   },
   {
    "duration": 4,
    "start_time": "2021-10-01T20:24:21.319Z"
   },
   {
    "duration": 60,
    "start_time": "2021-10-01T20:24:21.325Z"
   },
   {
    "duration": 2,
    "start_time": "2021-10-01T20:24:21.388Z"
   },
   {
    "duration": 896,
    "start_time": "2021-10-01T20:24:21.392Z"
   },
   {
    "duration": 605,
    "start_time": "2021-10-01T20:24:22.290Z"
   },
   {
    "duration": -103,
    "start_time": "2021-10-01T20:24:23.001Z"
   },
   {
    "duration": -104,
    "start_time": "2021-10-01T20:24:23.003Z"
   },
   {
    "duration": -109,
    "start_time": "2021-10-01T20:24:23.009Z"
   },
   {
    "duration": -153,
    "start_time": "2021-10-01T20:24:23.053Z"
   },
   {
    "duration": -167,
    "start_time": "2021-10-01T20:24:23.069Z"
   },
   {
    "duration": -171,
    "start_time": "2021-10-01T20:24:23.074Z"
   },
   {
    "duration": -176,
    "start_time": "2021-10-01T20:24:23.079Z"
   },
   {
    "duration": -197,
    "start_time": "2021-10-01T20:24:23.102Z"
   },
   {
    "duration": -217,
    "start_time": "2021-10-01T20:24:23.123Z"
   },
   {
    "duration": -223,
    "start_time": "2021-10-01T20:24:23.130Z"
   },
   {
    "duration": -239,
    "start_time": "2021-10-01T20:24:23.147Z"
   },
   {
    "duration": -241,
    "start_time": "2021-10-01T20:24:23.150Z"
   },
   {
    "duration": -245,
    "start_time": "2021-10-01T20:24:23.156Z"
   },
   {
    "duration": -257,
    "start_time": "2021-10-01T20:24:23.169Z"
   },
   {
    "duration": -271,
    "start_time": "2021-10-01T20:24:23.184Z"
   },
   {
    "duration": -291,
    "start_time": "2021-10-01T20:24:23.205Z"
   },
   {
    "duration": -296,
    "start_time": "2021-10-01T20:24:23.211Z"
   },
   {
    "duration": -301,
    "start_time": "2021-10-01T20:24:23.217Z"
   },
   {
    "duration": -307,
    "start_time": "2021-10-01T20:24:23.224Z"
   },
   {
    "duration": -312,
    "start_time": "2021-10-01T20:24:23.230Z"
   },
   {
    "duration": 891,
    "start_time": "2021-10-01T20:24:44.543Z"
   },
   {
    "duration": 981,
    "start_time": "2021-10-01T20:24:47.934Z"
   },
   {
    "duration": 3,
    "start_time": "2021-10-01T20:24:48.917Z"
   },
   {
    "duration": 7,
    "start_time": "2021-10-01T20:24:48.922Z"
   },
   {
    "duration": 721,
    "start_time": "2021-10-01T20:24:49.038Z"
   },
   {
    "duration": 3,
    "start_time": "2021-10-01T20:24:49.763Z"
   },
   {
    "duration": 3,
    "start_time": "2021-10-01T20:24:49.790Z"
   },
   {
    "duration": 4,
    "start_time": "2021-10-01T20:24:49.973Z"
   },
   {
    "duration": 3,
    "start_time": "2021-10-01T20:24:50.213Z"
   },
   {
    "duration": 65,
    "start_time": "2021-10-01T20:24:50.565Z"
   },
   {
    "duration": 6,
    "start_time": "2021-10-01T20:24:50.735Z"
   },
   {
    "duration": 4,
    "start_time": "2021-10-01T20:24:50.917Z"
   },
   {
    "duration": 42,
    "start_time": "2021-10-01T20:24:51.086Z"
   },
   {
    "duration": 3,
    "start_time": "2021-10-01T20:24:51.237Z"
   },
   {
    "duration": 3481,
    "start_time": "2021-10-01T20:24:51.430Z"
   },
   {
    "duration": 6249,
    "start_time": "2021-10-01T20:25:08.414Z"
   },
   {
    "duration": 978,
    "start_time": "2021-10-01T20:25:14.665Z"
   },
   {
    "duration": 4,
    "start_time": "2021-10-01T20:25:15.649Z"
   },
   {
    "duration": 8,
    "start_time": "2021-10-01T20:25:15.655Z"
   },
   {
    "duration": 1204,
    "start_time": "2021-10-01T20:25:15.666Z"
   },
   {
    "duration": 2,
    "start_time": "2021-10-01T20:25:16.878Z"
   },
   {
    "duration": 6,
    "start_time": "2021-10-01T20:25:16.882Z"
   },
   {
    "duration": 6,
    "start_time": "2021-10-01T20:25:16.890Z"
   },
   {
    "duration": 3,
    "start_time": "2021-10-01T20:25:16.898Z"
   },
   {
    "duration": 37,
    "start_time": "2021-10-01T20:25:16.903Z"
   },
   {
    "duration": 19,
    "start_time": "2021-10-01T20:25:16.942Z"
   },
   {
    "duration": 4,
    "start_time": "2021-10-01T20:25:16.963Z"
   },
   {
    "duration": 44,
    "start_time": "2021-10-01T20:25:16.969Z"
   },
   {
    "duration": 2,
    "start_time": "2021-10-01T20:25:17.015Z"
   },
   {
    "duration": 3077,
    "start_time": "2021-10-01T20:25:17.019Z"
   },
   {
    "duration": 629,
    "start_time": "2021-10-01T20:25:20.098Z"
   },
   {
    "duration": -55,
    "start_time": "2021-10-01T20:25:20.785Z"
   },
   {
    "duration": -73,
    "start_time": "2021-10-01T20:25:20.805Z"
   },
   {
    "duration": -74,
    "start_time": "2021-10-01T20:25:20.808Z"
   },
   {
    "duration": -75,
    "start_time": "2021-10-01T20:25:20.810Z"
   },
   {
    "duration": -75,
    "start_time": "2021-10-01T20:25:20.812Z"
   },
   {
    "duration": -76,
    "start_time": "2021-10-01T20:25:20.814Z"
   },
   {
    "duration": -77,
    "start_time": "2021-10-01T20:25:20.816Z"
   },
   {
    "duration": -78,
    "start_time": "2021-10-01T20:25:20.818Z"
   },
   {
    "duration": -78,
    "start_time": "2021-10-01T20:25:20.820Z"
   },
   {
    "duration": -80,
    "start_time": "2021-10-01T20:25:20.823Z"
   },
   {
    "duration": -81,
    "start_time": "2021-10-01T20:25:20.825Z"
   },
   {
    "duration": -82,
    "start_time": "2021-10-01T20:25:20.827Z"
   },
   {
    "duration": -83,
    "start_time": "2021-10-01T20:25:20.829Z"
   },
   {
    "duration": -84,
    "start_time": "2021-10-01T20:25:20.831Z"
   },
   {
    "duration": -85,
    "start_time": "2021-10-01T20:25:20.833Z"
   },
   {
    "duration": -86,
    "start_time": "2021-10-01T20:25:20.835Z"
   },
   {
    "duration": -93,
    "start_time": "2021-10-01T20:25:20.843Z"
   },
   {
    "duration": -94,
    "start_time": "2021-10-01T20:25:20.845Z"
   },
   {
    "duration": -97,
    "start_time": "2021-10-01T20:25:20.849Z"
   },
   {
    "duration": -98,
    "start_time": "2021-10-01T20:25:20.851Z"
   },
   {
    "duration": 539,
    "start_time": "2021-10-01T20:28:42.370Z"
   },
   {
    "duration": 2,
    "start_time": "2021-10-01T20:28:44.336Z"
   },
   {
    "duration": 2,
    "start_time": "2021-10-01T20:28:44.825Z"
   },
   {
    "duration": 4,
    "start_time": "2021-10-01T20:28:45.031Z"
   },
   {
    "duration": 2,
    "start_time": "2021-10-01T20:28:45.207Z"
   },
   {
    "duration": 34,
    "start_time": "2021-10-01T20:28:45.759Z"
   },
   {
    "duration": 6,
    "start_time": "2021-10-01T20:28:46.122Z"
   },
   {
    "duration": 4,
    "start_time": "2021-10-01T20:28:46.576Z"
   },
   {
    "duration": 44,
    "start_time": "2021-10-01T20:28:47.320Z"
   },
   {
    "duration": 3,
    "start_time": "2021-10-01T20:28:47.471Z"
   },
   {
    "duration": 915,
    "start_time": "2021-10-01T20:28:47.653Z"
   },
   {
    "duration": 561,
    "start_time": "2021-10-01T20:29:56.403Z"
   },
   {
    "duration": 3,
    "start_time": "2021-10-01T20:29:56.966Z"
   },
   {
    "duration": 6,
    "start_time": "2021-10-01T20:29:57.103Z"
   },
   {
    "duration": 4,
    "start_time": "2021-10-01T20:29:57.296Z"
   },
   {
    "duration": 2,
    "start_time": "2021-10-01T20:29:57.432Z"
   },
   {
    "duration": 35,
    "start_time": "2021-10-01T20:29:57.817Z"
   },
   {
    "duration": 6,
    "start_time": "2021-10-01T20:29:58.016Z"
   },
   {
    "duration": 5,
    "start_time": "2021-10-01T20:29:58.207Z"
   },
   {
    "duration": 39,
    "start_time": "2021-10-01T20:29:58.392Z"
   },
   {
    "duration": 3,
    "start_time": "2021-10-01T20:29:58.560Z"
   },
   {
    "duration": 70355,
    "start_time": "2021-10-01T20:29:58.760Z"
   },
   {
    "duration": 9406,
    "start_time": "2021-10-01T20:31:09.117Z"
   },
   {
    "duration": 87,
    "start_time": "2021-10-01T20:34:07.172Z"
   },
   {
    "duration": 793,
    "start_time": "2021-10-01T20:36:28.012Z"
   },
   {
    "duration": 543,
    "start_time": "2021-10-01T20:37:58.634Z"
   },
   {
    "duration": 219,
    "start_time": "2021-10-01T20:38:05.348Z"
   },
   {
    "duration": 5448,
    "start_time": "2021-10-01T20:40:13.097Z"
   },
   {
    "duration": 1003,
    "start_time": "2021-10-01T20:40:18.547Z"
   },
   {
    "duration": 3,
    "start_time": "2021-10-01T20:40:19.560Z"
   },
   {
    "duration": 14,
    "start_time": "2021-10-01T20:40:19.565Z"
   },
   {
    "duration": 1285,
    "start_time": "2021-10-01T20:40:19.581Z"
   },
   {
    "duration": 2,
    "start_time": "2021-10-01T20:40:20.869Z"
   },
   {
    "duration": 18,
    "start_time": "2021-10-01T20:40:20.873Z"
   },
   {
    "duration": 10,
    "start_time": "2021-10-01T20:40:20.893Z"
   },
   {
    "duration": 19,
    "start_time": "2021-10-01T20:40:20.906Z"
   },
   {
    "duration": 20,
    "start_time": "2021-10-01T20:40:20.928Z"
   },
   {
    "duration": 9,
    "start_time": "2021-10-01T20:40:20.951Z"
   },
   {
    "duration": 13,
    "start_time": "2021-10-01T20:40:20.965Z"
   },
   {
    "duration": 21,
    "start_time": "2021-10-01T20:40:20.980Z"
   },
   {
    "duration": 20,
    "start_time": "2021-10-01T20:40:21.003Z"
   },
   {
    "duration": 2734,
    "start_time": "2021-10-01T20:40:21.026Z"
   },
   {
    "duration": 514,
    "start_time": "2021-10-01T20:40:23.762Z"
   },
   {
    "duration": -44,
    "start_time": "2021-10-01T20:40:24.322Z"
   },
   {
    "duration": -65,
    "start_time": "2021-10-01T20:40:24.344Z"
   },
   {
    "duration": -81,
    "start_time": "2021-10-01T20:40:24.361Z"
   },
   {
    "duration": -82,
    "start_time": "2021-10-01T20:40:24.363Z"
   },
   {
    "duration": -88,
    "start_time": "2021-10-01T20:40:24.370Z"
   },
   {
    "duration": -109,
    "start_time": "2021-10-01T20:40:24.392Z"
   },
   {
    "duration": -146,
    "start_time": "2021-10-01T20:40:24.430Z"
   },
   {
    "duration": -147,
    "start_time": "2021-10-01T20:40:24.432Z"
   },
   {
    "duration": -170,
    "start_time": "2021-10-01T20:40:24.456Z"
   },
   {
    "duration": -175,
    "start_time": "2021-10-01T20:40:24.462Z"
   },
   {
    "duration": -179,
    "start_time": "2021-10-01T20:40:24.467Z"
   },
   {
    "duration": -184,
    "start_time": "2021-10-01T20:40:24.473Z"
   },
   {
    "duration": -187,
    "start_time": "2021-10-01T20:40:24.477Z"
   },
   {
    "duration": -189,
    "start_time": "2021-10-01T20:40:24.480Z"
   },
   {
    "duration": -190,
    "start_time": "2021-10-01T20:40:24.482Z"
   },
   {
    "duration": -191,
    "start_time": "2021-10-01T20:40:24.484Z"
   },
   {
    "duration": -195,
    "start_time": "2021-10-01T20:40:24.489Z"
   },
   {
    "duration": -202,
    "start_time": "2021-10-01T20:40:24.497Z"
   },
   {
    "duration": -207,
    "start_time": "2021-10-01T20:40:24.503Z"
   },
   {
    "duration": -208,
    "start_time": "2021-10-01T20:40:24.506Z"
   },
   {
    "duration": 587,
    "start_time": "2021-10-01T20:40:57.731Z"
   },
   {
    "duration": 512,
    "start_time": "2021-10-01T20:41:01.922Z"
   },
   {
    "duration": 555,
    "start_time": "2021-10-01T20:43:03.150Z"
   },
   {
    "duration": 622,
    "start_time": "2021-10-01T20:43:08.804Z"
   },
   {
    "duration": 774,
    "start_time": "2021-10-01T20:43:40.821Z"
   },
   {
    "duration": 760,
    "start_time": "2021-10-01T20:43:46.117Z"
   },
   {
    "duration": 541,
    "start_time": "2021-10-01T20:45:39.054Z"
   },
   {
    "duration": 537,
    "start_time": "2021-10-01T20:45:45.806Z"
   },
   {
    "duration": 4439,
    "start_time": "2021-10-01T20:45:59.622Z"
   },
   {
    "duration": 506,
    "start_time": "2021-10-01T20:46:25.667Z"
   },
   {
    "duration": 270,
    "start_time": "2021-10-01T20:46:55.363Z"
   },
   {
    "duration": 82,
    "start_time": "2021-10-01T20:46:59.085Z"
   },
   {
    "duration": 325,
    "start_time": "2021-10-01T20:47:03.566Z"
   },
   {
    "duration": 4,
    "start_time": "2021-10-01T20:47:31.542Z"
   },
   {
    "duration": 540,
    "start_time": "2021-10-01T20:47:52.680Z"
   },
   {
    "duration": 984,
    "start_time": "2021-10-01T20:47:57.791Z"
   },
   {
    "duration": 105,
    "start_time": "2021-10-01T20:49:13.023Z"
   },
   {
    "duration": 758,
    "start_time": "2021-10-01T20:49:31.161Z"
   },
   {
    "duration": 518,
    "start_time": "2021-10-01T20:49:35.445Z"
   },
   {
    "duration": 539,
    "start_time": "2021-10-01T20:49:40.598Z"
   },
   {
    "duration": 523,
    "start_time": "2021-10-01T20:50:11.756Z"
   },
   {
    "duration": 514,
    "start_time": "2021-10-01T20:50:33.696Z"
   },
   {
    "duration": 515,
    "start_time": "2021-10-01T20:50:39.487Z"
   },
   {
    "duration": 766,
    "start_time": "2021-10-01T20:51:05.905Z"
   },
   {
    "duration": 584,
    "start_time": "2021-10-01T20:51:09.128Z"
   },
   {
    "duration": 95,
    "start_time": "2021-10-01T20:51:47.214Z"
   },
   {
    "duration": 89,
    "start_time": "2021-10-01T20:51:57.157Z"
   },
   {
    "duration": 544,
    "start_time": "2021-10-01T20:52:23.638Z"
   },
   {
    "duration": 83,
    "start_time": "2021-10-01T20:52:40.059Z"
   },
   {
    "duration": 529,
    "start_time": "2021-10-01T20:52:49.473Z"
   },
   {
    "duration": 519,
    "start_time": "2021-10-01T20:52:54.361Z"
   },
   {
    "duration": 921,
    "start_time": "2021-10-01T20:53:08.393Z"
   },
   {
    "duration": 523,
    "start_time": "2021-10-01T20:53:12.561Z"
   },
   {
    "duration": 625,
    "start_time": "2021-10-01T20:53:37.634Z"
   },
   {
    "duration": 538,
    "start_time": "2021-10-01T20:54:07.401Z"
   },
   {
    "duration": 567,
    "start_time": "2021-10-01T20:54:10.289Z"
   },
   {
    "duration": 839,
    "start_time": "2021-10-01T20:56:26.089Z"
   },
   {
    "duration": 517,
    "start_time": "2021-10-01T20:56:31.475Z"
   },
   {
    "duration": 249,
    "start_time": "2021-10-01T20:58:38.298Z"
   },
   {
    "duration": 5276,
    "start_time": "2021-10-01T21:04:14.051Z"
   },
   {
    "duration": 974,
    "start_time": "2021-10-01T21:04:19.329Z"
   },
   {
    "duration": 2,
    "start_time": "2021-10-01T21:04:20.306Z"
   },
   {
    "duration": 14,
    "start_time": "2021-10-01T21:04:20.310Z"
   },
   {
    "duration": 1183,
    "start_time": "2021-10-01T21:04:20.326Z"
   },
   {
    "duration": 3,
    "start_time": "2021-10-01T21:04:21.510Z"
   },
   {
    "duration": 10,
    "start_time": "2021-10-01T21:04:21.514Z"
   },
   {
    "duration": 7,
    "start_time": "2021-10-01T21:04:21.526Z"
   },
   {
    "duration": 3,
    "start_time": "2021-10-01T21:04:21.536Z"
   },
   {
    "duration": 16,
    "start_time": "2021-10-01T21:04:21.549Z"
   },
   {
    "duration": 6,
    "start_time": "2021-10-01T21:04:21.567Z"
   },
   {
    "duration": 6,
    "start_time": "2021-10-01T21:04:21.574Z"
   },
   {
    "duration": 22,
    "start_time": "2021-10-01T21:04:21.582Z"
   },
   {
    "duration": 2,
    "start_time": "2021-10-01T21:04:21.606Z"
   },
   {
    "duration": 2709,
    "start_time": "2021-10-01T21:04:21.610Z"
   },
   {
    "duration": 505,
    "start_time": "2021-10-01T21:04:24.321Z"
   },
   {
    "duration": -95,
    "start_time": "2021-10-01T21:04:24.923Z"
   },
   {
    "duration": -96,
    "start_time": "2021-10-01T21:04:24.925Z"
   },
   {
    "duration": -138,
    "start_time": "2021-10-01T21:04:24.968Z"
   },
   {
    "duration": -139,
    "start_time": "2021-10-01T21:04:24.970Z"
   },
   {
    "duration": -145,
    "start_time": "2021-10-01T21:04:24.977Z"
   },
   {
    "duration": -146,
    "start_time": "2021-10-01T21:04:24.979Z"
   },
   {
    "duration": -178,
    "start_time": "2021-10-01T21:04:25.012Z"
   },
   {
    "duration": -180,
    "start_time": "2021-10-01T21:04:25.015Z"
   },
   {
    "duration": -181,
    "start_time": "2021-10-01T21:04:25.017Z"
   },
   {
    "duration": -182,
    "start_time": "2021-10-01T21:04:25.019Z"
   },
   {
    "duration": -183,
    "start_time": "2021-10-01T21:04:25.021Z"
   },
   {
    "duration": -184,
    "start_time": "2021-10-01T21:04:25.023Z"
   },
   {
    "duration": -194,
    "start_time": "2021-10-01T21:04:25.034Z"
   },
   {
    "duration": -195,
    "start_time": "2021-10-01T21:04:25.036Z"
   },
   {
    "duration": -197,
    "start_time": "2021-10-01T21:04:25.038Z"
   },
   {
    "duration": -197,
    "start_time": "2021-10-01T21:04:25.040Z"
   },
   {
    "duration": -201,
    "start_time": "2021-10-01T21:04:25.044Z"
   },
   {
    "duration": -202,
    "start_time": "2021-10-01T21:04:25.046Z"
   },
   {
    "duration": -202,
    "start_time": "2021-10-01T21:04:25.047Z"
   },
   {
    "duration": -203,
    "start_time": "2021-10-01T21:04:25.049Z"
   },
   {
    "duration": 544,
    "start_time": "2021-10-01T21:05:53.440Z"
   },
   {
    "duration": 544,
    "start_time": "2021-10-01T21:05:57.989Z"
   },
   {
    "duration": 531,
    "start_time": "2021-10-01T21:06:52.991Z"
   },
   {
    "duration": 519,
    "start_time": "2021-10-01T21:06:56.215Z"
   },
   {
    "duration": 790,
    "start_time": "2021-10-01T21:07:12.729Z"
   },
   {
    "duration": 566,
    "start_time": "2021-10-01T21:07:16.991Z"
   },
   {
    "duration": 523,
    "start_time": "2021-10-01T21:07:35.330Z"
   },
   {
    "duration": 1013,
    "start_time": "2021-10-01T21:07:39.791Z"
   },
   {
    "duration": 485,
    "start_time": "2021-10-01T21:07:58.321Z"
   },
   {
    "duration": 490,
    "start_time": "2021-10-01T21:08:03.553Z"
   },
   {
    "duration": 723,
    "start_time": "2021-10-01T21:08:48.192Z"
   },
   {
    "duration": 507,
    "start_time": "2021-10-01T21:08:51.951Z"
   },
   {
    "duration": 81,
    "start_time": "2021-10-01T21:10:26.724Z"
   },
   {
    "duration": 484,
    "start_time": "2021-10-01T21:10:32.585Z"
   },
   {
    "duration": 484,
    "start_time": "2021-10-01T21:13:00.068Z"
   },
   {
    "duration": 670,
    "start_time": "2021-10-01T21:13:04.833Z"
   },
   {
    "duration": 887,
    "start_time": "2021-10-01T21:14:36.701Z"
   },
   {
    "duration": 1174,
    "start_time": "2021-10-01T21:47:58.621Z"
   },
   {
    "duration": 936,
    "start_time": "2021-10-01T21:48:15.877Z"
   },
   {
    "duration": 481,
    "start_time": "2021-10-01T21:48:47.039Z"
   },
   {
    "duration": 739,
    "start_time": "2021-10-01T21:48:54.224Z"
   },
   {
    "duration": 917,
    "start_time": "2021-10-01T21:49:04.632Z"
   },
   {
    "duration": 984,
    "start_time": "2021-10-01T21:49:19.075Z"
   },
   {
    "duration": 5085,
    "start_time": "2021-10-01T21:49:33.412Z"
   },
   {
    "duration": 967,
    "start_time": "2021-10-01T21:49:38.499Z"
   },
   {
    "duration": 2,
    "start_time": "2021-10-01T21:49:39.468Z"
   },
   {
    "duration": 7,
    "start_time": "2021-10-01T21:49:39.472Z"
   },
   {
    "duration": 3595,
    "start_time": "2021-10-01T21:49:39.480Z"
   },
   {
    "duration": -33,
    "start_time": "2021-10-01T21:49:43.111Z"
   },
   {
    "duration": -55,
    "start_time": "2021-10-01T21:49:43.134Z"
   },
   {
    "duration": -82,
    "start_time": "2021-10-01T21:49:43.162Z"
   },
   {
    "duration": -112,
    "start_time": "2021-10-01T21:49:43.194Z"
   },
   {
    "duration": -128,
    "start_time": "2021-10-01T21:49:43.211Z"
   },
   {
    "duration": -158,
    "start_time": "2021-10-01T21:49:43.243Z"
   },
   {
    "duration": -183,
    "start_time": "2021-10-01T21:49:43.269Z"
   },
   {
    "duration": -187,
    "start_time": "2021-10-01T21:49:43.274Z"
   },
   {
    "duration": -189,
    "start_time": "2021-10-01T21:49:43.277Z"
   },
   {
    "duration": -190,
    "start_time": "2021-10-01T21:49:43.279Z"
   },
   {
    "duration": -191,
    "start_time": "2021-10-01T21:49:43.281Z"
   },
   {
    "duration": -192,
    "start_time": "2021-10-01T21:49:43.283Z"
   },
   {
    "duration": -199,
    "start_time": "2021-10-01T21:49:43.291Z"
   },
   {
    "duration": -202,
    "start_time": "2021-10-01T21:49:43.295Z"
   },
   {
    "duration": -211,
    "start_time": "2021-10-01T21:49:43.305Z"
   },
   {
    "duration": -220,
    "start_time": "2021-10-01T21:49:43.315Z"
   },
   {
    "duration": -222,
    "start_time": "2021-10-01T21:49:43.318Z"
   },
   {
    "duration": -224,
    "start_time": "2021-10-01T21:49:43.321Z"
   },
   {
    "duration": -225,
    "start_time": "2021-10-01T21:49:43.323Z"
   },
   {
    "duration": -227,
    "start_time": "2021-10-01T21:49:43.326Z"
   },
   {
    "duration": -228,
    "start_time": "2021-10-01T21:49:43.328Z"
   },
   {
    "duration": -229,
    "start_time": "2021-10-01T21:49:43.330Z"
   },
   {
    "duration": -230,
    "start_time": "2021-10-01T21:49:43.332Z"
   },
   {
    "duration": -231,
    "start_time": "2021-10-01T21:49:43.334Z"
   },
   {
    "duration": -232,
    "start_time": "2021-10-01T21:49:43.337Z"
   },
   {
    "duration": -233,
    "start_time": "2021-10-01T21:49:43.339Z"
   },
   {
    "duration": -234,
    "start_time": "2021-10-01T21:49:43.341Z"
   },
   {
    "duration": -235,
    "start_time": "2021-10-01T21:49:43.343Z"
   },
   {
    "duration": -237,
    "start_time": "2021-10-01T21:49:43.346Z"
   },
   {
    "duration": -238,
    "start_time": "2021-10-01T21:49:43.348Z"
   },
   {
    "duration": -239,
    "start_time": "2021-10-01T21:49:43.350Z"
   },
   {
    "duration": 524,
    "start_time": "2021-10-01T21:50:10.692Z"
   },
   {
    "duration": 505,
    "start_time": "2021-10-01T21:50:40.129Z"
   },
   {
    "duration": 1152,
    "start_time": "2021-10-01T21:51:03.168Z"
   },
   {
    "duration": 1040,
    "start_time": "2021-10-01T21:56:41.047Z"
   },
   {
    "duration": 991,
    "start_time": "2021-10-01T21:57:17.914Z"
   },
   {
    "duration": 728,
    "start_time": "2021-10-01T21:57:40.419Z"
   },
   {
    "duration": 515,
    "start_time": "2021-10-01T21:58:00.892Z"
   },
   {
    "duration": 483,
    "start_time": "2021-10-01T21:58:09.647Z"
   },
   {
    "duration": 906,
    "start_time": "2021-10-01T21:58:39.628Z"
   },
   {
    "duration": 731,
    "start_time": "2021-10-01T21:59:12.067Z"
   },
   {
    "duration": 3623,
    "start_time": "2021-10-01T21:59:24.829Z"
   },
   {
    "duration": 3621,
    "start_time": "2021-10-01T21:59:41.985Z"
   },
   {
    "duration": 1151,
    "start_time": "2021-10-01T21:59:51.319Z"
   },
   {
    "duration": 478,
    "start_time": "2021-10-01T22:00:11.516Z"
   },
   {
    "duration": 983,
    "start_time": "2021-10-01T22:00:44.068Z"
   },
   {
    "duration": 756,
    "start_time": "2021-10-01T22:00:48.932Z"
   },
   {
    "duration": 3596,
    "start_time": "2021-10-01T22:00:58.276Z"
   },
   {
    "duration": 992,
    "start_time": "2021-10-01T22:01:29.273Z"
   },
   {
    "duration": 727,
    "start_time": "2021-10-01T22:01:43.126Z"
   },
   {
    "duration": 80656,
    "start_time": "2021-10-01T22:02:46.550Z"
   },
   {
    "duration": -30,
    "start_time": "2021-10-01T22:06:51.755Z"
   },
   {
    "duration": 492,
    "start_time": "2021-10-01T22:07:03.528Z"
   },
   {
    "duration": 1195,
    "start_time": "2021-10-01T22:07:20.161Z"
   },
   {
    "duration": 934,
    "start_time": "2021-10-01T22:10:02.263Z"
   },
   {
    "duration": 909,
    "start_time": "2021-10-01T22:10:09.216Z"
   },
   {
    "duration": 1255,
    "start_time": "2021-10-01T22:10:45.770Z"
   },
   {
    "duration": 5208,
    "start_time": "2021-10-01T22:11:01.574Z"
   },
   {
    "duration": 951,
    "start_time": "2021-10-01T22:11:07.922Z"
   },
   {
    "duration": 2,
    "start_time": "2021-10-01T22:11:08.874Z"
   },
   {
    "duration": 3,
    "start_time": "2021-10-01T22:11:09.186Z"
   },
   {
    "duration": 3755,
    "start_time": "2021-10-01T22:11:09.395Z"
   },
   {
    "duration": -33,
    "start_time": "2021-10-01T22:11:13.185Z"
   },
   {
    "duration": 504,
    "start_time": "2021-10-01T22:13:32.295Z"
   },
   {
    "duration": 496,
    "start_time": "2021-10-01T22:14:09.396Z"
   },
   {
    "duration": 738,
    "start_time": "2021-10-01T22:14:19.419Z"
   },
   {
    "duration": 497,
    "start_time": "2021-10-01T22:14:36.816Z"
   },
   {
    "duration": 489,
    "start_time": "2021-10-01T22:14:40.108Z"
   },
   {
    "duration": 840,
    "start_time": "2021-10-01T22:14:50.843Z"
   },
   {
    "duration": 507,
    "start_time": "2021-10-01T22:15:28.812Z"
   },
   {
    "duration": 501,
    "start_time": "2021-10-01T22:15:42.396Z"
   },
   {
    "duration": 497,
    "start_time": "2021-10-01T22:16:06.397Z"
   },
   {
    "duration": 1140,
    "start_time": "2021-10-01T22:16:11.784Z"
   },
   {
    "duration": 941,
    "start_time": "2021-10-01T22:16:46.351Z"
   },
   {
    "duration": 482,
    "start_time": "2021-10-01T22:16:55.734Z"
   },
   {
    "duration": 1233,
    "start_time": "2021-10-01T22:17:08.525Z"
   },
   {
    "duration": 1207,
    "start_time": "2021-10-01T22:17:41.305Z"
   },
   {
    "duration": 1377,
    "start_time": "2021-10-01T22:18:13.659Z"
   },
   {
    "duration": 947,
    "start_time": "2021-10-01T22:18:28.464Z"
   },
   {
    "duration": 1008,
    "start_time": "2021-10-01T22:18:40.816Z"
   },
   {
    "duration": 89,
    "start_time": "2021-10-01T22:19:17.054Z"
   },
   {
    "duration": 1209,
    "start_time": "2021-10-01T22:19:20.213Z"
   },
   {
    "duration": 933,
    "start_time": "2021-10-01T22:19:41.425Z"
   },
   {
    "duration": 967,
    "start_time": "2021-10-01T22:19:47.767Z"
   },
   {
    "duration": 1729,
    "start_time": "2021-10-01T22:20:48.521Z"
   },
   {
    "duration": 927,
    "start_time": "2021-10-01T22:20:57.384Z"
   },
   {
    "duration": 973,
    "start_time": "2021-10-01T22:21:04.048Z"
   },
   {
    "duration": 564,
    "start_time": "2021-10-01T22:21:13.135Z"
   },
   {
    "duration": 1274,
    "start_time": "2021-10-01T22:21:24.646Z"
   },
   {
    "duration": 974,
    "start_time": "2021-10-01T22:21:34.568Z"
   },
   {
    "duration": 985,
    "start_time": "2021-10-01T22:22:02.697Z"
   },
   {
    "duration": 956,
    "start_time": "2021-10-01T22:22:19.848Z"
   },
   {
    "duration": 1364,
    "start_time": "2021-10-01T22:22:25.226Z"
   },
   {
    "duration": 922,
    "start_time": "2021-10-01T22:22:53.520Z"
   },
   {
    "duration": 502,
    "start_time": "2021-10-01T22:23:07.485Z"
   },
   {
    "duration": 778,
    "start_time": "2021-10-01T22:23:22.441Z"
   },
   {
    "duration": 499,
    "start_time": "2021-10-01T22:23:54.034Z"
   },
   {
    "duration": 506,
    "start_time": "2021-10-01T22:24:18.232Z"
   },
   {
    "duration": 501,
    "start_time": "2021-10-01T22:24:33.292Z"
   },
   {
    "duration": 4030,
    "start_time": "2021-10-01T22:24:59.744Z"
   },
   {
    "duration": 485,
    "start_time": "2021-10-01T22:26:49.723Z"
   },
   {
    "duration": 1572,
    "start_time": "2021-10-01T22:27:15.490Z"
   },
   {
    "duration": 934,
    "start_time": "2021-10-01T22:28:38.069Z"
   },
   {
    "duration": 779,
    "start_time": "2021-10-01T22:29:25.027Z"
   },
   {
    "duration": 5284,
    "start_time": "2021-10-01T22:29:38.707Z"
   },
   {
    "duration": 974,
    "start_time": "2021-10-01T22:29:43.993Z"
   },
   {
    "duration": 3,
    "start_time": "2021-10-01T22:29:44.969Z"
   },
   {
    "duration": 5,
    "start_time": "2021-10-01T22:29:44.974Z"
   },
   {
    "duration": 1192,
    "start_time": "2021-10-01T22:29:44.981Z"
   },
   {
    "duration": 2582,
    "start_time": "2021-10-01T22:29:46.175Z"
   },
   {
    "duration": -11,
    "start_time": "2021-10-01T22:29:48.772Z"
   },
   {
    "duration": -14,
    "start_time": "2021-10-01T22:29:48.776Z"
   },
   {
    "duration": -16,
    "start_time": "2021-10-01T22:29:48.779Z"
   },
   {
    "duration": -20,
    "start_time": "2021-10-01T22:29:48.785Z"
   },
   {
    "duration": -26,
    "start_time": "2021-10-01T22:29:48.792Z"
   },
   {
    "duration": -28,
    "start_time": "2021-10-01T22:29:48.795Z"
   },
   {
    "duration": -29,
    "start_time": "2021-10-01T22:29:48.797Z"
   },
   {
    "duration": -31,
    "start_time": "2021-10-01T22:29:48.799Z"
   },
   {
    "duration": -33,
    "start_time": "2021-10-01T22:29:48.802Z"
   },
   {
    "duration": -40,
    "start_time": "2021-10-01T22:29:48.810Z"
   },
   {
    "duration": -41,
    "start_time": "2021-10-01T22:29:48.812Z"
   },
   {
    "duration": -42,
    "start_time": "2021-10-01T22:29:48.814Z"
   },
   {
    "duration": -43,
    "start_time": "2021-10-01T22:29:48.816Z"
   },
   {
    "duration": -45,
    "start_time": "2021-10-01T22:29:48.819Z"
   },
   {
    "duration": -46,
    "start_time": "2021-10-01T22:29:48.821Z"
   },
   {
    "duration": -47,
    "start_time": "2021-10-01T22:29:48.823Z"
   },
   {
    "duration": -48,
    "start_time": "2021-10-01T22:29:48.825Z"
   },
   {
    "duration": -49,
    "start_time": "2021-10-01T22:29:48.827Z"
   },
   {
    "duration": -51,
    "start_time": "2021-10-01T22:29:48.830Z"
   },
   {
    "duration": -52,
    "start_time": "2021-10-01T22:29:48.832Z"
   },
   {
    "duration": -53,
    "start_time": "2021-10-01T22:29:48.834Z"
   },
   {
    "duration": -56,
    "start_time": "2021-10-01T22:29:48.838Z"
   },
   {
    "duration": -58,
    "start_time": "2021-10-01T22:29:48.840Z"
   },
   {
    "duration": -59,
    "start_time": "2021-10-01T22:29:48.842Z"
   },
   {
    "duration": -62,
    "start_time": "2021-10-01T22:29:48.846Z"
   },
   {
    "duration": -64,
    "start_time": "2021-10-01T22:29:48.849Z"
   },
   {
    "duration": -65,
    "start_time": "2021-10-01T22:29:48.851Z"
   },
   {
    "duration": -68,
    "start_time": "2021-10-01T22:29:48.854Z"
   },
   {
    "duration": -69,
    "start_time": "2021-10-01T22:29:48.856Z"
   },
   {
    "duration": -78,
    "start_time": "2021-10-01T22:29:48.866Z"
   },
   {
    "duration": -79,
    "start_time": "2021-10-01T22:29:48.868Z"
   },
   {
    "duration": 512,
    "start_time": "2021-10-01T22:31:18.380Z"
   },
   {
    "duration": 4,
    "start_time": "2021-10-01T22:31:20.315Z"
   },
   {
    "duration": 5,
    "start_time": "2021-10-01T22:31:54.707Z"
   },
   {
    "duration": 87512,
    "start_time": "2021-10-01T22:31:57.634Z"
   },
   {
    "duration": 4,
    "start_time": "2021-10-01T22:33:43.652Z"
   },
   {
    "duration": 5713,
    "start_time": "2021-10-01T22:34:35.416Z"
   },
   {
    "duration": 961,
    "start_time": "2021-10-01T22:34:41.132Z"
   },
   {
    "duration": 3,
    "start_time": "2021-10-01T22:34:42.096Z"
   },
   {
    "duration": 7,
    "start_time": "2021-10-01T22:34:42.101Z"
   },
   {
    "duration": 1201,
    "start_time": "2021-10-01T22:34:42.110Z"
   },
   {
    "duration": 4,
    "start_time": "2021-10-01T22:34:43.313Z"
   },
   {
    "duration": 1839,
    "start_time": "2021-10-01T22:34:43.319Z"
   },
   {
    "duration": 2,
    "start_time": "2021-10-01T22:34:45.161Z"
   },
   {
    "duration": 7,
    "start_time": "2021-10-01T22:34:45.166Z"
   },
   {
    "duration": 6,
    "start_time": "2021-10-01T22:34:45.176Z"
   },
   {
    "duration": 4,
    "start_time": "2021-10-01T22:34:45.184Z"
   },
   {
    "duration": 674,
    "start_time": "2021-10-01T22:34:45.190Z"
   },
   {
    "duration": -22,
    "start_time": "2021-10-01T22:34:45.889Z"
   },
   {
    "duration": -29,
    "start_time": "2021-10-01T22:34:45.897Z"
   },
   {
    "duration": -36,
    "start_time": "2021-10-01T22:34:45.905Z"
   },
   {
    "duration": -38,
    "start_time": "2021-10-01T22:34:45.908Z"
   },
   {
    "duration": -45,
    "start_time": "2021-10-01T22:34:45.916Z"
   },
   {
    "duration": -47,
    "start_time": "2021-10-01T22:34:45.918Z"
   },
   {
    "duration": -48,
    "start_time": "2021-10-01T22:34:45.920Z"
   },
   {
    "duration": -48,
    "start_time": "2021-10-01T22:34:45.922Z"
   },
   {
    "duration": -52,
    "start_time": "2021-10-01T22:34:45.927Z"
   },
   {
    "duration": -54,
    "start_time": "2021-10-01T22:34:45.929Z"
   },
   {
    "duration": -55,
    "start_time": "2021-10-01T22:34:45.931Z"
   },
   {
    "duration": -56,
    "start_time": "2021-10-01T22:34:45.933Z"
   },
   {
    "duration": -57,
    "start_time": "2021-10-01T22:34:45.935Z"
   },
   {
    "duration": -58,
    "start_time": "2021-10-01T22:34:45.937Z"
   },
   {
    "duration": -59,
    "start_time": "2021-10-01T22:34:45.939Z"
   },
   {
    "duration": -60,
    "start_time": "2021-10-01T22:34:45.941Z"
   },
   {
    "duration": -61,
    "start_time": "2021-10-01T22:34:45.943Z"
   },
   {
    "duration": -62,
    "start_time": "2021-10-01T22:34:45.945Z"
   },
   {
    "duration": -63,
    "start_time": "2021-10-01T22:34:45.947Z"
   },
   {
    "duration": -63,
    "start_time": "2021-10-01T22:34:45.948Z"
   },
   {
    "duration": -64,
    "start_time": "2021-10-01T22:34:45.950Z"
   },
   {
    "duration": -65,
    "start_time": "2021-10-01T22:34:45.952Z"
   },
   {
    "duration": -67,
    "start_time": "2021-10-01T22:34:45.954Z"
   },
   {
    "duration": -68,
    "start_time": "2021-10-01T22:34:45.956Z"
   },
   {
    "duration": -69,
    "start_time": "2021-10-01T22:34:45.958Z"
   },
   {
    "duration": -69,
    "start_time": "2021-10-01T22:34:45.959Z"
   },
   {
    "duration": 8,
    "start_time": "2021-10-01T22:34:51.247Z"
   },
   {
    "duration": 982,
    "start_time": "2021-10-01T22:34:51.553Z"
   },
   {
    "duration": 2,
    "start_time": "2021-10-01T22:34:52.537Z"
   },
   {
    "duration": 4,
    "start_time": "2021-10-01T22:34:56.280Z"
   },
   {
    "duration": 928,
    "start_time": "2021-10-01T22:34:56.937Z"
   },
   {
    "duration": 7,
    "start_time": "2021-10-01T22:34:57.868Z"
   },
   {
    "duration": 61,
    "start_time": "2021-10-01T22:34:58.608Z"
   },
   {
    "duration": 59,
    "start_time": "2021-10-01T22:35:26.385Z"
   },
   {
    "duration": 4,
    "start_time": "2021-10-01T22:35:54.914Z"
   },
   {
    "duration": 59,
    "start_time": "2021-10-01T22:35:56.499Z"
   },
   {
    "duration": 5,
    "start_time": "2021-10-01T22:36:07.220Z"
   },
   {
    "duration": 60,
    "start_time": "2021-10-01T22:36:08.017Z"
   },
   {
    "duration": 79,
    "start_time": "2021-10-01T22:36:33.371Z"
   },
   {
    "duration": 5,
    "start_time": "2021-10-01T22:36:36.401Z"
   },
   {
    "duration": 63,
    "start_time": "2021-10-01T22:36:37.057Z"
   },
   {
    "duration": 4,
    "start_time": "2021-10-01T22:37:03.604Z"
   },
   {
    "duration": 55,
    "start_time": "2021-10-01T22:37:04.401Z"
   },
   {
    "duration": 5,
    "start_time": "2021-10-01T22:37:38.067Z"
   },
   {
    "duration": 56,
    "start_time": "2021-10-01T22:37:39.930Z"
   },
   {
    "duration": 5,
    "start_time": "2021-10-01T22:39:43.340Z"
   },
   {
    "duration": 56,
    "start_time": "2021-10-01T22:39:44.154Z"
   },
   {
    "duration": 2,
    "start_time": "2021-10-01T22:39:57.483Z"
   },
   {
    "duration": 3,
    "start_time": "2021-10-01T22:39:58.026Z"
   },
   {
    "duration": 4,
    "start_time": "2021-10-01T22:39:58.170Z"
   },
   {
    "duration": 3,
    "start_time": "2021-10-01T22:39:58.338Z"
   },
   {
    "duration": 300,
    "start_time": "2021-10-01T22:39:58.795Z"
   },
   {
    "duration": 8,
    "start_time": "2021-10-01T22:39:59.089Z"
   },
   {
    "duration": 5,
    "start_time": "2021-10-01T22:40:38.692Z"
   },
   {
    "duration": 7,
    "start_time": "2021-10-01T22:40:39.794Z"
   },
   {
    "duration": 6,
    "start_time": "2021-10-01T22:40:46.003Z"
   },
   {
    "duration": 7,
    "start_time": "2021-10-01T22:40:46.668Z"
   },
   {
    "duration": 5,
    "start_time": "2021-10-01T22:40:54.243Z"
   },
   {
    "duration": 10,
    "start_time": "2021-10-01T22:40:54.250Z"
   },
   {
    "duration": 4,
    "start_time": "2021-10-01T22:41:09.237Z"
   },
   {
    "duration": 55,
    "start_time": "2021-10-01T22:41:10.067Z"
   },
   {
    "duration": 5,
    "start_time": "2021-10-01T22:41:22.075Z"
   },
   {
    "duration": 52,
    "start_time": "2021-10-01T22:41:22.965Z"
   },
   {
    "duration": 3,
    "start_time": "2021-10-01T22:41:27.549Z"
   },
   {
    "duration": 2,
    "start_time": "2021-10-01T22:41:28.038Z"
   },
   {
    "duration": 3,
    "start_time": "2021-10-01T22:41:28.213Z"
   },
   {
    "duration": 2,
    "start_time": "2021-10-01T22:41:28.371Z"
   },
   {
    "duration": 278,
    "start_time": "2021-10-01T22:41:28.731Z"
   },
   {
    "duration": 1,
    "start_time": "2021-10-01T22:41:29.010Z"
   },
   {
    "duration": 4,
    "start_time": "2021-10-01T22:41:29.109Z"
   },
   {
    "duration": 6,
    "start_time": "2021-10-01T22:41:55.004Z"
   },
   {
    "duration": 6,
    "start_time": "2021-10-01T22:41:56.269Z"
   },
   {
    "duration": 4,
    "start_time": "2021-10-01T22:41:56.443Z"
   },
   {
    "duration": 10,
    "start_time": "2021-10-01T22:41:56.596Z"
   },
   {
    "duration": 2,
    "start_time": "2021-10-01T22:41:56.779Z"
   },
   {
    "duration": 14,
    "start_time": "2021-10-01T22:41:57.779Z"
   },
   {
    "duration": 516,
    "start_time": "2021-10-01T22:42:33.686Z"
   },
   {
    "duration": 5,
    "start_time": "2021-10-01T22:42:34.419Z"
   },
   {
    "duration": 3,
    "start_time": "2021-10-01T22:42:34.588Z"
   },
   {
    "duration": 2,
    "start_time": "2021-10-01T22:42:35.997Z"
   },
   {
    "duration": 3,
    "start_time": "2021-10-01T22:42:36.707Z"
   },
   {
    "duration": 3,
    "start_time": "2021-10-01T22:42:37.116Z"
   },
   {
    "duration": 3,
    "start_time": "2021-10-01T22:42:37.291Z"
   },
   {
    "duration": 7,
    "start_time": "2021-10-01T22:42:38.236Z"
   },
   {
    "duration": 6,
    "start_time": "2021-10-01T22:42:38.715Z"
   },
   {
    "duration": 4,
    "start_time": "2021-10-01T22:42:38.957Z"
   },
   {
    "duration": 11,
    "start_time": "2021-10-01T22:42:40.581Z"
   },
   {
    "duration": 3,
    "start_time": "2021-10-01T22:42:40.892Z"
   },
   {
    "duration": 266,
    "start_time": "2021-10-01T22:42:41.476Z"
   },
   {
    "duration": 5542,
    "start_time": "2021-10-01T22:42:58.789Z"
   },
   {
    "duration": 960,
    "start_time": "2021-10-01T22:43:04.334Z"
   },
   {
    "duration": 2,
    "start_time": "2021-10-01T22:43:05.296Z"
   },
   {
    "duration": 7,
    "start_time": "2021-10-01T22:43:05.300Z"
   },
   {
    "duration": 1167,
    "start_time": "2021-10-01T22:43:05.308Z"
   },
   {
    "duration": 5,
    "start_time": "2021-10-01T22:43:06.476Z"
   },
   {
    "duration": 5,
    "start_time": "2021-10-01T22:43:06.483Z"
   },
   {
    "duration": 5,
    "start_time": "2021-10-01T22:43:06.491Z"
   },
   {
    "duration": 4,
    "start_time": "2021-10-01T22:43:06.498Z"
   },
   {
    "duration": 6,
    "start_time": "2021-10-01T22:43:06.504Z"
   },
   {
    "duration": 7,
    "start_time": "2021-10-01T22:43:06.512Z"
   },
   {
    "duration": 28,
    "start_time": "2021-10-01T22:43:06.521Z"
   },
   {
    "duration": 7,
    "start_time": "2021-10-01T22:43:06.551Z"
   },
   {
    "duration": 6,
    "start_time": "2021-10-01T22:43:06.560Z"
   },
   {
    "duration": 19,
    "start_time": "2021-10-01T22:43:06.568Z"
   },
   {
    "duration": 3,
    "start_time": "2021-10-01T22:43:06.589Z"
   },
   {
    "duration": 8127,
    "start_time": "2021-10-01T22:43:06.594Z"
   },
   {
    "duration": 1755,
    "start_time": "2021-10-01T22:43:14.723Z"
   },
   {
    "duration": 1529,
    "start_time": "2021-10-01T22:43:16.479Z"
   },
   {
    "duration": 2,
    "start_time": "2021-10-01T22:43:18.011Z"
   },
   {
    "duration": 5,
    "start_time": "2021-10-01T22:43:18.016Z"
   },
   {
    "duration": 29,
    "start_time": "2021-10-01T22:43:18.023Z"
   },
   {
    "duration": 3,
    "start_time": "2021-10-01T22:43:18.055Z"
   },
   {
    "duration": 7,
    "start_time": "2021-10-01T22:43:18.060Z"
   },
   {
    "duration": 4,
    "start_time": "2021-10-01T22:43:18.069Z"
   },
   {
    "duration": 8,
    "start_time": "2021-10-01T22:43:18.075Z"
   },
   {
    "duration": 133,
    "start_time": "2021-10-01T22:43:18.084Z"
   },
   {
    "duration": 4,
    "start_time": "2021-10-01T22:43:18.219Z"
   },
   {
    "duration": 7,
    "start_time": "2021-10-01T22:43:18.224Z"
   },
   {
    "duration": 17,
    "start_time": "2021-10-01T22:43:18.233Z"
   },
   {
    "duration": 6,
    "start_time": "2021-10-01T22:43:18.252Z"
   },
   {
    "duration": 6,
    "start_time": "2021-10-01T22:43:18.260Z"
   },
   {
    "duration": 621,
    "start_time": "2021-10-01T22:43:18.268Z"
   },
   {
    "duration": 4,
    "start_time": "2021-10-01T22:43:18.891Z"
   },
   {
    "duration": 5,
    "start_time": "2021-10-01T22:43:18.896Z"
   },
   {
    "duration": 22448,
    "start_time": "2021-10-01T22:43:18.904Z"
   },
   {
    "duration": 221,
    "start_time": "2021-10-01T22:43:41.354Z"
   },
   {
    "duration": 382,
    "start_time": "2021-10-01T22:43:41.577Z"
   },
   {
    "duration": 40,
    "start_time": "2021-10-01T22:45:08.014Z"
   },
   {
    "duration": 8,
    "start_time": "2021-10-01T22:45:08.966Z"
   },
   {
    "duration": 4,
    "start_time": "2021-10-01T22:45:09.170Z"
   },
   {
    "duration": 4,
    "start_time": "2021-10-01T22:45:10.021Z"
   },
   {
    "duration": 2,
    "start_time": "2021-10-01T22:45:10.661Z"
   },
   {
    "duration": 4,
    "start_time": "2021-10-01T22:45:10.877Z"
   },
   {
    "duration": 3,
    "start_time": "2021-10-01T22:45:11.092Z"
   },
   {
    "duration": 20,
    "start_time": "2021-10-01T22:45:11.573Z"
   },
   {
    "duration": 6,
    "start_time": "2021-10-01T22:45:13.004Z"
   },
   {
    "duration": 5,
    "start_time": "2021-10-01T22:45:14.340Z"
   },
   {
    "duration": 27,
    "start_time": "2021-10-01T22:45:14.549Z"
   },
   {
    "duration": 3,
    "start_time": "2021-10-01T22:45:14.782Z"
   },
   {
    "duration": 40886,
    "start_time": "2021-10-01T22:45:15.181Z"
   },
   {
    "duration": 2287,
    "start_time": "2021-10-01T22:46:29.110Z"
   },
   {
    "duration": 4,
    "start_time": "2021-10-01T22:46:31.399Z"
   },
   {
    "duration": 6300,
    "start_time": "2021-10-01T22:47:37.145Z"
   },
   {
    "duration": 4,
    "start_time": "2021-10-01T22:47:43.447Z"
   },
   {
    "duration": 4813,
    "start_time": "2021-10-01T22:47:55.640Z"
   },
   {
    "duration": 4,
    "start_time": "2021-10-01T22:48:00.455Z"
   },
   {
    "duration": 24030,
    "start_time": "2021-10-01T22:48:45.736Z"
   },
   {
    "duration": -13,
    "start_time": "2021-10-01T22:49:09.782Z"
   },
   {
    "duration": 6167,
    "start_time": "2021-10-01T22:49:12.426Z"
   },
   {
    "duration": 13,
    "start_time": "2021-10-01T22:49:24.784Z"
   },
   {
    "duration": 7,
    "start_time": "2021-10-01T22:49:26.175Z"
   },
   {
    "duration": 77,
    "start_time": "2021-10-01T22:49:26.448Z"
   },
   {
    "duration": 177,
    "start_time": "2021-10-01T22:50:23.496Z"
   },
   {
    "duration": 63,
    "start_time": "2021-10-01T22:50:33.120Z"
   },
   {
    "duration": 5613,
    "start_time": "2021-10-01T22:50:45.773Z"
   },
   {
    "duration": 963,
    "start_time": "2021-10-01T22:50:51.387Z"
   },
   {
    "duration": 2,
    "start_time": "2021-10-01T22:50:52.352Z"
   },
   {
    "duration": 9,
    "start_time": "2021-10-01T22:50:52.356Z"
   },
   {
    "duration": 12,
    "start_time": "2021-10-01T22:50:52.367Z"
   },
   {
    "duration": 5,
    "start_time": "2021-10-01T22:50:52.381Z"
   },
   {
    "duration": 1790,
    "start_time": "2021-10-01T22:50:52.387Z"
   },
   {
    "duration": 2,
    "start_time": "2021-10-01T22:50:54.180Z"
   },
   {
    "duration": 13,
    "start_time": "2021-10-01T22:50:54.184Z"
   },
   {
    "duration": 15,
    "start_time": "2021-10-01T22:50:54.199Z"
   },
   {
    "duration": 21,
    "start_time": "2021-10-01T22:50:54.216Z"
   },
   {
    "duration": 12,
    "start_time": "2021-10-01T22:50:54.239Z"
   },
   {
    "duration": 25,
    "start_time": "2021-10-01T22:50:54.253Z"
   },
   {
    "duration": 11,
    "start_time": "2021-10-01T22:50:54.280Z"
   },
   {
    "duration": 19,
    "start_time": "2021-10-01T22:50:54.294Z"
   },
   {
    "duration": 23,
    "start_time": "2021-10-01T22:50:54.315Z"
   },
   {
    "duration": 11,
    "start_time": "2021-10-01T22:50:54.340Z"
   },
   {
    "duration": 18,
    "start_time": "2021-10-01T22:50:54.353Z"
   },
   {
    "duration": 23,
    "start_time": "2021-10-01T22:50:54.373Z"
   },
   {
    "duration": 16,
    "start_time": "2021-10-01T22:50:54.398Z"
   },
   {
    "duration": 18,
    "start_time": "2021-10-01T22:50:54.416Z"
   },
   {
    "duration": 10,
    "start_time": "2021-10-01T22:50:54.436Z"
   },
   {
    "duration": 21,
    "start_time": "2021-10-01T22:50:54.450Z"
   },
   {
    "duration": 12,
    "start_time": "2021-10-01T22:50:54.473Z"
   },
   {
    "duration": 16,
    "start_time": "2021-10-01T22:50:54.487Z"
   },
   {
    "duration": 20,
    "start_time": "2021-10-01T22:50:54.505Z"
   },
   {
    "duration": 21,
    "start_time": "2021-10-01T22:50:54.526Z"
   },
   {
    "duration": 9,
    "start_time": "2021-10-01T22:50:54.549Z"
   },
   {
    "duration": 22,
    "start_time": "2021-10-01T22:50:54.559Z"
   },
   {
    "duration": 22,
    "start_time": "2021-10-01T22:50:54.583Z"
   },
   {
    "duration": 22,
    "start_time": "2021-10-01T22:50:54.607Z"
   },
   {
    "duration": 163,
    "start_time": "2021-10-01T22:50:54.630Z"
   },
   {
    "duration": 3,
    "start_time": "2021-10-01T22:50:54.794Z"
   },
   {
    "duration": 15,
    "start_time": "2021-10-01T22:50:54.799Z"
   },
   {
    "duration": 2744,
    "start_time": "2021-10-01T22:50:54.816Z"
   },
   {
    "duration": 281,
    "start_time": "2021-10-01T22:50:57.561Z"
   },
   {
    "duration": 210,
    "start_time": "2021-10-01T22:50:57.849Z"
   },
   {
    "duration": 24,
    "start_time": "2021-10-01T22:51:03.311Z"
   },
   {
    "duration": 5453,
    "start_time": "2021-10-01T22:53:05.288Z"
   },
   {
    "duration": 955,
    "start_time": "2021-10-01T22:53:10.744Z"
   },
   {
    "duration": 3,
    "start_time": "2021-10-01T22:53:11.702Z"
   },
   {
    "duration": 10,
    "start_time": "2021-10-01T22:53:11.707Z"
   },
   {
    "duration": 40,
    "start_time": "2021-10-01T22:53:11.718Z"
   },
   {
    "duration": 5,
    "start_time": "2021-10-01T22:53:11.760Z"
   },
   {
    "duration": 94902,
    "start_time": "2021-10-01T22:53:11.766Z"
   },
   {
    "duration": 8,
    "start_time": "2021-10-01T22:54:46.664Z"
   },
   {
    "duration": 0,
    "start_time": "2021-10-01T22:54:46.673Z"
   },
   {
    "duration": -4,
    "start_time": "2021-10-01T22:54:46.678Z"
   },
   {
    "duration": -24,
    "start_time": "2021-10-01T22:54:46.698Z"
   },
   {
    "duration": -26,
    "start_time": "2021-10-01T22:54:46.701Z"
   },
   {
    "duration": -32,
    "start_time": "2021-10-01T22:54:46.708Z"
   },
   {
    "duration": -34,
    "start_time": "2021-10-01T22:54:46.711Z"
   },
   {
    "duration": -35,
    "start_time": "2021-10-01T22:54:46.713Z"
   },
   {
    "duration": -42,
    "start_time": "2021-10-01T22:54:46.721Z"
   },
   {
    "duration": -44,
    "start_time": "2021-10-01T22:54:46.724Z"
   },
   {
    "duration": -46,
    "start_time": "2021-10-01T22:54:46.726Z"
   },
   {
    "duration": -65,
    "start_time": "2021-10-01T22:54:46.746Z"
   },
   {
    "duration": -67,
    "start_time": "2021-10-01T22:54:46.749Z"
   },
   {
    "duration": -69,
    "start_time": "2021-10-01T22:54:46.752Z"
   },
   {
    "duration": -70,
    "start_time": "2021-10-01T22:54:46.755Z"
   },
   {
    "duration": -76,
    "start_time": "2021-10-01T22:54:46.762Z"
   },
   {
    "duration": -78,
    "start_time": "2021-10-01T22:54:46.765Z"
   },
   {
    "duration": -82,
    "start_time": "2021-10-01T22:54:46.769Z"
   },
   {
    "duration": -87,
    "start_time": "2021-10-01T22:54:46.775Z"
   },
   {
    "duration": -89,
    "start_time": "2021-10-01T22:54:46.778Z"
   },
   {
    "duration": -90,
    "start_time": "2021-10-01T22:54:46.780Z"
   },
   {
    "duration": -97,
    "start_time": "2021-10-01T22:54:46.788Z"
   },
   {
    "duration": -98,
    "start_time": "2021-10-01T22:54:46.790Z"
   },
   {
    "duration": -99,
    "start_time": "2021-10-01T22:54:46.792Z"
   },
   {
    "duration": -101,
    "start_time": "2021-10-01T22:54:46.795Z"
   },
   {
    "duration": -103,
    "start_time": "2021-10-01T22:54:46.798Z"
   },
   {
    "duration": -104,
    "start_time": "2021-10-01T22:54:46.800Z"
   },
   {
    "duration": -106,
    "start_time": "2021-10-01T22:54:46.803Z"
   },
   {
    "duration": -107,
    "start_time": "2021-10-01T22:54:46.805Z"
   },
   {
    "duration": -109,
    "start_time": "2021-10-01T22:54:46.808Z"
   },
   {
    "duration": 5884,
    "start_time": "2021-10-01T22:54:52.211Z"
   },
   {
    "duration": 956,
    "start_time": "2021-10-01T22:54:58.098Z"
   },
   {
    "duration": 3,
    "start_time": "2021-10-01T22:54:59.056Z"
   },
   {
    "duration": 5,
    "start_time": "2021-10-01T22:54:59.062Z"
   },
   {
    "duration": 27,
    "start_time": "2021-10-01T22:54:59.069Z"
   },
   {
    "duration": 7,
    "start_time": "2021-10-01T22:54:59.098Z"
   },
   {
    "duration": 5,
    "start_time": "2021-10-01T22:54:59.107Z"
   },
   {
    "duration": 4,
    "start_time": "2021-10-01T22:54:59.114Z"
   },
   {
    "duration": 29,
    "start_time": "2021-10-01T22:54:59.121Z"
   },
   {
    "duration": 9,
    "start_time": "2021-10-01T22:54:59.153Z"
   },
   {
    "duration": 7,
    "start_time": "2021-10-01T22:54:59.164Z"
   },
   {
    "duration": 23,
    "start_time": "2021-10-01T22:54:59.173Z"
   },
   {
    "duration": 8,
    "start_time": "2021-10-01T22:54:59.198Z"
   },
   {
    "duration": 71,
    "start_time": "2021-10-01T22:54:59.208Z"
   },
   {
    "duration": 5,
    "start_time": "2021-10-01T22:54:59.281Z"
   },
   {
    "duration": 9,
    "start_time": "2021-10-01T22:54:59.288Z"
   },
   {
    "duration": 5729,
    "start_time": "2021-10-01T22:59:18.631Z"
   },
   {
    "duration": 1366,
    "start_time": "2021-10-01T22:59:24.362Z"
   },
   {
    "duration": 2,
    "start_time": "2021-10-01T22:59:25.731Z"
   },
   {
    "duration": 15,
    "start_time": "2021-10-01T22:59:25.736Z"
   },
   {
    "duration": 46,
    "start_time": "2021-10-01T22:59:25.754Z"
   },
   {
    "duration": 7,
    "start_time": "2021-10-01T22:59:25.802Z"
   },
   {
    "duration": 13,
    "start_time": "2021-10-01T22:59:25.811Z"
   },
   {
    "duration": 13,
    "start_time": "2021-10-01T22:59:25.828Z"
   },
   {
    "duration": 5,
    "start_time": "2021-10-01T22:59:25.845Z"
   },
   {
    "duration": 11,
    "start_time": "2021-10-01T22:59:25.851Z"
   },
   {
    "duration": 12,
    "start_time": "2021-10-01T22:59:25.864Z"
   },
   {
    "duration": 27,
    "start_time": "2021-10-01T22:59:25.878Z"
   },
   {
    "duration": 5,
    "start_time": "2021-10-01T22:59:25.907Z"
   },
   {
    "duration": 54,
    "start_time": "2021-10-01T22:59:25.914Z"
   },
   {
    "duration": 4,
    "start_time": "2021-10-01T22:59:25.969Z"
   },
   {
    "duration": 14,
    "start_time": "2021-10-01T22:59:25.975Z"
   },
   {
    "duration": 324546,
    "start_time": "2021-10-01T22:59:25.990Z"
   },
   {
    "duration": 11057,
    "start_time": "2021-10-01T23:04:50.538Z"
   },
   {
    "duration": 5365,
    "start_time": "2021-10-01T23:05:13.966Z"
   },
   {
    "duration": 967,
    "start_time": "2021-10-01T23:05:19.333Z"
   },
   {
    "duration": 2,
    "start_time": "2021-10-01T23:05:20.302Z"
   },
   {
    "duration": 19,
    "start_time": "2021-10-01T23:05:20.306Z"
   },
   {
    "duration": 21,
    "start_time": "2021-10-01T23:05:20.327Z"
   },
   {
    "duration": 27,
    "start_time": "2021-10-01T23:05:20.350Z"
   },
   {
    "duration": 21,
    "start_time": "2021-10-01T23:05:20.378Z"
   },
   {
    "duration": 19,
    "start_time": "2021-10-01T23:05:20.401Z"
   },
   {
    "duration": 11,
    "start_time": "2021-10-01T23:05:20.423Z"
   },
   {
    "duration": 27,
    "start_time": "2021-10-01T23:05:20.436Z"
   },
   {
    "duration": 22,
    "start_time": "2021-10-01T23:05:20.465Z"
   },
   {
    "duration": 35,
    "start_time": "2021-10-01T23:05:20.489Z"
   },
   {
    "duration": 27,
    "start_time": "2021-10-01T23:05:20.526Z"
   },
   {
    "duration": 17,
    "start_time": "2021-10-01T23:05:20.555Z"
   },
   {
    "duration": 19,
    "start_time": "2021-10-01T23:05:20.574Z"
   },
   {
    "duration": 33,
    "start_time": "2021-10-01T23:05:20.595Z"
   },
   {
    "duration": 32878,
    "start_time": "2021-10-01T23:05:20.629Z"
   },
   {
    "duration": 1229,
    "start_time": "2021-10-01T23:05:53.509Z"
   },
   {
    "duration": 1141,
    "start_time": "2021-10-01T23:05:54.740Z"
   },
   {
    "duration": 2,
    "start_time": "2021-10-01T23:05:55.883Z"
   },
   {
    "duration": 8,
    "start_time": "2021-10-01T23:05:55.887Z"
   },
   {
    "duration": 4,
    "start_time": "2021-10-01T23:05:55.897Z"
   },
   {
    "duration": 9,
    "start_time": "2021-10-01T23:05:55.902Z"
   },
   {
    "duration": 6,
    "start_time": "2021-10-01T23:05:55.913Z"
   },
   {
    "duration": 6,
    "start_time": "2021-10-01T23:05:55.920Z"
   },
   {
    "duration": 2035,
    "start_time": "2021-10-01T23:05:55.928Z"
   },
   {
    "duration": 5,
    "start_time": "2021-10-01T23:05:57.969Z"
   },
   {
    "duration": 5,
    "start_time": "2021-10-01T23:05:57.977Z"
   },
   {
    "duration": 13,
    "start_time": "2021-10-01T23:05:57.984Z"
   },
   {
    "duration": 5,
    "start_time": "2021-10-01T23:05:57.999Z"
   },
   {
    "duration": 7,
    "start_time": "2021-10-01T23:05:58.006Z"
   },
   {
    "duration": 2125,
    "start_time": "2021-10-01T23:05:58.014Z"
   },
   {
    "duration": 9,
    "start_time": "2021-10-01T23:06:00.141Z"
   },
   {
    "duration": 10,
    "start_time": "2021-10-01T23:06:00.152Z"
   },
   {
    "duration": 7131,
    "start_time": "2021-10-02T04:35:21.432Z"
   },
   {
    "duration": 1266,
    "start_time": "2021-10-02T04:35:28.566Z"
   },
   {
    "duration": 2,
    "start_time": "2021-10-02T04:35:29.835Z"
   },
   {
    "duration": 6,
    "start_time": "2021-10-02T04:35:29.840Z"
   },
   {
    "duration": 32,
    "start_time": "2021-10-02T04:35:29.849Z"
   },
   {
    "duration": 6,
    "start_time": "2021-10-02T04:35:29.883Z"
   },
   {
    "duration": 31,
    "start_time": "2021-10-02T04:35:29.892Z"
   },
   {
    "duration": 3,
    "start_time": "2021-10-02T04:35:29.927Z"
   },
   {
    "duration": 7,
    "start_time": "2021-10-02T04:35:29.933Z"
   },
   {
    "duration": 10,
    "start_time": "2021-10-02T04:35:29.942Z"
   },
   {
    "duration": 12,
    "start_time": "2021-10-02T04:35:29.955Z"
   },
   {
    "duration": 23,
    "start_time": "2021-10-02T04:35:29.969Z"
   },
   {
    "duration": 27,
    "start_time": "2021-10-02T04:35:29.995Z"
   },
   {
    "duration": 53,
    "start_time": "2021-10-02T04:35:30.025Z"
   },
   {
    "duration": 5,
    "start_time": "2021-10-02T04:35:30.081Z"
   },
   {
    "duration": 27,
    "start_time": "2021-10-02T04:35:30.088Z"
   },
   {
    "duration": 510402,
    "start_time": "2021-10-02T04:35:30.123Z"
   },
   {
    "duration": 16326,
    "start_time": "2021-10-02T04:44:00.527Z"
   },
   {
    "duration": 17207,
    "start_time": "2021-10-02T04:44:16.856Z"
   },
   {
    "duration": 3,
    "start_time": "2021-10-02T04:44:34.065Z"
   },
   {
    "duration": 26,
    "start_time": "2021-10-02T04:44:34.070Z"
   },
   {
    "duration": 17,
    "start_time": "2021-10-02T04:44:34.098Z"
   },
   {
    "duration": 28,
    "start_time": "2021-10-02T04:44:34.119Z"
   },
   {
    "duration": 27,
    "start_time": "2021-10-02T04:44:34.150Z"
   },
   {
    "duration": 28,
    "start_time": "2021-10-02T04:44:34.179Z"
   },
   {
    "duration": 17874,
    "start_time": "2021-10-02T04:44:34.209Z"
   },
   {
    "duration": 6,
    "start_time": "2021-10-02T04:44:52.086Z"
   },
   {
    "duration": 22,
    "start_time": "2021-10-02T04:44:52.095Z"
   },
   {
    "duration": 22,
    "start_time": "2021-10-02T04:44:52.123Z"
   },
   {
    "duration": 20,
    "start_time": "2021-10-02T04:44:52.147Z"
   },
   {
    "duration": 31,
    "start_time": "2021-10-02T04:44:52.170Z"
   },
   {
    "duration": 38036,
    "start_time": "2021-10-02T04:44:52.204Z"
   },
   {
    "duration": 7,
    "start_time": "2021-10-02T04:45:30.242Z"
   },
   {
    "duration": 17,
    "start_time": "2021-10-02T04:45:30.252Z"
   },
   {
    "duration": 6415,
    "start_time": "2021-10-02T04:51:24.585Z"
   },
   {
    "duration": 1111,
    "start_time": "2021-10-02T04:51:31.003Z"
   },
   {
    "duration": 4,
    "start_time": "2021-10-02T04:51:32.122Z"
   },
   {
    "duration": 14,
    "start_time": "2021-10-02T04:51:32.129Z"
   },
   {
    "duration": 50,
    "start_time": "2021-10-02T04:51:32.145Z"
   },
   {
    "duration": 9,
    "start_time": "2021-10-02T04:51:32.198Z"
   },
   {
    "duration": 20,
    "start_time": "2021-10-02T04:51:32.210Z"
   },
   {
    "duration": 43,
    "start_time": "2021-10-02T04:51:32.233Z"
   },
   {
    "duration": 29,
    "start_time": "2021-10-02T04:51:32.281Z"
   },
   {
    "duration": 24,
    "start_time": "2021-10-02T04:51:32.314Z"
   },
   {
    "duration": 21,
    "start_time": "2021-10-02T04:51:32.341Z"
   },
   {
    "duration": 40,
    "start_time": "2021-10-02T04:51:32.365Z"
   },
   {
    "duration": 12,
    "start_time": "2021-10-02T04:51:32.408Z"
   },
   {
    "duration": 54,
    "start_time": "2021-10-02T04:51:32.423Z"
   },
   {
    "duration": 7,
    "start_time": "2021-10-02T04:51:32.480Z"
   },
   {
    "duration": 32,
    "start_time": "2021-10-02T04:51:32.490Z"
   },
   {
    "duration": 6632,
    "start_time": "2021-10-02T04:52:16.043Z"
   },
   {
    "duration": 1099,
    "start_time": "2021-10-02T04:52:22.678Z"
   },
   {
    "duration": 3,
    "start_time": "2021-10-02T04:52:23.780Z"
   },
   {
    "duration": 21,
    "start_time": "2021-10-02T04:52:23.785Z"
   },
   {
    "duration": 49,
    "start_time": "2021-10-02T04:52:23.808Z"
   },
   {
    "duration": 7,
    "start_time": "2021-10-02T04:52:23.860Z"
   },
   {
    "duration": 30,
    "start_time": "2021-10-02T04:52:23.869Z"
   },
   {
    "duration": 33,
    "start_time": "2021-10-02T04:52:23.903Z"
   },
   {
    "duration": 20,
    "start_time": "2021-10-02T04:52:23.939Z"
   },
   {
    "duration": 28,
    "start_time": "2021-10-02T04:52:23.961Z"
   },
   {
    "duration": 30,
    "start_time": "2021-10-02T04:52:23.991Z"
   },
   {
    "duration": 36,
    "start_time": "2021-10-02T04:52:24.023Z"
   },
   {
    "duration": 24,
    "start_time": "2021-10-02T04:52:24.062Z"
   },
   {
    "duration": 19,
    "start_time": "2021-10-02T04:52:24.089Z"
   },
   {
    "duration": 50,
    "start_time": "2021-10-02T04:52:24.111Z"
   },
   {
    "duration": 8,
    "start_time": "2021-10-02T04:52:24.164Z"
   },
   {
    "duration": 66610,
    "start_time": "2021-10-02T04:52:24.174Z"
   },
   {
    "duration": 16768,
    "start_time": "2021-10-02T04:53:30.787Z"
   },
   {
    "duration": 18138,
    "start_time": "2021-10-02T04:53:47.557Z"
   },
   {
    "duration": 3,
    "start_time": "2021-10-02T04:54:05.698Z"
   },
   {
    "duration": 22,
    "start_time": "2021-10-02T04:54:05.703Z"
   },
   {
    "duration": 18,
    "start_time": "2021-10-02T04:54:05.728Z"
   },
   {
    "duration": 34,
    "start_time": "2021-10-02T04:54:05.750Z"
   },
   {
    "duration": 35,
    "start_time": "2021-10-02T04:54:05.787Z"
   },
   {
    "duration": 18,
    "start_time": "2021-10-02T04:54:05.824Z"
   },
   {
    "duration": 3282,
    "start_time": "2021-10-02T04:54:05.844Z"
   },
   {
    "duration": 5,
    "start_time": "2021-10-02T04:54:09.129Z"
   },
   {
    "duration": 6,
    "start_time": "2021-10-02T04:54:09.136Z"
   },
   {
    "duration": 8,
    "start_time": "2021-10-02T04:54:09.144Z"
   },
   {
    "duration": 12,
    "start_time": "2021-10-02T04:54:09.154Z"
   },
   {
    "duration": 41,
    "start_time": "2021-10-02T04:54:09.169Z"
   },
   {
    "duration": 5585,
    "start_time": "2021-10-02T04:54:09.213Z"
   },
   {
    "duration": 6,
    "start_time": "2021-10-02T04:54:14.800Z"
   },
   {
    "duration": 4,
    "start_time": "2021-10-02T04:54:14.822Z"
   },
   {
    "duration": 8006,
    "start_time": "2021-10-02T04:54:14.828Z"
   },
   {
    "duration": 497,
    "start_time": "2021-10-02T04:54:22.836Z"
   },
   {
    "duration": 1502,
    "start_time": "2021-10-02T04:54:23.335Z"
   },
   {
    "duration": 729,
    "start_time": "2021-10-02T05:11:35.333Z"
   },
   {
    "duration": 312,
    "start_time": "2021-10-02T05:11:36.683Z"
   },
   {
    "duration": 6021,
    "start_time": "2021-10-02T05:11:45.057Z"
   },
   {
    "duration": 1038,
    "start_time": "2021-10-02T05:11:51.081Z"
   },
   {
    "duration": 3,
    "start_time": "2021-10-02T05:11:52.122Z"
   },
   {
    "duration": 9,
    "start_time": "2021-10-02T05:11:52.127Z"
   },
   {
    "duration": 32,
    "start_time": "2021-10-02T05:11:52.138Z"
   },
   {
    "duration": 7,
    "start_time": "2021-10-02T05:11:52.172Z"
   },
   {
    "duration": 5,
    "start_time": "2021-10-02T05:11:52.181Z"
   },
   {
    "duration": 4,
    "start_time": "2021-10-02T05:11:52.190Z"
   },
   {
    "duration": 3,
    "start_time": "2021-10-02T05:11:52.224Z"
   },
   {
    "duration": 10,
    "start_time": "2021-10-02T05:11:52.229Z"
   },
   {
    "duration": 5,
    "start_time": "2021-10-02T05:11:52.241Z"
   },
   {
    "duration": 26,
    "start_time": "2021-10-02T05:11:52.248Z"
   },
   {
    "duration": 8,
    "start_time": "2021-10-02T05:11:52.276Z"
   },
   {
    "duration": 38,
    "start_time": "2021-10-02T05:11:52.286Z"
   },
   {
    "duration": 29,
    "start_time": "2021-10-02T05:11:52.327Z"
   },
   {
    "duration": 3,
    "start_time": "2021-10-02T05:11:52.358Z"
   },
   {
    "duration": 63598,
    "start_time": "2021-10-02T05:11:52.363Z"
   },
   {
    "duration": 15826,
    "start_time": "2021-10-02T05:12:55.963Z"
   },
   {
    "duration": 17014,
    "start_time": "2021-10-02T05:13:11.791Z"
   },
   {
    "duration": 14,
    "start_time": "2021-10-02T05:13:28.808Z"
   },
   {
    "duration": 4,
    "start_time": "2021-10-02T05:13:28.824Z"
   },
   {
    "duration": 24,
    "start_time": "2021-10-02T05:13:28.830Z"
   },
   {
    "duration": 36,
    "start_time": "2021-10-02T05:13:28.859Z"
   },
   {
    "duration": 20,
    "start_time": "2021-10-02T05:13:28.898Z"
   },
   {
    "duration": 25,
    "start_time": "2021-10-02T05:13:28.920Z"
   },
   {
    "duration": 1044,
    "start_time": "2021-10-02T05:13:28.947Z"
   },
   {
    "duration": 350,
    "start_time": "2021-10-02T05:13:29.643Z"
   },
   {
    "duration": 346,
    "start_time": "2021-10-02T05:13:29.649Z"
   },
   {
    "duration": 343,
    "start_time": "2021-10-02T05:13:29.653Z"
   },
   {
    "duration": 339,
    "start_time": "2021-10-02T05:13:29.659Z"
   },
   {
    "duration": 333,
    "start_time": "2021-10-02T05:13:29.666Z"
   },
   {
    "duration": 332,
    "start_time": "2021-10-02T05:13:29.669Z"
   },
   {
    "duration": 330,
    "start_time": "2021-10-02T05:13:29.672Z"
   },
   {
    "duration": 330,
    "start_time": "2021-10-02T05:13:29.674Z"
   },
   {
    "duration": 329,
    "start_time": "2021-10-02T05:13:29.676Z"
   },
   {
    "duration": 329,
    "start_time": "2021-10-02T05:13:29.678Z"
   },
   {
    "duration": 328,
    "start_time": "2021-10-02T05:13:29.680Z"
   },
   {
    "duration": 126,
    "start_time": "2021-10-02T05:17:47.053Z"
   },
   {
    "duration": 285,
    "start_time": "2021-10-02T05:17:48.349Z"
   },
   {
    "duration": 95,
    "start_time": "2021-10-02T05:18:00.352Z"
   },
   {
    "duration": 113,
    "start_time": "2021-10-02T05:18:06.382Z"
   },
   {
    "duration": 7001,
    "start_time": "2021-10-02T05:19:40.938Z"
   },
   {
    "duration": 1096,
    "start_time": "2021-10-02T05:19:47.942Z"
   },
   {
    "duration": 2,
    "start_time": "2021-10-02T05:19:49.042Z"
   },
   {
    "duration": 35,
    "start_time": "2021-10-02T05:19:49.047Z"
   },
   {
    "duration": 38,
    "start_time": "2021-10-02T05:19:49.084Z"
   },
   {
    "duration": 6,
    "start_time": "2021-10-02T05:19:49.125Z"
   },
   {
    "duration": 32,
    "start_time": "2021-10-02T05:19:49.133Z"
   },
   {
    "duration": 13,
    "start_time": "2021-10-02T05:19:49.168Z"
   },
   {
    "duration": 18,
    "start_time": "2021-10-02T05:19:49.185Z"
   },
   {
    "duration": 39,
    "start_time": "2021-10-02T05:19:49.206Z"
   },
   {
    "duration": 36,
    "start_time": "2021-10-02T05:19:49.247Z"
   },
   {
    "duration": 56,
    "start_time": "2021-10-02T05:19:49.285Z"
   },
   {
    "duration": 11,
    "start_time": "2021-10-02T05:19:49.344Z"
   },
   {
    "duration": 26,
    "start_time": "2021-10-02T05:19:49.357Z"
   },
   {
    "duration": 64,
    "start_time": "2021-10-02T05:19:49.386Z"
   },
   {
    "duration": 6,
    "start_time": "2021-10-02T05:19:49.453Z"
   },
   {
    "duration": 65719,
    "start_time": "2021-10-02T05:19:49.461Z"
   },
   {
    "duration": 16714,
    "start_time": "2021-10-02T05:20:55.183Z"
   },
   {
    "duration": 17753,
    "start_time": "2021-10-02T05:21:11.899Z"
   },
   {
    "duration": 2,
    "start_time": "2021-10-02T05:21:29.655Z"
   },
   {
    "duration": 10,
    "start_time": "2021-10-02T05:21:29.660Z"
   },
   {
    "duration": 8,
    "start_time": "2021-10-02T05:21:29.672Z"
   },
   {
    "duration": 7,
    "start_time": "2021-10-02T05:21:29.683Z"
   },
   {
    "duration": 10,
    "start_time": "2021-10-02T05:21:29.693Z"
   },
   {
    "duration": 4,
    "start_time": "2021-10-02T05:21:29.723Z"
   },
   {
    "duration": 100,
    "start_time": "2021-10-02T05:21:29.729Z"
   },
   {
    "duration": 373,
    "start_time": "2021-10-02T05:21:29.459Z"
   },
   {
    "duration": 371,
    "start_time": "2021-10-02T05:21:29.462Z"
   },
   {
    "duration": 370,
    "start_time": "2021-10-02T05:21:29.464Z"
   },
   {
    "duration": 369,
    "start_time": "2021-10-02T05:21:29.467Z"
   },
   {
    "duration": 368,
    "start_time": "2021-10-02T05:21:29.469Z"
   },
   {
    "duration": 367,
    "start_time": "2021-10-02T05:21:29.471Z"
   },
   {
    "duration": 356,
    "start_time": "2021-10-02T05:21:29.484Z"
   },
   {
    "duration": 354,
    "start_time": "2021-10-02T05:21:29.487Z"
   },
   {
    "duration": 352,
    "start_time": "2021-10-02T05:21:29.490Z"
   },
   {
    "duration": 351,
    "start_time": "2021-10-02T05:21:29.492Z"
   },
   {
    "duration": 351,
    "start_time": "2021-10-02T05:21:29.494Z"
   },
   {
    "duration": 106,
    "start_time": "2021-10-02T05:23:22.744Z"
   },
   {
    "duration": 1822,
    "start_time": "2021-10-02T05:23:29.467Z"
   },
   {
    "duration": 3770,
    "start_time": "2021-10-02T05:23:42.584Z"
   },
   {
    "duration": 5,
    "start_time": "2021-10-02T05:23:46.357Z"
   },
   {
    "duration": 6,
    "start_time": "2021-10-02T05:23:57.248Z"
   },
   {
    "duration": 3043,
    "start_time": "2021-10-02T05:24:00.395Z"
   },
   {
    "duration": 6,
    "start_time": "2021-10-02T05:24:03.440Z"
   },
   {
    "duration": 6139,
    "start_time": "2021-10-02T05:24:37.435Z"
   },
   {
    "duration": 1059,
    "start_time": "2021-10-02T05:24:43.578Z"
   },
   {
    "duration": 3,
    "start_time": "2021-10-02T05:24:44.641Z"
   },
   {
    "duration": 27,
    "start_time": "2021-10-02T05:24:44.648Z"
   },
   {
    "duration": 51,
    "start_time": "2021-10-02T05:24:44.678Z"
   },
   {
    "duration": 8,
    "start_time": "2021-10-02T05:24:44.731Z"
   },
   {
    "duration": 26,
    "start_time": "2021-10-02T05:24:44.742Z"
   },
   {
    "duration": 9,
    "start_time": "2021-10-02T05:24:44.772Z"
   },
   {
    "duration": 13,
    "start_time": "2021-10-02T05:24:44.784Z"
   },
   {
    "duration": 15,
    "start_time": "2021-10-02T05:24:44.800Z"
   },
   {
    "duration": 15,
    "start_time": "2021-10-02T05:24:44.818Z"
   },
   {
    "duration": 38,
    "start_time": "2021-10-02T05:24:44.835Z"
   },
   {
    "duration": 7,
    "start_time": "2021-10-02T05:24:44.876Z"
   },
   {
    "duration": 15,
    "start_time": "2021-10-02T05:24:44.885Z"
   },
   {
    "duration": 28,
    "start_time": "2021-10-02T05:24:44.902Z"
   },
   {
    "duration": 22,
    "start_time": "2021-10-02T05:24:44.933Z"
   },
   {
    "duration": 6119,
    "start_time": "2021-10-02T05:28:32.853Z"
   },
   {
    "duration": 1083,
    "start_time": "2021-10-02T05:28:38.975Z"
   },
   {
    "duration": 3,
    "start_time": "2021-10-02T05:28:40.061Z"
   },
   {
    "duration": 9,
    "start_time": "2021-10-02T05:28:40.067Z"
   },
   {
    "duration": 26,
    "start_time": "2021-10-02T05:28:40.078Z"
   },
   {
    "duration": 16,
    "start_time": "2021-10-02T05:28:40.107Z"
   },
   {
    "duration": 11,
    "start_time": "2021-10-02T05:28:40.126Z"
   },
   {
    "duration": 11,
    "start_time": "2021-10-02T05:28:40.142Z"
   },
   {
    "duration": 12,
    "start_time": "2021-10-02T05:28:40.157Z"
   },
   {
    "duration": 6,
    "start_time": "2021-10-02T05:28:40.172Z"
   },
   {
    "duration": 17,
    "start_time": "2021-10-02T05:28:40.181Z"
   },
   {
    "duration": 27,
    "start_time": "2021-10-02T05:28:40.200Z"
   },
   {
    "duration": 22,
    "start_time": "2021-10-02T05:28:40.229Z"
   },
   {
    "duration": 6,
    "start_time": "2021-10-02T05:28:40.253Z"
   },
   {
    "duration": 9,
    "start_time": "2021-10-02T05:28:40.261Z"
   },
   {
    "duration": 24,
    "start_time": "2021-10-02T05:28:40.273Z"
   },
   {
    "duration": 44882,
    "start_time": "2021-10-02T05:28:40.300Z"
   },
   {
    "duration": 2985,
    "start_time": "2021-10-02T05:29:25.184Z"
   },
   {
    "duration": 2326,
    "start_time": "2021-10-02T05:29:28.171Z"
   },
   {
    "duration": 3,
    "start_time": "2021-10-02T05:29:30.500Z"
   },
   {
    "duration": 21,
    "start_time": "2021-10-02T05:29:30.506Z"
   },
   {
    "duration": 8,
    "start_time": "2021-10-02T05:29:30.529Z"
   },
   {
    "duration": 12,
    "start_time": "2021-10-02T05:29:30.541Z"
   },
   {
    "duration": 15,
    "start_time": "2021-10-02T05:29:30.556Z"
   },
   {
    "duration": 12,
    "start_time": "2021-10-02T05:29:30.574Z"
   },
   {
    "duration": 2176,
    "start_time": "2021-10-02T05:29:30.588Z"
   },
   {
    "duration": 7,
    "start_time": "2021-10-02T05:29:32.767Z"
   },
   {
    "duration": 13,
    "start_time": "2021-10-02T05:29:32.776Z"
   },
   {
    "duration": 6,
    "start_time": "2021-10-02T05:29:32.792Z"
   },
   {
    "duration": 23,
    "start_time": "2021-10-02T05:29:32.800Z"
   },
   {
    "duration": 14,
    "start_time": "2021-10-02T05:29:32.826Z"
   },
   {
    "duration": 2793,
    "start_time": "2021-10-02T05:29:32.842Z"
   },
   {
    "duration": 5,
    "start_time": "2021-10-02T05:29:35.637Z"
   },
   {
    "duration": 7,
    "start_time": "2021-10-02T05:29:35.645Z"
   },
   {
    "duration": 6169,
    "start_time": "2021-10-02T05:29:35.654Z"
   },
   {
    "duration": 331,
    "start_time": "2021-10-02T05:29:41.825Z"
   },
   {
    "duration": 448,
    "start_time": "2021-10-02T05:29:42.159Z"
   },
   {
    "duration": 11,
    "start_time": "2021-10-02T05:30:39.790Z"
   },
   {
    "duration": 1079,
    "start_time": "2021-10-02T05:30:39.804Z"
   },
   {
    "duration": 3,
    "start_time": "2021-10-02T05:30:40.886Z"
   },
   {
    "duration": 25,
    "start_time": "2021-10-02T05:30:40.891Z"
   },
   {
    "duration": 30,
    "start_time": "2021-10-02T05:30:40.918Z"
   },
   {
    "duration": 6,
    "start_time": "2021-10-02T05:30:40.951Z"
   },
   {
    "duration": 6,
    "start_time": "2021-10-02T05:30:40.960Z"
   },
   {
    "duration": 18,
    "start_time": "2021-10-02T05:30:40.969Z"
   },
   {
    "duration": 19,
    "start_time": "2021-10-02T05:30:40.990Z"
   },
   {
    "duration": 43,
    "start_time": "2021-10-02T05:30:41.011Z"
   },
   {
    "duration": 16,
    "start_time": "2021-10-02T05:30:41.057Z"
   },
   {
    "duration": 48,
    "start_time": "2021-10-02T05:30:41.075Z"
   },
   {
    "duration": 12,
    "start_time": "2021-10-02T05:30:41.125Z"
   },
   {
    "duration": 24,
    "start_time": "2021-10-02T05:30:41.139Z"
   },
   {
    "duration": 53,
    "start_time": "2021-10-02T05:30:41.166Z"
   },
   {
    "duration": 5,
    "start_time": "2021-10-02T05:30:41.222Z"
   },
   {
    "duration": 7659,
    "start_time": "2021-10-02T05:32:21.952Z"
   },
   {
    "duration": 1130,
    "start_time": "2021-10-02T05:32:29.614Z"
   },
   {
    "duration": 3,
    "start_time": "2021-10-02T05:32:30.747Z"
   },
   {
    "duration": 42,
    "start_time": "2021-10-02T05:32:30.753Z"
   },
   {
    "duration": 52,
    "start_time": "2021-10-02T05:32:30.798Z"
   },
   {
    "duration": 19,
    "start_time": "2021-10-02T05:32:30.853Z"
   },
   {
    "duration": 57,
    "start_time": "2021-10-02T05:32:30.874Z"
   },
   {
    "duration": 38,
    "start_time": "2021-10-02T05:32:30.933Z"
   },
   {
    "duration": 38,
    "start_time": "2021-10-02T05:32:30.975Z"
   },
   {
    "duration": 40,
    "start_time": "2021-10-02T05:32:31.016Z"
   },
   {
    "duration": 43,
    "start_time": "2021-10-02T05:32:31.058Z"
   },
   {
    "duration": 47,
    "start_time": "2021-10-02T05:32:31.103Z"
   },
   {
    "duration": 50,
    "start_time": "2021-10-02T05:32:31.153Z"
   },
   {
    "duration": 21,
    "start_time": "2021-10-02T05:32:31.205Z"
   },
   {
    "duration": 69,
    "start_time": "2021-10-02T05:32:31.229Z"
   },
   {
    "duration": 10,
    "start_time": "2021-10-02T05:32:31.301Z"
   },
   {
    "duration": 168609,
    "start_time": "2021-10-02T05:32:31.313Z"
   },
   {
    "duration": 16938,
    "start_time": "2021-10-02T05:35:19.925Z"
   },
   {
    "duration": 17826,
    "start_time": "2021-10-02T05:35:36.866Z"
   },
   {
    "duration": 2,
    "start_time": "2021-10-02T05:35:54.695Z"
   },
   {
    "duration": 24,
    "start_time": "2021-10-02T05:35:54.700Z"
   },
   {
    "duration": 3,
    "start_time": "2021-10-02T05:35:54.726Z"
   },
   {
    "duration": 8,
    "start_time": "2021-10-02T05:35:54.732Z"
   },
   {
    "duration": 8,
    "start_time": "2021-10-02T05:35:54.742Z"
   },
   {
    "duration": 5,
    "start_time": "2021-10-02T05:35:54.752Z"
   },
   {
    "duration": 8075,
    "start_time": "2021-10-02T05:35:54.759Z"
   },
   {
    "duration": 5,
    "start_time": "2021-10-02T05:36:02.839Z"
   },
   {
    "duration": 6,
    "start_time": "2021-10-02T05:36:02.847Z"
   },
   {
    "duration": 6,
    "start_time": "2021-10-02T05:36:02.855Z"
   },
   {
    "duration": 7,
    "start_time": "2021-10-02T05:36:02.863Z"
   },
   {
    "duration": 15,
    "start_time": "2021-10-02T05:36:02.872Z"
   },
   {
    "duration": 13273,
    "start_time": "2021-10-02T05:36:02.889Z"
   },
   {
    "duration": 5,
    "start_time": "2021-10-02T05:36:16.165Z"
   },
   {
    "duration": 18,
    "start_time": "2021-10-02T05:36:16.172Z"
   },
   {
    "duration": 27630,
    "start_time": "2021-10-02T05:36:16.192Z"
   },
   {
    "duration": 342,
    "start_time": "2021-10-02T05:36:43.825Z"
   },
   {
    "duration": 1557,
    "start_time": "2021-10-02T05:36:44.169Z"
   },
   {
    "duration": 5999,
    "start_time": "2021-10-02T05:38:39.748Z"
   },
   {
    "duration": 1177,
    "start_time": "2021-10-02T05:38:45.750Z"
   },
   {
    "duration": 2,
    "start_time": "2021-10-02T05:38:46.930Z"
   },
   {
    "duration": 9,
    "start_time": "2021-10-02T05:38:46.936Z"
   },
   {
    "duration": 37,
    "start_time": "2021-10-02T05:38:46.947Z"
   },
   {
    "duration": 8,
    "start_time": "2021-10-02T05:38:46.987Z"
   },
   {
    "duration": 3,
    "start_time": "2021-10-02T05:38:47.022Z"
   },
   {
    "duration": 6,
    "start_time": "2021-10-02T05:38:47.031Z"
   },
   {
    "duration": 10,
    "start_time": "2021-10-02T05:38:47.040Z"
   },
   {
    "duration": 17,
    "start_time": "2021-10-02T05:38:47.052Z"
   },
   {
    "duration": 6,
    "start_time": "2021-10-02T05:38:47.072Z"
   },
   {
    "duration": 54,
    "start_time": "2021-10-02T05:38:47.080Z"
   },
   {
    "duration": 9,
    "start_time": "2021-10-02T05:38:47.137Z"
   },
   {
    "duration": 8,
    "start_time": "2021-10-02T05:38:47.149Z"
   },
   {
    "duration": 76,
    "start_time": "2021-10-02T05:38:47.160Z"
   },
   {
    "duration": 3,
    "start_time": "2021-10-02T05:38:47.239Z"
   },
   {
    "duration": 227102,
    "start_time": "2021-10-02T05:38:47.245Z"
   },
   {
    "duration": 16067,
    "start_time": "2021-10-02T05:42:34.349Z"
   },
   {
    "duration": 17535,
    "start_time": "2021-10-02T05:42:50.422Z"
   },
   {
    "duration": 3,
    "start_time": "2021-10-02T05:43:07.959Z"
   },
   {
    "duration": 16,
    "start_time": "2021-10-02T05:43:07.964Z"
   },
   {
    "duration": 13,
    "start_time": "2021-10-02T05:43:07.982Z"
   },
   {
    "duration": 14,
    "start_time": "2021-10-02T05:43:08.000Z"
   },
   {
    "duration": 16,
    "start_time": "2021-10-02T05:43:08.017Z"
   },
   {
    "duration": 24,
    "start_time": "2021-10-02T05:43:08.035Z"
   },
   {
    "duration": 10802,
    "start_time": "2021-10-02T05:43:08.062Z"
   },
   {
    "duration": 6,
    "start_time": "2021-10-02T05:43:18.867Z"
   },
   {
    "duration": 8,
    "start_time": "2021-10-02T05:43:18.875Z"
   },
   {
    "duration": 15,
    "start_time": "2021-10-02T05:43:18.885Z"
   },
   {
    "duration": 5,
    "start_time": "2021-10-02T05:43:18.902Z"
   },
   {
    "duration": 15,
    "start_time": "2021-10-02T05:43:18.909Z"
   },
   {
    "duration": 17003,
    "start_time": "2021-10-02T05:43:18.927Z"
   },
   {
    "duration": 6,
    "start_time": "2021-10-02T05:43:35.932Z"
   },
   {
    "duration": 21,
    "start_time": "2021-10-02T05:43:35.940Z"
   },
   {
    "duration": 40477,
    "start_time": "2021-10-02T05:43:35.964Z"
   },
   {
    "duration": 405,
    "start_time": "2021-10-02T05:44:16.443Z"
   },
   {
    "duration": 1692,
    "start_time": "2021-10-02T05:44:16.851Z"
   },
   {
    "duration": 6267,
    "start_time": "2021-10-02T05:45:41.451Z"
   },
   {
    "duration": 1059,
    "start_time": "2021-10-02T05:45:47.721Z"
   },
   {
    "duration": 3,
    "start_time": "2021-10-02T05:45:48.783Z"
   },
   {
    "duration": 25,
    "start_time": "2021-10-02T05:45:48.788Z"
   },
   {
    "duration": 41,
    "start_time": "2021-10-02T05:45:48.815Z"
   },
   {
    "duration": 7,
    "start_time": "2021-10-02T05:45:48.858Z"
   },
   {
    "duration": 21,
    "start_time": "2021-10-02T05:45:48.867Z"
   },
   {
    "duration": 19,
    "start_time": "2021-10-02T05:45:48.890Z"
   },
   {
    "duration": 31,
    "start_time": "2021-10-02T05:45:48.913Z"
   },
   {
    "duration": 28,
    "start_time": "2021-10-02T05:45:48.947Z"
   },
   {
    "duration": 13,
    "start_time": "2021-10-02T05:45:48.977Z"
   },
   {
    "duration": 36,
    "start_time": "2021-10-02T05:45:48.992Z"
   },
   {
    "duration": 13,
    "start_time": "2021-10-02T05:45:49.030Z"
   },
   {
    "duration": 12,
    "start_time": "2021-10-02T05:45:49.045Z"
   },
   {
    "duration": 49,
    "start_time": "2021-10-02T05:45:49.059Z"
   },
   {
    "duration": 3,
    "start_time": "2021-10-02T05:45:49.110Z"
   },
   {
    "duration": 115154,
    "start_time": "2021-10-02T05:45:49.115Z"
   },
   {
    "duration": 16246,
    "start_time": "2021-10-02T05:47:44.271Z"
   },
   {
    "duration": 17833,
    "start_time": "2021-10-02T05:48:00.523Z"
   },
   {
    "duration": 6,
    "start_time": "2021-10-02T05:48:18.359Z"
   },
   {
    "duration": 12,
    "start_time": "2021-10-02T05:48:18.369Z"
   },
   {
    "duration": 4,
    "start_time": "2021-10-02T05:48:18.384Z"
   },
   {
    "duration": 6,
    "start_time": "2021-10-02T05:48:18.422Z"
   },
   {
    "duration": 5,
    "start_time": "2021-10-02T05:48:18.431Z"
   },
   {
    "duration": 30,
    "start_time": "2021-10-02T05:48:18.439Z"
   },
   {
    "duration": 5548,
    "start_time": "2021-10-02T05:48:18.487Z"
   },
   {
    "duration": 5,
    "start_time": "2021-10-02T05:48:24.042Z"
   },
   {
    "duration": 7,
    "start_time": "2021-10-02T05:48:24.050Z"
   },
   {
    "duration": 15,
    "start_time": "2021-10-02T05:48:24.059Z"
   },
   {
    "duration": 13,
    "start_time": "2021-10-02T05:48:24.077Z"
   },
   {
    "duration": 7,
    "start_time": "2021-10-02T05:48:24.092Z"
   },
   {
    "duration": 9680,
    "start_time": "2021-10-02T05:48:24.101Z"
   },
   {
    "duration": 5,
    "start_time": "2021-10-02T05:48:33.783Z"
   },
   {
    "duration": 9,
    "start_time": "2021-10-02T05:48:33.790Z"
   },
   {
    "duration": 17227,
    "start_time": "2021-10-02T05:48:33.802Z"
   },
   {
    "duration": 362,
    "start_time": "2021-10-02T05:48:51.031Z"
   },
   {
    "duration": 1426,
    "start_time": "2021-10-02T05:48:51.396Z"
   },
   {
    "duration": 6263,
    "start_time": "2021-10-02T05:50:09.948Z"
   },
   {
    "duration": 1084,
    "start_time": "2021-10-02T05:50:16.213Z"
   },
   {
    "duration": 3,
    "start_time": "2021-10-02T05:50:17.300Z"
   },
   {
    "duration": 18,
    "start_time": "2021-10-02T05:50:17.306Z"
   },
   {
    "duration": 42,
    "start_time": "2021-10-02T05:50:17.326Z"
   },
   {
    "duration": 7,
    "start_time": "2021-10-02T05:50:17.371Z"
   },
   {
    "duration": 9,
    "start_time": "2021-10-02T05:50:17.380Z"
   },
   {
    "duration": 9,
    "start_time": "2021-10-02T05:50:17.393Z"
   },
   {
    "duration": 10,
    "start_time": "2021-10-02T05:50:17.405Z"
   },
   {
    "duration": 11,
    "start_time": "2021-10-02T05:50:17.423Z"
   },
   {
    "duration": 8,
    "start_time": "2021-10-02T05:50:17.437Z"
   },
   {
    "duration": 34,
    "start_time": "2021-10-02T05:50:17.447Z"
   },
   {
    "duration": 7,
    "start_time": "2021-10-02T05:50:17.483Z"
   },
   {
    "duration": 6,
    "start_time": "2021-10-02T05:50:17.493Z"
   },
   {
    "duration": 47,
    "start_time": "2021-10-02T05:50:17.502Z"
   },
   {
    "duration": 3,
    "start_time": "2021-10-02T05:50:17.551Z"
   },
   {
    "duration": 86830,
    "start_time": "2021-10-02T05:50:17.557Z"
   },
   {
    "duration": 15814,
    "start_time": "2021-10-02T05:51:44.389Z"
   },
   {
    "duration": 17885,
    "start_time": "2021-10-02T05:52:00.205Z"
   },
   {
    "duration": 3,
    "start_time": "2021-10-02T05:52:18.092Z"
   },
   {
    "duration": 28,
    "start_time": "2021-10-02T05:52:18.098Z"
   },
   {
    "duration": 27,
    "start_time": "2021-10-02T05:52:18.129Z"
   },
   {
    "duration": 25,
    "start_time": "2021-10-02T05:52:18.160Z"
   },
   {
    "duration": 14,
    "start_time": "2021-10-02T05:52:18.188Z"
   },
   {
    "duration": 19,
    "start_time": "2021-10-02T05:52:18.204Z"
   },
   {
    "duration": 4707,
    "start_time": "2021-10-02T05:52:18.225Z"
   },
   {
    "duration": 5,
    "start_time": "2021-10-02T05:52:22.934Z"
   },
   {
    "duration": 6,
    "start_time": "2021-10-02T05:52:22.942Z"
   },
   {
    "duration": 16,
    "start_time": "2021-10-02T05:52:22.951Z"
   },
   {
    "duration": 12,
    "start_time": "2021-10-02T05:52:22.969Z"
   },
   {
    "duration": 9,
    "start_time": "2021-10-02T05:52:22.983Z"
   },
   {
    "duration": 7702,
    "start_time": "2021-10-02T05:52:22.994Z"
   },
   {
    "duration": 4,
    "start_time": "2021-10-02T05:52:30.699Z"
   },
   {
    "duration": 26,
    "start_time": "2021-10-02T05:52:30.706Z"
   },
   {
    "duration": 12209,
    "start_time": "2021-10-02T05:52:30.735Z"
   },
   {
    "duration": 381,
    "start_time": "2021-10-02T05:52:42.947Z"
   },
   {
    "duration": 1433,
    "start_time": "2021-10-02T05:52:43.331Z"
   },
   {
    "duration": 11,
    "start_time": "2021-10-02T05:52:55.700Z"
   },
   {
    "duration": 1086,
    "start_time": "2021-10-02T05:52:55.714Z"
   },
   {
    "duration": 3,
    "start_time": "2021-10-02T05:52:56.803Z"
   },
   {
    "duration": 26,
    "start_time": "2021-10-02T05:52:56.808Z"
   },
   {
    "duration": 27,
    "start_time": "2021-10-02T05:52:56.836Z"
   },
   {
    "duration": 7,
    "start_time": "2021-10-02T05:52:56.865Z"
   },
   {
    "duration": 22,
    "start_time": "2021-10-02T05:52:56.875Z"
   },
   {
    "duration": 12,
    "start_time": "2021-10-02T05:52:56.901Z"
   },
   {
    "duration": 19,
    "start_time": "2021-10-02T05:52:56.916Z"
   },
   {
    "duration": 25,
    "start_time": "2021-10-02T05:52:56.938Z"
   },
   {
    "duration": 15,
    "start_time": "2021-10-02T05:52:56.965Z"
   },
   {
    "duration": 45,
    "start_time": "2021-10-02T05:52:56.982Z"
   },
   {
    "duration": 23,
    "start_time": "2021-10-02T05:52:57.029Z"
   },
   {
    "duration": 21,
    "start_time": "2021-10-02T05:52:57.054Z"
   },
   {
    "duration": 41,
    "start_time": "2021-10-02T05:52:57.078Z"
   },
   {
    "duration": 27,
    "start_time": "2021-10-02T05:52:57.121Z"
   },
   {
    "duration": 6146,
    "start_time": "2021-10-02T05:53:14.936Z"
   },
   {
    "duration": 1106,
    "start_time": "2021-10-02T05:53:21.088Z"
   },
   {
    "duration": 4,
    "start_time": "2021-10-02T05:53:22.197Z"
   },
   {
    "duration": 19,
    "start_time": "2021-10-02T05:53:22.203Z"
   },
   {
    "duration": 20,
    "start_time": "2021-10-02T05:53:22.224Z"
   },
   {
    "duration": 7,
    "start_time": "2021-10-02T05:53:22.246Z"
   },
   {
    "duration": 23,
    "start_time": "2021-10-02T05:53:22.256Z"
   },
   {
    "duration": 12,
    "start_time": "2021-10-02T05:53:22.283Z"
   },
   {
    "duration": 16,
    "start_time": "2021-10-02T05:53:22.298Z"
   },
   {
    "duration": 16,
    "start_time": "2021-10-02T05:53:22.316Z"
   },
   {
    "duration": 11,
    "start_time": "2021-10-02T05:53:22.334Z"
   },
   {
    "duration": 20,
    "start_time": "2021-10-02T05:53:22.348Z"
   },
   {
    "duration": 17,
    "start_time": "2021-10-02T05:53:22.370Z"
   },
   {
    "duration": 8,
    "start_time": "2021-10-02T05:53:22.389Z"
   },
   {
    "duration": 17,
    "start_time": "2021-10-02T05:53:22.399Z"
   },
   {
    "duration": 21,
    "start_time": "2021-10-02T05:53:22.418Z"
   },
   {
    "duration": 6891,
    "start_time": "2021-10-03T21:06:43.987Z"
   },
   {
    "duration": 1107,
    "start_time": "2021-10-03T21:06:50.881Z"
   },
   {
    "duration": 3,
    "start_time": "2021-10-03T21:06:51.991Z"
   },
   {
    "duration": 7,
    "start_time": "2021-10-03T21:06:51.996Z"
   },
   {
    "duration": 17,
    "start_time": "2021-10-03T21:06:52.005Z"
   },
   {
    "duration": 7,
    "start_time": "2021-10-03T21:06:52.024Z"
   },
   {
    "duration": 43,
    "start_time": "2021-10-03T21:06:52.033Z"
   },
   {
    "duration": 10,
    "start_time": "2021-10-03T21:06:52.080Z"
   },
   {
    "duration": 6,
    "start_time": "2021-10-03T21:06:52.093Z"
   },
   {
    "duration": 7,
    "start_time": "2021-10-03T21:06:52.101Z"
   },
   {
    "duration": 5,
    "start_time": "2021-10-03T21:06:52.111Z"
   },
   {
    "duration": 53,
    "start_time": "2021-10-03T21:06:52.119Z"
   },
   {
    "duration": 9,
    "start_time": "2021-10-03T21:06:52.174Z"
   },
   {
    "duration": 7,
    "start_time": "2021-10-03T21:06:52.185Z"
   },
   {
    "duration": 6,
    "start_time": "2021-10-03T21:06:52.194Z"
   },
   {
    "duration": 10,
    "start_time": "2021-10-03T21:06:52.203Z"
   },
   {
    "duration": 6183,
    "start_time": "2021-10-03T21:07:17.709Z"
   },
   {
    "duration": 1149,
    "start_time": "2021-10-03T21:07:23.895Z"
   },
   {
    "duration": 3,
    "start_time": "2021-10-03T21:07:25.047Z"
   },
   {
    "duration": 16,
    "start_time": "2021-10-03T21:07:25.053Z"
   },
   {
    "duration": 20,
    "start_time": "2021-10-03T21:07:25.071Z"
   },
   {
    "duration": 7,
    "start_time": "2021-10-03T21:07:25.093Z"
   },
   {
    "duration": 11,
    "start_time": "2021-10-03T21:07:25.102Z"
   },
   {
    "duration": 9,
    "start_time": "2021-10-03T21:07:25.116Z"
   },
   {
    "duration": 39,
    "start_time": "2021-10-03T21:07:25.128Z"
   },
   {
    "duration": 9,
    "start_time": "2021-10-03T21:07:25.171Z"
   },
   {
    "duration": 4,
    "start_time": "2021-10-03T21:07:25.184Z"
   },
   {
    "duration": 15,
    "start_time": "2021-10-03T21:07:25.191Z"
   },
   {
    "duration": 7,
    "start_time": "2021-10-03T21:07:25.208Z"
   },
   {
    "duration": 56,
    "start_time": "2021-10-03T21:07:25.217Z"
   },
   {
    "duration": 11,
    "start_time": "2021-10-03T21:07:25.276Z"
   },
   {
    "duration": 6,
    "start_time": "2021-10-03T21:07:25.289Z"
   },
   {
    "duration": 95106,
    "start_time": "2021-10-03T21:07:25.298Z"
   },
   {
    "duration": 5397,
    "start_time": "2021-10-03T21:09:00.406Z"
   },
   {
    "duration": 4546,
    "start_time": "2021-10-03T21:09:05.805Z"
   },
   {
    "duration": 16,
    "start_time": "2021-10-03T21:09:10.353Z"
   },
   {
    "duration": 13,
    "start_time": "2021-10-03T21:09:10.372Z"
   },
   {
    "duration": 3,
    "start_time": "2021-10-03T21:09:10.388Z"
   },
   {
    "duration": 11,
    "start_time": "2021-10-03T21:09:10.396Z"
   },
   {
    "duration": 7,
    "start_time": "2021-10-03T21:09:10.410Z"
   },
   {
    "duration": 9,
    "start_time": "2021-10-03T21:09:10.420Z"
   },
   {
    "duration": 5600,
    "start_time": "2021-10-03T21:09:10.431Z"
   },
   {
    "duration": 5,
    "start_time": "2021-10-03T21:09:16.034Z"
   },
   {
    "duration": 26,
    "start_time": "2021-10-03T21:09:16.041Z"
   },
   {
    "duration": 9,
    "start_time": "2021-10-03T21:09:16.069Z"
   },
   {
    "duration": 6,
    "start_time": "2021-10-03T21:09:16.081Z"
   },
   {
    "duration": 16,
    "start_time": "2021-10-03T21:09:16.089Z"
   },
   {
    "duration": 5941,
    "start_time": "2021-10-03T21:09:16.108Z"
   },
   {
    "duration": 5,
    "start_time": "2021-10-03T21:09:22.051Z"
   },
   {
    "duration": 10,
    "start_time": "2021-10-03T21:09:22.058Z"
   },
   {
    "duration": 13799,
    "start_time": "2021-10-03T21:09:22.070Z"
   },
   {
    "duration": 396,
    "start_time": "2021-10-03T21:09:35.872Z"
   },
   {
    "duration": 627,
    "start_time": "2021-10-03T21:09:36.272Z"
   },
   {
    "duration": 6278,
    "start_time": "2021-10-03T21:50:03.270Z"
   },
   {
    "duration": 1190,
    "start_time": "2021-10-03T21:50:09.551Z"
   },
   {
    "duration": 3,
    "start_time": "2021-10-03T21:50:10.744Z"
   },
   {
    "duration": 17,
    "start_time": "2021-10-03T21:50:10.750Z"
   },
   {
    "duration": 21,
    "start_time": "2021-10-03T21:50:10.770Z"
   },
   {
    "duration": 13,
    "start_time": "2021-10-03T21:50:10.794Z"
   },
   {
    "duration": 6,
    "start_time": "2021-10-03T21:50:10.809Z"
   },
   {
    "duration": 7,
    "start_time": "2021-10-03T21:50:10.818Z"
   },
   {
    "duration": 5,
    "start_time": "2021-10-03T21:50:10.829Z"
   },
   {
    "duration": 30,
    "start_time": "2021-10-03T21:50:10.837Z"
   },
   {
    "duration": 6,
    "start_time": "2021-10-03T21:50:10.871Z"
   },
   {
    "duration": 13,
    "start_time": "2021-10-03T21:50:10.879Z"
   },
   {
    "duration": 7,
    "start_time": "2021-10-03T21:50:10.895Z"
   },
   {
    "duration": 5,
    "start_time": "2021-10-03T21:50:10.905Z"
   },
   {
    "duration": 58,
    "start_time": "2021-10-03T21:50:10.912Z"
   },
   {
    "duration": 3,
    "start_time": "2021-10-03T21:50:10.972Z"
   },
   {
    "duration": 39262,
    "start_time": "2021-10-03T21:50:10.977Z"
   },
   {
    "duration": 5193,
    "start_time": "2021-10-03T21:50:50.241Z"
   },
   {
    "duration": 4433,
    "start_time": "2021-10-03T21:50:55.437Z"
   },
   {
    "duration": 3,
    "start_time": "2021-10-03T21:50:59.872Z"
   },
   {
    "duration": 9,
    "start_time": "2021-10-03T21:50:59.878Z"
   },
   {
    "duration": 3,
    "start_time": "2021-10-03T21:50:59.889Z"
   },
   {
    "duration": 6,
    "start_time": "2021-10-03T21:50:59.894Z"
   },
   {
    "duration": 6,
    "start_time": "2021-10-03T21:50:59.902Z"
   },
   {
    "duration": 6,
    "start_time": "2021-10-03T21:50:59.910Z"
   },
   {
    "duration": 1907,
    "start_time": "2021-10-03T21:50:59.919Z"
   },
   {
    "duration": 5,
    "start_time": "2021-10-03T21:51:01.830Z"
   },
   {
    "duration": 10,
    "start_time": "2021-10-03T21:51:01.838Z"
   },
   {
    "duration": 5,
    "start_time": "2021-10-03T21:51:01.866Z"
   },
   {
    "duration": 20,
    "start_time": "2021-10-03T21:51:01.874Z"
   },
   {
    "duration": 17,
    "start_time": "2021-10-03T21:51:01.896Z"
   },
   {
    "duration": 2983,
    "start_time": "2021-10-03T21:51:01.915Z"
   },
   {
    "duration": 5,
    "start_time": "2021-10-03T21:51:04.901Z"
   },
   {
    "duration": 9,
    "start_time": "2021-10-03T21:51:04.909Z"
   },
   {
    "duration": 4952,
    "start_time": "2021-10-03T21:51:04.920Z"
   },
   {
    "duration": 415,
    "start_time": "2021-10-03T21:51:09.875Z"
   },
   {
    "duration": 614,
    "start_time": "2021-10-03T21:51:10.293Z"
   },
   {
    "duration": 6167,
    "start_time": "2021-10-03T21:52:03.139Z"
   },
   {
    "duration": 1135,
    "start_time": "2021-10-03T21:52:09.310Z"
   },
   {
    "duration": 4,
    "start_time": "2021-10-03T21:52:10.449Z"
   },
   {
    "duration": 6,
    "start_time": "2021-10-03T21:52:10.468Z"
   },
   {
    "duration": 28,
    "start_time": "2021-10-03T21:52:10.478Z"
   },
   {
    "duration": 8,
    "start_time": "2021-10-03T21:52:10.509Z"
   },
   {
    "duration": 7,
    "start_time": "2021-10-03T21:52:10.519Z"
   },
   {
    "duration": 36,
    "start_time": "2021-10-03T21:52:10.530Z"
   },
   {
    "duration": 4,
    "start_time": "2021-10-03T21:52:10.570Z"
   },
   {
    "duration": 8,
    "start_time": "2021-10-03T21:52:10.577Z"
   },
   {
    "duration": 10,
    "start_time": "2021-10-03T21:52:10.588Z"
   },
   {
    "duration": 25,
    "start_time": "2021-10-03T21:52:10.600Z"
   },
   {
    "duration": 40,
    "start_time": "2021-10-03T21:52:10.628Z"
   },
   {
    "duration": 6,
    "start_time": "2021-10-03T21:52:10.670Z"
   },
   {
    "duration": 42,
    "start_time": "2021-10-03T21:52:10.679Z"
   },
   {
    "duration": 3,
    "start_time": "2021-10-03T21:52:10.724Z"
   },
   {
    "duration": 153618,
    "start_time": "2021-10-03T21:52:10.729Z"
   },
   {
    "duration": 19757,
    "start_time": "2021-10-03T21:54:44.350Z"
   },
   {
    "duration": 19959,
    "start_time": "2021-10-03T21:55:04.109Z"
   },
   {
    "duration": 3,
    "start_time": "2021-10-03T21:55:24.070Z"
   },
   {
    "duration": 11,
    "start_time": "2021-10-03T21:55:24.076Z"
   },
   {
    "duration": 6,
    "start_time": "2021-10-03T21:55:24.089Z"
   },
   {
    "duration": 5,
    "start_time": "2021-10-03T21:55:24.100Z"
   },
   {
    "duration": 7,
    "start_time": "2021-10-03T21:55:24.108Z"
   },
   {
    "duration": 6,
    "start_time": "2021-10-03T21:55:24.117Z"
   },
   {
    "duration": 7052,
    "start_time": "2021-10-03T21:55:24.125Z"
   },
   {
    "duration": 5,
    "start_time": "2021-10-03T21:55:31.179Z"
   },
   {
    "duration": 27,
    "start_time": "2021-10-03T21:55:31.186Z"
   },
   {
    "duration": 23,
    "start_time": "2021-10-03T21:55:31.216Z"
   },
   {
    "duration": 22,
    "start_time": "2021-10-03T21:55:31.241Z"
   },
   {
    "duration": 12,
    "start_time": "2021-10-03T21:55:31.266Z"
   },
   {
    "duration": 12090,
    "start_time": "2021-10-03T21:55:31.280Z"
   },
   {
    "duration": 5,
    "start_time": "2021-10-03T21:55:43.372Z"
   },
   {
    "duration": 6,
    "start_time": "2021-10-03T21:55:43.379Z"
   },
   {
    "duration": 22684,
    "start_time": "2021-10-03T21:55:43.388Z"
   },
   {
    "duration": 403,
    "start_time": "2021-10-03T21:56:06.074Z"
   },
   {
    "duration": 1671,
    "start_time": "2021-10-03T21:56:06.479Z"
   },
   {
    "duration": 5793,
    "start_time": "2021-10-04T05:07:55.773Z"
   },
   {
    "duration": 926,
    "start_time": "2021-10-04T05:08:01.568Z"
   },
   {
    "duration": 2,
    "start_time": "2021-10-04T05:08:02.496Z"
   },
   {
    "duration": 8,
    "start_time": "2021-10-04T05:08:02.500Z"
   },
   {
    "duration": 40,
    "start_time": "2021-10-04T05:08:02.509Z"
   },
   {
    "duration": 4,
    "start_time": "2021-10-04T05:08:02.551Z"
   },
   {
    "duration": 7,
    "start_time": "2021-10-04T05:08:02.557Z"
   },
   {
    "duration": 4,
    "start_time": "2021-10-04T05:08:02.566Z"
   },
   {
    "duration": 5,
    "start_time": "2021-10-04T05:08:02.572Z"
   },
   {
    "duration": 5,
    "start_time": "2021-10-04T05:08:02.579Z"
   },
   {
    "duration": 9,
    "start_time": "2021-10-04T05:08:02.585Z"
   },
   {
    "duration": 25,
    "start_time": "2021-10-04T05:08:02.595Z"
   },
   {
    "duration": 5,
    "start_time": "2021-10-04T05:08:02.622Z"
   },
   {
    "duration": 21,
    "start_time": "2021-10-04T05:08:02.628Z"
   },
   {
    "duration": 42,
    "start_time": "2021-10-04T05:08:02.651Z"
   },
   {
    "duration": 2,
    "start_time": "2021-10-04T05:08:02.695Z"
   },
   {
    "duration": 88935,
    "start_time": "2021-10-04T05:08:02.699Z"
   },
   {
    "duration": 12013,
    "start_time": "2021-10-04T05:09:31.636Z"
   },
   {
    "duration": 11919,
    "start_time": "2021-10-04T05:09:43.651Z"
   },
   {
    "duration": 2,
    "start_time": "2021-10-04T05:09:55.571Z"
   },
   {
    "duration": 8,
    "start_time": "2021-10-04T05:09:55.575Z"
   },
   {
    "duration": 3,
    "start_time": "2021-10-04T05:09:55.585Z"
   },
   {
    "duration": 7,
    "start_time": "2021-10-04T05:09:55.590Z"
   },
   {
    "duration": 4,
    "start_time": "2021-10-04T05:09:55.599Z"
   },
   {
    "duration": 6,
    "start_time": "2021-10-04T05:09:55.604Z"
   },
   {
    "duration": 62384,
    "start_time": "2021-10-04T05:09:55.612Z"
   },
   {
    "duration": -794,
    "start_time": "2021-10-04T05:10:58.791Z"
   },
   {
    "duration": -797,
    "start_time": "2021-10-04T05:10:58.795Z"
   },
   {
    "duration": -801,
    "start_time": "2021-10-04T05:10:58.801Z"
   },
   {
    "duration": -804,
    "start_time": "2021-10-04T05:10:58.805Z"
   },
   {
    "duration": -806,
    "start_time": "2021-10-04T05:10:58.808Z"
   },
   {
    "duration": -809,
    "start_time": "2021-10-04T05:10:58.812Z"
   },
   {
    "duration": -813,
    "start_time": "2021-10-04T05:10:58.817Z"
   },
   {
    "duration": -816,
    "start_time": "2021-10-04T05:10:58.821Z"
   },
   {
    "duration": -824,
    "start_time": "2021-10-04T05:10:58.830Z"
   },
   {
    "duration": -825,
    "start_time": "2021-10-04T05:10:58.832Z"
   },
   {
    "duration": -827,
    "start_time": "2021-10-04T05:10:58.835Z"
   },
   {
    "duration": 13,
    "start_time": "2021-10-04T05:30:12.625Z"
   },
   {
    "duration": 967,
    "start_time": "2021-10-04T05:30:12.640Z"
   },
   {
    "duration": 2,
    "start_time": "2021-10-04T05:30:13.610Z"
   },
   {
    "duration": 5,
    "start_time": "2021-10-04T05:30:13.614Z"
   },
   {
    "duration": 35,
    "start_time": "2021-10-04T05:30:13.621Z"
   },
   {
    "duration": 5,
    "start_time": "2021-10-04T05:30:13.658Z"
   },
   {
    "duration": 4,
    "start_time": "2021-10-04T05:30:13.665Z"
   },
   {
    "duration": 6,
    "start_time": "2021-10-04T05:30:13.672Z"
   },
   {
    "duration": 3,
    "start_time": "2021-10-04T05:30:13.680Z"
   },
   {
    "duration": 8,
    "start_time": "2021-10-04T05:30:13.685Z"
   },
   {
    "duration": 8,
    "start_time": "2021-10-04T05:30:13.695Z"
   },
   {
    "duration": 60,
    "start_time": "2021-10-04T05:30:13.705Z"
   },
   {
    "duration": 5,
    "start_time": "2021-10-04T05:30:13.767Z"
   },
   {
    "duration": 10,
    "start_time": "2021-10-04T05:30:13.774Z"
   },
   {
    "duration": 37,
    "start_time": "2021-10-04T05:30:13.786Z"
   },
   {
    "duration": 2,
    "start_time": "2021-10-04T05:30:13.825Z"
   },
   {
    "duration": 93791,
    "start_time": "2021-10-04T05:30:13.829Z"
   },
   {
    "duration": 12768,
    "start_time": "2021-10-04T05:31:47.622Z"
   },
   {
    "duration": 12626,
    "start_time": "2021-10-04T05:32:00.392Z"
   },
   {
    "duration": 2,
    "start_time": "2021-10-04T05:32:13.020Z"
   },
   {
    "duration": 10,
    "start_time": "2021-10-04T05:32:13.025Z"
   },
   {
    "duration": 13,
    "start_time": "2021-10-04T05:32:13.038Z"
   },
   {
    "duration": 8,
    "start_time": "2021-10-04T05:32:13.055Z"
   },
   {
    "duration": 4,
    "start_time": "2021-10-04T05:32:13.065Z"
   },
   {
    "duration": 6,
    "start_time": "2021-10-04T05:32:13.071Z"
   },
   {
    "duration": 66083,
    "start_time": "2021-10-04T05:32:13.080Z"
   },
   {
    "duration": -787,
    "start_time": "2021-10-04T05:33:19.953Z"
   },
   {
    "duration": -792,
    "start_time": "2021-10-04T05:33:19.959Z"
   },
   {
    "duration": -794,
    "start_time": "2021-10-04T05:33:19.963Z"
   },
   {
    "duration": -797,
    "start_time": "2021-10-04T05:33:19.968Z"
   },
   {
    "duration": -799,
    "start_time": "2021-10-04T05:33:19.971Z"
   },
   {
    "duration": -802,
    "start_time": "2021-10-04T05:33:19.975Z"
   },
   {
    "duration": -816,
    "start_time": "2021-10-04T05:33:19.991Z"
   },
   {
    "duration": -819,
    "start_time": "2021-10-04T05:33:19.995Z"
   },
   {
    "duration": -819,
    "start_time": "2021-10-04T05:33:19.997Z"
   },
   {
    "duration": -820,
    "start_time": "2021-10-04T05:33:20.000Z"
   },
   {
    "duration": -820,
    "start_time": "2021-10-04T05:33:20.001Z"
   },
   {
    "duration": 23995,
    "start_time": "2021-10-04T05:35:51.609Z"
   },
   {
    "duration": 23224,
    "start_time": "2021-10-04T05:36:36.568Z"
   },
   {
    "duration": -785,
    "start_time": "2021-10-04T05:37:00.580Z"
   },
   {
    "duration": -789,
    "start_time": "2021-10-04T05:37:00.585Z"
   },
   {
    "duration": -791,
    "start_time": "2021-10-04T05:37:00.588Z"
   },
   {
    "duration": -792,
    "start_time": "2021-10-04T05:37:00.591Z"
   },
   {
    "duration": -795,
    "start_time": "2021-10-04T05:37:00.595Z"
   },
   {
    "duration": -800,
    "start_time": "2021-10-04T05:37:00.602Z"
   },
   {
    "duration": -802,
    "start_time": "2021-10-04T05:37:00.605Z"
   },
   {
    "duration": -803,
    "start_time": "2021-10-04T05:37:00.607Z"
   },
   {
    "duration": -805,
    "start_time": "2021-10-04T05:37:00.611Z"
   },
   {
    "duration": -809,
    "start_time": "2021-10-04T05:37:00.616Z"
   },
   {
    "duration": -816,
    "start_time": "2021-10-04T05:37:00.625Z"
   },
   {
    "duration": 22941,
    "start_time": "2021-10-04T05:40:03.523Z"
   },
   {
    "duration": 5,
    "start_time": "2021-10-04T05:40:26.466Z"
   },
   {
    "duration": 4,
    "start_time": "2021-10-04T05:40:26.473Z"
   },
   {
    "duration": 8,
    "start_time": "2021-10-04T05:40:26.479Z"
   },
   {
    "duration": 5,
    "start_time": "2021-10-04T05:40:26.488Z"
   },
   {
    "duration": 4,
    "start_time": "2021-10-04T05:40:26.495Z"
   },
   {
    "duration": 7266,
    "start_time": "2021-10-04T05:40:26.501Z"
   },
   {
    "duration": 3,
    "start_time": "2021-10-04T05:40:33.770Z"
   },
   {
    "duration": 14,
    "start_time": "2021-10-04T05:40:33.775Z"
   },
   {
    "duration": 19069,
    "start_time": "2021-10-04T05:40:33.791Z"
   },
   {
    "duration": 298,
    "start_time": "2021-10-04T05:40:52.862Z"
   },
   {
    "duration": 1107,
    "start_time": "2021-10-04T05:40:53.161Z"
   },
   {
    "duration": 6102,
    "start_time": "2021-10-04T07:11:10.652Z"
   },
   {
    "duration": 925,
    "start_time": "2021-10-04T07:11:16.756Z"
   },
   {
    "duration": 2,
    "start_time": "2021-10-04T07:11:17.683Z"
   },
   {
    "duration": 6,
    "start_time": "2021-10-04T07:11:17.687Z"
   },
   {
    "duration": 28,
    "start_time": "2021-10-04T07:11:17.695Z"
   },
   {
    "duration": 5,
    "start_time": "2021-10-04T07:11:17.724Z"
   },
   {
    "duration": 19,
    "start_time": "2021-10-04T07:11:17.731Z"
   },
   {
    "duration": 7,
    "start_time": "2021-10-04T07:11:17.753Z"
   },
   {
    "duration": 8,
    "start_time": "2021-10-04T07:11:17.762Z"
   },
   {
    "duration": 14,
    "start_time": "2021-10-04T07:11:17.772Z"
   },
   {
    "duration": 4,
    "start_time": "2021-10-04T07:11:17.788Z"
   },
   {
    "duration": 25,
    "start_time": "2021-10-04T07:11:17.793Z"
   },
   {
    "duration": 5,
    "start_time": "2021-10-04T07:11:17.820Z"
   },
   {
    "duration": 6,
    "start_time": "2021-10-04T07:11:17.827Z"
   },
   {
    "duration": 32,
    "start_time": "2021-10-04T07:11:17.849Z"
   },
   {
    "duration": 2,
    "start_time": "2021-10-04T07:11:17.883Z"
   },
   {
    "duration": 89662,
    "start_time": "2021-10-04T07:11:17.887Z"
   },
   {
    "duration": 12038,
    "start_time": "2021-10-04T07:12:47.551Z"
   },
   {
    "duration": 11835,
    "start_time": "2021-10-04T07:12:59.591Z"
   },
   {
    "duration": 2,
    "start_time": "2021-10-04T07:13:11.428Z"
   },
   {
    "duration": 18,
    "start_time": "2021-10-04T07:13:11.432Z"
   },
   {
    "duration": 2,
    "start_time": "2021-10-04T07:13:11.452Z"
   },
   {
    "duration": 7,
    "start_time": "2021-10-04T07:13:11.458Z"
   },
   {
    "duration": 4,
    "start_time": "2021-10-04T07:13:11.467Z"
   },
   {
    "duration": 4,
    "start_time": "2021-10-04T07:13:11.473Z"
   },
   {
    "duration": 89,
    "start_time": "2021-10-04T07:13:11.479Z"
   },
   {
    "duration": 17549,
    "start_time": "2021-10-04T07:12:54.021Z"
   },
   {
    "duration": 17547,
    "start_time": "2021-10-04T07:12:54.024Z"
   },
   {
    "duration": 17543,
    "start_time": "2021-10-04T07:12:54.029Z"
   },
   {
    "duration": 17533,
    "start_time": "2021-10-04T07:12:54.040Z"
   },
   {
    "duration": 17530,
    "start_time": "2021-10-04T07:12:54.044Z"
   },
   {
    "duration": 17527,
    "start_time": "2021-10-04T07:12:54.047Z"
   },
   {
    "duration": 17525,
    "start_time": "2021-10-04T07:12:54.051Z"
   },
   {
    "duration": 17523,
    "start_time": "2021-10-04T07:12:54.053Z"
   },
   {
    "duration": 17522,
    "start_time": "2021-10-04T07:12:54.055Z"
   },
   {
    "duration": 17516,
    "start_time": "2021-10-04T07:12:54.062Z"
   },
   {
    "duration": 17514,
    "start_time": "2021-10-04T07:12:54.065Z"
   },
   {
    "duration": 15,
    "start_time": "2021-10-04T07:15:42.285Z"
   },
   {
    "duration": 952,
    "start_time": "2021-10-04T07:15:42.302Z"
   },
   {
    "duration": 2,
    "start_time": "2021-10-04T07:15:43.257Z"
   },
   {
    "duration": 7,
    "start_time": "2021-10-04T07:15:43.261Z"
   },
   {
    "duration": 27,
    "start_time": "2021-10-04T07:15:43.270Z"
   },
   {
    "duration": 5,
    "start_time": "2021-10-04T07:15:43.299Z"
   },
   {
    "duration": 6,
    "start_time": "2021-10-04T07:15:43.306Z"
   },
   {
    "duration": 36,
    "start_time": "2021-10-04T07:15:43.313Z"
   },
   {
    "duration": 11,
    "start_time": "2021-10-04T07:15:43.353Z"
   },
   {
    "duration": 5,
    "start_time": "2021-10-04T07:15:43.366Z"
   },
   {
    "duration": 4,
    "start_time": "2021-10-04T07:15:43.373Z"
   },
   {
    "duration": 50,
    "start_time": "2021-10-04T07:15:43.379Z"
   },
   {
    "duration": 21,
    "start_time": "2021-10-04T07:15:43.431Z"
   },
   {
    "duration": 5,
    "start_time": "2021-10-04T07:15:43.454Z"
   },
   {
    "duration": 34,
    "start_time": "2021-10-04T07:15:43.462Z"
   },
   {
    "duration": 2,
    "start_time": "2021-10-04T07:15:43.498Z"
   },
   {
    "duration": 88747,
    "start_time": "2021-10-04T07:15:43.503Z"
   },
   {
    "duration": 11954,
    "start_time": "2021-10-04T07:17:12.253Z"
   },
   {
    "duration": 11770,
    "start_time": "2021-10-04T07:17:24.209Z"
   },
   {
    "duration": 2,
    "start_time": "2021-10-04T07:17:35.981Z"
   },
   {
    "duration": 12,
    "start_time": "2021-10-04T07:17:35.984Z"
   },
   {
    "duration": 7,
    "start_time": "2021-10-04T07:17:35.998Z"
   },
   {
    "duration": 7,
    "start_time": "2021-10-04T07:17:36.007Z"
   },
   {
    "duration": 7,
    "start_time": "2021-10-04T07:17:36.015Z"
   },
   {
    "duration": 7,
    "start_time": "2021-10-04T07:17:36.024Z"
   },
   {
    "duration": 85,
    "start_time": "2021-10-04T07:17:36.033Z"
   },
   {
    "duration": 17552,
    "start_time": "2021-10-04T07:17:18.571Z"
   },
   {
    "duration": 17544,
    "start_time": "2021-10-04T07:17:18.580Z"
   },
   {
    "duration": 17543,
    "start_time": "2021-10-04T07:17:18.582Z"
   },
   {
    "duration": 17541,
    "start_time": "2021-10-04T07:17:18.585Z"
   },
   {
    "duration": 17540,
    "start_time": "2021-10-04T07:17:18.587Z"
   },
   {
    "duration": 17539,
    "start_time": "2021-10-04T07:17:18.589Z"
   },
   {
    "duration": 17538,
    "start_time": "2021-10-04T07:17:18.591Z"
   },
   {
    "duration": 17537,
    "start_time": "2021-10-04T07:17:18.593Z"
   },
   {
    "duration": 17535,
    "start_time": "2021-10-04T07:17:18.595Z"
   },
   {
    "duration": 17535,
    "start_time": "2021-10-04T07:17:18.597Z"
   },
   {
    "duration": 17534,
    "start_time": "2021-10-04T07:17:18.599Z"
   },
   {
    "duration": 22346,
    "start_time": "2021-10-04T07:22:05.999Z"
   },
   {
    "duration": 4,
    "start_time": "2021-10-04T07:22:28.347Z"
   },
   {
    "duration": 16,
    "start_time": "2021-10-04T07:22:28.354Z"
   },
   {
    "duration": 14,
    "start_time": "2021-10-04T07:22:28.373Z"
   },
   {
    "duration": 7,
    "start_time": "2021-10-04T07:22:28.389Z"
   },
   {
    "duration": 4,
    "start_time": "2021-10-04T07:22:28.398Z"
   },
   {
    "duration": 7745,
    "start_time": "2021-10-04T07:22:28.404Z"
   },
   {
    "duration": 5,
    "start_time": "2021-10-04T07:22:36.152Z"
   },
   {
    "duration": 35,
    "start_time": "2021-10-04T07:22:36.159Z"
   },
   {
    "duration": 113377,
    "start_time": "2021-10-04T07:22:36.195Z"
   },
   {
    "duration": 241,
    "start_time": "2021-10-04T07:24:29.649Z"
   },
   {
    "duration": 1217,
    "start_time": "2021-10-04T07:24:29.891Z"
   },
   {
    "duration": 80,
    "start_time": "2021-10-04T07:27:13.889Z"
   },
   {
    "duration": 36104,
    "start_time": "2021-10-04T07:32:27.491Z"
   },
   {
    "duration": 3,
    "start_time": "2021-10-04T07:33:03.597Z"
   },
   {
    "duration": 8703,
    "start_time": "2021-11-03T15:59:58.255Z"
   },
   {
    "duration": 1100,
    "start_time": "2021-11-03T16:00:06.961Z"
   },
   {
    "duration": 5,
    "start_time": "2021-11-03T16:00:08.064Z"
   },
   {
    "duration": 51,
    "start_time": "2021-11-03T16:00:08.072Z"
   },
   {
    "duration": 7,
    "start_time": "2021-11-03T16:00:08.125Z"
   },
   {
    "duration": 9,
    "start_time": "2021-11-03T16:00:08.134Z"
   },
   {
    "duration": 12,
    "start_time": "2021-11-03T16:00:08.145Z"
   },
   {
    "duration": 42,
    "start_time": "2021-11-03T16:00:08.161Z"
   },
   {
    "duration": 8,
    "start_time": "2021-11-03T16:00:08.206Z"
   },
   {
    "duration": 7,
    "start_time": "2021-11-03T16:00:08.216Z"
   },
   {
    "duration": 76,
    "start_time": "2021-11-03T16:00:08.225Z"
   },
   {
    "duration": 158207,
    "start_time": "2021-11-03T16:00:08.303Z"
   },
   {
    "duration": 22109,
    "start_time": "2021-11-03T16:02:46.525Z"
   },
   {
    "duration": 21876,
    "start_time": "2021-11-03T16:03:08.636Z"
   },
   {
    "duration": 172,
    "start_time": "2021-11-03T16:03:30.515Z"
   },
   {
    "duration": 5,
    "start_time": "2021-11-03T16:03:30.690Z"
   },
   {
    "duration": 50051,
    "start_time": "2021-11-03T16:03:30.698Z"
   },
   {
    "duration": 7,
    "start_time": "2021-11-03T16:04:20.751Z"
   },
   {
    "duration": 12968,
    "start_time": "2021-11-03T16:04:20.761Z"
   },
   {
    "duration": 4,
    "start_time": "2021-11-03T16:04:33.732Z"
   }
  ],
  "kernelspec": {
   "display_name": "Python 3",
   "language": "python",
   "name": "python3"
  },
  "language_info": {
   "codemirror_mode": {
    "name": "ipython",
    "version": 3
   },
   "file_extension": ".py",
   "mimetype": "text/x-python",
   "name": "python",
   "nbconvert_exporter": "python",
   "pygments_lexer": "ipython3",
   "version": "3.7.8"
  },
  "toc": {
   "base_numbering": 1,
   "nav_menu": {
    "height": "19px",
    "width": "230px"
   },
   "number_sections": true,
   "sideBar": true,
   "skip_h1_title": true,
   "title_cell": "Содержание",
   "title_sidebar": "Contents",
   "toc_cell": true,
   "toc_position": {
    "height": "calc(100% - 180px)",
    "left": "10px",
    "top": "150px",
    "width": "302.391px"
   },
   "toc_section_display": true,
   "toc_window_display": false
  }
 },
 "nbformat": 4,
 "nbformat_minor": 2
}
