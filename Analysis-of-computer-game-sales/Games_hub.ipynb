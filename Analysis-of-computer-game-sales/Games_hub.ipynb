{
 "cells": [
  {
   "cell_type": "markdown",
   "metadata": {},
   "source": [
    "<div class=\"alert alert-block alert-info\">\n",
    "<b>Цель:</b> \n",
    "    \n",
    "   \n",
    "Определение комерчески успешных игр для прогнозирования рекламы на 2017 год.\n",
    "Ниже приведен датафрейм с колличеством продаж игр, их названием, пользовательским рейтингом, оценкой критиков, возрастной группой, и распределение продаж по регионам. \n",
    "В работе будет проводиться анализ данного датафрейма с целью выявления лидеров рынка среди платформ и жанров. Будут определены  зависимости между колличеством продаж и пользовательским рейтингом/оценкой критиков для наиболее популярной платформы.  \n",
    "</div>\n"
   ]
  },
  {
   "cell_type": "markdown",
   "metadata": {},
   "source": [
    "<b> Импорты</b>"
   ]
  },
  {
   "cell_type": "code",
   "execution_count": 1,
   "metadata": {},
   "outputs": [],
   "source": [
    "import pandas as pd\n",
    "import numpy as np\n",
    "import matplotlib.pyplot as plt\n",
    "from scipy import stats as st\n",
    "from IPython.core.display import display, HTML  #для удобной работы\n",
    "\n",
    "\n"
   ]
  },
  {
   "cell_type": "markdown",
   "metadata": {},
   "source": [
    "<b>Блок настройки Jypyterhub</b>"
   ]
  },
  {
   "cell_type": "code",
   "execution_count": 2,
   "metadata": {},
   "outputs": [
    {
     "data": {
      "text/html": [
       "<style>div.output_area pre {white-space: pre;}</style>"
      ],
      "text/plain": [
       "<IPython.core.display.HTML object>"
      ]
     },
     "metadata": {},
     "output_type": "display_data"
    },
    {
     "data": {
      "text/html": [
       "<style>.container { width:90% !important; }</style>"
      ],
      "text/plain": [
       "<IPython.core.display.HTML object>"
      ]
     },
     "metadata": {},
     "output_type": "display_data"
    }
   ],
   "source": [
    "from IPython.core.display import display, HTML\n",
    "display(HTML(\"<style>div.output_area pre {white-space: pre;}</style>\"))\n",
    "\n",
    "display(HTML(\"<style>.container { width:90% !important; }</style>\"))\n",
    "\n",
    "pd.set_option('display.max_columns', None)\n",
    "pd.set_option('display.expand_frame_repr', False)"
   ]
  },
  {
   "cell_type": "markdown",
   "metadata": {},
   "source": [
    "### Подготовка данных"
   ]
  },
  {
   "cell_type": "markdown",
   "metadata": {},
   "source": [
    "Загружаем таблицу и смотрим на первые пять строк.\n"
   ]
  },
  {
   "cell_type": "code",
   "execution_count": 3,
   "metadata": {},
   "outputs": [
    {
     "data": {
      "text/html": [
       "<div>\n",
       "<style scoped>\n",
       "    .dataframe tbody tr th:only-of-type {\n",
       "        vertical-align: middle;\n",
       "    }\n",
       "\n",
       "    .dataframe tbody tr th {\n",
       "        vertical-align: top;\n",
       "    }\n",
       "\n",
       "    .dataframe thead th {\n",
       "        text-align: right;\n",
       "    }\n",
       "</style>\n",
       "<table border=\"1\" class=\"dataframe\">\n",
       "  <thead>\n",
       "    <tr style=\"text-align: right;\">\n",
       "      <th></th>\n",
       "      <th>Name</th>\n",
       "      <th>Platform</th>\n",
       "      <th>Year_of_Release</th>\n",
       "      <th>Genre</th>\n",
       "      <th>NA_sales</th>\n",
       "      <th>EU_sales</th>\n",
       "      <th>JP_sales</th>\n",
       "      <th>Other_sales</th>\n",
       "      <th>Critic_Score</th>\n",
       "      <th>User_Score</th>\n",
       "      <th>Rating</th>\n",
       "    </tr>\n",
       "  </thead>\n",
       "  <tbody>\n",
       "    <tr>\n",
       "      <td>0</td>\n",
       "      <td>Wii Sports</td>\n",
       "      <td>Wii</td>\n",
       "      <td>2006.0</td>\n",
       "      <td>Sports</td>\n",
       "      <td>41.36</td>\n",
       "      <td>28.96</td>\n",
       "      <td>3.77</td>\n",
       "      <td>8.45</td>\n",
       "      <td>76.0</td>\n",
       "      <td>8</td>\n",
       "      <td>E</td>\n",
       "    </tr>\n",
       "    <tr>\n",
       "      <td>1</td>\n",
       "      <td>Super Mario Bros.</td>\n",
       "      <td>NES</td>\n",
       "      <td>1985.0</td>\n",
       "      <td>Platform</td>\n",
       "      <td>29.08</td>\n",
       "      <td>3.58</td>\n",
       "      <td>6.81</td>\n",
       "      <td>0.77</td>\n",
       "      <td>NaN</td>\n",
       "      <td>NaN</td>\n",
       "      <td>NaN</td>\n",
       "    </tr>\n",
       "    <tr>\n",
       "      <td>2</td>\n",
       "      <td>Mario Kart Wii</td>\n",
       "      <td>Wii</td>\n",
       "      <td>2008.0</td>\n",
       "      <td>Racing</td>\n",
       "      <td>15.68</td>\n",
       "      <td>12.76</td>\n",
       "      <td>3.79</td>\n",
       "      <td>3.29</td>\n",
       "      <td>82.0</td>\n",
       "      <td>8.3</td>\n",
       "      <td>E</td>\n",
       "    </tr>\n",
       "    <tr>\n",
       "      <td>3</td>\n",
       "      <td>Wii Sports Resort</td>\n",
       "      <td>Wii</td>\n",
       "      <td>2009.0</td>\n",
       "      <td>Sports</td>\n",
       "      <td>15.61</td>\n",
       "      <td>10.93</td>\n",
       "      <td>3.28</td>\n",
       "      <td>2.95</td>\n",
       "      <td>80.0</td>\n",
       "      <td>8</td>\n",
       "      <td>E</td>\n",
       "    </tr>\n",
       "    <tr>\n",
       "      <td>4</td>\n",
       "      <td>Pokemon Red/Pokemon Blue</td>\n",
       "      <td>GB</td>\n",
       "      <td>1996.0</td>\n",
       "      <td>Role-Playing</td>\n",
       "      <td>11.27</td>\n",
       "      <td>8.89</td>\n",
       "      <td>10.22</td>\n",
       "      <td>1.00</td>\n",
       "      <td>NaN</td>\n",
       "      <td>NaN</td>\n",
       "      <td>NaN</td>\n",
       "    </tr>\n",
       "  </tbody>\n",
       "</table>\n",
       "</div>"
      ],
      "text/plain": [
       "                       Name Platform  Year_of_Release         Genre  NA_sales  EU_sales  JP_sales  Other_sales  Critic_Score User_Score Rating\n",
       "0                Wii Sports      Wii           2006.0        Sports     41.36     28.96      3.77         8.45          76.0          8      E\n",
       "1         Super Mario Bros.      NES           1985.0      Platform     29.08      3.58      6.81         0.77           NaN        NaN    NaN\n",
       "2            Mario Kart Wii      Wii           2008.0        Racing     15.68     12.76      3.79         3.29          82.0        8.3      E\n",
       "3         Wii Sports Resort      Wii           2009.0        Sports     15.61     10.93      3.28         2.95          80.0          8      E\n",
       "4  Pokemon Red/Pokemon Blue       GB           1996.0  Role-Playing     11.27      8.89     10.22         1.00           NaN        NaN    NaN"
      ]
     },
     "metadata": {},
     "output_type": "display_data"
    }
   ],
   "source": [
    "data = pd.read_csv('/datasets/games.csv')\n",
    "\n",
    "display(data.head())"
   ]
  },
  {
   "cell_type": "markdown",
   "metadata": {},
   "source": [
    "Случайная выборка из середины, для оценки однородности данных."
   ]
  },
  {
   "cell_type": "code",
   "execution_count": 4,
   "metadata": {},
   "outputs": [
    {
     "data": {
      "text/html": [
       "<div>\n",
       "<style scoped>\n",
       "    .dataframe tbody tr th:only-of-type {\n",
       "        vertical-align: middle;\n",
       "    }\n",
       "\n",
       "    .dataframe tbody tr th {\n",
       "        vertical-align: top;\n",
       "    }\n",
       "\n",
       "    .dataframe thead th {\n",
       "        text-align: right;\n",
       "    }\n",
       "</style>\n",
       "<table border=\"1\" class=\"dataframe\">\n",
       "  <thead>\n",
       "    <tr style=\"text-align: right;\">\n",
       "      <th></th>\n",
       "      <th>Name</th>\n",
       "      <th>Platform</th>\n",
       "      <th>Year_of_Release</th>\n",
       "      <th>Genre</th>\n",
       "      <th>NA_sales</th>\n",
       "      <th>EU_sales</th>\n",
       "      <th>JP_sales</th>\n",
       "      <th>Other_sales</th>\n",
       "      <th>Critic_Score</th>\n",
       "      <th>User_Score</th>\n",
       "      <th>Rating</th>\n",
       "    </tr>\n",
       "  </thead>\n",
       "  <tbody>\n",
       "    <tr>\n",
       "      <td>6637</td>\n",
       "      <td>Ben 10 Triple Pack</td>\n",
       "      <td>DS</td>\n",
       "      <td>2011.0</td>\n",
       "      <td>Misc</td>\n",
       "      <td>0.12</td>\n",
       "      <td>0.11</td>\n",
       "      <td>0.00</td>\n",
       "      <td>0.02</td>\n",
       "      <td>NaN</td>\n",
       "      <td>tbd</td>\n",
       "      <td>E10+</td>\n",
       "    </tr>\n",
       "    <tr>\n",
       "      <td>105</td>\n",
       "      <td>Fallout 4</td>\n",
       "      <td>PS4</td>\n",
       "      <td>2015.0</td>\n",
       "      <td>Role-Playing</td>\n",
       "      <td>2.53</td>\n",
       "      <td>3.27</td>\n",
       "      <td>0.24</td>\n",
       "      <td>1.13</td>\n",
       "      <td>87.0</td>\n",
       "      <td>6.5</td>\n",
       "      <td>M</td>\n",
       "    </tr>\n",
       "    <tr>\n",
       "      <td>7065</td>\n",
       "      <td>Mortal Kombat: Armageddon</td>\n",
       "      <td>Wii</td>\n",
       "      <td>2007.0</td>\n",
       "      <td>Fighting</td>\n",
       "      <td>0.19</td>\n",
       "      <td>0.02</td>\n",
       "      <td>0.00</td>\n",
       "      <td>0.02</td>\n",
       "      <td>71.0</td>\n",
       "      <td>8.4</td>\n",
       "      <td>M</td>\n",
       "    </tr>\n",
       "    <tr>\n",
       "      <td>15401</td>\n",
       "      <td>Atari Flashback Classics: Volume 2</td>\n",
       "      <td>XOne</td>\n",
       "      <td>2016.0</td>\n",
       "      <td>Misc</td>\n",
       "      <td>0.02</td>\n",
       "      <td>0.00</td>\n",
       "      <td>0.00</td>\n",
       "      <td>0.00</td>\n",
       "      <td>NaN</td>\n",
       "      <td>tbd</td>\n",
       "      <td>E</td>\n",
       "    </tr>\n",
       "    <tr>\n",
       "      <td>2017</td>\n",
       "      <td>Junior Brain Trainer</td>\n",
       "      <td>DS</td>\n",
       "      <td>2008.0</td>\n",
       "      <td>Misc</td>\n",
       "      <td>0.23</td>\n",
       "      <td>0.71</td>\n",
       "      <td>0.00</td>\n",
       "      <td>0.09</td>\n",
       "      <td>NaN</td>\n",
       "      <td>tbd</td>\n",
       "      <td>E</td>\n",
       "    </tr>\n",
       "    <tr>\n",
       "      <td>4607</td>\n",
       "      <td>James Bond 007: Everything or Nothing</td>\n",
       "      <td>GC</td>\n",
       "      <td>2004.0</td>\n",
       "      <td>Shooter</td>\n",
       "      <td>0.32</td>\n",
       "      <td>0.08</td>\n",
       "      <td>0.00</td>\n",
       "      <td>0.01</td>\n",
       "      <td>84.0</td>\n",
       "      <td>8.2</td>\n",
       "      <td>T</td>\n",
       "    </tr>\n",
       "    <tr>\n",
       "      <td>16158</td>\n",
       "      <td>Raven's Cry</td>\n",
       "      <td>PS4</td>\n",
       "      <td>2015.0</td>\n",
       "      <td>Role-Playing</td>\n",
       "      <td>0.00</td>\n",
       "      <td>0.01</td>\n",
       "      <td>0.00</td>\n",
       "      <td>0.00</td>\n",
       "      <td>NaN</td>\n",
       "      <td>NaN</td>\n",
       "      <td>NaN</td>\n",
       "    </tr>\n",
       "    <tr>\n",
       "      <td>5316</td>\n",
       "      <td>MotoGP 08</td>\n",
       "      <td>X360</td>\n",
       "      <td>2008.0</td>\n",
       "      <td>Racing</td>\n",
       "      <td>0.11</td>\n",
       "      <td>0.20</td>\n",
       "      <td>0.00</td>\n",
       "      <td>0.04</td>\n",
       "      <td>68.0</td>\n",
       "      <td>5.6</td>\n",
       "      <td>E</td>\n",
       "    </tr>\n",
       "    <tr>\n",
       "      <td>12084</td>\n",
       "      <td>Fantastic Four</td>\n",
       "      <td>PS</td>\n",
       "      <td>1997.0</td>\n",
       "      <td>Action</td>\n",
       "      <td>0.04</td>\n",
       "      <td>0.03</td>\n",
       "      <td>0.00</td>\n",
       "      <td>0.00</td>\n",
       "      <td>NaN</td>\n",
       "      <td>NaN</td>\n",
       "      <td>NaN</td>\n",
       "    </tr>\n",
       "    <tr>\n",
       "      <td>11519</td>\n",
       "      <td>The Sims 2: Ikea Home Stuff</td>\n",
       "      <td>PC</td>\n",
       "      <td>2008.0</td>\n",
       "      <td>Simulation</td>\n",
       "      <td>0.00</td>\n",
       "      <td>0.07</td>\n",
       "      <td>0.00</td>\n",
       "      <td>0.01</td>\n",
       "      <td>NaN</td>\n",
       "      <td>tbd</td>\n",
       "      <td>T</td>\n",
       "    </tr>\n",
       "  </tbody>\n",
       "</table>\n",
       "</div>"
      ],
      "text/plain": [
       "                                        Name Platform  Year_of_Release         Genre  NA_sales  EU_sales  JP_sales  Other_sales  Critic_Score User_Score Rating\n",
       "6637                      Ben 10 Triple Pack       DS           2011.0          Misc      0.12      0.11      0.00         0.02           NaN        tbd   E10+\n",
       "105                                Fallout 4      PS4           2015.0  Role-Playing      2.53      3.27      0.24         1.13          87.0        6.5      M\n",
       "7065               Mortal Kombat: Armageddon      Wii           2007.0      Fighting      0.19      0.02      0.00         0.02          71.0        8.4      M\n",
       "15401     Atari Flashback Classics: Volume 2     XOne           2016.0          Misc      0.02      0.00      0.00         0.00           NaN        tbd      E\n",
       "2017                    Junior Brain Trainer       DS           2008.0          Misc      0.23      0.71      0.00         0.09           NaN        tbd      E\n",
       "4607   James Bond 007: Everything or Nothing       GC           2004.0       Shooter      0.32      0.08      0.00         0.01          84.0        8.2      T\n",
       "16158                            Raven's Cry      PS4           2015.0  Role-Playing      0.00      0.01      0.00         0.00           NaN        NaN    NaN\n",
       "5316                               MotoGP 08     X360           2008.0        Racing      0.11      0.20      0.00         0.04          68.0        5.6      E\n",
       "12084                         Fantastic Four       PS           1997.0        Action      0.04      0.03      0.00         0.00           NaN        NaN    NaN\n",
       "11519            The Sims 2: Ikea Home Stuff       PC           2008.0    Simulation      0.00      0.07      0.00         0.01           NaN        tbd      T"
      ]
     },
     "metadata": {},
     "output_type": "display_data"
    }
   ],
   "source": [
    "display(data.sample(10)) "
   ]
  },
  {
   "cell_type": "markdown",
   "metadata": {},
   "source": [
    "Описание  разброса числовых значений и общая информация о свойсттвах таблицы."
   ]
  },
  {
   "cell_type": "code",
   "execution_count": 5,
   "metadata": {},
   "outputs": [
    {
     "data": {
      "text/html": [
       "<div>\n",
       "<style scoped>\n",
       "    .dataframe tbody tr th:only-of-type {\n",
       "        vertical-align: middle;\n",
       "    }\n",
       "\n",
       "    .dataframe tbody tr th {\n",
       "        vertical-align: top;\n",
       "    }\n",
       "\n",
       "    .dataframe thead th {\n",
       "        text-align: right;\n",
       "    }\n",
       "</style>\n",
       "<table border=\"1\" class=\"dataframe\">\n",
       "  <thead>\n",
       "    <tr style=\"text-align: right;\">\n",
       "      <th></th>\n",
       "      <th>Year_of_Release</th>\n",
       "      <th>NA_sales</th>\n",
       "      <th>EU_sales</th>\n",
       "      <th>JP_sales</th>\n",
       "      <th>Other_sales</th>\n",
       "      <th>Critic_Score</th>\n",
       "    </tr>\n",
       "  </thead>\n",
       "  <tbody>\n",
       "    <tr>\n",
       "      <td>count</td>\n",
       "      <td>16446.000000</td>\n",
       "      <td>16715.000000</td>\n",
       "      <td>16715.000000</td>\n",
       "      <td>16715.000000</td>\n",
       "      <td>16715.000000</td>\n",
       "      <td>8137.000000</td>\n",
       "    </tr>\n",
       "    <tr>\n",
       "      <td>mean</td>\n",
       "      <td>2006.484616</td>\n",
       "      <td>0.263377</td>\n",
       "      <td>0.145060</td>\n",
       "      <td>0.077617</td>\n",
       "      <td>0.047342</td>\n",
       "      <td>68.967679</td>\n",
       "    </tr>\n",
       "    <tr>\n",
       "      <td>std</td>\n",
       "      <td>5.877050</td>\n",
       "      <td>0.813604</td>\n",
       "      <td>0.503339</td>\n",
       "      <td>0.308853</td>\n",
       "      <td>0.186731</td>\n",
       "      <td>13.938165</td>\n",
       "    </tr>\n",
       "    <tr>\n",
       "      <td>min</td>\n",
       "      <td>1980.000000</td>\n",
       "      <td>0.000000</td>\n",
       "      <td>0.000000</td>\n",
       "      <td>0.000000</td>\n",
       "      <td>0.000000</td>\n",
       "      <td>13.000000</td>\n",
       "    </tr>\n",
       "    <tr>\n",
       "      <td>25%</td>\n",
       "      <td>2003.000000</td>\n",
       "      <td>0.000000</td>\n",
       "      <td>0.000000</td>\n",
       "      <td>0.000000</td>\n",
       "      <td>0.000000</td>\n",
       "      <td>60.000000</td>\n",
       "    </tr>\n",
       "    <tr>\n",
       "      <td>50%</td>\n",
       "      <td>2007.000000</td>\n",
       "      <td>0.080000</td>\n",
       "      <td>0.020000</td>\n",
       "      <td>0.000000</td>\n",
       "      <td>0.010000</td>\n",
       "      <td>71.000000</td>\n",
       "    </tr>\n",
       "    <tr>\n",
       "      <td>75%</td>\n",
       "      <td>2010.000000</td>\n",
       "      <td>0.240000</td>\n",
       "      <td>0.110000</td>\n",
       "      <td>0.040000</td>\n",
       "      <td>0.030000</td>\n",
       "      <td>79.000000</td>\n",
       "    </tr>\n",
       "    <tr>\n",
       "      <td>max</td>\n",
       "      <td>2016.000000</td>\n",
       "      <td>41.360000</td>\n",
       "      <td>28.960000</td>\n",
       "      <td>10.220000</td>\n",
       "      <td>10.570000</td>\n",
       "      <td>98.000000</td>\n",
       "    </tr>\n",
       "  </tbody>\n",
       "</table>\n",
       "</div>"
      ],
      "text/plain": [
       "       Year_of_Release      NA_sales      EU_sales      JP_sales   Other_sales  Critic_Score\n",
       "count     16446.000000  16715.000000  16715.000000  16715.000000  16715.000000   8137.000000\n",
       "mean       2006.484616      0.263377      0.145060      0.077617      0.047342     68.967679\n",
       "std           5.877050      0.813604      0.503339      0.308853      0.186731     13.938165\n",
       "min        1980.000000      0.000000      0.000000      0.000000      0.000000     13.000000\n",
       "25%        2003.000000      0.000000      0.000000      0.000000      0.000000     60.000000\n",
       "50%        2007.000000      0.080000      0.020000      0.000000      0.010000     71.000000\n",
       "75%        2010.000000      0.240000      0.110000      0.040000      0.030000     79.000000\n",
       "max        2016.000000     41.360000     28.960000     10.220000     10.570000     98.000000"
      ]
     },
     "metadata": {},
     "output_type": "display_data"
    },
    {
     "name": "stdout",
     "output_type": "stream",
     "text": [
      "<class 'pandas.core.frame.DataFrame'>\n",
      "RangeIndex: 16715 entries, 0 to 16714\n",
      "Data columns (total 11 columns):\n",
      "Name               16713 non-null object\n",
      "Platform           16715 non-null object\n",
      "Year_of_Release    16446 non-null float64\n",
      "Genre              16713 non-null object\n",
      "NA_sales           16715 non-null float64\n",
      "EU_sales           16715 non-null float64\n",
      "JP_sales           16715 non-null float64\n",
      "Other_sales        16715 non-null float64\n",
      "Critic_Score       8137 non-null float64\n",
      "User_Score         10014 non-null object\n",
      "Rating             9949 non-null object\n",
      "dtypes: float64(6), object(5)\n",
      "memory usage: 1.4+ MB\n"
     ]
    },
    {
     "data": {
      "text/plain": [
       "None"
      ]
     },
     "metadata": {},
     "output_type": "display_data"
    }
   ],
   "source": [
    "display(data.describe())\n",
    "display (data.info())"
   ]
  },
  {
   "cell_type": "markdown",
   "metadata": {},
   "source": [
    " Обработка данных "
   ]
  },
  {
   "cell_type": "code",
   "execution_count": 6,
   "metadata": {},
   "outputs": [
    {
     "name": "stdout",
     "output_type": "stream",
     "text": [
      "\n"
     ]
    },
    {
     "name": "stderr",
     "output_type": "stream",
     "text": [
      "/opt/conda/lib/python3.7/site-packages/pandas/core/ops/__init__.py:1115: FutureWarning: elementwise comparison failed; returning scalar instead, but in the future will perform elementwise comparison\n",
      "  result = method(y)\n"
     ]
    }
   ],
   "source": [
    "data.columns = data.columns.str.lower() \n",
    "data = data.drop_duplicates()\n",
    "\n",
    "# преобразование типов\n",
    "data['year_of_release'] = data['year_of_release'].fillna(0).astype(int)\n",
    "\n",
    "# перевод в нижний регистр\n",
    "data['name'] = data['name'].str.lower() \n",
    "data['genre'] = data['genre'].str.lower()\n",
    "print('')\n",
    "\n",
    "# смотрю кол-во пропусков\n",
    "data[['na_sales', 'jp_sales', 'other_sales', 'critic_score', 'user_score', 'rating']].isna().sum()\n",
    "\n",
    "# предполагаю, что игры без рейтинга - старые\n",
    "data['year_of_release'].describe()\n",
    "data_nan = data.query('critic_score == \"NaN\"')\n",
    "data_nan['year_of_release'].describe()\n",
    "\n",
    "# столбец с общими продажами\n",
    "data['all_sales'] = data['na_sales'] + data['eu_sales'] + data['jp_sales'] + data['other_sales']\n",
    "\n",
    "#Есть нули в дате выпуска игры\n",
    "# print(data[data['year_of_release'] == 0].count()) \n",
    "data = data.query('year_of_release != 0')\n",
    "\n",
    "\n",
    "# Блок с тбд\n",
    "data = data.replace('tbd', 'NaN')\n",
    "data['user_score'] = data['user_score'].astype(float)\n",
    "# print(actual_top_platforms['user_score'].isna().sum()) #посмотрел сколько всего таких\n",
    "# print(actual_top_platforms.query('user_score == \"NaN\"').head(50)) #предполагаю что это игры с малыми продажами\n",
    "data[data['user_score'] == 'NaN'] = data['user_score'].median()\n",
    "\n",
    "\n",
    "\n",
    "\n",
    "# print(data.info())\n"
   ]
  },
  {
   "cell_type": "markdown",
   "metadata": {},
   "source": [
    "### Исследователький анализ данных. "
   ]
  },
  {
   "cell_type": "code",
   "execution_count": 7,
   "metadata": {},
   "outputs": [
    {
     "data": {
      "image/png": "[encoded data removed]",
      "text/plain": [
       "<Figure size 648x648 with 1 Axes>"
      ]
     },
     "metadata": {
      "needs_background": "light"
     },
     "output_type": "display_data"
    }
   ],
   "source": [
    "hist_trend = data['year_of_release'].plot(kind='hist', bins = 60, title='тренд выпуска игр', figsize=(9,9))\n",
    "hist_trend.set_ylabel(\"колличество релизов\")#Судя по диаграмме, я бы оставил данные только с 2003 года\n",
    "hist_trend.set_xlabel(\"год\")\n",
    "\n",
    "data_platform = data.pivot_table(index='platform', values=['na_sales', 'eu_sales', 'jp_sales', 'other_sales'], aggfunc='sum')\n",
    "data_platform['all_sales'] = (data_platform['eu_sales'] + data_platform['jp_sales'] + data_platform['na_sales'] + data_platform['other_sales'])\n",
    "data_platform = data_platform.sort_values(by='all_sales', ascending=False)\n",
    "\n",
    "\n",
    "\n",
    "# data_platform.plot(x=data_platform.index, y='all_sales', kind='scatter')"
   ]
  },
  {
   "cell_type": "code",
   "execution_count": 8,
   "metadata": {},
   "outputs": [
    {
     "data": {
      "text/plain": [
       "Text(0.5, 0, 'платформа')"
      ]
     },
     "execution_count": 8,
     "metadata": {},
     "output_type": "execute_result"
    },
    {
     "data": {
      "image/png": "[encoded data removed]",
      "text/plain": [
       "<Figure size 648x648 with 1 Axes>"
      ]
     },
     "metadata": {
      "needs_background": "light"
     },
     "output_type": "display_data"
    }
   ],
   "source": [
    "platform_hist = data_platform['all_sales'].plot(kind = 'bar', figsize=(9,9), title='Распределение продаж игр платформам за весь период')\n",
    "platform_hist.set_ylabel(\"количество продаж\")\n",
    "platform_hist.set_xlabel(\"платформа\")\n",
    "\n",
    "# ds = data.query('platform ==  \"DS\"').plot(kind='scatter', x='year_of_release', y='all_sales', xlim=2003, title='DS')  #увидел выброс, поэтому обозначил лимит по годам\n",
    "# ps2= data.query('platform ==  \"PS2\"').plot(kind='scatter', x='year_of_release', y='all_sales', title='PS2') #Судя по всему диси по-новее чем пс"
   ]
  },
  {
   "cell_type": "code",
   "execution_count": 9,
   "metadata": {},
   "outputs": [
    {
     "data": {
      "text/plain": [
       "Text(0.5, 0, 'год')"
      ]
     },
     "execution_count": 9,
     "metadata": {},
     "output_type": "execute_result"
    },
    {
     "data": {
      "image/png": "[encoded data removed]",
      "text/plain": [
       "<Figure size 432x288 with 1 Axes>"
      ]
     },
     "metadata": {
      "needs_background": "light"
     },
     "output_type": "display_data"
    }
   ],
   "source": [
    "term_platform = data.pivot_table(index='platform', values='year_of_release', aggfunc='min').plot(kind='hist', bins=50, title='гистограмма выхода новых платформ')\n",
    "term_platform.set_ylabel('колличество платформ')\n",
    "term_platform.set_xlabel('год')"
   ]
  },
  {
   "cell_type": "markdown",
   "metadata": {},
   "source": [
    "В данном блоке я создал актуальный список платформ, с датой первого релиза - 2013, таким образом я отсеял все старые платформы. На графике тренда выпуска игр виден скачок выпуска числа игр  в 2013 годы, этот год и принимаю в качестве начала актуального периода для дальнейшего анализа данных.\n",
    "\n",
    "В среднем, новые платформы появляются каждые 2-3 года.\n"
   ]
  },
  {
   "cell_type": "code",
   "execution_count": 10,
   "metadata": {},
   "outputs": [
    {
     "data": {
      "text/plain": [
       "Text(0, 0.5, 'млн. шт.')"
      ]
     },
     "execution_count": 10,
     "metadata": {},
     "output_type": "execute_result"
    },
    {
     "data": {
      "image/png": "[encoded data removed]",
      "text/plain": [
       "<Figure size 648x648 with 1 Axes>"
      ]
     },
     "metadata": {
      "needs_background": "light"
     },
     "output_type": "display_data"
    }
   ],
   "source": [
    "data_actual = data.query('year_of_release >= 2013').pivot_table(index='platform', values=['na_sales', 'eu_sales', 'jp_sales', 'other_sales'], aggfunc='sum') #По этой таблице и будем анализировать данные.\n",
    "\n",
    "data_actual['all_sales'] = (data_actual['eu_sales'] + data_actual['jp_sales'] + data_actual['na_sales'] + data_actual['other_sales'])\n",
    "data_actual = data_actual.sort_values(by='all_sales', ascending=False)\n",
    "hist_actual = data_actual['all_sales'].plot(kind='bar', figsize=(9,9), title='Распределение продаж игр платформам за актуальный периодс (с 2013 г.)')\n",
    "hist_actual.set_xlabel('платформа')\n",
    "hist_actual.set_ylabel('млн. шт.')\n",
    "\n",
    "#print(actual_top_games)\n",
    "\n"
   ]
  },
  {
   "cell_type": "markdown",
   "metadata": {},
   "source": [
    "Наибольшее колличество игр вышло на ps4, а на ХOne почти также как и на PS3, 3DS и X360. С остальными кратный 2-х разрыв в продажах. "
   ]
  },
  {
   "cell_type": "code",
   "execution_count": 11,
   "metadata": {},
   "outputs": [
    {
     "data": {
      "image/png": "[encoded data removed]",
      "text/plain": [
       "<Figure size 216x216 with 1 Axes>"
      ]
     },
     "metadata": {
      "needs_background": "light"
     },
     "output_type": "display_data"
    },
    {
     "data": {
      "image/png": "[encoded data removed]",
      "text/plain": [
       "<Figure size 216x216 with 1 Axes>"
      ]
     },
     "metadata": {
      "needs_background": "light"
     },
     "output_type": "display_data"
    },
    {
     "data": {
      "image/png": "[encoded data removed]",
      "text/plain": [
       "<Figure size 216x216 with 1 Axes>"
      ]
     },
     "metadata": {
      "needs_background": "light"
     },
     "output_type": "display_data"
    },
    {
     "data": {
      "image/png": "[encoded data removed]",
      "text/plain": [
       "<Figure size 216x216 with 1 Axes>"
      ]
     },
     "metadata": {
      "needs_background": "light"
     },
     "output_type": "display_data"
    },
    {
     "data": {
      "image/png": "[encoded data removed]",
      "text/plain": [
       "<Figure size 216x216 with 1 Axes>"
      ]
     },
     "metadata": {
      "needs_background": "light"
     },
     "output_type": "display_data"
    }
   ],
   "source": [
    "#готовим срез по актуальным платформам\n",
    "top_platform = list(data_actual.head().index)\n",
    "actual_top_platforms = data.query('year_of_release >= 2013 and platform in @top_platform')\n",
    "\n",
    "# Посмотрим на тренд для 5 первых платформ\n",
    "actual_top_platforms_hist = actual_top_platforms.pivot_table(index='year_of_release', values='all_sales', columns='platform', aggfunc='sum')\n",
    "\n",
    "#функция для рисования графиков\n",
    "def graf_bar(list_of_top): \n",
    "    for i in list_of_top:     \n",
    "        hist = actual_top_platforms_hist[i].plot(kind='bar', figsize=(3,3), title=i+' (2013-2016)')\n",
    "        hist.set_xlabel('год')\n",
    "        hist.set_ylabel('млн. шт.')\n",
    "        plt.show()\n",
    "        \n",
    "graf_bar(top_platform)\n",
    "# print(top_platform)\n",
    "\n",
    "\n",
    "\n",
    "\n"
   ]
  },
  {
   "cell_type": "code",
   "execution_count": 12,
   "metadata": {},
   "outputs": [
    {
     "name": "stderr",
     "output_type": "stream",
     "text": [
      "/opt/conda/lib/python3.7/site-packages/numpy/core/_asarray.py:83: VisibleDeprecationWarning: Creating an ndarray from ragged nested sequences (which is a list-or-tuple of lists-or-tuples-or ndarrays with different lengths or shapes) is deprecated. If you meant to do this, you must specify 'dtype=object' when creating the ndarray\n",
      "  return array(a, dtype, copy=False, order=order)\n"
     ]
    },
    {
     "data": {
      "text/plain": [
       "Text(0, 0.5, 'млн. шт.')"
      ]
     },
     "execution_count": 12,
     "metadata": {},
     "output_type": "execute_result"
    },
    {
     "data": {
      "image/png": "[encoded data removed]",
      "text/plain": [
       "<Figure size 648x648 with 1 Axes>"
      ]
     },
     "metadata": {
      "needs_background": "light"
     },
     "output_type": "display_data"
    }
   ],
   "source": [
    "#  «ящик с усами» по глобальным продажам игр в разбивке по платформам\n",
    "actual_top_platforms.pivot_table(index='name', values='all_sales', columns='platform',aggfunc='sum').boxplot(figsize=(9,9)).set_ylabel('млн. шт.')"
   ]
  },
  {
   "cell_type": "markdown",
   "metadata": {},
   "source": [
    "Основная масса игр не очень хорошо продаются,  но есть бестселлеры, продажи которых в десятки раз больше чем продажи у всех остальных "
   ]
  },
  {
   "cell_type": "code",
   "execution_count": 13,
   "metadata": {},
   "outputs": [
    {
     "data": {
      "text/plain": [
       "Text(0.5, 0, 'пользовательский рейтинг')"
      ]
     },
     "execution_count": 13,
     "metadata": {},
     "output_type": "execute_result"
    },
    {
     "data": {
      "image/png": "[encoded data removed]",
      "text/plain": [
       "<Figure size 432x288 with 1 Axes>"
      ]
     },
     "metadata": {
      "needs_background": "light"
     },
     "output_type": "display_data"
    }
   ],
   "source": [
    "# Влияние отзывов пользователей и критиков  на продажи \n",
    "\n",
    "rating_sales = actual_top_platforms.query('platform == \"PS4\"') #Самые большие продажи на PS4\n",
    "\n",
    "\n",
    "\n",
    "user_hist = rating_sales.plot(kind='scatter', y='all_sales', x='user_score', alpha=0.3, title='диаграмма рассейивания для PS4')\n",
    "user_hist.set_ylabel('млн. шт.')\n",
    "user_hist.set_xlabel('пользовательский рейтинг')"
   ]
  },
  {
   "cell_type": "code",
   "execution_count": 14,
   "metadata": {},
   "outputs": [
    {
     "data": {
      "text/plain": [
       "Text(0.5, 0, 'пользовательский рейтинг')"
      ]
     },
     "execution_count": 14,
     "metadata": {},
     "output_type": "execute_result"
    },
    {
     "data": {
      "image/png": "[encoded data removed]",
      "text/plain": [
       "<Figure size 432x288 with 1 Axes>"
      ]
     },
     "metadata": {
      "needs_background": "light"
     },
     "output_type": "display_data"
    }
   ],
   "source": [
    "critic_hist = rating_sales.plot(kind='scatter', y='all_sales', x='critic_score', alpha=0.3, title='диаграмма рассейивания для PS4')\n",
    "critic_hist.set_ylabel('млн. шт.')\n",
    "critic_hist.set_xlabel('пользовательский рейтинг')"
   ]
  },
  {
   "cell_type": "code",
   "execution_count": 15,
   "metadata": {},
   "outputs": [
    {
     "data": {
      "text/html": [
       "<div>\n",
       "<style scoped>\n",
       "    .dataframe tbody tr th:only-of-type {\n",
       "        vertical-align: middle;\n",
       "    }\n",
       "\n",
       "    .dataframe tbody tr th {\n",
       "        vertical-align: top;\n",
       "    }\n",
       "\n",
       "    .dataframe thead th {\n",
       "        text-align: right;\n",
       "    }\n",
       "</style>\n",
       "<table border=\"1\" class=\"dataframe\">\n",
       "  <thead>\n",
       "    <tr style=\"text-align: right;\">\n",
       "      <th></th>\n",
       "      <th>critic_score</th>\n",
       "      <th>user_score</th>\n",
       "      <th>all_sales</th>\n",
       "    </tr>\n",
       "  </thead>\n",
       "  <tbody>\n",
       "    <tr>\n",
       "      <td>critic_score</td>\n",
       "      <td>1.000000</td>\n",
       "      <td>0.557654</td>\n",
       "      <td>0.406568</td>\n",
       "    </tr>\n",
       "    <tr>\n",
       "      <td>user_score</td>\n",
       "      <td>0.557654</td>\n",
       "      <td>1.000000</td>\n",
       "      <td>-0.031957</td>\n",
       "    </tr>\n",
       "    <tr>\n",
       "      <td>all_sales</td>\n",
       "      <td>0.406568</td>\n",
       "      <td>-0.031957</td>\n",
       "      <td>1.000000</td>\n",
       "    </tr>\n",
       "  </tbody>\n",
       "</table>\n",
       "</div>"
      ],
      "text/plain": [
       "              critic_score  user_score  all_sales\n",
       "critic_score      1.000000    0.557654   0.406568\n",
       "user_score        0.557654    1.000000  -0.031957\n",
       "all_sales         0.406568   -0.031957   1.000000"
      ]
     },
     "execution_count": 15,
     "metadata": {},
     "output_type": "execute_result"
    }
   ],
   "source": [
    "rating_sales = rating_sales[['critic_score', 'user_score', 'all_sales']] #Для нахождения коэф корреляции нужны эти три параметра\n",
    "rating_sales.corr()"
   ]
  },
  {
   "cell_type": "markdown",
   "metadata": {},
   "source": [
    "Для платформы PS4 есть зависимость колличества продаж от оценки критиков, коэффициент корреляции этих параметров 0.557.\n"
   ]
  },
  {
   "cell_type": "code",
   "execution_count": 16,
   "metadata": {},
   "outputs": [
    {
     "data": {
      "text/plain": [
       "Text(0.5, 0, 'пользовательский рейтинг')"
      ]
     },
     "execution_count": 16,
     "metadata": {},
     "output_type": "execute_result"
    },
    {
     "data": {
      "image/png": "[encoded data removed]",
      "text/plain": [
       "<Figure size 432x288 with 1 Axes>"
      ]
     },
     "metadata": {
      "needs_background": "light"
     },
     "output_type": "display_data"
    }
   ],
   "source": [
    "# Влияние отзывов пользователей и критиков  на продажи по остальным платформам вместе взятых\n",
    "non_rating_sales = data.query('platform != \"PS4\"') \n",
    "\n",
    "user_all_score = non_rating_sales.plot(kind='scatter', y='all_sales', x='user_score', alpha=0.3)\n",
    "user_all_score.set_ylabel('млн. шт.')\n",
    "user_all_score.set_xlabel('пользовательский рейтинг')\n"
   ]
  },
  {
   "cell_type": "code",
   "execution_count": 17,
   "metadata": {},
   "outputs": [
    {
     "data": {
      "text/plain": [
       "Text(0.5, 0, 'пользовательский рейтинг')"
      ]
     },
     "execution_count": 17,
     "metadata": {},
     "output_type": "execute_result"
    },
    {
     "data": {
      "image/png": "[encoded data removed]",
      "text/plain": [
       "<Figure size 432x288 with 1 Axes>"
      ]
     },
     "metadata": {
      "needs_background": "light"
     },
     "output_type": "display_data"
    }
   ],
   "source": [
    "critic_all_score = non_rating_sales.plot(kind='scatter', y='all_sales', x='critic_score', alpha=0.3)\n",
    "critic_all_score.set_ylabel('млн. шт.')\n",
    "critic_all_score.set_xlabel('пользовательский рейтинг')"
   ]
  },
  {
   "cell_type": "code",
   "execution_count": 18,
   "metadata": {},
   "outputs": [
    {
     "data": {
      "text/html": [
       "<div>\n",
       "<style scoped>\n",
       "    .dataframe tbody tr th:only-of-type {\n",
       "        vertical-align: middle;\n",
       "    }\n",
       "\n",
       "    .dataframe tbody tr th {\n",
       "        vertical-align: top;\n",
       "    }\n",
       "\n",
       "    .dataframe thead th {\n",
       "        text-align: right;\n",
       "    }\n",
       "</style>\n",
       "<table border=\"1\" class=\"dataframe\">\n",
       "  <thead>\n",
       "    <tr style=\"text-align: right;\">\n",
       "      <th></th>\n",
       "      <th>critic_score</th>\n",
       "      <th>user_score</th>\n",
       "      <th>all_sales</th>\n",
       "    </tr>\n",
       "  </thead>\n",
       "  <tbody>\n",
       "    <tr>\n",
       "      <td>critic_score</td>\n",
       "      <td>1.000000</td>\n",
       "      <td>0.557654</td>\n",
       "      <td>0.406568</td>\n",
       "    </tr>\n",
       "    <tr>\n",
       "      <td>user_score</td>\n",
       "      <td>0.557654</td>\n",
       "      <td>1.000000</td>\n",
       "      <td>-0.031957</td>\n",
       "    </tr>\n",
       "    <tr>\n",
       "      <td>all_sales</td>\n",
       "      <td>0.406568</td>\n",
       "      <td>-0.031957</td>\n",
       "      <td>1.000000</td>\n",
       "    </tr>\n",
       "  </tbody>\n",
       "</table>\n",
       "</div>"
      ],
      "text/plain": [
       "              critic_score  user_score  all_sales\n",
       "critic_score      1.000000    0.557654   0.406568\n",
       "user_score        0.557654    1.000000  -0.031957\n",
       "all_sales         0.406568   -0.031957   1.000000"
      ]
     },
     "execution_count": 18,
     "metadata": {},
     "output_type": "execute_result"
    }
   ],
   "source": [
    "non_rating_sales = non_rating_sales[['critic_score', 'user_score', 'all_sales']] #Для нахождения коэф корреляции нужны эти три параметра\n",
    "\n",
    "rating_sales.corr()\n"
   ]
  },
  {
   "cell_type": "markdown",
   "metadata": {},
   "source": [
    "Определенная корреляция присутствует, но говорить о сильной взоимосвязи оценки критиков, пользователей и колличестве продаж не приходится. \n",
    "Ситуации c PS4 похожи, PS4 не выбивается из общей логики."
   ]
  },
  {
   "cell_type": "code",
   "execution_count": 19,
   "metadata": {},
   "outputs": [
    {
     "data": {
      "text/plain": [
       "Text(0, 0.5, 'млн. шт.')"
      ]
     },
     "execution_count": 19,
     "metadata": {},
     "output_type": "execute_result"
    },
    {
     "data": {
      "image/png": "[encoded data removed]",
      "text/plain": [
       "<Figure size 432x288 with 1 Axes>"
      ]
     },
     "metadata": {
      "needs_background": "light"
     },
     "output_type": "display_data"
    }
   ],
   "source": [
    "# Гистограмма прибыльности жанров\n",
    "data_genre = actual_top_platforms.pivot_table(index='genre', values='all_sales', aggfunc='sum')\n",
    "data_genre_hist = data_genre.sort_values(by='all_sales', ascending=False).plot(kind='bar', title ='Гистограмма прибыльности жанров')\n",
    "data_genre_hist.set_xlabel('жанр')\n",
    "data_genre_hist.set_ylabel('млн. шт.')\n",
    "\n",
    "\n",
    "# print(data.head())"
   ]
  },
  {
   "cell_type": "code",
   "execution_count": 20,
   "metadata": {},
   "outputs": [
    {
     "data": {
      "text/html": [
       "<div>\n",
       "<style scoped>\n",
       "    .dataframe tbody tr th:only-of-type {\n",
       "        vertical-align: middle;\n",
       "    }\n",
       "\n",
       "    .dataframe tbody tr th {\n",
       "        vertical-align: top;\n",
       "    }\n",
       "\n",
       "    .dataframe thead th {\n",
       "        text-align: right;\n",
       "    }\n",
       "</style>\n",
       "<table border=\"1\" class=\"dataframe\">\n",
       "  <thead>\n",
       "    <tr style=\"text-align: right;\">\n",
       "      <th></th>\n",
       "      <th>all_sales</th>\n",
       "    </tr>\n",
       "    <tr>\n",
       "      <th>genre</th>\n",
       "      <th></th>\n",
       "    </tr>\n",
       "  </thead>\n",
       "  <tbody>\n",
       "    <tr>\n",
       "      <td>action</td>\n",
       "      <td>285.96</td>\n",
       "    </tr>\n",
       "    <tr>\n",
       "      <td>shooter</td>\n",
       "      <td>216.22</td>\n",
       "    </tr>\n",
       "    <tr>\n",
       "      <td>sports</td>\n",
       "      <td>142.48</td>\n",
       "    </tr>\n",
       "    <tr>\n",
       "      <td>role-playing</td>\n",
       "      <td>127.83</td>\n",
       "    </tr>\n",
       "    <tr>\n",
       "      <td>misc</td>\n",
       "      <td>43.57</td>\n",
       "    </tr>\n",
       "    <tr>\n",
       "      <td>racing</td>\n",
       "      <td>31.46</td>\n",
       "    </tr>\n",
       "    <tr>\n",
       "      <td>fighting</td>\n",
       "      <td>27.91</td>\n",
       "    </tr>\n",
       "    <tr>\n",
       "      <td>platform</td>\n",
       "      <td>22.88</td>\n",
       "    </tr>\n",
       "    <tr>\n",
       "      <td>adventure</td>\n",
       "      <td>18.59</td>\n",
       "    </tr>\n",
       "    <tr>\n",
       "      <td>simulation</td>\n",
       "      <td>13.05</td>\n",
       "    </tr>\n",
       "    <tr>\n",
       "      <td>strategy</td>\n",
       "      <td>3.20</td>\n",
       "    </tr>\n",
       "    <tr>\n",
       "      <td>puzzle</td>\n",
       "      <td>1.79</td>\n",
       "    </tr>\n",
       "  </tbody>\n",
       "</table>\n",
       "</div>"
      ],
      "text/plain": [
       "              all_sales\n",
       "genre                  \n",
       "action           285.96\n",
       "shooter          216.22\n",
       "sports           142.48\n",
       "role-playing     127.83\n",
       "misc              43.57\n",
       "racing            31.46\n",
       "fighting          27.91\n",
       "platform          22.88\n",
       "adventure         18.59\n",
       "simulation        13.05\n",
       "strategy           3.20\n",
       "puzzle             1.79"
      ]
     },
     "metadata": {},
     "output_type": "display_data"
    }
   ],
   "source": [
    "display(data_genre.sort_values(by='all_sales', ascending=False))"
   ]
  },
  {
   "cell_type": "markdown",
   "metadata": {},
   "source": [
    "Самые большие продажи в жанре экшн, далее шутер, примерно одинаково у спортивных и ролевых игр, а пара самых неприбыльных - пазлы и стратегии"
   ]
  },
  {
   "cell_type": "code",
   "execution_count": 21,
   "metadata": {},
   "outputs": [],
   "source": [
    "# Портрет игрока в каждом регионе\n",
    "def portrait (region_sales):\n",
    "    region_portrait = actual_top_platforms[['name', 'platform', 'year_of_release', 'genre', region_sales, 'rating']]\n",
    "\n",
    "    region_platform = region_portrait.pivot_table(index='platform',  values=region_sales, aggfunc='sum').sort_values(by=region_sales, ascending=False)\n",
    "    region_platform['part_sales'] = region_platform[region_sales] / region_platform[region_sales].sum()\n",
    "    region_platform['platform'] = region_platform.index \n",
    "    \n",
    "    region_platform_hist = region_platform.plot(kind='bar', x='platform', y='part_sales', title='распределение продаж по платформам')\n",
    "    region_platform_hist.set_xlabel('платформа')\n",
    "    region_platform_hist.set_ylabel('доля продаж')\n",
    "    \n",
    "    region_genre = region_portrait.pivot_table(index='genre',  values=region_sales, aggfunc='sum').sort_values(by=region_sales, ascending=False)\n",
    "    region_genre_hist =  region_genre.plot(kind='bar')\n",
    "    region_genre_hist.set_xlabel('жанр')\n",
    "    region_genre_hist.set_ylabel('млн. шт.')\n",
    "   \n",
    "    rating_pivot = region_portrait.pivot_table(index='rating', values=region_sales, aggfunc='sum').sort_values(by=region_sales, ascending=False)\n",
    "    rating_pivot_hist = rating_pivot.plot(kind='bar')\n",
    "    rating_pivot_hist.set_xlabel('возрастной рейтинг')\n",
    "    rating_pivot_hist.set_ylabel('млн. шт.')\n",
    "    \n",
    "    display(region_platform.head())\n",
    "    display(region_genre.head())\n",
    "    display(rating_pivot.head())\n",
    "    \n",
    "    plt.show()\n",
    "\n",
    "  "
   ]
  },
  {
   "cell_type": "code",
   "execution_count": 22,
   "metadata": {},
   "outputs": [
    {
     "data": {
      "text/html": [
       "<div>\n",
       "<style scoped>\n",
       "    .dataframe tbody tr th:only-of-type {\n",
       "        vertical-align: middle;\n",
       "    }\n",
       "\n",
       "    .dataframe tbody tr th {\n",
       "        vertical-align: top;\n",
       "    }\n",
       "\n",
       "    .dataframe thead th {\n",
       "        text-align: right;\n",
       "    }\n",
       "</style>\n",
       "<table border=\"1\" class=\"dataframe\">\n",
       "  <thead>\n",
       "    <tr style=\"text-align: right;\">\n",
       "      <th></th>\n",
       "      <th>na_sales</th>\n",
       "      <th>part_sales</th>\n",
       "      <th>platform</th>\n",
       "    </tr>\n",
       "    <tr>\n",
       "      <th>platform</th>\n",
       "      <th></th>\n",
       "      <th></th>\n",
       "      <th></th>\n",
       "    </tr>\n",
       "  </thead>\n",
       "  <tbody>\n",
       "    <tr>\n",
       "      <td>PS4</td>\n",
       "      <td>108.74</td>\n",
       "      <td>0.282280</td>\n",
       "      <td>PS4</td>\n",
       "    </tr>\n",
       "    <tr>\n",
       "      <td>XOne</td>\n",
       "      <td>93.12</td>\n",
       "      <td>0.241732</td>\n",
       "      <td>XOne</td>\n",
       "    </tr>\n",
       "    <tr>\n",
       "      <td>X360</td>\n",
       "      <td>81.66</td>\n",
       "      <td>0.211983</td>\n",
       "      <td>X360</td>\n",
       "    </tr>\n",
       "    <tr>\n",
       "      <td>PS3</td>\n",
       "      <td>63.50</td>\n",
       "      <td>0.164841</td>\n",
       "      <td>PS3</td>\n",
       "    </tr>\n",
       "    <tr>\n",
       "      <td>3DS</td>\n",
       "      <td>38.20</td>\n",
       "      <td>0.099164</td>\n",
       "      <td>3DS</td>\n",
       "    </tr>\n",
       "  </tbody>\n",
       "</table>\n",
       "</div>"
      ],
      "text/plain": [
       "          na_sales  part_sales platform\n",
       "platform                               \n",
       "PS4         108.74    0.282280      PS4\n",
       "XOne         93.12    0.241732     XOne\n",
       "X360         81.66    0.211983     X360\n",
       "PS3          63.50    0.164841      PS3\n",
       "3DS          38.20    0.099164      3DS"
      ]
     },
     "metadata": {},
     "output_type": "display_data"
    },
    {
     "data": {
      "text/html": [
       "<div>\n",
       "<style scoped>\n",
       "    .dataframe tbody tr th:only-of-type {\n",
       "        vertical-align: middle;\n",
       "    }\n",
       "\n",
       "    .dataframe tbody tr th {\n",
       "        vertical-align: top;\n",
       "    }\n",
       "\n",
       "    .dataframe thead th {\n",
       "        text-align: right;\n",
       "    }\n",
       "</style>\n",
       "<table border=\"1\" class=\"dataframe\">\n",
       "  <thead>\n",
       "    <tr style=\"text-align: right;\">\n",
       "      <th></th>\n",
       "      <th>na_sales</th>\n",
       "    </tr>\n",
       "    <tr>\n",
       "      <th>genre</th>\n",
       "      <th></th>\n",
       "    </tr>\n",
       "  </thead>\n",
       "  <tbody>\n",
       "    <tr>\n",
       "      <td>action</td>\n",
       "      <td>113.72</td>\n",
       "    </tr>\n",
       "    <tr>\n",
       "      <td>shooter</td>\n",
       "      <td>103.89</td>\n",
       "    </tr>\n",
       "    <tr>\n",
       "      <td>sports</td>\n",
       "      <td>63.64</td>\n",
       "    </tr>\n",
       "    <tr>\n",
       "      <td>role-playing</td>\n",
       "      <td>42.39</td>\n",
       "    </tr>\n",
       "    <tr>\n",
       "      <td>misc</td>\n",
       "      <td>20.46</td>\n",
       "    </tr>\n",
       "  </tbody>\n",
       "</table>\n",
       "</div>"
      ],
      "text/plain": [
       "              na_sales\n",
       "genre                 \n",
       "action          113.72\n",
       "shooter         103.89\n",
       "sports           63.64\n",
       "role-playing     42.39\n",
       "misc             20.46"
      ]
     },
     "metadata": {},
     "output_type": "display_data"
    },
    {
     "data": {
      "text/html": [
       "<div>\n",
       "<style scoped>\n",
       "    .dataframe tbody tr th:only-of-type {\n",
       "        vertical-align: middle;\n",
       "    }\n",
       "\n",
       "    .dataframe tbody tr th {\n",
       "        vertical-align: top;\n",
       "    }\n",
       "\n",
       "    .dataframe thead th {\n",
       "        text-align: right;\n",
       "    }\n",
       "</style>\n",
       "<table border=\"1\" class=\"dataframe\">\n",
       "  <thead>\n",
       "    <tr style=\"text-align: right;\">\n",
       "      <th></th>\n",
       "      <th>na_sales</th>\n",
       "    </tr>\n",
       "    <tr>\n",
       "      <th>rating</th>\n",
       "      <th></th>\n",
       "    </tr>\n",
       "  </thead>\n",
       "  <tbody>\n",
       "    <tr>\n",
       "      <td>M</td>\n",
       "      <td>156.75</td>\n",
       "    </tr>\n",
       "    <tr>\n",
       "      <td>E</td>\n",
       "      <td>65.57</td>\n",
       "    </tr>\n",
       "    <tr>\n",
       "      <td>T</td>\n",
       "      <td>43.06</td>\n",
       "    </tr>\n",
       "    <tr>\n",
       "      <td>E10+</td>\n",
       "      <td>38.34</td>\n",
       "    </tr>\n",
       "  </tbody>\n",
       "</table>\n",
       "</div>"
      ],
      "text/plain": [
       "        na_sales\n",
       "rating          \n",
       "M         156.75\n",
       "E          65.57\n",
       "T          43.06\n",
       "E10+       38.34"
      ]
     },
     "metadata": {},
     "output_type": "display_data"
    },
    {
     "data": {
      "image/png": "[encoded data removed]",
      "text/plain": [
       "<Figure size 432x288 with 1 Axes>"
      ]
     },
     "metadata": {
      "needs_background": "light"
     },
     "output_type": "display_data"
    },
    {
     "data": {
      "image/png": "[encoded data removed]",
      "text/plain": [
       "<Figure size 432x288 with 1 Axes>"
      ]
     },
     "metadata": {
      "needs_background": "light"
     },
     "output_type": "display_data"
    },
    {
     "data": {
      "image/png": "[encoded data removed]",
      "text/plain": [
       "<Figure size 432x288 with 1 Axes>"
      ]
     },
     "metadata": {
      "needs_background": "light"
     },
     "output_type": "display_data"
    }
   ],
   "source": [
    "portrait('na_sales')"
   ]
  },
  {
   "cell_type": "code",
   "execution_count": 23,
   "metadata": {},
   "outputs": [
    {
     "data": {
      "text/html": [
       "<div>\n",
       "<style scoped>\n",
       "    .dataframe tbody tr th:only-of-type {\n",
       "        vertical-align: middle;\n",
       "    }\n",
       "\n",
       "    .dataframe tbody tr th {\n",
       "        vertical-align: top;\n",
       "    }\n",
       "\n",
       "    .dataframe thead th {\n",
       "        text-align: right;\n",
       "    }\n",
       "</style>\n",
       "<table border=\"1\" class=\"dataframe\">\n",
       "  <thead>\n",
       "    <tr style=\"text-align: right;\">\n",
       "      <th></th>\n",
       "      <th>eu_sales</th>\n",
       "      <th>part_sales</th>\n",
       "      <th>platform</th>\n",
       "    </tr>\n",
       "    <tr>\n",
       "      <th>platform</th>\n",
       "      <th></th>\n",
       "      <th></th>\n",
       "      <th></th>\n",
       "    </tr>\n",
       "  </thead>\n",
       "  <tbody>\n",
       "    <tr>\n",
       "      <td>PS4</td>\n",
       "      <td>141.09</td>\n",
       "      <td>0.422463</td>\n",
       "      <td>PS4</td>\n",
       "    </tr>\n",
       "    <tr>\n",
       "      <td>PS3</td>\n",
       "      <td>67.81</td>\n",
       "      <td>0.203042</td>\n",
       "      <td>PS3</td>\n",
       "    </tr>\n",
       "    <tr>\n",
       "      <td>XOne</td>\n",
       "      <td>51.59</td>\n",
       "      <td>0.154475</td>\n",
       "      <td>XOne</td>\n",
       "    </tr>\n",
       "    <tr>\n",
       "      <td>X360</td>\n",
       "      <td>42.52</td>\n",
       "      <td>0.127317</td>\n",
       "      <td>X360</td>\n",
       "    </tr>\n",
       "    <tr>\n",
       "      <td>3DS</td>\n",
       "      <td>30.96</td>\n",
       "      <td>0.092703</td>\n",
       "      <td>3DS</td>\n",
       "    </tr>\n",
       "  </tbody>\n",
       "</table>\n",
       "</div>"
      ],
      "text/plain": [
       "          eu_sales  part_sales platform\n",
       "platform                               \n",
       "PS4         141.09    0.422463      PS4\n",
       "PS3          67.81    0.203042      PS3\n",
       "XOne         51.59    0.154475     XOne\n",
       "X360         42.52    0.127317     X360\n",
       "3DS          30.96    0.092703      3DS"
      ]
     },
     "metadata": {},
     "output_type": "display_data"
    },
    {
     "data": {
      "text/html": [
       "<div>\n",
       "<style scoped>\n",
       "    .dataframe tbody tr th:only-of-type {\n",
       "        vertical-align: middle;\n",
       "    }\n",
       "\n",
       "    .dataframe tbody tr th {\n",
       "        vertical-align: top;\n",
       "    }\n",
       "\n",
       "    .dataframe thead th {\n",
       "        text-align: right;\n",
       "    }\n",
       "</style>\n",
       "<table border=\"1\" class=\"dataframe\">\n",
       "  <thead>\n",
       "    <tr style=\"text-align: right;\">\n",
       "      <th></th>\n",
       "      <th>eu_sales</th>\n",
       "    </tr>\n",
       "    <tr>\n",
       "      <th>genre</th>\n",
       "      <th></th>\n",
       "    </tr>\n",
       "  </thead>\n",
       "  <tbody>\n",
       "    <tr>\n",
       "      <td>action</td>\n",
       "      <td>105.06</td>\n",
       "    </tr>\n",
       "    <tr>\n",
       "      <td>shooter</td>\n",
       "      <td>79.99</td>\n",
       "    </tr>\n",
       "    <tr>\n",
       "      <td>sports</td>\n",
       "      <td>56.38</td>\n",
       "    </tr>\n",
       "    <tr>\n",
       "      <td>role-playing</td>\n",
       "      <td>32.70</td>\n",
       "    </tr>\n",
       "    <tr>\n",
       "      <td>racing</td>\n",
       "      <td>17.04</td>\n",
       "    </tr>\n",
       "  </tbody>\n",
       "</table>\n",
       "</div>"
      ],
      "text/plain": [
       "              eu_sales\n",
       "genre                 \n",
       "action          105.06\n",
       "shooter          79.99\n",
       "sports           56.38\n",
       "role-playing     32.70\n",
       "racing           17.04"
      ]
     },
     "metadata": {},
     "output_type": "display_data"
    },
    {
     "data": {
      "text/html": [
       "<div>\n",
       "<style scoped>\n",
       "    .dataframe tbody tr th:only-of-type {\n",
       "        vertical-align: middle;\n",
       "    }\n",
       "\n",
       "    .dataframe tbody tr th {\n",
       "        vertical-align: top;\n",
       "    }\n",
       "\n",
       "    .dataframe thead th {\n",
       "        text-align: right;\n",
       "    }\n",
       "</style>\n",
       "<table border=\"1\" class=\"dataframe\">\n",
       "  <thead>\n",
       "    <tr style=\"text-align: right;\">\n",
       "      <th></th>\n",
       "      <th>eu_sales</th>\n",
       "    </tr>\n",
       "    <tr>\n",
       "      <th>rating</th>\n",
       "      <th></th>\n",
       "    </tr>\n",
       "  </thead>\n",
       "  <tbody>\n",
       "    <tr>\n",
       "      <td>M</td>\n",
       "      <td>133.07</td>\n",
       "    </tr>\n",
       "    <tr>\n",
       "      <td>E</td>\n",
       "      <td>69.06</td>\n",
       "    </tr>\n",
       "    <tr>\n",
       "      <td>T</td>\n",
       "      <td>33.63</td>\n",
       "    </tr>\n",
       "    <tr>\n",
       "      <td>E10+</td>\n",
       "      <td>28.37</td>\n",
       "    </tr>\n",
       "  </tbody>\n",
       "</table>\n",
       "</div>"
      ],
      "text/plain": [
       "        eu_sales\n",
       "rating          \n",
       "M         133.07\n",
       "E          69.06\n",
       "T          33.63\n",
       "E10+       28.37"
      ]
     },
     "metadata": {},
     "output_type": "display_data"
    },
    {
     "data": {
      "image/png": "[encoded data removed]",
      "text/plain": [
       "<Figure size 432x288 with 1 Axes>"
      ]
     },
     "metadata": {
      "needs_background": "light"
     },
     "output_type": "display_data"
    },
    {
     "data": {
      "image/png": "[encoded data removed]",
      "text/plain": [
       "<Figure size 432x288 with 1 Axes>"
      ]
     },
     "metadata": {
      "needs_background": "light"
     },
     "output_type": "display_data"
    },
    {
     "data": {
      "image/png": "[encoded data removed]",
      "text/plain": [
       "<Figure size 432x288 with 1 Axes>"
      ]
     },
     "metadata": {
      "needs_background": "light"
     },
     "output_type": "display_data"
    }
   ],
   "source": [
    "portrait('eu_sales')"
   ]
  },
  {
   "cell_type": "code",
   "execution_count": 24,
   "metadata": {},
   "outputs": [
    {
     "data": {
      "text/html": [
       "<div>\n",
       "<style scoped>\n",
       "    .dataframe tbody tr th:only-of-type {\n",
       "        vertical-align: middle;\n",
       "    }\n",
       "\n",
       "    .dataframe tbody tr th {\n",
       "        vertical-align: top;\n",
       "    }\n",
       "\n",
       "    .dataframe thead th {\n",
       "        text-align: right;\n",
       "    }\n",
       "</style>\n",
       "<table border=\"1\" class=\"dataframe\">\n",
       "  <thead>\n",
       "    <tr style=\"text-align: right;\">\n",
       "      <th></th>\n",
       "      <th>jp_sales</th>\n",
       "      <th>part_sales</th>\n",
       "      <th>platform</th>\n",
       "    </tr>\n",
       "    <tr>\n",
       "      <th>platform</th>\n",
       "      <th></th>\n",
       "      <th></th>\n",
       "      <th></th>\n",
       "    </tr>\n",
       "  </thead>\n",
       "  <tbody>\n",
       "    <tr>\n",
       "      <td>3DS</td>\n",
       "      <td>67.81</td>\n",
       "      <td>0.628045</td>\n",
       "      <td>3DS</td>\n",
       "    </tr>\n",
       "    <tr>\n",
       "      <td>PS3</td>\n",
       "      <td>23.35</td>\n",
       "      <td>0.216264</td>\n",
       "      <td>PS3</td>\n",
       "    </tr>\n",
       "    <tr>\n",
       "      <td>PS4</td>\n",
       "      <td>15.96</td>\n",
       "      <td>0.147819</td>\n",
       "      <td>PS4</td>\n",
       "    </tr>\n",
       "    <tr>\n",
       "      <td>X360</td>\n",
       "      <td>0.51</td>\n",
       "      <td>0.004724</td>\n",
       "      <td>X360</td>\n",
       "    </tr>\n",
       "    <tr>\n",
       "      <td>XOne</td>\n",
       "      <td>0.34</td>\n",
       "      <td>0.003149</td>\n",
       "      <td>XOne</td>\n",
       "    </tr>\n",
       "  </tbody>\n",
       "</table>\n",
       "</div>"
      ],
      "text/plain": [
       "          jp_sales  part_sales platform\n",
       "platform                               \n",
       "3DS          67.81    0.628045      3DS\n",
       "PS3          23.35    0.216264      PS3\n",
       "PS4          15.96    0.147819      PS4\n",
       "X360          0.51    0.004724     X360\n",
       "XOne          0.34    0.003149     XOne"
      ]
     },
     "metadata": {},
     "output_type": "display_data"
    },
    {
     "data": {
      "text/html": [
       "<div>\n",
       "<style scoped>\n",
       "    .dataframe tbody tr th:only-of-type {\n",
       "        vertical-align: middle;\n",
       "    }\n",
       "\n",
       "    .dataframe tbody tr th {\n",
       "        vertical-align: top;\n",
       "    }\n",
       "\n",
       "    .dataframe thead th {\n",
       "        text-align: right;\n",
       "    }\n",
       "</style>\n",
       "<table border=\"1\" class=\"dataframe\">\n",
       "  <thead>\n",
       "    <tr style=\"text-align: right;\">\n",
       "      <th></th>\n",
       "      <th>jp_sales</th>\n",
       "    </tr>\n",
       "    <tr>\n",
       "      <th>genre</th>\n",
       "      <th></th>\n",
       "    </tr>\n",
       "  </thead>\n",
       "  <tbody>\n",
       "    <tr>\n",
       "      <td>role-playing</td>\n",
       "      <td>42.50</td>\n",
       "    </tr>\n",
       "    <tr>\n",
       "      <td>action</td>\n",
       "      <td>32.82</td>\n",
       "    </tr>\n",
       "    <tr>\n",
       "      <td>fighting</td>\n",
       "      <td>5.98</td>\n",
       "    </tr>\n",
       "    <tr>\n",
       "      <td>shooter</td>\n",
       "      <td>5.02</td>\n",
       "    </tr>\n",
       "    <tr>\n",
       "      <td>misc</td>\n",
       "      <td>4.95</td>\n",
       "    </tr>\n",
       "  </tbody>\n",
       "</table>\n",
       "</div>"
      ],
      "text/plain": [
       "              jp_sales\n",
       "genre                 \n",
       "role-playing     42.50\n",
       "action           32.82\n",
       "fighting          5.98\n",
       "shooter           5.02\n",
       "misc              4.95"
      ]
     },
     "metadata": {},
     "output_type": "display_data"
    },
    {
     "data": {
      "text/html": [
       "<div>\n",
       "<style scoped>\n",
       "    .dataframe tbody tr th:only-of-type {\n",
       "        vertical-align: middle;\n",
       "    }\n",
       "\n",
       "    .dataframe tbody tr th {\n",
       "        vertical-align: top;\n",
       "    }\n",
       "\n",
       "    .dataframe thead th {\n",
       "        text-align: right;\n",
       "    }\n",
       "</style>\n",
       "<table border=\"1\" class=\"dataframe\">\n",
       "  <thead>\n",
       "    <tr style=\"text-align: right;\">\n",
       "      <th></th>\n",
       "      <th>jp_sales</th>\n",
       "    </tr>\n",
       "    <tr>\n",
       "      <th>rating</th>\n",
       "      <th></th>\n",
       "    </tr>\n",
       "  </thead>\n",
       "  <tbody>\n",
       "    <tr>\n",
       "      <td>T</td>\n",
       "      <td>14.91</td>\n",
       "    </tr>\n",
       "    <tr>\n",
       "      <td>M</td>\n",
       "      <td>12.45</td>\n",
       "    </tr>\n",
       "    <tr>\n",
       "      <td>E</td>\n",
       "      <td>9.56</td>\n",
       "    </tr>\n",
       "    <tr>\n",
       "      <td>E10+</td>\n",
       "      <td>3.32</td>\n",
       "    </tr>\n",
       "  </tbody>\n",
       "</table>\n",
       "</div>"
      ],
      "text/plain": [
       "        jp_sales\n",
       "rating          \n",
       "T          14.91\n",
       "M          12.45\n",
       "E           9.56\n",
       "E10+        3.32"
      ]
     },
     "metadata": {},
     "output_type": "display_data"
    },
    {
     "data": {
      "image/png": "[encoded data removed]",
      "text/plain": [
       "<Figure size 432x288 with 1 Axes>"
      ]
     },
     "metadata": {
      "needs_background": "light"
     },
     "output_type": "display_data"
    },
    {
     "data": {
      "image/png": "[encoded data removed]",
      "text/plain": [
       "<Figure size 432x288 with 1 Axes>"
      ]
     },
     "metadata": {
      "needs_background": "light"
     },
     "output_type": "display_data"
    },
    {
     "data": {
      "image/png": "[encoded data removed]",
      "text/plain": [
       "<Figure size 432x288 with 1 Axes>"
      ]
     },
     "metadata": {
      "needs_background": "light"
     },
     "output_type": "display_data"
    }
   ],
   "source": [
    "portrait('jp_sales')"
   ]
  },
  {
   "cell_type": "markdown",
   "metadata": {},
   "source": [
    "<b> Промежуточный вывод: </b>\n",
    "\n",
    "Лидер по платформам Северной Америки и Европы один и тот же, различие на 2 и 3 месте. В Америке XOne и X360, а в Европе PS3 и ХOne.\n",
    "\n",
    "В Японии лидер 3DS, далее PS3 и PS4.\n",
    "    \n",
    "Распределение по жанрав в СА и Европе похожи: больше всего играют в экшн, далее шутер и спортивные игры, а Япония стоит особняком, там лидер - ролевые игры, далее файтинг и шутер, при этом есть многократный разрыв между первым и вторым место.    \n",
    "\n"
   ]
  },
  {
   "cell_type": "markdown",
   "metadata": {},
   "source": [
    "###  Проверка гипотез\n",
    "\n",
    "Нулевая теория: Средние пользовательские рейтинги платформ Xbox One и PC одинаковые\n",
    "\n",
    "Альтернативная теория: Средние пользовательские рейтинги платформ Xbox One и PC не одинаковые"
   ]
  },
  {
   "cell_type": "code",
   "execution_count": 25,
   "metadata": {},
   "outputs": [
    {
     "name": "stdout",
     "output_type": "stream",
     "text": [
      "Нулевая теория отвергнута\n",
      "3.69017314357026e-08\n"
     ]
    }
   ],
   "source": [
    "# Готовлю 2 таблицы для прогонки ттестаВы\n",
    "# Изучаю дисперсию, чтобы задать параметр равенства дисперсий\n",
    "xb_user_score = data.query('platform == \"XB\"')\n",
    "pc_user_score = data.query('platform == \"PC\"')\n",
    "\n",
    "xb_user_score = xb_user_score.dropna(subset=['user_score'])\n",
    "xb_var = np.var(xb_user_score['user_score'])\n",
    "\n",
    "\n",
    "pc_user_score = pc_user_score.dropna(subset=['user_score'])\n",
    "pc_var = np.var(pc_user_score['user_score'])\n",
    "\n",
    "alpha = 0.05\n",
    "results = st.ttest_ind(xb_user_score['user_score'], pc_user_score['user_score'], equal_var=False)\n",
    "\n",
    "if results.pvalue > alpha:\n",
    "    print ('Не получилось отвергнуть нулевую теорию' )\n",
    "else:\n",
    "    print('Нулевая теория отвергнута')\n",
    "print(results.pvalue)"
   ]
  },
  {
   "cell_type": "markdown",
   "metadata": {},
   "source": [
    "Нулевая теория: cредние пользовательские рейтинги жанров action  и sports равны.\n",
    "    \n",
    "Альтернативная теория: cредние пользовательские рейтинги жанров action  и sports различны. "
   ]
  },
  {
   "cell_type": "code",
   "execution_count": 26,
   "metadata": {},
   "outputs": [
    {
     "name": "stdout",
     "output_type": "stream",
     "text": [
      "Не получилось отвергнуть нулевую теорию\n",
      "0.07370217419278534\n"
     ]
    }
   ],
   "source": [
    "# Готовлю 2 таблицы для прогонки ттеста\n",
    "# Изучаю дисперсию, чтобы задать параметр равенства дисперсий\n",
    "action_user_score = data.query('genre == \"action\"')\n",
    "sports_user_score = data.query('genre == \"sports\"')\n",
    "\n",
    "action_user_score = action_user_score.dropna(subset=['user_score'])\n",
    "action_var = np.var(action_user_score['user_score'])\n",
    "\n",
    "sports_user_score = sports_user_score.dropna(subset=['user_score'])\n",
    "sports_var = np.var(sports_user_score['user_score'])\n",
    "\n",
    "# print(action_var)\n",
    "# print(sports_var)\n",
    "\n",
    "alpha = 0.05\n",
    "results = st.ttest_ind(action_user_score['user_score'], sports_user_score['user_score'], equal_var=False)\n",
    "\n",
    "if results.pvalue > alpha:\n",
    "    print ('Не получилось отвергнуть нулевую теорию' )\n",
    "else:\n",
    "    print('Нулевая теория отвергнута')\n",
    "print(results.pvalue)\n",
    "\n",
    "\n",
    "# print(data.pivot_table(index='platform', values='all_sales', aggfunc='sum')) #тут смотрел сколько продаж по пс4 всего"
   ]
  },
  {
   "cell_type": "markdown",
   "metadata": {},
   "source": [
    "<b>Вывод:</b> \n",
    "\n",
    "Платформы на которых играют  различаются от региона к региону, при этом жанры в большинстве своем схожи. \n",
    "    \n",
    "В Северной Америке в лидерах платформ PS4 (108 млн. шт.),  меньше XOne (93. млн. шт.), еще меньше у X360 (81 млн. шт.), в Европе - PS4(141 млн. шт) и почти в два раза меньше продаж у PS3 (67 млн. шт), еще меньше у XOne(51 млн. шт.). \n",
    "В Японии больше всего играют на 3DS(67 млн. шт.), и на 34% меньше  на PS3(23 млн. шт.), еще меньше на PS4 (16 млн. шт.). По статистикке всех регионов, лидирует платформа PS4, более 320 млн. шт. копий игр вышло на неё с 2013 года.\n",
    "    \n",
    "\n",
    "Распределение по жанрам  в Европе и Америке одинакого. В Японии в лидерах ролевые игры(42 млн. шт.) и экшн(32 млн. шт.), далее идут файтинг(6 млн. шт.) и шутеры(5 млн. шт.).\n",
    "    \n",
    "\n",
    "По возрастным группам первая позиция везде \"М\", дальше  у \"СА\" и Европы одинаковая картина - двукратный разрыв с \"Е\". В Японии возрастная  \"Т\" имеет минимальный разрыв с лидером, и чуть больший разрыв с категорией \"Е\".  \n",
    "    \n",
    "В численном выражении, по всему миру больше всего играют в экшен (285 млн. шт.) и шутеры (216 млн. шт), а самая популярная платформа - PS4, за 2015 год было продано около 120 млн. шт. игр на эту платформу, а в 2016 порядка 72 млн. шт.\n",
    "В целом рынок игр имеет отрицательную динамику, но гораздо лучше других выглядит  PS4, хоть и имеет сильный спад за 2016 год. \n",
    "\n"
   ]
  }
 ],
 "metadata": {
  "ExecuteTimeLog": [
   {
    "duration": 417,
    "start_time": "2021-06-09T14:50:53.591Z"
   },
   {
    "duration": 1284,
    "start_time": "2021-06-09T14:50:56.432Z"
   },
   {
    "duration": 92,
    "start_time": "2021-06-09T14:50:57.719Z"
   },
   {
    "duration": 820,
    "start_time": "2021-06-09T14:50:57.815Z"
   },
   {
    "duration": 431,
    "start_time": "2021-06-09T14:50:58.638Z"
   },
   {
    "duration": 515,
    "start_time": "2021-06-09T14:51:26.581Z"
   },
   {
    "duration": 457,
    "start_time": "2021-06-09T14:51:54.276Z"
   },
   {
    "duration": 332,
    "start_time": "2021-06-09T14:52:00.186Z"
   },
   {
    "duration": 77,
    "start_time": "2021-06-09T14:52:00.520Z"
   },
   {
    "duration": 763,
    "start_time": "2021-06-09T14:52:00.599Z"
   },
   {
    "duration": 421,
    "start_time": "2021-06-09T14:52:01.364Z"
   },
   {
    "duration": 415,
    "start_time": "2021-06-09T14:52:24.566Z"
   },
   {
    "duration": 422,
    "start_time": "2021-06-09T14:55:17.625Z"
   },
   {
    "duration": 4,
    "start_time": "2021-06-09T15:00:40.050Z"
   },
   {
    "duration": 591,
    "start_time": "2021-06-09T15:04:56.854Z"
   },
   {
    "duration": 413,
    "start_time": "2021-06-09T15:10:15.471Z"
   },
   {
    "duration": 409,
    "start_time": "2021-06-09T15:10:41.296Z"
   },
   {
    "duration": 419,
    "start_time": "2021-06-09T15:10:54.158Z"
   },
   {
    "duration": 425,
    "start_time": "2021-06-09T15:13:03.225Z"
   },
   {
    "duration": 502,
    "start_time": "2021-06-09T15:13:19.608Z"
   },
   {
    "duration": 850,
    "start_time": "2021-06-09T15:15:57.873Z"
   },
   {
    "duration": 778,
    "start_time": "2021-06-09T15:19:05.443Z"
   },
   {
    "duration": 444,
    "start_time": "2021-06-09T15:19:11.687Z"
   },
   {
    "duration": 245,
    "start_time": "2021-06-09T15:19:18.571Z"
   },
   {
    "duration": 233,
    "start_time": "2021-06-09T15:19:47.338Z"
   },
   {
    "duration": 422,
    "start_time": "2021-06-09T15:20:17.252Z"
   },
   {
    "duration": 239,
    "start_time": "2021-06-09T15:20:17.967Z"
   },
   {
    "duration": 417,
    "start_time": "2021-06-09T15:20:34.250Z"
   },
   {
    "duration": 342,
    "start_time": "2021-06-09T15:22:29.147Z"
   },
   {
    "duration": 4,
    "start_time": "2021-06-09T15:22:42.778Z"
   },
   {
    "duration": 320,
    "start_time": "2021-06-09T15:33:13.482Z"
   },
   {
    "duration": 43,
    "start_time": "2021-06-09T15:33:26.849Z"
   },
   {
    "duration": 749,
    "start_time": "2021-06-09T15:34:11.050Z"
   },
   {
    "duration": 2220,
    "start_time": "2021-06-09T15:34:17.985Z"
   },
   {
    "duration": 2000,
    "start_time": "2021-06-09T15:34:50.397Z"
   },
   {
    "duration": 645,
    "start_time": "2021-06-09T15:35:16.042Z"
   },
   {
    "duration": 28,
    "start_time": "2021-06-09T15:35:23.386Z"
   },
   {
    "duration": 982,
    "start_time": "2021-06-09T15:49:08.884Z"
   },
   {
    "duration": 12263,
    "start_time": "2021-06-09T15:51:02.280Z"
   },
   {
    "duration": 11371,
    "start_time": "2021-06-09T15:51:22.852Z"
   },
   {
    "duration": 8350,
    "start_time": "2021-06-09T15:52:05.586Z"
   },
   {
    "duration": 30,
    "start_time": "2021-06-09T15:52:20.114Z"
   },
   {
    "duration": 26,
    "start_time": "2021-06-09T15:52:49.651Z"
   },
   {
    "duration": 368,
    "start_time": "2021-06-09T15:53:17.276Z"
   },
   {
    "duration": 318,
    "start_time": "2021-06-09T15:53:38.338Z"
   },
   {
    "duration": 344,
    "start_time": "2021-06-09T15:53:54.755Z"
   },
   {
    "duration": 78,
    "start_time": "2021-06-09T15:53:55.102Z"
   },
   {
    "duration": 781,
    "start_time": "2021-06-09T15:53:55.183Z"
   },
   {
    "duration": 451,
    "start_time": "2021-06-09T15:53:55.967Z"
   },
   {
    "duration": 260,
    "start_time": "2021-06-09T15:53:56.422Z"
   },
   {
    "duration": 25,
    "start_time": "2021-06-09T15:53:56.685Z"
   },
   {
    "duration": 299,
    "start_time": "2021-06-09T15:54:10.169Z"
   },
   {
    "duration": 92,
    "start_time": "2021-06-09T15:54:10.471Z"
   },
   {
    "duration": 767,
    "start_time": "2021-06-09T15:54:10.566Z"
   },
   {
    "duration": 441,
    "start_time": "2021-06-09T15:54:11.335Z"
   },
   {
    "duration": 255,
    "start_time": "2021-06-09T15:54:11.778Z"
   },
   {
    "duration": 459,
    "start_time": "2021-06-09T15:54:12.036Z"
   },
   {
    "duration": 343,
    "start_time": "2021-06-09T15:54:54.252Z"
   },
   {
    "duration": 421,
    "start_time": "2021-06-09T15:55:00.343Z"
   },
   {
    "duration": 100,
    "start_time": "2021-06-09T15:55:00.767Z"
   },
   {
    "duration": 882,
    "start_time": "2021-06-09T15:55:00.871Z"
   },
   {
    "duration": 430,
    "start_time": "2021-06-09T15:55:01.762Z"
   },
   {
    "duration": 268,
    "start_time": "2021-06-09T15:55:02.195Z"
   },
   {
    "duration": 733,
    "start_time": "2021-06-09T15:55:02.466Z"
   },
   {
    "duration": 321,
    "start_time": "2021-06-09T15:55:14.623Z"
   },
   {
    "duration": 300,
    "start_time": "2021-06-09T15:55:20.681Z"
   },
   {
    "duration": 79,
    "start_time": "2021-06-09T15:55:20.984Z"
   },
   {
    "duration": 781,
    "start_time": "2021-06-09T15:55:21.066Z"
   },
   {
    "duration": 438,
    "start_time": "2021-06-09T15:55:21.850Z"
   },
   {
    "duration": 252,
    "start_time": "2021-06-09T15:55:22.291Z"
   },
   {
    "duration": 1069,
    "start_time": "2021-06-09T15:55:22.546Z"
   },
   {
    "duration": 360,
    "start_time": "2021-06-09T15:55:57.847Z"
   },
   {
    "duration": 82,
    "start_time": "2021-06-09T15:55:58.211Z"
   },
   {
    "duration": 887,
    "start_time": "2021-06-09T15:55:58.296Z"
   },
   {
    "duration": 444,
    "start_time": "2021-06-09T15:55:59.185Z"
   },
   {
    "duration": 266,
    "start_time": "2021-06-09T15:55:59.631Z"
   },
   {
    "duration": 815,
    "start_time": "2021-06-09T15:55:59.899Z"
   },
   {
    "duration": 340,
    "start_time": "2021-06-09T16:01:01.225Z"
   },
   {
    "duration": 99,
    "start_time": "2021-06-09T16:01:01.568Z"
   },
   {
    "duration": 791,
    "start_time": "2021-06-09T16:01:01.671Z"
   },
   {
    "duration": 463,
    "start_time": "2021-06-09T16:01:02.465Z"
   },
   {
    "duration": 256,
    "start_time": "2021-06-09T16:01:02.930Z"
   },
   {
    "duration": 7695,
    "start_time": "2021-06-09T16:01:03.188Z"
   },
   {
    "duration": 375,
    "start_time": "2021-06-09T16:01:21.230Z"
   },
   {
    "duration": 737,
    "start_time": "2021-06-09T16:01:24.464Z"
   },
   {
    "duration": 81,
    "start_time": "2021-06-09T16:01:25.203Z"
   },
   {
    "duration": 798,
    "start_time": "2021-06-09T16:01:25.288Z"
   },
   {
    "duration": 575,
    "start_time": "2021-06-09T16:01:26.088Z"
   },
   {
    "duration": 250,
    "start_time": "2021-06-09T16:01:26.666Z"
   },
   {
    "duration": 8676,
    "start_time": "2021-06-09T16:01:26.919Z"
   },
   {
    "duration": 319,
    "start_time": "2021-06-09T16:02:14.446Z"
   },
   {
    "duration": 78,
    "start_time": "2021-06-09T16:02:14.768Z"
   },
   {
    "duration": 1049,
    "start_time": "2021-06-09T16:02:14.863Z"
   },
   {
    "duration": 598,
    "start_time": "2021-06-09T16:02:15.915Z"
   },
   {
    "duration": 354,
    "start_time": "2021-06-09T16:02:16.516Z"
   },
   {
    "duration": 8526,
    "start_time": "2021-06-09T16:02:16.873Z"
   },
   {
    "duration": 355,
    "start_time": "2021-06-09T16:02:32.315Z"
   },
   {
    "duration": 94,
    "start_time": "2021-06-09T16:02:32.673Z"
   },
   {
    "duration": 900,
    "start_time": "2021-06-09T16:02:32.770Z"
   },
   {
    "duration": 436,
    "start_time": "2021-06-09T16:02:33.672Z"
   },
   {
    "duration": 256,
    "start_time": "2021-06-09T16:02:34.111Z"
   },
   {
    "duration": 8295,
    "start_time": "2021-06-09T16:02:34.369Z"
   },
   {
    "duration": 335,
    "start_time": "2021-06-09T16:03:13.499Z"
   },
   {
    "duration": 80,
    "start_time": "2021-06-09T16:03:13.837Z"
   },
   {
    "duration": 883,
    "start_time": "2021-06-09T16:03:13.920Z"
   },
   {
    "duration": 438,
    "start_time": "2021-06-09T16:03:14.806Z"
   },
   {
    "duration": 244,
    "start_time": "2021-06-09T16:03:15.247Z"
   },
   {
    "duration": 260,
    "start_time": "2021-06-09T16:03:15.493Z"
   },
   {
    "duration": 366,
    "start_time": "2021-06-09T16:03:30.574Z"
   },
   {
    "duration": 340,
    "start_time": "2021-06-09T16:03:33.078Z"
   },
   {
    "duration": 80,
    "start_time": "2021-06-09T16:03:33.421Z"
   },
   {
    "duration": 887,
    "start_time": "2021-06-09T16:03:33.504Z"
   },
   {
    "duration": 425,
    "start_time": "2021-06-09T16:03:34.394Z"
   },
   {
    "duration": 259,
    "start_time": "2021-06-09T16:03:34.821Z"
   },
   {
    "duration": 383,
    "start_time": "2021-06-09T16:03:35.082Z"
   },
   {
    "duration": 347,
    "start_time": "2021-06-09T16:03:56.059Z"
   },
   {
    "duration": 80,
    "start_time": "2021-06-09T16:03:56.408Z"
   },
   {
    "duration": 778,
    "start_time": "2021-06-09T16:03:56.492Z"
   },
   {
    "duration": 556,
    "start_time": "2021-06-09T16:03:57.272Z"
   },
   {
    "duration": 263,
    "start_time": "2021-06-09T16:03:57.830Z"
   },
   {
    "duration": 415,
    "start_time": "2021-06-09T16:03:58.096Z"
   },
   {
    "duration": 332,
    "start_time": "2021-06-09T16:04:08.208Z"
   },
   {
    "duration": 82,
    "start_time": "2021-06-09T16:04:08.543Z"
   },
   {
    "duration": 756,
    "start_time": "2021-06-09T16:04:08.629Z"
   },
   {
    "duration": 430,
    "start_time": "2021-06-09T16:04:09.387Z"
   },
   {
    "duration": 245,
    "start_time": "2021-06-09T16:04:09.819Z"
   },
   {
    "duration": 705,
    "start_time": "2021-06-09T16:04:10.066Z"
   },
   {
    "duration": 337,
    "start_time": "2021-06-09T16:04:41.549Z"
   },
   {
    "duration": 952,
    "start_time": "2021-06-09T16:04:44.714Z"
   },
   {
    "duration": 94,
    "start_time": "2021-06-09T16:04:45.668Z"
   },
   {
    "duration": 1053,
    "start_time": "2021-06-09T16:04:45.765Z"
   },
   {
    "duration": 594,
    "start_time": "2021-06-09T16:04:46.822Z"
   },
   {
    "duration": 273,
    "start_time": "2021-06-09T16:04:47.419Z"
   },
   {
    "duration": 26,
    "start_time": "2021-06-09T16:04:47.695Z"
   },
   {
    "duration": 327,
    "start_time": "2021-06-09T16:05:32.312Z"
   },
   {
    "duration": 83,
    "start_time": "2021-06-09T16:05:32.642Z"
   },
   {
    "duration": 899,
    "start_time": "2021-06-09T16:05:32.728Z"
   },
   {
    "duration": 443,
    "start_time": "2021-06-09T16:05:33.630Z"
   },
   {
    "duration": 263,
    "start_time": "2021-06-09T16:05:34.076Z"
   },
   {
    "duration": 474,
    "start_time": "2021-06-09T16:05:34.341Z"
   },
   {
    "duration": 382,
    "start_time": "2021-06-09T16:06:02.295Z"
   },
   {
    "duration": 390,
    "start_time": "2021-06-09T16:06:05.911Z"
   },
   {
    "duration": 81,
    "start_time": "2021-06-09T16:06:06.304Z"
   },
   {
    "duration": 791,
    "start_time": "2021-06-09T16:06:06.388Z"
   },
   {
    "duration": 434,
    "start_time": "2021-06-09T16:06:07.182Z"
   },
   {
    "duration": 247,
    "start_time": "2021-06-09T16:06:07.619Z"
   },
   {
    "duration": 363,
    "start_time": "2021-06-09T16:06:07.869Z"
   },
   {
    "duration": 322,
    "start_time": "2021-06-09T16:09:44.375Z"
   },
   {
    "duration": 78,
    "start_time": "2021-06-09T16:09:44.699Z"
   },
   {
    "duration": 995,
    "start_time": "2021-06-09T16:09:44.780Z"
   },
   {
    "duration": 431,
    "start_time": "2021-06-09T16:09:45.777Z"
   },
   {
    "duration": 351,
    "start_time": "2021-06-09T16:09:46.211Z"
   },
   {
    "duration": 125,
    "start_time": "2021-06-09T16:09:46.565Z"
   },
   {
    "duration": 302,
    "start_time": "2021-06-09T16:10:10.299Z"
   },
   {
    "duration": 83,
    "start_time": "2021-06-09T16:10:10.603Z"
   },
   {
    "duration": 807,
    "start_time": "2021-06-09T16:10:10.688Z"
   },
   {
    "duration": 464,
    "start_time": "2021-06-09T16:10:11.497Z"
   },
   {
    "duration": 241,
    "start_time": "2021-06-09T16:10:11.964Z"
   },
   {
    "duration": 444,
    "start_time": "2021-06-09T16:10:12.207Z"
   },
   {
    "duration": 337,
    "start_time": "2021-06-09T16:11:40.579Z"
   },
   {
    "duration": 83,
    "start_time": "2021-06-09T16:11:40.919Z"
   },
   {
    "duration": 785,
    "start_time": "2021-06-09T16:11:41.006Z"
   },
   {
    "duration": 427,
    "start_time": "2021-06-09T16:11:41.794Z"
   },
   {
    "duration": 254,
    "start_time": "2021-06-09T16:11:42.224Z"
   },
   {
    "duration": 434,
    "start_time": "2021-06-09T16:11:42.481Z"
   },
   {
    "duration": 293,
    "start_time": "2021-06-09T16:12:51.423Z"
   },
   {
    "duration": 80,
    "start_time": "2021-06-09T16:12:51.719Z"
   },
   {
    "duration": 953,
    "start_time": "2021-06-09T16:12:51.802Z"
   },
   {
    "duration": 423,
    "start_time": "2021-06-09T16:12:52.757Z"
   },
   {
    "duration": 246,
    "start_time": "2021-06-09T16:12:53.183Z"
   },
   {
    "duration": 430,
    "start_time": "2021-06-09T16:12:53.432Z"
   },
   {
    "duration": 361,
    "start_time": "2021-06-09T16:13:14.114Z"
   },
   {
    "duration": 317,
    "start_time": "2021-06-09T16:13:17.239Z"
   },
   {
    "duration": 83,
    "start_time": "2021-06-09T16:13:17.560Z"
   },
   {
    "duration": 761,
    "start_time": "2021-06-09T16:13:17.661Z"
   },
   {
    "duration": 420,
    "start_time": "2021-06-09T16:13:18.425Z"
   },
   {
    "duration": 256,
    "start_time": "2021-06-09T16:13:18.847Z"
   },
   {
    "duration": 445,
    "start_time": "2021-06-09T16:13:19.105Z"
   },
   {
    "duration": 313,
    "start_time": "2021-06-09T16:13:47.720Z"
   },
   {
    "duration": 82,
    "start_time": "2021-06-09T16:13:48.036Z"
   },
   {
    "duration": 769,
    "start_time": "2021-06-09T16:13:48.122Z"
   },
   {
    "duration": 446,
    "start_time": "2021-06-09T16:13:48.894Z"
   },
   {
    "duration": 264,
    "start_time": "2021-06-09T16:13:49.342Z"
   },
   {
    "duration": 661,
    "start_time": "2021-06-09T16:13:49.609Z"
   },
   {
    "duration": 337,
    "start_time": "2021-06-09T16:14:12.094Z"
   },
   {
    "duration": 82,
    "start_time": "2021-06-09T16:14:12.434Z"
   },
   {
    "duration": 1028,
    "start_time": "2021-06-09T16:14:12.519Z"
   },
   {
    "duration": 424,
    "start_time": "2021-06-09T16:14:13.550Z"
   },
   {
    "duration": 250,
    "start_time": "2021-06-09T16:14:13.976Z"
   },
   {
    "duration": 464,
    "start_time": "2021-06-09T16:14:14.228Z"
   },
   {
    "duration": 346,
    "start_time": "2021-06-09T16:16:52.163Z"
   },
   {
    "duration": 114,
    "start_time": "2021-06-09T16:16:52.512Z"
   },
   {
    "duration": 771,
    "start_time": "2021-06-09T16:16:52.630Z"
   },
   {
    "duration": 419,
    "start_time": "2021-06-09T16:16:53.404Z"
   },
   {
    "duration": 261,
    "start_time": "2021-06-09T16:16:53.826Z"
   },
   {
    "duration": 454,
    "start_time": "2021-06-09T16:16:54.090Z"
   },
   {
    "duration": 314,
    "start_time": "2021-06-09T16:17:15.256Z"
   },
   {
    "duration": 95,
    "start_time": "2021-06-09T16:17:15.574Z"
   },
   {
    "duration": 777,
    "start_time": "2021-06-09T16:17:15.672Z"
   },
   {
    "duration": 424,
    "start_time": "2021-06-09T16:17:16.451Z"
   },
   {
    "duration": 245,
    "start_time": "2021-06-09T16:17:16.877Z"
   },
   {
    "duration": 457,
    "start_time": "2021-06-09T16:17:17.125Z"
   },
   {
    "duration": 350,
    "start_time": "2021-06-09T16:18:14.030Z"
   },
   {
    "duration": 85,
    "start_time": "2021-06-09T16:18:14.382Z"
   },
   {
    "duration": 1059,
    "start_time": "2021-06-09T16:18:14.470Z"
   },
   {
    "duration": 413,
    "start_time": "2021-06-09T16:18:15.532Z"
   },
   {
    "duration": 250,
    "start_time": "2021-06-09T16:18:15.948Z"
   },
   {
    "duration": 638,
    "start_time": "2021-06-09T16:18:16.201Z"
   },
   {
    "duration": 357,
    "start_time": "2021-06-09T16:18:32.259Z"
   },
   {
    "duration": 79,
    "start_time": "2021-06-09T16:18:32.618Z"
   },
   {
    "duration": 856,
    "start_time": "2021-06-09T16:18:32.699Z"
   },
   {
    "duration": 406,
    "start_time": "2021-06-09T16:18:33.558Z"
   },
   {
    "duration": 241,
    "start_time": "2021-06-09T16:18:33.966Z"
   },
   {
    "duration": 450,
    "start_time": "2021-06-09T16:18:34.209Z"
   },
   {
    "duration": 290,
    "start_time": "2021-06-09T16:22:43.133Z"
   },
   {
    "duration": 82,
    "start_time": "2021-06-09T16:22:43.426Z"
   },
   {
    "duration": 797,
    "start_time": "2021-06-09T16:22:43.511Z"
   },
   {
    "duration": 436,
    "start_time": "2021-06-09T16:22:44.311Z"
   },
   {
    "duration": 258,
    "start_time": "2021-06-09T16:22:44.749Z"
   },
   {
    "duration": 969,
    "start_time": "2021-06-09T16:22:45.010Z"
   },
   {
    "duration": 343,
    "start_time": "2021-06-09T16:23:07.990Z"
   },
   {
    "duration": 83,
    "start_time": "2021-06-09T16:23:08.336Z"
   },
   {
    "duration": 790,
    "start_time": "2021-06-09T16:23:08.422Z"
   },
   {
    "duration": 636,
    "start_time": "2021-06-09T16:23:09.214Z"
   },
   {
    "duration": 255,
    "start_time": "2021-06-09T16:23:09.853Z"
   },
   {
    "duration": 996,
    "start_time": "2021-06-09T16:23:10.110Z"
   },
   {
    "duration": 304,
    "start_time": "2021-06-09T16:23:23.274Z"
   },
   {
    "duration": 83,
    "start_time": "2021-06-09T16:23:23.581Z"
   },
   {
    "duration": 776,
    "start_time": "2021-06-09T16:23:23.667Z"
   },
   {
    "duration": 417,
    "start_time": "2021-06-09T16:23:24.445Z"
   },
   {
    "duration": 251,
    "start_time": "2021-06-09T16:23:24.864Z"
   },
   {
    "duration": 1688,
    "start_time": "2021-06-09T16:23:25.118Z"
   },
   {
    "duration": 288,
    "start_time": "2021-06-09T16:23:35.234Z"
   },
   {
    "duration": 81,
    "start_time": "2021-06-09T16:23:35.525Z"
   },
   {
    "duration": 772,
    "start_time": "2021-06-09T16:23:35.609Z"
   },
   {
    "duration": 424,
    "start_time": "2021-06-09T16:23:36.384Z"
   },
   {
    "duration": 268,
    "start_time": "2021-06-09T16:23:36.810Z"
   },
   {
    "duration": 1196,
    "start_time": "2021-06-09T16:23:37.081Z"
   },
   {
    "duration": 648,
    "start_time": "2021-06-09T16:32:57.504Z"
   },
   {
    "duration": 344,
    "start_time": "2021-06-09T16:33:00.542Z"
   },
   {
    "duration": 81,
    "start_time": "2021-06-09T16:33:00.888Z"
   },
   {
    "duration": 795,
    "start_time": "2021-06-09T16:33:00.972Z"
   },
   {
    "duration": 448,
    "start_time": "2021-06-09T16:33:01.769Z"
   },
   {
    "duration": 452,
    "start_time": "2021-06-09T16:33:02.219Z"
   },
   {
    "duration": 1191,
    "start_time": "2021-06-09T16:33:02.674Z"
   },
   {
    "duration": 300,
    "start_time": "2021-06-09T16:33:21.916Z"
   },
   {
    "duration": 80,
    "start_time": "2021-06-09T16:33:22.219Z"
   },
   {
    "duration": 793,
    "start_time": "2021-06-09T16:33:22.303Z"
   },
   {
    "duration": 424,
    "start_time": "2021-06-09T16:33:23.099Z"
   },
   {
    "duration": 648,
    "start_time": "2021-06-09T16:33:23.526Z"
   },
   {
    "duration": -2244,
    "start_time": "2021-06-09T16:33:26.421Z"
   },
   {
    "duration": 374,
    "start_time": "2021-06-09T16:33:51.241Z"
   },
   {
    "duration": 82,
    "start_time": "2021-06-09T16:33:51.618Z"
   },
   {
    "duration": 792,
    "start_time": "2021-06-09T16:33:51.703Z"
   },
   {
    "duration": 453,
    "start_time": "2021-06-09T16:33:52.497Z"
   },
   {
    "duration": 11,
    "start_time": "2021-06-09T16:33:52.961Z"
   },
   {
    "duration": 1413,
    "start_time": "2021-06-09T16:33:52.975Z"
   },
   {
    "duration": 240,
    "start_time": "2021-06-09T16:34:44.157Z"
   },
   {
    "duration": 386,
    "start_time": "2021-06-09T16:41:56.946Z"
   },
   {
    "duration": 964,
    "start_time": "2021-06-09T16:42:01.115Z"
   },
   {
    "duration": 342,
    "start_time": "2021-06-09T16:44:36.134Z"
   },
   {
    "duration": 84,
    "start_time": "2021-06-09T16:44:36.479Z"
   },
   {
    "duration": 814,
    "start_time": "2021-06-09T16:44:36.566Z"
   },
   {
    "duration": 430,
    "start_time": "2021-06-09T16:44:37.383Z"
   },
   {
    "duration": 389,
    "start_time": "2021-06-09T16:44:37.815Z"
   },
   {
    "duration": 370,
    "start_time": "2021-06-09T16:44:38.206Z"
   },
   {
    "duration": 361,
    "start_time": "2021-06-09T16:49:30.096Z"
   },
   {
    "duration": 84,
    "start_time": "2021-06-09T16:49:30.460Z"
   },
   {
    "duration": 803,
    "start_time": "2021-06-09T16:49:30.563Z"
   },
   {
    "duration": 442,
    "start_time": "2021-06-09T16:49:31.370Z"
   },
   {
    "duration": 434,
    "start_time": "2021-06-09T16:49:31.815Z"
   },
   {
    "duration": 1177,
    "start_time": "2021-06-09T16:49:32.251Z"
   },
   {
    "duration": 321,
    "start_time": "2021-06-09T16:50:08.555Z"
   },
   {
    "duration": 84,
    "start_time": "2021-06-09T16:50:08.878Z"
   },
   {
    "duration": 765,
    "start_time": "2021-06-09T16:50:08.964Z"
   },
   {
    "duration": 650,
    "start_time": "2021-06-09T16:50:09.732Z"
   },
   {
    "duration": 368,
    "start_time": "2021-06-09T16:50:10.384Z"
   },
   {
    "duration": 426,
    "start_time": "2021-06-09T16:50:10.761Z"
   },
   {
    "duration": 337,
    "start_time": "2021-06-09T16:50:43.832Z"
   },
   {
    "duration": 94,
    "start_time": "2021-06-09T16:50:44.172Z"
   },
   {
    "duration": 1149,
    "start_time": "2021-06-09T16:50:44.269Z"
   },
   {
    "duration": 420,
    "start_time": "2021-06-09T16:50:45.421Z"
   },
   {
    "duration": 387,
    "start_time": "2021-06-09T16:50:45.843Z"
   },
   {
    "duration": 1160,
    "start_time": "2021-06-09T16:50:46.233Z"
   },
   {
    "duration": 377,
    "start_time": "2021-06-09T16:51:20.088Z"
   },
   {
    "duration": 339,
    "start_time": "2021-06-09T16:53:06.871Z"
   },
   {
    "duration": 79,
    "start_time": "2021-06-09T16:53:07.212Z"
   },
   {
    "duration": 755,
    "start_time": "2021-06-09T16:53:07.294Z"
   },
   {
    "duration": 416,
    "start_time": "2021-06-09T16:53:08.051Z"
   },
   {
    "duration": 984,
    "start_time": "2021-06-09T16:53:08.469Z"
   },
   {
    "duration": 406,
    "start_time": "2021-06-09T16:53:09.456Z"
   },
   {
    "duration": 332,
    "start_time": "2021-06-09T16:54:13.076Z"
   },
   {
    "duration": 80,
    "start_time": "2021-06-09T16:54:13.411Z"
   },
   {
    "duration": 771,
    "start_time": "2021-06-09T16:54:13.494Z"
   },
   {
    "duration": 678,
    "start_time": "2021-06-09T16:54:14.268Z"
   },
   {
    "duration": 9919,
    "start_time": "2021-06-09T16:54:14.961Z"
   },
   {
    "duration": -985,
    "start_time": "2021-06-09T16:54:25.867Z"
   },
   {
    "duration": 322,
    "start_time": "2021-06-09T16:54:27.759Z"
   },
   {
    "duration": 88,
    "start_time": "2021-06-09T16:54:28.084Z"
   },
   {
    "duration": 810,
    "start_time": "2021-06-09T16:54:28.175Z"
   },
   {
    "duration": 427,
    "start_time": "2021-06-09T16:54:28.987Z"
   },
   {
    "duration": 1022,
    "start_time": "2021-06-09T16:54:29.417Z"
   },
   {
    "duration": 358,
    "start_time": "2021-06-09T16:54:30.442Z"
   },
   {
    "duration": 360,
    "start_time": "2021-06-09T19:12:36.317Z"
   },
   {
    "duration": 11,
    "start_time": "2021-06-09T19:17:36.044Z"
   },
   {
    "duration": 30,
    "start_time": "2021-06-09T19:22:25.123Z"
   },
   {
    "duration": 34,
    "start_time": "2021-06-09T19:22:43.190Z"
   },
   {
    "duration": 33,
    "start_time": "2021-06-09T19:22:58.383Z"
   },
   {
    "duration": 488,
    "start_time": "2021-06-09T19:25:02.528Z"
   },
   {
    "duration": 47,
    "start_time": "2021-06-09T19:25:30.575Z"
   },
   {
    "duration": 22,
    "start_time": "2021-06-09T19:26:52.589Z"
   },
   {
    "duration": 321,
    "start_time": "2021-06-11T16:09:04.147Z"
   },
   {
    "duration": 1192,
    "start_time": "2021-06-11T16:09:10.073Z"
   },
   {
    "duration": 87,
    "start_time": "2021-06-11T16:09:11.268Z"
   },
   {
    "duration": 884,
    "start_time": "2021-06-11T16:09:11.358Z"
   },
   {
    "duration": 450,
    "start_time": "2021-06-11T16:09:12.245Z"
   },
   {
    "duration": 342,
    "start_time": "2021-06-11T16:09:12.698Z"
   },
   {
    "duration": -1561,
    "start_time": "2021-06-11T16:09:14.604Z"
   },
   {
    "duration": -1567,
    "start_time": "2021-06-11T16:09:14.611Z"
   },
   {
    "duration": 256,
    "start_time": "2021-06-11T16:09:52.316Z"
   },
   {
    "duration": 76,
    "start_time": "2021-06-11T16:09:52.575Z"
   },
   {
    "duration": 799,
    "start_time": "2021-06-11T16:09:52.655Z"
   },
   {
    "duration": 418,
    "start_time": "2021-06-11T16:09:53.458Z"
   },
   {
    "duration": 339,
    "start_time": "2021-06-11T16:09:53.879Z"
   },
   {
    "duration": -1453,
    "start_time": "2021-06-11T16:09:55.674Z"
   },
   {
    "duration": -1453,
    "start_time": "2021-06-11T16:09:55.675Z"
   },
   {
    "duration": 314,
    "start_time": "2021-06-11T16:10:40.520Z"
   },
   {
    "duration": 105,
    "start_time": "2021-06-11T16:10:40.836Z"
   },
   {
    "duration": 841,
    "start_time": "2021-06-11T16:10:40.946Z"
   },
   {
    "duration": 442,
    "start_time": "2021-06-11T16:10:41.791Z"
   },
   {
    "duration": 997,
    "start_time": "2021-06-11T16:10:42.235Z"
   },
   {
    "duration": 382,
    "start_time": "2021-06-11T16:10:43.234Z"
   },
   {
    "duration": 89,
    "start_time": "2021-06-11T16:10:43.619Z"
   },
   {
    "duration": 446,
    "start_time": "2021-06-11T16:10:55.748Z"
   },
   {
    "duration": 343,
    "start_time": "2021-06-11T16:12:13.597Z"
   },
   {
    "duration": 354,
    "start_time": "2021-06-11T16:12:19.648Z"
   },
   {
    "duration": 284,
    "start_time": "2021-06-11T16:13:54.756Z"
   },
   {
    "duration": 29,
    "start_time": "2021-06-11T16:14:10.188Z"
   },
   {
    "duration": 88,
    "start_time": "2021-06-11T16:17:16.357Z"
   },
   {
    "duration": 25,
    "start_time": "2021-06-11T16:17:21.610Z"
   },
   {
    "duration": 165,
    "start_time": "2021-06-11T16:18:43.049Z"
   },
   {
    "duration": 164,
    "start_time": "2021-06-11T16:19:08.985Z"
   },
   {
    "duration": 714,
    "start_time": "2021-06-11T16:19:38.106Z"
   },
   {
    "duration": 22,
    "start_time": "2021-06-11T16:19:55.435Z"
   },
   {
    "duration": 253,
    "start_time": "2021-06-11T16:22:29.665Z"
   },
   {
    "duration": 318,
    "start_time": "2021-06-11T16:23:32.612Z"
   },
   {
    "duration": 257,
    "start_time": "2021-06-11T16:23:43.327Z"
   },
   {
    "duration": 242,
    "start_time": "2021-06-11T16:24:03.761Z"
   },
   {
    "duration": 22,
    "start_time": "2021-06-11T16:24:20.676Z"
   },
   {
    "duration": 6122,
    "start_time": "2021-06-11T16:25:02.936Z"
   },
   {
    "duration": 19,
    "start_time": "2021-06-11T16:25:26.609Z"
   },
   {
    "duration": 19,
    "start_time": "2021-06-11T16:25:31.283Z"
   },
   {
    "duration": 13,
    "start_time": "2021-06-11T16:25:39.629Z"
   },
   {
    "duration": 346,
    "start_time": "2021-06-11T16:28:00.212Z"
   },
   {
    "duration": 80,
    "start_time": "2021-06-11T16:28:09.777Z"
   },
   {
    "duration": 109,
    "start_time": "2021-06-11T16:28:12.777Z"
   },
   {
    "duration": 259,
    "start_time": "2021-06-11T16:28:51.833Z"
   },
   {
    "duration": 24,
    "start_time": "2021-06-11T16:29:00.290Z"
   },
   {
    "duration": 316,
    "start_time": "2021-06-11T16:30:51.396Z"
   },
   {
    "duration": 12,
    "start_time": "2021-06-11T16:31:20.427Z"
   },
   {
    "duration": 20,
    "start_time": "2021-06-11T16:31:33.011Z"
   },
   {
    "duration": 253,
    "start_time": "2021-06-11T16:32:12.979Z"
   },
   {
    "duration": 22,
    "start_time": "2021-06-11T16:32:18.533Z"
   },
   {
    "duration": 277,
    "start_time": "2021-06-11T16:33:34.039Z"
   },
   {
    "duration": 282,
    "start_time": "2021-06-11T16:33:58.972Z"
   },
   {
    "duration": 262,
    "start_time": "2021-06-11T16:34:36.260Z"
   },
   {
    "duration": 266,
    "start_time": "2021-06-11T16:35:21.681Z"
   },
   {
    "duration": 343,
    "start_time": "2021-06-11T16:35:32.176Z"
   },
   {
    "duration": 255,
    "start_time": "2021-06-11T16:35:36.296Z"
   },
   {
    "duration": 83,
    "start_time": "2021-06-11T16:35:36.554Z"
   },
   {
    "duration": 757,
    "start_time": "2021-06-11T16:35:36.641Z"
   },
   {
    "duration": 428,
    "start_time": "2021-06-11T16:35:37.401Z"
   },
   {
    "duration": 1058,
    "start_time": "2021-06-11T16:35:37.832Z"
   },
   {
    "duration": 370,
    "start_time": "2021-06-11T16:35:38.893Z"
   },
   {
    "duration": 90,
    "start_time": "2021-06-11T16:35:39.266Z"
   },
   {
    "duration": -1317,
    "start_time": "2021-06-11T16:35:40.675Z"
   },
   {
    "duration": 281,
    "start_time": "2021-06-11T16:36:14.564Z"
   },
   {
    "duration": 87,
    "start_time": "2021-06-11T16:36:14.847Z"
   },
   {
    "duration": 793,
    "start_time": "2021-06-11T16:36:14.937Z"
   },
   {
    "duration": 412,
    "start_time": "2021-06-11T16:36:15.733Z"
   },
   {
    "duration": 1025,
    "start_time": "2021-06-11T16:36:16.147Z"
   },
   {
    "duration": 504,
    "start_time": "2021-06-11T16:36:17.174Z"
   },
   {
    "duration": 316,
    "start_time": "2021-06-11T16:36:17.684Z"
   },
   {
    "duration": 301,
    "start_time": "2021-06-11T16:40:14.338Z"
   },
   {
    "duration": 266,
    "start_time": "2021-06-11T16:40:20.239Z"
   },
   {
    "duration": 82,
    "start_time": "2021-06-11T16:40:53.856Z"
   },
   {
    "duration": 292,
    "start_time": "2021-06-11T16:41:05.809Z"
   },
   {
    "duration": 265,
    "start_time": "2021-06-11T16:41:55.240Z"
   },
   {
    "duration": 257,
    "start_time": "2021-06-11T16:42:20.057Z"
   },
   {
    "duration": 255,
    "start_time": "2021-06-11T16:42:28.467Z"
   },
   {
    "duration": 382,
    "start_time": "2021-06-11T16:42:36.770Z"
   },
   {
    "duration": 25,
    "start_time": "2021-06-11T16:42:47.466Z"
   },
   {
    "duration": 255,
    "start_time": "2021-06-11T16:42:57.999Z"
   },
   {
    "duration": 13,
    "start_time": "2021-06-11T16:43:09.865Z"
   },
   {
    "duration": 9,
    "start_time": "2021-06-11T16:43:29.005Z"
   },
   {
    "duration": 14,
    "start_time": "2021-06-11T16:43:32.201Z"
   },
   {
    "duration": 269,
    "start_time": "2021-06-11T16:43:43.389Z"
   },
   {
    "duration": 17,
    "start_time": "2021-06-11T16:43:50.849Z"
   },
   {
    "duration": 17,
    "start_time": "2021-06-11T16:44:07.351Z"
   },
   {
    "duration": 18,
    "start_time": "2021-06-11T16:44:19.096Z"
   },
   {
    "duration": 284,
    "start_time": "2021-06-11T16:44:23.107Z"
   },
   {
    "duration": 26,
    "start_time": "2021-06-11T16:44:39.375Z"
   },
   {
    "duration": 266,
    "start_time": "2021-06-11T16:45:01.553Z"
   },
   {
    "duration": 253,
    "start_time": "2021-06-11T16:45:16.570Z"
   },
   {
    "duration": 12,
    "start_time": "2021-06-11T16:50:48.413Z"
   },
   {
    "duration": 334,
    "start_time": "2021-06-11T16:51:03.169Z"
   },
   {
    "duration": 258,
    "start_time": "2021-06-11T16:51:19.172Z"
   },
   {
    "duration": 84,
    "start_time": "2021-06-11T16:51:19.433Z"
   },
   {
    "duration": 746,
    "start_time": "2021-06-11T16:51:19.520Z"
   },
   {
    "duration": 423,
    "start_time": "2021-06-11T16:51:20.270Z"
   },
   {
    "duration": 1049,
    "start_time": "2021-06-11T16:51:20.696Z"
   },
   {
    "duration": 403,
    "start_time": "2021-06-11T16:51:21.748Z"
   },
   {
    "duration": 275,
    "start_time": "2021-06-11T16:51:22.153Z"
   },
   {
    "duration": 14,
    "start_time": "2021-06-11T16:51:53.962Z"
   },
   {
    "duration": 15,
    "start_time": "2021-06-11T16:52:01.250Z"
   },
   {
    "duration": 15,
    "start_time": "2021-06-11T16:52:06.719Z"
   },
   {
    "duration": 12,
    "start_time": "2021-06-11T16:52:10.419Z"
   },
   {
    "duration": 258,
    "start_time": "2021-06-11T16:52:45.989Z"
   },
   {
    "duration": 15,
    "start_time": "2021-06-11T16:52:50.515Z"
   },
   {
    "duration": 255,
    "start_time": "2021-06-11T16:52:55.019Z"
   },
   {
    "duration": 259,
    "start_time": "2021-06-11T16:56:41.600Z"
   },
   {
    "duration": 256,
    "start_time": "2021-06-11T16:57:19.432Z"
   },
   {
    "duration": 1705,
    "start_time": "2021-06-11T16:57:28.791Z"
   },
   {
    "duration": 1641,
    "start_time": "2021-06-11T16:59:23.101Z"
   },
   {
    "duration": 2859,
    "start_time": "2021-06-11T16:59:29.173Z"
   },
   {
    "duration": 1730,
    "start_time": "2021-06-11T16:59:51.455Z"
   },
   {
    "duration": 336,
    "start_time": "2021-06-11T17:02:11.047Z"
   },
   {
    "duration": 89,
    "start_time": "2021-06-11T17:02:21.401Z"
   },
   {
    "duration": 80,
    "start_time": "2021-06-11T17:02:31.215Z"
   },
   {
    "duration": 97,
    "start_time": "2021-06-11T17:02:34.418Z"
   },
   {
    "duration": 84,
    "start_time": "2021-06-11T17:02:42.083Z"
   },
   {
    "duration": 1786,
    "start_time": "2021-06-11T17:03:18.623Z"
   },
   {
    "duration": 14,
    "start_time": "2021-06-11T17:03:27.934Z"
   },
   {
    "duration": 268,
    "start_time": "2021-06-11T17:03:34.760Z"
   },
   {
    "duration": 251,
    "start_time": "2021-06-11T17:03:39.304Z"
   },
   {
    "duration": 83,
    "start_time": "2021-06-11T17:07:45.587Z"
   },
   {
    "duration": 6046,
    "start_time": "2021-06-11T17:07:59.073Z"
   },
   {
    "duration": 276,
    "start_time": "2021-06-11T17:08:37.499Z"
   },
   {
    "duration": 285,
    "start_time": "2021-06-11T17:09:14.213Z"
   },
   {
    "duration": 6879,
    "start_time": "2021-06-11T17:09:39.443Z"
   },
   {
    "duration": 1909,
    "start_time": "2021-06-11T17:10:15.675Z"
   },
   {
    "duration": 6258,
    "start_time": "2021-06-11T17:10:36.537Z"
   },
   {
    "duration": 7181,
    "start_time": "2021-06-11T17:11:24.068Z"
   },
   {
    "duration": 18,
    "start_time": "2021-06-11T17:12:01.812Z"
   },
   {
    "duration": 257,
    "start_time": "2021-06-11T17:12:22.341Z"
   },
   {
    "duration": 91,
    "start_time": "2021-06-11T17:12:22.601Z"
   },
   {
    "duration": 818,
    "start_time": "2021-06-11T17:12:22.696Z"
   },
   {
    "duration": 393,
    "start_time": "2021-06-11T17:12:23.517Z"
   },
   {
    "duration": 935,
    "start_time": "2021-06-11T17:12:23.912Z"
   },
   {
    "duration": 328,
    "start_time": "2021-06-11T17:12:24.850Z"
   },
   {
    "duration": 19,
    "start_time": "2021-06-11T17:12:25.184Z"
   },
   {
    "duration": 260,
    "start_time": "2021-06-11T17:12:59.741Z"
   },
   {
    "duration": 1652,
    "start_time": "2021-06-11T17:13:35.237Z"
   },
   {
    "duration": 1841,
    "start_time": "2021-06-11T17:14:28.764Z"
   },
   {
    "duration": 15,
    "start_time": "2021-06-11T17:14:50.556Z"
   },
   {
    "duration": 16,
    "start_time": "2021-06-11T17:16:11.670Z"
   },
   {
    "duration": 14,
    "start_time": "2021-06-11T17:16:41.477Z"
   },
   {
    "duration": 17,
    "start_time": "2021-06-11T17:17:17.981Z"
   },
   {
    "duration": 981,
    "start_time": "2021-06-11T17:18:24.370Z"
   },
   {
    "duration": 251,
    "start_time": "2021-06-11T17:19:32.431Z"
   },
   {
    "duration": 1000,
    "start_time": "2021-06-11T17:19:45.440Z"
   },
   {
    "duration": 270,
    "start_time": "2021-06-11T17:19:59.664Z"
   },
   {
    "duration": 1001,
    "start_time": "2021-06-11T17:20:02.375Z"
   },
   {
    "duration": 719,
    "start_time": "2021-06-11T17:20:32.640Z"
   },
   {
    "duration": 7324,
    "start_time": "2021-06-11T17:21:01.506Z"
   },
   {
    "duration": 19,
    "start_time": "2021-06-11T17:21:37.497Z"
   },
   {
    "duration": 21,
    "start_time": "2021-06-11T17:23:27.025Z"
   },
   {
    "duration": 366,
    "start_time": "2021-06-11T17:23:41.697Z"
   },
   {
    "duration": 279,
    "start_time": "2021-06-11T18:09:52.726Z"
   },
   {
    "duration": 402,
    "start_time": "2021-06-11T18:10:06.675Z"
   },
   {
    "duration": 399,
    "start_time": "2021-06-11T18:11:09.631Z"
   },
   {
    "duration": 6858,
    "start_time": "2021-06-11T18:11:26.230Z"
   },
   {
    "duration": 970,
    "start_time": "2021-06-11T18:11:53.871Z"
   },
   {
    "duration": 822,
    "start_time": "2021-06-11T18:12:27.504Z"
   },
   {
    "duration": 663,
    "start_time": "2021-06-11T18:12:49.044Z"
   },
   {
    "duration": 512,
    "start_time": "2021-06-11T18:13:14.586Z"
   },
   {
    "duration": 681,
    "start_time": "2021-06-11T18:13:24.736Z"
   },
   {
    "duration": 722,
    "start_time": "2021-06-11T18:13:28.774Z"
   },
   {
    "duration": 731,
    "start_time": "2021-06-11T18:13:59.978Z"
   },
   {
    "duration": 894,
    "start_time": "2021-06-11T18:19:15.156Z"
   },
   {
    "duration": 307,
    "start_time": "2021-06-11T18:20:43.538Z"
   },
   {
    "duration": 14,
    "start_time": "2021-06-11T18:20:59.108Z"
   },
   {
    "duration": 409,
    "start_time": "2021-06-11T18:21:32.458Z"
   },
   {
    "duration": 300,
    "start_time": "2021-06-11T18:22:08.107Z"
   },
   {
    "duration": 293,
    "start_time": "2021-06-11T18:22:18.321Z"
   },
   {
    "duration": 731,
    "start_time": "2021-06-11T18:25:57.769Z"
   },
   {
    "duration": 242,
    "start_time": "2021-06-11T18:27:20.102Z"
   },
   {
    "duration": 683,
    "start_time": "2021-06-11T18:27:43.309Z"
   },
   {
    "duration": 1010,
    "start_time": "2021-06-11T18:28:02.957Z"
   },
   {
    "duration": 1073,
    "start_time": "2021-06-11T18:28:28.328Z"
   },
   {
    "duration": 665,
    "start_time": "2021-06-11T18:29:18.656Z"
   },
   {
    "duration": 655,
    "start_time": "2021-06-11T18:29:46.646Z"
   },
   {
    "duration": 505,
    "start_time": "2021-06-11T18:29:51.334Z"
   },
   {
    "duration": 1155,
    "start_time": "2021-06-11T18:30:07.295Z"
   },
   {
    "duration": 844,
    "start_time": "2021-06-11T18:30:33.168Z"
   },
   {
    "duration": 1050,
    "start_time": "2021-06-11T18:30:39.494Z"
   },
   {
    "duration": 334,
    "start_time": "2021-06-11T18:45:58.464Z"
   },
   {
    "duration": 7,
    "start_time": "2021-06-11T18:47:24.918Z"
   },
   {
    "duration": 405,
    "start_time": "2021-06-11T18:47:34.550Z"
   },
   {
    "duration": 239,
    "start_time": "2021-06-11T18:52:12.023Z"
   },
   {
    "duration": 27,
    "start_time": "2021-06-11T18:52:24.928Z"
   },
   {
    "duration": 44,
    "start_time": "2021-06-11T18:52:44.930Z"
   },
   {
    "duration": 272,
    "start_time": "2021-06-11T18:53:57.185Z"
   },
   {
    "duration": 23,
    "start_time": "2021-06-11T18:54:01.258Z"
   },
   {
    "duration": 254,
    "start_time": "2021-06-11T18:54:29.145Z"
   },
   {
    "duration": 23,
    "start_time": "2021-06-11T18:54:50.962Z"
   },
   {
    "duration": 34,
    "start_time": "2021-06-11T18:55:29.710Z"
   },
   {
    "duration": 31,
    "start_time": "2021-06-11T18:55:40.074Z"
   },
   {
    "duration": 277,
    "start_time": "2021-06-11T18:55:46.378Z"
   },
   {
    "duration": 279,
    "start_time": "2021-06-11T18:55:53.113Z"
   },
   {
    "duration": 32,
    "start_time": "2021-06-11T18:55:59.874Z"
   },
   {
    "duration": 36,
    "start_time": "2021-06-11T19:15:37.306Z"
   },
   {
    "duration": 38,
    "start_time": "2021-06-11T19:17:54.237Z"
   },
   {
    "duration": 660,
    "start_time": "2021-06-11T19:23:42.823Z"
   },
   {
    "duration": 12,
    "start_time": "2021-06-11T19:23:47.286Z"
   },
   {
    "duration": 281,
    "start_time": "2021-06-11T19:23:55.857Z"
   },
   {
    "duration": 73,
    "start_time": "2021-06-11T19:23:56.141Z"
   },
   {
    "duration": 725,
    "start_time": "2021-06-11T19:23:56.217Z"
   },
   {
    "duration": 393,
    "start_time": "2021-06-11T19:23:56.945Z"
   },
   {
    "duration": 896,
    "start_time": "2021-06-11T19:23:57.340Z"
   },
   {
    "duration": 361,
    "start_time": "2021-06-11T19:23:58.239Z"
   },
   {
    "duration": 708,
    "start_time": "2021-06-11T19:23:58.603Z"
   },
   {
    "duration": 1123,
    "start_time": "2021-06-11T19:23:59.313Z"
   },
   {
    "duration": 459,
    "start_time": "2021-06-11T19:24:00.439Z"
   },
   {
    "duration": 12,
    "start_time": "2021-06-11T19:24:00.900Z"
   },
   {
    "duration": 1047,
    "start_time": "2021-06-11T19:24:22.898Z"
   },
   {
    "duration": 81,
    "start_time": "2021-06-11T19:24:23.948Z"
   },
   {
    "duration": 710,
    "start_time": "2021-06-11T19:24:24.033Z"
   },
   {
    "duration": 385,
    "start_time": "2021-06-11T19:24:24.746Z"
   },
   {
    "duration": 965,
    "start_time": "2021-06-11T19:24:25.133Z"
   },
   {
    "duration": 347,
    "start_time": "2021-06-11T19:24:26.100Z"
   },
   {
    "duration": -1216,
    "start_time": "2021-06-11T19:24:30.187Z"
   },
   {
    "duration": -1229,
    "start_time": "2021-06-11T19:24:30.201Z"
   },
   {
    "duration": -1229,
    "start_time": "2021-06-11T19:24:30.202Z"
   },
   {
    "duration": -1235,
    "start_time": "2021-06-11T19:24:30.210Z"
   },
   {
    "duration": -1237,
    "start_time": "2021-06-11T19:24:30.213Z"
   },
   {
    "duration": -1268,
    "start_time": "2021-06-11T19:24:30.245Z"
   },
   {
    "duration": -1271,
    "start_time": "2021-06-11T19:24:30.250Z"
   },
   {
    "duration": -1275,
    "start_time": "2021-06-11T19:24:30.255Z"
   },
   {
    "duration": -1275,
    "start_time": "2021-06-11T19:24:30.256Z"
   },
   {
    "duration": -1282,
    "start_time": "2021-06-11T19:24:30.264Z"
   },
   {
    "duration": 256,
    "start_time": "2021-06-11T19:24:38.606Z"
   },
   {
    "duration": 71,
    "start_time": "2021-06-11T19:24:38.865Z"
   },
   {
    "duration": 736,
    "start_time": "2021-06-11T19:24:38.939Z"
   },
   {
    "duration": 451,
    "start_time": "2021-06-11T19:24:39.684Z"
   },
   {
    "duration": 933,
    "start_time": "2021-06-11T19:24:40.138Z"
   },
   {
    "duration": 344,
    "start_time": "2021-06-11T19:24:41.075Z"
   },
   {
    "duration": 795,
    "start_time": "2021-06-11T19:24:41.422Z"
   },
   {
    "duration": 1112,
    "start_time": "2021-06-11T19:24:42.220Z"
   },
   {
    "duration": 320,
    "start_time": "2021-06-11T19:24:43.336Z"
   },
   {
    "duration": 251,
    "start_time": "2021-06-11T19:24:43.658Z"
   },
   {
    "duration": 372,
    "start_time": "2021-06-11T19:34:39.849Z"
   },
   {
    "duration": 91,
    "start_time": "2021-06-11T19:34:54.857Z"
   },
   {
    "duration": 89,
    "start_time": "2021-06-11T19:35:40.784Z"
   },
   {
    "duration": 86,
    "start_time": "2021-06-11T19:35:43.683Z"
   },
   {
    "duration": 37,
    "start_time": "2021-06-11T19:35:50.619Z"
   },
   {
    "duration": 86,
    "start_time": "2021-06-11T19:36:02.130Z"
   },
   {
    "duration": 91,
    "start_time": "2021-06-11T19:36:39.915Z"
   },
   {
    "duration": 41,
    "start_time": "2021-06-11T19:37:52.684Z"
   },
   {
    "duration": 37,
    "start_time": "2021-06-11T19:37:58.005Z"
   },
   {
    "duration": 80,
    "start_time": "2021-06-11T19:38:36.197Z"
   },
   {
    "duration": 84,
    "start_time": "2021-06-11T19:38:43.163Z"
   },
   {
    "duration": 82,
    "start_time": "2021-06-11T19:38:48.779Z"
   },
   {
    "duration": 89,
    "start_time": "2021-06-11T19:40:03.076Z"
   },
   {
    "duration": 39,
    "start_time": "2021-06-11T19:40:09.138Z"
   },
   {
    "duration": 39,
    "start_time": "2021-06-11T19:40:30.725Z"
   },
   {
    "duration": 39,
    "start_time": "2021-06-11T19:40:39.716Z"
   },
   {
    "duration": 6196,
    "start_time": "2021-06-11T19:41:09.093Z"
   },
   {
    "duration": 6385,
    "start_time": "2021-06-11T19:41:48.389Z"
   },
   {
    "duration": 6370,
    "start_time": "2021-06-11T19:42:09.269Z"
   },
   {
    "duration": 244,
    "start_time": "2021-06-11T19:42:17.767Z"
   },
   {
    "duration": 75,
    "start_time": "2021-06-11T19:42:18.013Z"
   },
   {
    "duration": 702,
    "start_time": "2021-06-11T19:42:18.091Z"
   },
   {
    "duration": 397,
    "start_time": "2021-06-11T19:42:18.795Z"
   },
   {
    "duration": 904,
    "start_time": "2021-06-11T19:42:19.194Z"
   },
   {
    "duration": 351,
    "start_time": "2021-06-11T19:42:20.101Z"
   },
   {
    "duration": 851,
    "start_time": "2021-06-11T19:42:20.454Z"
   },
   {
    "duration": 1218,
    "start_time": "2021-06-11T19:42:21.308Z"
   },
   {
    "duration": 333,
    "start_time": "2021-06-11T19:42:22.529Z"
   },
   {
    "duration": 7087,
    "start_time": "2021-06-11T19:42:22.864Z"
   },
   {
    "duration": 6161,
    "start_time": "2021-06-11T19:42:58.799Z"
   },
   {
    "duration": 62,
    "start_time": "2021-06-11T19:43:12.238Z"
   },
   {
    "duration": 88,
    "start_time": "2021-06-11T19:43:17.725Z"
   },
   {
    "duration": 86,
    "start_time": "2021-06-11T19:43:25.167Z"
   },
   {
    "duration": 95,
    "start_time": "2021-06-11T19:43:30.590Z"
   },
   {
    "duration": 343,
    "start_time": "2021-06-11T19:45:44.311Z"
   },
   {
    "duration": 340,
    "start_time": "2021-06-11T19:45:47.926Z"
   },
   {
    "duration": 105,
    "start_time": "2021-06-11T19:46:04.028Z"
   },
   {
    "duration": 80,
    "start_time": "2021-06-11T19:46:56.915Z"
   },
   {
    "duration": 82,
    "start_time": "2021-06-11T19:47:03.902Z"
   },
   {
    "duration": 87,
    "start_time": "2021-06-11T19:47:09.672Z"
   },
   {
    "duration": 83,
    "start_time": "2021-06-11T19:47:12.447Z"
   },
   {
    "duration": 88,
    "start_time": "2021-06-11T19:47:18.230Z"
   },
   {
    "duration": 87,
    "start_time": "2021-06-11T19:47:36.512Z"
   },
   {
    "duration": 91,
    "start_time": "2021-06-11T19:47:39.609Z"
   },
   {
    "duration": 104,
    "start_time": "2021-06-11T19:48:26.688Z"
   },
   {
    "duration": 102,
    "start_time": "2021-06-11T19:49:01.728Z"
   },
   {
    "duration": 464,
    "start_time": "2021-06-11T19:50:35.776Z"
   },
   {
    "duration": 111,
    "start_time": "2021-06-11T19:50:42.081Z"
   },
   {
    "duration": 442,
    "start_time": "2021-06-11T19:53:35.770Z"
   },
   {
    "duration": 127,
    "start_time": "2021-06-11T19:53:45.320Z"
   },
   {
    "duration": 135,
    "start_time": "2021-06-11T19:54:08.938Z"
   },
   {
    "duration": 123,
    "start_time": "2021-06-11T19:54:35.903Z"
   },
   {
    "duration": 178,
    "start_time": "2021-06-11T19:54:55.138Z"
   },
   {
    "duration": 7,
    "start_time": "2021-06-11T20:32:19.188Z"
   },
   {
    "duration": 249,
    "start_time": "2021-06-11T20:32:26.907Z"
   },
   {
    "duration": 75,
    "start_time": "2021-06-11T20:32:27.159Z"
   },
   {
    "duration": 712,
    "start_time": "2021-06-11T20:32:27.238Z"
   },
   {
    "duration": 403,
    "start_time": "2021-06-11T20:32:27.954Z"
   },
   {
    "duration": 928,
    "start_time": "2021-06-11T20:32:28.360Z"
   },
   {
    "duration": 429,
    "start_time": "2021-06-11T20:32:29.291Z"
   },
   {
    "duration": 765,
    "start_time": "2021-06-11T20:32:29.723Z"
   },
   {
    "duration": 1135,
    "start_time": "2021-06-11T20:32:30.490Z"
   },
   {
    "duration": 351,
    "start_time": "2021-06-11T20:32:31.628Z"
   },
   {
    "duration": 6,
    "start_time": "2021-06-11T20:32:31.984Z"
   },
   {
    "duration": 1374,
    "start_time": "2021-06-11T20:35:57.220Z"
   },
   {
    "duration": 253,
    "start_time": "2021-06-11T20:36:03.459Z"
   },
   {
    "duration": 75,
    "start_time": "2021-06-11T20:36:03.715Z"
   },
   {
    "duration": 844,
    "start_time": "2021-06-11T20:36:03.793Z"
   },
   {
    "duration": 383,
    "start_time": "2021-06-11T20:36:04.640Z"
   },
   {
    "duration": 915,
    "start_time": "2021-06-11T20:36:05.026Z"
   },
   {
    "duration": 342,
    "start_time": "2021-06-11T20:36:05.944Z"
   },
   {
    "duration": 701,
    "start_time": "2021-06-11T20:36:06.288Z"
   },
   {
    "duration": 1127,
    "start_time": "2021-06-11T20:36:06.992Z"
   },
   {
    "duration": 333,
    "start_time": "2021-06-11T20:36:08.122Z"
   },
   {
    "duration": 7,
    "start_time": "2021-06-11T20:36:08.458Z"
   },
   {
    "duration": 12,
    "start_time": "2021-06-11T20:41:25.894Z"
   },
   {
    "duration": 11,
    "start_time": "2021-06-11T20:42:24.104Z"
   },
   {
    "duration": 615,
    "start_time": "2021-06-11T20:43:11.840Z"
   },
   {
    "duration": 488,
    "start_time": "2021-06-11T20:43:49.081Z"
   },
   {
    "duration": 433,
    "start_time": "2021-06-11T20:46:36.368Z"
   },
   {
    "duration": 301,
    "start_time": "2021-06-11T20:49:49.570Z"
   },
   {
    "duration": 127,
    "start_time": "2021-06-11T20:49:49.874Z"
   },
   {
    "duration": 854,
    "start_time": "2021-06-11T20:49:50.006Z"
   },
   {
    "duration": 393,
    "start_time": "2021-06-11T20:49:50.863Z"
   },
   {
    "duration": 936,
    "start_time": "2021-06-11T20:49:51.259Z"
   },
   {
    "duration": 350,
    "start_time": "2021-06-11T20:49:52.198Z"
   },
   {
    "duration": 740,
    "start_time": "2021-06-11T20:49:52.551Z"
   },
   {
    "duration": 1115,
    "start_time": "2021-06-11T20:49:53.294Z"
   },
   {
    "duration": 342,
    "start_time": "2021-06-11T20:49:54.413Z"
   },
   {
    "duration": 7,
    "start_time": "2021-06-11T20:49:54.758Z"
   },
   {
    "duration": 25,
    "start_time": "2021-06-11T20:49:54.767Z"
   },
   {
    "duration": 12,
    "start_time": "2021-06-11T20:50:19.144Z"
   },
   {
    "duration": 15,
    "start_time": "2021-06-11T20:51:32.410Z"
   },
   {
    "duration": 251,
    "start_time": "2021-06-11T20:51:36.850Z"
   },
   {
    "duration": 101,
    "start_time": "2021-06-11T20:51:37.104Z"
   },
   {
    "duration": 828,
    "start_time": "2021-06-11T20:51:37.208Z"
   },
   {
    "duration": 406,
    "start_time": "2021-06-11T20:51:38.040Z"
   },
   {
    "duration": 892,
    "start_time": "2021-06-11T20:51:38.448Z"
   },
   {
    "duration": 365,
    "start_time": "2021-06-11T20:51:39.342Z"
   },
   {
    "duration": 798,
    "start_time": "2021-06-11T20:51:39.710Z"
   },
   {
    "duration": 1147,
    "start_time": "2021-06-11T20:51:40.510Z"
   },
   {
    "duration": 323,
    "start_time": "2021-06-11T20:51:41.660Z"
   },
   {
    "duration": 7,
    "start_time": "2021-06-11T20:51:41.985Z"
   },
   {
    "duration": 21,
    "start_time": "2021-06-11T20:51:41.994Z"
   },
   {
    "duration": 15,
    "start_time": "2021-06-11T20:52:04.187Z"
   },
   {
    "duration": 11,
    "start_time": "2021-06-11T20:52:13.411Z"
   },
   {
    "duration": 15,
    "start_time": "2021-06-11T20:52:37.859Z"
   },
   {
    "duration": 26,
    "start_time": "2021-06-11T20:52:46.931Z"
   },
   {
    "duration": 28,
    "start_time": "2021-06-11T20:52:52.002Z"
   },
   {
    "duration": 17,
    "start_time": "2021-06-11T20:52:59.612Z"
   },
   {
    "duration": 21,
    "start_time": "2021-06-11T20:53:45.291Z"
   },
   {
    "duration": 23,
    "start_time": "2021-06-11T20:56:31.894Z"
   },
   {
    "duration": 79,
    "start_time": "2021-06-11T20:58:36.094Z"
   },
   {
    "duration": 264,
    "start_time": "2021-06-11T20:58:45.366Z"
   },
   {
    "duration": 24,
    "start_time": "2021-06-11T20:58:51.758Z"
   },
   {
    "duration": 25,
    "start_time": "2021-06-11T20:59:26.246Z"
   },
   {
    "duration": 25,
    "start_time": "2021-06-11T20:59:33.998Z"
   },
   {
    "duration": 115,
    "start_time": "2021-06-11T21:00:34.711Z"
   },
   {
    "duration": 108,
    "start_time": "2021-06-11T21:00:56.121Z"
   },
   {
    "duration": 251,
    "start_time": "2021-06-11T21:01:03.633Z"
   },
   {
    "duration": 129,
    "start_time": "2021-06-11T21:01:03.887Z"
   },
   {
    "duration": 701,
    "start_time": "2021-06-11T21:01:04.019Z"
   },
   {
    "duration": 626,
    "start_time": "2021-06-11T21:01:04.724Z"
   },
   {
    "duration": 908,
    "start_time": "2021-06-11T21:01:05.354Z"
   },
   {
    "duration": 351,
    "start_time": "2021-06-11T21:01:06.265Z"
   },
   {
    "duration": 755,
    "start_time": "2021-06-11T21:01:06.619Z"
   },
   {
    "duration": 1053,
    "start_time": "2021-06-11T21:01:07.377Z"
   },
   {
    "duration": 336,
    "start_time": "2021-06-11T21:01:08.433Z"
   },
   {
    "duration": 15,
    "start_time": "2021-06-11T21:01:08.771Z"
   },
   {
    "duration": 33,
    "start_time": "2021-06-11T21:01:08.788Z"
   },
   {
    "duration": 267,
    "start_time": "2021-06-11T21:01:18.724Z"
   },
   {
    "duration": 138,
    "start_time": "2021-06-11T21:01:18.995Z"
   },
   {
    "duration": 721,
    "start_time": "2021-06-11T21:01:19.137Z"
   },
   {
    "duration": 393,
    "start_time": "2021-06-11T21:01:19.862Z"
   },
   {
    "duration": 1064,
    "start_time": "2021-06-11T21:01:20.258Z"
   },
   {
    "duration": 330,
    "start_time": "2021-06-11T21:01:21.325Z"
   },
   {
    "duration": 736,
    "start_time": "2021-06-11T21:01:21.657Z"
   },
   {
    "duration": 1113,
    "start_time": "2021-06-11T21:01:22.396Z"
   },
   {
    "duration": 339,
    "start_time": "2021-06-11T21:01:23.513Z"
   },
   {
    "duration": 7,
    "start_time": "2021-06-11T21:01:23.854Z"
   },
   {
    "duration": 40,
    "start_time": "2021-06-11T21:01:23.863Z"
   },
   {
    "duration": 249,
    "start_time": "2021-06-11T21:01:31.845Z"
   },
   {
    "duration": 119,
    "start_time": "2021-06-11T21:01:32.097Z"
   },
   {
    "duration": 696,
    "start_time": "2021-06-11T21:01:32.219Z"
   },
   {
    "duration": 389,
    "start_time": "2021-06-11T21:01:32.918Z"
   },
   {
    "duration": 1083,
    "start_time": "2021-06-11T21:01:33.310Z"
   },
   {
    "duration": 353,
    "start_time": "2021-06-11T21:01:34.396Z"
   },
   {
    "duration": 850,
    "start_time": "2021-06-11T21:01:34.753Z"
   },
   {
    "duration": 1106,
    "start_time": "2021-06-11T21:01:35.607Z"
   },
   {
    "duration": 329,
    "start_time": "2021-06-11T21:01:36.716Z"
   },
   {
    "duration": 6,
    "start_time": "2021-06-11T21:01:37.048Z"
   },
   {
    "duration": 44,
    "start_time": "2021-06-11T21:01:37.057Z"
   },
   {
    "duration": 102,
    "start_time": "2021-06-12T06:41:00.677Z"
   },
   {
    "duration": 484,
    "start_time": "2021-06-12T06:41:00.871Z"
   },
   {
    "duration": 1780,
    "start_time": "2021-06-12T06:41:03.668Z"
   },
   {
    "duration": 112,
    "start_time": "2021-06-12T06:41:05.451Z"
   },
   {
    "duration": 749,
    "start_time": "2021-06-12T06:41:05.567Z"
   },
   {
    "duration": 417,
    "start_time": "2021-06-12T06:41:06.320Z"
   },
   {
    "duration": 1005,
    "start_time": "2021-06-12T06:41:06.741Z"
   },
   {
    "duration": 375,
    "start_time": "2021-06-12T06:41:07.749Z"
   },
   {
    "duration": 816,
    "start_time": "2021-06-12T06:41:08.127Z"
   },
   {
    "duration": 1135,
    "start_time": "2021-06-12T06:41:08.946Z"
   },
   {
    "duration": 343,
    "start_time": "2021-06-12T06:41:10.087Z"
   },
   {
    "duration": 7,
    "start_time": "2021-06-12T06:41:10.433Z"
   },
   {
    "duration": 43,
    "start_time": "2021-06-12T06:41:10.442Z"
   },
   {
    "duration": 156,
    "start_time": "2021-06-12T06:41:10.488Z"
   },
   {
    "duration": -1431,
    "start_time": "2021-06-12T06:41:12.078Z"
   },
   {
    "duration": 26,
    "start_time": "2021-06-12T06:41:17.039Z"
   },
   {
    "duration": 296,
    "start_time": "2021-06-12T06:43:27.783Z"
   },
   {
    "duration": 112,
    "start_time": "2021-06-12T06:43:28.082Z"
   },
   {
    "duration": 749,
    "start_time": "2021-06-12T06:43:28.198Z"
   },
   {
    "duration": 7508,
    "start_time": "2021-06-12T06:43:28.951Z"
   },
   {
    "duration": -1439,
    "start_time": "2021-06-12T06:43:37.901Z"
   },
   {
    "duration": -1442,
    "start_time": "2021-06-12T06:43:37.905Z"
   },
   {
    "duration": -1444,
    "start_time": "2021-06-12T06:43:37.909Z"
   },
   {
    "duration": -1445,
    "start_time": "2021-06-12T06:43:37.912Z"
   },
   {
    "duration": -1449,
    "start_time": "2021-06-12T06:43:37.917Z"
   },
   {
    "duration": -1453,
    "start_time": "2021-06-12T06:43:37.922Z"
   },
   {
    "duration": -1454,
    "start_time": "2021-06-12T06:43:37.925Z"
   },
   {
    "duration": -1456,
    "start_time": "2021-06-12T06:43:37.929Z"
   },
   {
    "duration": 303,
    "start_time": "2021-06-12T06:43:56.380Z"
   },
   {
    "duration": 122,
    "start_time": "2021-06-12T06:43:56.686Z"
   },
   {
    "duration": 763,
    "start_time": "2021-06-12T06:43:56.810Z"
   },
   {
    "duration": 413,
    "start_time": "2021-06-12T06:43:57.576Z"
   },
   {
    "duration": 1061,
    "start_time": "2021-06-12T06:43:57.991Z"
   },
   {
    "duration": 372,
    "start_time": "2021-06-12T06:43:59.055Z"
   },
   {
    "duration": 797,
    "start_time": "2021-06-12T06:43:59.429Z"
   },
   {
    "duration": 1157,
    "start_time": "2021-06-12T06:44:00.228Z"
   },
   {
    "duration": 347,
    "start_time": "2021-06-12T06:44:01.388Z"
   },
   {
    "duration": 7,
    "start_time": "2021-06-12T06:44:01.739Z"
   },
   {
    "duration": 40,
    "start_time": "2021-06-12T06:44:01.748Z"
   },
   {
    "duration": 28,
    "start_time": "2021-06-12T06:44:01.791Z"
   },
   {
    "duration": 119,
    "start_time": "2021-06-12T06:45:35.728Z"
   },
   {
    "duration": 124,
    "start_time": "2021-06-12T06:45:50.326Z"
   },
   {
    "duration": 118,
    "start_time": "2021-06-12T06:46:06.839Z"
   },
   {
    "duration": 108,
    "start_time": "2021-06-12T06:46:14.304Z"
   },
   {
    "duration": 275,
    "start_time": "2021-06-12T06:46:38.086Z"
   },
   {
    "duration": 111,
    "start_time": "2021-06-12T06:46:38.365Z"
   },
   {
    "duration": 750,
    "start_time": "2021-06-12T06:46:38.479Z"
   },
   {
    "duration": 407,
    "start_time": "2021-06-12T06:46:39.232Z"
   },
   {
    "duration": 1100,
    "start_time": "2021-06-12T06:46:39.642Z"
   },
   {
    "duration": 350,
    "start_time": "2021-06-12T06:46:40.745Z"
   },
   {
    "duration": 749,
    "start_time": "2021-06-12T06:46:41.097Z"
   },
   {
    "duration": 1174,
    "start_time": "2021-06-12T06:46:41.849Z"
   },
   {
    "duration": 392,
    "start_time": "2021-06-12T06:46:43.026Z"
   },
   {
    "duration": 7,
    "start_time": "2021-06-12T06:46:43.420Z"
   },
   {
    "duration": 52,
    "start_time": "2021-06-12T06:46:43.429Z"
   },
   {
    "duration": 24,
    "start_time": "2021-06-12T06:46:43.484Z"
   },
   {
    "duration": 114,
    "start_time": "2021-06-12T06:47:34.027Z"
   },
   {
    "duration": 106,
    "start_time": "2021-06-12T06:48:27.119Z"
   },
   {
    "duration": 297,
    "start_time": "2021-06-12T06:48:31.403Z"
   },
   {
    "duration": 115,
    "start_time": "2021-06-12T06:48:31.703Z"
   },
   {
    "duration": 869,
    "start_time": "2021-06-12T06:48:31.821Z"
   },
   {
    "duration": 447,
    "start_time": "2021-06-12T06:48:32.693Z"
   },
   {
    "duration": 981,
    "start_time": "2021-06-12T06:48:33.142Z"
   },
   {
    "duration": 372,
    "start_time": "2021-06-12T06:48:34.126Z"
   },
   {
    "duration": 321,
    "start_time": "2021-06-12T06:48:34.500Z"
   },
   {
    "duration": -1437,
    "start_time": "2021-06-12T06:48:36.261Z"
   },
   {
    "duration": -1436,
    "start_time": "2021-06-12T06:48:36.262Z"
   },
   {
    "duration": -1436,
    "start_time": "2021-06-12T06:48:36.264Z"
   },
   {
    "duration": -1436,
    "start_time": "2021-06-12T06:48:36.266Z"
   },
   {
    "duration": -1435,
    "start_time": "2021-06-12T06:48:36.268Z"
   },
   {
    "duration": 1008,
    "start_time": "2021-06-12T06:52:25.958Z"
   },
   {
    "duration": 300,
    "start_time": "2021-06-12T06:53:44.213Z"
   },
   {
    "duration": 69,
    "start_time": "2021-06-12T06:53:44.515Z"
   },
   {
    "duration": 847,
    "start_time": "2021-06-12T06:53:44.587Z"
   },
   {
    "duration": 405,
    "start_time": "2021-06-12T06:53:45.437Z"
   },
   {
    "duration": 1010,
    "start_time": "2021-06-12T06:53:45.844Z"
   },
   {
    "duration": 371,
    "start_time": "2021-06-12T06:53:46.858Z"
   },
   {
    "duration": 326,
    "start_time": "2021-06-12T06:53:47.232Z"
   },
   {
    "duration": -1435,
    "start_time": "2021-06-12T06:53:48.998Z"
   },
   {
    "duration": -1434,
    "start_time": "2021-06-12T06:53:48.999Z"
   },
   {
    "duration": -1435,
    "start_time": "2021-06-12T06:53:49.002Z"
   },
   {
    "duration": -1436,
    "start_time": "2021-06-12T06:53:49.005Z"
   },
   {
    "duration": -1437,
    "start_time": "2021-06-12T06:53:49.009Z"
   },
   {
    "duration": 284,
    "start_time": "2021-06-12T06:54:17.629Z"
   },
   {
    "duration": 72,
    "start_time": "2021-06-12T06:54:17.915Z"
   },
   {
    "duration": 736,
    "start_time": "2021-06-12T06:54:17.990Z"
   },
   {
    "duration": 418,
    "start_time": "2021-06-12T06:54:18.729Z"
   },
   {
    "duration": 8605,
    "start_time": "2021-06-12T06:54:19.150Z"
   },
   {
    "duration": -1730,
    "start_time": "2021-06-12T06:54:29.488Z"
   },
   {
    "duration": -1729,
    "start_time": "2021-06-12T06:54:29.489Z"
   },
   {
    "duration": -1729,
    "start_time": "2021-06-12T06:54:29.491Z"
   },
   {
    "duration": -1730,
    "start_time": "2021-06-12T06:54:29.493Z"
   },
   {
    "duration": -1729,
    "start_time": "2021-06-12T06:54:29.494Z"
   },
   {
    "duration": -1729,
    "start_time": "2021-06-12T06:54:29.496Z"
   },
   {
    "duration": -1732,
    "start_time": "2021-06-12T06:54:29.500Z"
   },
   {
    "duration": 1266,
    "start_time": "2021-06-12T06:55:08.234Z"
   },
   {
    "duration": 1098,
    "start_time": "2021-06-12T06:57:58.701Z"
   },
   {
    "duration": 297,
    "start_time": "2021-06-12T06:58:04.418Z"
   },
   {
    "duration": 70,
    "start_time": "2021-06-12T06:58:04.717Z"
   },
   {
    "duration": 893,
    "start_time": "2021-06-12T06:58:04.790Z"
   },
   {
    "duration": 430,
    "start_time": "2021-06-12T06:58:05.686Z"
   },
   {
    "duration": 1024,
    "start_time": "2021-06-12T06:58:06.119Z"
   },
   {
    "duration": 396,
    "start_time": "2021-06-12T06:58:07.146Z"
   },
   {
    "duration": 314,
    "start_time": "2021-06-12T06:58:07.544Z"
   },
   {
    "duration": -1692,
    "start_time": "2021-06-12T06:58:09.552Z"
   },
   {
    "duration": -1691,
    "start_time": "2021-06-12T06:58:09.553Z"
   },
   {
    "duration": -1692,
    "start_time": "2021-06-12T06:58:09.555Z"
   },
   {
    "duration": -1691,
    "start_time": "2021-06-12T06:58:09.556Z"
   },
   {
    "duration": -1691,
    "start_time": "2021-06-12T06:58:09.557Z"
   },
   {
    "duration": 104,
    "start_time": "2021-06-12T06:59:41.004Z"
   },
   {
    "duration": 301,
    "start_time": "2021-06-12T06:59:49.246Z"
   },
   {
    "duration": 102,
    "start_time": "2021-06-12T06:59:49.550Z"
   },
   {
    "duration": 764,
    "start_time": "2021-06-12T06:59:49.655Z"
   },
   {
    "duration": 424,
    "start_time": "2021-06-12T06:59:50.421Z"
   },
   {
    "duration": 1171,
    "start_time": "2021-06-12T06:59:50.848Z"
   },
   {
    "duration": 385,
    "start_time": "2021-06-12T06:59:52.022Z"
   },
   {
    "duration": 326,
    "start_time": "2021-06-12T06:59:52.410Z"
   },
   {
    "duration": -1409,
    "start_time": "2021-06-12T06:59:54.148Z"
   },
   {
    "duration": -1430,
    "start_time": "2021-06-12T06:59:54.170Z"
   },
   {
    "duration": -1430,
    "start_time": "2021-06-12T06:59:54.172Z"
   },
   {
    "duration": -1431,
    "start_time": "2021-06-12T06:59:54.174Z"
   },
   {
    "duration": -1434,
    "start_time": "2021-06-12T06:59:54.179Z"
   },
   {
    "duration": 107,
    "start_time": "2021-06-12T07:00:21.958Z"
   },
   {
    "duration": 117,
    "start_time": "2021-06-12T07:00:28.080Z"
   },
   {
    "duration": 100,
    "start_time": "2021-06-12T07:00:30.579Z"
   },
   {
    "duration": 109,
    "start_time": "2021-06-12T07:00:34.149Z"
   },
   {
    "duration": 963,
    "start_time": "2021-06-12T07:00:45.365Z"
   },
   {
    "duration": 989,
    "start_time": "2021-06-12T07:01:30.240Z"
   },
   {
    "duration": 1160,
    "start_time": "2021-06-12T07:02:24.980Z"
   },
   {
    "duration": 1002,
    "start_time": "2021-06-12T07:02:39.386Z"
   },
   {
    "duration": 1036,
    "start_time": "2021-06-12T07:03:09.852Z"
   },
   {
    "duration": 1064,
    "start_time": "2021-06-12T07:08:43.671Z"
   },
   {
    "duration": 1158,
    "start_time": "2021-06-12T07:08:55.976Z"
   },
   {
    "duration": 1020,
    "start_time": "2021-06-12T07:09:19.244Z"
   },
   {
    "duration": 992,
    "start_time": "2021-06-12T07:09:47.901Z"
   },
   {
    "duration": 145,
    "start_time": "2021-06-12T07:12:05.865Z"
   },
   {
    "duration": 120,
    "start_time": "2021-06-12T07:13:24.046Z"
   },
   {
    "duration": 281,
    "start_time": "2021-06-12T07:13:27.668Z"
   },
   {
    "duration": 110,
    "start_time": "2021-06-12T07:13:27.952Z"
   },
   {
    "duration": 615,
    "start_time": "2021-06-12T07:13:28.066Z"
   },
   {
    "duration": 401,
    "start_time": "2021-06-12T07:13:28.687Z"
   },
   {
    "duration": 1112,
    "start_time": "2021-06-12T07:13:29.090Z"
   },
   {
    "duration": 360,
    "start_time": "2021-06-12T07:13:30.204Z"
   },
   {
    "duration": 327,
    "start_time": "2021-06-12T07:13:30.567Z"
   },
   {
    "duration": -1788,
    "start_time": "2021-06-12T07:13:32.686Z"
   },
   {
    "duration": -1788,
    "start_time": "2021-06-12T07:13:32.688Z"
   },
   {
    "duration": -1791,
    "start_time": "2021-06-12T07:13:32.693Z"
   },
   {
    "duration": -1791,
    "start_time": "2021-06-12T07:13:32.696Z"
   },
   {
    "duration": -1792,
    "start_time": "2021-06-12T07:13:32.699Z"
   },
   {
    "duration": 669,
    "start_time": "2021-06-12T07:19:24.185Z"
   },
   {
    "duration": 121,
    "start_time": "2021-06-12T07:19:24.858Z"
   },
   {
    "duration": 10964,
    "start_time": "2021-06-12T07:19:24.982Z"
   },
   {
    "duration": -1452,
    "start_time": "2021-06-12T07:19:37.401Z"
   },
   {
    "duration": -1457,
    "start_time": "2021-06-12T07:19:37.407Z"
   },
   {
    "duration": -1469,
    "start_time": "2021-06-12T07:19:37.420Z"
   },
   {
    "duration": -1468,
    "start_time": "2021-06-12T07:19:37.421Z"
   },
   {
    "duration": -2333,
    "start_time": "2021-06-12T07:19:38.287Z"
   },
   {
    "duration": -2336,
    "start_time": "2021-06-12T07:19:38.292Z"
   },
   {
    "duration": -2336,
    "start_time": "2021-06-12T07:19:38.293Z"
   },
   {
    "duration": -2337,
    "start_time": "2021-06-12T07:19:38.295Z"
   },
   {
    "duration": -2337,
    "start_time": "2021-06-12T07:19:38.297Z"
   },
   {
    "duration": 1309,
    "start_time": "2021-06-12T07:20:03.280Z"
   },
   {
    "duration": 714,
    "start_time": "2021-06-12T07:20:12.186Z"
   },
   {
    "duration": 657,
    "start_time": "2021-06-12T07:20:12.903Z"
   },
   {
    "duration": -2355,
    "start_time": "2021-06-12T07:20:15.919Z"
   },
   {
    "duration": -2356,
    "start_time": "2021-06-12T07:20:15.922Z"
   },
   {
    "duration": -2362,
    "start_time": "2021-06-12T07:20:15.930Z"
   },
   {
    "duration": -2376,
    "start_time": "2021-06-12T07:20:15.946Z"
   },
   {
    "duration": -2393,
    "start_time": "2021-06-12T07:20:15.965Z"
   },
   {
    "duration": -2434,
    "start_time": "2021-06-12T07:20:16.008Z"
   },
   {
    "duration": -2453,
    "start_time": "2021-06-12T07:20:16.028Z"
   },
   {
    "duration": -2456,
    "start_time": "2021-06-12T07:20:16.033Z"
   },
   {
    "duration": -2457,
    "start_time": "2021-06-12T07:20:16.036Z"
   },
   {
    "duration": -2480,
    "start_time": "2021-06-12T07:20:16.061Z"
   },
   {
    "duration": 944,
    "start_time": "2021-06-12T07:20:31.016Z"
   },
   {
    "duration": 608,
    "start_time": "2021-06-12T07:20:36.898Z"
   },
   {
    "duration": 138,
    "start_time": "2021-06-12T07:20:37.509Z"
   },
   {
    "duration": 702,
    "start_time": "2021-06-12T07:20:37.650Z"
   },
   {
    "duration": 475,
    "start_time": "2021-06-12T07:20:38.355Z"
   },
   {
    "duration": 1096,
    "start_time": "2021-06-12T07:20:38.834Z"
   },
   {
    "duration": 371,
    "start_time": "2021-06-12T07:20:39.932Z"
   },
   {
    "duration": 781,
    "start_time": "2021-06-12T07:20:40.306Z"
   },
   {
    "duration": -1544,
    "start_time": "2021-06-12T07:20:42.634Z"
   },
   {
    "duration": -1584,
    "start_time": "2021-06-12T07:20:42.677Z"
   },
   {
    "duration": -1597,
    "start_time": "2021-06-12T07:20:42.692Z"
   },
   {
    "duration": -1614,
    "start_time": "2021-06-12T07:20:42.711Z"
   },
   {
    "duration": -1624,
    "start_time": "2021-06-12T07:20:42.723Z"
   },
   {
    "duration": 855,
    "start_time": "2021-06-12T07:21:08.211Z"
   },
   {
    "duration": 143,
    "start_time": "2021-06-12T07:21:09.069Z"
   },
   {
    "duration": 689,
    "start_time": "2021-06-12T07:21:09.215Z"
   },
   {
    "duration": 428,
    "start_time": "2021-06-12T07:21:09.907Z"
   },
   {
    "duration": 1102,
    "start_time": "2021-06-12T07:21:10.337Z"
   },
   {
    "duration": 377,
    "start_time": "2021-06-12T07:21:11.441Z"
   },
   {
    "duration": 865,
    "start_time": "2021-06-12T07:21:11.821Z"
   },
   {
    "duration": 1043,
    "start_time": "2021-06-12T07:21:12.691Z"
   },
   {
    "duration": 375,
    "start_time": "2021-06-12T07:21:13.737Z"
   },
   {
    "duration": 8,
    "start_time": "2021-06-12T07:21:14.115Z"
   },
   {
    "duration": 30,
    "start_time": "2021-06-12T07:21:14.126Z"
   },
   {
    "duration": 55,
    "start_time": "2021-06-12T07:21:14.158Z"
   },
   {
    "duration": 23,
    "start_time": "2021-06-12T07:22:28.895Z"
   },
   {
    "duration": 23,
    "start_time": "2021-06-12T07:23:18.330Z"
   },
   {
    "duration": 126,
    "start_time": "2021-06-12T07:33:21.147Z"
   },
   {
    "duration": 361,
    "start_time": "2021-06-12T07:37:57.082Z"
   },
   {
    "duration": 166,
    "start_time": "2021-06-12T07:39:20.589Z"
   },
   {
    "duration": 128,
    "start_time": "2021-06-12T07:39:37.282Z"
   },
   {
    "duration": 37,
    "start_time": "2021-06-12T07:40:56.947Z"
   },
   {
    "duration": 118,
    "start_time": "2021-06-12T07:43:22.619Z"
   },
   {
    "duration": 25,
    "start_time": "2021-06-12T07:43:23.747Z"
   },
   {
    "duration": 29,
    "start_time": "2021-06-12T07:43:24.396Z"
   },
   {
    "duration": 1934,
    "start_time": "2021-06-12T09:26:16.323Z"
   },
   {
    "duration": 190,
    "start_time": "2021-06-12T09:26:18.261Z"
   },
   {
    "duration": 923,
    "start_time": "2021-06-12T09:26:18.455Z"
   },
   {
    "duration": 563,
    "start_time": "2021-06-12T09:26:19.382Z"
   },
   {
    "duration": 1468,
    "start_time": "2021-06-12T09:26:19.949Z"
   },
   {
    "duration": 536,
    "start_time": "2021-06-12T09:26:21.420Z"
   },
   {
    "duration": 1165,
    "start_time": "2021-06-12T09:26:21.958Z"
   },
   {
    "duration": 1374,
    "start_time": "2021-06-12T09:26:23.127Z"
   },
   {
    "duration": 541,
    "start_time": "2021-06-12T09:26:24.504Z"
   },
   {
    "duration": 171,
    "start_time": "2021-06-12T09:26:25.048Z"
   },
   {
    "duration": 42,
    "start_time": "2021-06-12T09:26:25.222Z"
   },
   {
    "duration": 33,
    "start_time": "2021-06-12T09:26:25.267Z"
   },
   {
    "duration": 1639,
    "start_time": "2021-06-13T09:16:42.422Z"
   },
   {
    "duration": 261,
    "start_time": "2021-06-13T09:16:45.519Z"
   },
   {
    "duration": 268,
    "start_time": "2021-06-13T09:16:57.032Z"
   },
   {
    "duration": 4,
    "start_time": "2021-06-13T09:16:59.470Z"
   },
   {
    "duration": 286,
    "start_time": "2021-06-13T09:16:59.671Z"
   },
   {
    "duration": 267,
    "start_time": "2021-06-13T09:19:51.990Z"
   },
   {
    "duration": 635,
    "start_time": "2021-06-13T09:20:05.263Z"
   },
   {
    "duration": 136,
    "start_time": "2021-06-13T09:20:46.771Z"
   },
   {
    "duration": 91,
    "start_time": "2021-06-13T09:22:10.143Z"
   },
   {
    "duration": 589,
    "start_time": "2021-06-13T09:23:07.375Z"
   },
   {
    "duration": 88,
    "start_time": "2021-06-13T09:24:18.807Z"
   },
   {
    "duration": 7038,
    "start_time": "2021-06-13T09:24:24.912Z"
   },
   {
    "duration": 5,
    "start_time": "2021-06-13T09:24:32.155Z"
   },
   {
    "duration": 266,
    "start_time": "2021-06-13T09:24:32.162Z"
   },
   {
    "duration": 119,
    "start_time": "2021-06-13T09:24:32.432Z"
   },
   {
    "duration": 6971,
    "start_time": "2021-06-13T09:24:32.554Z"
   },
   {
    "duration": 846,
    "start_time": "2021-06-13T09:24:38.682Z"
   },
   {
    "duration": 839,
    "start_time": "2021-06-13T09:24:38.690Z"
   },
   {
    "duration": 832,
    "start_time": "2021-06-13T09:24:38.698Z"
   },
   {
    "duration": 828,
    "start_time": "2021-06-13T09:24:38.703Z"
   },
   {
    "duration": 821,
    "start_time": "2021-06-13T09:24:38.712Z"
   },
   {
    "duration": 816,
    "start_time": "2021-06-13T09:24:38.718Z"
   },
   {
    "duration": 810,
    "start_time": "2021-06-13T09:24:38.726Z"
   },
   {
    "duration": 805,
    "start_time": "2021-06-13T09:24:38.732Z"
   },
   {
    "duration": 802,
    "start_time": "2021-06-13T09:24:38.737Z"
   },
   {
    "duration": 565,
    "start_time": "2021-06-13T09:26:20.120Z"
   },
   {
    "duration": 5,
    "start_time": "2021-06-13T09:26:25.874Z"
   },
   {
    "duration": 276,
    "start_time": "2021-06-13T09:26:25.881Z"
   },
   {
    "duration": 126,
    "start_time": "2021-06-13T09:26:26.161Z"
   },
   {
    "duration": 700,
    "start_time": "2021-06-13T09:26:26.290Z"
   },
   {
    "duration": 395,
    "start_time": "2021-06-13T09:26:26.992Z"
   },
   {
    "duration": 979,
    "start_time": "2021-06-13T09:26:27.390Z"
   },
   {
    "duration": 367,
    "start_time": "2021-06-13T09:26:28.372Z"
   },
   {
    "duration": 786,
    "start_time": "2021-06-13T09:26:28.742Z"
   },
   {
    "duration": 973,
    "start_time": "2021-06-13T09:26:29.531Z"
   },
   {
    "duration": 450,
    "start_time": "2021-06-13T09:26:30.508Z"
   },
   {
    "duration": 142,
    "start_time": "2021-06-13T09:26:30.962Z"
   },
   {
    "duration": 25,
    "start_time": "2021-06-13T09:26:31.107Z"
   },
   {
    "duration": 24,
    "start_time": "2021-06-13T09:26:31.135Z"
   },
   {
    "duration": 164,
    "start_time": "2021-06-13T09:27:05.640Z"
   },
   {
    "duration": 209,
    "start_time": "2021-06-13T23:16:27.650Z"
   },
   {
    "duration": 168,
    "start_time": "2021-06-13T23:16:32.155Z"
   },
   {
    "duration": 223,
    "start_time": "2021-06-13T23:25:11.756Z"
   },
   {
    "duration": 979,
    "start_time": "2021-06-13T23:25:21.486Z"
   },
   {
    "duration": 188,
    "start_time": "2021-06-13T23:25:22.467Z"
   },
   {
    "duration": 299,
    "start_time": "2021-06-13T23:25:22.657Z"
   },
   {
    "duration": -7,
    "start_time": "2021-06-13T23:25:22.965Z"
   },
   {
    "duration": -8,
    "start_time": "2021-06-13T23:25:22.967Z"
   },
   {
    "duration": -9,
    "start_time": "2021-06-13T23:25:22.969Z"
   },
   {
    "duration": -10,
    "start_time": "2021-06-13T23:25:22.971Z"
   },
   {
    "duration": -10,
    "start_time": "2021-06-13T23:25:22.972Z"
   },
   {
    "duration": -11,
    "start_time": "2021-06-13T23:25:22.974Z"
   },
   {
    "duration": -16,
    "start_time": "2021-06-13T23:25:22.980Z"
   },
   {
    "duration": -17,
    "start_time": "2021-06-13T23:25:22.982Z"
   },
   {
    "duration": -18,
    "start_time": "2021-06-13T23:25:22.984Z"
   },
   {
    "duration": -20,
    "start_time": "2021-06-13T23:25:22.987Z"
   },
   {
    "duration": -21,
    "start_time": "2021-06-13T23:25:22.989Z"
   },
   {
    "duration": 343,
    "start_time": "2021-06-13T23:26:34.645Z"
   },
   {
    "duration": 81,
    "start_time": "2021-06-13T23:26:54.686Z"
   },
   {
    "duration": 448,
    "start_time": "2021-06-13T23:28:40.462Z"
   },
   {
    "duration": 86,
    "start_time": "2021-06-13T23:30:42.245Z"
   },
   {
    "duration": 83,
    "start_time": "2021-06-13T23:30:49.405Z"
   },
   {
    "duration": 88,
    "start_time": "2021-06-13T23:31:14.782Z"
   },
   {
    "duration": 3,
    "start_time": "2021-06-13T23:31:18.103Z"
   },
   {
    "duration": 183,
    "start_time": "2021-06-13T23:31:18.108Z"
   },
   {
    "duration": 92,
    "start_time": "2021-06-13T23:31:18.293Z"
   },
   {
    "duration": 449,
    "start_time": "2021-06-13T23:31:18.387Z"
   },
   {
    "duration": 244,
    "start_time": "2021-06-13T23:31:18.838Z"
   },
   {
    "duration": 664,
    "start_time": "2021-06-13T23:31:19.083Z"
   },
   {
    "duration": 217,
    "start_time": "2021-06-13T23:31:19.748Z"
   },
   {
    "duration": 485,
    "start_time": "2021-06-13T23:31:19.967Z"
   },
   {
    "duration": 739,
    "start_time": "2021-06-13T23:31:20.455Z"
   },
   {
    "duration": 211,
    "start_time": "2021-06-13T23:31:21.196Z"
   },
   {
    "duration": 4,
    "start_time": "2021-06-13T23:31:21.409Z"
   },
   {
    "duration": 101,
    "start_time": "2021-06-13T23:31:21.414Z"
   },
   {
    "duration": 15,
    "start_time": "2021-06-13T23:31:21.516Z"
   },
   {
    "duration": 16,
    "start_time": "2021-06-13T23:31:21.532Z"
   },
   {
    "duration": 76,
    "start_time": "2021-06-13T23:32:55.303Z"
   },
   {
    "duration": 3,
    "start_time": "2021-06-13T23:33:35.681Z"
   },
   {
    "duration": 191,
    "start_time": "2021-06-13T23:33:35.686Z"
   },
   {
    "duration": 80,
    "start_time": "2021-06-13T23:33:35.879Z"
   },
   {
    "duration": 461,
    "start_time": "2021-06-13T23:33:35.960Z"
   },
   {
    "duration": 248,
    "start_time": "2021-06-13T23:33:36.422Z"
   },
   {
    "duration": 671,
    "start_time": "2021-06-13T23:33:36.672Z"
   },
   {
    "duration": 216,
    "start_time": "2021-06-13T23:33:37.345Z"
   },
   {
    "duration": 485,
    "start_time": "2021-06-13T23:33:37.563Z"
   },
   {
    "duration": 741,
    "start_time": "2021-06-13T23:33:38.050Z"
   },
   {
    "duration": 229,
    "start_time": "2021-06-13T23:33:38.793Z"
   },
   {
    "duration": 4,
    "start_time": "2021-06-13T23:33:39.024Z"
   },
   {
    "duration": 104,
    "start_time": "2021-06-13T23:33:39.030Z"
   },
   {
    "duration": 15,
    "start_time": "2021-06-13T23:33:39.135Z"
   },
   {
    "duration": 44,
    "start_time": "2021-06-13T23:33:39.152Z"
   },
   {
    "duration": 440,
    "start_time": "2021-06-13T23:40:12.223Z"
   },
   {
    "duration": 528,
    "start_time": "2021-06-13T23:40:39.861Z"
   },
   {
    "duration": 444,
    "start_time": "2021-06-13T23:40:50.833Z"
   },
   {
    "duration": 444,
    "start_time": "2021-06-13T23:40:58.863Z"
   },
   {
    "duration": 448,
    "start_time": "2021-06-13T23:41:59.207Z"
   },
   {
    "duration": 709,
    "start_time": "2021-06-13T23:44:12.506Z"
   },
   {
    "duration": 834,
    "start_time": "2021-06-13T23:44:38.016Z"
   },
   {
    "duration": 1292,
    "start_time": "2021-06-13T23:45:57.778Z"
   },
   {
    "duration": 458,
    "start_time": "2021-06-13T23:46:12.305Z"
   },
   {
    "duration": 3,
    "start_time": "2021-06-13T23:46:30.018Z"
   },
   {
    "duration": 201,
    "start_time": "2021-06-13T23:46:30.023Z"
   },
   {
    "duration": 77,
    "start_time": "2021-06-13T23:46:30.226Z"
   },
   {
    "duration": 962,
    "start_time": "2021-06-13T23:46:30.305Z"
   },
   {
    "duration": 9,
    "start_time": "2021-06-13T23:46:31.260Z"
   },
   {
    "duration": 8,
    "start_time": "2021-06-13T23:46:31.261Z"
   },
   {
    "duration": 1,
    "start_time": "2021-06-13T23:46:31.269Z"
   },
   {
    "duration": 1,
    "start_time": "2021-06-13T23:46:31.270Z"
   },
   {
    "duration": -5,
    "start_time": "2021-06-13T23:46:31.277Z"
   },
   {
    "duration": -6,
    "start_time": "2021-06-13T23:46:31.279Z"
   },
   {
    "duration": -7,
    "start_time": "2021-06-13T23:46:31.281Z"
   },
   {
    "duration": 1,
    "start_time": "2021-06-13T23:46:31.283Z"
   },
   {
    "duration": 1,
    "start_time": "2021-06-13T23:46:31.284Z"
   },
   {
    "duration": 1,
    "start_time": "2021-06-13T23:46:31.285Z"
   },
   {
    "duration": -2,
    "start_time": "2021-06-13T23:46:31.289Z"
   },
   {
    "duration": 274,
    "start_time": "2021-06-13T23:46:51.937Z"
   },
   {
    "duration": 68,
    "start_time": "2021-06-13T23:49:19.362Z"
   },
   {
    "duration": 433,
    "start_time": "2021-06-13T23:50:10.623Z"
   },
   {
    "duration": 3,
    "start_time": "2021-06-13T23:51:31.883Z"
   },
   {
    "duration": 193,
    "start_time": "2021-06-13T23:51:31.888Z"
   },
   {
    "duration": 170,
    "start_time": "2021-06-13T23:51:32.084Z"
   },
   {
    "duration": 459,
    "start_time": "2021-06-13T23:51:32.256Z"
   },
   {
    "duration": 11,
    "start_time": "2021-06-13T23:51:32.706Z"
   },
   {
    "duration": 10,
    "start_time": "2021-06-13T23:51:32.708Z"
   },
   {
    "duration": 11,
    "start_time": "2021-06-13T23:51:32.709Z"
   },
   {
    "duration": 8,
    "start_time": "2021-06-13T23:51:32.712Z"
   },
   {
    "duration": 7,
    "start_time": "2021-06-13T23:51:32.714Z"
   },
   {
    "duration": 6,
    "start_time": "2021-06-13T23:51:32.716Z"
   },
   {
    "duration": 6,
    "start_time": "2021-06-13T23:51:32.717Z"
   },
   {
    "duration": 5,
    "start_time": "2021-06-13T23:51:32.719Z"
   },
   {
    "duration": 5,
    "start_time": "2021-06-13T23:51:32.720Z"
   },
   {
    "duration": 0,
    "start_time": "2021-06-13T23:51:32.726Z"
   },
   {
    "duration": 0,
    "start_time": "2021-06-13T23:51:32.727Z"
   },
   {
    "duration": 476,
    "start_time": "2021-06-13T23:52:16.273Z"
   },
   {
    "duration": 454,
    "start_time": "2021-06-13T23:52:38.689Z"
   },
   {
    "duration": 453,
    "start_time": "2021-06-13T23:53:10.937Z"
   },
   {
    "duration": 281,
    "start_time": "2021-06-13T23:53:21.370Z"
   },
   {
    "duration": 447,
    "start_time": "2021-06-13T23:53:51.761Z"
   },
   {
    "duration": 403,
    "start_time": "2021-06-13T23:54:01.089Z"
   },
   {
    "duration": 374,
    "start_time": "2021-06-13T23:54:10.001Z"
   },
   {
    "duration": 179,
    "start_time": "2021-06-13T23:54:13.362Z"
   },
   {
    "duration": 294,
    "start_time": "2021-06-13T23:54:15.170Z"
   },
   {
    "duration": 344,
    "start_time": "2021-06-13T23:55:00.922Z"
   },
   {
    "duration": 610,
    "start_time": "2021-06-13T23:55:29.977Z"
   },
   {
    "duration": 676,
    "start_time": "2021-06-13T23:56:50.427Z"
   },
   {
    "duration": 583,
    "start_time": "2021-06-13T23:56:58.473Z"
   },
   {
    "duration": 599,
    "start_time": "2021-06-13T23:57:55.306Z"
   },
   {
    "duration": 558,
    "start_time": "2021-06-13T23:58:17.010Z"
   },
   {
    "duration": 606,
    "start_time": "2021-06-13T23:59:17.505Z"
   },
   {
    "duration": 573,
    "start_time": "2021-06-14T00:01:16.452Z"
   },
   {
    "duration": 441,
    "start_time": "2021-06-14T00:01:54.650Z"
   },
   {
    "duration": 686,
    "start_time": "2021-06-14T00:02:30.466Z"
   },
   {
    "duration": 69,
    "start_time": "2021-06-14T00:03:02.460Z"
   },
   {
    "duration": 438,
    "start_time": "2021-06-14T00:03:09.482Z"
   },
   {
    "duration": 3,
    "start_time": "2021-06-14T00:03:26.868Z"
   },
   {
    "duration": 198,
    "start_time": "2021-06-14T00:03:26.872Z"
   },
   {
    "duration": 77,
    "start_time": "2021-06-14T00:03:27.072Z"
   },
   {
    "duration": 286,
    "start_time": "2021-06-14T00:03:27.151Z"
   },
   {
    "duration": 348,
    "start_time": "2021-06-14T00:03:27.438Z"
   },
   {
    "duration": 61,
    "start_time": "2021-06-14T00:03:27.788Z"
   },
   {
    "duration": 14,
    "start_time": "2021-06-14T00:03:27.837Z"
   },
   {
    "duration": 14,
    "start_time": "2021-06-14T00:03:27.838Z"
   },
   {
    "duration": 14,
    "start_time": "2021-06-14T00:03:27.839Z"
   },
   {
    "duration": 14,
    "start_time": "2021-06-14T00:03:27.840Z"
   },
   {
    "duration": 13,
    "start_time": "2021-06-14T00:03:27.842Z"
   },
   {
    "duration": 13,
    "start_time": "2021-06-14T00:03:27.843Z"
   },
   {
    "duration": 13,
    "start_time": "2021-06-14T00:03:27.844Z"
   },
   {
    "duration": 13,
    "start_time": "2021-06-14T00:03:27.845Z"
   },
   {
    "duration": 13,
    "start_time": "2021-06-14T00:03:27.846Z"
   },
   {
    "duration": 13,
    "start_time": "2021-06-14T00:03:27.847Z"
   },
   {
    "duration": 56,
    "start_time": "2021-06-14T00:03:35.730Z"
   },
   {
    "duration": 64,
    "start_time": "2021-06-14T00:03:57.834Z"
   },
   {
    "duration": 66,
    "start_time": "2021-06-14T00:04:21.322Z"
   },
   {
    "duration": 60,
    "start_time": "2021-06-14T00:04:32.258Z"
   },
   {
    "duration": 59,
    "start_time": "2021-06-14T00:05:00.835Z"
   },
   {
    "duration": 65,
    "start_time": "2021-06-14T00:05:04.690Z"
   },
   {
    "duration": 251,
    "start_time": "2021-06-14T00:05:17.122Z"
   },
   {
    "duration": 434,
    "start_time": "2021-06-14T00:05:18.507Z"
   },
   {
    "duration": 686,
    "start_time": "2021-06-14T00:06:27.658Z"
   },
   {
    "duration": 64,
    "start_time": "2021-06-14T00:07:18.555Z"
   },
   {
    "duration": 702,
    "start_time": "2021-06-14T00:07:24.730Z"
   },
   {
    "duration": 231,
    "start_time": "2021-06-14T00:07:51.428Z"
   },
   {
    "duration": 243,
    "start_time": "2021-06-14T00:08:15.341Z"
   },
   {
    "duration": 245,
    "start_time": "2021-06-14T00:08:30.227Z"
   },
   {
    "duration": 605,
    "start_time": "2021-06-14T00:08:31.522Z"
   },
   {
    "duration": 285,
    "start_time": "2021-06-14T00:10:06.365Z"
   },
   {
    "duration": 346,
    "start_time": "2021-06-14T00:11:04.147Z"
   },
   {
    "duration": 62,
    "start_time": "2021-06-14T00:12:46.285Z"
   },
   {
    "duration": 684,
    "start_time": "2021-06-14T00:13:15.555Z"
   },
   {
    "duration": 64,
    "start_time": "2021-06-14T00:13:17.458Z"
   },
   {
    "duration": 70,
    "start_time": "2021-06-14T00:13:25.323Z"
   },
   {
    "duration": 289,
    "start_time": "2021-06-14T00:13:34.204Z"
   },
   {
    "duration": 352,
    "start_time": "2021-06-14T00:13:34.495Z"
   },
   {
    "duration": 241,
    "start_time": "2021-06-14T00:13:34.923Z"
   },
   {
    "duration": 598,
    "start_time": "2021-06-14T00:13:35.555Z"
   },
   {
    "duration": 60,
    "start_time": "2021-06-14T00:13:38.163Z"
   },
   {
    "duration": 72,
    "start_time": "2021-06-14T00:13:52.860Z"
   },
   {
    "duration": 339,
    "start_time": "2021-06-14T08:25:27.042Z"
   },
   {
    "duration": 1425,
    "start_time": "2021-06-14T08:25:32.854Z"
   },
   {
    "duration": 485,
    "start_time": "2021-06-14T08:25:34.282Z"
   },
   {
    "duration": 118,
    "start_time": "2021-06-14T08:25:34.770Z"
   },
   {
    "duration": 520,
    "start_time": "2021-06-14T08:25:34.891Z"
   },
   {
    "duration": 651,
    "start_time": "2021-06-14T08:25:35.413Z"
   },
   {
    "duration": 422,
    "start_time": "2021-06-14T08:25:36.067Z"
   },
   {
    "duration": 1094,
    "start_time": "2021-06-14T08:25:36.493Z"
   },
   {
    "duration": 178,
    "start_time": "2021-06-14T08:25:37.592Z"
   },
   {
    "duration": -5,
    "start_time": "2021-06-14T08:25:37.778Z"
   },
   {
    "duration": -21,
    "start_time": "2021-06-14T08:25:37.795Z"
   },
   {
    "duration": -30,
    "start_time": "2021-06-14T08:25:37.806Z"
   },
   {
    "duration": -36,
    "start_time": "2021-06-14T08:25:37.813Z"
   },
   {
    "duration": -40,
    "start_time": "2021-06-14T08:25:37.819Z"
   },
   {
    "duration": -46,
    "start_time": "2021-06-14T08:25:37.826Z"
   },
   {
    "duration": -50,
    "start_time": "2021-06-14T08:25:37.832Z"
   },
   {
    "duration": -54,
    "start_time": "2021-06-14T08:25:37.837Z"
   },
   {
    "duration": 279,
    "start_time": "2021-06-14T08:26:37.165Z"
   },
   {
    "duration": 281,
    "start_time": "2021-06-14T08:26:55.684Z"
   },
   {
    "duration": 294,
    "start_time": "2021-06-14T08:27:00.636Z"
   },
   {
    "duration": 277,
    "start_time": "2021-06-14T08:27:04.271Z"
   },
   {
    "duration": 276,
    "start_time": "2021-06-14T08:27:08.379Z"
   },
   {
    "duration": 266,
    "start_time": "2021-06-14T08:27:10.581Z"
   },
   {
    "duration": 279,
    "start_time": "2021-06-14T08:27:13.307Z"
   },
   {
    "duration": 327,
    "start_time": "2021-06-14T08:27:46.491Z"
   },
   {
    "duration": 4,
    "start_time": "2021-06-14T08:28:17.642Z"
   },
   {
    "duration": 4,
    "start_time": "2021-06-14T08:28:26.266Z"
   },
   {
    "duration": 182,
    "start_time": "2021-06-14T08:29:15.858Z"
   },
   {
    "duration": 88,
    "start_time": "2021-06-14T08:32:50.816Z"
   },
   {
    "duration": 60,
    "start_time": "2021-06-14T08:34:25.034Z"
   },
   {
    "duration": 22,
    "start_time": "2021-06-14T08:35:09.084Z"
   },
   {
    "duration": 54,
    "start_time": "2021-06-14T08:35:31.853Z"
   },
   {
    "duration": 53,
    "start_time": "2021-06-14T08:36:41.532Z"
   },
   {
    "duration": 86,
    "start_time": "2021-06-14T08:37:36.339Z"
   },
   {
    "duration": 6561,
    "start_time": "2021-06-14T08:38:43.597Z"
   },
   {
    "duration": 113,
    "start_time": "2021-06-14T08:39:15.709Z"
   },
   {
    "duration": 517,
    "start_time": "2021-06-14T08:39:17.973Z"
   },
   {
    "duration": 653,
    "start_time": "2021-06-14T08:39:23.011Z"
   },
   {
    "duration": 394,
    "start_time": "2021-06-14T08:39:24.084Z"
   },
   {
    "duration": 1006,
    "start_time": "2021-06-14T08:39:25.035Z"
   },
   {
    "duration": 110,
    "start_time": "2021-06-14T08:41:42.516Z"
   },
   {
    "duration": 731,
    "start_time": "2021-06-14T08:46:34.706Z"
   },
   {
    "duration": 4,
    "start_time": "2021-06-14T08:46:46.280Z"
   },
   {
    "duration": 182,
    "start_time": "2021-06-14T08:46:46.302Z"
   },
   {
    "duration": 63,
    "start_time": "2021-06-14T08:46:46.486Z"
   },
   {
    "duration": 20,
    "start_time": "2021-06-14T08:46:46.552Z"
   },
   {
    "duration": 101,
    "start_time": "2021-06-14T08:46:46.575Z"
   },
   {
    "duration": -3,
    "start_time": "2021-06-14T08:46:46.682Z"
   },
   {
    "duration": -8,
    "start_time": "2021-06-14T08:46:46.688Z"
   },
   {
    "duration": -12,
    "start_time": "2021-06-14T08:46:46.693Z"
   },
   {
    "duration": -16,
    "start_time": "2021-06-14T08:46:46.699Z"
   },
   {
    "duration": -19,
    "start_time": "2021-06-14T08:46:46.703Z"
   },
   {
    "duration": -24,
    "start_time": "2021-06-14T08:46:46.709Z"
   },
   {
    "duration": -27,
    "start_time": "2021-06-14T08:46:46.714Z"
   },
   {
    "duration": -30,
    "start_time": "2021-06-14T08:46:46.718Z"
   },
   {
    "duration": -32,
    "start_time": "2021-06-14T08:46:46.721Z"
   },
   {
    "duration": -34,
    "start_time": "2021-06-14T08:46:46.724Z"
   },
   {
    "duration": -36,
    "start_time": "2021-06-14T08:46:46.728Z"
   },
   {
    "duration": -38,
    "start_time": "2021-06-14T08:46:46.731Z"
   },
   {
    "duration": -40,
    "start_time": "2021-06-14T08:46:46.734Z"
   },
   {
    "duration": -44,
    "start_time": "2021-06-14T08:46:46.739Z"
   },
   {
    "duration": 54,
    "start_time": "2021-06-14T08:47:02.223Z"
   },
   {
    "duration": 113,
    "start_time": "2021-06-14T08:47:02.416Z"
   },
   {
    "duration": 801,
    "start_time": "2021-06-14T08:47:02.580Z"
   },
   {
    "duration": 12,
    "start_time": "2021-06-14T08:47:03.371Z"
   },
   {
    "duration": 10,
    "start_time": "2021-06-14T08:47:03.375Z"
   },
   {
    "duration": 6,
    "start_time": "2021-06-14T08:47:03.380Z"
   },
   {
    "duration": 3,
    "start_time": "2021-06-14T08:47:03.385Z"
   },
   {
    "duration": 550,
    "start_time": "2021-06-14T08:47:37.885Z"
   },
   {
    "duration": 569,
    "start_time": "2021-06-14T08:47:53.357Z"
   },
   {
    "duration": 964,
    "start_time": "2021-06-14T08:54:49.671Z"
   },
   {
    "duration": 1545,
    "start_time": "2021-06-14T08:55:02.038Z"
   },
   {
    "duration": 978,
    "start_time": "2021-06-14T08:56:00.260Z"
   },
   {
    "duration": 512,
    "start_time": "2021-06-14T08:56:01.242Z"
   },
   {
    "duration": 633,
    "start_time": "2021-06-14T08:56:13.374Z"
   },
   {
    "duration": 424,
    "start_time": "2021-06-14T08:57:29.277Z"
   },
   {
    "duration": 258,
    "start_time": "2021-06-14T08:59:28.590Z"
   },
   {
    "duration": 730,
    "start_time": "2021-06-14T09:02:43.255Z"
   },
   {
    "duration": 462,
    "start_time": "2021-06-14T09:03:02.439Z"
   },
   {
    "duration": 398,
    "start_time": "2021-06-14T09:03:37.718Z"
   },
   {
    "duration": 984,
    "start_time": "2021-06-14T09:03:40.776Z"
   },
   {
    "duration": 1092,
    "start_time": "2021-06-14T09:04:19.320Z"
   },
   {
    "duration": 322,
    "start_time": "2021-06-14T09:05:31.566Z"
   },
   {
    "duration": 409,
    "start_time": "2021-06-14T09:06:01.148Z"
   },
   {
    "duration": 89,
    "start_time": "2021-06-14T09:06:25.358Z"
   },
   {
    "duration": 991,
    "start_time": "2021-06-14T09:06:33.055Z"
   },
   {
    "duration": 338,
    "start_time": "2021-06-14T09:06:34.254Z"
   },
   {
    "duration": 667,
    "start_time": "2021-06-14T09:07:09.602Z"
   },
   {
    "duration": 346,
    "start_time": "2021-06-14T09:07:21.706Z"
   },
   {
    "duration": 445,
    "start_time": "2021-06-14T09:08:04.156Z"
   },
   {
    "duration": 739,
    "start_time": "2021-06-14T09:08:42.790Z"
   },
   {
    "duration": 431,
    "start_time": "2021-06-14T09:12:16.223Z"
   },
   {
    "duration": 602,
    "start_time": "2021-06-14T09:12:16.658Z"
   },
   {
    "duration": 589,
    "start_time": "2021-06-14T09:12:44.568Z"
   },
   {
    "duration": 4,
    "start_time": "2021-06-14T09:13:03.136Z"
   },
   {
    "duration": 183,
    "start_time": "2021-06-14T09:13:03.142Z"
   },
   {
    "duration": 62,
    "start_time": "2021-06-14T09:13:03.327Z"
   },
   {
    "duration": 21,
    "start_time": "2021-06-14T09:13:03.392Z"
   },
   {
    "duration": 77,
    "start_time": "2021-06-14T09:13:03.416Z"
   },
   {
    "duration": 133,
    "start_time": "2021-06-14T09:13:03.495Z"
   },
   {
    "duration": 578,
    "start_time": "2021-06-14T09:13:03.631Z"
   },
   {
    "duration": 577,
    "start_time": "2021-06-14T09:13:04.212Z"
   },
   {
    "duration": 589,
    "start_time": "2021-06-14T09:13:04.792Z"
   },
   {
    "duration": 415,
    "start_time": "2021-06-14T09:13:05.384Z"
   },
   {
    "duration": 1124,
    "start_time": "2021-06-14T09:13:05.801Z"
   },
   {
    "duration": 430,
    "start_time": "2021-06-14T09:13:06.927Z"
   },
   {
    "duration": 573,
    "start_time": "2021-06-14T09:13:07.360Z"
   },
   {
    "duration": -13,
    "start_time": "2021-06-14T09:13:07.950Z"
   },
   {
    "duration": -19,
    "start_time": "2021-06-14T09:13:07.958Z"
   },
   {
    "duration": -41,
    "start_time": "2021-06-14T09:13:07.982Z"
   },
   {
    "duration": -37,
    "start_time": "2021-06-14T09:13:07.990Z"
   },
   {
    "duration": -41,
    "start_time": "2021-06-14T09:13:07.997Z"
   },
   {
    "duration": -61,
    "start_time": "2021-06-14T09:13:08.019Z"
   },
   {
    "duration": 595,
    "start_time": "2021-06-14T09:13:24.159Z"
   },
   {
    "duration": -26,
    "start_time": "2021-06-14T09:13:44.454Z"
   },
   {
    "duration": 542,
    "start_time": "2021-06-14T09:13:50.391Z"
   },
   {
    "duration": 543,
    "start_time": "2021-06-14T09:14:24.744Z"
   },
   {
    "duration": 502,
    "start_time": "2021-06-14T09:14:34.136Z"
   },
   {
    "duration": 389,
    "start_time": "2021-06-14T09:14:46.672Z"
   },
   {
    "duration": 542,
    "start_time": "2021-06-14T09:14:55.967Z"
   },
   {
    "duration": 583,
    "start_time": "2021-06-14T09:15:17.376Z"
   },
   {
    "duration": 440,
    "start_time": "2021-06-14T09:15:23.736Z"
   },
   {
    "duration": 412,
    "start_time": "2021-06-14T09:16:04.847Z"
   },
   {
    "duration": 399,
    "start_time": "2021-06-14T09:16:05.261Z"
   },
   {
    "duration": 405,
    "start_time": "2021-06-14T09:16:25.463Z"
   },
   {
    "duration": 14,
    "start_time": "2021-06-14T09:17:03.616Z"
   },
   {
    "duration": 407,
    "start_time": "2021-06-14T09:17:12.090Z"
   },
   {
    "duration": 450,
    "start_time": "2021-06-14T09:18:00.217Z"
   },
   {
    "duration": 419,
    "start_time": "2021-06-14T09:18:00.670Z"
   },
   {
    "duration": 17,
    "start_time": "2021-06-14T09:18:01.092Z"
   },
   {
    "duration": 1107,
    "start_time": "2021-06-14T09:18:01.414Z"
   },
   {
    "duration": 4,
    "start_time": "2021-06-14T09:18:28.440Z"
   },
   {
    "duration": 169,
    "start_time": "2021-06-14T09:18:28.447Z"
   },
   {
    "duration": 63,
    "start_time": "2021-06-14T09:18:28.619Z"
   },
   {
    "duration": 21,
    "start_time": "2021-06-14T09:18:28.685Z"
   },
   {
    "duration": 87,
    "start_time": "2021-06-14T09:18:28.709Z"
   },
   {
    "duration": 147,
    "start_time": "2021-06-14T09:18:28.800Z"
   },
   {
    "duration": 689,
    "start_time": "2021-06-14T09:18:28.954Z"
   },
   {
    "duration": 673,
    "start_time": "2021-06-14T09:18:29.648Z"
   },
   {
    "duration": 496,
    "start_time": "2021-06-14T09:18:30.324Z"
   },
   {
    "duration": 431,
    "start_time": "2021-06-14T09:18:30.823Z"
   },
   {
    "duration": 1128,
    "start_time": "2021-06-14T09:18:31.256Z"
   },
   {
    "duration": 439,
    "start_time": "2021-06-14T09:18:32.387Z"
   },
   {
    "duration": 451,
    "start_time": "2021-06-14T09:18:32.829Z"
   },
   {
    "duration": 405,
    "start_time": "2021-06-14T09:18:33.282Z"
   },
   {
    "duration": 23,
    "start_time": "2021-06-14T09:18:33.690Z"
   },
   {
    "duration": 1097,
    "start_time": "2021-06-14T09:18:33.716Z"
   },
   {
    "duration": 360,
    "start_time": "2021-06-14T09:18:34.816Z"
   },
   {
    "duration": 7,
    "start_time": "2021-06-14T09:18:35.178Z"
   },
   {
    "duration": 195,
    "start_time": "2021-06-14T09:18:35.187Z"
   },
   {
    "duration": 23,
    "start_time": "2021-06-14T09:18:35.384Z"
   },
   {
    "duration": 61,
    "start_time": "2021-06-14T09:18:35.409Z"
   },
   {
    "duration": 5,
    "start_time": "2021-06-14T09:23:01.206Z"
   },
   {
    "duration": 198,
    "start_time": "2021-06-14T09:23:01.213Z"
   },
   {
    "duration": 64,
    "start_time": "2021-06-14T09:23:01.414Z"
   },
   {
    "duration": 22,
    "start_time": "2021-06-14T09:23:01.481Z"
   },
   {
    "duration": 80,
    "start_time": "2021-06-14T09:23:01.505Z"
   },
   {
    "duration": 141,
    "start_time": "2021-06-14T09:23:01.587Z"
   },
   {
    "duration": 667,
    "start_time": "2021-06-14T09:23:01.731Z"
   },
   {
    "duration": 570,
    "start_time": "2021-06-14T09:23:02.401Z"
   },
   {
    "duration": 488,
    "start_time": "2021-06-14T09:23:02.974Z"
   },
   {
    "duration": 422,
    "start_time": "2021-06-14T09:23:03.464Z"
   },
   {
    "duration": 1232,
    "start_time": "2021-06-14T09:23:03.888Z"
   },
   {
    "duration": 440,
    "start_time": "2021-06-14T09:23:05.123Z"
   },
   {
    "duration": 408,
    "start_time": "2021-06-14T09:23:05.565Z"
   },
   {
    "duration": 402,
    "start_time": "2021-06-14T09:23:05.975Z"
   },
   {
    "duration": 12,
    "start_time": "2021-06-14T09:23:06.379Z"
   },
   {
    "duration": 1116,
    "start_time": "2021-06-14T09:23:06.394Z"
   },
   {
    "duration": 369,
    "start_time": "2021-06-14T09:23:07.513Z"
   },
   {
    "duration": 9,
    "start_time": "2021-06-14T09:23:07.885Z"
   },
   {
    "duration": 198,
    "start_time": "2021-06-14T09:23:07.899Z"
   },
   {
    "duration": 60,
    "start_time": "2021-06-14T09:23:08.100Z"
   },
   {
    "duration": 54,
    "start_time": "2021-06-14T09:23:08.164Z"
   },
   {
    "duration": 13,
    "start_time": "2021-06-14T09:23:15.886Z"
   },
   {
    "duration": 416,
    "start_time": "2021-06-14T09:23:27.928Z"
   },
   {
    "duration": 1161,
    "start_time": "2021-06-14T09:27:49.373Z"
   },
   {
    "duration": 735,
    "start_time": "2021-06-14T09:28:30.344Z"
   },
   {
    "duration": 545,
    "start_time": "2021-06-14T09:30:07.715Z"
   },
   {
    "duration": 579,
    "start_time": "2021-06-14T09:30:09.610Z"
   },
   {
    "duration": 636,
    "start_time": "2021-06-14T09:30:10.192Z"
   },
   {
    "duration": 348,
    "start_time": "2021-06-14T09:32:18.842Z"
   },
   {
    "duration": 7,
    "start_time": "2021-06-14T09:34:13.169Z"
   },
   {
    "duration": 7,
    "start_time": "2021-06-14T09:34:27.418Z"
   },
   {
    "duration": 1247,
    "start_time": "2021-06-14T09:34:28.744Z"
   },
   {
    "duration": 397,
    "start_time": "2021-06-14T09:35:00.691Z"
   },
   {
    "duration": 571,
    "start_time": "2021-06-14T09:35:02.617Z"
   },
   {
    "duration": 8,
    "start_time": "2021-06-14T09:36:53.313Z"
   },
   {
    "duration": 474,
    "start_time": "2021-06-14T09:36:54.914Z"
   },
   {
    "duration": 7,
    "start_time": "2021-06-14T09:37:37.761Z"
   },
   {
    "duration": 294,
    "start_time": "2021-06-14T09:37:40.404Z"
   },
   {
    "duration": 7,
    "start_time": "2021-06-14T09:38:07.362Z"
   },
   {
    "duration": 378,
    "start_time": "2021-06-14T09:38:09.137Z"
   },
   {
    "duration": 7,
    "start_time": "2021-06-14T09:38:32.826Z"
   },
   {
    "duration": 6700,
    "start_time": "2021-06-14T09:38:34.274Z"
   },
   {
    "duration": 8,
    "start_time": "2021-06-14T09:38:55.369Z"
   },
   {
    "duration": 553,
    "start_time": "2021-06-14T09:38:56.795Z"
   },
   {
    "duration": 9,
    "start_time": "2021-06-14T09:41:00.061Z"
   },
   {
    "duration": 381,
    "start_time": "2021-06-14T09:41:00.932Z"
   },
   {
    "duration": 8,
    "start_time": "2021-06-14T09:41:32.514Z"
   },
   {
    "duration": 305,
    "start_time": "2021-06-14T09:41:34.130Z"
   },
   {
    "duration": 9,
    "start_time": "2021-06-14T09:43:50.739Z"
   },
   {
    "duration": 317,
    "start_time": "2021-06-14T09:43:50.915Z"
   },
   {
    "duration": 431,
    "start_time": "2021-06-14T09:43:51.505Z"
   },
   {
    "duration": 329,
    "start_time": "2021-06-14T09:43:52.282Z"
   },
   {
    "duration": 8,
    "start_time": "2021-06-14T09:45:01.227Z"
   },
   {
    "duration": 1061,
    "start_time": "2021-06-14T09:45:01.427Z"
   },
   {
    "duration": 7,
    "start_time": "2021-06-14T09:45:02.484Z"
   },
   {
    "duration": 8,
    "start_time": "2021-06-14T09:45:20.739Z"
   },
   {
    "duration": 684,
    "start_time": "2021-06-14T09:45:20.931Z"
   },
   {
    "duration": 9,
    "start_time": "2021-06-14T09:45:59.059Z"
   },
   {
    "duration": 839,
    "start_time": "2021-06-14T09:46:01.058Z"
   },
   {
    "duration": 20,
    "start_time": "2021-06-14T09:46:01.880Z"
   },
   {
    "duration": 9,
    "start_time": "2021-06-14T09:46:38.866Z"
   },
   {
    "duration": 776,
    "start_time": "2021-06-14T09:46:39.555Z"
   },
   {
    "duration": 9,
    "start_time": "2021-06-14T09:47:21.395Z"
   },
   {
    "duration": 793,
    "start_time": "2021-06-14T09:47:21.883Z"
   },
   {
    "duration": 4,
    "start_time": "2021-06-14T09:47:28.436Z"
   },
   {
    "duration": 174,
    "start_time": "2021-06-14T09:47:28.443Z"
   },
   {
    "duration": 65,
    "start_time": "2021-06-14T09:47:28.620Z"
   },
   {
    "duration": 21,
    "start_time": "2021-06-14T09:47:28.688Z"
   },
   {
    "duration": 82,
    "start_time": "2021-06-14T09:47:28.712Z"
   },
   {
    "duration": 135,
    "start_time": "2021-06-14T09:47:28.796Z"
   },
   {
    "duration": 594,
    "start_time": "2021-06-14T09:47:28.934Z"
   },
   {
    "duration": 577,
    "start_time": "2021-06-14T09:47:29.532Z"
   },
   {
    "duration": 484,
    "start_time": "2021-06-14T09:47:30.112Z"
   },
   {
    "duration": 723,
    "start_time": "2021-06-14T09:47:30.598Z"
   },
   {
    "duration": 982,
    "start_time": "2021-06-14T09:47:31.323Z"
   },
   {
    "duration": 428,
    "start_time": "2021-06-14T09:47:32.308Z"
   },
   {
    "duration": 423,
    "start_time": "2021-06-14T09:47:32.738Z"
   },
   {
    "duration": 415,
    "start_time": "2021-06-14T09:47:33.163Z"
   },
   {
    "duration": 13,
    "start_time": "2021-06-14T09:47:33.580Z"
   },
   {
    "duration": 564,
    "start_time": "2021-06-14T09:47:33.595Z"
   },
   {
    "duration": 552,
    "start_time": "2021-06-14T09:47:34.161Z"
   },
   {
    "duration": 13,
    "start_time": "2021-06-14T09:47:34.716Z"
   },
   {
    "duration": 371,
    "start_time": "2021-06-14T09:47:34.732Z"
   },
   {
    "duration": 9,
    "start_time": "2021-06-14T09:47:35.106Z"
   },
   {
    "duration": 787,
    "start_time": "2021-06-14T09:47:35.117Z"
   },
   {
    "duration": -8,
    "start_time": "2021-06-14T09:47:35.914Z"
   },
   {
    "duration": -14,
    "start_time": "2021-06-14T09:47:35.921Z"
   },
   {
    "duration": -19,
    "start_time": "2021-06-14T09:47:35.927Z"
   },
   {
    "duration": -25,
    "start_time": "2021-06-14T09:47:35.935Z"
   },
   {
    "duration": 9,
    "start_time": "2021-06-14T09:47:43.179Z"
   },
   {
    "duration": 6932,
    "start_time": "2021-06-14T09:47:45.506Z"
   },
   {
    "duration": 9,
    "start_time": "2021-06-14T09:47:53.898Z"
   },
   {
    "duration": 773,
    "start_time": "2021-06-14T09:47:54.075Z"
   },
   {
    "duration": 7,
    "start_time": "2021-06-14T09:48:07.900Z"
   },
   {
    "duration": 308,
    "start_time": "2021-06-14T09:48:09.098Z"
   },
   {
    "duration": 9,
    "start_time": "2021-06-14T09:48:47.106Z"
   },
   {
    "duration": 9,
    "start_time": "2021-06-14T09:48:56.803Z"
   },
   {
    "duration": 803,
    "start_time": "2021-06-14T09:48:57.428Z"
   },
   {
    "duration": 9,
    "start_time": "2021-06-14T09:53:19.867Z"
   },
   {
    "duration": 789,
    "start_time": "2021-06-14T09:53:20.060Z"
   },
   {
    "duration": 14,
    "start_time": "2021-06-14T09:53:40.531Z"
   },
   {
    "duration": 796,
    "start_time": "2021-06-14T09:53:41.243Z"
   },
   {
    "duration": 9,
    "start_time": "2021-06-14T09:54:03.013Z"
   },
   {
    "duration": 8,
    "start_time": "2021-06-14T09:54:07.076Z"
   },
   {
    "duration": 788,
    "start_time": "2021-06-14T09:54:07.299Z"
   },
   {
    "duration": 9,
    "start_time": "2021-06-14T09:54:15.308Z"
   },
   {
    "duration": 687,
    "start_time": "2021-06-14T09:54:16.051Z"
   },
   {
    "duration": 9,
    "start_time": "2021-06-14T09:54:27.067Z"
   },
   {
    "duration": 1035,
    "start_time": "2021-06-14T09:54:27.971Z"
   },
   {
    "duration": 367,
    "start_time": "2021-06-14T09:54:43.355Z"
   },
   {
    "duration": 9,
    "start_time": "2021-06-14T09:54:49.195Z"
   },
   {
    "duration": 630,
    "start_time": "2021-06-14T09:54:49.508Z"
   },
   {
    "duration": 9,
    "start_time": "2021-06-14T09:55:13.267Z"
   },
   {
    "duration": 628,
    "start_time": "2021-06-14T09:55:13.451Z"
   },
   {
    "duration": 833,
    "start_time": "2021-06-14T09:55:14.082Z"
   },
   {
    "duration": 11,
    "start_time": "2021-06-14T09:56:13.075Z"
   },
   {
    "duration": 871,
    "start_time": "2021-06-14T09:56:13.227Z"
   },
   {
    "duration": 867,
    "start_time": "2021-06-14T09:56:21.483Z"
   },
   {
    "duration": 875,
    "start_time": "2021-06-14T09:56:33.283Z"
   },
   {
    "duration": 9,
    "start_time": "2021-06-14T09:56:45.923Z"
   },
   {
    "duration": 847,
    "start_time": "2021-06-14T09:56:46.227Z"
   },
   {
    "duration": 9,
    "start_time": "2021-06-14T09:56:53.685Z"
   },
   {
    "duration": 976,
    "start_time": "2021-06-14T09:56:54.892Z"
   },
   {
    "duration": 10,
    "start_time": "2021-06-14T09:59:27.189Z"
   },
   {
    "duration": 9,
    "start_time": "2021-06-14T09:59:31.372Z"
   },
   {
    "duration": 1101,
    "start_time": "2021-06-14T09:59:31.812Z"
   },
   {
    "duration": 10,
    "start_time": "2021-06-14T09:59:37.523Z"
   },
   {
    "duration": 917,
    "start_time": "2021-06-14T09:59:37.731Z"
   },
   {
    "duration": 10,
    "start_time": "2021-06-14T09:59:57.411Z"
   },
   {
    "duration": 884,
    "start_time": "2021-06-14T09:59:57.579Z"
   },
   {
    "duration": 1004,
    "start_time": "2021-06-14T09:59:58.466Z"
   },
   {
    "duration": 1020,
    "start_time": "2021-06-14T09:59:59.473Z"
   },
   {
    "duration": 331,
    "start_time": "2021-06-14T10:06:02.203Z"
   },
   {
    "duration": 10,
    "start_time": "2021-06-14T10:06:47.510Z"
   },
   {
    "duration": 10,
    "start_time": "2021-06-14T10:07:02.163Z"
   },
   {
    "duration": 10,
    "start_time": "2021-06-14T10:07:13.197Z"
   },
   {
    "duration": 10,
    "start_time": "2021-06-14T10:08:02.284Z"
   },
   {
    "duration": 92,
    "start_time": "2021-06-14T10:21:59.845Z"
   },
   {
    "duration": 5,
    "start_time": "2021-06-14T10:42:31.760Z"
   },
   {
    "duration": 193,
    "start_time": "2021-06-14T10:42:31.768Z"
   },
   {
    "duration": 59,
    "start_time": "2021-06-14T10:42:31.964Z"
   },
   {
    "duration": 30,
    "start_time": "2021-06-14T10:42:32.026Z"
   },
   {
    "duration": 59,
    "start_time": "2021-06-14T10:42:32.059Z"
   },
   {
    "duration": 148,
    "start_time": "2021-06-14T10:42:32.120Z"
   },
   {
    "duration": 583,
    "start_time": "2021-06-14T10:42:32.270Z"
   },
   {
    "duration": 577,
    "start_time": "2021-06-14T10:42:32.855Z"
   },
   {
    "duration": 482,
    "start_time": "2021-06-14T10:42:33.436Z"
   },
   {
    "duration": 422,
    "start_time": "2021-06-14T10:42:33.921Z"
   },
   {
    "duration": 1216,
    "start_time": "2021-06-14T10:42:34.346Z"
   },
   {
    "duration": 439,
    "start_time": "2021-06-14T10:42:35.565Z"
   },
   {
    "duration": 453,
    "start_time": "2021-06-14T10:42:36.007Z"
   },
   {
    "duration": 410,
    "start_time": "2021-06-14T10:42:36.463Z"
   },
   {
    "duration": 17,
    "start_time": "2021-06-14T10:42:36.876Z"
   },
   {
    "duration": 560,
    "start_time": "2021-06-14T10:42:36.896Z"
   },
   {
    "duration": 529,
    "start_time": "2021-06-14T10:42:37.460Z"
   },
   {
    "duration": 13,
    "start_time": "2021-06-14T10:42:37.991Z"
   },
   {
    "duration": 364,
    "start_time": "2021-06-14T10:42:38.007Z"
   },
   {
    "duration": 9,
    "start_time": "2021-06-14T10:42:38.374Z"
   },
   {
    "duration": 19,
    "start_time": "2021-06-14T10:42:38.386Z"
   },
   {
    "duration": 885,
    "start_time": "2021-06-14T10:42:38.407Z"
   },
   {
    "duration": 966,
    "start_time": "2021-06-14T10:42:39.294Z"
   },
   {
    "duration": 914,
    "start_time": "2021-06-14T10:42:40.263Z"
   },
   {
    "duration": 25,
    "start_time": "2021-06-14T10:42:41.179Z"
   },
   {
    "duration": 61,
    "start_time": "2021-06-14T10:42:41.207Z"
   },
   {
    "duration": 413,
    "start_time": "2021-06-14T10:44:32.328Z"
   },
   {
    "duration": 107,
    "start_time": "2021-11-02T10:13:11.884Z"
   },
   {
    "duration": 6083,
    "start_time": "2021-11-02T10:13:28.473Z"
   },
   {
    "duration": 424,
    "start_time": "2021-11-02T12:11:16.499Z"
   },
   {
    "duration": 231,
    "start_time": "2021-11-02T12:12:19.057Z"
   },
   {
    "duration": 223,
    "start_time": "2021-11-02T12:12:24.466Z"
   },
   {
    "duration": 243,
    "start_time": "2021-11-02T12:15:37.407Z"
   },
   {
    "duration": 1076,
    "start_time": "2021-11-02T12:24:33.378Z"
   },
   {
    "duration": 170,
    "start_time": "2021-11-02T12:24:34.456Z"
   },
   {
    "duration": 49,
    "start_time": "2021-11-02T12:24:34.629Z"
   },
   {
    "duration": 16,
    "start_time": "2021-11-02T12:24:34.680Z"
   },
   {
    "duration": 41,
    "start_time": "2021-11-02T12:24:34.698Z"
   },
   {
    "duration": 106,
    "start_time": "2021-11-02T12:24:34.741Z"
   },
   {
    "duration": 370,
    "start_time": "2021-11-02T12:24:34.849Z"
   },
   {
    "duration": 355,
    "start_time": "2021-11-02T12:24:35.222Z"
   },
   {
    "duration": 307,
    "start_time": "2021-11-02T12:24:35.581Z"
   },
   {
    "duration": 263,
    "start_time": "2021-11-02T12:24:35.891Z"
   },
   {
    "duration": 693,
    "start_time": "2021-11-02T12:24:36.155Z"
   },
   {
    "duration": 278,
    "start_time": "2021-11-02T12:24:36.850Z"
   },
   {
    "duration": 350,
    "start_time": "2021-11-02T12:24:37.130Z"
   },
   {
    "duration": 314,
    "start_time": "2021-11-02T12:24:37.482Z"
   },
   {
    "duration": 10,
    "start_time": "2021-11-02T12:24:37.798Z"
   },
   {
    "duration": 544,
    "start_time": "2021-11-02T12:24:37.809Z"
   },
   {
    "duration": 520,
    "start_time": "2021-11-02T12:24:38.363Z"
   },
   {
    "duration": 11,
    "start_time": "2021-11-02T12:24:38.885Z"
   },
   {
    "duration": 336,
    "start_time": "2021-11-02T12:24:38.899Z"
   },
   {
    "duration": 10,
    "start_time": "2021-11-02T12:24:39.237Z"
   },
   {
    "duration": 9,
    "start_time": "2021-11-02T12:24:39.263Z"
   },
   {
    "duration": 558,
    "start_time": "2021-11-02T12:24:39.274Z"
   },
   {
    "duration": 564,
    "start_time": "2021-11-02T12:24:39.834Z"
   },
   {
    "duration": 632,
    "start_time": "2021-11-02T12:24:40.400Z"
   },
   {
    "duration": 17,
    "start_time": "2021-11-02T12:24:41.034Z"
   },
   {
    "duration": 25,
    "start_time": "2021-11-02T12:24:41.052Z"
   }
  ],
  "kernelspec": {
   "display_name": "Python 3",
   "language": "python",
   "name": "python3"
  },
  "language_info": {
   "codemirror_mode": {
    "name": "ipython",
    "version": 3
   },
   "file_extension": ".py",
   "mimetype": "text/x-python",
   "name": "python",
   "nbconvert_exporter": "python",
   "pygments_lexer": "ipython3",
   "version": "3.7.8"
  },
  "toc": {
   "base_numbering": 1,
   "nav_menu": {},
   "number_sections": true,
   "sideBar": true,
   "skip_h1_title": true,
   "title_cell": "Table of Contents",
   "title_sidebar": "Contents",
   "toc_cell": false,
   "toc_position": {},
   "toc_section_display": true,
   "toc_window_display": false
  }
 },
 "nbformat": 4,
 "nbformat_minor": 2
}
